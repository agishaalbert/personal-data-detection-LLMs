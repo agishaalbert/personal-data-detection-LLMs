{
 "cells": [
  {
   "cell_type": "markdown",
   "metadata": {},
   "source": [
    "# PII-Catcher"
   ]
  },
  {
   "cell_type": "markdown",
   "metadata": {},
   "source": [
    "The Pii-Catcher can be applied for tabular datasets, so it has his own method of scanning tabular datasets.  \n",
    "Different approaches like giving the data rowwise or columnwise to the analyzer can't be examined"
   ]
  },
  {
   "cell_type": "code",
   "execution_count": 1,
   "metadata": {},
   "outputs": [],
   "source": [
    "import pandas as pd\n",
    "import subprocess"
   ]
  },
  {
   "cell_type": "markdown",
   "metadata": {},
   "source": [
    "pii catcher focuses on databases. as a result the python api need a connection to a database, here we will go with a command line instruction"
   ]
  },
  {
   "cell_type": "code",
   "execution_count": 2,
   "metadata": {},
   "outputs": [
    {
     "name": "stdout",
     "output_type": "stream",
     "text": [
      "Error occurred while scanning for PII:\n",
      "Traceback (most recent call last):\n",
      "  File \"C:\\Users\\Luca\\miniconda3\\envs\\data-analysis\\lib\\site-packages\\pymysql\\connections.py\", line 649, in connect\n",
      "    sock = socket.create_connection(\n",
      "  File \"C:\\Users\\Luca\\miniconda3\\envs\\data-analysis\\lib\\socket.py\", line 835, in create_connection\n",
      "    for res in getaddrinfo(host, port, 0, SOCK_STREAM):\n",
      "  File \"C:\\Users\\Luca\\miniconda3\\envs\\data-analysis\\lib\\socket.py\", line 966, in getaddrinfo\n",
      "    for res in _socket.getaddrinfo(host, port, family, type, proto, flags):\n",
      "socket.gaierror: [Errno 11001] getaddrinfo failed\n",
      "\n",
      "During handling of the above exception, another exception occurred:\n",
      "\n",
      "Traceback (most recent call last):\n",
      "  File \"C:\\Users\\Luca\\miniconda3\\envs\\data-analysis\\lib\\runpy.py\", line 197, in _run_module_as_main\n",
      "    return _run_code(code, main_globals, None,\n",
      "  File \"C:\\Users\\Luca\\miniconda3\\envs\\data-analysis\\lib\\runpy.py\", line 87, in _run_code\n",
      "    exec(code, run_globals)\n",
      "  File \"C:\\Users\\Luca\\miniconda3\\envs\\data-analysis\\Scripts\\piicatcher.exe\\__main__.py\", line 7, in <module>\n",
      "  File \"C:\\Users\\Luca\\miniconda3\\envs\\data-analysis\\lib\\site-packages\\click\\core.py\", line 1161, in __call__\n",
      "    return self.main(*args, **kwargs)\n",
      "  File \"C:\\Users\\Luca\\miniconda3\\envs\\data-analysis\\lib\\site-packages\\click\\core.py\", line 1082, in main\n",
      "    rv = self.invoke(ctx)\n",
      "  File \"C:\\Users\\Luca\\miniconda3\\envs\\data-analysis\\lib\\site-packages\\click\\core.py\", line 1697, in invoke\n",
      "    return _process_result(sub_ctx.command.invoke(sub_ctx))\n",
      "  File \"C:\\Users\\Luca\\miniconda3\\envs\\data-analysis\\lib\\site-packages\\click\\core.py\", line 1443, in invoke\n",
      "    return ctx.invoke(self.callback, **ctx.params)\n",
      "  File \"C:\\Users\\Luca\\miniconda3\\envs\\data-analysis\\lib\\site-packages\\click\\core.py\", line 788, in invoke\n",
      "    return __callback(*args, **kwargs)\n",
      "  File \"C:\\Users\\Luca\\miniconda3\\envs\\data-analysis\\lib\\site-packages\\click\\decorators.py\", line 33, in new_func\n",
      "    return f(get_current_context(), *args, **kwargs)\n",
      "  File \"C:\\Users\\Luca\\miniconda3\\envs\\data-analysis\\lib\\site-packages\\piicatcher\\explorer\\databases.py\", line 113, in cli\n",
      "    RelDbExplorer.dispatch(ns)\n",
      "  File \"C:\\Users\\Luca\\miniconda3\\envs\\data-analysis\\lib\\site-packages\\piicatcher\\explorer\\explorer.py\", line 61, in dispatch\n",
      "    explorer.shallow_scan()\n",
      "  File \"C:\\Users\\Luca\\miniconda3\\envs\\data-analysis\\lib\\site-packages\\piicatcher\\explorer\\explorer.py\", line 99, in shallow_scan\n",
      "    for schema in self.get_schemas():\n",
      "  File \"C:\\Users\\Luca\\miniconda3\\envs\\data-analysis\\lib\\site-packages\\piicatcher\\explorer\\explorer.py\", line 237, in get_schemas\n",
      "    self._load_catalog()\n",
      "  File \"C:\\Users\\Luca\\miniconda3\\envs\\data-analysis\\lib\\site-packages\\piicatcher\\explorer\\explorer.py\", line 193, in _load_catalog\n",
      "    with self._get_context_manager() as cursor:\n",
      "  File \"C:\\Users\\Luca\\miniconda3\\envs\\data-analysis\\lib\\site-packages\\piicatcher\\explorer\\explorer.py\", line 187, in _get_context_manager\n",
      "    return self.connection.cursor()\n",
      "  File \"C:\\Users\\Luca\\miniconda3\\envs\\data-analysis\\lib\\site-packages\\piicatcher\\explorer\\explorer.py\", line 78, in connection\n",
      "    self._connection = self._open_connection()\n",
      "  File \"C:\\Users\\Luca\\miniconda3\\envs\\data-analysis\\lib\\site-packages\\piicatcher\\explorer\\databases.py\", line 177, in _open_connection\n",
      "    return pymysql.connect(\n",
      "  File \"C:\\Users\\Luca\\miniconda3\\envs\\data-analysis\\lib\\site-packages\\pymysql\\connections.py\", line 361, in __init__\n",
      "    self.connect()\n",
      "  File \"C:\\Users\\Luca\\miniconda3\\envs\\data-analysis\\lib\\site-packages\\pymysql\\connections.py\", line 716, in connect\n",
      "    raise exc\n",
      "pymysql.err.OperationalError: (2003, \"Can't connect to MySQL server on 'temp_file.csv' ([Errno 11001] getaddrinfo failed)\")\n",
      "\n"
     ]
    }
   ],
   "source": [
    "file_path = '../../datasets/dessi/DeSSI_v2/test_labels.csv'\n",
    "df = pd.read_csv(file_path)\n",
    "\n",
    "# Save the dataframe as CSV to a temporary location if needed\n",
    "temp_file = 'temp_file.csv'\n",
    "df.to_csv(temp_file, index=False)\n",
    "\n",
    "# Use the subprocess module to call pii-catcher on the CSV file\n",
    "result = subprocess.run(['piicatcher', 'db', '-s', temp_file], shell=True,\n",
    "                        stdout=subprocess.PIPE, stderr=subprocess.PIPE, text=True)\n",
    "\n",
    "# Output results\n",
    "if result.returncode == 0:\n",
    "    print(\"PII Scan Results:\")\n",
    "    print(result.stdout)  # Output the results of the scan\n",
    "else:\n",
    "    print(\"Error occurred while scanning for PII:\")\n",
    "    print(result.stderr)\n"
   ]
  },
  {
   "cell_type": "markdown",
   "metadata": {},
   "source": [
    "PIICatcher only for Databases usable, not for csv files"
   ]
  },
  {
   "cell_type": "code",
   "execution_count": null,
   "metadata": {},
   "outputs": [],
   "source": []
  }
 ],
 "metadata": {
  "kernelspec": {
   "display_name": "data-analysis",
   "language": "python",
   "name": "python3"
  },
  "language_info": {
   "codemirror_mode": {
    "name": "ipython",
    "version": 3
   },
   "file_extension": ".py",
   "mimetype": "text/x-python",
   "name": "python",
   "nbconvert_exporter": "python",
   "pygments_lexer": "ipython3",
   "version": "3.9.20"
  }
 },
 "nbformat": 4,
 "nbformat_minor": 2
}
