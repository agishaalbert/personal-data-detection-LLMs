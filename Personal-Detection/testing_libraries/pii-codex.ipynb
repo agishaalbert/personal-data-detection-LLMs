{
 "cells": [
  {
   "cell_type": "code",
   "execution_count": 6,
   "metadata": {},
   "outputs": [
    {
     "name": "stdout",
     "output_type": "stream",
     "text": [
      "Requirement already satisfied: pip in /opt/anaconda/lib/python3.11/site-packages (25.0)\n",
      "Collecting pip\n",
      "  Downloading pip-25.0.1-py3-none-any.whl.metadata (3.7 kB)\n",
      "Downloading pip-25.0.1-py3-none-any.whl (1.8 MB)\n",
      "\u001b[2K   \u001b[90m━━━━━━━━━━━━━━━━━━━━━━━━━━━━━━━━━━━━━━━━\u001b[0m \u001b[32m1.8/1.8 MB\u001b[0m \u001b[31m41.8 MB/s\u001b[0m eta \u001b[36m0:00:00\u001b[0m\n",
      "\u001b[?25hInstalling collected packages: pip\n",
      "  Attempting uninstall: pip\n",
      "    Found existing installation: pip 25.0\n",
      "    Uninstalling pip-25.0:\n",
      "      Successfully uninstalled pip-25.0\n",
      "Successfully installed pip-25.0.1\n"
     ]
    }
   ],
   "source": [
    "!pip install --upgrade pip\n"
   ]
  },
  {
   "cell_type": "code",
   "execution_count": null,
   "metadata": {},
   "outputs": [],
   "source": []
  },
  {
   "cell_type": "code",
   "execution_count": null,
   "metadata": {},
   "outputs": [
    {
     "ename": "",
     "evalue": "",
     "output_type": "error",
     "traceback": [
      "\u001b[1;31mRunning cells with 'Python 3.10.12' requires the ipykernel package.\n",
      "\u001b[1;31mRun the following command to install 'ipykernel' into the Python environment. \n",
      "\u001b[1;31mCommand: '/usr/bin/python3 -m pip install ipykernel -U --user --force-reinstall'"
     ]
    }
   ],
   "source": [
    "import spacy.cli\n",
    "import subprocess\n",
    "import sys\n",
    "import pandas as pd\n",
    "from pii_codex.services.analysis_service import PIIAnalysisService\n",
    "\n",
    "\n",
    "spacy.cli.download(\"en_core_web_lg\")"
   ]
  },
  {
   "cell_type": "markdown",
   "metadata": {},
   "source": [
    "PII Codex seems not be tested that good, as it contains some simple faults: https://github.com/EdyVision/pii-codex/issues/34"
   ]
  },
  {
   "cell_type": "markdown",
   "metadata": {},
   "source": [
    "Necessary manual change of pii mappings csv file in conda environment:  C:\\Users\\Luca\\miniconda3\\envs\\pii-codex\\Lib\\site-packages\\pii_codex\\data\\v1  \n",
    "--> manual mapping resulted in corrupted package, function got lost"
   ]
  },
  {
   "cell_type": "markdown",
   "metadata": {},
   "source": [
    "## Test PII Codex on DeSSI Rowwise"
   ]
  },
  {
   "cell_type": "code",
   "execution_count": 17,
   "metadata": {},
   "outputs": [
    {
     "data": {
      "text/html": [
       "<div>\n",
       "<style scoped>\n",
       "    .dataframe tbody tr th:only-of-type {\n",
       "        vertical-align: middle;\n",
       "    }\n",
       "\n",
       "    .dataframe tbody tr th {\n",
       "        vertical-align: top;\n",
       "    }\n",
       "\n",
       "    .dataframe thead th {\n",
       "        text-align: right;\n",
       "    }\n",
       "</style>\n",
       "<table border=\"1\" class=\"dataframe\">\n",
       "  <thead>\n",
       "    <tr style=\"text-align: right;\">\n",
       "      <th></th>\n",
       "      <th>email</th>\n",
       "      <th>ldfncafwhfzv</th>\n",
       "      <th>email_sid</th>\n",
       "      <th>phonenumber</th>\n",
       "      <th>pxsgydcjmcmj</th>\n",
       "      <th>country_name</th>\n",
       "      <th>address</th>\n",
       "      <th>nin</th>\n",
       "      <th>vmodawvvauqe</th>\n",
       "      <th>mobilephonenumber</th>\n",
       "    </tr>\n",
       "  </thead>\n",
       "  <tbody>\n",
       "    <tr>\n",
       "      <th>0</th>\n",
       "      <td>justin-zavala@banks-jones.us</td>\n",
       "      <td>+43 (3117) 538159</td>\n",
       "      <td>bartol.sobota@valentic.hr</td>\n",
       "      <td>49324525623</td>\n",
       "      <td>Silas</td>\n",
       "      <td>CUBA, AL</td>\n",
       "      <td>pavesporcic9@marusic.net</td>\n",
       "      <td>ZZ 603650 T</td>\n",
       "      <td>+137762 600 190</td>\n",
       "      <td>+36 21 1203-2497</td>\n",
       "    </tr>\n",
       "    <tr>\n",
       "      <th>1</th>\n",
       "      <td>mareblazincic71@yahoo.com</td>\n",
       "      <td>476 617 8742</td>\n",
       "      <td>egrgos0@net.hr</td>\n",
       "      <td>4716109804</td>\n",
       "      <td>Keith</td>\n",
       "      <td>KANAWHA, IA</td>\n",
       "      <td>i-mocnik347@globalnet.hr</td>\n",
       "      <td>ZZ175276T</td>\n",
       "      <td>+577764 200 820</td>\n",
       "      <td>+55 (64) 9 3548-0350</td>\n",
       "    </tr>\n",
       "    <tr>\n",
       "      <th>2</th>\n",
       "      <td>mia.james3@gmail.com</td>\n",
       "      <td>13152434461</td>\n",
       "      <td>j.n@garcia-good.co</td>\n",
       "      <td>+75 (24) 91520-0132</td>\n",
       "      <td>Alec</td>\n",
       "      <td>brazil</td>\n",
       "      <td>brysoncorbin@house-bryant.website</td>\n",
       "      <td>ZZ705688T</td>\n",
       "      <td>+607759 100 222</td>\n",
       "      <td>31 4112-8204</td>\n",
       "    </tr>\n",
       "    <tr>\n",
       "      <th>3</th>\n",
       "      <td>jordyn.garcia@gmail.com</td>\n",
       "      <td>+99 (229) 3015-0286</td>\n",
       "      <td>e.fish@adams-houston.co</td>\n",
       "      <td>4713130051</td>\n",
       "      <td>Pierce Alvarenga Lowry</td>\n",
       "      <td>MARLOW, OK</td>\n",
       "      <td>dt741@neal-smith.site</td>\n",
       "      <td>ZZ470726T</td>\n",
       "      <td>+757754 700 213</td>\n",
       "      <td>(07700)900538</td>\n",
       "    </tr>\n",
       "    <tr>\n",
       "      <th>4</th>\n",
       "      <td>l.y24@fisher.online</td>\n",
       "      <td>+73 0709565</td>\n",
       "      <td>jm4@hotmail.com</td>\n",
       "      <td>(+940) 632 49 50</td>\n",
       "      <td>Ali</td>\n",
       "      <td>fr</td>\n",
       "      <td>e-k6@cross-duncan.info</td>\n",
       "      <td>ZZ 065214 T</td>\n",
       "      <td>+657706 300 387</td>\n",
       "      <td>(061) 3148 4611</td>\n",
       "    </tr>\n",
       "  </tbody>\n",
       "</table>\n",
       "</div>"
      ],
      "text/plain": [
       "                          email         ldfncafwhfzv  \\\n",
       "0  justin-zavala@banks-jones.us    +43 (3117) 538159   \n",
       "1     mareblazincic71@yahoo.com         476 617 8742   \n",
       "2          mia.james3@gmail.com          13152434461   \n",
       "3       jordyn.garcia@gmail.com  +99 (229) 3015-0286   \n",
       "4           l.y24@fisher.online          +73 0709565   \n",
       "\n",
       "                   email_sid          phonenumber            pxsgydcjmcmj  \\\n",
       "0  bartol.sobota@valentic.hr          49324525623                   Silas   \n",
       "1             egrgos0@net.hr           4716109804                   Keith   \n",
       "2         j.n@garcia-good.co  +75 (24) 91520-0132                    Alec   \n",
       "3    e.fish@adams-houston.co           4713130051  Pierce Alvarenga Lowry   \n",
       "4            jm4@hotmail.com     (+940) 632 49 50                     Ali   \n",
       "\n",
       "  country_name                            address          nin  \\\n",
       "0     CUBA, AL           pavesporcic9@marusic.net  ZZ 603650 T   \n",
       "1  KANAWHA, IA           i-mocnik347@globalnet.hr    ZZ175276T   \n",
       "2       brazil  brysoncorbin@house-bryant.website    ZZ705688T   \n",
       "3   MARLOW, OK              dt741@neal-smith.site    ZZ470726T   \n",
       "4           fr             e-k6@cross-duncan.info  ZZ 065214 T   \n",
       "\n",
       "      vmodawvvauqe     mobilephonenumber  \n",
       "0  +137762 600 190      +36 21 1203-2497  \n",
       "1  +577764 200 820  +55 (64) 9 3548-0350  \n",
       "2  +607759 100 222          31 4112-8204  \n",
       "3  +757754 700 213         (07700)900538  \n",
       "4  +657706 300 387       (061) 3148 4611  "
      ]
     },
     "execution_count": 17,
     "metadata": {},
     "output_type": "execute_result"
    }
   ],
   "source": [
    "dessi_test = pd.read_csv(\"/home/aagisha/Documents/PhD Albert/CodingPhDStart1/Bachelor Projects HSAA/PIIDETECTION/Personal-Detection/datasets/dessi/DeSSI_v2/test.csv\")\n",
    "dessi_test = dessi_test.iloc[:, :10]\n",
    "dessi_test.head()"
   ]
  },
  {
   "cell_type": "code",
   "execution_count": 18,
   "metadata": {},
   "outputs": [],
   "source": [
    "def convert_to_text(df, row):\n",
    "    s = []\n",
    "    for c in df.columns:\n",
    "        s.append(str(c) + \": \" + str(df.loc[row,c]))\n",
    "    return s"
   ]
  },
  {
   "cell_type": "code",
   "execution_count": 19,
   "metadata": {},
   "outputs": [
    {
     "name": "stdout",
     "output_type": "stream",
     "text": [
      "['email: justin-zavala@banks-jones.us', 'ldfncafwhfzv: +43 (3117) 538159', 'email_sid: bartol.sobota@valentic.hr', 'phonenumber: 49324525623', 'pxsgydcjmcmj: Silas', 'country_name: CUBA, AL', 'address: pavesporcic9@marusic.net', 'nin: ZZ 603650 T', 'vmodawvvauqe: +137762 600 190', 'mobilephonenumber: +36 21 1203-2497']\n"
     ]
    }
   ],
   "source": [
    "dessi_string = convert_to_text(dessi_test, 0)\n",
    "print(dessi_string)"
   ]
  },
  {
   "cell_type": "code",
   "execution_count": 20,
   "metadata": {},
   "outputs": [
    {
     "ename": "NameError",
     "evalue": "name 'PIIAnalysisService' is not defined",
     "output_type": "error",
     "traceback": [
      "\u001b[0;31m---------------------------------------------------------------------------\u001b[0m",
      "\u001b[0;31mNameError\u001b[0m                                 Traceback (most recent call last)",
      "Cell \u001b[0;32mIn[20], line 1\u001b[0m\n\u001b[0;32m----> 1\u001b[0m pii_analysis_service \u001b[38;5;241m=\u001b[39m PIIAnalysisService()\n\u001b[1;32m      3\u001b[0m \u001b[38;5;66;03m# Run the detection and assessments in one shot with the PIIAnalysisService\u001b[39;00m\n\u001b[1;32m      4\u001b[0m analysis_results \u001b[38;5;241m=\u001b[39m pii_analysis_service\u001b[38;5;241m.\u001b[39manalyze_collection(\n\u001b[1;32m      5\u001b[0m     texts\u001b[38;5;241m=\u001b[39mdessi_string,\n\u001b[1;32m      6\u001b[0m     collection_type\u001b[38;5;241m=\u001b[39m\u001b[38;5;124m\"\u001b[39m\u001b[38;5;124mpopulation\u001b[39m\u001b[38;5;124m\"\u001b[39m, \u001b[38;5;66;03m# defaults to population, used stats calculations, population or sample possible\u001b[39;00m\n\u001b[1;32m      7\u001b[0m     collection_name\u001b[38;5;241m=\u001b[39m\u001b[38;5;124m\"\u001b[39m\u001b[38;5;124mDeSSI dataset\u001b[39m\u001b[38;5;124m\"\u001b[39m \u001b[38;5;66;03m# optional labeling of the data, just for identification purposes\u001b[39;00m\n\u001b[1;32m      8\u001b[0m )\n",
      "\u001b[0;31mNameError\u001b[0m: name 'PIIAnalysisService' is not defined"
     ]
    }
   ],
   "source": [
    "pii_analysis_service = PIIAnalysisService()\n",
    "\n",
    "# Run the detection and assessments in one shot with the PIIAnalysisService\n",
    "analysis_results = pii_analysis_service.analyze_collection(\n",
    "    texts=dessi_string,\n",
    "    collection_type=\"population\", # defaults to population, used stats calculations, population or sample possible\n",
    "    collection_name=\"DeSSI dataset\" # optional labeling of the data, just for identification purposes\n",
    ")\n",
    "\n",
    "print(\"Collection Risk Score: \", analysis_results.risk_score_mean)\n",
    "analysis_results.detected_pii_type_frequencies"
   ]
  },
  {
   "cell_type": "markdown",
   "metadata": {},
   "source": [
    "Exception resulting from errors in pii codex implementiation"
   ]
  },
  {
   "cell_type": "code",
   "execution_count": null,
   "metadata": {},
   "outputs": [],
   "source": []
  }
 ],
 "metadata": {
  "kernelspec": {
   "display_name": "base",
   "language": "python",
   "name": "python3"
  },
  "language_info": {
   "codemirror_mode": {
    "name": "ipython",
    "version": 3
   },
   "file_extension": ".py",
   "mimetype": "text/x-python",
   "name": "python",
   "nbconvert_exporter": "python",
   "pygments_lexer": "ipython3",
   "version": "3.11.7"
  }
 },
 "nbformat": 4,
 "nbformat_minor": 2
}
