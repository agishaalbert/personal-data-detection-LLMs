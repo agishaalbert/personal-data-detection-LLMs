{
 "cells": [
  {
   "cell_type": "markdown",
   "metadata": {},
   "source": [
    "# Create binary pii labels (pii/non-pii) of the DeSSI-MF dataset"
   ]
  },
  {
   "cell_type": "code",
   "execution_count": 1,
   "metadata": {},
   "outputs": [],
   "source": [
    "import pandas as pd"
   ]
  },
  {
   "cell_type": "markdown",
   "metadata": {},
   "source": [
    "Map classes to pii/non-pii"
   ]
  },
  {
   "cell_type": "code",
   "execution_count": 2,
   "metadata": {},
   "outputs": [
    {
     "name": "stderr",
     "output_type": "stream",
     "text": [
      "C:\\Users\\Luca\\AppData\\Local\\Temp\\ipykernel_18804\\3298453629.py:2: DtypeWarning: Columns (1064,1244,1756,1839,2016,2089,2405,2842,3037,3480,3495,4183,4278,5216,5978,6085,6208,6652,7602,7707,7722,7855,8474,9458,9821,10964,11572,12124,13546,14228,14630,14996,15060,16533,17405,18488,18831,19707,19792,20219,20440,20494,22031,22439,22659,22730,23028,24180,24227,25069,26422,27362,27917,28351,28586,30127,30376,30408,31655,31759,31867,32396,32561,33209,33682,34142,34173,34349,35084,36234,36248,36527,37252,37775,37879,38357,39070,39280,40053,40358,42044,42507,43106) have mixed types. Specify dtype option on import or set low_memory=False.\n",
      "  all_data_train = pd.read_csv(f\"{split}.csv\")\n"
     ]
    }
   ],
   "source": [
    "def load_all_data(split):\n",
    "    all_data_train = pd.read_csv(f\"{split}.csv\")\n",
    "    all_data_classes = pd.read_csv(f\"{split}_classes.csv\")\n",
    "    all_data_dataset = pd.read_csv(f\"{split}_dataset.csv\")\n",
    "    return all_data_train, all_data_classes, all_data_dataset\n",
    "\n",
    "train, train_classes, train_dataset = load_all_data(\"train\")\n",
    "dev, dev_classes, dev_dataset = load_all_data(\"dev\")\n",
    "test, test_classes, test_dataset = load_all_data(\"test\")"
   ]
  },
  {
   "cell_type": "markdown",
   "metadata": {},
   "source": [
    "Map all labels to pii/non-pii"
   ]
  },
  {
   "cell_type": "code",
   "execution_count": 3,
   "metadata": {},
   "outputs": [],
   "source": [
    "all_classes = pd.concat([train_classes, dev_classes, test_classes]).reset_index(drop=True)"
   ]
  },
  {
   "cell_type": "code",
   "execution_count": 4,
   "metadata": {},
   "outputs": [
    {
     "data": {
      "text/plain": [
       "{'CCN',\n",
       " 'Date',\n",
       " 'Date,NIN',\n",
       " 'Email',\n",
       " 'Email,NIN',\n",
       " 'Email,Phone_number',\n",
       " 'GPE',\n",
       " 'Gender',\n",
       " 'Geolocation',\n",
       " 'IBAN',\n",
       " 'ID_Card',\n",
       " 'NIN',\n",
       " 'NIN,Date',\n",
       " 'NIN,Email',\n",
       " 'NIN,Phone_number',\n",
       " 'Nationality',\n",
       " 'Organization',\n",
       " 'Organization,Phone_number',\n",
       " 'Passport',\n",
       " 'Phone_number',\n",
       " 'Phone_number,Email',\n",
       " 'Phone_number,NIN',\n",
       " 'Race',\n",
       " 'Religion',\n",
       " 'SWIFT/BIC',\n",
       " 'Sexuality',\n",
       " 'academic_degree',\n",
       " 'address',\n",
       " 'answer',\n",
       " 'blood_group',\n",
       " 'blood_type',\n",
       " 'city',\n",
       " 'color',\n",
       " 'company',\n",
       " 'cpu',\n",
       " 'credit_card_number',\n",
       " 'credit_card_provider',\n",
       " 'currency',\n",
       " 'current_location',\n",
       " 'date',\n",
       " 'dish',\n",
       " 'drink',\n",
       " 'duration',\n",
       " 'ean',\n",
       " 'email',\n",
       " 'first_name',\n",
       " 'float_number',\n",
       " 'full_name',\n",
       " 'gender',\n",
       " 'graphics',\n",
       " 'iban',\n",
       " 'integer_number',\n",
       " 'isbn',\n",
       " 'isbn13',\n",
       " 'job',\n",
       " 'language',\n",
       " 'last_name',\n",
       " 'manufacturer',\n",
       " 'measure_unit',\n",
       " 'name',\n",
       " 'nationality',\n",
       " 'occupation',\n",
       " 'passport_number',\n",
       " 'phone_model',\n",
       " 'phone_number',\n",
       " 'political_views',\n",
       " 'programming_language',\n",
       " 'pyfloat',\n",
       " 'pyint',\n",
       " 'resolution',\n",
       " 'sex',\n",
       " 'ssn',\n",
       " 'swift',\n",
       " 'system_quality_attribute',\n",
       " 'title',\n",
       " 'url',\n",
       " 'user_agent',\n",
       " 'version',\n",
       " 'word',\n",
       " 'worldview'}"
      ]
     },
     "execution_count": 4,
     "metadata": {},
     "output_type": "execute_result"
    }
   ],
   "source": [
    "data_classes = set()\n",
    "for i in range(all_classes.shape[0]):\n",
    "    if \"mixed\" in all_classes.iloc[i].values[0] or \"_de_DE\" in all_classes.iloc[i].values[0] or \"_fr_FR\" in all_classes.iloc[i].values[0]:\n",
    "        data_classes.add(all_classes.iloc[i].values[0][:-6])\n",
    "    elif \"_en\" in all_classes.iloc[i].values[0] or \"_fr\" in all_classes.iloc[i].values[0] or \"_de\" in all_classes.iloc[i].values[0]:\n",
    "        data_classes.add(all_classes.iloc[i].values[0][:-3])\n",
    "    else:\n",
    "        data_classes.add(all_classes.iloc[i].values[0])\n",
    "data_classes"
   ]
  },
  {
   "cell_type": "code",
   "execution_count": 5,
   "metadata": {},
   "outputs": [],
   "source": [
    "manual_mapping = {\n",
    "    \"CCN\": \"pii\",\n",
    "    \"Date\": \"non-pii\",\n",
    "    'Date,NIN': \"pii\",\n",
    "    \"Email\": \"pii\",\n",
    "    \"Email,NIN\": \"pii\",\n",
    "    'Email,Phone_number' : \"pii\",\n",
    "    \"GPE\": \"non-pii\",\n",
    "    \"Gender\": \"non-pii\",\n",
    "    \"Geolocation\": \"pii\",\n",
    "    \"IBAN\": \"pii\",\n",
    "    \"ID_Card\": \"pii\",\n",
    "    \"NIN\": \"pii\",\n",
    "    \"NIN,Date\": \"pii\",\n",
    "    \"NIN,Email\" : \"pii\",\n",
    "    \"NIN,Phone_number\" : \"pii\",\n",
    "    \"Nationality\": \"non-pii\",\n",
    "    \"Organization\": \"non-pii\",\n",
    "    \"Organization,Phone_number\": \"pii\",\n",
    "    \"Passport\": \"pii\",\n",
    "    \"Phone_number\": \"pii\",\n",
    "    \"Phone_number,Email\": \"pii\",\n",
    "    \"Phone_number,NIN\" : \"pii\",\n",
    "    \"Race\": \"non-pii\",\n",
    "    \"Religion\": \"non-pii\",\n",
    "    \"SWIFT/BIC\": \"non-pii\",\n",
    "    \"Sexuality\": \"non-pii\",\n",
    "    \"academic_degree\": \"non-pii\",\n",
    "    \"address\": \"pii\",\n",
    "    \"answer\": \"non-pii\",\n",
    "    \"blood_type\": \"non-pii\",\n",
    "    \"blood_group\": \"non-pii\",\n",
    "    \"city\": \"non-pii\",\n",
    "    \"color\": \"non-pii\",\n",
    "    \"company\": \"non-pii\",\n",
    "    \"cpu\": \"non-pii\",\n",
    "    \"credit_card_number\": \"pii\",\n",
    "    \"credit_card_provider\": \"non-pii\",\n",
    "    \"currency\": \"non-pii\",\n",
    "    \"current_location\": \"pii\",\n",
    "    \"date\": \"non-pii\",\n",
    "    'dish': \"non-pii\",\n",
    "    'drink': \"non-pii\",\n",
    "    'duration': \"non-pii\",\n",
    "    'ean': \"non-pii\",\n",
    "    'email': \"pii\",\n",
    "    'first_name': \"non-pii\",\n",
    "    'float_number': \"non-pii\",\n",
    "    'full_name': \"pii\",\n",
    "    'gender': \"non-pii\",\n",
    "    'graphics': \"non-pii\",\n",
    "    'iban': \"pii\",\n",
    "    'integer_number': \"non-pii\",\n",
    "    'isbn': \"non-pii\",\n",
    "    'isbn13': \"non-pii\",\n",
    "    'job': \"non-pii\",\n",
    "    'language': \"non-pii\",\n",
    "    'last_name': \"non-pii\",\n",
    "    'manufacturer': \"non-pii\",\n",
    "    'measure_unit': \"non-pii\",\n",
    "    'name': \"pii\",\n",
    "    'nationality': \"non-pii\",\n",
    "    'occupation': \"non-pii\",\n",
    "    'passport_number': \"pii\",\n",
    "    'phone_model': \"non-pii\",\n",
    "    'phone_number': \"pii\",\n",
    "    'political_views': \"non-pii\",\n",
    "    'programming_language': \"non-pii\",\n",
    "    'pyfloat': \"non-pii\",\n",
    "    'pyint': \"non-pii\",\n",
    "    'resolution': \"non-pii\",\n",
    "    'sex': 'non-pii',\n",
    "    'ssn': \"pii\",\n",
    "    'swift': \"non-pii\",\n",
    "    'system_quality_attribute': \"non-pii\",\n",
    "    'title': \"non-pii\",\n",
    "    'url': \"non-pii\",\n",
    "    'user_agent': \"non-pii\",\n",
    "    'version': \"non-pii\",\n",
    "    'word': \"non-pii\",\n",
    "    'worldview': \"non-pii\"\n",
    "}"
   ]
  },
  {
   "cell_type": "code",
   "execution_count": 6,
   "metadata": {},
   "outputs": [],
   "source": [
    "all_labels = all_classes.copy()\n",
    "for i in range(len(all_labels)):\n",
    "    if \"mixed\" in all_classes.iloc[i,0] or \"_de_DE\" in all_classes.iloc[i,0] or \"_fr_FR\" in all_classes.iloc[i,0]:\n",
    "        cla = all_classes.iloc[i,0][:-6]\n",
    "    elif \"_en\" in all_classes.iloc[i,0]or \"_fr\" in all_classes.iloc[i,0] or \"_de\" in all_classes.iloc[i,0]:\n",
    "        cla = all_classes.iloc[i,0][:-3]\n",
    "    else:\n",
    "        cla = all_classes.iloc[i,0]\n",
    "    all_labels.iloc[i,0] = manual_mapping[cla]"
   ]
  },
  {
   "cell_type": "code",
   "execution_count": 7,
   "metadata": {},
   "outputs": [],
   "source": [
    "train_labels = all_labels.iloc[:train_classes.shape[0]]\n",
    "dev_labels = all_labels.iloc[train_classes.shape[0]:train_classes.shape[0]+dev_classes.shape[0]]\n",
    "test_labels = all_labels.iloc[train_classes.shape[0]+dev_classes.shape[0]:]\n",
    "train_labels = train_labels.rename(columns={\"class\": \"label\"})\n",
    "dev_labels = dev_labels.rename(columns={\"class\": \"label\"})\n",
    "test_labels = test_labels.rename(columns={\"class\": \"label\"})"
   ]
  },
  {
   "cell_type": "code",
   "execution_count": 8,
   "metadata": {},
   "outputs": [],
   "source": [
    "train_labels.to_csv(\"train_labels_pii.csv\", index=False)\n",
    "dev_labels.to_csv(\"dev_labels_pii.csv\", index=False)\n",
    "test_labels.to_csv(\"test_labels_pii.csv\", index=False)"
   ]
  },
  {
   "cell_type": "code",
   "execution_count": null,
   "metadata": {},
   "outputs": [],
   "source": []
  }
 ],
 "metadata": {
  "kernelspec": {
   "display_name": "base",
   "language": "python",
   "name": "python3"
  },
  "language_info": {
   "codemirror_mode": {
    "name": "ipython",
    "version": 3
   },
   "file_extension": ".py",
   "mimetype": "text/x-python",
   "name": "python",
   "nbconvert_exporter": "python",
   "pygments_lexer": "ipython3",
   "version": "3.11.7"
  }
 },
 "nbformat": 4,
 "nbformat_minor": 2
}
