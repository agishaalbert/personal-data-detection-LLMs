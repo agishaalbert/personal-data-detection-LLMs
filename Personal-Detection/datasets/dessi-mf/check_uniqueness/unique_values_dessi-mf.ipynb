{
 "cells": [
  {
   "cell_type": "markdown",
   "metadata": {},
   "source": [
    "This is a notebook to control if the new datasets only contain unique values for specific classes"
   ]
  },
  {
   "cell_type": "code",
   "execution_count": 1,
   "metadata": {},
   "outputs": [],
   "source": [
    "import pandas as pd\n",
    "import plotly.graph_objects as go"
   ]
  },
  {
   "cell_type": "markdown",
   "metadata": {},
   "source": [
    "# DeSSI"
   ]
  },
  {
   "cell_type": "code",
   "execution_count": 2,
   "metadata": {},
   "outputs": [],
   "source": [
    "def convert_dataframes(df, df_labels):\n",
    "    df_labels = df_labels.T\n",
    "    df_labels.columns = df.columns\n",
    "    df = pd.concat([df, df_labels], ignore_index=True)\n",
    "    return df\n",
    "\n",
    "def load_data(path, labels=True):\n",
    "    if labels == True:\n",
    "        add = \"labels\"\n",
    "    else:\n",
    "        add = \"classes\"\n",
    "    train = pd.read_csv(path + 'train.csv')\n",
    "    train_labels = pd.read_csv(path + f'train_{add}.csv')\n",
    "    dev = pd.read_csv(path + f'dev.csv')\n",
    "    dev_labels = pd.read_csv(path + f'dev_{add}.csv')\n",
    "    test = pd.read_csv(path + 'test.csv')\n",
    "    test_labels = pd.read_csv(path + f'test_{add}.csv')\n",
    "    train = convert_dataframes(train, train_labels)\n",
    "    dev = convert_dataframes(dev, dev_labels)\n",
    "    test = convert_dataframes(test, test_labels)\n",
    "    return train, dev, test"
   ]
  },
  {
   "cell_type": "code",
   "execution_count": 7,
   "metadata": {},
   "outputs": [],
   "source": [
    "train_dessi, dev_dessi, test_dessi = load_data('../../dessi-mf/dessi_unique/')"
   ]
  },
  {
   "cell_type": "code",
   "execution_count": 8,
   "metadata": {},
   "outputs": [],
   "source": [
    "train_dev_dessi = train_dessi.merge(dev_dessi, left_index=True, right_index=True)"
   ]
  },
  {
   "cell_type": "code",
   "execution_count": 9,
   "metadata": {},
   "outputs": [],
   "source": [
    "sol = dict()\n",
    "for label in train_dev_dessi.loc[100].unique():\n",
    "    s = train_dev_dessi.loc[100] == label\n",
    "    train_dev = train_dev_dessi.iloc[:100,:]\n",
    "    train_data = set(train_dev[s.index[s==True].tolist()].values.flatten()) \n",
    "    s2 = test_dessi.loc[100] == label\n",
    "    \n",
    "    has_value = []\n",
    "    test = test_dessi.iloc[:100,:]\n",
    "    for c in s2.index[s2==True].tolist():\n",
    "        has_value.append(any(val in train_data for val in test[c].values))\n",
    "    sol[label] = dict(pd.Series(has_value, dtype=\"object\").value_counts(normalize=True))"
   ]
  },
  {
   "cell_type": "code",
   "execution_count": 10,
   "metadata": {},
   "outputs": [],
   "source": [
    "pop_keys = []\n",
    "for key, val in sol.items():\n",
    "    if val == dict():\n",
    "        pop_keys.append(key)\n",
    "for key in pop_keys:\n",
    "    sol.pop(key)\n",
    "sol = {key: sol[key] for key in sorted(sol.keys(), reverse=True)}"
   ]
  },
  {
   "cell_type": "code",
   "execution_count": 11,
   "metadata": {},
   "outputs": [
    {
     "data": {
      "application/vnd.plotly.v1+json": {
       "config": {
        "plotlyServerURL": "https://plot.ly"
       },
       "data": [
        {
         "marker": {
          "color": "green"
         },
         "name": "does not contain<br>element from train",
         "orientation": "h",
         "type": "bar",
         "x": [
          null,
          1,
          null,
          null,
          1,
          1,
          1,
          1,
          1,
          1,
          1,
          1,
          1,
          1,
          1,
          1,
          null,
          1,
          1,
          1,
          1,
          1,
          1,
          1,
          1,
          1,
          null,
          1,
          1,
          1,
          1,
          1,
          1,
          1,
          1,
          1,
          1,
          1,
          1,
          1,
          1
         ],
         "y": [
          "Sexuality",
          "SWIFT/BIC",
          "Religion",
          "Race",
          "Phone_number,NIN",
          "Phone_number,Email",
          "Phone_number",
          "Person,Organization",
          "Person,NIN",
          "Person,Email",
          "Person",
          "Passport",
          "Other_data",
          "Organization,Person",
          "Organization,Address",
          "Organization",
          "Nationality",
          "NIN,Phone_number",
          "NIN,Person",
          "NIN,Email",
          "NIN,Date",
          "NIN",
          "ID_Card",
          "IBAN",
          "Geolocation,Address",
          "Geolocation",
          "Gender",
          "GPE",
          "Email,Phone_number",
          "Email,Person",
          "Email,NIN",
          "Email,Address",
          "Email",
          "Date,NIN",
          "Date",
          "CCN",
          "Address,Phone_number",
          "Address,Person,Phone_number",
          "Address,Geolocation",
          "Address,Email",
          "Address"
         ]
        },
        {
         "marker": {
          "color": "red"
         },
         "name": "contains element<br>from train",
         "orientation": "h",
         "type": "bar",
         "x": [
          1,
          null,
          1,
          1,
          null,
          null,
          null,
          null,
          null,
          null,
          null,
          null,
          null,
          null,
          null,
          null,
          1,
          null,
          null,
          null,
          null,
          null,
          null,
          null,
          null,
          null,
          1,
          null,
          null,
          null,
          null,
          null,
          null,
          null,
          null,
          null,
          null,
          null,
          null,
          null,
          null
         ],
         "y": [
          "Sexuality",
          "SWIFT/BIC",
          "Religion",
          "Race",
          "Phone_number,NIN",
          "Phone_number,Email",
          "Phone_number",
          "Person,Organization",
          "Person,NIN",
          "Person,Email",
          "Person",
          "Passport",
          "Other_data",
          "Organization,Person",
          "Organization,Address",
          "Organization",
          "Nationality",
          "NIN,Phone_number",
          "NIN,Person",
          "NIN,Email",
          "NIN,Date",
          "NIN",
          "ID_Card",
          "IBAN",
          "Geolocation,Address",
          "Geolocation",
          "Gender",
          "GPE",
          "Email,Phone_number",
          "Email,Person",
          "Email,NIN",
          "Email,Address",
          "Email",
          "Date,NIN",
          "Date",
          "CCN",
          "Address,Phone_number",
          "Address,Person,Phone_number",
          "Address,Geolocation",
          "Address,Email",
          "Address"
         ]
        },
        {
         "marker": {
          "color": "blue",
          "size": 10
         },
         "mode": "markers",
         "name": "Classes allowed to contain training data",
         "type": "scatter",
         "x": [
          null
         ],
         "y": [
          null
         ]
        }
       ],
       "layout": {
        "barmode": "stack",
        "height": 800,
        "template": {
         "data": {
          "bar": [
           {
            "error_x": {
             "color": "#2a3f5f"
            },
            "error_y": {
             "color": "#2a3f5f"
            },
            "marker": {
             "line": {
              "color": "#E5ECF6",
              "width": 0.5
             },
             "pattern": {
              "fillmode": "overlay",
              "size": 10,
              "solidity": 0.2
             }
            },
            "type": "bar"
           }
          ],
          "barpolar": [
           {
            "marker": {
             "line": {
              "color": "#E5ECF6",
              "width": 0.5
             },
             "pattern": {
              "fillmode": "overlay",
              "size": 10,
              "solidity": 0.2
             }
            },
            "type": "barpolar"
           }
          ],
          "carpet": [
           {
            "aaxis": {
             "endlinecolor": "#2a3f5f",
             "gridcolor": "white",
             "linecolor": "white",
             "minorgridcolor": "white",
             "startlinecolor": "#2a3f5f"
            },
            "baxis": {
             "endlinecolor": "#2a3f5f",
             "gridcolor": "white",
             "linecolor": "white",
             "minorgridcolor": "white",
             "startlinecolor": "#2a3f5f"
            },
            "type": "carpet"
           }
          ],
          "choropleth": [
           {
            "colorbar": {
             "outlinewidth": 0,
             "ticks": ""
            },
            "type": "choropleth"
           }
          ],
          "contour": [
           {
            "colorbar": {
             "outlinewidth": 0,
             "ticks": ""
            },
            "colorscale": [
             [
              0,
              "#0d0887"
             ],
             [
              0.1111111111111111,
              "#46039f"
             ],
             [
              0.2222222222222222,
              "#7201a8"
             ],
             [
              0.3333333333333333,
              "#9c179e"
             ],
             [
              0.4444444444444444,
              "#bd3786"
             ],
             [
              0.5555555555555556,
              "#d8576b"
             ],
             [
              0.6666666666666666,
              "#ed7953"
             ],
             [
              0.7777777777777778,
              "#fb9f3a"
             ],
             [
              0.8888888888888888,
              "#fdca26"
             ],
             [
              1,
              "#f0f921"
             ]
            ],
            "type": "contour"
           }
          ],
          "contourcarpet": [
           {
            "colorbar": {
             "outlinewidth": 0,
             "ticks": ""
            },
            "type": "contourcarpet"
           }
          ],
          "heatmap": [
           {
            "colorbar": {
             "outlinewidth": 0,
             "ticks": ""
            },
            "colorscale": [
             [
              0,
              "#0d0887"
             ],
             [
              0.1111111111111111,
              "#46039f"
             ],
             [
              0.2222222222222222,
              "#7201a8"
             ],
             [
              0.3333333333333333,
              "#9c179e"
             ],
             [
              0.4444444444444444,
              "#bd3786"
             ],
             [
              0.5555555555555556,
              "#d8576b"
             ],
             [
              0.6666666666666666,
              "#ed7953"
             ],
             [
              0.7777777777777778,
              "#fb9f3a"
             ],
             [
              0.8888888888888888,
              "#fdca26"
             ],
             [
              1,
              "#f0f921"
             ]
            ],
            "type": "heatmap"
           }
          ],
          "heatmapgl": [
           {
            "colorbar": {
             "outlinewidth": 0,
             "ticks": ""
            },
            "colorscale": [
             [
              0,
              "#0d0887"
             ],
             [
              0.1111111111111111,
              "#46039f"
             ],
             [
              0.2222222222222222,
              "#7201a8"
             ],
             [
              0.3333333333333333,
              "#9c179e"
             ],
             [
              0.4444444444444444,
              "#bd3786"
             ],
             [
              0.5555555555555556,
              "#d8576b"
             ],
             [
              0.6666666666666666,
              "#ed7953"
             ],
             [
              0.7777777777777778,
              "#fb9f3a"
             ],
             [
              0.8888888888888888,
              "#fdca26"
             ],
             [
              1,
              "#f0f921"
             ]
            ],
            "type": "heatmapgl"
           }
          ],
          "histogram": [
           {
            "marker": {
             "pattern": {
              "fillmode": "overlay",
              "size": 10,
              "solidity": 0.2
             }
            },
            "type": "histogram"
           }
          ],
          "histogram2d": [
           {
            "colorbar": {
             "outlinewidth": 0,
             "ticks": ""
            },
            "colorscale": [
             [
              0,
              "#0d0887"
             ],
             [
              0.1111111111111111,
              "#46039f"
             ],
             [
              0.2222222222222222,
              "#7201a8"
             ],
             [
              0.3333333333333333,
              "#9c179e"
             ],
             [
              0.4444444444444444,
              "#bd3786"
             ],
             [
              0.5555555555555556,
              "#d8576b"
             ],
             [
              0.6666666666666666,
              "#ed7953"
             ],
             [
              0.7777777777777778,
              "#fb9f3a"
             ],
             [
              0.8888888888888888,
              "#fdca26"
             ],
             [
              1,
              "#f0f921"
             ]
            ],
            "type": "histogram2d"
           }
          ],
          "histogram2dcontour": [
           {
            "colorbar": {
             "outlinewidth": 0,
             "ticks": ""
            },
            "colorscale": [
             [
              0,
              "#0d0887"
             ],
             [
              0.1111111111111111,
              "#46039f"
             ],
             [
              0.2222222222222222,
              "#7201a8"
             ],
             [
              0.3333333333333333,
              "#9c179e"
             ],
             [
              0.4444444444444444,
              "#bd3786"
             ],
             [
              0.5555555555555556,
              "#d8576b"
             ],
             [
              0.6666666666666666,
              "#ed7953"
             ],
             [
              0.7777777777777778,
              "#fb9f3a"
             ],
             [
              0.8888888888888888,
              "#fdca26"
             ],
             [
              1,
              "#f0f921"
             ]
            ],
            "type": "histogram2dcontour"
           }
          ],
          "mesh3d": [
           {
            "colorbar": {
             "outlinewidth": 0,
             "ticks": ""
            },
            "type": "mesh3d"
           }
          ],
          "parcoords": [
           {
            "line": {
             "colorbar": {
              "outlinewidth": 0,
              "ticks": ""
             }
            },
            "type": "parcoords"
           }
          ],
          "pie": [
           {
            "automargin": true,
            "type": "pie"
           }
          ],
          "scatter": [
           {
            "fillpattern": {
             "fillmode": "overlay",
             "size": 10,
             "solidity": 0.2
            },
            "type": "scatter"
           }
          ],
          "scatter3d": [
           {
            "line": {
             "colorbar": {
              "outlinewidth": 0,
              "ticks": ""
             }
            },
            "marker": {
             "colorbar": {
              "outlinewidth": 0,
              "ticks": ""
             }
            },
            "type": "scatter3d"
           }
          ],
          "scattercarpet": [
           {
            "marker": {
             "colorbar": {
              "outlinewidth": 0,
              "ticks": ""
             }
            },
            "type": "scattercarpet"
           }
          ],
          "scattergeo": [
           {
            "marker": {
             "colorbar": {
              "outlinewidth": 0,
              "ticks": ""
             }
            },
            "type": "scattergeo"
           }
          ],
          "scattergl": [
           {
            "marker": {
             "colorbar": {
              "outlinewidth": 0,
              "ticks": ""
             }
            },
            "type": "scattergl"
           }
          ],
          "scattermapbox": [
           {
            "marker": {
             "colorbar": {
              "outlinewidth": 0,
              "ticks": ""
             }
            },
            "type": "scattermapbox"
           }
          ],
          "scatterpolar": [
           {
            "marker": {
             "colorbar": {
              "outlinewidth": 0,
              "ticks": ""
             }
            },
            "type": "scatterpolar"
           }
          ],
          "scatterpolargl": [
           {
            "marker": {
             "colorbar": {
              "outlinewidth": 0,
              "ticks": ""
             }
            },
            "type": "scatterpolargl"
           }
          ],
          "scatterternary": [
           {
            "marker": {
             "colorbar": {
              "outlinewidth": 0,
              "ticks": ""
             }
            },
            "type": "scatterternary"
           }
          ],
          "surface": [
           {
            "colorbar": {
             "outlinewidth": 0,
             "ticks": ""
            },
            "colorscale": [
             [
              0,
              "#0d0887"
             ],
             [
              0.1111111111111111,
              "#46039f"
             ],
             [
              0.2222222222222222,
              "#7201a8"
             ],
             [
              0.3333333333333333,
              "#9c179e"
             ],
             [
              0.4444444444444444,
              "#bd3786"
             ],
             [
              0.5555555555555556,
              "#d8576b"
             ],
             [
              0.6666666666666666,
              "#ed7953"
             ],
             [
              0.7777777777777778,
              "#fb9f3a"
             ],
             [
              0.8888888888888888,
              "#fdca26"
             ],
             [
              1,
              "#f0f921"
             ]
            ],
            "type": "surface"
           }
          ],
          "table": [
           {
            "cells": {
             "fill": {
              "color": "#EBF0F8"
             },
             "line": {
              "color": "white"
             }
            },
            "header": {
             "fill": {
              "color": "#C8D4E3"
             },
             "line": {
              "color": "white"
             }
            },
            "type": "table"
           }
          ]
         },
         "layout": {
          "annotationdefaults": {
           "arrowcolor": "#2a3f5f",
           "arrowhead": 0,
           "arrowwidth": 1
          },
          "autotypenumbers": "strict",
          "coloraxis": {
           "colorbar": {
            "outlinewidth": 0,
            "ticks": ""
           }
          },
          "colorscale": {
           "diverging": [
            [
             0,
             "#8e0152"
            ],
            [
             0.1,
             "#c51b7d"
            ],
            [
             0.2,
             "#de77ae"
            ],
            [
             0.3,
             "#f1b6da"
            ],
            [
             0.4,
             "#fde0ef"
            ],
            [
             0.5,
             "#f7f7f7"
            ],
            [
             0.6,
             "#e6f5d0"
            ],
            [
             0.7,
             "#b8e186"
            ],
            [
             0.8,
             "#7fbc41"
            ],
            [
             0.9,
             "#4d9221"
            ],
            [
             1,
             "#276419"
            ]
           ],
           "sequential": [
            [
             0,
             "#0d0887"
            ],
            [
             0.1111111111111111,
             "#46039f"
            ],
            [
             0.2222222222222222,
             "#7201a8"
            ],
            [
             0.3333333333333333,
             "#9c179e"
            ],
            [
             0.4444444444444444,
             "#bd3786"
            ],
            [
             0.5555555555555556,
             "#d8576b"
            ],
            [
             0.6666666666666666,
             "#ed7953"
            ],
            [
             0.7777777777777778,
             "#fb9f3a"
            ],
            [
             0.8888888888888888,
             "#fdca26"
            ],
            [
             1,
             "#f0f921"
            ]
           ],
           "sequentialminus": [
            [
             0,
             "#0d0887"
            ],
            [
             0.1111111111111111,
             "#46039f"
            ],
            [
             0.2222222222222222,
             "#7201a8"
            ],
            [
             0.3333333333333333,
             "#9c179e"
            ],
            [
             0.4444444444444444,
             "#bd3786"
            ],
            [
             0.5555555555555556,
             "#d8576b"
            ],
            [
             0.6666666666666666,
             "#ed7953"
            ],
            [
             0.7777777777777778,
             "#fb9f3a"
            ],
            [
             0.8888888888888888,
             "#fdca26"
            ],
            [
             1,
             "#f0f921"
            ]
           ]
          },
          "colorway": [
           "#636efa",
           "#EF553B",
           "#00cc96",
           "#ab63fa",
           "#FFA15A",
           "#19d3f3",
           "#FF6692",
           "#B6E880",
           "#FF97FF",
           "#FECB52"
          ],
          "font": {
           "color": "#2a3f5f"
          },
          "geo": {
           "bgcolor": "white",
           "lakecolor": "white",
           "landcolor": "#E5ECF6",
           "showlakes": true,
           "showland": true,
           "subunitcolor": "white"
          },
          "hoverlabel": {
           "align": "left"
          },
          "hovermode": "closest",
          "mapbox": {
           "style": "light"
          },
          "paper_bgcolor": "white",
          "plot_bgcolor": "#E5ECF6",
          "polar": {
           "angularaxis": {
            "gridcolor": "white",
            "linecolor": "white",
            "ticks": ""
           },
           "bgcolor": "#E5ECF6",
           "radialaxis": {
            "gridcolor": "white",
            "linecolor": "white",
            "ticks": ""
           }
          },
          "scene": {
           "xaxis": {
            "backgroundcolor": "#E5ECF6",
            "gridcolor": "white",
            "gridwidth": 2,
            "linecolor": "white",
            "showbackground": true,
            "ticks": "",
            "zerolinecolor": "white"
           },
           "yaxis": {
            "backgroundcolor": "#E5ECF6",
            "gridcolor": "white",
            "gridwidth": 2,
            "linecolor": "white",
            "showbackground": true,
            "ticks": "",
            "zerolinecolor": "white"
           },
           "zaxis": {
            "backgroundcolor": "#E5ECF6",
            "gridcolor": "white",
            "gridwidth": 2,
            "linecolor": "white",
            "showbackground": true,
            "ticks": "",
            "zerolinecolor": "white"
           }
          },
          "shapedefaults": {
           "line": {
            "color": "#2a3f5f"
           }
          },
          "ternary": {
           "aaxis": {
            "gridcolor": "white",
            "linecolor": "white",
            "ticks": ""
           },
           "baxis": {
            "gridcolor": "white",
            "linecolor": "white",
            "ticks": ""
           },
           "bgcolor": "#E5ECF6",
           "caxis": {
            "gridcolor": "white",
            "linecolor": "white",
            "ticks": ""
           }
          },
          "title": {
           "x": 0.05
          },
          "xaxis": {
           "automargin": true,
           "gridcolor": "white",
           "linecolor": "white",
           "ticks": "",
           "title": {
            "standoff": 15
           },
           "zerolinecolor": "white",
           "zerolinewidth": 2
          },
          "yaxis": {
           "automargin": true,
           "gridcolor": "white",
           "linecolor": "white",
           "ticks": "",
           "title": {
            "standoff": 15
           },
           "zerolinecolor": "white",
           "zerolinewidth": 2
          }
         }
        },
        "title": {
         "text": "Percentage of columns in DeSSI's test data per class that contain a value<br>that also appears in the training data for the same class<br><sup>classes which are allowed to contain values from the training data are marked red</sup>"
        },
        "width": 1000,
        "xaxis": {
         "title": {
          "text": "Classes"
         }
        },
        "yaxis": {
         "ticktext": [
          "<b style='color:blue;'>Sexuality</b>",
          "SWIFT/BIC",
          "<b style='color:blue;'>Religion</b>",
          "<b style='color:blue;'>Race</b>",
          "Phone_number,NIN",
          "Phone_number,Email",
          "Phone_number",
          "Person,Organization",
          "Person,NIN",
          "Person,Email",
          "Person",
          "Passport",
          "Other_data",
          "Organization,Person",
          "Organization,Address",
          "Organization",
          "<b style='color:blue;'>Nationality</b>",
          "NIN,Phone_number",
          "NIN,Person",
          "NIN,Email",
          "NIN,Date",
          "NIN",
          "ID_Card",
          "IBAN",
          "Geolocation,Address",
          "Geolocation",
          "<b style='color:blue;'>Gender</b>",
          "GPE",
          "Email,Phone_number",
          "Email,Person",
          "Email,NIN",
          "Email,Address",
          "Email",
          "Date,NIN",
          "Date",
          "CCN",
          "Address,Phone_number",
          "Address,Person,Phone_number",
          "Address,Geolocation",
          "Address,Email",
          "Address"
         ],
         "tickvals": [
          "Sexuality",
          "SWIFT/BIC",
          "Religion",
          "Race",
          "Phone_number,NIN",
          "Phone_number,Email",
          "Phone_number",
          "Person,Organization",
          "Person,NIN",
          "Person,Email",
          "Person",
          "Passport",
          "Other_data",
          "Organization,Person",
          "Organization,Address",
          "Organization",
          "Nationality",
          "NIN,Phone_number",
          "NIN,Person",
          "NIN,Email",
          "NIN,Date",
          "NIN",
          "ID_Card",
          "IBAN",
          "Geolocation,Address",
          "Geolocation",
          "Gender",
          "GPE",
          "Email,Phone_number",
          "Email,Person",
          "Email,NIN",
          "Email,Address",
          "Email",
          "Date,NIN",
          "Date",
          "CCN",
          "Address,Phone_number",
          "Address,Person,Phone_number",
          "Address,Geolocation",
          "Address,Email",
          "Address"
         ],
         "title": {
          "text": "Percentage"
         }
        }
       }
      }
     },
     "metadata": {},
     "output_type": "display_data"
    }
   ],
   "source": [
    "fig = go.Figure()\n",
    "fig.add_trace(go.Bar(y=list(sol.keys()), x=[a.get(False) for a in sol.values()], name=\"does not contain<br>element from train\",\n",
    "                      orientation='h', marker=dict(color=\"green\")))\n",
    "fig.add_trace(go.Bar(y=list(sol.keys()), x=[a.get(True) for a in sol.values()], name=\"contains element<br>from train\", orientation='h', marker=dict(color=\"red\")))\n",
    "fig.update_layout(barmode='stack', title=\"Percentage of columns in DeSSI's test data per class that contain a value\"\n",
    "                  \"<br>that also appears in the training data for the same class\"\n",
    "                  \"<br><sup>classes which are allowed to contain values from the training data are marked red</sup>\", \n",
    "                  width=1000, height=800)\n",
    "fig.update_xaxes(title=\"Classes\")\n",
    "fig.update_yaxes(title=\"Percentage\")\n",
    "\n",
    "highlighted_classes = {\"Nationality\", \"Religion\", \"Gender\", \"Sexuality\", \"Race\"}  # Replace with your keys to highlight\n",
    "custom_labels = [\n",
    "    f\"<b style='color:blue;'>{key}</b>\" if key in highlighted_classes else key\n",
    "    for key in sol.keys()\n",
    "]\n",
    "\n",
    "fig.update_yaxes(\n",
    "    ticktext=custom_labels,\n",
    "    tickvals=list(sol.keys()),  # Ensure alignment of ticks and custom labels\n",
    "    title=\"Percentage\"\n",
    ")\n",
    "\n",
    "fig.add_trace(\n",
    "    go.Scatter(\n",
    "        x=[None],  # Empty trace\n",
    "        y=[None],\n",
    "        mode='markers',\n",
    "        marker=dict(color='blue', size=10),\n",
    "        name=\"Classes allowed to contain training data\"\n",
    "    )\n",
    ")\n",
    "\n",
    "fig.show()"
   ]
  },
  {
   "cell_type": "markdown",
   "metadata": {},
   "source": [
    "# Mimesis"
   ]
  },
  {
   "cell_type": "code",
   "execution_count": 13,
   "metadata": {},
   "outputs": [
    {
     "name": "stderr",
     "output_type": "stream",
     "text": [
      "C:\\Users\\Luca\\AppData\\Local\\Temp\\ipykernel_20164\\3386094798.py:12: DtypeWarning:\n",
      "\n",
      "Columns (1855,4493,4607,5938,8673,9994,10789,10922,12402,14133,16114,16224,16975,17584,17907) have mixed types. Specify dtype option on import or set low_memory=False.\n",
      "\n"
     ]
    }
   ],
   "source": [
    "train_mimesis, dev_mimesis, test_mimesis = load_data('../../dessi-mf/mimesis/', labels=False)"
   ]
  },
  {
   "cell_type": "code",
   "execution_count": 14,
   "metadata": {},
   "outputs": [],
   "source": [
    "# adjust labels\n",
    "def adjust_labels(data2):\n",
    "    data = data2.copy()\n",
    "    newlabels = []\n",
    "    for i in range(len(data.columns)):\n",
    "        if \"mixed\" in data.iloc[100,i] or \"fr_FR\" in data.iloc[100,i] or \"de_DE\" in data.iloc[100,i]:\n",
    "            newlabels.append(data.iloc[100,i][:-6])\n",
    "        elif \"_en\" == data.iloc[100,i][-3:] or \"_fr\" == data.iloc[100,i][-3:] or \"_de\" == data.iloc[100,i][-3:]:\n",
    "            newlabels.append(data.iloc[100,i][:-3])\n",
    "        else:\n",
    "            newlabels.append(data.iloc[100,i])\n",
    "    data.iloc[100,:] = newlabels\n",
    "    return data"
   ]
  },
  {
   "cell_type": "code",
   "execution_count": 15,
   "metadata": {},
   "outputs": [],
   "source": [
    "train_dev_mimesis = train_mimesis.merge(dev_mimesis, left_index=True, right_index=True)\n",
    "train_dev_mimesis = adjust_labels(train_dev_mimesis)\n",
    "test_mimesis = adjust_labels(test_mimesis)"
   ]
  },
  {
   "cell_type": "code",
   "execution_count": 16,
   "metadata": {},
   "outputs": [],
   "source": [
    "sol = dict()\n",
    "for label in train_dev_mimesis.loc[100].unique():\n",
    "    s = train_dev_mimesis.loc[100] == label\n",
    "    train_dev = train_dev_mimesis.iloc[:100,:]\n",
    "    train_data = set(train_dev[s.index[s==True].tolist()].values.flatten()) \n",
    "    s2 = test_mimesis.loc[100] == label\n",
    "    \n",
    "    has_value = []\n",
    "    test = test_mimesis.iloc[:100,:]\n",
    "    for c in s2.index[s2==True].tolist():\n",
    "        has_value.append(any(val in train_data for val in test[c].values))\n",
    "    sol[label] = dict(pd.Series(has_value).value_counts(normalize=True))\n",
    "sol = {key: sol[key] for key in sorted(sol.keys(), reverse=True)}"
   ]
  },
  {
   "cell_type": "code",
   "execution_count": 17,
   "metadata": {},
   "outputs": [],
   "source": [
    "personal_attributes = [\n",
    "    \"address\", \"academic_degree\", \"blood_type\", \"email\", \"first_name\", \"full_name\", \"last_name\", \n",
    "    \"gender\", \"language\", \"nationality\", \"occupation\",\n",
    "    \"phone_number\", \"political_views\", \"title\", \"worldview\", \n",
    "    \"credit_card_number\"\n",
    "]\n",
    "\n",
    "non_personal_attributes = [\n",
    "    \"company\", \"dish\", \"drink\", \"answer\", \"color\", \"isbn\", \"duration\", \n",
    "    \"programming_language\", \"system_quality_attribute\", \"version\", \"float_number\", \n",
    "    \"integer_number\", \"user_agent\", \"graphics\", \"cpu\", \"phone_model\", \n",
    "    \"manufacturer\", \"resolution\", \"ility\", \"word\", \"measure_unit\", \n",
    "    \"city\", \"street_name\",\n",
    "]\n",
    "\n",
    "personal_attributes_unique = [\n",
    "            \"address\", \"email\", \"full_name\",\n",
    "            \"phone_number\", \"credit_card_number\"\n",
    "        ]\n",
    "\n",
    "non_personal_attributes_unique = [\"isbn\", \"version\", \"float_number\"]\n",
    "\n",
    "duplicates_allowed = set(personal_attributes + non_personal_attributes) - set(personal_attributes_unique) - set(non_personal_attributes_unique)"
   ]
  },
  {
   "cell_type": "code",
   "execution_count": 18,
   "metadata": {},
   "outputs": [
    {
     "data": {
      "application/vnd.plotly.v1+json": {
       "config": {
        "plotlyServerURL": "https://plot.ly"
       },
       "data": [
        {
         "marker": {
          "color": "green"
         },
         "name": "does not contain<br>element from train",
         "orientation": "h",
         "type": "bar",
         "x": [
          null,
          null,
          1,
          null,
          null,
          null,
          null,
          null,
          null,
          1,
          null,
          null,
          null,
          null,
          null,
          null,
          null,
          1,
          null,
          null,
          null,
          1,
          1,
          null,
          1,
          null,
          null,
          null,
          1,
          null,
          null,
          null,
          null,
          null,
          null,
          1,
          null
         ],
         "y": [
          "worldview",
          "word",
          "version",
          "user_agent",
          "title",
          "system_quality_attribute",
          "resolution",
          "programming_language",
          "political_views",
          "phone_number",
          "phone_model",
          "occupation",
          "nationality",
          "measure_unit",
          "manufacturer",
          "last_name",
          "language",
          "isbn",
          "integer_number",
          "graphics",
          "gender",
          "full_name",
          "float_number",
          "first_name",
          "email",
          "duration",
          "drink",
          "dish",
          "credit_card_number",
          "cpu",
          "company",
          "color",
          "city",
          "blood_type",
          "answer",
          "address",
          "academic_degree"
         ]
        },
        {
         "marker": {
          "color": "red"
         },
         "name": "contains element<br>from train",
         "orientation": "h",
         "type": "bar",
         "x": [
          1,
          1,
          null,
          1,
          1,
          1,
          1,
          1,
          1,
          null,
          1,
          1,
          1,
          1,
          1,
          1,
          1,
          null,
          1,
          1,
          1,
          null,
          null,
          1,
          null,
          1,
          1,
          1,
          null,
          1,
          1,
          1,
          1,
          1,
          1,
          null,
          1
         ],
         "y": [
          "worldview",
          "word",
          "version",
          "user_agent",
          "title",
          "system_quality_attribute",
          "resolution",
          "programming_language",
          "political_views",
          "phone_number",
          "phone_model",
          "occupation",
          "nationality",
          "measure_unit",
          "manufacturer",
          "last_name",
          "language",
          "isbn",
          "integer_number",
          "graphics",
          "gender",
          "full_name",
          "float_number",
          "first_name",
          "email",
          "duration",
          "drink",
          "dish",
          "credit_card_number",
          "cpu",
          "company",
          "color",
          "city",
          "blood_type",
          "answer",
          "address",
          "academic_degree"
         ]
        },
        {
         "marker": {
          "color": "blue",
          "size": 10
         },
         "mode": "markers",
         "name": "Classes allowed to contain training data",
         "type": "scatter",
         "x": [
          null
         ],
         "y": [
          null
         ]
        }
       ],
       "layout": {
        "barmode": "stack",
        "height": 1300,
        "template": {
         "data": {
          "bar": [
           {
            "error_x": {
             "color": "#2a3f5f"
            },
            "error_y": {
             "color": "#2a3f5f"
            },
            "marker": {
             "line": {
              "color": "#E5ECF6",
              "width": 0.5
             },
             "pattern": {
              "fillmode": "overlay",
              "size": 10,
              "solidity": 0.2
             }
            },
            "type": "bar"
           }
          ],
          "barpolar": [
           {
            "marker": {
             "line": {
              "color": "#E5ECF6",
              "width": 0.5
             },
             "pattern": {
              "fillmode": "overlay",
              "size": 10,
              "solidity": 0.2
             }
            },
            "type": "barpolar"
           }
          ],
          "carpet": [
           {
            "aaxis": {
             "endlinecolor": "#2a3f5f",
             "gridcolor": "white",
             "linecolor": "white",
             "minorgridcolor": "white",
             "startlinecolor": "#2a3f5f"
            },
            "baxis": {
             "endlinecolor": "#2a3f5f",
             "gridcolor": "white",
             "linecolor": "white",
             "minorgridcolor": "white",
             "startlinecolor": "#2a3f5f"
            },
            "type": "carpet"
           }
          ],
          "choropleth": [
           {
            "colorbar": {
             "outlinewidth": 0,
             "ticks": ""
            },
            "type": "choropleth"
           }
          ],
          "contour": [
           {
            "colorbar": {
             "outlinewidth": 0,
             "ticks": ""
            },
            "colorscale": [
             [
              0,
              "#0d0887"
             ],
             [
              0.1111111111111111,
              "#46039f"
             ],
             [
              0.2222222222222222,
              "#7201a8"
             ],
             [
              0.3333333333333333,
              "#9c179e"
             ],
             [
              0.4444444444444444,
              "#bd3786"
             ],
             [
              0.5555555555555556,
              "#d8576b"
             ],
             [
              0.6666666666666666,
              "#ed7953"
             ],
             [
              0.7777777777777778,
              "#fb9f3a"
             ],
             [
              0.8888888888888888,
              "#fdca26"
             ],
             [
              1,
              "#f0f921"
             ]
            ],
            "type": "contour"
           }
          ],
          "contourcarpet": [
           {
            "colorbar": {
             "outlinewidth": 0,
             "ticks": ""
            },
            "type": "contourcarpet"
           }
          ],
          "heatmap": [
           {
            "colorbar": {
             "outlinewidth": 0,
             "ticks": ""
            },
            "colorscale": [
             [
              0,
              "#0d0887"
             ],
             [
              0.1111111111111111,
              "#46039f"
             ],
             [
              0.2222222222222222,
              "#7201a8"
             ],
             [
              0.3333333333333333,
              "#9c179e"
             ],
             [
              0.4444444444444444,
              "#bd3786"
             ],
             [
              0.5555555555555556,
              "#d8576b"
             ],
             [
              0.6666666666666666,
              "#ed7953"
             ],
             [
              0.7777777777777778,
              "#fb9f3a"
             ],
             [
              0.8888888888888888,
              "#fdca26"
             ],
             [
              1,
              "#f0f921"
             ]
            ],
            "type": "heatmap"
           }
          ],
          "heatmapgl": [
           {
            "colorbar": {
             "outlinewidth": 0,
             "ticks": ""
            },
            "colorscale": [
             [
              0,
              "#0d0887"
             ],
             [
              0.1111111111111111,
              "#46039f"
             ],
             [
              0.2222222222222222,
              "#7201a8"
             ],
             [
              0.3333333333333333,
              "#9c179e"
             ],
             [
              0.4444444444444444,
              "#bd3786"
             ],
             [
              0.5555555555555556,
              "#d8576b"
             ],
             [
              0.6666666666666666,
              "#ed7953"
             ],
             [
              0.7777777777777778,
              "#fb9f3a"
             ],
             [
              0.8888888888888888,
              "#fdca26"
             ],
             [
              1,
              "#f0f921"
             ]
            ],
            "type": "heatmapgl"
           }
          ],
          "histogram": [
           {
            "marker": {
             "pattern": {
              "fillmode": "overlay",
              "size": 10,
              "solidity": 0.2
             }
            },
            "type": "histogram"
           }
          ],
          "histogram2d": [
           {
            "colorbar": {
             "outlinewidth": 0,
             "ticks": ""
            },
            "colorscale": [
             [
              0,
              "#0d0887"
             ],
             [
              0.1111111111111111,
              "#46039f"
             ],
             [
              0.2222222222222222,
              "#7201a8"
             ],
             [
              0.3333333333333333,
              "#9c179e"
             ],
             [
              0.4444444444444444,
              "#bd3786"
             ],
             [
              0.5555555555555556,
              "#d8576b"
             ],
             [
              0.6666666666666666,
              "#ed7953"
             ],
             [
              0.7777777777777778,
              "#fb9f3a"
             ],
             [
              0.8888888888888888,
              "#fdca26"
             ],
             [
              1,
              "#f0f921"
             ]
            ],
            "type": "histogram2d"
           }
          ],
          "histogram2dcontour": [
           {
            "colorbar": {
             "outlinewidth": 0,
             "ticks": ""
            },
            "colorscale": [
             [
              0,
              "#0d0887"
             ],
             [
              0.1111111111111111,
              "#46039f"
             ],
             [
              0.2222222222222222,
              "#7201a8"
             ],
             [
              0.3333333333333333,
              "#9c179e"
             ],
             [
              0.4444444444444444,
              "#bd3786"
             ],
             [
              0.5555555555555556,
              "#d8576b"
             ],
             [
              0.6666666666666666,
              "#ed7953"
             ],
             [
              0.7777777777777778,
              "#fb9f3a"
             ],
             [
              0.8888888888888888,
              "#fdca26"
             ],
             [
              1,
              "#f0f921"
             ]
            ],
            "type": "histogram2dcontour"
           }
          ],
          "mesh3d": [
           {
            "colorbar": {
             "outlinewidth": 0,
             "ticks": ""
            },
            "type": "mesh3d"
           }
          ],
          "parcoords": [
           {
            "line": {
             "colorbar": {
              "outlinewidth": 0,
              "ticks": ""
             }
            },
            "type": "parcoords"
           }
          ],
          "pie": [
           {
            "automargin": true,
            "type": "pie"
           }
          ],
          "scatter": [
           {
            "fillpattern": {
             "fillmode": "overlay",
             "size": 10,
             "solidity": 0.2
            },
            "type": "scatter"
           }
          ],
          "scatter3d": [
           {
            "line": {
             "colorbar": {
              "outlinewidth": 0,
              "ticks": ""
             }
            },
            "marker": {
             "colorbar": {
              "outlinewidth": 0,
              "ticks": ""
             }
            },
            "type": "scatter3d"
           }
          ],
          "scattercarpet": [
           {
            "marker": {
             "colorbar": {
              "outlinewidth": 0,
              "ticks": ""
             }
            },
            "type": "scattercarpet"
           }
          ],
          "scattergeo": [
           {
            "marker": {
             "colorbar": {
              "outlinewidth": 0,
              "ticks": ""
             }
            },
            "type": "scattergeo"
           }
          ],
          "scattergl": [
           {
            "marker": {
             "colorbar": {
              "outlinewidth": 0,
              "ticks": ""
             }
            },
            "type": "scattergl"
           }
          ],
          "scattermapbox": [
           {
            "marker": {
             "colorbar": {
              "outlinewidth": 0,
              "ticks": ""
             }
            },
            "type": "scattermapbox"
           }
          ],
          "scatterpolar": [
           {
            "marker": {
             "colorbar": {
              "outlinewidth": 0,
              "ticks": ""
             }
            },
            "type": "scatterpolar"
           }
          ],
          "scatterpolargl": [
           {
            "marker": {
             "colorbar": {
              "outlinewidth": 0,
              "ticks": ""
             }
            },
            "type": "scatterpolargl"
           }
          ],
          "scatterternary": [
           {
            "marker": {
             "colorbar": {
              "outlinewidth": 0,
              "ticks": ""
             }
            },
            "type": "scatterternary"
           }
          ],
          "surface": [
           {
            "colorbar": {
             "outlinewidth": 0,
             "ticks": ""
            },
            "colorscale": [
             [
              0,
              "#0d0887"
             ],
             [
              0.1111111111111111,
              "#46039f"
             ],
             [
              0.2222222222222222,
              "#7201a8"
             ],
             [
              0.3333333333333333,
              "#9c179e"
             ],
             [
              0.4444444444444444,
              "#bd3786"
             ],
             [
              0.5555555555555556,
              "#d8576b"
             ],
             [
              0.6666666666666666,
              "#ed7953"
             ],
             [
              0.7777777777777778,
              "#fb9f3a"
             ],
             [
              0.8888888888888888,
              "#fdca26"
             ],
             [
              1,
              "#f0f921"
             ]
            ],
            "type": "surface"
           }
          ],
          "table": [
           {
            "cells": {
             "fill": {
              "color": "#EBF0F8"
             },
             "line": {
              "color": "white"
             }
            },
            "header": {
             "fill": {
              "color": "#C8D4E3"
             },
             "line": {
              "color": "white"
             }
            },
            "type": "table"
           }
          ]
         },
         "layout": {
          "annotationdefaults": {
           "arrowcolor": "#2a3f5f",
           "arrowhead": 0,
           "arrowwidth": 1
          },
          "autotypenumbers": "strict",
          "coloraxis": {
           "colorbar": {
            "outlinewidth": 0,
            "ticks": ""
           }
          },
          "colorscale": {
           "diverging": [
            [
             0,
             "#8e0152"
            ],
            [
             0.1,
             "#c51b7d"
            ],
            [
             0.2,
             "#de77ae"
            ],
            [
             0.3,
             "#f1b6da"
            ],
            [
             0.4,
             "#fde0ef"
            ],
            [
             0.5,
             "#f7f7f7"
            ],
            [
             0.6,
             "#e6f5d0"
            ],
            [
             0.7,
             "#b8e186"
            ],
            [
             0.8,
             "#7fbc41"
            ],
            [
             0.9,
             "#4d9221"
            ],
            [
             1,
             "#276419"
            ]
           ],
           "sequential": [
            [
             0,
             "#0d0887"
            ],
            [
             0.1111111111111111,
             "#46039f"
            ],
            [
             0.2222222222222222,
             "#7201a8"
            ],
            [
             0.3333333333333333,
             "#9c179e"
            ],
            [
             0.4444444444444444,
             "#bd3786"
            ],
            [
             0.5555555555555556,
             "#d8576b"
            ],
            [
             0.6666666666666666,
             "#ed7953"
            ],
            [
             0.7777777777777778,
             "#fb9f3a"
            ],
            [
             0.8888888888888888,
             "#fdca26"
            ],
            [
             1,
             "#f0f921"
            ]
           ],
           "sequentialminus": [
            [
             0,
             "#0d0887"
            ],
            [
             0.1111111111111111,
             "#46039f"
            ],
            [
             0.2222222222222222,
             "#7201a8"
            ],
            [
             0.3333333333333333,
             "#9c179e"
            ],
            [
             0.4444444444444444,
             "#bd3786"
            ],
            [
             0.5555555555555556,
             "#d8576b"
            ],
            [
             0.6666666666666666,
             "#ed7953"
            ],
            [
             0.7777777777777778,
             "#fb9f3a"
            ],
            [
             0.8888888888888888,
             "#fdca26"
            ],
            [
             1,
             "#f0f921"
            ]
           ]
          },
          "colorway": [
           "#636efa",
           "#EF553B",
           "#00cc96",
           "#ab63fa",
           "#FFA15A",
           "#19d3f3",
           "#FF6692",
           "#B6E880",
           "#FF97FF",
           "#FECB52"
          ],
          "font": {
           "color": "#2a3f5f"
          },
          "geo": {
           "bgcolor": "white",
           "lakecolor": "white",
           "landcolor": "#E5ECF6",
           "showlakes": true,
           "showland": true,
           "subunitcolor": "white"
          },
          "hoverlabel": {
           "align": "left"
          },
          "hovermode": "closest",
          "mapbox": {
           "style": "light"
          },
          "paper_bgcolor": "white",
          "plot_bgcolor": "#E5ECF6",
          "polar": {
           "angularaxis": {
            "gridcolor": "white",
            "linecolor": "white",
            "ticks": ""
           },
           "bgcolor": "#E5ECF6",
           "radialaxis": {
            "gridcolor": "white",
            "linecolor": "white",
            "ticks": ""
           }
          },
          "scene": {
           "xaxis": {
            "backgroundcolor": "#E5ECF6",
            "gridcolor": "white",
            "gridwidth": 2,
            "linecolor": "white",
            "showbackground": true,
            "ticks": "",
            "zerolinecolor": "white"
           },
           "yaxis": {
            "backgroundcolor": "#E5ECF6",
            "gridcolor": "white",
            "gridwidth": 2,
            "linecolor": "white",
            "showbackground": true,
            "ticks": "",
            "zerolinecolor": "white"
           },
           "zaxis": {
            "backgroundcolor": "#E5ECF6",
            "gridcolor": "white",
            "gridwidth": 2,
            "linecolor": "white",
            "showbackground": true,
            "ticks": "",
            "zerolinecolor": "white"
           }
          },
          "shapedefaults": {
           "line": {
            "color": "#2a3f5f"
           }
          },
          "ternary": {
           "aaxis": {
            "gridcolor": "white",
            "linecolor": "white",
            "ticks": ""
           },
           "baxis": {
            "gridcolor": "white",
            "linecolor": "white",
            "ticks": ""
           },
           "bgcolor": "#E5ECF6",
           "caxis": {
            "gridcolor": "white",
            "linecolor": "white",
            "ticks": ""
           }
          },
          "title": {
           "x": 0.05
          },
          "xaxis": {
           "automargin": true,
           "gridcolor": "white",
           "linecolor": "white",
           "ticks": "",
           "title": {
            "standoff": 15
           },
           "zerolinecolor": "white",
           "zerolinewidth": 2
          },
          "yaxis": {
           "automargin": true,
           "gridcolor": "white",
           "linecolor": "white",
           "ticks": "",
           "title": {
            "standoff": 15
           },
           "zerolinecolor": "white",
           "zerolinewidth": 2
          }
         }
        },
        "title": {
         "text": "Percentage of columns in Mimesis test data per class that contain a value<br>that also appears in the training data for the same class"
        },
        "width": 1000,
        "xaxis": {
         "title": {
          "text": "Classes"
         }
        },
        "yaxis": {
         "ticktext": [
          "<b style='color:blue;'>worldview</b>",
          "<b style='color:blue;'>word</b>",
          "version",
          "<b style='color:blue;'>user_agent</b>",
          "<b style='color:blue;'>title</b>",
          "<b style='color:blue;'>system_quality_attribute</b>",
          "<b style='color:blue;'>resolution</b>",
          "<b style='color:blue;'>programming_language</b>",
          "<b style='color:blue;'>political_views</b>",
          "phone_number",
          "<b style='color:blue;'>phone_model</b>",
          "<b style='color:blue;'>occupation</b>",
          "<b style='color:blue;'>nationality</b>",
          "<b style='color:blue;'>measure_unit</b>",
          "<b style='color:blue;'>manufacturer</b>",
          "<b style='color:blue;'>last_name</b>",
          "<b style='color:blue;'>language</b>",
          "isbn",
          "<b style='color:blue;'>integer_number</b>",
          "<b style='color:blue;'>graphics</b>",
          "<b style='color:blue;'>gender</b>",
          "full_name",
          "float_number",
          "<b style='color:blue;'>first_name</b>",
          "email",
          "<b style='color:blue;'>duration</b>",
          "<b style='color:blue;'>drink</b>",
          "<b style='color:blue;'>dish</b>",
          "credit_card_number",
          "<b style='color:blue;'>cpu</b>",
          "<b style='color:blue;'>company</b>",
          "<b style='color:blue;'>color</b>",
          "<b style='color:blue;'>city</b>",
          "<b style='color:blue;'>blood_type</b>",
          "<b style='color:blue;'>answer</b>",
          "address",
          "<b style='color:blue;'>academic_degree</b>"
         ],
         "tickvals": [
          "worldview",
          "word",
          "version",
          "user_agent",
          "title",
          "system_quality_attribute",
          "resolution",
          "programming_language",
          "political_views",
          "phone_number",
          "phone_model",
          "occupation",
          "nationality",
          "measure_unit",
          "manufacturer",
          "last_name",
          "language",
          "isbn",
          "integer_number",
          "graphics",
          "gender",
          "full_name",
          "float_number",
          "first_name",
          "email",
          "duration",
          "drink",
          "dish",
          "credit_card_number",
          "cpu",
          "company",
          "color",
          "city",
          "blood_type",
          "answer",
          "address",
          "academic_degree"
         ],
         "title": {
          "text": "Percentage"
         }
        }
       }
      }
     },
     "metadata": {},
     "output_type": "display_data"
    }
   ],
   "source": [
    "fig = go.Figure()\n",
    "fig.add_trace(go.Bar(y=list(sol.keys()), x=[a.get(False) for a in sol.values()], name=\"does not contain<br>element from train\",\n",
    "                      orientation='h', marker=dict(color=\"green\")))\n",
    "fig.add_trace(go.Bar(y=list(sol.keys()), x=[a.get(True) for a in sol.values()], name=\"contains element<br>from train\", orientation='h', marker=dict(color=\"red\")))\n",
    "fig.update_layout(barmode='stack', title=\"Percentage of columns in Mimesis test data per class that contain a value<br>that also appears in the training data for the same class\", \n",
    "                  width=1000, height=1300)\n",
    "fig.update_xaxes(title=\"Classes\")\n",
    "fig.update_yaxes(title=\"Percentage\")\n",
    "\n",
    "highlighted_classes = duplicates_allowed  # Replace with your keys to highlight\n",
    "custom_labels = [\n",
    "    f\"<b style='color:blue;'>{key}</b>\" if key in highlighted_classes else key\n",
    "    for key in sol.keys()\n",
    "]\n",
    "\n",
    "fig.update_yaxes(\n",
    "    ticktext=custom_labels,\n",
    "    tickvals=list(sol.keys()),  # Ensure alignment of ticks and custom labels\n",
    "    title=\"Percentage\"\n",
    ")\n",
    "\n",
    "fig.add_trace(\n",
    "    go.Scatter(\n",
    "        x=[None],  # Empty trace\n",
    "        y=[None],\n",
    "        mode='markers',\n",
    "        marker=dict(color='blue', size=10),\n",
    "        name=\"Classes allowed to contain training data\"\n",
    "    )\n",
    ")\n",
    "\n",
    "fig.show()"
   ]
  },
  {
   "cell_type": "markdown",
   "metadata": {},
   "source": [
    "# Faker"
   ]
  },
  {
   "cell_type": "code",
   "execution_count": 19,
   "metadata": {},
   "outputs": [
    {
     "name": "stderr",
     "output_type": "stream",
     "text": [
      "C:\\Users\\Luca\\AppData\\Local\\Temp\\ipykernel_20164\\3386094798.py:12: DtypeWarning:\n",
      "\n",
      "Columns (673,711,1251,1458,1502,1734,1847,1856,1878,1937,2085,2498,2760,3043,3617,4024,4165,4409,4563,4708,4912,5353,5446,5724,6034,6381,6505,6781,7835,8237,8587,8891,9099,9104,9815,9853,10586,10948,11316,11571,13141,13847,13910,14134,14212,14381,14839,15295,15582,16355,16368,18340,18731) have mixed types. Specify dtype option on import or set low_memory=False.\n",
      "\n"
     ]
    }
   ],
   "source": [
    "train_faker, dev_faker, test_faker = load_data('../../dessi-mf/faker/', labels=False)"
   ]
  },
  {
   "cell_type": "code",
   "execution_count": 20,
   "metadata": {},
   "outputs": [],
   "source": [
    "train_dev_faker = train_faker.merge(dev_faker, left_index=True, right_index=True)\n",
    "train_dev_faker = adjust_labels(train_dev_faker)\n",
    "test_faker = adjust_labels(test_faker)"
   ]
  },
  {
   "cell_type": "code",
   "execution_count": 21,
   "metadata": {},
   "outputs": [],
   "source": [
    "sol = dict()\n",
    "for label in train_dev_faker.loc[100].unique():\n",
    "    s = train_dev_faker.loc[100] == label\n",
    "    train_dev = train_dev_faker.iloc[:100,:]\n",
    "    train_data = set(train_dev[s.index[s==True].tolist()].values.flatten()) \n",
    "    s2 = test_faker.loc[100] == label\n",
    "    \n",
    "    has_value = []\n",
    "    test = test_faker.iloc[:100,:]\n",
    "    for c in s2.index[s2==True].tolist():\n",
    "        has_value.append(any(val in train_data for val in test[c].values))\n",
    "    sol[label] = dict(pd.Series(has_value).value_counts(normalize=True))\n",
    "sol = {key: sol[key] for key in sorted(sol.keys(), reverse=True)}"
   ]
  },
  {
   "cell_type": "code",
   "execution_count": 22,
   "metadata": {},
   "outputs": [],
   "source": [
    "personal_attributes = [\n",
    "    \"address\", \"iban\",\"swift\",\"credit_card_number\", \"email\",\n",
    "    \"job\",\"first_name\",\"last_name\",\"name\",\"phone_number\",\n",
    "    \"profile\",\"ssn\",\"passport_owner\"\n",
    "]\n",
    "\n",
    "profile_attributes = [\n",
    "    \"sex\", \"blood_group\", \"current_location\"\n",
    "]\n",
    "\n",
    "non_personal_attributes = [\n",
    "    \"color\",\"ean\",\"credit_card_provider\",\"company\",\"currency\",\n",
    "    \"url\",\"isbn13\",\"pyint\",\"pyfloat\", \"date\"\n",
    "]\n",
    "\n",
    "personal_attributes_unique = [\n",
    "    \"address\",\"iban\",\"swift\",\"credit_card_number\",\"email\",\n",
    "    \"name\",\"phone_number\", \"ssn\",\"passport_owner\"\n",
    "]\n",
    "\n",
    "profile_attributes_unique = [\"current_location\"]\n",
    "\n",
    "non_personal_attributes_unique = [\n",
    "    \"color\",\"ean\", \"isbn13\", \"pyfloat\"\n",
    "    ]\n",
    "\n",
    "duplicates_allowed = set(personal_attributes + non_personal_attributes + profile_attributes) - {\"profile\"}\n",
    "duplicates_allowed = duplicates_allowed - set(personal_attributes_unique) - set(non_personal_attributes_unique) - set(profile_attributes_unique)"
   ]
  },
  {
   "cell_type": "code",
   "execution_count": 23,
   "metadata": {},
   "outputs": [
    {
     "data": {
      "application/vnd.plotly.v1+json": {
       "config": {
        "plotlyServerURL": "https://plot.ly"
       },
       "data": [
        {
         "marker": {
          "color": "green"
         },
         "name": "does not contain<br>element from train",
         "orientation": "h",
         "type": "bar",
         "x": [
          null,
          1,
          1,
          null,
          null,
          1,
          1,
          1,
          1,
          null,
          null,
          1,
          1,
          null,
          1,
          1,
          null,
          1,
          null,
          null,
          1,
          null,
          1,
          null,
          1
         ],
         "y": [
          "url",
          "swift",
          "ssn",
          "sex",
          "pyint",
          "pyfloat",
          "phone_number",
          "passport_number",
          "name",
          "last_name",
          "job",
          "isbn13",
          "iban",
          "first_name",
          "email",
          "ean",
          "date",
          "current_location",
          "currency",
          "credit_card_provider",
          "credit_card_number",
          "company",
          "color",
          "blood_group",
          "address"
         ]
        },
        {
         "marker": {
          "color": "red"
         },
         "name": "contains element<br>from train",
         "orientation": "h",
         "type": "bar",
         "x": [
          1,
          null,
          null,
          1,
          1,
          null,
          null,
          null,
          null,
          1,
          1,
          null,
          null,
          1,
          null,
          null,
          1,
          null,
          1,
          1,
          null,
          1,
          null,
          1,
          null
         ],
         "y": [
          "url",
          "swift",
          "ssn",
          "sex",
          "pyint",
          "pyfloat",
          "phone_number",
          "passport_number",
          "name",
          "last_name",
          "job",
          "isbn13",
          "iban",
          "first_name",
          "email",
          "ean",
          "date",
          "current_location",
          "currency",
          "credit_card_provider",
          "credit_card_number",
          "company",
          "color",
          "blood_group",
          "address"
         ]
        },
        {
         "marker": {
          "color": "blue",
          "size": 10
         },
         "mode": "markers",
         "name": "Classes allowed to contain training data",
         "type": "scatter",
         "x": [
          null
         ],
         "y": [
          null
         ]
        }
       ],
       "layout": {
        "barmode": "stack",
        "height": 900,
        "template": {
         "data": {
          "bar": [
           {
            "error_x": {
             "color": "#2a3f5f"
            },
            "error_y": {
             "color": "#2a3f5f"
            },
            "marker": {
             "line": {
              "color": "#E5ECF6",
              "width": 0.5
             },
             "pattern": {
              "fillmode": "overlay",
              "size": 10,
              "solidity": 0.2
             }
            },
            "type": "bar"
           }
          ],
          "barpolar": [
           {
            "marker": {
             "line": {
              "color": "#E5ECF6",
              "width": 0.5
             },
             "pattern": {
              "fillmode": "overlay",
              "size": 10,
              "solidity": 0.2
             }
            },
            "type": "barpolar"
           }
          ],
          "carpet": [
           {
            "aaxis": {
             "endlinecolor": "#2a3f5f",
             "gridcolor": "white",
             "linecolor": "white",
             "minorgridcolor": "white",
             "startlinecolor": "#2a3f5f"
            },
            "baxis": {
             "endlinecolor": "#2a3f5f",
             "gridcolor": "white",
             "linecolor": "white",
             "minorgridcolor": "white",
             "startlinecolor": "#2a3f5f"
            },
            "type": "carpet"
           }
          ],
          "choropleth": [
           {
            "colorbar": {
             "outlinewidth": 0,
             "ticks": ""
            },
            "type": "choropleth"
           }
          ],
          "contour": [
           {
            "colorbar": {
             "outlinewidth": 0,
             "ticks": ""
            },
            "colorscale": [
             [
              0,
              "#0d0887"
             ],
             [
              0.1111111111111111,
              "#46039f"
             ],
             [
              0.2222222222222222,
              "#7201a8"
             ],
             [
              0.3333333333333333,
              "#9c179e"
             ],
             [
              0.4444444444444444,
              "#bd3786"
             ],
             [
              0.5555555555555556,
              "#d8576b"
             ],
             [
              0.6666666666666666,
              "#ed7953"
             ],
             [
              0.7777777777777778,
              "#fb9f3a"
             ],
             [
              0.8888888888888888,
              "#fdca26"
             ],
             [
              1,
              "#f0f921"
             ]
            ],
            "type": "contour"
           }
          ],
          "contourcarpet": [
           {
            "colorbar": {
             "outlinewidth": 0,
             "ticks": ""
            },
            "type": "contourcarpet"
           }
          ],
          "heatmap": [
           {
            "colorbar": {
             "outlinewidth": 0,
             "ticks": ""
            },
            "colorscale": [
             [
              0,
              "#0d0887"
             ],
             [
              0.1111111111111111,
              "#46039f"
             ],
             [
              0.2222222222222222,
              "#7201a8"
             ],
             [
              0.3333333333333333,
              "#9c179e"
             ],
             [
              0.4444444444444444,
              "#bd3786"
             ],
             [
              0.5555555555555556,
              "#d8576b"
             ],
             [
              0.6666666666666666,
              "#ed7953"
             ],
             [
              0.7777777777777778,
              "#fb9f3a"
             ],
             [
              0.8888888888888888,
              "#fdca26"
             ],
             [
              1,
              "#f0f921"
             ]
            ],
            "type": "heatmap"
           }
          ],
          "heatmapgl": [
           {
            "colorbar": {
             "outlinewidth": 0,
             "ticks": ""
            },
            "colorscale": [
             [
              0,
              "#0d0887"
             ],
             [
              0.1111111111111111,
              "#46039f"
             ],
             [
              0.2222222222222222,
              "#7201a8"
             ],
             [
              0.3333333333333333,
              "#9c179e"
             ],
             [
              0.4444444444444444,
              "#bd3786"
             ],
             [
              0.5555555555555556,
              "#d8576b"
             ],
             [
              0.6666666666666666,
              "#ed7953"
             ],
             [
              0.7777777777777778,
              "#fb9f3a"
             ],
             [
              0.8888888888888888,
              "#fdca26"
             ],
             [
              1,
              "#f0f921"
             ]
            ],
            "type": "heatmapgl"
           }
          ],
          "histogram": [
           {
            "marker": {
             "pattern": {
              "fillmode": "overlay",
              "size": 10,
              "solidity": 0.2
             }
            },
            "type": "histogram"
           }
          ],
          "histogram2d": [
           {
            "colorbar": {
             "outlinewidth": 0,
             "ticks": ""
            },
            "colorscale": [
             [
              0,
              "#0d0887"
             ],
             [
              0.1111111111111111,
              "#46039f"
             ],
             [
              0.2222222222222222,
              "#7201a8"
             ],
             [
              0.3333333333333333,
              "#9c179e"
             ],
             [
              0.4444444444444444,
              "#bd3786"
             ],
             [
              0.5555555555555556,
              "#d8576b"
             ],
             [
              0.6666666666666666,
              "#ed7953"
             ],
             [
              0.7777777777777778,
              "#fb9f3a"
             ],
             [
              0.8888888888888888,
              "#fdca26"
             ],
             [
              1,
              "#f0f921"
             ]
            ],
            "type": "histogram2d"
           }
          ],
          "histogram2dcontour": [
           {
            "colorbar": {
             "outlinewidth": 0,
             "ticks": ""
            },
            "colorscale": [
             [
              0,
              "#0d0887"
             ],
             [
              0.1111111111111111,
              "#46039f"
             ],
             [
              0.2222222222222222,
              "#7201a8"
             ],
             [
              0.3333333333333333,
              "#9c179e"
             ],
             [
              0.4444444444444444,
              "#bd3786"
             ],
             [
              0.5555555555555556,
              "#d8576b"
             ],
             [
              0.6666666666666666,
              "#ed7953"
             ],
             [
              0.7777777777777778,
              "#fb9f3a"
             ],
             [
              0.8888888888888888,
              "#fdca26"
             ],
             [
              1,
              "#f0f921"
             ]
            ],
            "type": "histogram2dcontour"
           }
          ],
          "mesh3d": [
           {
            "colorbar": {
             "outlinewidth": 0,
             "ticks": ""
            },
            "type": "mesh3d"
           }
          ],
          "parcoords": [
           {
            "line": {
             "colorbar": {
              "outlinewidth": 0,
              "ticks": ""
             }
            },
            "type": "parcoords"
           }
          ],
          "pie": [
           {
            "automargin": true,
            "type": "pie"
           }
          ],
          "scatter": [
           {
            "fillpattern": {
             "fillmode": "overlay",
             "size": 10,
             "solidity": 0.2
            },
            "type": "scatter"
           }
          ],
          "scatter3d": [
           {
            "line": {
             "colorbar": {
              "outlinewidth": 0,
              "ticks": ""
             }
            },
            "marker": {
             "colorbar": {
              "outlinewidth": 0,
              "ticks": ""
             }
            },
            "type": "scatter3d"
           }
          ],
          "scattercarpet": [
           {
            "marker": {
             "colorbar": {
              "outlinewidth": 0,
              "ticks": ""
             }
            },
            "type": "scattercarpet"
           }
          ],
          "scattergeo": [
           {
            "marker": {
             "colorbar": {
              "outlinewidth": 0,
              "ticks": ""
             }
            },
            "type": "scattergeo"
           }
          ],
          "scattergl": [
           {
            "marker": {
             "colorbar": {
              "outlinewidth": 0,
              "ticks": ""
             }
            },
            "type": "scattergl"
           }
          ],
          "scattermapbox": [
           {
            "marker": {
             "colorbar": {
              "outlinewidth": 0,
              "ticks": ""
             }
            },
            "type": "scattermapbox"
           }
          ],
          "scatterpolar": [
           {
            "marker": {
             "colorbar": {
              "outlinewidth": 0,
              "ticks": ""
             }
            },
            "type": "scatterpolar"
           }
          ],
          "scatterpolargl": [
           {
            "marker": {
             "colorbar": {
              "outlinewidth": 0,
              "ticks": ""
             }
            },
            "type": "scatterpolargl"
           }
          ],
          "scatterternary": [
           {
            "marker": {
             "colorbar": {
              "outlinewidth": 0,
              "ticks": ""
             }
            },
            "type": "scatterternary"
           }
          ],
          "surface": [
           {
            "colorbar": {
             "outlinewidth": 0,
             "ticks": ""
            },
            "colorscale": [
             [
              0,
              "#0d0887"
             ],
             [
              0.1111111111111111,
              "#46039f"
             ],
             [
              0.2222222222222222,
              "#7201a8"
             ],
             [
              0.3333333333333333,
              "#9c179e"
             ],
             [
              0.4444444444444444,
              "#bd3786"
             ],
             [
              0.5555555555555556,
              "#d8576b"
             ],
             [
              0.6666666666666666,
              "#ed7953"
             ],
             [
              0.7777777777777778,
              "#fb9f3a"
             ],
             [
              0.8888888888888888,
              "#fdca26"
             ],
             [
              1,
              "#f0f921"
             ]
            ],
            "type": "surface"
           }
          ],
          "table": [
           {
            "cells": {
             "fill": {
              "color": "#EBF0F8"
             },
             "line": {
              "color": "white"
             }
            },
            "header": {
             "fill": {
              "color": "#C8D4E3"
             },
             "line": {
              "color": "white"
             }
            },
            "type": "table"
           }
          ]
         },
         "layout": {
          "annotationdefaults": {
           "arrowcolor": "#2a3f5f",
           "arrowhead": 0,
           "arrowwidth": 1
          },
          "autotypenumbers": "strict",
          "coloraxis": {
           "colorbar": {
            "outlinewidth": 0,
            "ticks": ""
           }
          },
          "colorscale": {
           "diverging": [
            [
             0,
             "#8e0152"
            ],
            [
             0.1,
             "#c51b7d"
            ],
            [
             0.2,
             "#de77ae"
            ],
            [
             0.3,
             "#f1b6da"
            ],
            [
             0.4,
             "#fde0ef"
            ],
            [
             0.5,
             "#f7f7f7"
            ],
            [
             0.6,
             "#e6f5d0"
            ],
            [
             0.7,
             "#b8e186"
            ],
            [
             0.8,
             "#7fbc41"
            ],
            [
             0.9,
             "#4d9221"
            ],
            [
             1,
             "#276419"
            ]
           ],
           "sequential": [
            [
             0,
             "#0d0887"
            ],
            [
             0.1111111111111111,
             "#46039f"
            ],
            [
             0.2222222222222222,
             "#7201a8"
            ],
            [
             0.3333333333333333,
             "#9c179e"
            ],
            [
             0.4444444444444444,
             "#bd3786"
            ],
            [
             0.5555555555555556,
             "#d8576b"
            ],
            [
             0.6666666666666666,
             "#ed7953"
            ],
            [
             0.7777777777777778,
             "#fb9f3a"
            ],
            [
             0.8888888888888888,
             "#fdca26"
            ],
            [
             1,
             "#f0f921"
            ]
           ],
           "sequentialminus": [
            [
             0,
             "#0d0887"
            ],
            [
             0.1111111111111111,
             "#46039f"
            ],
            [
             0.2222222222222222,
             "#7201a8"
            ],
            [
             0.3333333333333333,
             "#9c179e"
            ],
            [
             0.4444444444444444,
             "#bd3786"
            ],
            [
             0.5555555555555556,
             "#d8576b"
            ],
            [
             0.6666666666666666,
             "#ed7953"
            ],
            [
             0.7777777777777778,
             "#fb9f3a"
            ],
            [
             0.8888888888888888,
             "#fdca26"
            ],
            [
             1,
             "#f0f921"
            ]
           ]
          },
          "colorway": [
           "#636efa",
           "#EF553B",
           "#00cc96",
           "#ab63fa",
           "#FFA15A",
           "#19d3f3",
           "#FF6692",
           "#B6E880",
           "#FF97FF",
           "#FECB52"
          ],
          "font": {
           "color": "#2a3f5f"
          },
          "geo": {
           "bgcolor": "white",
           "lakecolor": "white",
           "landcolor": "#E5ECF6",
           "showlakes": true,
           "showland": true,
           "subunitcolor": "white"
          },
          "hoverlabel": {
           "align": "left"
          },
          "hovermode": "closest",
          "mapbox": {
           "style": "light"
          },
          "paper_bgcolor": "white",
          "plot_bgcolor": "#E5ECF6",
          "polar": {
           "angularaxis": {
            "gridcolor": "white",
            "linecolor": "white",
            "ticks": ""
           },
           "bgcolor": "#E5ECF6",
           "radialaxis": {
            "gridcolor": "white",
            "linecolor": "white",
            "ticks": ""
           }
          },
          "scene": {
           "xaxis": {
            "backgroundcolor": "#E5ECF6",
            "gridcolor": "white",
            "gridwidth": 2,
            "linecolor": "white",
            "showbackground": true,
            "ticks": "",
            "zerolinecolor": "white"
           },
           "yaxis": {
            "backgroundcolor": "#E5ECF6",
            "gridcolor": "white",
            "gridwidth": 2,
            "linecolor": "white",
            "showbackground": true,
            "ticks": "",
            "zerolinecolor": "white"
           },
           "zaxis": {
            "backgroundcolor": "#E5ECF6",
            "gridcolor": "white",
            "gridwidth": 2,
            "linecolor": "white",
            "showbackground": true,
            "ticks": "",
            "zerolinecolor": "white"
           }
          },
          "shapedefaults": {
           "line": {
            "color": "#2a3f5f"
           }
          },
          "ternary": {
           "aaxis": {
            "gridcolor": "white",
            "linecolor": "white",
            "ticks": ""
           },
           "baxis": {
            "gridcolor": "white",
            "linecolor": "white",
            "ticks": ""
           },
           "bgcolor": "#E5ECF6",
           "caxis": {
            "gridcolor": "white",
            "linecolor": "white",
            "ticks": ""
           }
          },
          "title": {
           "x": 0.05
          },
          "xaxis": {
           "automargin": true,
           "gridcolor": "white",
           "linecolor": "white",
           "ticks": "",
           "title": {
            "standoff": 15
           },
           "zerolinecolor": "white",
           "zerolinewidth": 2
          },
          "yaxis": {
           "automargin": true,
           "gridcolor": "white",
           "linecolor": "white",
           "ticks": "",
           "title": {
            "standoff": 15
           },
           "zerolinecolor": "white",
           "zerolinewidth": 2
          }
         }
        },
        "title": {
         "text": "Percentage of columns in Faker test data per class that contain a value<br>that also appears in the training data for the same class"
        },
        "width": 1000,
        "xaxis": {
         "title": {
          "text": "Classes"
         }
        },
        "yaxis": {
         "ticktext": [
          "<b style='color:blue;'>url</b>",
          "swift",
          "ssn",
          "<b style='color:blue;'>sex</b>",
          "<b style='color:blue;'>pyint</b>",
          "pyfloat",
          "phone_number",
          "passport_number",
          "name",
          "<b style='color:blue;'>last_name</b>",
          "<b style='color:blue;'>job</b>",
          "isbn13",
          "iban",
          "<b style='color:blue;'>first_name</b>",
          "email",
          "ean",
          "<b style='color:blue;'>date</b>",
          "current_location",
          "<b style='color:blue;'>currency</b>",
          "<b style='color:blue;'>credit_card_provider</b>",
          "credit_card_number",
          "<b style='color:blue;'>company</b>",
          "color",
          "<b style='color:blue;'>blood_group</b>",
          "address"
         ],
         "tickvals": [
          "url",
          "swift",
          "ssn",
          "sex",
          "pyint",
          "pyfloat",
          "phone_number",
          "passport_number",
          "name",
          "last_name",
          "job",
          "isbn13",
          "iban",
          "first_name",
          "email",
          "ean",
          "date",
          "current_location",
          "currency",
          "credit_card_provider",
          "credit_card_number",
          "company",
          "color",
          "blood_group",
          "address"
         ],
         "title": {
          "text": "Percentage"
         }
        }
       }
      }
     },
     "metadata": {},
     "output_type": "display_data"
    }
   ],
   "source": [
    "fig = go.Figure()\n",
    "fig.add_trace(go.Bar(y=list(sol.keys()), x=[a.get(False) for a in sol.values()], name=\"does not contain<br>element from train\",\n",
    "                      orientation='h', marker=dict(color=\"green\")))\n",
    "fig.add_trace(go.Bar(y=list(sol.keys()), x=[a.get(True) for a in sol.values()], name=\"contains element<br>from train\", orientation='h', marker=dict(color=\"red\")))\n",
    "fig.update_layout(barmode='stack', title=\"Percentage of columns in Faker test data per class that contain a value<br>that also appears in the training data for the same class\", \n",
    "                  width=1000, height=900)\n",
    "fig.update_xaxes(title=\"Classes\")\n",
    "fig.update_yaxes(title=\"Percentage\")\n",
    "\n",
    "highlighted_classes = duplicates_allowed  # Replace with your keys to highlight\n",
    "custom_labels = [\n",
    "    f\"<b style='color:blue;'>{key}</b>\" if key in highlighted_classes else key\n",
    "    for key in sol.keys()\n",
    "]\n",
    "\n",
    "fig.update_yaxes(\n",
    "    ticktext=custom_labels,\n",
    "    tickvals=list(sol.keys()),  # Ensure alignment of ticks and custom labels\n",
    "    title=\"Percentage\"\n",
    ")\n",
    "\n",
    "fig.add_trace(\n",
    "    go.Scatter(\n",
    "        x=[None],  # Empty trace\n",
    "        y=[None],\n",
    "        mode='markers',\n",
    "        marker=dict(color='blue', size=10),\n",
    "        name=\"Classes allowed to contain training data\"\n",
    "    )\n",
    ")\n",
    "\n",
    "fig.show()"
   ]
  },
  {
   "cell_type": "markdown",
   "metadata": {},
   "source": [
    "# Combination of all three Datasets"
   ]
  },
  {
   "cell_type": "code",
   "execution_count": 24,
   "metadata": {},
   "outputs": [
    {
     "name": "stderr",
     "output_type": "stream",
     "text": [
      "C:\\Users\\Luca\\AppData\\Local\\Temp\\ipykernel_20164\\3386094798.py:12: DtypeWarning:\n",
      "\n",
      "Columns (1064,1244,1756,1839,2016,2089,2405,2842,3037,3480,3495,4183,4278,5216,5978,6085,6208,6652,7602,7707,7722,7855,8474,9458,9821,10964,11572,12124,13546,14228,14630,14996,15060,16533,17405,18488,18831,19707,19792,20219,20440,20494,22031,22439,22659,22730,23028,24180,24227,25069,26422,27362,27917,28351,28586,30127,30376,30408,31655,31759,31867,32396,32561,33209,33682,34142,34173,34349,35084,36234,36248,36527,37252,37775,37879,38357,39070,39280,40053,40358,42044,42507,43106) have mixed types. Specify dtype option on import or set low_memory=False.\n",
      "\n"
     ]
    }
   ],
   "source": [
    "train_all, dev_all, test_all = load_data(f'../../dessi-mf/dessi-mf/', labels=False)"
   ]
  },
  {
   "cell_type": "code",
   "execution_count": 25,
   "metadata": {},
   "outputs": [],
   "source": [
    "train_dev_all= train_all.merge(dev_all, left_index=True, right_index=True)\n",
    "train_dev_all = adjust_labels(train_dev_all)\n",
    "test_all = adjust_labels(test_all)"
   ]
  },
  {
   "cell_type": "code",
   "execution_count": 26,
   "metadata": {},
   "outputs": [],
   "source": [
    "sol = dict()\n",
    "for label in train_dev_all.loc[100].unique():\n",
    "    s = train_dev_all.loc[100] == label\n",
    "    train_dev = train_dev_all.iloc[:100,:]\n",
    "    train_data = set(train_dev[s.index[s==True].tolist()].values.flatten()) \n",
    "    s2 = test_all.loc[100] == label\n",
    "    \n",
    "    has_value = []\n",
    "    test = test_all.iloc[:100,:]\n",
    "    for c in s2.index[s2==True].tolist():\n",
    "        has_value.append(any(val in train_data for val in test[c].values))\n",
    "    sol[label] = dict(pd.Series(has_value, dtype=\"object\").value_counts(normalize=True))\n",
    "sol = {key: sol[key] for key in sorted(sol.keys(), reverse=True)}"
   ]
  },
  {
   "cell_type": "code",
   "execution_count": 27,
   "metadata": {},
   "outputs": [],
   "source": [
    "highlighted_classes = {\"Nationality\", \"Religion\", \"Gender\", \"Sexuality\", \"Race\"}\n",
    "unique_dessi = set([a for a in train_dessi.iloc[100,:].value_counts().keys() if \",\" not in str(a)]) - highlighted_classes\n",
    "\n",
    "unique_attributes = [\n",
    "            \"address\", \"email\", \"full_name\",\n",
    "            \"phone_number\", \"credit_card_number\",\n",
    "            \"isbn\", \"version\", \"float_number\", \"current_location\", \n",
    "            \"iban\", \"swift\", \"ssn\", \"passport_owner\", \"name\", \"ean\", \"pyfloat\", \"isbn13\"]\n",
    "\n",
    "unique_attributes = set(unique_attributes).union(unique_dessi)\n",
    "duplicates_allowed = set(sol.keys()) - unique_attributes"
   ]
  },
  {
   "cell_type": "code",
   "execution_count": 28,
   "metadata": {},
   "outputs": [
    {
     "data": {
      "application/vnd.plotly.v1+json": {
       "config": {
        "plotlyServerURL": "https://plot.ly"
       },
       "data": [
        {
         "marker": {
          "color": "green"
         },
         "name": "does not contain<br>element from train",
         "orientation": "h",
         "type": "bar",
         "x": [
          null,
          null,
          1,
          null,
          null,
          null,
          null,
          1,
          1,
          null,
          null,
          null,
          1,
          null,
          null,
          1,
          null,
          1,
          null,
          null,
          1,
          null,
          null,
          null,
          null,
          null,
          1,
          1,
          null,
          1,
          null,
          null,
          1,
          1,
          null,
          1,
          1,
          null,
          null,
          null,
          null,
          1,
          null,
          null,
          1,
          null,
          null,
          0.6568848758465011,
          null,
          null,
          null,
          null,
          1,
          null,
          null,
          1,
          null,
          null,
          1,
          1,
          1,
          1,
          1,
          null,
          1,
          1,
          1,
          1,
          1,
          1,
          1,
          null,
          1,
          1,
          1,
          1,
          1,
          1,
          1
         ],
         "y": [
          "worldview",
          "word",
          "version",
          "user_agent",
          "url",
          "title",
          "system_quality_attribute",
          "swift",
          "ssn",
          "sex",
          "resolution",
          "pyint",
          "pyfloat",
          "programming_language",
          "political_views",
          "phone_number",
          "phone_model",
          "passport_number",
          "occupation",
          "nationality",
          "name",
          "measure_unit",
          "manufacturer",
          "last_name",
          "language",
          "job",
          "isbn13",
          "isbn",
          "integer_number",
          "iban",
          "graphics",
          "gender",
          "full_name",
          "float_number",
          "first_name",
          "email",
          "ean",
          "duration",
          "drink",
          "dish",
          "date",
          "current_location",
          "currency",
          "credit_card_provider",
          "credit_card_number",
          "cpu",
          "company",
          "color",
          "city",
          "blood_type",
          "blood_group",
          "answer",
          "address",
          "academic_degree",
          "Sexuality",
          "SWIFT/BIC",
          "Religion",
          "Race",
          "Phone_number,NIN",
          "Phone_number,Email",
          "Phone_number",
          "Passport",
          "Organization",
          "Nationality",
          "NIN,Phone_number",
          "NIN,Email",
          "NIN,Date",
          "NIN",
          "ID_Card",
          "IBAN",
          "Geolocation",
          "Gender",
          "GPE",
          "Email,Phone_number",
          "Email,NIN",
          "Email",
          "Date,NIN",
          "Date",
          "CCN"
         ]
        },
        {
         "marker": {
          "color": "red"
         },
         "name": "contains element<br>from train",
         "orientation": "h",
         "type": "bar",
         "x": [
          1,
          1,
          null,
          1,
          1,
          1,
          1,
          null,
          null,
          1,
          1,
          1,
          null,
          1,
          1,
          null,
          1,
          null,
          1,
          1,
          null,
          1,
          1,
          1,
          1,
          1,
          null,
          null,
          1,
          null,
          1,
          1,
          null,
          null,
          1,
          null,
          null,
          1,
          1,
          1,
          1,
          null,
          1,
          1,
          null,
          1,
          1,
          0.3431151241534989,
          1,
          1,
          1,
          1,
          null,
          1,
          1,
          null,
          1,
          1,
          null,
          null,
          null,
          null,
          null,
          1,
          null,
          null,
          null,
          null,
          null,
          null,
          null,
          1,
          null,
          null,
          null,
          null,
          null,
          null,
          null
         ],
         "y": [
          "worldview",
          "word",
          "version",
          "user_agent",
          "url",
          "title",
          "system_quality_attribute",
          "swift",
          "ssn",
          "sex",
          "resolution",
          "pyint",
          "pyfloat",
          "programming_language",
          "political_views",
          "phone_number",
          "phone_model",
          "passport_number",
          "occupation",
          "nationality",
          "name",
          "measure_unit",
          "manufacturer",
          "last_name",
          "language",
          "job",
          "isbn13",
          "isbn",
          "integer_number",
          "iban",
          "graphics",
          "gender",
          "full_name",
          "float_number",
          "first_name",
          "email",
          "ean",
          "duration",
          "drink",
          "dish",
          "date",
          "current_location",
          "currency",
          "credit_card_provider",
          "credit_card_number",
          "cpu",
          "company",
          "color",
          "city",
          "blood_type",
          "blood_group",
          "answer",
          "address",
          "academic_degree",
          "Sexuality",
          "SWIFT/BIC",
          "Religion",
          "Race",
          "Phone_number,NIN",
          "Phone_number,Email",
          "Phone_number",
          "Passport",
          "Organization",
          "Nationality",
          "NIN,Phone_number",
          "NIN,Email",
          "NIN,Date",
          "NIN",
          "ID_Card",
          "IBAN",
          "Geolocation",
          "Gender",
          "GPE",
          "Email,Phone_number",
          "Email,NIN",
          "Email",
          "Date,NIN",
          "Date",
          "CCN"
         ]
        },
        {
         "marker": {
          "color": "blue",
          "size": 10
         },
         "mode": "markers",
         "name": "Classes allowed to contain training data",
         "type": "scatter",
         "x": [
          null
         ],
         "y": [
          null
         ]
        }
       ],
       "layout": {
        "barmode": "stack",
        "height": 1300,
        "template": {
         "data": {
          "bar": [
           {
            "error_x": {
             "color": "#2a3f5f"
            },
            "error_y": {
             "color": "#2a3f5f"
            },
            "marker": {
             "line": {
              "color": "#E5ECF6",
              "width": 0.5
             },
             "pattern": {
              "fillmode": "overlay",
              "size": 10,
              "solidity": 0.2
             }
            },
            "type": "bar"
           }
          ],
          "barpolar": [
           {
            "marker": {
             "line": {
              "color": "#E5ECF6",
              "width": 0.5
             },
             "pattern": {
              "fillmode": "overlay",
              "size": 10,
              "solidity": 0.2
             }
            },
            "type": "barpolar"
           }
          ],
          "carpet": [
           {
            "aaxis": {
             "endlinecolor": "#2a3f5f",
             "gridcolor": "white",
             "linecolor": "white",
             "minorgridcolor": "white",
             "startlinecolor": "#2a3f5f"
            },
            "baxis": {
             "endlinecolor": "#2a3f5f",
             "gridcolor": "white",
             "linecolor": "white",
             "minorgridcolor": "white",
             "startlinecolor": "#2a3f5f"
            },
            "type": "carpet"
           }
          ],
          "choropleth": [
           {
            "colorbar": {
             "outlinewidth": 0,
             "ticks": ""
            },
            "type": "choropleth"
           }
          ],
          "contour": [
           {
            "colorbar": {
             "outlinewidth": 0,
             "ticks": ""
            },
            "colorscale": [
             [
              0,
              "#0d0887"
             ],
             [
              0.1111111111111111,
              "#46039f"
             ],
             [
              0.2222222222222222,
              "#7201a8"
             ],
             [
              0.3333333333333333,
              "#9c179e"
             ],
             [
              0.4444444444444444,
              "#bd3786"
             ],
             [
              0.5555555555555556,
              "#d8576b"
             ],
             [
              0.6666666666666666,
              "#ed7953"
             ],
             [
              0.7777777777777778,
              "#fb9f3a"
             ],
             [
              0.8888888888888888,
              "#fdca26"
             ],
             [
              1,
              "#f0f921"
             ]
            ],
            "type": "contour"
           }
          ],
          "contourcarpet": [
           {
            "colorbar": {
             "outlinewidth": 0,
             "ticks": ""
            },
            "type": "contourcarpet"
           }
          ],
          "heatmap": [
           {
            "colorbar": {
             "outlinewidth": 0,
             "ticks": ""
            },
            "colorscale": [
             [
              0,
              "#0d0887"
             ],
             [
              0.1111111111111111,
              "#46039f"
             ],
             [
              0.2222222222222222,
              "#7201a8"
             ],
             [
              0.3333333333333333,
              "#9c179e"
             ],
             [
              0.4444444444444444,
              "#bd3786"
             ],
             [
              0.5555555555555556,
              "#d8576b"
             ],
             [
              0.6666666666666666,
              "#ed7953"
             ],
             [
              0.7777777777777778,
              "#fb9f3a"
             ],
             [
              0.8888888888888888,
              "#fdca26"
             ],
             [
              1,
              "#f0f921"
             ]
            ],
            "type": "heatmap"
           }
          ],
          "heatmapgl": [
           {
            "colorbar": {
             "outlinewidth": 0,
             "ticks": ""
            },
            "colorscale": [
             [
              0,
              "#0d0887"
             ],
             [
              0.1111111111111111,
              "#46039f"
             ],
             [
              0.2222222222222222,
              "#7201a8"
             ],
             [
              0.3333333333333333,
              "#9c179e"
             ],
             [
              0.4444444444444444,
              "#bd3786"
             ],
             [
              0.5555555555555556,
              "#d8576b"
             ],
             [
              0.6666666666666666,
              "#ed7953"
             ],
             [
              0.7777777777777778,
              "#fb9f3a"
             ],
             [
              0.8888888888888888,
              "#fdca26"
             ],
             [
              1,
              "#f0f921"
             ]
            ],
            "type": "heatmapgl"
           }
          ],
          "histogram": [
           {
            "marker": {
             "pattern": {
              "fillmode": "overlay",
              "size": 10,
              "solidity": 0.2
             }
            },
            "type": "histogram"
           }
          ],
          "histogram2d": [
           {
            "colorbar": {
             "outlinewidth": 0,
             "ticks": ""
            },
            "colorscale": [
             [
              0,
              "#0d0887"
             ],
             [
              0.1111111111111111,
              "#46039f"
             ],
             [
              0.2222222222222222,
              "#7201a8"
             ],
             [
              0.3333333333333333,
              "#9c179e"
             ],
             [
              0.4444444444444444,
              "#bd3786"
             ],
             [
              0.5555555555555556,
              "#d8576b"
             ],
             [
              0.6666666666666666,
              "#ed7953"
             ],
             [
              0.7777777777777778,
              "#fb9f3a"
             ],
             [
              0.8888888888888888,
              "#fdca26"
             ],
             [
              1,
              "#f0f921"
             ]
            ],
            "type": "histogram2d"
           }
          ],
          "histogram2dcontour": [
           {
            "colorbar": {
             "outlinewidth": 0,
             "ticks": ""
            },
            "colorscale": [
             [
              0,
              "#0d0887"
             ],
             [
              0.1111111111111111,
              "#46039f"
             ],
             [
              0.2222222222222222,
              "#7201a8"
             ],
             [
              0.3333333333333333,
              "#9c179e"
             ],
             [
              0.4444444444444444,
              "#bd3786"
             ],
             [
              0.5555555555555556,
              "#d8576b"
             ],
             [
              0.6666666666666666,
              "#ed7953"
             ],
             [
              0.7777777777777778,
              "#fb9f3a"
             ],
             [
              0.8888888888888888,
              "#fdca26"
             ],
             [
              1,
              "#f0f921"
             ]
            ],
            "type": "histogram2dcontour"
           }
          ],
          "mesh3d": [
           {
            "colorbar": {
             "outlinewidth": 0,
             "ticks": ""
            },
            "type": "mesh3d"
           }
          ],
          "parcoords": [
           {
            "line": {
             "colorbar": {
              "outlinewidth": 0,
              "ticks": ""
             }
            },
            "type": "parcoords"
           }
          ],
          "pie": [
           {
            "automargin": true,
            "type": "pie"
           }
          ],
          "scatter": [
           {
            "fillpattern": {
             "fillmode": "overlay",
             "size": 10,
             "solidity": 0.2
            },
            "type": "scatter"
           }
          ],
          "scatter3d": [
           {
            "line": {
             "colorbar": {
              "outlinewidth": 0,
              "ticks": ""
             }
            },
            "marker": {
             "colorbar": {
              "outlinewidth": 0,
              "ticks": ""
             }
            },
            "type": "scatter3d"
           }
          ],
          "scattercarpet": [
           {
            "marker": {
             "colorbar": {
              "outlinewidth": 0,
              "ticks": ""
             }
            },
            "type": "scattercarpet"
           }
          ],
          "scattergeo": [
           {
            "marker": {
             "colorbar": {
              "outlinewidth": 0,
              "ticks": ""
             }
            },
            "type": "scattergeo"
           }
          ],
          "scattergl": [
           {
            "marker": {
             "colorbar": {
              "outlinewidth": 0,
              "ticks": ""
             }
            },
            "type": "scattergl"
           }
          ],
          "scattermapbox": [
           {
            "marker": {
             "colorbar": {
              "outlinewidth": 0,
              "ticks": ""
             }
            },
            "type": "scattermapbox"
           }
          ],
          "scatterpolar": [
           {
            "marker": {
             "colorbar": {
              "outlinewidth": 0,
              "ticks": ""
             }
            },
            "type": "scatterpolar"
           }
          ],
          "scatterpolargl": [
           {
            "marker": {
             "colorbar": {
              "outlinewidth": 0,
              "ticks": ""
             }
            },
            "type": "scatterpolargl"
           }
          ],
          "scatterternary": [
           {
            "marker": {
             "colorbar": {
              "outlinewidth": 0,
              "ticks": ""
             }
            },
            "type": "scatterternary"
           }
          ],
          "surface": [
           {
            "colorbar": {
             "outlinewidth": 0,
             "ticks": ""
            },
            "colorscale": [
             [
              0,
              "#0d0887"
             ],
             [
              0.1111111111111111,
              "#46039f"
             ],
             [
              0.2222222222222222,
              "#7201a8"
             ],
             [
              0.3333333333333333,
              "#9c179e"
             ],
             [
              0.4444444444444444,
              "#bd3786"
             ],
             [
              0.5555555555555556,
              "#d8576b"
             ],
             [
              0.6666666666666666,
              "#ed7953"
             ],
             [
              0.7777777777777778,
              "#fb9f3a"
             ],
             [
              0.8888888888888888,
              "#fdca26"
             ],
             [
              1,
              "#f0f921"
             ]
            ],
            "type": "surface"
           }
          ],
          "table": [
           {
            "cells": {
             "fill": {
              "color": "#EBF0F8"
             },
             "line": {
              "color": "white"
             }
            },
            "header": {
             "fill": {
              "color": "#C8D4E3"
             },
             "line": {
              "color": "white"
             }
            },
            "type": "table"
           }
          ]
         },
         "layout": {
          "annotationdefaults": {
           "arrowcolor": "#2a3f5f",
           "arrowhead": 0,
           "arrowwidth": 1
          },
          "autotypenumbers": "strict",
          "coloraxis": {
           "colorbar": {
            "outlinewidth": 0,
            "ticks": ""
           }
          },
          "colorscale": {
           "diverging": [
            [
             0,
             "#8e0152"
            ],
            [
             0.1,
             "#c51b7d"
            ],
            [
             0.2,
             "#de77ae"
            ],
            [
             0.3,
             "#f1b6da"
            ],
            [
             0.4,
             "#fde0ef"
            ],
            [
             0.5,
             "#f7f7f7"
            ],
            [
             0.6,
             "#e6f5d0"
            ],
            [
             0.7,
             "#b8e186"
            ],
            [
             0.8,
             "#7fbc41"
            ],
            [
             0.9,
             "#4d9221"
            ],
            [
             1,
             "#276419"
            ]
           ],
           "sequential": [
            [
             0,
             "#0d0887"
            ],
            [
             0.1111111111111111,
             "#46039f"
            ],
            [
             0.2222222222222222,
             "#7201a8"
            ],
            [
             0.3333333333333333,
             "#9c179e"
            ],
            [
             0.4444444444444444,
             "#bd3786"
            ],
            [
             0.5555555555555556,
             "#d8576b"
            ],
            [
             0.6666666666666666,
             "#ed7953"
            ],
            [
             0.7777777777777778,
             "#fb9f3a"
            ],
            [
             0.8888888888888888,
             "#fdca26"
            ],
            [
             1,
             "#f0f921"
            ]
           ],
           "sequentialminus": [
            [
             0,
             "#0d0887"
            ],
            [
             0.1111111111111111,
             "#46039f"
            ],
            [
             0.2222222222222222,
             "#7201a8"
            ],
            [
             0.3333333333333333,
             "#9c179e"
            ],
            [
             0.4444444444444444,
             "#bd3786"
            ],
            [
             0.5555555555555556,
             "#d8576b"
            ],
            [
             0.6666666666666666,
             "#ed7953"
            ],
            [
             0.7777777777777778,
             "#fb9f3a"
            ],
            [
             0.8888888888888888,
             "#fdca26"
            ],
            [
             1,
             "#f0f921"
            ]
           ]
          },
          "colorway": [
           "#636efa",
           "#EF553B",
           "#00cc96",
           "#ab63fa",
           "#FFA15A",
           "#19d3f3",
           "#FF6692",
           "#B6E880",
           "#FF97FF",
           "#FECB52"
          ],
          "font": {
           "color": "#2a3f5f"
          },
          "geo": {
           "bgcolor": "white",
           "lakecolor": "white",
           "landcolor": "#E5ECF6",
           "showlakes": true,
           "showland": true,
           "subunitcolor": "white"
          },
          "hoverlabel": {
           "align": "left"
          },
          "hovermode": "closest",
          "mapbox": {
           "style": "light"
          },
          "paper_bgcolor": "white",
          "plot_bgcolor": "#E5ECF6",
          "polar": {
           "angularaxis": {
            "gridcolor": "white",
            "linecolor": "white",
            "ticks": ""
           },
           "bgcolor": "#E5ECF6",
           "radialaxis": {
            "gridcolor": "white",
            "linecolor": "white",
            "ticks": ""
           }
          },
          "scene": {
           "xaxis": {
            "backgroundcolor": "#E5ECF6",
            "gridcolor": "white",
            "gridwidth": 2,
            "linecolor": "white",
            "showbackground": true,
            "ticks": "",
            "zerolinecolor": "white"
           },
           "yaxis": {
            "backgroundcolor": "#E5ECF6",
            "gridcolor": "white",
            "gridwidth": 2,
            "linecolor": "white",
            "showbackground": true,
            "ticks": "",
            "zerolinecolor": "white"
           },
           "zaxis": {
            "backgroundcolor": "#E5ECF6",
            "gridcolor": "white",
            "gridwidth": 2,
            "linecolor": "white",
            "showbackground": true,
            "ticks": "",
            "zerolinecolor": "white"
           }
          },
          "shapedefaults": {
           "line": {
            "color": "#2a3f5f"
           }
          },
          "ternary": {
           "aaxis": {
            "gridcolor": "white",
            "linecolor": "white",
            "ticks": ""
           },
           "baxis": {
            "gridcolor": "white",
            "linecolor": "white",
            "ticks": ""
           },
           "bgcolor": "#E5ECF6",
           "caxis": {
            "gridcolor": "white",
            "linecolor": "white",
            "ticks": ""
           }
          },
          "title": {
           "x": 0.05
          },
          "xaxis": {
           "automargin": true,
           "gridcolor": "white",
           "linecolor": "white",
           "ticks": "",
           "title": {
            "standoff": 15
           },
           "zerolinecolor": "white",
           "zerolinewidth": 2
          },
          "yaxis": {
           "automargin": true,
           "gridcolor": "white",
           "linecolor": "white",
           "ticks": "",
           "title": {
            "standoff": 15
           },
           "zerolinecolor": "white",
           "zerolinewidth": 2
          }
         }
        },
        "title": {
         "text": "Percentage of columns in Faker test data per class that contain a value<br>that also appears in the training data for the same class"
        },
        "width": 1000,
        "xaxis": {
         "title": {
          "text": "Classes"
         }
        },
        "yaxis": {
         "ticktext": [
          "<b style='color:blue;'>worldview</b>",
          "<b style='color:blue;'>word</b>",
          "version",
          "<b style='color:blue;'>user_agent</b>",
          "<b style='color:blue;'>url</b>",
          "<b style='color:blue;'>title</b>",
          "<b style='color:blue;'>system_quality_attribute</b>",
          "swift",
          "ssn",
          "<b style='color:blue;'>sex</b>",
          "<b style='color:blue;'>resolution</b>",
          "<b style='color:blue;'>pyint</b>",
          "pyfloat",
          "<b style='color:blue;'>programming_language</b>",
          "<b style='color:blue;'>political_views</b>",
          "phone_number",
          "<b style='color:blue;'>phone_model</b>",
          "<b style='color:blue;'>passport_number</b>",
          "<b style='color:blue;'>occupation</b>",
          "<b style='color:blue;'>nationality</b>",
          "name",
          "<b style='color:blue;'>measure_unit</b>",
          "<b style='color:blue;'>manufacturer</b>",
          "<b style='color:blue;'>last_name</b>",
          "<b style='color:blue;'>language</b>",
          "<b style='color:blue;'>job</b>",
          "isbn13",
          "isbn",
          "<b style='color:blue;'>integer_number</b>",
          "iban",
          "<b style='color:blue;'>graphics</b>",
          "<b style='color:blue;'>gender</b>",
          "full_name",
          "float_number",
          "<b style='color:blue;'>first_name</b>",
          "email",
          "ean",
          "<b style='color:blue;'>duration</b>",
          "<b style='color:blue;'>drink</b>",
          "<b style='color:blue;'>dish</b>",
          "<b style='color:blue;'>date</b>",
          "current_location",
          "<b style='color:blue;'>currency</b>",
          "<b style='color:blue;'>credit_card_provider</b>",
          "credit_card_number",
          "<b style='color:blue;'>cpu</b>",
          "<b style='color:blue;'>company</b>",
          "<b style='color:blue;'>color</b>",
          "<b style='color:blue;'>city</b>",
          "<b style='color:blue;'>blood_type</b>",
          "<b style='color:blue;'>blood_group</b>",
          "<b style='color:blue;'>answer</b>",
          "address",
          "<b style='color:blue;'>academic_degree</b>",
          "<b style='color:blue;'>Sexuality</b>",
          "SWIFT/BIC",
          "<b style='color:blue;'>Religion</b>",
          "<b style='color:blue;'>Race</b>",
          "<b style='color:blue;'>Phone_number,NIN</b>",
          "<b style='color:blue;'>Phone_number,Email</b>",
          "Phone_number",
          "Passport",
          "Organization",
          "<b style='color:blue;'>Nationality</b>",
          "<b style='color:blue;'>NIN,Phone_number</b>",
          "<b style='color:blue;'>NIN,Email</b>",
          "<b style='color:blue;'>NIN,Date</b>",
          "NIN",
          "ID_Card",
          "IBAN",
          "Geolocation",
          "<b style='color:blue;'>Gender</b>",
          "GPE",
          "<b style='color:blue;'>Email,Phone_number</b>",
          "<b style='color:blue;'>Email,NIN</b>",
          "Email",
          "<b style='color:blue;'>Date,NIN</b>",
          "Date",
          "CCN"
         ],
         "tickvals": [
          "worldview",
          "word",
          "version",
          "user_agent",
          "url",
          "title",
          "system_quality_attribute",
          "swift",
          "ssn",
          "sex",
          "resolution",
          "pyint",
          "pyfloat",
          "programming_language",
          "political_views",
          "phone_number",
          "phone_model",
          "passport_number",
          "occupation",
          "nationality",
          "name",
          "measure_unit",
          "manufacturer",
          "last_name",
          "language",
          "job",
          "isbn13",
          "isbn",
          "integer_number",
          "iban",
          "graphics",
          "gender",
          "full_name",
          "float_number",
          "first_name",
          "email",
          "ean",
          "duration",
          "drink",
          "dish",
          "date",
          "current_location",
          "currency",
          "credit_card_provider",
          "credit_card_number",
          "cpu",
          "company",
          "color",
          "city",
          "blood_type",
          "blood_group",
          "answer",
          "address",
          "academic_degree",
          "Sexuality",
          "SWIFT/BIC",
          "Religion",
          "Race",
          "Phone_number,NIN",
          "Phone_number,Email",
          "Phone_number",
          "Passport",
          "Organization",
          "Nationality",
          "NIN,Phone_number",
          "NIN,Email",
          "NIN,Date",
          "NIN",
          "ID_Card",
          "IBAN",
          "Geolocation",
          "Gender",
          "GPE",
          "Email,Phone_number",
          "Email,NIN",
          "Email",
          "Date,NIN",
          "Date",
          "CCN"
         ],
         "title": {
          "text": "Percentage"
         }
        }
       }
      }
     },
     "metadata": {},
     "output_type": "display_data"
    }
   ],
   "source": [
    "sol.pop(\"Organization,Phone_number\", None)\n",
    "fig = go.Figure()\n",
    "fig.add_trace(go.Bar(y=list(sol.keys()), x=[a.get(False) for a in sol.values()], name=\"does not contain<br>element from train\",\n",
    "                      orientation='h', marker=dict(color=\"green\")))\n",
    "fig.add_trace(go.Bar(y=list(sol.keys()), x=[a.get(True) for a in sol.values()], name=\"contains element<br>from train\", orientation='h', marker=dict(color=\"red\")))\n",
    "fig.update_layout(barmode='stack', title=\"Percentage of columns in Faker test data per class that contain a value<br>that also appears in the training data for the same class\", \n",
    "                  width=1000, height=1300)\n",
    "fig.update_xaxes(title=\"Classes\")\n",
    "fig.update_yaxes(title=\"Percentage\")\n",
    "\n",
    "highlighted_classes = duplicates_allowed  # Replace with your keys to highlight\n",
    "custom_labels = [\n",
    "    f\"<b style='color:blue;'>{key}</b>\" if key in highlighted_classes else key\n",
    "    for key in sol.keys()\n",
    "]\n",
    "\n",
    "fig.update_yaxes(\n",
    "    ticktext=custom_labels,\n",
    "    tickvals=list(sol.keys()),  # Ensure alignment of ticks and custom labels\n",
    "    title=\"Percentage\"\n",
    ")\n",
    "\n",
    "fig.add_trace(\n",
    "    go.Scatter(\n",
    "        x=[None],  # Empty trace\n",
    "        y=[None],\n",
    "        mode='markers',\n",
    "        marker=dict(color='blue', size=10),\n",
    "        name=\"Classes allowed to contain training data\"\n",
    "    )\n",
    ")\n",
    "\n",
    "fig.show()"
   ]
  },
  {
   "cell_type": "code",
   "execution_count": null,
   "metadata": {},
   "outputs": [],
   "source": []
  }
 ],
 "metadata": {
  "kernelspec": {
   "display_name": "data-analysis",
   "language": "python",
   "name": "python3"
  },
  "language_info": {
   "codemirror_mode": {
    "name": "ipython",
    "version": 3
   },
   "file_extension": ".py",
   "mimetype": "text/x-python",
   "name": "python",
   "nbconvert_exporter": "python",
   "pygments_lexer": "ipython3",
   "version": "3.9.20"
  }
 },
 "nbformat": 4,
 "nbformat_minor": 2
}
