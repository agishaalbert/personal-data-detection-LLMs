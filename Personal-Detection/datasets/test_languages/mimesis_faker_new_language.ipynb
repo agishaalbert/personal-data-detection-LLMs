{
 "cells": [
  {
   "cell_type": "markdown",
   "metadata": {},
   "source": [
    "Create test data for the existing classes of mimesis and faker which are language dependent with two new languages  \n",
    "\n",
    "Use Chinese and Italian to have a more different and a similar language to the data it is trained on"
   ]
  },
  {
   "cell_type": "code",
   "execution_count": 6,
   "metadata": {},
   "outputs": [],
   "source": [
    "import pandas as pd\n",
    "import random\n",
    "import string\n",
    "from mimesis import Fieldset\n",
    "from faker import Faker\n",
    "random.seed(42)"
   ]
  },
  {
   "cell_type": "markdown",
   "metadata": {},
   "source": [
    "# Mimesis"
   ]
  },
  {
   "cell_type": "code",
   "execution_count": 7,
   "metadata": {},
   "outputs": [],
   "source": [
    "personal_attributes = [\n",
    "    \"address\", \"academic_degree\", \"blood_type\", \"email\", \"first_name\", \"full_name\", \"last_name\", \n",
    "    \"gender\", \"language\", \"nationality\", \"occupation\",\n",
    "    \"phone_number\", \"political_views\", \"title\", \"worldview\", \n",
    "    \"credit_card_number\"\n",
    "]\n",
    "\n",
    "non_personal_attributes = [\n",
    "    \"company\", \"dish\", \"drink\", \"answer\", \"color\", \"isbn\", \"duration\", \n",
    "    \"programming_language\", \"system_quality_attribute\", \"version\", \"float_number\", \n",
    "    \"integer_number\", \"user_agent\", \"graphics\", \"cpu\", \"phone_model\", \n",
    "    \"manufacturer\", \"resolution\", \"word\", \"measure_unit\", \n",
    "    \"city\"\n",
    "]"
   ]
  },
  {
   "cell_type": "code",
   "execution_count": 8,
   "metadata": {},
   "outputs": [
    {
     "name": "stdout",
     "output_type": "stream",
     "text": [
      "blood_type\n",
      "email\n",
      "credit_card_number\n",
      "isbn\n",
      "duration\n",
      "programming_language\n",
      "system_quality_attribute\n",
      "version\n",
      "float_number\n",
      "integer_number\n",
      "user_agent\n",
      "graphics\n",
      "cpu\n",
      "phone_model\n",
      "manufacturer\n",
      "resolution\n",
      "measure_unit\n"
     ]
    }
   ],
   "source": [
    "for p in personal_attributes + non_personal_attributes:\n",
    "    fieldset_de = Fieldset(locale=\"de\", seed=42)\n",
    "    fieldset_it = Fieldset(locale=\"it\", seed=42)\n",
    "    fieldset_zh = Fieldset(locale=\"zh\", seed=42)\n",
    "    de = fieldset_de(p, i=1)\n",
    "    it = fieldset_it(p, i=1)\n",
    "    zh = fieldset_zh(p, i=1)\n",
    "    if de == it and de == zh:\n",
    "        print(p)"
   ]
  },
  {
   "cell_type": "markdown",
   "metadata": {},
   "source": [
    "Delete all the ouputed classes"
   ]
  },
  {
   "cell_type": "code",
   "execution_count": 9,
   "metadata": {},
   "outputs": [],
   "source": [
    "personal_attributes_language = [\n",
    "    \"address\", \"academic_degree\", \"first_name\", \"full_name\", \"last_name\", \n",
    "    \"gender\", \"language\", \"nationality\", \"occupation\",\n",
    "    \"phone_number\", \"political_views\", \"title\", \"worldview\", \n",
    "]\n",
    "\n",
    "non_personal_attributes_language = [\n",
    "    \"company\", \"dish\", \"drink\", \"answer\", \"color\", \"word\", \"city\"\n",
    "]"
   ]
  },
  {
   "cell_type": "code",
   "execution_count": 10,
   "metadata": {},
   "outputs": [
    {
     "name": "stdout",
     "output_type": "stream",
     "text": [
      "address ['Carl-Zuckmayer-Brücke 1310'] ['1310 Via Cartari'] ['汉兴街道1310号']\n",
      "academic_degree ['Bachelor'] ['Dottorato'] ['博士']\n",
      "first_name ['Alder'] ['Alessio'] ['文渲']\n",
      "full_name ['Alder Fleischer'] ['Alessio Sangermano'] ['文渲 阚']\n",
      "last_name ['Winkler'] ['Pannone'] ['充']\n",
      "gender ['Weiblich'] ['Neutro'] ['男性']\n",
      "language ['Somali'] ['Curdo'] ['祖鲁语']\n",
      "nationality ['Armenier'] ['Iowa'] ['津巴布韦']\n",
      "occupation ['Buchhalter / Buchhalterin'] ['Casaro'] ['印刷设计与制版人员']\n",
      "phone_number ['(07211) 7550026'] ['+39 072 117 550'] ['+86 721-17550026']\n",
      "political_views ['Liberal'] ['Comunista'] ['共産']\n",
      "title ['Herr'] ['Sig.'] ['先生']\n",
      "worldview ['Buddhismus'] ['Ateo'] ['无神论']\n",
      "company ['Vector Informatik'] ['Breda'] ['上海纺织控股']\n",
      "dish ['Pinkel mit Grünkohl'] ['Stracciatella'] ['辣子鸡']\n",
      "drink ['Zitronenmelissesirup'] ['Cirò'] ['鲜榨汁']\n",
      "answer ['Vielleicht'] ['Forse'] ['不知道']\n",
      "color ['Dunkelblau'] ['Viola'] ['柠檬黄']\n",
      "word ['neue'] ['porta'] ['汲取']\n",
      "city ['Pohlheim'] ['Caltanissetta'] ['娄底市 ']\n"
     ]
    }
   ],
   "source": [
    "for p in personal_attributes_language + non_personal_attributes_language:\n",
    "    fieldset_de = Fieldset(locale=\"de\", seed=42)\n",
    "    fieldset_it = Fieldset(locale=\"it\", seed=42)\n",
    "    fieldset_zh = Fieldset(locale=\"zh\", seed=42)\n",
    "    de = fieldset_de(p, i=1)\n",
    "    it = fieldset_it(p, i=1)\n",
    "    zh = fieldset_zh(p, i=1)\n",
    "    print(p, de, it, zh)"
   ]
  },
  {
   "cell_type": "markdown",
   "metadata": {},
   "source": [
    "delete also classes which have very similar values like phone number"
   ]
  },
  {
   "cell_type": "code",
   "execution_count": 11,
   "metadata": {},
   "outputs": [],
   "source": [
    "personal_attributes_language = [\n",
    "    \"address\", \"academic_degree\", \"first_name\", \"full_name\", \"last_name\", \n",
    "    \"gender\", \"language\", \"nationality\", \"occupation\",\n",
    "     \"political_views\", \"title\", \"worldview\", \n",
    "]\n",
    "\n",
    "non_personal_attributes_language = [\n",
    "    \"company\", \"dish\", \"drink\", \"answer\", \"color\",  \"word\", \"city\"\n",
    "]"
   ]
  },
  {
   "cell_type": "code",
   "execution_count": 12,
   "metadata": {},
   "outputs": [],
   "source": [
    "FIELDSET_IT = Fieldset(locale = \"it\", seed = 42)\n",
    "FIELDSET_ZH = Fieldset(locale = \"zh\", seed = 42)\n",
    "\n",
    "def generate_random_string(length):\n",
    "    characters = string.ascii_letters + string.digits\n",
    "    return ''.join(random.choice(characters) for _ in range(length))\n",
    "    \n",
    "df = pd.DataFrame()\n",
    "personal_type = []\n",
    "original_class = []\n",
    "for classes, personal in zip([personal_attributes_language, non_personal_attributes_language], [\"personal\", \"non-personal\"]):\n",
    "    for cla in classes:\n",
    "        for (fieldset, lan) in  zip([FIELDSET_IT, FIELDSET_ZH], [\"it\",\"zh\"]):\n",
    "                for i in range(1,3):                           \n",
    "                    data = {\n",
    "                            f\"{cla}_{lan}_{i}\": [],\n",
    "                        }\n",
    "                    data[f\"{cla}_{lan}_{i}\"] = fieldset(cla, i = 100)\n",
    "                    personal_type.append(personal)\n",
    "                    original_class.append(f\"{cla}_{lan}\")\n",
    "                    df = pd.concat([df, pd.DataFrame(data)], axis=1)\n",
    "# rename half of the columns\n",
    "for p in personal_attributes_language + non_personal_attributes_language:\n",
    "    for lan in [\"it\",\"zh\"]:\n",
    "        random_length = random.randint(5, 20)\n",
    "        random_string = generate_random_string(random_length)\n",
    "        df.rename(columns={f\"{p}_{lan}_2\": random_string}, inplace=True)\n",
    "        \n",
    "#shuffle the columns\n",
    "labels = pd.DataFrame(personal_type).T\n",
    "classes = pd.DataFrame(original_class).T\n",
    "labels.columns = df.columns\n",
    "classes.columns = df.columns\n",
    "df = pd.concat([df, labels]).reset_index(drop=True)\n",
    "df = pd.concat([df, classes]).reset_index(drop=True)\n",
    "df = df.sample(frac=1, axis=1, random_state=42).reset_index(drop=True)\n",
    "\n",
    "def extract_label(df):\n",
    "    df_labels = df.iloc[100,:]\n",
    "    df_classes = df.iloc[101,:]\n",
    "    df = df.iloc[:100,:]\n",
    "    df_labels = pd.DataFrame(df_labels)\n",
    "    df_classes = pd.DataFrame(df_classes)\n",
    "    df_labels = df_labels.rename(columns={df_labels.columns[0]: \"label\"}).reset_index(drop=True)\n",
    "    df_classes = df_classes.rename(columns={df_classes.columns[0]: \"class\"}).reset_index(drop=True)\n",
    "    return df, df_labels, df_classes\n",
    "\n",
    "df_final, final_labels, final_classes = extract_label(df)"
   ]
  },
  {
   "cell_type": "markdown",
   "metadata": {},
   "source": [
    "# Faker"
   ]
  },
  {
   "cell_type": "code",
   "execution_count": 13,
   "metadata": {},
   "outputs": [],
   "source": [
    "personal_attributes = [\n",
    "    \"address\", \"iban\",\"credit_card_number\", \"email\",\n",
    "    \"job\",\"first_name\",\"last_name\",\"name\",\"phone_number\",\n",
    "    \"ssn\",\"passport_number\"\n",
    "]\n",
    "\n",
    "profile_attributes = [\n",
    "    \"sex\", \"blood_group\", \"current_location\"\n",
    "]\n",
    "\n",
    "non_personal_attributes = [\n",
    "    \"color\",\"ean\",\"credit_card_provider\",\"company\",\"currency\",\n",
    "    \"url\",\"isbn13\",\"pyint\",\"pyfloat\", \"date\", \"swift\", \n",
    "]"
   ]
  },
  {
   "cell_type": "code",
   "execution_count": 14,
   "metadata": {},
   "outputs": [
    {
     "name": "stdout",
     "output_type": "stream",
     "text": [
      "credit_card_number\n",
      "passport_number\n",
      "color\n",
      "ean\n",
      "credit_card_provider\n",
      "currency\n",
      "isbn13\n",
      "pyint\n",
      "pyfloat\n",
      "date\n"
     ]
    }
   ],
   "source": [
    "def return_value(cla, lan, profile=False):\n",
    "    Faker.seed(42)\n",
    "    fake = Faker(lan)\n",
    "    if profile:\n",
    "        val = getattr(fake, \"profile\")()[cla]\n",
    "    else:\n",
    "        val = getattr(fake, cla)()\n",
    "    return val\n",
    "\n",
    "for cla in profile_attributes:\n",
    "    de = return_value(cla, \"de\", profile=True)\n",
    "    it = return_value(cla, \"it\", profile=True)\n",
    "    zh = return_value(cla, \"zh\", profile=True)\n",
    "    if de == it and de == zh:\n",
    "        print(cla)\n",
    "        \n",
    "for cla in personal_attributes + non_personal_attributes:\n",
    "    de = return_value(cla, \"de\")\n",
    "    it = return_value(cla, \"it\")\n",
    "    zh = return_value(cla, \"zh\")\n",
    "    if de == it and de == zh:\n",
    "        print(cla)"
   ]
  },
  {
   "cell_type": "markdown",
   "metadata": {},
   "source": [
    "drop the outputed classes and the classes which are already created by mimesis"
   ]
  },
  {
   "cell_type": "code",
   "execution_count": 15,
   "metadata": {},
   "outputs": [],
   "source": [
    "personal_attributes_language = [\"iban\",\"email\",\"phone_number\",\"ssn\"]\n",
    "\n",
    "profile_attributes_language = [\"sex\", \"blood_group\", \"current_location\"]\n",
    "\n",
    "non_personal_attributes_language = [\"url\",\"swift\"]"
   ]
  },
  {
   "cell_type": "code",
   "execution_count": 16,
   "metadata": {},
   "outputs": [
    {
     "name": "stdout",
     "output_type": "stream",
     "text": [
      "sex F M F\n",
      "blood_group B- O+ A-\n",
      "current_location (Decimal('-15.4094795'), Decimal('-96.527578')) (Decimal('-88.2555025'), Decimal('-94.283560')) (Decimal('-32.2021525'), Decimal('0.707823'))\n",
      "iban DE41104332181960013389 IT86U1043321819600133890838 GB56UDAX4332181960013\n",
      "email barthjolanta@example.com asmundolucia@example.com changlei@example.org\n",
      "phone_number (01043) 32181 +39 0131433210 15510433218\n",
      "ssn 043-32-1819 SMNGDI31D05H914B 150822194909150434\n",
      "url http://www.hoefig.net/ http://www.leone.com/ http://www.liangkong.cn/\n",
      "swift AXIHDEOI AXIHITOI AXIHGBOI\n"
     ]
    }
   ],
   "source": [
    "def return_value(cla, lan, profile=False):\n",
    "    Faker.seed(42)\n",
    "    fake = Faker(lan)\n",
    "    if profile:\n",
    "        val = getattr(fake, \"profile\")()[cla]\n",
    "    else:\n",
    "        val = getattr(fake, cla)()\n",
    "    return val\n",
    "\n",
    "for cla in profile_attributes_language:\n",
    "    de = return_value(cla, \"de\", profile=True)\n",
    "    it = return_value(cla, \"it\", profile=True)\n",
    "    zh = return_value(cla, \"zh\", profile=True)\n",
    "    print(cla, de, it, zh)\n",
    "        \n",
    "for cla in personal_attributes_language + non_personal_attributes_language:\n",
    "    de = return_value(cla, \"de\")\n",
    "    it = return_value(cla, \"it\")\n",
    "    zh = return_value(cla, \"zh\")\n",
    "    print(cla, de, it, zh)"
   ]
  },
  {
   "cell_type": "code",
   "execution_count": 17,
   "metadata": {},
   "outputs": [],
   "source": [
    "personal_attributes_language = [\"iban\",\"email\",\"phone_number\",\"ssn\"]\n",
    "\n",
    "non_personal_attributes_language = [\"url\",\"swift\"]"
   ]
  },
  {
   "cell_type": "code",
   "execution_count": 18,
   "metadata": {},
   "outputs": [],
   "source": [
    "def generate_random_string(length):\n",
    "    # Define the characters to use (letters and digits)\n",
    "    characters = string.ascii_letters + string.digits\n",
    "    return ''.join(random.choice(characters) for _ in range(length))\n",
    "\n",
    "def extract_label(df):\n",
    "    df_labels = df.iloc[100,:]\n",
    "    df_classes = df.iloc[101,:]\n",
    "    df = df.iloc[:100,:]\n",
    "    df_labels = pd.DataFrame(df_labels)\n",
    "    df_classes = pd.DataFrame(df_classes)\n",
    "    df_labels = df_labels.rename(columns={df_labels.columns[0]: \"label\"}).reset_index(drop=True)\n",
    "    df_classes = df_classes.rename(columns={df_classes.columns[0]: \"class\"}).reset_index(drop=True)\n",
    "    return df, df_labels, df_classes\n",
    "\n",
    "Faker.seed(42)\n",
    "FAKE_IT = Faker(\"it\")\n",
    "FAKE_ZH = Faker(\"zh\")\n",
    "\n",
    "df = pd.DataFrame()\n",
    "personal_type, original_class = [], []\n",
    "\n",
    "for classes, personal in zip([personal_attributes_language, non_personal_attributes_language], [\"personal\", \"non-personal\"]):\n",
    "    for cla in classes:\n",
    "        for (fake, lan) in zip([FAKE_IT, FAKE_ZH], [\"it\",\"zh\"]):\n",
    "            for i in range(1,3):                           \n",
    "                data = {\n",
    "                        f\"{cla}_{lan}_{i}\": [],\n",
    "                    }\n",
    "                for _ in range(100):\n",
    "                    data[f\"{cla}_{lan}_{i}\"].append(getattr(fake, cla)())\n",
    "                personal_type.append(personal)\n",
    "                original_class.append(f\"{cla}_{lan}\")\n",
    "                df = pd.concat([df, pd.DataFrame(data)], axis=1)\n",
    "# rename half of the columns\n",
    "for p in personal_attributes_language + non_personal_attributes_language:\n",
    "    for lan in [\"it\",\"zh\"]:\n",
    "        random_length = random.randint(5, 20)\n",
    "        random_string = generate_random_string(random_length)\n",
    "        df.rename(columns={f\"{p}_{lan}_2\": random_string}, inplace=True)\n",
    "\n",
    "\n",
    "#shuffle the columns\n",
    "labels = pd.DataFrame(personal_type).T\n",
    "classes = pd.DataFrame(original_class).T\n",
    "labels.columns = df.columns\n",
    "classes.columns = df.columns\n",
    "df = pd.concat([df, labels]).reset_index(drop=True)\n",
    "df = pd.concat([df, classes]).reset_index(drop=True)\n",
    "df = df.sample(frac=1, axis=1, random_state=42).reset_index(drop=True)"
   ]
  },
  {
   "cell_type": "code",
   "execution_count": 19,
   "metadata": {},
   "outputs": [],
   "source": [
    "#save the data\n",
    "df_final2, final_labels2, final_classes2 = extract_label(df)"
   ]
  },
  {
   "cell_type": "markdown",
   "metadata": {},
   "source": [
    "Personal mapping"
   ]
  },
  {
   "cell_type": "code",
   "execution_count": 20,
   "metadata": {},
   "outputs": [],
   "source": [
    "pd.concat([df_final, df_final2], axis=1).to_csv(\"test.csv\", index=False)\n",
    "pd.concat([final_labels, final_labels2]).to_csv(\"test_labels_personal.csv\", index=False)\n",
    "pd.concat([final_classes, final_classes2]).to_csv(\"test_classes.csv\", index=False)\n",
    "pd.DataFrame([\"mimesis\"] * df_final.shape[1] + [\"faker\"] * df_final2.shape[1]).rename(columns={0: \"dataset\"}).to_csv(\"test_dataset.csv\", index=False)"
   ]
  },
  {
   "cell_type": "markdown",
   "metadata": {},
   "source": [
    "PII mapping"
   ]
  },
  {
   "cell_type": "code",
   "execution_count": 21,
   "metadata": {},
   "outputs": [],
   "source": [
    "manual_mapping = {\n",
    "    \"CCN\": \"pii\",\n",
    "    \"Date\": \"non-pii\",\n",
    "    'Date,NIN': \"pii\",\n",
    "    \"Email\": \"pii\",\n",
    "    \"Email,NIN\": \"pii\",\n",
    "    'Email,Phone_number' : \"pii\",\n",
    "    \"GPE\": \"non-pii\",\n",
    "    \"Gender\": \"non-pii\",\n",
    "    \"Geolocation\": \"pii\",\n",
    "    \"IBAN\": \"pii\",\n",
    "    \"ID_Card\": \"pii\",\n",
    "    \"NIN\": \"pii\",\n",
    "    \"NIN,Date\": \"pii\",\n",
    "    \"NIN,Email\" : \"pii\",\n",
    "    \"NIN,Phone_number\" : \"pii\",\n",
    "    \"Nationality\": \"non-pii\",\n",
    "    \"Organization\": \"non-pii\",\n",
    "    \"Passport\": \"pii\",\n",
    "    \"Phone_number\": \"pii\",\n",
    "    \"Phone_number,Email\": \"pii\",\n",
    "    \"Phone_number,NIN\" : \"pii\",\n",
    "    \"Race\": \"non-pii\",\n",
    "    \"Religion\": \"non-pii\",\n",
    "    \"SWIFT/BIC\": \"non-pii\",\n",
    "    \"Sexuality\": \"non-pii\",\n",
    "    \"academic_degree\": \"non-pii\",\n",
    "    \"address\": \"pii\",\n",
    "    \"answer\": \"non-pii\",\n",
    "    \"blood_type\": \"non-pii\",\n",
    "    \"city\": \"non-pii\",\n",
    "    \"color\": \"non-pii\",\n",
    "    \"company\": \"non-pii\",\n",
    "    \"cpu\": \"non-pii\",\n",
    "    \"credit_card_number\": \"pii\",\n",
    "    \"credit_card_provider\": \"non-pii\",\n",
    "    \"currency\": \"non-pii\",\n",
    "    \"current_location\": \"pii\",\n",
    "    \"date\": \"non-pii\",\n",
    "    'dish': \"non-pii\",\n",
    "    'drink': \"non-pii\",\n",
    "    'duration': \"non-pii\",\n",
    "    'ean': \"non-pii\",\n",
    "    'email': \"pii\",\n",
    "    'first_name': \"non-pii\",\n",
    "    'float_number': \"non-pii\",\n",
    "    'full_name': \"pii\",\n",
    "    'gender': \"non-pii\",\n",
    "    'graphics': \"non-pii\",\n",
    "    'iban': \"pii\",\n",
    "    'integer_number': \"non-pii\",\n",
    "    'isbn': \"non-pii\",\n",
    "    'isbn13': \"non-pii\",\n",
    "    'job': \"non-pii\",\n",
    "    'language': \"non-pii\",\n",
    "    'last_name': \"non-pii\",\n",
    "    'manufacturer': \"non-pii\",\n",
    "    'measure_unit': \"non-pii\",\n",
    "    'name': \"pii\",\n",
    "    'nationality': \"non-pii\",\n",
    "    'occupation': \"non-pii\",\n",
    "    'passport_number': \"pii\",\n",
    "    'phone_model': \"non-pii\",\n",
    "    'phone_number': \"pii\",\n",
    "    'political_views': \"non-pii\",\n",
    "    'programming_language': \"non-pii\",\n",
    "    'pyfloat': \"non-pii\",\n",
    "    'pyint': \"non-pii\",\n",
    "    'resolution': \"non-pii\",\n",
    "    'ssn': \"pii\",\n",
    "    'swift': \"non-pii\",\n",
    "    'system_quality_attribute': \"non-pii\",\n",
    "    'title': \"non-pii\",\n",
    "    'url': \"non-pii\",\n",
    "    'user_agent': \"non-pii\",\n",
    "    'version': \"non-pii\",\n",
    "    'word': \"non-pii\",\n",
    "    'worldview': \"non-pii\"\n",
    "}"
   ]
  },
  {
   "cell_type": "code",
   "execution_count": 22,
   "metadata": {},
   "outputs": [],
   "source": [
    "labels_pii = pd.concat([final_classes, final_classes2]).copy()\n",
    "for i in range(len(labels_pii)):\n",
    "    cla = labels_pii.iloc[i,0][:-3]\n",
    "    labels_pii.iloc[i,0] = manual_mapping[cla]\n",
    "labels_pii.rename(columns={\"class\":\"label\"}).to_csv(\"test_labels_pii.csv\", index=False)"
   ]
  },
  {
   "cell_type": "markdown",
   "metadata": {},
   "source": [
    "Multiclass mapping"
   ]
  },
  {
   "cell_type": "code",
   "execution_count": 23,
   "metadata": {},
   "outputs": [],
   "source": [
    "mapping_multiclass = {\n",
    "    \"ccn\": \"credit_card_number\",\n",
    "    \"current_location\": \"longitude_and_latitude\",\n",
    "    \"geolocation\": \"longitude_and_latitude\",\n",
    "    \"name\": \"full_name\",\n",
    "    \"isbn13\": \"isbn\",\n",
    "    \"nin\": \"national_identification_number\",   #rename some classes so that GPT can understand them\n",
    "    \"ssn\": \"national_identification_number\",\n",
    "    \"pyfloat\": \"float_number\",\n",
    "    \"pyint\": \"integer_number\",\n",
    "    \"swift\": \"SWIFT/BIC code\",\n",
    "    \"swift/bic\": \"SWIFT/BIC code\",\n",
    "    \"address\": \"full_address\",\n",
    "    \"ean\": \"EAN_code\",\n",
    "    \"occupation\": \"job\",\n",
    "    \"organization\": \"company\",\n",
    "    \"organization,phone_number\": \"company,phone_number\",\n",
    "    \"passport\": \"passport_number\",\n",
    "    \"religion\": \"religion/worldview\",   #values in these columns contain both classes\n",
    "    \"worldview\": \"religion/worldview\",\n",
    "    \"academic_degree\": \"academic_degree/title\",          \n",
    "    \"title\": \"academic_degree/title\",\n",
    "    \"blood_type\": \"blood_group\",\n",
    "    \"sex\": \"gender\"\n",
    "}\n",
    "\n",
    "def convert_classes(data_classes):\n",
    "    new_classes = []\n",
    "    for i in data_classes[\"class\"]:\n",
    "        new_classes.append(i[:-3].lower())\n",
    "    for i in range(len(new_classes)):\n",
    "        for a in mapping_multiclass.keys():\n",
    "            if (a == new_classes[i]) or (a in new_classes[i] and \",\" in new_classes[i]):\n",
    "                new_classes[i] = new_classes[i].replace(a, mapping_multiclass[a])\n",
    "    return pd.DataFrame(new_classes).rename(columns={0: \"label\"})\n",
    "\n",
    "convert_classes(pd.concat([final_classes, final_classes2])).to_csv(\"test_labels_multiclass.csv\", index=False)"
   ]
  },
  {
   "cell_type": "code",
   "execution_count": null,
   "metadata": {},
   "outputs": [],
   "source": []
  }
 ],
 "metadata": {
  "kernelspec": {
   "display_name": "data-generation",
   "language": "python",
   "name": "python3"
  },
  "language_info": {
   "codemirror_mode": {
    "name": "ipython",
    "version": 3
   },
   "file_extension": ".py",
   "mimetype": "text/x-python",
   "name": "python",
   "nbconvert_exporter": "python",
   "pygments_lexer": "ipython3",
   "version": "3.10.15"
  }
 },
 "nbformat": 4,
 "nbformat_minor": 2
}
