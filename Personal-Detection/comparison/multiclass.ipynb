{
 "cells": [
  {
   "cell_type": "code",
   "execution_count": 1,
   "metadata": {},
   "outputs": [],
   "source": [
    "import pandas as pd\n",
    "import re\n",
    "import numpy as np\n",
    "\n",
    "from plotly.subplots import make_subplots\n",
    "import plotly.graph_objects as go\n",
    "\n",
    "from sklearn.metrics import f1_score, precision_score, recall_score, accuracy_score\n",
    "from sklearn.preprocessing import MultiLabelBinarizer"
   ]
  },
  {
   "cell_type": "code",
   "execution_count": 2,
   "metadata": {},
   "outputs": [],
   "source": [
    "df_llm = pd.read_csv('../datasets/dessi-mf/dessi-mf_gpt/test.csv')\n",
    "labels_llm = pd.read_csv('../datasets/dessi-mf/dessi-mf_gpt/test_labels_personal.csv')\n",
    "classes_llm = pd.read_csv('../datasets/dessi-mf/dessi-mf_gpt/test_classes.csv')\n",
    "multiclass_llm = pd.read_csv('../datasets/dessi-mf/dessi-mf_gpt/test_labels_multiclass.csv')\n",
    "dataset_llm = pd.read_csv('../datasets/dessi-mf/dessi-mf_gpt/test_dataset.csv')\n",
    "\n",
    "df_all_data = pd.read_csv('../datasets/dessi-mf/dessi-mf/test.csv')\n",
    "labels_all_data = pd.read_csv('../datasets/dessi-mf/dessi-mf/test_labels_personal.csv')\n",
    "classes_all_data = pd.read_csv('../datasets/dessi-mf/dessi-mf/test_classes.csv')\n",
    "multiclass_all_data = pd.read_csv('../datasets/dessi-mf/dessi-mf/test_labels_multi.csv')\n",
    "dataset_all_data = pd.read_csv('../datasets/dessi-mf/dessi-mf/test_dataset.csv')\n",
    "\n",
    "df_test_lan = pd.read_csv('../datasets/test_languages/test.csv')\n",
    "labels_test_lan = pd.read_csv('../datasets/test_languages/test_labels_personal.csv')\n",
    "classes_test_lan = pd.read_csv('../datasets/test_languages/test_classes.csv')\n",
    "multiclass_test_lan = pd.read_csv('../datasets/test_languages/test_labels_multiclass.csv')\n",
    "dataset_test_lan = pd.read_csv('../datasets/test_languages/test_dataset.csv')"
   ]
  },
  {
   "cell_type": "markdown",
   "metadata": {},
   "source": [
    "## CASSED"
   ]
  },
  {
   "cell_type": "code",
   "execution_count": 3,
   "metadata": {},
   "outputs": [],
   "source": [
    "def extract_prediction(i, predictions):\n",
    "    list_extractor = re.compile(r\"\\b(\\w+(?:-\\w+)?)\\s*\\(\\d+(\\.\\d+)?\\)\")\n",
    "    text = predictions.iloc[i, :].values[0]\n",
    "    matches = list_extractor.findall(text)\n",
    "    return sorted([match[0] for match in matches])\n",
    "\n",
    "\n",
    "def convert_predictions(predictions):\n",
    "    column_names = []\n",
    "    gold_list = []\n",
    "    pred_list = []\n",
    "    mismatch = []\n",
    "    column_names.append(predictions.columns[0].split(\". \")[0].strip())\n",
    "\n",
    "    height = predictions.shape[0]\n",
    "\n",
    "    for i in range(height):\n",
    "        if 'Gold:' in predictions.iloc[i, :].values[0][:10]:\n",
    "            gold_list.append(extract_prediction(i, predictions))\n",
    "        elif 'Pred:' in predictions.iloc[i, :].values[0][:10]:\n",
    "            pred_list.append(extract_prediction(i, predictions))\n",
    "            if i == height-1:\n",
    "                mismatch.append(\"No Mismatch\")\n",
    "                break\n",
    "            if 'MISMATCH' in predictions.iloc[i+1, :].values[0][:20]:\n",
    "                mismatch.append(\"Mismatch\")\n",
    "            else:\n",
    "                mismatch.append(\"No Mismatch\")\n",
    "        elif 'MISMATCH' not in predictions.iloc[i, :].values[0][:20]:\n",
    "            column_names.append(predictions.iloc[i, :].values[0].split('. ')[0].strip())\n",
    "            \n",
    "    df = pd.DataFrame({\n",
    "        'Name': column_names,\n",
    "        'Gold': gold_list,\n",
    "        'Pred': pred_list,\n",
    "        'Mismatch': mismatch\n",
    "    })\n",
    "    return df\n",
    "\n",
    "all_data_multiclass = pd.read_csv('../CASSED/CASSED_model_results/cassed_multiclass/dessi-mf/test.tsv', sep='\\t') \n",
    "all_data_multiclass_df_cassed = convert_predictions(all_data_multiclass)\n",
    "\n",
    "\n",
    "two_lan_true = pd.read_csv('../CASSED/CASSED_model_results/cassed_multiclass/two_languages/true.csv')\n",
    "two_lan_pred = pd.read_csv('../CASSED/CASSED_model_results/cassed_multiclass/two_languages/predicted.csv')\n",
    "two_lan_target_names = pd.read_csv('../CASSED/CASSED_model_results/cassed_multiclass/two_languages/target_names.csv')       \n",
    "two_lan_target_names = {a[1]: a[0] for a in two_lan_target_names[[\"0\", \"0.1\"]].values}\n",
    "two_lan_target_names[0] = \"no prediction\"\n",
    "\n",
    "predictions, true = [], []\n",
    "for i in range(two_lan_true.shape[0]):\n",
    "    predictions.append([two_lan_target_names[e] for e, b in enumerate(two_lan_pred.iloc[i,:]) if b == 1])\n",
    "    true.append([two_lan_target_names[e] for e, b in enumerate(two_lan_true.iloc[i,:]) if b == 1])\n",
    "    \n",
    "predictions = [\",\".join([item.replace(\"[\", \"\").replace(\"]\", \"\") for item in sublist]) for sublist in predictions]\n",
    "true = [\",\".join([item.replace(\"[\", \"\").replace(\"]\", \"\") for item in sublist]) for sublist in true]\n",
    "\n",
    "results_df_two_lan_cassed = pd.DataFrame({\n",
    "    \"Column\": df_test_lan.columns,\n",
    "    \"Prediction\": predictions,\n",
    "    \"True Label\": true,\n",
    "    \"semantic_classes\": classes_test_lan[\"class\"],\n",
    "    \"Classes\": multiclass_test_lan[\"label\"],\n",
    "    \"Dataset\": dataset_test_lan[\"dataset\"]\n",
    "})\n",
    "\n",
    "all_data_multiclass = pd.read_csv('../CASSED/CASSED_model_results/cassed_multiclass/dessi-mf/test.tsv', sep='\\t') \n",
    "all_data_multiclass_df_cassed = convert_predictions(all_data_multiclass)\n",
    "results_df_all_data_cassed = pd.DataFrame({\n",
    "    \"Column\": df_all_data.columns,\n",
    "    \"Prediction\": [\",\".join([item.replace(\"[\", \"\").replace(\"]\", \"\") for item in sublist]) for sublist in all_data_multiclass_df_cassed[\"Pred\"]],\n",
    "    \"True Label\": [\",\".join([item.replace(\"[\", \"\").replace(\"]\", \"\") for item in sublist]) for sublist in all_data_multiclass_df_cassed[\"Gold\"]],\n",
    "    \"semantic_classes\": classes_all_data[\"class\"],\n",
    "    \"Classes\": multiclass_all_data[\"label\"],\n",
    "    \"Dataset\": dataset_all_data[\"dataset\"]\n",
    "})"
   ]
  },
  {
   "cell_type": "markdown",
   "metadata": {},
   "source": [
    "## GPT"
   ]
  },
  {
   "cell_type": "code",
   "execution_count": 4,
   "metadata": {},
   "outputs": [],
   "source": [
    "def load_responses(path):\n",
    "    with open(path, \"r\") as f:\n",
    "        response_text = f.read()\n",
    "    return response_text.split(\"\\n\")[1:]\n",
    "\n",
    "responses_own_dataset = load_responses(\"../GPT/gpt_predictions/dessi-mf_results.txt\")\n",
    "responses_test_lan = load_responses(\"../GPT/gpt_predictions/test_languages_results.txt\")\n",
    "\n",
    "detected_classes = []\n",
    "for j in range(len(responses_own_dataset)):\n",
    "    match1 = re.search(f\"('detected_classes'|\\\"detected_classes\\\"|detected_classes): \\[(.*?)\\]\", responses_own_dataset[j])\n",
    "    detected = match1.group(2).replace(\"'\", \"\").replace(\"\\\"\", \"\").replace(\", \", \",\")\n",
    "    if \",\" in detected:\n",
    "        detected = sorted(detected.split(\",\"))\n",
    "        detected = \",\".join(detected)\n",
    "    detected_classes.append(detected)\n",
    "results_own_dataset_multiclass_gpt = pd.DataFrame({\n",
    "    \"Name\": df_llm.columns,\n",
    "    \"True Label\": [\",\".join(sorted(s.split(\",\"))) for s in multiclass_llm[\"label\"]],\n",
    "    \"Prediction\": detected_classes,\n",
    "    \"semantic_classes\": classes_llm[\"class\"],\n",
    "    \"Classes\": classes_llm[\"class\"],\n",
    "    \"Dataset\": dataset_llm[\"dataset\"]\n",
    "})\n",
    "\n",
    "detected_classes = []\n",
    "for j in range(len(responses_test_lan)):\n",
    "    match1 = re.search(f\"('detected_classes'|\\\"detected_classes\\\"|detected_classes): \\[(.*?)\\]\", responses_test_lan[j])\n",
    "    detected = match1.group(2).replace(\"'\", \"\").replace(\"\\\"\", \"\").replace(\", \", \",\")\n",
    "    if \",\" in detected:\n",
    "        detected = sorted(detected.split(\",\"))\n",
    "        detected = \",\".join(detected)\n",
    "    detected_classes.append(detected)\n",
    "results_test_lan_multiclass_gpt = pd.DataFrame({\n",
    "    \"Name\": df_test_lan.columns,\n",
    "    \"True Label\": [\",\".join(sorted(s.split(\",\"))) for s in multiclass_test_lan[\"label\"]],\n",
    "    \"Prediction\": detected_classes,\n",
    "    \"semantic_classes\": classes_test_lan[\"class\"],\n",
    "    \"Classes\": classes_test_lan[\"class\"],\n",
    "    \"Dataset\": dataset_test_lan[\"dataset\"]\n",
    "})"
   ]
  },
  {
   "cell_type": "markdown",
   "metadata": {},
   "source": [
    "## Evaluation"
   ]
  },
  {
   "cell_type": "code",
   "execution_count": 5,
   "metadata": {},
   "outputs": [
    {
     "data": {
      "application/vnd.plotly.v1+json": {
       "config": {
        "plotlyServerURL": "https://plot.ly"
       },
       "data": [
        {
         "legendgroup": "0",
         "marker": {
          "color": "#636efa"
         },
         "name": "GPT-4o",
         "showlegend": true,
         "type": "bar",
         "x": [
          "weighted Precision",
          "weighted Recall",
          "weighted F1 Score",
          "macro F1 Score",
          "Accuracy"
         ],
         "xaxis": "x",
         "y": [
          0.9842823250296562,
          0.9501779359430605,
          0.9636177606377788,
          0.9360507534908671,
          0.9395604395604396
         ],
         "yaxis": "y"
        },
        {
         "legendgroup": "0",
         "marker": {
          "color": "#636efa"
         },
         "name": "GPT-4o",
         "showlegend": false,
         "type": "bar",
         "x": [
          "weighted Precision",
          "weighted Recall",
          "weighted F1 Score",
          "macro F1 Score",
          "Accuracy"
         ],
         "xaxis": "x2",
         "y": [
          1,
          0.95,
          0.9676190476190476,
          0.8589065255731922,
          0.95
         ],
         "yaxis": "y2"
        },
        {
         "legendgroup": "1",
         "marker": {
          "color": "#EF553B"
         },
         "name": "CASSED",
         "showlegend": true,
         "type": "bar",
         "x": [
          "weighted Precision",
          "weighted Recall",
          "weighted F1 Score",
          "macro F1 Score",
          "Accuracy"
         ],
         "xaxis": "x",
         "y": [
          1,
          1,
          1,
          1,
          1
         ],
         "yaxis": "y"
        },
        {
         "legendgroup": "1",
         "marker": {
          "color": "#EF553B"
         },
         "name": "CASSED",
         "showlegend": false,
         "type": "bar",
         "x": [
          "weighted Precision",
          "weighted Recall",
          "weighted F1 Score",
          "macro F1 Score",
          "Accuracy"
         ],
         "xaxis": "x2",
         "y": [
          0.6866666666666665,
          0.44,
          0.5095238095238095,
          0.4745421245421245,
          0.44
         ],
         "yaxis": "y2"
        }
       ],
       "layout": {
        "annotations": [
         {
          "font": {
           "size": 16
          },
          "showarrow": false,
          "text": "Evaluation Metrics for DeSSI-MF",
          "x": 0.225,
          "xanchor": "center",
          "xref": "paper",
          "y": 1,
          "yanchor": "bottom",
          "yref": "paper"
         },
         {
          "font": {
           "size": 16
          },
          "showarrow": false,
          "text": "Evaluation Metrics for Test Languages",
          "x": 0.775,
          "xanchor": "center",
          "xref": "paper",
          "y": 1,
          "yanchor": "bottom",
          "yref": "paper"
         }
        ],
        "height": 350,
        "legend": {
         "title": {
          "text": "Model"
         }
        },
        "template": {
         "data": {
          "bar": [
           {
            "error_x": {
             "color": "#2a3f5f"
            },
            "error_y": {
             "color": "#2a3f5f"
            },
            "marker": {
             "line": {
              "color": "#E5ECF6",
              "width": 0.5
             },
             "pattern": {
              "fillmode": "overlay",
              "size": 10,
              "solidity": 0.2
             }
            },
            "type": "bar"
           }
          ],
          "barpolar": [
           {
            "marker": {
             "line": {
              "color": "#E5ECF6",
              "width": 0.5
             },
             "pattern": {
              "fillmode": "overlay",
              "size": 10,
              "solidity": 0.2
             }
            },
            "type": "barpolar"
           }
          ],
          "carpet": [
           {
            "aaxis": {
             "endlinecolor": "#2a3f5f",
             "gridcolor": "white",
             "linecolor": "white",
             "minorgridcolor": "white",
             "startlinecolor": "#2a3f5f"
            },
            "baxis": {
             "endlinecolor": "#2a3f5f",
             "gridcolor": "white",
             "linecolor": "white",
             "minorgridcolor": "white",
             "startlinecolor": "#2a3f5f"
            },
            "type": "carpet"
           }
          ],
          "choropleth": [
           {
            "colorbar": {
             "outlinewidth": 0,
             "ticks": ""
            },
            "type": "choropleth"
           }
          ],
          "contour": [
           {
            "colorbar": {
             "outlinewidth": 0,
             "ticks": ""
            },
            "colorscale": [
             [
              0,
              "#0d0887"
             ],
             [
              0.1111111111111111,
              "#46039f"
             ],
             [
              0.2222222222222222,
              "#7201a8"
             ],
             [
              0.3333333333333333,
              "#9c179e"
             ],
             [
              0.4444444444444444,
              "#bd3786"
             ],
             [
              0.5555555555555556,
              "#d8576b"
             ],
             [
              0.6666666666666666,
              "#ed7953"
             ],
             [
              0.7777777777777778,
              "#fb9f3a"
             ],
             [
              0.8888888888888888,
              "#fdca26"
             ],
             [
              1,
              "#f0f921"
             ]
            ],
            "type": "contour"
           }
          ],
          "contourcarpet": [
           {
            "colorbar": {
             "outlinewidth": 0,
             "ticks": ""
            },
            "type": "contourcarpet"
           }
          ],
          "heatmap": [
           {
            "colorbar": {
             "outlinewidth": 0,
             "ticks": ""
            },
            "colorscale": [
             [
              0,
              "#0d0887"
             ],
             [
              0.1111111111111111,
              "#46039f"
             ],
             [
              0.2222222222222222,
              "#7201a8"
             ],
             [
              0.3333333333333333,
              "#9c179e"
             ],
             [
              0.4444444444444444,
              "#bd3786"
             ],
             [
              0.5555555555555556,
              "#d8576b"
             ],
             [
              0.6666666666666666,
              "#ed7953"
             ],
             [
              0.7777777777777778,
              "#fb9f3a"
             ],
             [
              0.8888888888888888,
              "#fdca26"
             ],
             [
              1,
              "#f0f921"
             ]
            ],
            "type": "heatmap"
           }
          ],
          "heatmapgl": [
           {
            "colorbar": {
             "outlinewidth": 0,
             "ticks": ""
            },
            "colorscale": [
             [
              0,
              "#0d0887"
             ],
             [
              0.1111111111111111,
              "#46039f"
             ],
             [
              0.2222222222222222,
              "#7201a8"
             ],
             [
              0.3333333333333333,
              "#9c179e"
             ],
             [
              0.4444444444444444,
              "#bd3786"
             ],
             [
              0.5555555555555556,
              "#d8576b"
             ],
             [
              0.6666666666666666,
              "#ed7953"
             ],
             [
              0.7777777777777778,
              "#fb9f3a"
             ],
             [
              0.8888888888888888,
              "#fdca26"
             ],
             [
              1,
              "#f0f921"
             ]
            ],
            "type": "heatmapgl"
           }
          ],
          "histogram": [
           {
            "marker": {
             "pattern": {
              "fillmode": "overlay",
              "size": 10,
              "solidity": 0.2
             }
            },
            "type": "histogram"
           }
          ],
          "histogram2d": [
           {
            "colorbar": {
             "outlinewidth": 0,
             "ticks": ""
            },
            "colorscale": [
             [
              0,
              "#0d0887"
             ],
             [
              0.1111111111111111,
              "#46039f"
             ],
             [
              0.2222222222222222,
              "#7201a8"
             ],
             [
              0.3333333333333333,
              "#9c179e"
             ],
             [
              0.4444444444444444,
              "#bd3786"
             ],
             [
              0.5555555555555556,
              "#d8576b"
             ],
             [
              0.6666666666666666,
              "#ed7953"
             ],
             [
              0.7777777777777778,
              "#fb9f3a"
             ],
             [
              0.8888888888888888,
              "#fdca26"
             ],
             [
              1,
              "#f0f921"
             ]
            ],
            "type": "histogram2d"
           }
          ],
          "histogram2dcontour": [
           {
            "colorbar": {
             "outlinewidth": 0,
             "ticks": ""
            },
            "colorscale": [
             [
              0,
              "#0d0887"
             ],
             [
              0.1111111111111111,
              "#46039f"
             ],
             [
              0.2222222222222222,
              "#7201a8"
             ],
             [
              0.3333333333333333,
              "#9c179e"
             ],
             [
              0.4444444444444444,
              "#bd3786"
             ],
             [
              0.5555555555555556,
              "#d8576b"
             ],
             [
              0.6666666666666666,
              "#ed7953"
             ],
             [
              0.7777777777777778,
              "#fb9f3a"
             ],
             [
              0.8888888888888888,
              "#fdca26"
             ],
             [
              1,
              "#f0f921"
             ]
            ],
            "type": "histogram2dcontour"
           }
          ],
          "mesh3d": [
           {
            "colorbar": {
             "outlinewidth": 0,
             "ticks": ""
            },
            "type": "mesh3d"
           }
          ],
          "parcoords": [
           {
            "line": {
             "colorbar": {
              "outlinewidth": 0,
              "ticks": ""
             }
            },
            "type": "parcoords"
           }
          ],
          "pie": [
           {
            "automargin": true,
            "type": "pie"
           }
          ],
          "scatter": [
           {
            "fillpattern": {
             "fillmode": "overlay",
             "size": 10,
             "solidity": 0.2
            },
            "type": "scatter"
           }
          ],
          "scatter3d": [
           {
            "line": {
             "colorbar": {
              "outlinewidth": 0,
              "ticks": ""
             }
            },
            "marker": {
             "colorbar": {
              "outlinewidth": 0,
              "ticks": ""
             }
            },
            "type": "scatter3d"
           }
          ],
          "scattercarpet": [
           {
            "marker": {
             "colorbar": {
              "outlinewidth": 0,
              "ticks": ""
             }
            },
            "type": "scattercarpet"
           }
          ],
          "scattergeo": [
           {
            "marker": {
             "colorbar": {
              "outlinewidth": 0,
              "ticks": ""
             }
            },
            "type": "scattergeo"
           }
          ],
          "scattergl": [
           {
            "marker": {
             "colorbar": {
              "outlinewidth": 0,
              "ticks": ""
             }
            },
            "type": "scattergl"
           }
          ],
          "scattermapbox": [
           {
            "marker": {
             "colorbar": {
              "outlinewidth": 0,
              "ticks": ""
             }
            },
            "type": "scattermapbox"
           }
          ],
          "scatterpolar": [
           {
            "marker": {
             "colorbar": {
              "outlinewidth": 0,
              "ticks": ""
             }
            },
            "type": "scatterpolar"
           }
          ],
          "scatterpolargl": [
           {
            "marker": {
             "colorbar": {
              "outlinewidth": 0,
              "ticks": ""
             }
            },
            "type": "scatterpolargl"
           }
          ],
          "scatterternary": [
           {
            "marker": {
             "colorbar": {
              "outlinewidth": 0,
              "ticks": ""
             }
            },
            "type": "scatterternary"
           }
          ],
          "surface": [
           {
            "colorbar": {
             "outlinewidth": 0,
             "ticks": ""
            },
            "colorscale": [
             [
              0,
              "#0d0887"
             ],
             [
              0.1111111111111111,
              "#46039f"
             ],
             [
              0.2222222222222222,
              "#7201a8"
             ],
             [
              0.3333333333333333,
              "#9c179e"
             ],
             [
              0.4444444444444444,
              "#bd3786"
             ],
             [
              0.5555555555555556,
              "#d8576b"
             ],
             [
              0.6666666666666666,
              "#ed7953"
             ],
             [
              0.7777777777777778,
              "#fb9f3a"
             ],
             [
              0.8888888888888888,
              "#fdca26"
             ],
             [
              1,
              "#f0f921"
             ]
            ],
            "type": "surface"
           }
          ],
          "table": [
           {
            "cells": {
             "fill": {
              "color": "#EBF0F8"
             },
             "line": {
              "color": "white"
             }
            },
            "header": {
             "fill": {
              "color": "#C8D4E3"
             },
             "line": {
              "color": "white"
             }
            },
            "type": "table"
           }
          ]
         },
         "layout": {
          "annotationdefaults": {
           "arrowcolor": "#2a3f5f",
           "arrowhead": 0,
           "arrowwidth": 1
          },
          "autotypenumbers": "strict",
          "coloraxis": {
           "colorbar": {
            "outlinewidth": 0,
            "ticks": ""
           }
          },
          "colorscale": {
           "diverging": [
            [
             0,
             "#8e0152"
            ],
            [
             0.1,
             "#c51b7d"
            ],
            [
             0.2,
             "#de77ae"
            ],
            [
             0.3,
             "#f1b6da"
            ],
            [
             0.4,
             "#fde0ef"
            ],
            [
             0.5,
             "#f7f7f7"
            ],
            [
             0.6,
             "#e6f5d0"
            ],
            [
             0.7,
             "#b8e186"
            ],
            [
             0.8,
             "#7fbc41"
            ],
            [
             0.9,
             "#4d9221"
            ],
            [
             1,
             "#276419"
            ]
           ],
           "sequential": [
            [
             0,
             "#0d0887"
            ],
            [
             0.1111111111111111,
             "#46039f"
            ],
            [
             0.2222222222222222,
             "#7201a8"
            ],
            [
             0.3333333333333333,
             "#9c179e"
            ],
            [
             0.4444444444444444,
             "#bd3786"
            ],
            [
             0.5555555555555556,
             "#d8576b"
            ],
            [
             0.6666666666666666,
             "#ed7953"
            ],
            [
             0.7777777777777778,
             "#fb9f3a"
            ],
            [
             0.8888888888888888,
             "#fdca26"
            ],
            [
             1,
             "#f0f921"
            ]
           ],
           "sequentialminus": [
            [
             0,
             "#0d0887"
            ],
            [
             0.1111111111111111,
             "#46039f"
            ],
            [
             0.2222222222222222,
             "#7201a8"
            ],
            [
             0.3333333333333333,
             "#9c179e"
            ],
            [
             0.4444444444444444,
             "#bd3786"
            ],
            [
             0.5555555555555556,
             "#d8576b"
            ],
            [
             0.6666666666666666,
             "#ed7953"
            ],
            [
             0.7777777777777778,
             "#fb9f3a"
            ],
            [
             0.8888888888888888,
             "#fdca26"
            ],
            [
             1,
             "#f0f921"
            ]
           ]
          },
          "colorway": [
           "#636efa",
           "#EF553B",
           "#00cc96",
           "#ab63fa",
           "#FFA15A",
           "#19d3f3",
           "#FF6692",
           "#B6E880",
           "#FF97FF",
           "#FECB52"
          ],
          "font": {
           "color": "#2a3f5f"
          },
          "geo": {
           "bgcolor": "white",
           "lakecolor": "white",
           "landcolor": "#E5ECF6",
           "showlakes": true,
           "showland": true,
           "subunitcolor": "white"
          },
          "hoverlabel": {
           "align": "left"
          },
          "hovermode": "closest",
          "mapbox": {
           "style": "light"
          },
          "paper_bgcolor": "white",
          "plot_bgcolor": "#E5ECF6",
          "polar": {
           "angularaxis": {
            "gridcolor": "white",
            "linecolor": "white",
            "ticks": ""
           },
           "bgcolor": "#E5ECF6",
           "radialaxis": {
            "gridcolor": "white",
            "linecolor": "white",
            "ticks": ""
           }
          },
          "scene": {
           "xaxis": {
            "backgroundcolor": "#E5ECF6",
            "gridcolor": "white",
            "gridwidth": 2,
            "linecolor": "white",
            "showbackground": true,
            "ticks": "",
            "zerolinecolor": "white"
           },
           "yaxis": {
            "backgroundcolor": "#E5ECF6",
            "gridcolor": "white",
            "gridwidth": 2,
            "linecolor": "white",
            "showbackground": true,
            "ticks": "",
            "zerolinecolor": "white"
           },
           "zaxis": {
            "backgroundcolor": "#E5ECF6",
            "gridcolor": "white",
            "gridwidth": 2,
            "linecolor": "white",
            "showbackground": true,
            "ticks": "",
            "zerolinecolor": "white"
           }
          },
          "shapedefaults": {
           "line": {
            "color": "#2a3f5f"
           }
          },
          "ternary": {
           "aaxis": {
            "gridcolor": "white",
            "linecolor": "white",
            "ticks": ""
           },
           "baxis": {
            "gridcolor": "white",
            "linecolor": "white",
            "ticks": ""
           },
           "bgcolor": "#E5ECF6",
           "caxis": {
            "gridcolor": "white",
            "linecolor": "white",
            "ticks": ""
           }
          },
          "title": {
           "x": 0.05
          },
          "xaxis": {
           "automargin": true,
           "gridcolor": "white",
           "linecolor": "white",
           "ticks": "",
           "title": {
            "standoff": 15
           },
           "zerolinecolor": "white",
           "zerolinewidth": 2
          },
          "yaxis": {
           "automargin": true,
           "gridcolor": "white",
           "linecolor": "white",
           "ticks": "",
           "title": {
            "standoff": 15
           },
           "zerolinecolor": "white",
           "zerolinewidth": 2
          }
         }
        },
        "title": {
         "text": "Evaluation Metrics for Multiclass Classification"
        },
        "width": 850,
        "xaxis": {
         "anchor": "y",
         "domain": [
          0,
          0.45
         ]
        },
        "xaxis2": {
         "anchor": "y2",
         "domain": [
          0.55,
          1
         ]
        },
        "yaxis": {
         "anchor": "x",
         "domain": [
          0,
          1
         ]
        },
        "yaxis2": {
         "anchor": "x2",
         "domain": [
          0,
          1
         ]
        }
       }
      }
     },
     "metadata": {},
     "output_type": "display_data"
    }
   ],
   "source": [
    "fig = make_subplots(rows=1, cols=2, subplot_titles=[\"Evaluation Metrics for DeSSI-MF\", \"Evaluation Metrics for Test Languages\"])\n",
    "\n",
    "colors = ['#636efa', '#EF553B']\n",
    "\n",
    "for e, results in enumerate([results_own_dataset_multiclass_gpt, results_test_lan_multiclass_gpt, results_df_all_data_cassed, results_df_two_lan_cassed]):\n",
    "    true = [set(a.split(\",\")) for a in results[\"True Label\"]]\n",
    "    pred = [set(a.split(\",\")) for a in results[\"Prediction\"]]\n",
    "    all_classes = set([item for sublist in true for item in sublist]).union(set([item for sublist in pred for item in sublist]))\n",
    "    mlb = MultiLabelBinarizer(classes=list(all_classes))\n",
    "    y_true = mlb.fit_transform(true)\n",
    "    y_pred = mlb.transform(pred)\n",
    "\n",
    "    accuracy = accuracy_score(y_true, y_pred)\n",
    "    f1 = f1_score(y_true, y_pred, average=\"weighted\")\n",
    "    f1_macro = f1_score(y_true, y_pred, average=\"macro\")\n",
    "    precision = precision_score(y_true, y_pred, average=\"weighted\", zero_division=0)\n",
    "    recall = recall_score(y_true, y_pred, average=\"weighted\", zero_division=0)\n",
    "\n",
    "    metrics = {\n",
    "        \"weighted Precision\": precision,\n",
    "        \"weighted Recall\": recall,\n",
    "        \"weighted F1 Score\": f1,\n",
    "        \"macro F1 Score\": f1_macro,\n",
    "        \"Accuracy\": accuracy,\n",
    "    }\n",
    "\n",
    "    fig.add_trace(go.Bar(\n",
    "        x=list(metrics.keys()),\n",
    "        y=list(metrics.values()), \n",
    "        name=\"GPT-4o\" if e < 2 else \"CASSED\",\n",
    "        showlegend=True if e%2 == 0 else False,\n",
    "        legendgroup=int(e/2),\n",
    "        marker=dict(color=colors[int(np.floor(e/2))])\n",
    "    ), row=1, col=(e%2)+1)\n",
    "\n",
    "fig.update_layout(\n",
    "    title=f\"Evaluation Metrics for Multiclass Classification\",\n",
    "    height=350, \n",
    "    width=850,\n",
    "    legend=dict(title=\"Model\")\n",
    ")\n",
    "\n",
    "fig.show()"
   ]
  },
  {
   "cell_type": "markdown",
   "metadata": {},
   "source": [
    "# Evaluation"
   ]
  },
  {
   "cell_type": "code",
   "execution_count": 6,
   "metadata": {},
   "outputs": [],
   "source": [
    "CLASS_NAMES = results_df_all_data_cassed[\"semantic_classes\"].unique()\n",
    "CLASS_NAMES = [a.lower().split(\"_\")[0] for a in CLASS_NAMES]\n",
    "\n",
    "def is_valid_word(word):\n",
    "    return word.lower().split(\"_\")[0] in CLASS_NAMES\n",
    "\n",
    "def analyse_results(results_gpt, results_cassed, dataset=\"DeSSI-MF\", width=1480, height=740, subplot_widths=[0.5,0.3,0.2], ticks=[0, 0.2, 0.4, 0.6, 0.8, 1.0]):\n",
    "    \n",
    "    fig1 = make_subplots(rows=2, cols=1, subplot_titles=[\"GPT-4o Accuracy by Class\", \"CASSED Accuracy by Class\"], vertical_spacing=0.075,\n",
    "                    shared_xaxes=True, y_title=\"Accuracy\")\n",
    "    \n",
    "    fig2 = make_subplots(\n",
    "    rows=1, cols=3, shared_yaxes=True, column_widths=subplot_widths,\n",
    "    subplot_titles=[\"Language\", \"Original Dataset\", \"Type of<br>Column Name\"]\n",
    "    )\n",
    "    \n",
    "    for enu, (results_df, col, name) in enumerate(\n",
    "        zip([results_gpt.copy(), results_cassed.copy()], ['#636efa', '#EF553B'], [\"GPT-4o\", \"CASSED\"])):\n",
    "        cla_new, lan = [], []\n",
    "        for i in range(len(results_df[\"semantic_classes\"])):\n",
    "            if \"mixed\" in results_df.iloc[i, 3] or \"de_DE\" in results_df.iloc[i, 3] or \"fr_FR\" in results_df.iloc[i, 3]:\n",
    "                cla_new.append(results_df.iloc[i, 3][:-6])\n",
    "            elif \"_en\" in results_df.iloc[i, 3] or \"_de\" in results_df.iloc[i, 3] or \"_fr\" in results_df.iloc[i, 3] or \"_it\" in results_df.iloc[i,3\n",
    "                                                                            ] or \"_zh\" in results_df.iloc[i,3]:\n",
    "                cla_new.append(results_df.iloc[i, 3][:-3])\n",
    "            elif \",\" in results_df.iloc[i, 3]:\n",
    "                cla_new.append([','.join(sorted(string.split(','))) for string in [results_df.iloc[i, 3]]][0])\n",
    "            else:\n",
    "                cla_new.append(results_df.iloc[i, 3])\n",
    "                \n",
    "            if \"mixed\" in results_df.iloc[i, 3]:\n",
    "                lan.append(\"mixed language\")\n",
    "            elif \"_fr\" == results_df.iloc[i,3][-3:].lower():\n",
    "                lan.append(\"french\")\n",
    "            elif \"_it\" == results_df.iloc[i,3][-3:].lower():\n",
    "                lan.append(\"italian\")\n",
    "            elif \"_zh\" == results_df.iloc[i,3][-3:].lower():\n",
    "                lan.append(\"chinese\")\n",
    "            elif \"_de\" == results_df.iloc[i,3][-3:].lower():\n",
    "                lan.append(\"german\")\n",
    "            elif \"_en\" == results_df.iloc[i,3][-3:].lower():\n",
    "                lan.append(\"english\")\n",
    "            else:\n",
    "                lan.append(\"dessi data\")\n",
    "        results_df[\"Classes_new\"] = cla_new\n",
    "        results_df[\"Language\"] = lan\n",
    "        \n",
    "\n",
    "        accuracies_lan = {}\n",
    "        for i in results_df[\"Language\"].unique():\n",
    "            lan_df = results_df.loc[results_df[\"Language\"] == i]\n",
    "            accuracies_lan[i] = accuracy_score(lan_df[\"True Label\"], lan_df[\"Prediction\"])\n",
    "        accuracies_cla = {}\n",
    "        for i in results_df[\"Classes_new\"].unique():\n",
    "            cla_df = results_df.loc[results_df[\"Classes_new\"] == i]\n",
    "            accuracies_cla[i] = accuracy_score(cla_df[\"True Label\"], cla_df[\"Prediction\"])\n",
    "        accuracies_dat = {}\n",
    "        for i in results_df[\"Dataset\"].unique():\n",
    "            dat_df = results_df.loc[results_df[\"Dataset\"] == i]\n",
    "            accuracies_dat[i] = accuracy_score(dat_df[\"True Label\"], dat_df[\"Prediction\"])\n",
    "        accuracies_col = {}\n",
    "        ind = []\n",
    "        for i in range(results_df.shape[0]):\n",
    "            if is_valid_word(results_df.iloc[i, 0]):\n",
    "                ind.append(i)\n",
    "        accuracies_col[\"valid_col_names\"] = accuracy_score(results_df.iloc[ind, 2], results_df.iloc[ind, 1])\n",
    "        accuracies_col[\"invalid_col_names\"] = accuracy_score(results_df.iloc[[a for a in range(results_df.shape[0]) if a not in ind], 2], \n",
    "                                                            results_df.iloc[[a for a in range(results_df.shape[0]) if a not in ind], 1])\n",
    "\n",
    "        accuracies_cla = dict(sorted(accuracies_cla.items(), key=lambda item: item[1], reverse=True))\n",
    "        accuracies_lan = dict(sorted(accuracies_lan.items(), key=lambda item: item[1], reverse=True))\n",
    "        accuracies_col = dict(sorted(accuracies_col.items(), key=lambda item: item[1], reverse=True))\n",
    "        accuracies_dat = dict(sorted(accuracies_dat.items(), key=lambda item: item[1], reverse=True))\n",
    "        \n",
    "        colors = [\n",
    "        \"#d62728\",  # Red (High Saturation)\n",
    "        \"#ff9896\",  # Red (Low Saturation)\n",
    "        \"#1f77b4\",  # Blue (High Saturation)\n",
    "        \"#aec7e8\",  # Blue (Low Saturation)\n",
    "        \"#ff7f0e\",  # Orange (High Saturation)\n",
    "        \"#ffbb78\",  # Orange (Low Saturation)\n",
    "        \"#2ca02c\",  # Green (High Saturation)\n",
    "        \"#98df8a\",  # Green (Low Saturation)\n",
    "        \"#9467bd\",  # Purple (High Saturation)\n",
    "        \"#c5b0d5\",  # Purple (Low Saturation)\n",
    "        ]\n",
    "\n",
    "        languages = ['english', 'french', 'german', 'mixed language', 'dessi data'] if dataset != \"Test Languages\" else [\"italian\", \"chinese\"]\n",
    "        for e, language in enumerate(languages):\n",
    "            lan_df = results_df.loc[results_df[\"Language\"] == language]\n",
    "            accuracies_cla = {}\n",
    "            for ee, col_valid in enumerate([True, False]):\n",
    "                percentage_of_this_language = []\n",
    "                for i in lan_df[\"Classes_new\"].unique():\n",
    "                    cla_df = lan_df.loc[lan_df[\"Classes_new\"] == i]\n",
    "                    ind = []\n",
    "                    for j in range(cla_df.shape[0]):\n",
    "                        if is_valid_word(cla_df.iloc[j, 0]) == col_valid:\n",
    "                            ind.append(j)\n",
    "                    cla_df = cla_df.iloc[ind,:]\n",
    "                    percentage_of_this_language.append(cla_df.shape[0] / results_df.loc[results_df[\"Classes_new\"] == i].shape[0])\n",
    "                    accuracies_cla[i] = (cla_df[\"True Label\"] == cla_df[\"Prediction\"]).value_counts(normalize=True).get(True, 0)\n",
    "                fig1.add_trace(go.Bar(\n",
    "                    x=list(accuracies_cla.keys()),\n",
    "                    y=[a * b for a, b in zip(list(accuracies_cla.values()), percentage_of_this_language)],\n",
    "                    marker=dict(color=colors[2*e+ee]),\n",
    "                    name=f\"{language}_\" + (\"valid\" if col_valid == True else \"invalid\") + \"<br>column name\",\n",
    "                    showlegend=True if enu == 0 else False,\n",
    "                    legendgroup=2*e+ee\n",
    "                ), row=enu+1, col=1)\n",
    "\n",
    "\n",
    "        fig2.add_trace(go.Bar(\n",
    "            x=list(accuracies_lan.keys()),\n",
    "            y=list(accuracies_lan.values()),\n",
    "            name=name,\n",
    "            showlegend=True,\n",
    "            legendgroup=enu,\n",
    "            marker=dict(color=col)\n",
    "        ), row=1, col=1)\n",
    "        fig2.add_trace(go.Bar(\n",
    "            x=list(accuracies_dat.keys()),\n",
    "            y=list(accuracies_dat.values()),\n",
    "            name=name,\n",
    "            showlegend=False,\n",
    "            legendgroup=enu,\n",
    "            marker=dict(color=col)\n",
    "        ), row=1, col=2)\n",
    "        fig2.add_trace(go.Bar(\n",
    "            x=[\"meaningful\", \"random generated\"],\n",
    "            y=list(accuracies_col.values()),\n",
    "            name=name,\n",
    "            showlegend=False,\n",
    "            legendgroup=enu,\n",
    "            marker=dict(color=col)\n",
    "        ), row=1, col=3)\n",
    "    fig1.update_layout(title=f\"Accuracy by Semantic Class for Personal Predictions on {dataset}\", width=width, height=height, barmode=\"stack\", legend=dict(title=\"Properties of Column\"),\n",
    "                       yaxis=dict(tickvals=ticks), yaxis2=dict(tickvals=ticks), yaxis3=dict(tickvals=ticks))\n",
    "    fig1.show()\n",
    "    fig2.update_layout(width=850, height=350, title=f\"Accuracy of Predictions by Language, Dataset, and Column Type on {dataset}\", yaxis=dict(title=\"Accuracy\"),\n",
    "                       legend=dict(title=\"Model\"))\n",
    "    fig2.show()"
   ]
  },
  {
   "cell_type": "code",
   "execution_count": 7,
   "metadata": {},
   "outputs": [
    {
     "data": {
      "application/vnd.plotly.v1+json": {
       "config": {
        "plotlyServerURL": "https://plot.ly"
       },
       "data": [
        {
         "legendgroup": "0",
         "marker": {
          "color": "#d62728"
         },
         "name": "english_valid<br>column name",
         "showlegend": true,
         "type": "bar",
         "x": [
          "city",
          "resolution",
          "gender",
          "phone_number",
          "cpu",
          "political_views",
          "last_name",
          "duration",
          "pyfloat",
          "nationality",
          "programming_language",
          "user_agent",
          "academic_degree",
          "manufacturer",
          "company",
          "swift",
          "graphics",
          "dish",
          "isbn13",
          "phone_model",
          "sex",
          "email",
          "ssn",
          "system_quality_attribute",
          "title",
          "address",
          "integer_number",
          "measure_unit",
          "color",
          "full_name",
          "credit_card_number",
          "date",
          "float_number",
          "pyint",
          "current_location",
          "language",
          "job",
          "worldview",
          "first_name",
          "passport_number",
          "version",
          "blood_type",
          "word",
          "occupation",
          "drink",
          "blood_group",
          "ean",
          "currency",
          "name",
          "isbn",
          "answer",
          "iban",
          "url",
          "credit_card_provider"
         ],
         "xaxis": "x",
         "y": [
          0.125,
          0.125,
          0.125,
          0.125,
          0.125,
          0.125,
          0.125,
          0.125,
          0.125,
          0.125,
          0.125,
          0.125,
          0.125,
          0.125,
          0.125,
          0.125,
          0.125,
          0.125,
          0.125,
          0.125,
          0.125,
          0.125,
          0.125,
          0.125,
          0.125,
          0.125,
          0.125,
          0.125,
          0.125,
          0.125,
          0.125,
          0.125,
          0.125,
          0.125,
          0.125,
          0.125,
          0.125,
          0.125,
          0.125,
          0.125,
          0.125,
          0.125,
          0.125,
          0.125,
          0.125,
          0.125,
          0.125,
          0.125,
          0.125,
          0.125,
          0.125,
          0.125,
          0.125,
          0.125
         ],
         "yaxis": "y"
        },
        {
         "legendgroup": "1",
         "marker": {
          "color": "#ff9896"
         },
         "name": "english_invalid<br>column name",
         "showlegend": true,
         "type": "bar",
         "x": [
          "city",
          "resolution",
          "gender",
          "phone_number",
          "cpu",
          "political_views",
          "last_name",
          "duration",
          "pyfloat",
          "nationality",
          "programming_language",
          "user_agent",
          "academic_degree",
          "manufacturer",
          "company",
          "swift",
          "graphics",
          "dish",
          "isbn13",
          "phone_model",
          "sex",
          "email",
          "ssn",
          "system_quality_attribute",
          "title",
          "address",
          "integer_number",
          "measure_unit",
          "color",
          "full_name",
          "credit_card_number",
          "date",
          "float_number",
          "pyint",
          "current_location",
          "language",
          "job",
          "worldview",
          "first_name",
          "passport_number",
          "version",
          "blood_type",
          "word",
          "occupation",
          "drink",
          "blood_group",
          "ean",
          "currency",
          "name",
          "isbn",
          "answer",
          "iban",
          "url",
          "credit_card_provider"
         ],
         "xaxis": "x",
         "y": [
          0.125,
          0.125,
          0.125,
          0.125,
          0.125,
          0.125,
          0.125,
          0.125,
          0.125,
          0.125,
          0.125,
          0.125,
          0.125,
          0.125,
          0.125,
          0.125,
          0.125,
          0.125,
          0.125,
          0.125,
          0.125,
          0.125,
          0.125,
          0.125,
          0.125,
          0.125,
          0.125,
          0.125,
          0.125,
          0.125,
          0.125,
          0.125,
          0.125,
          0.125,
          0.125,
          0.125,
          0.125,
          0.125,
          0.125,
          0,
          0,
          0.125,
          0.125,
          0.125,
          0.125,
          0.125,
          0,
          0.125,
          0.125,
          0.125,
          0.125,
          0.125,
          0.125,
          0.125
         ],
         "yaxis": "y"
        },
        {
         "legendgroup": "2",
         "marker": {
          "color": "#1f77b4"
         },
         "name": "french_valid<br>column name",
         "showlegend": true,
         "type": "bar",
         "x": [
          "date",
          "dish",
          "iban",
          "credit_card_provider",
          "system_quality_attribute",
          "swift",
          "integer_number",
          "blood_group",
          "occupation",
          "credit_card_number",
          "manufacturer",
          "company",
          "version",
          "measure_unit",
          "duration",
          "address",
          "blood_type",
          "color",
          "pyfloat",
          "pyint",
          "email",
          "user_agent",
          "last_name",
          "phone_number",
          "resolution",
          "name",
          "programming_language",
          "full_name",
          "currency",
          "drink",
          "current_location",
          "float_number",
          "sex",
          "graphics",
          "first_name",
          "title",
          "nationality",
          "ean",
          "ssn",
          "academic_degree",
          "worldview",
          "passport_number",
          "job",
          "isbn",
          "isbn13",
          "cpu",
          "language",
          "answer",
          "phone_model",
          "gender",
          "word",
          "url",
          "city",
          "political_views"
         ],
         "xaxis": "x",
         "y": [
          0.125,
          0.125,
          0.125,
          0.125,
          0.125,
          0.125,
          0.125,
          0.125,
          0.125,
          0.125,
          0.125,
          0.125,
          0.125,
          0.125,
          0.125,
          0.125,
          0.125,
          0.0625,
          0.125,
          0.125,
          0.125,
          0.125,
          0.125,
          0.125,
          0.125,
          0.125,
          0.125,
          0.125,
          0.125,
          0.125,
          0.125,
          0.125,
          0.125,
          0.125,
          0.125,
          0.125,
          0.125,
          0.125,
          0.125,
          0.125,
          0.125,
          0.125,
          0.125,
          0.125,
          0.125,
          0.125,
          0.125,
          0.125,
          0.125,
          0.125,
          0.125,
          0.125,
          0.125,
          0.125
         ],
         "yaxis": "y"
        },
        {
         "legendgroup": "3",
         "marker": {
          "color": "#aec7e8"
         },
         "name": "french_invalid<br>column name",
         "showlegend": true,
         "type": "bar",
         "x": [
          "date",
          "dish",
          "iban",
          "credit_card_provider",
          "system_quality_attribute",
          "swift",
          "integer_number",
          "blood_group",
          "occupation",
          "credit_card_number",
          "manufacturer",
          "company",
          "version",
          "measure_unit",
          "duration",
          "address",
          "blood_type",
          "color",
          "pyfloat",
          "pyint",
          "email",
          "user_agent",
          "last_name",
          "phone_number",
          "resolution",
          "name",
          "programming_language",
          "full_name",
          "currency",
          "drink",
          "current_location",
          "float_number",
          "sex",
          "graphics",
          "first_name",
          "title",
          "nationality",
          "ean",
          "ssn",
          "academic_degree",
          "worldview",
          "passport_number",
          "job",
          "isbn",
          "isbn13",
          "cpu",
          "language",
          "answer",
          "phone_model",
          "gender",
          "word",
          "url",
          "city",
          "political_views"
         ],
         "xaxis": "x",
         "y": [
          0.125,
          0.125,
          0.125,
          0.125,
          0.125,
          0,
          0.125,
          0.125,
          0.125,
          0.125,
          0.125,
          0.0625,
          0,
          0.125,
          0.125,
          0.125,
          0.125,
          0.125,
          0.125,
          0.125,
          0.125,
          0.125,
          0.125,
          0.125,
          0.125,
          0.125,
          0.125,
          0.125,
          0.125,
          0.125,
          0.125,
          0.125,
          0.125,
          0.125,
          0.125,
          0.125,
          0.125,
          0.125,
          0,
          0.125,
          0.125,
          0,
          0.125,
          0.125,
          0.125,
          0.125,
          0.125,
          0.125,
          0.125,
          0.125,
          0.125,
          0.125,
          0.125,
          0.125
         ],
         "yaxis": "y"
        },
        {
         "legendgroup": "4",
         "marker": {
          "color": "#ff7f0e"
         },
         "name": "german_valid<br>column name",
         "showlegend": true,
         "type": "bar",
         "x": [
          "credit_card_provider",
          "political_views",
          "company",
          "phone_model",
          "worldview",
          "credit_card_number",
          "answer",
          "full_name",
          "phone_number",
          "name",
          "email",
          "dish",
          "date",
          "sex",
          "blood_group",
          "blood_type",
          "pyint",
          "pyfloat",
          "gender",
          "address",
          "job",
          "isbn13",
          "currency",
          "url",
          "city",
          "color",
          "ssn",
          "system_quality_attribute",
          "last_name",
          "graphics",
          "academic_degree",
          "swift",
          "cpu",
          "manufacturer",
          "language",
          "programming_language",
          "ean",
          "iban",
          "integer_number",
          "nationality",
          "occupation",
          "float_number",
          "word",
          "first_name",
          "version",
          "user_agent",
          "measure_unit",
          "current_location",
          "duration",
          "resolution",
          "isbn",
          "drink",
          "title",
          "passport_number"
         ],
         "xaxis": "x",
         "y": [
          0.125,
          0.125,
          0.125,
          0.125,
          0.125,
          0.125,
          0.125,
          0.125,
          0.125,
          0,
          0.125,
          0.125,
          0.125,
          0.125,
          0.125,
          0.125,
          0.125,
          0.125,
          0.125,
          0.125,
          0.125,
          0.125,
          0.125,
          0.125,
          0.125,
          0.0625,
          0.125,
          0.125,
          0.125,
          0.125,
          0.125,
          0.125,
          0.125,
          0.125,
          0.125,
          0.125,
          0.125,
          0.125,
          0.125,
          0.125,
          0.125,
          0.125,
          0.125,
          0.125,
          0.125,
          0.125,
          0.125,
          0.125,
          0.125,
          0.125,
          0.125,
          0.125,
          0.125,
          0.125
         ],
         "yaxis": "y"
        },
        {
         "legendgroup": "5",
         "marker": {
          "color": "#ffbb78"
         },
         "name": "german_invalid<br>column name",
         "showlegend": true,
         "type": "bar",
         "x": [
          "credit_card_provider",
          "political_views",
          "company",
          "phone_model",
          "worldview",
          "credit_card_number",
          "answer",
          "full_name",
          "phone_number",
          "name",
          "email",
          "dish",
          "date",
          "sex",
          "blood_group",
          "blood_type",
          "pyint",
          "pyfloat",
          "gender",
          "address",
          "job",
          "isbn13",
          "currency",
          "url",
          "city",
          "color",
          "ssn",
          "system_quality_attribute",
          "last_name",
          "graphics",
          "academic_degree",
          "swift",
          "cpu",
          "manufacturer",
          "language",
          "programming_language",
          "ean",
          "iban",
          "integer_number",
          "nationality",
          "occupation",
          "float_number",
          "word",
          "first_name",
          "version",
          "user_agent",
          "measure_unit",
          "current_location",
          "duration",
          "resolution",
          "isbn",
          "drink",
          "title",
          "passport_number"
         ],
         "xaxis": "x",
         "y": [
          0.125,
          0.125,
          0.0625,
          0.125,
          0.125,
          0.125,
          0.125,
          0.125,
          0.125,
          0.125,
          0.125,
          0.125,
          0.125,
          0.125,
          0.125,
          0.125,
          0.125,
          0.125,
          0.125,
          0.125,
          0.125,
          0.125,
          0.125,
          0.125,
          0.125,
          0.125,
          0.125,
          0.125,
          0.125,
          0.125,
          0.125,
          0.125,
          0.125,
          0.125,
          0.125,
          0.125,
          0,
          0.125,
          0.125,
          0.125,
          0.125,
          0,
          0.125,
          0.125,
          0,
          0.125,
          0.125,
          0.125,
          0.125,
          0.125,
          0.125,
          0.125,
          0.125,
          0
         ],
         "yaxis": "y"
        },
        {
         "legendgroup": "6",
         "marker": {
          "color": "#2ca02c"
         },
         "name": "mixed language_valid<br>column name",
         "showlegend": true,
         "type": "bar",
         "x": [
          "drink",
          "integer_number",
          "color",
          "blood_type",
          "last_name",
          "name",
          "graphics",
          "credit_card_provider",
          "word",
          "current_location",
          "resolution",
          "full_name",
          "currency",
          "worldview",
          "url",
          "nationality",
          "pyint",
          "measure_unit",
          "passport_number",
          "isbn13",
          "address",
          "phone_number",
          "pyfloat",
          "duration",
          "date",
          "first_name",
          "job",
          "user_agent",
          "blood_group",
          "phone_model",
          "title",
          "credit_card_number",
          "float_number",
          "ssn",
          "gender",
          "company",
          "dish",
          "system_quality_attribute",
          "ean",
          "manufacturer",
          "email",
          "iban",
          "version",
          "occupation",
          "programming_language",
          "language",
          "isbn",
          "swift",
          "cpu",
          "answer",
          "academic_degree",
          "city",
          "sex",
          "political_views"
         ],
         "xaxis": "x",
         "y": [
          0.125,
          0.125,
          0.0625,
          0.125,
          0.125,
          0.125,
          0.125,
          0.125,
          0.125,
          0.125,
          0.125,
          0.125,
          0.125,
          0.125,
          0.125,
          0.125,
          0.125,
          0.125,
          0.125,
          0.125,
          0.125,
          0.125,
          0.125,
          0.125,
          0.125,
          0.125,
          0.125,
          0.125,
          0.125,
          0.125,
          0.125,
          0.125,
          0.125,
          0.125,
          0.125,
          0.125,
          0.125,
          0.125,
          0.125,
          0.125,
          0.125,
          0.125,
          0.125,
          0.125,
          0.125,
          0.125,
          0.125,
          0.125,
          0.125,
          0.125,
          0.125,
          0.125,
          0.125,
          0.125
         ],
         "yaxis": "y"
        },
        {
         "legendgroup": "7",
         "marker": {
          "color": "#98df8a"
         },
         "name": "mixed language_invalid<br>column name",
         "showlegend": true,
         "type": "bar",
         "x": [
          "drink",
          "integer_number",
          "color",
          "blood_type",
          "last_name",
          "name",
          "graphics",
          "credit_card_provider",
          "word",
          "current_location",
          "resolution",
          "full_name",
          "currency",
          "worldview",
          "url",
          "nationality",
          "pyint",
          "measure_unit",
          "passport_number",
          "isbn13",
          "address",
          "phone_number",
          "pyfloat",
          "duration",
          "date",
          "first_name",
          "job",
          "user_agent",
          "blood_group",
          "phone_model",
          "title",
          "credit_card_number",
          "float_number",
          "ssn",
          "gender",
          "company",
          "dish",
          "system_quality_attribute",
          "ean",
          "manufacturer",
          "email",
          "iban",
          "version",
          "occupation",
          "programming_language",
          "language",
          "isbn",
          "swift",
          "cpu",
          "answer",
          "academic_degree",
          "city",
          "sex",
          "political_views"
         ],
         "xaxis": "x",
         "y": [
          0.125,
          0.125,
          0.125,
          0.125,
          0.125,
          0,
          0.125,
          0.125,
          0.125,
          0.125,
          0.125,
          0.125,
          0.125,
          0.125,
          0.125,
          0.125,
          0.125,
          0.125,
          0,
          0.125,
          0.125,
          0.125,
          0.125,
          0.125,
          0.125,
          0.125,
          0.125,
          0.125,
          0.125,
          0.125,
          0.125,
          0.0625,
          0.125,
          0.125,
          0.125,
          0.0625,
          0.125,
          0.125,
          0.125,
          0.125,
          0.125,
          0.125,
          0,
          0.125,
          0.125,
          0.125,
          0.125,
          0,
          0.125,
          0.125,
          0.125,
          0.125,
          0.125,
          0.125
         ],
         "yaxis": "y"
        },
        {
         "legendgroup": "8",
         "marker": {
          "color": "#9467bd"
         },
         "name": "dessi data_valid<br>column name",
         "showlegend": true,
         "type": "bar",
         "x": [
          "NIN",
          "Date,NIN",
          "ID_Card",
          "Passport",
          "GPE",
          "CCN",
          "Phone_number",
          "SWIFT/BIC",
          "Date",
          "Email",
          "Email,NIN",
          "Nationality",
          "Religion",
          "Email,Phone_number",
          "Organization",
          "NIN,Phone_number",
          "Race",
          "Sexuality",
          "Gender",
          "Geolocation",
          "IBAN"
         ],
         "xaxis": "x",
         "y": [
          0.5,
          0.5,
          0.5,
          0.5,
          0.5,
          0.5,
          0.5,
          0.5,
          0.5,
          0.5,
          0.25,
          0.5,
          0.5,
          0.5,
          0,
          0.5,
          0.5,
          0.5,
          0.5,
          0.5,
          0.5
         ],
         "yaxis": "y"
        },
        {
         "legendgroup": "9",
         "marker": {
          "color": "#c5b0d5"
         },
         "name": "dessi data_invalid<br>column name",
         "showlegend": true,
         "type": "bar",
         "x": [
          "NIN",
          "Date,NIN",
          "ID_Card",
          "Passport",
          "GPE",
          "CCN",
          "Phone_number",
          "SWIFT/BIC",
          "Date",
          "Email",
          "Email,NIN",
          "Nationality",
          "Religion",
          "Email,Phone_number",
          "Organization",
          "NIN,Phone_number",
          "Race",
          "Sexuality",
          "Gender",
          "Geolocation",
          "IBAN"
         ],
         "xaxis": "x",
         "y": [
          0.5,
          0,
          0,
          0.5,
          0,
          0.5,
          0.5,
          0.5,
          0.5,
          0.5,
          0,
          0.5,
          0.5,
          0.5,
          0.5,
          0,
          0.5,
          0.5,
          0.5,
          0.5,
          0.5
         ],
         "yaxis": "y"
        },
        {
         "legendgroup": "0",
         "marker": {
          "color": "#d62728"
         },
         "name": "english_valid<br>column name",
         "showlegend": false,
         "type": "bar",
         "x": [
          "company",
          "academic_degree",
          "political_views",
          "color",
          "currency",
          "credit_card_provider",
          "language",
          "ean",
          "cpu",
          "graphics",
          "float_number",
          "word",
          "isbn13",
          "job",
          "phone_number",
          "email",
          "programming_language",
          "blood_type",
          "worldview",
          "title",
          "credit_card_number",
          "pyint",
          "current_location",
          "pyfloat",
          "first_name",
          "resolution",
          "last_name",
          "url",
          "ssn",
          "manufacturer",
          "nationality",
          "sex",
          "occupation",
          "blood_group",
          "integer_number",
          "dish",
          "system_quality_attribute",
          "version",
          "passport_number",
          "date",
          "swift",
          "answer",
          "city",
          "duration",
          "address",
          "name",
          "full_name",
          "drink",
          "user_agent",
          "isbn",
          "iban",
          "measure_unit",
          "phone_model",
          "gender"
         ],
         "xaxis": "x2",
         "y": [
          0.11963882618510158,
          0.10552763819095477,
          0.13,
          0.1309255079006772,
          0.12027491408934708,
          0.12758620689655173,
          0.115,
          0.12027491408934708,
          0.125,
          0.13157894736842105,
          0.125,
          0.13157894736842105,
          0.13494809688581316,
          0.11842105263157894,
          0.12412177985948478,
          0.11214953271028037,
          0.09868421052631579,
          0.12060301507537688,
          0.095,
          0.13,
          0.13317757009345793,
          0.13402061855670103,
          0.13596491228070176,
          0.14186851211072665,
          0.13348946135831383,
          0.11842105263157894,
          0.12910798122065728,
          0.13058419243986255,
          0.12831858407079647,
          0.1118421052631579,
          0.125,
          0.12280701754385964,
          0.1111111111111111,
          0.13596491228070176,
          0.13815789473684212,
          0.1118421052631579,
          0.14473684210526316,
          0.11842105263157894,
          0.09649122807017543,
          0.1310344827586207,
          0.11971830985915492,
          0.1118421052631579,
          0.11842105263157894,
          0.14473684210526316,
          0.1261682242990654,
          0.14222222222222222,
          0.13131313131313133,
          0.13157894736842105,
          0.10526315789473684,
          0.09868421052631579,
          0.10964912280701754,
          0.13815789473684212,
          0.17105263157894737,
          0.125
         ],
         "yaxis": "y2"
        },
        {
         "legendgroup": "1",
         "marker": {
          "color": "#ff9896"
         },
         "name": "english_invalid<br>column name",
         "showlegend": false,
         "type": "bar",
         "x": [
          "company",
          "academic_degree",
          "political_views",
          "color",
          "currency",
          "credit_card_provider",
          "language",
          "ean",
          "cpu",
          "graphics",
          "float_number",
          "word",
          "isbn13",
          "job",
          "phone_number",
          "email",
          "programming_language",
          "blood_type",
          "worldview",
          "title",
          "credit_card_number",
          "pyint",
          "current_location",
          "pyfloat",
          "first_name",
          "resolution",
          "last_name",
          "url",
          "ssn",
          "manufacturer",
          "nationality",
          "sex",
          "occupation",
          "blood_group",
          "integer_number",
          "dish",
          "system_quality_attribute",
          "version",
          "passport_number",
          "date",
          "swift",
          "answer",
          "city",
          "duration",
          "address",
          "name",
          "full_name",
          "drink",
          "user_agent",
          "isbn",
          "iban",
          "measure_unit",
          "phone_model",
          "gender"
         ],
         "xaxis": "x2",
         "y": [
          0.1309255079006772,
          0.1457286432160804,
          0.12,
          0.11963882618510158,
          0.13058419243986255,
          0.1206896551724138,
          0.135,
          0.13058419243986255,
          0.125,
          0.11842105263157894,
          0.125,
          0.11842105263157894,
          0.11418685121107267,
          0.13157894736842105,
          0.12646370023419204,
          0.1378504672897196,
          0.1513157894736842,
          0.12562814070351758,
          0.155,
          0.12,
          0.11682242990654206,
          0.1134020618556701,
          0.11403508771929824,
          0.10726643598615918,
          0.11475409836065574,
          0.13157894736842105,
          0.11971830985915492,
          0.11683848797250859,
          0.11946902654867257,
          0.13815789473684212,
          0.125,
          0.12719298245614036,
          0.13636363636363635,
          0.11403508771929824,
          0.1118421052631579,
          0.13815789473684212,
          0.10526315789473684,
          0.13157894736842105,
          0.15350877192982457,
          0.11724137931034483,
          0.12323943661971831,
          0.13815789473684212,
          0.13157894736842105,
          0.10526315789473684,
          0.12383177570093458,
          0.10666666666666667,
          0.11616161616161616,
          0.11842105263157894,
          0.14473684210526316,
          0.1513157894736842,
          0.14035087719298245,
          0.1118421052631579,
          0.07894736842105263,
          0.125
         ],
         "yaxis": "y2"
        },
        {
         "legendgroup": "2",
         "marker": {
          "color": "#1f77b4"
         },
         "name": "french_valid<br>column name",
         "showlegend": false,
         "type": "bar",
         "x": [
          "credit_card_number",
          "credit_card_provider",
          "email",
          "ean",
          "measure_unit",
          "ssn",
          "first_name",
          "swift",
          "currency",
          "isbn",
          "date",
          "phone_model",
          "company",
          "language",
          "pyfloat",
          "pyint",
          "last_name",
          "integer_number",
          "blood_group",
          "word",
          "passport_number",
          "political_views",
          "color",
          "url",
          "float_number",
          "blood_type",
          "academic_degree",
          "full_name",
          "gender",
          "dish",
          "current_location",
          "address",
          "drink",
          "phone_number",
          "occupation",
          "title",
          "cpu",
          "duration",
          "isbn13",
          "user_agent",
          "graphics",
          "city",
          "name",
          "answer",
          "nationality",
          "sex",
          "worldview",
          "job",
          "manufacturer",
          "iban",
          "programming_language",
          "version",
          "system_quality_attribute",
          "resolution"
         ],
         "xaxis": "x2",
         "y": [
          0.13317757009345793,
          0.1310344827586207,
          0.1261682242990654,
          0.12714776632302405,
          0.11842105263157894,
          0.11946902654867257,
          0.1358313817330211,
          0.1267605633802817,
          0.14776632302405499,
          0.1118421052631579,
          0.11379310344827587,
          0.10526315789473684,
          0.09029345372460497,
          0.125,
          0.13494809688581316,
          0.12714776632302405,
          0.1056338028169014,
          0.06578947368421052,
          0.13596491228070176,
          0.10526315789473684,
          0.12719298245614036,
          0.115,
          0.11963882618510158,
          0.13745704467353953,
          0.13157894736842105,
          0.1407035175879397,
          0.11557788944723618,
          0.12121212121212122,
          0.11,
          0.125,
          0.11842105263157894,
          0.11682242990654206,
          0.11842105263157894,
          0.13817330210772832,
          0.09595959595959595,
          0.155,
          0.13157894736842105,
          0.13157894736842105,
          0.11764705882352941,
          0.125,
          0.14473684210526316,
          0.125,
          0.11555555555555555,
          0.13157894736842105,
          0.14,
          0.12280701754385964,
          0.135,
          0.11403508771929824,
          0.13815789473684212,
          0.12719298245614036,
          0.10526315789473684,
          0.15789473684210525,
          0.11842105263157894,
          0.125
         ],
         "yaxis": "y2"
        },
        {
         "legendgroup": "3",
         "marker": {
          "color": "#aec7e8"
         },
         "name": "french_invalid<br>column name",
         "showlegend": false,
         "type": "bar",
         "x": [
          "credit_card_number",
          "credit_card_provider",
          "email",
          "ean",
          "measure_unit",
          "ssn",
          "first_name",
          "swift",
          "currency",
          "isbn",
          "date",
          "phone_model",
          "company",
          "language",
          "pyfloat",
          "pyint",
          "last_name",
          "integer_number",
          "blood_group",
          "word",
          "passport_number",
          "political_views",
          "color",
          "url",
          "float_number",
          "blood_type",
          "academic_degree",
          "full_name",
          "gender",
          "dish",
          "current_location",
          "address",
          "drink",
          "phone_number",
          "occupation",
          "title",
          "cpu",
          "duration",
          "isbn13",
          "user_agent",
          "graphics",
          "city",
          "name",
          "answer",
          "nationality",
          "sex",
          "worldview",
          "job",
          "manufacturer",
          "iban",
          "programming_language",
          "version",
          "system_quality_attribute",
          "resolution"
         ],
         "xaxis": "x2",
         "y": [
          0.11682242990654206,
          0.1206896551724138,
          0.12383177570093458,
          0.12371134020618557,
          0.13157894736842105,
          0.13274336283185842,
          0.11475409836065574,
          0.1267605633802817,
          0.09965635738831616,
          0.13815789473684212,
          0.13793103448275862,
          0.14473684210526316,
          0.16027088036117382,
          0.125,
          0.11418685121107267,
          0.12371134020618557,
          0.14553990610328638,
          0.18421052631578946,
          0.11403508771929824,
          0.14473684210526316,
          0.12280701754385964,
          0.135,
          0.1309255079006772,
          0.1134020618556701,
          0.11842105263157894,
          0.11055276381909548,
          0.135678391959799,
          0.12626262626262627,
          0.14,
          0.125,
          0.13157894736842105,
          0.13317757009345793,
          0.13157894736842105,
          0.11007025761124122,
          0.15151515151515152,
          0.095,
          0.11842105263157894,
          0.11842105263157894,
          0.1314878892733564,
          0.125,
          0.10526315789473684,
          0.125,
          0.13333333333333333,
          0.11842105263157894,
          0.11,
          0.12719298245614036,
          0.115,
          0.13596491228070176,
          0.1118421052631579,
          0.12280701754385964,
          0.14473684210526316,
          0.09210526315789473,
          0.13157894736842105,
          0.125
         ],
         "yaxis": "y2"
        },
        {
         "legendgroup": "4",
         "marker": {
          "color": "#ff7f0e"
         },
         "name": "german_valid<br>column name",
         "showlegend": false,
         "type": "bar",
         "x": [
          "pyint",
          "pyfloat",
          "academic_degree",
          "gender",
          "last_name",
          "address",
          "blood_type",
          "sex",
          "credit_card_provider",
          "swift",
          "company",
          "url",
          "color",
          "integer_number",
          "title",
          "currency",
          "full_name",
          "graphics",
          "isbn",
          "blood_group",
          "ssn",
          "measure_unit",
          "ean",
          "first_name",
          "system_quality_attribute",
          "email",
          "phone_number",
          "job",
          "occupation",
          "drink",
          "isbn13",
          "word",
          "date",
          "programming_language",
          "iban",
          "manufacturer",
          "phone_model",
          "language",
          "float_number",
          "nationality",
          "name",
          "passport_number",
          "city",
          "current_location",
          "credit_card_number",
          "political_views",
          "duration",
          "worldview",
          "cpu",
          "resolution",
          "user_agent",
          "dish",
          "version",
          "answer"
         ],
         "xaxis": "x2",
         "y": [
          0.13745704467353953,
          0.13494809688581316,
          0.135678391959799,
          0.12,
          0.12441314553990611,
          0.1191588785046729,
          0.10050251256281408,
          0.10964912280701754,
          0.1310344827586207,
          0.12323943661971831,
          0.10609480812641084,
          0.11683848797250859,
          0.1399548532731377,
          0.13157894736842105,
          0.11,
          0.12371134020618557,
          0.12626262626262627,
          0.09210526315789473,
          0.125,
          0.11403508771929824,
          0.12831858407079647,
          0.1118421052631579,
          0.12714776632302405,
          0.12412177985948478,
          0.10526315789473684,
          0.11682242990654206,
          0.1358313817330211,
          0.11403508771929824,
          0.13131313131313133,
          0.13815789473684212,
          0.1522491349480969,
          0.13157894736842105,
          0.1103448275862069,
          0.14473684210526316,
          0.14035087719298245,
          0.13815789473684212,
          0.13157894736842105,
          0.115,
          0.14473684210526316,
          0.135,
          0.1288888888888889,
          0.14912280701754385,
          0.125,
          0.10526315789473684,
          0.11448598130841121,
          0.095,
          0.125,
          0.125,
          0.11842105263157894,
          0.125,
          0.14473684210526316,
          0.1118421052631579,
          0.11842105263157894,
          0.10526315789473684
         ],
         "yaxis": "y2"
        },
        {
         "legendgroup": "5",
         "marker": {
          "color": "#ffbb78"
         },
         "name": "german_invalid<br>column name",
         "showlegend": false,
         "type": "bar",
         "x": [
          "pyint",
          "pyfloat",
          "academic_degree",
          "gender",
          "last_name",
          "address",
          "blood_type",
          "sex",
          "credit_card_provider",
          "swift",
          "company",
          "url",
          "color",
          "integer_number",
          "title",
          "currency",
          "full_name",
          "graphics",
          "isbn",
          "blood_group",
          "ssn",
          "measure_unit",
          "ean",
          "first_name",
          "system_quality_attribute",
          "email",
          "phone_number",
          "job",
          "occupation",
          "drink",
          "isbn13",
          "word",
          "date",
          "programming_language",
          "iban",
          "manufacturer",
          "phone_model",
          "language",
          "float_number",
          "nationality",
          "name",
          "passport_number",
          "city",
          "current_location",
          "credit_card_number",
          "political_views",
          "duration",
          "worldview",
          "cpu",
          "resolution",
          "user_agent",
          "dish",
          "version",
          "answer"
         ],
         "xaxis": "x2",
         "y": [
          0.1134020618556701,
          0.11764705882352941,
          0.11557788944723618,
          0.13,
          0.12441314553990611,
          0.1308411214953271,
          0.1507537688442211,
          0.14035087719298245,
          0.1206896551724138,
          0.13028169014084506,
          0.14221218961625282,
          0.13402061855670103,
          0.10835214446952596,
          0.11842105263157894,
          0.14,
          0.12714776632302405,
          0.12626262626262627,
          0.15789473684210525,
          0.125,
          0.13596491228070176,
          0.12389380530973451,
          0.13815789473684212,
          0.12371134020618557,
          0.12646370023419204,
          0.14473684210526316,
          0.13317757009345793,
          0.11475409836065574,
          0.13596491228070176,
          0.12121212121212122,
          0.1118421052631579,
          0.10034602076124567,
          0.11842105263157894,
          0.1413793103448276,
          0.10526315789473684,
          0.10964912280701754,
          0.1118421052631579,
          0.11842105263157894,
          0.135,
          0.10526315789473684,
          0.115,
          0.12444444444444444,
          0.10087719298245613,
          0.125,
          0.14473684210526316,
          0.13551401869158877,
          0.155,
          0.125,
          0.125,
          0.13157894736842105,
          0.125,
          0.10526315789473684,
          0.13815789473684212,
          0.13157894736842105,
          0.14473684210526316
         ],
         "yaxis": "y2"
        },
        {
         "legendgroup": "6",
         "marker": {
          "color": "#2ca02c"
         },
         "name": "mixed language_valid<br>column name",
         "showlegend": false,
         "type": "bar",
         "x": [
          "swift",
          "credit_card_number",
          "political_views",
          "pyint",
          "float_number",
          "last_name",
          "address",
          "current_location",
          "phone_number",
          "isbn13",
          "manufacturer",
          "company",
          "title",
          "color",
          "job",
          "occupation",
          "word",
          "date",
          "cpu",
          "integer_number",
          "passport_number",
          "phone_model",
          "city",
          "academic_degree",
          "url",
          "ssn",
          "system_quality_attribute",
          "gender",
          "ean",
          "first_name",
          "iban",
          "sex",
          "drink",
          "email",
          "pyfloat",
          "currency",
          "answer",
          "measure_unit",
          "blood_group",
          "user_agent",
          "credit_card_provider",
          "name",
          "programming_language",
          "dish",
          "full_name",
          "language",
          "worldview",
          "duration",
          "resolution",
          "version",
          "graphics",
          "isbn",
          "blood_type",
          "nationality"
         ],
         "xaxis": "x2",
         "y": [
          0.11619718309859155,
          0.1261682242990654,
          0.135,
          0.11683848797250859,
          0.13157894736842105,
          0.12441314553990611,
          0.11448598130841121,
          0.13596491228070176,
          0.1451990632318501,
          0.14878892733564014,
          0.125,
          0.11963882618510158,
          0.135,
          0.12641083521444696,
          0.13596491228070176,
          0.10101010101010101,
          0.13157894736842105,
          0.10344827586206896,
          0.13815789473684212,
          0.125,
          0.13157894736842105,
          0.13157894736842105,
          0.1118421052631579,
          0.1407035175879397,
          0.13402061855670103,
          0.12389380530973451,
          0.125,
          0.135,
          0.13058419243986255,
          0.11241217798594848,
          0.14035087719298245,
          0.11842105263157894,
          0.1118421052631579,
          0.12149532710280374,
          0.12110726643598616,
          0.13058419243986255,
          0.17105263157894737,
          0.125,
          0.12719298245614036,
          0.13815789473684212,
          0.1103448275862069,
          0.10666666666666667,
          0.1513157894736842,
          0.125,
          0.11616161616161616,
          0.13,
          0.115,
          0.10526315789473684,
          0.1118421052631579,
          0.125,
          0.1118421052631579,
          0.09868421052631579,
          0.11557788944723618,
          0.1
         ],
         "yaxis": "y2"
        },
        {
         "legendgroup": "7",
         "marker": {
          "color": "#98df8a"
         },
         "name": "mixed language_invalid<br>column name",
         "showlegend": false,
         "type": "bar",
         "x": [
          "swift",
          "credit_card_number",
          "political_views",
          "pyint",
          "float_number",
          "last_name",
          "address",
          "current_location",
          "phone_number",
          "isbn13",
          "manufacturer",
          "company",
          "title",
          "color",
          "job",
          "occupation",
          "word",
          "date",
          "cpu",
          "integer_number",
          "passport_number",
          "phone_model",
          "city",
          "academic_degree",
          "url",
          "ssn",
          "system_quality_attribute",
          "gender",
          "ean",
          "first_name",
          "iban",
          "sex",
          "drink",
          "email",
          "pyfloat",
          "currency",
          "answer",
          "measure_unit",
          "blood_group",
          "user_agent",
          "credit_card_provider",
          "name",
          "programming_language",
          "dish",
          "full_name",
          "language",
          "worldview",
          "duration",
          "resolution",
          "version",
          "graphics",
          "isbn",
          "blood_type",
          "nationality"
         ],
         "xaxis": "x2",
         "y": [
          0.13380281690140844,
          0.12383177570093458,
          0.115,
          0.13402061855670103,
          0.11842105263157894,
          0.1267605633802817,
          0.13551401869158877,
          0.11403508771929824,
          0.1053864168618267,
          0.10034602076124567,
          0.125,
          0.1309255079006772,
          0.115,
          0.12415349887133183,
          0.11403508771929824,
          0.15151515151515152,
          0.11842105263157894,
          0.14482758620689656,
          0.1118421052631579,
          0.125,
          0.11842105263157894,
          0.11842105263157894,
          0.13815789473684212,
          0.10552763819095477,
          0.11683848797250859,
          0.12389380530973451,
          0.125,
          0.115,
          0.11683848797250859,
          0.13817330210772832,
          0.10964912280701754,
          0.13157894736842105,
          0.13815789473684212,
          0.12850467289719625,
          0.12802768166089964,
          0.12027491408934708,
          0.07894736842105263,
          0.125,
          0.12280701754385964,
          0.1118421052631579,
          0.13793103448275862,
          0.14222222222222222,
          0.09868421052631579,
          0.125,
          0.13636363636363635,
          0.12,
          0.135,
          0.14473684210526316,
          0.13815789473684212,
          0.125,
          0.13815789473684212,
          0.1513157894736842,
          0.135678391959799,
          0.15
         ],
         "yaxis": "y2"
        },
        {
         "legendgroup": "8",
         "marker": {
          "color": "#9467bd"
         },
         "name": "dessi data_valid<br>column name",
         "showlegend": false,
         "type": "bar",
         "x": [
          "Date",
          "Geolocation",
          "Email,Phone_number",
          "CCN",
          "NIN",
          "Phone_number",
          "Gender",
          "Date,NIN",
          "Email,NIN",
          "NIN,Phone_number",
          "Race",
          "Sexuality",
          "Nationality",
          "Passport",
          "IBAN",
          "SWIFT/BIC",
          "Religion",
          "Organization",
          "GPE",
          "ID_Card",
          "Email"
         ],
         "xaxis": "x2",
         "y": [
          0.10714285714285714,
          0,
          0.1206896551724138,
          0,
          0.029850746268656716,
          0.0594059405940594,
          0,
          0.08333333333333333,
          0.07017543859649122,
          0.09090909090909091,
          0,
          0.05263157894736842,
          0,
          0.09523809523809523,
          0,
          0.046511627906976744,
          0.05555555555555555,
          0,
          0,
          0,
          0.25
         ],
         "yaxis": "y2"
        },
        {
         "legendgroup": "9",
         "marker": {
          "color": "#c5b0d5"
         },
         "name": "dessi data_invalid<br>column name",
         "showlegend": false,
         "type": "bar",
         "x": [
          "Date",
          "Geolocation",
          "Email,Phone_number",
          "CCN",
          "NIN",
          "Phone_number",
          "Gender",
          "Date,NIN",
          "Email,NIN",
          "NIN,Phone_number",
          "Race",
          "Sexuality",
          "Nationality",
          "Passport",
          "IBAN",
          "SWIFT/BIC",
          "Religion",
          "Organization",
          "GPE",
          "ID_Card",
          "Email"
         ],
         "xaxis": "x2",
         "y": [
          0.8928571428571429,
          1,
          0.8793103448275862,
          1,
          0.9701492537313433,
          0.9405940594059405,
          1,
          0.9166666666666666,
          0.9298245614035088,
          0.9090909090909091,
          1,
          0.9473684210526315,
          1,
          0.9047619047619048,
          1,
          0.9534883720930233,
          0.9444444444444444,
          1,
          1,
          1,
          0.75
         ],
         "yaxis": "y2"
        }
       ],
       "layout": {
        "annotations": [
         {
          "font": {
           "size": 16
          },
          "showarrow": false,
          "text": "GPT-4o Accuracy by Class",
          "x": 0.5,
          "xanchor": "center",
          "xref": "paper",
          "y": 1,
          "yanchor": "bottom",
          "yref": "paper"
         },
         {
          "font": {
           "size": 16
          },
          "showarrow": false,
          "text": "CASSED Accuracy by Class",
          "x": 0.5,
          "xanchor": "center",
          "xref": "paper",
          "y": 0.4625,
          "yanchor": "bottom",
          "yref": "paper"
         },
         {
          "font": {
           "size": 16
          },
          "showarrow": false,
          "text": "Accuracy",
          "textangle": -90,
          "x": 0,
          "xanchor": "right",
          "xref": "paper",
          "xshift": -40,
          "y": 0.5,
          "yanchor": "middle",
          "yref": "paper"
         }
        ],
        "barmode": "stack",
        "height": 740,
        "legend": {
         "title": {
          "text": "Properties of Column"
         }
        },
        "template": {
         "data": {
          "bar": [
           {
            "error_x": {
             "color": "#2a3f5f"
            },
            "error_y": {
             "color": "#2a3f5f"
            },
            "marker": {
             "line": {
              "color": "#E5ECF6",
              "width": 0.5
             },
             "pattern": {
              "fillmode": "overlay",
              "size": 10,
              "solidity": 0.2
             }
            },
            "type": "bar"
           }
          ],
          "barpolar": [
           {
            "marker": {
             "line": {
              "color": "#E5ECF6",
              "width": 0.5
             },
             "pattern": {
              "fillmode": "overlay",
              "size": 10,
              "solidity": 0.2
             }
            },
            "type": "barpolar"
           }
          ],
          "carpet": [
           {
            "aaxis": {
             "endlinecolor": "#2a3f5f",
             "gridcolor": "white",
             "linecolor": "white",
             "minorgridcolor": "white",
             "startlinecolor": "#2a3f5f"
            },
            "baxis": {
             "endlinecolor": "#2a3f5f",
             "gridcolor": "white",
             "linecolor": "white",
             "minorgridcolor": "white",
             "startlinecolor": "#2a3f5f"
            },
            "type": "carpet"
           }
          ],
          "choropleth": [
           {
            "colorbar": {
             "outlinewidth": 0,
             "ticks": ""
            },
            "type": "choropleth"
           }
          ],
          "contour": [
           {
            "colorbar": {
             "outlinewidth": 0,
             "ticks": ""
            },
            "colorscale": [
             [
              0,
              "#0d0887"
             ],
             [
              0.1111111111111111,
              "#46039f"
             ],
             [
              0.2222222222222222,
              "#7201a8"
             ],
             [
              0.3333333333333333,
              "#9c179e"
             ],
             [
              0.4444444444444444,
              "#bd3786"
             ],
             [
              0.5555555555555556,
              "#d8576b"
             ],
             [
              0.6666666666666666,
              "#ed7953"
             ],
             [
              0.7777777777777778,
              "#fb9f3a"
             ],
             [
              0.8888888888888888,
              "#fdca26"
             ],
             [
              1,
              "#f0f921"
             ]
            ],
            "type": "contour"
           }
          ],
          "contourcarpet": [
           {
            "colorbar": {
             "outlinewidth": 0,
             "ticks": ""
            },
            "type": "contourcarpet"
           }
          ],
          "heatmap": [
           {
            "colorbar": {
             "outlinewidth": 0,
             "ticks": ""
            },
            "colorscale": [
             [
              0,
              "#0d0887"
             ],
             [
              0.1111111111111111,
              "#46039f"
             ],
             [
              0.2222222222222222,
              "#7201a8"
             ],
             [
              0.3333333333333333,
              "#9c179e"
             ],
             [
              0.4444444444444444,
              "#bd3786"
             ],
             [
              0.5555555555555556,
              "#d8576b"
             ],
             [
              0.6666666666666666,
              "#ed7953"
             ],
             [
              0.7777777777777778,
              "#fb9f3a"
             ],
             [
              0.8888888888888888,
              "#fdca26"
             ],
             [
              1,
              "#f0f921"
             ]
            ],
            "type": "heatmap"
           }
          ],
          "heatmapgl": [
           {
            "colorbar": {
             "outlinewidth": 0,
             "ticks": ""
            },
            "colorscale": [
             [
              0,
              "#0d0887"
             ],
             [
              0.1111111111111111,
              "#46039f"
             ],
             [
              0.2222222222222222,
              "#7201a8"
             ],
             [
              0.3333333333333333,
              "#9c179e"
             ],
             [
              0.4444444444444444,
              "#bd3786"
             ],
             [
              0.5555555555555556,
              "#d8576b"
             ],
             [
              0.6666666666666666,
              "#ed7953"
             ],
             [
              0.7777777777777778,
              "#fb9f3a"
             ],
             [
              0.8888888888888888,
              "#fdca26"
             ],
             [
              1,
              "#f0f921"
             ]
            ],
            "type": "heatmapgl"
           }
          ],
          "histogram": [
           {
            "marker": {
             "pattern": {
              "fillmode": "overlay",
              "size": 10,
              "solidity": 0.2
             }
            },
            "type": "histogram"
           }
          ],
          "histogram2d": [
           {
            "colorbar": {
             "outlinewidth": 0,
             "ticks": ""
            },
            "colorscale": [
             [
              0,
              "#0d0887"
             ],
             [
              0.1111111111111111,
              "#46039f"
             ],
             [
              0.2222222222222222,
              "#7201a8"
             ],
             [
              0.3333333333333333,
              "#9c179e"
             ],
             [
              0.4444444444444444,
              "#bd3786"
             ],
             [
              0.5555555555555556,
              "#d8576b"
             ],
             [
              0.6666666666666666,
              "#ed7953"
             ],
             [
              0.7777777777777778,
              "#fb9f3a"
             ],
             [
              0.8888888888888888,
              "#fdca26"
             ],
             [
              1,
              "#f0f921"
             ]
            ],
            "type": "histogram2d"
           }
          ],
          "histogram2dcontour": [
           {
            "colorbar": {
             "outlinewidth": 0,
             "ticks": ""
            },
            "colorscale": [
             [
              0,
              "#0d0887"
             ],
             [
              0.1111111111111111,
              "#46039f"
             ],
             [
              0.2222222222222222,
              "#7201a8"
             ],
             [
              0.3333333333333333,
              "#9c179e"
             ],
             [
              0.4444444444444444,
              "#bd3786"
             ],
             [
              0.5555555555555556,
              "#d8576b"
             ],
             [
              0.6666666666666666,
              "#ed7953"
             ],
             [
              0.7777777777777778,
              "#fb9f3a"
             ],
             [
              0.8888888888888888,
              "#fdca26"
             ],
             [
              1,
              "#f0f921"
             ]
            ],
            "type": "histogram2dcontour"
           }
          ],
          "mesh3d": [
           {
            "colorbar": {
             "outlinewidth": 0,
             "ticks": ""
            },
            "type": "mesh3d"
           }
          ],
          "parcoords": [
           {
            "line": {
             "colorbar": {
              "outlinewidth": 0,
              "ticks": ""
             }
            },
            "type": "parcoords"
           }
          ],
          "pie": [
           {
            "automargin": true,
            "type": "pie"
           }
          ],
          "scatter": [
           {
            "fillpattern": {
             "fillmode": "overlay",
             "size": 10,
             "solidity": 0.2
            },
            "type": "scatter"
           }
          ],
          "scatter3d": [
           {
            "line": {
             "colorbar": {
              "outlinewidth": 0,
              "ticks": ""
             }
            },
            "marker": {
             "colorbar": {
              "outlinewidth": 0,
              "ticks": ""
             }
            },
            "type": "scatter3d"
           }
          ],
          "scattercarpet": [
           {
            "marker": {
             "colorbar": {
              "outlinewidth": 0,
              "ticks": ""
             }
            },
            "type": "scattercarpet"
           }
          ],
          "scattergeo": [
           {
            "marker": {
             "colorbar": {
              "outlinewidth": 0,
              "ticks": ""
             }
            },
            "type": "scattergeo"
           }
          ],
          "scattergl": [
           {
            "marker": {
             "colorbar": {
              "outlinewidth": 0,
              "ticks": ""
             }
            },
            "type": "scattergl"
           }
          ],
          "scattermapbox": [
           {
            "marker": {
             "colorbar": {
              "outlinewidth": 0,
              "ticks": ""
             }
            },
            "type": "scattermapbox"
           }
          ],
          "scatterpolar": [
           {
            "marker": {
             "colorbar": {
              "outlinewidth": 0,
              "ticks": ""
             }
            },
            "type": "scatterpolar"
           }
          ],
          "scatterpolargl": [
           {
            "marker": {
             "colorbar": {
              "outlinewidth": 0,
              "ticks": ""
             }
            },
            "type": "scatterpolargl"
           }
          ],
          "scatterternary": [
           {
            "marker": {
             "colorbar": {
              "outlinewidth": 0,
              "ticks": ""
             }
            },
            "type": "scatterternary"
           }
          ],
          "surface": [
           {
            "colorbar": {
             "outlinewidth": 0,
             "ticks": ""
            },
            "colorscale": [
             [
              0,
              "#0d0887"
             ],
             [
              0.1111111111111111,
              "#46039f"
             ],
             [
              0.2222222222222222,
              "#7201a8"
             ],
             [
              0.3333333333333333,
              "#9c179e"
             ],
             [
              0.4444444444444444,
              "#bd3786"
             ],
             [
              0.5555555555555556,
              "#d8576b"
             ],
             [
              0.6666666666666666,
              "#ed7953"
             ],
             [
              0.7777777777777778,
              "#fb9f3a"
             ],
             [
              0.8888888888888888,
              "#fdca26"
             ],
             [
              1,
              "#f0f921"
             ]
            ],
            "type": "surface"
           }
          ],
          "table": [
           {
            "cells": {
             "fill": {
              "color": "#EBF0F8"
             },
             "line": {
              "color": "white"
             }
            },
            "header": {
             "fill": {
              "color": "#C8D4E3"
             },
             "line": {
              "color": "white"
             }
            },
            "type": "table"
           }
          ]
         },
         "layout": {
          "annotationdefaults": {
           "arrowcolor": "#2a3f5f",
           "arrowhead": 0,
           "arrowwidth": 1
          },
          "autotypenumbers": "strict",
          "coloraxis": {
           "colorbar": {
            "outlinewidth": 0,
            "ticks": ""
           }
          },
          "colorscale": {
           "diverging": [
            [
             0,
             "#8e0152"
            ],
            [
             0.1,
             "#c51b7d"
            ],
            [
             0.2,
             "#de77ae"
            ],
            [
             0.3,
             "#f1b6da"
            ],
            [
             0.4,
             "#fde0ef"
            ],
            [
             0.5,
             "#f7f7f7"
            ],
            [
             0.6,
             "#e6f5d0"
            ],
            [
             0.7,
             "#b8e186"
            ],
            [
             0.8,
             "#7fbc41"
            ],
            [
             0.9,
             "#4d9221"
            ],
            [
             1,
             "#276419"
            ]
           ],
           "sequential": [
            [
             0,
             "#0d0887"
            ],
            [
             0.1111111111111111,
             "#46039f"
            ],
            [
             0.2222222222222222,
             "#7201a8"
            ],
            [
             0.3333333333333333,
             "#9c179e"
            ],
            [
             0.4444444444444444,
             "#bd3786"
            ],
            [
             0.5555555555555556,
             "#d8576b"
            ],
            [
             0.6666666666666666,
             "#ed7953"
            ],
            [
             0.7777777777777778,
             "#fb9f3a"
            ],
            [
             0.8888888888888888,
             "#fdca26"
            ],
            [
             1,
             "#f0f921"
            ]
           ],
           "sequentialminus": [
            [
             0,
             "#0d0887"
            ],
            [
             0.1111111111111111,
             "#46039f"
            ],
            [
             0.2222222222222222,
             "#7201a8"
            ],
            [
             0.3333333333333333,
             "#9c179e"
            ],
            [
             0.4444444444444444,
             "#bd3786"
            ],
            [
             0.5555555555555556,
             "#d8576b"
            ],
            [
             0.6666666666666666,
             "#ed7953"
            ],
            [
             0.7777777777777778,
             "#fb9f3a"
            ],
            [
             0.8888888888888888,
             "#fdca26"
            ],
            [
             1,
             "#f0f921"
            ]
           ]
          },
          "colorway": [
           "#636efa",
           "#EF553B",
           "#00cc96",
           "#ab63fa",
           "#FFA15A",
           "#19d3f3",
           "#FF6692",
           "#B6E880",
           "#FF97FF",
           "#FECB52"
          ],
          "font": {
           "color": "#2a3f5f"
          },
          "geo": {
           "bgcolor": "white",
           "lakecolor": "white",
           "landcolor": "#E5ECF6",
           "showlakes": true,
           "showland": true,
           "subunitcolor": "white"
          },
          "hoverlabel": {
           "align": "left"
          },
          "hovermode": "closest",
          "mapbox": {
           "style": "light"
          },
          "paper_bgcolor": "white",
          "plot_bgcolor": "#E5ECF6",
          "polar": {
           "angularaxis": {
            "gridcolor": "white",
            "linecolor": "white",
            "ticks": ""
           },
           "bgcolor": "#E5ECF6",
           "radialaxis": {
            "gridcolor": "white",
            "linecolor": "white",
            "ticks": ""
           }
          },
          "scene": {
           "xaxis": {
            "backgroundcolor": "#E5ECF6",
            "gridcolor": "white",
            "gridwidth": 2,
            "linecolor": "white",
            "showbackground": true,
            "ticks": "",
            "zerolinecolor": "white"
           },
           "yaxis": {
            "backgroundcolor": "#E5ECF6",
            "gridcolor": "white",
            "gridwidth": 2,
            "linecolor": "white",
            "showbackground": true,
            "ticks": "",
            "zerolinecolor": "white"
           },
           "zaxis": {
            "backgroundcolor": "#E5ECF6",
            "gridcolor": "white",
            "gridwidth": 2,
            "linecolor": "white",
            "showbackground": true,
            "ticks": "",
            "zerolinecolor": "white"
           }
          },
          "shapedefaults": {
           "line": {
            "color": "#2a3f5f"
           }
          },
          "ternary": {
           "aaxis": {
            "gridcolor": "white",
            "linecolor": "white",
            "ticks": ""
           },
           "baxis": {
            "gridcolor": "white",
            "linecolor": "white",
            "ticks": ""
           },
           "bgcolor": "#E5ECF6",
           "caxis": {
            "gridcolor": "white",
            "linecolor": "white",
            "ticks": ""
           }
          },
          "title": {
           "x": 0.05
          },
          "xaxis": {
           "automargin": true,
           "gridcolor": "white",
           "linecolor": "white",
           "ticks": "",
           "title": {
            "standoff": 15
           },
           "zerolinecolor": "white",
           "zerolinewidth": 2
          },
          "yaxis": {
           "automargin": true,
           "gridcolor": "white",
           "linecolor": "white",
           "ticks": "",
           "title": {
            "standoff": 15
           },
           "zerolinecolor": "white",
           "zerolinewidth": 2
          }
         }
        },
        "title": {
         "text": "Accuracy by Semantic Class for Personal Predictions on DeSSI-MF"
        },
        "width": 1480,
        "xaxis": {
         "anchor": "y",
         "domain": [
          0,
          1
         ],
         "matches": "x2",
         "showticklabels": false
        },
        "xaxis2": {
         "anchor": "y2",
         "domain": [
          0,
          1
         ]
        },
        "yaxis": {
         "anchor": "x",
         "domain": [
          0.5375,
          1
         ],
         "tickvals": [
          0,
          0.2,
          0.4,
          0.6,
          0.8,
          1
         ]
        },
        "yaxis2": {
         "anchor": "x2",
         "domain": [
          0,
          0.4625
         ],
         "tickvals": [
          0,
          0.2,
          0.4,
          0.6,
          0.8,
          1
         ]
        },
        "yaxis3": {
         "tickvals": [
          0,
          0.2,
          0.4,
          0.6,
          0.8,
          1
         ]
        }
       }
      }
     },
     "metadata": {},
     "output_type": "display_data"
    },
    {
     "data": {
      "application/vnd.plotly.v1+json": {
       "config": {
        "plotlyServerURL": "https://plot.ly"
       },
       "data": [
        {
         "legendgroup": "0",
         "marker": {
          "color": "#636efa"
         },
         "name": "GPT-4o",
         "showlegend": true,
         "type": "bar",
         "x": [
          "english",
          "french",
          "mixed language",
          "german",
          "dessi data"
         ],
         "xaxis": "x",
         "y": [
          0.9758064516129032,
          0.9516129032258065,
          0.9435483870967742,
          0.9435483870967742,
          0.8
         ],
         "yaxis": "y"
        },
        {
         "legendgroup": "0",
         "marker": {
          "color": "#636efa"
         },
         "name": "GPT-4o",
         "showlegend": false,
         "type": "bar",
         "x": [
          "mimesis",
          "faker",
          "dessi"
         ],
         "xaxis": "x2",
         "y": [
          0.9763513513513513,
          0.92,
          0.8
         ],
         "yaxis": "y2"
        },
        {
         "legendgroup": "0",
         "marker": {
          "color": "#636efa"
         },
         "name": "GPT-4o",
         "showlegend": false,
         "type": "bar",
         "x": [
          "meaningful",
          "random generated"
         ],
         "xaxis": "x3",
         "y": [
          0.978021978021978,
          0.9010989010989011
         ],
         "yaxis": "y3"
        },
        {
         "legendgroup": "1",
         "marker": {
          "color": "#EF553B"
         },
         "name": "CASSED",
         "showlegend": true,
         "type": "bar",
         "x": [
          "german",
          "french",
          "english",
          "mixed language",
          "dessi data"
         ],
         "xaxis": "x",
         "y": [
          1,
          1,
          1,
          1,
          1
         ],
         "yaxis": "y"
        },
        {
         "legendgroup": "1",
         "marker": {
          "color": "#EF553B"
         },
         "name": "CASSED",
         "showlegend": false,
         "type": "bar",
         "x": [
          "faker",
          "mimesis",
          "dessi"
         ],
         "xaxis": "x2",
         "y": [
          1,
          1,
          1
         ],
         "yaxis": "y2"
        },
        {
         "legendgroup": "1",
         "marker": {
          "color": "#EF553B"
         },
         "name": "CASSED",
         "showlegend": false,
         "type": "bar",
         "x": [
          "meaningful",
          "random generated"
         ],
         "xaxis": "x3",
         "y": [
          1,
          1
         ],
         "yaxis": "y3"
        }
       ],
       "layout": {
        "annotations": [
         {
          "font": {
           "size": 16
          },
          "showarrow": false,
          "text": "Language",
          "x": 0.21666666666666667,
          "xanchor": "center",
          "xref": "paper",
          "y": 1,
          "yanchor": "bottom",
          "yref": "paper"
         },
         {
          "font": {
           "size": 16
          },
          "showarrow": false,
          "text": "Original Dataset",
          "x": 0.63,
          "xanchor": "center",
          "xref": "paper",
          "y": 1,
          "yanchor": "bottom",
          "yref": "paper"
         },
         {
          "font": {
           "size": 16
          },
          "showarrow": false,
          "text": "Type of<br>Column Name",
          "x": 0.9133333333333333,
          "xanchor": "center",
          "xref": "paper",
          "y": 1,
          "yanchor": "bottom",
          "yref": "paper"
         }
        ],
        "height": 350,
        "legend": {
         "title": {
          "text": "Model"
         }
        },
        "template": {
         "data": {
          "bar": [
           {
            "error_x": {
             "color": "#2a3f5f"
            },
            "error_y": {
             "color": "#2a3f5f"
            },
            "marker": {
             "line": {
              "color": "#E5ECF6",
              "width": 0.5
             },
             "pattern": {
              "fillmode": "overlay",
              "size": 10,
              "solidity": 0.2
             }
            },
            "type": "bar"
           }
          ],
          "barpolar": [
           {
            "marker": {
             "line": {
              "color": "#E5ECF6",
              "width": 0.5
             },
             "pattern": {
              "fillmode": "overlay",
              "size": 10,
              "solidity": 0.2
             }
            },
            "type": "barpolar"
           }
          ],
          "carpet": [
           {
            "aaxis": {
             "endlinecolor": "#2a3f5f",
             "gridcolor": "white",
             "linecolor": "white",
             "minorgridcolor": "white",
             "startlinecolor": "#2a3f5f"
            },
            "baxis": {
             "endlinecolor": "#2a3f5f",
             "gridcolor": "white",
             "linecolor": "white",
             "minorgridcolor": "white",
             "startlinecolor": "#2a3f5f"
            },
            "type": "carpet"
           }
          ],
          "choropleth": [
           {
            "colorbar": {
             "outlinewidth": 0,
             "ticks": ""
            },
            "type": "choropleth"
           }
          ],
          "contour": [
           {
            "colorbar": {
             "outlinewidth": 0,
             "ticks": ""
            },
            "colorscale": [
             [
              0,
              "#0d0887"
             ],
             [
              0.1111111111111111,
              "#46039f"
             ],
             [
              0.2222222222222222,
              "#7201a8"
             ],
             [
              0.3333333333333333,
              "#9c179e"
             ],
             [
              0.4444444444444444,
              "#bd3786"
             ],
             [
              0.5555555555555556,
              "#d8576b"
             ],
             [
              0.6666666666666666,
              "#ed7953"
             ],
             [
              0.7777777777777778,
              "#fb9f3a"
             ],
             [
              0.8888888888888888,
              "#fdca26"
             ],
             [
              1,
              "#f0f921"
             ]
            ],
            "type": "contour"
           }
          ],
          "contourcarpet": [
           {
            "colorbar": {
             "outlinewidth": 0,
             "ticks": ""
            },
            "type": "contourcarpet"
           }
          ],
          "heatmap": [
           {
            "colorbar": {
             "outlinewidth": 0,
             "ticks": ""
            },
            "colorscale": [
             [
              0,
              "#0d0887"
             ],
             [
              0.1111111111111111,
              "#46039f"
             ],
             [
              0.2222222222222222,
              "#7201a8"
             ],
             [
              0.3333333333333333,
              "#9c179e"
             ],
             [
              0.4444444444444444,
              "#bd3786"
             ],
             [
              0.5555555555555556,
              "#d8576b"
             ],
             [
              0.6666666666666666,
              "#ed7953"
             ],
             [
              0.7777777777777778,
              "#fb9f3a"
             ],
             [
              0.8888888888888888,
              "#fdca26"
             ],
             [
              1,
              "#f0f921"
             ]
            ],
            "type": "heatmap"
           }
          ],
          "heatmapgl": [
           {
            "colorbar": {
             "outlinewidth": 0,
             "ticks": ""
            },
            "colorscale": [
             [
              0,
              "#0d0887"
             ],
             [
              0.1111111111111111,
              "#46039f"
             ],
             [
              0.2222222222222222,
              "#7201a8"
             ],
             [
              0.3333333333333333,
              "#9c179e"
             ],
             [
              0.4444444444444444,
              "#bd3786"
             ],
             [
              0.5555555555555556,
              "#d8576b"
             ],
             [
              0.6666666666666666,
              "#ed7953"
             ],
             [
              0.7777777777777778,
              "#fb9f3a"
             ],
             [
              0.8888888888888888,
              "#fdca26"
             ],
             [
              1,
              "#f0f921"
             ]
            ],
            "type": "heatmapgl"
           }
          ],
          "histogram": [
           {
            "marker": {
             "pattern": {
              "fillmode": "overlay",
              "size": 10,
              "solidity": 0.2
             }
            },
            "type": "histogram"
           }
          ],
          "histogram2d": [
           {
            "colorbar": {
             "outlinewidth": 0,
             "ticks": ""
            },
            "colorscale": [
             [
              0,
              "#0d0887"
             ],
             [
              0.1111111111111111,
              "#46039f"
             ],
             [
              0.2222222222222222,
              "#7201a8"
             ],
             [
              0.3333333333333333,
              "#9c179e"
             ],
             [
              0.4444444444444444,
              "#bd3786"
             ],
             [
              0.5555555555555556,
              "#d8576b"
             ],
             [
              0.6666666666666666,
              "#ed7953"
             ],
             [
              0.7777777777777778,
              "#fb9f3a"
             ],
             [
              0.8888888888888888,
              "#fdca26"
             ],
             [
              1,
              "#f0f921"
             ]
            ],
            "type": "histogram2d"
           }
          ],
          "histogram2dcontour": [
           {
            "colorbar": {
             "outlinewidth": 0,
             "ticks": ""
            },
            "colorscale": [
             [
              0,
              "#0d0887"
             ],
             [
              0.1111111111111111,
              "#46039f"
             ],
             [
              0.2222222222222222,
              "#7201a8"
             ],
             [
              0.3333333333333333,
              "#9c179e"
             ],
             [
              0.4444444444444444,
              "#bd3786"
             ],
             [
              0.5555555555555556,
              "#d8576b"
             ],
             [
              0.6666666666666666,
              "#ed7953"
             ],
             [
              0.7777777777777778,
              "#fb9f3a"
             ],
             [
              0.8888888888888888,
              "#fdca26"
             ],
             [
              1,
              "#f0f921"
             ]
            ],
            "type": "histogram2dcontour"
           }
          ],
          "mesh3d": [
           {
            "colorbar": {
             "outlinewidth": 0,
             "ticks": ""
            },
            "type": "mesh3d"
           }
          ],
          "parcoords": [
           {
            "line": {
             "colorbar": {
              "outlinewidth": 0,
              "ticks": ""
             }
            },
            "type": "parcoords"
           }
          ],
          "pie": [
           {
            "automargin": true,
            "type": "pie"
           }
          ],
          "scatter": [
           {
            "fillpattern": {
             "fillmode": "overlay",
             "size": 10,
             "solidity": 0.2
            },
            "type": "scatter"
           }
          ],
          "scatter3d": [
           {
            "line": {
             "colorbar": {
              "outlinewidth": 0,
              "ticks": ""
             }
            },
            "marker": {
             "colorbar": {
              "outlinewidth": 0,
              "ticks": ""
             }
            },
            "type": "scatter3d"
           }
          ],
          "scattercarpet": [
           {
            "marker": {
             "colorbar": {
              "outlinewidth": 0,
              "ticks": ""
             }
            },
            "type": "scattercarpet"
           }
          ],
          "scattergeo": [
           {
            "marker": {
             "colorbar": {
              "outlinewidth": 0,
              "ticks": ""
             }
            },
            "type": "scattergeo"
           }
          ],
          "scattergl": [
           {
            "marker": {
             "colorbar": {
              "outlinewidth": 0,
              "ticks": ""
             }
            },
            "type": "scattergl"
           }
          ],
          "scattermapbox": [
           {
            "marker": {
             "colorbar": {
              "outlinewidth": 0,
              "ticks": ""
             }
            },
            "type": "scattermapbox"
           }
          ],
          "scatterpolar": [
           {
            "marker": {
             "colorbar": {
              "outlinewidth": 0,
              "ticks": ""
             }
            },
            "type": "scatterpolar"
           }
          ],
          "scatterpolargl": [
           {
            "marker": {
             "colorbar": {
              "outlinewidth": 0,
              "ticks": ""
             }
            },
            "type": "scatterpolargl"
           }
          ],
          "scatterternary": [
           {
            "marker": {
             "colorbar": {
              "outlinewidth": 0,
              "ticks": ""
             }
            },
            "type": "scatterternary"
           }
          ],
          "surface": [
           {
            "colorbar": {
             "outlinewidth": 0,
             "ticks": ""
            },
            "colorscale": [
             [
              0,
              "#0d0887"
             ],
             [
              0.1111111111111111,
              "#46039f"
             ],
             [
              0.2222222222222222,
              "#7201a8"
             ],
             [
              0.3333333333333333,
              "#9c179e"
             ],
             [
              0.4444444444444444,
              "#bd3786"
             ],
             [
              0.5555555555555556,
              "#d8576b"
             ],
             [
              0.6666666666666666,
              "#ed7953"
             ],
             [
              0.7777777777777778,
              "#fb9f3a"
             ],
             [
              0.8888888888888888,
              "#fdca26"
             ],
             [
              1,
              "#f0f921"
             ]
            ],
            "type": "surface"
           }
          ],
          "table": [
           {
            "cells": {
             "fill": {
              "color": "#EBF0F8"
             },
             "line": {
              "color": "white"
             }
            },
            "header": {
             "fill": {
              "color": "#C8D4E3"
             },
             "line": {
              "color": "white"
             }
            },
            "type": "table"
           }
          ]
         },
         "layout": {
          "annotationdefaults": {
           "arrowcolor": "#2a3f5f",
           "arrowhead": 0,
           "arrowwidth": 1
          },
          "autotypenumbers": "strict",
          "coloraxis": {
           "colorbar": {
            "outlinewidth": 0,
            "ticks": ""
           }
          },
          "colorscale": {
           "diverging": [
            [
             0,
             "#8e0152"
            ],
            [
             0.1,
             "#c51b7d"
            ],
            [
             0.2,
             "#de77ae"
            ],
            [
             0.3,
             "#f1b6da"
            ],
            [
             0.4,
             "#fde0ef"
            ],
            [
             0.5,
             "#f7f7f7"
            ],
            [
             0.6,
             "#e6f5d0"
            ],
            [
             0.7,
             "#b8e186"
            ],
            [
             0.8,
             "#7fbc41"
            ],
            [
             0.9,
             "#4d9221"
            ],
            [
             1,
             "#276419"
            ]
           ],
           "sequential": [
            [
             0,
             "#0d0887"
            ],
            [
             0.1111111111111111,
             "#46039f"
            ],
            [
             0.2222222222222222,
             "#7201a8"
            ],
            [
             0.3333333333333333,
             "#9c179e"
            ],
            [
             0.4444444444444444,
             "#bd3786"
            ],
            [
             0.5555555555555556,
             "#d8576b"
            ],
            [
             0.6666666666666666,
             "#ed7953"
            ],
            [
             0.7777777777777778,
             "#fb9f3a"
            ],
            [
             0.8888888888888888,
             "#fdca26"
            ],
            [
             1,
             "#f0f921"
            ]
           ],
           "sequentialminus": [
            [
             0,
             "#0d0887"
            ],
            [
             0.1111111111111111,
             "#46039f"
            ],
            [
             0.2222222222222222,
             "#7201a8"
            ],
            [
             0.3333333333333333,
             "#9c179e"
            ],
            [
             0.4444444444444444,
             "#bd3786"
            ],
            [
             0.5555555555555556,
             "#d8576b"
            ],
            [
             0.6666666666666666,
             "#ed7953"
            ],
            [
             0.7777777777777778,
             "#fb9f3a"
            ],
            [
             0.8888888888888888,
             "#fdca26"
            ],
            [
             1,
             "#f0f921"
            ]
           ]
          },
          "colorway": [
           "#636efa",
           "#EF553B",
           "#00cc96",
           "#ab63fa",
           "#FFA15A",
           "#19d3f3",
           "#FF6692",
           "#B6E880",
           "#FF97FF",
           "#FECB52"
          ],
          "font": {
           "color": "#2a3f5f"
          },
          "geo": {
           "bgcolor": "white",
           "lakecolor": "white",
           "landcolor": "#E5ECF6",
           "showlakes": true,
           "showland": true,
           "subunitcolor": "white"
          },
          "hoverlabel": {
           "align": "left"
          },
          "hovermode": "closest",
          "mapbox": {
           "style": "light"
          },
          "paper_bgcolor": "white",
          "plot_bgcolor": "#E5ECF6",
          "polar": {
           "angularaxis": {
            "gridcolor": "white",
            "linecolor": "white",
            "ticks": ""
           },
           "bgcolor": "#E5ECF6",
           "radialaxis": {
            "gridcolor": "white",
            "linecolor": "white",
            "ticks": ""
           }
          },
          "scene": {
           "xaxis": {
            "backgroundcolor": "#E5ECF6",
            "gridcolor": "white",
            "gridwidth": 2,
            "linecolor": "white",
            "showbackground": true,
            "ticks": "",
            "zerolinecolor": "white"
           },
           "yaxis": {
            "backgroundcolor": "#E5ECF6",
            "gridcolor": "white",
            "gridwidth": 2,
            "linecolor": "white",
            "showbackground": true,
            "ticks": "",
            "zerolinecolor": "white"
           },
           "zaxis": {
            "backgroundcolor": "#E5ECF6",
            "gridcolor": "white",
            "gridwidth": 2,
            "linecolor": "white",
            "showbackground": true,
            "ticks": "",
            "zerolinecolor": "white"
           }
          },
          "shapedefaults": {
           "line": {
            "color": "#2a3f5f"
           }
          },
          "ternary": {
           "aaxis": {
            "gridcolor": "white",
            "linecolor": "white",
            "ticks": ""
           },
           "baxis": {
            "gridcolor": "white",
            "linecolor": "white",
            "ticks": ""
           },
           "bgcolor": "#E5ECF6",
           "caxis": {
            "gridcolor": "white",
            "linecolor": "white",
            "ticks": ""
           }
          },
          "title": {
           "x": 0.05
          },
          "xaxis": {
           "automargin": true,
           "gridcolor": "white",
           "linecolor": "white",
           "ticks": "",
           "title": {
            "standoff": 15
           },
           "zerolinecolor": "white",
           "zerolinewidth": 2
          },
          "yaxis": {
           "automargin": true,
           "gridcolor": "white",
           "linecolor": "white",
           "ticks": "",
           "title": {
            "standoff": 15
           },
           "zerolinecolor": "white",
           "zerolinewidth": 2
          }
         }
        },
        "title": {
         "text": "Accuracy of Predictions by Language, Dataset, and Column Type on DeSSI-MF"
        },
        "width": 850,
        "xaxis": {
         "anchor": "y",
         "domain": [
          0,
          0.43333333333333335
         ]
        },
        "xaxis2": {
         "anchor": "y2",
         "domain": [
          0.5,
          0.76
         ]
        },
        "xaxis3": {
         "anchor": "y3",
         "domain": [
          0.8266666666666667,
          1
         ]
        },
        "yaxis": {
         "anchor": "x",
         "domain": [
          0,
          1
         ],
         "title": {
          "text": "Accuracy"
         }
        },
        "yaxis2": {
         "anchor": "x2",
         "domain": [
          0,
          1
         ],
         "matches": "y",
         "showticklabels": false
        },
        "yaxis3": {
         "anchor": "x3",
         "domain": [
          0,
          1
         ],
         "matches": "y",
         "showticklabels": false
        }
       }
      }
     },
     "metadata": {},
     "output_type": "display_data"
    }
   ],
   "source": [
    "analyse_results(results_own_dataset_multiclass_gpt, results_df_all_data_cassed, dataset=\"DeSSI-MF\")"
   ]
  },
  {
   "cell_type": "code",
   "execution_count": 8,
   "metadata": {},
   "outputs": [
    {
     "data": {
      "application/vnd.plotly.v1+json": {
       "config": {
        "plotlyServerURL": "https://plot.ly"
       },
       "data": [
        {
         "legendgroup": "0",
         "marker": {
          "color": "#d62728"
         },
         "name": "italian_valid<br>column name",
         "showlegend": true,
         "type": "bar",
         "x": [
          "academic_degree",
          "address",
          "worldview",
          "color",
          "dish",
          "nationality",
          "full_name",
          "occupation",
          "first_name",
          "title",
          "last_name",
          "city",
          "company",
          "language",
          "answer",
          "political_views",
          "word",
          "drink",
          "gender",
          "phone_number",
          "url",
          "iban",
          "ssn",
          "swift",
          "email"
         ],
         "xaxis": "x",
         "y": [
          0.25,
          0.25,
          0.25,
          0.25,
          0.25,
          0.25,
          0.25,
          0.25,
          0.25,
          0.25,
          0.25,
          0.25,
          0.25,
          0.25,
          0.25,
          0.25,
          0.25,
          0.25,
          0.25,
          0.25,
          0.25,
          0.25,
          0.25,
          0.25,
          0.25
         ],
         "yaxis": "y"
        },
        {
         "legendgroup": "1",
         "marker": {
          "color": "#ff9896"
         },
         "name": "italian_invalid<br>column name",
         "showlegend": true,
         "type": "bar",
         "x": [
          "academic_degree",
          "address",
          "worldview",
          "color",
          "dish",
          "nationality",
          "full_name",
          "occupation",
          "first_name",
          "title",
          "last_name",
          "city",
          "company",
          "language",
          "answer",
          "political_views",
          "word",
          "drink",
          "gender",
          "phone_number",
          "url",
          "iban",
          "ssn",
          "swift",
          "email"
         ],
         "xaxis": "x",
         "y": [
          0.25,
          0.25,
          0.25,
          0.25,
          0.25,
          0,
          0.25,
          0.25,
          0.25,
          0.25,
          0.25,
          0.25,
          0.25,
          0.25,
          0.25,
          0.25,
          0.25,
          0.25,
          0.25,
          0.25,
          0.25,
          0.25,
          0.25,
          0,
          0.25
         ],
         "yaxis": "y"
        },
        {
         "legendgroup": "2",
         "marker": {
          "color": "#1f77b4"
         },
         "name": "chinese_valid<br>column name",
         "showlegend": true,
         "type": "bar",
         "x": [
          "occupation",
          "first_name",
          "worldview",
          "company",
          "color",
          "word",
          "last_name",
          "drink",
          "gender",
          "nationality",
          "political_views",
          "dish",
          "academic_degree",
          "answer",
          "city",
          "title",
          "address",
          "full_name",
          "language",
          "url",
          "phone_number",
          "iban",
          "ssn",
          "swift",
          "email"
         ],
         "xaxis": "x",
         "y": [
          0.25,
          0.25,
          0.25,
          0.25,
          0.25,
          0.25,
          0.25,
          0.25,
          0.25,
          0.25,
          0.25,
          0.25,
          0.25,
          0.25,
          0.25,
          0.25,
          0.25,
          0.25,
          0.25,
          0.25,
          0.25,
          0.25,
          0.25,
          0.25,
          0.25
         ],
         "yaxis": "y"
        },
        {
         "legendgroup": "3",
         "marker": {
          "color": "#aec7e8"
         },
         "name": "chinese_invalid<br>column name",
         "showlegend": true,
         "type": "bar",
         "x": [
          "occupation",
          "first_name",
          "worldview",
          "company",
          "color",
          "word",
          "last_name",
          "drink",
          "gender",
          "nationality",
          "political_views",
          "dish",
          "academic_degree",
          "answer",
          "city",
          "title",
          "address",
          "full_name",
          "language",
          "url",
          "phone_number",
          "iban",
          "ssn",
          "swift",
          "email"
         ],
         "xaxis": "x",
         "y": [
          0.25,
          0.25,
          0.25,
          0.25,
          0.25,
          0,
          0.25,
          0.25,
          0.25,
          0,
          0.25,
          0.25,
          0.25,
          0.25,
          0.25,
          0.25,
          0.25,
          0.25,
          0.25,
          0.25,
          0.25,
          0.25,
          0.25,
          0,
          0.25
         ],
         "yaxis": "y"
        },
        {
         "legendgroup": "0",
         "marker": {
          "color": "#d62728"
         },
         "name": "italian_valid<br>column name",
         "showlegend": false,
         "type": "bar",
         "x": [
          "academic_degree",
          "address",
          "worldview",
          "color",
          "dish",
          "nationality",
          "full_name",
          "occupation",
          "first_name",
          "title",
          "last_name",
          "city",
          "company",
          "language",
          "answer",
          "political_views",
          "word",
          "drink",
          "gender",
          "phone_number",
          "url",
          "iban",
          "ssn",
          "swift",
          "email"
         ],
         "xaxis": "x2",
         "y": [
          0,
          0.25,
          0,
          0,
          0.25,
          0,
          0.25,
          0.25,
          0.25,
          0.25,
          0.25,
          0.25,
          0.25,
          0.25,
          0,
          0.25,
          0.25,
          0,
          0.25,
          0.25,
          0.25,
          0.25,
          0,
          0.25,
          0.25
         ],
         "yaxis": "y2"
        },
        {
         "legendgroup": "1",
         "marker": {
          "color": "#ff9896"
         },
         "name": "italian_invalid<br>column name",
         "showlegend": false,
         "type": "bar",
         "x": [
          "academic_degree",
          "address",
          "worldview",
          "color",
          "dish",
          "nationality",
          "full_name",
          "occupation",
          "first_name",
          "title",
          "last_name",
          "city",
          "company",
          "language",
          "answer",
          "political_views",
          "word",
          "drink",
          "gender",
          "phone_number",
          "url",
          "iban",
          "ssn",
          "swift",
          "email"
         ],
         "xaxis": "x2",
         "y": [
          0,
          0.25,
          0,
          0,
          0.25,
          0,
          0.25,
          0.25,
          0.25,
          0.25,
          0.25,
          0.25,
          0.25,
          0.25,
          0,
          0.25,
          0.25,
          0,
          0.25,
          0.25,
          0.25,
          0.25,
          0,
          0.25,
          0.25
         ],
         "yaxis": "y2"
        },
        {
         "legendgroup": "2",
         "marker": {
          "color": "#1f77b4"
         },
         "name": "chinese_valid<br>column name",
         "showlegend": false,
         "type": "bar",
         "x": [
          "occupation",
          "first_name",
          "worldview",
          "company",
          "color",
          "word",
          "last_name",
          "drink",
          "gender",
          "nationality",
          "political_views",
          "dish",
          "academic_degree",
          "answer",
          "city",
          "title",
          "address",
          "full_name",
          "language",
          "url",
          "phone_number",
          "iban",
          "ssn",
          "swift",
          "email"
         ],
         "xaxis": "x2",
         "y": [
          0,
          0,
          0,
          0,
          0,
          0,
          0,
          0,
          0,
          0,
          0,
          0,
          0,
          0,
          0,
          0,
          0,
          0,
          0,
          0.25,
          0,
          0.25,
          0,
          0.25,
          0.25
         ],
         "yaxis": "y2"
        },
        {
         "legendgroup": "3",
         "marker": {
          "color": "#aec7e8"
         },
         "name": "chinese_invalid<br>column name",
         "showlegend": false,
         "type": "bar",
         "x": [
          "occupation",
          "first_name",
          "worldview",
          "company",
          "color",
          "word",
          "last_name",
          "drink",
          "gender",
          "nationality",
          "political_views",
          "dish",
          "academic_degree",
          "answer",
          "city",
          "title",
          "address",
          "full_name",
          "language",
          "url",
          "phone_number",
          "iban",
          "ssn",
          "swift",
          "email"
         ],
         "xaxis": "x2",
         "y": [
          0,
          0,
          0,
          0,
          0,
          0,
          0,
          0,
          0,
          0,
          0,
          0,
          0,
          0,
          0,
          0,
          0,
          0,
          0,
          0.25,
          0,
          0.25,
          0,
          0.25,
          0.25
         ],
         "yaxis": "y2"
        }
       ],
       "layout": {
        "annotations": [
         {
          "font": {
           "size": 16
          },
          "showarrow": false,
          "text": "GPT-4o Accuracy by Class",
          "x": 0.5,
          "xanchor": "center",
          "xref": "paper",
          "y": 1,
          "yanchor": "bottom",
          "yref": "paper"
         },
         {
          "font": {
           "size": 16
          },
          "showarrow": false,
          "text": "CASSED Accuracy by Class",
          "x": 0.5,
          "xanchor": "center",
          "xref": "paper",
          "y": 0.4625,
          "yanchor": "bottom",
          "yref": "paper"
         },
         {
          "font": {
           "size": 16
          },
          "showarrow": false,
          "text": "Accuracy",
          "textangle": -90,
          "x": 0,
          "xanchor": "right",
          "xref": "paper",
          "xshift": -40,
          "y": 0.5,
          "yanchor": "middle",
          "yref": "paper"
         }
        ],
        "barmode": "stack",
        "height": 500,
        "legend": {
         "title": {
          "text": "Properties of Column"
         }
        },
        "template": {
         "data": {
          "bar": [
           {
            "error_x": {
             "color": "#2a3f5f"
            },
            "error_y": {
             "color": "#2a3f5f"
            },
            "marker": {
             "line": {
              "color": "#E5ECF6",
              "width": 0.5
             },
             "pattern": {
              "fillmode": "overlay",
              "size": 10,
              "solidity": 0.2
             }
            },
            "type": "bar"
           }
          ],
          "barpolar": [
           {
            "marker": {
             "line": {
              "color": "#E5ECF6",
              "width": 0.5
             },
             "pattern": {
              "fillmode": "overlay",
              "size": 10,
              "solidity": 0.2
             }
            },
            "type": "barpolar"
           }
          ],
          "carpet": [
           {
            "aaxis": {
             "endlinecolor": "#2a3f5f",
             "gridcolor": "white",
             "linecolor": "white",
             "minorgridcolor": "white",
             "startlinecolor": "#2a3f5f"
            },
            "baxis": {
             "endlinecolor": "#2a3f5f",
             "gridcolor": "white",
             "linecolor": "white",
             "minorgridcolor": "white",
             "startlinecolor": "#2a3f5f"
            },
            "type": "carpet"
           }
          ],
          "choropleth": [
           {
            "colorbar": {
             "outlinewidth": 0,
             "ticks": ""
            },
            "type": "choropleth"
           }
          ],
          "contour": [
           {
            "colorbar": {
             "outlinewidth": 0,
             "ticks": ""
            },
            "colorscale": [
             [
              0,
              "#0d0887"
             ],
             [
              0.1111111111111111,
              "#46039f"
             ],
             [
              0.2222222222222222,
              "#7201a8"
             ],
             [
              0.3333333333333333,
              "#9c179e"
             ],
             [
              0.4444444444444444,
              "#bd3786"
             ],
             [
              0.5555555555555556,
              "#d8576b"
             ],
             [
              0.6666666666666666,
              "#ed7953"
             ],
             [
              0.7777777777777778,
              "#fb9f3a"
             ],
             [
              0.8888888888888888,
              "#fdca26"
             ],
             [
              1,
              "#f0f921"
             ]
            ],
            "type": "contour"
           }
          ],
          "contourcarpet": [
           {
            "colorbar": {
             "outlinewidth": 0,
             "ticks": ""
            },
            "type": "contourcarpet"
           }
          ],
          "heatmap": [
           {
            "colorbar": {
             "outlinewidth": 0,
             "ticks": ""
            },
            "colorscale": [
             [
              0,
              "#0d0887"
             ],
             [
              0.1111111111111111,
              "#46039f"
             ],
             [
              0.2222222222222222,
              "#7201a8"
             ],
             [
              0.3333333333333333,
              "#9c179e"
             ],
             [
              0.4444444444444444,
              "#bd3786"
             ],
             [
              0.5555555555555556,
              "#d8576b"
             ],
             [
              0.6666666666666666,
              "#ed7953"
             ],
             [
              0.7777777777777778,
              "#fb9f3a"
             ],
             [
              0.8888888888888888,
              "#fdca26"
             ],
             [
              1,
              "#f0f921"
             ]
            ],
            "type": "heatmap"
           }
          ],
          "heatmapgl": [
           {
            "colorbar": {
             "outlinewidth": 0,
             "ticks": ""
            },
            "colorscale": [
             [
              0,
              "#0d0887"
             ],
             [
              0.1111111111111111,
              "#46039f"
             ],
             [
              0.2222222222222222,
              "#7201a8"
             ],
             [
              0.3333333333333333,
              "#9c179e"
             ],
             [
              0.4444444444444444,
              "#bd3786"
             ],
             [
              0.5555555555555556,
              "#d8576b"
             ],
             [
              0.6666666666666666,
              "#ed7953"
             ],
             [
              0.7777777777777778,
              "#fb9f3a"
             ],
             [
              0.8888888888888888,
              "#fdca26"
             ],
             [
              1,
              "#f0f921"
             ]
            ],
            "type": "heatmapgl"
           }
          ],
          "histogram": [
           {
            "marker": {
             "pattern": {
              "fillmode": "overlay",
              "size": 10,
              "solidity": 0.2
             }
            },
            "type": "histogram"
           }
          ],
          "histogram2d": [
           {
            "colorbar": {
             "outlinewidth": 0,
             "ticks": ""
            },
            "colorscale": [
             [
              0,
              "#0d0887"
             ],
             [
              0.1111111111111111,
              "#46039f"
             ],
             [
              0.2222222222222222,
              "#7201a8"
             ],
             [
              0.3333333333333333,
              "#9c179e"
             ],
             [
              0.4444444444444444,
              "#bd3786"
             ],
             [
              0.5555555555555556,
              "#d8576b"
             ],
             [
              0.6666666666666666,
              "#ed7953"
             ],
             [
              0.7777777777777778,
              "#fb9f3a"
             ],
             [
              0.8888888888888888,
              "#fdca26"
             ],
             [
              1,
              "#f0f921"
             ]
            ],
            "type": "histogram2d"
           }
          ],
          "histogram2dcontour": [
           {
            "colorbar": {
             "outlinewidth": 0,
             "ticks": ""
            },
            "colorscale": [
             [
              0,
              "#0d0887"
             ],
             [
              0.1111111111111111,
              "#46039f"
             ],
             [
              0.2222222222222222,
              "#7201a8"
             ],
             [
              0.3333333333333333,
              "#9c179e"
             ],
             [
              0.4444444444444444,
              "#bd3786"
             ],
             [
              0.5555555555555556,
              "#d8576b"
             ],
             [
              0.6666666666666666,
              "#ed7953"
             ],
             [
              0.7777777777777778,
              "#fb9f3a"
             ],
             [
              0.8888888888888888,
              "#fdca26"
             ],
             [
              1,
              "#f0f921"
             ]
            ],
            "type": "histogram2dcontour"
           }
          ],
          "mesh3d": [
           {
            "colorbar": {
             "outlinewidth": 0,
             "ticks": ""
            },
            "type": "mesh3d"
           }
          ],
          "parcoords": [
           {
            "line": {
             "colorbar": {
              "outlinewidth": 0,
              "ticks": ""
             }
            },
            "type": "parcoords"
           }
          ],
          "pie": [
           {
            "automargin": true,
            "type": "pie"
           }
          ],
          "scatter": [
           {
            "fillpattern": {
             "fillmode": "overlay",
             "size": 10,
             "solidity": 0.2
            },
            "type": "scatter"
           }
          ],
          "scatter3d": [
           {
            "line": {
             "colorbar": {
              "outlinewidth": 0,
              "ticks": ""
             }
            },
            "marker": {
             "colorbar": {
              "outlinewidth": 0,
              "ticks": ""
             }
            },
            "type": "scatter3d"
           }
          ],
          "scattercarpet": [
           {
            "marker": {
             "colorbar": {
              "outlinewidth": 0,
              "ticks": ""
             }
            },
            "type": "scattercarpet"
           }
          ],
          "scattergeo": [
           {
            "marker": {
             "colorbar": {
              "outlinewidth": 0,
              "ticks": ""
             }
            },
            "type": "scattergeo"
           }
          ],
          "scattergl": [
           {
            "marker": {
             "colorbar": {
              "outlinewidth": 0,
              "ticks": ""
             }
            },
            "type": "scattergl"
           }
          ],
          "scattermapbox": [
           {
            "marker": {
             "colorbar": {
              "outlinewidth": 0,
              "ticks": ""
             }
            },
            "type": "scattermapbox"
           }
          ],
          "scatterpolar": [
           {
            "marker": {
             "colorbar": {
              "outlinewidth": 0,
              "ticks": ""
             }
            },
            "type": "scatterpolar"
           }
          ],
          "scatterpolargl": [
           {
            "marker": {
             "colorbar": {
              "outlinewidth": 0,
              "ticks": ""
             }
            },
            "type": "scatterpolargl"
           }
          ],
          "scatterternary": [
           {
            "marker": {
             "colorbar": {
              "outlinewidth": 0,
              "ticks": ""
             }
            },
            "type": "scatterternary"
           }
          ],
          "surface": [
           {
            "colorbar": {
             "outlinewidth": 0,
             "ticks": ""
            },
            "colorscale": [
             [
              0,
              "#0d0887"
             ],
             [
              0.1111111111111111,
              "#46039f"
             ],
             [
              0.2222222222222222,
              "#7201a8"
             ],
             [
              0.3333333333333333,
              "#9c179e"
             ],
             [
              0.4444444444444444,
              "#bd3786"
             ],
             [
              0.5555555555555556,
              "#d8576b"
             ],
             [
              0.6666666666666666,
              "#ed7953"
             ],
             [
              0.7777777777777778,
              "#fb9f3a"
             ],
             [
              0.8888888888888888,
              "#fdca26"
             ],
             [
              1,
              "#f0f921"
             ]
            ],
            "type": "surface"
           }
          ],
          "table": [
           {
            "cells": {
             "fill": {
              "color": "#EBF0F8"
             },
             "line": {
              "color": "white"
             }
            },
            "header": {
             "fill": {
              "color": "#C8D4E3"
             },
             "line": {
              "color": "white"
             }
            },
            "type": "table"
           }
          ]
         },
         "layout": {
          "annotationdefaults": {
           "arrowcolor": "#2a3f5f",
           "arrowhead": 0,
           "arrowwidth": 1
          },
          "autotypenumbers": "strict",
          "coloraxis": {
           "colorbar": {
            "outlinewidth": 0,
            "ticks": ""
           }
          },
          "colorscale": {
           "diverging": [
            [
             0,
             "#8e0152"
            ],
            [
             0.1,
             "#c51b7d"
            ],
            [
             0.2,
             "#de77ae"
            ],
            [
             0.3,
             "#f1b6da"
            ],
            [
             0.4,
             "#fde0ef"
            ],
            [
             0.5,
             "#f7f7f7"
            ],
            [
             0.6,
             "#e6f5d0"
            ],
            [
             0.7,
             "#b8e186"
            ],
            [
             0.8,
             "#7fbc41"
            ],
            [
             0.9,
             "#4d9221"
            ],
            [
             1,
             "#276419"
            ]
           ],
           "sequential": [
            [
             0,
             "#0d0887"
            ],
            [
             0.1111111111111111,
             "#46039f"
            ],
            [
             0.2222222222222222,
             "#7201a8"
            ],
            [
             0.3333333333333333,
             "#9c179e"
            ],
            [
             0.4444444444444444,
             "#bd3786"
            ],
            [
             0.5555555555555556,
             "#d8576b"
            ],
            [
             0.6666666666666666,
             "#ed7953"
            ],
            [
             0.7777777777777778,
             "#fb9f3a"
            ],
            [
             0.8888888888888888,
             "#fdca26"
            ],
            [
             1,
             "#f0f921"
            ]
           ],
           "sequentialminus": [
            [
             0,
             "#0d0887"
            ],
            [
             0.1111111111111111,
             "#46039f"
            ],
            [
             0.2222222222222222,
             "#7201a8"
            ],
            [
             0.3333333333333333,
             "#9c179e"
            ],
            [
             0.4444444444444444,
             "#bd3786"
            ],
            [
             0.5555555555555556,
             "#d8576b"
            ],
            [
             0.6666666666666666,
             "#ed7953"
            ],
            [
             0.7777777777777778,
             "#fb9f3a"
            ],
            [
             0.8888888888888888,
             "#fdca26"
            ],
            [
             1,
             "#f0f921"
            ]
           ]
          },
          "colorway": [
           "#636efa",
           "#EF553B",
           "#00cc96",
           "#ab63fa",
           "#FFA15A",
           "#19d3f3",
           "#FF6692",
           "#B6E880",
           "#FF97FF",
           "#FECB52"
          ],
          "font": {
           "color": "#2a3f5f"
          },
          "geo": {
           "bgcolor": "white",
           "lakecolor": "white",
           "landcolor": "#E5ECF6",
           "showlakes": true,
           "showland": true,
           "subunitcolor": "white"
          },
          "hoverlabel": {
           "align": "left"
          },
          "hovermode": "closest",
          "mapbox": {
           "style": "light"
          },
          "paper_bgcolor": "white",
          "plot_bgcolor": "#E5ECF6",
          "polar": {
           "angularaxis": {
            "gridcolor": "white",
            "linecolor": "white",
            "ticks": ""
           },
           "bgcolor": "#E5ECF6",
           "radialaxis": {
            "gridcolor": "white",
            "linecolor": "white",
            "ticks": ""
           }
          },
          "scene": {
           "xaxis": {
            "backgroundcolor": "#E5ECF6",
            "gridcolor": "white",
            "gridwidth": 2,
            "linecolor": "white",
            "showbackground": true,
            "ticks": "",
            "zerolinecolor": "white"
           },
           "yaxis": {
            "backgroundcolor": "#E5ECF6",
            "gridcolor": "white",
            "gridwidth": 2,
            "linecolor": "white",
            "showbackground": true,
            "ticks": "",
            "zerolinecolor": "white"
           },
           "zaxis": {
            "backgroundcolor": "#E5ECF6",
            "gridcolor": "white",
            "gridwidth": 2,
            "linecolor": "white",
            "showbackground": true,
            "ticks": "",
            "zerolinecolor": "white"
           }
          },
          "shapedefaults": {
           "line": {
            "color": "#2a3f5f"
           }
          },
          "ternary": {
           "aaxis": {
            "gridcolor": "white",
            "linecolor": "white",
            "ticks": ""
           },
           "baxis": {
            "gridcolor": "white",
            "linecolor": "white",
            "ticks": ""
           },
           "bgcolor": "#E5ECF6",
           "caxis": {
            "gridcolor": "white",
            "linecolor": "white",
            "ticks": ""
           }
          },
          "title": {
           "x": 0.05
          },
          "xaxis": {
           "automargin": true,
           "gridcolor": "white",
           "linecolor": "white",
           "ticks": "",
           "title": {
            "standoff": 15
           },
           "zerolinecolor": "white",
           "zerolinewidth": 2
          },
          "yaxis": {
           "automargin": true,
           "gridcolor": "white",
           "linecolor": "white",
           "ticks": "",
           "title": {
            "standoff": 15
           },
           "zerolinecolor": "white",
           "zerolinewidth": 2
          }
         }
        },
        "title": {
         "text": "Accuracy by Semantic Class for Personal Predictions on Test Languages"
        },
        "width": 900,
        "xaxis": {
         "anchor": "y",
         "domain": [
          0,
          1
         ],
         "matches": "x2",
         "showticklabels": false
        },
        "xaxis2": {
         "anchor": "y2",
         "domain": [
          0,
          1
         ]
        },
        "yaxis": {
         "anchor": "x",
         "domain": [
          0.5375,
          1
         ],
         "tickvals": [
          0,
          0.25,
          0.5,
          0.75,
          1
         ]
        },
        "yaxis2": {
         "anchor": "x2",
         "domain": [
          0,
          0.4625
         ],
         "tickvals": [
          0,
          0.25,
          0.5,
          0.75,
          1
         ]
        },
        "yaxis3": {
         "tickvals": [
          0,
          0.25,
          0.5,
          0.75,
          1
         ]
        }
       }
      }
     },
     "metadata": {},
     "output_type": "display_data"
    },
    {
     "data": {
      "application/vnd.plotly.v1+json": {
       "config": {
        "plotlyServerURL": "https://plot.ly"
       },
       "data": [
        {
         "legendgroup": "0",
         "marker": {
          "color": "#636efa"
         },
         "name": "GPT-4o",
         "showlegend": true,
         "type": "bar",
         "x": [
          "italian",
          "chinese"
         ],
         "xaxis": "x",
         "y": [
          0.96,
          0.94
         ],
         "yaxis": "y"
        },
        {
         "legendgroup": "0",
         "marker": {
          "color": "#636efa"
         },
         "name": "GPT-4o",
         "showlegend": false,
         "type": "bar",
         "x": [
          "mimesis",
          "faker"
         ],
         "xaxis": "x2",
         "y": [
          0.9605263157894737,
          0.9166666666666666
         ],
         "yaxis": "y2"
        },
        {
         "legendgroup": "0",
         "marker": {
          "color": "#636efa"
         },
         "name": "GPT-4o",
         "showlegend": false,
         "type": "bar",
         "x": [
          "meaningful",
          "random generated"
         ],
         "xaxis": "x3",
         "y": [
          1,
          0.9
         ],
         "yaxis": "y3"
        },
        {
         "legendgroup": "1",
         "marker": {
          "color": "#EF553B"
         },
         "name": "CASSED",
         "showlegend": true,
         "type": "bar",
         "x": [
          "italian",
          "chinese"
         ],
         "xaxis": "x",
         "y": [
          0.72,
          0.16
         ],
         "yaxis": "y"
        },
        {
         "legendgroup": "1",
         "marker": {
          "color": "#EF553B"
         },
         "name": "CASSED",
         "showlegend": false,
         "type": "bar",
         "x": [
          "faker",
          "mimesis"
         ],
         "xaxis": "x2",
         "y": [
          0.75,
          0.34210526315789475
         ],
         "yaxis": "y2"
        },
        {
         "legendgroup": "1",
         "marker": {
          "color": "#EF553B"
         },
         "name": "CASSED",
         "showlegend": false,
         "type": "bar",
         "x": [
          "meaningful",
          "random generated"
         ],
         "xaxis": "x3",
         "y": [
          0.44,
          0.44
         ],
         "yaxis": "y3"
        }
       ],
       "layout": {
        "annotations": [
         {
          "font": {
           "size": 16
          },
          "showarrow": false,
          "text": "Language",
          "x": 0.14444444444444443,
          "xanchor": "center",
          "xref": "paper",
          "y": 1,
          "yanchor": "bottom",
          "yref": "paper"
         },
         {
          "font": {
           "size": 16
          },
          "showarrow": false,
          "text": "Original Dataset",
          "x": 0.49999999999999994,
          "xanchor": "center",
          "xref": "paper",
          "y": 1,
          "yanchor": "bottom",
          "yref": "paper"
         },
         {
          "font": {
           "size": 16
          },
          "showarrow": false,
          "text": "Type of<br>Column Name",
          "x": 0.8555555555555554,
          "xanchor": "center",
          "xref": "paper",
          "y": 1,
          "yanchor": "bottom",
          "yref": "paper"
         }
        ],
        "height": 350,
        "legend": {
         "title": {
          "text": "Model"
         }
        },
        "template": {
         "data": {
          "bar": [
           {
            "error_x": {
             "color": "#2a3f5f"
            },
            "error_y": {
             "color": "#2a3f5f"
            },
            "marker": {
             "line": {
              "color": "#E5ECF6",
              "width": 0.5
             },
             "pattern": {
              "fillmode": "overlay",
              "size": 10,
              "solidity": 0.2
             }
            },
            "type": "bar"
           }
          ],
          "barpolar": [
           {
            "marker": {
             "line": {
              "color": "#E5ECF6",
              "width": 0.5
             },
             "pattern": {
              "fillmode": "overlay",
              "size": 10,
              "solidity": 0.2
             }
            },
            "type": "barpolar"
           }
          ],
          "carpet": [
           {
            "aaxis": {
             "endlinecolor": "#2a3f5f",
             "gridcolor": "white",
             "linecolor": "white",
             "minorgridcolor": "white",
             "startlinecolor": "#2a3f5f"
            },
            "baxis": {
             "endlinecolor": "#2a3f5f",
             "gridcolor": "white",
             "linecolor": "white",
             "minorgridcolor": "white",
             "startlinecolor": "#2a3f5f"
            },
            "type": "carpet"
           }
          ],
          "choropleth": [
           {
            "colorbar": {
             "outlinewidth": 0,
             "ticks": ""
            },
            "type": "choropleth"
           }
          ],
          "contour": [
           {
            "colorbar": {
             "outlinewidth": 0,
             "ticks": ""
            },
            "colorscale": [
             [
              0,
              "#0d0887"
             ],
             [
              0.1111111111111111,
              "#46039f"
             ],
             [
              0.2222222222222222,
              "#7201a8"
             ],
             [
              0.3333333333333333,
              "#9c179e"
             ],
             [
              0.4444444444444444,
              "#bd3786"
             ],
             [
              0.5555555555555556,
              "#d8576b"
             ],
             [
              0.6666666666666666,
              "#ed7953"
             ],
             [
              0.7777777777777778,
              "#fb9f3a"
             ],
             [
              0.8888888888888888,
              "#fdca26"
             ],
             [
              1,
              "#f0f921"
             ]
            ],
            "type": "contour"
           }
          ],
          "contourcarpet": [
           {
            "colorbar": {
             "outlinewidth": 0,
             "ticks": ""
            },
            "type": "contourcarpet"
           }
          ],
          "heatmap": [
           {
            "colorbar": {
             "outlinewidth": 0,
             "ticks": ""
            },
            "colorscale": [
             [
              0,
              "#0d0887"
             ],
             [
              0.1111111111111111,
              "#46039f"
             ],
             [
              0.2222222222222222,
              "#7201a8"
             ],
             [
              0.3333333333333333,
              "#9c179e"
             ],
             [
              0.4444444444444444,
              "#bd3786"
             ],
             [
              0.5555555555555556,
              "#d8576b"
             ],
             [
              0.6666666666666666,
              "#ed7953"
             ],
             [
              0.7777777777777778,
              "#fb9f3a"
             ],
             [
              0.8888888888888888,
              "#fdca26"
             ],
             [
              1,
              "#f0f921"
             ]
            ],
            "type": "heatmap"
           }
          ],
          "heatmapgl": [
           {
            "colorbar": {
             "outlinewidth": 0,
             "ticks": ""
            },
            "colorscale": [
             [
              0,
              "#0d0887"
             ],
             [
              0.1111111111111111,
              "#46039f"
             ],
             [
              0.2222222222222222,
              "#7201a8"
             ],
             [
              0.3333333333333333,
              "#9c179e"
             ],
             [
              0.4444444444444444,
              "#bd3786"
             ],
             [
              0.5555555555555556,
              "#d8576b"
             ],
             [
              0.6666666666666666,
              "#ed7953"
             ],
             [
              0.7777777777777778,
              "#fb9f3a"
             ],
             [
              0.8888888888888888,
              "#fdca26"
             ],
             [
              1,
              "#f0f921"
             ]
            ],
            "type": "heatmapgl"
           }
          ],
          "histogram": [
           {
            "marker": {
             "pattern": {
              "fillmode": "overlay",
              "size": 10,
              "solidity": 0.2
             }
            },
            "type": "histogram"
           }
          ],
          "histogram2d": [
           {
            "colorbar": {
             "outlinewidth": 0,
             "ticks": ""
            },
            "colorscale": [
             [
              0,
              "#0d0887"
             ],
             [
              0.1111111111111111,
              "#46039f"
             ],
             [
              0.2222222222222222,
              "#7201a8"
             ],
             [
              0.3333333333333333,
              "#9c179e"
             ],
             [
              0.4444444444444444,
              "#bd3786"
             ],
             [
              0.5555555555555556,
              "#d8576b"
             ],
             [
              0.6666666666666666,
              "#ed7953"
             ],
             [
              0.7777777777777778,
              "#fb9f3a"
             ],
             [
              0.8888888888888888,
              "#fdca26"
             ],
             [
              1,
              "#f0f921"
             ]
            ],
            "type": "histogram2d"
           }
          ],
          "histogram2dcontour": [
           {
            "colorbar": {
             "outlinewidth": 0,
             "ticks": ""
            },
            "colorscale": [
             [
              0,
              "#0d0887"
             ],
             [
              0.1111111111111111,
              "#46039f"
             ],
             [
              0.2222222222222222,
              "#7201a8"
             ],
             [
              0.3333333333333333,
              "#9c179e"
             ],
             [
              0.4444444444444444,
              "#bd3786"
             ],
             [
              0.5555555555555556,
              "#d8576b"
             ],
             [
              0.6666666666666666,
              "#ed7953"
             ],
             [
              0.7777777777777778,
              "#fb9f3a"
             ],
             [
              0.8888888888888888,
              "#fdca26"
             ],
             [
              1,
              "#f0f921"
             ]
            ],
            "type": "histogram2dcontour"
           }
          ],
          "mesh3d": [
           {
            "colorbar": {
             "outlinewidth": 0,
             "ticks": ""
            },
            "type": "mesh3d"
           }
          ],
          "parcoords": [
           {
            "line": {
             "colorbar": {
              "outlinewidth": 0,
              "ticks": ""
             }
            },
            "type": "parcoords"
           }
          ],
          "pie": [
           {
            "automargin": true,
            "type": "pie"
           }
          ],
          "scatter": [
           {
            "fillpattern": {
             "fillmode": "overlay",
             "size": 10,
             "solidity": 0.2
            },
            "type": "scatter"
           }
          ],
          "scatter3d": [
           {
            "line": {
             "colorbar": {
              "outlinewidth": 0,
              "ticks": ""
             }
            },
            "marker": {
             "colorbar": {
              "outlinewidth": 0,
              "ticks": ""
             }
            },
            "type": "scatter3d"
           }
          ],
          "scattercarpet": [
           {
            "marker": {
             "colorbar": {
              "outlinewidth": 0,
              "ticks": ""
             }
            },
            "type": "scattercarpet"
           }
          ],
          "scattergeo": [
           {
            "marker": {
             "colorbar": {
              "outlinewidth": 0,
              "ticks": ""
             }
            },
            "type": "scattergeo"
           }
          ],
          "scattergl": [
           {
            "marker": {
             "colorbar": {
              "outlinewidth": 0,
              "ticks": ""
             }
            },
            "type": "scattergl"
           }
          ],
          "scattermapbox": [
           {
            "marker": {
             "colorbar": {
              "outlinewidth": 0,
              "ticks": ""
             }
            },
            "type": "scattermapbox"
           }
          ],
          "scatterpolar": [
           {
            "marker": {
             "colorbar": {
              "outlinewidth": 0,
              "ticks": ""
             }
            },
            "type": "scatterpolar"
           }
          ],
          "scatterpolargl": [
           {
            "marker": {
             "colorbar": {
              "outlinewidth": 0,
              "ticks": ""
             }
            },
            "type": "scatterpolargl"
           }
          ],
          "scatterternary": [
           {
            "marker": {
             "colorbar": {
              "outlinewidth": 0,
              "ticks": ""
             }
            },
            "type": "scatterternary"
           }
          ],
          "surface": [
           {
            "colorbar": {
             "outlinewidth": 0,
             "ticks": ""
            },
            "colorscale": [
             [
              0,
              "#0d0887"
             ],
             [
              0.1111111111111111,
              "#46039f"
             ],
             [
              0.2222222222222222,
              "#7201a8"
             ],
             [
              0.3333333333333333,
              "#9c179e"
             ],
             [
              0.4444444444444444,
              "#bd3786"
             ],
             [
              0.5555555555555556,
              "#d8576b"
             ],
             [
              0.6666666666666666,
              "#ed7953"
             ],
             [
              0.7777777777777778,
              "#fb9f3a"
             ],
             [
              0.8888888888888888,
              "#fdca26"
             ],
             [
              1,
              "#f0f921"
             ]
            ],
            "type": "surface"
           }
          ],
          "table": [
           {
            "cells": {
             "fill": {
              "color": "#EBF0F8"
             },
             "line": {
              "color": "white"
             }
            },
            "header": {
             "fill": {
              "color": "#C8D4E3"
             },
             "line": {
              "color": "white"
             }
            },
            "type": "table"
           }
          ]
         },
         "layout": {
          "annotationdefaults": {
           "arrowcolor": "#2a3f5f",
           "arrowhead": 0,
           "arrowwidth": 1
          },
          "autotypenumbers": "strict",
          "coloraxis": {
           "colorbar": {
            "outlinewidth": 0,
            "ticks": ""
           }
          },
          "colorscale": {
           "diverging": [
            [
             0,
             "#8e0152"
            ],
            [
             0.1,
             "#c51b7d"
            ],
            [
             0.2,
             "#de77ae"
            ],
            [
             0.3,
             "#f1b6da"
            ],
            [
             0.4,
             "#fde0ef"
            ],
            [
             0.5,
             "#f7f7f7"
            ],
            [
             0.6,
             "#e6f5d0"
            ],
            [
             0.7,
             "#b8e186"
            ],
            [
             0.8,
             "#7fbc41"
            ],
            [
             0.9,
             "#4d9221"
            ],
            [
             1,
             "#276419"
            ]
           ],
           "sequential": [
            [
             0,
             "#0d0887"
            ],
            [
             0.1111111111111111,
             "#46039f"
            ],
            [
             0.2222222222222222,
             "#7201a8"
            ],
            [
             0.3333333333333333,
             "#9c179e"
            ],
            [
             0.4444444444444444,
             "#bd3786"
            ],
            [
             0.5555555555555556,
             "#d8576b"
            ],
            [
             0.6666666666666666,
             "#ed7953"
            ],
            [
             0.7777777777777778,
             "#fb9f3a"
            ],
            [
             0.8888888888888888,
             "#fdca26"
            ],
            [
             1,
             "#f0f921"
            ]
           ],
           "sequentialminus": [
            [
             0,
             "#0d0887"
            ],
            [
             0.1111111111111111,
             "#46039f"
            ],
            [
             0.2222222222222222,
             "#7201a8"
            ],
            [
             0.3333333333333333,
             "#9c179e"
            ],
            [
             0.4444444444444444,
             "#bd3786"
            ],
            [
             0.5555555555555556,
             "#d8576b"
            ],
            [
             0.6666666666666666,
             "#ed7953"
            ],
            [
             0.7777777777777778,
             "#fb9f3a"
            ],
            [
             0.8888888888888888,
             "#fdca26"
            ],
            [
             1,
             "#f0f921"
            ]
           ]
          },
          "colorway": [
           "#636efa",
           "#EF553B",
           "#00cc96",
           "#ab63fa",
           "#FFA15A",
           "#19d3f3",
           "#FF6692",
           "#B6E880",
           "#FF97FF",
           "#FECB52"
          ],
          "font": {
           "color": "#2a3f5f"
          },
          "geo": {
           "bgcolor": "white",
           "lakecolor": "white",
           "landcolor": "#E5ECF6",
           "showlakes": true,
           "showland": true,
           "subunitcolor": "white"
          },
          "hoverlabel": {
           "align": "left"
          },
          "hovermode": "closest",
          "mapbox": {
           "style": "light"
          },
          "paper_bgcolor": "white",
          "plot_bgcolor": "#E5ECF6",
          "polar": {
           "angularaxis": {
            "gridcolor": "white",
            "linecolor": "white",
            "ticks": ""
           },
           "bgcolor": "#E5ECF6",
           "radialaxis": {
            "gridcolor": "white",
            "linecolor": "white",
            "ticks": ""
           }
          },
          "scene": {
           "xaxis": {
            "backgroundcolor": "#E5ECF6",
            "gridcolor": "white",
            "gridwidth": 2,
            "linecolor": "white",
            "showbackground": true,
            "ticks": "",
            "zerolinecolor": "white"
           },
           "yaxis": {
            "backgroundcolor": "#E5ECF6",
            "gridcolor": "white",
            "gridwidth": 2,
            "linecolor": "white",
            "showbackground": true,
            "ticks": "",
            "zerolinecolor": "white"
           },
           "zaxis": {
            "backgroundcolor": "#E5ECF6",
            "gridcolor": "white",
            "gridwidth": 2,
            "linecolor": "white",
            "showbackground": true,
            "ticks": "",
            "zerolinecolor": "white"
           }
          },
          "shapedefaults": {
           "line": {
            "color": "#2a3f5f"
           }
          },
          "ternary": {
           "aaxis": {
            "gridcolor": "white",
            "linecolor": "white",
            "ticks": ""
           },
           "baxis": {
            "gridcolor": "white",
            "linecolor": "white",
            "ticks": ""
           },
           "bgcolor": "#E5ECF6",
           "caxis": {
            "gridcolor": "white",
            "linecolor": "white",
            "ticks": ""
           }
          },
          "title": {
           "x": 0.05
          },
          "xaxis": {
           "automargin": true,
           "gridcolor": "white",
           "linecolor": "white",
           "ticks": "",
           "title": {
            "standoff": 15
           },
           "zerolinecolor": "white",
           "zerolinewidth": 2
          },
          "yaxis": {
           "automargin": true,
           "gridcolor": "white",
           "linecolor": "white",
           "ticks": "",
           "title": {
            "standoff": 15
           },
           "zerolinecolor": "white",
           "zerolinewidth": 2
          }
         }
        },
        "title": {
         "text": "Accuracy of Predictions by Language, Dataset, and Column Type on Test Languages"
        },
        "width": 850,
        "xaxis": {
         "anchor": "y",
         "domain": [
          0,
          0.28888888888888886
         ]
        },
        "xaxis2": {
         "anchor": "y2",
         "domain": [
          0.3555555555555555,
          0.6444444444444444
         ]
        },
        "xaxis3": {
         "anchor": "y3",
         "domain": [
          0.711111111111111,
          0.9999999999999999
         ]
        },
        "yaxis": {
         "anchor": "x",
         "domain": [
          0,
          1
         ],
         "title": {
          "text": "Accuracy"
         }
        },
        "yaxis2": {
         "anchor": "x2",
         "domain": [
          0,
          1
         ],
         "matches": "y",
         "showticklabels": false
        },
        "yaxis3": {
         "anchor": "x3",
         "domain": [
          0,
          1
         ],
         "matches": "y",
         "showticklabels": false
        }
       }
      }
     },
     "metadata": {},
     "output_type": "display_data"
    }
   ],
   "source": [
    "analyse_results(results_test_lan_multiclass_gpt, results_df_two_lan_cassed, dataset=\"Test Languages\", width=900, height=500, subplot_widths=[1/3,1/3,1/3], ticks=[0, 0.25, 0.5, 0.75, 1.0])"
   ]
  },
  {
   "cell_type": "code",
   "execution_count": null,
   "metadata": {},
   "outputs": [],
   "source": []
  }
 ],
 "metadata": {
  "kernelspec": {
   "display_name": "data-analysis",
   "language": "python",
   "name": "python3"
  },
  "language_info": {
   "codemirror_mode": {
    "name": "ipython",
    "version": 3
   },
   "file_extension": ".py",
   "mimetype": "text/x-python",
   "name": "python",
   "nbconvert_exporter": "python",
   "pygments_lexer": "ipython3",
   "version": "3.9.20"
  }
 },
 "nbformat": 4,
 "nbformat_minor": 2
}
