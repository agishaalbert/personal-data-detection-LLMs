{
 "cells": [
  {
   "cell_type": "code",
   "execution_count": 1,
   "metadata": {},
   "outputs": [],
   "source": [
    "import pandas as pd\n",
    "import plotly.graph_objects as go\n",
    "from sklearn.metrics import confusion_matrix, accuracy_score, f1_score, precision_score, roc_auc_score, recall_score\n",
    "import numpy as np\n",
    "from plotly.subplots import make_subplots\n",
    "import ast\n",
    "import re"
   ]
  },
  {
   "cell_type": "markdown",
   "metadata": {},
   "source": [
    "Comparison of all three models (Presidio, Cassed, GPT) on all three datasets for pii detection"
   ]
  },
  {
   "cell_type": "code",
   "execution_count": 2,
   "metadata": {},
   "outputs": [],
   "source": [
    "def load_data(path, multi=True):\n",
    "    data = pd.read_csv(path + \"/test.csv\")\n",
    "    data_pii = pd.read_csv(path + \"/test_labels_pii.csv\")\n",
    "    if multi:\n",
    "        data_multi = pd.read_csv(path + \"/test_labels_multiclass.csv\")\n",
    "    else:\n",
    "        data_multi = pd.read_csv(path + \"/test_labels_multi.csv\")\n",
    "    data_classes = pd.read_csv(path + \"/test_classes.csv\")\n",
    "    data_datasets = pd.read_csv(path + \"/test_dataset.csv\")\n",
    "    return data, data_pii, data_multi, data_classes, data_datasets\n",
    "\n",
    "own_data_gpt, own_data_gpt_pii, own_data_gpt_multi, own_data_gpt_classes, own_data_gpt_datasets = load_data(\"../datasets/dessi-mf/dessi-mf_gpt\")\n",
    "own_data, own_data_pii, own_data_multi, own_data_classes, own_data_datasets = load_data(\"../datasets/dessi-mf/dessi-mf\", multi=False)\n",
    "test_lan, test_lan_pii, test_lan_multi, test_lan_classes, test_lan_datasets = load_data(\"../datasets/test_languages\")\n",
    "\n",
    "test_kaggle = pd.read_csv(\"../datasets/kaggle_datasets/all_datasets.csv\")\n",
    "test_kaggle_pii = pd.read_csv(\"../datasets/kaggle_datasets/all_datasets_labels_pii.csv\")\n",
    "test_kaggle_dataset = pd.read_csv('../datasets/kaggle_datasets/all_datasets_names.csv')\n",
    "\n",
    "test_openml = pd.read_csv(\"../datasets/openml_datasets/all_datasets.csv\")\n",
    "test_openml_pii = pd.read_csv(\"../datasets/openml_datasets/all_datasets_labels_pii.csv\")\n",
    "test_openml_dataset = pd.read_csv('../datasets/openml_datasets/all_datasets_names.csv')\n",
    "\n",
    "test_openml_2 = pd.read_csv(\"../datasets/openml_datasets_2/all_datasets.csv\")\n",
    "test_openml_2_pii = pd.read_csv(\"../datasets/openml_datasets_2/all_datasets_labels_pii.csv\")\n",
    "test_openml_2_dataset = pd.read_csv('../datasets/openml_datasets_2/all_datasets_names.csv')"
   ]
  },
  {
   "cell_type": "markdown",
   "metadata": {},
   "source": [
    "GPT predictions"
   ]
  },
  {
   "cell_type": "code",
   "execution_count": 3,
   "metadata": {},
   "outputs": [],
   "source": [
    "def load_predictions(path):\n",
    "    with open(path, \"r\") as f:\n",
    "        response_text = f.read()\n",
    "    responses = response_text.split(\"\\n\")[1:]\n",
    "    detected_classes = []\n",
    "    for j in range(len(responses)):\n",
    "        match1 = re.search(f\"('detected_classes'|\\\"detected_classes\\\"|detected_classes): \\[(.*?)\\]\", responses[j])\n",
    "        detected = match1.group(2).replace(\"'\", \"\").replace(\"\\\"\", \"\").replace(\", \", \",\")\n",
    "        if \",\" in detected:\n",
    "            detected = sorted(detected.split(\",\"))\n",
    "            detected = \",\".join(detected)\n",
    "        detected_classes.append(detected)\n",
    "    semantic_classes = sorted(set([a for a in own_data_gpt_multi[\"label\"] if \",\" not in a]))\n",
    "    NON_pii = [\"answer\", \"city\", \"color\", \"company\", \"cpu\", \"credit_card_provider\", \"currency\", \"date\", \"dish\", \"drink\", \n",
    "                    \"duration\", \"EAN_code\", \"float_number\", \"gpe\", \"graphics\", \"integer_number\", \"isbn\", \"manufacturer\", \"measure_unit\", \"phone_model\", \n",
    "                    \"programming_language\", \"resolution\", \"SWIFT/BIC code\", \"system_quality_attribute\", \"url\", \"user_agent\", \"version\", \"word\"]\n",
    "    pii_classes = list(set(semantic_classes) - set(NON_pii))\n",
    "\n",
    "    pii_transformed = []\n",
    "    for i in range(len(detected_classes)):\n",
    "        if any(a in detected_classes[i] for a in pii_classes) and detected_classes[i] != \"programming_language\":                       \n",
    "            pii_transformed.append(\"pii\")\n",
    "        else:\n",
    "            pii_transformed.append(\"non-pii\")\n",
    "    return pii_transformed, detected_classes\n",
    "\n",
    "def load_predictions_dataset(path, data, labels, dataset):\n",
    "    with open(path, \"r\") as f:\n",
    "        response_text = f.read()\n",
    "    responses = response_text.split(\"\\n\")[1:]\n",
    "    pii = []\n",
    "    for j in range(data.shape[1]):\n",
    "        col = data.columns[j]\n",
    "        col = col.replace(\"(\", \"\\(\").replace(\")\", \"\\)\").replace(\"$\", \"\\$\")          # escape special characters for pattern matching\n",
    "        match1 = re.search(f\"({col}|'{col}'|\\\"{col}\\\")\" +\n",
    "                        f\": (true|false|\\\"true\\\"|\\\"false\\\"|'true'|'false'|True|False|\\\"True\\\"|\\\"False\\\"|'True'|'False')\",\n",
    "                        responses[j])\n",
    "        pii.append(match1.group(2))\n",
    "    pii_transformed = [\"non-pii\" if \"false\" in a.lower() else \"pii\" for a in pii]\n",
    "    \n",
    "    results = pd.DataFrame({\n",
    "        \"Name\": data.columns,\n",
    "        \"True Label\": labels[\"label\"],\n",
    "        \"Prediction\": pii_transformed,\n",
    "        \"Dataset\": dataset[\"dataset\"]\n",
    "    })\n",
    "    return results\n",
    "\n",
    "results_gpt_own_data, detected_classes_own_dataset = load_predictions(\"../GPT/gpt_predictions/dessi-mf_results.txt\")\n",
    "results_gpt_df_own_data = pd.DataFrame({\n",
    "    \"Column\": own_data_gpt.columns,\n",
    "    \"True Label\": own_data_gpt_pii[\"label\"],\n",
    "    \"Prediction\": results_gpt_own_data,\n",
    "    \"Classes\": own_data_gpt_classes[\"class\"],\n",
    "    \"Predicted Classes\": detected_classes_own_dataset,\n",
    "    \"Dataset\": own_data_gpt_datasets[\"dataset\"]\n",
    "})\n",
    "\n",
    "results_gpt_test_lan, detected_classes_test_lan = load_predictions(\"../GPT/gpt_predictions/test_languages_results.txt\")\n",
    "results_gpt_df_test_lan = pd.DataFrame({\n",
    "    \"Column\": test_lan.columns,\n",
    "    \"True Label\": test_lan_pii[\"label\"],\n",
    "    \"Prediction\": results_gpt_test_lan,\n",
    "    \"Classes\": test_lan_classes[\"class\"],\n",
    "    \"Predicted Classes\": detected_classes_test_lan,\n",
    "    \"Dataset\": test_lan_datasets[\"dataset\"]\n",
    "})\n",
    "\n",
    "results_gpt_df_kaggle= load_predictions_dataset(\"../GPT/gpt_predictions/kaggle_results.txt\", test_kaggle, test_kaggle_pii, test_kaggle_dataset)\n",
    "\n",
    "results_gpt_df_openml = load_predictions_dataset(\"../GPT/gpt_predictions/openml_results.txt\", test_openml, test_openml_pii, test_openml_dataset)\n",
    "\n",
    "results_gpt_df_openml_2 = load_predictions_dataset(\"../GPT/gpt_predictions/openml_2_results.txt\", test_openml_2, test_openml_2_pii, test_openml_2_dataset)"
   ]
  },
  {
   "cell_type": "markdown",
   "metadata": {},
   "source": [
    "CASSED predictions"
   ]
  },
  {
   "cell_type": "code",
   "execution_count": 4,
   "metadata": {},
   "outputs": [],
   "source": [
    "def extract_prediction(i, predictions):\n",
    "    list_extractor = re.compile(r\"([a-zA-Z0-9\\-]+)\\s*\\(\\d+(\\.\\d+)?\\)\")\n",
    "    matches = list_extractor.findall(predictions.iloc[i, :].values[0])\n",
    "    return [match[0] for match in matches]\n",
    "\n",
    "\n",
    "def convert_predictions(predictions):\n",
    "    column_names = []\n",
    "    gold_list = []\n",
    "    pred_list = []\n",
    "    mismatch = []\n",
    "    column_names.append(predictions.columns[0].split(\". \")[0].strip())\n",
    "\n",
    "    height = predictions.shape[0]\n",
    "\n",
    "    for i in range(height):\n",
    "        if 'Gold:' in predictions.iloc[i, :].values[0][:10]:\n",
    "            gold_val = str(extract_prediction(i, predictions))[2:-2]\n",
    "            gold_list.append(gold_val)\n",
    "        elif 'Pred:' in predictions.iloc[i, :].values[0][:10]:\n",
    "            pred_val = str(extract_prediction(i, predictions))[2:-2]\n",
    "            if \",\" in pred_val:         #a \",\" in the prediction means that the prediction predicted both classes pii and non-pii\n",
    "                pred_val = \"pii\"\n",
    "            pred_list.append(pred_val)\n",
    "            if i == height-1:\n",
    "                mismatch.append(\"No Mismatch\")\n",
    "                break\n",
    "            if 'MISMATCH' in predictions.iloc[i+1, :].values[0][:20]:\n",
    "                mismatch.append(\"Mismatch\")\n",
    "            else:\n",
    "                mismatch.append(\"No Mismatch\")\n",
    "        elif 'MISMATCH' not in predictions.iloc[i, :].values[0][:20]:\n",
    "            column_names.append(predictions.iloc[i, :].values[0].split('. ')[0].strip())\n",
    "            \n",
    "    df = pd.DataFrame({\n",
    "        'Name': column_names,\n",
    "        'Gold': gold_list,\n",
    "        'Pred': pred_list,\n",
    "        'Mismatch': mismatch\n",
    "    })\n",
    "    return df\n",
    "\n",
    "def get_tested_predictions(path):\n",
    "    data_true = pd.read_csv(path + \"/true.csv\")\n",
    "    data_pred = pd.read_csv(path + \"/predicted.csv\")\n",
    "    data_target_names = pd.read_csv(path + \"/target_names.csv\")\n",
    "    data_target_names = {a[1]: a[0] for a in data_target_names[[\"0\", \"0.1\"]].values}\n",
    "    data_target_names[0] = \"no prediction\"\n",
    "    predictions, true = [], []\n",
    "    for i in range(data_true.shape[0]):\n",
    "        predictions.append([data_target_names[e] for e, b in enumerate(data_pred.iloc[i,:]) if b == 1])\n",
    "        true.append([data_target_names[e] for e, b in enumerate(data_true.iloc[i,:]) if b == 1])\n",
    "    return [a[0] for a in true], [a[0] for a in predictions]\n",
    "\n",
    "results_cassed_own_data = pd.read_csv(\"../CASSED/CASSED_model_results/cassed_pii/dessi-mf/test.tsv\", sep='\\t')\n",
    "results_cassed_own_data = convert_predictions(results_cassed_own_data)\n",
    "results_cassed_df_own_data = pd.DataFrame({\n",
    "    \"Column\": own_data.columns,\n",
    "    \"Prediction\": results_cassed_own_data[\"Pred\"],\n",
    "    \"True Label\": results_cassed_own_data[\"Gold\"],\n",
    "    \"Classes\": own_data_classes[\"class\"],\n",
    "    \"Dataset\": own_data_datasets[\"dataset\"]\n",
    "})\n",
    "\n",
    "true, predictions = get_tested_predictions(\"../CASSED/CASSED_model_results/cassed_pii/two_languages\")\n",
    "results_cassed_df_test_lan = pd.DataFrame({\n",
    "    \"Column\": test_lan.columns,\n",
    "    \"Prediction\": predictions,\n",
    "    \"True Label\": test_lan_pii[\"label\"].values,\n",
    "    \"Classes\": test_lan_classes[\"class\"],\n",
    "    \"Dataset\": test_lan_datasets[\"dataset\"]\n",
    "})\n",
    "\n",
    "true, predictions = get_tested_predictions(\"../CASSED/CASSED_model_results/cassed_pii/kaggle\")\n",
    "results_cassed_df_test_kaggle = pd.DataFrame({\n",
    "    \"Column\": test_kaggle.columns,\n",
    "    \"Prediction\": predictions,\n",
    "    \"True Label\": test_kaggle_pii[\"label\"].values,\n",
    "    \"Dataset\": test_kaggle_dataset[\"dataset\"],\n",
    "})\n",
    "\n",
    "true, predictions = get_tested_predictions(\"../CASSED/CASSED_model_results/cassed_pii/openml\")\n",
    "results_cassed_df_test_openml = pd.DataFrame({\n",
    "    \"Column\": test_openml.columns,\n",
    "    \"Prediction\": predictions,\n",
    "    \"True Label\": test_openml_pii[\"label\"].values,\n",
    "    \"Dataset\": test_openml_dataset[\"dataset\"],\n",
    "})\n",
    "\n",
    "true, predictions = get_tested_predictions(\"../CASSED/CASSED_model_results/cassed_pii/openml_2\")\n",
    "results_cassed_df_test_openml_2 = pd.DataFrame({\n",
    "    \"Column\": test_openml_2.columns,\n",
    "    \"Prediction\": predictions,\n",
    "    \"True Label\": test_openml_2_pii[\"label\"].values,\n",
    "    \"Dataset\": test_openml_2_dataset[\"dataset\"],\n",
    "})"
   ]
  },
  {
   "cell_type": "markdown",
   "metadata": {},
   "source": [
    "Presidio predictions"
   ]
  },
  {
   "cell_type": "code",
   "execution_count": 5,
   "metadata": {},
   "outputs": [],
   "source": [
    "# classes that contain pii information, all other classes not contain pii data\n",
    "# non personal [\"AU_ABN\", \"AU_ACN\", \"IP_ADDRESS\", \"LOCATION\", \"shared LOCATION\", \"URL\"]\n",
    "PII_CLASSES = [\"AU_MEDICARE\", \"AU_TFN\", \"CREDIT_CARD\", \"EMAIL_ADDRESS\", \"IBAN_CODE\", \"IN_AADHAAR\", \"IN_PAN\", \"IN_PASSPORT\", \"IP_ADDRESS\", \"IN_VEHICLE_REGISTRATION\", \"MEDICAL_LICENSE\",\n",
    "               \"PERSON\", \"PHONE_NUMBER\", \"UK_NHS\", \"US_BANK_NUMBER\", \"US_DRIVER_LICENSE\", \"US_ITIN\", \"US_PASSPORT\", \"US_SSN\", \n",
    "               \"shared IN_PAN\", \"shared IN_VEHICLE_REGISTRATION\", \"shared PERSON\", \"shared PHONE_NUMBER\", \"shared US_BANK_NUMBER\", \"shared US_DRIVER_LICENSE\"]"
   ]
  },
  {
   "cell_type": "code",
   "execution_count": 6,
   "metadata": {},
   "outputs": [],
   "source": [
    "def get_categories_binary(strings):\n",
    "    if strings == []:\n",
    "        return \"non-pii\"\n",
    "    for s in strings:\n",
    "        if s in PII_CLASSES:\n",
    "            return \"pii\"  \n",
    "    return \"non-pii\"\n",
    "\n",
    "def build_dataframe_binary(results_df, threshold_score, threshold_count):\n",
    "    height, width = results_df.shape\n",
    "    results_copy = results_df.copy()\n",
    "    print(f\"Threshold score: {threshold_score}\\nThreshold count: {threshold_count}\")\n",
    "    empty_row1 = [[] for _ in range(width)]\n",
    "    empty_row2 = [[] for _ in range(width)]\n",
    "    empty_row3 = [\"\" for _ in range(width)]\n",
    "    results_copy.loc[height] = empty_row1.copy()\n",
    "    results_copy.loc[height+1] = empty_row2.copy()\n",
    "    results_copy.loc[height+2] = empty_row3.copy()\n",
    "    for i in range(width):\n",
    "        series = pd.Series([item for sublist in results_copy.iloc[2:height:2, i]\n",
    "                        for item in ast.literal_eval(sublist)], dtype=\"object\").value_counts()\n",
    "        for a, b in series.items():\n",
    "            if b > threshold_count:\n",
    "                results_copy.iloc[height, i].append(a)\n",
    "                results_copy.iloc[height+1, i].append(b)\n",
    "    for i in range(width):\n",
    "        entities = [re.sub(r'_\\d+(\\.\\d+)?$', '', item)\n",
    "                    for item in results_copy.iloc[height, i] if float(re.search(r'(\\d+\\.\\d+)', item).group(1)) >= threshold_score]\n",
    "        mapped_entities = get_categories_binary(entities)\n",
    "        results_copy.iloc[height+2, i] = mapped_entities\n",
    "    return results_copy"
   ]
  },
  {
   "cell_type": "code",
   "execution_count": 7,
   "metadata": {},
   "outputs": [
    {
     "name": "stdout",
     "output_type": "stream",
     "text": [
      "Threshold score: 0.9\n",
      "Threshold count: 0\n",
      "Threshold score: 0\n",
      "Threshold count: 60\n",
      "Threshold score: 0.1\n",
      "Threshold count: 20\n",
      "Threshold score: 0.4\n",
      "Threshold count: 70\n",
      "Threshold score: 0.1\n",
      "Threshold count: 50\n"
     ]
    }
   ],
   "source": [
    "results_columnwise_own_data = pd.read_csv(f\"../Presidio/predictions/binary_results/dessi-mf/results_columnwise.csv\")\n",
    "results_columnwise_own_data.iloc[0,:] = own_data_pii[\"label\"].values\n",
    "results_columnwise_own_data_thresholds = build_dataframe_binary(results_columnwise_own_data, 0.9, 0)\n",
    "results_presidio_df_own_data = pd.DataFrame({\n",
    "    \"Column\": own_data.columns,\n",
    "    \"Prediction\": results_columnwise_own_data_thresholds.loc[results_columnwise_own_data_thresholds.shape[0]-1].values,\n",
    "    \"True Label\": results_columnwise_own_data_thresholds.loc[0].values,\n",
    "    \"Classes\": own_data_classes[\"class\"],\n",
    "    \"Dataset\": own_data_datasets[\"dataset\"]\n",
    "})\n",
    "\n",
    "results_columnwise_two_languages = pd.read_csv(f\"../Presidio/predictions/binary_results/test_languages_res/results_columnwise.csv\")\n",
    "results_columnwise_two_languages.iloc[0,:] = test_lan_pii[\"label\"].values\n",
    "results_columnwise_two_languages_thresholds = build_dataframe_binary(results_columnwise_two_languages, 0, 60)\n",
    "results_presidio_df_two_languages = pd.DataFrame({\n",
    "    \"Column\": test_lan.columns,\n",
    "    \"Prediction\": results_columnwise_two_languages_thresholds.loc[results_columnwise_two_languages_thresholds.shape[0]-1].values,\n",
    "    \"True Label\": results_columnwise_two_languages_thresholds.loc[0].values,\n",
    "    \"Classes\": test_lan_classes[\"class\"],\n",
    "    \"Dataset\": test_lan_datasets[\"dataset\"]\n",
    "})\n",
    "\n",
    "results_columnwise_kaggle = pd.read_csv(f\"../Presidio/predictions/binary_results/kaggle/results_columnwise.csv\")\n",
    "results_columnwise_kaggle.iloc[0,:] = test_kaggle_pii[\"label\"].values\n",
    "results_columnwise_kaggle_thresholds = build_dataframe_binary(results_columnwise_kaggle, 0.1, 20)\n",
    "results_presidio_df_kaggle= pd.DataFrame({\n",
    "    \"Column\": test_kaggle.columns,\n",
    "    \"Prediction\": results_columnwise_kaggle_thresholds.loc[results_columnwise_kaggle_thresholds.shape[0]-1].values,\n",
    "    \"True Label\": results_columnwise_kaggle_thresholds.loc[0].values,\n",
    "    \"Dataset\": test_kaggle_dataset[\"dataset\"],\n",
    "})\n",
    "\n",
    "results_columnwise_openml = pd.read_csv(f\"../Presidio/predictions/binary_results/openml/results_columnwise.csv\")\n",
    "results_columnwise_openml.iloc[0,:] = test_openml_pii[\"label\"].values\n",
    "results_columnwise_openml_thresholds = build_dataframe_binary(results_columnwise_openml, 0.4, 70)\n",
    "results_presidio_df_openml = pd.DataFrame({\n",
    "    \"Column\": test_openml.columns,\n",
    "    \"Prediction\": results_columnwise_openml_thresholds.loc[results_columnwise_openml_thresholds.shape[0]-1].values,\n",
    "    \"True Label\": results_columnwise_openml_thresholds.loc[0].values,\n",
    "    \"Dataset\": test_openml_dataset[\"dataset\"],\n",
    "})\n",
    "\n",
    "results_columnwise_openml_2 = pd.read_csv(f\"../Presidio/predictions/binary_results/openml_2/results_columnwise.csv\")\n",
    "results_columnwise_openml_2.iloc[0,:] = test_openml_2_pii[\"label\"].values\n",
    "results_columnwise_openml_2_thresholds = build_dataframe_binary(results_columnwise_openml_2, 0.1, 50)\n",
    "results_presidio_df_openml_2 = pd.DataFrame({\n",
    "    \"Column\": test_openml_2.columns,\n",
    "    \"Prediction\": results_columnwise_openml_2_thresholds.loc[results_columnwise_openml_2_thresholds.shape[0]-1].values,\n",
    "    \"True Label\": results_columnwise_openml_2_thresholds.loc[0].values,\n",
    "    \"Dataset\": test_openml_2_dataset[\"dataset\"],\n",
    "})"
   ]
  },
  {
   "cell_type": "markdown",
   "metadata": {},
   "source": [
    "## Compare Performance"
   ]
  },
  {
   "cell_type": "code",
   "execution_count": 17,
   "metadata": {},
   "outputs": [],
   "source": [
    "def plot_metrics_results(results_gpt, results_cassed, results_presidio, dataset=\"DeSSI-MF\"):\n",
    "    fig1 = go.Figure()\n",
    "    fig2 = make_subplots(rows=1, cols=3, subplot_titles=[\"GPT-4o\", \"CASSED\", \"Presidio\"], horizontal_spacing=0.1)\n",
    "    colorscales = [\"Blues\", \"Reds\", \"Greens\"]\n",
    "    for e, (results, name) in enumerate(zip([results_gpt, results_cassed, results_presidio], [\"GPT-4o\", \"CASSED\", \"Presidio\"])):\n",
    "        y_true = results[\"True Label\"]\n",
    "        y_pred = results[\"Prediction\"]\n",
    "        y_true_bin = [1 if label == \"pii\" else 0 for label in y_true]\n",
    "        y_pred_bin = [1 if label == \"pii\" else 0 for label in y_pred]\n",
    "\n",
    "        cm = np.fliplr(confusion_matrix(y_true_bin, y_pred_bin))\n",
    "        cm_norm = np.fliplr(confusion_matrix(y_true_bin, y_pred_bin, normalize=\"true\") * 100)\n",
    "\n",
    "        accuracy = accuracy_score(y_true, y_pred)\n",
    "        f1 = f1_score(y_true, y_pred, pos_label=\"pii\")\n",
    "        f1_weighted = f1_score(y_true, y_pred, average=\"weighted\")\n",
    "        f1_macro = f1_score(y_true, y_pred, average=\"macro\")\n",
    "        precision = precision_score(y_true, y_pred, pos_label=\"pii\", zero_division=0)\n",
    "        recall = recall_score(y_true, y_pred, pos_label=\"pii\")\n",
    "        auc_roc = roc_auc_score(y_true_bin, y_pred_bin)\n",
    "\n",
    "        metrics = {\n",
    "            \"Precision\": precision,\n",
    "            \"Recall\": recall,\n",
    "            \"F1-Score\": f1,\n",
    "            \"Weighted F1\": f1_weighted,\n",
    "            \"Macro F1\": f1_macro,\n",
    "            \"Accuracy\": accuracy,\n",
    "            \"AUC-ROC\": auc_roc\n",
    "        }\n",
    "\n",
    "        fig1.add_trace(go.Bar(\n",
    "            x=list(metrics.keys()),\n",
    "            y=list(metrics.values()), \n",
    "            name=name\n",
    "        ))\n",
    "\n",
    "        text_values = [\n",
    "            [f\"{cm[0,0]}<br>({cm_norm[0,0]:.2f}%)\", f\"{cm[0,1]}<br>({cm_norm[0,1]:.2f}%)\"],\n",
    "            [f\"{cm[1,0]}<br>({cm_norm[1,0]:.2f}%)\", f\"{cm[1,1]}<br>({cm_norm[1,1]:.2f}%)\"]\n",
    "        ]\n",
    "        cm_heatmap = go.Heatmap(\n",
    "            z=cm, \n",
    "            x=[\"Pred: pii\", \"Pred: non-pii\"], \n",
    "            y=[\"True: non-<br>pii\", \"True:<br>pii\"], \n",
    "            colorscale=colorscales[e], \n",
    "            showscale=False,\n",
    "            text=text_values, \n",
    "            texttemplate=\"%{text}\",\n",
    "            textfont={\"size\":14},\n",
    "        )\n",
    "\n",
    "\n",
    "        fig2.add_trace(cm_heatmap, row=1, col=e+1)\n",
    "\n",
    "    fig1.update_layout(\n",
    "        title=f\"Evaluation Metrics for All Three Models on {dataset}\",\n",
    "        height=400, \n",
    "        width=900,\n",
    "        legend=dict(title=\"Model\")\n",
    "    )\n",
    "    fig1.update_yaxes(title_text=\"Score\", range=[0, 1.05])\n",
    "    fig1.update_xaxes(title_text=\"Metric\")\n",
    "    fig2.update_layout(\n",
    "        title=f\"Confusion Matrix for All Three Models on {dataset}\",\n",
    "        height=350, \n",
    "        width=900\n",
    "    )\n",
    "    fig1.show()\n",
    "    fig2.show()"
   ]
  },
  {
   "cell_type": "code",
   "execution_count": 9,
   "metadata": {},
   "outputs": [],
   "source": [
    "CLASS_NAMES = results_cassed_df_own_data[\"Classes\"].unique()\n",
    "CLASS_NAMES = [a.lower().split(\"_\")[0] for a in CLASS_NAMES]\n",
    "\n",
    "def is_valid_word(word):\n",
    "    return word.lower().split(\"_\")[0] in CLASS_NAMES\n",
    "\n",
    "def analyse_results(results_gpt, results_cassed, results_presidio, dataset=\"DeSSI-MF\", width=1430, height=740, subplot_widths=[0.5, 0.3, 0.2], ticks=[0, 0.2, 0.4, 0.6, 0.8, 1.0]):\n",
    "    \n",
    "    fig1 = make_subplots(rows=3, cols=1, subplot_titles=[\"GPT-4o Accuracy by Class\", \"CASSED Accuracy by Class\", \"Presidio Accuracy by Class\"], vertical_spacing=0.075,\n",
    "                    shared_xaxes=True, y_title=\"Accuracy\")\n",
    "    \n",
    "    fig2 = make_subplots(\n",
    "    rows=1, cols=3, shared_yaxes=True, column_widths=subplot_widths,\n",
    "    subplot_titles=[\"Language\", \"Original Dataset\", \"Type of<br>Column Name\"]\n",
    "    )\n",
    "    \n",
    "    for enu, (results_df, col, name) in enumerate(\n",
    "        zip([results_gpt.copy(), results_cassed.copy(), results_presidio.copy()], ['#636efa', '#EF553B', '#00cc96'], [\"GPT-4o\", \"CASSED\", \"Presidio\"])):\n",
    "        cla_new, lan = [], []\n",
    "        for i in range(len(results_df[\"Classes\"])):\n",
    "            if \"mixed\" in results_df.iloc[i, 3] or \"de_DE\" in results_df.iloc[i, 3] or \"fr_FR\" in results_df.iloc[i, 3]:\n",
    "                cla_new.append(results_df.iloc[i, 3][:-6])\n",
    "            elif \"_en\" in results_df.iloc[i, 3] or \"_de\" in results_df.iloc[i, 3] or \"_fr\" in results_df.iloc[i, 3] or \"_it\" in results_df.iloc[i,3\n",
    "                                                                            ] or \"_zh\" in results_df.iloc[i,3]:\n",
    "                cla_new.append(results_df.iloc[i, 3][:-3])\n",
    "            elif \",\" in results_df.iloc[i, 3]:\n",
    "                cla_new.append([','.join(sorted(string.split(','))) for string in [results_df.iloc[i, 3]]][0])\n",
    "            else:\n",
    "                cla_new.append(results_df.iloc[i, 3])\n",
    "                \n",
    "            if \"mixed\" in results_df.iloc[i, 3]:\n",
    "                lan.append(\"mixed language\")\n",
    "            elif \"_fr\" == results_df.iloc[i,3][-3:].lower():\n",
    "                lan.append(\"french\")\n",
    "            elif \"_it\" == results_df.iloc[i,3][-3:].lower():\n",
    "                lan.append(\"italian\")\n",
    "            elif \"_zh\" == results_df.iloc[i,3][-3:].lower():\n",
    "                lan.append(\"chinese\")\n",
    "            elif \"_de\" == results_df.iloc[i,3][-3:].lower():\n",
    "                lan.append(\"german\")\n",
    "            elif \"_en\" == results_df.iloc[i,3][-3:].lower():\n",
    "                lan.append(\"english\")\n",
    "            else:\n",
    "                lan.append(\"dessi data\")\n",
    "        results_df[\"Classes_new\"] = cla_new\n",
    "        results_df[\"Language\"] = lan\n",
    "        \n",
    "\n",
    "        accuracies_lan = {}\n",
    "        for i in results_df[\"Language\"].unique():\n",
    "            lan_df = results_df.loc[results_df[\"Language\"] == i]\n",
    "            accuracies_lan[i] = accuracy_score(lan_df[\"True Label\"], lan_df[\"Prediction\"])\n",
    "        accuracies_cla = {}\n",
    "        for i in results_df[\"Classes_new\"].unique():\n",
    "            cla_df = results_df.loc[results_df[\"Classes_new\"] == i]\n",
    "            accuracies_cla[i] = accuracy_score(cla_df[\"True Label\"], cla_df[\"Prediction\"])\n",
    "        accuracies_dat = {}\n",
    "        for i in results_df[\"Dataset\"].unique():\n",
    "            dat_df = results_df.loc[results_df[\"Dataset\"] == i]\n",
    "            accuracies_dat[i] = accuracy_score(dat_df[\"True Label\"], dat_df[\"Prediction\"])\n",
    "        accuracies_col = {}\n",
    "        ind = []\n",
    "        for i in range(results_df.shape[0]):\n",
    "            if is_valid_word(results_df.iloc[i, 0]):\n",
    "                ind.append(i)\n",
    "        accuracies_col[\"valid_col_names\"] = accuracy_score(results_df.iloc[ind, 2], results_df.iloc[ind, 1])\n",
    "        accuracies_col[\"invalid_col_names\"] = accuracy_score(results_df.iloc[[a for a in range(results_df.shape[0]) if a not in ind], 2], \n",
    "                                                            results_df.iloc[[a for a in range(results_df.shape[0]) if a not in ind], 1])\n",
    "\n",
    "        accuracies_cla = dict(sorted(accuracies_cla.items(), key=lambda item: item[1], reverse=True))\n",
    "        accuracies_lan = dict(sorted(accuracies_lan.items(), key=lambda item: item[1], reverse=True))\n",
    "        accuracies_col = dict(sorted(accuracies_col.items(), key=lambda item: item[1], reverse=True))\n",
    "        accuracies_dat = dict(sorted(accuracies_dat.items(), key=lambda item: item[1], reverse=True))\n",
    "        \n",
    "        colors = [\n",
    "        \"#d62728\",  # Red (High Saturation)\n",
    "        \"#ff9896\",  # Red (Low Saturation)\n",
    "        \"#1f77b4\",  # Blue (High Saturation)\n",
    "        \"#aec7e8\",  # Blue (Low Saturation)\n",
    "        \"#ff7f0e\",  # Orange (High Saturation)\n",
    "        \"#ffbb78\",  # Orange (Low Saturation)\n",
    "        \"#2ca02c\",  # Green (High Saturation)\n",
    "        \"#98df8a\",  # Green (Low Saturation)\n",
    "        \"#9467bd\",  # Purple (High Saturation)\n",
    "        \"#c5b0d5\",  # Purple (Low Saturation)\n",
    "        ]\n",
    "\n",
    "        languages = ['english', 'french', 'german', 'mixed language', 'dessi data'] if dataset != \"Test Languages\" else [\"italian\", \"chinese\"]\n",
    "        for e, language in enumerate(languages):\n",
    "            lan_df = results_df.loc[results_df[\"Language\"] == language]\n",
    "            accuracies_cla = {}\n",
    "            for ee, col_valid in enumerate([True, False]):\n",
    "                percentage_of_this_language = []\n",
    "                for i in lan_df[\"Classes_new\"].unique():\n",
    "                    cla_df = lan_df.loc[lan_df[\"Classes_new\"] == i]\n",
    "                    ind = []\n",
    "                    for j in range(cla_df.shape[0]):\n",
    "                        if is_valid_word(cla_df.iloc[j, 0]) == col_valid:\n",
    "                            ind.append(j)\n",
    "                    cla_df = cla_df.iloc[ind,:]\n",
    "                    percentage_of_this_language.append(cla_df.shape[0] / results_df.loc[results_df[\"Classes_new\"] == i].shape[0])\n",
    "                    accuracies_cla[i] = (cla_df[\"True Label\"] == cla_df[\"Prediction\"]).value_counts(normalize=True).get(True, 0)\n",
    "                fig1.add_trace(go.Bar(\n",
    "                    x=list(accuracies_cla.keys()),\n",
    "                    y=[a * b for a, b in zip(list(accuracies_cla.values()), percentage_of_this_language)],\n",
    "                    marker=dict(color=colors[2*e+ee]),\n",
    "                    name=f\"{language}_\" + (\"valid\" if col_valid == True else \"invalid\") + \"<br>column name\",\n",
    "                    showlegend=True if enu == 0 else False,\n",
    "                    legendgroup=2*e+ee\n",
    "                ), row=enu+1, col=1)\n",
    "\n",
    "\n",
    "        fig2.add_trace(go.Bar(\n",
    "            x=list(accuracies_lan.keys()),\n",
    "            y=list(accuracies_lan.values()),\n",
    "            name=name,\n",
    "            showlegend=True,\n",
    "            legendgroup=enu,\n",
    "            marker=dict(color=col)\n",
    "        ), row=1, col=1)\n",
    "        fig2.add_trace(go.Bar(\n",
    "            x=list(accuracies_dat.keys()),\n",
    "            y=list(accuracies_dat.values()),\n",
    "            name=name,\n",
    "            showlegend=False,\n",
    "            legendgroup=enu,\n",
    "            marker=dict(color=col)\n",
    "        ), row=1, col=2)\n",
    "        fig2.add_trace(go.Bar(\n",
    "            x=[\"meaningful\", \"random generated\"],\n",
    "            y=list(accuracies_col.values()),\n",
    "            name=name,\n",
    "            showlegend=False,\n",
    "            legendgroup=enu,\n",
    "            marker=dict(color=col)\n",
    "        ), row=1, col=3)\n",
    "    fig1.update_layout(title=f\"Accuracy by Semantic Class for pii Predictions on {dataset}\", width=width, height=height, barmode=\"stack\", legend=dict(title=\"Properties of Column\"), \n",
    "                       yaxis=dict(tickvals=ticks), yaxis2=dict(tickvals=ticks), yaxis3=dict(tickvals=ticks))\n",
    "    fig1.show()\n",
    "    fig2.update_layout(width=800, height=400, title=f\"Accuracy of Predictions by Language, Dataset, and Column Type on {dataset}\", yaxis=dict(title=\"Accuracy\"),\n",
    "                       legend=dict(title=\"Model\"))\n",
    "    fig2.show()"
   ]
  },
  {
   "cell_type": "code",
   "execution_count": 10,
   "metadata": {},
   "outputs": [
    {
     "data": {
      "application/vnd.plotly.v1+json": {
       "config": {
        "plotlyServerURL": "https://plot.ly"
       },
       "data": [
        {
         "name": "GPT-4o",
         "type": "bar",
         "x": [
          "Precision",
          "Recall",
          "F1-Score",
          "Weighted F1",
          "Macro F1",
          "Accuracy",
          "AUC-ROC"
         ],
         "y": [
          0.49280575539568344,
          0.9513888888888888,
          0.6492890995260664,
          0.7448674548200616,
          0.7141967885690034,
          0.7289377289377289,
          0.8003213101160862
         ]
        },
        {
         "name": "CASSED",
         "type": "bar",
         "x": [
          "Precision",
          "Recall",
          "F1-Score",
          "Weighted F1",
          "Macro F1",
          "Accuracy",
          "AUC-ROC"
         ],
         "y": [
          1,
          1,
          1,
          1,
          1,
          1,
          1
         ]
        },
        {
         "name": "Presidio",
         "type": "bar",
         "x": [
          "Precision",
          "Recall",
          "F1-Score",
          "Weighted F1",
          "Macro F1",
          "Accuracy",
          "AUC-ROC"
         ],
         "y": [
          0.7934392619169657,
          0.6736292428198434,
          0.7286420334196282,
          0.8397328437100042,
          0.8093586752091944,
          0.8435337223503867,
          0.7970788690928244
         ]
        }
       ],
       "layout": {
        "height": 400,
        "legend": {
         "title": {
          "text": "Model"
         }
        },
        "template": {
         "data": {
          "bar": [
           {
            "error_x": {
             "color": "#2a3f5f"
            },
            "error_y": {
             "color": "#2a3f5f"
            },
            "marker": {
             "line": {
              "color": "#E5ECF6",
              "width": 0.5
             },
             "pattern": {
              "fillmode": "overlay",
              "size": 10,
              "solidity": 0.2
             }
            },
            "type": "bar"
           }
          ],
          "barpolar": [
           {
            "marker": {
             "line": {
              "color": "#E5ECF6",
              "width": 0.5
             },
             "pattern": {
              "fillmode": "overlay",
              "size": 10,
              "solidity": 0.2
             }
            },
            "type": "barpolar"
           }
          ],
          "carpet": [
           {
            "aaxis": {
             "endlinecolor": "#2a3f5f",
             "gridcolor": "white",
             "linecolor": "white",
             "minorgridcolor": "white",
             "startlinecolor": "#2a3f5f"
            },
            "baxis": {
             "endlinecolor": "#2a3f5f",
             "gridcolor": "white",
             "linecolor": "white",
             "minorgridcolor": "white",
             "startlinecolor": "#2a3f5f"
            },
            "type": "carpet"
           }
          ],
          "choropleth": [
           {
            "colorbar": {
             "outlinewidth": 0,
             "ticks": ""
            },
            "type": "choropleth"
           }
          ],
          "contour": [
           {
            "colorbar": {
             "outlinewidth": 0,
             "ticks": ""
            },
            "colorscale": [
             [
              0,
              "#0d0887"
             ],
             [
              0.1111111111111111,
              "#46039f"
             ],
             [
              0.2222222222222222,
              "#7201a8"
             ],
             [
              0.3333333333333333,
              "#9c179e"
             ],
             [
              0.4444444444444444,
              "#bd3786"
             ],
             [
              0.5555555555555556,
              "#d8576b"
             ],
             [
              0.6666666666666666,
              "#ed7953"
             ],
             [
              0.7777777777777778,
              "#fb9f3a"
             ],
             [
              0.8888888888888888,
              "#fdca26"
             ],
             [
              1,
              "#f0f921"
             ]
            ],
            "type": "contour"
           }
          ],
          "contourcarpet": [
           {
            "colorbar": {
             "outlinewidth": 0,
             "ticks": ""
            },
            "type": "contourcarpet"
           }
          ],
          "heatmap": [
           {
            "colorbar": {
             "outlinewidth": 0,
             "ticks": ""
            },
            "colorscale": [
             [
              0,
              "#0d0887"
             ],
             [
              0.1111111111111111,
              "#46039f"
             ],
             [
              0.2222222222222222,
              "#7201a8"
             ],
             [
              0.3333333333333333,
              "#9c179e"
             ],
             [
              0.4444444444444444,
              "#bd3786"
             ],
             [
              0.5555555555555556,
              "#d8576b"
             ],
             [
              0.6666666666666666,
              "#ed7953"
             ],
             [
              0.7777777777777778,
              "#fb9f3a"
             ],
             [
              0.8888888888888888,
              "#fdca26"
             ],
             [
              1,
              "#f0f921"
             ]
            ],
            "type": "heatmap"
           }
          ],
          "heatmapgl": [
           {
            "colorbar": {
             "outlinewidth": 0,
             "ticks": ""
            },
            "colorscale": [
             [
              0,
              "#0d0887"
             ],
             [
              0.1111111111111111,
              "#46039f"
             ],
             [
              0.2222222222222222,
              "#7201a8"
             ],
             [
              0.3333333333333333,
              "#9c179e"
             ],
             [
              0.4444444444444444,
              "#bd3786"
             ],
             [
              0.5555555555555556,
              "#d8576b"
             ],
             [
              0.6666666666666666,
              "#ed7953"
             ],
             [
              0.7777777777777778,
              "#fb9f3a"
             ],
             [
              0.8888888888888888,
              "#fdca26"
             ],
             [
              1,
              "#f0f921"
             ]
            ],
            "type": "heatmapgl"
           }
          ],
          "histogram": [
           {
            "marker": {
             "pattern": {
              "fillmode": "overlay",
              "size": 10,
              "solidity": 0.2
             }
            },
            "type": "histogram"
           }
          ],
          "histogram2d": [
           {
            "colorbar": {
             "outlinewidth": 0,
             "ticks": ""
            },
            "colorscale": [
             [
              0,
              "#0d0887"
             ],
             [
              0.1111111111111111,
              "#46039f"
             ],
             [
              0.2222222222222222,
              "#7201a8"
             ],
             [
              0.3333333333333333,
              "#9c179e"
             ],
             [
              0.4444444444444444,
              "#bd3786"
             ],
             [
              0.5555555555555556,
              "#d8576b"
             ],
             [
              0.6666666666666666,
              "#ed7953"
             ],
             [
              0.7777777777777778,
              "#fb9f3a"
             ],
             [
              0.8888888888888888,
              "#fdca26"
             ],
             [
              1,
              "#f0f921"
             ]
            ],
            "type": "histogram2d"
           }
          ],
          "histogram2dcontour": [
           {
            "colorbar": {
             "outlinewidth": 0,
             "ticks": ""
            },
            "colorscale": [
             [
              0,
              "#0d0887"
             ],
             [
              0.1111111111111111,
              "#46039f"
             ],
             [
              0.2222222222222222,
              "#7201a8"
             ],
             [
              0.3333333333333333,
              "#9c179e"
             ],
             [
              0.4444444444444444,
              "#bd3786"
             ],
             [
              0.5555555555555556,
              "#d8576b"
             ],
             [
              0.6666666666666666,
              "#ed7953"
             ],
             [
              0.7777777777777778,
              "#fb9f3a"
             ],
             [
              0.8888888888888888,
              "#fdca26"
             ],
             [
              1,
              "#f0f921"
             ]
            ],
            "type": "histogram2dcontour"
           }
          ],
          "mesh3d": [
           {
            "colorbar": {
             "outlinewidth": 0,
             "ticks": ""
            },
            "type": "mesh3d"
           }
          ],
          "parcoords": [
           {
            "line": {
             "colorbar": {
              "outlinewidth": 0,
              "ticks": ""
             }
            },
            "type": "parcoords"
           }
          ],
          "pie": [
           {
            "automargin": true,
            "type": "pie"
           }
          ],
          "scatter": [
           {
            "fillpattern": {
             "fillmode": "overlay",
             "size": 10,
             "solidity": 0.2
            },
            "type": "scatter"
           }
          ],
          "scatter3d": [
           {
            "line": {
             "colorbar": {
              "outlinewidth": 0,
              "ticks": ""
             }
            },
            "marker": {
             "colorbar": {
              "outlinewidth": 0,
              "ticks": ""
             }
            },
            "type": "scatter3d"
           }
          ],
          "scattercarpet": [
           {
            "marker": {
             "colorbar": {
              "outlinewidth": 0,
              "ticks": ""
             }
            },
            "type": "scattercarpet"
           }
          ],
          "scattergeo": [
           {
            "marker": {
             "colorbar": {
              "outlinewidth": 0,
              "ticks": ""
             }
            },
            "type": "scattergeo"
           }
          ],
          "scattergl": [
           {
            "marker": {
             "colorbar": {
              "outlinewidth": 0,
              "ticks": ""
             }
            },
            "type": "scattergl"
           }
          ],
          "scattermapbox": [
           {
            "marker": {
             "colorbar": {
              "outlinewidth": 0,
              "ticks": ""
             }
            },
            "type": "scattermapbox"
           }
          ],
          "scatterpolar": [
           {
            "marker": {
             "colorbar": {
              "outlinewidth": 0,
              "ticks": ""
             }
            },
            "type": "scatterpolar"
           }
          ],
          "scatterpolargl": [
           {
            "marker": {
             "colorbar": {
              "outlinewidth": 0,
              "ticks": ""
             }
            },
            "type": "scatterpolargl"
           }
          ],
          "scatterternary": [
           {
            "marker": {
             "colorbar": {
              "outlinewidth": 0,
              "ticks": ""
             }
            },
            "type": "scatterternary"
           }
          ],
          "surface": [
           {
            "colorbar": {
             "outlinewidth": 0,
             "ticks": ""
            },
            "colorscale": [
             [
              0,
              "#0d0887"
             ],
             [
              0.1111111111111111,
              "#46039f"
             ],
             [
              0.2222222222222222,
              "#7201a8"
             ],
             [
              0.3333333333333333,
              "#9c179e"
             ],
             [
              0.4444444444444444,
              "#bd3786"
             ],
             [
              0.5555555555555556,
              "#d8576b"
             ],
             [
              0.6666666666666666,
              "#ed7953"
             ],
             [
              0.7777777777777778,
              "#fb9f3a"
             ],
             [
              0.8888888888888888,
              "#fdca26"
             ],
             [
              1,
              "#f0f921"
             ]
            ],
            "type": "surface"
           }
          ],
          "table": [
           {
            "cells": {
             "fill": {
              "color": "#EBF0F8"
             },
             "line": {
              "color": "white"
             }
            },
            "header": {
             "fill": {
              "color": "#C8D4E3"
             },
             "line": {
              "color": "white"
             }
            },
            "type": "table"
           }
          ]
         },
         "layout": {
          "annotationdefaults": {
           "arrowcolor": "#2a3f5f",
           "arrowhead": 0,
           "arrowwidth": 1
          },
          "autotypenumbers": "strict",
          "coloraxis": {
           "colorbar": {
            "outlinewidth": 0,
            "ticks": ""
           }
          },
          "colorscale": {
           "diverging": [
            [
             0,
             "#8e0152"
            ],
            [
             0.1,
             "#c51b7d"
            ],
            [
             0.2,
             "#de77ae"
            ],
            [
             0.3,
             "#f1b6da"
            ],
            [
             0.4,
             "#fde0ef"
            ],
            [
             0.5,
             "#f7f7f7"
            ],
            [
             0.6,
             "#e6f5d0"
            ],
            [
             0.7,
             "#b8e186"
            ],
            [
             0.8,
             "#7fbc41"
            ],
            [
             0.9,
             "#4d9221"
            ],
            [
             1,
             "#276419"
            ]
           ],
           "sequential": [
            [
             0,
             "#0d0887"
            ],
            [
             0.1111111111111111,
             "#46039f"
            ],
            [
             0.2222222222222222,
             "#7201a8"
            ],
            [
             0.3333333333333333,
             "#9c179e"
            ],
            [
             0.4444444444444444,
             "#bd3786"
            ],
            [
             0.5555555555555556,
             "#d8576b"
            ],
            [
             0.6666666666666666,
             "#ed7953"
            ],
            [
             0.7777777777777778,
             "#fb9f3a"
            ],
            [
             0.8888888888888888,
             "#fdca26"
            ],
            [
             1,
             "#f0f921"
            ]
           ],
           "sequentialminus": [
            [
             0,
             "#0d0887"
            ],
            [
             0.1111111111111111,
             "#46039f"
            ],
            [
             0.2222222222222222,
             "#7201a8"
            ],
            [
             0.3333333333333333,
             "#9c179e"
            ],
            [
             0.4444444444444444,
             "#bd3786"
            ],
            [
             0.5555555555555556,
             "#d8576b"
            ],
            [
             0.6666666666666666,
             "#ed7953"
            ],
            [
             0.7777777777777778,
             "#fb9f3a"
            ],
            [
             0.8888888888888888,
             "#fdca26"
            ],
            [
             1,
             "#f0f921"
            ]
           ]
          },
          "colorway": [
           "#636efa",
           "#EF553B",
           "#00cc96",
           "#ab63fa",
           "#FFA15A",
           "#19d3f3",
           "#FF6692",
           "#B6E880",
           "#FF97FF",
           "#FECB52"
          ],
          "font": {
           "color": "#2a3f5f"
          },
          "geo": {
           "bgcolor": "white",
           "lakecolor": "white",
           "landcolor": "#E5ECF6",
           "showlakes": true,
           "showland": true,
           "subunitcolor": "white"
          },
          "hoverlabel": {
           "align": "left"
          },
          "hovermode": "closest",
          "mapbox": {
           "style": "light"
          },
          "paper_bgcolor": "white",
          "plot_bgcolor": "#E5ECF6",
          "polar": {
           "angularaxis": {
            "gridcolor": "white",
            "linecolor": "white",
            "ticks": ""
           },
           "bgcolor": "#E5ECF6",
           "radialaxis": {
            "gridcolor": "white",
            "linecolor": "white",
            "ticks": ""
           }
          },
          "scene": {
           "xaxis": {
            "backgroundcolor": "#E5ECF6",
            "gridcolor": "white",
            "gridwidth": 2,
            "linecolor": "white",
            "showbackground": true,
            "ticks": "",
            "zerolinecolor": "white"
           },
           "yaxis": {
            "backgroundcolor": "#E5ECF6",
            "gridcolor": "white",
            "gridwidth": 2,
            "linecolor": "white",
            "showbackground": true,
            "ticks": "",
            "zerolinecolor": "white"
           },
           "zaxis": {
            "backgroundcolor": "#E5ECF6",
            "gridcolor": "white",
            "gridwidth": 2,
            "linecolor": "white",
            "showbackground": true,
            "ticks": "",
            "zerolinecolor": "white"
           }
          },
          "shapedefaults": {
           "line": {
            "color": "#2a3f5f"
           }
          },
          "ternary": {
           "aaxis": {
            "gridcolor": "white",
            "linecolor": "white",
            "ticks": ""
           },
           "baxis": {
            "gridcolor": "white",
            "linecolor": "white",
            "ticks": ""
           },
           "bgcolor": "#E5ECF6",
           "caxis": {
            "gridcolor": "white",
            "linecolor": "white",
            "ticks": ""
           }
          },
          "title": {
           "x": 0.05
          },
          "xaxis": {
           "automargin": true,
           "gridcolor": "white",
           "linecolor": "white",
           "ticks": "",
           "title": {
            "standoff": 15
           },
           "zerolinecolor": "white",
           "zerolinewidth": 2
          },
          "yaxis": {
           "automargin": true,
           "gridcolor": "white",
           "linecolor": "white",
           "ticks": "",
           "title": {
            "standoff": 15
           },
           "zerolinecolor": "white",
           "zerolinewidth": 2
          }
         }
        },
        "title": {
         "text": "Evaluation Metrics for All Three Models on DeSSI-MF"
        },
        "width": 900,
        "xaxis": {
         "title": {
          "text": "Metric"
         }
        },
        "yaxis": {
         "range": [
          0,
          1.05
         ],
         "title": {
          "text": "Score"
         }
        }
       }
      }
     },
     "metadata": {},
     "output_type": "display_data"
    },
    {
     "data": {
      "application/vnd.plotly.v1+json": {
       "config": {
        "plotlyServerURL": "https://plot.ly"
       },
       "data": [
        {
         "colorscale": [
          [
           0,
           "rgb(247,251,255)"
          ],
          [
           0.125,
           "rgb(222,235,247)"
          ],
          [
           0.25,
           "rgb(198,219,239)"
          ],
          [
           0.375,
           "rgb(158,202,225)"
          ],
          [
           0.5,
           "rgb(107,174,214)"
          ],
          [
           0.625,
           "rgb(66,146,198)"
          ],
          [
           0.75,
           "rgb(33,113,181)"
          ],
          [
           0.875,
           "rgb(8,81,156)"
          ],
          [
           1,
           "rgb(8,48,107)"
          ]
         ],
         "showscale": false,
         "text": [
          [
           "141<br>(35.07%)",
           "261<br>(64.93%)"
          ],
          [
           "137<br>(95.14%)",
           "7<br>(4.86%)"
          ]
         ],
         "textfont": {
          "size": 14
         },
         "texttemplate": "%{text}",
         "type": "heatmap",
         "x": [
          "Pred: pii",
          "Pred: non-pii"
         ],
         "xaxis": "x",
         "y": [
          "True: non-<br>pii",
          "True:<br>pii"
         ],
         "yaxis": "y",
         "z": [
          [
           141,
           261
          ],
          [
           137,
           7
          ]
         ]
        },
        {
         "colorscale": [
          [
           0,
           "rgb(255,245,240)"
          ],
          [
           0.125,
           "rgb(254,224,210)"
          ],
          [
           0.25,
           "rgb(252,187,161)"
          ],
          [
           0.375,
           "rgb(252,146,114)"
          ],
          [
           0.5,
           "rgb(251,106,74)"
          ],
          [
           0.625,
           "rgb(239,59,44)"
          ],
          [
           0.75,
           "rgb(203,24,29)"
          ],
          [
           0.875,
           "rgb(165,15,21)"
          ],
          [
           1,
           "rgb(103,0,13)"
          ]
         ],
         "showscale": false,
         "text": [
          [
           "0<br>(0.00%)",
           "10142<br>(100.00%)"
          ],
          [
           "4596<br>(100.00%)",
           "0<br>(0.00%)"
          ]
         ],
         "textfont": {
          "size": 14
         },
         "texttemplate": "%{text}",
         "type": "heatmap",
         "x": [
          "Pred: pii",
          "Pred: non-pii"
         ],
         "xaxis": "x2",
         "y": [
          "True: non-<br>pii",
          "True:<br>pii"
         ],
         "yaxis": "y2",
         "z": [
          [
           0,
           10142
          ],
          [
           4596,
           0
          ]
         ]
        },
        {
         "colorscale": [
          [
           0,
           "rgb(247,252,245)"
          ],
          [
           0.125,
           "rgb(229,245,224)"
          ],
          [
           0.25,
           "rgb(199,233,192)"
          ],
          [
           0.375,
           "rgb(161,217,155)"
          ],
          [
           0.5,
           "rgb(116,196,118)"
          ],
          [
           0.625,
           "rgb(65,171,93)"
          ],
          [
           0.75,
           "rgb(35,139,69)"
          ],
          [
           0.875,
           "rgb(0,109,44)"
          ],
          [
           1,
           "rgb(0,68,27)"
          ]
         ],
         "showscale": false,
         "text": [
          [
           "806<br>(7.95%)",
           "9336<br>(92.05%)"
          ],
          [
           "3096<br>(67.36%)",
           "1500<br>(32.64%)"
          ]
         ],
         "textfont": {
          "size": 14
         },
         "texttemplate": "%{text}",
         "type": "heatmap",
         "x": [
          "Pred: pii",
          "Pred: non-pii"
         ],
         "xaxis": "x3",
         "y": [
          "True: non-<br>pii",
          "True:<br>pii"
         ],
         "yaxis": "y3",
         "z": [
          [
           806,
           9336
          ],
          [
           3096,
           1500
          ]
         ]
        }
       ],
       "layout": {
        "annotations": [
         {
          "font": {
           "size": 16
          },
          "showarrow": false,
          "text": "GPT-4o",
          "x": 0.13333333333333333,
          "xanchor": "center",
          "xref": "paper",
          "y": 1,
          "yanchor": "bottom",
          "yref": "paper"
         },
         {
          "font": {
           "size": 16
          },
          "showarrow": false,
          "text": "CASSED",
          "x": 0.5,
          "xanchor": "center",
          "xref": "paper",
          "y": 1,
          "yanchor": "bottom",
          "yref": "paper"
         },
         {
          "font": {
           "size": 16
          },
          "showarrow": false,
          "text": "Presidio",
          "x": 0.8666666666666667,
          "xanchor": "center",
          "xref": "paper",
          "y": 1,
          "yanchor": "bottom",
          "yref": "paper"
         }
        ],
        "height": 350,
        "template": {
         "data": {
          "bar": [
           {
            "error_x": {
             "color": "#2a3f5f"
            },
            "error_y": {
             "color": "#2a3f5f"
            },
            "marker": {
             "line": {
              "color": "#E5ECF6",
              "width": 0.5
             },
             "pattern": {
              "fillmode": "overlay",
              "size": 10,
              "solidity": 0.2
             }
            },
            "type": "bar"
           }
          ],
          "barpolar": [
           {
            "marker": {
             "line": {
              "color": "#E5ECF6",
              "width": 0.5
             },
             "pattern": {
              "fillmode": "overlay",
              "size": 10,
              "solidity": 0.2
             }
            },
            "type": "barpolar"
           }
          ],
          "carpet": [
           {
            "aaxis": {
             "endlinecolor": "#2a3f5f",
             "gridcolor": "white",
             "linecolor": "white",
             "minorgridcolor": "white",
             "startlinecolor": "#2a3f5f"
            },
            "baxis": {
             "endlinecolor": "#2a3f5f",
             "gridcolor": "white",
             "linecolor": "white",
             "minorgridcolor": "white",
             "startlinecolor": "#2a3f5f"
            },
            "type": "carpet"
           }
          ],
          "choropleth": [
           {
            "colorbar": {
             "outlinewidth": 0,
             "ticks": ""
            },
            "type": "choropleth"
           }
          ],
          "contour": [
           {
            "colorbar": {
             "outlinewidth": 0,
             "ticks": ""
            },
            "colorscale": [
             [
              0,
              "#0d0887"
             ],
             [
              0.1111111111111111,
              "#46039f"
             ],
             [
              0.2222222222222222,
              "#7201a8"
             ],
             [
              0.3333333333333333,
              "#9c179e"
             ],
             [
              0.4444444444444444,
              "#bd3786"
             ],
             [
              0.5555555555555556,
              "#d8576b"
             ],
             [
              0.6666666666666666,
              "#ed7953"
             ],
             [
              0.7777777777777778,
              "#fb9f3a"
             ],
             [
              0.8888888888888888,
              "#fdca26"
             ],
             [
              1,
              "#f0f921"
             ]
            ],
            "type": "contour"
           }
          ],
          "contourcarpet": [
           {
            "colorbar": {
             "outlinewidth": 0,
             "ticks": ""
            },
            "type": "contourcarpet"
           }
          ],
          "heatmap": [
           {
            "colorbar": {
             "outlinewidth": 0,
             "ticks": ""
            },
            "colorscale": [
             [
              0,
              "#0d0887"
             ],
             [
              0.1111111111111111,
              "#46039f"
             ],
             [
              0.2222222222222222,
              "#7201a8"
             ],
             [
              0.3333333333333333,
              "#9c179e"
             ],
             [
              0.4444444444444444,
              "#bd3786"
             ],
             [
              0.5555555555555556,
              "#d8576b"
             ],
             [
              0.6666666666666666,
              "#ed7953"
             ],
             [
              0.7777777777777778,
              "#fb9f3a"
             ],
             [
              0.8888888888888888,
              "#fdca26"
             ],
             [
              1,
              "#f0f921"
             ]
            ],
            "type": "heatmap"
           }
          ],
          "heatmapgl": [
           {
            "colorbar": {
             "outlinewidth": 0,
             "ticks": ""
            },
            "colorscale": [
             [
              0,
              "#0d0887"
             ],
             [
              0.1111111111111111,
              "#46039f"
             ],
             [
              0.2222222222222222,
              "#7201a8"
             ],
             [
              0.3333333333333333,
              "#9c179e"
             ],
             [
              0.4444444444444444,
              "#bd3786"
             ],
             [
              0.5555555555555556,
              "#d8576b"
             ],
             [
              0.6666666666666666,
              "#ed7953"
             ],
             [
              0.7777777777777778,
              "#fb9f3a"
             ],
             [
              0.8888888888888888,
              "#fdca26"
             ],
             [
              1,
              "#f0f921"
             ]
            ],
            "type": "heatmapgl"
           }
          ],
          "histogram": [
           {
            "marker": {
             "pattern": {
              "fillmode": "overlay",
              "size": 10,
              "solidity": 0.2
             }
            },
            "type": "histogram"
           }
          ],
          "histogram2d": [
           {
            "colorbar": {
             "outlinewidth": 0,
             "ticks": ""
            },
            "colorscale": [
             [
              0,
              "#0d0887"
             ],
             [
              0.1111111111111111,
              "#46039f"
             ],
             [
              0.2222222222222222,
              "#7201a8"
             ],
             [
              0.3333333333333333,
              "#9c179e"
             ],
             [
              0.4444444444444444,
              "#bd3786"
             ],
             [
              0.5555555555555556,
              "#d8576b"
             ],
             [
              0.6666666666666666,
              "#ed7953"
             ],
             [
              0.7777777777777778,
              "#fb9f3a"
             ],
             [
              0.8888888888888888,
              "#fdca26"
             ],
             [
              1,
              "#f0f921"
             ]
            ],
            "type": "histogram2d"
           }
          ],
          "histogram2dcontour": [
           {
            "colorbar": {
             "outlinewidth": 0,
             "ticks": ""
            },
            "colorscale": [
             [
              0,
              "#0d0887"
             ],
             [
              0.1111111111111111,
              "#46039f"
             ],
             [
              0.2222222222222222,
              "#7201a8"
             ],
             [
              0.3333333333333333,
              "#9c179e"
             ],
             [
              0.4444444444444444,
              "#bd3786"
             ],
             [
              0.5555555555555556,
              "#d8576b"
             ],
             [
              0.6666666666666666,
              "#ed7953"
             ],
             [
              0.7777777777777778,
              "#fb9f3a"
             ],
             [
              0.8888888888888888,
              "#fdca26"
             ],
             [
              1,
              "#f0f921"
             ]
            ],
            "type": "histogram2dcontour"
           }
          ],
          "mesh3d": [
           {
            "colorbar": {
             "outlinewidth": 0,
             "ticks": ""
            },
            "type": "mesh3d"
           }
          ],
          "parcoords": [
           {
            "line": {
             "colorbar": {
              "outlinewidth": 0,
              "ticks": ""
             }
            },
            "type": "parcoords"
           }
          ],
          "pie": [
           {
            "automargin": true,
            "type": "pie"
           }
          ],
          "scatter": [
           {
            "fillpattern": {
             "fillmode": "overlay",
             "size": 10,
             "solidity": 0.2
            },
            "type": "scatter"
           }
          ],
          "scatter3d": [
           {
            "line": {
             "colorbar": {
              "outlinewidth": 0,
              "ticks": ""
             }
            },
            "marker": {
             "colorbar": {
              "outlinewidth": 0,
              "ticks": ""
             }
            },
            "type": "scatter3d"
           }
          ],
          "scattercarpet": [
           {
            "marker": {
             "colorbar": {
              "outlinewidth": 0,
              "ticks": ""
             }
            },
            "type": "scattercarpet"
           }
          ],
          "scattergeo": [
           {
            "marker": {
             "colorbar": {
              "outlinewidth": 0,
              "ticks": ""
             }
            },
            "type": "scattergeo"
           }
          ],
          "scattergl": [
           {
            "marker": {
             "colorbar": {
              "outlinewidth": 0,
              "ticks": ""
             }
            },
            "type": "scattergl"
           }
          ],
          "scattermapbox": [
           {
            "marker": {
             "colorbar": {
              "outlinewidth": 0,
              "ticks": ""
             }
            },
            "type": "scattermapbox"
           }
          ],
          "scatterpolar": [
           {
            "marker": {
             "colorbar": {
              "outlinewidth": 0,
              "ticks": ""
             }
            },
            "type": "scatterpolar"
           }
          ],
          "scatterpolargl": [
           {
            "marker": {
             "colorbar": {
              "outlinewidth": 0,
              "ticks": ""
             }
            },
            "type": "scatterpolargl"
           }
          ],
          "scatterternary": [
           {
            "marker": {
             "colorbar": {
              "outlinewidth": 0,
              "ticks": ""
             }
            },
            "type": "scatterternary"
           }
          ],
          "surface": [
           {
            "colorbar": {
             "outlinewidth": 0,
             "ticks": ""
            },
            "colorscale": [
             [
              0,
              "#0d0887"
             ],
             [
              0.1111111111111111,
              "#46039f"
             ],
             [
              0.2222222222222222,
              "#7201a8"
             ],
             [
              0.3333333333333333,
              "#9c179e"
             ],
             [
              0.4444444444444444,
              "#bd3786"
             ],
             [
              0.5555555555555556,
              "#d8576b"
             ],
             [
              0.6666666666666666,
              "#ed7953"
             ],
             [
              0.7777777777777778,
              "#fb9f3a"
             ],
             [
              0.8888888888888888,
              "#fdca26"
             ],
             [
              1,
              "#f0f921"
             ]
            ],
            "type": "surface"
           }
          ],
          "table": [
           {
            "cells": {
             "fill": {
              "color": "#EBF0F8"
             },
             "line": {
              "color": "white"
             }
            },
            "header": {
             "fill": {
              "color": "#C8D4E3"
             },
             "line": {
              "color": "white"
             }
            },
            "type": "table"
           }
          ]
         },
         "layout": {
          "annotationdefaults": {
           "arrowcolor": "#2a3f5f",
           "arrowhead": 0,
           "arrowwidth": 1
          },
          "autotypenumbers": "strict",
          "coloraxis": {
           "colorbar": {
            "outlinewidth": 0,
            "ticks": ""
           }
          },
          "colorscale": {
           "diverging": [
            [
             0,
             "#8e0152"
            ],
            [
             0.1,
             "#c51b7d"
            ],
            [
             0.2,
             "#de77ae"
            ],
            [
             0.3,
             "#f1b6da"
            ],
            [
             0.4,
             "#fde0ef"
            ],
            [
             0.5,
             "#f7f7f7"
            ],
            [
             0.6,
             "#e6f5d0"
            ],
            [
             0.7,
             "#b8e186"
            ],
            [
             0.8,
             "#7fbc41"
            ],
            [
             0.9,
             "#4d9221"
            ],
            [
             1,
             "#276419"
            ]
           ],
           "sequential": [
            [
             0,
             "#0d0887"
            ],
            [
             0.1111111111111111,
             "#46039f"
            ],
            [
             0.2222222222222222,
             "#7201a8"
            ],
            [
             0.3333333333333333,
             "#9c179e"
            ],
            [
             0.4444444444444444,
             "#bd3786"
            ],
            [
             0.5555555555555556,
             "#d8576b"
            ],
            [
             0.6666666666666666,
             "#ed7953"
            ],
            [
             0.7777777777777778,
             "#fb9f3a"
            ],
            [
             0.8888888888888888,
             "#fdca26"
            ],
            [
             1,
             "#f0f921"
            ]
           ],
           "sequentialminus": [
            [
             0,
             "#0d0887"
            ],
            [
             0.1111111111111111,
             "#46039f"
            ],
            [
             0.2222222222222222,
             "#7201a8"
            ],
            [
             0.3333333333333333,
             "#9c179e"
            ],
            [
             0.4444444444444444,
             "#bd3786"
            ],
            [
             0.5555555555555556,
             "#d8576b"
            ],
            [
             0.6666666666666666,
             "#ed7953"
            ],
            [
             0.7777777777777778,
             "#fb9f3a"
            ],
            [
             0.8888888888888888,
             "#fdca26"
            ],
            [
             1,
             "#f0f921"
            ]
           ]
          },
          "colorway": [
           "#636efa",
           "#EF553B",
           "#00cc96",
           "#ab63fa",
           "#FFA15A",
           "#19d3f3",
           "#FF6692",
           "#B6E880",
           "#FF97FF",
           "#FECB52"
          ],
          "font": {
           "color": "#2a3f5f"
          },
          "geo": {
           "bgcolor": "white",
           "lakecolor": "white",
           "landcolor": "#E5ECF6",
           "showlakes": true,
           "showland": true,
           "subunitcolor": "white"
          },
          "hoverlabel": {
           "align": "left"
          },
          "hovermode": "closest",
          "mapbox": {
           "style": "light"
          },
          "paper_bgcolor": "white",
          "plot_bgcolor": "#E5ECF6",
          "polar": {
           "angularaxis": {
            "gridcolor": "white",
            "linecolor": "white",
            "ticks": ""
           },
           "bgcolor": "#E5ECF6",
           "radialaxis": {
            "gridcolor": "white",
            "linecolor": "white",
            "ticks": ""
           }
          },
          "scene": {
           "xaxis": {
            "backgroundcolor": "#E5ECF6",
            "gridcolor": "white",
            "gridwidth": 2,
            "linecolor": "white",
            "showbackground": true,
            "ticks": "",
            "zerolinecolor": "white"
           },
           "yaxis": {
            "backgroundcolor": "#E5ECF6",
            "gridcolor": "white",
            "gridwidth": 2,
            "linecolor": "white",
            "showbackground": true,
            "ticks": "",
            "zerolinecolor": "white"
           },
           "zaxis": {
            "backgroundcolor": "#E5ECF6",
            "gridcolor": "white",
            "gridwidth": 2,
            "linecolor": "white",
            "showbackground": true,
            "ticks": "",
            "zerolinecolor": "white"
           }
          },
          "shapedefaults": {
           "line": {
            "color": "#2a3f5f"
           }
          },
          "ternary": {
           "aaxis": {
            "gridcolor": "white",
            "linecolor": "white",
            "ticks": ""
           },
           "baxis": {
            "gridcolor": "white",
            "linecolor": "white",
            "ticks": ""
           },
           "bgcolor": "#E5ECF6",
           "caxis": {
            "gridcolor": "white",
            "linecolor": "white",
            "ticks": ""
           }
          },
          "title": {
           "x": 0.05
          },
          "xaxis": {
           "automargin": true,
           "gridcolor": "white",
           "linecolor": "white",
           "ticks": "",
           "title": {
            "standoff": 15
           },
           "zerolinecolor": "white",
           "zerolinewidth": 2
          },
          "yaxis": {
           "automargin": true,
           "gridcolor": "white",
           "linecolor": "white",
           "ticks": "",
           "title": {
            "standoff": 15
           },
           "zerolinecolor": "white",
           "zerolinewidth": 2
          }
         }
        },
        "title": {
         "text": "Confusion Matrix for All Three Models on DeSSI-MF"
        },
        "width": 900,
        "xaxis": {
         "anchor": "y",
         "domain": [
          0,
          0.26666666666666666
         ]
        },
        "xaxis2": {
         "anchor": "y2",
         "domain": [
          0.3666666666666667,
          0.6333333333333333
         ]
        },
        "xaxis3": {
         "anchor": "y3",
         "domain": [
          0.7333333333333334,
          1
         ]
        },
        "yaxis": {
         "anchor": "x",
         "domain": [
          0,
          1
         ]
        },
        "yaxis2": {
         "anchor": "x2",
         "domain": [
          0,
          1
         ]
        },
        "yaxis3": {
         "anchor": "x3",
         "domain": [
          0,
          1
         ]
        }
       }
      }
     },
     "metadata": {},
     "output_type": "display_data"
    }
   ],
   "source": [
    "plot_metrics_results(results_gpt_df_own_data, results_cassed_df_own_data, results_presidio_df_own_data)"
   ]
  },
  {
   "cell_type": "code",
   "execution_count": 11,
   "metadata": {},
   "outputs": [
    {
     "data": {
      "application/vnd.plotly.v1+json": {
       "config": {
        "plotlyServerURL": "https://plot.ly"
       },
       "data": [
        {
         "legendgroup": "0",
         "marker": {
          "color": "#d62728"
         },
         "name": "english_valid<br>column name",
         "showlegend": true,
         "type": "bar",
         "x": [
          "city",
          "resolution",
          "gender",
          "phone_number",
          "cpu",
          "political_views",
          "last_name",
          "duration",
          "pyfloat",
          "nationality",
          "programming_language",
          "user_agent",
          "academic_degree",
          "manufacturer",
          "company",
          "swift",
          "graphics",
          "dish",
          "isbn13",
          "phone_model",
          "sex",
          "email",
          "ssn",
          "system_quality_attribute",
          "title",
          "address",
          "integer_number",
          "measure_unit",
          "color",
          "full_name",
          "credit_card_number",
          "date",
          "float_number",
          "pyint",
          "current_location",
          "language",
          "job",
          "worldview",
          "first_name",
          "passport_number",
          "version",
          "blood_type",
          "word",
          "occupation",
          "drink",
          "blood_group",
          "ean",
          "currency",
          "name",
          "isbn",
          "answer",
          "iban",
          "url",
          "credit_card_provider"
         ],
         "xaxis": "x",
         "y": [
          0.125,
          0.125,
          0,
          0.125,
          0.125,
          0,
          0,
          0.125,
          0.125,
          0,
          0.125,
          0.125,
          0,
          0.125,
          0.125,
          0.125,
          0.125,
          0.125,
          0.125,
          0.125,
          0,
          0.125,
          0.125,
          0.125,
          0,
          0.125,
          0.125,
          0.125,
          0.125,
          0.125,
          0.125,
          0.125,
          0.125,
          0.125,
          0.125,
          0,
          0,
          0,
          0,
          0.125,
          0.125,
          0,
          0.125,
          0,
          0.125,
          0,
          0.125,
          0.125,
          0.125,
          0.125,
          0.125,
          0.125,
          0.125,
          0.125
         ],
         "yaxis": "y"
        },
        {
         "legendgroup": "1",
         "marker": {
          "color": "#ff9896"
         },
         "name": "english_invalid<br>column name",
         "showlegend": true,
         "type": "bar",
         "x": [
          "city",
          "resolution",
          "gender",
          "phone_number",
          "cpu",
          "political_views",
          "last_name",
          "duration",
          "pyfloat",
          "nationality",
          "programming_language",
          "user_agent",
          "academic_degree",
          "manufacturer",
          "company",
          "swift",
          "graphics",
          "dish",
          "isbn13",
          "phone_model",
          "sex",
          "email",
          "ssn",
          "system_quality_attribute",
          "title",
          "address",
          "integer_number",
          "measure_unit",
          "color",
          "full_name",
          "credit_card_number",
          "date",
          "float_number",
          "pyint",
          "current_location",
          "language",
          "job",
          "worldview",
          "first_name",
          "passport_number",
          "version",
          "blood_type",
          "word",
          "occupation",
          "drink",
          "blood_group",
          "ean",
          "currency",
          "name",
          "isbn",
          "answer",
          "iban",
          "url",
          "credit_card_provider"
         ],
         "xaxis": "x",
         "y": [
          0.125,
          0.125,
          0,
          0.125,
          0.125,
          0,
          0,
          0.125,
          0.125,
          0,
          0.125,
          0.125,
          0,
          0.125,
          0.125,
          0.125,
          0.125,
          0.125,
          0.125,
          0.125,
          0,
          0.125,
          0.125,
          0.125,
          0,
          0.125,
          0.125,
          0.125,
          0.125,
          0.125,
          0.125,
          0.125,
          0.125,
          0.125,
          0.125,
          0,
          0,
          0,
          0,
          0,
          0.125,
          0,
          0.125,
          0,
          0.125,
          0,
          0.125,
          0.125,
          0.125,
          0.125,
          0.125,
          0.125,
          0.125,
          0.125
         ],
         "yaxis": "y"
        },
        {
         "legendgroup": "2",
         "marker": {
          "color": "#1f77b4"
         },
         "name": "french_valid<br>column name",
         "showlegend": true,
         "type": "bar",
         "x": [
          "date",
          "dish",
          "iban",
          "credit_card_provider",
          "system_quality_attribute",
          "swift",
          "integer_number",
          "blood_group",
          "occupation",
          "credit_card_number",
          "manufacturer",
          "company",
          "version",
          "measure_unit",
          "duration",
          "address",
          "blood_type",
          "color",
          "pyfloat",
          "pyint",
          "email",
          "user_agent",
          "last_name",
          "phone_number",
          "resolution",
          "name",
          "programming_language",
          "full_name",
          "currency",
          "drink",
          "current_location",
          "float_number",
          "sex",
          "graphics",
          "first_name",
          "title",
          "nationality",
          "ean",
          "ssn",
          "academic_degree",
          "worldview",
          "passport_number",
          "job",
          "isbn",
          "isbn13",
          "cpu",
          "language",
          "answer",
          "phone_model",
          "gender",
          "word",
          "url",
          "city",
          "political_views"
         ],
         "xaxis": "x",
         "y": [
          0.125,
          0.125,
          0.125,
          0.125,
          0.125,
          0.125,
          0.125,
          0,
          0,
          0.125,
          0.125,
          0.125,
          0.125,
          0.125,
          0.125,
          0.125,
          0,
          0.125,
          0.125,
          0.125,
          0.125,
          0.125,
          0,
          0.125,
          0.125,
          0.125,
          0.125,
          0.125,
          0.125,
          0.125,
          0.125,
          0.125,
          0,
          0.125,
          0,
          0,
          0,
          0.125,
          0.125,
          0,
          0,
          0.125,
          0,
          0.125,
          0.125,
          0.125,
          0,
          0.125,
          0.125,
          0,
          0.125,
          0.125,
          0.125,
          0
         ],
         "yaxis": "y"
        },
        {
         "legendgroup": "3",
         "marker": {
          "color": "#aec7e8"
         },
         "name": "french_invalid<br>column name",
         "showlegend": true,
         "type": "bar",
         "x": [
          "date",
          "dish",
          "iban",
          "credit_card_provider",
          "system_quality_attribute",
          "swift",
          "integer_number",
          "blood_group",
          "occupation",
          "credit_card_number",
          "manufacturer",
          "company",
          "version",
          "measure_unit",
          "duration",
          "address",
          "blood_type",
          "color",
          "pyfloat",
          "pyint",
          "email",
          "user_agent",
          "last_name",
          "phone_number",
          "resolution",
          "name",
          "programming_language",
          "full_name",
          "currency",
          "drink",
          "current_location",
          "float_number",
          "sex",
          "graphics",
          "first_name",
          "title",
          "nationality",
          "ean",
          "ssn",
          "academic_degree",
          "worldview",
          "passport_number",
          "job",
          "isbn",
          "isbn13",
          "cpu",
          "language",
          "answer",
          "phone_model",
          "gender",
          "word",
          "url",
          "city",
          "political_views"
         ],
         "xaxis": "x",
         "y": [
          0.125,
          0.125,
          0.125,
          0.125,
          0.125,
          0.125,
          0.125,
          0,
          0,
          0.125,
          0.125,
          0.0625,
          0.125,
          0.125,
          0.125,
          0.125,
          0,
          0.125,
          0.125,
          0.125,
          0.125,
          0.125,
          0,
          0.125,
          0.125,
          0.125,
          0.125,
          0.125,
          0.125,
          0.125,
          0.125,
          0.125,
          0,
          0.125,
          0,
          0,
          0,
          0.125,
          0,
          0,
          0,
          0,
          0,
          0.125,
          0.125,
          0.125,
          0,
          0.125,
          0.125,
          0,
          0.125,
          0.125,
          0.125,
          0
         ],
         "yaxis": "y"
        },
        {
         "legendgroup": "4",
         "marker": {
          "color": "#ff7f0e"
         },
         "name": "german_valid<br>column name",
         "showlegend": true,
         "type": "bar",
         "x": [
          "credit_card_provider",
          "political_views",
          "company",
          "phone_model",
          "worldview",
          "credit_card_number",
          "answer",
          "full_name",
          "phone_number",
          "name",
          "email",
          "dish",
          "date",
          "sex",
          "blood_group",
          "blood_type",
          "pyint",
          "pyfloat",
          "gender",
          "address",
          "job",
          "isbn13",
          "currency",
          "url",
          "city",
          "color",
          "ssn",
          "system_quality_attribute",
          "last_name",
          "graphics",
          "academic_degree",
          "swift",
          "cpu",
          "manufacturer",
          "language",
          "programming_language",
          "ean",
          "iban",
          "integer_number",
          "nationality",
          "occupation",
          "float_number",
          "word",
          "first_name",
          "version",
          "user_agent",
          "measure_unit",
          "current_location",
          "duration",
          "resolution",
          "isbn",
          "drink",
          "title",
          "passport_number"
         ],
         "xaxis": "x",
         "y": [
          0.125,
          0,
          0.125,
          0.125,
          0,
          0.125,
          0.125,
          0.125,
          0.125,
          0.125,
          0.125,
          0.125,
          0.125,
          0,
          0,
          0,
          0.125,
          0.125,
          0,
          0.125,
          0,
          0.125,
          0.125,
          0.125,
          0.125,
          0.125,
          0.125,
          0.125,
          0,
          0.125,
          0,
          0.125,
          0.125,
          0.125,
          0,
          0.125,
          0.125,
          0.125,
          0.125,
          0,
          0,
          0.125,
          0.125,
          0,
          0.125,
          0.125,
          0.125,
          0.125,
          0.125,
          0.125,
          0.125,
          0.125,
          0,
          0.125
         ],
         "yaxis": "y"
        },
        {
         "legendgroup": "5",
         "marker": {
          "color": "#ffbb78"
         },
         "name": "german_invalid<br>column name",
         "showlegend": true,
         "type": "bar",
         "x": [
          "credit_card_provider",
          "political_views",
          "company",
          "phone_model",
          "worldview",
          "credit_card_number",
          "answer",
          "full_name",
          "phone_number",
          "name",
          "email",
          "dish",
          "date",
          "sex",
          "blood_group",
          "blood_type",
          "pyint",
          "pyfloat",
          "gender",
          "address",
          "job",
          "isbn13",
          "currency",
          "url",
          "city",
          "color",
          "ssn",
          "system_quality_attribute",
          "last_name",
          "graphics",
          "academic_degree",
          "swift",
          "cpu",
          "manufacturer",
          "language",
          "programming_language",
          "ean",
          "iban",
          "integer_number",
          "nationality",
          "occupation",
          "float_number",
          "word",
          "first_name",
          "version",
          "user_agent",
          "measure_unit",
          "current_location",
          "duration",
          "resolution",
          "isbn",
          "drink",
          "title",
          "passport_number"
         ],
         "xaxis": "x",
         "y": [
          0.125,
          0,
          0.0625,
          0.125,
          0,
          0.125,
          0.125,
          0.125,
          0.125,
          0.125,
          0.125,
          0.125,
          0.125,
          0,
          0,
          0,
          0.125,
          0.125,
          0,
          0.125,
          0,
          0.125,
          0.125,
          0.125,
          0.125,
          0.125,
          0.125,
          0.125,
          0,
          0.125,
          0,
          0.125,
          0.125,
          0.125,
          0,
          0.125,
          0,
          0.125,
          0.125,
          0,
          0,
          0.125,
          0.125,
          0,
          0.125,
          0.125,
          0.125,
          0.125,
          0.125,
          0.125,
          0.125,
          0.125,
          0,
          0
         ],
         "yaxis": "y"
        },
        {
         "legendgroup": "6",
         "marker": {
          "color": "#2ca02c"
         },
         "name": "mixed language_valid<br>column name",
         "showlegend": true,
         "type": "bar",
         "x": [
          "drink",
          "integer_number",
          "color",
          "blood_type",
          "last_name",
          "name",
          "graphics",
          "credit_card_provider",
          "word",
          "current_location",
          "resolution",
          "full_name",
          "currency",
          "worldview",
          "url",
          "nationality",
          "pyint",
          "measure_unit",
          "passport_number",
          "isbn13",
          "address",
          "phone_number",
          "pyfloat",
          "duration",
          "date",
          "first_name",
          "job",
          "user_agent",
          "blood_group",
          "phone_model",
          "title",
          "credit_card_number",
          "float_number",
          "ssn",
          "gender",
          "company",
          "dish",
          "system_quality_attribute",
          "ean",
          "manufacturer",
          "email",
          "iban",
          "version",
          "occupation",
          "programming_language",
          "language",
          "isbn",
          "swift",
          "cpu",
          "answer",
          "academic_degree",
          "city",
          "sex",
          "political_views"
         ],
         "xaxis": "x",
         "y": [
          0.125,
          0.125,
          0.125,
          0,
          0,
          0.125,
          0.125,
          0.125,
          0.125,
          0.125,
          0.125,
          0.125,
          0.125,
          0,
          0.125,
          0,
          0.125,
          0.125,
          0.125,
          0.125,
          0.125,
          0.125,
          0.125,
          0.125,
          0.125,
          0,
          0,
          0.125,
          0,
          0.125,
          0,
          0.125,
          0.125,
          0.125,
          0,
          0.125,
          0.125,
          0.125,
          0.125,
          0.125,
          0.125,
          0.125,
          0.125,
          0,
          0.125,
          0,
          0.125,
          0.125,
          0.125,
          0.125,
          0,
          0.125,
          0,
          0
         ],
         "yaxis": "y"
        },
        {
         "legendgroup": "7",
         "marker": {
          "color": "#98df8a"
         },
         "name": "mixed language_invalid<br>column name",
         "showlegend": true,
         "type": "bar",
         "x": [
          "drink",
          "integer_number",
          "color",
          "blood_type",
          "last_name",
          "name",
          "graphics",
          "credit_card_provider",
          "word",
          "current_location",
          "resolution",
          "full_name",
          "currency",
          "worldview",
          "url",
          "nationality",
          "pyint",
          "measure_unit",
          "passport_number",
          "isbn13",
          "address",
          "phone_number",
          "pyfloat",
          "duration",
          "date",
          "first_name",
          "job",
          "user_agent",
          "blood_group",
          "phone_model",
          "title",
          "credit_card_number",
          "float_number",
          "ssn",
          "gender",
          "company",
          "dish",
          "system_quality_attribute",
          "ean",
          "manufacturer",
          "email",
          "iban",
          "version",
          "occupation",
          "programming_language",
          "language",
          "isbn",
          "swift",
          "cpu",
          "answer",
          "academic_degree",
          "city",
          "sex",
          "political_views"
         ],
         "xaxis": "x",
         "y": [
          0.125,
          0.125,
          0.125,
          0,
          0,
          0.125,
          0.125,
          0.125,
          0.125,
          0.125,
          0.125,
          0.125,
          0.125,
          0,
          0.125,
          0,
          0.125,
          0.125,
          0,
          0.125,
          0.125,
          0.125,
          0.125,
          0.125,
          0.125,
          0,
          0,
          0.125,
          0,
          0.125,
          0,
          0.0625,
          0.125,
          0.125,
          0,
          0.125,
          0.125,
          0.125,
          0.125,
          0.125,
          0.125,
          0.125,
          0.125,
          0,
          0.125,
          0,
          0.125,
          0.125,
          0.125,
          0.125,
          0,
          0.125,
          0,
          0
         ],
         "yaxis": "y"
        },
        {
         "legendgroup": "8",
         "marker": {
          "color": "#9467bd"
         },
         "name": "dessi data_valid<br>column name",
         "showlegend": true,
         "type": "bar",
         "x": [
          "NIN",
          "Date,NIN",
          "ID_Card",
          "Passport",
          "GPE",
          "CCN",
          "Phone_number",
          "SWIFT/BIC",
          "Date",
          "Email",
          "Email,NIN",
          "Nationality",
          "Religion",
          "Email,Phone_number",
          "Organization",
          "NIN,Phone_number",
          "Race",
          "Sexuality",
          "Gender",
          "Geolocation",
          "IBAN"
         ],
         "xaxis": "x",
         "y": [
          0.5,
          0.5,
          0.5,
          0.5,
          0.5,
          0.5,
          0.5,
          0.5,
          0.5,
          0.5,
          0.5,
          0,
          0,
          0.5,
          0.5,
          0.5,
          0,
          0,
          0,
          0.5,
          0.5
         ],
         "yaxis": "y"
        },
        {
         "legendgroup": "9",
         "marker": {
          "color": "#c5b0d5"
         },
         "name": "dessi data_invalid<br>column name",
         "showlegend": true,
         "type": "bar",
         "x": [
          "NIN",
          "Date,NIN",
          "ID_Card",
          "Passport",
          "GPE",
          "CCN",
          "Phone_number",
          "SWIFT/BIC",
          "Date",
          "Email",
          "Email,NIN",
          "Nationality",
          "Religion",
          "Email,Phone_number",
          "Organization",
          "NIN,Phone_number",
          "Race",
          "Sexuality",
          "Gender",
          "Geolocation",
          "IBAN"
         ],
         "xaxis": "x",
         "y": [
          0.5,
          0.5,
          0,
          0.5,
          0.5,
          0.5,
          0.5,
          0.5,
          0.5,
          0.5,
          0.5,
          0,
          0,
          0.5,
          0.5,
          0.5,
          0,
          0,
          0,
          0.5,
          0.5
         ],
         "yaxis": "y"
        },
        {
         "legendgroup": "0",
         "marker": {
          "color": "#d62728"
         },
         "name": "english_valid<br>column name",
         "showlegend": false,
         "type": "bar",
         "x": [
          "company",
          "academic_degree",
          "political_views",
          "color",
          "currency",
          "credit_card_provider",
          "language",
          "ean",
          "cpu",
          "graphics",
          "float_number",
          "word",
          "isbn13",
          "job",
          "phone_number",
          "email",
          "programming_language",
          "blood_type",
          "worldview",
          "title",
          "credit_card_number",
          "pyint",
          "current_location",
          "pyfloat",
          "first_name",
          "resolution",
          "last_name",
          "url",
          "ssn",
          "manufacturer",
          "nationality",
          "sex",
          "occupation",
          "blood_group",
          "integer_number",
          "dish",
          "system_quality_attribute",
          "version",
          "passport_number",
          "date",
          "swift",
          "answer",
          "city",
          "duration",
          "address",
          "name",
          "full_name",
          "drink",
          "user_agent",
          "isbn",
          "iban",
          "measure_unit",
          "phone_model",
          "gender"
         ],
         "xaxis": "x2",
         "y": [
          0.11963882618510158,
          0.10552763819095477,
          0.13,
          0.1309255079006772,
          0.12027491408934708,
          0.12758620689655173,
          0.115,
          0.12027491408934708,
          0.125,
          0.13157894736842105,
          0.125,
          0.13157894736842105,
          0.13494809688581316,
          0.11842105263157894,
          0.12412177985948478,
          0.11214953271028037,
          0.09868421052631579,
          0.12060301507537688,
          0.095,
          0.13,
          0.13317757009345793,
          0.13402061855670103,
          0.13596491228070176,
          0.14186851211072665,
          0.13348946135831383,
          0.11842105263157894,
          0.12910798122065728,
          0.13058419243986255,
          0.12831858407079647,
          0.1118421052631579,
          0.125,
          0.12280701754385964,
          0.1111111111111111,
          0.13596491228070176,
          0.13815789473684212,
          0.1118421052631579,
          0.14473684210526316,
          0.11842105263157894,
          0.09649122807017543,
          0.1310344827586207,
          0.11971830985915492,
          0.1118421052631579,
          0.11842105263157894,
          0.14473684210526316,
          0.1261682242990654,
          0.14222222222222222,
          0.13131313131313133,
          0.13157894736842105,
          0.10526315789473684,
          0.09868421052631579,
          0.10964912280701754,
          0.13815789473684212,
          0.17105263157894737,
          0.125
         ],
         "yaxis": "y2"
        },
        {
         "legendgroup": "1",
         "marker": {
          "color": "#ff9896"
         },
         "name": "english_invalid<br>column name",
         "showlegend": false,
         "type": "bar",
         "x": [
          "company",
          "academic_degree",
          "political_views",
          "color",
          "currency",
          "credit_card_provider",
          "language",
          "ean",
          "cpu",
          "graphics",
          "float_number",
          "word",
          "isbn13",
          "job",
          "phone_number",
          "email",
          "programming_language",
          "blood_type",
          "worldview",
          "title",
          "credit_card_number",
          "pyint",
          "current_location",
          "pyfloat",
          "first_name",
          "resolution",
          "last_name",
          "url",
          "ssn",
          "manufacturer",
          "nationality",
          "sex",
          "occupation",
          "blood_group",
          "integer_number",
          "dish",
          "system_quality_attribute",
          "version",
          "passport_number",
          "date",
          "swift",
          "answer",
          "city",
          "duration",
          "address",
          "name",
          "full_name",
          "drink",
          "user_agent",
          "isbn",
          "iban",
          "measure_unit",
          "phone_model",
          "gender"
         ],
         "xaxis": "x2",
         "y": [
          0.1309255079006772,
          0.1457286432160804,
          0.12,
          0.11963882618510158,
          0.13058419243986255,
          0.1206896551724138,
          0.135,
          0.13058419243986255,
          0.125,
          0.11842105263157894,
          0.125,
          0.11842105263157894,
          0.11418685121107267,
          0.13157894736842105,
          0.12646370023419204,
          0.1378504672897196,
          0.1513157894736842,
          0.12562814070351758,
          0.155,
          0.12,
          0.11682242990654206,
          0.1134020618556701,
          0.11403508771929824,
          0.10726643598615918,
          0.11475409836065574,
          0.13157894736842105,
          0.11971830985915492,
          0.11683848797250859,
          0.11946902654867257,
          0.13815789473684212,
          0.125,
          0.12719298245614036,
          0.13636363636363635,
          0.11403508771929824,
          0.1118421052631579,
          0.13815789473684212,
          0.10526315789473684,
          0.13157894736842105,
          0.15350877192982457,
          0.11724137931034483,
          0.12323943661971831,
          0.13815789473684212,
          0.13157894736842105,
          0.10526315789473684,
          0.12383177570093458,
          0.10666666666666667,
          0.11616161616161616,
          0.11842105263157894,
          0.14473684210526316,
          0.1513157894736842,
          0.14035087719298245,
          0.1118421052631579,
          0.07894736842105263,
          0.125
         ],
         "yaxis": "y2"
        },
        {
         "legendgroup": "2",
         "marker": {
          "color": "#1f77b4"
         },
         "name": "french_valid<br>column name",
         "showlegend": false,
         "type": "bar",
         "x": [
          "credit_card_number",
          "credit_card_provider",
          "email",
          "ean",
          "measure_unit",
          "ssn",
          "first_name",
          "swift",
          "currency",
          "isbn",
          "date",
          "phone_model",
          "company",
          "language",
          "pyfloat",
          "pyint",
          "last_name",
          "integer_number",
          "blood_group",
          "word",
          "passport_number",
          "political_views",
          "color",
          "url",
          "float_number",
          "blood_type",
          "academic_degree",
          "full_name",
          "gender",
          "dish",
          "current_location",
          "address",
          "drink",
          "phone_number",
          "occupation",
          "title",
          "cpu",
          "duration",
          "isbn13",
          "user_agent",
          "graphics",
          "city",
          "name",
          "answer",
          "nationality",
          "sex",
          "worldview",
          "job",
          "manufacturer",
          "iban",
          "programming_language",
          "version",
          "system_quality_attribute",
          "resolution"
         ],
         "xaxis": "x2",
         "y": [
          0.13317757009345793,
          0.1310344827586207,
          0.1261682242990654,
          0.12714776632302405,
          0.11842105263157894,
          0.11946902654867257,
          0.1358313817330211,
          0.1267605633802817,
          0.14776632302405499,
          0.1118421052631579,
          0.11379310344827587,
          0.10526315789473684,
          0.09029345372460497,
          0.125,
          0.13494809688581316,
          0.12714776632302405,
          0.1056338028169014,
          0.06578947368421052,
          0.13596491228070176,
          0.10526315789473684,
          0.12719298245614036,
          0.115,
          0.11963882618510158,
          0.13745704467353953,
          0.13157894736842105,
          0.1407035175879397,
          0.11557788944723618,
          0.12121212121212122,
          0.11,
          0.125,
          0.11842105263157894,
          0.11682242990654206,
          0.11842105263157894,
          0.13817330210772832,
          0.09595959595959595,
          0.155,
          0.13157894736842105,
          0.13157894736842105,
          0.11764705882352941,
          0.125,
          0.14473684210526316,
          0.125,
          0.11555555555555555,
          0.13157894736842105,
          0.14,
          0.12280701754385964,
          0.135,
          0.11403508771929824,
          0.13815789473684212,
          0.12719298245614036,
          0.10526315789473684,
          0.15789473684210525,
          0.11842105263157894,
          0.125
         ],
         "yaxis": "y2"
        },
        {
         "legendgroup": "3",
         "marker": {
          "color": "#aec7e8"
         },
         "name": "french_invalid<br>column name",
         "showlegend": false,
         "type": "bar",
         "x": [
          "credit_card_number",
          "credit_card_provider",
          "email",
          "ean",
          "measure_unit",
          "ssn",
          "first_name",
          "swift",
          "currency",
          "isbn",
          "date",
          "phone_model",
          "company",
          "language",
          "pyfloat",
          "pyint",
          "last_name",
          "integer_number",
          "blood_group",
          "word",
          "passport_number",
          "political_views",
          "color",
          "url",
          "float_number",
          "blood_type",
          "academic_degree",
          "full_name",
          "gender",
          "dish",
          "current_location",
          "address",
          "drink",
          "phone_number",
          "occupation",
          "title",
          "cpu",
          "duration",
          "isbn13",
          "user_agent",
          "graphics",
          "city",
          "name",
          "answer",
          "nationality",
          "sex",
          "worldview",
          "job",
          "manufacturer",
          "iban",
          "programming_language",
          "version",
          "system_quality_attribute",
          "resolution"
         ],
         "xaxis": "x2",
         "y": [
          0.11682242990654206,
          0.1206896551724138,
          0.12383177570093458,
          0.12371134020618557,
          0.13157894736842105,
          0.13274336283185842,
          0.11475409836065574,
          0.1267605633802817,
          0.09965635738831616,
          0.13815789473684212,
          0.13793103448275862,
          0.14473684210526316,
          0.16027088036117382,
          0.125,
          0.11418685121107267,
          0.12371134020618557,
          0.14553990610328638,
          0.18421052631578946,
          0.11403508771929824,
          0.14473684210526316,
          0.12280701754385964,
          0.135,
          0.1309255079006772,
          0.1134020618556701,
          0.11842105263157894,
          0.11055276381909548,
          0.135678391959799,
          0.12626262626262627,
          0.14,
          0.125,
          0.13157894736842105,
          0.13317757009345793,
          0.13157894736842105,
          0.11007025761124122,
          0.15151515151515152,
          0.095,
          0.11842105263157894,
          0.11842105263157894,
          0.1314878892733564,
          0.125,
          0.10526315789473684,
          0.125,
          0.13333333333333333,
          0.11842105263157894,
          0.11,
          0.12719298245614036,
          0.115,
          0.13596491228070176,
          0.1118421052631579,
          0.12280701754385964,
          0.14473684210526316,
          0.09210526315789473,
          0.13157894736842105,
          0.125
         ],
         "yaxis": "y2"
        },
        {
         "legendgroup": "4",
         "marker": {
          "color": "#ff7f0e"
         },
         "name": "german_valid<br>column name",
         "showlegend": false,
         "type": "bar",
         "x": [
          "pyint",
          "pyfloat",
          "academic_degree",
          "gender",
          "last_name",
          "address",
          "blood_type",
          "sex",
          "credit_card_provider",
          "swift",
          "company",
          "url",
          "color",
          "integer_number",
          "title",
          "currency",
          "full_name",
          "graphics",
          "isbn",
          "blood_group",
          "ssn",
          "measure_unit",
          "ean",
          "first_name",
          "system_quality_attribute",
          "email",
          "phone_number",
          "job",
          "occupation",
          "drink",
          "isbn13",
          "word",
          "date",
          "programming_language",
          "iban",
          "manufacturer",
          "phone_model",
          "language",
          "float_number",
          "nationality",
          "name",
          "passport_number",
          "city",
          "current_location",
          "credit_card_number",
          "political_views",
          "duration",
          "worldview",
          "cpu",
          "resolution",
          "user_agent",
          "dish",
          "version",
          "answer"
         ],
         "xaxis": "x2",
         "y": [
          0.13745704467353953,
          0.13494809688581316,
          0.135678391959799,
          0.12,
          0.12441314553990611,
          0.1191588785046729,
          0.10050251256281408,
          0.10964912280701754,
          0.1310344827586207,
          0.12323943661971831,
          0.10609480812641084,
          0.11683848797250859,
          0.1399548532731377,
          0.13157894736842105,
          0.11,
          0.12371134020618557,
          0.12626262626262627,
          0.09210526315789473,
          0.125,
          0.11403508771929824,
          0.12831858407079647,
          0.1118421052631579,
          0.12714776632302405,
          0.12412177985948478,
          0.10526315789473684,
          0.11682242990654206,
          0.1358313817330211,
          0.11403508771929824,
          0.13131313131313133,
          0.13815789473684212,
          0.1522491349480969,
          0.13157894736842105,
          0.1103448275862069,
          0.14473684210526316,
          0.14035087719298245,
          0.13815789473684212,
          0.13157894736842105,
          0.115,
          0.14473684210526316,
          0.135,
          0.1288888888888889,
          0.14912280701754385,
          0.125,
          0.10526315789473684,
          0.11448598130841121,
          0.095,
          0.125,
          0.125,
          0.11842105263157894,
          0.125,
          0.14473684210526316,
          0.1118421052631579,
          0.11842105263157894,
          0.10526315789473684
         ],
         "yaxis": "y2"
        },
        {
         "legendgroup": "5",
         "marker": {
          "color": "#ffbb78"
         },
         "name": "german_invalid<br>column name",
         "showlegend": false,
         "type": "bar",
         "x": [
          "pyint",
          "pyfloat",
          "academic_degree",
          "gender",
          "last_name",
          "address",
          "blood_type",
          "sex",
          "credit_card_provider",
          "swift",
          "company",
          "url",
          "color",
          "integer_number",
          "title",
          "currency",
          "full_name",
          "graphics",
          "isbn",
          "blood_group",
          "ssn",
          "measure_unit",
          "ean",
          "first_name",
          "system_quality_attribute",
          "email",
          "phone_number",
          "job",
          "occupation",
          "drink",
          "isbn13",
          "word",
          "date",
          "programming_language",
          "iban",
          "manufacturer",
          "phone_model",
          "language",
          "float_number",
          "nationality",
          "name",
          "passport_number",
          "city",
          "current_location",
          "credit_card_number",
          "political_views",
          "duration",
          "worldview",
          "cpu",
          "resolution",
          "user_agent",
          "dish",
          "version",
          "answer"
         ],
         "xaxis": "x2",
         "y": [
          0.1134020618556701,
          0.11764705882352941,
          0.11557788944723618,
          0.13,
          0.12441314553990611,
          0.1308411214953271,
          0.1507537688442211,
          0.14035087719298245,
          0.1206896551724138,
          0.13028169014084506,
          0.14221218961625282,
          0.13402061855670103,
          0.10835214446952596,
          0.11842105263157894,
          0.14,
          0.12714776632302405,
          0.12626262626262627,
          0.15789473684210525,
          0.125,
          0.13596491228070176,
          0.12389380530973451,
          0.13815789473684212,
          0.12371134020618557,
          0.12646370023419204,
          0.14473684210526316,
          0.13317757009345793,
          0.11475409836065574,
          0.13596491228070176,
          0.12121212121212122,
          0.1118421052631579,
          0.10034602076124567,
          0.11842105263157894,
          0.1413793103448276,
          0.10526315789473684,
          0.10964912280701754,
          0.1118421052631579,
          0.11842105263157894,
          0.135,
          0.10526315789473684,
          0.115,
          0.12444444444444444,
          0.10087719298245613,
          0.125,
          0.14473684210526316,
          0.13551401869158877,
          0.155,
          0.125,
          0.125,
          0.13157894736842105,
          0.125,
          0.10526315789473684,
          0.13815789473684212,
          0.13157894736842105,
          0.14473684210526316
         ],
         "yaxis": "y2"
        },
        {
         "legendgroup": "6",
         "marker": {
          "color": "#2ca02c"
         },
         "name": "mixed language_valid<br>column name",
         "showlegend": false,
         "type": "bar",
         "x": [
          "swift",
          "credit_card_number",
          "political_views",
          "pyint",
          "float_number",
          "last_name",
          "address",
          "current_location",
          "phone_number",
          "isbn13",
          "manufacturer",
          "company",
          "title",
          "color",
          "job",
          "occupation",
          "word",
          "date",
          "cpu",
          "integer_number",
          "passport_number",
          "phone_model",
          "city",
          "academic_degree",
          "url",
          "ssn",
          "system_quality_attribute",
          "gender",
          "ean",
          "first_name",
          "iban",
          "sex",
          "drink",
          "email",
          "pyfloat",
          "currency",
          "answer",
          "measure_unit",
          "blood_group",
          "user_agent",
          "credit_card_provider",
          "name",
          "programming_language",
          "dish",
          "full_name",
          "language",
          "worldview",
          "duration",
          "resolution",
          "version",
          "graphics",
          "isbn",
          "blood_type",
          "nationality"
         ],
         "xaxis": "x2",
         "y": [
          0.11619718309859155,
          0.1261682242990654,
          0.135,
          0.11683848797250859,
          0.13157894736842105,
          0.12441314553990611,
          0.11448598130841121,
          0.13596491228070176,
          0.1451990632318501,
          0.14878892733564014,
          0.125,
          0.11963882618510158,
          0.135,
          0.12641083521444696,
          0.13596491228070176,
          0.10101010101010101,
          0.13157894736842105,
          0.10344827586206896,
          0.13815789473684212,
          0.125,
          0.13157894736842105,
          0.13157894736842105,
          0.1118421052631579,
          0.1407035175879397,
          0.13402061855670103,
          0.12389380530973451,
          0.125,
          0.135,
          0.13058419243986255,
          0.11241217798594848,
          0.14035087719298245,
          0.11842105263157894,
          0.1118421052631579,
          0.12149532710280374,
          0.12110726643598616,
          0.13058419243986255,
          0.17105263157894737,
          0.125,
          0.12719298245614036,
          0.13815789473684212,
          0.1103448275862069,
          0.10666666666666667,
          0.1513157894736842,
          0.125,
          0.11616161616161616,
          0.13,
          0.115,
          0.10526315789473684,
          0.1118421052631579,
          0.125,
          0.1118421052631579,
          0.09868421052631579,
          0.11557788944723618,
          0.1
         ],
         "yaxis": "y2"
        },
        {
         "legendgroup": "7",
         "marker": {
          "color": "#98df8a"
         },
         "name": "mixed language_invalid<br>column name",
         "showlegend": false,
         "type": "bar",
         "x": [
          "swift",
          "credit_card_number",
          "political_views",
          "pyint",
          "float_number",
          "last_name",
          "address",
          "current_location",
          "phone_number",
          "isbn13",
          "manufacturer",
          "company",
          "title",
          "color",
          "job",
          "occupation",
          "word",
          "date",
          "cpu",
          "integer_number",
          "passport_number",
          "phone_model",
          "city",
          "academic_degree",
          "url",
          "ssn",
          "system_quality_attribute",
          "gender",
          "ean",
          "first_name",
          "iban",
          "sex",
          "drink",
          "email",
          "pyfloat",
          "currency",
          "answer",
          "measure_unit",
          "blood_group",
          "user_agent",
          "credit_card_provider",
          "name",
          "programming_language",
          "dish",
          "full_name",
          "language",
          "worldview",
          "duration",
          "resolution",
          "version",
          "graphics",
          "isbn",
          "blood_type",
          "nationality"
         ],
         "xaxis": "x2",
         "y": [
          0.13380281690140844,
          0.12383177570093458,
          0.115,
          0.13402061855670103,
          0.11842105263157894,
          0.1267605633802817,
          0.13551401869158877,
          0.11403508771929824,
          0.1053864168618267,
          0.10034602076124567,
          0.125,
          0.1309255079006772,
          0.115,
          0.12415349887133183,
          0.11403508771929824,
          0.15151515151515152,
          0.11842105263157894,
          0.14482758620689656,
          0.1118421052631579,
          0.125,
          0.11842105263157894,
          0.11842105263157894,
          0.13815789473684212,
          0.10552763819095477,
          0.11683848797250859,
          0.12389380530973451,
          0.125,
          0.115,
          0.11683848797250859,
          0.13817330210772832,
          0.10964912280701754,
          0.13157894736842105,
          0.13815789473684212,
          0.12850467289719625,
          0.12802768166089964,
          0.12027491408934708,
          0.07894736842105263,
          0.125,
          0.12280701754385964,
          0.1118421052631579,
          0.13793103448275862,
          0.14222222222222222,
          0.09868421052631579,
          0.125,
          0.13636363636363635,
          0.12,
          0.135,
          0.14473684210526316,
          0.13815789473684212,
          0.125,
          0.13815789473684212,
          0.1513157894736842,
          0.135678391959799,
          0.15
         ],
         "yaxis": "y2"
        },
        {
         "legendgroup": "8",
         "marker": {
          "color": "#9467bd"
         },
         "name": "dessi data_valid<br>column name",
         "showlegend": false,
         "type": "bar",
         "x": [
          "Date",
          "Geolocation",
          "Email,Phone_number",
          "CCN",
          "NIN",
          "Phone_number",
          "Gender",
          "Date,NIN",
          "Email,NIN",
          "NIN,Phone_number",
          "Race",
          "Sexuality",
          "Nationality",
          "Passport",
          "IBAN",
          "SWIFT/BIC",
          "Religion",
          "Organization",
          "GPE",
          "ID_Card",
          "Email"
         ],
         "xaxis": "x2",
         "y": [
          0.10714285714285714,
          0,
          0.1206896551724138,
          0,
          0.029850746268656716,
          0.0594059405940594,
          0,
          0.08333333333333333,
          0.07017543859649122,
          0.09090909090909091,
          0,
          0.05263157894736842,
          0,
          0.09523809523809523,
          0,
          0.046511627906976744,
          0.05555555555555555,
          0,
          0,
          0,
          0.25
         ],
         "yaxis": "y2"
        },
        {
         "legendgroup": "9",
         "marker": {
          "color": "#c5b0d5"
         },
         "name": "dessi data_invalid<br>column name",
         "showlegend": false,
         "type": "bar",
         "x": [
          "Date",
          "Geolocation",
          "Email,Phone_number",
          "CCN",
          "NIN",
          "Phone_number",
          "Gender",
          "Date,NIN",
          "Email,NIN",
          "NIN,Phone_number",
          "Race",
          "Sexuality",
          "Nationality",
          "Passport",
          "IBAN",
          "SWIFT/BIC",
          "Religion",
          "Organization",
          "GPE",
          "ID_Card",
          "Email"
         ],
         "xaxis": "x2",
         "y": [
          0.8928571428571429,
          1,
          0.8793103448275862,
          1,
          0.9701492537313433,
          0.9405940594059405,
          1,
          0.9166666666666666,
          0.9298245614035088,
          0.9090909090909091,
          1,
          0.9473684210526315,
          1,
          0.9047619047619048,
          1,
          0.9534883720930233,
          0.9444444444444444,
          1,
          1,
          1,
          0.75
         ],
         "yaxis": "y2"
        },
        {
         "legendgroup": "0",
         "marker": {
          "color": "#d62728"
         },
         "name": "english_valid<br>column name",
         "showlegend": false,
         "type": "bar",
         "x": [
          "company",
          "academic_degree",
          "political_views",
          "color",
          "currency",
          "credit_card_provider",
          "language",
          "ean",
          "cpu",
          "graphics",
          "float_number",
          "word",
          "isbn13",
          "job",
          "phone_number",
          "email",
          "programming_language",
          "blood_type",
          "worldview",
          "title",
          "credit_card_number",
          "pyint",
          "current_location",
          "pyfloat",
          "first_name",
          "resolution",
          "last_name",
          "url",
          "ssn",
          "manufacturer",
          "nationality",
          "sex",
          "occupation",
          "blood_group",
          "integer_number",
          "dish",
          "system_quality_attribute",
          "version",
          "passport_number",
          "date",
          "swift",
          "answer",
          "city",
          "duration",
          "address",
          "name",
          "full_name",
          "drink",
          "user_agent",
          "isbn",
          "iban",
          "measure_unit",
          "phone_model",
          "gender"
         ],
         "xaxis": "x3",
         "y": [
          0.11963882618510158,
          0.10552763819095477,
          0.13,
          0.1309255079006772,
          0.12027491408934708,
          0.12758620689655173,
          0.115,
          0,
          0.125,
          0.13157894736842105,
          0,
          0.13157894736842105,
          0.13494809688581316,
          0.11842105263157894,
          0.12177985948477751,
          0.11214953271028037,
          0.09868421052631579,
          0.12060301507537688,
          0.095,
          0.13,
          0.13317757009345793,
          0.13402061855670103,
          0,
          0,
          0.13348946135831383,
          0.11842105263157894,
          0.12910798122065728,
          0.13058419243986255,
          0,
          0.1118421052631579,
          0.125,
          0.12280701754385964,
          0.1111111111111111,
          0.13596491228070176,
          0.13815789473684212,
          0.1118421052631579,
          0.14473684210526316,
          0.11842105263157894,
          0.09210526315789473,
          0.1310344827586207,
          0.11971830985915492,
          0.1118421052631579,
          0.11842105263157894,
          0.14473684210526316,
          0,
          0,
          0,
          0.13157894736842105,
          0.09210526315789473,
          0.09868421052631579,
          0.10964912280701754,
          0.13815789473684212,
          0.17105263157894737,
          0.125
         ],
         "yaxis": "y3"
        },
        {
         "legendgroup": "1",
         "marker": {
          "color": "#ff9896"
         },
         "name": "english_invalid<br>column name",
         "showlegend": false,
         "type": "bar",
         "x": [
          "company",
          "academic_degree",
          "political_views",
          "color",
          "currency",
          "credit_card_provider",
          "language",
          "ean",
          "cpu",
          "graphics",
          "float_number",
          "word",
          "isbn13",
          "job",
          "phone_number",
          "email",
          "programming_language",
          "blood_type",
          "worldview",
          "title",
          "credit_card_number",
          "pyint",
          "current_location",
          "pyfloat",
          "first_name",
          "resolution",
          "last_name",
          "url",
          "ssn",
          "manufacturer",
          "nationality",
          "sex",
          "occupation",
          "blood_group",
          "integer_number",
          "dish",
          "system_quality_attribute",
          "version",
          "passport_number",
          "date",
          "swift",
          "answer",
          "city",
          "duration",
          "address",
          "name",
          "full_name",
          "drink",
          "user_agent",
          "isbn",
          "iban",
          "measure_unit",
          "phone_model",
          "gender"
         ],
         "xaxis": "x3",
         "y": [
          0.1309255079006772,
          0.1457286432160804,
          0.12,
          0.11963882618510158,
          0.13058419243986255,
          0.1206896551724138,
          0.135,
          0,
          0.125,
          0.11842105263157894,
          0,
          0.11842105263157894,
          0.11418685121107267,
          0.13157894736842105,
          0.12177985948477751,
          0.1378504672897196,
          0.1513157894736842,
          0.12562814070351758,
          0.155,
          0.12,
          0.11682242990654206,
          0.1134020618556701,
          0,
          0,
          0.11475409836065574,
          0.13157894736842105,
          0.11971830985915492,
          0.11683848797250859,
          0,
          0.13815789473684212,
          0.125,
          0.12719298245614036,
          0.13636363636363635,
          0.11403508771929824,
          0.1118421052631579,
          0.13815789473684212,
          0.10526315789473684,
          0.13157894736842105,
          0.15350877192982457,
          0.11724137931034483,
          0.12323943661971831,
          0.13815789473684212,
          0.13157894736842105,
          0.10526315789473684,
          0,
          0,
          0,
          0.11842105263157894,
          0.13815789473684212,
          0.1513157894736842,
          0.14035087719298245,
          0.1118421052631579,
          0.07894736842105263,
          0.125
         ],
         "yaxis": "y3"
        },
        {
         "legendgroup": "2",
         "marker": {
          "color": "#1f77b4"
         },
         "name": "french_valid<br>column name",
         "showlegend": false,
         "type": "bar",
         "x": [
          "credit_card_number",
          "credit_card_provider",
          "email",
          "ean",
          "measure_unit",
          "ssn",
          "first_name",
          "swift",
          "currency",
          "isbn",
          "date",
          "phone_model",
          "company",
          "language",
          "pyfloat",
          "pyint",
          "last_name",
          "integer_number",
          "blood_group",
          "word",
          "passport_number",
          "political_views",
          "color",
          "url",
          "float_number",
          "blood_type",
          "academic_degree",
          "full_name",
          "gender",
          "dish",
          "current_location",
          "address",
          "drink",
          "phone_number",
          "occupation",
          "title",
          "cpu",
          "duration",
          "isbn13",
          "user_agent",
          "graphics",
          "city",
          "name",
          "answer",
          "nationality",
          "sex",
          "worldview",
          "job",
          "manufacturer",
          "iban",
          "programming_language",
          "version",
          "system_quality_attribute",
          "resolution"
         ],
         "xaxis": "x3",
         "y": [
          0.13317757009345793,
          0.1310344827586207,
          0.1261682242990654,
          0,
          0.11842105263157894,
          0.11946902654867257,
          0.1358313817330211,
          0.1267605633802817,
          0.14776632302405499,
          0.1118421052631579,
          0.11379310344827587,
          0.10526315789473684,
          0.09029345372460497,
          0.125,
          0,
          0.12714776632302405,
          0.1056338028169014,
          0.06578947368421052,
          0.13596491228070176,
          0.10526315789473684,
          0.12719298245614036,
          0.115,
          0.11963882618510158,
          0.13745704467353953,
          0,
          0.1407035175879397,
          0.11557788944723618,
          0,
          0.11,
          0.125,
          0,
          0,
          0.11842105263157894,
          0.13114754098360654,
          0.09595959595959595,
          0.155,
          0.13157894736842105,
          0.13157894736842105,
          0.11764705882352941,
          0.10526315789473684,
          0.14473684210526316,
          0.125,
          0,
          0.13157894736842105,
          0.14,
          0.12280701754385964,
          0.135,
          0.11403508771929824,
          0.13815789473684212,
          0.12719298245614036,
          0.10526315789473684,
          0.15789473684210525,
          0.11842105263157894,
          0.125
         ],
         "yaxis": "y3"
        },
        {
         "legendgroup": "3",
         "marker": {
          "color": "#aec7e8"
         },
         "name": "french_invalid<br>column name",
         "showlegend": false,
         "type": "bar",
         "x": [
          "credit_card_number",
          "credit_card_provider",
          "email",
          "ean",
          "measure_unit",
          "ssn",
          "first_name",
          "swift",
          "currency",
          "isbn",
          "date",
          "phone_model",
          "company",
          "language",
          "pyfloat",
          "pyint",
          "last_name",
          "integer_number",
          "blood_group",
          "word",
          "passport_number",
          "political_views",
          "color",
          "url",
          "float_number",
          "blood_type",
          "academic_degree",
          "full_name",
          "gender",
          "dish",
          "current_location",
          "address",
          "drink",
          "phone_number",
          "occupation",
          "title",
          "cpu",
          "duration",
          "isbn13",
          "user_agent",
          "graphics",
          "city",
          "name",
          "answer",
          "nationality",
          "sex",
          "worldview",
          "job",
          "manufacturer",
          "iban",
          "programming_language",
          "version",
          "system_quality_attribute",
          "resolution"
         ],
         "xaxis": "x3",
         "y": [
          0.11682242990654206,
          0.1206896551724138,
          0.12383177570093458,
          0.003436426116838488,
          0.13157894736842105,
          0.13274336283185842,
          0.11475409836065574,
          0.1267605633802817,
          0.09965635738831616,
          0.13815789473684212,
          0.13793103448275862,
          0.14473684210526316,
          0.16027088036117382,
          0.125,
          0,
          0.12371134020618557,
          0.14553990610328638,
          0.18421052631578946,
          0.11403508771929824,
          0.14473684210526316,
          0.12280701754385964,
          0.135,
          0.1309255079006772,
          0.1134020618556701,
          0.006578947368421052,
          0.11055276381909548,
          0.135678391959799,
          0,
          0.14,
          0.125,
          0,
          0,
          0.13157894736842105,
          0.10304449648711944,
          0.15151515151515152,
          0.095,
          0.11842105263157894,
          0.11842105263157894,
          0.1314878892733564,
          0.125,
          0.10526315789473684,
          0.125,
          0,
          0.11842105263157894,
          0.11,
          0.12719298245614036,
          0.115,
          0.13596491228070176,
          0.1118421052631579,
          0.12280701754385964,
          0.14473684210526316,
          0.09210526315789473,
          0.13157894736842105,
          0.125
         ],
         "yaxis": "y3"
        },
        {
         "legendgroup": "4",
         "marker": {
          "color": "#ff7f0e"
         },
         "name": "german_valid<br>column name",
         "showlegend": false,
         "type": "bar",
         "x": [
          "pyint",
          "pyfloat",
          "academic_degree",
          "gender",
          "last_name",
          "address",
          "blood_type",
          "sex",
          "credit_card_provider",
          "swift",
          "company",
          "url",
          "color",
          "integer_number",
          "title",
          "currency",
          "full_name",
          "graphics",
          "isbn",
          "blood_group",
          "ssn",
          "measure_unit",
          "ean",
          "first_name",
          "system_quality_attribute",
          "email",
          "phone_number",
          "job",
          "occupation",
          "drink",
          "isbn13",
          "word",
          "date",
          "programming_language",
          "iban",
          "manufacturer",
          "phone_model",
          "language",
          "float_number",
          "nationality",
          "name",
          "passport_number",
          "city",
          "current_location",
          "credit_card_number",
          "political_views",
          "duration",
          "worldview",
          "cpu",
          "resolution",
          "user_agent",
          "dish",
          "version",
          "answer"
         ],
         "xaxis": "x3",
         "y": [
          0.13745704467353953,
          0.0034602076124567475,
          0.135678391959799,
          0.12,
          0.12441314553990611,
          0,
          0.10050251256281408,
          0.10964912280701754,
          0.1310344827586207,
          0.12323943661971831,
          0.10609480812641084,
          0.11683848797250859,
          0.1399548532731377,
          0.13157894736842105,
          0.11,
          0.12371134020618557,
          0,
          0.09210526315789473,
          0.125,
          0.11403508771929824,
          0,
          0.1118421052631579,
          0,
          0.12412177985948478,
          0.10526315789473684,
          0.11682242990654206,
          0.12177985948477753,
          0.11403508771929824,
          0.13131313131313133,
          0.13815789473684212,
          0.1522491349480969,
          0.13157894736842105,
          0.1103448275862069,
          0.14473684210526316,
          0.14035087719298245,
          0.13815789473684212,
          0.13157894736842105,
          0.115,
          0,
          0.135,
          0,
          0.14473684210526314,
          0.125,
          0,
          0.11448598130841121,
          0.095,
          0.125,
          0.125,
          0.11842105263157894,
          0.125,
          0.13157894736842105,
          0.1118421052631579,
          0.11842105263157894,
          0.10526315789473684
         ],
         "yaxis": "y3"
        },
        {
         "legendgroup": "5",
         "marker": {
          "color": "#ffbb78"
         },
         "name": "german_invalid<br>column name",
         "showlegend": false,
         "type": "bar",
         "x": [
          "pyint",
          "pyfloat",
          "academic_degree",
          "gender",
          "last_name",
          "address",
          "blood_type",
          "sex",
          "credit_card_provider",
          "swift",
          "company",
          "url",
          "color",
          "integer_number",
          "title",
          "currency",
          "full_name",
          "graphics",
          "isbn",
          "blood_group",
          "ssn",
          "measure_unit",
          "ean",
          "first_name",
          "system_quality_attribute",
          "email",
          "phone_number",
          "job",
          "occupation",
          "drink",
          "isbn13",
          "word",
          "date",
          "programming_language",
          "iban",
          "manufacturer",
          "phone_model",
          "language",
          "float_number",
          "nationality",
          "name",
          "passport_number",
          "city",
          "current_location",
          "credit_card_number",
          "political_views",
          "duration",
          "worldview",
          "cpu",
          "resolution",
          "user_agent",
          "dish",
          "version",
          "answer"
         ],
         "xaxis": "x3",
         "y": [
          0.1134020618556701,
          0,
          0.11557788944723618,
          0.13,
          0.12441314553990611,
          0,
          0.1507537688442211,
          0.14035087719298245,
          0.1206896551724138,
          0.13028169014084506,
          0.14221218961625282,
          0.13402061855670103,
          0.10835214446952596,
          0.11842105263157894,
          0.14,
          0.12714776632302405,
          0,
          0.15789473684210525,
          0.125,
          0.13596491228070176,
          0,
          0.13815789473684212,
          0,
          0.12646370023419204,
          0.14473684210526316,
          0.13317757009345793,
          0.1053864168618267,
          0.13596491228070176,
          0.12121212121212122,
          0.1118421052631579,
          0.10034602076124567,
          0.11842105263157894,
          0.1413793103448276,
          0.10526315789473684,
          0.10964912280701754,
          0.1118421052631579,
          0.11842105263157894,
          0.135,
          0,
          0.115,
          0,
          0.10087719298245613,
          0.125,
          0,
          0.13551401869158877,
          0.155,
          0.125,
          0.125,
          0.13157894736842105,
          0.125,
          0.09210526315789473,
          0.13815789473684212,
          0.13157894736842105,
          0.14473684210526316
         ],
         "yaxis": "y3"
        },
        {
         "legendgroup": "6",
         "marker": {
          "color": "#2ca02c"
         },
         "name": "mixed language_valid<br>column name",
         "showlegend": false,
         "type": "bar",
         "x": [
          "swift",
          "credit_card_number",
          "political_views",
          "pyint",
          "float_number",
          "last_name",
          "address",
          "current_location",
          "phone_number",
          "isbn13",
          "manufacturer",
          "company",
          "title",
          "color",
          "job",
          "occupation",
          "word",
          "date",
          "cpu",
          "integer_number",
          "passport_number",
          "phone_model",
          "city",
          "academic_degree",
          "url",
          "ssn",
          "system_quality_attribute",
          "gender",
          "ean",
          "first_name",
          "iban",
          "sex",
          "drink",
          "email",
          "pyfloat",
          "currency",
          "answer",
          "measure_unit",
          "blood_group",
          "user_agent",
          "credit_card_provider",
          "name",
          "programming_language",
          "dish",
          "full_name",
          "language",
          "worldview",
          "duration",
          "resolution",
          "version",
          "graphics",
          "isbn",
          "blood_type",
          "nationality"
         ],
         "xaxis": "x3",
         "y": [
          0.11619718309859155,
          0.1261682242990654,
          0.135,
          0.11683848797250859,
          0,
          0.12441314553990611,
          0,
          0,
          0.1405152224824356,
          0.14878892733564014,
          0.125,
          0.11963882618510158,
          0.135,
          0.12641083521444696,
          0.13596491228070176,
          0.10101010101010101,
          0.13157894736842105,
          0.10344827586206896,
          0.13815789473684212,
          0.125,
          0.13157894736842105,
          0.13157894736842105,
          0.1118421052631579,
          0.1407035175879397,
          0.13402061855670103,
          0.08849557522123894,
          0.125,
          0.135,
          0,
          0.11241217798594848,
          0.14035087719298245,
          0.11842105263157894,
          0.1118421052631579,
          0.12149532710280374,
          0,
          0.13058419243986255,
          0.17105263157894737,
          0.125,
          0.12719298245614036,
          0.125,
          0.1103448275862069,
          0,
          0.1513157894736842,
          0.125,
          0,
          0.13,
          0.115,
          0.10526315789473684,
          0.1118421052631579,
          0.125,
          0.1118421052631579,
          0.09868421052631579,
          0.11557788944723618,
          0.1
         ],
         "yaxis": "y3"
        },
        {
         "legendgroup": "7",
         "marker": {
          "color": "#98df8a"
         },
         "name": "mixed language_invalid<br>column name",
         "showlegend": false,
         "type": "bar",
         "x": [
          "swift",
          "credit_card_number",
          "political_views",
          "pyint",
          "float_number",
          "last_name",
          "address",
          "current_location",
          "phone_number",
          "isbn13",
          "manufacturer",
          "company",
          "title",
          "color",
          "job",
          "occupation",
          "word",
          "date",
          "cpu",
          "integer_number",
          "passport_number",
          "phone_model",
          "city",
          "academic_degree",
          "url",
          "ssn",
          "system_quality_attribute",
          "gender",
          "ean",
          "first_name",
          "iban",
          "sex",
          "drink",
          "email",
          "pyfloat",
          "currency",
          "answer",
          "measure_unit",
          "blood_group",
          "user_agent",
          "credit_card_provider",
          "name",
          "programming_language",
          "dish",
          "full_name",
          "language",
          "worldview",
          "duration",
          "resolution",
          "version",
          "graphics",
          "isbn",
          "blood_type",
          "nationality"
         ],
         "xaxis": "x3",
         "y": [
          0.13380281690140844,
          0.12383177570093458,
          0.115,
          0.13402061855670103,
          0,
          0.1267605633802817,
          0,
          0,
          0.10304449648711944,
          0.10034602076124567,
          0.125,
          0.1309255079006772,
          0.115,
          0.12415349887133183,
          0.11403508771929824,
          0.15151515151515152,
          0.11842105263157894,
          0.14482758620689656,
          0.1118421052631579,
          0.125,
          0.11842105263157894,
          0.11842105263157894,
          0.13815789473684212,
          0.10552763819095477,
          0.11683848797250859,
          0.10619469026548672,
          0.125,
          0.115,
          0,
          0.13817330210772832,
          0.10964912280701754,
          0.13157894736842105,
          0.13815789473684212,
          0.12850467289719625,
          0,
          0.12027491408934708,
          0.07894736842105263,
          0.125,
          0.12280701754385964,
          0.09868421052631579,
          0.13793103448275862,
          0,
          0.09868421052631579,
          0.125,
          0,
          0.12,
          0.135,
          0.14473684210526316,
          0.13815789473684212,
          0.125,
          0.13815789473684212,
          0.1513157894736842,
          0.135678391959799,
          0.15
         ],
         "yaxis": "y3"
        },
        {
         "legendgroup": "8",
         "marker": {
          "color": "#9467bd"
         },
         "name": "dessi data_valid<br>column name",
         "showlegend": false,
         "type": "bar",
         "x": [
          "Date",
          "Geolocation",
          "Email,Phone_number",
          "CCN",
          "NIN",
          "Phone_number",
          "Gender",
          "Date,NIN",
          "Email,NIN",
          "NIN,Phone_number",
          "Race",
          "Sexuality",
          "Nationality",
          "Passport",
          "IBAN",
          "SWIFT/BIC",
          "Religion",
          "Organization",
          "GPE",
          "ID_Card",
          "Email"
         ],
         "xaxis": "x3",
         "y": [
          0.07539682539682539,
          0,
          0.1206896551724138,
          0,
          0.026865671641791045,
          0.05799151343705799,
          0,
          0.05952380952380952,
          0.07017543859649122,
          0.09090909090909091,
          0,
          0.05263157894736842,
          0,
          0.09523809523809523,
          0,
          0.046511627906976744,
          0.05555555555555555,
          0,
          0,
          0,
          0.25
         ],
         "yaxis": "y3"
        },
        {
         "legendgroup": "9",
         "marker": {
          "color": "#c5b0d5"
         },
         "name": "dessi data_invalid<br>column name",
         "showlegend": false,
         "type": "bar",
         "x": [
          "Date",
          "Geolocation",
          "Email,Phone_number",
          "CCN",
          "NIN",
          "Phone_number",
          "Gender",
          "Date,NIN",
          "Email,NIN",
          "NIN,Phone_number",
          "Race",
          "Sexuality",
          "Nationality",
          "Passport",
          "IBAN",
          "SWIFT/BIC",
          "Religion",
          "Organization",
          "GPE",
          "ID_Card",
          "Email"
         ],
         "xaxis": "x3",
         "y": [
          0.6746031746031746,
          0,
          0.8793103448275862,
          1,
          0.8119402985074626,
          0.9236209335219235,
          1,
          0.5714285714285714,
          0.9298245614035088,
          0.8636363636363635,
          1,
          0.9473684210526315,
          1,
          0.7619047619047619,
          1,
          0.9534883720930233,
          0.9444444444444444,
          1,
          1,
          0,
          0.75
         ],
         "yaxis": "y3"
        }
       ],
       "layout": {
        "annotations": [
         {
          "font": {
           "size": 16
          },
          "showarrow": false,
          "text": "GPT-4o Accuracy by Class",
          "x": 0.5,
          "xanchor": "center",
          "xref": "paper",
          "y": 1,
          "yanchor": "bottom",
          "yref": "paper"
         },
         {
          "font": {
           "size": 16
          },
          "showarrow": false,
          "text": "CASSED Accuracy by Class",
          "x": 0.5,
          "xanchor": "center",
          "xref": "paper",
          "y": 0.6416666666666666,
          "yanchor": "bottom",
          "yref": "paper"
         },
         {
          "font": {
           "size": 16
          },
          "showarrow": false,
          "text": "Presidio Accuracy by Class",
          "x": 0.5,
          "xanchor": "center",
          "xref": "paper",
          "y": 0.2833333333333333,
          "yanchor": "bottom",
          "yref": "paper"
         },
         {
          "font": {
           "size": 16
          },
          "showarrow": false,
          "text": "Accuracy",
          "textangle": -90,
          "x": 0,
          "xanchor": "right",
          "xref": "paper",
          "xshift": -40,
          "y": 0.5,
          "yanchor": "middle",
          "yref": "paper"
         }
        ],
        "barmode": "stack",
        "height": 740,
        "legend": {
         "title": {
          "text": "Properties of Column"
         }
        },
        "template": {
         "data": {
          "bar": [
           {
            "error_x": {
             "color": "#2a3f5f"
            },
            "error_y": {
             "color": "#2a3f5f"
            },
            "marker": {
             "line": {
              "color": "#E5ECF6",
              "width": 0.5
             },
             "pattern": {
              "fillmode": "overlay",
              "size": 10,
              "solidity": 0.2
             }
            },
            "type": "bar"
           }
          ],
          "barpolar": [
           {
            "marker": {
             "line": {
              "color": "#E5ECF6",
              "width": 0.5
             },
             "pattern": {
              "fillmode": "overlay",
              "size": 10,
              "solidity": 0.2
             }
            },
            "type": "barpolar"
           }
          ],
          "carpet": [
           {
            "aaxis": {
             "endlinecolor": "#2a3f5f",
             "gridcolor": "white",
             "linecolor": "white",
             "minorgridcolor": "white",
             "startlinecolor": "#2a3f5f"
            },
            "baxis": {
             "endlinecolor": "#2a3f5f",
             "gridcolor": "white",
             "linecolor": "white",
             "minorgridcolor": "white",
             "startlinecolor": "#2a3f5f"
            },
            "type": "carpet"
           }
          ],
          "choropleth": [
           {
            "colorbar": {
             "outlinewidth": 0,
             "ticks": ""
            },
            "type": "choropleth"
           }
          ],
          "contour": [
           {
            "colorbar": {
             "outlinewidth": 0,
             "ticks": ""
            },
            "colorscale": [
             [
              0,
              "#0d0887"
             ],
             [
              0.1111111111111111,
              "#46039f"
             ],
             [
              0.2222222222222222,
              "#7201a8"
             ],
             [
              0.3333333333333333,
              "#9c179e"
             ],
             [
              0.4444444444444444,
              "#bd3786"
             ],
             [
              0.5555555555555556,
              "#d8576b"
             ],
             [
              0.6666666666666666,
              "#ed7953"
             ],
             [
              0.7777777777777778,
              "#fb9f3a"
             ],
             [
              0.8888888888888888,
              "#fdca26"
             ],
             [
              1,
              "#f0f921"
             ]
            ],
            "type": "contour"
           }
          ],
          "contourcarpet": [
           {
            "colorbar": {
             "outlinewidth": 0,
             "ticks": ""
            },
            "type": "contourcarpet"
           }
          ],
          "heatmap": [
           {
            "colorbar": {
             "outlinewidth": 0,
             "ticks": ""
            },
            "colorscale": [
             [
              0,
              "#0d0887"
             ],
             [
              0.1111111111111111,
              "#46039f"
             ],
             [
              0.2222222222222222,
              "#7201a8"
             ],
             [
              0.3333333333333333,
              "#9c179e"
             ],
             [
              0.4444444444444444,
              "#bd3786"
             ],
             [
              0.5555555555555556,
              "#d8576b"
             ],
             [
              0.6666666666666666,
              "#ed7953"
             ],
             [
              0.7777777777777778,
              "#fb9f3a"
             ],
             [
              0.8888888888888888,
              "#fdca26"
             ],
             [
              1,
              "#f0f921"
             ]
            ],
            "type": "heatmap"
           }
          ],
          "heatmapgl": [
           {
            "colorbar": {
             "outlinewidth": 0,
             "ticks": ""
            },
            "colorscale": [
             [
              0,
              "#0d0887"
             ],
             [
              0.1111111111111111,
              "#46039f"
             ],
             [
              0.2222222222222222,
              "#7201a8"
             ],
             [
              0.3333333333333333,
              "#9c179e"
             ],
             [
              0.4444444444444444,
              "#bd3786"
             ],
             [
              0.5555555555555556,
              "#d8576b"
             ],
             [
              0.6666666666666666,
              "#ed7953"
             ],
             [
              0.7777777777777778,
              "#fb9f3a"
             ],
             [
              0.8888888888888888,
              "#fdca26"
             ],
             [
              1,
              "#f0f921"
             ]
            ],
            "type": "heatmapgl"
           }
          ],
          "histogram": [
           {
            "marker": {
             "pattern": {
              "fillmode": "overlay",
              "size": 10,
              "solidity": 0.2
             }
            },
            "type": "histogram"
           }
          ],
          "histogram2d": [
           {
            "colorbar": {
             "outlinewidth": 0,
             "ticks": ""
            },
            "colorscale": [
             [
              0,
              "#0d0887"
             ],
             [
              0.1111111111111111,
              "#46039f"
             ],
             [
              0.2222222222222222,
              "#7201a8"
             ],
             [
              0.3333333333333333,
              "#9c179e"
             ],
             [
              0.4444444444444444,
              "#bd3786"
             ],
             [
              0.5555555555555556,
              "#d8576b"
             ],
             [
              0.6666666666666666,
              "#ed7953"
             ],
             [
              0.7777777777777778,
              "#fb9f3a"
             ],
             [
              0.8888888888888888,
              "#fdca26"
             ],
             [
              1,
              "#f0f921"
             ]
            ],
            "type": "histogram2d"
           }
          ],
          "histogram2dcontour": [
           {
            "colorbar": {
             "outlinewidth": 0,
             "ticks": ""
            },
            "colorscale": [
             [
              0,
              "#0d0887"
             ],
             [
              0.1111111111111111,
              "#46039f"
             ],
             [
              0.2222222222222222,
              "#7201a8"
             ],
             [
              0.3333333333333333,
              "#9c179e"
             ],
             [
              0.4444444444444444,
              "#bd3786"
             ],
             [
              0.5555555555555556,
              "#d8576b"
             ],
             [
              0.6666666666666666,
              "#ed7953"
             ],
             [
              0.7777777777777778,
              "#fb9f3a"
             ],
             [
              0.8888888888888888,
              "#fdca26"
             ],
             [
              1,
              "#f0f921"
             ]
            ],
            "type": "histogram2dcontour"
           }
          ],
          "mesh3d": [
           {
            "colorbar": {
             "outlinewidth": 0,
             "ticks": ""
            },
            "type": "mesh3d"
           }
          ],
          "parcoords": [
           {
            "line": {
             "colorbar": {
              "outlinewidth": 0,
              "ticks": ""
             }
            },
            "type": "parcoords"
           }
          ],
          "pie": [
           {
            "automargin": true,
            "type": "pie"
           }
          ],
          "scatter": [
           {
            "fillpattern": {
             "fillmode": "overlay",
             "size": 10,
             "solidity": 0.2
            },
            "type": "scatter"
           }
          ],
          "scatter3d": [
           {
            "line": {
             "colorbar": {
              "outlinewidth": 0,
              "ticks": ""
             }
            },
            "marker": {
             "colorbar": {
              "outlinewidth": 0,
              "ticks": ""
             }
            },
            "type": "scatter3d"
           }
          ],
          "scattercarpet": [
           {
            "marker": {
             "colorbar": {
              "outlinewidth": 0,
              "ticks": ""
             }
            },
            "type": "scattercarpet"
           }
          ],
          "scattergeo": [
           {
            "marker": {
             "colorbar": {
              "outlinewidth": 0,
              "ticks": ""
             }
            },
            "type": "scattergeo"
           }
          ],
          "scattergl": [
           {
            "marker": {
             "colorbar": {
              "outlinewidth": 0,
              "ticks": ""
             }
            },
            "type": "scattergl"
           }
          ],
          "scattermapbox": [
           {
            "marker": {
             "colorbar": {
              "outlinewidth": 0,
              "ticks": ""
             }
            },
            "type": "scattermapbox"
           }
          ],
          "scatterpolar": [
           {
            "marker": {
             "colorbar": {
              "outlinewidth": 0,
              "ticks": ""
             }
            },
            "type": "scatterpolar"
           }
          ],
          "scatterpolargl": [
           {
            "marker": {
             "colorbar": {
              "outlinewidth": 0,
              "ticks": ""
             }
            },
            "type": "scatterpolargl"
           }
          ],
          "scatterternary": [
           {
            "marker": {
             "colorbar": {
              "outlinewidth": 0,
              "ticks": ""
             }
            },
            "type": "scatterternary"
           }
          ],
          "surface": [
           {
            "colorbar": {
             "outlinewidth": 0,
             "ticks": ""
            },
            "colorscale": [
             [
              0,
              "#0d0887"
             ],
             [
              0.1111111111111111,
              "#46039f"
             ],
             [
              0.2222222222222222,
              "#7201a8"
             ],
             [
              0.3333333333333333,
              "#9c179e"
             ],
             [
              0.4444444444444444,
              "#bd3786"
             ],
             [
              0.5555555555555556,
              "#d8576b"
             ],
             [
              0.6666666666666666,
              "#ed7953"
             ],
             [
              0.7777777777777778,
              "#fb9f3a"
             ],
             [
              0.8888888888888888,
              "#fdca26"
             ],
             [
              1,
              "#f0f921"
             ]
            ],
            "type": "surface"
           }
          ],
          "table": [
           {
            "cells": {
             "fill": {
              "color": "#EBF0F8"
             },
             "line": {
              "color": "white"
             }
            },
            "header": {
             "fill": {
              "color": "#C8D4E3"
             },
             "line": {
              "color": "white"
             }
            },
            "type": "table"
           }
          ]
         },
         "layout": {
          "annotationdefaults": {
           "arrowcolor": "#2a3f5f",
           "arrowhead": 0,
           "arrowwidth": 1
          },
          "autotypenumbers": "strict",
          "coloraxis": {
           "colorbar": {
            "outlinewidth": 0,
            "ticks": ""
           }
          },
          "colorscale": {
           "diverging": [
            [
             0,
             "#8e0152"
            ],
            [
             0.1,
             "#c51b7d"
            ],
            [
             0.2,
             "#de77ae"
            ],
            [
             0.3,
             "#f1b6da"
            ],
            [
             0.4,
             "#fde0ef"
            ],
            [
             0.5,
             "#f7f7f7"
            ],
            [
             0.6,
             "#e6f5d0"
            ],
            [
             0.7,
             "#b8e186"
            ],
            [
             0.8,
             "#7fbc41"
            ],
            [
             0.9,
             "#4d9221"
            ],
            [
             1,
             "#276419"
            ]
           ],
           "sequential": [
            [
             0,
             "#0d0887"
            ],
            [
             0.1111111111111111,
             "#46039f"
            ],
            [
             0.2222222222222222,
             "#7201a8"
            ],
            [
             0.3333333333333333,
             "#9c179e"
            ],
            [
             0.4444444444444444,
             "#bd3786"
            ],
            [
             0.5555555555555556,
             "#d8576b"
            ],
            [
             0.6666666666666666,
             "#ed7953"
            ],
            [
             0.7777777777777778,
             "#fb9f3a"
            ],
            [
             0.8888888888888888,
             "#fdca26"
            ],
            [
             1,
             "#f0f921"
            ]
           ],
           "sequentialminus": [
            [
             0,
             "#0d0887"
            ],
            [
             0.1111111111111111,
             "#46039f"
            ],
            [
             0.2222222222222222,
             "#7201a8"
            ],
            [
             0.3333333333333333,
             "#9c179e"
            ],
            [
             0.4444444444444444,
             "#bd3786"
            ],
            [
             0.5555555555555556,
             "#d8576b"
            ],
            [
             0.6666666666666666,
             "#ed7953"
            ],
            [
             0.7777777777777778,
             "#fb9f3a"
            ],
            [
             0.8888888888888888,
             "#fdca26"
            ],
            [
             1,
             "#f0f921"
            ]
           ]
          },
          "colorway": [
           "#636efa",
           "#EF553B",
           "#00cc96",
           "#ab63fa",
           "#FFA15A",
           "#19d3f3",
           "#FF6692",
           "#B6E880",
           "#FF97FF",
           "#FECB52"
          ],
          "font": {
           "color": "#2a3f5f"
          },
          "geo": {
           "bgcolor": "white",
           "lakecolor": "white",
           "landcolor": "#E5ECF6",
           "showlakes": true,
           "showland": true,
           "subunitcolor": "white"
          },
          "hoverlabel": {
           "align": "left"
          },
          "hovermode": "closest",
          "mapbox": {
           "style": "light"
          },
          "paper_bgcolor": "white",
          "plot_bgcolor": "#E5ECF6",
          "polar": {
           "angularaxis": {
            "gridcolor": "white",
            "linecolor": "white",
            "ticks": ""
           },
           "bgcolor": "#E5ECF6",
           "radialaxis": {
            "gridcolor": "white",
            "linecolor": "white",
            "ticks": ""
           }
          },
          "scene": {
           "xaxis": {
            "backgroundcolor": "#E5ECF6",
            "gridcolor": "white",
            "gridwidth": 2,
            "linecolor": "white",
            "showbackground": true,
            "ticks": "",
            "zerolinecolor": "white"
           },
           "yaxis": {
            "backgroundcolor": "#E5ECF6",
            "gridcolor": "white",
            "gridwidth": 2,
            "linecolor": "white",
            "showbackground": true,
            "ticks": "",
            "zerolinecolor": "white"
           },
           "zaxis": {
            "backgroundcolor": "#E5ECF6",
            "gridcolor": "white",
            "gridwidth": 2,
            "linecolor": "white",
            "showbackground": true,
            "ticks": "",
            "zerolinecolor": "white"
           }
          },
          "shapedefaults": {
           "line": {
            "color": "#2a3f5f"
           }
          },
          "ternary": {
           "aaxis": {
            "gridcolor": "white",
            "linecolor": "white",
            "ticks": ""
           },
           "baxis": {
            "gridcolor": "white",
            "linecolor": "white",
            "ticks": ""
           },
           "bgcolor": "#E5ECF6",
           "caxis": {
            "gridcolor": "white",
            "linecolor": "white",
            "ticks": ""
           }
          },
          "title": {
           "x": 0.05
          },
          "xaxis": {
           "automargin": true,
           "gridcolor": "white",
           "linecolor": "white",
           "ticks": "",
           "title": {
            "standoff": 15
           },
           "zerolinecolor": "white",
           "zerolinewidth": 2
          },
          "yaxis": {
           "automargin": true,
           "gridcolor": "white",
           "linecolor": "white",
           "ticks": "",
           "title": {
            "standoff": 15
           },
           "zerolinecolor": "white",
           "zerolinewidth": 2
          }
         }
        },
        "title": {
         "text": "Accuracy by Semantic Class for pii Predictions on DeSSI-MF"
        },
        "width": 1430,
        "xaxis": {
         "anchor": "y",
         "domain": [
          0,
          1
         ],
         "matches": "x3",
         "showticklabels": false
        },
        "xaxis2": {
         "anchor": "y2",
         "domain": [
          0,
          1
         ],
         "matches": "x3",
         "showticklabels": false
        },
        "xaxis3": {
         "anchor": "y3",
         "domain": [
          0,
          1
         ]
        },
        "yaxis": {
         "anchor": "x",
         "domain": [
          0.7166666666666667,
          1
         ],
         "tickvals": [
          0,
          0.2,
          0.4,
          0.6,
          0.8,
          1
         ]
        },
        "yaxis2": {
         "anchor": "x2",
         "domain": [
          0.35833333333333334,
          0.6416666666666666
         ],
         "tickvals": [
          0,
          0.2,
          0.4,
          0.6,
          0.8,
          1
         ]
        },
        "yaxis3": {
         "anchor": "x3",
         "domain": [
          0,
          0.2833333333333333
         ],
         "tickvals": [
          0,
          0.2,
          0.4,
          0.6,
          0.8,
          1
         ]
        }
       }
      }
     },
     "metadata": {},
     "output_type": "display_data"
    },
    {
     "data": {
      "application/vnd.plotly.v1+json": {
       "config": {
        "plotlyServerURL": "https://plot.ly"
       },
       "data": [
        {
         "legendgroup": "0",
         "marker": {
          "color": "#636efa"
         },
         "name": "GPT-4o",
         "showlegend": true,
         "type": "bar",
         "x": [
          "dessi data",
          "english",
          "mixed language",
          "french",
          "german"
         ],
         "xaxis": "x",
         "y": [
          0.78,
          0.7338709677419355,
          0.7258064516129032,
          0.717741935483871,
          0.717741935483871
         ],
         "yaxis": "y"
        },
        {
         "legendgroup": "0",
         "marker": {
          "color": "#636efa"
         },
         "name": "GPT-4o",
         "showlegend": false,
         "type": "bar",
         "x": [
          "dessi",
          "faker",
          "mimesis"
         ],
         "xaxis": "x2",
         "y": [
          0.78,
          0.76,
          0.6993243243243243
         ],
         "yaxis": "y2"
        },
        {
         "legendgroup": "0",
         "marker": {
          "color": "#636efa"
         },
         "name": "GPT-4o",
         "showlegend": false,
         "type": "bar",
         "x": [
          "meaningful",
          "random generated"
         ],
         "xaxis": "x3",
         "y": [
          0.7472527472527473,
          0.7106227106227107
         ],
         "yaxis": "y3"
        },
        {
         "legendgroup": "1",
         "marker": {
          "color": "#EF553B"
         },
         "name": "CASSED",
         "showlegend": true,
         "type": "bar",
         "x": [
          "german",
          "french",
          "english",
          "mixed language",
          "dessi data"
         ],
         "xaxis": "x",
         "y": [
          1,
          1,
          1,
          1,
          1
         ],
         "yaxis": "y"
        },
        {
         "legendgroup": "1",
         "marker": {
          "color": "#EF553B"
         },
         "name": "CASSED",
         "showlegend": false,
         "type": "bar",
         "x": [
          "faker",
          "mimesis",
          "dessi"
         ],
         "xaxis": "x2",
         "y": [
          1,
          1,
          1
         ],
         "yaxis": "y2"
        },
        {
         "legendgroup": "1",
         "marker": {
          "color": "#EF553B"
         },
         "name": "CASSED",
         "showlegend": false,
         "type": "bar",
         "x": [
          "meaningful",
          "random generated"
         ],
         "xaxis": "x3",
         "y": [
          1,
          1
         ],
         "yaxis": "y3"
        },
        {
         "legendgroup": "2",
         "marker": {
          "color": "#00cc96"
         },
         "name": "Presidio",
         "showlegend": true,
         "type": "bar",
         "x": [
          "french",
          "mixed language",
          "english",
          "german",
          "dessi data"
         ],
         "xaxis": "x",
         "y": [
          0.8561579442181134,
          0.852304797742239,
          0.838152105593966,
          0.8353677621283255,
          0.8308934881373043
         ],
         "yaxis": "y"
        },
        {
         "legendgroup": "2",
         "marker": {
          "color": "#00cc96"
         },
         "name": "Presidio",
         "showlegend": false,
         "type": "bar",
         "x": [
          "mimesis",
          "dessi",
          "faker"
         ],
         "xaxis": "x2",
         "y": [
          0.9114697586963334,
          0.8308934881373043,
          0.7794509803921569
         ],
         "yaxis": "y2"
        },
        {
         "legendgroup": "2",
         "marker": {
          "color": "#00cc96"
         },
         "name": "Presidio",
         "showlegend": false,
         "type": "bar",
         "x": [
          "meaningful",
          "random generated"
         ],
         "xaxis": "x3",
         "y": [
          0.8438177874186551,
          0.8433124094640271
         ],
         "yaxis": "y3"
        }
       ],
       "layout": {
        "annotations": [
         {
          "font": {
           "size": 16
          },
          "showarrow": false,
          "text": "Language",
          "x": 0.21666666666666667,
          "xanchor": "center",
          "xref": "paper",
          "y": 1,
          "yanchor": "bottom",
          "yref": "paper"
         },
         {
          "font": {
           "size": 16
          },
          "showarrow": false,
          "text": "Original Dataset",
          "x": 0.63,
          "xanchor": "center",
          "xref": "paper",
          "y": 1,
          "yanchor": "bottom",
          "yref": "paper"
         },
         {
          "font": {
           "size": 16
          },
          "showarrow": false,
          "text": "Type of<br>Column Name",
          "x": 0.9133333333333333,
          "xanchor": "center",
          "xref": "paper",
          "y": 1,
          "yanchor": "bottom",
          "yref": "paper"
         }
        ],
        "height": 400,
        "legend": {
         "title": {
          "text": "Model"
         }
        },
        "template": {
         "data": {
          "bar": [
           {
            "error_x": {
             "color": "#2a3f5f"
            },
            "error_y": {
             "color": "#2a3f5f"
            },
            "marker": {
             "line": {
              "color": "#E5ECF6",
              "width": 0.5
             },
             "pattern": {
              "fillmode": "overlay",
              "size": 10,
              "solidity": 0.2
             }
            },
            "type": "bar"
           }
          ],
          "barpolar": [
           {
            "marker": {
             "line": {
              "color": "#E5ECF6",
              "width": 0.5
             },
             "pattern": {
              "fillmode": "overlay",
              "size": 10,
              "solidity": 0.2
             }
            },
            "type": "barpolar"
           }
          ],
          "carpet": [
           {
            "aaxis": {
             "endlinecolor": "#2a3f5f",
             "gridcolor": "white",
             "linecolor": "white",
             "minorgridcolor": "white",
             "startlinecolor": "#2a3f5f"
            },
            "baxis": {
             "endlinecolor": "#2a3f5f",
             "gridcolor": "white",
             "linecolor": "white",
             "minorgridcolor": "white",
             "startlinecolor": "#2a3f5f"
            },
            "type": "carpet"
           }
          ],
          "choropleth": [
           {
            "colorbar": {
             "outlinewidth": 0,
             "ticks": ""
            },
            "type": "choropleth"
           }
          ],
          "contour": [
           {
            "colorbar": {
             "outlinewidth": 0,
             "ticks": ""
            },
            "colorscale": [
             [
              0,
              "#0d0887"
             ],
             [
              0.1111111111111111,
              "#46039f"
             ],
             [
              0.2222222222222222,
              "#7201a8"
             ],
             [
              0.3333333333333333,
              "#9c179e"
             ],
             [
              0.4444444444444444,
              "#bd3786"
             ],
             [
              0.5555555555555556,
              "#d8576b"
             ],
             [
              0.6666666666666666,
              "#ed7953"
             ],
             [
              0.7777777777777778,
              "#fb9f3a"
             ],
             [
              0.8888888888888888,
              "#fdca26"
             ],
             [
              1,
              "#f0f921"
             ]
            ],
            "type": "contour"
           }
          ],
          "contourcarpet": [
           {
            "colorbar": {
             "outlinewidth": 0,
             "ticks": ""
            },
            "type": "contourcarpet"
           }
          ],
          "heatmap": [
           {
            "colorbar": {
             "outlinewidth": 0,
             "ticks": ""
            },
            "colorscale": [
             [
              0,
              "#0d0887"
             ],
             [
              0.1111111111111111,
              "#46039f"
             ],
             [
              0.2222222222222222,
              "#7201a8"
             ],
             [
              0.3333333333333333,
              "#9c179e"
             ],
             [
              0.4444444444444444,
              "#bd3786"
             ],
             [
              0.5555555555555556,
              "#d8576b"
             ],
             [
              0.6666666666666666,
              "#ed7953"
             ],
             [
              0.7777777777777778,
              "#fb9f3a"
             ],
             [
              0.8888888888888888,
              "#fdca26"
             ],
             [
              1,
              "#f0f921"
             ]
            ],
            "type": "heatmap"
           }
          ],
          "heatmapgl": [
           {
            "colorbar": {
             "outlinewidth": 0,
             "ticks": ""
            },
            "colorscale": [
             [
              0,
              "#0d0887"
             ],
             [
              0.1111111111111111,
              "#46039f"
             ],
             [
              0.2222222222222222,
              "#7201a8"
             ],
             [
              0.3333333333333333,
              "#9c179e"
             ],
             [
              0.4444444444444444,
              "#bd3786"
             ],
             [
              0.5555555555555556,
              "#d8576b"
             ],
             [
              0.6666666666666666,
              "#ed7953"
             ],
             [
              0.7777777777777778,
              "#fb9f3a"
             ],
             [
              0.8888888888888888,
              "#fdca26"
             ],
             [
              1,
              "#f0f921"
             ]
            ],
            "type": "heatmapgl"
           }
          ],
          "histogram": [
           {
            "marker": {
             "pattern": {
              "fillmode": "overlay",
              "size": 10,
              "solidity": 0.2
             }
            },
            "type": "histogram"
           }
          ],
          "histogram2d": [
           {
            "colorbar": {
             "outlinewidth": 0,
             "ticks": ""
            },
            "colorscale": [
             [
              0,
              "#0d0887"
             ],
             [
              0.1111111111111111,
              "#46039f"
             ],
             [
              0.2222222222222222,
              "#7201a8"
             ],
             [
              0.3333333333333333,
              "#9c179e"
             ],
             [
              0.4444444444444444,
              "#bd3786"
             ],
             [
              0.5555555555555556,
              "#d8576b"
             ],
             [
              0.6666666666666666,
              "#ed7953"
             ],
             [
              0.7777777777777778,
              "#fb9f3a"
             ],
             [
              0.8888888888888888,
              "#fdca26"
             ],
             [
              1,
              "#f0f921"
             ]
            ],
            "type": "histogram2d"
           }
          ],
          "histogram2dcontour": [
           {
            "colorbar": {
             "outlinewidth": 0,
             "ticks": ""
            },
            "colorscale": [
             [
              0,
              "#0d0887"
             ],
             [
              0.1111111111111111,
              "#46039f"
             ],
             [
              0.2222222222222222,
              "#7201a8"
             ],
             [
              0.3333333333333333,
              "#9c179e"
             ],
             [
              0.4444444444444444,
              "#bd3786"
             ],
             [
              0.5555555555555556,
              "#d8576b"
             ],
             [
              0.6666666666666666,
              "#ed7953"
             ],
             [
              0.7777777777777778,
              "#fb9f3a"
             ],
             [
              0.8888888888888888,
              "#fdca26"
             ],
             [
              1,
              "#f0f921"
             ]
            ],
            "type": "histogram2dcontour"
           }
          ],
          "mesh3d": [
           {
            "colorbar": {
             "outlinewidth": 0,
             "ticks": ""
            },
            "type": "mesh3d"
           }
          ],
          "parcoords": [
           {
            "line": {
             "colorbar": {
              "outlinewidth": 0,
              "ticks": ""
             }
            },
            "type": "parcoords"
           }
          ],
          "pie": [
           {
            "automargin": true,
            "type": "pie"
           }
          ],
          "scatter": [
           {
            "fillpattern": {
             "fillmode": "overlay",
             "size": 10,
             "solidity": 0.2
            },
            "type": "scatter"
           }
          ],
          "scatter3d": [
           {
            "line": {
             "colorbar": {
              "outlinewidth": 0,
              "ticks": ""
             }
            },
            "marker": {
             "colorbar": {
              "outlinewidth": 0,
              "ticks": ""
             }
            },
            "type": "scatter3d"
           }
          ],
          "scattercarpet": [
           {
            "marker": {
             "colorbar": {
              "outlinewidth": 0,
              "ticks": ""
             }
            },
            "type": "scattercarpet"
           }
          ],
          "scattergeo": [
           {
            "marker": {
             "colorbar": {
              "outlinewidth": 0,
              "ticks": ""
             }
            },
            "type": "scattergeo"
           }
          ],
          "scattergl": [
           {
            "marker": {
             "colorbar": {
              "outlinewidth": 0,
              "ticks": ""
             }
            },
            "type": "scattergl"
           }
          ],
          "scattermapbox": [
           {
            "marker": {
             "colorbar": {
              "outlinewidth": 0,
              "ticks": ""
             }
            },
            "type": "scattermapbox"
           }
          ],
          "scatterpolar": [
           {
            "marker": {
             "colorbar": {
              "outlinewidth": 0,
              "ticks": ""
             }
            },
            "type": "scatterpolar"
           }
          ],
          "scatterpolargl": [
           {
            "marker": {
             "colorbar": {
              "outlinewidth": 0,
              "ticks": ""
             }
            },
            "type": "scatterpolargl"
           }
          ],
          "scatterternary": [
           {
            "marker": {
             "colorbar": {
              "outlinewidth": 0,
              "ticks": ""
             }
            },
            "type": "scatterternary"
           }
          ],
          "surface": [
           {
            "colorbar": {
             "outlinewidth": 0,
             "ticks": ""
            },
            "colorscale": [
             [
              0,
              "#0d0887"
             ],
             [
              0.1111111111111111,
              "#46039f"
             ],
             [
              0.2222222222222222,
              "#7201a8"
             ],
             [
              0.3333333333333333,
              "#9c179e"
             ],
             [
              0.4444444444444444,
              "#bd3786"
             ],
             [
              0.5555555555555556,
              "#d8576b"
             ],
             [
              0.6666666666666666,
              "#ed7953"
             ],
             [
              0.7777777777777778,
              "#fb9f3a"
             ],
             [
              0.8888888888888888,
              "#fdca26"
             ],
             [
              1,
              "#f0f921"
             ]
            ],
            "type": "surface"
           }
          ],
          "table": [
           {
            "cells": {
             "fill": {
              "color": "#EBF0F8"
             },
             "line": {
              "color": "white"
             }
            },
            "header": {
             "fill": {
              "color": "#C8D4E3"
             },
             "line": {
              "color": "white"
             }
            },
            "type": "table"
           }
          ]
         },
         "layout": {
          "annotationdefaults": {
           "arrowcolor": "#2a3f5f",
           "arrowhead": 0,
           "arrowwidth": 1
          },
          "autotypenumbers": "strict",
          "coloraxis": {
           "colorbar": {
            "outlinewidth": 0,
            "ticks": ""
           }
          },
          "colorscale": {
           "diverging": [
            [
             0,
             "#8e0152"
            ],
            [
             0.1,
             "#c51b7d"
            ],
            [
             0.2,
             "#de77ae"
            ],
            [
             0.3,
             "#f1b6da"
            ],
            [
             0.4,
             "#fde0ef"
            ],
            [
             0.5,
             "#f7f7f7"
            ],
            [
             0.6,
             "#e6f5d0"
            ],
            [
             0.7,
             "#b8e186"
            ],
            [
             0.8,
             "#7fbc41"
            ],
            [
             0.9,
             "#4d9221"
            ],
            [
             1,
             "#276419"
            ]
           ],
           "sequential": [
            [
             0,
             "#0d0887"
            ],
            [
             0.1111111111111111,
             "#46039f"
            ],
            [
             0.2222222222222222,
             "#7201a8"
            ],
            [
             0.3333333333333333,
             "#9c179e"
            ],
            [
             0.4444444444444444,
             "#bd3786"
            ],
            [
             0.5555555555555556,
             "#d8576b"
            ],
            [
             0.6666666666666666,
             "#ed7953"
            ],
            [
             0.7777777777777778,
             "#fb9f3a"
            ],
            [
             0.8888888888888888,
             "#fdca26"
            ],
            [
             1,
             "#f0f921"
            ]
           ],
           "sequentialminus": [
            [
             0,
             "#0d0887"
            ],
            [
             0.1111111111111111,
             "#46039f"
            ],
            [
             0.2222222222222222,
             "#7201a8"
            ],
            [
             0.3333333333333333,
             "#9c179e"
            ],
            [
             0.4444444444444444,
             "#bd3786"
            ],
            [
             0.5555555555555556,
             "#d8576b"
            ],
            [
             0.6666666666666666,
             "#ed7953"
            ],
            [
             0.7777777777777778,
             "#fb9f3a"
            ],
            [
             0.8888888888888888,
             "#fdca26"
            ],
            [
             1,
             "#f0f921"
            ]
           ]
          },
          "colorway": [
           "#636efa",
           "#EF553B",
           "#00cc96",
           "#ab63fa",
           "#FFA15A",
           "#19d3f3",
           "#FF6692",
           "#B6E880",
           "#FF97FF",
           "#FECB52"
          ],
          "font": {
           "color": "#2a3f5f"
          },
          "geo": {
           "bgcolor": "white",
           "lakecolor": "white",
           "landcolor": "#E5ECF6",
           "showlakes": true,
           "showland": true,
           "subunitcolor": "white"
          },
          "hoverlabel": {
           "align": "left"
          },
          "hovermode": "closest",
          "mapbox": {
           "style": "light"
          },
          "paper_bgcolor": "white",
          "plot_bgcolor": "#E5ECF6",
          "polar": {
           "angularaxis": {
            "gridcolor": "white",
            "linecolor": "white",
            "ticks": ""
           },
           "bgcolor": "#E5ECF6",
           "radialaxis": {
            "gridcolor": "white",
            "linecolor": "white",
            "ticks": ""
           }
          },
          "scene": {
           "xaxis": {
            "backgroundcolor": "#E5ECF6",
            "gridcolor": "white",
            "gridwidth": 2,
            "linecolor": "white",
            "showbackground": true,
            "ticks": "",
            "zerolinecolor": "white"
           },
           "yaxis": {
            "backgroundcolor": "#E5ECF6",
            "gridcolor": "white",
            "gridwidth": 2,
            "linecolor": "white",
            "showbackground": true,
            "ticks": "",
            "zerolinecolor": "white"
           },
           "zaxis": {
            "backgroundcolor": "#E5ECF6",
            "gridcolor": "white",
            "gridwidth": 2,
            "linecolor": "white",
            "showbackground": true,
            "ticks": "",
            "zerolinecolor": "white"
           }
          },
          "shapedefaults": {
           "line": {
            "color": "#2a3f5f"
           }
          },
          "ternary": {
           "aaxis": {
            "gridcolor": "white",
            "linecolor": "white",
            "ticks": ""
           },
           "baxis": {
            "gridcolor": "white",
            "linecolor": "white",
            "ticks": ""
           },
           "bgcolor": "#E5ECF6",
           "caxis": {
            "gridcolor": "white",
            "linecolor": "white",
            "ticks": ""
           }
          },
          "title": {
           "x": 0.05
          },
          "xaxis": {
           "automargin": true,
           "gridcolor": "white",
           "linecolor": "white",
           "ticks": "",
           "title": {
            "standoff": 15
           },
           "zerolinecolor": "white",
           "zerolinewidth": 2
          },
          "yaxis": {
           "automargin": true,
           "gridcolor": "white",
           "linecolor": "white",
           "ticks": "",
           "title": {
            "standoff": 15
           },
           "zerolinecolor": "white",
           "zerolinewidth": 2
          }
         }
        },
        "title": {
         "text": "Accuracy of Predictions by Language, Dataset, and Column Type on DeSSI-MF"
        },
        "width": 800,
        "xaxis": {
         "anchor": "y",
         "domain": [
          0,
          0.43333333333333335
         ]
        },
        "xaxis2": {
         "anchor": "y2",
         "domain": [
          0.5,
          0.76
         ]
        },
        "xaxis3": {
         "anchor": "y3",
         "domain": [
          0.8266666666666667,
          1
         ]
        },
        "yaxis": {
         "anchor": "x",
         "domain": [
          0,
          1
         ],
         "title": {
          "text": "Accuracy"
         }
        },
        "yaxis2": {
         "anchor": "x2",
         "domain": [
          0,
          1
         ],
         "matches": "y",
         "showticklabels": false
        },
        "yaxis3": {
         "anchor": "x3",
         "domain": [
          0,
          1
         ],
         "matches": "y",
         "showticklabels": false
        }
       }
      }
     },
     "metadata": {},
     "output_type": "display_data"
    }
   ],
   "source": [
    "analyse_results(results_gpt_df_own_data, results_cassed_df_own_data, results_presidio_df_own_data)"
   ]
  },
  {
   "cell_type": "markdown",
   "metadata": {},
   "source": [
    "two languages"
   ]
  },
  {
   "cell_type": "code",
   "execution_count": 12,
   "metadata": {},
   "outputs": [
    {
     "data": {
      "application/vnd.plotly.v1+json": {
       "config": {
        "plotlyServerURL": "https://plot.ly"
       },
       "data": [
        {
         "name": "GPT-4o",
         "type": "bar",
         "x": [
          "Precision",
          "Recall",
          "F1-Score",
          "Weighted F1",
          "Macro F1",
          "Accuracy",
          "AUC-ROC"
         ],
         "y": [
          0.38095238095238093,
          1,
          0.5517241379310345,
          0.630112908147696,
          0.6032956972841013,
          0.61,
          0.743421052631579
         ]
        },
        {
         "name": "CASSED",
         "type": "bar",
         "x": [
          "Precision",
          "Recall",
          "F1-Score",
          "Weighted F1",
          "Macro F1",
          "Accuracy",
          "AUC-ROC"
         ],
         "y": [
          0.9523809523809523,
          0.8333333333333334,
          0.8888888888888888,
          0.9488172043010752,
          0.9283154121863799,
          0.95,
          0.9100877192982457
         ]
        },
        {
         "name": "Presidio",
         "type": "bar",
         "x": [
          "Precision",
          "Recall",
          "F1-Score",
          "Weighted F1",
          "Macro F1",
          "Accuracy",
          "AUC-ROC"
         ],
         "y": [
          1,
          0.5833333333333334,
          0.7368421052631579,
          0.8899285250162441,
          0.8375568551007146,
          0.9,
          0.7916666666666667
         ]
        }
       ],
       "layout": {
        "height": 400,
        "legend": {
         "title": {
          "text": "Model"
         }
        },
        "template": {
         "data": {
          "bar": [
           {
            "error_x": {
             "color": "#2a3f5f"
            },
            "error_y": {
             "color": "#2a3f5f"
            },
            "marker": {
             "line": {
              "color": "#E5ECF6",
              "width": 0.5
             },
             "pattern": {
              "fillmode": "overlay",
              "size": 10,
              "solidity": 0.2
             }
            },
            "type": "bar"
           }
          ],
          "barpolar": [
           {
            "marker": {
             "line": {
              "color": "#E5ECF6",
              "width": 0.5
             },
             "pattern": {
              "fillmode": "overlay",
              "size": 10,
              "solidity": 0.2
             }
            },
            "type": "barpolar"
           }
          ],
          "carpet": [
           {
            "aaxis": {
             "endlinecolor": "#2a3f5f",
             "gridcolor": "white",
             "linecolor": "white",
             "minorgridcolor": "white",
             "startlinecolor": "#2a3f5f"
            },
            "baxis": {
             "endlinecolor": "#2a3f5f",
             "gridcolor": "white",
             "linecolor": "white",
             "minorgridcolor": "white",
             "startlinecolor": "#2a3f5f"
            },
            "type": "carpet"
           }
          ],
          "choropleth": [
           {
            "colorbar": {
             "outlinewidth": 0,
             "ticks": ""
            },
            "type": "choropleth"
           }
          ],
          "contour": [
           {
            "colorbar": {
             "outlinewidth": 0,
             "ticks": ""
            },
            "colorscale": [
             [
              0,
              "#0d0887"
             ],
             [
              0.1111111111111111,
              "#46039f"
             ],
             [
              0.2222222222222222,
              "#7201a8"
             ],
             [
              0.3333333333333333,
              "#9c179e"
             ],
             [
              0.4444444444444444,
              "#bd3786"
             ],
             [
              0.5555555555555556,
              "#d8576b"
             ],
             [
              0.6666666666666666,
              "#ed7953"
             ],
             [
              0.7777777777777778,
              "#fb9f3a"
             ],
             [
              0.8888888888888888,
              "#fdca26"
             ],
             [
              1,
              "#f0f921"
             ]
            ],
            "type": "contour"
           }
          ],
          "contourcarpet": [
           {
            "colorbar": {
             "outlinewidth": 0,
             "ticks": ""
            },
            "type": "contourcarpet"
           }
          ],
          "heatmap": [
           {
            "colorbar": {
             "outlinewidth": 0,
             "ticks": ""
            },
            "colorscale": [
             [
              0,
              "#0d0887"
             ],
             [
              0.1111111111111111,
              "#46039f"
             ],
             [
              0.2222222222222222,
              "#7201a8"
             ],
             [
              0.3333333333333333,
              "#9c179e"
             ],
             [
              0.4444444444444444,
              "#bd3786"
             ],
             [
              0.5555555555555556,
              "#d8576b"
             ],
             [
              0.6666666666666666,
              "#ed7953"
             ],
             [
              0.7777777777777778,
              "#fb9f3a"
             ],
             [
              0.8888888888888888,
              "#fdca26"
             ],
             [
              1,
              "#f0f921"
             ]
            ],
            "type": "heatmap"
           }
          ],
          "heatmapgl": [
           {
            "colorbar": {
             "outlinewidth": 0,
             "ticks": ""
            },
            "colorscale": [
             [
              0,
              "#0d0887"
             ],
             [
              0.1111111111111111,
              "#46039f"
             ],
             [
              0.2222222222222222,
              "#7201a8"
             ],
             [
              0.3333333333333333,
              "#9c179e"
             ],
             [
              0.4444444444444444,
              "#bd3786"
             ],
             [
              0.5555555555555556,
              "#d8576b"
             ],
             [
              0.6666666666666666,
              "#ed7953"
             ],
             [
              0.7777777777777778,
              "#fb9f3a"
             ],
             [
              0.8888888888888888,
              "#fdca26"
             ],
             [
              1,
              "#f0f921"
             ]
            ],
            "type": "heatmapgl"
           }
          ],
          "histogram": [
           {
            "marker": {
             "pattern": {
              "fillmode": "overlay",
              "size": 10,
              "solidity": 0.2
             }
            },
            "type": "histogram"
           }
          ],
          "histogram2d": [
           {
            "colorbar": {
             "outlinewidth": 0,
             "ticks": ""
            },
            "colorscale": [
             [
              0,
              "#0d0887"
             ],
             [
              0.1111111111111111,
              "#46039f"
             ],
             [
              0.2222222222222222,
              "#7201a8"
             ],
             [
              0.3333333333333333,
              "#9c179e"
             ],
             [
              0.4444444444444444,
              "#bd3786"
             ],
             [
              0.5555555555555556,
              "#d8576b"
             ],
             [
              0.6666666666666666,
              "#ed7953"
             ],
             [
              0.7777777777777778,
              "#fb9f3a"
             ],
             [
              0.8888888888888888,
              "#fdca26"
             ],
             [
              1,
              "#f0f921"
             ]
            ],
            "type": "histogram2d"
           }
          ],
          "histogram2dcontour": [
           {
            "colorbar": {
             "outlinewidth": 0,
             "ticks": ""
            },
            "colorscale": [
             [
              0,
              "#0d0887"
             ],
             [
              0.1111111111111111,
              "#46039f"
             ],
             [
              0.2222222222222222,
              "#7201a8"
             ],
             [
              0.3333333333333333,
              "#9c179e"
             ],
             [
              0.4444444444444444,
              "#bd3786"
             ],
             [
              0.5555555555555556,
              "#d8576b"
             ],
             [
              0.6666666666666666,
              "#ed7953"
             ],
             [
              0.7777777777777778,
              "#fb9f3a"
             ],
             [
              0.8888888888888888,
              "#fdca26"
             ],
             [
              1,
              "#f0f921"
             ]
            ],
            "type": "histogram2dcontour"
           }
          ],
          "mesh3d": [
           {
            "colorbar": {
             "outlinewidth": 0,
             "ticks": ""
            },
            "type": "mesh3d"
           }
          ],
          "parcoords": [
           {
            "line": {
             "colorbar": {
              "outlinewidth": 0,
              "ticks": ""
             }
            },
            "type": "parcoords"
           }
          ],
          "pie": [
           {
            "automargin": true,
            "type": "pie"
           }
          ],
          "scatter": [
           {
            "fillpattern": {
             "fillmode": "overlay",
             "size": 10,
             "solidity": 0.2
            },
            "type": "scatter"
           }
          ],
          "scatter3d": [
           {
            "line": {
             "colorbar": {
              "outlinewidth": 0,
              "ticks": ""
             }
            },
            "marker": {
             "colorbar": {
              "outlinewidth": 0,
              "ticks": ""
             }
            },
            "type": "scatter3d"
           }
          ],
          "scattercarpet": [
           {
            "marker": {
             "colorbar": {
              "outlinewidth": 0,
              "ticks": ""
             }
            },
            "type": "scattercarpet"
           }
          ],
          "scattergeo": [
           {
            "marker": {
             "colorbar": {
              "outlinewidth": 0,
              "ticks": ""
             }
            },
            "type": "scattergeo"
           }
          ],
          "scattergl": [
           {
            "marker": {
             "colorbar": {
              "outlinewidth": 0,
              "ticks": ""
             }
            },
            "type": "scattergl"
           }
          ],
          "scattermapbox": [
           {
            "marker": {
             "colorbar": {
              "outlinewidth": 0,
              "ticks": ""
             }
            },
            "type": "scattermapbox"
           }
          ],
          "scatterpolar": [
           {
            "marker": {
             "colorbar": {
              "outlinewidth": 0,
              "ticks": ""
             }
            },
            "type": "scatterpolar"
           }
          ],
          "scatterpolargl": [
           {
            "marker": {
             "colorbar": {
              "outlinewidth": 0,
              "ticks": ""
             }
            },
            "type": "scatterpolargl"
           }
          ],
          "scatterternary": [
           {
            "marker": {
             "colorbar": {
              "outlinewidth": 0,
              "ticks": ""
             }
            },
            "type": "scatterternary"
           }
          ],
          "surface": [
           {
            "colorbar": {
             "outlinewidth": 0,
             "ticks": ""
            },
            "colorscale": [
             [
              0,
              "#0d0887"
             ],
             [
              0.1111111111111111,
              "#46039f"
             ],
             [
              0.2222222222222222,
              "#7201a8"
             ],
             [
              0.3333333333333333,
              "#9c179e"
             ],
             [
              0.4444444444444444,
              "#bd3786"
             ],
             [
              0.5555555555555556,
              "#d8576b"
             ],
             [
              0.6666666666666666,
              "#ed7953"
             ],
             [
              0.7777777777777778,
              "#fb9f3a"
             ],
             [
              0.8888888888888888,
              "#fdca26"
             ],
             [
              1,
              "#f0f921"
             ]
            ],
            "type": "surface"
           }
          ],
          "table": [
           {
            "cells": {
             "fill": {
              "color": "#EBF0F8"
             },
             "line": {
              "color": "white"
             }
            },
            "header": {
             "fill": {
              "color": "#C8D4E3"
             },
             "line": {
              "color": "white"
             }
            },
            "type": "table"
           }
          ]
         },
         "layout": {
          "annotationdefaults": {
           "arrowcolor": "#2a3f5f",
           "arrowhead": 0,
           "arrowwidth": 1
          },
          "autotypenumbers": "strict",
          "coloraxis": {
           "colorbar": {
            "outlinewidth": 0,
            "ticks": ""
           }
          },
          "colorscale": {
           "diverging": [
            [
             0,
             "#8e0152"
            ],
            [
             0.1,
             "#c51b7d"
            ],
            [
             0.2,
             "#de77ae"
            ],
            [
             0.3,
             "#f1b6da"
            ],
            [
             0.4,
             "#fde0ef"
            ],
            [
             0.5,
             "#f7f7f7"
            ],
            [
             0.6,
             "#e6f5d0"
            ],
            [
             0.7,
             "#b8e186"
            ],
            [
             0.8,
             "#7fbc41"
            ],
            [
             0.9,
             "#4d9221"
            ],
            [
             1,
             "#276419"
            ]
           ],
           "sequential": [
            [
             0,
             "#0d0887"
            ],
            [
             0.1111111111111111,
             "#46039f"
            ],
            [
             0.2222222222222222,
             "#7201a8"
            ],
            [
             0.3333333333333333,
             "#9c179e"
            ],
            [
             0.4444444444444444,
             "#bd3786"
            ],
            [
             0.5555555555555556,
             "#d8576b"
            ],
            [
             0.6666666666666666,
             "#ed7953"
            ],
            [
             0.7777777777777778,
             "#fb9f3a"
            ],
            [
             0.8888888888888888,
             "#fdca26"
            ],
            [
             1,
             "#f0f921"
            ]
           ],
           "sequentialminus": [
            [
             0,
             "#0d0887"
            ],
            [
             0.1111111111111111,
             "#46039f"
            ],
            [
             0.2222222222222222,
             "#7201a8"
            ],
            [
             0.3333333333333333,
             "#9c179e"
            ],
            [
             0.4444444444444444,
             "#bd3786"
            ],
            [
             0.5555555555555556,
             "#d8576b"
            ],
            [
             0.6666666666666666,
             "#ed7953"
            ],
            [
             0.7777777777777778,
             "#fb9f3a"
            ],
            [
             0.8888888888888888,
             "#fdca26"
            ],
            [
             1,
             "#f0f921"
            ]
           ]
          },
          "colorway": [
           "#636efa",
           "#EF553B",
           "#00cc96",
           "#ab63fa",
           "#FFA15A",
           "#19d3f3",
           "#FF6692",
           "#B6E880",
           "#FF97FF",
           "#FECB52"
          ],
          "font": {
           "color": "#2a3f5f"
          },
          "geo": {
           "bgcolor": "white",
           "lakecolor": "white",
           "landcolor": "#E5ECF6",
           "showlakes": true,
           "showland": true,
           "subunitcolor": "white"
          },
          "hoverlabel": {
           "align": "left"
          },
          "hovermode": "closest",
          "mapbox": {
           "style": "light"
          },
          "paper_bgcolor": "white",
          "plot_bgcolor": "#E5ECF6",
          "polar": {
           "angularaxis": {
            "gridcolor": "white",
            "linecolor": "white",
            "ticks": ""
           },
           "bgcolor": "#E5ECF6",
           "radialaxis": {
            "gridcolor": "white",
            "linecolor": "white",
            "ticks": ""
           }
          },
          "scene": {
           "xaxis": {
            "backgroundcolor": "#E5ECF6",
            "gridcolor": "white",
            "gridwidth": 2,
            "linecolor": "white",
            "showbackground": true,
            "ticks": "",
            "zerolinecolor": "white"
           },
           "yaxis": {
            "backgroundcolor": "#E5ECF6",
            "gridcolor": "white",
            "gridwidth": 2,
            "linecolor": "white",
            "showbackground": true,
            "ticks": "",
            "zerolinecolor": "white"
           },
           "zaxis": {
            "backgroundcolor": "#E5ECF6",
            "gridcolor": "white",
            "gridwidth": 2,
            "linecolor": "white",
            "showbackground": true,
            "ticks": "",
            "zerolinecolor": "white"
           }
          },
          "shapedefaults": {
           "line": {
            "color": "#2a3f5f"
           }
          },
          "ternary": {
           "aaxis": {
            "gridcolor": "white",
            "linecolor": "white",
            "ticks": ""
           },
           "baxis": {
            "gridcolor": "white",
            "linecolor": "white",
            "ticks": ""
           },
           "bgcolor": "#E5ECF6",
           "caxis": {
            "gridcolor": "white",
            "linecolor": "white",
            "ticks": ""
           }
          },
          "title": {
           "x": 0.05
          },
          "xaxis": {
           "automargin": true,
           "gridcolor": "white",
           "linecolor": "white",
           "ticks": "",
           "title": {
            "standoff": 15
           },
           "zerolinecolor": "white",
           "zerolinewidth": 2
          },
          "yaxis": {
           "automargin": true,
           "gridcolor": "white",
           "linecolor": "white",
           "ticks": "",
           "title": {
            "standoff": 15
           },
           "zerolinecolor": "white",
           "zerolinewidth": 2
          }
         }
        },
        "title": {
         "text": "Evaluation Metrics for All Three Models on Test Languages"
        },
        "width": 900,
        "xaxis": {
         "title": {
          "text": "Metric"
         }
        },
        "yaxis": {
         "range": [
          0,
          1.05
         ],
         "title": {
          "text": "Score"
         }
        }
       }
      }
     },
     "metadata": {},
     "output_type": "display_data"
    },
    {
     "data": {
      "application/vnd.plotly.v1+json": {
       "config": {
        "plotlyServerURL": "https://plot.ly"
       },
       "data": [
        {
         "colorscale": [
          [
           0,
           "rgb(247,251,255)"
          ],
          [
           0.125,
           "rgb(222,235,247)"
          ],
          [
           0.25,
           "rgb(198,219,239)"
          ],
          [
           0.375,
           "rgb(158,202,225)"
          ],
          [
           0.5,
           "rgb(107,174,214)"
          ],
          [
           0.625,
           "rgb(66,146,198)"
          ],
          [
           0.75,
           "rgb(33,113,181)"
          ],
          [
           0.875,
           "rgb(8,81,156)"
          ],
          [
           1,
           "rgb(8,48,107)"
          ]
         ],
         "showscale": false,
         "text": [
          [
           "39<br>(51.32%)",
           "37<br>(48.68%)"
          ],
          [
           "24<br>(100.00%)",
           "0<br>(0.00%)"
          ]
         ],
         "textfont": {
          "size": 14
         },
         "texttemplate": "%{text}",
         "type": "heatmap",
         "x": [
          "Pred: pii",
          "Pred: non-pii"
         ],
         "xaxis": "x",
         "y": [
          "True: non-<br>pii",
          "True:<br>pii"
         ],
         "yaxis": "y",
         "z": [
          [
           39,
           37
          ],
          [
           24,
           0
          ]
         ]
        },
        {
         "colorscale": [
          [
           0,
           "rgb(255,245,240)"
          ],
          [
           0.125,
           "rgb(254,224,210)"
          ],
          [
           0.25,
           "rgb(252,187,161)"
          ],
          [
           0.375,
           "rgb(252,146,114)"
          ],
          [
           0.5,
           "rgb(251,106,74)"
          ],
          [
           0.625,
           "rgb(239,59,44)"
          ],
          [
           0.75,
           "rgb(203,24,29)"
          ],
          [
           0.875,
           "rgb(165,15,21)"
          ],
          [
           1,
           "rgb(103,0,13)"
          ]
         ],
         "showscale": false,
         "text": [
          [
           "1<br>(1.32%)",
           "75<br>(98.68%)"
          ],
          [
           "20<br>(83.33%)",
           "4<br>(16.67%)"
          ]
         ],
         "textfont": {
          "size": 14
         },
         "texttemplate": "%{text}",
         "type": "heatmap",
         "x": [
          "Pred: pii",
          "Pred: non-pii"
         ],
         "xaxis": "x2",
         "y": [
          "True: non-<br>pii",
          "True:<br>pii"
         ],
         "yaxis": "y2",
         "z": [
          [
           1,
           75
          ],
          [
           20,
           4
          ]
         ]
        },
        {
         "colorscale": [
          [
           0,
           "rgb(247,252,245)"
          ],
          [
           0.125,
           "rgb(229,245,224)"
          ],
          [
           0.25,
           "rgb(199,233,192)"
          ],
          [
           0.375,
           "rgb(161,217,155)"
          ],
          [
           0.5,
           "rgb(116,196,118)"
          ],
          [
           0.625,
           "rgb(65,171,93)"
          ],
          [
           0.75,
           "rgb(35,139,69)"
          ],
          [
           0.875,
           "rgb(0,109,44)"
          ],
          [
           1,
           "rgb(0,68,27)"
          ]
         ],
         "showscale": false,
         "text": [
          [
           "0<br>(0.00%)",
           "76<br>(100.00%)"
          ],
          [
           "14<br>(58.33%)",
           "10<br>(41.67%)"
          ]
         ],
         "textfont": {
          "size": 14
         },
         "texttemplate": "%{text}",
         "type": "heatmap",
         "x": [
          "Pred: pii",
          "Pred: non-pii"
         ],
         "xaxis": "x3",
         "y": [
          "True: non-<br>pii",
          "True:<br>pii"
         ],
         "yaxis": "y3",
         "z": [
          [
           0,
           76
          ],
          [
           14,
           10
          ]
         ]
        }
       ],
       "layout": {
        "annotations": [
         {
          "font": {
           "size": 16
          },
          "showarrow": false,
          "text": "GPT-4o",
          "x": 0.13333333333333333,
          "xanchor": "center",
          "xref": "paper",
          "y": 1,
          "yanchor": "bottom",
          "yref": "paper"
         },
         {
          "font": {
           "size": 16
          },
          "showarrow": false,
          "text": "CASSED",
          "x": 0.5,
          "xanchor": "center",
          "xref": "paper",
          "y": 1,
          "yanchor": "bottom",
          "yref": "paper"
         },
         {
          "font": {
           "size": 16
          },
          "showarrow": false,
          "text": "Presidio",
          "x": 0.8666666666666667,
          "xanchor": "center",
          "xref": "paper",
          "y": 1,
          "yanchor": "bottom",
          "yref": "paper"
         }
        ],
        "height": 350,
        "template": {
         "data": {
          "bar": [
           {
            "error_x": {
             "color": "#2a3f5f"
            },
            "error_y": {
             "color": "#2a3f5f"
            },
            "marker": {
             "line": {
              "color": "#E5ECF6",
              "width": 0.5
             },
             "pattern": {
              "fillmode": "overlay",
              "size": 10,
              "solidity": 0.2
             }
            },
            "type": "bar"
           }
          ],
          "barpolar": [
           {
            "marker": {
             "line": {
              "color": "#E5ECF6",
              "width": 0.5
             },
             "pattern": {
              "fillmode": "overlay",
              "size": 10,
              "solidity": 0.2
             }
            },
            "type": "barpolar"
           }
          ],
          "carpet": [
           {
            "aaxis": {
             "endlinecolor": "#2a3f5f",
             "gridcolor": "white",
             "linecolor": "white",
             "minorgridcolor": "white",
             "startlinecolor": "#2a3f5f"
            },
            "baxis": {
             "endlinecolor": "#2a3f5f",
             "gridcolor": "white",
             "linecolor": "white",
             "minorgridcolor": "white",
             "startlinecolor": "#2a3f5f"
            },
            "type": "carpet"
           }
          ],
          "choropleth": [
           {
            "colorbar": {
             "outlinewidth": 0,
             "ticks": ""
            },
            "type": "choropleth"
           }
          ],
          "contour": [
           {
            "colorbar": {
             "outlinewidth": 0,
             "ticks": ""
            },
            "colorscale": [
             [
              0,
              "#0d0887"
             ],
             [
              0.1111111111111111,
              "#46039f"
             ],
             [
              0.2222222222222222,
              "#7201a8"
             ],
             [
              0.3333333333333333,
              "#9c179e"
             ],
             [
              0.4444444444444444,
              "#bd3786"
             ],
             [
              0.5555555555555556,
              "#d8576b"
             ],
             [
              0.6666666666666666,
              "#ed7953"
             ],
             [
              0.7777777777777778,
              "#fb9f3a"
             ],
             [
              0.8888888888888888,
              "#fdca26"
             ],
             [
              1,
              "#f0f921"
             ]
            ],
            "type": "contour"
           }
          ],
          "contourcarpet": [
           {
            "colorbar": {
             "outlinewidth": 0,
             "ticks": ""
            },
            "type": "contourcarpet"
           }
          ],
          "heatmap": [
           {
            "colorbar": {
             "outlinewidth": 0,
             "ticks": ""
            },
            "colorscale": [
             [
              0,
              "#0d0887"
             ],
             [
              0.1111111111111111,
              "#46039f"
             ],
             [
              0.2222222222222222,
              "#7201a8"
             ],
             [
              0.3333333333333333,
              "#9c179e"
             ],
             [
              0.4444444444444444,
              "#bd3786"
             ],
             [
              0.5555555555555556,
              "#d8576b"
             ],
             [
              0.6666666666666666,
              "#ed7953"
             ],
             [
              0.7777777777777778,
              "#fb9f3a"
             ],
             [
              0.8888888888888888,
              "#fdca26"
             ],
             [
              1,
              "#f0f921"
             ]
            ],
            "type": "heatmap"
           }
          ],
          "heatmapgl": [
           {
            "colorbar": {
             "outlinewidth": 0,
             "ticks": ""
            },
            "colorscale": [
             [
              0,
              "#0d0887"
             ],
             [
              0.1111111111111111,
              "#46039f"
             ],
             [
              0.2222222222222222,
              "#7201a8"
             ],
             [
              0.3333333333333333,
              "#9c179e"
             ],
             [
              0.4444444444444444,
              "#bd3786"
             ],
             [
              0.5555555555555556,
              "#d8576b"
             ],
             [
              0.6666666666666666,
              "#ed7953"
             ],
             [
              0.7777777777777778,
              "#fb9f3a"
             ],
             [
              0.8888888888888888,
              "#fdca26"
             ],
             [
              1,
              "#f0f921"
             ]
            ],
            "type": "heatmapgl"
           }
          ],
          "histogram": [
           {
            "marker": {
             "pattern": {
              "fillmode": "overlay",
              "size": 10,
              "solidity": 0.2
             }
            },
            "type": "histogram"
           }
          ],
          "histogram2d": [
           {
            "colorbar": {
             "outlinewidth": 0,
             "ticks": ""
            },
            "colorscale": [
             [
              0,
              "#0d0887"
             ],
             [
              0.1111111111111111,
              "#46039f"
             ],
             [
              0.2222222222222222,
              "#7201a8"
             ],
             [
              0.3333333333333333,
              "#9c179e"
             ],
             [
              0.4444444444444444,
              "#bd3786"
             ],
             [
              0.5555555555555556,
              "#d8576b"
             ],
             [
              0.6666666666666666,
              "#ed7953"
             ],
             [
              0.7777777777777778,
              "#fb9f3a"
             ],
             [
              0.8888888888888888,
              "#fdca26"
             ],
             [
              1,
              "#f0f921"
             ]
            ],
            "type": "histogram2d"
           }
          ],
          "histogram2dcontour": [
           {
            "colorbar": {
             "outlinewidth": 0,
             "ticks": ""
            },
            "colorscale": [
             [
              0,
              "#0d0887"
             ],
             [
              0.1111111111111111,
              "#46039f"
             ],
             [
              0.2222222222222222,
              "#7201a8"
             ],
             [
              0.3333333333333333,
              "#9c179e"
             ],
             [
              0.4444444444444444,
              "#bd3786"
             ],
             [
              0.5555555555555556,
              "#d8576b"
             ],
             [
              0.6666666666666666,
              "#ed7953"
             ],
             [
              0.7777777777777778,
              "#fb9f3a"
             ],
             [
              0.8888888888888888,
              "#fdca26"
             ],
             [
              1,
              "#f0f921"
             ]
            ],
            "type": "histogram2dcontour"
           }
          ],
          "mesh3d": [
           {
            "colorbar": {
             "outlinewidth": 0,
             "ticks": ""
            },
            "type": "mesh3d"
           }
          ],
          "parcoords": [
           {
            "line": {
             "colorbar": {
              "outlinewidth": 0,
              "ticks": ""
             }
            },
            "type": "parcoords"
           }
          ],
          "pie": [
           {
            "automargin": true,
            "type": "pie"
           }
          ],
          "scatter": [
           {
            "fillpattern": {
             "fillmode": "overlay",
             "size": 10,
             "solidity": 0.2
            },
            "type": "scatter"
           }
          ],
          "scatter3d": [
           {
            "line": {
             "colorbar": {
              "outlinewidth": 0,
              "ticks": ""
             }
            },
            "marker": {
             "colorbar": {
              "outlinewidth": 0,
              "ticks": ""
             }
            },
            "type": "scatter3d"
           }
          ],
          "scattercarpet": [
           {
            "marker": {
             "colorbar": {
              "outlinewidth": 0,
              "ticks": ""
             }
            },
            "type": "scattercarpet"
           }
          ],
          "scattergeo": [
           {
            "marker": {
             "colorbar": {
              "outlinewidth": 0,
              "ticks": ""
             }
            },
            "type": "scattergeo"
           }
          ],
          "scattergl": [
           {
            "marker": {
             "colorbar": {
              "outlinewidth": 0,
              "ticks": ""
             }
            },
            "type": "scattergl"
           }
          ],
          "scattermapbox": [
           {
            "marker": {
             "colorbar": {
              "outlinewidth": 0,
              "ticks": ""
             }
            },
            "type": "scattermapbox"
           }
          ],
          "scatterpolar": [
           {
            "marker": {
             "colorbar": {
              "outlinewidth": 0,
              "ticks": ""
             }
            },
            "type": "scatterpolar"
           }
          ],
          "scatterpolargl": [
           {
            "marker": {
             "colorbar": {
              "outlinewidth": 0,
              "ticks": ""
             }
            },
            "type": "scatterpolargl"
           }
          ],
          "scatterternary": [
           {
            "marker": {
             "colorbar": {
              "outlinewidth": 0,
              "ticks": ""
             }
            },
            "type": "scatterternary"
           }
          ],
          "surface": [
           {
            "colorbar": {
             "outlinewidth": 0,
             "ticks": ""
            },
            "colorscale": [
             [
              0,
              "#0d0887"
             ],
             [
              0.1111111111111111,
              "#46039f"
             ],
             [
              0.2222222222222222,
              "#7201a8"
             ],
             [
              0.3333333333333333,
              "#9c179e"
             ],
             [
              0.4444444444444444,
              "#bd3786"
             ],
             [
              0.5555555555555556,
              "#d8576b"
             ],
             [
              0.6666666666666666,
              "#ed7953"
             ],
             [
              0.7777777777777778,
              "#fb9f3a"
             ],
             [
              0.8888888888888888,
              "#fdca26"
             ],
             [
              1,
              "#f0f921"
             ]
            ],
            "type": "surface"
           }
          ],
          "table": [
           {
            "cells": {
             "fill": {
              "color": "#EBF0F8"
             },
             "line": {
              "color": "white"
             }
            },
            "header": {
             "fill": {
              "color": "#C8D4E3"
             },
             "line": {
              "color": "white"
             }
            },
            "type": "table"
           }
          ]
         },
         "layout": {
          "annotationdefaults": {
           "arrowcolor": "#2a3f5f",
           "arrowhead": 0,
           "arrowwidth": 1
          },
          "autotypenumbers": "strict",
          "coloraxis": {
           "colorbar": {
            "outlinewidth": 0,
            "ticks": ""
           }
          },
          "colorscale": {
           "diverging": [
            [
             0,
             "#8e0152"
            ],
            [
             0.1,
             "#c51b7d"
            ],
            [
             0.2,
             "#de77ae"
            ],
            [
             0.3,
             "#f1b6da"
            ],
            [
             0.4,
             "#fde0ef"
            ],
            [
             0.5,
             "#f7f7f7"
            ],
            [
             0.6,
             "#e6f5d0"
            ],
            [
             0.7,
             "#b8e186"
            ],
            [
             0.8,
             "#7fbc41"
            ],
            [
             0.9,
             "#4d9221"
            ],
            [
             1,
             "#276419"
            ]
           ],
           "sequential": [
            [
             0,
             "#0d0887"
            ],
            [
             0.1111111111111111,
             "#46039f"
            ],
            [
             0.2222222222222222,
             "#7201a8"
            ],
            [
             0.3333333333333333,
             "#9c179e"
            ],
            [
             0.4444444444444444,
             "#bd3786"
            ],
            [
             0.5555555555555556,
             "#d8576b"
            ],
            [
             0.6666666666666666,
             "#ed7953"
            ],
            [
             0.7777777777777778,
             "#fb9f3a"
            ],
            [
             0.8888888888888888,
             "#fdca26"
            ],
            [
             1,
             "#f0f921"
            ]
           ],
           "sequentialminus": [
            [
             0,
             "#0d0887"
            ],
            [
             0.1111111111111111,
             "#46039f"
            ],
            [
             0.2222222222222222,
             "#7201a8"
            ],
            [
             0.3333333333333333,
             "#9c179e"
            ],
            [
             0.4444444444444444,
             "#bd3786"
            ],
            [
             0.5555555555555556,
             "#d8576b"
            ],
            [
             0.6666666666666666,
             "#ed7953"
            ],
            [
             0.7777777777777778,
             "#fb9f3a"
            ],
            [
             0.8888888888888888,
             "#fdca26"
            ],
            [
             1,
             "#f0f921"
            ]
           ]
          },
          "colorway": [
           "#636efa",
           "#EF553B",
           "#00cc96",
           "#ab63fa",
           "#FFA15A",
           "#19d3f3",
           "#FF6692",
           "#B6E880",
           "#FF97FF",
           "#FECB52"
          ],
          "font": {
           "color": "#2a3f5f"
          },
          "geo": {
           "bgcolor": "white",
           "lakecolor": "white",
           "landcolor": "#E5ECF6",
           "showlakes": true,
           "showland": true,
           "subunitcolor": "white"
          },
          "hoverlabel": {
           "align": "left"
          },
          "hovermode": "closest",
          "mapbox": {
           "style": "light"
          },
          "paper_bgcolor": "white",
          "plot_bgcolor": "#E5ECF6",
          "polar": {
           "angularaxis": {
            "gridcolor": "white",
            "linecolor": "white",
            "ticks": ""
           },
           "bgcolor": "#E5ECF6",
           "radialaxis": {
            "gridcolor": "white",
            "linecolor": "white",
            "ticks": ""
           }
          },
          "scene": {
           "xaxis": {
            "backgroundcolor": "#E5ECF6",
            "gridcolor": "white",
            "gridwidth": 2,
            "linecolor": "white",
            "showbackground": true,
            "ticks": "",
            "zerolinecolor": "white"
           },
           "yaxis": {
            "backgroundcolor": "#E5ECF6",
            "gridcolor": "white",
            "gridwidth": 2,
            "linecolor": "white",
            "showbackground": true,
            "ticks": "",
            "zerolinecolor": "white"
           },
           "zaxis": {
            "backgroundcolor": "#E5ECF6",
            "gridcolor": "white",
            "gridwidth": 2,
            "linecolor": "white",
            "showbackground": true,
            "ticks": "",
            "zerolinecolor": "white"
           }
          },
          "shapedefaults": {
           "line": {
            "color": "#2a3f5f"
           }
          },
          "ternary": {
           "aaxis": {
            "gridcolor": "white",
            "linecolor": "white",
            "ticks": ""
           },
           "baxis": {
            "gridcolor": "white",
            "linecolor": "white",
            "ticks": ""
           },
           "bgcolor": "#E5ECF6",
           "caxis": {
            "gridcolor": "white",
            "linecolor": "white",
            "ticks": ""
           }
          },
          "title": {
           "x": 0.05
          },
          "xaxis": {
           "automargin": true,
           "gridcolor": "white",
           "linecolor": "white",
           "ticks": "",
           "title": {
            "standoff": 15
           },
           "zerolinecolor": "white",
           "zerolinewidth": 2
          },
          "yaxis": {
           "automargin": true,
           "gridcolor": "white",
           "linecolor": "white",
           "ticks": "",
           "title": {
            "standoff": 15
           },
           "zerolinecolor": "white",
           "zerolinewidth": 2
          }
         }
        },
        "title": {
         "text": "Confusion Matrix for All Three Models on Test Languages"
        },
        "width": 900,
        "xaxis": {
         "anchor": "y",
         "domain": [
          0,
          0.26666666666666666
         ]
        },
        "xaxis2": {
         "anchor": "y2",
         "domain": [
          0.3666666666666667,
          0.6333333333333333
         ]
        },
        "xaxis3": {
         "anchor": "y3",
         "domain": [
          0.7333333333333334,
          1
         ]
        },
        "yaxis": {
         "anchor": "x",
         "domain": [
          0,
          1
         ]
        },
        "yaxis2": {
         "anchor": "x2",
         "domain": [
          0,
          1
         ]
        },
        "yaxis3": {
         "anchor": "x3",
         "domain": [
          0,
          1
         ]
        }
       }
      }
     },
     "metadata": {},
     "output_type": "display_data"
    }
   ],
   "source": [
    "plot_metrics_results(results_gpt_df_test_lan, results_cassed_df_test_lan, results_presidio_df_two_languages, dataset=\"Test Languages\")"
   ]
  },
  {
   "cell_type": "code",
   "execution_count": 13,
   "metadata": {},
   "outputs": [
    {
     "data": {
      "application/vnd.plotly.v1+json": {
       "config": {
        "plotlyServerURL": "https://plot.ly"
       },
       "data": [
        {
         "legendgroup": "0",
         "marker": {
          "color": "#d62728"
         },
         "name": "italian_valid<br>column name",
         "showlegend": true,
         "type": "bar",
         "x": [
          "academic_degree",
          "address",
          "worldview",
          "color",
          "dish",
          "nationality",
          "full_name",
          "occupation",
          "first_name",
          "title",
          "last_name",
          "city",
          "company",
          "language",
          "answer",
          "political_views",
          "word",
          "drink",
          "gender",
          "phone_number",
          "url",
          "iban",
          "ssn",
          "swift",
          "email"
         ],
         "xaxis": "x",
         "y": [
          0,
          0.25,
          0,
          0.25,
          0.25,
          0,
          0.25,
          0,
          0,
          0,
          0,
          0.25,
          0.25,
          0,
          0.25,
          0,
          0.25,
          0.25,
          0,
          0.25,
          0.25,
          0.25,
          0.25,
          0.25,
          0.25
         ],
         "yaxis": "y"
        },
        {
         "legendgroup": "1",
         "marker": {
          "color": "#ff9896"
         },
         "name": "italian_invalid<br>column name",
         "showlegend": true,
         "type": "bar",
         "x": [
          "academic_degree",
          "address",
          "worldview",
          "color",
          "dish",
          "nationality",
          "full_name",
          "occupation",
          "first_name",
          "title",
          "last_name",
          "city",
          "company",
          "language",
          "answer",
          "political_views",
          "word",
          "drink",
          "gender",
          "phone_number",
          "url",
          "iban",
          "ssn",
          "swift",
          "email"
         ],
         "xaxis": "x",
         "y": [
          0,
          0.25,
          0,
          0.25,
          0.25,
          0,
          0.25,
          0,
          0,
          0,
          0,
          0.25,
          0.25,
          0,
          0.25,
          0,
          0.25,
          0.25,
          0,
          0.25,
          0.25,
          0.25,
          0.25,
          0.25,
          0.25
         ],
         "yaxis": "y"
        },
        {
         "legendgroup": "2",
         "marker": {
          "color": "#1f77b4"
         },
         "name": "chinese_valid<br>column name",
         "showlegend": true,
         "type": "bar",
         "x": [
          "occupation",
          "first_name",
          "worldview",
          "company",
          "color",
          "word",
          "last_name",
          "drink",
          "gender",
          "nationality",
          "political_views",
          "dish",
          "academic_degree",
          "answer",
          "city",
          "title",
          "address",
          "full_name",
          "language",
          "url",
          "phone_number",
          "iban",
          "ssn",
          "swift",
          "email"
         ],
         "xaxis": "x",
         "y": [
          0,
          0,
          0,
          0.25,
          0.25,
          0.25,
          0,
          0.25,
          0,
          0,
          0,
          0.25,
          0,
          0.25,
          0.25,
          0,
          0.25,
          0.25,
          0,
          0.25,
          0.25,
          0.25,
          0.25,
          0.25,
          0.25
         ],
         "yaxis": "y"
        },
        {
         "legendgroup": "3",
         "marker": {
          "color": "#aec7e8"
         },
         "name": "chinese_invalid<br>column name",
         "showlegend": true,
         "type": "bar",
         "x": [
          "occupation",
          "first_name",
          "worldview",
          "company",
          "color",
          "word",
          "last_name",
          "drink",
          "gender",
          "nationality",
          "political_views",
          "dish",
          "academic_degree",
          "answer",
          "city",
          "title",
          "address",
          "full_name",
          "language",
          "url",
          "phone_number",
          "iban",
          "ssn",
          "swift",
          "email"
         ],
         "xaxis": "x",
         "y": [
          0,
          0,
          0,
          0.25,
          0.25,
          0.25,
          0,
          0.25,
          0,
          0.25,
          0,
          0.25,
          0,
          0.25,
          0.25,
          0,
          0.25,
          0.25,
          0,
          0.25,
          0.25,
          0.25,
          0.25,
          0.25,
          0.25
         ],
         "yaxis": "y"
        },
        {
         "legendgroup": "0",
         "marker": {
          "color": "#d62728"
         },
         "name": "italian_valid<br>column name",
         "showlegend": false,
         "type": "bar",
         "x": [
          "academic_degree",
          "address",
          "worldview",
          "color",
          "dish",
          "nationality",
          "full_name",
          "occupation",
          "first_name",
          "title",
          "last_name",
          "city",
          "company",
          "language",
          "answer",
          "political_views",
          "word",
          "drink",
          "gender",
          "phone_number",
          "url",
          "iban",
          "ssn",
          "swift",
          "email"
         ],
         "xaxis": "x2",
         "y": [
          0.25,
          0.25,
          0.25,
          0.25,
          0.25,
          0.25,
          0.25,
          0.25,
          0.25,
          0.25,
          0.25,
          0.25,
          0.25,
          0.25,
          0.25,
          0.25,
          0.25,
          0.25,
          0.25,
          0.25,
          0.25,
          0.25,
          0,
          0.25,
          0.25
         ],
         "yaxis": "y2"
        },
        {
         "legendgroup": "1",
         "marker": {
          "color": "#ff9896"
         },
         "name": "italian_invalid<br>column name",
         "showlegend": false,
         "type": "bar",
         "x": [
          "academic_degree",
          "address",
          "worldview",
          "color",
          "dish",
          "nationality",
          "full_name",
          "occupation",
          "first_name",
          "title",
          "last_name",
          "city",
          "company",
          "language",
          "answer",
          "political_views",
          "word",
          "drink",
          "gender",
          "phone_number",
          "url",
          "iban",
          "ssn",
          "swift",
          "email"
         ],
         "xaxis": "x2",
         "y": [
          0.25,
          0.25,
          0.25,
          0.25,
          0.25,
          0.25,
          0.25,
          0.25,
          0.25,
          0.25,
          0.25,
          0.25,
          0,
          0.25,
          0.25,
          0.25,
          0.25,
          0.25,
          0.25,
          0.25,
          0.25,
          0.25,
          0,
          0.25,
          0.25
         ],
         "yaxis": "y2"
        },
        {
         "legendgroup": "2",
         "marker": {
          "color": "#1f77b4"
         },
         "name": "chinese_valid<br>column name",
         "showlegend": false,
         "type": "bar",
         "x": [
          "occupation",
          "first_name",
          "worldview",
          "company",
          "color",
          "word",
          "last_name",
          "drink",
          "gender",
          "nationality",
          "political_views",
          "dish",
          "academic_degree",
          "answer",
          "city",
          "title",
          "address",
          "full_name",
          "language",
          "url",
          "phone_number",
          "iban",
          "ssn",
          "swift",
          "email"
         ],
         "xaxis": "x2",
         "y": [
          0.25,
          0.25,
          0.25,
          0.25,
          0.25,
          0.25,
          0.25,
          0.25,
          0.25,
          0.25,
          0.25,
          0.25,
          0.25,
          0.25,
          0.25,
          0.25,
          0.25,
          0,
          0.25,
          0.25,
          0.25,
          0.25,
          0.25,
          0.25,
          0.25
         ],
         "yaxis": "y2"
        },
        {
         "legendgroup": "3",
         "marker": {
          "color": "#aec7e8"
         },
         "name": "chinese_invalid<br>column name",
         "showlegend": false,
         "type": "bar",
         "x": [
          "occupation",
          "first_name",
          "worldview",
          "company",
          "color",
          "word",
          "last_name",
          "drink",
          "gender",
          "nationality",
          "political_views",
          "dish",
          "academic_degree",
          "answer",
          "city",
          "title",
          "address",
          "full_name",
          "language",
          "url",
          "phone_number",
          "iban",
          "ssn",
          "swift",
          "email"
         ],
         "xaxis": "x2",
         "y": [
          0.25,
          0.25,
          0.25,
          0.25,
          0.25,
          0.25,
          0.25,
          0.25,
          0.25,
          0.25,
          0.25,
          0.25,
          0.25,
          0.25,
          0.25,
          0.25,
          0.25,
          0,
          0.25,
          0.25,
          0.25,
          0.25,
          0.25,
          0.25,
          0.25
         ],
         "yaxis": "y2"
        },
        {
         "legendgroup": "0",
         "marker": {
          "color": "#d62728"
         },
         "name": "italian_valid<br>column name",
         "showlegend": false,
         "type": "bar",
         "x": [
          "academic_degree",
          "address",
          "worldview",
          "color",
          "dish",
          "nationality",
          "full_name",
          "occupation",
          "first_name",
          "title",
          "last_name",
          "city",
          "company",
          "language",
          "answer",
          "political_views",
          "word",
          "drink",
          "gender",
          "phone_number",
          "url",
          "iban",
          "ssn",
          "swift",
          "email"
         ],
         "xaxis": "x3",
         "y": [
          0.25,
          0.25,
          0.25,
          0.25,
          0.25,
          0.25,
          0.25,
          0.25,
          0.25,
          0.25,
          0.25,
          0.25,
          0.25,
          0.25,
          0.25,
          0.25,
          0.25,
          0.25,
          0.25,
          0.25,
          0.25,
          0.25,
          0,
          0.25,
          0.25
         ],
         "yaxis": "y3"
        },
        {
         "legendgroup": "1",
         "marker": {
          "color": "#ff9896"
         },
         "name": "italian_invalid<br>column name",
         "showlegend": false,
         "type": "bar",
         "x": [
          "academic_degree",
          "address",
          "worldview",
          "color",
          "dish",
          "nationality",
          "full_name",
          "occupation",
          "first_name",
          "title",
          "last_name",
          "city",
          "company",
          "language",
          "answer",
          "political_views",
          "word",
          "drink",
          "gender",
          "phone_number",
          "url",
          "iban",
          "ssn",
          "swift",
          "email"
         ],
         "xaxis": "x3",
         "y": [
          0.25,
          0.25,
          0.25,
          0.25,
          0.25,
          0.25,
          0.25,
          0.25,
          0.25,
          0.25,
          0.25,
          0.25,
          0.25,
          0.25,
          0.25,
          0.25,
          0.25,
          0.25,
          0.25,
          0.25,
          0.25,
          0.25,
          0,
          0.25,
          0.25
         ],
         "yaxis": "y3"
        },
        {
         "legendgroup": "2",
         "marker": {
          "color": "#1f77b4"
         },
         "name": "chinese_valid<br>column name",
         "showlegend": false,
         "type": "bar",
         "x": [
          "occupation",
          "first_name",
          "worldview",
          "company",
          "color",
          "word",
          "last_name",
          "drink",
          "gender",
          "nationality",
          "political_views",
          "dish",
          "academic_degree",
          "answer",
          "city",
          "title",
          "address",
          "full_name",
          "language",
          "url",
          "phone_number",
          "iban",
          "ssn",
          "swift",
          "email"
         ],
         "xaxis": "x3",
         "y": [
          0.25,
          0.25,
          0.25,
          0.25,
          0.25,
          0.25,
          0.25,
          0.25,
          0.25,
          0.25,
          0.25,
          0.25,
          0.25,
          0.25,
          0.25,
          0.25,
          0,
          0,
          0.25,
          0.25,
          0.25,
          0,
          0,
          0.25,
          0.25
         ],
         "yaxis": "y3"
        },
        {
         "legendgroup": "3",
         "marker": {
          "color": "#aec7e8"
         },
         "name": "chinese_invalid<br>column name",
         "showlegend": false,
         "type": "bar",
         "x": [
          "occupation",
          "first_name",
          "worldview",
          "company",
          "color",
          "word",
          "last_name",
          "drink",
          "gender",
          "nationality",
          "political_views",
          "dish",
          "academic_degree",
          "answer",
          "city",
          "title",
          "address",
          "full_name",
          "language",
          "url",
          "phone_number",
          "iban",
          "ssn",
          "swift",
          "email"
         ],
         "xaxis": "x3",
         "y": [
          0.25,
          0.25,
          0.25,
          0.25,
          0.25,
          0.25,
          0.25,
          0.25,
          0.25,
          0.25,
          0.25,
          0.25,
          0.25,
          0.25,
          0.25,
          0.25,
          0,
          0,
          0.25,
          0.25,
          0.25,
          0,
          0,
          0.25,
          0.25
         ],
         "yaxis": "y3"
        }
       ],
       "layout": {
        "annotations": [
         {
          "font": {
           "size": 16
          },
          "showarrow": false,
          "text": "GPT-4o Accuracy by Class",
          "x": 0.5,
          "xanchor": "center",
          "xref": "paper",
          "y": 1,
          "yanchor": "bottom",
          "yref": "paper"
         },
         {
          "font": {
           "size": 16
          },
          "showarrow": false,
          "text": "CASSED Accuracy by Class",
          "x": 0.5,
          "xanchor": "center",
          "xref": "paper",
          "y": 0.6416666666666666,
          "yanchor": "bottom",
          "yref": "paper"
         },
         {
          "font": {
           "size": 16
          },
          "showarrow": false,
          "text": "Presidio Accuracy by Class",
          "x": 0.5,
          "xanchor": "center",
          "xref": "paper",
          "y": 0.2833333333333333,
          "yanchor": "bottom",
          "yref": "paper"
         },
         {
          "font": {
           "size": 16
          },
          "showarrow": false,
          "text": "Accuracy",
          "textangle": -90,
          "x": 0,
          "xanchor": "right",
          "xref": "paper",
          "xshift": -40,
          "y": 0.5,
          "yanchor": "middle",
          "yref": "paper"
         }
        ],
        "barmode": "stack",
        "height": 500,
        "legend": {
         "title": {
          "text": "Properties of Column"
         }
        },
        "template": {
         "data": {
          "bar": [
           {
            "error_x": {
             "color": "#2a3f5f"
            },
            "error_y": {
             "color": "#2a3f5f"
            },
            "marker": {
             "line": {
              "color": "#E5ECF6",
              "width": 0.5
             },
             "pattern": {
              "fillmode": "overlay",
              "size": 10,
              "solidity": 0.2
             }
            },
            "type": "bar"
           }
          ],
          "barpolar": [
           {
            "marker": {
             "line": {
              "color": "#E5ECF6",
              "width": 0.5
             },
             "pattern": {
              "fillmode": "overlay",
              "size": 10,
              "solidity": 0.2
             }
            },
            "type": "barpolar"
           }
          ],
          "carpet": [
           {
            "aaxis": {
             "endlinecolor": "#2a3f5f",
             "gridcolor": "white",
             "linecolor": "white",
             "minorgridcolor": "white",
             "startlinecolor": "#2a3f5f"
            },
            "baxis": {
             "endlinecolor": "#2a3f5f",
             "gridcolor": "white",
             "linecolor": "white",
             "minorgridcolor": "white",
             "startlinecolor": "#2a3f5f"
            },
            "type": "carpet"
           }
          ],
          "choropleth": [
           {
            "colorbar": {
             "outlinewidth": 0,
             "ticks": ""
            },
            "type": "choropleth"
           }
          ],
          "contour": [
           {
            "colorbar": {
             "outlinewidth": 0,
             "ticks": ""
            },
            "colorscale": [
             [
              0,
              "#0d0887"
             ],
             [
              0.1111111111111111,
              "#46039f"
             ],
             [
              0.2222222222222222,
              "#7201a8"
             ],
             [
              0.3333333333333333,
              "#9c179e"
             ],
             [
              0.4444444444444444,
              "#bd3786"
             ],
             [
              0.5555555555555556,
              "#d8576b"
             ],
             [
              0.6666666666666666,
              "#ed7953"
             ],
             [
              0.7777777777777778,
              "#fb9f3a"
             ],
             [
              0.8888888888888888,
              "#fdca26"
             ],
             [
              1,
              "#f0f921"
             ]
            ],
            "type": "contour"
           }
          ],
          "contourcarpet": [
           {
            "colorbar": {
             "outlinewidth": 0,
             "ticks": ""
            },
            "type": "contourcarpet"
           }
          ],
          "heatmap": [
           {
            "colorbar": {
             "outlinewidth": 0,
             "ticks": ""
            },
            "colorscale": [
             [
              0,
              "#0d0887"
             ],
             [
              0.1111111111111111,
              "#46039f"
             ],
             [
              0.2222222222222222,
              "#7201a8"
             ],
             [
              0.3333333333333333,
              "#9c179e"
             ],
             [
              0.4444444444444444,
              "#bd3786"
             ],
             [
              0.5555555555555556,
              "#d8576b"
             ],
             [
              0.6666666666666666,
              "#ed7953"
             ],
             [
              0.7777777777777778,
              "#fb9f3a"
             ],
             [
              0.8888888888888888,
              "#fdca26"
             ],
             [
              1,
              "#f0f921"
             ]
            ],
            "type": "heatmap"
           }
          ],
          "heatmapgl": [
           {
            "colorbar": {
             "outlinewidth": 0,
             "ticks": ""
            },
            "colorscale": [
             [
              0,
              "#0d0887"
             ],
             [
              0.1111111111111111,
              "#46039f"
             ],
             [
              0.2222222222222222,
              "#7201a8"
             ],
             [
              0.3333333333333333,
              "#9c179e"
             ],
             [
              0.4444444444444444,
              "#bd3786"
             ],
             [
              0.5555555555555556,
              "#d8576b"
             ],
             [
              0.6666666666666666,
              "#ed7953"
             ],
             [
              0.7777777777777778,
              "#fb9f3a"
             ],
             [
              0.8888888888888888,
              "#fdca26"
             ],
             [
              1,
              "#f0f921"
             ]
            ],
            "type": "heatmapgl"
           }
          ],
          "histogram": [
           {
            "marker": {
             "pattern": {
              "fillmode": "overlay",
              "size": 10,
              "solidity": 0.2
             }
            },
            "type": "histogram"
           }
          ],
          "histogram2d": [
           {
            "colorbar": {
             "outlinewidth": 0,
             "ticks": ""
            },
            "colorscale": [
             [
              0,
              "#0d0887"
             ],
             [
              0.1111111111111111,
              "#46039f"
             ],
             [
              0.2222222222222222,
              "#7201a8"
             ],
             [
              0.3333333333333333,
              "#9c179e"
             ],
             [
              0.4444444444444444,
              "#bd3786"
             ],
             [
              0.5555555555555556,
              "#d8576b"
             ],
             [
              0.6666666666666666,
              "#ed7953"
             ],
             [
              0.7777777777777778,
              "#fb9f3a"
             ],
             [
              0.8888888888888888,
              "#fdca26"
             ],
             [
              1,
              "#f0f921"
             ]
            ],
            "type": "histogram2d"
           }
          ],
          "histogram2dcontour": [
           {
            "colorbar": {
             "outlinewidth": 0,
             "ticks": ""
            },
            "colorscale": [
             [
              0,
              "#0d0887"
             ],
             [
              0.1111111111111111,
              "#46039f"
             ],
             [
              0.2222222222222222,
              "#7201a8"
             ],
             [
              0.3333333333333333,
              "#9c179e"
             ],
             [
              0.4444444444444444,
              "#bd3786"
             ],
             [
              0.5555555555555556,
              "#d8576b"
             ],
             [
              0.6666666666666666,
              "#ed7953"
             ],
             [
              0.7777777777777778,
              "#fb9f3a"
             ],
             [
              0.8888888888888888,
              "#fdca26"
             ],
             [
              1,
              "#f0f921"
             ]
            ],
            "type": "histogram2dcontour"
           }
          ],
          "mesh3d": [
           {
            "colorbar": {
             "outlinewidth": 0,
             "ticks": ""
            },
            "type": "mesh3d"
           }
          ],
          "parcoords": [
           {
            "line": {
             "colorbar": {
              "outlinewidth": 0,
              "ticks": ""
             }
            },
            "type": "parcoords"
           }
          ],
          "pie": [
           {
            "automargin": true,
            "type": "pie"
           }
          ],
          "scatter": [
           {
            "fillpattern": {
             "fillmode": "overlay",
             "size": 10,
             "solidity": 0.2
            },
            "type": "scatter"
           }
          ],
          "scatter3d": [
           {
            "line": {
             "colorbar": {
              "outlinewidth": 0,
              "ticks": ""
             }
            },
            "marker": {
             "colorbar": {
              "outlinewidth": 0,
              "ticks": ""
             }
            },
            "type": "scatter3d"
           }
          ],
          "scattercarpet": [
           {
            "marker": {
             "colorbar": {
              "outlinewidth": 0,
              "ticks": ""
             }
            },
            "type": "scattercarpet"
           }
          ],
          "scattergeo": [
           {
            "marker": {
             "colorbar": {
              "outlinewidth": 0,
              "ticks": ""
             }
            },
            "type": "scattergeo"
           }
          ],
          "scattergl": [
           {
            "marker": {
             "colorbar": {
              "outlinewidth": 0,
              "ticks": ""
             }
            },
            "type": "scattergl"
           }
          ],
          "scattermapbox": [
           {
            "marker": {
             "colorbar": {
              "outlinewidth": 0,
              "ticks": ""
             }
            },
            "type": "scattermapbox"
           }
          ],
          "scatterpolar": [
           {
            "marker": {
             "colorbar": {
              "outlinewidth": 0,
              "ticks": ""
             }
            },
            "type": "scatterpolar"
           }
          ],
          "scatterpolargl": [
           {
            "marker": {
             "colorbar": {
              "outlinewidth": 0,
              "ticks": ""
             }
            },
            "type": "scatterpolargl"
           }
          ],
          "scatterternary": [
           {
            "marker": {
             "colorbar": {
              "outlinewidth": 0,
              "ticks": ""
             }
            },
            "type": "scatterternary"
           }
          ],
          "surface": [
           {
            "colorbar": {
             "outlinewidth": 0,
             "ticks": ""
            },
            "colorscale": [
             [
              0,
              "#0d0887"
             ],
             [
              0.1111111111111111,
              "#46039f"
             ],
             [
              0.2222222222222222,
              "#7201a8"
             ],
             [
              0.3333333333333333,
              "#9c179e"
             ],
             [
              0.4444444444444444,
              "#bd3786"
             ],
             [
              0.5555555555555556,
              "#d8576b"
             ],
             [
              0.6666666666666666,
              "#ed7953"
             ],
             [
              0.7777777777777778,
              "#fb9f3a"
             ],
             [
              0.8888888888888888,
              "#fdca26"
             ],
             [
              1,
              "#f0f921"
             ]
            ],
            "type": "surface"
           }
          ],
          "table": [
           {
            "cells": {
             "fill": {
              "color": "#EBF0F8"
             },
             "line": {
              "color": "white"
             }
            },
            "header": {
             "fill": {
              "color": "#C8D4E3"
             },
             "line": {
              "color": "white"
             }
            },
            "type": "table"
           }
          ]
         },
         "layout": {
          "annotationdefaults": {
           "arrowcolor": "#2a3f5f",
           "arrowhead": 0,
           "arrowwidth": 1
          },
          "autotypenumbers": "strict",
          "coloraxis": {
           "colorbar": {
            "outlinewidth": 0,
            "ticks": ""
           }
          },
          "colorscale": {
           "diverging": [
            [
             0,
             "#8e0152"
            ],
            [
             0.1,
             "#c51b7d"
            ],
            [
             0.2,
             "#de77ae"
            ],
            [
             0.3,
             "#f1b6da"
            ],
            [
             0.4,
             "#fde0ef"
            ],
            [
             0.5,
             "#f7f7f7"
            ],
            [
             0.6,
             "#e6f5d0"
            ],
            [
             0.7,
             "#b8e186"
            ],
            [
             0.8,
             "#7fbc41"
            ],
            [
             0.9,
             "#4d9221"
            ],
            [
             1,
             "#276419"
            ]
           ],
           "sequential": [
            [
             0,
             "#0d0887"
            ],
            [
             0.1111111111111111,
             "#46039f"
            ],
            [
             0.2222222222222222,
             "#7201a8"
            ],
            [
             0.3333333333333333,
             "#9c179e"
            ],
            [
             0.4444444444444444,
             "#bd3786"
            ],
            [
             0.5555555555555556,
             "#d8576b"
            ],
            [
             0.6666666666666666,
             "#ed7953"
            ],
            [
             0.7777777777777778,
             "#fb9f3a"
            ],
            [
             0.8888888888888888,
             "#fdca26"
            ],
            [
             1,
             "#f0f921"
            ]
           ],
           "sequentialminus": [
            [
             0,
             "#0d0887"
            ],
            [
             0.1111111111111111,
             "#46039f"
            ],
            [
             0.2222222222222222,
             "#7201a8"
            ],
            [
             0.3333333333333333,
             "#9c179e"
            ],
            [
             0.4444444444444444,
             "#bd3786"
            ],
            [
             0.5555555555555556,
             "#d8576b"
            ],
            [
             0.6666666666666666,
             "#ed7953"
            ],
            [
             0.7777777777777778,
             "#fb9f3a"
            ],
            [
             0.8888888888888888,
             "#fdca26"
            ],
            [
             1,
             "#f0f921"
            ]
           ]
          },
          "colorway": [
           "#636efa",
           "#EF553B",
           "#00cc96",
           "#ab63fa",
           "#FFA15A",
           "#19d3f3",
           "#FF6692",
           "#B6E880",
           "#FF97FF",
           "#FECB52"
          ],
          "font": {
           "color": "#2a3f5f"
          },
          "geo": {
           "bgcolor": "white",
           "lakecolor": "white",
           "landcolor": "#E5ECF6",
           "showlakes": true,
           "showland": true,
           "subunitcolor": "white"
          },
          "hoverlabel": {
           "align": "left"
          },
          "hovermode": "closest",
          "mapbox": {
           "style": "light"
          },
          "paper_bgcolor": "white",
          "plot_bgcolor": "#E5ECF6",
          "polar": {
           "angularaxis": {
            "gridcolor": "white",
            "linecolor": "white",
            "ticks": ""
           },
           "bgcolor": "#E5ECF6",
           "radialaxis": {
            "gridcolor": "white",
            "linecolor": "white",
            "ticks": ""
           }
          },
          "scene": {
           "xaxis": {
            "backgroundcolor": "#E5ECF6",
            "gridcolor": "white",
            "gridwidth": 2,
            "linecolor": "white",
            "showbackground": true,
            "ticks": "",
            "zerolinecolor": "white"
           },
           "yaxis": {
            "backgroundcolor": "#E5ECF6",
            "gridcolor": "white",
            "gridwidth": 2,
            "linecolor": "white",
            "showbackground": true,
            "ticks": "",
            "zerolinecolor": "white"
           },
           "zaxis": {
            "backgroundcolor": "#E5ECF6",
            "gridcolor": "white",
            "gridwidth": 2,
            "linecolor": "white",
            "showbackground": true,
            "ticks": "",
            "zerolinecolor": "white"
           }
          },
          "shapedefaults": {
           "line": {
            "color": "#2a3f5f"
           }
          },
          "ternary": {
           "aaxis": {
            "gridcolor": "white",
            "linecolor": "white",
            "ticks": ""
           },
           "baxis": {
            "gridcolor": "white",
            "linecolor": "white",
            "ticks": ""
           },
           "bgcolor": "#E5ECF6",
           "caxis": {
            "gridcolor": "white",
            "linecolor": "white",
            "ticks": ""
           }
          },
          "title": {
           "x": 0.05
          },
          "xaxis": {
           "automargin": true,
           "gridcolor": "white",
           "linecolor": "white",
           "ticks": "",
           "title": {
            "standoff": 15
           },
           "zerolinecolor": "white",
           "zerolinewidth": 2
          },
          "yaxis": {
           "automargin": true,
           "gridcolor": "white",
           "linecolor": "white",
           "ticks": "",
           "title": {
            "standoff": 15
           },
           "zerolinecolor": "white",
           "zerolinewidth": 2
          }
         }
        },
        "title": {
         "text": "Accuracy by Semantic Class for pii Predictions on Test Languages"
        },
        "width": 1100,
        "xaxis": {
         "anchor": "y",
         "domain": [
          0,
          1
         ],
         "matches": "x3",
         "showticklabels": false
        },
        "xaxis2": {
         "anchor": "y2",
         "domain": [
          0,
          1
         ],
         "matches": "x3",
         "showticklabels": false
        },
        "xaxis3": {
         "anchor": "y3",
         "domain": [
          0,
          1
         ]
        },
        "yaxis": {
         "anchor": "x",
         "domain": [
          0.7166666666666667,
          1
         ],
         "tickvals": [
          0,
          0.25,
          0.5,
          0.75,
          1
         ]
        },
        "yaxis2": {
         "anchor": "x2",
         "domain": [
          0.35833333333333334,
          0.6416666666666666
         ],
         "tickvals": [
          0,
          0.25,
          0.5,
          0.75,
          1
         ]
        },
        "yaxis3": {
         "anchor": "x3",
         "domain": [
          0,
          0.2833333333333333
         ],
         "tickvals": [
          0,
          0.25,
          0.5,
          0.75,
          1
         ]
        }
       }
      }
     },
     "metadata": {},
     "output_type": "display_data"
    },
    {
     "data": {
      "application/vnd.plotly.v1+json": {
       "config": {
        "plotlyServerURL": "https://plot.ly"
       },
       "data": [
        {
         "legendgroup": "0",
         "marker": {
          "color": "#636efa"
         },
         "name": "GPT-4o",
         "showlegend": true,
         "type": "bar",
         "x": [
          "chinese",
          "italian"
         ],
         "xaxis": "x",
         "y": [
          0.62,
          0.6
         ],
         "yaxis": "y"
        },
        {
         "legendgroup": "0",
         "marker": {
          "color": "#636efa"
         },
         "name": "GPT-4o",
         "showlegend": false,
         "type": "bar",
         "x": [
          "faker",
          "mimesis"
         ],
         "xaxis": "x2",
         "y": [
          1,
          0.4868421052631579
         ],
         "yaxis": "y2"
        },
        {
         "legendgroup": "0",
         "marker": {
          "color": "#636efa"
         },
         "name": "GPT-4o",
         "showlegend": false,
         "type": "bar",
         "x": [
          "meaningful",
          "random generated"
         ],
         "xaxis": "x3",
         "y": [
          0.62,
          0.6
         ],
         "yaxis": "y3"
        },
        {
         "legendgroup": "1",
         "marker": {
          "color": "#EF553B"
         },
         "name": "CASSED",
         "showlegend": true,
         "type": "bar",
         "x": [
          "chinese",
          "italian"
         ],
         "xaxis": "x",
         "y": [
          0.96,
          0.94
         ],
         "yaxis": "y"
        },
        {
         "legendgroup": "1",
         "marker": {
          "color": "#EF553B"
         },
         "name": "CASSED",
         "showlegend": false,
         "type": "bar",
         "x": [
          "mimesis",
          "faker"
         ],
         "xaxis": "x2",
         "y": [
          0.9605263157894737,
          0.9166666666666666
         ],
         "yaxis": "y2"
        },
        {
         "legendgroup": "1",
         "marker": {
          "color": "#EF553B"
         },
         "name": "CASSED",
         "showlegend": false,
         "type": "bar",
         "x": [
          "meaningful",
          "random generated"
         ],
         "xaxis": "x3",
         "y": [
          0.96,
          0.94
         ],
         "yaxis": "y3"
        },
        {
         "legendgroup": "2",
         "marker": {
          "color": "#00cc96"
         },
         "name": "Presidio",
         "showlegend": true,
         "type": "bar",
         "x": [
          "italian",
          "chinese"
         ],
         "xaxis": "x",
         "y": [
          0.96,
          0.84
         ],
         "yaxis": "y"
        },
        {
         "legendgroup": "2",
         "marker": {
          "color": "#00cc96"
         },
         "name": "Presidio",
         "showlegend": false,
         "type": "bar",
         "x": [
          "mimesis",
          "faker"
         ],
         "xaxis": "x2",
         "y": [
          0.9473684210526315,
          0.75
         ],
         "yaxis": "y2"
        },
        {
         "legendgroup": "2",
         "marker": {
          "color": "#00cc96"
         },
         "name": "Presidio",
         "showlegend": false,
         "type": "bar",
         "x": [
          "meaningful",
          "random generated"
         ],
         "xaxis": "x3",
         "y": [
          0.9,
          0.9
         ],
         "yaxis": "y3"
        }
       ],
       "layout": {
        "annotations": [
         {
          "font": {
           "size": 16
          },
          "showarrow": false,
          "text": "Language",
          "x": 0.14444444444444443,
          "xanchor": "center",
          "xref": "paper",
          "y": 1,
          "yanchor": "bottom",
          "yref": "paper"
         },
         {
          "font": {
           "size": 16
          },
          "showarrow": false,
          "text": "Original Dataset",
          "x": 0.49999999999999994,
          "xanchor": "center",
          "xref": "paper",
          "y": 1,
          "yanchor": "bottom",
          "yref": "paper"
         },
         {
          "font": {
           "size": 16
          },
          "showarrow": false,
          "text": "Type of<br>Column Name",
          "x": 0.8555555555555554,
          "xanchor": "center",
          "xref": "paper",
          "y": 1,
          "yanchor": "bottom",
          "yref": "paper"
         }
        ],
        "height": 400,
        "legend": {
         "title": {
          "text": "Model"
         }
        },
        "template": {
         "data": {
          "bar": [
           {
            "error_x": {
             "color": "#2a3f5f"
            },
            "error_y": {
             "color": "#2a3f5f"
            },
            "marker": {
             "line": {
              "color": "#E5ECF6",
              "width": 0.5
             },
             "pattern": {
              "fillmode": "overlay",
              "size": 10,
              "solidity": 0.2
             }
            },
            "type": "bar"
           }
          ],
          "barpolar": [
           {
            "marker": {
             "line": {
              "color": "#E5ECF6",
              "width": 0.5
             },
             "pattern": {
              "fillmode": "overlay",
              "size": 10,
              "solidity": 0.2
             }
            },
            "type": "barpolar"
           }
          ],
          "carpet": [
           {
            "aaxis": {
             "endlinecolor": "#2a3f5f",
             "gridcolor": "white",
             "linecolor": "white",
             "minorgridcolor": "white",
             "startlinecolor": "#2a3f5f"
            },
            "baxis": {
             "endlinecolor": "#2a3f5f",
             "gridcolor": "white",
             "linecolor": "white",
             "minorgridcolor": "white",
             "startlinecolor": "#2a3f5f"
            },
            "type": "carpet"
           }
          ],
          "choropleth": [
           {
            "colorbar": {
             "outlinewidth": 0,
             "ticks": ""
            },
            "type": "choropleth"
           }
          ],
          "contour": [
           {
            "colorbar": {
             "outlinewidth": 0,
             "ticks": ""
            },
            "colorscale": [
             [
              0,
              "#0d0887"
             ],
             [
              0.1111111111111111,
              "#46039f"
             ],
             [
              0.2222222222222222,
              "#7201a8"
             ],
             [
              0.3333333333333333,
              "#9c179e"
             ],
             [
              0.4444444444444444,
              "#bd3786"
             ],
             [
              0.5555555555555556,
              "#d8576b"
             ],
             [
              0.6666666666666666,
              "#ed7953"
             ],
             [
              0.7777777777777778,
              "#fb9f3a"
             ],
             [
              0.8888888888888888,
              "#fdca26"
             ],
             [
              1,
              "#f0f921"
             ]
            ],
            "type": "contour"
           }
          ],
          "contourcarpet": [
           {
            "colorbar": {
             "outlinewidth": 0,
             "ticks": ""
            },
            "type": "contourcarpet"
           }
          ],
          "heatmap": [
           {
            "colorbar": {
             "outlinewidth": 0,
             "ticks": ""
            },
            "colorscale": [
             [
              0,
              "#0d0887"
             ],
             [
              0.1111111111111111,
              "#46039f"
             ],
             [
              0.2222222222222222,
              "#7201a8"
             ],
             [
              0.3333333333333333,
              "#9c179e"
             ],
             [
              0.4444444444444444,
              "#bd3786"
             ],
             [
              0.5555555555555556,
              "#d8576b"
             ],
             [
              0.6666666666666666,
              "#ed7953"
             ],
             [
              0.7777777777777778,
              "#fb9f3a"
             ],
             [
              0.8888888888888888,
              "#fdca26"
             ],
             [
              1,
              "#f0f921"
             ]
            ],
            "type": "heatmap"
           }
          ],
          "heatmapgl": [
           {
            "colorbar": {
             "outlinewidth": 0,
             "ticks": ""
            },
            "colorscale": [
             [
              0,
              "#0d0887"
             ],
             [
              0.1111111111111111,
              "#46039f"
             ],
             [
              0.2222222222222222,
              "#7201a8"
             ],
             [
              0.3333333333333333,
              "#9c179e"
             ],
             [
              0.4444444444444444,
              "#bd3786"
             ],
             [
              0.5555555555555556,
              "#d8576b"
             ],
             [
              0.6666666666666666,
              "#ed7953"
             ],
             [
              0.7777777777777778,
              "#fb9f3a"
             ],
             [
              0.8888888888888888,
              "#fdca26"
             ],
             [
              1,
              "#f0f921"
             ]
            ],
            "type": "heatmapgl"
           }
          ],
          "histogram": [
           {
            "marker": {
             "pattern": {
              "fillmode": "overlay",
              "size": 10,
              "solidity": 0.2
             }
            },
            "type": "histogram"
           }
          ],
          "histogram2d": [
           {
            "colorbar": {
             "outlinewidth": 0,
             "ticks": ""
            },
            "colorscale": [
             [
              0,
              "#0d0887"
             ],
             [
              0.1111111111111111,
              "#46039f"
             ],
             [
              0.2222222222222222,
              "#7201a8"
             ],
             [
              0.3333333333333333,
              "#9c179e"
             ],
             [
              0.4444444444444444,
              "#bd3786"
             ],
             [
              0.5555555555555556,
              "#d8576b"
             ],
             [
              0.6666666666666666,
              "#ed7953"
             ],
             [
              0.7777777777777778,
              "#fb9f3a"
             ],
             [
              0.8888888888888888,
              "#fdca26"
             ],
             [
              1,
              "#f0f921"
             ]
            ],
            "type": "histogram2d"
           }
          ],
          "histogram2dcontour": [
           {
            "colorbar": {
             "outlinewidth": 0,
             "ticks": ""
            },
            "colorscale": [
             [
              0,
              "#0d0887"
             ],
             [
              0.1111111111111111,
              "#46039f"
             ],
             [
              0.2222222222222222,
              "#7201a8"
             ],
             [
              0.3333333333333333,
              "#9c179e"
             ],
             [
              0.4444444444444444,
              "#bd3786"
             ],
             [
              0.5555555555555556,
              "#d8576b"
             ],
             [
              0.6666666666666666,
              "#ed7953"
             ],
             [
              0.7777777777777778,
              "#fb9f3a"
             ],
             [
              0.8888888888888888,
              "#fdca26"
             ],
             [
              1,
              "#f0f921"
             ]
            ],
            "type": "histogram2dcontour"
           }
          ],
          "mesh3d": [
           {
            "colorbar": {
             "outlinewidth": 0,
             "ticks": ""
            },
            "type": "mesh3d"
           }
          ],
          "parcoords": [
           {
            "line": {
             "colorbar": {
              "outlinewidth": 0,
              "ticks": ""
             }
            },
            "type": "parcoords"
           }
          ],
          "pie": [
           {
            "automargin": true,
            "type": "pie"
           }
          ],
          "scatter": [
           {
            "fillpattern": {
             "fillmode": "overlay",
             "size": 10,
             "solidity": 0.2
            },
            "type": "scatter"
           }
          ],
          "scatter3d": [
           {
            "line": {
             "colorbar": {
              "outlinewidth": 0,
              "ticks": ""
             }
            },
            "marker": {
             "colorbar": {
              "outlinewidth": 0,
              "ticks": ""
             }
            },
            "type": "scatter3d"
           }
          ],
          "scattercarpet": [
           {
            "marker": {
             "colorbar": {
              "outlinewidth": 0,
              "ticks": ""
             }
            },
            "type": "scattercarpet"
           }
          ],
          "scattergeo": [
           {
            "marker": {
             "colorbar": {
              "outlinewidth": 0,
              "ticks": ""
             }
            },
            "type": "scattergeo"
           }
          ],
          "scattergl": [
           {
            "marker": {
             "colorbar": {
              "outlinewidth": 0,
              "ticks": ""
             }
            },
            "type": "scattergl"
           }
          ],
          "scattermapbox": [
           {
            "marker": {
             "colorbar": {
              "outlinewidth": 0,
              "ticks": ""
             }
            },
            "type": "scattermapbox"
           }
          ],
          "scatterpolar": [
           {
            "marker": {
             "colorbar": {
              "outlinewidth": 0,
              "ticks": ""
             }
            },
            "type": "scatterpolar"
           }
          ],
          "scatterpolargl": [
           {
            "marker": {
             "colorbar": {
              "outlinewidth": 0,
              "ticks": ""
             }
            },
            "type": "scatterpolargl"
           }
          ],
          "scatterternary": [
           {
            "marker": {
             "colorbar": {
              "outlinewidth": 0,
              "ticks": ""
             }
            },
            "type": "scatterternary"
           }
          ],
          "surface": [
           {
            "colorbar": {
             "outlinewidth": 0,
             "ticks": ""
            },
            "colorscale": [
             [
              0,
              "#0d0887"
             ],
             [
              0.1111111111111111,
              "#46039f"
             ],
             [
              0.2222222222222222,
              "#7201a8"
             ],
             [
              0.3333333333333333,
              "#9c179e"
             ],
             [
              0.4444444444444444,
              "#bd3786"
             ],
             [
              0.5555555555555556,
              "#d8576b"
             ],
             [
              0.6666666666666666,
              "#ed7953"
             ],
             [
              0.7777777777777778,
              "#fb9f3a"
             ],
             [
              0.8888888888888888,
              "#fdca26"
             ],
             [
              1,
              "#f0f921"
             ]
            ],
            "type": "surface"
           }
          ],
          "table": [
           {
            "cells": {
             "fill": {
              "color": "#EBF0F8"
             },
             "line": {
              "color": "white"
             }
            },
            "header": {
             "fill": {
              "color": "#C8D4E3"
             },
             "line": {
              "color": "white"
             }
            },
            "type": "table"
           }
          ]
         },
         "layout": {
          "annotationdefaults": {
           "arrowcolor": "#2a3f5f",
           "arrowhead": 0,
           "arrowwidth": 1
          },
          "autotypenumbers": "strict",
          "coloraxis": {
           "colorbar": {
            "outlinewidth": 0,
            "ticks": ""
           }
          },
          "colorscale": {
           "diverging": [
            [
             0,
             "#8e0152"
            ],
            [
             0.1,
             "#c51b7d"
            ],
            [
             0.2,
             "#de77ae"
            ],
            [
             0.3,
             "#f1b6da"
            ],
            [
             0.4,
             "#fde0ef"
            ],
            [
             0.5,
             "#f7f7f7"
            ],
            [
             0.6,
             "#e6f5d0"
            ],
            [
             0.7,
             "#b8e186"
            ],
            [
             0.8,
             "#7fbc41"
            ],
            [
             0.9,
             "#4d9221"
            ],
            [
             1,
             "#276419"
            ]
           ],
           "sequential": [
            [
             0,
             "#0d0887"
            ],
            [
             0.1111111111111111,
             "#46039f"
            ],
            [
             0.2222222222222222,
             "#7201a8"
            ],
            [
             0.3333333333333333,
             "#9c179e"
            ],
            [
             0.4444444444444444,
             "#bd3786"
            ],
            [
             0.5555555555555556,
             "#d8576b"
            ],
            [
             0.6666666666666666,
             "#ed7953"
            ],
            [
             0.7777777777777778,
             "#fb9f3a"
            ],
            [
             0.8888888888888888,
             "#fdca26"
            ],
            [
             1,
             "#f0f921"
            ]
           ],
           "sequentialminus": [
            [
             0,
             "#0d0887"
            ],
            [
             0.1111111111111111,
             "#46039f"
            ],
            [
             0.2222222222222222,
             "#7201a8"
            ],
            [
             0.3333333333333333,
             "#9c179e"
            ],
            [
             0.4444444444444444,
             "#bd3786"
            ],
            [
             0.5555555555555556,
             "#d8576b"
            ],
            [
             0.6666666666666666,
             "#ed7953"
            ],
            [
             0.7777777777777778,
             "#fb9f3a"
            ],
            [
             0.8888888888888888,
             "#fdca26"
            ],
            [
             1,
             "#f0f921"
            ]
           ]
          },
          "colorway": [
           "#636efa",
           "#EF553B",
           "#00cc96",
           "#ab63fa",
           "#FFA15A",
           "#19d3f3",
           "#FF6692",
           "#B6E880",
           "#FF97FF",
           "#FECB52"
          ],
          "font": {
           "color": "#2a3f5f"
          },
          "geo": {
           "bgcolor": "white",
           "lakecolor": "white",
           "landcolor": "#E5ECF6",
           "showlakes": true,
           "showland": true,
           "subunitcolor": "white"
          },
          "hoverlabel": {
           "align": "left"
          },
          "hovermode": "closest",
          "mapbox": {
           "style": "light"
          },
          "paper_bgcolor": "white",
          "plot_bgcolor": "#E5ECF6",
          "polar": {
           "angularaxis": {
            "gridcolor": "white",
            "linecolor": "white",
            "ticks": ""
           },
           "bgcolor": "#E5ECF6",
           "radialaxis": {
            "gridcolor": "white",
            "linecolor": "white",
            "ticks": ""
           }
          },
          "scene": {
           "xaxis": {
            "backgroundcolor": "#E5ECF6",
            "gridcolor": "white",
            "gridwidth": 2,
            "linecolor": "white",
            "showbackground": true,
            "ticks": "",
            "zerolinecolor": "white"
           },
           "yaxis": {
            "backgroundcolor": "#E5ECF6",
            "gridcolor": "white",
            "gridwidth": 2,
            "linecolor": "white",
            "showbackground": true,
            "ticks": "",
            "zerolinecolor": "white"
           },
           "zaxis": {
            "backgroundcolor": "#E5ECF6",
            "gridcolor": "white",
            "gridwidth": 2,
            "linecolor": "white",
            "showbackground": true,
            "ticks": "",
            "zerolinecolor": "white"
           }
          },
          "shapedefaults": {
           "line": {
            "color": "#2a3f5f"
           }
          },
          "ternary": {
           "aaxis": {
            "gridcolor": "white",
            "linecolor": "white",
            "ticks": ""
           },
           "baxis": {
            "gridcolor": "white",
            "linecolor": "white",
            "ticks": ""
           },
           "bgcolor": "#E5ECF6",
           "caxis": {
            "gridcolor": "white",
            "linecolor": "white",
            "ticks": ""
           }
          },
          "title": {
           "x": 0.05
          },
          "xaxis": {
           "automargin": true,
           "gridcolor": "white",
           "linecolor": "white",
           "ticks": "",
           "title": {
            "standoff": 15
           },
           "zerolinecolor": "white",
           "zerolinewidth": 2
          },
          "yaxis": {
           "automargin": true,
           "gridcolor": "white",
           "linecolor": "white",
           "ticks": "",
           "title": {
            "standoff": 15
           },
           "zerolinecolor": "white",
           "zerolinewidth": 2
          }
         }
        },
        "title": {
         "text": "Accuracy of Predictions by Language, Dataset, and Column Type on Test Languages"
        },
        "width": 800,
        "xaxis": {
         "anchor": "y",
         "domain": [
          0,
          0.28888888888888886
         ]
        },
        "xaxis2": {
         "anchor": "y2",
         "domain": [
          0.3555555555555555,
          0.6444444444444444
         ]
        },
        "xaxis3": {
         "anchor": "y3",
         "domain": [
          0.711111111111111,
          0.9999999999999999
         ]
        },
        "yaxis": {
         "anchor": "x",
         "domain": [
          0,
          1
         ],
         "title": {
          "text": "Accuracy"
         }
        },
        "yaxis2": {
         "anchor": "x2",
         "domain": [
          0,
          1
         ],
         "matches": "y",
         "showticklabels": false
        },
        "yaxis3": {
         "anchor": "x3",
         "domain": [
          0,
          1
         ],
         "matches": "y",
         "showticklabels": false
        }
       }
      }
     },
     "metadata": {},
     "output_type": "display_data"
    }
   ],
   "source": [
    "analyse_results(results_gpt_df_test_lan, results_cassed_df_test_lan, results_presidio_df_two_languages, dataset=\"Test Languages\", width=1100, height=500, subplot_widths=[1/3,1/3,1/3], \n",
    "                ticks=[0, 0.25, 0.5, 0.75, 1.0])"
   ]
  },
  {
   "cell_type": "markdown",
   "metadata": {},
   "source": [
    "kaggle"
   ]
  },
  {
   "cell_type": "code",
   "execution_count": 14,
   "metadata": {},
   "outputs": [
    {
     "data": {
      "application/vnd.plotly.v1+json": {
       "config": {
        "plotlyServerURL": "https://plot.ly"
       },
       "data": [
        {
         "name": "GPT-4o",
         "type": "bar",
         "x": [
          "Precision",
          "Recall",
          "F1-Score",
          "Weighted F1",
          "Macro F1",
          "Accuracy",
          "AUC-ROC"
         ],
         "y": [
          0.05925925925925926,
          0.8888888888888888,
          0.1111111111111111,
          0.6131202691337257,
          0.3716475095785441,
          0.4796747967479675,
          0.6765119549929677
         ]
        },
        {
         "name": "CASSED",
         "type": "bar",
         "x": [
          "Precision",
          "Recall",
          "F1-Score",
          "Weighted F1",
          "Macro F1",
          "Accuracy",
          "AUC-ROC"
         ],
         "y": [
          0.3333333333333333,
          0.4444444444444444,
          0.38095238095238093,
          0.9507608542873417,
          0.6766757658477404,
          0.9471544715447154,
          0.7053445850914205
         ]
        },
        {
         "name": "Presidio",
         "type": "bar",
         "x": [
          "Precision",
          "Recall",
          "F1-Score",
          "Weighted F1",
          "Macro F1",
          "Accuracy",
          "AUC-ROC"
         ],
         "y": [
          0.23809523809523808,
          0.5555555555555556,
          0.3333333333333333,
          0.9339034948791046,
          0.645021645021645,
          0.9186991869918699,
          0.7440225035161744
         ]
        }
       ],
       "layout": {
        "height": 400,
        "legend": {
         "title": {
          "text": "Model"
         }
        },
        "template": {
         "data": {
          "bar": [
           {
            "error_x": {
             "color": "#2a3f5f"
            },
            "error_y": {
             "color": "#2a3f5f"
            },
            "marker": {
             "line": {
              "color": "#E5ECF6",
              "width": 0.5
             },
             "pattern": {
              "fillmode": "overlay",
              "size": 10,
              "solidity": 0.2
             }
            },
            "type": "bar"
           }
          ],
          "barpolar": [
           {
            "marker": {
             "line": {
              "color": "#E5ECF6",
              "width": 0.5
             },
             "pattern": {
              "fillmode": "overlay",
              "size": 10,
              "solidity": 0.2
             }
            },
            "type": "barpolar"
           }
          ],
          "carpet": [
           {
            "aaxis": {
             "endlinecolor": "#2a3f5f",
             "gridcolor": "white",
             "linecolor": "white",
             "minorgridcolor": "white",
             "startlinecolor": "#2a3f5f"
            },
            "baxis": {
             "endlinecolor": "#2a3f5f",
             "gridcolor": "white",
             "linecolor": "white",
             "minorgridcolor": "white",
             "startlinecolor": "#2a3f5f"
            },
            "type": "carpet"
           }
          ],
          "choropleth": [
           {
            "colorbar": {
             "outlinewidth": 0,
             "ticks": ""
            },
            "type": "choropleth"
           }
          ],
          "contour": [
           {
            "colorbar": {
             "outlinewidth": 0,
             "ticks": ""
            },
            "colorscale": [
             [
              0,
              "#0d0887"
             ],
             [
              0.1111111111111111,
              "#46039f"
             ],
             [
              0.2222222222222222,
              "#7201a8"
             ],
             [
              0.3333333333333333,
              "#9c179e"
             ],
             [
              0.4444444444444444,
              "#bd3786"
             ],
             [
              0.5555555555555556,
              "#d8576b"
             ],
             [
              0.6666666666666666,
              "#ed7953"
             ],
             [
              0.7777777777777778,
              "#fb9f3a"
             ],
             [
              0.8888888888888888,
              "#fdca26"
             ],
             [
              1,
              "#f0f921"
             ]
            ],
            "type": "contour"
           }
          ],
          "contourcarpet": [
           {
            "colorbar": {
             "outlinewidth": 0,
             "ticks": ""
            },
            "type": "contourcarpet"
           }
          ],
          "heatmap": [
           {
            "colorbar": {
             "outlinewidth": 0,
             "ticks": ""
            },
            "colorscale": [
             [
              0,
              "#0d0887"
             ],
             [
              0.1111111111111111,
              "#46039f"
             ],
             [
              0.2222222222222222,
              "#7201a8"
             ],
             [
              0.3333333333333333,
              "#9c179e"
             ],
             [
              0.4444444444444444,
              "#bd3786"
             ],
             [
              0.5555555555555556,
              "#d8576b"
             ],
             [
              0.6666666666666666,
              "#ed7953"
             ],
             [
              0.7777777777777778,
              "#fb9f3a"
             ],
             [
              0.8888888888888888,
              "#fdca26"
             ],
             [
              1,
              "#f0f921"
             ]
            ],
            "type": "heatmap"
           }
          ],
          "heatmapgl": [
           {
            "colorbar": {
             "outlinewidth": 0,
             "ticks": ""
            },
            "colorscale": [
             [
              0,
              "#0d0887"
             ],
             [
              0.1111111111111111,
              "#46039f"
             ],
             [
              0.2222222222222222,
              "#7201a8"
             ],
             [
              0.3333333333333333,
              "#9c179e"
             ],
             [
              0.4444444444444444,
              "#bd3786"
             ],
             [
              0.5555555555555556,
              "#d8576b"
             ],
             [
              0.6666666666666666,
              "#ed7953"
             ],
             [
              0.7777777777777778,
              "#fb9f3a"
             ],
             [
              0.8888888888888888,
              "#fdca26"
             ],
             [
              1,
              "#f0f921"
             ]
            ],
            "type": "heatmapgl"
           }
          ],
          "histogram": [
           {
            "marker": {
             "pattern": {
              "fillmode": "overlay",
              "size": 10,
              "solidity": 0.2
             }
            },
            "type": "histogram"
           }
          ],
          "histogram2d": [
           {
            "colorbar": {
             "outlinewidth": 0,
             "ticks": ""
            },
            "colorscale": [
             [
              0,
              "#0d0887"
             ],
             [
              0.1111111111111111,
              "#46039f"
             ],
             [
              0.2222222222222222,
              "#7201a8"
             ],
             [
              0.3333333333333333,
              "#9c179e"
             ],
             [
              0.4444444444444444,
              "#bd3786"
             ],
             [
              0.5555555555555556,
              "#d8576b"
             ],
             [
              0.6666666666666666,
              "#ed7953"
             ],
             [
              0.7777777777777778,
              "#fb9f3a"
             ],
             [
              0.8888888888888888,
              "#fdca26"
             ],
             [
              1,
              "#f0f921"
             ]
            ],
            "type": "histogram2d"
           }
          ],
          "histogram2dcontour": [
           {
            "colorbar": {
             "outlinewidth": 0,
             "ticks": ""
            },
            "colorscale": [
             [
              0,
              "#0d0887"
             ],
             [
              0.1111111111111111,
              "#46039f"
             ],
             [
              0.2222222222222222,
              "#7201a8"
             ],
             [
              0.3333333333333333,
              "#9c179e"
             ],
             [
              0.4444444444444444,
              "#bd3786"
             ],
             [
              0.5555555555555556,
              "#d8576b"
             ],
             [
              0.6666666666666666,
              "#ed7953"
             ],
             [
              0.7777777777777778,
              "#fb9f3a"
             ],
             [
              0.8888888888888888,
              "#fdca26"
             ],
             [
              1,
              "#f0f921"
             ]
            ],
            "type": "histogram2dcontour"
           }
          ],
          "mesh3d": [
           {
            "colorbar": {
             "outlinewidth": 0,
             "ticks": ""
            },
            "type": "mesh3d"
           }
          ],
          "parcoords": [
           {
            "line": {
             "colorbar": {
              "outlinewidth": 0,
              "ticks": ""
             }
            },
            "type": "parcoords"
           }
          ],
          "pie": [
           {
            "automargin": true,
            "type": "pie"
           }
          ],
          "scatter": [
           {
            "fillpattern": {
             "fillmode": "overlay",
             "size": 10,
             "solidity": 0.2
            },
            "type": "scatter"
           }
          ],
          "scatter3d": [
           {
            "line": {
             "colorbar": {
              "outlinewidth": 0,
              "ticks": ""
             }
            },
            "marker": {
             "colorbar": {
              "outlinewidth": 0,
              "ticks": ""
             }
            },
            "type": "scatter3d"
           }
          ],
          "scattercarpet": [
           {
            "marker": {
             "colorbar": {
              "outlinewidth": 0,
              "ticks": ""
             }
            },
            "type": "scattercarpet"
           }
          ],
          "scattergeo": [
           {
            "marker": {
             "colorbar": {
              "outlinewidth": 0,
              "ticks": ""
             }
            },
            "type": "scattergeo"
           }
          ],
          "scattergl": [
           {
            "marker": {
             "colorbar": {
              "outlinewidth": 0,
              "ticks": ""
             }
            },
            "type": "scattergl"
           }
          ],
          "scattermapbox": [
           {
            "marker": {
             "colorbar": {
              "outlinewidth": 0,
              "ticks": ""
             }
            },
            "type": "scattermapbox"
           }
          ],
          "scatterpolar": [
           {
            "marker": {
             "colorbar": {
              "outlinewidth": 0,
              "ticks": ""
             }
            },
            "type": "scatterpolar"
           }
          ],
          "scatterpolargl": [
           {
            "marker": {
             "colorbar": {
              "outlinewidth": 0,
              "ticks": ""
             }
            },
            "type": "scatterpolargl"
           }
          ],
          "scatterternary": [
           {
            "marker": {
             "colorbar": {
              "outlinewidth": 0,
              "ticks": ""
             }
            },
            "type": "scatterternary"
           }
          ],
          "surface": [
           {
            "colorbar": {
             "outlinewidth": 0,
             "ticks": ""
            },
            "colorscale": [
             [
              0,
              "#0d0887"
             ],
             [
              0.1111111111111111,
              "#46039f"
             ],
             [
              0.2222222222222222,
              "#7201a8"
             ],
             [
              0.3333333333333333,
              "#9c179e"
             ],
             [
              0.4444444444444444,
              "#bd3786"
             ],
             [
              0.5555555555555556,
              "#d8576b"
             ],
             [
              0.6666666666666666,
              "#ed7953"
             ],
             [
              0.7777777777777778,
              "#fb9f3a"
             ],
             [
              0.8888888888888888,
              "#fdca26"
             ],
             [
              1,
              "#f0f921"
             ]
            ],
            "type": "surface"
           }
          ],
          "table": [
           {
            "cells": {
             "fill": {
              "color": "#EBF0F8"
             },
             "line": {
              "color": "white"
             }
            },
            "header": {
             "fill": {
              "color": "#C8D4E3"
             },
             "line": {
              "color": "white"
             }
            },
            "type": "table"
           }
          ]
         },
         "layout": {
          "annotationdefaults": {
           "arrowcolor": "#2a3f5f",
           "arrowhead": 0,
           "arrowwidth": 1
          },
          "autotypenumbers": "strict",
          "coloraxis": {
           "colorbar": {
            "outlinewidth": 0,
            "ticks": ""
           }
          },
          "colorscale": {
           "diverging": [
            [
             0,
             "#8e0152"
            ],
            [
             0.1,
             "#c51b7d"
            ],
            [
             0.2,
             "#de77ae"
            ],
            [
             0.3,
             "#f1b6da"
            ],
            [
             0.4,
             "#fde0ef"
            ],
            [
             0.5,
             "#f7f7f7"
            ],
            [
             0.6,
             "#e6f5d0"
            ],
            [
             0.7,
             "#b8e186"
            ],
            [
             0.8,
             "#7fbc41"
            ],
            [
             0.9,
             "#4d9221"
            ],
            [
             1,
             "#276419"
            ]
           ],
           "sequential": [
            [
             0,
             "#0d0887"
            ],
            [
             0.1111111111111111,
             "#46039f"
            ],
            [
             0.2222222222222222,
             "#7201a8"
            ],
            [
             0.3333333333333333,
             "#9c179e"
            ],
            [
             0.4444444444444444,
             "#bd3786"
            ],
            [
             0.5555555555555556,
             "#d8576b"
            ],
            [
             0.6666666666666666,
             "#ed7953"
            ],
            [
             0.7777777777777778,
             "#fb9f3a"
            ],
            [
             0.8888888888888888,
             "#fdca26"
            ],
            [
             1,
             "#f0f921"
            ]
           ],
           "sequentialminus": [
            [
             0,
             "#0d0887"
            ],
            [
             0.1111111111111111,
             "#46039f"
            ],
            [
             0.2222222222222222,
             "#7201a8"
            ],
            [
             0.3333333333333333,
             "#9c179e"
            ],
            [
             0.4444444444444444,
             "#bd3786"
            ],
            [
             0.5555555555555556,
             "#d8576b"
            ],
            [
             0.6666666666666666,
             "#ed7953"
            ],
            [
             0.7777777777777778,
             "#fb9f3a"
            ],
            [
             0.8888888888888888,
             "#fdca26"
            ],
            [
             1,
             "#f0f921"
            ]
           ]
          },
          "colorway": [
           "#636efa",
           "#EF553B",
           "#00cc96",
           "#ab63fa",
           "#FFA15A",
           "#19d3f3",
           "#FF6692",
           "#B6E880",
           "#FF97FF",
           "#FECB52"
          ],
          "font": {
           "color": "#2a3f5f"
          },
          "geo": {
           "bgcolor": "white",
           "lakecolor": "white",
           "landcolor": "#E5ECF6",
           "showlakes": true,
           "showland": true,
           "subunitcolor": "white"
          },
          "hoverlabel": {
           "align": "left"
          },
          "hovermode": "closest",
          "mapbox": {
           "style": "light"
          },
          "paper_bgcolor": "white",
          "plot_bgcolor": "#E5ECF6",
          "polar": {
           "angularaxis": {
            "gridcolor": "white",
            "linecolor": "white",
            "ticks": ""
           },
           "bgcolor": "#E5ECF6",
           "radialaxis": {
            "gridcolor": "white",
            "linecolor": "white",
            "ticks": ""
           }
          },
          "scene": {
           "xaxis": {
            "backgroundcolor": "#E5ECF6",
            "gridcolor": "white",
            "gridwidth": 2,
            "linecolor": "white",
            "showbackground": true,
            "ticks": "",
            "zerolinecolor": "white"
           },
           "yaxis": {
            "backgroundcolor": "#E5ECF6",
            "gridcolor": "white",
            "gridwidth": 2,
            "linecolor": "white",
            "showbackground": true,
            "ticks": "",
            "zerolinecolor": "white"
           },
           "zaxis": {
            "backgroundcolor": "#E5ECF6",
            "gridcolor": "white",
            "gridwidth": 2,
            "linecolor": "white",
            "showbackground": true,
            "ticks": "",
            "zerolinecolor": "white"
           }
          },
          "shapedefaults": {
           "line": {
            "color": "#2a3f5f"
           }
          },
          "ternary": {
           "aaxis": {
            "gridcolor": "white",
            "linecolor": "white",
            "ticks": ""
           },
           "baxis": {
            "gridcolor": "white",
            "linecolor": "white",
            "ticks": ""
           },
           "bgcolor": "#E5ECF6",
           "caxis": {
            "gridcolor": "white",
            "linecolor": "white",
            "ticks": ""
           }
          },
          "title": {
           "x": 0.05
          },
          "xaxis": {
           "automargin": true,
           "gridcolor": "white",
           "linecolor": "white",
           "ticks": "",
           "title": {
            "standoff": 15
           },
           "zerolinecolor": "white",
           "zerolinewidth": 2
          },
          "yaxis": {
           "automargin": true,
           "gridcolor": "white",
           "linecolor": "white",
           "ticks": "",
           "title": {
            "standoff": 15
           },
           "zerolinecolor": "white",
           "zerolinewidth": 2
          }
         }
        },
        "title": {
         "text": "Evaluation Metrics for All Three Models on Kaggle Data"
        },
        "width": 900,
        "xaxis": {
         "title": {
          "text": "Metric"
         }
        },
        "yaxis": {
         "range": [
          0,
          1.05
         ],
         "title": {
          "text": "Score"
         }
        }
       }
      }
     },
     "metadata": {},
     "output_type": "display_data"
    },
    {
     "data": {
      "application/vnd.plotly.v1+json": {
       "config": {
        "plotlyServerURL": "https://plot.ly"
       },
       "data": [
        {
         "colorscale": [
          [
           0,
           "rgb(247,251,255)"
          ],
          [
           0.125,
           "rgb(222,235,247)"
          ],
          [
           0.25,
           "rgb(198,219,239)"
          ],
          [
           0.375,
           "rgb(158,202,225)"
          ],
          [
           0.5,
           "rgb(107,174,214)"
          ],
          [
           0.625,
           "rgb(66,146,198)"
          ],
          [
           0.75,
           "rgb(33,113,181)"
          ],
          [
           0.875,
           "rgb(8,81,156)"
          ],
          [
           1,
           "rgb(8,48,107)"
          ]
         ],
         "showscale": false,
         "text": [
          [
           "127<br>(53.59%)",
           "110<br>(46.41%)"
          ],
          [
           "8<br>(88.89%)",
           "1<br>(11.11%)"
          ]
         ],
         "textfont": {
          "size": 14
         },
         "texttemplate": "%{text}",
         "type": "heatmap",
         "x": [
          "Pred: pii",
          "Pred: non-pii"
         ],
         "xaxis": "x",
         "y": [
          "True: non-<br>pii",
          "True:<br>pii"
         ],
         "yaxis": "y",
         "z": [
          [
           127,
           110
          ],
          [
           8,
           1
          ]
         ]
        },
        {
         "colorscale": [
          [
           0,
           "rgb(255,245,240)"
          ],
          [
           0.125,
           "rgb(254,224,210)"
          ],
          [
           0.25,
           "rgb(252,187,161)"
          ],
          [
           0.375,
           "rgb(252,146,114)"
          ],
          [
           0.5,
           "rgb(251,106,74)"
          ],
          [
           0.625,
           "rgb(239,59,44)"
          ],
          [
           0.75,
           "rgb(203,24,29)"
          ],
          [
           0.875,
           "rgb(165,15,21)"
          ],
          [
           1,
           "rgb(103,0,13)"
          ]
         ],
         "showscale": false,
         "text": [
          [
           "8<br>(3.38%)",
           "229<br>(96.62%)"
          ],
          [
           "4<br>(44.44%)",
           "5<br>(55.56%)"
          ]
         ],
         "textfont": {
          "size": 14
         },
         "texttemplate": "%{text}",
         "type": "heatmap",
         "x": [
          "Pred: pii",
          "Pred: non-pii"
         ],
         "xaxis": "x2",
         "y": [
          "True: non-<br>pii",
          "True:<br>pii"
         ],
         "yaxis": "y2",
         "z": [
          [
           8,
           229
          ],
          [
           4,
           5
          ]
         ]
        },
        {
         "colorscale": [
          [
           0,
           "rgb(247,252,245)"
          ],
          [
           0.125,
           "rgb(229,245,224)"
          ],
          [
           0.25,
           "rgb(199,233,192)"
          ],
          [
           0.375,
           "rgb(161,217,155)"
          ],
          [
           0.5,
           "rgb(116,196,118)"
          ],
          [
           0.625,
           "rgb(65,171,93)"
          ],
          [
           0.75,
           "rgb(35,139,69)"
          ],
          [
           0.875,
           "rgb(0,109,44)"
          ],
          [
           1,
           "rgb(0,68,27)"
          ]
         ],
         "showscale": false,
         "text": [
          [
           "16<br>(6.75%)",
           "221<br>(93.25%)"
          ],
          [
           "5<br>(55.56%)",
           "4<br>(44.44%)"
          ]
         ],
         "textfont": {
          "size": 14
         },
         "texttemplate": "%{text}",
         "type": "heatmap",
         "x": [
          "Pred: pii",
          "Pred: non-pii"
         ],
         "xaxis": "x3",
         "y": [
          "True: non-<br>pii",
          "True:<br>pii"
         ],
         "yaxis": "y3",
         "z": [
          [
           16,
           221
          ],
          [
           5,
           4
          ]
         ]
        }
       ],
       "layout": {
        "annotations": [
         {
          "font": {
           "size": 16
          },
          "showarrow": false,
          "text": "GPT-4o",
          "x": 0.13333333333333333,
          "xanchor": "center",
          "xref": "paper",
          "y": 1,
          "yanchor": "bottom",
          "yref": "paper"
         },
         {
          "font": {
           "size": 16
          },
          "showarrow": false,
          "text": "CASSED",
          "x": 0.5,
          "xanchor": "center",
          "xref": "paper",
          "y": 1,
          "yanchor": "bottom",
          "yref": "paper"
         },
         {
          "font": {
           "size": 16
          },
          "showarrow": false,
          "text": "Presidio",
          "x": 0.8666666666666667,
          "xanchor": "center",
          "xref": "paper",
          "y": 1,
          "yanchor": "bottom",
          "yref": "paper"
         }
        ],
        "height": 350,
        "template": {
         "data": {
          "bar": [
           {
            "error_x": {
             "color": "#2a3f5f"
            },
            "error_y": {
             "color": "#2a3f5f"
            },
            "marker": {
             "line": {
              "color": "#E5ECF6",
              "width": 0.5
             },
             "pattern": {
              "fillmode": "overlay",
              "size": 10,
              "solidity": 0.2
             }
            },
            "type": "bar"
           }
          ],
          "barpolar": [
           {
            "marker": {
             "line": {
              "color": "#E5ECF6",
              "width": 0.5
             },
             "pattern": {
              "fillmode": "overlay",
              "size": 10,
              "solidity": 0.2
             }
            },
            "type": "barpolar"
           }
          ],
          "carpet": [
           {
            "aaxis": {
             "endlinecolor": "#2a3f5f",
             "gridcolor": "white",
             "linecolor": "white",
             "minorgridcolor": "white",
             "startlinecolor": "#2a3f5f"
            },
            "baxis": {
             "endlinecolor": "#2a3f5f",
             "gridcolor": "white",
             "linecolor": "white",
             "minorgridcolor": "white",
             "startlinecolor": "#2a3f5f"
            },
            "type": "carpet"
           }
          ],
          "choropleth": [
           {
            "colorbar": {
             "outlinewidth": 0,
             "ticks": ""
            },
            "type": "choropleth"
           }
          ],
          "contour": [
           {
            "colorbar": {
             "outlinewidth": 0,
             "ticks": ""
            },
            "colorscale": [
             [
              0,
              "#0d0887"
             ],
             [
              0.1111111111111111,
              "#46039f"
             ],
             [
              0.2222222222222222,
              "#7201a8"
             ],
             [
              0.3333333333333333,
              "#9c179e"
             ],
             [
              0.4444444444444444,
              "#bd3786"
             ],
             [
              0.5555555555555556,
              "#d8576b"
             ],
             [
              0.6666666666666666,
              "#ed7953"
             ],
             [
              0.7777777777777778,
              "#fb9f3a"
             ],
             [
              0.8888888888888888,
              "#fdca26"
             ],
             [
              1,
              "#f0f921"
             ]
            ],
            "type": "contour"
           }
          ],
          "contourcarpet": [
           {
            "colorbar": {
             "outlinewidth": 0,
             "ticks": ""
            },
            "type": "contourcarpet"
           }
          ],
          "heatmap": [
           {
            "colorbar": {
             "outlinewidth": 0,
             "ticks": ""
            },
            "colorscale": [
             [
              0,
              "#0d0887"
             ],
             [
              0.1111111111111111,
              "#46039f"
             ],
             [
              0.2222222222222222,
              "#7201a8"
             ],
             [
              0.3333333333333333,
              "#9c179e"
             ],
             [
              0.4444444444444444,
              "#bd3786"
             ],
             [
              0.5555555555555556,
              "#d8576b"
             ],
             [
              0.6666666666666666,
              "#ed7953"
             ],
             [
              0.7777777777777778,
              "#fb9f3a"
             ],
             [
              0.8888888888888888,
              "#fdca26"
             ],
             [
              1,
              "#f0f921"
             ]
            ],
            "type": "heatmap"
           }
          ],
          "heatmapgl": [
           {
            "colorbar": {
             "outlinewidth": 0,
             "ticks": ""
            },
            "colorscale": [
             [
              0,
              "#0d0887"
             ],
             [
              0.1111111111111111,
              "#46039f"
             ],
             [
              0.2222222222222222,
              "#7201a8"
             ],
             [
              0.3333333333333333,
              "#9c179e"
             ],
             [
              0.4444444444444444,
              "#bd3786"
             ],
             [
              0.5555555555555556,
              "#d8576b"
             ],
             [
              0.6666666666666666,
              "#ed7953"
             ],
             [
              0.7777777777777778,
              "#fb9f3a"
             ],
             [
              0.8888888888888888,
              "#fdca26"
             ],
             [
              1,
              "#f0f921"
             ]
            ],
            "type": "heatmapgl"
           }
          ],
          "histogram": [
           {
            "marker": {
             "pattern": {
              "fillmode": "overlay",
              "size": 10,
              "solidity": 0.2
             }
            },
            "type": "histogram"
           }
          ],
          "histogram2d": [
           {
            "colorbar": {
             "outlinewidth": 0,
             "ticks": ""
            },
            "colorscale": [
             [
              0,
              "#0d0887"
             ],
             [
              0.1111111111111111,
              "#46039f"
             ],
             [
              0.2222222222222222,
              "#7201a8"
             ],
             [
              0.3333333333333333,
              "#9c179e"
             ],
             [
              0.4444444444444444,
              "#bd3786"
             ],
             [
              0.5555555555555556,
              "#d8576b"
             ],
             [
              0.6666666666666666,
              "#ed7953"
             ],
             [
              0.7777777777777778,
              "#fb9f3a"
             ],
             [
              0.8888888888888888,
              "#fdca26"
             ],
             [
              1,
              "#f0f921"
             ]
            ],
            "type": "histogram2d"
           }
          ],
          "histogram2dcontour": [
           {
            "colorbar": {
             "outlinewidth": 0,
             "ticks": ""
            },
            "colorscale": [
             [
              0,
              "#0d0887"
             ],
             [
              0.1111111111111111,
              "#46039f"
             ],
             [
              0.2222222222222222,
              "#7201a8"
             ],
             [
              0.3333333333333333,
              "#9c179e"
             ],
             [
              0.4444444444444444,
              "#bd3786"
             ],
             [
              0.5555555555555556,
              "#d8576b"
             ],
             [
              0.6666666666666666,
              "#ed7953"
             ],
             [
              0.7777777777777778,
              "#fb9f3a"
             ],
             [
              0.8888888888888888,
              "#fdca26"
             ],
             [
              1,
              "#f0f921"
             ]
            ],
            "type": "histogram2dcontour"
           }
          ],
          "mesh3d": [
           {
            "colorbar": {
             "outlinewidth": 0,
             "ticks": ""
            },
            "type": "mesh3d"
           }
          ],
          "parcoords": [
           {
            "line": {
             "colorbar": {
              "outlinewidth": 0,
              "ticks": ""
             }
            },
            "type": "parcoords"
           }
          ],
          "pie": [
           {
            "automargin": true,
            "type": "pie"
           }
          ],
          "scatter": [
           {
            "fillpattern": {
             "fillmode": "overlay",
             "size": 10,
             "solidity": 0.2
            },
            "type": "scatter"
           }
          ],
          "scatter3d": [
           {
            "line": {
             "colorbar": {
              "outlinewidth": 0,
              "ticks": ""
             }
            },
            "marker": {
             "colorbar": {
              "outlinewidth": 0,
              "ticks": ""
             }
            },
            "type": "scatter3d"
           }
          ],
          "scattercarpet": [
           {
            "marker": {
             "colorbar": {
              "outlinewidth": 0,
              "ticks": ""
             }
            },
            "type": "scattercarpet"
           }
          ],
          "scattergeo": [
           {
            "marker": {
             "colorbar": {
              "outlinewidth": 0,
              "ticks": ""
             }
            },
            "type": "scattergeo"
           }
          ],
          "scattergl": [
           {
            "marker": {
             "colorbar": {
              "outlinewidth": 0,
              "ticks": ""
             }
            },
            "type": "scattergl"
           }
          ],
          "scattermapbox": [
           {
            "marker": {
             "colorbar": {
              "outlinewidth": 0,
              "ticks": ""
             }
            },
            "type": "scattermapbox"
           }
          ],
          "scatterpolar": [
           {
            "marker": {
             "colorbar": {
              "outlinewidth": 0,
              "ticks": ""
             }
            },
            "type": "scatterpolar"
           }
          ],
          "scatterpolargl": [
           {
            "marker": {
             "colorbar": {
              "outlinewidth": 0,
              "ticks": ""
             }
            },
            "type": "scatterpolargl"
           }
          ],
          "scatterternary": [
           {
            "marker": {
             "colorbar": {
              "outlinewidth": 0,
              "ticks": ""
             }
            },
            "type": "scatterternary"
           }
          ],
          "surface": [
           {
            "colorbar": {
             "outlinewidth": 0,
             "ticks": ""
            },
            "colorscale": [
             [
              0,
              "#0d0887"
             ],
             [
              0.1111111111111111,
              "#46039f"
             ],
             [
              0.2222222222222222,
              "#7201a8"
             ],
             [
              0.3333333333333333,
              "#9c179e"
             ],
             [
              0.4444444444444444,
              "#bd3786"
             ],
             [
              0.5555555555555556,
              "#d8576b"
             ],
             [
              0.6666666666666666,
              "#ed7953"
             ],
             [
              0.7777777777777778,
              "#fb9f3a"
             ],
             [
              0.8888888888888888,
              "#fdca26"
             ],
             [
              1,
              "#f0f921"
             ]
            ],
            "type": "surface"
           }
          ],
          "table": [
           {
            "cells": {
             "fill": {
              "color": "#EBF0F8"
             },
             "line": {
              "color": "white"
             }
            },
            "header": {
             "fill": {
              "color": "#C8D4E3"
             },
             "line": {
              "color": "white"
             }
            },
            "type": "table"
           }
          ]
         },
         "layout": {
          "annotationdefaults": {
           "arrowcolor": "#2a3f5f",
           "arrowhead": 0,
           "arrowwidth": 1
          },
          "autotypenumbers": "strict",
          "coloraxis": {
           "colorbar": {
            "outlinewidth": 0,
            "ticks": ""
           }
          },
          "colorscale": {
           "diverging": [
            [
             0,
             "#8e0152"
            ],
            [
             0.1,
             "#c51b7d"
            ],
            [
             0.2,
             "#de77ae"
            ],
            [
             0.3,
             "#f1b6da"
            ],
            [
             0.4,
             "#fde0ef"
            ],
            [
             0.5,
             "#f7f7f7"
            ],
            [
             0.6,
             "#e6f5d0"
            ],
            [
             0.7,
             "#b8e186"
            ],
            [
             0.8,
             "#7fbc41"
            ],
            [
             0.9,
             "#4d9221"
            ],
            [
             1,
             "#276419"
            ]
           ],
           "sequential": [
            [
             0,
             "#0d0887"
            ],
            [
             0.1111111111111111,
             "#46039f"
            ],
            [
             0.2222222222222222,
             "#7201a8"
            ],
            [
             0.3333333333333333,
             "#9c179e"
            ],
            [
             0.4444444444444444,
             "#bd3786"
            ],
            [
             0.5555555555555556,
             "#d8576b"
            ],
            [
             0.6666666666666666,
             "#ed7953"
            ],
            [
             0.7777777777777778,
             "#fb9f3a"
            ],
            [
             0.8888888888888888,
             "#fdca26"
            ],
            [
             1,
             "#f0f921"
            ]
           ],
           "sequentialminus": [
            [
             0,
             "#0d0887"
            ],
            [
             0.1111111111111111,
             "#46039f"
            ],
            [
             0.2222222222222222,
             "#7201a8"
            ],
            [
             0.3333333333333333,
             "#9c179e"
            ],
            [
             0.4444444444444444,
             "#bd3786"
            ],
            [
             0.5555555555555556,
             "#d8576b"
            ],
            [
             0.6666666666666666,
             "#ed7953"
            ],
            [
             0.7777777777777778,
             "#fb9f3a"
            ],
            [
             0.8888888888888888,
             "#fdca26"
            ],
            [
             1,
             "#f0f921"
            ]
           ]
          },
          "colorway": [
           "#636efa",
           "#EF553B",
           "#00cc96",
           "#ab63fa",
           "#FFA15A",
           "#19d3f3",
           "#FF6692",
           "#B6E880",
           "#FF97FF",
           "#FECB52"
          ],
          "font": {
           "color": "#2a3f5f"
          },
          "geo": {
           "bgcolor": "white",
           "lakecolor": "white",
           "landcolor": "#E5ECF6",
           "showlakes": true,
           "showland": true,
           "subunitcolor": "white"
          },
          "hoverlabel": {
           "align": "left"
          },
          "hovermode": "closest",
          "mapbox": {
           "style": "light"
          },
          "paper_bgcolor": "white",
          "plot_bgcolor": "#E5ECF6",
          "polar": {
           "angularaxis": {
            "gridcolor": "white",
            "linecolor": "white",
            "ticks": ""
           },
           "bgcolor": "#E5ECF6",
           "radialaxis": {
            "gridcolor": "white",
            "linecolor": "white",
            "ticks": ""
           }
          },
          "scene": {
           "xaxis": {
            "backgroundcolor": "#E5ECF6",
            "gridcolor": "white",
            "gridwidth": 2,
            "linecolor": "white",
            "showbackground": true,
            "ticks": "",
            "zerolinecolor": "white"
           },
           "yaxis": {
            "backgroundcolor": "#E5ECF6",
            "gridcolor": "white",
            "gridwidth": 2,
            "linecolor": "white",
            "showbackground": true,
            "ticks": "",
            "zerolinecolor": "white"
           },
           "zaxis": {
            "backgroundcolor": "#E5ECF6",
            "gridcolor": "white",
            "gridwidth": 2,
            "linecolor": "white",
            "showbackground": true,
            "ticks": "",
            "zerolinecolor": "white"
           }
          },
          "shapedefaults": {
           "line": {
            "color": "#2a3f5f"
           }
          },
          "ternary": {
           "aaxis": {
            "gridcolor": "white",
            "linecolor": "white",
            "ticks": ""
           },
           "baxis": {
            "gridcolor": "white",
            "linecolor": "white",
            "ticks": ""
           },
           "bgcolor": "#E5ECF6",
           "caxis": {
            "gridcolor": "white",
            "linecolor": "white",
            "ticks": ""
           }
          },
          "title": {
           "x": 0.05
          },
          "xaxis": {
           "automargin": true,
           "gridcolor": "white",
           "linecolor": "white",
           "ticks": "",
           "title": {
            "standoff": 15
           },
           "zerolinecolor": "white",
           "zerolinewidth": 2
          },
          "yaxis": {
           "automargin": true,
           "gridcolor": "white",
           "linecolor": "white",
           "ticks": "",
           "title": {
            "standoff": 15
           },
           "zerolinecolor": "white",
           "zerolinewidth": 2
          }
         }
        },
        "title": {
         "text": "Confusion Matrix for All Three Models on Kaggle Data"
        },
        "width": 900,
        "xaxis": {
         "anchor": "y",
         "domain": [
          0,
          0.26666666666666666
         ]
        },
        "xaxis2": {
         "anchor": "y2",
         "domain": [
          0.3666666666666667,
          0.6333333333333333
         ]
        },
        "xaxis3": {
         "anchor": "y3",
         "domain": [
          0.7333333333333334,
          1
         ]
        },
        "yaxis": {
         "anchor": "x",
         "domain": [
          0,
          1
         ]
        },
        "yaxis2": {
         "anchor": "x2",
         "domain": [
          0,
          1
         ]
        },
        "yaxis3": {
         "anchor": "x3",
         "domain": [
          0,
          1
         ]
        }
       }
      }
     },
     "metadata": {},
     "output_type": "display_data"
    }
   ],
   "source": [
    "plot_metrics_results(results_gpt_df_kaggle, results_cassed_df_test_kaggle, results_presidio_df_kaggle, dataset=\"Kaggle Data\")"
   ]
  },
  {
   "cell_type": "markdown",
   "metadata": {},
   "source": [
    "openml"
   ]
  },
  {
   "cell_type": "code",
   "execution_count": 15,
   "metadata": {},
   "outputs": [
    {
     "data": {
      "application/vnd.plotly.v1+json": {
       "config": {
        "plotlyServerURL": "https://plot.ly"
       },
       "data": [
        {
         "name": "GPT-4o",
         "type": "bar",
         "x": [
          "Precision",
          "Recall",
          "F1-Score",
          "Weighted F1",
          "Macro F1",
          "Accuracy",
          "AUC-ROC"
         ],
         "y": [
          0.11940298507462686,
          1,
          0.21333333333333335,
          0.6892881371161578,
          0.465518341307815,
          0.5845070422535211,
          0.7798507462686567
         ]
        },
        {
         "name": "CASSED",
         "type": "bar",
         "x": [
          "Precision",
          "Recall",
          "F1-Score",
          "Weighted F1",
          "Macro F1",
          "Accuracy",
          "AUC-ROC"
         ],
         "y": [
          0.4,
          0.5,
          0.4444444444444444,
          0.9332250814830501,
          0.7034252297410192,
          0.9295774647887324,
          0.7276119402985074
         ]
        },
        {
         "name": "Presidio",
         "type": "bar",
         "x": [
          "Precision",
          "Recall",
          "F1-Score",
          "Weighted F1",
          "Macro F1",
          "Accuracy",
          "AUC-ROC"
         ],
         "y": [
          1,
          0.375,
          0.5454545454545454,
          0.9571086190804501,
          0.7635697635697636,
          0.9647887323943662,
          0.6875
         ]
        }
       ],
       "layout": {
        "height": 400,
        "legend": {
         "title": {
          "text": "Model"
         }
        },
        "template": {
         "data": {
          "bar": [
           {
            "error_x": {
             "color": "#2a3f5f"
            },
            "error_y": {
             "color": "#2a3f5f"
            },
            "marker": {
             "line": {
              "color": "#E5ECF6",
              "width": 0.5
             },
             "pattern": {
              "fillmode": "overlay",
              "size": 10,
              "solidity": 0.2
             }
            },
            "type": "bar"
           }
          ],
          "barpolar": [
           {
            "marker": {
             "line": {
              "color": "#E5ECF6",
              "width": 0.5
             },
             "pattern": {
              "fillmode": "overlay",
              "size": 10,
              "solidity": 0.2
             }
            },
            "type": "barpolar"
           }
          ],
          "carpet": [
           {
            "aaxis": {
             "endlinecolor": "#2a3f5f",
             "gridcolor": "white",
             "linecolor": "white",
             "minorgridcolor": "white",
             "startlinecolor": "#2a3f5f"
            },
            "baxis": {
             "endlinecolor": "#2a3f5f",
             "gridcolor": "white",
             "linecolor": "white",
             "minorgridcolor": "white",
             "startlinecolor": "#2a3f5f"
            },
            "type": "carpet"
           }
          ],
          "choropleth": [
           {
            "colorbar": {
             "outlinewidth": 0,
             "ticks": ""
            },
            "type": "choropleth"
           }
          ],
          "contour": [
           {
            "colorbar": {
             "outlinewidth": 0,
             "ticks": ""
            },
            "colorscale": [
             [
              0,
              "#0d0887"
             ],
             [
              0.1111111111111111,
              "#46039f"
             ],
             [
              0.2222222222222222,
              "#7201a8"
             ],
             [
              0.3333333333333333,
              "#9c179e"
             ],
             [
              0.4444444444444444,
              "#bd3786"
             ],
             [
              0.5555555555555556,
              "#d8576b"
             ],
             [
              0.6666666666666666,
              "#ed7953"
             ],
             [
              0.7777777777777778,
              "#fb9f3a"
             ],
             [
              0.8888888888888888,
              "#fdca26"
             ],
             [
              1,
              "#f0f921"
             ]
            ],
            "type": "contour"
           }
          ],
          "contourcarpet": [
           {
            "colorbar": {
             "outlinewidth": 0,
             "ticks": ""
            },
            "type": "contourcarpet"
           }
          ],
          "heatmap": [
           {
            "colorbar": {
             "outlinewidth": 0,
             "ticks": ""
            },
            "colorscale": [
             [
              0,
              "#0d0887"
             ],
             [
              0.1111111111111111,
              "#46039f"
             ],
             [
              0.2222222222222222,
              "#7201a8"
             ],
             [
              0.3333333333333333,
              "#9c179e"
             ],
             [
              0.4444444444444444,
              "#bd3786"
             ],
             [
              0.5555555555555556,
              "#d8576b"
             ],
             [
              0.6666666666666666,
              "#ed7953"
             ],
             [
              0.7777777777777778,
              "#fb9f3a"
             ],
             [
              0.8888888888888888,
              "#fdca26"
             ],
             [
              1,
              "#f0f921"
             ]
            ],
            "type": "heatmap"
           }
          ],
          "heatmapgl": [
           {
            "colorbar": {
             "outlinewidth": 0,
             "ticks": ""
            },
            "colorscale": [
             [
              0,
              "#0d0887"
             ],
             [
              0.1111111111111111,
              "#46039f"
             ],
             [
              0.2222222222222222,
              "#7201a8"
             ],
             [
              0.3333333333333333,
              "#9c179e"
             ],
             [
              0.4444444444444444,
              "#bd3786"
             ],
             [
              0.5555555555555556,
              "#d8576b"
             ],
             [
              0.6666666666666666,
              "#ed7953"
             ],
             [
              0.7777777777777778,
              "#fb9f3a"
             ],
             [
              0.8888888888888888,
              "#fdca26"
             ],
             [
              1,
              "#f0f921"
             ]
            ],
            "type": "heatmapgl"
           }
          ],
          "histogram": [
           {
            "marker": {
             "pattern": {
              "fillmode": "overlay",
              "size": 10,
              "solidity": 0.2
             }
            },
            "type": "histogram"
           }
          ],
          "histogram2d": [
           {
            "colorbar": {
             "outlinewidth": 0,
             "ticks": ""
            },
            "colorscale": [
             [
              0,
              "#0d0887"
             ],
             [
              0.1111111111111111,
              "#46039f"
             ],
             [
              0.2222222222222222,
              "#7201a8"
             ],
             [
              0.3333333333333333,
              "#9c179e"
             ],
             [
              0.4444444444444444,
              "#bd3786"
             ],
             [
              0.5555555555555556,
              "#d8576b"
             ],
             [
              0.6666666666666666,
              "#ed7953"
             ],
             [
              0.7777777777777778,
              "#fb9f3a"
             ],
             [
              0.8888888888888888,
              "#fdca26"
             ],
             [
              1,
              "#f0f921"
             ]
            ],
            "type": "histogram2d"
           }
          ],
          "histogram2dcontour": [
           {
            "colorbar": {
             "outlinewidth": 0,
             "ticks": ""
            },
            "colorscale": [
             [
              0,
              "#0d0887"
             ],
             [
              0.1111111111111111,
              "#46039f"
             ],
             [
              0.2222222222222222,
              "#7201a8"
             ],
             [
              0.3333333333333333,
              "#9c179e"
             ],
             [
              0.4444444444444444,
              "#bd3786"
             ],
             [
              0.5555555555555556,
              "#d8576b"
             ],
             [
              0.6666666666666666,
              "#ed7953"
             ],
             [
              0.7777777777777778,
              "#fb9f3a"
             ],
             [
              0.8888888888888888,
              "#fdca26"
             ],
             [
              1,
              "#f0f921"
             ]
            ],
            "type": "histogram2dcontour"
           }
          ],
          "mesh3d": [
           {
            "colorbar": {
             "outlinewidth": 0,
             "ticks": ""
            },
            "type": "mesh3d"
           }
          ],
          "parcoords": [
           {
            "line": {
             "colorbar": {
              "outlinewidth": 0,
              "ticks": ""
             }
            },
            "type": "parcoords"
           }
          ],
          "pie": [
           {
            "automargin": true,
            "type": "pie"
           }
          ],
          "scatter": [
           {
            "fillpattern": {
             "fillmode": "overlay",
             "size": 10,
             "solidity": 0.2
            },
            "type": "scatter"
           }
          ],
          "scatter3d": [
           {
            "line": {
             "colorbar": {
              "outlinewidth": 0,
              "ticks": ""
             }
            },
            "marker": {
             "colorbar": {
              "outlinewidth": 0,
              "ticks": ""
             }
            },
            "type": "scatter3d"
           }
          ],
          "scattercarpet": [
           {
            "marker": {
             "colorbar": {
              "outlinewidth": 0,
              "ticks": ""
             }
            },
            "type": "scattercarpet"
           }
          ],
          "scattergeo": [
           {
            "marker": {
             "colorbar": {
              "outlinewidth": 0,
              "ticks": ""
             }
            },
            "type": "scattergeo"
           }
          ],
          "scattergl": [
           {
            "marker": {
             "colorbar": {
              "outlinewidth": 0,
              "ticks": ""
             }
            },
            "type": "scattergl"
           }
          ],
          "scattermapbox": [
           {
            "marker": {
             "colorbar": {
              "outlinewidth": 0,
              "ticks": ""
             }
            },
            "type": "scattermapbox"
           }
          ],
          "scatterpolar": [
           {
            "marker": {
             "colorbar": {
              "outlinewidth": 0,
              "ticks": ""
             }
            },
            "type": "scatterpolar"
           }
          ],
          "scatterpolargl": [
           {
            "marker": {
             "colorbar": {
              "outlinewidth": 0,
              "ticks": ""
             }
            },
            "type": "scatterpolargl"
           }
          ],
          "scatterternary": [
           {
            "marker": {
             "colorbar": {
              "outlinewidth": 0,
              "ticks": ""
             }
            },
            "type": "scatterternary"
           }
          ],
          "surface": [
           {
            "colorbar": {
             "outlinewidth": 0,
             "ticks": ""
            },
            "colorscale": [
             [
              0,
              "#0d0887"
             ],
             [
              0.1111111111111111,
              "#46039f"
             ],
             [
              0.2222222222222222,
              "#7201a8"
             ],
             [
              0.3333333333333333,
              "#9c179e"
             ],
             [
              0.4444444444444444,
              "#bd3786"
             ],
             [
              0.5555555555555556,
              "#d8576b"
             ],
             [
              0.6666666666666666,
              "#ed7953"
             ],
             [
              0.7777777777777778,
              "#fb9f3a"
             ],
             [
              0.8888888888888888,
              "#fdca26"
             ],
             [
              1,
              "#f0f921"
             ]
            ],
            "type": "surface"
           }
          ],
          "table": [
           {
            "cells": {
             "fill": {
              "color": "#EBF0F8"
             },
             "line": {
              "color": "white"
             }
            },
            "header": {
             "fill": {
              "color": "#C8D4E3"
             },
             "line": {
              "color": "white"
             }
            },
            "type": "table"
           }
          ]
         },
         "layout": {
          "annotationdefaults": {
           "arrowcolor": "#2a3f5f",
           "arrowhead": 0,
           "arrowwidth": 1
          },
          "autotypenumbers": "strict",
          "coloraxis": {
           "colorbar": {
            "outlinewidth": 0,
            "ticks": ""
           }
          },
          "colorscale": {
           "diverging": [
            [
             0,
             "#8e0152"
            ],
            [
             0.1,
             "#c51b7d"
            ],
            [
             0.2,
             "#de77ae"
            ],
            [
             0.3,
             "#f1b6da"
            ],
            [
             0.4,
             "#fde0ef"
            ],
            [
             0.5,
             "#f7f7f7"
            ],
            [
             0.6,
             "#e6f5d0"
            ],
            [
             0.7,
             "#b8e186"
            ],
            [
             0.8,
             "#7fbc41"
            ],
            [
             0.9,
             "#4d9221"
            ],
            [
             1,
             "#276419"
            ]
           ],
           "sequential": [
            [
             0,
             "#0d0887"
            ],
            [
             0.1111111111111111,
             "#46039f"
            ],
            [
             0.2222222222222222,
             "#7201a8"
            ],
            [
             0.3333333333333333,
             "#9c179e"
            ],
            [
             0.4444444444444444,
             "#bd3786"
            ],
            [
             0.5555555555555556,
             "#d8576b"
            ],
            [
             0.6666666666666666,
             "#ed7953"
            ],
            [
             0.7777777777777778,
             "#fb9f3a"
            ],
            [
             0.8888888888888888,
             "#fdca26"
            ],
            [
             1,
             "#f0f921"
            ]
           ],
           "sequentialminus": [
            [
             0,
             "#0d0887"
            ],
            [
             0.1111111111111111,
             "#46039f"
            ],
            [
             0.2222222222222222,
             "#7201a8"
            ],
            [
             0.3333333333333333,
             "#9c179e"
            ],
            [
             0.4444444444444444,
             "#bd3786"
            ],
            [
             0.5555555555555556,
             "#d8576b"
            ],
            [
             0.6666666666666666,
             "#ed7953"
            ],
            [
             0.7777777777777778,
             "#fb9f3a"
            ],
            [
             0.8888888888888888,
             "#fdca26"
            ],
            [
             1,
             "#f0f921"
            ]
           ]
          },
          "colorway": [
           "#636efa",
           "#EF553B",
           "#00cc96",
           "#ab63fa",
           "#FFA15A",
           "#19d3f3",
           "#FF6692",
           "#B6E880",
           "#FF97FF",
           "#FECB52"
          ],
          "font": {
           "color": "#2a3f5f"
          },
          "geo": {
           "bgcolor": "white",
           "lakecolor": "white",
           "landcolor": "#E5ECF6",
           "showlakes": true,
           "showland": true,
           "subunitcolor": "white"
          },
          "hoverlabel": {
           "align": "left"
          },
          "hovermode": "closest",
          "mapbox": {
           "style": "light"
          },
          "paper_bgcolor": "white",
          "plot_bgcolor": "#E5ECF6",
          "polar": {
           "angularaxis": {
            "gridcolor": "white",
            "linecolor": "white",
            "ticks": ""
           },
           "bgcolor": "#E5ECF6",
           "radialaxis": {
            "gridcolor": "white",
            "linecolor": "white",
            "ticks": ""
           }
          },
          "scene": {
           "xaxis": {
            "backgroundcolor": "#E5ECF6",
            "gridcolor": "white",
            "gridwidth": 2,
            "linecolor": "white",
            "showbackground": true,
            "ticks": "",
            "zerolinecolor": "white"
           },
           "yaxis": {
            "backgroundcolor": "#E5ECF6",
            "gridcolor": "white",
            "gridwidth": 2,
            "linecolor": "white",
            "showbackground": true,
            "ticks": "",
            "zerolinecolor": "white"
           },
           "zaxis": {
            "backgroundcolor": "#E5ECF6",
            "gridcolor": "white",
            "gridwidth": 2,
            "linecolor": "white",
            "showbackground": true,
            "ticks": "",
            "zerolinecolor": "white"
           }
          },
          "shapedefaults": {
           "line": {
            "color": "#2a3f5f"
           }
          },
          "ternary": {
           "aaxis": {
            "gridcolor": "white",
            "linecolor": "white",
            "ticks": ""
           },
           "baxis": {
            "gridcolor": "white",
            "linecolor": "white",
            "ticks": ""
           },
           "bgcolor": "#E5ECF6",
           "caxis": {
            "gridcolor": "white",
            "linecolor": "white",
            "ticks": ""
           }
          },
          "title": {
           "x": 0.05
          },
          "xaxis": {
           "automargin": true,
           "gridcolor": "white",
           "linecolor": "white",
           "ticks": "",
           "title": {
            "standoff": 15
           },
           "zerolinecolor": "white",
           "zerolinewidth": 2
          },
          "yaxis": {
           "automargin": true,
           "gridcolor": "white",
           "linecolor": "white",
           "ticks": "",
           "title": {
            "standoff": 15
           },
           "zerolinecolor": "white",
           "zerolinewidth": 2
          }
         }
        },
        "title": {
         "text": "Evaluation Metrics for All Three Models on OpenML Datasets 1"
        },
        "width": 900,
        "xaxis": {
         "title": {
          "text": "Metric"
         }
        },
        "yaxis": {
         "range": [
          0,
          1.05
         ],
         "title": {
          "text": "Score"
         }
        }
       }
      }
     },
     "metadata": {},
     "output_type": "display_data"
    },
    {
     "data": {
      "application/vnd.plotly.v1+json": {
       "config": {
        "plotlyServerURL": "https://plot.ly"
       },
       "data": [
        {
         "colorscale": [
          [
           0,
           "rgb(247,251,255)"
          ],
          [
           0.125,
           "rgb(222,235,247)"
          ],
          [
           0.25,
           "rgb(198,219,239)"
          ],
          [
           0.375,
           "rgb(158,202,225)"
          ],
          [
           0.5,
           "rgb(107,174,214)"
          ],
          [
           0.625,
           "rgb(66,146,198)"
          ],
          [
           0.75,
           "rgb(33,113,181)"
          ],
          [
           0.875,
           "rgb(8,81,156)"
          ],
          [
           1,
           "rgb(8,48,107)"
          ]
         ],
         "showscale": false,
         "text": [
          [
           "59<br>(44.03%)",
           "75<br>(55.97%)"
          ],
          [
           "8<br>(100.00%)",
           "0<br>(0.00%)"
          ]
         ],
         "textfont": {
          "size": 14
         },
         "texttemplate": "%{text}",
         "type": "heatmap",
         "x": [
          "Pred: pii",
          "Pred: non-pii"
         ],
         "xaxis": "x",
         "y": [
          "True: non-<br>pii",
          "True:<br>pii"
         ],
         "yaxis": "y",
         "z": [
          [
           59,
           75
          ],
          [
           8,
           0
          ]
         ]
        },
        {
         "colorscale": [
          [
           0,
           "rgb(255,245,240)"
          ],
          [
           0.125,
           "rgb(254,224,210)"
          ],
          [
           0.25,
           "rgb(252,187,161)"
          ],
          [
           0.375,
           "rgb(252,146,114)"
          ],
          [
           0.5,
           "rgb(251,106,74)"
          ],
          [
           0.625,
           "rgb(239,59,44)"
          ],
          [
           0.75,
           "rgb(203,24,29)"
          ],
          [
           0.875,
           "rgb(165,15,21)"
          ],
          [
           1,
           "rgb(103,0,13)"
          ]
         ],
         "showscale": false,
         "text": [
          [
           "6<br>(4.48%)",
           "128<br>(95.52%)"
          ],
          [
           "4<br>(50.00%)",
           "4<br>(50.00%)"
          ]
         ],
         "textfont": {
          "size": 14
         },
         "texttemplate": "%{text}",
         "type": "heatmap",
         "x": [
          "Pred: pii",
          "Pred: non-pii"
         ],
         "xaxis": "x2",
         "y": [
          "True: non-<br>pii",
          "True:<br>pii"
         ],
         "yaxis": "y2",
         "z": [
          [
           6,
           128
          ],
          [
           4,
           4
          ]
         ]
        },
        {
         "colorscale": [
          [
           0,
           "rgb(247,252,245)"
          ],
          [
           0.125,
           "rgb(229,245,224)"
          ],
          [
           0.25,
           "rgb(199,233,192)"
          ],
          [
           0.375,
           "rgb(161,217,155)"
          ],
          [
           0.5,
           "rgb(116,196,118)"
          ],
          [
           0.625,
           "rgb(65,171,93)"
          ],
          [
           0.75,
           "rgb(35,139,69)"
          ],
          [
           0.875,
           "rgb(0,109,44)"
          ],
          [
           1,
           "rgb(0,68,27)"
          ]
         ],
         "showscale": false,
         "text": [
          [
           "0<br>(0.00%)",
           "134<br>(100.00%)"
          ],
          [
           "3<br>(37.50%)",
           "5<br>(62.50%)"
          ]
         ],
         "textfont": {
          "size": 14
         },
         "texttemplate": "%{text}",
         "type": "heatmap",
         "x": [
          "Pred: pii",
          "Pred: non-pii"
         ],
         "xaxis": "x3",
         "y": [
          "True: non-<br>pii",
          "True:<br>pii"
         ],
         "yaxis": "y3",
         "z": [
          [
           0,
           134
          ],
          [
           3,
           5
          ]
         ]
        }
       ],
       "layout": {
        "annotations": [
         {
          "font": {
           "size": 16
          },
          "showarrow": false,
          "text": "GPT-4o",
          "x": 0.13333333333333333,
          "xanchor": "center",
          "xref": "paper",
          "y": 1,
          "yanchor": "bottom",
          "yref": "paper"
         },
         {
          "font": {
           "size": 16
          },
          "showarrow": false,
          "text": "CASSED",
          "x": 0.5,
          "xanchor": "center",
          "xref": "paper",
          "y": 1,
          "yanchor": "bottom",
          "yref": "paper"
         },
         {
          "font": {
           "size": 16
          },
          "showarrow": false,
          "text": "Presidio",
          "x": 0.8666666666666667,
          "xanchor": "center",
          "xref": "paper",
          "y": 1,
          "yanchor": "bottom",
          "yref": "paper"
         }
        ],
        "height": 350,
        "template": {
         "data": {
          "bar": [
           {
            "error_x": {
             "color": "#2a3f5f"
            },
            "error_y": {
             "color": "#2a3f5f"
            },
            "marker": {
             "line": {
              "color": "#E5ECF6",
              "width": 0.5
             },
             "pattern": {
              "fillmode": "overlay",
              "size": 10,
              "solidity": 0.2
             }
            },
            "type": "bar"
           }
          ],
          "barpolar": [
           {
            "marker": {
             "line": {
              "color": "#E5ECF6",
              "width": 0.5
             },
             "pattern": {
              "fillmode": "overlay",
              "size": 10,
              "solidity": 0.2
             }
            },
            "type": "barpolar"
           }
          ],
          "carpet": [
           {
            "aaxis": {
             "endlinecolor": "#2a3f5f",
             "gridcolor": "white",
             "linecolor": "white",
             "minorgridcolor": "white",
             "startlinecolor": "#2a3f5f"
            },
            "baxis": {
             "endlinecolor": "#2a3f5f",
             "gridcolor": "white",
             "linecolor": "white",
             "minorgridcolor": "white",
             "startlinecolor": "#2a3f5f"
            },
            "type": "carpet"
           }
          ],
          "choropleth": [
           {
            "colorbar": {
             "outlinewidth": 0,
             "ticks": ""
            },
            "type": "choropleth"
           }
          ],
          "contour": [
           {
            "colorbar": {
             "outlinewidth": 0,
             "ticks": ""
            },
            "colorscale": [
             [
              0,
              "#0d0887"
             ],
             [
              0.1111111111111111,
              "#46039f"
             ],
             [
              0.2222222222222222,
              "#7201a8"
             ],
             [
              0.3333333333333333,
              "#9c179e"
             ],
             [
              0.4444444444444444,
              "#bd3786"
             ],
             [
              0.5555555555555556,
              "#d8576b"
             ],
             [
              0.6666666666666666,
              "#ed7953"
             ],
             [
              0.7777777777777778,
              "#fb9f3a"
             ],
             [
              0.8888888888888888,
              "#fdca26"
             ],
             [
              1,
              "#f0f921"
             ]
            ],
            "type": "contour"
           }
          ],
          "contourcarpet": [
           {
            "colorbar": {
             "outlinewidth": 0,
             "ticks": ""
            },
            "type": "contourcarpet"
           }
          ],
          "heatmap": [
           {
            "colorbar": {
             "outlinewidth": 0,
             "ticks": ""
            },
            "colorscale": [
             [
              0,
              "#0d0887"
             ],
             [
              0.1111111111111111,
              "#46039f"
             ],
             [
              0.2222222222222222,
              "#7201a8"
             ],
             [
              0.3333333333333333,
              "#9c179e"
             ],
             [
              0.4444444444444444,
              "#bd3786"
             ],
             [
              0.5555555555555556,
              "#d8576b"
             ],
             [
              0.6666666666666666,
              "#ed7953"
             ],
             [
              0.7777777777777778,
              "#fb9f3a"
             ],
             [
              0.8888888888888888,
              "#fdca26"
             ],
             [
              1,
              "#f0f921"
             ]
            ],
            "type": "heatmap"
           }
          ],
          "heatmapgl": [
           {
            "colorbar": {
             "outlinewidth": 0,
             "ticks": ""
            },
            "colorscale": [
             [
              0,
              "#0d0887"
             ],
             [
              0.1111111111111111,
              "#46039f"
             ],
             [
              0.2222222222222222,
              "#7201a8"
             ],
             [
              0.3333333333333333,
              "#9c179e"
             ],
             [
              0.4444444444444444,
              "#bd3786"
             ],
             [
              0.5555555555555556,
              "#d8576b"
             ],
             [
              0.6666666666666666,
              "#ed7953"
             ],
             [
              0.7777777777777778,
              "#fb9f3a"
             ],
             [
              0.8888888888888888,
              "#fdca26"
             ],
             [
              1,
              "#f0f921"
             ]
            ],
            "type": "heatmapgl"
           }
          ],
          "histogram": [
           {
            "marker": {
             "pattern": {
              "fillmode": "overlay",
              "size": 10,
              "solidity": 0.2
             }
            },
            "type": "histogram"
           }
          ],
          "histogram2d": [
           {
            "colorbar": {
             "outlinewidth": 0,
             "ticks": ""
            },
            "colorscale": [
             [
              0,
              "#0d0887"
             ],
             [
              0.1111111111111111,
              "#46039f"
             ],
             [
              0.2222222222222222,
              "#7201a8"
             ],
             [
              0.3333333333333333,
              "#9c179e"
             ],
             [
              0.4444444444444444,
              "#bd3786"
             ],
             [
              0.5555555555555556,
              "#d8576b"
             ],
             [
              0.6666666666666666,
              "#ed7953"
             ],
             [
              0.7777777777777778,
              "#fb9f3a"
             ],
             [
              0.8888888888888888,
              "#fdca26"
             ],
             [
              1,
              "#f0f921"
             ]
            ],
            "type": "histogram2d"
           }
          ],
          "histogram2dcontour": [
           {
            "colorbar": {
             "outlinewidth": 0,
             "ticks": ""
            },
            "colorscale": [
             [
              0,
              "#0d0887"
             ],
             [
              0.1111111111111111,
              "#46039f"
             ],
             [
              0.2222222222222222,
              "#7201a8"
             ],
             [
              0.3333333333333333,
              "#9c179e"
             ],
             [
              0.4444444444444444,
              "#bd3786"
             ],
             [
              0.5555555555555556,
              "#d8576b"
             ],
             [
              0.6666666666666666,
              "#ed7953"
             ],
             [
              0.7777777777777778,
              "#fb9f3a"
             ],
             [
              0.8888888888888888,
              "#fdca26"
             ],
             [
              1,
              "#f0f921"
             ]
            ],
            "type": "histogram2dcontour"
           }
          ],
          "mesh3d": [
           {
            "colorbar": {
             "outlinewidth": 0,
             "ticks": ""
            },
            "type": "mesh3d"
           }
          ],
          "parcoords": [
           {
            "line": {
             "colorbar": {
              "outlinewidth": 0,
              "ticks": ""
             }
            },
            "type": "parcoords"
           }
          ],
          "pie": [
           {
            "automargin": true,
            "type": "pie"
           }
          ],
          "scatter": [
           {
            "fillpattern": {
             "fillmode": "overlay",
             "size": 10,
             "solidity": 0.2
            },
            "type": "scatter"
           }
          ],
          "scatter3d": [
           {
            "line": {
             "colorbar": {
              "outlinewidth": 0,
              "ticks": ""
             }
            },
            "marker": {
             "colorbar": {
              "outlinewidth": 0,
              "ticks": ""
             }
            },
            "type": "scatter3d"
           }
          ],
          "scattercarpet": [
           {
            "marker": {
             "colorbar": {
              "outlinewidth": 0,
              "ticks": ""
             }
            },
            "type": "scattercarpet"
           }
          ],
          "scattergeo": [
           {
            "marker": {
             "colorbar": {
              "outlinewidth": 0,
              "ticks": ""
             }
            },
            "type": "scattergeo"
           }
          ],
          "scattergl": [
           {
            "marker": {
             "colorbar": {
              "outlinewidth": 0,
              "ticks": ""
             }
            },
            "type": "scattergl"
           }
          ],
          "scattermapbox": [
           {
            "marker": {
             "colorbar": {
              "outlinewidth": 0,
              "ticks": ""
             }
            },
            "type": "scattermapbox"
           }
          ],
          "scatterpolar": [
           {
            "marker": {
             "colorbar": {
              "outlinewidth": 0,
              "ticks": ""
             }
            },
            "type": "scatterpolar"
           }
          ],
          "scatterpolargl": [
           {
            "marker": {
             "colorbar": {
              "outlinewidth": 0,
              "ticks": ""
             }
            },
            "type": "scatterpolargl"
           }
          ],
          "scatterternary": [
           {
            "marker": {
             "colorbar": {
              "outlinewidth": 0,
              "ticks": ""
             }
            },
            "type": "scatterternary"
           }
          ],
          "surface": [
           {
            "colorbar": {
             "outlinewidth": 0,
             "ticks": ""
            },
            "colorscale": [
             [
              0,
              "#0d0887"
             ],
             [
              0.1111111111111111,
              "#46039f"
             ],
             [
              0.2222222222222222,
              "#7201a8"
             ],
             [
              0.3333333333333333,
              "#9c179e"
             ],
             [
              0.4444444444444444,
              "#bd3786"
             ],
             [
              0.5555555555555556,
              "#d8576b"
             ],
             [
              0.6666666666666666,
              "#ed7953"
             ],
             [
              0.7777777777777778,
              "#fb9f3a"
             ],
             [
              0.8888888888888888,
              "#fdca26"
             ],
             [
              1,
              "#f0f921"
             ]
            ],
            "type": "surface"
           }
          ],
          "table": [
           {
            "cells": {
             "fill": {
              "color": "#EBF0F8"
             },
             "line": {
              "color": "white"
             }
            },
            "header": {
             "fill": {
              "color": "#C8D4E3"
             },
             "line": {
              "color": "white"
             }
            },
            "type": "table"
           }
          ]
         },
         "layout": {
          "annotationdefaults": {
           "arrowcolor": "#2a3f5f",
           "arrowhead": 0,
           "arrowwidth": 1
          },
          "autotypenumbers": "strict",
          "coloraxis": {
           "colorbar": {
            "outlinewidth": 0,
            "ticks": ""
           }
          },
          "colorscale": {
           "diverging": [
            [
             0,
             "#8e0152"
            ],
            [
             0.1,
             "#c51b7d"
            ],
            [
             0.2,
             "#de77ae"
            ],
            [
             0.3,
             "#f1b6da"
            ],
            [
             0.4,
             "#fde0ef"
            ],
            [
             0.5,
             "#f7f7f7"
            ],
            [
             0.6,
             "#e6f5d0"
            ],
            [
             0.7,
             "#b8e186"
            ],
            [
             0.8,
             "#7fbc41"
            ],
            [
             0.9,
             "#4d9221"
            ],
            [
             1,
             "#276419"
            ]
           ],
           "sequential": [
            [
             0,
             "#0d0887"
            ],
            [
             0.1111111111111111,
             "#46039f"
            ],
            [
             0.2222222222222222,
             "#7201a8"
            ],
            [
             0.3333333333333333,
             "#9c179e"
            ],
            [
             0.4444444444444444,
             "#bd3786"
            ],
            [
             0.5555555555555556,
             "#d8576b"
            ],
            [
             0.6666666666666666,
             "#ed7953"
            ],
            [
             0.7777777777777778,
             "#fb9f3a"
            ],
            [
             0.8888888888888888,
             "#fdca26"
            ],
            [
             1,
             "#f0f921"
            ]
           ],
           "sequentialminus": [
            [
             0,
             "#0d0887"
            ],
            [
             0.1111111111111111,
             "#46039f"
            ],
            [
             0.2222222222222222,
             "#7201a8"
            ],
            [
             0.3333333333333333,
             "#9c179e"
            ],
            [
             0.4444444444444444,
             "#bd3786"
            ],
            [
             0.5555555555555556,
             "#d8576b"
            ],
            [
             0.6666666666666666,
             "#ed7953"
            ],
            [
             0.7777777777777778,
             "#fb9f3a"
            ],
            [
             0.8888888888888888,
             "#fdca26"
            ],
            [
             1,
             "#f0f921"
            ]
           ]
          },
          "colorway": [
           "#636efa",
           "#EF553B",
           "#00cc96",
           "#ab63fa",
           "#FFA15A",
           "#19d3f3",
           "#FF6692",
           "#B6E880",
           "#FF97FF",
           "#FECB52"
          ],
          "font": {
           "color": "#2a3f5f"
          },
          "geo": {
           "bgcolor": "white",
           "lakecolor": "white",
           "landcolor": "#E5ECF6",
           "showlakes": true,
           "showland": true,
           "subunitcolor": "white"
          },
          "hoverlabel": {
           "align": "left"
          },
          "hovermode": "closest",
          "mapbox": {
           "style": "light"
          },
          "paper_bgcolor": "white",
          "plot_bgcolor": "#E5ECF6",
          "polar": {
           "angularaxis": {
            "gridcolor": "white",
            "linecolor": "white",
            "ticks": ""
           },
           "bgcolor": "#E5ECF6",
           "radialaxis": {
            "gridcolor": "white",
            "linecolor": "white",
            "ticks": ""
           }
          },
          "scene": {
           "xaxis": {
            "backgroundcolor": "#E5ECF6",
            "gridcolor": "white",
            "gridwidth": 2,
            "linecolor": "white",
            "showbackground": true,
            "ticks": "",
            "zerolinecolor": "white"
           },
           "yaxis": {
            "backgroundcolor": "#E5ECF6",
            "gridcolor": "white",
            "gridwidth": 2,
            "linecolor": "white",
            "showbackground": true,
            "ticks": "",
            "zerolinecolor": "white"
           },
           "zaxis": {
            "backgroundcolor": "#E5ECF6",
            "gridcolor": "white",
            "gridwidth": 2,
            "linecolor": "white",
            "showbackground": true,
            "ticks": "",
            "zerolinecolor": "white"
           }
          },
          "shapedefaults": {
           "line": {
            "color": "#2a3f5f"
           }
          },
          "ternary": {
           "aaxis": {
            "gridcolor": "white",
            "linecolor": "white",
            "ticks": ""
           },
           "baxis": {
            "gridcolor": "white",
            "linecolor": "white",
            "ticks": ""
           },
           "bgcolor": "#E5ECF6",
           "caxis": {
            "gridcolor": "white",
            "linecolor": "white",
            "ticks": ""
           }
          },
          "title": {
           "x": 0.05
          },
          "xaxis": {
           "automargin": true,
           "gridcolor": "white",
           "linecolor": "white",
           "ticks": "",
           "title": {
            "standoff": 15
           },
           "zerolinecolor": "white",
           "zerolinewidth": 2
          },
          "yaxis": {
           "automargin": true,
           "gridcolor": "white",
           "linecolor": "white",
           "ticks": "",
           "title": {
            "standoff": 15
           },
           "zerolinecolor": "white",
           "zerolinewidth": 2
          }
         }
        },
        "title": {
         "text": "Confusion Matrix for All Three Models on OpenML Datasets 1"
        },
        "width": 900,
        "xaxis": {
         "anchor": "y",
         "domain": [
          0,
          0.26666666666666666
         ]
        },
        "xaxis2": {
         "anchor": "y2",
         "domain": [
          0.3666666666666667,
          0.6333333333333333
         ]
        },
        "xaxis3": {
         "anchor": "y3",
         "domain": [
          0.7333333333333334,
          1
         ]
        },
        "yaxis": {
         "anchor": "x",
         "domain": [
          0,
          1
         ]
        },
        "yaxis2": {
         "anchor": "x2",
         "domain": [
          0,
          1
         ]
        },
        "yaxis3": {
         "anchor": "x3",
         "domain": [
          0,
          1
         ]
        }
       }
      }
     },
     "metadata": {},
     "output_type": "display_data"
    }
   ],
   "source": [
    "plot_metrics_results(results_gpt_df_openml, results_cassed_df_test_openml, results_presidio_df_openml, dataset=\"OpenML Datasets 1\")"
   ]
  },
  {
   "cell_type": "markdown",
   "metadata": {},
   "source": [
    "openml 2 data"
   ]
  },
  {
   "cell_type": "code",
   "execution_count": 18,
   "metadata": {},
   "outputs": [
    {
     "data": {
      "application/vnd.plotly.v1+json": {
       "config": {
        "plotlyServerURL": "https://plot.ly"
       },
       "data": [
        {
         "name": "GPT-4o",
         "type": "bar",
         "x": [
          "Precision",
          "Recall",
          "F1-Score",
          "Weighted F1",
          "Macro F1",
          "Accuracy",
          "AUC-ROC"
         ],
         "y": [
          0.09090909090909091,
          1,
          0.16666666666666666,
          0.9477533960292582,
          0.5606060606060607,
          0.9137931034482759,
          0.9565217391304348
         ]
        },
        {
         "name": "CASSED",
         "type": "bar",
         "x": [
          "Precision",
          "Recall",
          "F1-Score",
          "Weighted F1",
          "Macro F1",
          "Accuracy",
          "AUC-ROC"
         ],
         "y": [
          0,
          0,
          0,
          0.9870876250186595,
          0.49783549783549785,
          0.9913793103448276,
          0.5
         ]
        },
        {
         "name": "Presidio",
         "type": "bar",
         "x": [
          "Precision",
          "Recall",
          "F1-Score",
          "Weighted F1",
          "Macro F1",
          "Accuracy",
          "AUC-ROC"
         ],
         "y": [
          1,
          1,
          1,
          1,
          1,
          1,
          1
         ]
        }
       ],
       "layout": {
        "height": 400,
        "legend": {
         "title": {
          "text": "Model"
         }
        },
        "template": {
         "data": {
          "bar": [
           {
            "error_x": {
             "color": "#2a3f5f"
            },
            "error_y": {
             "color": "#2a3f5f"
            },
            "marker": {
             "line": {
              "color": "#E5ECF6",
              "width": 0.5
             },
             "pattern": {
              "fillmode": "overlay",
              "size": 10,
              "solidity": 0.2
             }
            },
            "type": "bar"
           }
          ],
          "barpolar": [
           {
            "marker": {
             "line": {
              "color": "#E5ECF6",
              "width": 0.5
             },
             "pattern": {
              "fillmode": "overlay",
              "size": 10,
              "solidity": 0.2
             }
            },
            "type": "barpolar"
           }
          ],
          "carpet": [
           {
            "aaxis": {
             "endlinecolor": "#2a3f5f",
             "gridcolor": "white",
             "linecolor": "white",
             "minorgridcolor": "white",
             "startlinecolor": "#2a3f5f"
            },
            "baxis": {
             "endlinecolor": "#2a3f5f",
             "gridcolor": "white",
             "linecolor": "white",
             "minorgridcolor": "white",
             "startlinecolor": "#2a3f5f"
            },
            "type": "carpet"
           }
          ],
          "choropleth": [
           {
            "colorbar": {
             "outlinewidth": 0,
             "ticks": ""
            },
            "type": "choropleth"
           }
          ],
          "contour": [
           {
            "colorbar": {
             "outlinewidth": 0,
             "ticks": ""
            },
            "colorscale": [
             [
              0,
              "#0d0887"
             ],
             [
              0.1111111111111111,
              "#46039f"
             ],
             [
              0.2222222222222222,
              "#7201a8"
             ],
             [
              0.3333333333333333,
              "#9c179e"
             ],
             [
              0.4444444444444444,
              "#bd3786"
             ],
             [
              0.5555555555555556,
              "#d8576b"
             ],
             [
              0.6666666666666666,
              "#ed7953"
             ],
             [
              0.7777777777777778,
              "#fb9f3a"
             ],
             [
              0.8888888888888888,
              "#fdca26"
             ],
             [
              1,
              "#f0f921"
             ]
            ],
            "type": "contour"
           }
          ],
          "contourcarpet": [
           {
            "colorbar": {
             "outlinewidth": 0,
             "ticks": ""
            },
            "type": "contourcarpet"
           }
          ],
          "heatmap": [
           {
            "colorbar": {
             "outlinewidth": 0,
             "ticks": ""
            },
            "colorscale": [
             [
              0,
              "#0d0887"
             ],
             [
              0.1111111111111111,
              "#46039f"
             ],
             [
              0.2222222222222222,
              "#7201a8"
             ],
             [
              0.3333333333333333,
              "#9c179e"
             ],
             [
              0.4444444444444444,
              "#bd3786"
             ],
             [
              0.5555555555555556,
              "#d8576b"
             ],
             [
              0.6666666666666666,
              "#ed7953"
             ],
             [
              0.7777777777777778,
              "#fb9f3a"
             ],
             [
              0.8888888888888888,
              "#fdca26"
             ],
             [
              1,
              "#f0f921"
             ]
            ],
            "type": "heatmap"
           }
          ],
          "heatmapgl": [
           {
            "colorbar": {
             "outlinewidth": 0,
             "ticks": ""
            },
            "colorscale": [
             [
              0,
              "#0d0887"
             ],
             [
              0.1111111111111111,
              "#46039f"
             ],
             [
              0.2222222222222222,
              "#7201a8"
             ],
             [
              0.3333333333333333,
              "#9c179e"
             ],
             [
              0.4444444444444444,
              "#bd3786"
             ],
             [
              0.5555555555555556,
              "#d8576b"
             ],
             [
              0.6666666666666666,
              "#ed7953"
             ],
             [
              0.7777777777777778,
              "#fb9f3a"
             ],
             [
              0.8888888888888888,
              "#fdca26"
             ],
             [
              1,
              "#f0f921"
             ]
            ],
            "type": "heatmapgl"
           }
          ],
          "histogram": [
           {
            "marker": {
             "pattern": {
              "fillmode": "overlay",
              "size": 10,
              "solidity": 0.2
             }
            },
            "type": "histogram"
           }
          ],
          "histogram2d": [
           {
            "colorbar": {
             "outlinewidth": 0,
             "ticks": ""
            },
            "colorscale": [
             [
              0,
              "#0d0887"
             ],
             [
              0.1111111111111111,
              "#46039f"
             ],
             [
              0.2222222222222222,
              "#7201a8"
             ],
             [
              0.3333333333333333,
              "#9c179e"
             ],
             [
              0.4444444444444444,
              "#bd3786"
             ],
             [
              0.5555555555555556,
              "#d8576b"
             ],
             [
              0.6666666666666666,
              "#ed7953"
             ],
             [
              0.7777777777777778,
              "#fb9f3a"
             ],
             [
              0.8888888888888888,
              "#fdca26"
             ],
             [
              1,
              "#f0f921"
             ]
            ],
            "type": "histogram2d"
           }
          ],
          "histogram2dcontour": [
           {
            "colorbar": {
             "outlinewidth": 0,
             "ticks": ""
            },
            "colorscale": [
             [
              0,
              "#0d0887"
             ],
             [
              0.1111111111111111,
              "#46039f"
             ],
             [
              0.2222222222222222,
              "#7201a8"
             ],
             [
              0.3333333333333333,
              "#9c179e"
             ],
             [
              0.4444444444444444,
              "#bd3786"
             ],
             [
              0.5555555555555556,
              "#d8576b"
             ],
             [
              0.6666666666666666,
              "#ed7953"
             ],
             [
              0.7777777777777778,
              "#fb9f3a"
             ],
             [
              0.8888888888888888,
              "#fdca26"
             ],
             [
              1,
              "#f0f921"
             ]
            ],
            "type": "histogram2dcontour"
           }
          ],
          "mesh3d": [
           {
            "colorbar": {
             "outlinewidth": 0,
             "ticks": ""
            },
            "type": "mesh3d"
           }
          ],
          "parcoords": [
           {
            "line": {
             "colorbar": {
              "outlinewidth": 0,
              "ticks": ""
             }
            },
            "type": "parcoords"
           }
          ],
          "pie": [
           {
            "automargin": true,
            "type": "pie"
           }
          ],
          "scatter": [
           {
            "fillpattern": {
             "fillmode": "overlay",
             "size": 10,
             "solidity": 0.2
            },
            "type": "scatter"
           }
          ],
          "scatter3d": [
           {
            "line": {
             "colorbar": {
              "outlinewidth": 0,
              "ticks": ""
             }
            },
            "marker": {
             "colorbar": {
              "outlinewidth": 0,
              "ticks": ""
             }
            },
            "type": "scatter3d"
           }
          ],
          "scattercarpet": [
           {
            "marker": {
             "colorbar": {
              "outlinewidth": 0,
              "ticks": ""
             }
            },
            "type": "scattercarpet"
           }
          ],
          "scattergeo": [
           {
            "marker": {
             "colorbar": {
              "outlinewidth": 0,
              "ticks": ""
             }
            },
            "type": "scattergeo"
           }
          ],
          "scattergl": [
           {
            "marker": {
             "colorbar": {
              "outlinewidth": 0,
              "ticks": ""
             }
            },
            "type": "scattergl"
           }
          ],
          "scattermapbox": [
           {
            "marker": {
             "colorbar": {
              "outlinewidth": 0,
              "ticks": ""
             }
            },
            "type": "scattermapbox"
           }
          ],
          "scatterpolar": [
           {
            "marker": {
             "colorbar": {
              "outlinewidth": 0,
              "ticks": ""
             }
            },
            "type": "scatterpolar"
           }
          ],
          "scatterpolargl": [
           {
            "marker": {
             "colorbar": {
              "outlinewidth": 0,
              "ticks": ""
             }
            },
            "type": "scatterpolargl"
           }
          ],
          "scatterternary": [
           {
            "marker": {
             "colorbar": {
              "outlinewidth": 0,
              "ticks": ""
             }
            },
            "type": "scatterternary"
           }
          ],
          "surface": [
           {
            "colorbar": {
             "outlinewidth": 0,
             "ticks": ""
            },
            "colorscale": [
             [
              0,
              "#0d0887"
             ],
             [
              0.1111111111111111,
              "#46039f"
             ],
             [
              0.2222222222222222,
              "#7201a8"
             ],
             [
              0.3333333333333333,
              "#9c179e"
             ],
             [
              0.4444444444444444,
              "#bd3786"
             ],
             [
              0.5555555555555556,
              "#d8576b"
             ],
             [
              0.6666666666666666,
              "#ed7953"
             ],
             [
              0.7777777777777778,
              "#fb9f3a"
             ],
             [
              0.8888888888888888,
              "#fdca26"
             ],
             [
              1,
              "#f0f921"
             ]
            ],
            "type": "surface"
           }
          ],
          "table": [
           {
            "cells": {
             "fill": {
              "color": "#EBF0F8"
             },
             "line": {
              "color": "white"
             }
            },
            "header": {
             "fill": {
              "color": "#C8D4E3"
             },
             "line": {
              "color": "white"
             }
            },
            "type": "table"
           }
          ]
         },
         "layout": {
          "annotationdefaults": {
           "arrowcolor": "#2a3f5f",
           "arrowhead": 0,
           "arrowwidth": 1
          },
          "autotypenumbers": "strict",
          "coloraxis": {
           "colorbar": {
            "outlinewidth": 0,
            "ticks": ""
           }
          },
          "colorscale": {
           "diverging": [
            [
             0,
             "#8e0152"
            ],
            [
             0.1,
             "#c51b7d"
            ],
            [
             0.2,
             "#de77ae"
            ],
            [
             0.3,
             "#f1b6da"
            ],
            [
             0.4,
             "#fde0ef"
            ],
            [
             0.5,
             "#f7f7f7"
            ],
            [
             0.6,
             "#e6f5d0"
            ],
            [
             0.7,
             "#b8e186"
            ],
            [
             0.8,
             "#7fbc41"
            ],
            [
             0.9,
             "#4d9221"
            ],
            [
             1,
             "#276419"
            ]
           ],
           "sequential": [
            [
             0,
             "#0d0887"
            ],
            [
             0.1111111111111111,
             "#46039f"
            ],
            [
             0.2222222222222222,
             "#7201a8"
            ],
            [
             0.3333333333333333,
             "#9c179e"
            ],
            [
             0.4444444444444444,
             "#bd3786"
            ],
            [
             0.5555555555555556,
             "#d8576b"
            ],
            [
             0.6666666666666666,
             "#ed7953"
            ],
            [
             0.7777777777777778,
             "#fb9f3a"
            ],
            [
             0.8888888888888888,
             "#fdca26"
            ],
            [
             1,
             "#f0f921"
            ]
           ],
           "sequentialminus": [
            [
             0,
             "#0d0887"
            ],
            [
             0.1111111111111111,
             "#46039f"
            ],
            [
             0.2222222222222222,
             "#7201a8"
            ],
            [
             0.3333333333333333,
             "#9c179e"
            ],
            [
             0.4444444444444444,
             "#bd3786"
            ],
            [
             0.5555555555555556,
             "#d8576b"
            ],
            [
             0.6666666666666666,
             "#ed7953"
            ],
            [
             0.7777777777777778,
             "#fb9f3a"
            ],
            [
             0.8888888888888888,
             "#fdca26"
            ],
            [
             1,
             "#f0f921"
            ]
           ]
          },
          "colorway": [
           "#636efa",
           "#EF553B",
           "#00cc96",
           "#ab63fa",
           "#FFA15A",
           "#19d3f3",
           "#FF6692",
           "#B6E880",
           "#FF97FF",
           "#FECB52"
          ],
          "font": {
           "color": "#2a3f5f"
          },
          "geo": {
           "bgcolor": "white",
           "lakecolor": "white",
           "landcolor": "#E5ECF6",
           "showlakes": true,
           "showland": true,
           "subunitcolor": "white"
          },
          "hoverlabel": {
           "align": "left"
          },
          "hovermode": "closest",
          "mapbox": {
           "style": "light"
          },
          "paper_bgcolor": "white",
          "plot_bgcolor": "#E5ECF6",
          "polar": {
           "angularaxis": {
            "gridcolor": "white",
            "linecolor": "white",
            "ticks": ""
           },
           "bgcolor": "#E5ECF6",
           "radialaxis": {
            "gridcolor": "white",
            "linecolor": "white",
            "ticks": ""
           }
          },
          "scene": {
           "xaxis": {
            "backgroundcolor": "#E5ECF6",
            "gridcolor": "white",
            "gridwidth": 2,
            "linecolor": "white",
            "showbackground": true,
            "ticks": "",
            "zerolinecolor": "white"
           },
           "yaxis": {
            "backgroundcolor": "#E5ECF6",
            "gridcolor": "white",
            "gridwidth": 2,
            "linecolor": "white",
            "showbackground": true,
            "ticks": "",
            "zerolinecolor": "white"
           },
           "zaxis": {
            "backgroundcolor": "#E5ECF6",
            "gridcolor": "white",
            "gridwidth": 2,
            "linecolor": "white",
            "showbackground": true,
            "ticks": "",
            "zerolinecolor": "white"
           }
          },
          "shapedefaults": {
           "line": {
            "color": "#2a3f5f"
           }
          },
          "ternary": {
           "aaxis": {
            "gridcolor": "white",
            "linecolor": "white",
            "ticks": ""
           },
           "baxis": {
            "gridcolor": "white",
            "linecolor": "white",
            "ticks": ""
           },
           "bgcolor": "#E5ECF6",
           "caxis": {
            "gridcolor": "white",
            "linecolor": "white",
            "ticks": ""
           }
          },
          "title": {
           "x": 0.05
          },
          "xaxis": {
           "automargin": true,
           "gridcolor": "white",
           "linecolor": "white",
           "ticks": "",
           "title": {
            "standoff": 15
           },
           "zerolinecolor": "white",
           "zerolinewidth": 2
          },
          "yaxis": {
           "automargin": true,
           "gridcolor": "white",
           "linecolor": "white",
           "ticks": "",
           "title": {
            "standoff": 15
           },
           "zerolinecolor": "white",
           "zerolinewidth": 2
          }
         }
        },
        "title": {
         "text": "Evaluation Metrics for All Three Models on OpenML Datasets 2"
        },
        "width": 900,
        "xaxis": {
         "title": {
          "text": "Metric"
         }
        },
        "yaxis": {
         "range": [
          0,
          1.05
         ],
         "title": {
          "text": "Score"
         }
        }
       }
      }
     },
     "metadata": {},
     "output_type": "display_data"
    },
    {
     "data": {
      "application/vnd.plotly.v1+json": {
       "config": {
        "plotlyServerURL": "https://plot.ly"
       },
       "data": [
        {
         "colorscale": [
          [
           0,
           "rgb(247,251,255)"
          ],
          [
           0.125,
           "rgb(222,235,247)"
          ],
          [
           0.25,
           "rgb(198,219,239)"
          ],
          [
           0.375,
           "rgb(158,202,225)"
          ],
          [
           0.5,
           "rgb(107,174,214)"
          ],
          [
           0.625,
           "rgb(66,146,198)"
          ],
          [
           0.75,
           "rgb(33,113,181)"
          ],
          [
           0.875,
           "rgb(8,81,156)"
          ],
          [
           1,
           "rgb(8,48,107)"
          ]
         ],
         "showscale": false,
         "text": [
          [
           "10<br>(8.70%)",
           "105<br>(91.30%)"
          ],
          [
           "1<br>(100.00%)",
           "0<br>(0.00%)"
          ]
         ],
         "textfont": {
          "size": 14
         },
         "texttemplate": "%{text}",
         "type": "heatmap",
         "x": [
          "Pred: pii",
          "Pred: non-pii"
         ],
         "xaxis": "x",
         "y": [
          "True: non-<br>pii",
          "True:<br>pii"
         ],
         "yaxis": "y",
         "z": [
          [
           10,
           105
          ],
          [
           1,
           0
          ]
         ]
        },
        {
         "colorscale": [
          [
           0,
           "rgb(255,245,240)"
          ],
          [
           0.125,
           "rgb(254,224,210)"
          ],
          [
           0.25,
           "rgb(252,187,161)"
          ],
          [
           0.375,
           "rgb(252,146,114)"
          ],
          [
           0.5,
           "rgb(251,106,74)"
          ],
          [
           0.625,
           "rgb(239,59,44)"
          ],
          [
           0.75,
           "rgb(203,24,29)"
          ],
          [
           0.875,
           "rgb(165,15,21)"
          ],
          [
           1,
           "rgb(103,0,13)"
          ]
         ],
         "showscale": false,
         "text": [
          [
           "0<br>(0.00%)",
           "115<br>(100.00%)"
          ],
          [
           "0<br>(0.00%)",
           "1<br>(100.00%)"
          ]
         ],
         "textfont": {
          "size": 14
         },
         "texttemplate": "%{text}",
         "type": "heatmap",
         "x": [
          "Pred: pii",
          "Pred: non-pii"
         ],
         "xaxis": "x2",
         "y": [
          "True: non-<br>pii",
          "True:<br>pii"
         ],
         "yaxis": "y2",
         "z": [
          [
           0,
           115
          ],
          [
           0,
           1
          ]
         ]
        },
        {
         "colorscale": [
          [
           0,
           "rgb(247,252,245)"
          ],
          [
           0.125,
           "rgb(229,245,224)"
          ],
          [
           0.25,
           "rgb(199,233,192)"
          ],
          [
           0.375,
           "rgb(161,217,155)"
          ],
          [
           0.5,
           "rgb(116,196,118)"
          ],
          [
           0.625,
           "rgb(65,171,93)"
          ],
          [
           0.75,
           "rgb(35,139,69)"
          ],
          [
           0.875,
           "rgb(0,109,44)"
          ],
          [
           1,
           "rgb(0,68,27)"
          ]
         ],
         "showscale": false,
         "text": [
          [
           "0<br>(0.00%)",
           "115<br>(100.00%)"
          ],
          [
           "1<br>(100.00%)",
           "0<br>(0.00%)"
          ]
         ],
         "textfont": {
          "size": 14
         },
         "texttemplate": "%{text}",
         "type": "heatmap",
         "x": [
          "Pred: pii",
          "Pred: non-pii"
         ],
         "xaxis": "x3",
         "y": [
          "True: non-<br>pii",
          "True:<br>pii"
         ],
         "yaxis": "y3",
         "z": [
          [
           0,
           115
          ],
          [
           1,
           0
          ]
         ]
        }
       ],
       "layout": {
        "annotations": [
         {
          "font": {
           "size": 16
          },
          "showarrow": false,
          "text": "GPT-4o",
          "x": 0.13333333333333333,
          "xanchor": "center",
          "xref": "paper",
          "y": 1,
          "yanchor": "bottom",
          "yref": "paper"
         },
         {
          "font": {
           "size": 16
          },
          "showarrow": false,
          "text": "CASSED",
          "x": 0.5,
          "xanchor": "center",
          "xref": "paper",
          "y": 1,
          "yanchor": "bottom",
          "yref": "paper"
         },
         {
          "font": {
           "size": 16
          },
          "showarrow": false,
          "text": "Presidio",
          "x": 0.8666666666666667,
          "xanchor": "center",
          "xref": "paper",
          "y": 1,
          "yanchor": "bottom",
          "yref": "paper"
         }
        ],
        "height": 350,
        "template": {
         "data": {
          "bar": [
           {
            "error_x": {
             "color": "#2a3f5f"
            },
            "error_y": {
             "color": "#2a3f5f"
            },
            "marker": {
             "line": {
              "color": "#E5ECF6",
              "width": 0.5
             },
             "pattern": {
              "fillmode": "overlay",
              "size": 10,
              "solidity": 0.2
             }
            },
            "type": "bar"
           }
          ],
          "barpolar": [
           {
            "marker": {
             "line": {
              "color": "#E5ECF6",
              "width": 0.5
             },
             "pattern": {
              "fillmode": "overlay",
              "size": 10,
              "solidity": 0.2
             }
            },
            "type": "barpolar"
           }
          ],
          "carpet": [
           {
            "aaxis": {
             "endlinecolor": "#2a3f5f",
             "gridcolor": "white",
             "linecolor": "white",
             "minorgridcolor": "white",
             "startlinecolor": "#2a3f5f"
            },
            "baxis": {
             "endlinecolor": "#2a3f5f",
             "gridcolor": "white",
             "linecolor": "white",
             "minorgridcolor": "white",
             "startlinecolor": "#2a3f5f"
            },
            "type": "carpet"
           }
          ],
          "choropleth": [
           {
            "colorbar": {
             "outlinewidth": 0,
             "ticks": ""
            },
            "type": "choropleth"
           }
          ],
          "contour": [
           {
            "colorbar": {
             "outlinewidth": 0,
             "ticks": ""
            },
            "colorscale": [
             [
              0,
              "#0d0887"
             ],
             [
              0.1111111111111111,
              "#46039f"
             ],
             [
              0.2222222222222222,
              "#7201a8"
             ],
             [
              0.3333333333333333,
              "#9c179e"
             ],
             [
              0.4444444444444444,
              "#bd3786"
             ],
             [
              0.5555555555555556,
              "#d8576b"
             ],
             [
              0.6666666666666666,
              "#ed7953"
             ],
             [
              0.7777777777777778,
              "#fb9f3a"
             ],
             [
              0.8888888888888888,
              "#fdca26"
             ],
             [
              1,
              "#f0f921"
             ]
            ],
            "type": "contour"
           }
          ],
          "contourcarpet": [
           {
            "colorbar": {
             "outlinewidth": 0,
             "ticks": ""
            },
            "type": "contourcarpet"
           }
          ],
          "heatmap": [
           {
            "colorbar": {
             "outlinewidth": 0,
             "ticks": ""
            },
            "colorscale": [
             [
              0,
              "#0d0887"
             ],
             [
              0.1111111111111111,
              "#46039f"
             ],
             [
              0.2222222222222222,
              "#7201a8"
             ],
             [
              0.3333333333333333,
              "#9c179e"
             ],
             [
              0.4444444444444444,
              "#bd3786"
             ],
             [
              0.5555555555555556,
              "#d8576b"
             ],
             [
              0.6666666666666666,
              "#ed7953"
             ],
             [
              0.7777777777777778,
              "#fb9f3a"
             ],
             [
              0.8888888888888888,
              "#fdca26"
             ],
             [
              1,
              "#f0f921"
             ]
            ],
            "type": "heatmap"
           }
          ],
          "heatmapgl": [
           {
            "colorbar": {
             "outlinewidth": 0,
             "ticks": ""
            },
            "colorscale": [
             [
              0,
              "#0d0887"
             ],
             [
              0.1111111111111111,
              "#46039f"
             ],
             [
              0.2222222222222222,
              "#7201a8"
             ],
             [
              0.3333333333333333,
              "#9c179e"
             ],
             [
              0.4444444444444444,
              "#bd3786"
             ],
             [
              0.5555555555555556,
              "#d8576b"
             ],
             [
              0.6666666666666666,
              "#ed7953"
             ],
             [
              0.7777777777777778,
              "#fb9f3a"
             ],
             [
              0.8888888888888888,
              "#fdca26"
             ],
             [
              1,
              "#f0f921"
             ]
            ],
            "type": "heatmapgl"
           }
          ],
          "histogram": [
           {
            "marker": {
             "pattern": {
              "fillmode": "overlay",
              "size": 10,
              "solidity": 0.2
             }
            },
            "type": "histogram"
           }
          ],
          "histogram2d": [
           {
            "colorbar": {
             "outlinewidth": 0,
             "ticks": ""
            },
            "colorscale": [
             [
              0,
              "#0d0887"
             ],
             [
              0.1111111111111111,
              "#46039f"
             ],
             [
              0.2222222222222222,
              "#7201a8"
             ],
             [
              0.3333333333333333,
              "#9c179e"
             ],
             [
              0.4444444444444444,
              "#bd3786"
             ],
             [
              0.5555555555555556,
              "#d8576b"
             ],
             [
              0.6666666666666666,
              "#ed7953"
             ],
             [
              0.7777777777777778,
              "#fb9f3a"
             ],
             [
              0.8888888888888888,
              "#fdca26"
             ],
             [
              1,
              "#f0f921"
             ]
            ],
            "type": "histogram2d"
           }
          ],
          "histogram2dcontour": [
           {
            "colorbar": {
             "outlinewidth": 0,
             "ticks": ""
            },
            "colorscale": [
             [
              0,
              "#0d0887"
             ],
             [
              0.1111111111111111,
              "#46039f"
             ],
             [
              0.2222222222222222,
              "#7201a8"
             ],
             [
              0.3333333333333333,
              "#9c179e"
             ],
             [
              0.4444444444444444,
              "#bd3786"
             ],
             [
              0.5555555555555556,
              "#d8576b"
             ],
             [
              0.6666666666666666,
              "#ed7953"
             ],
             [
              0.7777777777777778,
              "#fb9f3a"
             ],
             [
              0.8888888888888888,
              "#fdca26"
             ],
             [
              1,
              "#f0f921"
             ]
            ],
            "type": "histogram2dcontour"
           }
          ],
          "mesh3d": [
           {
            "colorbar": {
             "outlinewidth": 0,
             "ticks": ""
            },
            "type": "mesh3d"
           }
          ],
          "parcoords": [
           {
            "line": {
             "colorbar": {
              "outlinewidth": 0,
              "ticks": ""
             }
            },
            "type": "parcoords"
           }
          ],
          "pie": [
           {
            "automargin": true,
            "type": "pie"
           }
          ],
          "scatter": [
           {
            "fillpattern": {
             "fillmode": "overlay",
             "size": 10,
             "solidity": 0.2
            },
            "type": "scatter"
           }
          ],
          "scatter3d": [
           {
            "line": {
             "colorbar": {
              "outlinewidth": 0,
              "ticks": ""
             }
            },
            "marker": {
             "colorbar": {
              "outlinewidth": 0,
              "ticks": ""
             }
            },
            "type": "scatter3d"
           }
          ],
          "scattercarpet": [
           {
            "marker": {
             "colorbar": {
              "outlinewidth": 0,
              "ticks": ""
             }
            },
            "type": "scattercarpet"
           }
          ],
          "scattergeo": [
           {
            "marker": {
             "colorbar": {
              "outlinewidth": 0,
              "ticks": ""
             }
            },
            "type": "scattergeo"
           }
          ],
          "scattergl": [
           {
            "marker": {
             "colorbar": {
              "outlinewidth": 0,
              "ticks": ""
             }
            },
            "type": "scattergl"
           }
          ],
          "scattermapbox": [
           {
            "marker": {
             "colorbar": {
              "outlinewidth": 0,
              "ticks": ""
             }
            },
            "type": "scattermapbox"
           }
          ],
          "scatterpolar": [
           {
            "marker": {
             "colorbar": {
              "outlinewidth": 0,
              "ticks": ""
             }
            },
            "type": "scatterpolar"
           }
          ],
          "scatterpolargl": [
           {
            "marker": {
             "colorbar": {
              "outlinewidth": 0,
              "ticks": ""
             }
            },
            "type": "scatterpolargl"
           }
          ],
          "scatterternary": [
           {
            "marker": {
             "colorbar": {
              "outlinewidth": 0,
              "ticks": ""
             }
            },
            "type": "scatterternary"
           }
          ],
          "surface": [
           {
            "colorbar": {
             "outlinewidth": 0,
             "ticks": ""
            },
            "colorscale": [
             [
              0,
              "#0d0887"
             ],
             [
              0.1111111111111111,
              "#46039f"
             ],
             [
              0.2222222222222222,
              "#7201a8"
             ],
             [
              0.3333333333333333,
              "#9c179e"
             ],
             [
              0.4444444444444444,
              "#bd3786"
             ],
             [
              0.5555555555555556,
              "#d8576b"
             ],
             [
              0.6666666666666666,
              "#ed7953"
             ],
             [
              0.7777777777777778,
              "#fb9f3a"
             ],
             [
              0.8888888888888888,
              "#fdca26"
             ],
             [
              1,
              "#f0f921"
             ]
            ],
            "type": "surface"
           }
          ],
          "table": [
           {
            "cells": {
             "fill": {
              "color": "#EBF0F8"
             },
             "line": {
              "color": "white"
             }
            },
            "header": {
             "fill": {
              "color": "#C8D4E3"
             },
             "line": {
              "color": "white"
             }
            },
            "type": "table"
           }
          ]
         },
         "layout": {
          "annotationdefaults": {
           "arrowcolor": "#2a3f5f",
           "arrowhead": 0,
           "arrowwidth": 1
          },
          "autotypenumbers": "strict",
          "coloraxis": {
           "colorbar": {
            "outlinewidth": 0,
            "ticks": ""
           }
          },
          "colorscale": {
           "diverging": [
            [
             0,
             "#8e0152"
            ],
            [
             0.1,
             "#c51b7d"
            ],
            [
             0.2,
             "#de77ae"
            ],
            [
             0.3,
             "#f1b6da"
            ],
            [
             0.4,
             "#fde0ef"
            ],
            [
             0.5,
             "#f7f7f7"
            ],
            [
             0.6,
             "#e6f5d0"
            ],
            [
             0.7,
             "#b8e186"
            ],
            [
             0.8,
             "#7fbc41"
            ],
            [
             0.9,
             "#4d9221"
            ],
            [
             1,
             "#276419"
            ]
           ],
           "sequential": [
            [
             0,
             "#0d0887"
            ],
            [
             0.1111111111111111,
             "#46039f"
            ],
            [
             0.2222222222222222,
             "#7201a8"
            ],
            [
             0.3333333333333333,
             "#9c179e"
            ],
            [
             0.4444444444444444,
             "#bd3786"
            ],
            [
             0.5555555555555556,
             "#d8576b"
            ],
            [
             0.6666666666666666,
             "#ed7953"
            ],
            [
             0.7777777777777778,
             "#fb9f3a"
            ],
            [
             0.8888888888888888,
             "#fdca26"
            ],
            [
             1,
             "#f0f921"
            ]
           ],
           "sequentialminus": [
            [
             0,
             "#0d0887"
            ],
            [
             0.1111111111111111,
             "#46039f"
            ],
            [
             0.2222222222222222,
             "#7201a8"
            ],
            [
             0.3333333333333333,
             "#9c179e"
            ],
            [
             0.4444444444444444,
             "#bd3786"
            ],
            [
             0.5555555555555556,
             "#d8576b"
            ],
            [
             0.6666666666666666,
             "#ed7953"
            ],
            [
             0.7777777777777778,
             "#fb9f3a"
            ],
            [
             0.8888888888888888,
             "#fdca26"
            ],
            [
             1,
             "#f0f921"
            ]
           ]
          },
          "colorway": [
           "#636efa",
           "#EF553B",
           "#00cc96",
           "#ab63fa",
           "#FFA15A",
           "#19d3f3",
           "#FF6692",
           "#B6E880",
           "#FF97FF",
           "#FECB52"
          ],
          "font": {
           "color": "#2a3f5f"
          },
          "geo": {
           "bgcolor": "white",
           "lakecolor": "white",
           "landcolor": "#E5ECF6",
           "showlakes": true,
           "showland": true,
           "subunitcolor": "white"
          },
          "hoverlabel": {
           "align": "left"
          },
          "hovermode": "closest",
          "mapbox": {
           "style": "light"
          },
          "paper_bgcolor": "white",
          "plot_bgcolor": "#E5ECF6",
          "polar": {
           "angularaxis": {
            "gridcolor": "white",
            "linecolor": "white",
            "ticks": ""
           },
           "bgcolor": "#E5ECF6",
           "radialaxis": {
            "gridcolor": "white",
            "linecolor": "white",
            "ticks": ""
           }
          },
          "scene": {
           "xaxis": {
            "backgroundcolor": "#E5ECF6",
            "gridcolor": "white",
            "gridwidth": 2,
            "linecolor": "white",
            "showbackground": true,
            "ticks": "",
            "zerolinecolor": "white"
           },
           "yaxis": {
            "backgroundcolor": "#E5ECF6",
            "gridcolor": "white",
            "gridwidth": 2,
            "linecolor": "white",
            "showbackground": true,
            "ticks": "",
            "zerolinecolor": "white"
           },
           "zaxis": {
            "backgroundcolor": "#E5ECF6",
            "gridcolor": "white",
            "gridwidth": 2,
            "linecolor": "white",
            "showbackground": true,
            "ticks": "",
            "zerolinecolor": "white"
           }
          },
          "shapedefaults": {
           "line": {
            "color": "#2a3f5f"
           }
          },
          "ternary": {
           "aaxis": {
            "gridcolor": "white",
            "linecolor": "white",
            "ticks": ""
           },
           "baxis": {
            "gridcolor": "white",
            "linecolor": "white",
            "ticks": ""
           },
           "bgcolor": "#E5ECF6",
           "caxis": {
            "gridcolor": "white",
            "linecolor": "white",
            "ticks": ""
           }
          },
          "title": {
           "x": 0.05
          },
          "xaxis": {
           "automargin": true,
           "gridcolor": "white",
           "linecolor": "white",
           "ticks": "",
           "title": {
            "standoff": 15
           },
           "zerolinecolor": "white",
           "zerolinewidth": 2
          },
          "yaxis": {
           "automargin": true,
           "gridcolor": "white",
           "linecolor": "white",
           "ticks": "",
           "title": {
            "standoff": 15
           },
           "zerolinecolor": "white",
           "zerolinewidth": 2
          }
         }
        },
        "title": {
         "text": "Confusion Matrix for All Three Models on OpenML Datasets 2"
        },
        "width": 900,
        "xaxis": {
         "anchor": "y",
         "domain": [
          0,
          0.26666666666666666
         ]
        },
        "xaxis2": {
         "anchor": "y2",
         "domain": [
          0.3666666666666667,
          0.6333333333333333
         ]
        },
        "xaxis3": {
         "anchor": "y3",
         "domain": [
          0.7333333333333334,
          1
         ]
        },
        "yaxis": {
         "anchor": "x",
         "domain": [
          0,
          1
         ]
        },
        "yaxis2": {
         "anchor": "x2",
         "domain": [
          0,
          1
         ]
        },
        "yaxis3": {
         "anchor": "x3",
         "domain": [
          0,
          1
         ]
        }
       }
      }
     },
     "metadata": {},
     "output_type": "display_data"
    }
   ],
   "source": [
    "plot_metrics_results(results_gpt_df_openml_2, results_cassed_df_test_openml_2, results_presidio_df_openml_2, dataset=\"OpenML Datasets 2\")"
   ]
  },
  {
   "cell_type": "code",
   "execution_count": null,
   "metadata": {},
   "outputs": [],
   "source": []
  }
 ],
 "metadata": {
  "kernelspec": {
   "display_name": "data-analysis",
   "language": "python",
   "name": "python3"
  },
  "language_info": {
   "codemirror_mode": {
    "name": "ipython",
    "version": 3
   },
   "file_extension": ".py",
   "mimetype": "text/x-python",
   "name": "python",
   "nbconvert_exporter": "python",
   "pygments_lexer": "ipython3",
   "version": "3.9.20"
  }
 },
 "nbformat": 4,
 "nbformat_minor": 2
}
