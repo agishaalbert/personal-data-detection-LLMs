{
 "cells": [
  {
   "cell_type": "code",
   "execution_count": 92,
   "metadata": {},
   "outputs": [],
   "source": [
    "import pandas as pd\n",
    "import openai\n",
    "import json \n",
    "import numpy as np\n",
    "import ast"
   ]
  },
  {
   "cell_type": "code",
   "execution_count": 45,
   "metadata": {},
   "outputs": [],
   "source": [
    "with open(\"OpenAIAPIKey.txt\", \"r\") as f:\n",
    "    openai.api_key = f.read()"
   ]
  },
  {
   "cell_type": "code",
   "execution_count": 46,
   "metadata": {},
   "outputs": [
    {
     "name": "stderr",
     "output_type": "stream",
     "text": [
      "C:\\Users\\Luca\\AppData\\Local\\Temp\\ipykernel_17844\\39221131.py:1: DtypeWarning: Columns (1064,1244,1756,1839,2016,2089,2405,2842,3037,3480,3495,4183,4278,5216,5978,6085,6208,6652,7602,7707,7722,7855,8474,9458,9821,10964,11572,12124,13546,14228,14630,14996,15060,16533,17405,18488,18831,19707,19792,20219,20440,20494,22031,22439,22659,22730,23028,24180,24227,25069,26422,27362,27917,28351,28586,30127,30376,30408,31655,31759,31867,32396,32561,33209,33682,34142,34173,34349,35084,36234,36248,36527,37252,37775,37879,38357,39070,39280,40053,40358,42044,42507,43106) have mixed types. Specify dtype option on import or set low_memory=False.\n",
      "  train_data = pd.read_csv(\"../datasets/dessi-mf/dessi-mf/train.csv\")\n"
     ]
    }
   ],
   "source": [
    "train_data = pd.read_csv(\"../datasets/dessi-mf/dessi-mf/train.csv\")\n",
    "train_multiclasses = pd.read_csv(\"../datasets/dessi-mf/dessi-mf/train_labels_multi.csv\")\n",
    "train_classes = pd.read_csv(\"../datasets/dessi-mf/dessi-mf/train_classes.csv\")\n",
    "train_pii = pd.read_csv(\"../datasets/dessi-mf/dessi-mf/train_labels_pii.csv\")\n",
    "train_personal = pd.read_csv(\"../datasets/dessi-mf/dessi-mf/train_labels_personal.csv\")\n",
    "train_dataset = pd.read_csv(\"../datasets/dessi-mf/dessi-mf/train_dataset.csv\")"
   ]
  },
  {
   "cell_type": "markdown",
   "metadata": {},
   "source": [
    "- Sent a request with the CRSRF-method prompt method of Chinese paper of 2023  \n",
    "\n",
    "**Capacity and Role**  \n",
    "\"As an accurate classifier of data categories for privacy evaluation,\"  \n",
    "   \n",
    "**Statement**  \n",
    "determine whether each provided data class falls into the category of personally identifiable information (PII) or not and evaluate whether the data class could potentially contain personal-related information or not. For each data class (e.g., bank number, email address, or color), assign one of the binary labels: 'pii' or 'non-pi.' and 'personal' or 'non-personal'.\" \n",
    "   \n",
    "**Reason**   \n",
    "Identifying PII is critical to ensuring compliance with data protection regulations and safeguarding individuals' privacy and security.\"  \n",
    "  \n",
    "**Format**  \n",
    "Present your output in a dictionary format with mapping the data classes (keys) to the binary labels (values).  \n",
    "\n",
    "-->\n",
    "`As an accurate classifier of data categories for privacy evaluation, determine whether each provided data class falls into the category of personally identifiable information (PII) or not and evaluate whether the data class could potentially contain personal-related information or not. For each data class (e.g., bank number, email address, or color), assign one of the binary labels: 'pii' or 'non-pi.' and 'personal' or 'non-personal'. Identifying PII is critical to ensuring compliance with data protection regulations and safeguarding individuals' privacy and security. Present your output in a dictionary format with mapping the data classes (keys) to the binary labels (values). `\n",
    "\n",
    "- Provide one or more example like in Chinese paper:    \n",
    "\n",
    "`You can use the following example as a guideline:`  \n",
    "\n",
    "`Example Question: first_name: ['Hans', 'Berta', 'Max'], email: contains the email address of a person`  \n",
    "\n",
    "`Example Answer: {first_name: non-pii, email: pii}, {first_name: personal, email: personal}`\n",
    "\n",
    "- Sent in the data classes with the SENT method of the paper (seperately instead of all at once)"
   ]
  },
  {
   "cell_type": "code",
   "execution_count": 110,
   "metadata": {},
   "outputs": [],
   "source": [
    "inital_prompt = \"\"\"\n",
    "As an accurate classifier of data categories for privacy evaluation, \n",
    "determine whether each provided data class falls into the category of personally identifiable information (PII) or not \n",
    "and evaluate whether the data class could potentially contain personal-related information or not. \n",
    "PII describes information that can identify a natural person without any additional information.\n",
    "For each data class (e.g., bank number, email address, or color), assign one of the binary labels: 'pii' or 'non-pi.' and 'personal' or 'non-personal'. \n",
    "Identifying PII is critical to ensuring compliance with data protection regulations and safeguarding individuals' privacy and security. \n",
    "Present your output in a dictionary format with mapping the data classes (keys) to the binary labels (values). \n",
    "Only output this dictionary without any additional information.\n",
    "\"\"\"\n",
    "\n",
    "example_prompt = \"\"\"\n",
    "You can use the following example as a guideline:\n",
    "Example Question: first_name: ['Hans', 'Berta', 'Max'], email: contains the email address of a person\n",
    "\"\"\"\n",
    "\n",
    "example_answer = \"Example Answer: {first_name: non-pii, email: pii}, {first_name: personal, email: personal}\"\n",
    "\n",
    "conversation = [\n",
    "    {\"role\": \"system\", \"content\": inital_prompt},\n",
    "    {\"role\": \"user\", \"content\": example_prompt},\n",
    "    {\"role\": \"assistant\", \"content\": example_answer}\n",
    "]"
   ]
  },
  {
   "cell_type": "code",
   "execution_count": 111,
   "metadata": {},
   "outputs": [
    {
     "data": {
      "text/plain": [
       "50"
      ]
     },
     "execution_count": 111,
     "metadata": {},
     "output_type": "execute_result"
    }
   ],
   "source": [
    "dessi_classes = set([a for a in train_multiclasses[\"label\"] if \",\" not in a and \"Other_data\" not in a and \"Person\" not in a and \"Address\" not in a])\n",
    "all_classes = set(dessi_classes)\n",
    "len(all_classes)"
   ]
  },
  {
   "cell_type": "code",
   "execution_count": 112,
   "metadata": {},
   "outputs": [
    {
     "data": {
      "text/html": [
       "<div>\n",
       "<style scoped>\n",
       "    .dataframe tbody tr th:only-of-type {\n",
       "        vertical-align: middle;\n",
       "    }\n",
       "\n",
       "    .dataframe tbody tr th {\n",
       "        vertical-align: top;\n",
       "    }\n",
       "\n",
       "    .dataframe thead th {\n",
       "        text-align: right;\n",
       "    }\n",
       "</style>\n",
       "<table border=\"1\" class=\"dataframe\">\n",
       "  <thead>\n",
       "    <tr style=\"text-align: right;\">\n",
       "      <th></th>\n",
       "      <th>class</th>\n",
       "      <th>label_pii</th>\n",
       "      <th>label_personal</th>\n",
       "      <th>label_multi</th>\n",
       "      <th>dataset</th>\n",
       "    </tr>\n",
       "  </thead>\n",
       "  <tbody>\n",
       "    <tr>\n",
       "      <th>0</th>\n",
       "      <td>NIN</td>\n",
       "      <td>pii</td>\n",
       "      <td>personal</td>\n",
       "      <td>national_identification_number</td>\n",
       "      <td>dessi</td>\n",
       "    </tr>\n",
       "    <tr>\n",
       "      <th>1</th>\n",
       "      <td>programming_language_mixed</td>\n",
       "      <td>non-pii</td>\n",
       "      <td>non-personal</td>\n",
       "      <td>programming_language</td>\n",
       "      <td>mimesis</td>\n",
       "    </tr>\n",
       "    <tr>\n",
       "      <th>2</th>\n",
       "      <td>gender_mixed</td>\n",
       "      <td>non-pii</td>\n",
       "      <td>personal</td>\n",
       "      <td>gender</td>\n",
       "      <td>mimesis</td>\n",
       "    </tr>\n",
       "    <tr>\n",
       "      <th>3</th>\n",
       "      <td>gender_de</td>\n",
       "      <td>non-pii</td>\n",
       "      <td>personal</td>\n",
       "      <td>gender</td>\n",
       "      <td>mimesis</td>\n",
       "    </tr>\n",
       "    <tr>\n",
       "      <th>4</th>\n",
       "      <td>ean_fr_FR</td>\n",
       "      <td>non-pii</td>\n",
       "      <td>non-personal</td>\n",
       "      <td>EAN_code</td>\n",
       "      <td>faker</td>\n",
       "    </tr>\n",
       "    <tr>\n",
       "      <th>...</th>\n",
       "      <td>...</td>\n",
       "      <td>...</td>\n",
       "      <td>...</td>\n",
       "      <td>...</td>\n",
       "      <td>...</td>\n",
       "    </tr>\n",
       "    <tr>\n",
       "      <th>44210</th>\n",
       "      <td>title_fr</td>\n",
       "      <td>non-pii</td>\n",
       "      <td>personal</td>\n",
       "      <td>academic_degree/title</td>\n",
       "      <td>mimesis</td>\n",
       "    </tr>\n",
       "    <tr>\n",
       "      <th>44211</th>\n",
       "      <td>resolution_fr</td>\n",
       "      <td>non-pii</td>\n",
       "      <td>non-personal</td>\n",
       "      <td>resolution</td>\n",
       "      <td>mimesis</td>\n",
       "    </tr>\n",
       "    <tr>\n",
       "      <th>44212</th>\n",
       "      <td>iban_de_DE</td>\n",
       "      <td>pii</td>\n",
       "      <td>personal</td>\n",
       "      <td>iban</td>\n",
       "      <td>faker</td>\n",
       "    </tr>\n",
       "    <tr>\n",
       "      <th>44213</th>\n",
       "      <td>Phone_number</td>\n",
       "      <td>pii</td>\n",
       "      <td>personal</td>\n",
       "      <td>phone_number</td>\n",
       "      <td>dessi</td>\n",
       "    </tr>\n",
       "    <tr>\n",
       "      <th>44214</th>\n",
       "      <td>first_name_de</td>\n",
       "      <td>non-pii</td>\n",
       "      <td>personal</td>\n",
       "      <td>first_name</td>\n",
       "      <td>mimesis</td>\n",
       "    </tr>\n",
       "  </tbody>\n",
       "</table>\n",
       "<p>44215 rows × 5 columns</p>\n",
       "</div>"
      ],
      "text/plain": [
       "                            class label_pii label_personal  \\\n",
       "0                             NIN       pii       personal   \n",
       "1      programming_language_mixed   non-pii   non-personal   \n",
       "2                    gender_mixed   non-pii       personal   \n",
       "3                       gender_de   non-pii       personal   \n",
       "4                       ean_fr_FR   non-pii   non-personal   \n",
       "...                           ...       ...            ...   \n",
       "44210                    title_fr   non-pii       personal   \n",
       "44211               resolution_fr   non-pii   non-personal   \n",
       "44212                  iban_de_DE       pii       personal   \n",
       "44213                Phone_number       pii       personal   \n",
       "44214               first_name_de   non-pii       personal   \n",
       "\n",
       "                          label_multi  dataset  \n",
       "0      national_identification_number    dessi  \n",
       "1                programming_language  mimesis  \n",
       "2                              gender  mimesis  \n",
       "3                              gender  mimesis  \n",
       "4                            EAN_code    faker  \n",
       "...                               ...      ...  \n",
       "44210           academic_degree/title  mimesis  \n",
       "44211                      resolution  mimesis  \n",
       "44212                            iban    faker  \n",
       "44213                    phone_number    dessi  \n",
       "44214                      first_name  mimesis  \n",
       "\n",
       "[44215 rows x 5 columns]"
      ]
     },
     "execution_count": 112,
     "metadata": {},
     "output_type": "execute_result"
    }
   ],
   "source": [
    "combined_df = pd.concat([train_classes, train_pii, train_personal, train_multiclasses, train_dataset], axis=1)\n",
    "combined_df.columns = [\"class\", \"label_pii\", \"label_personal\", \"label_multi\", \"dataset\"]\n",
    "combined_df"
   ]
  },
  {
   "cell_type": "code",
   "execution_count": 113,
   "metadata": {},
   "outputs": [],
   "source": [
    "mapping_prompt = \"Now classify the following data classes with the given information:\\n\"\n",
    "value_lists = []\n",
    "for i in all_classes:\n",
    "    s = i + \": \"\n",
    "    idxs = combined_df.loc[(combined_df[\"label_multi\"] == i)].index\n",
    "    if combined_df.iloc[idxs[0], 4] != \"dessi\":\n",
    "        idx = combined_df.loc[(combined_df[\"label_multi\"] == i) & (combined_df[\"class\"].str.contains(\"_en\"))].index[0]\n",
    "    else:\n",
    "        idx = idxs[0]\n",
    "    val_list = train_data.iloc[:, idx].value_counts().index.tolist()[:10]\n",
    "    s += str(val_list)\n",
    "    value_lists.append(s)\n",
    "\n",
    "for i in range(len(all_classes)):\n",
    "    mapping_prompt = mapping_prompt + str(value_lists[i]) + \"\\n\"\n",
    "conversation.append({\"role\": \"user\", \"content\": mapping_prompt})"
   ]
  },
  {
   "cell_type": "code",
   "execution_count": 114,
   "metadata": {},
   "outputs": [
    {
     "data": {
      "text/plain": [
       "[{'role': 'system',\n",
       "  'content': \"\\nAs an accurate classifier of data categories for privacy evaluation, \\ndetermine whether each provided data class falls into the category of personally identifiable information (PII) or not \\nand evaluate whether the data class could potentially contain personal-related information or not. \\nPII describes information that can identify a natural person without any additional information.\\nFor each data class (e.g., bank number, email address, or color), assign one of the binary labels: 'pii' or 'non-pi.' and 'personal' or 'non-personal'. \\nIdentifying PII is critical to ensuring compliance with data protection regulations and safeguarding individuals' privacy and security. \\nPresent your output in a dictionary format with mapping the data classes (keys) to the binary labels (values). \\nOnly output this dictionary without any additional information.\\n\"},\n",
       " {'role': 'user',\n",
       "  'content': \"\\nYou can use the following example as a guideline:\\nExample Question: first_name: ['Hans', 'Berta', 'Max'], email: contains the email address of a person\\n\"},\n",
       " {'role': 'assistant',\n",
       "  'content': 'Example Answer: {first_name: non-pii, email: pii}, {first_name: personal, email: personal}'},\n",
       " {'role': 'user',\n",
       "  'content': 'Now classify the following data classes with the given information:\\npassport_number: [\\'163070286\\', \\'493875852\\', \\'R44552154\\', \\'W68291917\\', \\'624091588\\', \\'059259531\\', \\'811203284\\', \\'653701299\\', \\'990421596\\', \\'035243206\\']\\ncredit_card_number: [\\'3763 727154 83755\\', \\'3410 071791 70793\\', \\'4937 8206 4904 1655\\', \\'2259 9601 4091 0406\\', \\'4604 3444 5347 7030\\', \\'4784 2365 0248 8277\\', \\'4199 4337 9106 3593\\', \\'2308 6278 8632 7134\\', \\'2597 9219 8770 0210\\', \\'2586 8916 6851 9028\\']\\nduration: [\\'0 days 00:06:00\\', \\'0 days 00:01:00\\', \\'0 days 00:08:00\\', \\'0 days 00:07:00\\', \\'0 days 00:05:00\\', \\'0 days 00:09:00\\', \\'0 days 00:10:00\\', \\'0 days 00:03:00\\', \\'0 days 00:02:00\\', \\'0 days 00:04:00\\']\\ngraphics: [\\'AMD Radeon RX 6800\\', \\'Intel® Iris™ Graphics 6100\\', \\'Nvidia Quadro RTX A4000\\', \\'Nvidia RTX 3080\\', \\'Nvidia RTX 3090 Ti\\', \\'Nvidia RTX Titan\\', \\'AMD Radeon VII\\', \\'Intel® HD Graphics 5000\\', \\'Nvidia GTX 1660 SUPER\\', \\'Intel® Iris™ Pro Graphics 580\\']\\ngpe: [\\'Denmark\\', \\'MARLBOROUGH, MA\\', \\'powiat człuchowski\\', \\'SOMERSET, NJ\\', \\'THOMASVILLE, AL\\', \\'Thailand\\', \\'COPPERAS COVE, TX\\', \\'DRAPER, UT\\', \\'CHIDESTER, AR\\', \\'MURDOCK, KS\\']\\nemail: [\\'josephpotter@example.org\\', \\'tamara84@example.net\\', \\'walterstony@example.com\\', \\'foxkathy@example.net\\', \\'cheryl35@example.org\\', \\'normanbryan@example.com\\', \\'lori07@example.org\\', \\'lorirobinson@example.net\\', \\'tonya71@example.com\\', \\'dianadavis@example.net\\']\\nlongitude_and_latitude: [\\'39.4479383; -16.6171809\\', \\'38.9852104; -16.5525533\\', \\'28.3758063, -75.0435137\\', \\'28.4623177,-17.7687844\\', \\'28.0156812,-16.319366\\', \\'27.8514289, -74.829516\\', \\'39.3348093, -74.4372537\\', \\'39.4387199;-15.4623958\\', \\'28.3668019,-74.8785275\\', \\'28.4358689;-15.4481041\\']\\ncolor: [\\'White\\', \\'Yellow\\', \\'Pink\\', \\'Beige\\', \\'Cyan\\', \\'Brown\\', \\'Magenta\\', \\'Black\\', \\'Green\\', \\'Blue\\']\\nid_card: [\\'E8081726\\', \\'B5352561\\', \\'P9093552\\', \\'P7506517\\', \\'T5894523\\', \\'A4943274\\', \\'O7135384\\', \\'F8685014\\', \\'V3004837\\', \\'F6441343\\']\\nuser_agent: [\\'Mozilla/4.0 (compatible; MSIE 5.0; Linux 2.4.20-686 i686) Opera 6.02 [en]\\', \\'Mozilla/5.0 (Linux; U; Android 4.0.3; en-us) AppleWebKit/537.36 (KHTML, like Gecko) Chrome/31.0.1650.59 Mobile Safari/537.36\\', \\'Mozilla/5.0 (Windows NT 10.0) AppleWebKit/537.36 (KHTML, like Gecko) Chrome/44.0.2403.157 Safari/537.36\\', \\'Mozilla/5.0 (Macintosh; Intel Mac OS X 10_6_8) AppleWebKit/537.36 (KHTML, like Gecko) Chrome/38.0.2125.122 Safari/537.36\\', \\'Mozilla/5.0 (Macintosh; Intel Mac OS X 10.9; rv:40.0) Gecko/20100101 Firefox/40.0\\', \\'Mozilla/5.0 (Windows NT 6.2; WOW64) AppleWebKit/537.36 (KHTML, like Gecko) Chrome/42.0.2311.152 Safari/537.36\\', \\'Mozilla/5.0 (Macintosh; Intel Mac OS X 10_10_3) AppleWebKit/537.36 (KHTML, like Gecko) Chrome/45.0.2454.85 Safari/537.36\\', \\'Mozilla/4.0 (compatible; MSIE 7.0; Windows NT 6.2; Win64; x64; Trident/6.0; .NET4.0E; .NET4.0C; .NET CLR 3.5.30729; .NET CLR 3.0.30729; .NET CLR 2.0.50727)\\', \\'Mozilla/5.0 (iPad; CPU OS 8_2 like Mac OS X) AppleWebKit/600.1.4 (KHTML, like Gecko) GSA/7.0.55539 Mobile/12D508 Safari/600.1.4\\', \\'Mozilla/5.0 (Linux; Android 6.0.1; SGP771 Build/32.2.A.0.253; wv) AppleWebKit/537.36 (KHTML, like Gecko) Version/4.0 Chrome/52.0.2743.98 Safari/537.36\\']\\nblood_group: [\\'AB-\\', \\'AB+\\', \\'A+\\', \\'O+\\', \\'B+\\', \\'O-\\', \\'B-\\', \\'A-\\']\\nreligion/worldview: [\\'Atheism\\', \\'Deism\\', \\'Judaism\\', \\'Secular humanism\\', \\'Confucianism\\', \\'Pantheism\\', \\'Agnosticism\\', \\'Catholicism\\']\\nprogramming_language: [\\'Delphi\\', \\'F#\\', \\'Falcon\\', \\'PL-SQL\\', \\'Erlang\\', \\'Dylan\\', \\'PowerShell\\', \\'Awk\\', \\'Java\\', \\'Mathematica\\']\\nrace: [\\'Caucasian\\', \\'Negroid\\', \\'native american\\', \\'native americans\\', \\'Asiatics\\', \\'Caucasoid\\', \\'Congoid\\', \\'Europids\\', \\'Asians\\', \\'Alaska Native\\']\\nlanguage: [\\'Irish Gaelic\\', \\'Armenian\\', \\'Tetum\\', \\'Zulu\\', \\'Khmer\\', \\'Dzongkha\\', \\'Croatian\\', \\'Fijian\\', \\'Luxembourgish\\', \\'Georgian\\']\\nfull_address: [\\'908 Codman Arcade\\', \\'274 Quartz Turnpike\\', \\'1301 Java Circle\\', \\'568 Hollis Viaduct\\', \\'1324 Anson Crescent\\', \\'501 Leroy Path\\', \\'496 Hodges Viaduct\\', \\'819 Sparta Point\\', \\'903 Crissy Field Highway\\', \\'629 Godeus Heights\\']\\nword: [\\'guys\\', \\'phone\\', \\'conducted\\', \\'vbulletin\\', \\'cell\\', \\'romance\\', \\'liable\\', \\'convenient\\', \\'discover\\', \\'open\\']\\nphone_number: [\\'(600)414-7044x485\\', \\'8016-70-8044\\', \\'76611/39310\\', \\'99 43 273 88 60\\', \\'+447700900269\\', \\'45-75795.256\\', \\'092 9342 231\\', \\'001-335-622-0032x34891\\', \\'075 083 2780/4\\', \\'5125761452\\']\\nsexuality: [\\'Ceasesexual\\', \\'Finsexual\\', \\'Mascusexuals\\', \\'Demisexuality\\', \\'Gynesexuality\\', \\'Androsexuality\\', \\'Finsexuality\\', \\'Graysexuals\\', \\'Omnisexuals\\', \\'Fictosexual\\']\\nSWIFT/BIC code: [\\'DPESGBHOJSF\\', \\'CUKSGB1H\\', \\'CFTQGBL6\\', \\'QJFVGB9LSG4\\', \\'IDIUGB7YRSP\\', \\'JAKFGBJW2IW\\', \\'JKYJGBTZ\\', \\'LZFNGBCRXGJ\\', \\'BULQGB42LQG\\', \\'BCTHGB37\\']\\ncurrency: [\"(\\'PEN\\', \\'Peruvian sol\\')\", \"(\\'CHF\\', \\'Swiss franc\\')\", \"(\\'BYR\\', \\'Belarusian ruble\\')\", \"(\\'NOK\\', \\'Norwegian krone\\')\", \"(\\'BIF\\', \\'Burundian franc\\')\", \"(\\'BZD\\', \\'Belize dollar\\')\", \"(\\'KZT\\', \\'Kazakhstani tenge\\')\", \"(\\'PYG\\', \\'Paraguayan guarani\\')\", \"(\\'NAD\\', \\'Namibian dollar\\')\", \"(\\'PAB\\', \\'Panamanian balboa\\')\"]\\ngender: [\\'Other\\', \\'Female\\', \\'Male\\']\\niban: [\\'GB55LESK26246007664943\\', \\'GB06NRPR56500938579594\\', \\'GB55YWFF72749164500142\\', \\'GB02MUJL24598450011837\\', \\'GB87LFXB10105449725035\\', \\'GB50PLNX12475833558982\\', \\'GB38NTCP11063040796385\\', \\'GB75AJRL15523505658738\\', \\'GB84BEUB24246840918787\\', \\'GB08AZLI13982817239167\\']\\ninteger_number: [4934, 5848, 8714, 4505, 3253, 7437, 857, 3434, 8193, 1929]\\nurl: [\\'https://white-dennis.org/\\', \\'https://www.brown.com/\\', \\'http://www.smith-austin.com/\\', \\'http://www.lowery.com/\\', \\'http://howard-beltran.com/\\', \\'https://hall.info/\\', \\'http://www.moore-wilson.info/\\', \\'http://perry.biz/\\', \\'https://www.mason-baker.com/\\', \\'http://ortiz-allison.com/\\']\\nversion: [\\'56.73.44\\', \\'90.85.58\\', \\'89.81.93\\', \\'30.42.79\\', \\'2.54.49\\', \\'63.97.4\\', \\'97.12.56\\', \\'96.17.84\\', \\'88.24.12\\', \\'51.48.18\\']\\njob: [\\'Lecturer, higher education\\', \\'Stage manager\\', \\'Engineer, manufacturing\\', \\'Industrial buyer\\', \\'Television floor manager\\', \\'Translator\\', \\'Hydrogeologist\\', \\'Chief Executive Officer\\', \\'General practice doctor\\', \\'Mining engineer\\']\\nnational_identification_number: [\\'ZZ390091T\\', \\'224-11-6399\\', \\'56147923800\\', \\'ZZ573626T\\', \\'96841732050\\', \\'36851279408\\', \\'JYHYOD24U00Y700M\\', \\'26439017582\\', \\'RMSQRB46Q75K723E\\', \\'870 825 437\\']\\nresolution: [\\'1024x768\\', \\'2880x1920\\', \\'1600x1200\\', \\'1920x1080\\', \\'1280x1024\\', \\'1920x1200\\', \\'1680x1050\\', \\'3840x2400\\', \\'1280x800\\', \\'2560x1600\\']\\nnationality: [\\'Latvian\\', \\'Ecuadorian\\', \\'Venezuelan\\', \\'Jordanian\\', \\'Dutch\\', \\'British\\', \\'Russian\\', \\'Egyptian\\', \\'Romanian\\', \\'Danish\\']\\ncredit_card_provider: [\\'JCB 16 digit\\', \\'VISA 16 digit\\', \\'Discover\\', \\'Mastercard\\', \\'Diners Club / Carte Blanche\\', \\'Maestro\\', \\'American Express\\', \\'VISA 13 digit\\', \\'VISA 19 digit\\', \\'JCB 15 digit\\']\\nfull_name: [\\'Randy Lynch\\', \\'Hannah Estrada\\', \\'Vanessa Moreno\\', \\'Craig Wilson\\', \\'Adam Shannon\\', \\'Anthony Kidd\\', \\'Teresa Davis\\', \\'Cindy Bell\\', \\'Michael Gordon\\', \\'Maxwell Meyer\\']\\nanswer: [\\'Maybe\\', \\'Yes\\', \\'No\\']\\ndrink: [\\'Shirley Temple Black\\', \\'Negroni\\', \\'BLT cocktail\\', \\'Rye whiskey\\', \\'Awamori\\', \"Pimm\\'s Cup\", \\'Blue Lagoon\\', \\'Clover Club\\', \\'Brass Monkey\\', \\'Savoy Affair\\']\\ncpu: [\\'Intel® Core i7\\', \\'Apple M1 Pro\\', \\'Apple M1 Max\\', \\'Intel® Core i9\\', \\'Apple M2\\', \\'AMD Ryzen 7 1700\\', \\'AMD Ryzen 7 1800X\\', \\'Intel® Core i3\\', \\'Apple M1\\', \\'AMD Ryzen™ Threadripper™\\']\\ncity: [\\'Romulus\\', \\'Mount Clemens\\', \\'Pottstown\\', \\'Gresham\\', \\'Colonial Heights\\', \\'Highland\\', \\'San Jacinto\\', \\'Pittsburgh\\', \\'La Mirada\\', \\'Danbury\\']\\nmanufacturer: [\\'Fujitsu\\', \\'Xiomi\\', \\'Samsung\\', \\'Dell\\', \\'Apple\\', \\'HP\\', \\'Sony\\', \\'Toshiba\\', \\'ASUS\\', \\'Lenovo\\']\\ncompany: [\\'Coleman, Golden and Bradley\\', \\'Williams-Mitchell\\', \\'Strickland Ltd\\', \\'Jones PLC\\', \\'Smith-Wolfe\\', \\'Stevens-Johnson\\', \\'Macias-Jones\\', \\'Wilson-Thompson\\', \\'Moyer Group\\', \\'Harris Inc\\']\\nfloat_number: [-62993041702.373, 9482896150993.2, 31.3330988474402, -6942070507978.73, -5081.82926157117, 4224.39546392393, 633618336413.48, 4.10894350961774, -316.710873369, -9173959490446.2]\\npolitical_views: [\\'Communist\\', \\'Liberal\\', \\'Anarchism\\', \\'Apathetic\\', \\'Libertarian\\', \\'Moderate\\', \\'Socialist\\', \\'Conservative\\']\\nphone_model: [\\'Xiaomi Redmi Note 11\\', \\'Google Pixel 7\\', \\'Samsung Galaxy S22 Plus\\', \\'Samsung Galaxy S22 Ultra\\', \\'OnePlus 10 Pro\\', \\'iPhone SE\\', \\'iPhone 13\\', \\'Google Pixel 6 Pro\\', \\'iPhone 14 Pro\\', \\'Xiaomi 12 Pro\\']\\ndish: [\\'Chocolate cheesecake\\', \\'Russian tea cake\\', \\'Chicken bog\\', \\'Ceviche\\', \\'Souvlaki\\', \\'Moules Frites\\', \\'Sloppy joe\\', \\'Oreo\\', \\'Crab Rangoon\\', \\'Senate bean soup\\']\\nEAN_code: [1495845718255, 5504730901217, 4772752056180, 1571557141830, 3303930716445, 8469338391617, 9083572863694, 1001549205122, 92672782797, 816249312527]\\nfirst_name: [\\'Oliver\\', \\'Sommer\\', \\'Stanton\\', \\'Sammy\\', \\'Sindy\\', \\'Chu\\', \\'Debera\\', \\'Perry\\', \\'Rey\\', \\'Ronny\\']\\nsystem_quality_attribute: [\\'accountability\\', \\'fault-tolerance\\', \\'ubiquity\\', \\'maintainability\\', \\'reproducibility\\', \\'demonstrability\\', \\'credibility\\', \\'inspectability\\', \\'scalability\\', \\'fidelity\\']\\nlast_name: [\\'Jackson\\', \\'Davis\\', \\'Jones\\', \\'Miller\\', \\'Daniel\\', \\'Thomas\\', \\'Friedman\\', \\'Fox\\', \\'Williams\\', \\'Perez\\']\\ndate: [\\'1990-05-01\\', \\'2018-10-26\\', \\'2024-01-15\\', \\'1981-04-10\\', \\'1991-03-16\\', \\'2009-12-26\\', \\'2022-02-27\\', \\'2023-12-22\\', \\'2009-09-19\\', \\'1977-01-01\\']\\nmeasure_unit: [\\'newton\\', \\'pascal\\', \\'kelvin\\', \\'becquerel\\', \\'tesla\\', \\'mole\\', \\'coulomb\\', \\'hertz\\', \\'volt\\', \\'watt\\']\\nisbn: [\\'978-1-106-63318-7\\', \\'978-1-320-23929-5\\', \\'978-0-2283-0564-4\\', \\'978-0-905981-05-5\\', \\'978-0-347-63991-0\\', \\'978-0-530-48388-7\\', \\'978-0-9949988-8-0\\', \\'978-0-333-62489-0\\', \\'978-1-343-28549-1\\', \\'978-0-530-67792-7\\']\\nacademic_degree/title: [\\'PhD\\', \\'Bachelor\\', \\'Master\\']\\n'}]"
      ]
     },
     "execution_count": 114,
     "metadata": {},
     "output_type": "execute_result"
    }
   ],
   "source": [
    "conversation"
   ]
  },
  {
   "cell_type": "code",
   "execution_count": 115,
   "metadata": {},
   "outputs": [],
   "source": [
    "response = openai.chat.completions.create(\n",
    "    model=\"gpt-4o\",\n",
    "    messages=conversation,\n",
    "    seed=42\n",
    ")"
   ]
  },
  {
   "cell_type": "code",
   "execution_count": 116,
   "metadata": {},
   "outputs": [],
   "source": [
    "with open(\"mapping_results/mapping.json\", \"w\") as f:\n",
    "    json.dump(response.to_dict(), f)"
   ]
  },
  {
   "cell_type": "code",
   "execution_count": 117,
   "metadata": {},
   "outputs": [],
   "source": [
    "with open(\"mapping_results/mapping.json\", \"rb\") as f:\n",
    "    response_dict = json.load(f)"
   ]
  },
  {
   "cell_type": "code",
   "execution_count": 131,
   "metadata": {},
   "outputs": [],
   "source": [
    "pii_predictions = ast.literal_eval(response_dict[\"choices\"][0][\"message\"][\"content\"][10:1431])\n",
    "personal_predictions = ast.literal_eval(response_dict[\"choices\"][0][\"message\"][\"content\"][1434:-4])"
   ]
  },
  {
   "cell_type": "code",
   "execution_count": 132,
   "metadata": {},
   "outputs": [
    {
     "data": {
      "text/html": [
       "<div>\n",
       "<style scoped>\n",
       "    .dataframe tbody tr th:only-of-type {\n",
       "        vertical-align: middle;\n",
       "    }\n",
       "\n",
       "    .dataframe tbody tr th {\n",
       "        vertical-align: top;\n",
       "    }\n",
       "\n",
       "    .dataframe thead th {\n",
       "        text-align: right;\n",
       "    }\n",
       "</style>\n",
       "<table border=\"1\" class=\"dataframe\">\n",
       "  <thead>\n",
       "    <tr style=\"text-align: right;\">\n",
       "      <th></th>\n",
       "      <th>class</th>\n",
       "      <th>pii manual</th>\n",
       "      <th>pii gpt prediction</th>\n",
       "      <th>personal manual</th>\n",
       "      <th>personal gpt prediction</th>\n",
       "    </tr>\n",
       "  </thead>\n",
       "  <tbody>\n",
       "    <tr>\n",
       "      <th>6</th>\n",
       "      <td>longitude_and_latitude</td>\n",
       "      <td>pii</td>\n",
       "      <td>non-pii</td>\n",
       "      <td>personal</td>\n",
       "      <td>personal</td>\n",
       "    </tr>\n",
       "    <tr>\n",
       "      <th>9</th>\n",
       "      <td>user_agent</td>\n",
       "      <td>non-pii</td>\n",
       "      <td>non-pii</td>\n",
       "      <td>non-personal</td>\n",
       "      <td>personal</td>\n",
       "    </tr>\n",
       "    <tr>\n",
       "      <th>14</th>\n",
       "      <td>language</td>\n",
       "      <td>non-pii</td>\n",
       "      <td>non-pii</td>\n",
       "      <td>personal</td>\n",
       "      <td>non-personal</td>\n",
       "    </tr>\n",
       "    <tr>\n",
       "      <th>19</th>\n",
       "      <td>SWIFT/BIC code</td>\n",
       "      <td>non-pii</td>\n",
       "      <td>pii</td>\n",
       "      <td>non-personal</td>\n",
       "      <td>personal</td>\n",
       "    </tr>\n",
       "    <tr>\n",
       "      <th>35</th>\n",
       "      <td>city</td>\n",
       "      <td>non-pii</td>\n",
       "      <td>non-pii</td>\n",
       "      <td>non-personal</td>\n",
       "      <td>personal</td>\n",
       "    </tr>\n",
       "  </tbody>\n",
       "</table>\n",
       "</div>"
      ],
      "text/plain": [
       "                     class pii manual pii gpt prediction personal manual  \\\n",
       "6   longitude_and_latitude        pii            non-pii        personal   \n",
       "9               user_agent    non-pii            non-pii    non-personal   \n",
       "14                language    non-pii            non-pii        personal   \n",
       "19          SWIFT/BIC code    non-pii                pii    non-personal   \n",
       "35                    city    non-pii            non-pii    non-personal   \n",
       "\n",
       "   personal gpt prediction  \n",
       "6                 personal  \n",
       "9                 personal  \n",
       "14            non-personal  \n",
       "19                personal  \n",
       "35                personal  "
      ]
     },
     "execution_count": 132,
     "metadata": {},
     "output_type": "execute_result"
    }
   ],
   "source": [
    "mapping_df = pd.DataFrame(data={\n",
    "    \"class\": pii_predictions.keys(),\n",
    "    \"pii manual\": [combined_df.loc[combined_df[\"label_multi\"] == i, \"label_pii\"].values[0] for i in pii_predictions.keys()],\n",
    "    \"pii gpt prediction\": pii_predictions.values(),\n",
    "    \"personal manual\": [combined_df.loc[combined_df[\"label_multi\"] == i, \"label_personal\"].values[0] for i in personal_predictions.keys()],\n",
    "    \"personal gpt prediction\": personal_predictions.values()\n",
    "    })\n",
    "mapping_df.loc[\n",
    "    (mapping_df[\"pii gpt prediction\"] != mapping_df[\"pii manual\"]) | \n",
    "    (mapping_df[\"personal gpt prediction\"] != mapping_df[\"personal manual\"])\n",
    "]"
   ]
  },
  {
   "cell_type": "markdown",
   "metadata": {},
   "source": [
    "For personal GPT predicts city, language, SWIFT and user_agent different  \n",
    "SWIFT, city and language are discussable, as it is context dependent (e.g., language can describe the ability of a person or a course in school)  \n",
    "user_agent seems to be far away from person-related in most contextes  \n",
    "    \n",
    "For pii GPT made  different predictions for SWIFT and longitude_and_lattidue  \n",
    "While longitude_and_lattidue is understandable, as it is not always related to a person, SWIFT can not identify a person"
   ]
  },
  {
   "cell_type": "code",
   "execution_count": null,
   "metadata": {},
   "outputs": [],
   "source": []
  }
 ],
 "metadata": {
  "kernelspec": {
   "display_name": "data-analysis",
   "language": "python",
   "name": "python3"
  },
  "language_info": {
   "codemirror_mode": {
    "name": "ipython",
    "version": 3
   },
   "file_extension": ".py",
   "mimetype": "text/x-python",
   "name": "python",
   "nbconvert_exporter": "python",
   "pygments_lexer": "ipython3",
   "version": "3.9.20"
  }
 },
 "nbformat": 4,
 "nbformat_minor": 2
}
