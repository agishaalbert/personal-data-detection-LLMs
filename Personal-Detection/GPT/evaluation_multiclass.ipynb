{
 "cells": [
  {
   "cell_type": "code",
   "execution_count": 1,
   "metadata": {},
   "outputs": [],
   "source": [
    "import pandas as pd\n",
    "import plotly.graph_objects as go\n",
    "from sklearn.metrics import accuracy_score\n",
    "import re\n",
    "from plotly.subplots import make_subplots"
   ]
  },
  {
   "cell_type": "code",
   "execution_count": 2,
   "metadata": {},
   "outputs": [],
   "source": [
    "df_llm = pd.read_csv('../datasets/dessi-mf/dessi-mf_gpt/test.csv')\n",
    "labels_llm = pd.read_csv('../datasets/dessi-mf/dessi-mf_gpt/test_labels_personal.csv')\n",
    "classes_llm = pd.read_csv('../datasets/dessi-mf/dessi-mf_gpt/test_classes.csv')\n",
    "multiclass_llm = pd.read_csv('../datasets/dessi-mf/dessi-mf_gpt/test_labels_multiclass.csv')\n",
    "dataset_llm = pd.read_csv('../datasets/dessi-mf/dessi-mf_gpt/test_dataset.csv')\n",
    "\n",
    "df_test_lan = pd.read_csv('../datasets/test_languages/test.csv')\n",
    "labels_test_lan = pd.read_csv('../datasets/test_languages/test_labels_personal.csv')\n",
    "classes_test_lan = pd.read_csv('../datasets/test_languages/test_classes.csv')\n",
    "multiclass_test_lan = pd.read_csv('../datasets/test_languages/test_labels_multiclass.csv')\n",
    "dataset_test_lan = pd.read_csv('../datasets/test_languages/test_dataset.csv')"
   ]
  },
  {
   "cell_type": "code",
   "execution_count": 3,
   "metadata": {},
   "outputs": [],
   "source": [
    "def load_responses(path):\n",
    "    with open(path, \"r\") as f:\n",
    "        response_text = f.read()\n",
    "    return response_text.split(\"\\n\")[1:]"
   ]
  },
  {
   "cell_type": "code",
   "execution_count": 4,
   "metadata": {},
   "outputs": [],
   "source": [
    "responses_own_dataset = load_responses(\"gpt_predictions/dessi-mf_results.txt\")\n",
    "responses_test_lan = load_responses(\"gpt_predictions/test_languages_results.txt\")"
   ]
  },
  {
   "cell_type": "code",
   "execution_count": 5,
   "metadata": {},
   "outputs": [],
   "source": [
    "detected_classes = []\n",
    "for j in range(len(responses_own_dataset)):\n",
    "    match1 = re.search(f\"('detected_classes'|\\\"detected_classes\\\"|detected_classes): \\[(.*?)\\]\", responses_own_dataset[j])\n",
    "    detected = match1.group(2).replace(\"'\", \"\").replace(\"\\\"\", \"\").replace(\", \", \",\")\n",
    "    if \",\" in detected:\n",
    "        detected = sorted(detected.split(\",\"))\n",
    "        detected = \",\".join(detected)\n",
    "    detected_classes.append(detected)\n",
    "results_own_dataset_multiclass = pd.DataFrame({\n",
    "    \"Name\": df_llm.columns,\n",
    "    \"True Label\": [\",\".join(sorted(s.split(\",\"))) for s in multiclass_llm[\"label\"]],\n",
    "    \"Prediction\": detected_classes,\n",
    "    \"Classes\": classes_llm[\"class\"],\n",
    "    \"Dataset\": dataset_llm[\"dataset\"]\n",
    "})\n",
    "\n",
    "detected_classes = []\n",
    "for j in range(len(responses_test_lan)):\n",
    "    match1 = re.search(f\"('detected_classes'|\\\"detected_classes\\\"|detected_classes): \\[(.*?)\\]\", responses_test_lan[j])\n",
    "    detected = match1.group(2).replace(\"'\", \"\").replace(\"\\\"\", \"\").replace(\", \", \",\")\n",
    "    if \",\" in detected:\n",
    "        detected = sorted(detected.split(\",\"))\n",
    "        detected = \",\".join(detected)\n",
    "    detected_classes.append(detected)\n",
    "results_test_lan_multiclass = pd.DataFrame({\n",
    "    \"Name\": df_test_lan.columns,\n",
    "    \"True Label\": [\",\".join(sorted(s.split(\",\"))) for s in multiclass_test_lan[\"label\"]],\n",
    "    \"Prediction\": detected_classes,\n",
    "    \"Classes\": classes_test_lan[\"class\"],\n",
    "    \"Dataset\": dataset_test_lan[\"dataset\"]\n",
    "})"
   ]
  },
  {
   "cell_type": "code",
   "execution_count": 6,
   "metadata": {},
   "outputs": [],
   "source": [
    "CLASS_NAMES = classes_llm[\"class\"].unique()\n",
    "CLASS_NAMES = [a.lower().split(\"_\")[0] for a in CLASS_NAMES]\n",
    "\n",
    "def is_valid_word(word):\n",
    "    return word.lower().split(\"_\")[0] in CLASS_NAMES\n",
    "\n",
    "def create_analysis_plot(results_df, title, dataset=\"own_data\"):\n",
    "    cla_new, lan = [], []\n",
    "    for i in range(len(results_df[\"Classes\"])):\n",
    "        if \"mixed\" in results_df.iloc[i, 3] or \"de_DE\" in results_df.iloc[i, 3] or \"fr_FR\" in results_df.iloc[i, 3]:\n",
    "            cla_new.append(results_df.iloc[i, 3][:-6])\n",
    "        elif \"_en\" in results_df.iloc[i, 3] or \"_de\" in results_df.iloc[i, 3] or \"_fr\" in results_df.iloc[i, 3] or \"_it\" in results_df.iloc[i,3\n",
    "                                                                        ] or \"_zh\" in results_df.iloc[i,3]:\n",
    "            cla_new.append(results_df.iloc[i, 3][:-3])\n",
    "        elif \",\" in results_df.iloc[i, 3]:\n",
    "                cla_new.append([','.join(sorted(string.split(','))) for string in [results_df.iloc[i, 3]]][0])\n",
    "        else:\n",
    "            cla_new.append(results_df.iloc[i, 3])\n",
    "            \n",
    "        if \"mixed\" in results_df.iloc[i, 3]:\n",
    "            lan.append(\"mixed language\")\n",
    "        elif \"_fr\" == results_df.iloc[i,3][-3:].lower():\n",
    "            lan.append(\"french\")\n",
    "        elif \"_it\" == results_df.iloc[i,3][-3:].lower():\n",
    "            lan.append(\"italian\")\n",
    "        elif \"_zh\" == results_df.iloc[i,3][-3:].lower():\n",
    "            lan.append(\"chinese\")\n",
    "        elif \"_de\" == results_df.iloc[i,3][-3:].lower():\n",
    "            lan.append(\"german\")\n",
    "        elif \"_en\" == results_df.iloc[i,3][-3:].lower():\n",
    "            lan.append(\"english\")\n",
    "        else:\n",
    "            lan.append(\"dessi data\")\n",
    "    results_df[\"Classes_new\"] = cla_new\n",
    "    results_df[\"Language\"] = lan\n",
    "    \n",
    "\n",
    "    accuracies_lan = {}\n",
    "    for i in results_df[\"Language\"].unique():\n",
    "        lan_df = results_df.loc[results_df[\"Language\"] == i]\n",
    "        accuracies_lan[i] = accuracy_score(lan_df[\"True Label\"], lan_df[\"Prediction\"])\n",
    "    accuracies_cla = {}\n",
    "    for i in results_df[\"Classes_new\"].unique():\n",
    "        cla_df = results_df.loc[results_df[\"Classes_new\"] == i]\n",
    "        accuracies_cla[i] = accuracy_score(cla_df[\"True Label\"], cla_df[\"Prediction\"])\n",
    "    accuracies_dat = {}\n",
    "    for i in results_df[\"Dataset\"].unique():\n",
    "        dat_df = results_df.loc[results_df[\"Dataset\"] == i]\n",
    "        accuracies_dat[i] = accuracy_score(dat_df[\"True Label\"], dat_df[\"Prediction\"])\n",
    "    accuracies_col = {}\n",
    "    ind = []\n",
    "    for i in range(results_df.shape[0]):\n",
    "        if is_valid_word(results_df.iloc[i, 0]):\n",
    "            ind.append(i)\n",
    "    accuracies_col[\"valid_col_names\"] = accuracy_score(results_df.iloc[ind, 2], results_df.iloc[ind, 1])\n",
    "    accuracies_col[\"invalid_col_names\"] = accuracy_score(results_df.iloc[[a for a in range(results_df.shape[0]) if a not in ind], 2], \n",
    "                                                        results_df.iloc[[a for a in range(results_df.shape[0]) if a not in ind], 1])\n",
    "\n",
    "    accuracies_cla = dict(sorted(accuracies_cla.items(), key=lambda item: item[1], reverse=True))\n",
    "    accuracies_lan = dict(sorted(accuracies_lan.items(), key=lambda item: item[1], reverse=True))\n",
    "    accuracies_col = dict(sorted(accuracies_col.items(), key=lambda item: item[1], reverse=True))\n",
    "    accuracies_dat = dict(sorted(accuracies_dat.items(), key=lambda item: item[1], reverse=True))\n",
    "\n",
    "\n",
    "    fig = make_subplots(rows=3, cols=1, subplot_titles=[\"Accuracy per Class\", \"Number of correct predictions per Class\", \"Number of false predictions per Class\"],\n",
    "                        vertical_spacing=0.065, shared_xaxes=True)\n",
    "    fig.add_trace(go.Bar(\n",
    "        x=list(accuracies_cla.keys()),\n",
    "        y=list(accuracies_cla.values()),\n",
    "        marker=dict(color=\"black\"),\n",
    "        showlegend=False\n",
    "    ))\n",
    "    \n",
    "    colors = [\n",
    "    \"#d62728\",  # Red (High Saturation)\n",
    "    \"#ff9896\",  # Red (Low Saturation)\n",
    "    \"#1f77b4\",  # Blue (High Saturation)\n",
    "    \"#aec7e8\",  # Blue (Low Saturation)\n",
    "    \"#ff7f0e\",  # Orange (High Saturation)\n",
    "    \"#ffbb78\",  # Orange (Low Saturation)\n",
    "    \"#2ca02c\",  # Green (High Saturation)\n",
    "    \"#98df8a\",  # Green (Low Saturation)\n",
    "    \"#9467bd\",  # Purple (High Saturation)\n",
    "    \"#c5b0d5\",  # Purple (Low Saturation)\n",
    "    ]\n",
    "\n",
    "    languages = ['english', 'french', 'german', 'mixed language', 'dessi data'] if dataset != \"two_languages\" else [\"italian\", \"chinese\"]\n",
    "    for bool_val in [True, False]:\n",
    "        for e, language in enumerate(languages):\n",
    "            lan_df = results_df.loc[results_df[\"Language\"] == language]\n",
    "            accuracies_cla = {}\n",
    "            for ee, col_valid in enumerate([True, False]):\n",
    "                percentage_of_this_language = []\n",
    "                for i in lan_df[\"Classes_new\"].unique():\n",
    "                    cla_df = lan_df.loc[lan_df[\"Classes_new\"] == i]\n",
    "                    ind = []\n",
    "                    for j in range(cla_df.shape[0]):\n",
    "                        if is_valid_word(cla_df.iloc[j, 0]) == col_valid:\n",
    "                            ind.append(j)\n",
    "                    cla_df = cla_df.iloc[ind,:]\n",
    "                    percentage_of_this_language.append(cla_df.shape[0] / results_df.loc[results_df[\"Classes_new\"] == i].shape[0])\n",
    "                    accuracies_cla[i] = (cla_df[\"True Label\"] == cla_df[\"Prediction\"]).value_counts(normalize=True).get(bool_val, 0)\n",
    "                fig.add_trace(go.Bar(\n",
    "                    x=list(accuracies_cla.keys()),\n",
    "                    y=[a * b for a, b in zip(list(accuracies_cla.values()), percentage_of_this_language)],\n",
    "                    marker=dict(color=colors[2*e+ee]),\n",
    "                    name=f\"{language}_\" + (\"valid\" if col_valid == True else \"invalid\") + \"<br>column name\",\n",
    "                    showlegend=True if bool_val == True else False,\n",
    "                    legendgroup=2*e+ee\n",
    "                ), row=2 if bool_val == True else 3, col=1)\n",
    "    fig.update_layout(title=f\"Accuracy per Class for GPT's {title}\", width=1500, height=700, barmode=\"stack\")\n",
    "    fig.update_yaxes(title_text=\"Accuracy\", row=1, col=1)\n",
    "    fig.update_yaxes(title_text=\"Amount of<br>correct predictions\", row=2, col=1)\n",
    "    fig.update_yaxes(title_text=\"Amount of<br>false predictions\", range=[0,1.1], row=3, col=1)\n",
    "    fig.show()\n",
    "\n",
    "    fig = make_subplots(\n",
    "        rows=1, cols=3, shared_yaxes=True,\n",
    "        subplot_titles=[\"Accuracy per Language\", \"Accuracy per Dataset\", \"Accuracy per Column Name\"]\n",
    "    )\n",
    "    fig.add_trace(go.Bar(\n",
    "        x=list(accuracies_lan.keys()),\n",
    "        y=list(accuracies_lan.values()),\n",
    "        showlegend=False\n",
    "    ), row=1, col=1)\n",
    "    fig.add_trace(go.Bar(\n",
    "        x=list(accuracies_dat.keys()),\n",
    "        y=list(accuracies_dat.values()),\n",
    "        showlegend=False\n",
    "    ), row=1, col=2)\n",
    "    fig.add_trace(go.Bar(\n",
    "        x=list(accuracies_col.keys()),\n",
    "        y=list(accuracies_col.values()),\n",
    "        showlegend=False\n",
    "    ), row=1, col=3)\n",
    "    fig.update_layout(width=900, height=500, title=f\"Accuracy of GPT's {title} with respect to different categories\")\n",
    "    fig.show()"
   ]
  },
  {
   "cell_type": "markdown",
   "metadata": {},
   "source": [
    "# Dessi-mf"
   ]
  },
  {
   "cell_type": "code",
   "execution_count": 7,
   "metadata": {},
   "outputs": [
    {
     "name": "stdout",
     "output_type": "stream",
     "text": [
      "Overall accuracy of GPT multiclass predictions on dessi-mf: 0.940\n"
     ]
    },
    {
     "data": {
      "application/vnd.plotly.v1+json": {
       "config": {
        "plotlyServerURL": "https://plot.ly"
       },
       "data": [
        {
         "marker": {
          "color": "black"
         },
         "showlegend": false,
         "type": "bar",
         "x": [
          "drink",
          "date",
          "city",
          "credit_card_provider",
          "political_views",
          "resolution",
          "integer_number",
          "dish",
          "gender",
          "iban",
          "phone_number",
          "phone_model",
          "system_quality_attribute",
          "worldview",
          "cpu",
          "answer",
          "blood_group",
          "occupation",
          "full_name",
          "blood_type",
          "last_name",
          "NIN",
          "graphics",
          "manufacturer",
          "word",
          "duration",
          "pyfloat",
          "nationality",
          "current_location",
          "programming_language",
          "measure_unit",
          "email",
          "user_agent",
          "academic_degree",
          "address",
          "Passport",
          "currency",
          "url",
          "sex",
          "CCN",
          "isbn13",
          "Phone_number",
          "SWIFT/BIC",
          "Date",
          "pyint",
          "Email",
          "job",
          "first_name",
          "Nationality",
          "title",
          "Religion",
          "Email,Phone_number",
          "language",
          "Race",
          "Sexuality",
          "isbn",
          "Gender",
          "Geolocation",
          "IBAN",
          "credit_card_number",
          "ssn",
          "float_number",
          "company",
          "color",
          "swift",
          "name",
          "ean",
          "Date,NIN",
          "version",
          "ID_Card",
          "GPE",
          "passport_number",
          "Organization",
          "NIN,Phone_number",
          "Email,NIN"
         ],
         "y": [
          1,
          1,
          1,
          1,
          1,
          1,
          1,
          1,
          1,
          1,
          1,
          1,
          1,
          1,
          1,
          1,
          1,
          1,
          1,
          1,
          1,
          1,
          1,
          1,
          1,
          1,
          1,
          1,
          1,
          1,
          1,
          1,
          1,
          1,
          1,
          1,
          1,
          1,
          1,
          1,
          1,
          1,
          1,
          1,
          1,
          1,
          1,
          1,
          1,
          1,
          1,
          1,
          1,
          1,
          1,
          1,
          1,
          1,
          1,
          0.9375,
          0.875,
          0.875,
          0.8125,
          0.8125,
          0.75,
          0.75,
          0.75,
          0.5,
          0.5,
          0.5,
          0.5,
          0.5,
          0.5,
          0.5,
          0.25
         ]
        },
        {
         "legendgroup": "0",
         "marker": {
          "color": "#d62728"
         },
         "name": "english_valid<br>column name",
         "showlegend": true,
         "type": "bar",
         "x": [
          "city",
          "resolution",
          "gender",
          "phone_number",
          "cpu",
          "political_views",
          "last_name",
          "duration",
          "pyfloat",
          "nationality",
          "programming_language",
          "user_agent",
          "academic_degree",
          "manufacturer",
          "company",
          "swift",
          "graphics",
          "dish",
          "isbn13",
          "phone_model",
          "sex",
          "email",
          "ssn",
          "system_quality_attribute",
          "title",
          "address",
          "integer_number",
          "measure_unit",
          "color",
          "full_name",
          "credit_card_number",
          "date",
          "float_number",
          "pyint",
          "current_location",
          "language",
          "job",
          "worldview",
          "first_name",
          "passport_number",
          "version",
          "blood_type",
          "word",
          "occupation",
          "drink",
          "blood_group",
          "ean",
          "currency",
          "name",
          "isbn",
          "answer",
          "iban",
          "url",
          "credit_card_provider"
         ],
         "xaxis": "x2",
         "y": [
          0.125,
          0.125,
          0.125,
          0.125,
          0.125,
          0.125,
          0.125,
          0.125,
          0.125,
          0.125,
          0.125,
          0.125,
          0.125,
          0.125,
          0.125,
          0.125,
          0.125,
          0.125,
          0.125,
          0.125,
          0.125,
          0.125,
          0.125,
          0.125,
          0.125,
          0.125,
          0.125,
          0.125,
          0.125,
          0.125,
          0.125,
          0.125,
          0.125,
          0.125,
          0.125,
          0.125,
          0.125,
          0.125,
          0.125,
          0.125,
          0.125,
          0.125,
          0.125,
          0.125,
          0.125,
          0.125,
          0.125,
          0.125,
          0.125,
          0.125,
          0.125,
          0.125,
          0.125,
          0.125
         ],
         "yaxis": "y2"
        },
        {
         "legendgroup": "1",
         "marker": {
          "color": "#ff9896"
         },
         "name": "english_invalid<br>column name",
         "showlegend": true,
         "type": "bar",
         "x": [
          "city",
          "resolution",
          "gender",
          "phone_number",
          "cpu",
          "political_views",
          "last_name",
          "duration",
          "pyfloat",
          "nationality",
          "programming_language",
          "user_agent",
          "academic_degree",
          "manufacturer",
          "company",
          "swift",
          "graphics",
          "dish",
          "isbn13",
          "phone_model",
          "sex",
          "email",
          "ssn",
          "system_quality_attribute",
          "title",
          "address",
          "integer_number",
          "measure_unit",
          "color",
          "full_name",
          "credit_card_number",
          "date",
          "float_number",
          "pyint",
          "current_location",
          "language",
          "job",
          "worldview",
          "first_name",
          "passport_number",
          "version",
          "blood_type",
          "word",
          "occupation",
          "drink",
          "blood_group",
          "ean",
          "currency",
          "name",
          "isbn",
          "answer",
          "iban",
          "url",
          "credit_card_provider"
         ],
         "xaxis": "x2",
         "y": [
          0.125,
          0.125,
          0.125,
          0.125,
          0.125,
          0.125,
          0.125,
          0.125,
          0.125,
          0.125,
          0.125,
          0.125,
          0.125,
          0.125,
          0.125,
          0.125,
          0.125,
          0.125,
          0.125,
          0.125,
          0.125,
          0.125,
          0.125,
          0.125,
          0.125,
          0.125,
          0.125,
          0.125,
          0.125,
          0.125,
          0.125,
          0.125,
          0.125,
          0.125,
          0.125,
          0.125,
          0.125,
          0.125,
          0.125,
          0,
          0,
          0.125,
          0.125,
          0.125,
          0.125,
          0.125,
          0,
          0.125,
          0.125,
          0.125,
          0.125,
          0.125,
          0.125,
          0.125
         ],
         "yaxis": "y2"
        },
        {
         "legendgroup": "2",
         "marker": {
          "color": "#1f77b4"
         },
         "name": "french_valid<br>column name",
         "showlegend": true,
         "type": "bar",
         "x": [
          "date",
          "dish",
          "iban",
          "credit_card_provider",
          "system_quality_attribute",
          "swift",
          "integer_number",
          "blood_group",
          "occupation",
          "credit_card_number",
          "manufacturer",
          "company",
          "version",
          "measure_unit",
          "duration",
          "address",
          "blood_type",
          "color",
          "pyfloat",
          "pyint",
          "email",
          "user_agent",
          "last_name",
          "phone_number",
          "resolution",
          "name",
          "programming_language",
          "full_name",
          "currency",
          "drink",
          "current_location",
          "float_number",
          "sex",
          "graphics",
          "first_name",
          "title",
          "nationality",
          "ean",
          "ssn",
          "academic_degree",
          "worldview",
          "passport_number",
          "job",
          "isbn",
          "isbn13",
          "cpu",
          "language",
          "answer",
          "phone_model",
          "gender",
          "word",
          "url",
          "city",
          "political_views"
         ],
         "xaxis": "x2",
         "y": [
          0.125,
          0.125,
          0.125,
          0.125,
          0.125,
          0.125,
          0.125,
          0.125,
          0.125,
          0.125,
          0.125,
          0.125,
          0.125,
          0.125,
          0.125,
          0.125,
          0.125,
          0.0625,
          0.125,
          0.125,
          0.125,
          0.125,
          0.125,
          0.125,
          0.125,
          0.125,
          0.125,
          0.125,
          0.125,
          0.125,
          0.125,
          0.125,
          0.125,
          0.125,
          0.125,
          0.125,
          0.125,
          0.125,
          0.125,
          0.125,
          0.125,
          0.125,
          0.125,
          0.125,
          0.125,
          0.125,
          0.125,
          0.125,
          0.125,
          0.125,
          0.125,
          0.125,
          0.125,
          0.125
         ],
         "yaxis": "y2"
        },
        {
         "legendgroup": "3",
         "marker": {
          "color": "#aec7e8"
         },
         "name": "french_invalid<br>column name",
         "showlegend": true,
         "type": "bar",
         "x": [
          "date",
          "dish",
          "iban",
          "credit_card_provider",
          "system_quality_attribute",
          "swift",
          "integer_number",
          "blood_group",
          "occupation",
          "credit_card_number",
          "manufacturer",
          "company",
          "version",
          "measure_unit",
          "duration",
          "address",
          "blood_type",
          "color",
          "pyfloat",
          "pyint",
          "email",
          "user_agent",
          "last_name",
          "phone_number",
          "resolution",
          "name",
          "programming_language",
          "full_name",
          "currency",
          "drink",
          "current_location",
          "float_number",
          "sex",
          "graphics",
          "first_name",
          "title",
          "nationality",
          "ean",
          "ssn",
          "academic_degree",
          "worldview",
          "passport_number",
          "job",
          "isbn",
          "isbn13",
          "cpu",
          "language",
          "answer",
          "phone_model",
          "gender",
          "word",
          "url",
          "city",
          "political_views"
         ],
         "xaxis": "x2",
         "y": [
          0.125,
          0.125,
          0.125,
          0.125,
          0.125,
          0,
          0.125,
          0.125,
          0.125,
          0.125,
          0.125,
          0.0625,
          0,
          0.125,
          0.125,
          0.125,
          0.125,
          0.125,
          0.125,
          0.125,
          0.125,
          0.125,
          0.125,
          0.125,
          0.125,
          0.125,
          0.125,
          0.125,
          0.125,
          0.125,
          0.125,
          0.125,
          0.125,
          0.125,
          0.125,
          0.125,
          0.125,
          0.125,
          0,
          0.125,
          0.125,
          0,
          0.125,
          0.125,
          0.125,
          0.125,
          0.125,
          0.125,
          0.125,
          0.125,
          0.125,
          0.125,
          0.125,
          0.125
         ],
         "yaxis": "y2"
        },
        {
         "legendgroup": "4",
         "marker": {
          "color": "#ff7f0e"
         },
         "name": "german_valid<br>column name",
         "showlegend": true,
         "type": "bar",
         "x": [
          "credit_card_provider",
          "political_views",
          "company",
          "phone_model",
          "worldview",
          "credit_card_number",
          "answer",
          "full_name",
          "phone_number",
          "name",
          "email",
          "dish",
          "date",
          "sex",
          "blood_group",
          "blood_type",
          "pyint",
          "pyfloat",
          "gender",
          "address",
          "job",
          "isbn13",
          "currency",
          "url",
          "city",
          "color",
          "ssn",
          "system_quality_attribute",
          "last_name",
          "graphics",
          "academic_degree",
          "swift",
          "cpu",
          "manufacturer",
          "language",
          "programming_language",
          "ean",
          "iban",
          "integer_number",
          "nationality",
          "occupation",
          "float_number",
          "word",
          "first_name",
          "version",
          "user_agent",
          "measure_unit",
          "current_location",
          "duration",
          "resolution",
          "isbn",
          "drink",
          "title",
          "passport_number"
         ],
         "xaxis": "x2",
         "y": [
          0.125,
          0.125,
          0.125,
          0.125,
          0.125,
          0.125,
          0.125,
          0.125,
          0.125,
          0,
          0.125,
          0.125,
          0.125,
          0.125,
          0.125,
          0.125,
          0.125,
          0.125,
          0.125,
          0.125,
          0.125,
          0.125,
          0.125,
          0.125,
          0.125,
          0.0625,
          0.125,
          0.125,
          0.125,
          0.125,
          0.125,
          0.125,
          0.125,
          0.125,
          0.125,
          0.125,
          0.125,
          0.125,
          0.125,
          0.125,
          0.125,
          0.125,
          0.125,
          0.125,
          0.125,
          0.125,
          0.125,
          0.125,
          0.125,
          0.125,
          0.125,
          0.125,
          0.125,
          0.125
         ],
         "yaxis": "y2"
        },
        {
         "legendgroup": "5",
         "marker": {
          "color": "#ffbb78"
         },
         "name": "german_invalid<br>column name",
         "showlegend": true,
         "type": "bar",
         "x": [
          "credit_card_provider",
          "political_views",
          "company",
          "phone_model",
          "worldview",
          "credit_card_number",
          "answer",
          "full_name",
          "phone_number",
          "name",
          "email",
          "dish",
          "date",
          "sex",
          "blood_group",
          "blood_type",
          "pyint",
          "pyfloat",
          "gender",
          "address",
          "job",
          "isbn13",
          "currency",
          "url",
          "city",
          "color",
          "ssn",
          "system_quality_attribute",
          "last_name",
          "graphics",
          "academic_degree",
          "swift",
          "cpu",
          "manufacturer",
          "language",
          "programming_language",
          "ean",
          "iban",
          "integer_number",
          "nationality",
          "occupation",
          "float_number",
          "word",
          "first_name",
          "version",
          "user_agent",
          "measure_unit",
          "current_location",
          "duration",
          "resolution",
          "isbn",
          "drink",
          "title",
          "passport_number"
         ],
         "xaxis": "x2",
         "y": [
          0.125,
          0.125,
          0.0625,
          0.125,
          0.125,
          0.125,
          0.125,
          0.125,
          0.125,
          0.125,
          0.125,
          0.125,
          0.125,
          0.125,
          0.125,
          0.125,
          0.125,
          0.125,
          0.125,
          0.125,
          0.125,
          0.125,
          0.125,
          0.125,
          0.125,
          0.125,
          0.125,
          0.125,
          0.125,
          0.125,
          0.125,
          0.125,
          0.125,
          0.125,
          0.125,
          0.125,
          0,
          0.125,
          0.125,
          0.125,
          0.125,
          0,
          0.125,
          0.125,
          0,
          0.125,
          0.125,
          0.125,
          0.125,
          0.125,
          0.125,
          0.125,
          0.125,
          0
         ],
         "yaxis": "y2"
        },
        {
         "legendgroup": "6",
         "marker": {
          "color": "#2ca02c"
         },
         "name": "mixed language_valid<br>column name",
         "showlegend": true,
         "type": "bar",
         "x": [
          "drink",
          "integer_number",
          "color",
          "blood_type",
          "last_name",
          "name",
          "graphics",
          "credit_card_provider",
          "word",
          "current_location",
          "resolution",
          "full_name",
          "currency",
          "worldview",
          "url",
          "nationality",
          "pyint",
          "measure_unit",
          "passport_number",
          "isbn13",
          "address",
          "phone_number",
          "pyfloat",
          "duration",
          "date",
          "first_name",
          "job",
          "user_agent",
          "blood_group",
          "phone_model",
          "title",
          "credit_card_number",
          "float_number",
          "ssn",
          "gender",
          "company",
          "dish",
          "system_quality_attribute",
          "ean",
          "manufacturer",
          "email",
          "iban",
          "version",
          "occupation",
          "programming_language",
          "language",
          "isbn",
          "swift",
          "cpu",
          "answer",
          "academic_degree",
          "city",
          "sex",
          "political_views"
         ],
         "xaxis": "x2",
         "y": [
          0.125,
          0.125,
          0.0625,
          0.125,
          0.125,
          0.125,
          0.125,
          0.125,
          0.125,
          0.125,
          0.125,
          0.125,
          0.125,
          0.125,
          0.125,
          0.125,
          0.125,
          0.125,
          0.125,
          0.125,
          0.125,
          0.125,
          0.125,
          0.125,
          0.125,
          0.125,
          0.125,
          0.125,
          0.125,
          0.125,
          0.125,
          0.125,
          0.125,
          0.125,
          0.125,
          0.125,
          0.125,
          0.125,
          0.125,
          0.125,
          0.125,
          0.125,
          0.125,
          0.125,
          0.125,
          0.125,
          0.125,
          0.125,
          0.125,
          0.125,
          0.125,
          0.125,
          0.125,
          0.125
         ],
         "yaxis": "y2"
        },
        {
         "legendgroup": "7",
         "marker": {
          "color": "#98df8a"
         },
         "name": "mixed language_invalid<br>column name",
         "showlegend": true,
         "type": "bar",
         "x": [
          "drink",
          "integer_number",
          "color",
          "blood_type",
          "last_name",
          "name",
          "graphics",
          "credit_card_provider",
          "word",
          "current_location",
          "resolution",
          "full_name",
          "currency",
          "worldview",
          "url",
          "nationality",
          "pyint",
          "measure_unit",
          "passport_number",
          "isbn13",
          "address",
          "phone_number",
          "pyfloat",
          "duration",
          "date",
          "first_name",
          "job",
          "user_agent",
          "blood_group",
          "phone_model",
          "title",
          "credit_card_number",
          "float_number",
          "ssn",
          "gender",
          "company",
          "dish",
          "system_quality_attribute",
          "ean",
          "manufacturer",
          "email",
          "iban",
          "version",
          "occupation",
          "programming_language",
          "language",
          "isbn",
          "swift",
          "cpu",
          "answer",
          "academic_degree",
          "city",
          "sex",
          "political_views"
         ],
         "xaxis": "x2",
         "y": [
          0.125,
          0.125,
          0.125,
          0.125,
          0.125,
          0,
          0.125,
          0.125,
          0.125,
          0.125,
          0.125,
          0.125,
          0.125,
          0.125,
          0.125,
          0.125,
          0.125,
          0.125,
          0,
          0.125,
          0.125,
          0.125,
          0.125,
          0.125,
          0.125,
          0.125,
          0.125,
          0.125,
          0.125,
          0.125,
          0.125,
          0.0625,
          0.125,
          0.125,
          0.125,
          0.0625,
          0.125,
          0.125,
          0.125,
          0.125,
          0.125,
          0.125,
          0,
          0.125,
          0.125,
          0.125,
          0.125,
          0,
          0.125,
          0.125,
          0.125,
          0.125,
          0.125,
          0.125
         ],
         "yaxis": "y2"
        },
        {
         "legendgroup": "8",
         "marker": {
          "color": "#9467bd"
         },
         "name": "dessi data_valid<br>column name",
         "showlegend": true,
         "type": "bar",
         "x": [
          "NIN",
          "Date,NIN",
          "ID_Card",
          "Passport",
          "GPE",
          "CCN",
          "Phone_number",
          "SWIFT/BIC",
          "Date",
          "Email",
          "Email,NIN",
          "Nationality",
          "Religion",
          "Email,Phone_number",
          "Organization",
          "NIN,Phone_number",
          "Race",
          "Sexuality",
          "Gender",
          "Geolocation",
          "IBAN"
         ],
         "xaxis": "x2",
         "y": [
          0.5,
          0.5,
          0.5,
          0.5,
          0.5,
          0.5,
          0.5,
          0.5,
          0.5,
          0.5,
          0.25,
          0.5,
          0.5,
          0.5,
          0,
          0.5,
          0.5,
          0.5,
          0.5,
          0.5,
          0.5
         ],
         "yaxis": "y2"
        },
        {
         "legendgroup": "9",
         "marker": {
          "color": "#c5b0d5"
         },
         "name": "dessi data_invalid<br>column name",
         "showlegend": true,
         "type": "bar",
         "x": [
          "NIN",
          "Date,NIN",
          "ID_Card",
          "Passport",
          "GPE",
          "CCN",
          "Phone_number",
          "SWIFT/BIC",
          "Date",
          "Email",
          "Email,NIN",
          "Nationality",
          "Religion",
          "Email,Phone_number",
          "Organization",
          "NIN,Phone_number",
          "Race",
          "Sexuality",
          "Gender",
          "Geolocation",
          "IBAN"
         ],
         "xaxis": "x2",
         "y": [
          0.5,
          0,
          0,
          0.5,
          0,
          0.5,
          0.5,
          0.5,
          0.5,
          0.5,
          0,
          0.5,
          0.5,
          0.5,
          0.5,
          0,
          0.5,
          0.5,
          0.5,
          0.5,
          0.5
         ],
         "yaxis": "y2"
        },
        {
         "legendgroup": "0",
         "marker": {
          "color": "#d62728"
         },
         "name": "english_valid<br>column name",
         "showlegend": false,
         "type": "bar",
         "x": [
          "city",
          "resolution",
          "gender",
          "phone_number",
          "cpu",
          "political_views",
          "last_name",
          "duration",
          "pyfloat",
          "nationality",
          "programming_language",
          "user_agent",
          "academic_degree",
          "manufacturer",
          "company",
          "swift",
          "graphics",
          "dish",
          "isbn13",
          "phone_model",
          "sex",
          "email",
          "ssn",
          "system_quality_attribute",
          "title",
          "address",
          "integer_number",
          "measure_unit",
          "color",
          "full_name",
          "credit_card_number",
          "date",
          "float_number",
          "pyint",
          "current_location",
          "language",
          "job",
          "worldview",
          "first_name",
          "passport_number",
          "version",
          "blood_type",
          "word",
          "occupation",
          "drink",
          "blood_group",
          "ean",
          "currency",
          "name",
          "isbn",
          "answer",
          "iban",
          "url",
          "credit_card_provider"
         ],
         "xaxis": "x3",
         "y": [
          0,
          0,
          0,
          0,
          0,
          0,
          0,
          0,
          0,
          0,
          0,
          0,
          0,
          0,
          0,
          0,
          0,
          0,
          0,
          0,
          0,
          0,
          0,
          0,
          0,
          0,
          0,
          0,
          0,
          0,
          0,
          0,
          0,
          0,
          0,
          0,
          0,
          0,
          0,
          0,
          0,
          0,
          0,
          0,
          0,
          0,
          0,
          0,
          0,
          0,
          0,
          0,
          0,
          0
         ],
         "yaxis": "y3"
        },
        {
         "legendgroup": "1",
         "marker": {
          "color": "#ff9896"
         },
         "name": "english_invalid<br>column name",
         "showlegend": false,
         "type": "bar",
         "x": [
          "city",
          "resolution",
          "gender",
          "phone_number",
          "cpu",
          "political_views",
          "last_name",
          "duration",
          "pyfloat",
          "nationality",
          "programming_language",
          "user_agent",
          "academic_degree",
          "manufacturer",
          "company",
          "swift",
          "graphics",
          "dish",
          "isbn13",
          "phone_model",
          "sex",
          "email",
          "ssn",
          "system_quality_attribute",
          "title",
          "address",
          "integer_number",
          "measure_unit",
          "color",
          "full_name",
          "credit_card_number",
          "date",
          "float_number",
          "pyint",
          "current_location",
          "language",
          "job",
          "worldview",
          "first_name",
          "passport_number",
          "version",
          "blood_type",
          "word",
          "occupation",
          "drink",
          "blood_group",
          "ean",
          "currency",
          "name",
          "isbn",
          "answer",
          "iban",
          "url",
          "credit_card_provider"
         ],
         "xaxis": "x3",
         "y": [
          0,
          0,
          0,
          0,
          0,
          0,
          0,
          0,
          0,
          0,
          0,
          0,
          0,
          0,
          0,
          0,
          0,
          0,
          0,
          0,
          0,
          0,
          0,
          0,
          0,
          0,
          0,
          0,
          0,
          0,
          0,
          0,
          0,
          0,
          0,
          0,
          0,
          0,
          0,
          0.125,
          0.125,
          0,
          0,
          0,
          0,
          0,
          0.125,
          0,
          0,
          0,
          0,
          0,
          0,
          0
         ],
         "yaxis": "y3"
        },
        {
         "legendgroup": "2",
         "marker": {
          "color": "#1f77b4"
         },
         "name": "french_valid<br>column name",
         "showlegend": false,
         "type": "bar",
         "x": [
          "date",
          "dish",
          "iban",
          "credit_card_provider",
          "system_quality_attribute",
          "swift",
          "integer_number",
          "blood_group",
          "occupation",
          "credit_card_number",
          "manufacturer",
          "company",
          "version",
          "measure_unit",
          "duration",
          "address",
          "blood_type",
          "color",
          "pyfloat",
          "pyint",
          "email",
          "user_agent",
          "last_name",
          "phone_number",
          "resolution",
          "name",
          "programming_language",
          "full_name",
          "currency",
          "drink",
          "current_location",
          "float_number",
          "sex",
          "graphics",
          "first_name",
          "title",
          "nationality",
          "ean",
          "ssn",
          "academic_degree",
          "worldview",
          "passport_number",
          "job",
          "isbn",
          "isbn13",
          "cpu",
          "language",
          "answer",
          "phone_model",
          "gender",
          "word",
          "url",
          "city",
          "political_views"
         ],
         "xaxis": "x3",
         "y": [
          0,
          0,
          0,
          0,
          0,
          0,
          0,
          0,
          0,
          0,
          0,
          0,
          0,
          0,
          0,
          0,
          0,
          0.0625,
          0,
          0,
          0,
          0,
          0,
          0,
          0,
          0,
          0,
          0,
          0,
          0,
          0,
          0,
          0,
          0,
          0,
          0,
          0,
          0,
          0,
          0,
          0,
          0,
          0,
          0,
          0,
          0,
          0,
          0,
          0,
          0,
          0,
          0,
          0,
          0
         ],
         "yaxis": "y3"
        },
        {
         "legendgroup": "3",
         "marker": {
          "color": "#aec7e8"
         },
         "name": "french_invalid<br>column name",
         "showlegend": false,
         "type": "bar",
         "x": [
          "date",
          "dish",
          "iban",
          "credit_card_provider",
          "system_quality_attribute",
          "swift",
          "integer_number",
          "blood_group",
          "occupation",
          "credit_card_number",
          "manufacturer",
          "company",
          "version",
          "measure_unit",
          "duration",
          "address",
          "blood_type",
          "color",
          "pyfloat",
          "pyint",
          "email",
          "user_agent",
          "last_name",
          "phone_number",
          "resolution",
          "name",
          "programming_language",
          "full_name",
          "currency",
          "drink",
          "current_location",
          "float_number",
          "sex",
          "graphics",
          "first_name",
          "title",
          "nationality",
          "ean",
          "ssn",
          "academic_degree",
          "worldview",
          "passport_number",
          "job",
          "isbn",
          "isbn13",
          "cpu",
          "language",
          "answer",
          "phone_model",
          "gender",
          "word",
          "url",
          "city",
          "political_views"
         ],
         "xaxis": "x3",
         "y": [
          0,
          0,
          0,
          0,
          0,
          0.125,
          0,
          0,
          0,
          0,
          0,
          0.0625,
          0.125,
          0,
          0,
          0,
          0,
          0,
          0,
          0,
          0,
          0,
          0,
          0,
          0,
          0,
          0,
          0,
          0,
          0,
          0,
          0,
          0,
          0,
          0,
          0,
          0,
          0,
          0.125,
          0,
          0,
          0.125,
          0,
          0,
          0,
          0,
          0,
          0,
          0,
          0,
          0,
          0,
          0,
          0
         ],
         "yaxis": "y3"
        },
        {
         "legendgroup": "4",
         "marker": {
          "color": "#ff7f0e"
         },
         "name": "german_valid<br>column name",
         "showlegend": false,
         "type": "bar",
         "x": [
          "credit_card_provider",
          "political_views",
          "company",
          "phone_model",
          "worldview",
          "credit_card_number",
          "answer",
          "full_name",
          "phone_number",
          "name",
          "email",
          "dish",
          "date",
          "sex",
          "blood_group",
          "blood_type",
          "pyint",
          "pyfloat",
          "gender",
          "address",
          "job",
          "isbn13",
          "currency",
          "url",
          "city",
          "color",
          "ssn",
          "system_quality_attribute",
          "last_name",
          "graphics",
          "academic_degree",
          "swift",
          "cpu",
          "manufacturer",
          "language",
          "programming_language",
          "ean",
          "iban",
          "integer_number",
          "nationality",
          "occupation",
          "float_number",
          "word",
          "first_name",
          "version",
          "user_agent",
          "measure_unit",
          "current_location",
          "duration",
          "resolution",
          "isbn",
          "drink",
          "title",
          "passport_number"
         ],
         "xaxis": "x3",
         "y": [
          0,
          0,
          0,
          0,
          0,
          0,
          0,
          0,
          0,
          0.125,
          0,
          0,
          0,
          0,
          0,
          0,
          0,
          0,
          0,
          0,
          0,
          0,
          0,
          0,
          0,
          0.0625,
          0,
          0,
          0,
          0,
          0,
          0,
          0,
          0,
          0,
          0,
          0,
          0,
          0,
          0,
          0,
          0,
          0,
          0,
          0,
          0,
          0,
          0,
          0,
          0,
          0,
          0,
          0,
          0
         ],
         "yaxis": "y3"
        },
        {
         "legendgroup": "5",
         "marker": {
          "color": "#ffbb78"
         },
         "name": "german_invalid<br>column name",
         "showlegend": false,
         "type": "bar",
         "x": [
          "credit_card_provider",
          "political_views",
          "company",
          "phone_model",
          "worldview",
          "credit_card_number",
          "answer",
          "full_name",
          "phone_number",
          "name",
          "email",
          "dish",
          "date",
          "sex",
          "blood_group",
          "blood_type",
          "pyint",
          "pyfloat",
          "gender",
          "address",
          "job",
          "isbn13",
          "currency",
          "url",
          "city",
          "color",
          "ssn",
          "system_quality_attribute",
          "last_name",
          "graphics",
          "academic_degree",
          "swift",
          "cpu",
          "manufacturer",
          "language",
          "programming_language",
          "ean",
          "iban",
          "integer_number",
          "nationality",
          "occupation",
          "float_number",
          "word",
          "first_name",
          "version",
          "user_agent",
          "measure_unit",
          "current_location",
          "duration",
          "resolution",
          "isbn",
          "drink",
          "title",
          "passport_number"
         ],
         "xaxis": "x3",
         "y": [
          0,
          0,
          0.0625,
          0,
          0,
          0,
          0,
          0,
          0,
          0,
          0,
          0,
          0,
          0,
          0,
          0,
          0,
          0,
          0,
          0,
          0,
          0,
          0,
          0,
          0,
          0,
          0,
          0,
          0,
          0,
          0,
          0,
          0,
          0,
          0,
          0,
          0.125,
          0,
          0,
          0,
          0,
          0.125,
          0,
          0,
          0.125,
          0,
          0,
          0,
          0,
          0,
          0,
          0,
          0,
          0.125
         ],
         "yaxis": "y3"
        },
        {
         "legendgroup": "6",
         "marker": {
          "color": "#2ca02c"
         },
         "name": "mixed language_valid<br>column name",
         "showlegend": false,
         "type": "bar",
         "x": [
          "drink",
          "integer_number",
          "color",
          "blood_type",
          "last_name",
          "name",
          "graphics",
          "credit_card_provider",
          "word",
          "current_location",
          "resolution",
          "full_name",
          "currency",
          "worldview",
          "url",
          "nationality",
          "pyint",
          "measure_unit",
          "passport_number",
          "isbn13",
          "address",
          "phone_number",
          "pyfloat",
          "duration",
          "date",
          "first_name",
          "job",
          "user_agent",
          "blood_group",
          "phone_model",
          "title",
          "credit_card_number",
          "float_number",
          "ssn",
          "gender",
          "company",
          "dish",
          "system_quality_attribute",
          "ean",
          "manufacturer",
          "email",
          "iban",
          "version",
          "occupation",
          "programming_language",
          "language",
          "isbn",
          "swift",
          "cpu",
          "answer",
          "academic_degree",
          "city",
          "sex",
          "political_views"
         ],
         "xaxis": "x3",
         "y": [
          0,
          0,
          0.0625,
          0,
          0,
          0,
          0,
          0,
          0,
          0,
          0,
          0,
          0,
          0,
          0,
          0,
          0,
          0,
          0,
          0,
          0,
          0,
          0,
          0,
          0,
          0,
          0,
          0,
          0,
          0,
          0,
          0,
          0,
          0,
          0,
          0,
          0,
          0,
          0,
          0,
          0,
          0,
          0,
          0,
          0,
          0,
          0,
          0,
          0,
          0,
          0,
          0,
          0,
          0
         ],
         "yaxis": "y3"
        },
        {
         "legendgroup": "7",
         "marker": {
          "color": "#98df8a"
         },
         "name": "mixed language_invalid<br>column name",
         "showlegend": false,
         "type": "bar",
         "x": [
          "drink",
          "integer_number",
          "color",
          "blood_type",
          "last_name",
          "name",
          "graphics",
          "credit_card_provider",
          "word",
          "current_location",
          "resolution",
          "full_name",
          "currency",
          "worldview",
          "url",
          "nationality",
          "pyint",
          "measure_unit",
          "passport_number",
          "isbn13",
          "address",
          "phone_number",
          "pyfloat",
          "duration",
          "date",
          "first_name",
          "job",
          "user_agent",
          "blood_group",
          "phone_model",
          "title",
          "credit_card_number",
          "float_number",
          "ssn",
          "gender",
          "company",
          "dish",
          "system_quality_attribute",
          "ean",
          "manufacturer",
          "email",
          "iban",
          "version",
          "occupation",
          "programming_language",
          "language",
          "isbn",
          "swift",
          "cpu",
          "answer",
          "academic_degree",
          "city",
          "sex",
          "political_views"
         ],
         "xaxis": "x3",
         "y": [
          0,
          0,
          0,
          0,
          0,
          0.125,
          0,
          0,
          0,
          0,
          0,
          0,
          0,
          0,
          0,
          0,
          0,
          0,
          0.125,
          0,
          0,
          0,
          0,
          0,
          0,
          0,
          0,
          0,
          0,
          0,
          0,
          0.0625,
          0,
          0,
          0,
          0.0625,
          0,
          0,
          0,
          0,
          0,
          0,
          0.125,
          0,
          0,
          0,
          0,
          0.125,
          0,
          0,
          0,
          0,
          0,
          0
         ],
         "yaxis": "y3"
        },
        {
         "legendgroup": "8",
         "marker": {
          "color": "#9467bd"
         },
         "name": "dessi data_valid<br>column name",
         "showlegend": false,
         "type": "bar",
         "x": [
          "NIN",
          "Date,NIN",
          "ID_Card",
          "Passport",
          "GPE",
          "CCN",
          "Phone_number",
          "SWIFT/BIC",
          "Date",
          "Email",
          "Email,NIN",
          "Nationality",
          "Religion",
          "Email,Phone_number",
          "Organization",
          "NIN,Phone_number",
          "Race",
          "Sexuality",
          "Gender",
          "Geolocation",
          "IBAN"
         ],
         "xaxis": "x3",
         "y": [
          0,
          0,
          0,
          0,
          0,
          0,
          0,
          0,
          0,
          0,
          0.25,
          0,
          0,
          0,
          0.5,
          0,
          0,
          0,
          0,
          0,
          0
         ],
         "yaxis": "y3"
        },
        {
         "legendgroup": "9",
         "marker": {
          "color": "#c5b0d5"
         },
         "name": "dessi data_invalid<br>column name",
         "showlegend": false,
         "type": "bar",
         "x": [
          "NIN",
          "Date,NIN",
          "ID_Card",
          "Passport",
          "GPE",
          "CCN",
          "Phone_number",
          "SWIFT/BIC",
          "Date",
          "Email",
          "Email,NIN",
          "Nationality",
          "Religion",
          "Email,Phone_number",
          "Organization",
          "NIN,Phone_number",
          "Race",
          "Sexuality",
          "Gender",
          "Geolocation",
          "IBAN"
         ],
         "xaxis": "x3",
         "y": [
          0,
          0.5,
          0.5,
          0,
          0.5,
          0,
          0,
          0,
          0,
          0,
          0.5,
          0,
          0,
          0,
          0,
          0.5,
          0,
          0,
          0,
          0,
          0
         ],
         "yaxis": "y3"
        }
       ],
       "layout": {
        "annotations": [
         {
          "font": {
           "size": 16
          },
          "showarrow": false,
          "text": "Accuracy per Class",
          "x": 0.5,
          "xanchor": "center",
          "xref": "paper",
          "y": 1,
          "yanchor": "bottom",
          "yref": "paper"
         },
         {
          "font": {
           "size": 16
          },
          "showarrow": false,
          "text": "Number of correct predictions per Class",
          "x": 0.5,
          "xanchor": "center",
          "xref": "paper",
          "y": 0.645,
          "yanchor": "bottom",
          "yref": "paper"
         },
         {
          "font": {
           "size": 16
          },
          "showarrow": false,
          "text": "Number of false predictions per Class",
          "x": 0.5,
          "xanchor": "center",
          "xref": "paper",
          "y": 0.29,
          "yanchor": "bottom",
          "yref": "paper"
         }
        ],
        "barmode": "stack",
        "height": 700,
        "template": {
         "data": {
          "bar": [
           {
            "error_x": {
             "color": "#2a3f5f"
            },
            "error_y": {
             "color": "#2a3f5f"
            },
            "marker": {
             "line": {
              "color": "#E5ECF6",
              "width": 0.5
             },
             "pattern": {
              "fillmode": "overlay",
              "size": 10,
              "solidity": 0.2
             }
            },
            "type": "bar"
           }
          ],
          "barpolar": [
           {
            "marker": {
             "line": {
              "color": "#E5ECF6",
              "width": 0.5
             },
             "pattern": {
              "fillmode": "overlay",
              "size": 10,
              "solidity": 0.2
             }
            },
            "type": "barpolar"
           }
          ],
          "carpet": [
           {
            "aaxis": {
             "endlinecolor": "#2a3f5f",
             "gridcolor": "white",
             "linecolor": "white",
             "minorgridcolor": "white",
             "startlinecolor": "#2a3f5f"
            },
            "baxis": {
             "endlinecolor": "#2a3f5f",
             "gridcolor": "white",
             "linecolor": "white",
             "minorgridcolor": "white",
             "startlinecolor": "#2a3f5f"
            },
            "type": "carpet"
           }
          ],
          "choropleth": [
           {
            "colorbar": {
             "outlinewidth": 0,
             "ticks": ""
            },
            "type": "choropleth"
           }
          ],
          "contour": [
           {
            "colorbar": {
             "outlinewidth": 0,
             "ticks": ""
            },
            "colorscale": [
             [
              0,
              "#0d0887"
             ],
             [
              0.1111111111111111,
              "#46039f"
             ],
             [
              0.2222222222222222,
              "#7201a8"
             ],
             [
              0.3333333333333333,
              "#9c179e"
             ],
             [
              0.4444444444444444,
              "#bd3786"
             ],
             [
              0.5555555555555556,
              "#d8576b"
             ],
             [
              0.6666666666666666,
              "#ed7953"
             ],
             [
              0.7777777777777778,
              "#fb9f3a"
             ],
             [
              0.8888888888888888,
              "#fdca26"
             ],
             [
              1,
              "#f0f921"
             ]
            ],
            "type": "contour"
           }
          ],
          "contourcarpet": [
           {
            "colorbar": {
             "outlinewidth": 0,
             "ticks": ""
            },
            "type": "contourcarpet"
           }
          ],
          "heatmap": [
           {
            "colorbar": {
             "outlinewidth": 0,
             "ticks": ""
            },
            "colorscale": [
             [
              0,
              "#0d0887"
             ],
             [
              0.1111111111111111,
              "#46039f"
             ],
             [
              0.2222222222222222,
              "#7201a8"
             ],
             [
              0.3333333333333333,
              "#9c179e"
             ],
             [
              0.4444444444444444,
              "#bd3786"
             ],
             [
              0.5555555555555556,
              "#d8576b"
             ],
             [
              0.6666666666666666,
              "#ed7953"
             ],
             [
              0.7777777777777778,
              "#fb9f3a"
             ],
             [
              0.8888888888888888,
              "#fdca26"
             ],
             [
              1,
              "#f0f921"
             ]
            ],
            "type": "heatmap"
           }
          ],
          "heatmapgl": [
           {
            "colorbar": {
             "outlinewidth": 0,
             "ticks": ""
            },
            "colorscale": [
             [
              0,
              "#0d0887"
             ],
             [
              0.1111111111111111,
              "#46039f"
             ],
             [
              0.2222222222222222,
              "#7201a8"
             ],
             [
              0.3333333333333333,
              "#9c179e"
             ],
             [
              0.4444444444444444,
              "#bd3786"
             ],
             [
              0.5555555555555556,
              "#d8576b"
             ],
             [
              0.6666666666666666,
              "#ed7953"
             ],
             [
              0.7777777777777778,
              "#fb9f3a"
             ],
             [
              0.8888888888888888,
              "#fdca26"
             ],
             [
              1,
              "#f0f921"
             ]
            ],
            "type": "heatmapgl"
           }
          ],
          "histogram": [
           {
            "marker": {
             "pattern": {
              "fillmode": "overlay",
              "size": 10,
              "solidity": 0.2
             }
            },
            "type": "histogram"
           }
          ],
          "histogram2d": [
           {
            "colorbar": {
             "outlinewidth": 0,
             "ticks": ""
            },
            "colorscale": [
             [
              0,
              "#0d0887"
             ],
             [
              0.1111111111111111,
              "#46039f"
             ],
             [
              0.2222222222222222,
              "#7201a8"
             ],
             [
              0.3333333333333333,
              "#9c179e"
             ],
             [
              0.4444444444444444,
              "#bd3786"
             ],
             [
              0.5555555555555556,
              "#d8576b"
             ],
             [
              0.6666666666666666,
              "#ed7953"
             ],
             [
              0.7777777777777778,
              "#fb9f3a"
             ],
             [
              0.8888888888888888,
              "#fdca26"
             ],
             [
              1,
              "#f0f921"
             ]
            ],
            "type": "histogram2d"
           }
          ],
          "histogram2dcontour": [
           {
            "colorbar": {
             "outlinewidth": 0,
             "ticks": ""
            },
            "colorscale": [
             [
              0,
              "#0d0887"
             ],
             [
              0.1111111111111111,
              "#46039f"
             ],
             [
              0.2222222222222222,
              "#7201a8"
             ],
             [
              0.3333333333333333,
              "#9c179e"
             ],
             [
              0.4444444444444444,
              "#bd3786"
             ],
             [
              0.5555555555555556,
              "#d8576b"
             ],
             [
              0.6666666666666666,
              "#ed7953"
             ],
             [
              0.7777777777777778,
              "#fb9f3a"
             ],
             [
              0.8888888888888888,
              "#fdca26"
             ],
             [
              1,
              "#f0f921"
             ]
            ],
            "type": "histogram2dcontour"
           }
          ],
          "mesh3d": [
           {
            "colorbar": {
             "outlinewidth": 0,
             "ticks": ""
            },
            "type": "mesh3d"
           }
          ],
          "parcoords": [
           {
            "line": {
             "colorbar": {
              "outlinewidth": 0,
              "ticks": ""
             }
            },
            "type": "parcoords"
           }
          ],
          "pie": [
           {
            "automargin": true,
            "type": "pie"
           }
          ],
          "scatter": [
           {
            "fillpattern": {
             "fillmode": "overlay",
             "size": 10,
             "solidity": 0.2
            },
            "type": "scatter"
           }
          ],
          "scatter3d": [
           {
            "line": {
             "colorbar": {
              "outlinewidth": 0,
              "ticks": ""
             }
            },
            "marker": {
             "colorbar": {
              "outlinewidth": 0,
              "ticks": ""
             }
            },
            "type": "scatter3d"
           }
          ],
          "scattercarpet": [
           {
            "marker": {
             "colorbar": {
              "outlinewidth": 0,
              "ticks": ""
             }
            },
            "type": "scattercarpet"
           }
          ],
          "scattergeo": [
           {
            "marker": {
             "colorbar": {
              "outlinewidth": 0,
              "ticks": ""
             }
            },
            "type": "scattergeo"
           }
          ],
          "scattergl": [
           {
            "marker": {
             "colorbar": {
              "outlinewidth": 0,
              "ticks": ""
             }
            },
            "type": "scattergl"
           }
          ],
          "scattermapbox": [
           {
            "marker": {
             "colorbar": {
              "outlinewidth": 0,
              "ticks": ""
             }
            },
            "type": "scattermapbox"
           }
          ],
          "scatterpolar": [
           {
            "marker": {
             "colorbar": {
              "outlinewidth": 0,
              "ticks": ""
             }
            },
            "type": "scatterpolar"
           }
          ],
          "scatterpolargl": [
           {
            "marker": {
             "colorbar": {
              "outlinewidth": 0,
              "ticks": ""
             }
            },
            "type": "scatterpolargl"
           }
          ],
          "scatterternary": [
           {
            "marker": {
             "colorbar": {
              "outlinewidth": 0,
              "ticks": ""
             }
            },
            "type": "scatterternary"
           }
          ],
          "surface": [
           {
            "colorbar": {
             "outlinewidth": 0,
             "ticks": ""
            },
            "colorscale": [
             [
              0,
              "#0d0887"
             ],
             [
              0.1111111111111111,
              "#46039f"
             ],
             [
              0.2222222222222222,
              "#7201a8"
             ],
             [
              0.3333333333333333,
              "#9c179e"
             ],
             [
              0.4444444444444444,
              "#bd3786"
             ],
             [
              0.5555555555555556,
              "#d8576b"
             ],
             [
              0.6666666666666666,
              "#ed7953"
             ],
             [
              0.7777777777777778,
              "#fb9f3a"
             ],
             [
              0.8888888888888888,
              "#fdca26"
             ],
             [
              1,
              "#f0f921"
             ]
            ],
            "type": "surface"
           }
          ],
          "table": [
           {
            "cells": {
             "fill": {
              "color": "#EBF0F8"
             },
             "line": {
              "color": "white"
             }
            },
            "header": {
             "fill": {
              "color": "#C8D4E3"
             },
             "line": {
              "color": "white"
             }
            },
            "type": "table"
           }
          ]
         },
         "layout": {
          "annotationdefaults": {
           "arrowcolor": "#2a3f5f",
           "arrowhead": 0,
           "arrowwidth": 1
          },
          "autotypenumbers": "strict",
          "coloraxis": {
           "colorbar": {
            "outlinewidth": 0,
            "ticks": ""
           }
          },
          "colorscale": {
           "diverging": [
            [
             0,
             "#8e0152"
            ],
            [
             0.1,
             "#c51b7d"
            ],
            [
             0.2,
             "#de77ae"
            ],
            [
             0.3,
             "#f1b6da"
            ],
            [
             0.4,
             "#fde0ef"
            ],
            [
             0.5,
             "#f7f7f7"
            ],
            [
             0.6,
             "#e6f5d0"
            ],
            [
             0.7,
             "#b8e186"
            ],
            [
             0.8,
             "#7fbc41"
            ],
            [
             0.9,
             "#4d9221"
            ],
            [
             1,
             "#276419"
            ]
           ],
           "sequential": [
            [
             0,
             "#0d0887"
            ],
            [
             0.1111111111111111,
             "#46039f"
            ],
            [
             0.2222222222222222,
             "#7201a8"
            ],
            [
             0.3333333333333333,
             "#9c179e"
            ],
            [
             0.4444444444444444,
             "#bd3786"
            ],
            [
             0.5555555555555556,
             "#d8576b"
            ],
            [
             0.6666666666666666,
             "#ed7953"
            ],
            [
             0.7777777777777778,
             "#fb9f3a"
            ],
            [
             0.8888888888888888,
             "#fdca26"
            ],
            [
             1,
             "#f0f921"
            ]
           ],
           "sequentialminus": [
            [
             0,
             "#0d0887"
            ],
            [
             0.1111111111111111,
             "#46039f"
            ],
            [
             0.2222222222222222,
             "#7201a8"
            ],
            [
             0.3333333333333333,
             "#9c179e"
            ],
            [
             0.4444444444444444,
             "#bd3786"
            ],
            [
             0.5555555555555556,
             "#d8576b"
            ],
            [
             0.6666666666666666,
             "#ed7953"
            ],
            [
             0.7777777777777778,
             "#fb9f3a"
            ],
            [
             0.8888888888888888,
             "#fdca26"
            ],
            [
             1,
             "#f0f921"
            ]
           ]
          },
          "colorway": [
           "#636efa",
           "#EF553B",
           "#00cc96",
           "#ab63fa",
           "#FFA15A",
           "#19d3f3",
           "#FF6692",
           "#B6E880",
           "#FF97FF",
           "#FECB52"
          ],
          "font": {
           "color": "#2a3f5f"
          },
          "geo": {
           "bgcolor": "white",
           "lakecolor": "white",
           "landcolor": "#E5ECF6",
           "showlakes": true,
           "showland": true,
           "subunitcolor": "white"
          },
          "hoverlabel": {
           "align": "left"
          },
          "hovermode": "closest",
          "mapbox": {
           "style": "light"
          },
          "paper_bgcolor": "white",
          "plot_bgcolor": "#E5ECF6",
          "polar": {
           "angularaxis": {
            "gridcolor": "white",
            "linecolor": "white",
            "ticks": ""
           },
           "bgcolor": "#E5ECF6",
           "radialaxis": {
            "gridcolor": "white",
            "linecolor": "white",
            "ticks": ""
           }
          },
          "scene": {
           "xaxis": {
            "backgroundcolor": "#E5ECF6",
            "gridcolor": "white",
            "gridwidth": 2,
            "linecolor": "white",
            "showbackground": true,
            "ticks": "",
            "zerolinecolor": "white"
           },
           "yaxis": {
            "backgroundcolor": "#E5ECF6",
            "gridcolor": "white",
            "gridwidth": 2,
            "linecolor": "white",
            "showbackground": true,
            "ticks": "",
            "zerolinecolor": "white"
           },
           "zaxis": {
            "backgroundcolor": "#E5ECF6",
            "gridcolor": "white",
            "gridwidth": 2,
            "linecolor": "white",
            "showbackground": true,
            "ticks": "",
            "zerolinecolor": "white"
           }
          },
          "shapedefaults": {
           "line": {
            "color": "#2a3f5f"
           }
          },
          "ternary": {
           "aaxis": {
            "gridcolor": "white",
            "linecolor": "white",
            "ticks": ""
           },
           "baxis": {
            "gridcolor": "white",
            "linecolor": "white",
            "ticks": ""
           },
           "bgcolor": "#E5ECF6",
           "caxis": {
            "gridcolor": "white",
            "linecolor": "white",
            "ticks": ""
           }
          },
          "title": {
           "x": 0.05
          },
          "xaxis": {
           "automargin": true,
           "gridcolor": "white",
           "linecolor": "white",
           "ticks": "",
           "title": {
            "standoff": 15
           },
           "zerolinecolor": "white",
           "zerolinewidth": 2
          },
          "yaxis": {
           "automargin": true,
           "gridcolor": "white",
           "linecolor": "white",
           "ticks": "",
           "title": {
            "standoff": 15
           },
           "zerolinecolor": "white",
           "zerolinewidth": 2
          }
         }
        },
        "title": {
         "text": "Accuracy per Class for GPT's multiclass predictions on dessi-mf"
        },
        "width": 1500,
        "xaxis": {
         "anchor": "y",
         "domain": [
          0,
          1
         ],
         "matches": "x3",
         "showticklabels": false
        },
        "xaxis2": {
         "anchor": "y2",
         "domain": [
          0,
          1
         ],
         "matches": "x3",
         "showticklabels": false
        },
        "xaxis3": {
         "anchor": "y3",
         "domain": [
          0,
          1
         ]
        },
        "yaxis": {
         "anchor": "x",
         "domain": [
          0.71,
          1
         ],
         "title": {
          "text": "Accuracy"
         }
        },
        "yaxis2": {
         "anchor": "x2",
         "domain": [
          0.355,
          0.645
         ],
         "title": {
          "text": "Amount of<br>correct predictions"
         }
        },
        "yaxis3": {
         "anchor": "x3",
         "domain": [
          0,
          0.29
         ],
         "range": [
          0,
          1.1
         ],
         "title": {
          "text": "Amount of<br>false predictions"
         }
        }
       }
      }
     },
     "metadata": {},
     "output_type": "display_data"
    },
    {
     "data": {
      "application/vnd.plotly.v1+json": {
       "config": {
        "plotlyServerURL": "https://plot.ly"
       },
       "data": [
        {
         "showlegend": false,
         "type": "bar",
         "x": [
          "english",
          "french",
          "mixed language",
          "german",
          "dessi data"
         ],
         "xaxis": "x",
         "y": [
          0.9758064516129032,
          0.9516129032258065,
          0.9435483870967742,
          0.9435483870967742,
          0.8
         ],
         "yaxis": "y"
        },
        {
         "showlegend": false,
         "type": "bar",
         "x": [
          "mimesis",
          "faker",
          "dessi"
         ],
         "xaxis": "x2",
         "y": [
          0.9763513513513513,
          0.92,
          0.8
         ],
         "yaxis": "y2"
        },
        {
         "showlegend": false,
         "type": "bar",
         "x": [
          "valid_col_names",
          "invalid_col_names"
         ],
         "xaxis": "x3",
         "y": [
          0.978021978021978,
          0.9010989010989011
         ],
         "yaxis": "y3"
        }
       ],
       "layout": {
        "annotations": [
         {
          "font": {
           "size": 16
          },
          "showarrow": false,
          "text": "Accuracy per Language",
          "x": 0.14444444444444446,
          "xanchor": "center",
          "xref": "paper",
          "y": 1,
          "yanchor": "bottom",
          "yref": "paper"
         },
         {
          "font": {
           "size": 16
          },
          "showarrow": false,
          "text": "Accuracy per Dataset",
          "x": 0.5,
          "xanchor": "center",
          "xref": "paper",
          "y": 1,
          "yanchor": "bottom",
          "yref": "paper"
         },
         {
          "font": {
           "size": 16
          },
          "showarrow": false,
          "text": "Accuracy per Column Name",
          "x": 0.8555555555555556,
          "xanchor": "center",
          "xref": "paper",
          "y": 1,
          "yanchor": "bottom",
          "yref": "paper"
         }
        ],
        "height": 500,
        "template": {
         "data": {
          "bar": [
           {
            "error_x": {
             "color": "#2a3f5f"
            },
            "error_y": {
             "color": "#2a3f5f"
            },
            "marker": {
             "line": {
              "color": "#E5ECF6",
              "width": 0.5
             },
             "pattern": {
              "fillmode": "overlay",
              "size": 10,
              "solidity": 0.2
             }
            },
            "type": "bar"
           }
          ],
          "barpolar": [
           {
            "marker": {
             "line": {
              "color": "#E5ECF6",
              "width": 0.5
             },
             "pattern": {
              "fillmode": "overlay",
              "size": 10,
              "solidity": 0.2
             }
            },
            "type": "barpolar"
           }
          ],
          "carpet": [
           {
            "aaxis": {
             "endlinecolor": "#2a3f5f",
             "gridcolor": "white",
             "linecolor": "white",
             "minorgridcolor": "white",
             "startlinecolor": "#2a3f5f"
            },
            "baxis": {
             "endlinecolor": "#2a3f5f",
             "gridcolor": "white",
             "linecolor": "white",
             "minorgridcolor": "white",
             "startlinecolor": "#2a3f5f"
            },
            "type": "carpet"
           }
          ],
          "choropleth": [
           {
            "colorbar": {
             "outlinewidth": 0,
             "ticks": ""
            },
            "type": "choropleth"
           }
          ],
          "contour": [
           {
            "colorbar": {
             "outlinewidth": 0,
             "ticks": ""
            },
            "colorscale": [
             [
              0,
              "#0d0887"
             ],
             [
              0.1111111111111111,
              "#46039f"
             ],
             [
              0.2222222222222222,
              "#7201a8"
             ],
             [
              0.3333333333333333,
              "#9c179e"
             ],
             [
              0.4444444444444444,
              "#bd3786"
             ],
             [
              0.5555555555555556,
              "#d8576b"
             ],
             [
              0.6666666666666666,
              "#ed7953"
             ],
             [
              0.7777777777777778,
              "#fb9f3a"
             ],
             [
              0.8888888888888888,
              "#fdca26"
             ],
             [
              1,
              "#f0f921"
             ]
            ],
            "type": "contour"
           }
          ],
          "contourcarpet": [
           {
            "colorbar": {
             "outlinewidth": 0,
             "ticks": ""
            },
            "type": "contourcarpet"
           }
          ],
          "heatmap": [
           {
            "colorbar": {
             "outlinewidth": 0,
             "ticks": ""
            },
            "colorscale": [
             [
              0,
              "#0d0887"
             ],
             [
              0.1111111111111111,
              "#46039f"
             ],
             [
              0.2222222222222222,
              "#7201a8"
             ],
             [
              0.3333333333333333,
              "#9c179e"
             ],
             [
              0.4444444444444444,
              "#bd3786"
             ],
             [
              0.5555555555555556,
              "#d8576b"
             ],
             [
              0.6666666666666666,
              "#ed7953"
             ],
             [
              0.7777777777777778,
              "#fb9f3a"
             ],
             [
              0.8888888888888888,
              "#fdca26"
             ],
             [
              1,
              "#f0f921"
             ]
            ],
            "type": "heatmap"
           }
          ],
          "heatmapgl": [
           {
            "colorbar": {
             "outlinewidth": 0,
             "ticks": ""
            },
            "colorscale": [
             [
              0,
              "#0d0887"
             ],
             [
              0.1111111111111111,
              "#46039f"
             ],
             [
              0.2222222222222222,
              "#7201a8"
             ],
             [
              0.3333333333333333,
              "#9c179e"
             ],
             [
              0.4444444444444444,
              "#bd3786"
             ],
             [
              0.5555555555555556,
              "#d8576b"
             ],
             [
              0.6666666666666666,
              "#ed7953"
             ],
             [
              0.7777777777777778,
              "#fb9f3a"
             ],
             [
              0.8888888888888888,
              "#fdca26"
             ],
             [
              1,
              "#f0f921"
             ]
            ],
            "type": "heatmapgl"
           }
          ],
          "histogram": [
           {
            "marker": {
             "pattern": {
              "fillmode": "overlay",
              "size": 10,
              "solidity": 0.2
             }
            },
            "type": "histogram"
           }
          ],
          "histogram2d": [
           {
            "colorbar": {
             "outlinewidth": 0,
             "ticks": ""
            },
            "colorscale": [
             [
              0,
              "#0d0887"
             ],
             [
              0.1111111111111111,
              "#46039f"
             ],
             [
              0.2222222222222222,
              "#7201a8"
             ],
             [
              0.3333333333333333,
              "#9c179e"
             ],
             [
              0.4444444444444444,
              "#bd3786"
             ],
             [
              0.5555555555555556,
              "#d8576b"
             ],
             [
              0.6666666666666666,
              "#ed7953"
             ],
             [
              0.7777777777777778,
              "#fb9f3a"
             ],
             [
              0.8888888888888888,
              "#fdca26"
             ],
             [
              1,
              "#f0f921"
             ]
            ],
            "type": "histogram2d"
           }
          ],
          "histogram2dcontour": [
           {
            "colorbar": {
             "outlinewidth": 0,
             "ticks": ""
            },
            "colorscale": [
             [
              0,
              "#0d0887"
             ],
             [
              0.1111111111111111,
              "#46039f"
             ],
             [
              0.2222222222222222,
              "#7201a8"
             ],
             [
              0.3333333333333333,
              "#9c179e"
             ],
             [
              0.4444444444444444,
              "#bd3786"
             ],
             [
              0.5555555555555556,
              "#d8576b"
             ],
             [
              0.6666666666666666,
              "#ed7953"
             ],
             [
              0.7777777777777778,
              "#fb9f3a"
             ],
             [
              0.8888888888888888,
              "#fdca26"
             ],
             [
              1,
              "#f0f921"
             ]
            ],
            "type": "histogram2dcontour"
           }
          ],
          "mesh3d": [
           {
            "colorbar": {
             "outlinewidth": 0,
             "ticks": ""
            },
            "type": "mesh3d"
           }
          ],
          "parcoords": [
           {
            "line": {
             "colorbar": {
              "outlinewidth": 0,
              "ticks": ""
             }
            },
            "type": "parcoords"
           }
          ],
          "pie": [
           {
            "automargin": true,
            "type": "pie"
           }
          ],
          "scatter": [
           {
            "fillpattern": {
             "fillmode": "overlay",
             "size": 10,
             "solidity": 0.2
            },
            "type": "scatter"
           }
          ],
          "scatter3d": [
           {
            "line": {
             "colorbar": {
              "outlinewidth": 0,
              "ticks": ""
             }
            },
            "marker": {
             "colorbar": {
              "outlinewidth": 0,
              "ticks": ""
             }
            },
            "type": "scatter3d"
           }
          ],
          "scattercarpet": [
           {
            "marker": {
             "colorbar": {
              "outlinewidth": 0,
              "ticks": ""
             }
            },
            "type": "scattercarpet"
           }
          ],
          "scattergeo": [
           {
            "marker": {
             "colorbar": {
              "outlinewidth": 0,
              "ticks": ""
             }
            },
            "type": "scattergeo"
           }
          ],
          "scattergl": [
           {
            "marker": {
             "colorbar": {
              "outlinewidth": 0,
              "ticks": ""
             }
            },
            "type": "scattergl"
           }
          ],
          "scattermapbox": [
           {
            "marker": {
             "colorbar": {
              "outlinewidth": 0,
              "ticks": ""
             }
            },
            "type": "scattermapbox"
           }
          ],
          "scatterpolar": [
           {
            "marker": {
             "colorbar": {
              "outlinewidth": 0,
              "ticks": ""
             }
            },
            "type": "scatterpolar"
           }
          ],
          "scatterpolargl": [
           {
            "marker": {
             "colorbar": {
              "outlinewidth": 0,
              "ticks": ""
             }
            },
            "type": "scatterpolargl"
           }
          ],
          "scatterternary": [
           {
            "marker": {
             "colorbar": {
              "outlinewidth": 0,
              "ticks": ""
             }
            },
            "type": "scatterternary"
           }
          ],
          "surface": [
           {
            "colorbar": {
             "outlinewidth": 0,
             "ticks": ""
            },
            "colorscale": [
             [
              0,
              "#0d0887"
             ],
             [
              0.1111111111111111,
              "#46039f"
             ],
             [
              0.2222222222222222,
              "#7201a8"
             ],
             [
              0.3333333333333333,
              "#9c179e"
             ],
             [
              0.4444444444444444,
              "#bd3786"
             ],
             [
              0.5555555555555556,
              "#d8576b"
             ],
             [
              0.6666666666666666,
              "#ed7953"
             ],
             [
              0.7777777777777778,
              "#fb9f3a"
             ],
             [
              0.8888888888888888,
              "#fdca26"
             ],
             [
              1,
              "#f0f921"
             ]
            ],
            "type": "surface"
           }
          ],
          "table": [
           {
            "cells": {
             "fill": {
              "color": "#EBF0F8"
             },
             "line": {
              "color": "white"
             }
            },
            "header": {
             "fill": {
              "color": "#C8D4E3"
             },
             "line": {
              "color": "white"
             }
            },
            "type": "table"
           }
          ]
         },
         "layout": {
          "annotationdefaults": {
           "arrowcolor": "#2a3f5f",
           "arrowhead": 0,
           "arrowwidth": 1
          },
          "autotypenumbers": "strict",
          "coloraxis": {
           "colorbar": {
            "outlinewidth": 0,
            "ticks": ""
           }
          },
          "colorscale": {
           "diverging": [
            [
             0,
             "#8e0152"
            ],
            [
             0.1,
             "#c51b7d"
            ],
            [
             0.2,
             "#de77ae"
            ],
            [
             0.3,
             "#f1b6da"
            ],
            [
             0.4,
             "#fde0ef"
            ],
            [
             0.5,
             "#f7f7f7"
            ],
            [
             0.6,
             "#e6f5d0"
            ],
            [
             0.7,
             "#b8e186"
            ],
            [
             0.8,
             "#7fbc41"
            ],
            [
             0.9,
             "#4d9221"
            ],
            [
             1,
             "#276419"
            ]
           ],
           "sequential": [
            [
             0,
             "#0d0887"
            ],
            [
             0.1111111111111111,
             "#46039f"
            ],
            [
             0.2222222222222222,
             "#7201a8"
            ],
            [
             0.3333333333333333,
             "#9c179e"
            ],
            [
             0.4444444444444444,
             "#bd3786"
            ],
            [
             0.5555555555555556,
             "#d8576b"
            ],
            [
             0.6666666666666666,
             "#ed7953"
            ],
            [
             0.7777777777777778,
             "#fb9f3a"
            ],
            [
             0.8888888888888888,
             "#fdca26"
            ],
            [
             1,
             "#f0f921"
            ]
           ],
           "sequentialminus": [
            [
             0,
             "#0d0887"
            ],
            [
             0.1111111111111111,
             "#46039f"
            ],
            [
             0.2222222222222222,
             "#7201a8"
            ],
            [
             0.3333333333333333,
             "#9c179e"
            ],
            [
             0.4444444444444444,
             "#bd3786"
            ],
            [
             0.5555555555555556,
             "#d8576b"
            ],
            [
             0.6666666666666666,
             "#ed7953"
            ],
            [
             0.7777777777777778,
             "#fb9f3a"
            ],
            [
             0.8888888888888888,
             "#fdca26"
            ],
            [
             1,
             "#f0f921"
            ]
           ]
          },
          "colorway": [
           "#636efa",
           "#EF553B",
           "#00cc96",
           "#ab63fa",
           "#FFA15A",
           "#19d3f3",
           "#FF6692",
           "#B6E880",
           "#FF97FF",
           "#FECB52"
          ],
          "font": {
           "color": "#2a3f5f"
          },
          "geo": {
           "bgcolor": "white",
           "lakecolor": "white",
           "landcolor": "#E5ECF6",
           "showlakes": true,
           "showland": true,
           "subunitcolor": "white"
          },
          "hoverlabel": {
           "align": "left"
          },
          "hovermode": "closest",
          "mapbox": {
           "style": "light"
          },
          "paper_bgcolor": "white",
          "plot_bgcolor": "#E5ECF6",
          "polar": {
           "angularaxis": {
            "gridcolor": "white",
            "linecolor": "white",
            "ticks": ""
           },
           "bgcolor": "#E5ECF6",
           "radialaxis": {
            "gridcolor": "white",
            "linecolor": "white",
            "ticks": ""
           }
          },
          "scene": {
           "xaxis": {
            "backgroundcolor": "#E5ECF6",
            "gridcolor": "white",
            "gridwidth": 2,
            "linecolor": "white",
            "showbackground": true,
            "ticks": "",
            "zerolinecolor": "white"
           },
           "yaxis": {
            "backgroundcolor": "#E5ECF6",
            "gridcolor": "white",
            "gridwidth": 2,
            "linecolor": "white",
            "showbackground": true,
            "ticks": "",
            "zerolinecolor": "white"
           },
           "zaxis": {
            "backgroundcolor": "#E5ECF6",
            "gridcolor": "white",
            "gridwidth": 2,
            "linecolor": "white",
            "showbackground": true,
            "ticks": "",
            "zerolinecolor": "white"
           }
          },
          "shapedefaults": {
           "line": {
            "color": "#2a3f5f"
           }
          },
          "ternary": {
           "aaxis": {
            "gridcolor": "white",
            "linecolor": "white",
            "ticks": ""
           },
           "baxis": {
            "gridcolor": "white",
            "linecolor": "white",
            "ticks": ""
           },
           "bgcolor": "#E5ECF6",
           "caxis": {
            "gridcolor": "white",
            "linecolor": "white",
            "ticks": ""
           }
          },
          "title": {
           "x": 0.05
          },
          "xaxis": {
           "automargin": true,
           "gridcolor": "white",
           "linecolor": "white",
           "ticks": "",
           "title": {
            "standoff": 15
           },
           "zerolinecolor": "white",
           "zerolinewidth": 2
          },
          "yaxis": {
           "automargin": true,
           "gridcolor": "white",
           "linecolor": "white",
           "ticks": "",
           "title": {
            "standoff": 15
           },
           "zerolinecolor": "white",
           "zerolinewidth": 2
          }
         }
        },
        "title": {
         "text": "Accuracy of GPT's multiclass predictions on dessi-mf with respect to different categories"
        },
        "width": 900,
        "xaxis": {
         "anchor": "y",
         "domain": [
          0,
          0.2888888888888889
         ]
        },
        "xaxis2": {
         "anchor": "y2",
         "domain": [
          0.35555555555555557,
          0.6444444444444445
         ]
        },
        "xaxis3": {
         "anchor": "y3",
         "domain": [
          0.7111111111111111,
          1
         ]
        },
        "yaxis": {
         "anchor": "x",
         "domain": [
          0,
          1
         ]
        },
        "yaxis2": {
         "anchor": "x2",
         "domain": [
          0,
          1
         ],
         "matches": "y",
         "showticklabels": false
        },
        "yaxis3": {
         "anchor": "x3",
         "domain": [
          0,
          1
         ],
         "matches": "y",
         "showticklabels": false
        }
       }
      }
     },
     "metadata": {},
     "output_type": "display_data"
    }
   ],
   "source": [
    "print(f\"Overall accuracy of GPT multiclass predictions on dessi-mf: {accuracy_score(results_own_dataset_multiclass['True Label'], results_own_dataset_multiclass['Prediction']):.3f}\")\n",
    "create_analysis_plot(results_own_dataset_multiclass, \"multiclass predictions on dessi-mf\")"
   ]
  },
  {
   "cell_type": "code",
   "execution_count": 8,
   "metadata": {},
   "outputs": [
    {
     "data": {
      "text/html": [
       "<div>\n",
       "<style scoped>\n",
       "    .dataframe tbody tr th:only-of-type {\n",
       "        vertical-align: middle;\n",
       "    }\n",
       "\n",
       "    .dataframe tbody tr th {\n",
       "        vertical-align: top;\n",
       "    }\n",
       "\n",
       "    .dataframe thead th {\n",
       "        text-align: right;\n",
       "    }\n",
       "</style>\n",
       "<table border=\"1\" class=\"dataframe\">\n",
       "  <thead>\n",
       "    <tr style=\"text-align: right;\">\n",
       "      <th></th>\n",
       "      <th>Name</th>\n",
       "      <th>True Label</th>\n",
       "      <th>Prediction</th>\n",
       "      <th>Classes</th>\n",
       "      <th>Dataset</th>\n",
       "      <th>Classes_new</th>\n",
       "      <th>Language</th>\n",
       "    </tr>\n",
       "  </thead>\n",
       "  <tbody>\n",
       "    <tr>\n",
       "      <th>17</th>\n",
       "      <td>dPI1af7W</td>\n",
       "      <td>SWIFT/BIC code</td>\n",
       "      <td></td>\n",
       "      <td>swift_fr_FR</td>\n",
       "      <td>faker</td>\n",
       "      <td>swift</td>\n",
       "      <td>french</td>\n",
       "    </tr>\n",
       "    <tr>\n",
       "      <th>44</th>\n",
       "      <td>name_de_DE_faker</td>\n",
       "      <td>full_name</td>\n",
       "      <td>academic_degree/title,full_name</td>\n",
       "      <td>name_de_DE</td>\n",
       "      <td>faker</td>\n",
       "      <td>name</td>\n",
       "      <td>german</td>\n",
       "    </tr>\n",
       "    <tr>\n",
       "      <th>48</th>\n",
       "      <td>f5GCZdDiGADKdJDRZtUb</td>\n",
       "      <td>version</td>\n",
       "      <td></td>\n",
       "      <td>version_fr</td>\n",
       "      <td>mimesis</td>\n",
       "      <td>version</td>\n",
       "      <td>french</td>\n",
       "    </tr>\n",
       "    <tr>\n",
       "      <th>49</th>\n",
       "      <td>ypqnvPf7C</td>\n",
       "      <td>id_card</td>\n",
       "      <td></td>\n",
       "      <td>ID_Card</td>\n",
       "      <td>dessi</td>\n",
       "      <td>ID_Card</td>\n",
       "      <td>dessi data</td>\n",
       "    </tr>\n",
       "    <tr>\n",
       "      <th>129</th>\n",
       "      <td>R74KPONu3OujCeECOtY</td>\n",
       "      <td>email,national_identification_number</td>\n",
       "      <td>email</td>\n",
       "      <td>NIN,Email</td>\n",
       "      <td>dessi</td>\n",
       "      <td>Email,NIN</td>\n",
       "      <td>dessi data</td>\n",
       "    </tr>\n",
       "    <tr>\n",
       "      <th>139</th>\n",
       "      <td>36Ud9sMtwgKGnjQEo2</td>\n",
       "      <td>email,national_identification_number</td>\n",
       "      <td>email,national_identification_number,passport_...</td>\n",
       "      <td>Email,NIN</td>\n",
       "      <td>dessi</td>\n",
       "      <td>Email,NIN</td>\n",
       "      <td>dessi data</td>\n",
       "    </tr>\n",
       "    <tr>\n",
       "      <th>157</th>\n",
       "      <td>color_de_DE_faker</td>\n",
       "      <td>color</td>\n",
       "      <td></td>\n",
       "      <td>color_de_DE</td>\n",
       "      <td>faker</td>\n",
       "      <td>color</td>\n",
       "      <td>german</td>\n",
       "    </tr>\n",
       "    <tr>\n",
       "      <th>193</th>\n",
       "      <td>X8KMf4djkWNdRfr</td>\n",
       "      <td>national_identification_number,phone_number</td>\n",
       "      <td>phone_number</td>\n",
       "      <td>Phone_number,NIN</td>\n",
       "      <td>dessi</td>\n",
       "      <td>NIN,Phone_number</td>\n",
       "      <td>dessi data</td>\n",
       "    </tr>\n",
       "    <tr>\n",
       "      <th>203</th>\n",
       "      <td>color_fr_FR_faker</td>\n",
       "      <td>color</td>\n",
       "      <td></td>\n",
       "      <td>color_fr_FR</td>\n",
       "      <td>faker</td>\n",
       "      <td>color</td>\n",
       "      <td>french</td>\n",
       "    </tr>\n",
       "    <tr>\n",
       "      <th>204</th>\n",
       "      <td>pDwjrm74UWhc</td>\n",
       "      <td>date,national_identification_number</td>\n",
       "      <td>date,national_identification_number,passport_n...</td>\n",
       "      <td>Date,NIN</td>\n",
       "      <td>dessi</td>\n",
       "      <td>Date,NIN</td>\n",
       "      <td>dessi data</td>\n",
       "    </tr>\n",
       "    <tr>\n",
       "      <th>216</th>\n",
       "      <td>fUF0eWI</td>\n",
       "      <td>national_identification_number</td>\n",
       "      <td></td>\n",
       "      <td>ssn_fr_FR</td>\n",
       "      <td>faker</td>\n",
       "      <td>ssn</td>\n",
       "      <td>french</td>\n",
       "    </tr>\n",
       "    <tr>\n",
       "      <th>220</th>\n",
       "      <td>xGZVRk8bj2MRYCcie</td>\n",
       "      <td>national_identification_number,phone_number</td>\n",
       "      <td>phone_number</td>\n",
       "      <td>NIN,Phone_number</td>\n",
       "      <td>dessi</td>\n",
       "      <td>NIN,Phone_number</td>\n",
       "      <td>dessi data</td>\n",
       "    </tr>\n",
       "    <tr>\n",
       "      <th>239</th>\n",
       "      <td>VET6ZyyQY0PjF9c</td>\n",
       "      <td>date,national_identification_number</td>\n",
       "      <td>national_identification_number</td>\n",
       "      <td>NIN,Date</td>\n",
       "      <td>dessi</td>\n",
       "      <td>Date,NIN</td>\n",
       "      <td>dessi data</td>\n",
       "    </tr>\n",
       "    <tr>\n",
       "      <th>263</th>\n",
       "      <td>TSyFzpjPSa5</td>\n",
       "      <td>company</td>\n",
       "      <td>last_name</td>\n",
       "      <td>company_fr_FR</td>\n",
       "      <td>faker</td>\n",
       "      <td>company</td>\n",
       "      <td>french</td>\n",
       "    </tr>\n",
       "    <tr>\n",
       "      <th>275</th>\n",
       "      <td>155sXZoMZwoOmNqRWUXQ</td>\n",
       "      <td>EAN_code</td>\n",
       "      <td>credit_card_number</td>\n",
       "      <td>ean_de_DE</td>\n",
       "      <td>faker</td>\n",
       "      <td>ean</td>\n",
       "      <td>german</td>\n",
       "    </tr>\n",
       "    <tr>\n",
       "      <th>276</th>\n",
       "      <td>shzb9ukZ8ND1S6xfB2</td>\n",
       "      <td>version</td>\n",
       "      <td></td>\n",
       "      <td>version_en</td>\n",
       "      <td>mimesis</td>\n",
       "      <td>version</td>\n",
       "      <td>english</td>\n",
       "    </tr>\n",
       "    <tr>\n",
       "      <th>294</th>\n",
       "      <td>pBLzHfz3</td>\n",
       "      <td>passport_number</td>\n",
       "      <td></td>\n",
       "      <td>passport_number_en</td>\n",
       "      <td>faker</td>\n",
       "      <td>passport_number</td>\n",
       "      <td>english</td>\n",
       "    </tr>\n",
       "    <tr>\n",
       "      <th>295</th>\n",
       "      <td>dJp62hDiZDQHJMu8W5C</td>\n",
       "      <td>company</td>\n",
       "      <td>company,last_name</td>\n",
       "      <td>company_de_DE</td>\n",
       "      <td>faker</td>\n",
       "      <td>company</td>\n",
       "      <td>german</td>\n",
       "    </tr>\n",
       "    <tr>\n",
       "      <th>300</th>\n",
       "      <td>Organization_dessi</td>\n",
       "      <td>company</td>\n",
       "      <td></td>\n",
       "      <td>Organization</td>\n",
       "      <td>dessi</td>\n",
       "      <td>Organization</td>\n",
       "      <td>dessi data</td>\n",
       "    </tr>\n",
       "    <tr>\n",
       "      <th>304</th>\n",
       "      <td>B4zVC59yvlFSFx7Z</td>\n",
       "      <td>full_name</td>\n",
       "      <td>academic_degree/title,full_name</td>\n",
       "      <td>name_mixed</td>\n",
       "      <td>faker</td>\n",
       "      <td>name</td>\n",
       "      <td>mixed language</td>\n",
       "    </tr>\n",
       "    <tr>\n",
       "      <th>306</th>\n",
       "      <td>N9Vg8W</td>\n",
       "      <td>passport_number</td>\n",
       "      <td></td>\n",
       "      <td>passport_number_mixed</td>\n",
       "      <td>faker</td>\n",
       "      <td>passport_number</td>\n",
       "      <td>mixed language</td>\n",
       "    </tr>\n",
       "    <tr>\n",
       "      <th>323</th>\n",
       "      <td>QHoAtrdJ8</td>\n",
       "      <td>gpe</td>\n",
       "      <td>city</td>\n",
       "      <td>GPE</td>\n",
       "      <td>dessi</td>\n",
       "      <td>GPE</td>\n",
       "      <td>dessi data</td>\n",
       "    </tr>\n",
       "    <tr>\n",
       "      <th>324</th>\n",
       "      <td>L8LjkQNU5M</td>\n",
       "      <td>float_number</td>\n",
       "      <td></td>\n",
       "      <td>float_number_de</td>\n",
       "      <td>mimesis</td>\n",
       "      <td>float_number</td>\n",
       "      <td>german</td>\n",
       "    </tr>\n",
       "    <tr>\n",
       "      <th>367</th>\n",
       "      <td>VJvwSDrtqohUmuhVI8</td>\n",
       "      <td>credit_card_number</td>\n",
       "      <td></td>\n",
       "      <td>credit_card_number_mixed</td>\n",
       "      <td>mimesis</td>\n",
       "      <td>credit_card_number</td>\n",
       "      <td>mixed language</td>\n",
       "    </tr>\n",
       "    <tr>\n",
       "      <th>368</th>\n",
       "      <td>zh84KpLMcNfA</td>\n",
       "      <td>EAN_code</td>\n",
       "      <td></td>\n",
       "      <td>ean_en</td>\n",
       "      <td>faker</td>\n",
       "      <td>ean</td>\n",
       "      <td>english</td>\n",
       "    </tr>\n",
       "    <tr>\n",
       "      <th>408</th>\n",
       "      <td>VEnm0Ir7JSrig</td>\n",
       "      <td>version</td>\n",
       "      <td></td>\n",
       "      <td>version_mixed</td>\n",
       "      <td>mimesis</td>\n",
       "      <td>version</td>\n",
       "      <td>mixed language</td>\n",
       "    </tr>\n",
       "    <tr>\n",
       "      <th>418</th>\n",
       "      <td>gRoEbN48Ju6NoPeO</td>\n",
       "      <td>company</td>\n",
       "      <td>manufacturer</td>\n",
       "      <td>company_mixed</td>\n",
       "      <td>mimesis</td>\n",
       "      <td>company</td>\n",
       "      <td>mixed language</td>\n",
       "    </tr>\n",
       "    <tr>\n",
       "      <th>435</th>\n",
       "      <td>color_mixed_faker</td>\n",
       "      <td>color</td>\n",
       "      <td></td>\n",
       "      <td>color_mixed</td>\n",
       "      <td>faker</td>\n",
       "      <td>color</td>\n",
       "      <td>mixed language</td>\n",
       "    </tr>\n",
       "    <tr>\n",
       "      <th>441</th>\n",
       "      <td>Email,NIN_dessi</td>\n",
       "      <td>email,national_identification_number</td>\n",
       "      <td>national_identification_number</td>\n",
       "      <td>Email,NIN</td>\n",
       "      <td>dessi</td>\n",
       "      <td>Email,NIN</td>\n",
       "      <td>dessi data</td>\n",
       "    </tr>\n",
       "    <tr>\n",
       "      <th>460</th>\n",
       "      <td>YHuSAAjtylWIEp2ot</td>\n",
       "      <td>version</td>\n",
       "      <td></td>\n",
       "      <td>version_de</td>\n",
       "      <td>mimesis</td>\n",
       "      <td>version</td>\n",
       "      <td>german</td>\n",
       "    </tr>\n",
       "    <tr>\n",
       "      <th>500</th>\n",
       "      <td>f2o3gyrDO1xkxw</td>\n",
       "      <td>SWIFT/BIC code</td>\n",
       "      <td></td>\n",
       "      <td>swift_mixed</td>\n",
       "      <td>faker</td>\n",
       "      <td>swift</td>\n",
       "      <td>mixed language</td>\n",
       "    </tr>\n",
       "    <tr>\n",
       "      <th>514</th>\n",
       "      <td>cosTsS3DeRo7qY</td>\n",
       "      <td>passport_number</td>\n",
       "      <td></td>\n",
       "      <td>passport_number_fr_FR</td>\n",
       "      <td>faker</td>\n",
       "      <td>passport_number</td>\n",
       "      <td>french</td>\n",
       "    </tr>\n",
       "    <tr>\n",
       "      <th>522</th>\n",
       "      <td>RhALtY5U3SObMEq</td>\n",
       "      <td>passport_number</td>\n",
       "      <td></td>\n",
       "      <td>passport_number_de_DE</td>\n",
       "      <td>faker</td>\n",
       "      <td>passport_number</td>\n",
       "      <td>german</td>\n",
       "    </tr>\n",
       "  </tbody>\n",
       "</table>\n",
       "</div>"
      ],
      "text/plain": [
       "                     Name                                   True Label  \\\n",
       "17               dPI1af7W                               SWIFT/BIC code   \n",
       "44       name_de_DE_faker                                    full_name   \n",
       "48   f5GCZdDiGADKdJDRZtUb                                      version   \n",
       "49              ypqnvPf7C                                      id_card   \n",
       "129   R74KPONu3OujCeECOtY         email,national_identification_number   \n",
       "139    36Ud9sMtwgKGnjQEo2         email,national_identification_number   \n",
       "157     color_de_DE_faker                                        color   \n",
       "193       X8KMf4djkWNdRfr  national_identification_number,phone_number   \n",
       "203     color_fr_FR_faker                                        color   \n",
       "204          pDwjrm74UWhc          date,national_identification_number   \n",
       "216               fUF0eWI               national_identification_number   \n",
       "220     xGZVRk8bj2MRYCcie  national_identification_number,phone_number   \n",
       "239       VET6ZyyQY0PjF9c          date,national_identification_number   \n",
       "263           TSyFzpjPSa5                                      company   \n",
       "275  155sXZoMZwoOmNqRWUXQ                                     EAN_code   \n",
       "276    shzb9ukZ8ND1S6xfB2                                      version   \n",
       "294              pBLzHfz3                              passport_number   \n",
       "295   dJp62hDiZDQHJMu8W5C                                      company   \n",
       "300    Organization_dessi                                      company   \n",
       "304      B4zVC59yvlFSFx7Z                                    full_name   \n",
       "306                N9Vg8W                              passport_number   \n",
       "323             QHoAtrdJ8                                          gpe   \n",
       "324            L8LjkQNU5M                                 float_number   \n",
       "367    VJvwSDrtqohUmuhVI8                           credit_card_number   \n",
       "368          zh84KpLMcNfA                                     EAN_code   \n",
       "408         VEnm0Ir7JSrig                                      version   \n",
       "418      gRoEbN48Ju6NoPeO                                      company   \n",
       "435     color_mixed_faker                                        color   \n",
       "441       Email,NIN_dessi         email,national_identification_number   \n",
       "460     YHuSAAjtylWIEp2ot                                      version   \n",
       "500        f2o3gyrDO1xkxw                               SWIFT/BIC code   \n",
       "514        cosTsS3DeRo7qY                              passport_number   \n",
       "522       RhALtY5U3SObMEq                              passport_number   \n",
       "\n",
       "                                            Prediction  \\\n",
       "17                                                       \n",
       "44                     academic_degree/title,full_name   \n",
       "48                                                       \n",
       "49                                                       \n",
       "129                                              email   \n",
       "139  email,national_identification_number,passport_...   \n",
       "157                                                      \n",
       "193                                       phone_number   \n",
       "203                                                      \n",
       "204  date,national_identification_number,passport_n...   \n",
       "216                                                      \n",
       "220                                       phone_number   \n",
       "239                     national_identification_number   \n",
       "263                                          last_name   \n",
       "275                                 credit_card_number   \n",
       "276                                                      \n",
       "294                                                      \n",
       "295                                  company,last_name   \n",
       "300                                                      \n",
       "304                    academic_degree/title,full_name   \n",
       "306                                                      \n",
       "323                                               city   \n",
       "324                                                      \n",
       "367                                                      \n",
       "368                                                      \n",
       "408                                                      \n",
       "418                                       manufacturer   \n",
       "435                                                      \n",
       "441                     national_identification_number   \n",
       "460                                                      \n",
       "500                                                      \n",
       "514                                                      \n",
       "522                                                      \n",
       "\n",
       "                      Classes  Dataset         Classes_new        Language  \n",
       "17                swift_fr_FR    faker               swift          french  \n",
       "44                 name_de_DE    faker                name          german  \n",
       "48                 version_fr  mimesis             version          french  \n",
       "49                    ID_Card    dessi             ID_Card      dessi data  \n",
       "129                 NIN,Email    dessi           Email,NIN      dessi data  \n",
       "139                 Email,NIN    dessi           Email,NIN      dessi data  \n",
       "157               color_de_DE    faker               color          german  \n",
       "193          Phone_number,NIN    dessi    NIN,Phone_number      dessi data  \n",
       "203               color_fr_FR    faker               color          french  \n",
       "204                  Date,NIN    dessi            Date,NIN      dessi data  \n",
       "216                 ssn_fr_FR    faker                 ssn          french  \n",
       "220          NIN,Phone_number    dessi    NIN,Phone_number      dessi data  \n",
       "239                  NIN,Date    dessi            Date,NIN      dessi data  \n",
       "263             company_fr_FR    faker             company          french  \n",
       "275                 ean_de_DE    faker                 ean          german  \n",
       "276                version_en  mimesis             version         english  \n",
       "294        passport_number_en    faker     passport_number         english  \n",
       "295             company_de_DE    faker             company          german  \n",
       "300              Organization    dessi        Organization      dessi data  \n",
       "304                name_mixed    faker                name  mixed language  \n",
       "306     passport_number_mixed    faker     passport_number  mixed language  \n",
       "323                       GPE    dessi                 GPE      dessi data  \n",
       "324           float_number_de  mimesis        float_number          german  \n",
       "367  credit_card_number_mixed  mimesis  credit_card_number  mixed language  \n",
       "368                    ean_en    faker                 ean         english  \n",
       "408             version_mixed  mimesis             version  mixed language  \n",
       "418             company_mixed  mimesis             company  mixed language  \n",
       "435               color_mixed    faker               color  mixed language  \n",
       "441                 Email,NIN    dessi           Email,NIN      dessi data  \n",
       "460                version_de  mimesis             version          german  \n",
       "500               swift_mixed    faker               swift  mixed language  \n",
       "514     passport_number_fr_FR    faker     passport_number          french  \n",
       "522     passport_number_de_DE    faker     passport_number          german  "
      ]
     },
     "execution_count": 8,
     "metadata": {},
     "output_type": "execute_result"
    }
   ],
   "source": [
    "results_own_dataset_multiclass.loc[results_own_dataset_multiclass[\"Prediction\"] != results_own_dataset_multiclass[\"True Label\"]]"
   ]
  },
  {
   "cell_type": "markdown",
   "metadata": {},
   "source": [
    "# Test Languages"
   ]
  },
  {
   "cell_type": "code",
   "execution_count": 9,
   "metadata": {},
   "outputs": [
    {
     "name": "stdout",
     "output_type": "stream",
     "text": [
      "Overall accuracy of GPT multiclass predictions on own dataset: 0.950\n"
     ]
    },
    {
     "data": {
      "application/vnd.plotly.v1+json": {
       "config": {
        "plotlyServerURL": "https://plot.ly"
       },
       "data": [
        {
         "marker": {
          "color": "black"
         },
         "showlegend": false,
         "type": "bar",
         "x": [
          "academic_degree",
          "occupation",
          "first_name",
          "address",
          "worldview",
          "color",
          "dish",
          "company",
          "last_name",
          "full_name",
          "drink",
          "gender",
          "title",
          "political_views",
          "answer",
          "city",
          "language",
          "phone_number",
          "url",
          "iban",
          "ssn",
          "email",
          "word",
          "nationality",
          "swift"
         ],
         "y": [
          1,
          1,
          1,
          1,
          1,
          1,
          1,
          1,
          1,
          1,
          1,
          1,
          1,
          1,
          1,
          1,
          1,
          1,
          1,
          1,
          1,
          1,
          0.75,
          0.5,
          0.5
         ]
        },
        {
         "legendgroup": "0",
         "marker": {
          "color": "#d62728"
         },
         "name": "italian_valid<br>column name",
         "showlegend": true,
         "type": "bar",
         "x": [
          "academic_degree",
          "address",
          "worldview",
          "color",
          "dish",
          "nationality",
          "full_name",
          "occupation",
          "first_name",
          "title",
          "last_name",
          "city",
          "company",
          "language",
          "answer",
          "political_views",
          "word",
          "drink",
          "gender",
          "phone_number",
          "url",
          "iban",
          "ssn",
          "swift",
          "email"
         ],
         "xaxis": "x2",
         "y": [
          0.25,
          0.25,
          0.25,
          0.25,
          0.25,
          0.25,
          0.25,
          0.25,
          0.25,
          0.25,
          0.25,
          0.25,
          0.25,
          0.25,
          0.25,
          0.25,
          0.25,
          0.25,
          0.25,
          0.25,
          0.25,
          0.25,
          0.25,
          0.25,
          0.25
         ],
         "yaxis": "y2"
        },
        {
         "legendgroup": "1",
         "marker": {
          "color": "#ff9896"
         },
         "name": "italian_invalid<br>column name",
         "showlegend": true,
         "type": "bar",
         "x": [
          "academic_degree",
          "address",
          "worldview",
          "color",
          "dish",
          "nationality",
          "full_name",
          "occupation",
          "first_name",
          "title",
          "last_name",
          "city",
          "company",
          "language",
          "answer",
          "political_views",
          "word",
          "drink",
          "gender",
          "phone_number",
          "url",
          "iban",
          "ssn",
          "swift",
          "email"
         ],
         "xaxis": "x2",
         "y": [
          0.25,
          0.25,
          0.25,
          0.25,
          0.25,
          0,
          0.25,
          0.25,
          0.25,
          0.25,
          0.25,
          0.25,
          0.25,
          0.25,
          0.25,
          0.25,
          0.25,
          0.25,
          0.25,
          0.25,
          0.25,
          0.25,
          0.25,
          0,
          0.25
         ],
         "yaxis": "y2"
        },
        {
         "legendgroup": "2",
         "marker": {
          "color": "#1f77b4"
         },
         "name": "chinese_valid<br>column name",
         "showlegend": true,
         "type": "bar",
         "x": [
          "occupation",
          "first_name",
          "worldview",
          "company",
          "color",
          "word",
          "last_name",
          "drink",
          "gender",
          "nationality",
          "political_views",
          "dish",
          "academic_degree",
          "answer",
          "city",
          "title",
          "address",
          "full_name",
          "language",
          "url",
          "phone_number",
          "iban",
          "ssn",
          "swift",
          "email"
         ],
         "xaxis": "x2",
         "y": [
          0.25,
          0.25,
          0.25,
          0.25,
          0.25,
          0.25,
          0.25,
          0.25,
          0.25,
          0.25,
          0.25,
          0.25,
          0.25,
          0.25,
          0.25,
          0.25,
          0.25,
          0.25,
          0.25,
          0.25,
          0.25,
          0.25,
          0.25,
          0.25,
          0.25
         ],
         "yaxis": "y2"
        },
        {
         "legendgroup": "3",
         "marker": {
          "color": "#aec7e8"
         },
         "name": "chinese_invalid<br>column name",
         "showlegend": true,
         "type": "bar",
         "x": [
          "occupation",
          "first_name",
          "worldview",
          "company",
          "color",
          "word",
          "last_name",
          "drink",
          "gender",
          "nationality",
          "political_views",
          "dish",
          "academic_degree",
          "answer",
          "city",
          "title",
          "address",
          "full_name",
          "language",
          "url",
          "phone_number",
          "iban",
          "ssn",
          "swift",
          "email"
         ],
         "xaxis": "x2",
         "y": [
          0.25,
          0.25,
          0.25,
          0.25,
          0.25,
          0,
          0.25,
          0.25,
          0.25,
          0,
          0.25,
          0.25,
          0.25,
          0.25,
          0.25,
          0.25,
          0.25,
          0.25,
          0.25,
          0.25,
          0.25,
          0.25,
          0.25,
          0,
          0.25
         ],
         "yaxis": "y2"
        },
        {
         "legendgroup": "0",
         "marker": {
          "color": "#d62728"
         },
         "name": "italian_valid<br>column name",
         "showlegend": false,
         "type": "bar",
         "x": [
          "academic_degree",
          "address",
          "worldview",
          "color",
          "dish",
          "nationality",
          "full_name",
          "occupation",
          "first_name",
          "title",
          "last_name",
          "city",
          "company",
          "language",
          "answer",
          "political_views",
          "word",
          "drink",
          "gender",
          "phone_number",
          "url",
          "iban",
          "ssn",
          "swift",
          "email"
         ],
         "xaxis": "x3",
         "y": [
          0,
          0,
          0,
          0,
          0,
          0,
          0,
          0,
          0,
          0,
          0,
          0,
          0,
          0,
          0,
          0,
          0,
          0,
          0,
          0,
          0,
          0,
          0,
          0,
          0
         ],
         "yaxis": "y3"
        },
        {
         "legendgroup": "1",
         "marker": {
          "color": "#ff9896"
         },
         "name": "italian_invalid<br>column name",
         "showlegend": false,
         "type": "bar",
         "x": [
          "academic_degree",
          "address",
          "worldview",
          "color",
          "dish",
          "nationality",
          "full_name",
          "occupation",
          "first_name",
          "title",
          "last_name",
          "city",
          "company",
          "language",
          "answer",
          "political_views",
          "word",
          "drink",
          "gender",
          "phone_number",
          "url",
          "iban",
          "ssn",
          "swift",
          "email"
         ],
         "xaxis": "x3",
         "y": [
          0,
          0,
          0,
          0,
          0,
          0.25,
          0,
          0,
          0,
          0,
          0,
          0,
          0,
          0,
          0,
          0,
          0,
          0,
          0,
          0,
          0,
          0,
          0,
          0.25,
          0
         ],
         "yaxis": "y3"
        },
        {
         "legendgroup": "2",
         "marker": {
          "color": "#1f77b4"
         },
         "name": "chinese_valid<br>column name",
         "showlegend": false,
         "type": "bar",
         "x": [
          "occupation",
          "first_name",
          "worldview",
          "company",
          "color",
          "word",
          "last_name",
          "drink",
          "gender",
          "nationality",
          "political_views",
          "dish",
          "academic_degree",
          "answer",
          "city",
          "title",
          "address",
          "full_name",
          "language",
          "url",
          "phone_number",
          "iban",
          "ssn",
          "swift",
          "email"
         ],
         "xaxis": "x3",
         "y": [
          0,
          0,
          0,
          0,
          0,
          0,
          0,
          0,
          0,
          0,
          0,
          0,
          0,
          0,
          0,
          0,
          0,
          0,
          0,
          0,
          0,
          0,
          0,
          0,
          0
         ],
         "yaxis": "y3"
        },
        {
         "legendgroup": "3",
         "marker": {
          "color": "#aec7e8"
         },
         "name": "chinese_invalid<br>column name",
         "showlegend": false,
         "type": "bar",
         "x": [
          "occupation",
          "first_name",
          "worldview",
          "company",
          "color",
          "word",
          "last_name",
          "drink",
          "gender",
          "nationality",
          "political_views",
          "dish",
          "academic_degree",
          "answer",
          "city",
          "title",
          "address",
          "full_name",
          "language",
          "url",
          "phone_number",
          "iban",
          "ssn",
          "swift",
          "email"
         ],
         "xaxis": "x3",
         "y": [
          0,
          0,
          0,
          0,
          0,
          0.25,
          0,
          0,
          0,
          0.25,
          0,
          0,
          0,
          0,
          0,
          0,
          0,
          0,
          0,
          0,
          0,
          0,
          0,
          0.25,
          0
         ],
         "yaxis": "y3"
        }
       ],
       "layout": {
        "annotations": [
         {
          "font": {
           "size": 16
          },
          "showarrow": false,
          "text": "Accuracy per Class",
          "x": 0.5,
          "xanchor": "center",
          "xref": "paper",
          "y": 1,
          "yanchor": "bottom",
          "yref": "paper"
         },
         {
          "font": {
           "size": 16
          },
          "showarrow": false,
          "text": "Number of correct predictions per Class",
          "x": 0.5,
          "xanchor": "center",
          "xref": "paper",
          "y": 0.645,
          "yanchor": "bottom",
          "yref": "paper"
         },
         {
          "font": {
           "size": 16
          },
          "showarrow": false,
          "text": "Number of false predictions per Class",
          "x": 0.5,
          "xanchor": "center",
          "xref": "paper",
          "y": 0.29,
          "yanchor": "bottom",
          "yref": "paper"
         }
        ],
        "barmode": "stack",
        "height": 700,
        "template": {
         "data": {
          "bar": [
           {
            "error_x": {
             "color": "#2a3f5f"
            },
            "error_y": {
             "color": "#2a3f5f"
            },
            "marker": {
             "line": {
              "color": "#E5ECF6",
              "width": 0.5
             },
             "pattern": {
              "fillmode": "overlay",
              "size": 10,
              "solidity": 0.2
             }
            },
            "type": "bar"
           }
          ],
          "barpolar": [
           {
            "marker": {
             "line": {
              "color": "#E5ECF6",
              "width": 0.5
             },
             "pattern": {
              "fillmode": "overlay",
              "size": 10,
              "solidity": 0.2
             }
            },
            "type": "barpolar"
           }
          ],
          "carpet": [
           {
            "aaxis": {
             "endlinecolor": "#2a3f5f",
             "gridcolor": "white",
             "linecolor": "white",
             "minorgridcolor": "white",
             "startlinecolor": "#2a3f5f"
            },
            "baxis": {
             "endlinecolor": "#2a3f5f",
             "gridcolor": "white",
             "linecolor": "white",
             "minorgridcolor": "white",
             "startlinecolor": "#2a3f5f"
            },
            "type": "carpet"
           }
          ],
          "choropleth": [
           {
            "colorbar": {
             "outlinewidth": 0,
             "ticks": ""
            },
            "type": "choropleth"
           }
          ],
          "contour": [
           {
            "colorbar": {
             "outlinewidth": 0,
             "ticks": ""
            },
            "colorscale": [
             [
              0,
              "#0d0887"
             ],
             [
              0.1111111111111111,
              "#46039f"
             ],
             [
              0.2222222222222222,
              "#7201a8"
             ],
             [
              0.3333333333333333,
              "#9c179e"
             ],
             [
              0.4444444444444444,
              "#bd3786"
             ],
             [
              0.5555555555555556,
              "#d8576b"
             ],
             [
              0.6666666666666666,
              "#ed7953"
             ],
             [
              0.7777777777777778,
              "#fb9f3a"
             ],
             [
              0.8888888888888888,
              "#fdca26"
             ],
             [
              1,
              "#f0f921"
             ]
            ],
            "type": "contour"
           }
          ],
          "contourcarpet": [
           {
            "colorbar": {
             "outlinewidth": 0,
             "ticks": ""
            },
            "type": "contourcarpet"
           }
          ],
          "heatmap": [
           {
            "colorbar": {
             "outlinewidth": 0,
             "ticks": ""
            },
            "colorscale": [
             [
              0,
              "#0d0887"
             ],
             [
              0.1111111111111111,
              "#46039f"
             ],
             [
              0.2222222222222222,
              "#7201a8"
             ],
             [
              0.3333333333333333,
              "#9c179e"
             ],
             [
              0.4444444444444444,
              "#bd3786"
             ],
             [
              0.5555555555555556,
              "#d8576b"
             ],
             [
              0.6666666666666666,
              "#ed7953"
             ],
             [
              0.7777777777777778,
              "#fb9f3a"
             ],
             [
              0.8888888888888888,
              "#fdca26"
             ],
             [
              1,
              "#f0f921"
             ]
            ],
            "type": "heatmap"
           }
          ],
          "heatmapgl": [
           {
            "colorbar": {
             "outlinewidth": 0,
             "ticks": ""
            },
            "colorscale": [
             [
              0,
              "#0d0887"
             ],
             [
              0.1111111111111111,
              "#46039f"
             ],
             [
              0.2222222222222222,
              "#7201a8"
             ],
             [
              0.3333333333333333,
              "#9c179e"
             ],
             [
              0.4444444444444444,
              "#bd3786"
             ],
             [
              0.5555555555555556,
              "#d8576b"
             ],
             [
              0.6666666666666666,
              "#ed7953"
             ],
             [
              0.7777777777777778,
              "#fb9f3a"
             ],
             [
              0.8888888888888888,
              "#fdca26"
             ],
             [
              1,
              "#f0f921"
             ]
            ],
            "type": "heatmapgl"
           }
          ],
          "histogram": [
           {
            "marker": {
             "pattern": {
              "fillmode": "overlay",
              "size": 10,
              "solidity": 0.2
             }
            },
            "type": "histogram"
           }
          ],
          "histogram2d": [
           {
            "colorbar": {
             "outlinewidth": 0,
             "ticks": ""
            },
            "colorscale": [
             [
              0,
              "#0d0887"
             ],
             [
              0.1111111111111111,
              "#46039f"
             ],
             [
              0.2222222222222222,
              "#7201a8"
             ],
             [
              0.3333333333333333,
              "#9c179e"
             ],
             [
              0.4444444444444444,
              "#bd3786"
             ],
             [
              0.5555555555555556,
              "#d8576b"
             ],
             [
              0.6666666666666666,
              "#ed7953"
             ],
             [
              0.7777777777777778,
              "#fb9f3a"
             ],
             [
              0.8888888888888888,
              "#fdca26"
             ],
             [
              1,
              "#f0f921"
             ]
            ],
            "type": "histogram2d"
           }
          ],
          "histogram2dcontour": [
           {
            "colorbar": {
             "outlinewidth": 0,
             "ticks": ""
            },
            "colorscale": [
             [
              0,
              "#0d0887"
             ],
             [
              0.1111111111111111,
              "#46039f"
             ],
             [
              0.2222222222222222,
              "#7201a8"
             ],
             [
              0.3333333333333333,
              "#9c179e"
             ],
             [
              0.4444444444444444,
              "#bd3786"
             ],
             [
              0.5555555555555556,
              "#d8576b"
             ],
             [
              0.6666666666666666,
              "#ed7953"
             ],
             [
              0.7777777777777778,
              "#fb9f3a"
             ],
             [
              0.8888888888888888,
              "#fdca26"
             ],
             [
              1,
              "#f0f921"
             ]
            ],
            "type": "histogram2dcontour"
           }
          ],
          "mesh3d": [
           {
            "colorbar": {
             "outlinewidth": 0,
             "ticks": ""
            },
            "type": "mesh3d"
           }
          ],
          "parcoords": [
           {
            "line": {
             "colorbar": {
              "outlinewidth": 0,
              "ticks": ""
             }
            },
            "type": "parcoords"
           }
          ],
          "pie": [
           {
            "automargin": true,
            "type": "pie"
           }
          ],
          "scatter": [
           {
            "fillpattern": {
             "fillmode": "overlay",
             "size": 10,
             "solidity": 0.2
            },
            "type": "scatter"
           }
          ],
          "scatter3d": [
           {
            "line": {
             "colorbar": {
              "outlinewidth": 0,
              "ticks": ""
             }
            },
            "marker": {
             "colorbar": {
              "outlinewidth": 0,
              "ticks": ""
             }
            },
            "type": "scatter3d"
           }
          ],
          "scattercarpet": [
           {
            "marker": {
             "colorbar": {
              "outlinewidth": 0,
              "ticks": ""
             }
            },
            "type": "scattercarpet"
           }
          ],
          "scattergeo": [
           {
            "marker": {
             "colorbar": {
              "outlinewidth": 0,
              "ticks": ""
             }
            },
            "type": "scattergeo"
           }
          ],
          "scattergl": [
           {
            "marker": {
             "colorbar": {
              "outlinewidth": 0,
              "ticks": ""
             }
            },
            "type": "scattergl"
           }
          ],
          "scattermapbox": [
           {
            "marker": {
             "colorbar": {
              "outlinewidth": 0,
              "ticks": ""
             }
            },
            "type": "scattermapbox"
           }
          ],
          "scatterpolar": [
           {
            "marker": {
             "colorbar": {
              "outlinewidth": 0,
              "ticks": ""
             }
            },
            "type": "scatterpolar"
           }
          ],
          "scatterpolargl": [
           {
            "marker": {
             "colorbar": {
              "outlinewidth": 0,
              "ticks": ""
             }
            },
            "type": "scatterpolargl"
           }
          ],
          "scatterternary": [
           {
            "marker": {
             "colorbar": {
              "outlinewidth": 0,
              "ticks": ""
             }
            },
            "type": "scatterternary"
           }
          ],
          "surface": [
           {
            "colorbar": {
             "outlinewidth": 0,
             "ticks": ""
            },
            "colorscale": [
             [
              0,
              "#0d0887"
             ],
             [
              0.1111111111111111,
              "#46039f"
             ],
             [
              0.2222222222222222,
              "#7201a8"
             ],
             [
              0.3333333333333333,
              "#9c179e"
             ],
             [
              0.4444444444444444,
              "#bd3786"
             ],
             [
              0.5555555555555556,
              "#d8576b"
             ],
             [
              0.6666666666666666,
              "#ed7953"
             ],
             [
              0.7777777777777778,
              "#fb9f3a"
             ],
             [
              0.8888888888888888,
              "#fdca26"
             ],
             [
              1,
              "#f0f921"
             ]
            ],
            "type": "surface"
           }
          ],
          "table": [
           {
            "cells": {
             "fill": {
              "color": "#EBF0F8"
             },
             "line": {
              "color": "white"
             }
            },
            "header": {
             "fill": {
              "color": "#C8D4E3"
             },
             "line": {
              "color": "white"
             }
            },
            "type": "table"
           }
          ]
         },
         "layout": {
          "annotationdefaults": {
           "arrowcolor": "#2a3f5f",
           "arrowhead": 0,
           "arrowwidth": 1
          },
          "autotypenumbers": "strict",
          "coloraxis": {
           "colorbar": {
            "outlinewidth": 0,
            "ticks": ""
           }
          },
          "colorscale": {
           "diverging": [
            [
             0,
             "#8e0152"
            ],
            [
             0.1,
             "#c51b7d"
            ],
            [
             0.2,
             "#de77ae"
            ],
            [
             0.3,
             "#f1b6da"
            ],
            [
             0.4,
             "#fde0ef"
            ],
            [
             0.5,
             "#f7f7f7"
            ],
            [
             0.6,
             "#e6f5d0"
            ],
            [
             0.7,
             "#b8e186"
            ],
            [
             0.8,
             "#7fbc41"
            ],
            [
             0.9,
             "#4d9221"
            ],
            [
             1,
             "#276419"
            ]
           ],
           "sequential": [
            [
             0,
             "#0d0887"
            ],
            [
             0.1111111111111111,
             "#46039f"
            ],
            [
             0.2222222222222222,
             "#7201a8"
            ],
            [
             0.3333333333333333,
             "#9c179e"
            ],
            [
             0.4444444444444444,
             "#bd3786"
            ],
            [
             0.5555555555555556,
             "#d8576b"
            ],
            [
             0.6666666666666666,
             "#ed7953"
            ],
            [
             0.7777777777777778,
             "#fb9f3a"
            ],
            [
             0.8888888888888888,
             "#fdca26"
            ],
            [
             1,
             "#f0f921"
            ]
           ],
           "sequentialminus": [
            [
             0,
             "#0d0887"
            ],
            [
             0.1111111111111111,
             "#46039f"
            ],
            [
             0.2222222222222222,
             "#7201a8"
            ],
            [
             0.3333333333333333,
             "#9c179e"
            ],
            [
             0.4444444444444444,
             "#bd3786"
            ],
            [
             0.5555555555555556,
             "#d8576b"
            ],
            [
             0.6666666666666666,
             "#ed7953"
            ],
            [
             0.7777777777777778,
             "#fb9f3a"
            ],
            [
             0.8888888888888888,
             "#fdca26"
            ],
            [
             1,
             "#f0f921"
            ]
           ]
          },
          "colorway": [
           "#636efa",
           "#EF553B",
           "#00cc96",
           "#ab63fa",
           "#FFA15A",
           "#19d3f3",
           "#FF6692",
           "#B6E880",
           "#FF97FF",
           "#FECB52"
          ],
          "font": {
           "color": "#2a3f5f"
          },
          "geo": {
           "bgcolor": "white",
           "lakecolor": "white",
           "landcolor": "#E5ECF6",
           "showlakes": true,
           "showland": true,
           "subunitcolor": "white"
          },
          "hoverlabel": {
           "align": "left"
          },
          "hovermode": "closest",
          "mapbox": {
           "style": "light"
          },
          "paper_bgcolor": "white",
          "plot_bgcolor": "#E5ECF6",
          "polar": {
           "angularaxis": {
            "gridcolor": "white",
            "linecolor": "white",
            "ticks": ""
           },
           "bgcolor": "#E5ECF6",
           "radialaxis": {
            "gridcolor": "white",
            "linecolor": "white",
            "ticks": ""
           }
          },
          "scene": {
           "xaxis": {
            "backgroundcolor": "#E5ECF6",
            "gridcolor": "white",
            "gridwidth": 2,
            "linecolor": "white",
            "showbackground": true,
            "ticks": "",
            "zerolinecolor": "white"
           },
           "yaxis": {
            "backgroundcolor": "#E5ECF6",
            "gridcolor": "white",
            "gridwidth": 2,
            "linecolor": "white",
            "showbackground": true,
            "ticks": "",
            "zerolinecolor": "white"
           },
           "zaxis": {
            "backgroundcolor": "#E5ECF6",
            "gridcolor": "white",
            "gridwidth": 2,
            "linecolor": "white",
            "showbackground": true,
            "ticks": "",
            "zerolinecolor": "white"
           }
          },
          "shapedefaults": {
           "line": {
            "color": "#2a3f5f"
           }
          },
          "ternary": {
           "aaxis": {
            "gridcolor": "white",
            "linecolor": "white",
            "ticks": ""
           },
           "baxis": {
            "gridcolor": "white",
            "linecolor": "white",
            "ticks": ""
           },
           "bgcolor": "#E5ECF6",
           "caxis": {
            "gridcolor": "white",
            "linecolor": "white",
            "ticks": ""
           }
          },
          "title": {
           "x": 0.05
          },
          "xaxis": {
           "automargin": true,
           "gridcolor": "white",
           "linecolor": "white",
           "ticks": "",
           "title": {
            "standoff": 15
           },
           "zerolinecolor": "white",
           "zerolinewidth": 2
          },
          "yaxis": {
           "automargin": true,
           "gridcolor": "white",
           "linecolor": "white",
           "ticks": "",
           "title": {
            "standoff": 15
           },
           "zerolinecolor": "white",
           "zerolinewidth": 2
          }
         }
        },
        "title": {
         "text": "Accuracy per Class for GPT's multiclass predictions on own dataset"
        },
        "width": 1500,
        "xaxis": {
         "anchor": "y",
         "domain": [
          0,
          1
         ],
         "matches": "x3",
         "showticklabels": false
        },
        "xaxis2": {
         "anchor": "y2",
         "domain": [
          0,
          1
         ],
         "matches": "x3",
         "showticklabels": false
        },
        "xaxis3": {
         "anchor": "y3",
         "domain": [
          0,
          1
         ]
        },
        "yaxis": {
         "anchor": "x",
         "domain": [
          0.71,
          1
         ],
         "title": {
          "text": "Accuracy"
         }
        },
        "yaxis2": {
         "anchor": "x2",
         "domain": [
          0.355,
          0.645
         ],
         "title": {
          "text": "Amount of<br>correct predictions"
         }
        },
        "yaxis3": {
         "anchor": "x3",
         "domain": [
          0,
          0.29
         ],
         "range": [
          0,
          1.1
         ],
         "title": {
          "text": "Amount of<br>false predictions"
         }
        }
       }
      }
     },
     "metadata": {},
     "output_type": "display_data"
    },
    {
     "data": {
      "application/vnd.plotly.v1+json": {
       "config": {
        "plotlyServerURL": "https://plot.ly"
       },
       "data": [
        {
         "showlegend": false,
         "type": "bar",
         "x": [
          "italian",
          "chinese"
         ],
         "xaxis": "x",
         "y": [
          0.96,
          0.94
         ],
         "yaxis": "y"
        },
        {
         "showlegend": false,
         "type": "bar",
         "x": [
          "mimesis",
          "faker"
         ],
         "xaxis": "x2",
         "y": [
          0.9605263157894737,
          0.9166666666666666
         ],
         "yaxis": "y2"
        },
        {
         "showlegend": false,
         "type": "bar",
         "x": [
          "valid_col_names",
          "invalid_col_names"
         ],
         "xaxis": "x3",
         "y": [
          1,
          0.9
         ],
         "yaxis": "y3"
        }
       ],
       "layout": {
        "annotations": [
         {
          "font": {
           "size": 16
          },
          "showarrow": false,
          "text": "Accuracy per Language",
          "x": 0.14444444444444446,
          "xanchor": "center",
          "xref": "paper",
          "y": 1,
          "yanchor": "bottom",
          "yref": "paper"
         },
         {
          "font": {
           "size": 16
          },
          "showarrow": false,
          "text": "Accuracy per Dataset",
          "x": 0.5,
          "xanchor": "center",
          "xref": "paper",
          "y": 1,
          "yanchor": "bottom",
          "yref": "paper"
         },
         {
          "font": {
           "size": 16
          },
          "showarrow": false,
          "text": "Accuracy per Column Name",
          "x": 0.8555555555555556,
          "xanchor": "center",
          "xref": "paper",
          "y": 1,
          "yanchor": "bottom",
          "yref": "paper"
         }
        ],
        "height": 500,
        "template": {
         "data": {
          "bar": [
           {
            "error_x": {
             "color": "#2a3f5f"
            },
            "error_y": {
             "color": "#2a3f5f"
            },
            "marker": {
             "line": {
              "color": "#E5ECF6",
              "width": 0.5
             },
             "pattern": {
              "fillmode": "overlay",
              "size": 10,
              "solidity": 0.2
             }
            },
            "type": "bar"
           }
          ],
          "barpolar": [
           {
            "marker": {
             "line": {
              "color": "#E5ECF6",
              "width": 0.5
             },
             "pattern": {
              "fillmode": "overlay",
              "size": 10,
              "solidity": 0.2
             }
            },
            "type": "barpolar"
           }
          ],
          "carpet": [
           {
            "aaxis": {
             "endlinecolor": "#2a3f5f",
             "gridcolor": "white",
             "linecolor": "white",
             "minorgridcolor": "white",
             "startlinecolor": "#2a3f5f"
            },
            "baxis": {
             "endlinecolor": "#2a3f5f",
             "gridcolor": "white",
             "linecolor": "white",
             "minorgridcolor": "white",
             "startlinecolor": "#2a3f5f"
            },
            "type": "carpet"
           }
          ],
          "choropleth": [
           {
            "colorbar": {
             "outlinewidth": 0,
             "ticks": ""
            },
            "type": "choropleth"
           }
          ],
          "contour": [
           {
            "colorbar": {
             "outlinewidth": 0,
             "ticks": ""
            },
            "colorscale": [
             [
              0,
              "#0d0887"
             ],
             [
              0.1111111111111111,
              "#46039f"
             ],
             [
              0.2222222222222222,
              "#7201a8"
             ],
             [
              0.3333333333333333,
              "#9c179e"
             ],
             [
              0.4444444444444444,
              "#bd3786"
             ],
             [
              0.5555555555555556,
              "#d8576b"
             ],
             [
              0.6666666666666666,
              "#ed7953"
             ],
             [
              0.7777777777777778,
              "#fb9f3a"
             ],
             [
              0.8888888888888888,
              "#fdca26"
             ],
             [
              1,
              "#f0f921"
             ]
            ],
            "type": "contour"
           }
          ],
          "contourcarpet": [
           {
            "colorbar": {
             "outlinewidth": 0,
             "ticks": ""
            },
            "type": "contourcarpet"
           }
          ],
          "heatmap": [
           {
            "colorbar": {
             "outlinewidth": 0,
             "ticks": ""
            },
            "colorscale": [
             [
              0,
              "#0d0887"
             ],
             [
              0.1111111111111111,
              "#46039f"
             ],
             [
              0.2222222222222222,
              "#7201a8"
             ],
             [
              0.3333333333333333,
              "#9c179e"
             ],
             [
              0.4444444444444444,
              "#bd3786"
             ],
             [
              0.5555555555555556,
              "#d8576b"
             ],
             [
              0.6666666666666666,
              "#ed7953"
             ],
             [
              0.7777777777777778,
              "#fb9f3a"
             ],
             [
              0.8888888888888888,
              "#fdca26"
             ],
             [
              1,
              "#f0f921"
             ]
            ],
            "type": "heatmap"
           }
          ],
          "heatmapgl": [
           {
            "colorbar": {
             "outlinewidth": 0,
             "ticks": ""
            },
            "colorscale": [
             [
              0,
              "#0d0887"
             ],
             [
              0.1111111111111111,
              "#46039f"
             ],
             [
              0.2222222222222222,
              "#7201a8"
             ],
             [
              0.3333333333333333,
              "#9c179e"
             ],
             [
              0.4444444444444444,
              "#bd3786"
             ],
             [
              0.5555555555555556,
              "#d8576b"
             ],
             [
              0.6666666666666666,
              "#ed7953"
             ],
             [
              0.7777777777777778,
              "#fb9f3a"
             ],
             [
              0.8888888888888888,
              "#fdca26"
             ],
             [
              1,
              "#f0f921"
             ]
            ],
            "type": "heatmapgl"
           }
          ],
          "histogram": [
           {
            "marker": {
             "pattern": {
              "fillmode": "overlay",
              "size": 10,
              "solidity": 0.2
             }
            },
            "type": "histogram"
           }
          ],
          "histogram2d": [
           {
            "colorbar": {
             "outlinewidth": 0,
             "ticks": ""
            },
            "colorscale": [
             [
              0,
              "#0d0887"
             ],
             [
              0.1111111111111111,
              "#46039f"
             ],
             [
              0.2222222222222222,
              "#7201a8"
             ],
             [
              0.3333333333333333,
              "#9c179e"
             ],
             [
              0.4444444444444444,
              "#bd3786"
             ],
             [
              0.5555555555555556,
              "#d8576b"
             ],
             [
              0.6666666666666666,
              "#ed7953"
             ],
             [
              0.7777777777777778,
              "#fb9f3a"
             ],
             [
              0.8888888888888888,
              "#fdca26"
             ],
             [
              1,
              "#f0f921"
             ]
            ],
            "type": "histogram2d"
           }
          ],
          "histogram2dcontour": [
           {
            "colorbar": {
             "outlinewidth": 0,
             "ticks": ""
            },
            "colorscale": [
             [
              0,
              "#0d0887"
             ],
             [
              0.1111111111111111,
              "#46039f"
             ],
             [
              0.2222222222222222,
              "#7201a8"
             ],
             [
              0.3333333333333333,
              "#9c179e"
             ],
             [
              0.4444444444444444,
              "#bd3786"
             ],
             [
              0.5555555555555556,
              "#d8576b"
             ],
             [
              0.6666666666666666,
              "#ed7953"
             ],
             [
              0.7777777777777778,
              "#fb9f3a"
             ],
             [
              0.8888888888888888,
              "#fdca26"
             ],
             [
              1,
              "#f0f921"
             ]
            ],
            "type": "histogram2dcontour"
           }
          ],
          "mesh3d": [
           {
            "colorbar": {
             "outlinewidth": 0,
             "ticks": ""
            },
            "type": "mesh3d"
           }
          ],
          "parcoords": [
           {
            "line": {
             "colorbar": {
              "outlinewidth": 0,
              "ticks": ""
             }
            },
            "type": "parcoords"
           }
          ],
          "pie": [
           {
            "automargin": true,
            "type": "pie"
           }
          ],
          "scatter": [
           {
            "fillpattern": {
             "fillmode": "overlay",
             "size": 10,
             "solidity": 0.2
            },
            "type": "scatter"
           }
          ],
          "scatter3d": [
           {
            "line": {
             "colorbar": {
              "outlinewidth": 0,
              "ticks": ""
             }
            },
            "marker": {
             "colorbar": {
              "outlinewidth": 0,
              "ticks": ""
             }
            },
            "type": "scatter3d"
           }
          ],
          "scattercarpet": [
           {
            "marker": {
             "colorbar": {
              "outlinewidth": 0,
              "ticks": ""
             }
            },
            "type": "scattercarpet"
           }
          ],
          "scattergeo": [
           {
            "marker": {
             "colorbar": {
              "outlinewidth": 0,
              "ticks": ""
             }
            },
            "type": "scattergeo"
           }
          ],
          "scattergl": [
           {
            "marker": {
             "colorbar": {
              "outlinewidth": 0,
              "ticks": ""
             }
            },
            "type": "scattergl"
           }
          ],
          "scattermapbox": [
           {
            "marker": {
             "colorbar": {
              "outlinewidth": 0,
              "ticks": ""
             }
            },
            "type": "scattermapbox"
           }
          ],
          "scatterpolar": [
           {
            "marker": {
             "colorbar": {
              "outlinewidth": 0,
              "ticks": ""
             }
            },
            "type": "scatterpolar"
           }
          ],
          "scatterpolargl": [
           {
            "marker": {
             "colorbar": {
              "outlinewidth": 0,
              "ticks": ""
             }
            },
            "type": "scatterpolargl"
           }
          ],
          "scatterternary": [
           {
            "marker": {
             "colorbar": {
              "outlinewidth": 0,
              "ticks": ""
             }
            },
            "type": "scatterternary"
           }
          ],
          "surface": [
           {
            "colorbar": {
             "outlinewidth": 0,
             "ticks": ""
            },
            "colorscale": [
             [
              0,
              "#0d0887"
             ],
             [
              0.1111111111111111,
              "#46039f"
             ],
             [
              0.2222222222222222,
              "#7201a8"
             ],
             [
              0.3333333333333333,
              "#9c179e"
             ],
             [
              0.4444444444444444,
              "#bd3786"
             ],
             [
              0.5555555555555556,
              "#d8576b"
             ],
             [
              0.6666666666666666,
              "#ed7953"
             ],
             [
              0.7777777777777778,
              "#fb9f3a"
             ],
             [
              0.8888888888888888,
              "#fdca26"
             ],
             [
              1,
              "#f0f921"
             ]
            ],
            "type": "surface"
           }
          ],
          "table": [
           {
            "cells": {
             "fill": {
              "color": "#EBF0F8"
             },
             "line": {
              "color": "white"
             }
            },
            "header": {
             "fill": {
              "color": "#C8D4E3"
             },
             "line": {
              "color": "white"
             }
            },
            "type": "table"
           }
          ]
         },
         "layout": {
          "annotationdefaults": {
           "arrowcolor": "#2a3f5f",
           "arrowhead": 0,
           "arrowwidth": 1
          },
          "autotypenumbers": "strict",
          "coloraxis": {
           "colorbar": {
            "outlinewidth": 0,
            "ticks": ""
           }
          },
          "colorscale": {
           "diverging": [
            [
             0,
             "#8e0152"
            ],
            [
             0.1,
             "#c51b7d"
            ],
            [
             0.2,
             "#de77ae"
            ],
            [
             0.3,
             "#f1b6da"
            ],
            [
             0.4,
             "#fde0ef"
            ],
            [
             0.5,
             "#f7f7f7"
            ],
            [
             0.6,
             "#e6f5d0"
            ],
            [
             0.7,
             "#b8e186"
            ],
            [
             0.8,
             "#7fbc41"
            ],
            [
             0.9,
             "#4d9221"
            ],
            [
             1,
             "#276419"
            ]
           ],
           "sequential": [
            [
             0,
             "#0d0887"
            ],
            [
             0.1111111111111111,
             "#46039f"
            ],
            [
             0.2222222222222222,
             "#7201a8"
            ],
            [
             0.3333333333333333,
             "#9c179e"
            ],
            [
             0.4444444444444444,
             "#bd3786"
            ],
            [
             0.5555555555555556,
             "#d8576b"
            ],
            [
             0.6666666666666666,
             "#ed7953"
            ],
            [
             0.7777777777777778,
             "#fb9f3a"
            ],
            [
             0.8888888888888888,
             "#fdca26"
            ],
            [
             1,
             "#f0f921"
            ]
           ],
           "sequentialminus": [
            [
             0,
             "#0d0887"
            ],
            [
             0.1111111111111111,
             "#46039f"
            ],
            [
             0.2222222222222222,
             "#7201a8"
            ],
            [
             0.3333333333333333,
             "#9c179e"
            ],
            [
             0.4444444444444444,
             "#bd3786"
            ],
            [
             0.5555555555555556,
             "#d8576b"
            ],
            [
             0.6666666666666666,
             "#ed7953"
            ],
            [
             0.7777777777777778,
             "#fb9f3a"
            ],
            [
             0.8888888888888888,
             "#fdca26"
            ],
            [
             1,
             "#f0f921"
            ]
           ]
          },
          "colorway": [
           "#636efa",
           "#EF553B",
           "#00cc96",
           "#ab63fa",
           "#FFA15A",
           "#19d3f3",
           "#FF6692",
           "#B6E880",
           "#FF97FF",
           "#FECB52"
          ],
          "font": {
           "color": "#2a3f5f"
          },
          "geo": {
           "bgcolor": "white",
           "lakecolor": "white",
           "landcolor": "#E5ECF6",
           "showlakes": true,
           "showland": true,
           "subunitcolor": "white"
          },
          "hoverlabel": {
           "align": "left"
          },
          "hovermode": "closest",
          "mapbox": {
           "style": "light"
          },
          "paper_bgcolor": "white",
          "plot_bgcolor": "#E5ECF6",
          "polar": {
           "angularaxis": {
            "gridcolor": "white",
            "linecolor": "white",
            "ticks": ""
           },
           "bgcolor": "#E5ECF6",
           "radialaxis": {
            "gridcolor": "white",
            "linecolor": "white",
            "ticks": ""
           }
          },
          "scene": {
           "xaxis": {
            "backgroundcolor": "#E5ECF6",
            "gridcolor": "white",
            "gridwidth": 2,
            "linecolor": "white",
            "showbackground": true,
            "ticks": "",
            "zerolinecolor": "white"
           },
           "yaxis": {
            "backgroundcolor": "#E5ECF6",
            "gridcolor": "white",
            "gridwidth": 2,
            "linecolor": "white",
            "showbackground": true,
            "ticks": "",
            "zerolinecolor": "white"
           },
           "zaxis": {
            "backgroundcolor": "#E5ECF6",
            "gridcolor": "white",
            "gridwidth": 2,
            "linecolor": "white",
            "showbackground": true,
            "ticks": "",
            "zerolinecolor": "white"
           }
          },
          "shapedefaults": {
           "line": {
            "color": "#2a3f5f"
           }
          },
          "ternary": {
           "aaxis": {
            "gridcolor": "white",
            "linecolor": "white",
            "ticks": ""
           },
           "baxis": {
            "gridcolor": "white",
            "linecolor": "white",
            "ticks": ""
           },
           "bgcolor": "#E5ECF6",
           "caxis": {
            "gridcolor": "white",
            "linecolor": "white",
            "ticks": ""
           }
          },
          "title": {
           "x": 0.05
          },
          "xaxis": {
           "automargin": true,
           "gridcolor": "white",
           "linecolor": "white",
           "ticks": "",
           "title": {
            "standoff": 15
           },
           "zerolinecolor": "white",
           "zerolinewidth": 2
          },
          "yaxis": {
           "automargin": true,
           "gridcolor": "white",
           "linecolor": "white",
           "ticks": "",
           "title": {
            "standoff": 15
           },
           "zerolinecolor": "white",
           "zerolinewidth": 2
          }
         }
        },
        "title": {
         "text": "Accuracy of GPT's multiclass predictions on own dataset with respect to different categories"
        },
        "width": 900,
        "xaxis": {
         "anchor": "y",
         "domain": [
          0,
          0.2888888888888889
         ]
        },
        "xaxis2": {
         "anchor": "y2",
         "domain": [
          0.35555555555555557,
          0.6444444444444445
         ]
        },
        "xaxis3": {
         "anchor": "y3",
         "domain": [
          0.7111111111111111,
          1
         ]
        },
        "yaxis": {
         "anchor": "x",
         "domain": [
          0,
          1
         ]
        },
        "yaxis2": {
         "anchor": "x2",
         "domain": [
          0,
          1
         ],
         "matches": "y",
         "showticklabels": false
        },
        "yaxis3": {
         "anchor": "x3",
         "domain": [
          0,
          1
         ],
         "matches": "y",
         "showticklabels": false
        }
       }
      }
     },
     "metadata": {},
     "output_type": "display_data"
    }
   ],
   "source": [
    "print(f\"Overall accuracy of GPT multiclass predictions on own dataset: {accuracy_score(results_test_lan_multiclass['True Label'], results_test_lan_multiclass['Prediction']):.3f}\")\n",
    "create_analysis_plot(results_test_lan_multiclass, \"multiclass predictions on own dataset\", dataset=\"two_languages\")"
   ]
  },
  {
   "cell_type": "code",
   "execution_count": 10,
   "metadata": {},
   "outputs": [
    {
     "data": {
      "text/html": [
       "<div>\n",
       "<style scoped>\n",
       "    .dataframe tbody tr th:only-of-type {\n",
       "        vertical-align: middle;\n",
       "    }\n",
       "\n",
       "    .dataframe tbody tr th {\n",
       "        vertical-align: top;\n",
       "    }\n",
       "\n",
       "    .dataframe thead th {\n",
       "        text-align: right;\n",
       "    }\n",
       "</style>\n",
       "<table border=\"1\" class=\"dataframe\">\n",
       "  <thead>\n",
       "    <tr style=\"text-align: right;\">\n",
       "      <th></th>\n",
       "      <th>Name</th>\n",
       "      <th>True Label</th>\n",
       "      <th>Prediction</th>\n",
       "      <th>Classes</th>\n",
       "      <th>Dataset</th>\n",
       "      <th>Classes_new</th>\n",
       "      <th>Language</th>\n",
       "    </tr>\n",
       "  </thead>\n",
       "  <tbody>\n",
       "    <tr>\n",
       "      <th>26</th>\n",
       "      <td>GWlG6g3Ot1OGM</td>\n",
       "      <td>nationality</td>\n",
       "      <td>gpe</td>\n",
       "      <td>nationality_zh</td>\n",
       "      <td>mimesis</td>\n",
       "      <td>nationality</td>\n",
       "      <td>chinese</td>\n",
       "    </tr>\n",
       "    <tr>\n",
       "      <th>65</th>\n",
       "      <td>XPvhsBkDa9U4U</td>\n",
       "      <td>nationality</td>\n",
       "      <td>race</td>\n",
       "      <td>nationality_it</td>\n",
       "      <td>mimesis</td>\n",
       "      <td>nationality</td>\n",
       "      <td>italian</td>\n",
       "    </tr>\n",
       "    <tr>\n",
       "      <th>73</th>\n",
       "      <td>Gqi7w4e4pxs</td>\n",
       "      <td>word</td>\n",
       "      <td></td>\n",
       "      <td>word_zh</td>\n",
       "      <td>mimesis</td>\n",
       "      <td>word</td>\n",
       "      <td>chinese</td>\n",
       "    </tr>\n",
       "    <tr>\n",
       "      <th>84</th>\n",
       "      <td>y3c2Eom0</td>\n",
       "      <td>SWIFT/BIC code</td>\n",
       "      <td></td>\n",
       "      <td>swift_it</td>\n",
       "      <td>faker</td>\n",
       "      <td>swift</td>\n",
       "      <td>italian</td>\n",
       "    </tr>\n",
       "    <tr>\n",
       "      <th>94</th>\n",
       "      <td>wt0Y3oobQmzvr3e9Xrw</td>\n",
       "      <td>SWIFT/BIC code</td>\n",
       "      <td></td>\n",
       "      <td>swift_zh</td>\n",
       "      <td>faker</td>\n",
       "      <td>swift</td>\n",
       "      <td>chinese</td>\n",
       "    </tr>\n",
       "  </tbody>\n",
       "</table>\n",
       "</div>"
      ],
      "text/plain": [
       "                   Name      True Label Prediction         Classes  Dataset  \\\n",
       "26        GWlG6g3Ot1OGM     nationality        gpe  nationality_zh  mimesis   \n",
       "65        XPvhsBkDa9U4U     nationality       race  nationality_it  mimesis   \n",
       "73          Gqi7w4e4pxs            word                    word_zh  mimesis   \n",
       "84             y3c2Eom0  SWIFT/BIC code                   swift_it    faker   \n",
       "94  wt0Y3oobQmzvr3e9Xrw  SWIFT/BIC code                   swift_zh    faker   \n",
       "\n",
       "    Classes_new Language  \n",
       "26  nationality  chinese  \n",
       "65  nationality  italian  \n",
       "73         word  chinese  \n",
       "84        swift  italian  \n",
       "94        swift  chinese  "
      ]
     },
     "execution_count": 10,
     "metadata": {},
     "output_type": "execute_result"
    }
   ],
   "source": [
    "results_test_lan_multiclass.loc[results_test_lan_multiclass[\"Prediction\"] != results_test_lan_multiclass[\"True Label\"]]"
   ]
  },
  {
   "cell_type": "code",
   "execution_count": null,
   "metadata": {},
   "outputs": [],
   "source": []
  },
  {
   "cell_type": "code",
   "execution_count": null,
   "metadata": {},
   "outputs": [],
   "source": []
  },
  {
   "cell_type": "code",
   "execution_count": null,
   "metadata": {},
   "outputs": [],
   "source": []
  },
  {
   "cell_type": "code",
   "execution_count": null,
   "metadata": {},
   "outputs": [],
   "source": []
  },
  {
   "cell_type": "code",
   "execution_count": null,
   "metadata": {},
   "outputs": [],
   "source": []
  },
  {
   "cell_type": "code",
   "execution_count": null,
   "metadata": {},
   "outputs": [],
   "source": []
  },
  {
   "cell_type": "code",
   "execution_count": null,
   "metadata": {},
   "outputs": [],
   "source": []
  }
 ],
 "metadata": {
  "kernelspec": {
   "display_name": "base",
   "language": "python",
   "name": "python3"
  },
  "language_info": {
   "codemirror_mode": {
    "name": "ipython",
    "version": 3
   },
   "file_extension": ".py",
   "mimetype": "text/x-python",
   "name": "python",
   "nbconvert_exporter": "python",
   "pygments_lexer": "ipython3",
   "version": "3.11.7"
  }
 },
 "nbformat": 4,
 "nbformat_minor": 2
}
