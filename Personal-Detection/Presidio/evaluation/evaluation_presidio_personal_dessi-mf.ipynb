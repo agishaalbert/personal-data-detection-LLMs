{
 "cells": [
  {
   "cell_type": "code",
   "execution_count": null,
   "metadata": {},
   "outputs": [],
   "source": [
    "import pandas as pd\n",
    "import re\n",
    "import numpy as np\n",
    "import ast\n",
    "import json\n",
    "\n",
    "from sklearn.metrics import f1_score, precision_score, recall_score, accuracy_score, roc_auc_score, confusion_matrix, classification_report\n",
    "import plotly.graph_objects as go\n",
    "from plotly.subplots import make_subplots"
   ]
  },
  {
   "cell_type": "markdown",
   "metadata": {},
   "source": [
    "# Evaluation of Presidio results on dessi-mf"
   ]
  },
  {
   "cell_type": "code",
   "execution_count": 3,
   "metadata": {},
   "outputs": [],
   "source": [
    "own_data_labels = pd.read_csv(\"../../datasets/dessi-mf/dessi-mf/test_labels_personal.csv\")\n",
    "own_data = pd.read_csv(\"../../datasets/dessi-mf/dessi-mf/test.csv\")\n",
    "own_data_classes = pd.read_csv(\"../../datasets/dessi-mf/dessi-mf/test_classes.csv\")\n",
    "own_data_datasets = pd.read_csv(\"../../datasets/dessi-mf/dessi-mf/test_dataset.csv\")"
   ]
  },
  {
   "cell_type": "code",
   "execution_count": 4,
   "metadata": {},
   "outputs": [],
   "source": [
    "def read_files_binary(method):\n",
    "    results = pd.read_csv(f\"../predictions/binary_results/dessi-mf/results_{method}.csv\")\n",
    "    return results\n",
    "\n",
    "results_rowwise1_all_binary = read_files_binary(\"rowwise1\")\n",
    "results_rowwise2_all_binary = read_files_binary(\"rowwise2\")\n",
    "results_columnwise_all_binary = read_files_binary(\"columnwise\")\n",
    "with open(\"../predictions/binary_results/dessi-mf/most_common.json\", \"rb\") as file:\n",
    "    results_presidio_structured_mc = json.load(file)\n",
    "with open(\"../predictions/binary_results/dessi-mf/highest_confidence.json\", \"rb\") as file:\n",
    "    results_presidio_structured_hc = json.load(file)\n",
    "\n",
    "results_rowwise1_all_binary.iloc[0,:] = own_data_labels[\"label\"].values\n",
    "results_rowwise2_all_binary.iloc[0,:] = own_data_labels[\"label\"].values\n",
    "results_columnwise_all_binary.iloc[0,:] = own_data_labels[\"label\"].values"
   ]
  },
  {
   "cell_type": "markdown",
   "metadata": {},
   "source": [
    "The Classes of Presidio must be mapped to personal or non-personal data"
   ]
  },
  {
   "cell_type": "code",
   "execution_count": 5,
   "metadata": {},
   "outputs": [
    {
     "data": {
      "text/plain": [
       "{'AU_ABN_1',\n",
       " 'AU_ACN_1',\n",
       " 'AU_MEDICARE_1',\n",
       " 'AU_TFN_1',\n",
       " 'CREDIT_CARD_1',\n",
       " 'DATE_TIME_0',\n",
       " 'EMAIL_ADDRESS_1',\n",
       " 'IBAN_CODE_1',\n",
       " 'IN_AADHAAR_1',\n",
       " 'IN_PAN_0',\n",
       " 'IN_PASSPORT_0',\n",
       " 'IN_VEHICLE_REGISTRATION_0',\n",
       " 'IP_ADDRESS_0',\n",
       " 'LOCATION_0',\n",
       " 'MEDICAL_LICENSE_1',\n",
       " 'NRP_0',\n",
       " 'PERSON_0',\n",
       " 'PHONE_NUMBER_0',\n",
       " 'UK_NHS_1',\n",
       " 'URL_0',\n",
       " 'US_BANK_NUMBER_0',\n",
       " 'US_DRIVER_LICENSE_0',\n",
       " 'US_ITIN_0',\n",
       " 'US_PASSPORT_0',\n",
       " 'US_SSN_0',\n",
       " 'shared DATE_TIME_0',\n",
       " 'shared IN_PAN_0',\n",
       " 'shared LOCATION_0',\n",
       " 'shared NRP_0',\n",
       " 'shared PERSON_0',\n",
       " 'shared PHONE_NUMBER_0',\n",
       " 'shared US_BANK_NUMBER_0',\n",
       " 'shared US_DRIVER_LICENSE_0'}"
      ]
     },
     "execution_count": 5,
     "metadata": {},
     "output_type": "execute_result"
    }
   ],
   "source": [
    "s = set()\n",
    "for df in [results_rowwise1_all_binary, results_rowwise2_all_binary, results_columnwise_all_binary]:\n",
    "     for i in range(df.shape[1]):\n",
    "          for j in range(2,201,2):\n",
    "               for v in ast.literal_eval(df.iloc[j,i]):\n",
    "                    v_splitted = v.split(\".\")[0]\n",
    "                    s.add(v_splitted)\n",
    "s.union(set(results_presidio_structured_mc.values()).union(set(results_presidio_structured_hc.values())))\n",
    "s"
   ]
  },
  {
   "cell_type": "code",
   "execution_count": 6,
   "metadata": {},
   "outputs": [],
   "source": [
    "# classes that not contain personal info, all other classes are personal-related\n",
    "NON_PERSONAL = [\"AU_ABN\", \"AU_ACN\", \"DATE_TIME\", \"LOCATION\", \"shared LOCATION\", \"URL\", \"shared DATE_TIME\"]"
   ]
  },
  {
   "cell_type": "markdown",
   "metadata": {},
   "source": [
    "It is very unlikely that the recognized Australian and Indian IDS are correct, Presidio might perform worse"
   ]
  },
  {
   "cell_type": "code",
   "execution_count": 7,
   "metadata": {},
   "outputs": [],
   "source": [
    "def get_categories_binary(strings):\n",
    "    if strings == []:\n",
    "        return \"non-personal\"\n",
    "    for s in strings:\n",
    "        if s not in NON_PERSONAL:\n",
    "            return \"personal\"  \n",
    "    return \"non-personal\"\n",
    "\n",
    "def build_dataframe_binary(results_df, threshold_score, threshold_count):\n",
    "    height, width = results_df.shape\n",
    "    results_copy = results_df.copy()\n",
    "    print(f\"Threshold score: {threshold_score}\\nThreshold count: {threshold_count}\")\n",
    "    empty_row1 = [[] for _ in range(width)]\n",
    "    empty_row2 = [[] for _ in range(width)]\n",
    "    empty_row3 = [\"\" for _ in range(width)]\n",
    "    results_copy.loc[height] = empty_row1.copy()\n",
    "    results_copy.loc[height+1] = empty_row2.copy()\n",
    "    results_copy.loc[height+2] = empty_row3.copy()\n",
    "    for i in range(width):\n",
    "        series = pd.Series([item for sublist in results_copy.iloc[2:height:2, i]\n",
    "                        for item in ast.literal_eval(sublist)], dtype=\"object\").value_counts()\n",
    "        for a, b in series.items():\n",
    "            if b > threshold_count:\n",
    "                results_copy.iloc[height, i].append(a)\n",
    "                results_copy.iloc[height+1, i].append(b)\n",
    "    for i in range(width):\n",
    "        entities = [re.sub(r'_\\d+(\\.\\d+)?$', '', item)\n",
    "                    for item in results_copy.iloc[height, i] if float(re.search(r'(\\d+\\.\\d+)', item).group(1)) >= threshold_score]\n",
    "        mapped_entities = get_categories_binary(entities)\n",
    "        results_copy.iloc[height+2, i] = mapped_entities\n",
    "    return results_copy\n",
    "\n",
    "def compute_performance_binary(results):\n",
    "    results_copy = results.copy()\n",
    "    #map personal/non-personal to 1/0 so that the metrices are meaningful\n",
    "    y_true = results_copy.loc[0].map(lambda x: 1 if x == \"personal\" else 0)\n",
    "    y_pred = results_copy.loc[results_copy.shape[0]-1].map(lambda x: 1 if x == \"personal\" else 0)\n",
    "    precision = precision_score(y_true, y_pred, zero_division=0.0)\n",
    "    recall = recall_score(y_true, y_pred, zero_division=0.0)\n",
    "    f1 = f1_score(y_true, y_pred, zero_division=0.0)\n",
    "    accuracy = accuracy_score(y_true, y_pred)\n",
    "    roc_auc = roc_auc_score(y_true, y_pred)\n",
    "    evaluation = {\n",
    "        'f1': f1,\n",
    "        'precision': precision,\n",
    "        'recall': recall,\n",
    "        'accuracy': accuracy,\n",
    "        'roc_auc': roc_auc\n",
    "    }\n",
    "    \n",
    "    return evaluation"
   ]
  },
  {
   "cell_type": "markdown",
   "metadata": {},
   "source": [
    "Apply threshold on the Presidio score and the amount of detection   \n",
    "Find out which thresholds and which method yields the best results"
   ]
  },
  {
   "cell_type": "code",
   "execution_count": null,
   "metadata": {},
   "outputs": [
    {
     "name": "stdout",
     "output_type": "stream",
     "text": [
      "Method 1 Rowwise\n",
      "Threshold score: 0\n",
      "Threshold count: 0\n",
      "Threshold score: 0\n",
      "Threshold count: 10\n",
      "Threshold score: 0\n",
      "Threshold count: 20\n",
      "Threshold score: 0\n",
      "Threshold count: 30\n",
      "Threshold score: 0\n",
      "Threshold count: 40\n",
      "Threshold score: 0\n",
      "Threshold count: 50\n",
      "Threshold score: 0\n",
      "Threshold count: 60\n",
      "Threshold score: 0\n",
      "Threshold count: 70\n",
      "Threshold score: 0\n",
      "Threshold count: 80\n",
      "Threshold score: 0\n",
      "Threshold count: 90\n",
      "Threshold score: 0.1\n",
      "Threshold count: 0\n",
      "Threshold score: 0.1\n",
      "Threshold count: 10\n",
      "Threshold score: 0.1\n",
      "Threshold count: 20\n",
      "Threshold score: 0.1\n",
      "Threshold count: 30\n",
      "Threshold score: 0.1\n",
      "Threshold count: 40\n",
      "Threshold score: 0.1\n",
      "Threshold count: 50\n",
      "Threshold score: 0.1\n",
      "Threshold count: 60\n",
      "Threshold score: 0.1\n",
      "Threshold count: 70\n",
      "Threshold score: 0.1\n",
      "Threshold count: 80\n",
      "Threshold score: 0.1\n",
      "Threshold count: 90\n",
      "Threshold score: 0.2\n",
      "Threshold count: 0\n",
      "Threshold score: 0.2\n",
      "Threshold count: 10\n",
      "Threshold score: 0.2\n",
      "Threshold count: 20\n",
      "Threshold score: 0.2\n",
      "Threshold count: 30\n",
      "Threshold score: 0.2\n",
      "Threshold count: 40\n",
      "Threshold score: 0.2\n",
      "Threshold count: 50\n",
      "Threshold score: 0.2\n",
      "Threshold count: 60\n",
      "Threshold score: 0.2\n",
      "Threshold count: 70\n",
      "Threshold score: 0.2\n",
      "Threshold count: 80\n",
      "Threshold score: 0.2\n",
      "Threshold count: 90\n",
      "Threshold score: 0.3\n",
      "Threshold count: 0\n",
      "Threshold score: 0.3\n",
      "Threshold count: 10\n",
      "Threshold score: 0.3\n",
      "Threshold count: 20\n",
      "Threshold score: 0.3\n",
      "Threshold count: 30\n",
      "Threshold score: 0.3\n",
      "Threshold count: 40\n",
      "Threshold score: 0.3\n",
      "Threshold count: 50\n",
      "Threshold score: 0.3\n",
      "Threshold count: 60\n",
      "Threshold score: 0.3\n",
      "Threshold count: 70\n",
      "Threshold score: 0.3\n",
      "Threshold count: 80\n",
      "Threshold score: 0.3\n",
      "Threshold count: 90\n",
      "Threshold score: 0.4\n",
      "Threshold count: 0\n",
      "Threshold score: 0.4\n",
      "Threshold count: 10\n",
      "Threshold score: 0.4\n",
      "Threshold count: 20\n",
      "Threshold score: 0.4\n",
      "Threshold count: 30\n",
      "Threshold score: 0.4\n",
      "Threshold count: 40\n",
      "Threshold score: 0.4\n",
      "Threshold count: 50\n",
      "Threshold score: 0.4\n",
      "Threshold count: 60\n",
      "Threshold score: 0.4\n",
      "Threshold count: 70\n",
      "Threshold score: 0.4\n",
      "Threshold count: 80\n",
      "Threshold score: 0.4\n",
      "Threshold count: 90\n",
      "Threshold score: 0.5\n",
      "Threshold count: 0\n",
      "Threshold score: 0.5\n",
      "Threshold count: 10\n",
      "Threshold score: 0.5\n",
      "Threshold count: 20\n",
      "Threshold score: 0.5\n",
      "Threshold count: 30\n",
      "Threshold score: 0.5\n",
      "Threshold count: 40\n",
      "Threshold score: 0.5\n",
      "Threshold count: 50\n",
      "Threshold score: 0.5\n",
      "Threshold count: 60\n",
      "Threshold score: 0.5\n",
      "Threshold count: 70\n",
      "Threshold score: 0.5\n",
      "Threshold count: 80\n",
      "Threshold score: 0.5\n",
      "Threshold count: 90\n",
      "Threshold score: 0.6\n",
      "Threshold count: 0\n",
      "Threshold score: 0.6\n",
      "Threshold count: 10\n",
      "Threshold score: 0.6\n",
      "Threshold count: 20\n",
      "Threshold score: 0.6\n",
      "Threshold count: 30\n",
      "Threshold score: 0.6\n",
      "Threshold count: 40\n",
      "Threshold score: 0.6\n",
      "Threshold count: 50\n",
      "Threshold score: 0.6\n",
      "Threshold count: 60\n",
      "Threshold score: 0.6\n",
      "Threshold count: 70\n",
      "Threshold score: 0.6\n",
      "Threshold count: 80\n",
      "Threshold score: 0.6\n",
      "Threshold count: 90\n",
      "Threshold score: 0.7\n",
      "Threshold count: 0\n",
      "Threshold score: 0.7\n",
      "Threshold count: 10\n",
      "Threshold score: 0.7\n",
      "Threshold count: 20\n",
      "Threshold score: 0.7\n",
      "Threshold count: 30\n",
      "Threshold score: 0.7\n",
      "Threshold count: 40\n",
      "Threshold score: 0.7\n",
      "Threshold count: 50\n",
      "Threshold score: 0.7\n",
      "Threshold count: 60\n",
      "Threshold score: 0.7\n",
      "Threshold count: 70\n",
      "Threshold score: 0.7\n",
      "Threshold count: 80\n",
      "Threshold score: 0.7\n",
      "Threshold count: 90\n",
      "Threshold score: 0.8\n",
      "Threshold count: 0\n",
      "Threshold score: 0.8\n",
      "Threshold count: 10\n",
      "Threshold score: 0.8\n",
      "Threshold count: 20\n",
      "Threshold score: 0.8\n",
      "Threshold count: 30\n",
      "Threshold score: 0.8\n",
      "Threshold count: 40\n",
      "Threshold score: 0.8\n",
      "Threshold count: 50\n",
      "Threshold score: 0.8\n",
      "Threshold count: 60\n",
      "Threshold score: 0.8\n",
      "Threshold count: 70\n",
      "Threshold score: 0.8\n",
      "Threshold count: 80\n",
      "Threshold score: 0.8\n",
      "Threshold count: 90\n",
      "Threshold score: 0.9\n",
      "Threshold count: 0\n",
      "Threshold score: 0.9\n",
      "Threshold count: 10\n",
      "Threshold score: 0.9\n",
      "Threshold count: 20\n",
      "Threshold score: 0.9\n",
      "Threshold count: 30\n",
      "Threshold score: 0.9\n",
      "Threshold count: 40\n",
      "Threshold score: 0.9\n",
      "Threshold count: 50\n",
      "Threshold score: 0.9\n",
      "Threshold count: 60\n",
      "Threshold score: 0.9\n",
      "Threshold count: 70\n",
      "Threshold score: 0.9\n",
      "Threshold count: 80\n",
      "Threshold score: 0.9\n",
      "Threshold count: 90\n",
      "Threshold score: 1.0\n",
      "Threshold count: 0\n",
      "Threshold score: 1.0\n",
      "Threshold count: 10\n",
      "Threshold score: 1.0\n",
      "Threshold count: 20\n",
      "Threshold score: 1.0\n",
      "Threshold count: 30\n",
      "Threshold score: 1.0\n",
      "Threshold count: 40\n",
      "Threshold score: 1.0\n",
      "Threshold count: 50\n",
      "Threshold score: 1.0\n",
      "Threshold count: 60\n",
      "Threshold score: 1.0\n",
      "Threshold count: 70\n",
      "Threshold score: 1.0\n",
      "Threshold count: 80\n",
      "Threshold score: 1.0\n",
      "Threshold count: 90\n",
      "Method 2 Rowwise\n",
      "Threshold score: 0\n",
      "Threshold count: 0\n",
      "Threshold score: 0\n",
      "Threshold count: 10\n",
      "Threshold score: 0\n",
      "Threshold count: 20\n",
      "Threshold score: 0\n",
      "Threshold count: 30\n",
      "Threshold score: 0\n",
      "Threshold count: 40\n",
      "Threshold score: 0\n",
      "Threshold count: 50\n",
      "Threshold score: 0\n",
      "Threshold count: 60\n",
      "Threshold score: 0\n",
      "Threshold count: 70\n",
      "Threshold score: 0\n",
      "Threshold count: 80\n",
      "Threshold score: 0\n",
      "Threshold count: 90\n",
      "Threshold score: 0.1\n",
      "Threshold count: 0\n",
      "Threshold score: 0.1\n",
      "Threshold count: 10\n",
      "Threshold score: 0.1\n",
      "Threshold count: 20\n",
      "Threshold score: 0.1\n",
      "Threshold count: 30\n",
      "Threshold score: 0.1\n",
      "Threshold count: 40\n",
      "Threshold score: 0.1\n",
      "Threshold count: 50\n"
     ]
    }
   ],
   "source": [
    "evals_1, evals_2, evals_3 = dict(), dict(), dict()\n",
    "order = [\"all\", \"mimesis\", \"faker\", \"dessi\"]\n",
    "for e, df in enumerate([results_rowwise1_all_binary]):\n",
    "    print(\"Method 1 Rowwise\")\n",
    "    for threshold_score in [0, 0.1, 0.2, 0.3, 0.4, 0.5, 0.6, 0.7, 0.8, 0.9, 1.0]:\n",
    "        for threshold_count in [0, 10, 20, 30, 40, 50, 60, 70, 80, 90]:\n",
    "            eval = compute_performance_binary(build_dataframe_binary(df, threshold_score, threshold_count))\n",
    "            evals_1[f\"{order[e]}_{threshold_score}_{threshold_count}\"] = eval\n",
    "with open(\"../predictions/binary_thresholds/personal/dessi-mf/rowwise1.json\", \"w\") as json_file:\n",
    "    json.dump(evals_1, json_file, indent=4)\n",
    "for e, df in enumerate([results_rowwise2_all_binary]):\n",
    "    print(\"Method 2 Rowwise\")\n",
    "    for threshold_score in [0, 0.1, 0.2, 0.3, 0.4, 0.5, 0.6, 0.7, 0.8, 0.9, 1.0]:\n",
    "        for threshold_count in [0, 10, 20, 30, 40, 50, 60, 70, 80, 90]:\n",
    "            eval = compute_performance_binary(build_dataframe_binary(df, threshold_score, threshold_count))\n",
    "            evals_2[f\"{order[e]}_{threshold_score}_{threshold_count}\"] = eval\n",
    "with open(\"../predictions/binary_thresholds/personal/dessi-mf/rowwise2.json\", \"w\") as json_file:\n",
    "    json.dump(evals_2, json_file, indent=4)\n",
    "for e, df in enumerate([results_columnwise_all_binary]):  \n",
    "    print(\"Method Columnwise\")\n",
    "    for threshold_score in [0, 0.1, 0.2, 0.3, 0.4, 0.5, 0.6, 0.7, 0.8, 0.9, 1.0]:\n",
    "        for threshold_count in [0, 10, 20, 30, 40, 50, 60, 70, 80, 90]:\n",
    "            eval = compute_performance_binary(build_dataframe_binary(df, threshold_score, threshold_count))\n",
    "            evals_3[f\"{order[e]}_{threshold_score}_{threshold_count}\"] = eval\n",
    "with open(\"../predictions/binary_thresholds/personal/dessi-mf/columnwise.json\", \"w\") as json_file:\n",
    "    json.dump(evals_3, json_file, indent=4)"
   ]
  },
  {
   "cell_type": "code",
   "execution_count": null,
   "metadata": {},
   "outputs": [],
   "source": [
    "def create_df_from_json(i):\n",
    "    with open(f\"../predictions/binary_thresholds/personal/dessi-mf/{i}.json\", \"r\") as file:\n",
    "        data = json.load(file)\n",
    "    dataset, threshold_score, threshold_count, f1, precision, recall, accuracy, roc_auc = [], [], [], [], [], [], [], []\n",
    "    for (d,val) in zip(data, data.values()):\n",
    "        splitted = d.split(\"_\")\n",
    "        dataset.append(splitted[0])\n",
    "        threshold_score.append(splitted[1])\n",
    "        threshold_count.append(splitted[2])\n",
    "        f1.append(val[\"f1\"])\n",
    "        precision.append(val[\"precision\"])\n",
    "        recall.append(val[\"recall\"])\n",
    "        accuracy.append(val[\"accuracy\"])\n",
    "        roc_auc.append(val[\"roc_auc\"])\n",
    "    data = {\n",
    "        \"dataset\": dataset,\n",
    "        \"threshold_score\": threshold_score,\n",
    "        \"threshold_count\": threshold_count,\n",
    "        \"f1\": f1,\n",
    "        \"precision\": precision,\n",
    "        \"recall\": recall,\n",
    "        \"accuracy\": accuracy,\n",
    "        \"roc_auc\": roc_auc\n",
    "    }\n",
    "    return pd.DataFrame(data)"
   ]
  },
  {
   "cell_type": "code",
   "execution_count": null,
   "metadata": {},
   "outputs": [
    {
     "data": {
      "text/html": [
       "<div>\n",
       "<style scoped>\n",
       "    .dataframe tbody tr th:only-of-type {\n",
       "        vertical-align: middle;\n",
       "    }\n",
       "\n",
       "    .dataframe tbody tr th {\n",
       "        vertical-align: top;\n",
       "    }\n",
       "\n",
       "    .dataframe thead th {\n",
       "        text-align: right;\n",
       "    }\n",
       "</style>\n",
       "<table border=\"1\" class=\"dataframe\">\n",
       "  <thead>\n",
       "    <tr style=\"text-align: right;\">\n",
       "      <th></th>\n",
       "      <th>dataset</th>\n",
       "      <th>threshold_score</th>\n",
       "      <th>threshold_count</th>\n",
       "      <th>f1</th>\n",
       "      <th>precision</th>\n",
       "      <th>recall</th>\n",
       "      <th>accuracy</th>\n",
       "      <th>roc_auc</th>\n",
       "    </tr>\n",
       "  </thead>\n",
       "  <tbody>\n",
       "    <tr>\n",
       "      <th>0</th>\n",
       "      <td>all</td>\n",
       "      <td>0</td>\n",
       "      <td>0</td>\n",
       "      <td>0.710770</td>\n",
       "      <td>0.576703</td>\n",
       "      <td>0.926050</td>\n",
       "      <td>0.588547</td>\n",
       "      <td>0.554403</td>\n",
       "    </tr>\n",
       "    <tr>\n",
       "      <th>1</th>\n",
       "      <td>all</td>\n",
       "      <td>0</td>\n",
       "      <td>10</td>\n",
       "      <td>0.745597</td>\n",
       "      <td>0.667420</td>\n",
       "      <td>0.844519</td>\n",
       "      <td>0.685371</td>\n",
       "      <td>0.669271</td>\n",
       "    </tr>\n",
       "    <tr>\n",
       "      <th>2</th>\n",
       "      <td>all</td>\n",
       "      <td>0</td>\n",
       "      <td>20</td>\n",
       "      <td>0.752475</td>\n",
       "      <td>0.719420</td>\n",
       "      <td>0.788715</td>\n",
       "      <td>0.716719</td>\n",
       "      <td>0.709435</td>\n",
       "    </tr>\n",
       "    <tr>\n",
       "      <th>3</th>\n",
       "      <td>all</td>\n",
       "      <td>0</td>\n",
       "      <td>30</td>\n",
       "      <td>0.716753</td>\n",
       "      <td>0.750476</td>\n",
       "      <td>0.685931</td>\n",
       "      <td>0.704030</td>\n",
       "      <td>0.705861</td>\n",
       "    </tr>\n",
       "    <tr>\n",
       "      <th>4</th>\n",
       "      <td>all</td>\n",
       "      <td>0</td>\n",
       "      <td>40</td>\n",
       "      <td>0.687337</td>\n",
       "      <td>0.766993</td>\n",
       "      <td>0.622670</td>\n",
       "      <td>0.690731</td>\n",
       "      <td>0.697617</td>\n",
       "    </tr>\n",
       "    <tr>\n",
       "      <th>...</th>\n",
       "      <td>...</td>\n",
       "      <td>...</td>\n",
       "      <td>...</td>\n",
       "      <td>...</td>\n",
       "      <td>...</td>\n",
       "      <td>...</td>\n",
       "      <td>...</td>\n",
       "      <td>...</td>\n",
       "    </tr>\n",
       "    <tr>\n",
       "      <th>105</th>\n",
       "      <td>all</td>\n",
       "      <td>1.0</td>\n",
       "      <td>50</td>\n",
       "      <td>0.244190</td>\n",
       "      <td>1.000000</td>\n",
       "      <td>0.139075</td>\n",
       "      <td>0.529991</td>\n",
       "      <td>0.569538</td>\n",
       "    </tr>\n",
       "    <tr>\n",
       "      <th>106</th>\n",
       "      <td>all</td>\n",
       "      <td>1.0</td>\n",
       "      <td>60</td>\n",
       "      <td>0.243423</td>\n",
       "      <td>1.000000</td>\n",
       "      <td>0.138578</td>\n",
       "      <td>0.529719</td>\n",
       "      <td>0.569289</td>\n",
       "    </tr>\n",
       "    <tr>\n",
       "      <th>107</th>\n",
       "      <td>all</td>\n",
       "      <td>1.0</td>\n",
       "      <td>70</td>\n",
       "      <td>0.230287</td>\n",
       "      <td>1.000000</td>\n",
       "      <td>0.130127</td>\n",
       "      <td>0.525105</td>\n",
       "      <td>0.565063</td>\n",
       "    </tr>\n",
       "    <tr>\n",
       "      <th>108</th>\n",
       "      <td>all</td>\n",
       "      <td>1.0</td>\n",
       "      <td>80</td>\n",
       "      <td>0.188858</td>\n",
       "      <td>1.000000</td>\n",
       "      <td>0.104275</td>\n",
       "      <td>0.510992</td>\n",
       "      <td>0.552138</td>\n",
       "    </tr>\n",
       "    <tr>\n",
       "      <th>109</th>\n",
       "      <td>all</td>\n",
       "      <td>1.0</td>\n",
       "      <td>90</td>\n",
       "      <td>0.153105</td>\n",
       "      <td>1.000000</td>\n",
       "      <td>0.082898</td>\n",
       "      <td>0.499321</td>\n",
       "      <td>0.541449</td>\n",
       "    </tr>\n",
       "  </tbody>\n",
       "</table>\n",
       "<p>110 rows × 8 columns</p>\n",
       "</div>"
      ],
      "text/plain": [
       "    dataset threshold_score threshold_count        f1  precision    recall  \\\n",
       "0       all               0               0  0.710770   0.576703  0.926050   \n",
       "1       all               0              10  0.745597   0.667420  0.844519   \n",
       "2       all               0              20  0.752475   0.719420  0.788715   \n",
       "3       all               0              30  0.716753   0.750476  0.685931   \n",
       "4       all               0              40  0.687337   0.766993  0.622670   \n",
       "..      ...             ...             ...       ...        ...       ...   \n",
       "105     all             1.0              50  0.244190   1.000000  0.139075   \n",
       "106     all             1.0              60  0.243423   1.000000  0.138578   \n",
       "107     all             1.0              70  0.230287   1.000000  0.130127   \n",
       "108     all             1.0              80  0.188858   1.000000  0.104275   \n",
       "109     all             1.0              90  0.153105   1.000000  0.082898   \n",
       "\n",
       "     accuracy   roc_auc  \n",
       "0    0.588547  0.554403  \n",
       "1    0.685371  0.669271  \n",
       "2    0.716719  0.709435  \n",
       "3    0.704030  0.705861  \n",
       "4    0.690731  0.697617  \n",
       "..        ...       ...  \n",
       "105  0.529991  0.569538  \n",
       "106  0.529719  0.569289  \n",
       "107  0.525105  0.565063  \n",
       "108  0.510992  0.552138  \n",
       "109  0.499321  0.541449  \n",
       "\n",
       "[110 rows x 8 columns]"
      ]
     },
     "execution_count": 8,
     "metadata": {},
     "output_type": "execute_result"
    }
   ],
   "source": [
    "df_rowwise1 = create_df_from_json(\"rowwise1\")\n",
    "df_rowwise2 = create_df_from_json(\"rowwise2\")\n",
    "df_columnwise = create_df_from_json(\"columnwise\")\n",
    "df_columnwise"
   ]
  },
  {
   "cell_type": "code",
   "execution_count": null,
   "metadata": {},
   "outputs": [
    {
     "data": {
      "application/vnd.plotly.v1+json": {
       "config": {
        "plotlyServerURL": "https://plot.ly"
       },
       "data": [
        {
         "colorbar": {
          "title": {
           "text": "F1 score"
          }
         },
         "colorscale": [
          [
           0,
           "#440154"
          ],
          [
           0.1111111111111111,
           "#482878"
          ],
          [
           0.2222222222222222,
           "#3e4989"
          ],
          [
           0.3333333333333333,
           "#31688e"
          ],
          [
           0.4444444444444444,
           "#26828e"
          ],
          [
           0.5555555555555556,
           "#1f9e89"
          ],
          [
           0.6666666666666666,
           "#35b779"
          ],
          [
           0.7777777777777778,
           "#6ece58"
          ],
          [
           0.8888888888888888,
           "#b5de2b"
          ],
          [
           1,
           "#fde725"
          ]
         ],
         "contours": {
          "showlabels": true
         },
         "type": "contour",
         "x": [
          "0",
          "0.1",
          "0.2",
          "0.3",
          "0.4",
          "0.5",
          "0.6",
          "0.7",
          "0.8",
          "0.9",
          "1.0"
         ],
         "xaxis": "x",
         "y": [
          "0",
          "10",
          "20",
          "30",
          "40",
          "50",
          "60",
          "70",
          "80",
          "90"
         ],
         "yaxis": "y",
         "z": [
          [
           0.6798961424332344,
           0.7051436851002173,
           0.7051436851002173,
           0.7051436851002173,
           0.7184638109305761,
           0.738667758109076,
           0.7354329093147313,
           0.7363715768381031,
           0.7365433245600455,
           0.5182457315031804,
           0.5182457315031804
          ],
          [
           0.7341114112430559,
           0.7684509552720994,
           0.7684509552720994,
           0.7684509552720994,
           0.7657071763840977,
           0.7108344632071983,
           0.6775825009482868,
           0.6770846513982032,
           0.6339156705635098,
           0.2666092387207925,
           0.2666092387207925
          ],
          [
           0.7421314795555313,
           0.7446466146800347,
           0.7446466146800347,
           0.7446466146800347,
           0.7411979593122127,
           0.678747717898438,
           0.6595321396720861,
           0.6591626630061771,
           0.614314115308151,
           0.2653875175164385,
           0.2653875175164385
          ],
          [
           0.7012503634777552,
           0.7092537313432836,
           0.7091681040201672,
           0.7091681040201672,
           0.7045700378583017,
           0.6333575054387237,
           0.6254831886806214,
           0.6250729713952131,
           0.5757942511346444,
           0.2535272411547645,
           0.2535272411547645
          ],
          [
           0.6631514408338443,
           0.6781552369517622,
           0.6781552369517622,
           0.6781552369517622,
           0.6728635250036028,
           0.5939113680154142,
           0.5854074590990153,
           0.5850593437281825,
           0.5342443729903537,
           0.24476439790575916,
           0.24476439790575916
          ],
          [
           0.6380228136882129,
           0.6524435257640632,
           0.6524435257640632,
           0.6524435257640632,
           0.6521021021021021,
           0.5717250738405045,
           0.5625451916124368,
           0.562083098931126,
           0.5119760479041916,
           0.244189852700491,
           0.244189852700491
          ],
          [
           0.5924693986162852,
           0.602125332083138,
           0.602125332083138,
           0.602125332083138,
           0.6059597400538913,
           0.5398384813920573,
           0.5306635388739946,
           0.5301709688233323,
           0.4812954624177347,
           0.2434232070734636,
           0.2434232070734636
          ],
          [
           0.5175792507204611,
           0.5061054819433619,
           0.5061054819433619,
           0.5061054819433619,
           0.5085339168490153,
           0.4768734313373969,
           0.4689133177149036,
           0.46849932401982874,
           0.4326169172585555,
           0.2302870339821841,
           0.2302870339821841
          ],
          [
           0.45012277470841006,
           0.3940783190066858,
           0.3940783190066858,
           0.3940783190066858,
           0.39226572221690437,
           0.3767076833640151,
           0.36832878846903,
           0.3678519240136386,
           0.34707971586424624,
           0.18885762521102983,
           0.18885762521102983
          ],
          [
           0.36814217004972694,
           0.29233767565904195,
           0.29233767565904195,
           0.29233767565904195,
           0.2896792763157895,
           0.2869816381266763,
           0.27774320680356773,
           0.2772071791679635,
           0.27452202826267663,
           0.15310455640996212,
           0.15310455640996212
          ]
         ],
         "zmax": 1,
         "zmin": 0.08289833457618692
        },
        {
         "hoverinfo": "text",
         "marker": {
          "color": "black",
          "symbol": "x"
         },
         "mode": "markers",
         "showlegend": false,
         "text": [
          "x: 0, y: 0, z: 0.6798961424332344",
          "x: 0, y: 10, z: 0.7341114112430559",
          "x: 0, y: 20, z: 0.7421314795555313",
          "x: 0, y: 30, z: 0.7012503634777552",
          "x: 0, y: 40, z: 0.6631514408338443",
          "x: 0, y: 50, z: 0.6380228136882129",
          "x: 0, y: 60, z: 0.5924693986162852",
          "x: 0, y: 70, z: 0.5175792507204611",
          "x: 0, y: 80, z: 0.45012277470841006",
          "x: 0, y: 90, z: 0.36814217004972694",
          "x: 0.1, y: 0, z: 0.7051436851002173",
          "x: 0.1, y: 10, z: 0.7684509552720994",
          "x: 0.1, y: 20, z: 0.7446466146800347",
          "x: 0.1, y: 30, z: 0.7092537313432836",
          "x: 0.1, y: 40, z: 0.6781552369517622",
          "x: 0.1, y: 50, z: 0.6524435257640632",
          "x: 0.1, y: 60, z: 0.602125332083138",
          "x: 0.1, y: 70, z: 0.5061054819433619",
          "x: 0.1, y: 80, z: 0.3940783190066858",
          "x: 0.1, y: 90, z: 0.29233767565904195",
          "x: 0.2, y: 0, z: 0.7051436851002173",
          "x: 0.2, y: 10, z: 0.7684509552720994",
          "x: 0.2, y: 20, z: 0.7446466146800347",
          "x: 0.2, y: 30, z: 0.7091681040201672",
          "x: 0.2, y: 40, z: 0.6781552369517622",
          "x: 0.2, y: 50, z: 0.6524435257640632",
          "x: 0.2, y: 60, z: 0.602125332083138",
          "x: 0.2, y: 70, z: 0.5061054819433619",
          "x: 0.2, y: 80, z: 0.3940783190066858",
          "x: 0.2, y: 90, z: 0.29233767565904195",
          "x: 0.3, y: 0, z: 0.7051436851002173",
          "x: 0.3, y: 10, z: 0.7684509552720994",
          "x: 0.3, y: 20, z: 0.7446466146800347",
          "x: 0.3, y: 30, z: 0.7091681040201672",
          "x: 0.3, y: 40, z: 0.6781552369517622",
          "x: 0.3, y: 50, z: 0.6524435257640632",
          "x: 0.3, y: 60, z: 0.602125332083138",
          "x: 0.3, y: 70, z: 0.5061054819433619",
          "x: 0.3, y: 80, z: 0.3940783190066858",
          "x: 0.3, y: 90, z: 0.29233767565904195",
          "x: 0.4, y: 0, z: 0.7184638109305761",
          "x: 0.4, y: 10, z: 0.7657071763840977",
          "x: 0.4, y: 20, z: 0.7411979593122127",
          "x: 0.4, y: 30, z: 0.7045700378583017",
          "x: 0.4, y: 40, z: 0.6728635250036028",
          "x: 0.4, y: 50, z: 0.6521021021021021",
          "x: 0.4, y: 60, z: 0.6059597400538913",
          "x: 0.4, y: 70, z: 0.5085339168490153",
          "x: 0.4, y: 80, z: 0.39226572221690437",
          "x: 0.4, y: 90, z: 0.2896792763157895",
          "x: 0.5, y: 0, z: 0.738667758109076",
          "x: 0.5, y: 10, z: 0.7108344632071983",
          "x: 0.5, y: 20, z: 0.678747717898438",
          "x: 0.5, y: 30, z: 0.6333575054387237",
          "x: 0.5, y: 40, z: 0.5939113680154142",
          "x: 0.5, y: 50, z: 0.5717250738405045",
          "x: 0.5, y: 60, z: 0.5398384813920573",
          "x: 0.5, y: 70, z: 0.4768734313373969",
          "x: 0.5, y: 80, z: 0.3767076833640151",
          "x: 0.5, y: 90, z: 0.2869816381266763",
          "x: 0.6, y: 0, z: 0.7354329093147313",
          "x: 0.6, y: 10, z: 0.6775825009482868",
          "x: 0.6, y: 20, z: 0.6595321396720861",
          "x: 0.6, y: 30, z: 0.6254831886806214",
          "x: 0.6, y: 40, z: 0.5854074590990153",
          "x: 0.6, y: 50, z: 0.5625451916124368",
          "x: 0.6, y: 60, z: 0.5306635388739946",
          "x: 0.6, y: 70, z: 0.4689133177149036",
          "x: 0.6, y: 80, z: 0.36832878846903",
          "x: 0.6, y: 90, z: 0.27774320680356773",
          "x: 0.7, y: 0, z: 0.7363715768381031",
          "x: 0.7, y: 10, z: 0.6770846513982032",
          "x: 0.7, y: 20, z: 0.6591626630061771",
          "x: 0.7, y: 30, z: 0.6250729713952131",
          "x: 0.7, y: 40, z: 0.5850593437281825",
          "x: 0.7, y: 50, z: 0.562083098931126",
          "x: 0.7, y: 60, z: 0.5301709688233323",
          "x: 0.7, y: 70, z: 0.46849932401982874",
          "x: 0.7, y: 80, z: 0.3678519240136386",
          "x: 0.7, y: 90, z: 0.2772071791679635",
          "x: 0.8, y: 0, z: 0.7365433245600455",
          "x: 0.8, y: 10, z: 0.6339156705635098",
          "x: 0.8, y: 20, z: 0.614314115308151",
          "x: 0.8, y: 30, z: 0.5757942511346444",
          "x: 0.8, y: 40, z: 0.5342443729903537",
          "x: 0.8, y: 50, z: 0.5119760479041916",
          "x: 0.8, y: 60, z: 0.4812954624177347",
          "x: 0.8, y: 70, z: 0.4326169172585555",
          "x: 0.8, y: 80, z: 0.34707971586424624",
          "x: 0.8, y: 90, z: 0.27452202826267663",
          "x: 0.9, y: 0, z: 0.5182457315031804",
          "x: 0.9, y: 10, z: 0.2666092387207925",
          "x: 0.9, y: 20, z: 0.2653875175164385",
          "x: 0.9, y: 30, z: 0.2535272411547645",
          "x: 0.9, y: 40, z: 0.24476439790575916",
          "x: 0.9, y: 50, z: 0.244189852700491",
          "x: 0.9, y: 60, z: 0.2434232070734636",
          "x: 0.9, y: 70, z: 0.2302870339821841",
          "x: 0.9, y: 80, z: 0.18885762521102983",
          "x: 0.9, y: 90, z: 0.15310455640996212",
          "x: 1.0, y: 0, z: 0.5182457315031804",
          "x: 1.0, y: 10, z: 0.2666092387207925",
          "x: 1.0, y: 20, z: 0.2653875175164385",
          "x: 1.0, y: 30, z: 0.2535272411547645",
          "x: 1.0, y: 40, z: 0.24476439790575916",
          "x: 1.0, y: 50, z: 0.244189852700491",
          "x: 1.0, y: 60, z: 0.2434232070734636",
          "x: 1.0, y: 70, z: 0.2302870339821841",
          "x: 1.0, y: 80, z: 0.18885762521102983",
          "x: 1.0, y: 90, z: 0.15310455640996212"
         ],
         "type": "scatter",
         "x": [
          "0",
          "0",
          "0",
          "0",
          "0",
          "0",
          "0",
          "0",
          "0",
          "0",
          "0.1",
          "0.1",
          "0.1",
          "0.1",
          "0.1",
          "0.1",
          "0.1",
          "0.1",
          "0.1",
          "0.1",
          "0.2",
          "0.2",
          "0.2",
          "0.2",
          "0.2",
          "0.2",
          "0.2",
          "0.2",
          "0.2",
          "0.2",
          "0.3",
          "0.3",
          "0.3",
          "0.3",
          "0.3",
          "0.3",
          "0.3",
          "0.3",
          "0.3",
          "0.3",
          "0.4",
          "0.4",
          "0.4",
          "0.4",
          "0.4",
          "0.4",
          "0.4",
          "0.4",
          "0.4",
          "0.4",
          "0.5",
          "0.5",
          "0.5",
          "0.5",
          "0.5",
          "0.5",
          "0.5",
          "0.5",
          "0.5",
          "0.5",
          "0.6",
          "0.6",
          "0.6",
          "0.6",
          "0.6",
          "0.6",
          "0.6",
          "0.6",
          "0.6",
          "0.6",
          "0.7",
          "0.7",
          "0.7",
          "0.7",
          "0.7",
          "0.7",
          "0.7",
          "0.7",
          "0.7",
          "0.7",
          "0.8",
          "0.8",
          "0.8",
          "0.8",
          "0.8",
          "0.8",
          "0.8",
          "0.8",
          "0.8",
          "0.8",
          "0.9",
          "0.9",
          "0.9",
          "0.9",
          "0.9",
          "0.9",
          "0.9",
          "0.9",
          "0.9",
          "0.9",
          "1.0",
          "1.0",
          "1.0",
          "1.0",
          "1.0",
          "1.0",
          "1.0",
          "1.0",
          "1.0",
          "1.0"
         ],
         "xaxis": "x",
         "y": [
          "0",
          "10",
          "20",
          "30",
          "40",
          "50",
          "60",
          "70",
          "80",
          "90",
          "0",
          "10",
          "20",
          "30",
          "40",
          "50",
          "60",
          "70",
          "80",
          "90",
          "0",
          "10",
          "20",
          "30",
          "40",
          "50",
          "60",
          "70",
          "80",
          "90",
          "0",
          "10",
          "20",
          "30",
          "40",
          "50",
          "60",
          "70",
          "80",
          "90",
          "0",
          "10",
          "20",
          "30",
          "40",
          "50",
          "60",
          "70",
          "80",
          "90",
          "0",
          "10",
          "20",
          "30",
          "40",
          "50",
          "60",
          "70",
          "80",
          "90",
          "0",
          "10",
          "20",
          "30",
          "40",
          "50",
          "60",
          "70",
          "80",
          "90",
          "0",
          "10",
          "20",
          "30",
          "40",
          "50",
          "60",
          "70",
          "80",
          "90",
          "0",
          "10",
          "20",
          "30",
          "40",
          "50",
          "60",
          "70",
          "80",
          "90",
          "0",
          "10",
          "20",
          "30",
          "40",
          "50",
          "60",
          "70",
          "80",
          "90",
          "0",
          "10",
          "20",
          "30",
          "40",
          "50",
          "60",
          "70",
          "80",
          "90"
         ],
         "yaxis": "y"
        },
        {
         "hoverinfo": "text",
         "legendgroup": "best",
         "marker": {
          "color": "red",
          "symbol": "x"
         },
         "mode": "markers",
         "name": "best_score",
         "showlegend": true,
         "text": [
          "x: 0.1, y: 10, z: 0.7684509552720994"
         ],
         "type": "scatter",
         "x": [
          "0.1"
         ],
         "xaxis": "x",
         "y": [
          "10"
         ],
         "yaxis": "y"
        },
        {
         "colorbar": {
          "title": {
           "text": "F1 score"
          }
         },
         "colorscale": [
          [
           0,
           "#440154"
          ],
          [
           0.1111111111111111,
           "#482878"
          ],
          [
           0.2222222222222222,
           "#3e4989"
          ],
          [
           0.3333333333333333,
           "#31688e"
          ],
          [
           0.4444444444444444,
           "#26828e"
          ],
          [
           0.5555555555555556,
           "#1f9e89"
          ],
          [
           0.6666666666666666,
           "#35b779"
          ],
          [
           0.7777777777777778,
           "#6ece58"
          ],
          [
           0.8888888888888888,
           "#b5de2b"
          ],
          [
           1,
           "#fde725"
          ]
         ],
         "contours": {
          "showlabels": true
         },
         "type": "contour",
         "x": [
          "0",
          "0.1",
          "0.2",
          "0.3",
          "0.4",
          "0.5",
          "0.6",
          "0.7",
          "0.8",
          "0.9",
          "1.0"
         ],
         "xaxis": "x4",
         "y": [
          "0",
          "10",
          "20",
          "30",
          "40",
          "50",
          "60",
          "70",
          "80",
          "90"
         ],
         "yaxis": "y4",
         "z": [
          [
           0.5422274811418429,
           0.5766648234457699,
           0.5766648234457699,
           0.5766648234457699,
           0.5949119373776908,
           0.6277391304347826,
           0.626113537117904,
           0.6276605062625908,
           0.6297767187362104,
           0.7934392619169657,
           0.7934392619169657
          ],
          [
           0.6222030237580993,
           0.6962753608559604,
           0.6962753608559604,
           0.6962753608559604,
           0.7025007782504928,
           0.7050122249388753,
           0.6895265054040144,
           0.6895618556701031,
           0.6721448467966574,
           0.9975825946817083,
           0.9975825946817083
          ],
          [
           0.6631125892595129,
           0.7416173570019724,
           0.7416173570019724,
           0.7416173570019724,
           0.7513727493295875,
           0.744327450689604,
           0.7360281733272087,
           0.7360515021459227,
           0.7164624047697913,
           1,
           1
          ],
          [
           0.6589791234014647,
           0.7605633802816901,
           0.7605293113261241,
           0.7605293113261241,
           0.7724577527423658,
           0.7602715877437326,
           0.7569285083848191,
           0.7569812654648286,
           0.7356010823347506,
           1,
           1
          ],
          [
           0.6544046466602129,
           0.785375429412727,
           0.785375429412727,
           0.785375429412727,
           0.8005829903978052,
           0.7817001420166362,
           0.7781900639043496,
           0.778328173374613,
           0.7562585343650432,
           1,
           1
          ],
          [
           0.6508921644685803,
           0.8034545454545454,
           0.8034545454545454,
           0.8034545454545454,
           0.8234736442927569,
           0.7991519750055791,
           0.7955010224948875,
           0.7953149874914714,
           0.7737556561085973,
           1,
           1
          ],
          [
           0.6374176925279129,
           0.8108164983164983,
           0.8108164983164983,
           0.8108164983164983,
           0.8361767279090113,
           0.8176544766708701,
           0.8141388174807198,
           0.8139475038600102,
           0.7935465448315249,
           1,
           1
          ],
          [
           0.6157010627356874,
           0.8346186803770351,
           0.8346186803770351,
           0.8346186803770351,
           0.8597218111867416,
           0.8553054662379421,
           0.8525557011795544,
           0.8524106264348967,
           0.8389982110912343,
           1,
           1
          ],
          [
           0.5882470918572001,
           0.8510726072607261,
           0.8510726072607261,
           0.8510726072607261,
           0.8533944189920867,
           0.8545054945054945,
           0.851035103510351,
           0.8508337088778729,
           0.8416267942583732,
           1,
           1
          ],
          [
           0.5349443259891021,
           0.8367586611861421,
           0.8367586611861421,
           0.8367586611861421,
           0.8376932223543401,
           0.8440533980582524,
           0.8389724310776943,
           0.8386691776522285,
           0.8371356147021546,
           1,
           1
          ]
         ],
         "zmax": 1,
         "zmin": 0.08289833457618692
        },
        {
         "hoverinfo": "text",
         "marker": {
          "color": "black",
          "symbol": "x"
         },
         "mode": "markers",
         "showlegend": false,
         "text": [
          "x: 0, y: 0, z: 0.5422274811418429",
          "x: 0, y: 10, z: 0.6222030237580993",
          "x: 0, y: 20, z: 0.6631125892595129",
          "x: 0, y: 30, z: 0.6589791234014647",
          "x: 0, y: 40, z: 0.6544046466602129",
          "x: 0, y: 50, z: 0.6508921644685803",
          "x: 0, y: 60, z: 0.6374176925279129",
          "x: 0, y: 70, z: 0.6157010627356874",
          "x: 0, y: 80, z: 0.5882470918572001",
          "x: 0, y: 90, z: 0.5349443259891021",
          "x: 0.1, y: 0, z: 0.5766648234457699",
          "x: 0.1, y: 10, z: 0.6962753608559604",
          "x: 0.1, y: 20, z: 0.7416173570019724",
          "x: 0.1, y: 30, z: 0.7605633802816901",
          "x: 0.1, y: 40, z: 0.785375429412727",
          "x: 0.1, y: 50, z: 0.8034545454545454",
          "x: 0.1, y: 60, z: 0.8108164983164983",
          "x: 0.1, y: 70, z: 0.8346186803770351",
          "x: 0.1, y: 80, z: 0.8510726072607261",
          "x: 0.1, y: 90, z: 0.8367586611861421",
          "x: 0.2, y: 0, z: 0.5766648234457699",
          "x: 0.2, y: 10, z: 0.6962753608559604",
          "x: 0.2, y: 20, z: 0.7416173570019724",
          "x: 0.2, y: 30, z: 0.7605293113261241",
          "x: 0.2, y: 40, z: 0.785375429412727",
          "x: 0.2, y: 50, z: 0.8034545454545454",
          "x: 0.2, y: 60, z: 0.8108164983164983",
          "x: 0.2, y: 70, z: 0.8346186803770351",
          "x: 0.2, y: 80, z: 0.8510726072607261",
          "x: 0.2, y: 90, z: 0.8367586611861421",
          "x: 0.3, y: 0, z: 0.5766648234457699",
          "x: 0.3, y: 10, z: 0.6962753608559604",
          "x: 0.3, y: 20, z: 0.7416173570019724",
          "x: 0.3, y: 30, z: 0.7605293113261241",
          "x: 0.3, y: 40, z: 0.785375429412727",
          "x: 0.3, y: 50, z: 0.8034545454545454",
          "x: 0.3, y: 60, z: 0.8108164983164983",
          "x: 0.3, y: 70, z: 0.8346186803770351",
          "x: 0.3, y: 80, z: 0.8510726072607261",
          "x: 0.3, y: 90, z: 0.8367586611861421",
          "x: 0.4, y: 0, z: 0.5949119373776908",
          "x: 0.4, y: 10, z: 0.7025007782504928",
          "x: 0.4, y: 20, z: 0.7513727493295875",
          "x: 0.4, y: 30, z: 0.7724577527423658",
          "x: 0.4, y: 40, z: 0.8005829903978052",
          "x: 0.4, y: 50, z: 0.8234736442927569",
          "x: 0.4, y: 60, z: 0.8361767279090113",
          "x: 0.4, y: 70, z: 0.8597218111867416",
          "x: 0.4, y: 80, z: 0.8533944189920867",
          "x: 0.4, y: 90, z: 0.8376932223543401",
          "x: 0.5, y: 0, z: 0.6277391304347826",
          "x: 0.5, y: 10, z: 0.7050122249388753",
          "x: 0.5, y: 20, z: 0.744327450689604",
          "x: 0.5, y: 30, z: 0.7602715877437326",
          "x: 0.5, y: 40, z: 0.7817001420166362",
          "x: 0.5, y: 50, z: 0.7991519750055791",
          "x: 0.5, y: 60, z: 0.8176544766708701",
          "x: 0.5, y: 70, z: 0.8553054662379421",
          "x: 0.5, y: 80, z: 0.8545054945054945",
          "x: 0.5, y: 90, z: 0.8440533980582524",
          "x: 0.6, y: 0, z: 0.626113537117904",
          "x: 0.6, y: 10, z: 0.6895265054040144",
          "x: 0.6, y: 20, z: 0.7360281733272087",
          "x: 0.6, y: 30, z: 0.7569285083848191",
          "x: 0.6, y: 40, z: 0.7781900639043496",
          "x: 0.6, y: 50, z: 0.7955010224948875",
          "x: 0.6, y: 60, z: 0.8141388174807198",
          "x: 0.6, y: 70, z: 0.8525557011795544",
          "x: 0.6, y: 80, z: 0.851035103510351",
          "x: 0.6, y: 90, z: 0.8389724310776943",
          "x: 0.7, y: 0, z: 0.6276605062625908",
          "x: 0.7, y: 10, z: 0.6895618556701031",
          "x: 0.7, y: 20, z: 0.7360515021459227",
          "x: 0.7, y: 30, z: 0.7569812654648286",
          "x: 0.7, y: 40, z: 0.778328173374613",
          "x: 0.7, y: 50, z: 0.7953149874914714",
          "x: 0.7, y: 60, z: 0.8139475038600102",
          "x: 0.7, y: 70, z: 0.8524106264348967",
          "x: 0.7, y: 80, z: 0.8508337088778729",
          "x: 0.7, y: 90, z: 0.8386691776522285",
          "x: 0.8, y: 0, z: 0.6297767187362104",
          "x: 0.8, y: 10, z: 0.6721448467966574",
          "x: 0.8, y: 20, z: 0.7164624047697913",
          "x: 0.8, y: 30, z: 0.7356010823347506",
          "x: 0.8, y: 40, z: 0.7562585343650432",
          "x: 0.8, y: 50, z: 0.7737556561085973",
          "x: 0.8, y: 60, z: 0.7935465448315249",
          "x: 0.8, y: 70, z: 0.8389982110912343",
          "x: 0.8, y: 80, z: 0.8416267942583732",
          "x: 0.8, y: 90, z: 0.8371356147021546",
          "x: 0.9, y: 0, z: 0.7934392619169657",
          "x: 0.9, y: 10, z: 0.9975825946817083",
          "x: 0.9, y: 20, z: 1.0",
          "x: 0.9, y: 30, z: 1.0",
          "x: 0.9, y: 40, z: 1.0",
          "x: 0.9, y: 50, z: 1.0",
          "x: 0.9, y: 60, z: 1.0",
          "x: 0.9, y: 70, z: 1.0",
          "x: 0.9, y: 80, z: 1.0",
          "x: 0.9, y: 90, z: 1.0",
          "x: 1.0, y: 0, z: 0.7934392619169657",
          "x: 1.0, y: 10, z: 0.9975825946817083",
          "x: 1.0, y: 20, z: 1.0",
          "x: 1.0, y: 30, z: 1.0",
          "x: 1.0, y: 40, z: 1.0",
          "x: 1.0, y: 50, z: 1.0",
          "x: 1.0, y: 60, z: 1.0",
          "x: 1.0, y: 70, z: 1.0",
          "x: 1.0, y: 80, z: 1.0",
          "x: 1.0, y: 90, z: 1.0"
         ],
         "type": "scatter",
         "x": [
          "0",
          "0",
          "0",
          "0",
          "0",
          "0",
          "0",
          "0",
          "0",
          "0",
          "0.1",
          "0.1",
          "0.1",
          "0.1",
          "0.1",
          "0.1",
          "0.1",
          "0.1",
          "0.1",
          "0.1",
          "0.2",
          "0.2",
          "0.2",
          "0.2",
          "0.2",
          "0.2",
          "0.2",
          "0.2",
          "0.2",
          "0.2",
          "0.3",
          "0.3",
          "0.3",
          "0.3",
          "0.3",
          "0.3",
          "0.3",
          "0.3",
          "0.3",
          "0.3",
          "0.4",
          "0.4",
          "0.4",
          "0.4",
          "0.4",
          "0.4",
          "0.4",
          "0.4",
          "0.4",
          "0.4",
          "0.5",
          "0.5",
          "0.5",
          "0.5",
          "0.5",
          "0.5",
          "0.5",
          "0.5",
          "0.5",
          "0.5",
          "0.6",
          "0.6",
          "0.6",
          "0.6",
          "0.6",
          "0.6",
          "0.6",
          "0.6",
          "0.6",
          "0.6",
          "0.7",
          "0.7",
          "0.7",
          "0.7",
          "0.7",
          "0.7",
          "0.7",
          "0.7",
          "0.7",
          "0.7",
          "0.8",
          "0.8",
          "0.8",
          "0.8",
          "0.8",
          "0.8",
          "0.8",
          "0.8",
          "0.8",
          "0.8",
          "0.9",
          "0.9",
          "0.9",
          "0.9",
          "0.9",
          "0.9",
          "0.9",
          "0.9",
          "0.9",
          "0.9",
          "1.0",
          "1.0",
          "1.0",
          "1.0",
          "1.0",
          "1.0",
          "1.0",
          "1.0",
          "1.0",
          "1.0"
         ],
         "xaxis": "x4",
         "y": [
          "0",
          "10",
          "20",
          "30",
          "40",
          "50",
          "60",
          "70",
          "80",
          "90",
          "0",
          "10",
          "20",
          "30",
          "40",
          "50",
          "60",
          "70",
          "80",
          "90",
          "0",
          "10",
          "20",
          "30",
          "40",
          "50",
          "60",
          "70",
          "80",
          "90",
          "0",
          "10",
          "20",
          "30",
          "40",
          "50",
          "60",
          "70",
          "80",
          "90",
          "0",
          "10",
          "20",
          "30",
          "40",
          "50",
          "60",
          "70",
          "80",
          "90",
          "0",
          "10",
          "20",
          "30",
          "40",
          "50",
          "60",
          "70",
          "80",
          "90",
          "0",
          "10",
          "20",
          "30",
          "40",
          "50",
          "60",
          "70",
          "80",
          "90",
          "0",
          "10",
          "20",
          "30",
          "40",
          "50",
          "60",
          "70",
          "80",
          "90",
          "0",
          "10",
          "20",
          "30",
          "40",
          "50",
          "60",
          "70",
          "80",
          "90",
          "0",
          "10",
          "20",
          "30",
          "40",
          "50",
          "60",
          "70",
          "80",
          "90",
          "0",
          "10",
          "20",
          "30",
          "40",
          "50",
          "60",
          "70",
          "80",
          "90"
         ],
         "yaxis": "y4"
        },
        {
         "hoverinfo": "text",
         "legendgroup": "best",
         "marker": {
          "color": "red",
          "symbol": "x"
         },
         "mode": "markers",
         "name": "best_score",
         "showlegend": false,
         "text": [
          "x: 0.9, y: 20, z: 1.0"
         ],
         "type": "scatter",
         "x": [
          "0.9"
         ],
         "xaxis": "x4",
         "y": [
          "20"
         ],
         "yaxis": "y4"
        },
        {
         "colorbar": {
          "title": {
           "text": "F1 score"
          }
         },
         "colorscale": [
          [
           0,
           "#440154"
          ],
          [
           0.1111111111111111,
           "#482878"
          ],
          [
           0.2222222222222222,
           "#3e4989"
          ],
          [
           0.3333333333333333,
           "#31688e"
          ],
          [
           0.4444444444444444,
           "#26828e"
          ],
          [
           0.5555555555555556,
           "#1f9e89"
          ],
          [
           0.6666666666666666,
           "#35b779"
          ],
          [
           0.7777777777777778,
           "#6ece58"
          ],
          [
           0.8888888888888888,
           "#b5de2b"
          ],
          [
           1,
           "#fde725"
          ]
         ],
         "contours": {
          "showlabels": true
         },
         "type": "contour",
         "x": [
          "0",
          "0.1",
          "0.2",
          "0.3",
          "0.4",
          "0.5",
          "0.6",
          "0.7",
          "0.8",
          "0.9",
          "1.0"
         ],
         "xaxis": "x7",
         "y": [
          "0",
          "10",
          "20",
          "30",
          "40",
          "50",
          "60",
          "70",
          "80",
          "90"
         ],
         "yaxis": "y7",
         "z": [
          [
           0.9112602535421327,
           0.9072831220482227,
           0.9072831220482227,
           0.9072831220482227,
           0.906785980611484,
           0.897216007954263,
           0.8910017399950286,
           0.8906288839174745,
           0.8869003231419339,
           0.38478747203579416,
           0.38478747203579416
          ],
          [
           0.8951031568481232,
           0.8573204076559782,
           0.8573204076559782,
           0.8573204076559782,
           0.8414118816803381,
           0.7167536664180959,
           0.6660452398707433,
           0.6650509569972657,
           0.5998011434253046,
           0.1538652746706438,
           0.1538652746706438
          ],
          [
           0.8425304499130003,
           0.7477007208550833,
           0.7477007208550833,
           0.7477007208550833,
           0.7312950534427044,
           0.6237882177479492,
           0.5974397216007954,
           0.596818294804872,
           0.5376584638329605,
           0.15299527715635097,
           0.15299527715635097
          ],
          [
           0.7493164305244843,
           0.6644295302013423,
           0.6643052448421576,
           0.6643052448421576,
           0.6476510067114094,
           0.5427541635595327,
           0.5329356201839424,
           0.5323141933880189,
           0.4730300770569227,
           0.14516529952771565,
           0.14516529952771565
          ],
          [
           0.6721352224707929,
           0.5966940094456873,
           0.5966940094456873,
           0.5966940094456873,
           0.5802883420333085,
           0.47887148893860304,
           0.4691772309221974,
           0.46868008948545864,
           0.4130002485707184,
           0.13944817300521997,
           0.13944817300521997
          ],
          [
           0.6256524981357197,
           0.5492170022371364,
           0.5492170022371364,
           0.5492170022371364,
           0.5397713149391001,
           0.4450658712403679,
           0.43512304250559286,
           0.43462590106885407,
           0.3825503355704698,
           0.13907531692766592,
           0.13907531692766592
          ],
          [
           0.5534427044494159,
           0.47887148893860304,
           0.47887148893860304,
           0.47887148893860304,
           0.4751429281630624,
           0.40293313447675866,
           0.39361173253790704,
           0.3931145911011683,
           0.3453890131742481,
           0.13857817549092716,
           0.13857817549092716
          ],
          [
           0.44643301019139947,
           0.36316181953765847,
           0.36316181953765847,
           0.36316181953765847,
           0.3610489684315188,
           0.3305990554312702,
           0.3233905045985583,
           0.32301764852100423,
           0.29144916728809345,
           0.13012677106636839,
           0.13012677106636839
          ],
          [
           0.36452895848869005,
           0.2564006959980114,
           0.2564006959980114,
           0.2564006959980114,
           0.2546607009694258,
           0.24161073825503357,
           0.23502361421824508,
           0.23465075814069103,
           0.21861794680586627,
           0.10427541635595326,
           0.10427541635595326
          ],
          [
           0.2806363410390256,
           0.17710663683818045,
           0.17710663683818045,
           0.17710663683818045,
           0.17511807109122546,
           0.17288093462590107,
           0.1664180959482973,
           0.16604523987074324,
           0.1641809594829729,
           0.08289833457618692,
           0.08289833457618692
          ]
         ],
         "zmax": 1,
         "zmin": 0.08289833457618692
        },
        {
         "hoverinfo": "text",
         "marker": {
          "color": "black",
          "symbol": "x"
         },
         "mode": "markers",
         "showlegend": false,
         "text": [
          "x: 0, y: 0, z: 0.9112602535421327",
          "x: 0, y: 10, z: 0.8951031568481232",
          "x: 0, y: 20, z: 0.8425304499130003",
          "x: 0, y: 30, z: 0.7493164305244843",
          "x: 0, y: 40, z: 0.6721352224707929",
          "x: 0, y: 50, z: 0.6256524981357197",
          "x: 0, y: 60, z: 0.5534427044494159",
          "x: 0, y: 70, z: 0.44643301019139947",
          "x: 0, y: 80, z: 0.36452895848869005",
          "x: 0, y: 90, z: 0.2806363410390256",
          "x: 0.1, y: 0, z: 0.9072831220482227",
          "x: 0.1, y: 10, z: 0.8573204076559782",
          "x: 0.1, y: 20, z: 0.7477007208550833",
          "x: 0.1, y: 30, z: 0.6644295302013423",
          "x: 0.1, y: 40, z: 0.5966940094456873",
          "x: 0.1, y: 50, z: 0.5492170022371364",
          "x: 0.1, y: 60, z: 0.47887148893860304",
          "x: 0.1, y: 70, z: 0.36316181953765847",
          "x: 0.1, y: 80, z: 0.2564006959980114",
          "x: 0.1, y: 90, z: 0.17710663683818045",
          "x: 0.2, y: 0, z: 0.9072831220482227",
          "x: 0.2, y: 10, z: 0.8573204076559782",
          "x: 0.2, y: 20, z: 0.7477007208550833",
          "x: 0.2, y: 30, z: 0.6643052448421576",
          "x: 0.2, y: 40, z: 0.5966940094456873",
          "x: 0.2, y: 50, z: 0.5492170022371364",
          "x: 0.2, y: 60, z: 0.47887148893860304",
          "x: 0.2, y: 70, z: 0.36316181953765847",
          "x: 0.2, y: 80, z: 0.2564006959980114",
          "x: 0.2, y: 90, z: 0.17710663683818045",
          "x: 0.3, y: 0, z: 0.9072831220482227",
          "x: 0.3, y: 10, z: 0.8573204076559782",
          "x: 0.3, y: 20, z: 0.7477007208550833",
          "x: 0.3, y: 30, z: 0.6643052448421576",
          "x: 0.3, y: 40, z: 0.5966940094456873",
          "x: 0.3, y: 50, z: 0.5492170022371364",
          "x: 0.3, y: 60, z: 0.47887148893860304",
          "x: 0.3, y: 70, z: 0.36316181953765847",
          "x: 0.3, y: 80, z: 0.2564006959980114",
          "x: 0.3, y: 90, z: 0.17710663683818045",
          "x: 0.4, y: 0, z: 0.906785980611484",
          "x: 0.4, y: 10, z: 0.8414118816803381",
          "x: 0.4, y: 20, z: 0.7312950534427044",
          "x: 0.4, y: 30, z: 0.6476510067114094",
          "x: 0.4, y: 40, z: 0.5802883420333085",
          "x: 0.4, y: 50, z: 0.5397713149391001",
          "x: 0.4, y: 60, z: 0.4751429281630624",
          "x: 0.4, y: 70, z: 0.3610489684315188",
          "x: 0.4, y: 80, z: 0.2546607009694258",
          "x: 0.4, y: 90, z: 0.17511807109122546",
          "x: 0.5, y: 0, z: 0.897216007954263",
          "x: 0.5, y: 10, z: 0.7167536664180959",
          "x: 0.5, y: 20, z: 0.6237882177479492",
          "x: 0.5, y: 30, z: 0.5427541635595327",
          "x: 0.5, y: 40, z: 0.47887148893860304",
          "x: 0.5, y: 50, z: 0.4450658712403679",
          "x: 0.5, y: 60, z: 0.40293313447675866",
          "x: 0.5, y: 70, z: 0.3305990554312702",
          "x: 0.5, y: 80, z: 0.24161073825503357",
          "x: 0.5, y: 90, z: 0.17288093462590107",
          "x: 0.6, y: 0, z: 0.8910017399950286",
          "x: 0.6, y: 10, z: 0.6660452398707433",
          "x: 0.6, y: 20, z: 0.5974397216007954",
          "x: 0.6, y: 30, z: 0.5329356201839424",
          "x: 0.6, y: 40, z: 0.4691772309221974",
          "x: 0.6, y: 50, z: 0.43512304250559286",
          "x: 0.6, y: 60, z: 0.39361173253790704",
          "x: 0.6, y: 70, z: 0.3233905045985583",
          "x: 0.6, y: 80, z: 0.23502361421824508",
          "x: 0.6, y: 90, z: 0.1664180959482973",
          "x: 0.7, y: 0, z: 0.8906288839174745",
          "x: 0.7, y: 10, z: 0.6650509569972657",
          "x: 0.7, y: 20, z: 0.596818294804872",
          "x: 0.7, y: 30, z: 0.5323141933880189",
          "x: 0.7, y: 40, z: 0.46868008948545864",
          "x: 0.7, y: 50, z: 0.43462590106885407",
          "x: 0.7, y: 60, z: 0.3931145911011683",
          "x: 0.7, y: 70, z: 0.32301764852100423",
          "x: 0.7, y: 80, z: 0.23465075814069103",
          "x: 0.7, y: 90, z: 0.16604523987074324",
          "x: 0.8, y: 0, z: 0.8869003231419339",
          "x: 0.8, y: 10, z: 0.5998011434253046",
          "x: 0.8, y: 20, z: 0.5376584638329605",
          "x: 0.8, y: 30, z: 0.4730300770569227",
          "x: 0.8, y: 40, z: 0.4130002485707184",
          "x: 0.8, y: 50, z: 0.3825503355704698",
          "x: 0.8, y: 60, z: 0.3453890131742481",
          "x: 0.8, y: 70, z: 0.29144916728809345",
          "x: 0.8, y: 80, z: 0.21861794680586627",
          "x: 0.8, y: 90, z: 0.1641809594829729",
          "x: 0.9, y: 0, z: 0.38478747203579416",
          "x: 0.9, y: 10, z: 0.1538652746706438",
          "x: 0.9, y: 20, z: 0.15299527715635097",
          "x: 0.9, y: 30, z: 0.14516529952771565",
          "x: 0.9, y: 40, z: 0.13944817300521997",
          "x: 0.9, y: 50, z: 0.13907531692766592",
          "x: 0.9, y: 60, z: 0.13857817549092716",
          "x: 0.9, y: 70, z: 0.13012677106636839",
          "x: 0.9, y: 80, z: 0.10427541635595326",
          "x: 0.9, y: 90, z: 0.08289833457618692",
          "x: 1.0, y: 0, z: 0.38478747203579416",
          "x: 1.0, y: 10, z: 0.1538652746706438",
          "x: 1.0, y: 20, z: 0.15299527715635097",
          "x: 1.0, y: 30, z: 0.14516529952771565",
          "x: 1.0, y: 40, z: 0.13944817300521997",
          "x: 1.0, y: 50, z: 0.13907531692766592",
          "x: 1.0, y: 60, z: 0.13857817549092716",
          "x: 1.0, y: 70, z: 0.13012677106636839",
          "x: 1.0, y: 80, z: 0.10427541635595326",
          "x: 1.0, y: 90, z: 0.08289833457618692"
         ],
         "type": "scatter",
         "x": [
          "0",
          "0",
          "0",
          "0",
          "0",
          "0",
          "0",
          "0",
          "0",
          "0",
          "0.1",
          "0.1",
          "0.1",
          "0.1",
          "0.1",
          "0.1",
          "0.1",
          "0.1",
          "0.1",
          "0.1",
          "0.2",
          "0.2",
          "0.2",
          "0.2",
          "0.2",
          "0.2",
          "0.2",
          "0.2",
          "0.2",
          "0.2",
          "0.3",
          "0.3",
          "0.3",
          "0.3",
          "0.3",
          "0.3",
          "0.3",
          "0.3",
          "0.3",
          "0.3",
          "0.4",
          "0.4",
          "0.4",
          "0.4",
          "0.4",
          "0.4",
          "0.4",
          "0.4",
          "0.4",
          "0.4",
          "0.5",
          "0.5",
          "0.5",
          "0.5",
          "0.5",
          "0.5",
          "0.5",
          "0.5",
          "0.5",
          "0.5",
          "0.6",
          "0.6",
          "0.6",
          "0.6",
          "0.6",
          "0.6",
          "0.6",
          "0.6",
          "0.6",
          "0.6",
          "0.7",
          "0.7",
          "0.7",
          "0.7",
          "0.7",
          "0.7",
          "0.7",
          "0.7",
          "0.7",
          "0.7",
          "0.8",
          "0.8",
          "0.8",
          "0.8",
          "0.8",
          "0.8",
          "0.8",
          "0.8",
          "0.8",
          "0.8",
          "0.9",
          "0.9",
          "0.9",
          "0.9",
          "0.9",
          "0.9",
          "0.9",
          "0.9",
          "0.9",
          "0.9",
          "1.0",
          "1.0",
          "1.0",
          "1.0",
          "1.0",
          "1.0",
          "1.0",
          "1.0",
          "1.0",
          "1.0"
         ],
         "xaxis": "x7",
         "y": [
          "0",
          "10",
          "20",
          "30",
          "40",
          "50",
          "60",
          "70",
          "80",
          "90",
          "0",
          "10",
          "20",
          "30",
          "40",
          "50",
          "60",
          "70",
          "80",
          "90",
          "0",
          "10",
          "20",
          "30",
          "40",
          "50",
          "60",
          "70",
          "80",
          "90",
          "0",
          "10",
          "20",
          "30",
          "40",
          "50",
          "60",
          "70",
          "80",
          "90",
          "0",
          "10",
          "20",
          "30",
          "40",
          "50",
          "60",
          "70",
          "80",
          "90",
          "0",
          "10",
          "20",
          "30",
          "40",
          "50",
          "60",
          "70",
          "80",
          "90",
          "0",
          "10",
          "20",
          "30",
          "40",
          "50",
          "60",
          "70",
          "80",
          "90",
          "0",
          "10",
          "20",
          "30",
          "40",
          "50",
          "60",
          "70",
          "80",
          "90",
          "0",
          "10",
          "20",
          "30",
          "40",
          "50",
          "60",
          "70",
          "80",
          "90",
          "0",
          "10",
          "20",
          "30",
          "40",
          "50",
          "60",
          "70",
          "80",
          "90",
          "0",
          "10",
          "20",
          "30",
          "40",
          "50",
          "60",
          "70",
          "80",
          "90"
         ],
         "yaxis": "y7"
        },
        {
         "hoverinfo": "text",
         "legendgroup": "best",
         "marker": {
          "color": "red",
          "symbol": "x"
         },
         "mode": "markers",
         "name": "best_score",
         "showlegend": false,
         "text": [
          "x: 0, y: 0, z: 0.9112602535421327"
         ],
         "type": "scatter",
         "x": [
          "0"
         ],
         "xaxis": "x7",
         "y": [
          "0"
         ],
         "yaxis": "y7"
        },
        {
         "colorbar": {
          "title": {
           "text": "F1 score"
          }
         },
         "colorscale": [
          [
           0,
           "#440154"
          ],
          [
           0.1111111111111111,
           "#482878"
          ],
          [
           0.2222222222222222,
           "#3e4989"
          ],
          [
           0.3333333333333333,
           "#31688e"
          ],
          [
           0.4444444444444444,
           "#26828e"
          ],
          [
           0.5555555555555556,
           "#1f9e89"
          ],
          [
           0.6666666666666666,
           "#35b779"
          ],
          [
           0.7777777777777778,
           "#6ece58"
          ],
          [
           0.8888888888888888,
           "#b5de2b"
          ],
          [
           1,
           "#fde725"
          ]
         ],
         "contours": {
          "showlabels": true
         },
         "type": "contour",
         "x": [
          "0",
          "0.1",
          "0.2",
          "0.3",
          "0.4",
          "0.5",
          "0.6",
          "0.7",
          "0.8",
          "0.9",
          "1.0"
         ],
         "xaxis": "x10",
         "y": [
          "0",
          "10",
          "20",
          "30",
          "40",
          "50",
          "60",
          "70",
          "80",
          "90"
         ],
         "yaxis": "y10",
         "z": [
          [
           0.5315510924141674,
           0.5857646899172207,
           0.5857646899172207,
           0.5857646899172207,
           0.6120233410232053,
           0.6534129461256616,
           0.650020355543493,
           0.651852354457864,
           0.6536165015605917,
           0.6094449721807572,
           0.6094449721807572
          ],
          [
           0.6460170986565341,
           0.7179400189985072,
           0.7179400189985072,
           0.7179400189985072,
           0.7188899443615144,
           0.6816392997693038,
           0.6539557606188086,
           0.6536843533722351,
           0.6217940018998507,
           0.537861310897001,
           0.537861310897001
          ],
          [
           0.6803501153480798,
           0.7200434251594517,
           0.7200434251594517,
           0.7200434251594517,
           0.7211969059573891,
           0.6776360428823449,
           0.6632514588139503,
           0.6630479033790202,
           0.6314289591532094,
           0.5375899036504275,
           0.5375899036504275
          ],
          [
           0.6514452435880038,
           0.7026055095671054,
           0.7025376577554621,
           0.7025376577554621,
           0.7034875831184693,
           0.6569412403311169,
           0.6515809472112906,
           0.6513773917763604,
           0.6194870403039762,
           0.5333152395168951,
           0.5333152395168951
          ],
          [
           0.6272221468313204,
           0.6907992943411589,
           0.6907992943411589,
           0.6907992943411589,
           0.6919527751390963,
           0.6424888044510788,
           0.637196363142896,
           0.6370606595196092,
           0.6068666033383091,
           0.5301940561813,
           0.5301940561813
          ],
          [
           0.6124304518930656,
           0.6805536707830099,
           0.6805536707830099,
           0.6805536707830099,
           0.6855747048446194,
           0.6359750305333153,
           0.6305468856018456,
           0.6302754783552721,
           0.6018455692766997,
           0.5299905007463699,
           0.5299905007463699
          ],
          [
           0.58433980187271,
           0.6544985751119555,
           0.6544985751119555,
           0.6544985751119555,
           0.66264079250916,
           0.6249830370470891,
           0.6198941511738364,
           0.6196227439272629,
           0.5935676482562084,
           0.5297190934997964,
           0.5297190934997964
          ],
          [
           0.5456642692359887,
           0.6130411181978559,
           0.6130411181978559,
           0.6130411181978559,
           0.6190120776224726,
           0.6040168272492875,
           0.6000814221739721,
           0.599877866739042,
           0.5826435065816258,
           0.5251051703080473,
           0.5251051703080473
          ],
          [
           0.5137739177636043,
           0.5695481069344551,
           0.5695481069344551,
           0.5695481069344551,
           0.5692088478762383,
           0.5635092956981952,
           0.5599131496810965,
           0.5597095942461664,
           0.5509567105441715,
           0.510991993486226,
           0.510991993486226
          ],
          [
           0.47408060795223234,
           0.5318903514723843,
           0.5318903514723843,
           0.5318903514723843,
           0.5311439815443072,
           0.5310082779210205,
           0.5274799837155653,
           0.5272764282806351,
           0.5262586511059846,
           0.4993214818835663,
           0.4993214818835663
          ]
         ],
         "zmax": 1,
         "zmin": 0.08289833457618692
        },
        {
         "hoverinfo": "text",
         "marker": {
          "color": "black",
          "symbol": "x"
         },
         "mode": "markers",
         "showlegend": false,
         "text": [
          "x: 0, y: 0, z: 0.5315510924141674",
          "x: 0, y: 10, z: 0.6460170986565341",
          "x: 0, y: 20, z: 0.6803501153480798",
          "x: 0, y: 30, z: 0.6514452435880038",
          "x: 0, y: 40, z: 0.6272221468313204",
          "x: 0, y: 50, z: 0.6124304518930656",
          "x: 0, y: 60, z: 0.58433980187271",
          "x: 0, y: 70, z: 0.5456642692359887",
          "x: 0, y: 80, z: 0.5137739177636043",
          "x: 0, y: 90, z: 0.47408060795223234",
          "x: 0.1, y: 0, z: 0.5857646899172207",
          "x: 0.1, y: 10, z: 0.7179400189985072",
          "x: 0.1, y: 20, z: 0.7200434251594517",
          "x: 0.1, y: 30, z: 0.7026055095671054",
          "x: 0.1, y: 40, z: 0.6907992943411589",
          "x: 0.1, y: 50, z: 0.6805536707830099",
          "x: 0.1, y: 60, z: 0.6544985751119555",
          "x: 0.1, y: 70, z: 0.6130411181978559",
          "x: 0.1, y: 80, z: 0.5695481069344551",
          "x: 0.1, y: 90, z: 0.5318903514723843",
          "x: 0.2, y: 0, z: 0.5857646899172207",
          "x: 0.2, y: 10, z: 0.7179400189985072",
          "x: 0.2, y: 20, z: 0.7200434251594517",
          "x: 0.2, y: 30, z: 0.7025376577554621",
          "x: 0.2, y: 40, z: 0.6907992943411589",
          "x: 0.2, y: 50, z: 0.6805536707830099",
          "x: 0.2, y: 60, z: 0.6544985751119555",
          "x: 0.2, y: 70, z: 0.6130411181978559",
          "x: 0.2, y: 80, z: 0.5695481069344551",
          "x: 0.2, y: 90, z: 0.5318903514723843",
          "x: 0.3, y: 0, z: 0.5857646899172207",
          "x: 0.3, y: 10, z: 0.7179400189985072",
          "x: 0.3, y: 20, z: 0.7200434251594517",
          "x: 0.3, y: 30, z: 0.7025376577554621",
          "x: 0.3, y: 40, z: 0.6907992943411589",
          "x: 0.3, y: 50, z: 0.6805536707830099",
          "x: 0.3, y: 60, z: 0.6544985751119555",
          "x: 0.3, y: 70, z: 0.6130411181978559",
          "x: 0.3, y: 80, z: 0.5695481069344551",
          "x: 0.3, y: 90, z: 0.5318903514723843",
          "x: 0.4, y: 0, z: 0.6120233410232053",
          "x: 0.4, y: 10, z: 0.7188899443615144",
          "x: 0.4, y: 20, z: 0.7211969059573891",
          "x: 0.4, y: 30, z: 0.7034875831184693",
          "x: 0.4, y: 40, z: 0.6919527751390963",
          "x: 0.4, y: 50, z: 0.6855747048446194",
          "x: 0.4, y: 60, z: 0.66264079250916",
          "x: 0.4, y: 70, z: 0.6190120776224726",
          "x: 0.4, y: 80, z: 0.5692088478762383",
          "x: 0.4, y: 90, z: 0.5311439815443072",
          "x: 0.5, y: 0, z: 0.6534129461256616",
          "x: 0.5, y: 10, z: 0.6816392997693038",
          "x: 0.5, y: 20, z: 0.6776360428823449",
          "x: 0.5, y: 30, z: 0.6569412403311169",
          "x: 0.5, y: 40, z: 0.6424888044510788",
          "x: 0.5, y: 50, z: 0.6359750305333153",
          "x: 0.5, y: 60, z: 0.6249830370470891",
          "x: 0.5, y: 70, z: 0.6040168272492875",
          "x: 0.5, y: 80, z: 0.5635092956981952",
          "x: 0.5, y: 90, z: 0.5310082779210205",
          "x: 0.6, y: 0, z: 0.650020355543493",
          "x: 0.6, y: 10, z: 0.6539557606188086",
          "x: 0.6, y: 20, z: 0.6632514588139503",
          "x: 0.6, y: 30, z: 0.6515809472112906",
          "x: 0.6, y: 40, z: 0.637196363142896",
          "x: 0.6, y: 50, z: 0.6305468856018456",
          "x: 0.6, y: 60, z: 0.6198941511738364",
          "x: 0.6, y: 70, z: 0.6000814221739721",
          "x: 0.6, y: 80, z: 0.5599131496810965",
          "x: 0.6, y: 90, z: 0.5274799837155653",
          "x: 0.7, y: 0, z: 0.651852354457864",
          "x: 0.7, y: 10, z: 0.6536843533722351",
          "x: 0.7, y: 20, z: 0.6630479033790202",
          "x: 0.7, y: 30, z: 0.6513773917763604",
          "x: 0.7, y: 40, z: 0.6370606595196092",
          "x: 0.7, y: 50, z: 0.6302754783552721",
          "x: 0.7, y: 60, z: 0.6196227439272629",
          "x: 0.7, y: 70, z: 0.599877866739042",
          "x: 0.7, y: 80, z: 0.5597095942461664",
          "x: 0.7, y: 90, z: 0.5272764282806351",
          "x: 0.8, y: 0, z: 0.6536165015605917",
          "x: 0.8, y: 10, z: 0.6217940018998507",
          "x: 0.8, y: 20, z: 0.6314289591532094",
          "x: 0.8, y: 30, z: 0.6194870403039762",
          "x: 0.8, y: 40, z: 0.6068666033383091",
          "x: 0.8, y: 50, z: 0.6018455692766997",
          "x: 0.8, y: 60, z: 0.5935676482562084",
          "x: 0.8, y: 70, z: 0.5826435065816258",
          "x: 0.8, y: 80, z: 0.5509567105441715",
          "x: 0.8, y: 90, z: 0.5262586511059846",
          "x: 0.9, y: 0, z: 0.6094449721807572",
          "x: 0.9, y: 10, z: 0.537861310897001",
          "x: 0.9, y: 20, z: 0.5375899036504275",
          "x: 0.9, y: 30, z: 0.5333152395168951",
          "x: 0.9, y: 40, z: 0.5301940561813",
          "x: 0.9, y: 50, z: 0.5299905007463699",
          "x: 0.9, y: 60, z: 0.5297190934997964",
          "x: 0.9, y: 70, z: 0.5251051703080473",
          "x: 0.9, y: 80, z: 0.510991993486226",
          "x: 0.9, y: 90, z: 0.4993214818835663",
          "x: 1.0, y: 0, z: 0.6094449721807572",
          "x: 1.0, y: 10, z: 0.537861310897001",
          "x: 1.0, y: 20, z: 0.5375899036504275",
          "x: 1.0, y: 30, z: 0.5333152395168951",
          "x: 1.0, y: 40, z: 0.5301940561813",
          "x: 1.0, y: 50, z: 0.5299905007463699",
          "x: 1.0, y: 60, z: 0.5297190934997964",
          "x: 1.0, y: 70, z: 0.5251051703080473",
          "x: 1.0, y: 80, z: 0.510991993486226",
          "x: 1.0, y: 90, z: 0.4993214818835663"
         ],
         "type": "scatter",
         "x": [
          "0",
          "0",
          "0",
          "0",
          "0",
          "0",
          "0",
          "0",
          "0",
          "0",
          "0.1",
          "0.1",
          "0.1",
          "0.1",
          "0.1",
          "0.1",
          "0.1",
          "0.1",
          "0.1",
          "0.1",
          "0.2",
          "0.2",
          "0.2",
          "0.2",
          "0.2",
          "0.2",
          "0.2",
          "0.2",
          "0.2",
          "0.2",
          "0.3",
          "0.3",
          "0.3",
          "0.3",
          "0.3",
          "0.3",
          "0.3",
          "0.3",
          "0.3",
          "0.3",
          "0.4",
          "0.4",
          "0.4",
          "0.4",
          "0.4",
          "0.4",
          "0.4",
          "0.4",
          "0.4",
          "0.4",
          "0.5",
          "0.5",
          "0.5",
          "0.5",
          "0.5",
          "0.5",
          "0.5",
          "0.5",
          "0.5",
          "0.5",
          "0.6",
          "0.6",
          "0.6",
          "0.6",
          "0.6",
          "0.6",
          "0.6",
          "0.6",
          "0.6",
          "0.6",
          "0.7",
          "0.7",
          "0.7",
          "0.7",
          "0.7",
          "0.7",
          "0.7",
          "0.7",
          "0.7",
          "0.7",
          "0.8",
          "0.8",
          "0.8",
          "0.8",
          "0.8",
          "0.8",
          "0.8",
          "0.8",
          "0.8",
          "0.8",
          "0.9",
          "0.9",
          "0.9",
          "0.9",
          "0.9",
          "0.9",
          "0.9",
          "0.9",
          "0.9",
          "0.9",
          "1.0",
          "1.0",
          "1.0",
          "1.0",
          "1.0",
          "1.0",
          "1.0",
          "1.0",
          "1.0",
          "1.0"
         ],
         "xaxis": "x10",
         "y": [
          "0",
          "10",
          "20",
          "30",
          "40",
          "50",
          "60",
          "70",
          "80",
          "90",
          "0",
          "10",
          "20",
          "30",
          "40",
          "50",
          "60",
          "70",
          "80",
          "90",
          "0",
          "10",
          "20",
          "30",
          "40",
          "50",
          "60",
          "70",
          "80",
          "90",
          "0",
          "10",
          "20",
          "30",
          "40",
          "50",
          "60",
          "70",
          "80",
          "90",
          "0",
          "10",
          "20",
          "30",
          "40",
          "50",
          "60",
          "70",
          "80",
          "90",
          "0",
          "10",
          "20",
          "30",
          "40",
          "50",
          "60",
          "70",
          "80",
          "90",
          "0",
          "10",
          "20",
          "30",
          "40",
          "50",
          "60",
          "70",
          "80",
          "90",
          "0",
          "10",
          "20",
          "30",
          "40",
          "50",
          "60",
          "70",
          "80",
          "90",
          "0",
          "10",
          "20",
          "30",
          "40",
          "50",
          "60",
          "70",
          "80",
          "90",
          "0",
          "10",
          "20",
          "30",
          "40",
          "50",
          "60",
          "70",
          "80",
          "90",
          "0",
          "10",
          "20",
          "30",
          "40",
          "50",
          "60",
          "70",
          "80",
          "90"
         ],
         "yaxis": "y10"
        },
        {
         "hoverinfo": "text",
         "legendgroup": "best",
         "marker": {
          "color": "red",
          "symbol": "x"
         },
         "mode": "markers",
         "name": "best_score",
         "showlegend": false,
         "text": [
          "x: 0.4, y: 20, z: 0.7211969059573891"
         ],
         "type": "scatter",
         "x": [
          "0.4"
         ],
         "xaxis": "x10",
         "y": [
          "20"
         ],
         "yaxis": "y10"
        },
        {
         "colorbar": {
          "title": {
           "text": "F1 score"
          }
         },
         "colorscale": [
          [
           0,
           "#440154"
          ],
          [
           0.1111111111111111,
           "#482878"
          ],
          [
           0.2222222222222222,
           "#3e4989"
          ],
          [
           0.3333333333333333,
           "#31688e"
          ],
          [
           0.4444444444444444,
           "#26828e"
          ],
          [
           0.5555555555555556,
           "#1f9e89"
          ],
          [
           0.6666666666666666,
           "#35b779"
          ],
          [
           0.7777777777777778,
           "#6ece58"
          ],
          [
           0.8888888888888888,
           "#b5de2b"
          ],
          [
           1,
           "#fde725"
          ]
         ],
         "contours": {
          "showlabels": true
         },
         "type": "contour",
         "x": [
          "0",
          "0.1",
          "0.2",
          "0.3",
          "0.4",
          "0.5",
          "0.6",
          "0.7",
          "0.8",
          "0.9",
          "1.0"
         ],
         "xaxis": "x13",
         "y": [
          "0",
          "10",
          "20",
          "30",
          "40",
          "50",
          "60",
          "70",
          "80",
          "90"
         ],
         "yaxis": "y13",
         "z": [
          [
           0.4931375983789564,
           0.5532380941980504,
           0.5532380941980504,
           0.5532380941980504,
           0.5822035103296511,
           0.6287484702054639,
           0.6256413362258466,
           0.627696390554075,
           0.6300162105847147,
           0.6321725764243525,
           0.6321725764243525
          ],
          [
           0.6208181653935775,
           0.7038395224173495,
           0.7038395224173495,
           0.7038395224173495,
           0.7064949426333549,
           0.6780869348229153,
           0.6527327215492389,
           0.6525344444281009,
           0.6240189219816302,
           0.5767084890986214,
           0.5767084890986214
          ],
          [
           0.6639430492242826,
           0.7172454590527658,
           0.7172454590527658,
           0.7172454590527658,
           0.720175321102703,
           0.6830835888500655,
           0.6699093407764886,
           0.6697480595363272,
           0.6409153048393732,
           0.5764976385781755,
           0.5764976385781755
          ],
          [
           0.6415440490936826,
           0.7064676043116693,
           0.706405461632077,
           0.706405461632077,
           0.7091363222439294,
           0.6684930411342195,
           0.6635837694464243,
           0.6634224882062628,
           0.6343034425930161,
           0.5725826497638579,
           0.5725826497638579
          ],
          [
           0.6226784898964843,
           0.7003195092058083,
           0.7003195092058083,
           0.7003195092058083,
           0.7032493712557457,
           0.6590412435727085,
           0.6541941145645057,
           0.6540949760039367,
           0.6264792037832673,
           0.56972408650261,
           0.56972408650261
          ],
          [
           0.6110928360373756,
           0.6938404198274744,
           0.6938404198274744,
           0.6938404198274744,
           0.7003249880134831,
           0.6552884646100225,
           0.650317050242635,
           0.6500684795242656,
           0.6240306967750735,
           0.569537658463833,
           0.569537658463833
          ],
          [
           0.5874655243705538,
           0.6722659895380403,
           0.6722659895380403,
           0.6722659895380403,
           0.6816091209852969,
           0.6474468421935496,
           0.6427861412241238,
           0.6425375705057544,
           0.6186747815422944,
           0.5692890877454636,
           0.5692890877454636
          ],
          [
           0.5557030562014977,
           0.6383203000856255,
           0.6383203000856255,
           0.6383203000856255,
           0.6451090628170745,
           0.6316772922105544,
           0.6280730167941985,
           0.6278865887554214,
           0.612102348138966,
           0.5650633855331841,
           0.5650633855331841
          ],
          [
           0.5288723692622769,
           0.601227843516041,
           0.601227843516041,
           0.601227843516041,
           0.6010302907118498,
           0.5960743470115575,
           0.5927807849931632,
           0.5925943569543861,
           0.5845779512869738,
           0.5521377081779766,
           0.5521377081779766
          ],
          [
           0.49365050763846074,
           0.5677822484848404,
           0.5677822484848404,
           0.5677822484848404,
           0.5671615460058638,
           0.5672384350356044,
           0.5640070156968026,
           0.5638205876580256,
           0.5628884474641404,
           0.5414491672880934,
           0.5414491672880934
          ]
         ],
         "zmax": 1,
         "zmin": 0.08289833457618692
        },
        {
         "hoverinfo": "text",
         "marker": {
          "color": "black",
          "symbol": "x"
         },
         "mode": "markers",
         "showlegend": false,
         "text": [
          "x: 0, y: 0, z: 0.4931375983789564",
          "x: 0, y: 10, z: 0.6208181653935775",
          "x: 0, y: 20, z: 0.6639430492242826",
          "x: 0, y: 30, z: 0.6415440490936826",
          "x: 0, y: 40, z: 0.6226784898964843",
          "x: 0, y: 50, z: 0.6110928360373756",
          "x: 0, y: 60, z: 0.5874655243705538",
          "x: 0, y: 70, z: 0.5557030562014977",
          "x: 0, y: 80, z: 0.5288723692622769",
          "x: 0, y: 90, z: 0.49365050763846074",
          "x: 0.1, y: 0, z: 0.5532380941980504",
          "x: 0.1, y: 10, z: 0.7038395224173495",
          "x: 0.1, y: 20, z: 0.7172454590527658",
          "x: 0.1, y: 30, z: 0.7064676043116693",
          "x: 0.1, y: 40, z: 0.7003195092058083",
          "x: 0.1, y: 50, z: 0.6938404198274744",
          "x: 0.1, y: 60, z: 0.6722659895380403",
          "x: 0.1, y: 70, z: 0.6383203000856255",
          "x: 0.1, y: 80, z: 0.601227843516041",
          "x: 0.1, y: 90, z: 0.5677822484848404",
          "x: 0.2, y: 0, z: 0.5532380941980504",
          "x: 0.2, y: 10, z: 0.7038395224173495",
          "x: 0.2, y: 20, z: 0.7172454590527658",
          "x: 0.2, y: 30, z: 0.706405461632077",
          "x: 0.2, y: 40, z: 0.7003195092058083",
          "x: 0.2, y: 50, z: 0.6938404198274744",
          "x: 0.2, y: 60, z: 0.6722659895380403",
          "x: 0.2, y: 70, z: 0.6383203000856255",
          "x: 0.2, y: 80, z: 0.601227843516041",
          "x: 0.2, y: 90, z: 0.5677822484848404",
          "x: 0.3, y: 0, z: 0.5532380941980504",
          "x: 0.3, y: 10, z: 0.7038395224173495",
          "x: 0.3, y: 20, z: 0.7172454590527658",
          "x: 0.3, y: 30, z: 0.706405461632077",
          "x: 0.3, y: 40, z: 0.7003195092058083",
          "x: 0.3, y: 50, z: 0.6938404198274744",
          "x: 0.3, y: 60, z: 0.6722659895380403",
          "x: 0.3, y: 70, z: 0.6383203000856255",
          "x: 0.3, y: 80, z: 0.601227843516041",
          "x: 0.3, y: 90, z: 0.5677822484848404",
          "x: 0.4, y: 0, z: 0.5822035103296511",
          "x: 0.4, y: 10, z: 0.7064949426333549",
          "x: 0.4, y: 20, z: 0.720175321102703",
          "x: 0.4, y: 30, z: 0.7091363222439294",
          "x: 0.4, y: 40, z: 0.7032493712557457",
          "x: 0.4, y: 50, z: 0.7003249880134831",
          "x: 0.4, y: 60, z: 0.6816091209852969",
          "x: 0.4, y: 70, z: 0.6451090628170745",
          "x: 0.4, y: 80, z: 0.6010302907118498",
          "x: 0.4, y: 90, z: 0.5671615460058638",
          "x: 0.5, y: 0, z: 0.6287484702054639",
          "x: 0.5, y: 10, z: 0.6780869348229153",
          "x: 0.5, y: 20, z: 0.6830835888500655",
          "x: 0.5, y: 30, z: 0.6684930411342195",
          "x: 0.5, y: 40, z: 0.6590412435727085",
          "x: 0.5, y: 50, z: 0.6552884646100225",
          "x: 0.5, y: 60, z: 0.6474468421935496",
          "x: 0.5, y: 70, z: 0.6316772922105544",
          "x: 0.5, y: 80, z: 0.5960743470115575",
          "x: 0.5, y: 90, z: 0.5672384350356044",
          "x: 0.6, y: 0, z: 0.6256413362258466",
          "x: 0.6, y: 10, z: 0.6527327215492389",
          "x: 0.6, y: 20, z: 0.6699093407764886",
          "x: 0.6, y: 30, z: 0.6635837694464243",
          "x: 0.6, y: 40, z: 0.6541941145645057",
          "x: 0.6, y: 50, z: 0.650317050242635",
          "x: 0.6, y: 60, z: 0.6427861412241238",
          "x: 0.6, y: 70, z: 0.6280730167941985",
          "x: 0.6, y: 80, z: 0.5927807849931632",
          "x: 0.6, y: 90, z: 0.5640070156968026",
          "x: 0.7, y: 0, z: 0.627696390554075",
          "x: 0.7, y: 10, z: 0.6525344444281009",
          "x: 0.7, y: 20, z: 0.6697480595363272",
          "x: 0.7, y: 30, z: 0.6634224882062628",
          "x: 0.7, y: 40, z: 0.6540949760039367",
          "x: 0.7, y: 50, z: 0.6500684795242656",
          "x: 0.7, y: 60, z: 0.6425375705057544",
          "x: 0.7, y: 70, z: 0.6278865887554214",
          "x: 0.7, y: 80, z: 0.5925943569543861",
          "x: 0.7, y: 90, z: 0.5638205876580256",
          "x: 0.8, y: 0, z: 0.6300162105847147",
          "x: 0.8, y: 10, z: 0.6240189219816302",
          "x: 0.8, y: 20, z: 0.6409153048393732",
          "x: 0.8, y: 30, z: 0.6343034425930161",
          "x: 0.8, y: 40, z: 0.6264792037832673",
          "x: 0.8, y: 50, z: 0.6240306967750735",
          "x: 0.8, y: 60, z: 0.6186747815422944",
          "x: 0.8, y: 70, z: 0.612102348138966",
          "x: 0.8, y: 80, z: 0.5845779512869738",
          "x: 0.8, y: 90, z: 0.5628884474641404",
          "x: 0.9, y: 0, z: 0.6321725764243525",
          "x: 0.9, y: 10, z: 0.5767084890986214",
          "x: 0.9, y: 20, z: 0.5764976385781755",
          "x: 0.9, y: 30, z: 0.5725826497638579",
          "x: 0.9, y: 40, z: 0.56972408650261",
          "x: 0.9, y: 50, z: 0.569537658463833",
          "x: 0.9, y: 60, z: 0.5692890877454636",
          "x: 0.9, y: 70, z: 0.5650633855331841",
          "x: 0.9, y: 80, z: 0.5521377081779766",
          "x: 0.9, y: 90, z: 0.5414491672880934",
          "x: 1.0, y: 0, z: 0.6321725764243525",
          "x: 1.0, y: 10, z: 0.5767084890986214",
          "x: 1.0, y: 20, z: 0.5764976385781755",
          "x: 1.0, y: 30, z: 0.5725826497638579",
          "x: 1.0, y: 40, z: 0.56972408650261",
          "x: 1.0, y: 50, z: 0.569537658463833",
          "x: 1.0, y: 60, z: 0.5692890877454636",
          "x: 1.0, y: 70, z: 0.5650633855331841",
          "x: 1.0, y: 80, z: 0.5521377081779766",
          "x: 1.0, y: 90, z: 0.5414491672880934"
         ],
         "type": "scatter",
         "x": [
          "0",
          "0",
          "0",
          "0",
          "0",
          "0",
          "0",
          "0",
          "0",
          "0",
          "0.1",
          "0.1",
          "0.1",
          "0.1",
          "0.1",
          "0.1",
          "0.1",
          "0.1",
          "0.1",
          "0.1",
          "0.2",
          "0.2",
          "0.2",
          "0.2",
          "0.2",
          "0.2",
          "0.2",
          "0.2",
          "0.2",
          "0.2",
          "0.3",
          "0.3",
          "0.3",
          "0.3",
          "0.3",
          "0.3",
          "0.3",
          "0.3",
          "0.3",
          "0.3",
          "0.4",
          "0.4",
          "0.4",
          "0.4",
          "0.4",
          "0.4",
          "0.4",
          "0.4",
          "0.4",
          "0.4",
          "0.5",
          "0.5",
          "0.5",
          "0.5",
          "0.5",
          "0.5",
          "0.5",
          "0.5",
          "0.5",
          "0.5",
          "0.6",
          "0.6",
          "0.6",
          "0.6",
          "0.6",
          "0.6",
          "0.6",
          "0.6",
          "0.6",
          "0.6",
          "0.7",
          "0.7",
          "0.7",
          "0.7",
          "0.7",
          "0.7",
          "0.7",
          "0.7",
          "0.7",
          "0.7",
          "0.8",
          "0.8",
          "0.8",
          "0.8",
          "0.8",
          "0.8",
          "0.8",
          "0.8",
          "0.8",
          "0.8",
          "0.9",
          "0.9",
          "0.9",
          "0.9",
          "0.9",
          "0.9",
          "0.9",
          "0.9",
          "0.9",
          "0.9",
          "1.0",
          "1.0",
          "1.0",
          "1.0",
          "1.0",
          "1.0",
          "1.0",
          "1.0",
          "1.0",
          "1.0"
         ],
         "xaxis": "x13",
         "y": [
          "0",
          "10",
          "20",
          "30",
          "40",
          "50",
          "60",
          "70",
          "80",
          "90",
          "0",
          "10",
          "20",
          "30",
          "40",
          "50",
          "60",
          "70",
          "80",
          "90",
          "0",
          "10",
          "20",
          "30",
          "40",
          "50",
          "60",
          "70",
          "80",
          "90",
          "0",
          "10",
          "20",
          "30",
          "40",
          "50",
          "60",
          "70",
          "80",
          "90",
          "0",
          "10",
          "20",
          "30",
          "40",
          "50",
          "60",
          "70",
          "80",
          "90",
          "0",
          "10",
          "20",
          "30",
          "40",
          "50",
          "60",
          "70",
          "80",
          "90",
          "0",
          "10",
          "20",
          "30",
          "40",
          "50",
          "60",
          "70",
          "80",
          "90",
          "0",
          "10",
          "20",
          "30",
          "40",
          "50",
          "60",
          "70",
          "80",
          "90",
          "0",
          "10",
          "20",
          "30",
          "40",
          "50",
          "60",
          "70",
          "80",
          "90",
          "0",
          "10",
          "20",
          "30",
          "40",
          "50",
          "60",
          "70",
          "80",
          "90",
          "0",
          "10",
          "20",
          "30",
          "40",
          "50",
          "60",
          "70",
          "80",
          "90"
         ],
         "yaxis": "y13"
        },
        {
         "hoverinfo": "text",
         "legendgroup": "best",
         "marker": {
          "color": "red",
          "symbol": "x"
         },
         "mode": "markers",
         "name": "best_score",
         "showlegend": false,
         "text": [
          "x: 0.4, y: 20, z: 0.720175321102703"
         ],
         "type": "scatter",
         "x": [
          "0.4"
         ],
         "xaxis": "x13",
         "y": [
          "20"
         ],
         "yaxis": "y13"
        },
        {
         "colorbar": {
          "title": {
           "text": "F1 score"
          }
         },
         "colorscale": [
          [
           0,
           "#440154"
          ],
          [
           0.1111111111111111,
           "#482878"
          ],
          [
           0.2222222222222222,
           "#3e4989"
          ],
          [
           0.3333333333333333,
           "#31688e"
          ],
          [
           0.4444444444444444,
           "#26828e"
          ],
          [
           0.5555555555555556,
           "#1f9e89"
          ],
          [
           0.6666666666666666,
           "#35b779"
          ],
          [
           0.7777777777777778,
           "#6ece58"
          ],
          [
           0.8888888888888888,
           "#b5de2b"
          ],
          [
           1,
           "#fde725"
          ]
         ],
         "contours": {
          "showlabels": true
         },
         "type": "contour",
         "x": [
          "0",
          "0.1",
          "0.2",
          "0.3",
          "0.4",
          "0.5",
          "0.6",
          "0.7",
          "0.8",
          "0.9",
          "1.0"
         ],
         "xaxis": "x2",
         "y": [
          "0",
          "10",
          "20",
          "30",
          "40",
          "50",
          "60",
          "70",
          "80",
          "90"
         ],
         "yaxis": "y2",
         "z": [
          [
           0.6894998161088636,
           0.715144001525844,
           0.715144001525844,
           0.715144001525844,
           0.7291555253050708,
           0.7499747755019676,
           0.7426164619912717,
           0.7441481783024628,
           0.7444682369735903,
           0.5182457315031804,
           0.5182457315031804
          ],
          [
           0.7425337944042754,
           0.7751822303851231,
           0.7751822303851231,
           0.7751822303851231,
           0.7644225120432382,
           0.670921420023933,
           0.6161832906485776,
           0.6160664819944598,
           0.6117712459175874,
           0.2666092387207925,
           0.2666092387207925
          ],
          [
           0.7495191763774183,
           0.7450754668713225,
           0.7450754668713225,
           0.7450754668713225,
           0.7314638471136796,
           0.6283926362511825,
           0.5953800298062594,
           0.5953640903331594,
           0.5926202569465193,
           0.2653875175164385,
           0.2653875175164385
          ],
          [
           0.7001283854007458,
           0.7078394676647952,
           0.7077498960210731,
           0.7077498960210731,
           0.6917754476068193,
           0.5730337078651685,
           0.5534611374027433,
           0.5534338896020539,
           0.5507595852423438,
           0.2535272411547645,
           0.2535272411547645
          ],
          [
           0.65744034146026,
           0.6739851175127091,
           0.6736919675755343,
           0.6736919675755343,
           0.6564943444925225,
           0.5271460938155577,
           0.5059584610146408,
           0.5060446109313809,
           0.5042618479372656,
           0.24476439790575916,
           0.24476439790575916
          ],
          [
           0.6270458814059565,
           0.6375755696791195,
           0.6370473753586106,
           0.6370473753586106,
           0.6294915523122075,
           0.49699608184588595,
           0.4745493107104984,
           0.4745493107104984,
           0.474009900990099,
           0.244189852700491,
           0.244189852700491
          ],
          [
           0.5585984983911334,
           0.5668990703851262,
           0.5667801112310119,
           0.5667801112310119,
           0.569501812357751,
           0.4406842008460548,
           0.41725007000840103,
           0.41725007000840103,
           0.41725007000840103,
           0.2434232070734636,
           0.2434232070734636
          ],
          [
           0.45874457165416505,
           0.4452759588400374,
           0.4452759588400374,
           0.4452759588400374,
           0.44669378488317096,
           0.3722729075763586,
           0.35200803212851406,
           0.35200803212851406,
           0.35200803212851406,
           0.2302870339821841,
           0.2302870339821841
          ],
          [
           0.4015997333777704,
           0.3475083730843398,
           0.3475083730843398,
           0.3475083730843398,
           0.3456338314526787,
           0.3086997193638915,
           0.2885990744636096,
           0.2885990744636096,
           0.2885990744636096,
           0.18885762521102983,
           0.18885762521102983
          ],
          [
           0.31591029489669786,
           0.24970299168376714,
           0.24970299168376714,
           0.24970299168376714,
           0.24743159943765547,
           0.2430879323430554,
           0.22168568920105355,
           0.22168568920105355,
           0.22168568920105355,
           0.15310455640996212,
           0.15310455640996212
          ]
         ],
         "zmax": 1,
         "zmin": 0.08289833457618692
        },
        {
         "hoverinfo": "text",
         "marker": {
          "color": "black",
          "symbol": "x"
         },
         "mode": "markers",
         "showlegend": false,
         "text": [
          "x: 0, y: 0, z: 0.6894998161088636",
          "x: 0, y: 10, z: 0.7425337944042754",
          "x: 0, y: 20, z: 0.7495191763774183",
          "x: 0, y: 30, z: 0.7001283854007458",
          "x: 0, y: 40, z: 0.65744034146026",
          "x: 0, y: 50, z: 0.6270458814059565",
          "x: 0, y: 60, z: 0.5585984983911334",
          "x: 0, y: 70, z: 0.45874457165416505",
          "x: 0, y: 80, z: 0.4015997333777704",
          "x: 0, y: 90, z: 0.31591029489669786",
          "x: 0.1, y: 0, z: 0.715144001525844",
          "x: 0.1, y: 10, z: 0.7751822303851231",
          "x: 0.1, y: 20, z: 0.7450754668713225",
          "x: 0.1, y: 30, z: 0.7078394676647952",
          "x: 0.1, y: 40, z: 0.6739851175127091",
          "x: 0.1, y: 50, z: 0.6375755696791195",
          "x: 0.1, y: 60, z: 0.5668990703851262",
          "x: 0.1, y: 70, z: 0.4452759588400374",
          "x: 0.1, y: 80, z: 0.3475083730843398",
          "x: 0.1, y: 90, z: 0.24970299168376714",
          "x: 0.2, y: 0, z: 0.715144001525844",
          "x: 0.2, y: 10, z: 0.7751822303851231",
          "x: 0.2, y: 20, z: 0.7450754668713225",
          "x: 0.2, y: 30, z: 0.7077498960210731",
          "x: 0.2, y: 40, z: 0.6736919675755343",
          "x: 0.2, y: 50, z: 0.6370473753586106",
          "x: 0.2, y: 60, z: 0.5667801112310119",
          "x: 0.2, y: 70, z: 0.4452759588400374",
          "x: 0.2, y: 80, z: 0.3475083730843398",
          "x: 0.2, y: 90, z: 0.24970299168376714",
          "x: 0.3, y: 0, z: 0.715144001525844",
          "x: 0.3, y: 10, z: 0.7751822303851231",
          "x: 0.3, y: 20, z: 0.7450754668713225",
          "x: 0.3, y: 30, z: 0.7077498960210731",
          "x: 0.3, y: 40, z: 0.6736919675755343",
          "x: 0.3, y: 50, z: 0.6370473753586106",
          "x: 0.3, y: 60, z: 0.5667801112310119",
          "x: 0.3, y: 70, z: 0.4452759588400374",
          "x: 0.3, y: 80, z: 0.3475083730843398",
          "x: 0.3, y: 90, z: 0.24970299168376714",
          "x: 0.4, y: 0, z: 0.7291555253050708",
          "x: 0.4, y: 10, z: 0.7644225120432382",
          "x: 0.4, y: 20, z: 0.7314638471136796",
          "x: 0.4, y: 30, z: 0.6917754476068193",
          "x: 0.4, y: 40, z: 0.6564943444925225",
          "x: 0.4, y: 50, z: 0.6294915523122075",
          "x: 0.4, y: 60, z: 0.569501812357751",
          "x: 0.4, y: 70, z: 0.44669378488317096",
          "x: 0.4, y: 80, z: 0.3456338314526787",
          "x: 0.4, y: 90, z: 0.24743159943765547",
          "x: 0.5, y: 0, z: 0.7499747755019676",
          "x: 0.5, y: 10, z: 0.670921420023933",
          "x: 0.5, y: 20, z: 0.6283926362511825",
          "x: 0.5, y: 30, z: 0.5730337078651685",
          "x: 0.5, y: 40, z: 0.5271460938155577",
          "x: 0.5, y: 50, z: 0.49699608184588595",
          "x: 0.5, y: 60, z: 0.4406842008460548",
          "x: 0.5, y: 70, z: 0.3722729075763586",
          "x: 0.5, y: 80, z: 0.3086997193638915",
          "x: 0.5, y: 90, z: 0.2430879323430554",
          "x: 0.6, y: 0, z: 0.7426164619912717",
          "x: 0.6, y: 10, z: 0.6161832906485776",
          "x: 0.6, y: 20, z: 0.5953800298062594",
          "x: 0.6, y: 30, z: 0.5534611374027433",
          "x: 0.6, y: 40, z: 0.5059584610146408",
          "x: 0.6, y: 50, z: 0.4745493107104984",
          "x: 0.6, y: 60, z: 0.41725007000840103",
          "x: 0.6, y: 70, z: 0.35200803212851406",
          "x: 0.6, y: 80, z: 0.2885990744636096",
          "x: 0.6, y: 90, z: 0.22168568920105355",
          "x: 0.7, y: 0, z: 0.7441481783024628",
          "x: 0.7, y: 10, z: 0.6160664819944598",
          "x: 0.7, y: 20, z: 0.5953640903331594",
          "x: 0.7, y: 30, z: 0.5534338896020539",
          "x: 0.7, y: 40, z: 0.5060446109313809",
          "x: 0.7, y: 50, z: 0.4745493107104984",
          "x: 0.7, y: 60, z: 0.41725007000840103",
          "x: 0.7, y: 70, z: 0.35200803212851406",
          "x: 0.7, y: 80, z: 0.2885990744636096",
          "x: 0.7, y: 90, z: 0.22168568920105355",
          "x: 0.8, y: 0, z: 0.7444682369735903",
          "x: 0.8, y: 10, z: 0.6117712459175874",
          "x: 0.8, y: 20, z: 0.5926202569465193",
          "x: 0.8, y: 30, z: 0.5507595852423438",
          "x: 0.8, y: 40, z: 0.5042618479372656",
          "x: 0.8, y: 50, z: 0.474009900990099",
          "x: 0.8, y: 60, z: 0.41725007000840103",
          "x: 0.8, y: 70, z: 0.35200803212851406",
          "x: 0.8, y: 80, z: 0.2885990744636096",
          "x: 0.8, y: 90, z: 0.22168568920105355",
          "x: 0.9, y: 0, z: 0.5182457315031804",
          "x: 0.9, y: 10, z: 0.2666092387207925",
          "x: 0.9, y: 20, z: 0.2653875175164385",
          "x: 0.9, y: 30, z: 0.2535272411547645",
          "x: 0.9, y: 40, z: 0.24476439790575916",
          "x: 0.9, y: 50, z: 0.244189852700491",
          "x: 0.9, y: 60, z: 0.2434232070734636",
          "x: 0.9, y: 70, z: 0.2302870339821841",
          "x: 0.9, y: 80, z: 0.18885762521102983",
          "x: 0.9, y: 90, z: 0.15310455640996212",
          "x: 1.0, y: 0, z: 0.5182457315031804",
          "x: 1.0, y: 10, z: 0.2666092387207925",
          "x: 1.0, y: 20, z: 0.2653875175164385",
          "x: 1.0, y: 30, z: 0.2535272411547645",
          "x: 1.0, y: 40, z: 0.24476439790575916",
          "x: 1.0, y: 50, z: 0.244189852700491",
          "x: 1.0, y: 60, z: 0.2434232070734636",
          "x: 1.0, y: 70, z: 0.2302870339821841",
          "x: 1.0, y: 80, z: 0.18885762521102983",
          "x: 1.0, y: 90, z: 0.15310455640996212"
         ],
         "type": "scatter",
         "x": [
          "0",
          "0",
          "0",
          "0",
          "0",
          "0",
          "0",
          "0",
          "0",
          "0",
          "0.1",
          "0.1",
          "0.1",
          "0.1",
          "0.1",
          "0.1",
          "0.1",
          "0.1",
          "0.1",
          "0.1",
          "0.2",
          "0.2",
          "0.2",
          "0.2",
          "0.2",
          "0.2",
          "0.2",
          "0.2",
          "0.2",
          "0.2",
          "0.3",
          "0.3",
          "0.3",
          "0.3",
          "0.3",
          "0.3",
          "0.3",
          "0.3",
          "0.3",
          "0.3",
          "0.4",
          "0.4",
          "0.4",
          "0.4",
          "0.4",
          "0.4",
          "0.4",
          "0.4",
          "0.4",
          "0.4",
          "0.5",
          "0.5",
          "0.5",
          "0.5",
          "0.5",
          "0.5",
          "0.5",
          "0.5",
          "0.5",
          "0.5",
          "0.6",
          "0.6",
          "0.6",
          "0.6",
          "0.6",
          "0.6",
          "0.6",
          "0.6",
          "0.6",
          "0.6",
          "0.7",
          "0.7",
          "0.7",
          "0.7",
          "0.7",
          "0.7",
          "0.7",
          "0.7",
          "0.7",
          "0.7",
          "0.8",
          "0.8",
          "0.8",
          "0.8",
          "0.8",
          "0.8",
          "0.8",
          "0.8",
          "0.8",
          "0.8",
          "0.9",
          "0.9",
          "0.9",
          "0.9",
          "0.9",
          "0.9",
          "0.9",
          "0.9",
          "0.9",
          "0.9",
          "1.0",
          "1.0",
          "1.0",
          "1.0",
          "1.0",
          "1.0",
          "1.0",
          "1.0",
          "1.0",
          "1.0"
         ],
         "xaxis": "x2",
         "y": [
          "0",
          "10",
          "20",
          "30",
          "40",
          "50",
          "60",
          "70",
          "80",
          "90",
          "0",
          "10",
          "20",
          "30",
          "40",
          "50",
          "60",
          "70",
          "80",
          "90",
          "0",
          "10",
          "20",
          "30",
          "40",
          "50",
          "60",
          "70",
          "80",
          "90",
          "0",
          "10",
          "20",
          "30",
          "40",
          "50",
          "60",
          "70",
          "80",
          "90",
          "0",
          "10",
          "20",
          "30",
          "40",
          "50",
          "60",
          "70",
          "80",
          "90",
          "0",
          "10",
          "20",
          "30",
          "40",
          "50",
          "60",
          "70",
          "80",
          "90",
          "0",
          "10",
          "20",
          "30",
          "40",
          "50",
          "60",
          "70",
          "80",
          "90",
          "0",
          "10",
          "20",
          "30",
          "40",
          "50",
          "60",
          "70",
          "80",
          "90",
          "0",
          "10",
          "20",
          "30",
          "40",
          "50",
          "60",
          "70",
          "80",
          "90",
          "0",
          "10",
          "20",
          "30",
          "40",
          "50",
          "60",
          "70",
          "80",
          "90",
          "0",
          "10",
          "20",
          "30",
          "40",
          "50",
          "60",
          "70",
          "80",
          "90"
         ],
         "yaxis": "y2"
        },
        {
         "hoverinfo": "text",
         "legendgroup": "best",
         "marker": {
          "color": "red",
          "symbol": "x"
         },
         "mode": "markers",
         "name": "best_score",
         "showlegend": false,
         "text": [
          "x: 0.1, y: 10, z: 0.7751822303851231"
         ],
         "type": "scatter",
         "x": [
          "0.1"
         ],
         "xaxis": "x2",
         "y": [
          "10"
         ],
         "yaxis": "y2"
        },
        {
         "colorbar": {
          "title": {
           "text": "F1 score"
          }
         },
         "colorscale": [
          [
           0,
           "#440154"
          ],
          [
           0.1111111111111111,
           "#482878"
          ],
          [
           0.2222222222222222,
           "#3e4989"
          ],
          [
           0.3333333333333333,
           "#31688e"
          ],
          [
           0.4444444444444444,
           "#26828e"
          ],
          [
           0.5555555555555556,
           "#1f9e89"
          ],
          [
           0.6666666666666666,
           "#35b779"
          ],
          [
           0.7777777777777778,
           "#6ece58"
          ],
          [
           0.8888888888888888,
           "#b5de2b"
          ],
          [
           1,
           "#fde725"
          ]
         ],
         "contours": {
          "showlabels": true
         },
         "type": "contour",
         "x": [
          "0",
          "0.1",
          "0.2",
          "0.3",
          "0.4",
          "0.5",
          "0.6",
          "0.7",
          "0.8",
          "0.9",
          "1.0"
         ],
         "xaxis": "x5",
         "y": [
          "0",
          "10",
          "20",
          "30",
          "40",
          "50",
          "60",
          "70",
          "80",
          "90"
         ],
         "yaxis": "y5",
         "z": [
          [
           0.5471326426382607,
           0.5801485378307287,
           0.5801485378307287,
           0.5801485378307287,
           0.5988181745588118,
           0.6311990489130435,
           0.6275300171526587,
           0.6300189557125625,
           0.6311376210235131,
           0.7934392619169657,
           0.7934392619169657
          ],
          [
           0.6418478260869566,
           0.7201663645089048,
           0.7201663645089048,
           0.7201663645089048,
           0.7248217468805704,
           0.7212692967409948,
           0.6953600999843774,
           0.6956521739130435,
           0.6937746256895193,
           0.9975825946817083,
           0.9975825946817083
          ],
          [
           0.68781146179402,
           0.7674571805006588,
           0.7674571805006588,
           0.7674571805006588,
           0.7755187299818966,
           0.7579427769001229,
           0.7433941198362486,
           0.7436231614224539,
           0.7426057656308499,
           1,
           1
          ],
          [
           0.688966430032487,
           0.8001880582980724,
           0.8001567398119123,
           0.8001567398119123,
           0.8118198560187511,
           0.7885452961672473,
           0.7803664329337254,
           0.7806699864191942,
           0.7795221843003413,
           1,
           1
          ],
          [
           0.6853175138196036,
           0.8275737289668899,
           0.8274800868935553,
           0.8274800868935553,
           0.8433781938755608,
           0.8114182381813485,
           0.8028092922744462,
           0.8032432432432433,
           0.8024959305480195,
           1,
           1
          ],
          [
           0.6811425240454678,
           0.8469934102141681,
           0.8468357039785611,
           0.8468357039785611,
           0.8699846524884893,
           0.8298924105844723,
           0.8211009174311926,
           0.8211009174311926,
           0.8208818126148194,
           1,
           1
          ],
          [
           0.6576864792052534,
           0.8533233383308346,
           0.8532866783304174,
           0.8532866783304174,
           0.8849882106366256,
           0.8472418670438473,
           0.8380202474690663,
           0.8380202474690663,
           0.8380202474690663,
           1,
           1
          ],
          [
           0.6289240095258714,
           0.9001512859304085,
           0.9001512859304085,
           0.9001512859304085,
           0.9350495049504951,
           0.9210009813542689,
           0.9158829676071055,
           0.9158829676071055,
           0.9158829676071055,
           1,
           1
          ],
          [
           0.609201213346815,
           0.9474266740453791,
           0.9474266740453791,
           0.9474266740453791,
           0.9491903964265773,
           0.9428571428571428,
           0.9384404924760602,
           0.9384404924760602,
           0.9384404924760602,
           1,
           1
          ],
          [
           0.5454268292682927,
           0.9530090684253916,
           0.9530090684253916,
           0.9530090684253916,
           0.9525395503746877,
           0.9524214103653356,
           0.9474671669793621,
           0.9474671669793621,
           0.9474671669793621,
           1,
           1
          ]
         ],
         "zmax": 1,
         "zmin": 0.08289833457618692
        },
        {
         "hoverinfo": "text",
         "marker": {
          "color": "black",
          "symbol": "x"
         },
         "mode": "markers",
         "showlegend": false,
         "text": [
          "x: 0, y: 0, z: 0.5471326426382607",
          "x: 0, y: 10, z: 0.6418478260869566",
          "x: 0, y: 20, z: 0.68781146179402",
          "x: 0, y: 30, z: 0.688966430032487",
          "x: 0, y: 40, z: 0.6853175138196036",
          "x: 0, y: 50, z: 0.6811425240454678",
          "x: 0, y: 60, z: 0.6576864792052534",
          "x: 0, y: 70, z: 0.6289240095258714",
          "x: 0, y: 80, z: 0.609201213346815",
          "x: 0, y: 90, z: 0.5454268292682927",
          "x: 0.1, y: 0, z: 0.5801485378307287",
          "x: 0.1, y: 10, z: 0.7201663645089048",
          "x: 0.1, y: 20, z: 0.7674571805006588",
          "x: 0.1, y: 30, z: 0.8001880582980724",
          "x: 0.1, y: 40, z: 0.8275737289668899",
          "x: 0.1, y: 50, z: 0.8469934102141681",
          "x: 0.1, y: 60, z: 0.8533233383308346",
          "x: 0.1, y: 70, z: 0.9001512859304085",
          "x: 0.1, y: 80, z: 0.9474266740453791",
          "x: 0.1, y: 90, z: 0.9530090684253916",
          "x: 0.2, y: 0, z: 0.5801485378307287",
          "x: 0.2, y: 10, z: 0.7201663645089048",
          "x: 0.2, y: 20, z: 0.7674571805006588",
          "x: 0.2, y: 30, z: 0.8001567398119123",
          "x: 0.2, y: 40, z: 0.8274800868935553",
          "x: 0.2, y: 50, z: 0.8468357039785611",
          "x: 0.2, y: 60, z: 0.8532866783304174",
          "x: 0.2, y: 70, z: 0.9001512859304085",
          "x: 0.2, y: 80, z: 0.9474266740453791",
          "x: 0.2, y: 90, z: 0.9530090684253916",
          "x: 0.3, y: 0, z: 0.5801485378307287",
          "x: 0.3, y: 10, z: 0.7201663645089048",
          "x: 0.3, y: 20, z: 0.7674571805006588",
          "x: 0.3, y: 30, z: 0.8001567398119123",
          "x: 0.3, y: 40, z: 0.8274800868935553",
          "x: 0.3, y: 50, z: 0.8468357039785611",
          "x: 0.3, y: 60, z: 0.8532866783304174",
          "x: 0.3, y: 70, z: 0.9001512859304085",
          "x: 0.3, y: 80, z: 0.9474266740453791",
          "x: 0.3, y: 90, z: 0.9530090684253916",
          "x: 0.4, y: 0, z: 0.5988181745588118",
          "x: 0.4, y: 10, z: 0.7248217468805704",
          "x: 0.4, y: 20, z: 0.7755187299818966",
          "x: 0.4, y: 30, z: 0.8118198560187511",
          "x: 0.4, y: 40, z: 0.8433781938755608",
          "x: 0.4, y: 50, z: 0.8699846524884893",
          "x: 0.4, y: 60, z: 0.8849882106366256",
          "x: 0.4, y: 70, z: 0.9350495049504951",
          "x: 0.4, y: 80, z: 0.9491903964265773",
          "x: 0.4, y: 90, z: 0.9525395503746877",
          "x: 0.5, y: 0, z: 0.6311990489130435",
          "x: 0.5, y: 10, z: 0.7212692967409948",
          "x: 0.5, y: 20, z: 0.7579427769001229",
          "x: 0.5, y: 30, z: 0.7885452961672473",
          "x: 0.5, y: 40, z: 0.8114182381813485",
          "x: 0.5, y: 50, z: 0.8298924105844723",
          "x: 0.5, y: 60, z: 0.8472418670438473",
          "x: 0.5, y: 70, z: 0.9210009813542689",
          "x: 0.5, y: 80, z: 0.9428571428571428",
          "x: 0.5, y: 90, z: 0.9524214103653356",
          "x: 0.6, y: 0, z: 0.6275300171526587",
          "x: 0.6, y: 10, z: 0.6953600999843774",
          "x: 0.6, y: 20, z: 0.7433941198362486",
          "x: 0.6, y: 30, z: 0.7803664329337254",
          "x: 0.6, y: 40, z: 0.8028092922744462",
          "x: 0.6, y: 50, z: 0.8211009174311926",
          "x: 0.6, y: 60, z: 0.8380202474690663",
          "x: 0.6, y: 70, z: 0.9158829676071055",
          "x: 0.6, y: 80, z: 0.9384404924760602",
          "x: 0.6, y: 90, z: 0.9474671669793621",
          "x: 0.7, y: 0, z: 0.6300189557125625",
          "x: 0.7, y: 10, z: 0.6956521739130435",
          "x: 0.7, y: 20, z: 0.7436231614224539",
          "x: 0.7, y: 30, z: 0.7806699864191942",
          "x: 0.7, y: 40, z: 0.8032432432432433",
          "x: 0.7, y: 50, z: 0.8211009174311926",
          "x: 0.7, y: 60, z: 0.8380202474690663",
          "x: 0.7, y: 70, z: 0.9158829676071055",
          "x: 0.7, y: 80, z: 0.9384404924760602",
          "x: 0.7, y: 90, z: 0.9474671669793621",
          "x: 0.8, y: 0, z: 0.6311376210235131",
          "x: 0.8, y: 10, z: 0.6937746256895193",
          "x: 0.8, y: 20, z: 0.7426057656308499",
          "x: 0.8, y: 30, z: 0.7795221843003413",
          "x: 0.8, y: 40, z: 0.8024959305480195",
          "x: 0.8, y: 50, z: 0.8208818126148194",
          "x: 0.8, y: 60, z: 0.8380202474690663",
          "x: 0.8, y: 70, z: 0.9158829676071055",
          "x: 0.8, y: 80, z: 0.9384404924760602",
          "x: 0.8, y: 90, z: 0.9474671669793621",
          "x: 0.9, y: 0, z: 0.7934392619169657",
          "x: 0.9, y: 10, z: 0.9975825946817083",
          "x: 0.9, y: 20, z: 1.0",
          "x: 0.9, y: 30, z: 1.0",
          "x: 0.9, y: 40, z: 1.0",
          "x: 0.9, y: 50, z: 1.0",
          "x: 0.9, y: 60, z: 1.0",
          "x: 0.9, y: 70, z: 1.0",
          "x: 0.9, y: 80, z: 1.0",
          "x: 0.9, y: 90, z: 1.0",
          "x: 1.0, y: 0, z: 0.7934392619169657",
          "x: 1.0, y: 10, z: 0.9975825946817083",
          "x: 1.0, y: 20, z: 1.0",
          "x: 1.0, y: 30, z: 1.0",
          "x: 1.0, y: 40, z: 1.0",
          "x: 1.0, y: 50, z: 1.0",
          "x: 1.0, y: 60, z: 1.0",
          "x: 1.0, y: 70, z: 1.0",
          "x: 1.0, y: 80, z: 1.0",
          "x: 1.0, y: 90, z: 1.0"
         ],
         "type": "scatter",
         "x": [
          "0",
          "0",
          "0",
          "0",
          "0",
          "0",
          "0",
          "0",
          "0",
          "0",
          "0.1",
          "0.1",
          "0.1",
          "0.1",
          "0.1",
          "0.1",
          "0.1",
          "0.1",
          "0.1",
          "0.1",
          "0.2",
          "0.2",
          "0.2",
          "0.2",
          "0.2",
          "0.2",
          "0.2",
          "0.2",
          "0.2",
          "0.2",
          "0.3",
          "0.3",
          "0.3",
          "0.3",
          "0.3",
          "0.3",
          "0.3",
          "0.3",
          "0.3",
          "0.3",
          "0.4",
          "0.4",
          "0.4",
          "0.4",
          "0.4",
          "0.4",
          "0.4",
          "0.4",
          "0.4",
          "0.4",
          "0.5",
          "0.5",
          "0.5",
          "0.5",
          "0.5",
          "0.5",
          "0.5",
          "0.5",
          "0.5",
          "0.5",
          "0.6",
          "0.6",
          "0.6",
          "0.6",
          "0.6",
          "0.6",
          "0.6",
          "0.6",
          "0.6",
          "0.6",
          "0.7",
          "0.7",
          "0.7",
          "0.7",
          "0.7",
          "0.7",
          "0.7",
          "0.7",
          "0.7",
          "0.7",
          "0.8",
          "0.8",
          "0.8",
          "0.8",
          "0.8",
          "0.8",
          "0.8",
          "0.8",
          "0.8",
          "0.8",
          "0.9",
          "0.9",
          "0.9",
          "0.9",
          "0.9",
          "0.9",
          "0.9",
          "0.9",
          "0.9",
          "0.9",
          "1.0",
          "1.0",
          "1.0",
          "1.0",
          "1.0",
          "1.0",
          "1.0",
          "1.0",
          "1.0",
          "1.0"
         ],
         "xaxis": "x5",
         "y": [
          "0",
          "10",
          "20",
          "30",
          "40",
          "50",
          "60",
          "70",
          "80",
          "90",
          "0",
          "10",
          "20",
          "30",
          "40",
          "50",
          "60",
          "70",
          "80",
          "90",
          "0",
          "10",
          "20",
          "30",
          "40",
          "50",
          "60",
          "70",
          "80",
          "90",
          "0",
          "10",
          "20",
          "30",
          "40",
          "50",
          "60",
          "70",
          "80",
          "90",
          "0",
          "10",
          "20",
          "30",
          "40",
          "50",
          "60",
          "70",
          "80",
          "90",
          "0",
          "10",
          "20",
          "30",
          "40",
          "50",
          "60",
          "70",
          "80",
          "90",
          "0",
          "10",
          "20",
          "30",
          "40",
          "50",
          "60",
          "70",
          "80",
          "90",
          "0",
          "10",
          "20",
          "30",
          "40",
          "50",
          "60",
          "70",
          "80",
          "90",
          "0",
          "10",
          "20",
          "30",
          "40",
          "50",
          "60",
          "70",
          "80",
          "90",
          "0",
          "10",
          "20",
          "30",
          "40",
          "50",
          "60",
          "70",
          "80",
          "90",
          "0",
          "10",
          "20",
          "30",
          "40",
          "50",
          "60",
          "70",
          "80",
          "90"
         ],
         "yaxis": "y5"
        },
        {
         "hoverinfo": "text",
         "legendgroup": "best",
         "marker": {
          "color": "red",
          "symbol": "x"
         },
         "mode": "markers",
         "name": "best_score",
         "showlegend": false,
         "text": [
          "x: 0.9, y: 20, z: 1.0"
         ],
         "type": "scatter",
         "x": [
          "0.9"
         ],
         "xaxis": "x5",
         "y": [
          "20"
         ],
         "yaxis": "y5"
        },
        {
         "colorbar": {
          "title": {
           "text": "F1 score"
          }
         },
         "colorscale": [
          [
           0,
           "#440154"
          ],
          [
           0.1111111111111111,
           "#482878"
          ],
          [
           0.2222222222222222,
           "#3e4989"
          ],
          [
           0.3333333333333333,
           "#31688e"
          ],
          [
           0.4444444444444444,
           "#26828e"
          ],
          [
           0.5555555555555556,
           "#1f9e89"
          ],
          [
           0.6666666666666666,
           "#35b779"
          ],
          [
           0.7777777777777778,
           "#6ece58"
          ],
          [
           0.8888888888888888,
           "#b5de2b"
          ],
          [
           1,
           "#fde725"
          ]
         ],
         "contours": {
          "showlabels": true
         },
         "type": "contour",
         "x": [
          "0",
          "0.1",
          "0.2",
          "0.3",
          "0.4",
          "0.5",
          "0.6",
          "0.7",
          "0.8",
          "0.9",
          "1.0"
         ],
         "xaxis": "x8",
         "y": [
          "0",
          "10",
          "20",
          "30",
          "40",
          "50",
          "60",
          "70",
          "80",
          "90"
         ],
         "yaxis": "y8",
         "z": [
          [
           0.9320159085259756,
           0.9320159085259756,
           0.9320159085259756,
           0.9320159085259756,
           0.9320159085259756,
           0.9238130748197863,
           0.9093959731543624,
           0.908774546358439,
           0.9074074074074074,
           0.38478747203579416,
           0.38478747203579416
          ],
          [
           0.8806860551826995,
           0.8392990305741984,
           0.8392990305741984,
           0.8392990305741984,
           0.8086005468555804,
           0.6271439224459359,
           0.5531941337310465,
           0.5528212776534924,
           0.5471041511309968,
           0.1538652746706438,
           0.1538652746706438
          ],
          [
           0.8233905045985583,
           0.7239622172508079,
           0.7239622172508079,
           0.7239622172508079,
           0.6921451652995277,
           0.536664180959483,
           0.49652000994282874,
           0.49639572458364406,
           0.4930400198856575,
           0.15299527715635097,
           0.15299527715635097
          ],
          [
           0.7116579666915237,
           0.6346010439970171,
           0.6344767586378325,
           0.6344767586378325,
           0.6026597066865523,
           0.4500372856077554,
           0.42878448918717377,
           0.4286602038279891,
           0.42580164056674125,
           0.14516529952771565,
           0.14516529952771565
          ],
          [
           0.6317424807357693,
           0.5684812329107631,
           0.568108376833209,
           0.568108376833209,
           0.5374098931145911,
           0.39038031319910516,
           0.3693760874968929,
           0.3693760874968929,
           0.36763609246830725,
           0.13944817300521997,
           0.13944817300521997
          ],
          [
           0.580909768829232,
           0.5111856823266219,
           0.5105642555306985,
           0.5105642555306985,
           0.49316430524484217,
           0.3547104151130997,
           0.3337061894108874,
           0.3337061894108874,
           0.33320904797414863,
           0.13907531692766592,
           0.13907531692766592
          ],
          [
           0.4854586129753915,
           0.42443450161570967,
           0.424310216256525,
           0.424310216256525,
           0.4198359433258762,
           0.29778772060651254,
           0.2777777777777778,
           0.2777777777777778,
           0.2777777777777778,
           0.13857817549092716,
           0.13857817549092716
          ],
          [
           0.3610489684315188,
           0.29579915485955754,
           0.29579915485955754,
           0.29579915485955754,
           0.2934377330350485,
           0.23328361918965945,
           0.21787223465075814,
           0.21787223465075814,
           0.21787223465075814,
           0.13012677106636839,
           0.13012677106636839
          ],
          [
           0.29952771563509817,
           0.21277653492418594,
           0.21277653492418594,
           0.21277653492418594,
           0.21128511061396968,
           0.18456375838926176,
           0.170519512801392,
           0.170519512801392,
           0.170519512801392,
           0.10427541635595326,
           0.10427541635595326
          ],
          [
           0.22234650758140692,
           0.14367387521749939,
           0.14367387521749939,
           0.14367387521749939,
           0.14218245090728313,
           0.1393238876460353,
           0.12552821277653492,
           0.12552821277653492,
           0.12552821277653492,
           0.08289833457618692,
           0.08289833457618692
          ]
         ],
         "zmax": 1,
         "zmin": 0.08289833457618692
        },
        {
         "hoverinfo": "text",
         "marker": {
          "color": "black",
          "symbol": "x"
         },
         "mode": "markers",
         "showlegend": false,
         "text": [
          "x: 0, y: 0, z: 0.9320159085259756",
          "x: 0, y: 10, z: 0.8806860551826995",
          "x: 0, y: 20, z: 0.8233905045985583",
          "x: 0, y: 30, z: 0.7116579666915237",
          "x: 0, y: 40, z: 0.6317424807357693",
          "x: 0, y: 50, z: 0.580909768829232",
          "x: 0, y: 60, z: 0.4854586129753915",
          "x: 0, y: 70, z: 0.3610489684315188",
          "x: 0, y: 80, z: 0.29952771563509817",
          "x: 0, y: 90, z: 0.22234650758140692",
          "x: 0.1, y: 0, z: 0.9320159085259756",
          "x: 0.1, y: 10, z: 0.8392990305741984",
          "x: 0.1, y: 20, z: 0.7239622172508079",
          "x: 0.1, y: 30, z: 0.6346010439970171",
          "x: 0.1, y: 40, z: 0.5684812329107631",
          "x: 0.1, y: 50, z: 0.5111856823266219",
          "x: 0.1, y: 60, z: 0.42443450161570967",
          "x: 0.1, y: 70, z: 0.29579915485955754",
          "x: 0.1, y: 80, z: 0.21277653492418594",
          "x: 0.1, y: 90, z: 0.14367387521749939",
          "x: 0.2, y: 0, z: 0.9320159085259756",
          "x: 0.2, y: 10, z: 0.8392990305741984",
          "x: 0.2, y: 20, z: 0.7239622172508079",
          "x: 0.2, y: 30, z: 0.6344767586378325",
          "x: 0.2, y: 40, z: 0.568108376833209",
          "x: 0.2, y: 50, z: 0.5105642555306985",
          "x: 0.2, y: 60, z: 0.424310216256525",
          "x: 0.2, y: 70, z: 0.29579915485955754",
          "x: 0.2, y: 80, z: 0.21277653492418594",
          "x: 0.2, y: 90, z: 0.14367387521749939",
          "x: 0.3, y: 0, z: 0.9320159085259756",
          "x: 0.3, y: 10, z: 0.8392990305741984",
          "x: 0.3, y: 20, z: 0.7239622172508079",
          "x: 0.3, y: 30, z: 0.6344767586378325",
          "x: 0.3, y: 40, z: 0.568108376833209",
          "x: 0.3, y: 50, z: 0.5105642555306985",
          "x: 0.3, y: 60, z: 0.424310216256525",
          "x: 0.3, y: 70, z: 0.29579915485955754",
          "x: 0.3, y: 80, z: 0.21277653492418594",
          "x: 0.3, y: 90, z: 0.14367387521749939",
          "x: 0.4, y: 0, z: 0.9320159085259756",
          "x: 0.4, y: 10, z: 0.8086005468555804",
          "x: 0.4, y: 20, z: 0.6921451652995277",
          "x: 0.4, y: 30, z: 0.6026597066865523",
          "x: 0.4, y: 40, z: 0.5374098931145911",
          "x: 0.4, y: 50, z: 0.49316430524484217",
          "x: 0.4, y: 60, z: 0.4198359433258762",
          "x: 0.4, y: 70, z: 0.2934377330350485",
          "x: 0.4, y: 80, z: 0.21128511061396968",
          "x: 0.4, y: 90, z: 0.14218245090728313",
          "x: 0.5, y: 0, z: 0.9238130748197863",
          "x: 0.5, y: 10, z: 0.6271439224459359",
          "x: 0.5, y: 20, z: 0.536664180959483",
          "x: 0.5, y: 30, z: 0.4500372856077554",
          "x: 0.5, y: 40, z: 0.39038031319910516",
          "x: 0.5, y: 50, z: 0.3547104151130997",
          "x: 0.5, y: 60, z: 0.29778772060651254",
          "x: 0.5, y: 70, z: 0.23328361918965945",
          "x: 0.5, y: 80, z: 0.18456375838926176",
          "x: 0.5, y: 90, z: 0.1393238876460353",
          "x: 0.6, y: 0, z: 0.9093959731543624",
          "x: 0.6, y: 10, z: 0.5531941337310465",
          "x: 0.6, y: 20, z: 0.49652000994282874",
          "x: 0.6, y: 30, z: 0.42878448918717377",
          "x: 0.6, y: 40, z: 0.3693760874968929",
          "x: 0.6, y: 50, z: 0.3337061894108874",
          "x: 0.6, y: 60, z: 0.2777777777777778",
          "x: 0.6, y: 70, z: 0.21787223465075814",
          "x: 0.6, y: 80, z: 0.170519512801392",
          "x: 0.6, y: 90, z: 0.12552821277653492",
          "x: 0.7, y: 0, z: 0.908774546358439",
          "x: 0.7, y: 10, z: 0.5528212776534924",
          "x: 0.7, y: 20, z: 0.49639572458364406",
          "x: 0.7, y: 30, z: 0.4286602038279891",
          "x: 0.7, y: 40, z: 0.3693760874968929",
          "x: 0.7, y: 50, z: 0.3337061894108874",
          "x: 0.7, y: 60, z: 0.2777777777777778",
          "x: 0.7, y: 70, z: 0.21787223465075814",
          "x: 0.7, y: 80, z: 0.170519512801392",
          "x: 0.7, y: 90, z: 0.12552821277653492",
          "x: 0.8, y: 0, z: 0.9074074074074074",
          "x: 0.8, y: 10, z: 0.5471041511309968",
          "x: 0.8, y: 20, z: 0.4930400198856575",
          "x: 0.8, y: 30, z: 0.42580164056674125",
          "x: 0.8, y: 40, z: 0.36763609246830725",
          "x: 0.8, y: 50, z: 0.33320904797414863",
          "x: 0.8, y: 60, z: 0.2777777777777778",
          "x: 0.8, y: 70, z: 0.21787223465075814",
          "x: 0.8, y: 80, z: 0.170519512801392",
          "x: 0.8, y: 90, z: 0.12552821277653492",
          "x: 0.9, y: 0, z: 0.38478747203579416",
          "x: 0.9, y: 10, z: 0.1538652746706438",
          "x: 0.9, y: 20, z: 0.15299527715635097",
          "x: 0.9, y: 30, z: 0.14516529952771565",
          "x: 0.9, y: 40, z: 0.13944817300521997",
          "x: 0.9, y: 50, z: 0.13907531692766592",
          "x: 0.9, y: 60, z: 0.13857817549092716",
          "x: 0.9, y: 70, z: 0.13012677106636839",
          "x: 0.9, y: 80, z: 0.10427541635595326",
          "x: 0.9, y: 90, z: 0.08289833457618692",
          "x: 1.0, y: 0, z: 0.38478747203579416",
          "x: 1.0, y: 10, z: 0.1538652746706438",
          "x: 1.0, y: 20, z: 0.15299527715635097",
          "x: 1.0, y: 30, z: 0.14516529952771565",
          "x: 1.0, y: 40, z: 0.13944817300521997",
          "x: 1.0, y: 50, z: 0.13907531692766592",
          "x: 1.0, y: 60, z: 0.13857817549092716",
          "x: 1.0, y: 70, z: 0.13012677106636839",
          "x: 1.0, y: 80, z: 0.10427541635595326",
          "x: 1.0, y: 90, z: 0.08289833457618692"
         ],
         "type": "scatter",
         "x": [
          "0",
          "0",
          "0",
          "0",
          "0",
          "0",
          "0",
          "0",
          "0",
          "0",
          "0.1",
          "0.1",
          "0.1",
          "0.1",
          "0.1",
          "0.1",
          "0.1",
          "0.1",
          "0.1",
          "0.1",
          "0.2",
          "0.2",
          "0.2",
          "0.2",
          "0.2",
          "0.2",
          "0.2",
          "0.2",
          "0.2",
          "0.2",
          "0.3",
          "0.3",
          "0.3",
          "0.3",
          "0.3",
          "0.3",
          "0.3",
          "0.3",
          "0.3",
          "0.3",
          "0.4",
          "0.4",
          "0.4",
          "0.4",
          "0.4",
          "0.4",
          "0.4",
          "0.4",
          "0.4",
          "0.4",
          "0.5",
          "0.5",
          "0.5",
          "0.5",
          "0.5",
          "0.5",
          "0.5",
          "0.5",
          "0.5",
          "0.5",
          "0.6",
          "0.6",
          "0.6",
          "0.6",
          "0.6",
          "0.6",
          "0.6",
          "0.6",
          "0.6",
          "0.6",
          "0.7",
          "0.7",
          "0.7",
          "0.7",
          "0.7",
          "0.7",
          "0.7",
          "0.7",
          "0.7",
          "0.7",
          "0.8",
          "0.8",
          "0.8",
          "0.8",
          "0.8",
          "0.8",
          "0.8",
          "0.8",
          "0.8",
          "0.8",
          "0.9",
          "0.9",
          "0.9",
          "0.9",
          "0.9",
          "0.9",
          "0.9",
          "0.9",
          "0.9",
          "0.9",
          "1.0",
          "1.0",
          "1.0",
          "1.0",
          "1.0",
          "1.0",
          "1.0",
          "1.0",
          "1.0",
          "1.0"
         ],
         "xaxis": "x8",
         "y": [
          "0",
          "10",
          "20",
          "30",
          "40",
          "50",
          "60",
          "70",
          "80",
          "90",
          "0",
          "10",
          "20",
          "30",
          "40",
          "50",
          "60",
          "70",
          "80",
          "90",
          "0",
          "10",
          "20",
          "30",
          "40",
          "50",
          "60",
          "70",
          "80",
          "90",
          "0",
          "10",
          "20",
          "30",
          "40",
          "50",
          "60",
          "70",
          "80",
          "90",
          "0",
          "10",
          "20",
          "30",
          "40",
          "50",
          "60",
          "70",
          "80",
          "90",
          "0",
          "10",
          "20",
          "30",
          "40",
          "50",
          "60",
          "70",
          "80",
          "90",
          "0",
          "10",
          "20",
          "30",
          "40",
          "50",
          "60",
          "70",
          "80",
          "90",
          "0",
          "10",
          "20",
          "30",
          "40",
          "50",
          "60",
          "70",
          "80",
          "90",
          "0",
          "10",
          "20",
          "30",
          "40",
          "50",
          "60",
          "70",
          "80",
          "90",
          "0",
          "10",
          "20",
          "30",
          "40",
          "50",
          "60",
          "70",
          "80",
          "90",
          "0",
          "10",
          "20",
          "30",
          "40",
          "50",
          "60",
          "70",
          "80",
          "90"
         ],
         "yaxis": "y8"
        },
        {
         "hoverinfo": "text",
         "legendgroup": "best",
         "marker": {
          "color": "red",
          "symbol": "x"
         },
         "mode": "markers",
         "name": "best_score",
         "showlegend": false,
         "text": [
          "x: 0, y: 0, z: 0.9320159085259756"
         ],
         "type": "scatter",
         "x": [
          "0"
         ],
         "xaxis": "x8",
         "y": [
          "0"
         ],
         "yaxis": "y8"
        },
        {
         "colorbar": {
          "title": {
           "text": "F1 score"
          }
         },
         "colorscale": [
          [
           0,
           "#440154"
          ],
          [
           0.1111111111111111,
           "#482878"
          ],
          [
           0.2222222222222222,
           "#3e4989"
          ],
          [
           0.3333333333333333,
           "#31688e"
          ],
          [
           0.4444444444444444,
           "#26828e"
          ],
          [
           0.5555555555555556,
           "#1f9e89"
          ],
          [
           0.6666666666666666,
           "#35b779"
          ],
          [
           0.7777777777777778,
           "#6ece58"
          ],
          [
           0.8888888888888888,
           "#b5de2b"
          ],
          [
           1,
           "#fde725"
          ]
         ],
         "contours": {
          "showlabels": true
         },
         "type": "contour",
         "x": [
          "0",
          "0.1",
          "0.2",
          "0.3",
          "0.4",
          "0.5",
          "0.6",
          "0.7",
          "0.8",
          "0.9",
          "1.0"
         ],
         "xaxis": "x11",
         "y": [
          "0",
          "10",
          "20",
          "30",
          "40",
          "50",
          "60",
          "70",
          "80",
          "90"
         ],
         "yaxis": "y11",
         "z": [
          [
           0.5417288641606731,
           0.5946532772425024,
           0.5946532772425024,
           0.5946532772425024,
           0.6219975573347808,
           0.6637264214954539,
           0.655855611344823,
           0.6588410910571312,
           0.6599267200434251,
           0.6094449721807572,
           0.6094449721807572
          ],
          [
           0.6665761975844755,
           0.7342244537929162,
           0.7342244537929162,
           0.7342244537929162,
           0.7279142353100828,
           0.6641335323653141,
           0.6237617044375084,
           0.6238295562491518,
           0.6209119283484869,
           0.537861310897001,
           0.537861310897001
          ],
          [
           0.6995521780431537,
           0.7295426787895237,
           0.7295426787895237,
           0.7295426787895237,
           0.7225539421902565,
           0.653480797937305,
           0.6315646627764961,
           0.6316325145881395,
           0.6299362192970552,
           0.5375899036504275,
           0.5375899036504275
          ],
          [
           0.6671868638892658,
           0.7140046139231917,
           0.7139367621115483,
           0.7139367621115483,
           0.7068123218889945,
           0.6338716243723708,
           0.6222689645813543,
           0.6223368163929976,
           0.6207762247252001,
           0.5333152395168951,
           0.5333152395168951
          ],
          [
           0.6405889537250644,
           0.6997557334780838,
           0.6995521780431537,
           0.6995521780431537,
           0.6929705523137468,
           0.6176550413896051,
           0.6061880852218754,
           0.6063237888451621,
           0.6053738634821549,
           0.5301940561813,
           0.5301940561813
          ],
          [
           0.6227439272628579,
           0.6827249287555978,
           0.6823856696973809,
           0.6823856696973809,
           0.6830641878138146,
           0.6080200841362464,
           0.5965531279685168,
           0.5965531279685168,
           0.5962817207219433,
           0.5299905007463699,
           0.5299905007463699
          ],
          [
           0.5811507667254716,
           0.6459492468448907,
           0.6458813950332474,
           0.6458813950332474,
           0.653480797937305,
           0.5873252815850183,
           0.5764011399104356,
           0.5764011399104356,
           0.5764011399104356,
           0.5297190934997964,
           0.5297190934997964
          ],
          [
           0.5348758311846926,
           0.5976387569548107,
           0.5976387569548107,
           0.5976387569548107,
           0.6031347536979237,
           0.5704980322974623,
           0.5620844076536844,
           0.5620844076536844,
           0.5620844076536844,
           0.5251051703080473,
           0.5251051703080473
          ],
          [
           0.5126882887773103,
           0.5637807029447687,
           0.5637807029447687,
           0.5637807029447687,
           0.5632378884516217,
           0.5487176007599402,
           0.5410503460442394,
           0.5410503460442394,
           0.5410503460442394,
           0.510991993486226,
           0.510991993486226
          ],
          [
           0.47428416338716245,
           0.5286334645135025,
           0.5286334645135025,
           0.5286334645135025,
           0.527819242773782,
           0.526326502917628,
           0.5187949518252137,
           0.5187949518252137,
           0.5187949518252137,
           0.4993214818835663,
           0.4993214818835663
          ]
         ],
         "zmax": 1,
         "zmin": 0.08289833457618692
        },
        {
         "hoverinfo": "text",
         "marker": {
          "color": "black",
          "symbol": "x"
         },
         "mode": "markers",
         "showlegend": false,
         "text": [
          "x: 0, y: 0, z: 0.5417288641606731",
          "x: 0, y: 10, z: 0.6665761975844755",
          "x: 0, y: 20, z: 0.6995521780431537",
          "x: 0, y: 30, z: 0.6671868638892658",
          "x: 0, y: 40, z: 0.6405889537250644",
          "x: 0, y: 50, z: 0.6227439272628579",
          "x: 0, y: 60, z: 0.5811507667254716",
          "x: 0, y: 70, z: 0.5348758311846926",
          "x: 0, y: 80, z: 0.5126882887773103",
          "x: 0, y: 90, z: 0.47428416338716245",
          "x: 0.1, y: 0, z: 0.5946532772425024",
          "x: 0.1, y: 10, z: 0.7342244537929162",
          "x: 0.1, y: 20, z: 0.7295426787895237",
          "x: 0.1, y: 30, z: 0.7140046139231917",
          "x: 0.1, y: 40, z: 0.6997557334780838",
          "x: 0.1, y: 50, z: 0.6827249287555978",
          "x: 0.1, y: 60, z: 0.6459492468448907",
          "x: 0.1, y: 70, z: 0.5976387569548107",
          "x: 0.1, y: 80, z: 0.5637807029447687",
          "x: 0.1, y: 90, z: 0.5286334645135025",
          "x: 0.2, y: 0, z: 0.5946532772425024",
          "x: 0.2, y: 10, z: 0.7342244537929162",
          "x: 0.2, y: 20, z: 0.7295426787895237",
          "x: 0.2, y: 30, z: 0.7139367621115483",
          "x: 0.2, y: 40, z: 0.6995521780431537",
          "x: 0.2, y: 50, z: 0.6823856696973809",
          "x: 0.2, y: 60, z: 0.6458813950332474",
          "x: 0.2, y: 70, z: 0.5976387569548107",
          "x: 0.2, y: 80, z: 0.5637807029447687",
          "x: 0.2, y: 90, z: 0.5286334645135025",
          "x: 0.3, y: 0, z: 0.5946532772425024",
          "x: 0.3, y: 10, z: 0.7342244537929162",
          "x: 0.3, y: 20, z: 0.7295426787895237",
          "x: 0.3, y: 30, z: 0.7139367621115483",
          "x: 0.3, y: 40, z: 0.6995521780431537",
          "x: 0.3, y: 50, z: 0.6823856696973809",
          "x: 0.3, y: 60, z: 0.6458813950332474",
          "x: 0.3, y: 70, z: 0.5976387569548107",
          "x: 0.3, y: 80, z: 0.5637807029447687",
          "x: 0.3, y: 90, z: 0.5286334645135025",
          "x: 0.4, y: 0, z: 0.6219975573347808",
          "x: 0.4, y: 10, z: 0.7279142353100828",
          "x: 0.4, y: 20, z: 0.7225539421902565",
          "x: 0.4, y: 30, z: 0.7068123218889945",
          "x: 0.4, y: 40, z: 0.6929705523137468",
          "x: 0.4, y: 50, z: 0.6830641878138146",
          "x: 0.4, y: 60, z: 0.653480797937305",
          "x: 0.4, y: 70, z: 0.6031347536979237",
          "x: 0.4, y: 80, z: 0.5632378884516217",
          "x: 0.4, y: 90, z: 0.527819242773782",
          "x: 0.5, y: 0, z: 0.6637264214954539",
          "x: 0.5, y: 10, z: 0.6641335323653141",
          "x: 0.5, y: 20, z: 0.653480797937305",
          "x: 0.5, y: 30, z: 0.6338716243723708",
          "x: 0.5, y: 40, z: 0.6176550413896051",
          "x: 0.5, y: 50, z: 0.6080200841362464",
          "x: 0.5, y: 60, z: 0.5873252815850183",
          "x: 0.5, y: 70, z: 0.5704980322974623",
          "x: 0.5, y: 80, z: 0.5487176007599402",
          "x: 0.5, y: 90, z: 0.526326502917628",
          "x: 0.6, y: 0, z: 0.655855611344823",
          "x: 0.6, y: 10, z: 0.6237617044375084",
          "x: 0.6, y: 20, z: 0.6315646627764961",
          "x: 0.6, y: 30, z: 0.6222689645813543",
          "x: 0.6, y: 40, z: 0.6061880852218754",
          "x: 0.6, y: 50, z: 0.5965531279685168",
          "x: 0.6, y: 60, z: 0.5764011399104356",
          "x: 0.6, y: 70, z: 0.5620844076536844",
          "x: 0.6, y: 80, z: 0.5410503460442394",
          "x: 0.6, y: 90, z: 0.5187949518252137",
          "x: 0.7, y: 0, z: 0.6588410910571312",
          "x: 0.7, y: 10, z: 0.6238295562491518",
          "x: 0.7, y: 20, z: 0.6316325145881395",
          "x: 0.7, y: 30, z: 0.6223368163929976",
          "x: 0.7, y: 40, z: 0.6063237888451621",
          "x: 0.7, y: 50, z: 0.5965531279685168",
          "x: 0.7, y: 60, z: 0.5764011399104356",
          "x: 0.7, y: 70, z: 0.5620844076536844",
          "x: 0.7, y: 80, z: 0.5410503460442394",
          "x: 0.7, y: 90, z: 0.5187949518252137",
          "x: 0.8, y: 0, z: 0.6599267200434251",
          "x: 0.8, y: 10, z: 0.6209119283484869",
          "x: 0.8, y: 20, z: 0.6299362192970552",
          "x: 0.8, y: 30, z: 0.6207762247252001",
          "x: 0.8, y: 40, z: 0.6053738634821549",
          "x: 0.8, y: 50, z: 0.5962817207219433",
          "x: 0.8, y: 60, z: 0.5764011399104356",
          "x: 0.8, y: 70, z: 0.5620844076536844",
          "x: 0.8, y: 80, z: 0.5410503460442394",
          "x: 0.8, y: 90, z: 0.5187949518252137",
          "x: 0.9, y: 0, z: 0.6094449721807572",
          "x: 0.9, y: 10, z: 0.537861310897001",
          "x: 0.9, y: 20, z: 0.5375899036504275",
          "x: 0.9, y: 30, z: 0.5333152395168951",
          "x: 0.9, y: 40, z: 0.5301940561813",
          "x: 0.9, y: 50, z: 0.5299905007463699",
          "x: 0.9, y: 60, z: 0.5297190934997964",
          "x: 0.9, y: 70, z: 0.5251051703080473",
          "x: 0.9, y: 80, z: 0.510991993486226",
          "x: 0.9, y: 90, z: 0.4993214818835663",
          "x: 1.0, y: 0, z: 0.6094449721807572",
          "x: 1.0, y: 10, z: 0.537861310897001",
          "x: 1.0, y: 20, z: 0.5375899036504275",
          "x: 1.0, y: 30, z: 0.5333152395168951",
          "x: 1.0, y: 40, z: 0.5301940561813",
          "x: 1.0, y: 50, z: 0.5299905007463699",
          "x: 1.0, y: 60, z: 0.5297190934997964",
          "x: 1.0, y: 70, z: 0.5251051703080473",
          "x: 1.0, y: 80, z: 0.510991993486226",
          "x: 1.0, y: 90, z: 0.4993214818835663"
         ],
         "type": "scatter",
         "x": [
          "0",
          "0",
          "0",
          "0",
          "0",
          "0",
          "0",
          "0",
          "0",
          "0",
          "0.1",
          "0.1",
          "0.1",
          "0.1",
          "0.1",
          "0.1",
          "0.1",
          "0.1",
          "0.1",
          "0.1",
          "0.2",
          "0.2",
          "0.2",
          "0.2",
          "0.2",
          "0.2",
          "0.2",
          "0.2",
          "0.2",
          "0.2",
          "0.3",
          "0.3",
          "0.3",
          "0.3",
          "0.3",
          "0.3",
          "0.3",
          "0.3",
          "0.3",
          "0.3",
          "0.4",
          "0.4",
          "0.4",
          "0.4",
          "0.4",
          "0.4",
          "0.4",
          "0.4",
          "0.4",
          "0.4",
          "0.5",
          "0.5",
          "0.5",
          "0.5",
          "0.5",
          "0.5",
          "0.5",
          "0.5",
          "0.5",
          "0.5",
          "0.6",
          "0.6",
          "0.6",
          "0.6",
          "0.6",
          "0.6",
          "0.6",
          "0.6",
          "0.6",
          "0.6",
          "0.7",
          "0.7",
          "0.7",
          "0.7",
          "0.7",
          "0.7",
          "0.7",
          "0.7",
          "0.7",
          "0.7",
          "0.8",
          "0.8",
          "0.8",
          "0.8",
          "0.8",
          "0.8",
          "0.8",
          "0.8",
          "0.8",
          "0.8",
          "0.9",
          "0.9",
          "0.9",
          "0.9",
          "0.9",
          "0.9",
          "0.9",
          "0.9",
          "0.9",
          "0.9",
          "1.0",
          "1.0",
          "1.0",
          "1.0",
          "1.0",
          "1.0",
          "1.0",
          "1.0",
          "1.0",
          "1.0"
         ],
         "xaxis": "x11",
         "y": [
          "0",
          "10",
          "20",
          "30",
          "40",
          "50",
          "60",
          "70",
          "80",
          "90",
          "0",
          "10",
          "20",
          "30",
          "40",
          "50",
          "60",
          "70",
          "80",
          "90",
          "0",
          "10",
          "20",
          "30",
          "40",
          "50",
          "60",
          "70",
          "80",
          "90",
          "0",
          "10",
          "20",
          "30",
          "40",
          "50",
          "60",
          "70",
          "80",
          "90",
          "0",
          "10",
          "20",
          "30",
          "40",
          "50",
          "60",
          "70",
          "80",
          "90",
          "0",
          "10",
          "20",
          "30",
          "40",
          "50",
          "60",
          "70",
          "80",
          "90",
          "0",
          "10",
          "20",
          "30",
          "40",
          "50",
          "60",
          "70",
          "80",
          "90",
          "0",
          "10",
          "20",
          "30",
          "40",
          "50",
          "60",
          "70",
          "80",
          "90",
          "0",
          "10",
          "20",
          "30",
          "40",
          "50",
          "60",
          "70",
          "80",
          "90",
          "0",
          "10",
          "20",
          "30",
          "40",
          "50",
          "60",
          "70",
          "80",
          "90",
          "0",
          "10",
          "20",
          "30",
          "40",
          "50",
          "60",
          "70",
          "80",
          "90"
         ],
         "yaxis": "y11"
        },
        {
         "hoverinfo": "text",
         "legendgroup": "best",
         "marker": {
          "color": "red",
          "symbol": "x"
         },
         "mode": "markers",
         "name": "best_score",
         "showlegend": false,
         "text": [
          "x: 0.1, y: 10, z: 0.7342244537929162"
         ],
         "type": "scatter",
         "x": [
          "0.1"
         ],
         "xaxis": "x11",
         "y": [
          "10"
         ],
         "yaxis": "y11"
        },
        {
         "colorbar": {
          "title": {
           "text": "F1 score"
          }
         },
         "colorscale": [
          [
           0,
           "#440154"
          ],
          [
           0.1111111111111111,
           "#482878"
          ],
          [
           0.2222222222222222,
           "#3e4989"
          ],
          [
           0.3333333333333333,
           "#31688e"
          ],
          [
           0.4444444444444444,
           "#26828e"
          ],
          [
           0.5555555555555556,
           "#1f9e89"
          ],
          [
           0.6666666666666666,
           "#35b779"
          ],
          [
           0.7777777777777778,
           "#6ece58"
          ],
          [
           0.8888888888888888,
           "#b5de2b"
          ],
          [
           1,
           "#fde725"
          ]
         ],
         "contours": {
          "showlabels": true
         },
         "type": "contour",
         "x": [
          "0",
          "0.1",
          "0.2",
          "0.3",
          "0.4",
          "0.5",
          "0.6",
          "0.7",
          "0.8",
          "0.9",
          "1.0"
         ],
         "xaxis": "x14",
         "y": [
          "0",
          "10",
          "20",
          "30",
          "40",
          "50",
          "60",
          "70",
          "80",
          "90"
         ],
         "yaxis": "y14",
         "z": [
          [
           0.5022452525295747,
           0.5605237940717147,
           0.5605237940717147,
           0.5605237940717147,
           0.5906343738684868,
           0.6374146067464144,
           0.6302060559137024,
           0.6335564303818495,
           0.6348901950366386,
           0.6321725764243525,
           0.6321725764243525
          ],
          [
           0.6449156516200407,
           0.7235945242530286,
           0.7235945242530286,
           0.7235945242530286,
           0.7197515585443472,
           0.6678756073676183,
           0.6309007130101736,
           0.6310131492869973,
           0.62837873426245,
           0.5767084890986214,
           0.5767084890986214
          ],
          [
           0.68702400304644,
           0.7301072293665875,
           0.7301072293665875,
           0.7301072293665875,
           0.7256302634626749,
           0.6652986176763942,
           0.645226532168067,
           0.6453138216462752,
           0.6437854014550822,
           0.5764976385781755,
           0.5764976385781755
          ],
          [
           0.6626879193887983,
           0.7220375214007799,
           0.7219753787211876,
           0.7219753787211876,
           0.7173489806594746,
           0.6524693301918036,
           0.6418429319815129,
           0.6419302214597207,
           0.6405009398290968,
           0.5725826497638579,
           0.5725826497638579
          ],
          [
           0.6414839122148662,
           0.7130361932635106,
           0.7128497652247336,
           0.7128497652247336,
           0.7087079352004515,
           0.6406474190024217,
           0.6301453061513156,
           0.6302947383091159,
           0.6294247407948231,
           0.56972408650261,
           0.56972408650261
          ],
          [
           0.6269761037810236,
           0.7000787945404777,
           0.699768081142516,
           0.699768081142516,
           0.7022755178346148,
           0.633646301399945,
           0.6231441885488389,
           0.6231441885488389,
           0.6228956178304695,
           0.569537658463833,
           0.569537658463833
          ],
          [
           0.5908315180836312,
           0.6683589124934496,
           0.6682967698138572,
           0.6682967698138572,
           0.6771176130257595,
           0.6166165142183788,
           0.6066115428040114,
           0.6066115428040114,
           0.6066115428040114,
           0.5692890877454636,
           0.5692890877454636
          ],
          [
           0.5524611249808521,
           0.6281745326001315,
           0.6281745326001315,
           0.6281745326001315,
           0.6344654295778949,
           0.6046125208919009,
           0.5969068286224503,
           0.5969068286224503,
           0.5969068286224503,
           0.5650633855331841,
           0.5650633855331841
          ],
          [
           0.5342527998378719,
           0.5992902399665759,
           0.5992902399665759,
           0.5992902399665759,
           0.5988433921270685,
           0.5855574320936148,
           0.5785353092996799,
           0.5785353092996799,
           0.5785353092996799,
           0.5521377081779766,
           0.5521377081779766
          ],
          [
           0.499771580150536,
           0.5675781211114393,
           0.5675781211114393,
           0.5675781211114393,
           0.5668324089563314,
           0.5654778434046076,
           0.5585800059698575,
           0.5585800059698575,
           0.5585800059698575,
           0.5414491672880934,
           0.5414491672880934
          ]
         ],
         "zmax": 1,
         "zmin": 0.08289833457618692
        },
        {
         "hoverinfo": "text",
         "marker": {
          "color": "black",
          "symbol": "x"
         },
         "mode": "markers",
         "showlegend": false,
         "text": [
          "x: 0, y: 0, z: 0.5022452525295747",
          "x: 0, y: 10, z: 0.6449156516200407",
          "x: 0, y: 20, z: 0.68702400304644",
          "x: 0, y: 30, z: 0.6626879193887983",
          "x: 0, y: 40, z: 0.6414839122148662",
          "x: 0, y: 50, z: 0.6269761037810236",
          "x: 0, y: 60, z: 0.5908315180836312",
          "x: 0, y: 70, z: 0.5524611249808521",
          "x: 0, y: 80, z: 0.5342527998378719",
          "x: 0, y: 90, z: 0.499771580150536",
          "x: 0.1, y: 0, z: 0.5605237940717147",
          "x: 0.1, y: 10, z: 0.7235945242530286",
          "x: 0.1, y: 20, z: 0.7301072293665875",
          "x: 0.1, y: 30, z: 0.7220375214007799",
          "x: 0.1, y: 40, z: 0.7130361932635106",
          "x: 0.1, y: 50, z: 0.7000787945404777",
          "x: 0.1, y: 60, z: 0.6683589124934496",
          "x: 0.1, y: 70, z: 0.6281745326001315",
          "x: 0.1, y: 80, z: 0.5992902399665759",
          "x: 0.1, y: 90, z: 0.5675781211114393",
          "x: 0.2, y: 0, z: 0.5605237940717147",
          "x: 0.2, y: 10, z: 0.7235945242530286",
          "x: 0.2, y: 20, z: 0.7301072293665875",
          "x: 0.2, y: 30, z: 0.7219753787211876",
          "x: 0.2, y: 40, z: 0.7128497652247336",
          "x: 0.2, y: 50, z: 0.699768081142516",
          "x: 0.2, y: 60, z: 0.6682967698138572",
          "x: 0.2, y: 70, z: 0.6281745326001315",
          "x: 0.2, y: 80, z: 0.5992902399665759",
          "x: 0.2, y: 90, z: 0.5675781211114393",
          "x: 0.3, y: 0, z: 0.5605237940717147",
          "x: 0.3, y: 10, z: 0.7235945242530286",
          "x: 0.3, y: 20, z: 0.7301072293665875",
          "x: 0.3, y: 30, z: 0.7219753787211876",
          "x: 0.3, y: 40, z: 0.7128497652247336",
          "x: 0.3, y: 50, z: 0.699768081142516",
          "x: 0.3, y: 60, z: 0.6682967698138572",
          "x: 0.3, y: 70, z: 0.6281745326001315",
          "x: 0.3, y: 80, z: 0.5992902399665759",
          "x: 0.3, y: 90, z: 0.5675781211114393",
          "x: 0.4, y: 0, z: 0.5906343738684868",
          "x: 0.4, y: 10, z: 0.7197515585443472",
          "x: 0.4, y: 20, z: 0.7256302634626749",
          "x: 0.4, y: 30, z: 0.7173489806594746",
          "x: 0.4, y: 40, z: 0.7087079352004515",
          "x: 0.4, y: 50, z: 0.7022755178346148",
          "x: 0.4, y: 60, z: 0.6771176130257595",
          "x: 0.4, y: 70, z: 0.6344654295778949",
          "x: 0.4, y: 80, z: 0.5988433921270685",
          "x: 0.4, y: 90, z: 0.5668324089563314",
          "x: 0.5, y: 0, z: 0.6374146067464144",
          "x: 0.5, y: 10, z: 0.6678756073676183",
          "x: 0.5, y: 20, z: 0.6652986176763942",
          "x: 0.5, y: 30, z: 0.6524693301918036",
          "x: 0.5, y: 40, z: 0.6406474190024217",
          "x: 0.5, y: 50, z: 0.633646301399945",
          "x: 0.5, y: 60, z: 0.6166165142183788",
          "x: 0.5, y: 70, z: 0.6046125208919009",
          "x: 0.5, y: 80, z: 0.5855574320936148",
          "x: 0.5, y: 90, z: 0.5654778434046076",
          "x: 0.6, y: 0, z: 0.6302060559137024",
          "x: 0.6, y: 10, z: 0.6309007130101736",
          "x: 0.6, y: 20, z: 0.645226532168067",
          "x: 0.6, y: 30, z: 0.6418429319815129",
          "x: 0.6, y: 40, z: 0.6301453061513156",
          "x: 0.6, y: 50, z: 0.6231441885488389",
          "x: 0.6, y: 60, z: 0.6066115428040114",
          "x: 0.6, y: 70, z: 0.5969068286224503",
          "x: 0.6, y: 80, z: 0.5785353092996799",
          "x: 0.6, y: 90, z: 0.5585800059698575",
          "x: 0.7, y: 0, z: 0.6335564303818495",
          "x: 0.7, y: 10, z: 0.6310131492869973",
          "x: 0.7, y: 20, z: 0.6453138216462752",
          "x: 0.7, y: 30, z: 0.6419302214597207",
          "x: 0.7, y: 40, z: 0.6302947383091159",
          "x: 0.7, y: 50, z: 0.6231441885488389",
          "x: 0.7, y: 60, z: 0.6066115428040114",
          "x: 0.7, y: 70, z: 0.5969068286224503",
          "x: 0.7, y: 80, z: 0.5785353092996799",
          "x: 0.7, y: 90, z: 0.5585800059698575",
          "x: 0.8, y: 0, z: 0.6348901950366386",
          "x: 0.8, y: 10, z: 0.62837873426245",
          "x: 0.8, y: 20, z: 0.6437854014550822",
          "x: 0.8, y: 30, z: 0.6405009398290968",
          "x: 0.8, y: 40, z: 0.6294247407948231",
          "x: 0.8, y: 50, z: 0.6228956178304695",
          "x: 0.8, y: 60, z: 0.6066115428040114",
          "x: 0.8, y: 70, z: 0.5969068286224503",
          "x: 0.8, y: 80, z: 0.5785353092996799",
          "x: 0.8, y: 90, z: 0.5585800059698575",
          "x: 0.9, y: 0, z: 0.6321725764243525",
          "x: 0.9, y: 10, z: 0.5767084890986214",
          "x: 0.9, y: 20, z: 0.5764976385781755",
          "x: 0.9, y: 30, z: 0.5725826497638579",
          "x: 0.9, y: 40, z: 0.56972408650261",
          "x: 0.9, y: 50, z: 0.569537658463833",
          "x: 0.9, y: 60, z: 0.5692890877454636",
          "x: 0.9, y: 70, z: 0.5650633855331841",
          "x: 0.9, y: 80, z: 0.5521377081779766",
          "x: 0.9, y: 90, z: 0.5414491672880934",
          "x: 1.0, y: 0, z: 0.6321725764243525",
          "x: 1.0, y: 10, z: 0.5767084890986214",
          "x: 1.0, y: 20, z: 0.5764976385781755",
          "x: 1.0, y: 30, z: 0.5725826497638579",
          "x: 1.0, y: 40, z: 0.56972408650261",
          "x: 1.0, y: 50, z: 0.569537658463833",
          "x: 1.0, y: 60, z: 0.5692890877454636",
          "x: 1.0, y: 70, z: 0.5650633855331841",
          "x: 1.0, y: 80, z: 0.5521377081779766",
          "x: 1.0, y: 90, z: 0.5414491672880934"
         ],
         "type": "scatter",
         "x": [
          "0",
          "0",
          "0",
          "0",
          "0",
          "0",
          "0",
          "0",
          "0",
          "0",
          "0.1",
          "0.1",
          "0.1",
          "0.1",
          "0.1",
          "0.1",
          "0.1",
          "0.1",
          "0.1",
          "0.1",
          "0.2",
          "0.2",
          "0.2",
          "0.2",
          "0.2",
          "0.2",
          "0.2",
          "0.2",
          "0.2",
          "0.2",
          "0.3",
          "0.3",
          "0.3",
          "0.3",
          "0.3",
          "0.3",
          "0.3",
          "0.3",
          "0.3",
          "0.3",
          "0.4",
          "0.4",
          "0.4",
          "0.4",
          "0.4",
          "0.4",
          "0.4",
          "0.4",
          "0.4",
          "0.4",
          "0.5",
          "0.5",
          "0.5",
          "0.5",
          "0.5",
          "0.5",
          "0.5",
          "0.5",
          "0.5",
          "0.5",
          "0.6",
          "0.6",
          "0.6",
          "0.6",
          "0.6",
          "0.6",
          "0.6",
          "0.6",
          "0.6",
          "0.6",
          "0.7",
          "0.7",
          "0.7",
          "0.7",
          "0.7",
          "0.7",
          "0.7",
          "0.7",
          "0.7",
          "0.7",
          "0.8",
          "0.8",
          "0.8",
          "0.8",
          "0.8",
          "0.8",
          "0.8",
          "0.8",
          "0.8",
          "0.8",
          "0.9",
          "0.9",
          "0.9",
          "0.9",
          "0.9",
          "0.9",
          "0.9",
          "0.9",
          "0.9",
          "0.9",
          "1.0",
          "1.0",
          "1.0",
          "1.0",
          "1.0",
          "1.0",
          "1.0",
          "1.0",
          "1.0",
          "1.0"
         ],
         "xaxis": "x14",
         "y": [
          "0",
          "10",
          "20",
          "30",
          "40",
          "50",
          "60",
          "70",
          "80",
          "90",
          "0",
          "10",
          "20",
          "30",
          "40",
          "50",
          "60",
          "70",
          "80",
          "90",
          "0",
          "10",
          "20",
          "30",
          "40",
          "50",
          "60",
          "70",
          "80",
          "90",
          "0",
          "10",
          "20",
          "30",
          "40",
          "50",
          "60",
          "70",
          "80",
          "90",
          "0",
          "10",
          "20",
          "30",
          "40",
          "50",
          "60",
          "70",
          "80",
          "90",
          "0",
          "10",
          "20",
          "30",
          "40",
          "50",
          "60",
          "70",
          "80",
          "90",
          "0",
          "10",
          "20",
          "30",
          "40",
          "50",
          "60",
          "70",
          "80",
          "90",
          "0",
          "10",
          "20",
          "30",
          "40",
          "50",
          "60",
          "70",
          "80",
          "90",
          "0",
          "10",
          "20",
          "30",
          "40",
          "50",
          "60",
          "70",
          "80",
          "90",
          "0",
          "10",
          "20",
          "30",
          "40",
          "50",
          "60",
          "70",
          "80",
          "90",
          "0",
          "10",
          "20",
          "30",
          "40",
          "50",
          "60",
          "70",
          "80",
          "90"
         ],
         "yaxis": "y14"
        },
        {
         "hoverinfo": "text",
         "legendgroup": "best",
         "marker": {
          "color": "red",
          "symbol": "x"
         },
         "mode": "markers",
         "name": "best_score",
         "showlegend": false,
         "text": [
          "x: 0.1, y: 20, z: 0.7301072293665875"
         ],
         "type": "scatter",
         "x": [
          "0.1"
         ],
         "xaxis": "x14",
         "y": [
          "20"
         ],
         "yaxis": "y14"
        },
        {
         "colorbar": {
          "title": {
           "text": "F1 score"
          }
         },
         "colorscale": [
          [
           0,
           "#440154"
          ],
          [
           0.1111111111111111,
           "#482878"
          ],
          [
           0.2222222222222222,
           "#3e4989"
          ],
          [
           0.3333333333333333,
           "#31688e"
          ],
          [
           0.4444444444444444,
           "#26828e"
          ],
          [
           0.5555555555555556,
           "#1f9e89"
          ],
          [
           0.6666666666666666,
           "#35b779"
          ],
          [
           0.7777777777777778,
           "#6ece58"
          ],
          [
           0.8888888888888888,
           "#b5de2b"
          ],
          [
           1,
           "#fde725"
          ]
         ],
         "contours": {
          "showlabels": true
         },
         "type": "contour",
         "x": [
          "0",
          "0.1",
          "0.2",
          "0.3",
          "0.4",
          "0.5",
          "0.6",
          "0.7",
          "0.8",
          "0.9",
          "1.0"
         ],
         "xaxis": "x3",
         "y": [
          "0",
          "10",
          "20",
          "30",
          "40",
          "50",
          "60",
          "70",
          "80",
          "90"
         ],
         "yaxis": "y3",
         "z": [
          [
           0.7107698178002481,
           0.7212352969650031,
           0.7212352969650031,
           0.7212352969650031,
           0.7377024817952147,
           0.7542623787646758,
           0.7489619111088327,
           0.7487053273855304,
           0.7484870243101857,
           0.5182457315031804,
           0.5182457315031804
          ],
          [
           0.7455971909804137,
           0.772743156668608,
           0.772743156668608,
           0.772743156668608,
           0.7611200668696638,
           0.6626082251082251,
           0.6058383866873501,
           0.6058383866873501,
           0.6058383866873501,
           0.2666092387207925,
           0.2666092387207925
          ],
          [
           0.7524752475247525,
           0.7502119058486014,
           0.7502119058486014,
           0.7502119058486014,
           0.7361436901011996,
           0.6294725879639961,
           0.5957317073170731,
           0.5957317073170731,
           0.5957317073170731,
           0.2653875175164385,
           0.2653875175164385
          ],
          [
           0.7167532467532467,
           0.7105281814959234,
           0.7105281814959234,
           0.7105281814959234,
           0.6938864947775911,
           0.5698487558952675,
           0.5496825265935515,
           0.5496825265935515,
           0.5496825265935515,
           0.2535272411547645,
           0.2535272411547645
          ],
          [
           0.6873370832761696,
           0.679814731809353,
           0.679814731809353,
           0.679814731809353,
           0.6620445266158231,
           0.5287689943657162,
           0.5072325682113469,
           0.5072325682113469,
           0.5072325682113469,
           0.24476439790575916,
           0.24476439790575916
          ],
          [
           0.6644058216758514,
           0.6458575976395683,
           0.6458575976395683,
           0.6458575976395683,
           0.6376212434409286,
           0.5017488632388947,
           0.47927576107215764,
           0.47927576107215764,
           0.47927576107215764,
           0.244189852700491,
           0.244189852700491
          ],
          [
           0.5969426365975481,
           0.5806666112542598,
           0.5806666112542598,
           0.5806666112542598,
           0.5836359030651017,
           0.4495794435714946,
           0.4258633633633634,
           0.4258633633633634,
           0.4258633633633634,
           0.2434232070734636,
           0.2434232070734636
          ],
          [
           0.4910601863510451,
           0.4533533158486324,
           0.4533533158486324,
           0.4533533158486324,
           0.4550194331216229,
           0.3768548949307838,
           0.3570564516129032,
           0.3570564516129032,
           0.3570564516129032,
           0.2302870339821841,
           0.2302870339821841
          ],
          [
           0.42924402593941546,
           0.3483043079743355,
           0.3483043079743355,
           0.3483043079743355,
           0.34625586614976533,
           0.3112824252526305,
           0.29116592873708624,
           0.29116592873708624,
           0.29116592873708624,
           0.18885762521102983,
           0.18885762521102983
          ],
          [
           0.35324918186068255,
           0.2664519592055824,
           0.2664519592055824,
           0.2664519592055824,
           0.26421584435128453,
           0.2615997416298848,
           0.24019180470793375,
           0.24019180470793375,
           0.24019180470793375,
           0.15310455640996212,
           0.15310455640996212
          ]
         ],
         "zmax": 1,
         "zmin": 0.08289833457618692
        },
        {
         "hoverinfo": "text",
         "marker": {
          "color": "black",
          "symbol": "x"
         },
         "mode": "markers",
         "showlegend": false,
         "text": [
          "x: 0, y: 0, z: 0.7107698178002481",
          "x: 0, y: 10, z: 0.7455971909804137",
          "x: 0, y: 20, z: 0.7524752475247525",
          "x: 0, y: 30, z: 0.7167532467532467",
          "x: 0, y: 40, z: 0.6873370832761696",
          "x: 0, y: 50, z: 0.6644058216758514",
          "x: 0, y: 60, z: 0.5969426365975481",
          "x: 0, y: 70, z: 0.4910601863510451",
          "x: 0, y: 80, z: 0.42924402593941546",
          "x: 0, y: 90, z: 0.35324918186068255",
          "x: 0.1, y: 0, z: 0.7212352969650031",
          "x: 0.1, y: 10, z: 0.772743156668608",
          "x: 0.1, y: 20, z: 0.7502119058486014",
          "x: 0.1, y: 30, z: 0.7105281814959234",
          "x: 0.1, y: 40, z: 0.679814731809353",
          "x: 0.1, y: 50, z: 0.6458575976395683",
          "x: 0.1, y: 60, z: 0.5806666112542598",
          "x: 0.1, y: 70, z: 0.4533533158486324",
          "x: 0.1, y: 80, z: 0.3483043079743355",
          "x: 0.1, y: 90, z: 0.2664519592055824",
          "x: 0.2, y: 0, z: 0.7212352969650031",
          "x: 0.2, y: 10, z: 0.772743156668608",
          "x: 0.2, y: 20, z: 0.7502119058486014",
          "x: 0.2, y: 30, z: 0.7105281814959234",
          "x: 0.2, y: 40, z: 0.679814731809353",
          "x: 0.2, y: 50, z: 0.6458575976395683",
          "x: 0.2, y: 60, z: 0.5806666112542598",
          "x: 0.2, y: 70, z: 0.4533533158486324",
          "x: 0.2, y: 80, z: 0.3483043079743355",
          "x: 0.2, y: 90, z: 0.2664519592055824",
          "x: 0.3, y: 0, z: 0.7212352969650031",
          "x: 0.3, y: 10, z: 0.772743156668608",
          "x: 0.3, y: 20, z: 0.7502119058486014",
          "x: 0.3, y: 30, z: 0.7105281814959234",
          "x: 0.3, y: 40, z: 0.679814731809353",
          "x: 0.3, y: 50, z: 0.6458575976395683",
          "x: 0.3, y: 60, z: 0.5806666112542598",
          "x: 0.3, y: 70, z: 0.4533533158486324",
          "x: 0.3, y: 80, z: 0.3483043079743355",
          "x: 0.3, y: 90, z: 0.2664519592055824",
          "x: 0.4, y: 0, z: 0.7377024817952147",
          "x: 0.4, y: 10, z: 0.7611200668696638",
          "x: 0.4, y: 20, z: 0.7361436901011996",
          "x: 0.4, y: 30, z: 0.6938864947775911",
          "x: 0.4, y: 40, z: 0.6620445266158231",
          "x: 0.4, y: 50, z: 0.6376212434409286",
          "x: 0.4, y: 60, z: 0.5836359030651017",
          "x: 0.4, y: 70, z: 0.4550194331216229",
          "x: 0.4, y: 80, z: 0.34625586614976533",
          "x: 0.4, y: 90, z: 0.26421584435128453",
          "x: 0.5, y: 0, z: 0.7542623787646758",
          "x: 0.5, y: 10, z: 0.6626082251082251",
          "x: 0.5, y: 20, z: 0.6294725879639961",
          "x: 0.5, y: 30, z: 0.5698487558952675",
          "x: 0.5, y: 40, z: 0.5287689943657162",
          "x: 0.5, y: 50, z: 0.5017488632388947",
          "x: 0.5, y: 60, z: 0.4495794435714946",
          "x: 0.5, y: 70, z: 0.3768548949307838",
          "x: 0.5, y: 80, z: 0.3112824252526305",
          "x: 0.5, y: 90, z: 0.2615997416298848",
          "x: 0.6, y: 0, z: 0.7489619111088327",
          "x: 0.6, y: 10, z: 0.6058383866873501",
          "x: 0.6, y: 20, z: 0.5957317073170731",
          "x: 0.6, y: 30, z: 0.5496825265935515",
          "x: 0.6, y: 40, z: 0.5072325682113469",
          "x: 0.6, y: 50, z: 0.47927576107215764",
          "x: 0.6, y: 60, z: 0.4258633633633634",
          "x: 0.6, y: 70, z: 0.3570564516129032",
          "x: 0.6, y: 80, z: 0.29116592873708624",
          "x: 0.6, y: 90, z: 0.24019180470793375",
          "x: 0.7, y: 0, z: 0.7487053273855304",
          "x: 0.7, y: 10, z: 0.6058383866873501",
          "x: 0.7, y: 20, z: 0.5957317073170731",
          "x: 0.7, y: 30, z: 0.5496825265935515",
          "x: 0.7, y: 40, z: 0.5072325682113469",
          "x: 0.7, y: 50, z: 0.47927576107215764",
          "x: 0.7, y: 60, z: 0.4258633633633634",
          "x: 0.7, y: 70, z: 0.3570564516129032",
          "x: 0.7, y: 80, z: 0.29116592873708624",
          "x: 0.7, y: 90, z: 0.24019180470793375",
          "x: 0.8, y: 0, z: 0.7484870243101857",
          "x: 0.8, y: 10, z: 0.6058383866873501",
          "x: 0.8, y: 20, z: 0.5957317073170731",
          "x: 0.8, y: 30, z: 0.5496825265935515",
          "x: 0.8, y: 40, z: 0.5072325682113469",
          "x: 0.8, y: 50, z: 0.47927576107215764",
          "x: 0.8, y: 60, z: 0.4258633633633634",
          "x: 0.8, y: 70, z: 0.3570564516129032",
          "x: 0.8, y: 80, z: 0.29116592873708624",
          "x: 0.8, y: 90, z: 0.24019180470793375",
          "x: 0.9, y: 0, z: 0.5182457315031804",
          "x: 0.9, y: 10, z: 0.2666092387207925",
          "x: 0.9, y: 20, z: 0.2653875175164385",
          "x: 0.9, y: 30, z: 0.2535272411547645",
          "x: 0.9, y: 40, z: 0.24476439790575916",
          "x: 0.9, y: 50, z: 0.244189852700491",
          "x: 0.9, y: 60, z: 0.2434232070734636",
          "x: 0.9, y: 70, z: 0.2302870339821841",
          "x: 0.9, y: 80, z: 0.18885762521102983",
          "x: 0.9, y: 90, z: 0.15310455640996212",
          "x: 1.0, y: 0, z: 0.5182457315031804",
          "x: 1.0, y: 10, z: 0.2666092387207925",
          "x: 1.0, y: 20, z: 0.2653875175164385",
          "x: 1.0, y: 30, z: 0.2535272411547645",
          "x: 1.0, y: 40, z: 0.24476439790575916",
          "x: 1.0, y: 50, z: 0.244189852700491",
          "x: 1.0, y: 60, z: 0.2434232070734636",
          "x: 1.0, y: 70, z: 0.2302870339821841",
          "x: 1.0, y: 80, z: 0.18885762521102983",
          "x: 1.0, y: 90, z: 0.15310455640996212"
         ],
         "type": "scatter",
         "x": [
          "0",
          "0",
          "0",
          "0",
          "0",
          "0",
          "0",
          "0",
          "0",
          "0",
          "0.1",
          "0.1",
          "0.1",
          "0.1",
          "0.1",
          "0.1",
          "0.1",
          "0.1",
          "0.1",
          "0.1",
          "0.2",
          "0.2",
          "0.2",
          "0.2",
          "0.2",
          "0.2",
          "0.2",
          "0.2",
          "0.2",
          "0.2",
          "0.3",
          "0.3",
          "0.3",
          "0.3",
          "0.3",
          "0.3",
          "0.3",
          "0.3",
          "0.3",
          "0.3",
          "0.4",
          "0.4",
          "0.4",
          "0.4",
          "0.4",
          "0.4",
          "0.4",
          "0.4",
          "0.4",
          "0.4",
          "0.5",
          "0.5",
          "0.5",
          "0.5",
          "0.5",
          "0.5",
          "0.5",
          "0.5",
          "0.5",
          "0.5",
          "0.6",
          "0.6",
          "0.6",
          "0.6",
          "0.6",
          "0.6",
          "0.6",
          "0.6",
          "0.6",
          "0.6",
          "0.7",
          "0.7",
          "0.7",
          "0.7",
          "0.7",
          "0.7",
          "0.7",
          "0.7",
          "0.7",
          "0.7",
          "0.8",
          "0.8",
          "0.8",
          "0.8",
          "0.8",
          "0.8",
          "0.8",
          "0.8",
          "0.8",
          "0.8",
          "0.9",
          "0.9",
          "0.9",
          "0.9",
          "0.9",
          "0.9",
          "0.9",
          "0.9",
          "0.9",
          "0.9",
          "1.0",
          "1.0",
          "1.0",
          "1.0",
          "1.0",
          "1.0",
          "1.0",
          "1.0",
          "1.0",
          "1.0"
         ],
         "xaxis": "x3",
         "y": [
          "0",
          "10",
          "20",
          "30",
          "40",
          "50",
          "60",
          "70",
          "80",
          "90",
          "0",
          "10",
          "20",
          "30",
          "40",
          "50",
          "60",
          "70",
          "80",
          "90",
          "0",
          "10",
          "20",
          "30",
          "40",
          "50",
          "60",
          "70",
          "80",
          "90",
          "0",
          "10",
          "20",
          "30",
          "40",
          "50",
          "60",
          "70",
          "80",
          "90",
          "0",
          "10",
          "20",
          "30",
          "40",
          "50",
          "60",
          "70",
          "80",
          "90",
          "0",
          "10",
          "20",
          "30",
          "40",
          "50",
          "60",
          "70",
          "80",
          "90",
          "0",
          "10",
          "20",
          "30",
          "40",
          "50",
          "60",
          "70",
          "80",
          "90",
          "0",
          "10",
          "20",
          "30",
          "40",
          "50",
          "60",
          "70",
          "80",
          "90",
          "0",
          "10",
          "20",
          "30",
          "40",
          "50",
          "60",
          "70",
          "80",
          "90",
          "0",
          "10",
          "20",
          "30",
          "40",
          "50",
          "60",
          "70",
          "80",
          "90",
          "0",
          "10",
          "20",
          "30",
          "40",
          "50",
          "60",
          "70",
          "80",
          "90"
         ],
         "yaxis": "y3"
        },
        {
         "hoverinfo": "text",
         "legendgroup": "best",
         "marker": {
          "color": "red",
          "symbol": "x"
         },
         "mode": "markers",
         "name": "best_score",
         "showlegend": false,
         "text": [
          "x: 0.1, y: 10, z: 0.772743156668608"
         ],
         "type": "scatter",
         "x": [
          "0.1"
         ],
         "xaxis": "x3",
         "y": [
          "10"
         ],
         "yaxis": "y3"
        },
        {
         "colorbar": {
          "title": {
           "text": "F1 score"
          }
         },
         "colorscale": [
          [
           0,
           "#440154"
          ],
          [
           0.1111111111111111,
           "#482878"
          ],
          [
           0.2222222222222222,
           "#3e4989"
          ],
          [
           0.3333333333333333,
           "#31688e"
          ],
          [
           0.4444444444444444,
           "#26828e"
          ],
          [
           0.5555555555555556,
           "#1f9e89"
          ],
          [
           0.6666666666666666,
           "#35b779"
          ],
          [
           0.7777777777777778,
           "#6ece58"
          ],
          [
           0.8888888888888888,
           "#b5de2b"
          ],
          [
           1,
           "#fde725"
          ]
         ],
         "contours": {
          "showlabels": true
         },
         "type": "contour",
         "x": [
          "0",
          "0.1",
          "0.2",
          "0.3",
          "0.4",
          "0.5",
          "0.6",
          "0.7",
          "0.8",
          "0.9",
          "1.0"
         ],
         "xaxis": "x6",
         "y": [
          "0",
          "10",
          "20",
          "30",
          "40",
          "50",
          "60",
          "70",
          "80",
          "90"
         ],
         "yaxis": "y6",
         "z": [
          [
           0.576702786377709,
           0.590660429715373,
           0.590660429715373,
           0.590660429715373,
           0.6132937978749691,
           0.63998613998614,
           0.6373789372655091,
           0.6372523348171424,
           0.6371812783793224,
           0.7934392619169657,
           0.7934392619169657
          ],
          [
           0.6674197033690207,
           0.727093380096449,
           0.727093380096449,
           0.727093380096449,
           0.7323911294955763,
           0.7269219352923716,
           0.7001303780964798,
           0.7001303780964798,
           0.7001303780964798,
           0.9975825946817083,
           0.9975825946817083
          ],
          [
           0.7194195669425235,
           0.789054999314223,
           0.789054999314223,
           0.789054999314223,
           0.7988363636363637,
           0.7839540485454882,
           0.7702010248324793,
           0.7702010248324793,
           0.7702010248324793,
           1,
           1
          ],
          [
           0.7504759314658689,
           0.8270341640534742,
           0.8270341640534742,
           0.8270341640534742,
           0.8414526129317981,
           0.8240827845719662,
           0.816711590296496,
           0.816711590296496,
           0.816711590296496,
           1,
           1
          ],
          [
           0.7669932639314145,
           0.8520599250936329,
           0.8520599250936329,
           0.8520599250936329,
           0.8707193515704154,
           0.8443293347873501,
           0.8368105172906545,
           0.8368105172906545,
           0.8368105172906545,
           1,
           1
          ],
          [
           0.7698100851342502,
           0.8605421063521622,
           0.8605421063521622,
           0.8605421063521622,
           0.8848190644307149,
           0.8463126843657817,
           0.8382489909965849,
           0.8382489909965849,
           0.8382489909965849,
           1,
           1
          ],
          [
           0.7631578947368421,
           0.8765370138017566,
           0.8765370138017566,
           0.8765370138017566,
           0.9101922570450356,
           0.8770284890010819,
           0.8693486590038314,
           0.8693486590038314,
           0.8693486590038314,
           1,
           1
          ],
          [
           0.756400310318076,
           0.9201520912547528,
           0.9201520912547528,
           0.9201520912547528,
           0.9588493807431082,
           0.9483709273182958,
           0.9450373532550693,
           0.9450373532550693,
           0.9450373532550693,
           1,
           1
          ],
          [
           0.7524135783245095,
           0.9644670050761421,
           0.9644670050761421,
           0.9644670050761421,
           0.9664009111617312,
           0.9620090148100451,
           0.9590277777777778,
           0.9590277777777778,
           0.9590277777777778,
           1,
           1
          ],
          [
           0.7130992827482069,
           0.9779353821907013,
           0.9779353821907013,
           0.9779353821907013,
           0.9777247414478918,
           0.9774738535800482,
           0.9752212389380531,
           0.9752212389380531,
           0.9752212389380531,
           1,
           1
          ]
         ],
         "zmax": 1,
         "zmin": 0.08289833457618692
        },
        {
         "hoverinfo": "text",
         "marker": {
          "color": "black",
          "symbol": "x"
         },
         "mode": "markers",
         "showlegend": false,
         "text": [
          "x: 0, y: 0, z: 0.576702786377709",
          "x: 0, y: 10, z: 0.6674197033690207",
          "x: 0, y: 20, z: 0.7194195669425235",
          "x: 0, y: 30, z: 0.7504759314658689",
          "x: 0, y: 40, z: 0.7669932639314145",
          "x: 0, y: 50, z: 0.7698100851342502",
          "x: 0, y: 60, z: 0.7631578947368421",
          "x: 0, y: 70, z: 0.756400310318076",
          "x: 0, y: 80, z: 0.7524135783245095",
          "x: 0, y: 90, z: 0.7130992827482069",
          "x: 0.1, y: 0, z: 0.590660429715373",
          "x: 0.1, y: 10, z: 0.727093380096449",
          "x: 0.1, y: 20, z: 0.789054999314223",
          "x: 0.1, y: 30, z: 0.8270341640534742",
          "x: 0.1, y: 40, z: 0.8520599250936329",
          "x: 0.1, y: 50, z: 0.8605421063521622",
          "x: 0.1, y: 60, z: 0.8765370138017566",
          "x: 0.1, y: 70, z: 0.9201520912547528",
          "x: 0.1, y: 80, z: 0.9644670050761421",
          "x: 0.1, y: 90, z: 0.9779353821907013",
          "x: 0.2, y: 0, z: 0.590660429715373",
          "x: 0.2, y: 10, z: 0.727093380096449",
          "x: 0.2, y: 20, z: 0.789054999314223",
          "x: 0.2, y: 30, z: 0.8270341640534742",
          "x: 0.2, y: 40, z: 0.8520599250936329",
          "x: 0.2, y: 50, z: 0.8605421063521622",
          "x: 0.2, y: 60, z: 0.8765370138017566",
          "x: 0.2, y: 70, z: 0.9201520912547528",
          "x: 0.2, y: 80, z: 0.9644670050761421",
          "x: 0.2, y: 90, z: 0.9779353821907013",
          "x: 0.3, y: 0, z: 0.590660429715373",
          "x: 0.3, y: 10, z: 0.727093380096449",
          "x: 0.3, y: 20, z: 0.789054999314223",
          "x: 0.3, y: 30, z: 0.8270341640534742",
          "x: 0.3, y: 40, z: 0.8520599250936329",
          "x: 0.3, y: 50, z: 0.8605421063521622",
          "x: 0.3, y: 60, z: 0.8765370138017566",
          "x: 0.3, y: 70, z: 0.9201520912547528",
          "x: 0.3, y: 80, z: 0.9644670050761421",
          "x: 0.3, y: 90, z: 0.9779353821907013",
          "x: 0.4, y: 0, z: 0.6132937978749691",
          "x: 0.4, y: 10, z: 0.7323911294955763",
          "x: 0.4, y: 20, z: 0.7988363636363637",
          "x: 0.4, y: 30, z: 0.8414526129317981",
          "x: 0.4, y: 40, z: 0.8707193515704154",
          "x: 0.4, y: 50, z: 0.8848190644307149",
          "x: 0.4, y: 60, z: 0.9101922570450356",
          "x: 0.4, y: 70, z: 0.9588493807431082",
          "x: 0.4, y: 80, z: 0.9664009111617312",
          "x: 0.4, y: 90, z: 0.9777247414478918",
          "x: 0.5, y: 0, z: 0.63998613998614",
          "x: 0.5, y: 10, z: 0.7269219352923716",
          "x: 0.5, y: 20, z: 0.7839540485454882",
          "x: 0.5, y: 30, z: 0.8240827845719662",
          "x: 0.5, y: 40, z: 0.8443293347873501",
          "x: 0.5, y: 50, z: 0.8463126843657817",
          "x: 0.5, y: 60, z: 0.8770284890010819",
          "x: 0.5, y: 70, z: 0.9483709273182958",
          "x: 0.5, y: 80, z: 0.9620090148100451",
          "x: 0.5, y: 90, z: 0.9774738535800482",
          "x: 0.6, y: 0, z: 0.6373789372655091",
          "x: 0.6, y: 10, z: 0.7001303780964798",
          "x: 0.6, y: 20, z: 0.7702010248324793",
          "x: 0.6, y: 30, z: 0.816711590296496",
          "x: 0.6, y: 40, z: 0.8368105172906545",
          "x: 0.6, y: 50, z: 0.8382489909965849",
          "x: 0.6, y: 60, z: 0.8693486590038314",
          "x: 0.6, y: 70, z: 0.9450373532550693",
          "x: 0.6, y: 80, z: 0.9590277777777778",
          "x: 0.6, y: 90, z: 0.9752212389380531",
          "x: 0.7, y: 0, z: 0.6372523348171424",
          "x: 0.7, y: 10, z: 0.7001303780964798",
          "x: 0.7, y: 20, z: 0.7702010248324793",
          "x: 0.7, y: 30, z: 0.816711590296496",
          "x: 0.7, y: 40, z: 0.8368105172906545",
          "x: 0.7, y: 50, z: 0.8382489909965849",
          "x: 0.7, y: 60, z: 0.8693486590038314",
          "x: 0.7, y: 70, z: 0.9450373532550693",
          "x: 0.7, y: 80, z: 0.9590277777777778",
          "x: 0.7, y: 90, z: 0.9752212389380531",
          "x: 0.8, y: 0, z: 0.6371812783793224",
          "x: 0.8, y: 10, z: 0.7001303780964798",
          "x: 0.8, y: 20, z: 0.7702010248324793",
          "x: 0.8, y: 30, z: 0.816711590296496",
          "x: 0.8, y: 40, z: 0.8368105172906545",
          "x: 0.8, y: 50, z: 0.8382489909965849",
          "x: 0.8, y: 60, z: 0.8693486590038314",
          "x: 0.8, y: 70, z: 0.9450373532550693",
          "x: 0.8, y: 80, z: 0.9590277777777778",
          "x: 0.8, y: 90, z: 0.9752212389380531",
          "x: 0.9, y: 0, z: 0.7934392619169657",
          "x: 0.9, y: 10, z: 0.9975825946817083",
          "x: 0.9, y: 20, z: 1.0",
          "x: 0.9, y: 30, z: 1.0",
          "x: 0.9, y: 40, z: 1.0",
          "x: 0.9, y: 50, z: 1.0",
          "x: 0.9, y: 60, z: 1.0",
          "x: 0.9, y: 70, z: 1.0",
          "x: 0.9, y: 80, z: 1.0",
          "x: 0.9, y: 90, z: 1.0",
          "x: 1.0, y: 0, z: 0.7934392619169657",
          "x: 1.0, y: 10, z: 0.9975825946817083",
          "x: 1.0, y: 20, z: 1.0",
          "x: 1.0, y: 30, z: 1.0",
          "x: 1.0, y: 40, z: 1.0",
          "x: 1.0, y: 50, z: 1.0",
          "x: 1.0, y: 60, z: 1.0",
          "x: 1.0, y: 70, z: 1.0",
          "x: 1.0, y: 80, z: 1.0",
          "x: 1.0, y: 90, z: 1.0"
         ],
         "type": "scatter",
         "x": [
          "0",
          "0",
          "0",
          "0",
          "0",
          "0",
          "0",
          "0",
          "0",
          "0",
          "0.1",
          "0.1",
          "0.1",
          "0.1",
          "0.1",
          "0.1",
          "0.1",
          "0.1",
          "0.1",
          "0.1",
          "0.2",
          "0.2",
          "0.2",
          "0.2",
          "0.2",
          "0.2",
          "0.2",
          "0.2",
          "0.2",
          "0.2",
          "0.3",
          "0.3",
          "0.3",
          "0.3",
          "0.3",
          "0.3",
          "0.3",
          "0.3",
          "0.3",
          "0.3",
          "0.4",
          "0.4",
          "0.4",
          "0.4",
          "0.4",
          "0.4",
          "0.4",
          "0.4",
          "0.4",
          "0.4",
          "0.5",
          "0.5",
          "0.5",
          "0.5",
          "0.5",
          "0.5",
          "0.5",
          "0.5",
          "0.5",
          "0.5",
          "0.6",
          "0.6",
          "0.6",
          "0.6",
          "0.6",
          "0.6",
          "0.6",
          "0.6",
          "0.6",
          "0.6",
          "0.7",
          "0.7",
          "0.7",
          "0.7",
          "0.7",
          "0.7",
          "0.7",
          "0.7",
          "0.7",
          "0.7",
          "0.8",
          "0.8",
          "0.8",
          "0.8",
          "0.8",
          "0.8",
          "0.8",
          "0.8",
          "0.8",
          "0.8",
          "0.9",
          "0.9",
          "0.9",
          "0.9",
          "0.9",
          "0.9",
          "0.9",
          "0.9",
          "0.9",
          "0.9",
          "1.0",
          "1.0",
          "1.0",
          "1.0",
          "1.0",
          "1.0",
          "1.0",
          "1.0",
          "1.0",
          "1.0"
         ],
         "xaxis": "x6",
         "y": [
          "0",
          "10",
          "20",
          "30",
          "40",
          "50",
          "60",
          "70",
          "80",
          "90",
          "0",
          "10",
          "20",
          "30",
          "40",
          "50",
          "60",
          "70",
          "80",
          "90",
          "0",
          "10",
          "20",
          "30",
          "40",
          "50",
          "60",
          "70",
          "80",
          "90",
          "0",
          "10",
          "20",
          "30",
          "40",
          "50",
          "60",
          "70",
          "80",
          "90",
          "0",
          "10",
          "20",
          "30",
          "40",
          "50",
          "60",
          "70",
          "80",
          "90",
          "0",
          "10",
          "20",
          "30",
          "40",
          "50",
          "60",
          "70",
          "80",
          "90",
          "0",
          "10",
          "20",
          "30",
          "40",
          "50",
          "60",
          "70",
          "80",
          "90",
          "0",
          "10",
          "20",
          "30",
          "40",
          "50",
          "60",
          "70",
          "80",
          "90",
          "0",
          "10",
          "20",
          "30",
          "40",
          "50",
          "60",
          "70",
          "80",
          "90",
          "0",
          "10",
          "20",
          "30",
          "40",
          "50",
          "60",
          "70",
          "80",
          "90",
          "0",
          "10",
          "20",
          "30",
          "40",
          "50",
          "60",
          "70",
          "80",
          "90"
         ],
         "yaxis": "y6"
        },
        {
         "hoverinfo": "text",
         "legendgroup": "best",
         "marker": {
          "color": "red",
          "symbol": "x"
         },
         "mode": "markers",
         "name": "best_score",
         "showlegend": false,
         "text": [
          "x: 0.9, y: 20, z: 1.0"
         ],
         "type": "scatter",
         "x": [
          "0.9"
         ],
         "xaxis": "x6",
         "y": [
          "20"
         ],
         "yaxis": "y6"
        },
        {
         "colorbar": {
          "title": {
           "text": "F1 score"
          }
         },
         "colorscale": [
          [
           0,
           "#440154"
          ],
          [
           0.1111111111111111,
           "#482878"
          ],
          [
           0.2222222222222222,
           "#3e4989"
          ],
          [
           0.3333333333333333,
           "#31688e"
          ],
          [
           0.4444444444444444,
           "#26828e"
          ],
          [
           0.5555555555555556,
           "#1f9e89"
          ],
          [
           0.6666666666666666,
           "#35b779"
          ],
          [
           0.7777777777777778,
           "#6ece58"
          ],
          [
           0.8888888888888888,
           "#b5de2b"
          ],
          [
           1,
           "#fde725"
          ]
         ],
         "contours": {
          "showlabels": true
         },
         "type": "contour",
         "x": [
          "0",
          "0.1",
          "0.2",
          "0.3",
          "0.4",
          "0.5",
          "0.6",
          "0.7",
          "0.8",
          "0.9",
          "1.0"
         ],
         "xaxis": "x9",
         "y": [
          "0",
          "10",
          "20",
          "30",
          "40",
          "50",
          "60",
          "70",
          "80",
          "90"
         ],
         "yaxis": "y9",
         "z": [
          [
           0.9260502112851107,
           0.9259259259259259,
           0.9259259259259259,
           0.9259259259259259,
           0.9254287844891872,
           0.9182202336564753,
           0.9079045488441462,
           0.9074074074074074,
           0.9069102659706687,
           0.38478747203579416,
           0.38478747203579416
          ],
          [
           0.8445190156599552,
           0.8245090728312204,
           0.8245090728312204,
           0.8245090728312204,
           0.7921948794432015,
           0.608749689286602,
           0.5339299030574198,
           0.5339299030574198,
           0.5339299030574198,
           0.1538652746706438,
           0.1538652746706438
          ],
          [
           0.7887148893860303,
           0.7150136713895103,
           0.7150136713895103,
           0.7150136713895103,
           0.6825751926423067,
           0.5258513547104151,
           0.48570718369376087,
           0.48570718369376087,
           0.48570718369376087,
           0.15299527715635097,
           0.15299527715635097
          ],
          [
           0.6859308973402933,
           0.6227939348744718,
           0.6227939348744718,
           0.6227939348744718,
           0.5903554561272683,
           0.4354958985831469,
           0.41424310216256527,
           0.41424310216256527,
           0.41424310216256527,
           0.14516529952771565,
           0.14516529952771565
          ],
          [
           0.6226696495152871,
           0.5654983842903306,
           0.5654983842903306,
           0.5654983842903306,
           0.5340541884166046,
           0.38491175739497885,
           0.3639075316927666,
           0.3639075316927666,
           0.3639075316927666,
           0.13944817300521997,
           0.13944817300521997
          ],
          [
           0.5843897588864032,
           0.5169028088491175,
           0.5169028088491175,
           0.5169028088491175,
           0.49838429033059906,
           0.35657469550087,
           0.33557046979865773,
           0.33557046979865773,
           0.33557046979865773,
           0.13907531692766592,
           0.13907531692766592
          ],
          [
           0.49018145662440965,
           0.43412875963211534,
           0.43412875963211534,
           0.43412875963211534,
           0.42953020134228187,
           0.3022619935371613,
           0.28200347999005715,
           0.28200347999005715,
           0.28200347999005715,
           0.13857817549092716,
           0.13857817549092716
          ],
          [
           0.3635346756152125,
           0.30077056922694506,
           0.30077056922694506,
           0.30077056922694506,
           0.29828486204325133,
           0.2351478995774298,
           0.22010937111608253,
           0.22010937111608253,
           0.22010937111608253,
           0.13012677106636839,
           0.13012677106636839
          ],
          [
           0.3002734277902063,
           0.21252796420581654,
           0.21252796420581654,
           0.21252796420581654,
           0.2109122545364156,
           0.18568232662192394,
           0.1716380810340542,
           0.1716380810340542,
           0.1716380810340542,
           0.10427541635595326,
           0.10427541635595326
          ],
          [
           0.2347750434998757,
           0.15423813074819787,
           0.15423813074819787,
           0.15423813074819787,
           0.1527467064379816,
           0.15100671140939598,
           0.1369624658215262,
           0.1369624658215262,
           0.1369624658215262,
           0.08289833457618692,
           0.08289833457618692
          ]
         ],
         "zmax": 1,
         "zmin": 0.08289833457618692
        },
        {
         "hoverinfo": "text",
         "marker": {
          "color": "black",
          "symbol": "x"
         },
         "mode": "markers",
         "showlegend": false,
         "text": [
          "x: 0, y: 0, z: 0.9260502112851107",
          "x: 0, y: 10, z: 0.8445190156599552",
          "x: 0, y: 20, z: 0.7887148893860303",
          "x: 0, y: 30, z: 0.6859308973402933",
          "x: 0, y: 40, z: 0.6226696495152871",
          "x: 0, y: 50, z: 0.5843897588864032",
          "x: 0, y: 60, z: 0.49018145662440965",
          "x: 0, y: 70, z: 0.3635346756152125",
          "x: 0, y: 80, z: 0.3002734277902063",
          "x: 0, y: 90, z: 0.2347750434998757",
          "x: 0.1, y: 0, z: 0.9259259259259259",
          "x: 0.1, y: 10, z: 0.8245090728312204",
          "x: 0.1, y: 20, z: 0.7150136713895103",
          "x: 0.1, y: 30, z: 0.6227939348744718",
          "x: 0.1, y: 40, z: 0.5654983842903306",
          "x: 0.1, y: 50, z: 0.5169028088491175",
          "x: 0.1, y: 60, z: 0.43412875963211534",
          "x: 0.1, y: 70, z: 0.30077056922694506",
          "x: 0.1, y: 80, z: 0.21252796420581654",
          "x: 0.1, y: 90, z: 0.15423813074819787",
          "x: 0.2, y: 0, z: 0.9259259259259259",
          "x: 0.2, y: 10, z: 0.8245090728312204",
          "x: 0.2, y: 20, z: 0.7150136713895103",
          "x: 0.2, y: 30, z: 0.6227939348744718",
          "x: 0.2, y: 40, z: 0.5654983842903306",
          "x: 0.2, y: 50, z: 0.5169028088491175",
          "x: 0.2, y: 60, z: 0.43412875963211534",
          "x: 0.2, y: 70, z: 0.30077056922694506",
          "x: 0.2, y: 80, z: 0.21252796420581654",
          "x: 0.2, y: 90, z: 0.15423813074819787",
          "x: 0.3, y: 0, z: 0.9259259259259259",
          "x: 0.3, y: 10, z: 0.8245090728312204",
          "x: 0.3, y: 20, z: 0.7150136713895103",
          "x: 0.3, y: 30, z: 0.6227939348744718",
          "x: 0.3, y: 40, z: 0.5654983842903306",
          "x: 0.3, y: 50, z: 0.5169028088491175",
          "x: 0.3, y: 60, z: 0.43412875963211534",
          "x: 0.3, y: 70, z: 0.30077056922694506",
          "x: 0.3, y: 80, z: 0.21252796420581654",
          "x: 0.3, y: 90, z: 0.15423813074819787",
          "x: 0.4, y: 0, z: 0.9254287844891872",
          "x: 0.4, y: 10, z: 0.7921948794432015",
          "x: 0.4, y: 20, z: 0.6825751926423067",
          "x: 0.4, y: 30, z: 0.5903554561272683",
          "x: 0.4, y: 40, z: 0.5340541884166046",
          "x: 0.4, y: 50, z: 0.49838429033059906",
          "x: 0.4, y: 60, z: 0.42953020134228187",
          "x: 0.4, y: 70, z: 0.29828486204325133",
          "x: 0.4, y: 80, z: 0.2109122545364156",
          "x: 0.4, y: 90, z: 0.1527467064379816",
          "x: 0.5, y: 0, z: 0.9182202336564753",
          "x: 0.5, y: 10, z: 0.608749689286602",
          "x: 0.5, y: 20, z: 0.5258513547104151",
          "x: 0.5, y: 30, z: 0.4354958985831469",
          "x: 0.5, y: 40, z: 0.38491175739497885",
          "x: 0.5, y: 50, z: 0.35657469550087",
          "x: 0.5, y: 60, z: 0.3022619935371613",
          "x: 0.5, y: 70, z: 0.2351478995774298",
          "x: 0.5, y: 80, z: 0.18568232662192394",
          "x: 0.5, y: 90, z: 0.15100671140939598",
          "x: 0.6, y: 0, z: 0.9079045488441462",
          "x: 0.6, y: 10, z: 0.5339299030574198",
          "x: 0.6, y: 20, z: 0.48570718369376087",
          "x: 0.6, y: 30, z: 0.41424310216256527",
          "x: 0.6, y: 40, z: 0.3639075316927666",
          "x: 0.6, y: 50, z: 0.33557046979865773",
          "x: 0.6, y: 60, z: 0.28200347999005715",
          "x: 0.6, y: 70, z: 0.22010937111608253",
          "x: 0.6, y: 80, z: 0.1716380810340542",
          "x: 0.6, y: 90, z: 0.1369624658215262",
          "x: 0.7, y: 0, z: 0.9074074074074074",
          "x: 0.7, y: 10, z: 0.5339299030574198",
          "x: 0.7, y: 20, z: 0.48570718369376087",
          "x: 0.7, y: 30, z: 0.41424310216256527",
          "x: 0.7, y: 40, z: 0.3639075316927666",
          "x: 0.7, y: 50, z: 0.33557046979865773",
          "x: 0.7, y: 60, z: 0.28200347999005715",
          "x: 0.7, y: 70, z: 0.22010937111608253",
          "x: 0.7, y: 80, z: 0.1716380810340542",
          "x: 0.7, y: 90, z: 0.1369624658215262",
          "x: 0.8, y: 0, z: 0.9069102659706687",
          "x: 0.8, y: 10, z: 0.5339299030574198",
          "x: 0.8, y: 20, z: 0.48570718369376087",
          "x: 0.8, y: 30, z: 0.41424310216256527",
          "x: 0.8, y: 40, z: 0.3639075316927666",
          "x: 0.8, y: 50, z: 0.33557046979865773",
          "x: 0.8, y: 60, z: 0.28200347999005715",
          "x: 0.8, y: 70, z: 0.22010937111608253",
          "x: 0.8, y: 80, z: 0.1716380810340542",
          "x: 0.8, y: 90, z: 0.1369624658215262",
          "x: 0.9, y: 0, z: 0.38478747203579416",
          "x: 0.9, y: 10, z: 0.1538652746706438",
          "x: 0.9, y: 20, z: 0.15299527715635097",
          "x: 0.9, y: 30, z: 0.14516529952771565",
          "x: 0.9, y: 40, z: 0.13944817300521997",
          "x: 0.9, y: 50, z: 0.13907531692766592",
          "x: 0.9, y: 60, z: 0.13857817549092716",
          "x: 0.9, y: 70, z: 0.13012677106636839",
          "x: 0.9, y: 80, z: 0.10427541635595326",
          "x: 0.9, y: 90, z: 0.08289833457618692",
          "x: 1.0, y: 0, z: 0.38478747203579416",
          "x: 1.0, y: 10, z: 0.1538652746706438",
          "x: 1.0, y: 20, z: 0.15299527715635097",
          "x: 1.0, y: 30, z: 0.14516529952771565",
          "x: 1.0, y: 40, z: 0.13944817300521997",
          "x: 1.0, y: 50, z: 0.13907531692766592",
          "x: 1.0, y: 60, z: 0.13857817549092716",
          "x: 1.0, y: 70, z: 0.13012677106636839",
          "x: 1.0, y: 80, z: 0.10427541635595326",
          "x: 1.0, y: 90, z: 0.08289833457618692"
         ],
         "type": "scatter",
         "x": [
          "0",
          "0",
          "0",
          "0",
          "0",
          "0",
          "0",
          "0",
          "0",
          "0",
          "0.1",
          "0.1",
          "0.1",
          "0.1",
          "0.1",
          "0.1",
          "0.1",
          "0.1",
          "0.1",
          "0.1",
          "0.2",
          "0.2",
          "0.2",
          "0.2",
          "0.2",
          "0.2",
          "0.2",
          "0.2",
          "0.2",
          "0.2",
          "0.3",
          "0.3",
          "0.3",
          "0.3",
          "0.3",
          "0.3",
          "0.3",
          "0.3",
          "0.3",
          "0.3",
          "0.4",
          "0.4",
          "0.4",
          "0.4",
          "0.4",
          "0.4",
          "0.4",
          "0.4",
          "0.4",
          "0.4",
          "0.5",
          "0.5",
          "0.5",
          "0.5",
          "0.5",
          "0.5",
          "0.5",
          "0.5",
          "0.5",
          "0.5",
          "0.6",
          "0.6",
          "0.6",
          "0.6",
          "0.6",
          "0.6",
          "0.6",
          "0.6",
          "0.6",
          "0.6",
          "0.7",
          "0.7",
          "0.7",
          "0.7",
          "0.7",
          "0.7",
          "0.7",
          "0.7",
          "0.7",
          "0.7",
          "0.8",
          "0.8",
          "0.8",
          "0.8",
          "0.8",
          "0.8",
          "0.8",
          "0.8",
          "0.8",
          "0.8",
          "0.9",
          "0.9",
          "0.9",
          "0.9",
          "0.9",
          "0.9",
          "0.9",
          "0.9",
          "0.9",
          "0.9",
          "1.0",
          "1.0",
          "1.0",
          "1.0",
          "1.0",
          "1.0",
          "1.0",
          "1.0",
          "1.0",
          "1.0"
         ],
         "xaxis": "x9",
         "y": [
          "0",
          "10",
          "20",
          "30",
          "40",
          "50",
          "60",
          "70",
          "80",
          "90",
          "0",
          "10",
          "20",
          "30",
          "40",
          "50",
          "60",
          "70",
          "80",
          "90",
          "0",
          "10",
          "20",
          "30",
          "40",
          "50",
          "60",
          "70",
          "80",
          "90",
          "0",
          "10",
          "20",
          "30",
          "40",
          "50",
          "60",
          "70",
          "80",
          "90",
          "0",
          "10",
          "20",
          "30",
          "40",
          "50",
          "60",
          "70",
          "80",
          "90",
          "0",
          "10",
          "20",
          "30",
          "40",
          "50",
          "60",
          "70",
          "80",
          "90",
          "0",
          "10",
          "20",
          "30",
          "40",
          "50",
          "60",
          "70",
          "80",
          "90",
          "0",
          "10",
          "20",
          "30",
          "40",
          "50",
          "60",
          "70",
          "80",
          "90",
          "0",
          "10",
          "20",
          "30",
          "40",
          "50",
          "60",
          "70",
          "80",
          "90",
          "0",
          "10",
          "20",
          "30",
          "40",
          "50",
          "60",
          "70",
          "80",
          "90",
          "0",
          "10",
          "20",
          "30",
          "40",
          "50",
          "60",
          "70",
          "80",
          "90"
         ],
         "yaxis": "y9"
        },
        {
         "hoverinfo": "text",
         "legendgroup": "best",
         "marker": {
          "color": "red",
          "symbol": "x"
         },
         "mode": "markers",
         "name": "best_score",
         "showlegend": false,
         "text": [
          "x: 0, y: 0, z: 0.9260502112851107"
         ],
         "type": "scatter",
         "x": [
          "0"
         ],
         "xaxis": "x9",
         "y": [
          "0"
         ],
         "yaxis": "y9"
        },
        {
         "colorbar": {
          "title": {
           "text": "F1 score"
          }
         },
         "colorscale": [
          [
           0,
           "#440154"
          ],
          [
           0.1111111111111111,
           "#482878"
          ],
          [
           0.2222222222222222,
           "#3e4989"
          ],
          [
           0.3333333333333333,
           "#31688e"
          ],
          [
           0.4444444444444444,
           "#26828e"
          ],
          [
           0.5555555555555556,
           "#1f9e89"
          ],
          [
           0.6666666666666666,
           "#35b779"
          ],
          [
           0.7777777777777778,
           "#6ece58"
          ],
          [
           0.8888888888888888,
           "#b5de2b"
          ],
          [
           1,
           "#fde725"
          ]
         ],
         "contours": {
          "showlabels": true
         },
         "type": "contour",
         "x": [
          "0",
          "0.1",
          "0.2",
          "0.3",
          "0.4",
          "0.5",
          "0.6",
          "0.7",
          "0.8",
          "0.9",
          "1.0"
         ],
         "xaxis": "x12",
         "y": [
          "0",
          "10",
          "20",
          "30",
          "40",
          "50",
          "60",
          "70",
          "80",
          "90"
         ],
         "yaxis": "y12",
         "z": [
          [
           0.588546614194599,
           0.6092414167458271,
           0.6092414167458271,
           0.6092414167458271,
           0.6407246573483512,
           0.6733613787488126,
           0.6677296783824128,
           0.6674582711358393,
           0.6672547157009092,
           0.6094449721807572,
           0.6094449721807572
          ],
          [
           0.6853711494096892,
           0.7352422309675668,
           0.7352422309675668,
           0.7352422309675668,
           0.7285249016148732,
           0.661555163522866,
           0.6207083729135567,
           0.6207083729135567,
           0.6207083729135567,
           0.537861310897001,
           0.537861310897001
          ],
          [
           0.7167186863889266,
           0.7400597095942462,
           0.7400597095942462,
           0.7400597095942462,
           0.7328674175600488,
           0.6620301262043696,
           0.6401139910435608,
           0.6401139910435608,
           0.6401139910435608,
           0.5375899036504275,
           0.5375899036504275
          ],
          [
           0.7040303976116162,
           0.7229610530601167,
           0.7229610530601167,
           0.7229610530601167,
           0.7156330574026326,
           0.641063916406568,
           0.6294612566155516,
           0.6294612566155516,
           0.6294612566155516,
           0.5333152395168951,
           0.5333152395168951
          ],
          [
           0.6907314425295156,
           0.7091871352965124,
           0.7091871352965124,
           0.7091871352965124,
           0.702334102320532,
           0.6254579997285927,
           0.6139910435608631,
           0.6139910435608631,
           0.6139910435608631,
           0.5301940561813,
           0.5301940561813
          ],
          [
           0.6777038946939883,
           0.6905278870945855,
           0.6905278870945855,
           0.6905278870945855,
           0.6907314425295156,
           0.6133803772560728,
           0.601913421088343,
           0.601913421088343,
           0.601913421088343,
           0.5299905007463699,
           0.5299905007463699
          ],
          [
           0.6386212511874068,
           0.6576876102591939,
           0.6576876102591939,
           0.6576876102591939,
           0.6654227167865382,
           0.5959424616637264,
           0.5848826163658569,
           0.5848826163658569,
           0.5848826163658569,
           0.5297190934997964,
           0.5297190934997964
          ],
          [
           0.5886144660062423,
           0.6040168272492875,
           0.6040168272492875,
           0.6040168272492875,
           0.6099199348622608,
           0.5754512145474284,
           0.5672411453385805,
           0.5672411453385805,
           0.5672411453385805,
           0.5251051703080473,
           0.5251051703080473
          ],
          [
           0.5640521101913422,
           0.5658162572940697,
           0.5658162572940697,
           0.5658162572940697,
           0.5652055909892794,
           0.5514316732256751,
           0.5437644185099743,
           0.5437644185099743,
           0.5437644185099743,
           0.510991993486226,
           0.510991993486226
          ],
          [
           0.5306690188628036,
           0.5363685710408468,
           0.5363685710408468,
           0.5363685710408468,
           0.5355543493011263,
           0.5346044239381191,
           0.5269371692224183,
           0.5269371692224183,
           0.5269371692224183,
           0.4993214818835663,
           0.4993214818835663
          ]
         ],
         "zmax": 1,
         "zmin": 0.08289833457618692
        },
        {
         "hoverinfo": "text",
         "marker": {
          "color": "black",
          "symbol": "x"
         },
         "mode": "markers",
         "showlegend": false,
         "text": [
          "x: 0, y: 0, z: 0.588546614194599",
          "x: 0, y: 10, z: 0.6853711494096892",
          "x: 0, y: 20, z: 0.7167186863889266",
          "x: 0, y: 30, z: 0.7040303976116162",
          "x: 0, y: 40, z: 0.6907314425295156",
          "x: 0, y: 50, z: 0.6777038946939883",
          "x: 0, y: 60, z: 0.6386212511874068",
          "x: 0, y: 70, z: 0.5886144660062423",
          "x: 0, y: 80, z: 0.5640521101913422",
          "x: 0, y: 90, z: 0.5306690188628036",
          "x: 0.1, y: 0, z: 0.6092414167458271",
          "x: 0.1, y: 10, z: 0.7352422309675668",
          "x: 0.1, y: 20, z: 0.7400597095942462",
          "x: 0.1, y: 30, z: 0.7229610530601167",
          "x: 0.1, y: 40, z: 0.7091871352965124",
          "x: 0.1, y: 50, z: 0.6905278870945855",
          "x: 0.1, y: 60, z: 0.6576876102591939",
          "x: 0.1, y: 70, z: 0.6040168272492875",
          "x: 0.1, y: 80, z: 0.5658162572940697",
          "x: 0.1, y: 90, z: 0.5363685710408468",
          "x: 0.2, y: 0, z: 0.6092414167458271",
          "x: 0.2, y: 10, z: 0.7352422309675668",
          "x: 0.2, y: 20, z: 0.7400597095942462",
          "x: 0.2, y: 30, z: 0.7229610530601167",
          "x: 0.2, y: 40, z: 0.7091871352965124",
          "x: 0.2, y: 50, z: 0.6905278870945855",
          "x: 0.2, y: 60, z: 0.6576876102591939",
          "x: 0.2, y: 70, z: 0.6040168272492875",
          "x: 0.2, y: 80, z: 0.5658162572940697",
          "x: 0.2, y: 90, z: 0.5363685710408468",
          "x: 0.3, y: 0, z: 0.6092414167458271",
          "x: 0.3, y: 10, z: 0.7352422309675668",
          "x: 0.3, y: 20, z: 0.7400597095942462",
          "x: 0.3, y: 30, z: 0.7229610530601167",
          "x: 0.3, y: 40, z: 0.7091871352965124",
          "x: 0.3, y: 50, z: 0.6905278870945855",
          "x: 0.3, y: 60, z: 0.6576876102591939",
          "x: 0.3, y: 70, z: 0.6040168272492875",
          "x: 0.3, y: 80, z: 0.5658162572940697",
          "x: 0.3, y: 90, z: 0.5363685710408468",
          "x: 0.4, y: 0, z: 0.6407246573483512",
          "x: 0.4, y: 10, z: 0.7285249016148732",
          "x: 0.4, y: 20, z: 0.7328674175600488",
          "x: 0.4, y: 30, z: 0.7156330574026326",
          "x: 0.4, y: 40, z: 0.702334102320532",
          "x: 0.4, y: 50, z: 0.6907314425295156",
          "x: 0.4, y: 60, z: 0.6654227167865382",
          "x: 0.4, y: 70, z: 0.6099199348622608",
          "x: 0.4, y: 80, z: 0.5652055909892794",
          "x: 0.4, y: 90, z: 0.5355543493011263",
          "x: 0.5, y: 0, z: 0.6733613787488126",
          "x: 0.5, y: 10, z: 0.661555163522866",
          "x: 0.5, y: 20, z: 0.6620301262043696",
          "x: 0.5, y: 30, z: 0.641063916406568",
          "x: 0.5, y: 40, z: 0.6254579997285927",
          "x: 0.5, y: 50, z: 0.6133803772560728",
          "x: 0.5, y: 60, z: 0.5959424616637264",
          "x: 0.5, y: 70, z: 0.5754512145474284",
          "x: 0.5, y: 80, z: 0.5514316732256751",
          "x: 0.5, y: 90, z: 0.5346044239381191",
          "x: 0.6, y: 0, z: 0.6677296783824128",
          "x: 0.6, y: 10, z: 0.6207083729135567",
          "x: 0.6, y: 20, z: 0.6401139910435608",
          "x: 0.6, y: 30, z: 0.6294612566155516",
          "x: 0.6, y: 40, z: 0.6139910435608631",
          "x: 0.6, y: 50, z: 0.601913421088343",
          "x: 0.6, y: 60, z: 0.5848826163658569",
          "x: 0.6, y: 70, z: 0.5672411453385805",
          "x: 0.6, y: 80, z: 0.5437644185099743",
          "x: 0.6, y: 90, z: 0.5269371692224183",
          "x: 0.7, y: 0, z: 0.6674582711358393",
          "x: 0.7, y: 10, z: 0.6207083729135567",
          "x: 0.7, y: 20, z: 0.6401139910435608",
          "x: 0.7, y: 30, z: 0.6294612566155516",
          "x: 0.7, y: 40, z: 0.6139910435608631",
          "x: 0.7, y: 50, z: 0.601913421088343",
          "x: 0.7, y: 60, z: 0.5848826163658569",
          "x: 0.7, y: 70, z: 0.5672411453385805",
          "x: 0.7, y: 80, z: 0.5437644185099743",
          "x: 0.7, y: 90, z: 0.5269371692224183",
          "x: 0.8, y: 0, z: 0.6672547157009092",
          "x: 0.8, y: 10, z: 0.6207083729135567",
          "x: 0.8, y: 20, z: 0.6401139910435608",
          "x: 0.8, y: 30, z: 0.6294612566155516",
          "x: 0.8, y: 40, z: 0.6139910435608631",
          "x: 0.8, y: 50, z: 0.601913421088343",
          "x: 0.8, y: 60, z: 0.5848826163658569",
          "x: 0.8, y: 70, z: 0.5672411453385805",
          "x: 0.8, y: 80, z: 0.5437644185099743",
          "x: 0.8, y: 90, z: 0.5269371692224183",
          "x: 0.9, y: 0, z: 0.6094449721807572",
          "x: 0.9, y: 10, z: 0.537861310897001",
          "x: 0.9, y: 20, z: 0.5375899036504275",
          "x: 0.9, y: 30, z: 0.5333152395168951",
          "x: 0.9, y: 40, z: 0.5301940561813",
          "x: 0.9, y: 50, z: 0.5299905007463699",
          "x: 0.9, y: 60, z: 0.5297190934997964",
          "x: 0.9, y: 70, z: 0.5251051703080473",
          "x: 0.9, y: 80, z: 0.510991993486226",
          "x: 0.9, y: 90, z: 0.4993214818835663",
          "x: 1.0, y: 0, z: 0.6094449721807572",
          "x: 1.0, y: 10, z: 0.537861310897001",
          "x: 1.0, y: 20, z: 0.5375899036504275",
          "x: 1.0, y: 30, z: 0.5333152395168951",
          "x: 1.0, y: 40, z: 0.5301940561813",
          "x: 1.0, y: 50, z: 0.5299905007463699",
          "x: 1.0, y: 60, z: 0.5297190934997964",
          "x: 1.0, y: 70, z: 0.5251051703080473",
          "x: 1.0, y: 80, z: 0.510991993486226",
          "x: 1.0, y: 90, z: 0.4993214818835663"
         ],
         "type": "scatter",
         "x": [
          "0",
          "0",
          "0",
          "0",
          "0",
          "0",
          "0",
          "0",
          "0",
          "0",
          "0.1",
          "0.1",
          "0.1",
          "0.1",
          "0.1",
          "0.1",
          "0.1",
          "0.1",
          "0.1",
          "0.1",
          "0.2",
          "0.2",
          "0.2",
          "0.2",
          "0.2",
          "0.2",
          "0.2",
          "0.2",
          "0.2",
          "0.2",
          "0.3",
          "0.3",
          "0.3",
          "0.3",
          "0.3",
          "0.3",
          "0.3",
          "0.3",
          "0.3",
          "0.3",
          "0.4",
          "0.4",
          "0.4",
          "0.4",
          "0.4",
          "0.4",
          "0.4",
          "0.4",
          "0.4",
          "0.4",
          "0.5",
          "0.5",
          "0.5",
          "0.5",
          "0.5",
          "0.5",
          "0.5",
          "0.5",
          "0.5",
          "0.5",
          "0.6",
          "0.6",
          "0.6",
          "0.6",
          "0.6",
          "0.6",
          "0.6",
          "0.6",
          "0.6",
          "0.6",
          "0.7",
          "0.7",
          "0.7",
          "0.7",
          "0.7",
          "0.7",
          "0.7",
          "0.7",
          "0.7",
          "0.7",
          "0.8",
          "0.8",
          "0.8",
          "0.8",
          "0.8",
          "0.8",
          "0.8",
          "0.8",
          "0.8",
          "0.8",
          "0.9",
          "0.9",
          "0.9",
          "0.9",
          "0.9",
          "0.9",
          "0.9",
          "0.9",
          "0.9",
          "0.9",
          "1.0",
          "1.0",
          "1.0",
          "1.0",
          "1.0",
          "1.0",
          "1.0",
          "1.0",
          "1.0",
          "1.0"
         ],
         "xaxis": "x12",
         "y": [
          "0",
          "10",
          "20",
          "30",
          "40",
          "50",
          "60",
          "70",
          "80",
          "90",
          "0",
          "10",
          "20",
          "30",
          "40",
          "50",
          "60",
          "70",
          "80",
          "90",
          "0",
          "10",
          "20",
          "30",
          "40",
          "50",
          "60",
          "70",
          "80",
          "90",
          "0",
          "10",
          "20",
          "30",
          "40",
          "50",
          "60",
          "70",
          "80",
          "90",
          "0",
          "10",
          "20",
          "30",
          "40",
          "50",
          "60",
          "70",
          "80",
          "90",
          "0",
          "10",
          "20",
          "30",
          "40",
          "50",
          "60",
          "70",
          "80",
          "90",
          "0",
          "10",
          "20",
          "30",
          "40",
          "50",
          "60",
          "70",
          "80",
          "90",
          "0",
          "10",
          "20",
          "30",
          "40",
          "50",
          "60",
          "70",
          "80",
          "90",
          "0",
          "10",
          "20",
          "30",
          "40",
          "50",
          "60",
          "70",
          "80",
          "90",
          "0",
          "10",
          "20",
          "30",
          "40",
          "50",
          "60",
          "70",
          "80",
          "90",
          "0",
          "10",
          "20",
          "30",
          "40",
          "50",
          "60",
          "70",
          "80",
          "90"
         ],
         "yaxis": "y12"
        },
        {
         "hoverinfo": "text",
         "legendgroup": "best",
         "marker": {
          "color": "red",
          "symbol": "x"
         },
         "mode": "markers",
         "name": "best_score",
         "showlegend": false,
         "text": [
          "x: 0.1, y: 20, z: 0.7400597095942462"
         ],
         "type": "scatter",
         "x": [
          "0.1"
         ],
         "xaxis": "x12",
         "y": [
          "20"
         ],
         "yaxis": "y12"
        },
        {
         "colorbar": {
          "title": {
           "text": "F1 score"
          }
         },
         "colorscale": [
          [
           0,
           "#440154"
          ],
          [
           0.1111111111111111,
           "#482878"
          ],
          [
           0.2222222222222222,
           "#3e4989"
          ],
          [
           0.3333333333333333,
           "#31688e"
          ],
          [
           0.4444444444444444,
           "#26828e"
          ],
          [
           0.5555555555555556,
           "#1f9e89"
          ],
          [
           0.6666666666666666,
           "#35b779"
          ],
          [
           0.7777777777777778,
           "#6ece58"
          ],
          [
           0.8888888888888888,
           "#b5de2b"
          ],
          [
           1,
           "#fde725"
          ]
         ],
         "contours": {
          "showlabels": true
         },
         "type": "contour",
         "x": [
          "0",
          "0.1",
          "0.2",
          "0.3",
          "0.4",
          "0.5",
          "0.6",
          "0.7",
          "0.8",
          "0.9",
          "1.0"
         ],
         "xaxis": "x15",
         "y": [
          "0",
          "10",
          "20",
          "30",
          "40",
          "50",
          "60",
          "70",
          "80",
          "90"
         ],
         "yaxis": "y15",
         "z": [
          [
           0.5544028701374746,
           0.5772038476013371,
           0.5772038476013371,
           0.5772038476013371,
           0.6119224018082516,
           0.6485900929190924,
           0.6434322505129279,
           0.6431836797945585,
           0.6430098251550893,
           0.6321725764243525,
           0.6321725764243525
          ],
          [
           0.6692708646739705,
           0.7262114999541638,
           0.7262114999541638,
           0.7262114999541638,
           0.7220836919630832,
           0.6668972594669712,
           0.62948736635238,
           0.62948736635238,
           0.62948736635238,
           0.5767084890986214,
           0.5767084890986214
          ],
          [
           0.7094351494150714,
           0.7425935063462794,
           0.7425935063462794,
           0.7425935063462794,
           0.7379552592022053,
           0.6758067293575984,
           0.6557346438492713,
           0.6557346438492713,
           0.6557346438492713,
           0.5764976385781755,
           0.5764976385781755
          ],
          [
           0.7058614438883176,
           0.7330945167498479,
           0.7330945167498479,
           0.7330945167498479,
           0.7283068374479735,
           0.6618603222742394,
           0.6512339240639485,
           0.6512339240639485,
           0.6512339240639485,
           0.5725826497638579,
           0.5725826497638579
          ],
          [
           0.6976169526715705,
           0.7237234898140236,
           0.7237234898140236,
           0.7237234898140236,
           0.7193582358699878,
           0.649792997645487,
           0.6392908847943809,
           0.6392908847943809,
           0.6392908847943809,
           0.56972408650261,
           0.56972408650261
          ],
          [
           0.6871440725095496,
           0.7080927672458378,
           0.7080927672458378,
           0.7080927672458378,
           0.7101903519794059,
           0.6393602706434416,
           0.6288581577923354,
           0.6288581577923354,
           0.6288581577923354,
           0.569537658463833,
           0.569537658463833
          ],
          [
           0.6536382477383853,
           0.6803040689971694,
           0.6803040689971694,
           0.6803040689971694,
           0.6892869177661799,
           0.6256528138636196,
           0.6155235570900673,
           0.6155235570900673,
           0.6155235570900673,
           0.5692890877454636,
           0.5692890877454636
          ],
          [
           0.6113847914836373,
           0.6346949080444348,
           0.6346949080444348,
           0.6346949080444348,
           0.6414466748949071,
           0.6098781936619965,
           0.6023589294313229,
           0.6023589294313229,
           0.6023589294313229,
           0.5650633855331841,
           0.5650633855331841
          ],
          [
           0.5907374311694606,
           0.6015568691321971,
           0.6015568691321971,
           0.6015568691321971,
           0.6010478786130972,
           0.5884329146558513,
           0.5814107918619166,
           0.5814107918619166,
           0.5814107918619166,
           0.5521377081779766,
           0.5521377081779766
          ],
          [
           0.5606033017858015,
           0.575027015164894,
           0.575027015164894,
           0.575027015164894,
           0.5742813030097857,
           0.573411305495493,
           0.5663891827015581,
           0.5663891827015581,
           0.5663891827015581,
           0.5414491672880934,
           0.5414491672880934
          ]
         ],
         "zmax": 1,
         "zmin": 0.08289833457618692
        },
        {
         "hoverinfo": "text",
         "marker": {
          "color": "black",
          "symbol": "x"
         },
         "mode": "markers",
         "showlegend": false,
         "text": [
          "x: 0, y: 0, z: 0.5544028701374746",
          "x: 0, y: 10, z: 0.6692708646739705",
          "x: 0, y: 20, z: 0.7094351494150714",
          "x: 0, y: 30, z: 0.7058614438883176",
          "x: 0, y: 40, z: 0.6976169526715705",
          "x: 0, y: 50, z: 0.6871440725095496",
          "x: 0, y: 60, z: 0.6536382477383853",
          "x: 0, y: 70, z: 0.6113847914836373",
          "x: 0, y: 80, z: 0.5907374311694606",
          "x: 0, y: 90, z: 0.5606033017858015",
          "x: 0.1, y: 0, z: 0.5772038476013371",
          "x: 0.1, y: 10, z: 0.7262114999541638",
          "x: 0.1, y: 20, z: 0.7425935063462794",
          "x: 0.1, y: 30, z: 0.7330945167498479",
          "x: 0.1, y: 40, z: 0.7237234898140236",
          "x: 0.1, y: 50, z: 0.7080927672458378",
          "x: 0.1, y: 60, z: 0.6803040689971694",
          "x: 0.1, y: 70, z: 0.6346949080444348",
          "x: 0.1, y: 80, z: 0.6015568691321971",
          "x: 0.1, y: 90, z: 0.575027015164894",
          "x: 0.2, y: 0, z: 0.5772038476013371",
          "x: 0.2, y: 10, z: 0.7262114999541638",
          "x: 0.2, y: 20, z: 0.7425935063462794",
          "x: 0.2, y: 30, z: 0.7330945167498479",
          "x: 0.2, y: 40, z: 0.7237234898140236",
          "x: 0.2, y: 50, z: 0.7080927672458378",
          "x: 0.2, y: 60, z: 0.6803040689971694",
          "x: 0.2, y: 70, z: 0.6346949080444348",
          "x: 0.2, y: 80, z: 0.6015568691321971",
          "x: 0.2, y: 90, z: 0.575027015164894",
          "x: 0.3, y: 0, z: 0.5772038476013371",
          "x: 0.3, y: 10, z: 0.7262114999541638",
          "x: 0.3, y: 20, z: 0.7425935063462794",
          "x: 0.3, y: 30, z: 0.7330945167498479",
          "x: 0.3, y: 40, z: 0.7237234898140236",
          "x: 0.3, y: 50, z: 0.7080927672458378",
          "x: 0.3, y: 60, z: 0.6803040689971694",
          "x: 0.3, y: 70, z: 0.6346949080444348",
          "x: 0.3, y: 80, z: 0.6015568691321971",
          "x: 0.3, y: 90, z: 0.575027015164894",
          "x: 0.4, y: 0, z: 0.6119224018082516",
          "x: 0.4, y: 10, z: 0.7220836919630832",
          "x: 0.4, y: 20, z: 0.7379552592022053",
          "x: 0.4, y: 30, z: 0.7283068374479735",
          "x: 0.4, y: 40, z: 0.7193582358699878",
          "x: 0.4, y: 50, z: 0.7101903519794059",
          "x: 0.4, y: 60, z: 0.6892869177661799",
          "x: 0.4, y: 70, z: 0.6414466748949071",
          "x: 0.4, y: 80, z: 0.6010478786130972",
          "x: 0.4, y: 90, z: 0.5742813030097857",
          "x: 0.5, y: 0, z: 0.6485900929190924",
          "x: 0.5, y: 10, z: 0.6668972594669712",
          "x: 0.5, y: 20, z: 0.6758067293575984",
          "x: 0.5, y: 30, z: 0.6618603222742394",
          "x: 0.5, y: 40, z: 0.649792997645487",
          "x: 0.5, y: 50, z: 0.6393602706434416",
          "x: 0.5, y: 60, z: 0.6256528138636196",
          "x: 0.5, y: 70, z: 0.6098781936619965",
          "x: 0.5, y: 80, z: 0.5884329146558513",
          "x: 0.5, y: 90, z: 0.573411305495493",
          "x: 0.6, y: 0, z: 0.6434322505129279",
          "x: 0.6, y: 10, z: 0.62948736635238",
          "x: 0.6, y: 20, z: 0.6557346438492713",
          "x: 0.6, y: 30, z: 0.6512339240639485",
          "x: 0.6, y: 40, z: 0.6392908847943809",
          "x: 0.6, y: 50, z: 0.6288581577923354",
          "x: 0.6, y: 60, z: 0.6155235570900673",
          "x: 0.6, y: 70, z: 0.6023589294313229",
          "x: 0.6, y: 80, z: 0.5814107918619166",
          "x: 0.6, y: 90, z: 0.5663891827015581",
          "x: 0.7, y: 0, z: 0.6431836797945585",
          "x: 0.7, y: 10, z: 0.62948736635238",
          "x: 0.7, y: 20, z: 0.6557346438492713",
          "x: 0.7, y: 30, z: 0.6512339240639485",
          "x: 0.7, y: 40, z: 0.6392908847943809",
          "x: 0.7, y: 50, z: 0.6288581577923354",
          "x: 0.7, y: 60, z: 0.6155235570900673",
          "x: 0.7, y: 70, z: 0.6023589294313229",
          "x: 0.7, y: 80, z: 0.5814107918619166",
          "x: 0.7, y: 90, z: 0.5663891827015581",
          "x: 0.8, y: 0, z: 0.6430098251550893",
          "x: 0.8, y: 10, z: 0.62948736635238",
          "x: 0.8, y: 20, z: 0.6557346438492713",
          "x: 0.8, y: 30, z: 0.6512339240639485",
          "x: 0.8, y: 40, z: 0.6392908847943809",
          "x: 0.8, y: 50, z: 0.6288581577923354",
          "x: 0.8, y: 60, z: 0.6155235570900673",
          "x: 0.8, y: 70, z: 0.6023589294313229",
          "x: 0.8, y: 80, z: 0.5814107918619166",
          "x: 0.8, y: 90, z: 0.5663891827015581",
          "x: 0.9, y: 0, z: 0.6321725764243525",
          "x: 0.9, y: 10, z: 0.5767084890986214",
          "x: 0.9, y: 20, z: 0.5764976385781755",
          "x: 0.9, y: 30, z: 0.5725826497638579",
          "x: 0.9, y: 40, z: 0.56972408650261",
          "x: 0.9, y: 50, z: 0.569537658463833",
          "x: 0.9, y: 60, z: 0.5692890877454636",
          "x: 0.9, y: 70, z: 0.5650633855331841",
          "x: 0.9, y: 80, z: 0.5521377081779766",
          "x: 0.9, y: 90, z: 0.5414491672880934",
          "x: 1.0, y: 0, z: 0.6321725764243525",
          "x: 1.0, y: 10, z: 0.5767084890986214",
          "x: 1.0, y: 20, z: 0.5764976385781755",
          "x: 1.0, y: 30, z: 0.5725826497638579",
          "x: 1.0, y: 40, z: 0.56972408650261",
          "x: 1.0, y: 50, z: 0.569537658463833",
          "x: 1.0, y: 60, z: 0.5692890877454636",
          "x: 1.0, y: 70, z: 0.5650633855331841",
          "x: 1.0, y: 80, z: 0.5521377081779766",
          "x: 1.0, y: 90, z: 0.5414491672880934"
         ],
         "type": "scatter",
         "x": [
          "0",
          "0",
          "0",
          "0",
          "0",
          "0",
          "0",
          "0",
          "0",
          "0",
          "0.1",
          "0.1",
          "0.1",
          "0.1",
          "0.1",
          "0.1",
          "0.1",
          "0.1",
          "0.1",
          "0.1",
          "0.2",
          "0.2",
          "0.2",
          "0.2",
          "0.2",
          "0.2",
          "0.2",
          "0.2",
          "0.2",
          "0.2",
          "0.3",
          "0.3",
          "0.3",
          "0.3",
          "0.3",
          "0.3",
          "0.3",
          "0.3",
          "0.3",
          "0.3",
          "0.4",
          "0.4",
          "0.4",
          "0.4",
          "0.4",
          "0.4",
          "0.4",
          "0.4",
          "0.4",
          "0.4",
          "0.5",
          "0.5",
          "0.5",
          "0.5",
          "0.5",
          "0.5",
          "0.5",
          "0.5",
          "0.5",
          "0.5",
          "0.6",
          "0.6",
          "0.6",
          "0.6",
          "0.6",
          "0.6",
          "0.6",
          "0.6",
          "0.6",
          "0.6",
          "0.7",
          "0.7",
          "0.7",
          "0.7",
          "0.7",
          "0.7",
          "0.7",
          "0.7",
          "0.7",
          "0.7",
          "0.8",
          "0.8",
          "0.8",
          "0.8",
          "0.8",
          "0.8",
          "0.8",
          "0.8",
          "0.8",
          "0.8",
          "0.9",
          "0.9",
          "0.9",
          "0.9",
          "0.9",
          "0.9",
          "0.9",
          "0.9",
          "0.9",
          "0.9",
          "1.0",
          "1.0",
          "1.0",
          "1.0",
          "1.0",
          "1.0",
          "1.0",
          "1.0",
          "1.0",
          "1.0"
         ],
         "xaxis": "x15",
         "y": [
          "0",
          "10",
          "20",
          "30",
          "40",
          "50",
          "60",
          "70",
          "80",
          "90",
          "0",
          "10",
          "20",
          "30",
          "40",
          "50",
          "60",
          "70",
          "80",
          "90",
          "0",
          "10",
          "20",
          "30",
          "40",
          "50",
          "60",
          "70",
          "80",
          "90",
          "0",
          "10",
          "20",
          "30",
          "40",
          "50",
          "60",
          "70",
          "80",
          "90",
          "0",
          "10",
          "20",
          "30",
          "40",
          "50",
          "60",
          "70",
          "80",
          "90",
          "0",
          "10",
          "20",
          "30",
          "40",
          "50",
          "60",
          "70",
          "80",
          "90",
          "0",
          "10",
          "20",
          "30",
          "40",
          "50",
          "60",
          "70",
          "80",
          "90",
          "0",
          "10",
          "20",
          "30",
          "40",
          "50",
          "60",
          "70",
          "80",
          "90",
          "0",
          "10",
          "20",
          "30",
          "40",
          "50",
          "60",
          "70",
          "80",
          "90",
          "0",
          "10",
          "20",
          "30",
          "40",
          "50",
          "60",
          "70",
          "80",
          "90",
          "0",
          "10",
          "20",
          "30",
          "40",
          "50",
          "60",
          "70",
          "80",
          "90"
         ],
         "yaxis": "y15"
        },
        {
         "hoverinfo": "text",
         "legendgroup": "best",
         "marker": {
          "color": "red",
          "symbol": "x"
         },
         "mode": "markers",
         "name": "best_score",
         "showlegend": false,
         "text": [
          "x: 0.1, y: 20, z: 0.7425935063462794"
         ],
         "type": "scatter",
         "x": [
          "0.1"
         ],
         "xaxis": "x15",
         "y": [
          "20"
         ],
         "yaxis": "y15"
        }
       ],
       "layout": {
        "annotations": [
         {
          "font": {
           "size": 16
          },
          "showarrow": false,
          "text": "Rowwise 1",
          "x": 0.155,
          "xanchor": "center",
          "xref": "paper",
          "y": 1,
          "yanchor": "bottom",
          "yref": "paper"
         },
         {
          "font": {
           "size": 16
          },
          "showarrow": false,
          "text": "Rowwise 2",
          "x": 0.49,
          "xanchor": "center",
          "xref": "paper",
          "y": 1,
          "yanchor": "bottom",
          "yref": "paper"
         },
         {
          "font": {
           "size": 16
          },
          "showarrow": false,
          "text": "Columnwise",
          "x": 0.825,
          "xanchor": "center",
          "xref": "paper",
          "y": 1,
          "yanchor": "bottom",
          "yref": "paper"
         },
         {
          "font": {
           "size": 16
          },
          "showarrow": false,
          "text": "F1-Score",
          "textangle": 90,
          "x": 0.98,
          "xanchor": "left",
          "xref": "paper",
          "y": 0.92,
          "yanchor": "middle",
          "yref": "paper"
         },
         {
          "font": {
           "size": 16
          },
          "showarrow": false,
          "text": "Precision",
          "textangle": 90,
          "x": 0.98,
          "xanchor": "left",
          "xref": "paper",
          "y": 0.71,
          "yanchor": "middle",
          "yref": "paper"
         },
         {
          "font": {
           "size": 16
          },
          "showarrow": false,
          "text": "Recall",
          "textangle": 90,
          "x": 0.98,
          "xanchor": "left",
          "xref": "paper",
          "y": 0.5,
          "yanchor": "middle",
          "yref": "paper"
         },
         {
          "font": {
           "size": 16
          },
          "showarrow": false,
          "text": "Accuracy",
          "textangle": 90,
          "x": 0.98,
          "xanchor": "left",
          "xref": "paper",
          "y": 0.29000000000000004,
          "yanchor": "middle",
          "yref": "paper"
         },
         {
          "font": {
           "size": 16
          },
          "showarrow": false,
          "text": "ROC_AUC",
          "textangle": 90,
          "x": 0.98,
          "xanchor": "left",
          "xref": "paper",
          "y": 0.08,
          "yanchor": "middle",
          "yref": "paper"
         },
         {
          "font": {
           "size": 16
          },
          "showarrow": false,
          "text": "Threshold score",
          "x": 0.49,
          "xanchor": "center",
          "xref": "paper",
          "y": 0,
          "yanchor": "top",
          "yref": "paper",
          "yshift": -30
         },
         {
          "font": {
           "size": 16
          },
          "showarrow": false,
          "text": "Threshold count",
          "textangle": -90,
          "x": 0,
          "xanchor": "right",
          "xref": "paper",
          "xshift": -40,
          "y": 0.5,
          "yanchor": "middle",
          "yref": "paper"
         }
        ],
        "height": 700,
        "legend": {
         "x": 1,
         "y": 1.1
        },
        "template": {
         "data": {
          "bar": [
           {
            "error_x": {
             "color": "#2a3f5f"
            },
            "error_y": {
             "color": "#2a3f5f"
            },
            "marker": {
             "line": {
              "color": "#E5ECF6",
              "width": 0.5
             },
             "pattern": {
              "fillmode": "overlay",
              "size": 10,
              "solidity": 0.2
             }
            },
            "type": "bar"
           }
          ],
          "barpolar": [
           {
            "marker": {
             "line": {
              "color": "#E5ECF6",
              "width": 0.5
             },
             "pattern": {
              "fillmode": "overlay",
              "size": 10,
              "solidity": 0.2
             }
            },
            "type": "barpolar"
           }
          ],
          "carpet": [
           {
            "aaxis": {
             "endlinecolor": "#2a3f5f",
             "gridcolor": "white",
             "linecolor": "white",
             "minorgridcolor": "white",
             "startlinecolor": "#2a3f5f"
            },
            "baxis": {
             "endlinecolor": "#2a3f5f",
             "gridcolor": "white",
             "linecolor": "white",
             "minorgridcolor": "white",
             "startlinecolor": "#2a3f5f"
            },
            "type": "carpet"
           }
          ],
          "choropleth": [
           {
            "colorbar": {
             "outlinewidth": 0,
             "ticks": ""
            },
            "type": "choropleth"
           }
          ],
          "contour": [
           {
            "colorbar": {
             "outlinewidth": 0,
             "ticks": ""
            },
            "colorscale": [
             [
              0,
              "#0d0887"
             ],
             [
              0.1111111111111111,
              "#46039f"
             ],
             [
              0.2222222222222222,
              "#7201a8"
             ],
             [
              0.3333333333333333,
              "#9c179e"
             ],
             [
              0.4444444444444444,
              "#bd3786"
             ],
             [
              0.5555555555555556,
              "#d8576b"
             ],
             [
              0.6666666666666666,
              "#ed7953"
             ],
             [
              0.7777777777777778,
              "#fb9f3a"
             ],
             [
              0.8888888888888888,
              "#fdca26"
             ],
             [
              1,
              "#f0f921"
             ]
            ],
            "type": "contour"
           }
          ],
          "contourcarpet": [
           {
            "colorbar": {
             "outlinewidth": 0,
             "ticks": ""
            },
            "type": "contourcarpet"
           }
          ],
          "heatmap": [
           {
            "colorbar": {
             "outlinewidth": 0,
             "ticks": ""
            },
            "colorscale": [
             [
              0,
              "#0d0887"
             ],
             [
              0.1111111111111111,
              "#46039f"
             ],
             [
              0.2222222222222222,
              "#7201a8"
             ],
             [
              0.3333333333333333,
              "#9c179e"
             ],
             [
              0.4444444444444444,
              "#bd3786"
             ],
             [
              0.5555555555555556,
              "#d8576b"
             ],
             [
              0.6666666666666666,
              "#ed7953"
             ],
             [
              0.7777777777777778,
              "#fb9f3a"
             ],
             [
              0.8888888888888888,
              "#fdca26"
             ],
             [
              1,
              "#f0f921"
             ]
            ],
            "type": "heatmap"
           }
          ],
          "heatmapgl": [
           {
            "colorbar": {
             "outlinewidth": 0,
             "ticks": ""
            },
            "colorscale": [
             [
              0,
              "#0d0887"
             ],
             [
              0.1111111111111111,
              "#46039f"
             ],
             [
              0.2222222222222222,
              "#7201a8"
             ],
             [
              0.3333333333333333,
              "#9c179e"
             ],
             [
              0.4444444444444444,
              "#bd3786"
             ],
             [
              0.5555555555555556,
              "#d8576b"
             ],
             [
              0.6666666666666666,
              "#ed7953"
             ],
             [
              0.7777777777777778,
              "#fb9f3a"
             ],
             [
              0.8888888888888888,
              "#fdca26"
             ],
             [
              1,
              "#f0f921"
             ]
            ],
            "type": "heatmapgl"
           }
          ],
          "histogram": [
           {
            "marker": {
             "pattern": {
              "fillmode": "overlay",
              "size": 10,
              "solidity": 0.2
             }
            },
            "type": "histogram"
           }
          ],
          "histogram2d": [
           {
            "colorbar": {
             "outlinewidth": 0,
             "ticks": ""
            },
            "colorscale": [
             [
              0,
              "#0d0887"
             ],
             [
              0.1111111111111111,
              "#46039f"
             ],
             [
              0.2222222222222222,
              "#7201a8"
             ],
             [
              0.3333333333333333,
              "#9c179e"
             ],
             [
              0.4444444444444444,
              "#bd3786"
             ],
             [
              0.5555555555555556,
              "#d8576b"
             ],
             [
              0.6666666666666666,
              "#ed7953"
             ],
             [
              0.7777777777777778,
              "#fb9f3a"
             ],
             [
              0.8888888888888888,
              "#fdca26"
             ],
             [
              1,
              "#f0f921"
             ]
            ],
            "type": "histogram2d"
           }
          ],
          "histogram2dcontour": [
           {
            "colorbar": {
             "outlinewidth": 0,
             "ticks": ""
            },
            "colorscale": [
             [
              0,
              "#0d0887"
             ],
             [
              0.1111111111111111,
              "#46039f"
             ],
             [
              0.2222222222222222,
              "#7201a8"
             ],
             [
              0.3333333333333333,
              "#9c179e"
             ],
             [
              0.4444444444444444,
              "#bd3786"
             ],
             [
              0.5555555555555556,
              "#d8576b"
             ],
             [
              0.6666666666666666,
              "#ed7953"
             ],
             [
              0.7777777777777778,
              "#fb9f3a"
             ],
             [
              0.8888888888888888,
              "#fdca26"
             ],
             [
              1,
              "#f0f921"
             ]
            ],
            "type": "histogram2dcontour"
           }
          ],
          "mesh3d": [
           {
            "colorbar": {
             "outlinewidth": 0,
             "ticks": ""
            },
            "type": "mesh3d"
           }
          ],
          "parcoords": [
           {
            "line": {
             "colorbar": {
              "outlinewidth": 0,
              "ticks": ""
             }
            },
            "type": "parcoords"
           }
          ],
          "pie": [
           {
            "automargin": true,
            "type": "pie"
           }
          ],
          "scatter": [
           {
            "fillpattern": {
             "fillmode": "overlay",
             "size": 10,
             "solidity": 0.2
            },
            "type": "scatter"
           }
          ],
          "scatter3d": [
           {
            "line": {
             "colorbar": {
              "outlinewidth": 0,
              "ticks": ""
             }
            },
            "marker": {
             "colorbar": {
              "outlinewidth": 0,
              "ticks": ""
             }
            },
            "type": "scatter3d"
           }
          ],
          "scattercarpet": [
           {
            "marker": {
             "colorbar": {
              "outlinewidth": 0,
              "ticks": ""
             }
            },
            "type": "scattercarpet"
           }
          ],
          "scattergeo": [
           {
            "marker": {
             "colorbar": {
              "outlinewidth": 0,
              "ticks": ""
             }
            },
            "type": "scattergeo"
           }
          ],
          "scattergl": [
           {
            "marker": {
             "colorbar": {
              "outlinewidth": 0,
              "ticks": ""
             }
            },
            "type": "scattergl"
           }
          ],
          "scattermapbox": [
           {
            "marker": {
             "colorbar": {
              "outlinewidth": 0,
              "ticks": ""
             }
            },
            "type": "scattermapbox"
           }
          ],
          "scatterpolar": [
           {
            "marker": {
             "colorbar": {
              "outlinewidth": 0,
              "ticks": ""
             }
            },
            "type": "scatterpolar"
           }
          ],
          "scatterpolargl": [
           {
            "marker": {
             "colorbar": {
              "outlinewidth": 0,
              "ticks": ""
             }
            },
            "type": "scatterpolargl"
           }
          ],
          "scatterternary": [
           {
            "marker": {
             "colorbar": {
              "outlinewidth": 0,
              "ticks": ""
             }
            },
            "type": "scatterternary"
           }
          ],
          "surface": [
           {
            "colorbar": {
             "outlinewidth": 0,
             "ticks": ""
            },
            "colorscale": [
             [
              0,
              "#0d0887"
             ],
             [
              0.1111111111111111,
              "#46039f"
             ],
             [
              0.2222222222222222,
              "#7201a8"
             ],
             [
              0.3333333333333333,
              "#9c179e"
             ],
             [
              0.4444444444444444,
              "#bd3786"
             ],
             [
              0.5555555555555556,
              "#d8576b"
             ],
             [
              0.6666666666666666,
              "#ed7953"
             ],
             [
              0.7777777777777778,
              "#fb9f3a"
             ],
             [
              0.8888888888888888,
              "#fdca26"
             ],
             [
              1,
              "#f0f921"
             ]
            ],
            "type": "surface"
           }
          ],
          "table": [
           {
            "cells": {
             "fill": {
              "color": "#EBF0F8"
             },
             "line": {
              "color": "white"
             }
            },
            "header": {
             "fill": {
              "color": "#C8D4E3"
             },
             "line": {
              "color": "white"
             }
            },
            "type": "table"
           }
          ]
         },
         "layout": {
          "annotationdefaults": {
           "arrowcolor": "#2a3f5f",
           "arrowhead": 0,
           "arrowwidth": 1
          },
          "autotypenumbers": "strict",
          "coloraxis": {
           "colorbar": {
            "outlinewidth": 0,
            "ticks": ""
           }
          },
          "colorscale": {
           "diverging": [
            [
             0,
             "#8e0152"
            ],
            [
             0.1,
             "#c51b7d"
            ],
            [
             0.2,
             "#de77ae"
            ],
            [
             0.3,
             "#f1b6da"
            ],
            [
             0.4,
             "#fde0ef"
            ],
            [
             0.5,
             "#f7f7f7"
            ],
            [
             0.6,
             "#e6f5d0"
            ],
            [
             0.7,
             "#b8e186"
            ],
            [
             0.8,
             "#7fbc41"
            ],
            [
             0.9,
             "#4d9221"
            ],
            [
             1,
             "#276419"
            ]
           ],
           "sequential": [
            [
             0,
             "#0d0887"
            ],
            [
             0.1111111111111111,
             "#46039f"
            ],
            [
             0.2222222222222222,
             "#7201a8"
            ],
            [
             0.3333333333333333,
             "#9c179e"
            ],
            [
             0.4444444444444444,
             "#bd3786"
            ],
            [
             0.5555555555555556,
             "#d8576b"
            ],
            [
             0.6666666666666666,
             "#ed7953"
            ],
            [
             0.7777777777777778,
             "#fb9f3a"
            ],
            [
             0.8888888888888888,
             "#fdca26"
            ],
            [
             1,
             "#f0f921"
            ]
           ],
           "sequentialminus": [
            [
             0,
             "#0d0887"
            ],
            [
             0.1111111111111111,
             "#46039f"
            ],
            [
             0.2222222222222222,
             "#7201a8"
            ],
            [
             0.3333333333333333,
             "#9c179e"
            ],
            [
             0.4444444444444444,
             "#bd3786"
            ],
            [
             0.5555555555555556,
             "#d8576b"
            ],
            [
             0.6666666666666666,
             "#ed7953"
            ],
            [
             0.7777777777777778,
             "#fb9f3a"
            ],
            [
             0.8888888888888888,
             "#fdca26"
            ],
            [
             1,
             "#f0f921"
            ]
           ]
          },
          "colorway": [
           "#636efa",
           "#EF553B",
           "#00cc96",
           "#ab63fa",
           "#FFA15A",
           "#19d3f3",
           "#FF6692",
           "#B6E880",
           "#FF97FF",
           "#FECB52"
          ],
          "font": {
           "color": "#2a3f5f"
          },
          "geo": {
           "bgcolor": "white",
           "lakecolor": "white",
           "landcolor": "#E5ECF6",
           "showlakes": true,
           "showland": true,
           "subunitcolor": "white"
          },
          "hoverlabel": {
           "align": "left"
          },
          "hovermode": "closest",
          "mapbox": {
           "style": "light"
          },
          "paper_bgcolor": "white",
          "plot_bgcolor": "#E5ECF6",
          "polar": {
           "angularaxis": {
            "gridcolor": "white",
            "linecolor": "white",
            "ticks": ""
           },
           "bgcolor": "#E5ECF6",
           "radialaxis": {
            "gridcolor": "white",
            "linecolor": "white",
            "ticks": ""
           }
          },
          "scene": {
           "xaxis": {
            "backgroundcolor": "#E5ECF6",
            "gridcolor": "white",
            "gridwidth": 2,
            "linecolor": "white",
            "showbackground": true,
            "ticks": "",
            "zerolinecolor": "white"
           },
           "yaxis": {
            "backgroundcolor": "#E5ECF6",
            "gridcolor": "white",
            "gridwidth": 2,
            "linecolor": "white",
            "showbackground": true,
            "ticks": "",
            "zerolinecolor": "white"
           },
           "zaxis": {
            "backgroundcolor": "#E5ECF6",
            "gridcolor": "white",
            "gridwidth": 2,
            "linecolor": "white",
            "showbackground": true,
            "ticks": "",
            "zerolinecolor": "white"
           }
          },
          "shapedefaults": {
           "line": {
            "color": "#2a3f5f"
           }
          },
          "ternary": {
           "aaxis": {
            "gridcolor": "white",
            "linecolor": "white",
            "ticks": ""
           },
           "baxis": {
            "gridcolor": "white",
            "linecolor": "white",
            "ticks": ""
           },
           "bgcolor": "#E5ECF6",
           "caxis": {
            "gridcolor": "white",
            "linecolor": "white",
            "ticks": ""
           }
          },
          "title": {
           "x": 0.05
          },
          "xaxis": {
           "automargin": true,
           "gridcolor": "white",
           "linecolor": "white",
           "ticks": "",
           "title": {
            "standoff": 15
           },
           "zerolinecolor": "white",
           "zerolinewidth": 2
          },
          "yaxis": {
           "automargin": true,
           "gridcolor": "white",
           "linecolor": "white",
           "ticks": "",
           "title": {
            "standoff": 15
           },
           "zerolinecolor": "white",
           "zerolinewidth": 2
          }
         }
        },
        "title": {
         "text": "Contour Plot of different performance metrics on dessi-mf separated by Presidio analyzer approach"
        },
        "width": 1200,
        "xaxis": {
         "anchor": "y",
         "domain": [
          0,
          0.31
         ],
         "matches": "x13",
         "showticklabels": false
        },
        "xaxis10": {
         "anchor": "y10",
         "domain": [
          0,
          0.31
         ],
         "matches": "x13",
         "showticklabels": false
        },
        "xaxis11": {
         "anchor": "y11",
         "domain": [
          0.335,
          0.645
         ],
         "matches": "x14",
         "showticklabels": false
        },
        "xaxis12": {
         "anchor": "y12",
         "domain": [
          0.67,
          0.98
         ],
         "matches": "x15",
         "showticklabels": false
        },
        "xaxis13": {
         "anchor": "y13",
         "domain": [
          0,
          0.31
         ]
        },
        "xaxis14": {
         "anchor": "y14",
         "domain": [
          0.335,
          0.645
         ]
        },
        "xaxis15": {
         "anchor": "y15",
         "domain": [
          0.67,
          0.98
         ]
        },
        "xaxis2": {
         "anchor": "y2",
         "domain": [
          0.335,
          0.645
         ],
         "matches": "x14",
         "showticklabels": false
        },
        "xaxis3": {
         "anchor": "y3",
         "domain": [
          0.67,
          0.98
         ],
         "matches": "x15",
         "showticklabels": false
        },
        "xaxis4": {
         "anchor": "y4",
         "domain": [
          0,
          0.31
         ],
         "matches": "x13",
         "showticklabels": false
        },
        "xaxis5": {
         "anchor": "y5",
         "domain": [
          0.335,
          0.645
         ],
         "matches": "x14",
         "showticklabels": false
        },
        "xaxis6": {
         "anchor": "y6",
         "domain": [
          0.67,
          0.98
         ],
         "matches": "x15",
         "showticklabels": false
        },
        "xaxis7": {
         "anchor": "y7",
         "domain": [
          0,
          0.31
         ],
         "matches": "x13",
         "showticklabels": false
        },
        "xaxis8": {
         "anchor": "y8",
         "domain": [
          0.335,
          0.645
         ],
         "matches": "x14",
         "showticklabels": false
        },
        "xaxis9": {
         "anchor": "y9",
         "domain": [
          0.67,
          0.98
         ],
         "matches": "x15",
         "showticklabels": false
        },
        "yaxis": {
         "anchor": "x",
         "domain": [
          0.8400000000000001,
          1
         ]
        },
        "yaxis10": {
         "anchor": "x10",
         "domain": [
          0.21000000000000002,
          0.37
         ]
        },
        "yaxis11": {
         "anchor": "x11",
         "domain": [
          0.21000000000000002,
          0.37
         ],
         "matches": "y10",
         "showticklabels": false
        },
        "yaxis12": {
         "anchor": "x12",
         "domain": [
          0.21000000000000002,
          0.37
         ],
         "matches": "y10",
         "showticklabels": false
        },
        "yaxis13": {
         "anchor": "x13",
         "domain": [
          0,
          0.16
         ]
        },
        "yaxis14": {
         "anchor": "x14",
         "domain": [
          0,
          0.16
         ],
         "matches": "y13",
         "showticklabels": false
        },
        "yaxis15": {
         "anchor": "x15",
         "domain": [
          0,
          0.16
         ],
         "matches": "y13",
         "showticklabels": false
        },
        "yaxis2": {
         "anchor": "x2",
         "domain": [
          0.8400000000000001,
          1
         ],
         "matches": "y",
         "showticklabels": false
        },
        "yaxis3": {
         "anchor": "x3",
         "domain": [
          0.8400000000000001,
          1
         ],
         "matches": "y",
         "showticklabels": false
        },
        "yaxis4": {
         "anchor": "x4",
         "domain": [
          0.63,
          0.79
         ]
        },
        "yaxis5": {
         "anchor": "x5",
         "domain": [
          0.63,
          0.79
         ],
         "matches": "y4",
         "showticklabels": false
        },
        "yaxis6": {
         "anchor": "x6",
         "domain": [
          0.63,
          0.79
         ],
         "matches": "y4",
         "showticklabels": false
        },
        "yaxis7": {
         "anchor": "x7",
         "domain": [
          0.42000000000000004,
          0.5800000000000001
         ]
        },
        "yaxis8": {
         "anchor": "x8",
         "domain": [
          0.42000000000000004,
          0.5800000000000001
         ],
         "matches": "y7",
         "showticklabels": false
        },
        "yaxis9": {
         "anchor": "x9",
         "domain": [
          0.42000000000000004,
          0.5800000000000001
         ],
         "matches": "y7",
         "showticklabels": false
        }
       }
      }
     },
     "metadata": {},
     "output_type": "display_data"
    }
   ],
   "source": [
    "df = pd.concat([df_rowwise1.loc[df_rowwise1[\"dataset\"] == \"all\"], df_rowwise2.loc[df_rowwise2[\"dataset\"] == \"all\"], \n",
    "                df_columnwise.loc[df_columnwise[\"dataset\"] == \"all\"]]).reset_index(drop=True)\n",
    "\n",
    "z_values = []\n",
    "for s in [\"f1\", \"precision\", \"recall\", \"accuracy\", \"roc_auc\"]:\n",
    "    z_values.append(max(df[f'{s}']))\n",
    "    z_values.append(min(df[f'{s}']))\n",
    "\n",
    "zmin = min(z_values)\n",
    "zmax = max(z_values)\n",
    "\n",
    "fig = make_subplots(\n",
    "    rows=5, cols=3, row_titles=(\"F1-Score\", \"Precision\", \"Recall\", \"Accuracy\", \"ROC_AUC\"), column_titles=(\"Rowwise 1\", \"Rowwise 2\", \"Columnwise\"),\n",
    "    shared_xaxes=True, shared_yaxes=True, vertical_spacing=0.05, horizontal_spacing=0.025, x_title=\"Threshold score\", y_title=\"Threshold count\",\n",
    "    specs=[[{\"type\": \"contour\"}, {\"type\": \"contour\"}, {\"type\": \"contour\"}],\n",
    "           [{\"type\": \"contour\"}, {\"type\": \"contour\"}, {\"type\": \"contour\"}],\n",
    "           [{\"type\": \"contour\"}, {\"type\": \"contour\"}, {\"type\": \"contour\"}],\n",
    "           [{\"type\": \"contour\"}, {\"type\": \"contour\"}, {\"type\": \"contour\"}],\n",
    "           [{\"type\": \"contour\"}, {\"type\": \"contour\"}, {\"type\": \"contour\"}]]\n",
    ")\n",
    "\n",
    "for e, i in enumerate([110, 220, 330]):\n",
    "    for ee, s in enumerate([\"f1\", \"precision\", \"recall\", \"accuracy\", \"roc_auc\"]):\n",
    "        start_idx = e * 110\n",
    "        end_idx = start_idx + 110\n",
    "        df_subset = df.iloc[start_idx:end_idx]\n",
    "        Z = np.array(df_subset.pivot(index='threshold_count', columns='threshold_score', values=f'{s}'))\n",
    "        threshold_scores = sorted(df_subset['threshold_score'].unique())\n",
    "        threshold_counts = sorted(df_subset['threshold_count'].unique())\n",
    "\n",
    "        fig.add_trace(go.Contour(z=Z, x=threshold_scores, y=threshold_counts, colorscale=\"Viridis\", zmin=zmin, zmax=zmax,\n",
    "             colorbar=dict(title=\"F1 score\"), contours=dict(showlabels=True)), row=ee+1, col=e+1)\n",
    "\n",
    "        hover_text = [f\"x: {x}, y: {y}, z: {z}\" for x, y, z in zip(df_subset['threshold_score'],df_subset['threshold_count'],df_subset[f'{s}'])]\n",
    "\n",
    "        fig.add_trace(go.Scatter(\n",
    "            x=df_subset['threshold_score'], y=df_subset['threshold_count'], mode='markers', marker=dict(color='black', symbol='x'),\n",
    "            text=hover_text, hoverinfo=\"text\", showlegend=False), row=ee+1, col=e+1)\n",
    "\n",
    "        df_subset[f'{s}']\n",
    "        max_micro_f1_index = df_subset[f'{s}'].idxmax()  \n",
    "        max_micro_f1_row = df.loc[max_micro_f1_index]\n",
    "        max_threshold_score = max_micro_f1_row['threshold_score']\n",
    "        max_threshold_count = max_micro_f1_row['threshold_count']\n",
    "        max_micro_f1_score = max_micro_f1_row[f'{s}']\n",
    "        \n",
    "        hover_text = [f\"x: {x}, y: {y}, z: {z}\" for x, y, z in zip([max_threshold_score],[max_threshold_count],[max_micro_f1_score])]\n",
    "        fig.add_trace(go.Scatter(x=[max_threshold_score], y=[max_threshold_count], marker=dict(color='red', symbol='x'), showlegend=True if e == 0 and ee == 0 else False,\n",
    "                        mode=\"markers\", text=hover_text, hoverinfo=\"text\", name=\"best_score\", legendgroup=\"best\"), row=ee+1, col=e+1)\n",
    "\n",
    "fig.update_layout(\n",
    "    title=\"Contour Plot of different performance metrics on dessi-mf separated by Presidio analyzer approach\",\n",
    "    legend=dict(x=1,y=1.1),\n",
    "    height=700,\n",
    "    width=1200\n",
    ")\n",
    "\n",
    "fig.show()\n"
   ]
  },
  {
   "cell_type": "markdown",
   "metadata": {},
   "source": [
    " --> All three approaches perform very very similar     \n",
    " --> Best threshold depends on which metric is most important  "
   ]
  },
  {
   "cell_type": "markdown",
   "metadata": {},
   "source": [
    "# Presidio Evaluation Performance on dessi-mf between analyzer and structured"
   ]
  },
  {
   "cell_type": "code",
   "execution_count": null,
   "metadata": {},
   "outputs": [],
   "source": [
    "def predict_analysis_results(data_test, tabular_analysis):\n",
    "    predictions = []\n",
    "    for i in data_test.columns:\n",
    "        if i in tabular_analysis.keys():\n",
    "            if tabular_analysis[i] in NON_PERSONAL:\n",
    "                predictions.append(\"non-personal\")\n",
    "            else:\n",
    "                predictions.append(\"personal\")\n",
    "        else:\n",
    "            predictions.append(\"non-personal\")\n",
    "    return predictions\n",
    "\n",
    "def compute_performance_structured(data_test, data_test_labels, tabular_analysis):\n",
    "    y_pred = predict_analysis_results(data_test, tabular_analysis)\n",
    "    y_pred = [1 if x == \"personal\" else 0 for x in y_pred ]\n",
    "    y_true = data_test_labels[\"label\"].map(lambda x: 1 if x == \"personal\" else 0)\n",
    "    precision = precision_score(y_true, y_pred, zero_division=0.0)\n",
    "    recall = recall_score(y_true, y_pred, zero_division=0.0)\n",
    "    f1 = f1_score(y_true, y_pred, zero_division=0.0)\n",
    "    accuracy = accuracy_score(y_true, y_pred)\n",
    "    roc_auc = roc_auc_score(y_true, y_pred)\n",
    "    return [precision, recall, f1, accuracy, roc_auc]"
   ]
  },
  {
   "cell_type": "code",
   "execution_count": null,
   "metadata": {},
   "outputs": [
    {
     "data": {
      "application/vnd.plotly.v1+json": {
       "config": {
        "plotlyServerURL": "https://plot.ly"
       },
       "data": [
        {
         "legendgroup": "rowwise1",
         "marker": {
          "color": "#EF553B"
         },
         "name": "Presidio rowwise1<br> thresholds 0.1/20",
         "showlegend": true,
         "type": "bar",
         "x": [
          "precision",
          "recall",
          "f1",
          "accuracy",
          "roc_auc"
         ],
         "y": [
          0.7416173570019724,
          0.7477007208550833,
          0.7446466146800347,
          0.7200434251594517,
          0.7172454590527658
         ]
        },
        {
         "legendgroup": "rowwise2",
         "marker": {
          "color": "#00CC96"
         },
         "name": "Presidio rowwise2<br> thresholds 0.1/20",
         "showlegend": true,
         "type": "bar",
         "x": [
          "precision",
          "recall",
          "f1",
          "accuracy",
          "roc_auc"
         ],
         "y": [
          0.7674571805006588,
          0.7239622172508079,
          0.7450754668713225,
          0.7295426787895237,
          0.7301072293665875
         ]
        },
        {
         "legendgroup": "columnwise",
         "marker": {
          "color": "#AB63FA"
         },
         "name": "Presidio columnwise<br> thresholds 0.1/20",
         "showlegend": true,
         "type": "bar",
         "x": [
          "precision",
          "recall",
          "f1",
          "accuracy",
          "roc_auc"
         ],
         "y": [
          0.789054999314223,
          0.7150136713895103,
          0.7502119058486014,
          0.7400597095942462,
          0.7425935063462794
         ]
        },
        {
         "legendgroup": "most_common",
         "marker": {
          "color": "#FFA15A"
         },
         "name": "structured Presidio<br> most_common",
         "showlegend": true,
         "type": "bar",
         "x": [
          "precision",
          "recall",
          "f1",
          "accuracy",
          "roc_auc"
         ],
         "y": [
          0.6129234629861983,
          0.8499875714640815,
          0.71224744844824,
          0.6250508888587325,
          0.6022950409621664
         ]
        },
        {
         "legendgroup": "highest_confidence",
         "marker": {
          "color": "#19D3F3"
         },
         "name": "structured Presidio<br> highest_confidence",
         "showlegend": true,
         "type": "bar",
         "x": [
          "precision",
          "recall",
          "f1",
          "accuracy",
          "roc_auc"
         ],
         "y": [
          0.6182838024011021,
          0.7808849117573949,
          0.6901362038664324,
          0.6171800787081015,
          0.6006187858249019
         ]
        }
       ],
       "layout": {
        "barmode": "group",
        "template": {
         "data": {
          "bar": [
           {
            "error_x": {
             "color": "#2a3f5f"
            },
            "error_y": {
             "color": "#2a3f5f"
            },
            "marker": {
             "line": {
              "color": "#E5ECF6",
              "width": 0.5
             },
             "pattern": {
              "fillmode": "overlay",
              "size": 10,
              "solidity": 0.2
             }
            },
            "type": "bar"
           }
          ],
          "barpolar": [
           {
            "marker": {
             "line": {
              "color": "#E5ECF6",
              "width": 0.5
             },
             "pattern": {
              "fillmode": "overlay",
              "size": 10,
              "solidity": 0.2
             }
            },
            "type": "barpolar"
           }
          ],
          "carpet": [
           {
            "aaxis": {
             "endlinecolor": "#2a3f5f",
             "gridcolor": "white",
             "linecolor": "white",
             "minorgridcolor": "white",
             "startlinecolor": "#2a3f5f"
            },
            "baxis": {
             "endlinecolor": "#2a3f5f",
             "gridcolor": "white",
             "linecolor": "white",
             "minorgridcolor": "white",
             "startlinecolor": "#2a3f5f"
            },
            "type": "carpet"
           }
          ],
          "choropleth": [
           {
            "colorbar": {
             "outlinewidth": 0,
             "ticks": ""
            },
            "type": "choropleth"
           }
          ],
          "contour": [
           {
            "colorbar": {
             "outlinewidth": 0,
             "ticks": ""
            },
            "colorscale": [
             [
              0,
              "#0d0887"
             ],
             [
              0.1111111111111111,
              "#46039f"
             ],
             [
              0.2222222222222222,
              "#7201a8"
             ],
             [
              0.3333333333333333,
              "#9c179e"
             ],
             [
              0.4444444444444444,
              "#bd3786"
             ],
             [
              0.5555555555555556,
              "#d8576b"
             ],
             [
              0.6666666666666666,
              "#ed7953"
             ],
             [
              0.7777777777777778,
              "#fb9f3a"
             ],
             [
              0.8888888888888888,
              "#fdca26"
             ],
             [
              1,
              "#f0f921"
             ]
            ],
            "type": "contour"
           }
          ],
          "contourcarpet": [
           {
            "colorbar": {
             "outlinewidth": 0,
             "ticks": ""
            },
            "type": "contourcarpet"
           }
          ],
          "heatmap": [
           {
            "colorbar": {
             "outlinewidth": 0,
             "ticks": ""
            },
            "colorscale": [
             [
              0,
              "#0d0887"
             ],
             [
              0.1111111111111111,
              "#46039f"
             ],
             [
              0.2222222222222222,
              "#7201a8"
             ],
             [
              0.3333333333333333,
              "#9c179e"
             ],
             [
              0.4444444444444444,
              "#bd3786"
             ],
             [
              0.5555555555555556,
              "#d8576b"
             ],
             [
              0.6666666666666666,
              "#ed7953"
             ],
             [
              0.7777777777777778,
              "#fb9f3a"
             ],
             [
              0.8888888888888888,
              "#fdca26"
             ],
             [
              1,
              "#f0f921"
             ]
            ],
            "type": "heatmap"
           }
          ],
          "heatmapgl": [
           {
            "colorbar": {
             "outlinewidth": 0,
             "ticks": ""
            },
            "colorscale": [
             [
              0,
              "#0d0887"
             ],
             [
              0.1111111111111111,
              "#46039f"
             ],
             [
              0.2222222222222222,
              "#7201a8"
             ],
             [
              0.3333333333333333,
              "#9c179e"
             ],
             [
              0.4444444444444444,
              "#bd3786"
             ],
             [
              0.5555555555555556,
              "#d8576b"
             ],
             [
              0.6666666666666666,
              "#ed7953"
             ],
             [
              0.7777777777777778,
              "#fb9f3a"
             ],
             [
              0.8888888888888888,
              "#fdca26"
             ],
             [
              1,
              "#f0f921"
             ]
            ],
            "type": "heatmapgl"
           }
          ],
          "histogram": [
           {
            "marker": {
             "pattern": {
              "fillmode": "overlay",
              "size": 10,
              "solidity": 0.2
             }
            },
            "type": "histogram"
           }
          ],
          "histogram2d": [
           {
            "colorbar": {
             "outlinewidth": 0,
             "ticks": ""
            },
            "colorscale": [
             [
              0,
              "#0d0887"
             ],
             [
              0.1111111111111111,
              "#46039f"
             ],
             [
              0.2222222222222222,
              "#7201a8"
             ],
             [
              0.3333333333333333,
              "#9c179e"
             ],
             [
              0.4444444444444444,
              "#bd3786"
             ],
             [
              0.5555555555555556,
              "#d8576b"
             ],
             [
              0.6666666666666666,
              "#ed7953"
             ],
             [
              0.7777777777777778,
              "#fb9f3a"
             ],
             [
              0.8888888888888888,
              "#fdca26"
             ],
             [
              1,
              "#f0f921"
             ]
            ],
            "type": "histogram2d"
           }
          ],
          "histogram2dcontour": [
           {
            "colorbar": {
             "outlinewidth": 0,
             "ticks": ""
            },
            "colorscale": [
             [
              0,
              "#0d0887"
             ],
             [
              0.1111111111111111,
              "#46039f"
             ],
             [
              0.2222222222222222,
              "#7201a8"
             ],
             [
              0.3333333333333333,
              "#9c179e"
             ],
             [
              0.4444444444444444,
              "#bd3786"
             ],
             [
              0.5555555555555556,
              "#d8576b"
             ],
             [
              0.6666666666666666,
              "#ed7953"
             ],
             [
              0.7777777777777778,
              "#fb9f3a"
             ],
             [
              0.8888888888888888,
              "#fdca26"
             ],
             [
              1,
              "#f0f921"
             ]
            ],
            "type": "histogram2dcontour"
           }
          ],
          "mesh3d": [
           {
            "colorbar": {
             "outlinewidth": 0,
             "ticks": ""
            },
            "type": "mesh3d"
           }
          ],
          "parcoords": [
           {
            "line": {
             "colorbar": {
              "outlinewidth": 0,
              "ticks": ""
             }
            },
            "type": "parcoords"
           }
          ],
          "pie": [
           {
            "automargin": true,
            "type": "pie"
           }
          ],
          "scatter": [
           {
            "fillpattern": {
             "fillmode": "overlay",
             "size": 10,
             "solidity": 0.2
            },
            "type": "scatter"
           }
          ],
          "scatter3d": [
           {
            "line": {
             "colorbar": {
              "outlinewidth": 0,
              "ticks": ""
             }
            },
            "marker": {
             "colorbar": {
              "outlinewidth": 0,
              "ticks": ""
             }
            },
            "type": "scatter3d"
           }
          ],
          "scattercarpet": [
           {
            "marker": {
             "colorbar": {
              "outlinewidth": 0,
              "ticks": ""
             }
            },
            "type": "scattercarpet"
           }
          ],
          "scattergeo": [
           {
            "marker": {
             "colorbar": {
              "outlinewidth": 0,
              "ticks": ""
             }
            },
            "type": "scattergeo"
           }
          ],
          "scattergl": [
           {
            "marker": {
             "colorbar": {
              "outlinewidth": 0,
              "ticks": ""
             }
            },
            "type": "scattergl"
           }
          ],
          "scattermapbox": [
           {
            "marker": {
             "colorbar": {
              "outlinewidth": 0,
              "ticks": ""
             }
            },
            "type": "scattermapbox"
           }
          ],
          "scatterpolar": [
           {
            "marker": {
             "colorbar": {
              "outlinewidth": 0,
              "ticks": ""
             }
            },
            "type": "scatterpolar"
           }
          ],
          "scatterpolargl": [
           {
            "marker": {
             "colorbar": {
              "outlinewidth": 0,
              "ticks": ""
             }
            },
            "type": "scatterpolargl"
           }
          ],
          "scatterternary": [
           {
            "marker": {
             "colorbar": {
              "outlinewidth": 0,
              "ticks": ""
             }
            },
            "type": "scatterternary"
           }
          ],
          "surface": [
           {
            "colorbar": {
             "outlinewidth": 0,
             "ticks": ""
            },
            "colorscale": [
             [
              0,
              "#0d0887"
             ],
             [
              0.1111111111111111,
              "#46039f"
             ],
             [
              0.2222222222222222,
              "#7201a8"
             ],
             [
              0.3333333333333333,
              "#9c179e"
             ],
             [
              0.4444444444444444,
              "#bd3786"
             ],
             [
              0.5555555555555556,
              "#d8576b"
             ],
             [
              0.6666666666666666,
              "#ed7953"
             ],
             [
              0.7777777777777778,
              "#fb9f3a"
             ],
             [
              0.8888888888888888,
              "#fdca26"
             ],
             [
              1,
              "#f0f921"
             ]
            ],
            "type": "surface"
           }
          ],
          "table": [
           {
            "cells": {
             "fill": {
              "color": "#EBF0F8"
             },
             "line": {
              "color": "white"
             }
            },
            "header": {
             "fill": {
              "color": "#C8D4E3"
             },
             "line": {
              "color": "white"
             }
            },
            "type": "table"
           }
          ]
         },
         "layout": {
          "annotationdefaults": {
           "arrowcolor": "#2a3f5f",
           "arrowhead": 0,
           "arrowwidth": 1
          },
          "autotypenumbers": "strict",
          "coloraxis": {
           "colorbar": {
            "outlinewidth": 0,
            "ticks": ""
           }
          },
          "colorscale": {
           "diverging": [
            [
             0,
             "#8e0152"
            ],
            [
             0.1,
             "#c51b7d"
            ],
            [
             0.2,
             "#de77ae"
            ],
            [
             0.3,
             "#f1b6da"
            ],
            [
             0.4,
             "#fde0ef"
            ],
            [
             0.5,
             "#f7f7f7"
            ],
            [
             0.6,
             "#e6f5d0"
            ],
            [
             0.7,
             "#b8e186"
            ],
            [
             0.8,
             "#7fbc41"
            ],
            [
             0.9,
             "#4d9221"
            ],
            [
             1,
             "#276419"
            ]
           ],
           "sequential": [
            [
             0,
             "#0d0887"
            ],
            [
             0.1111111111111111,
             "#46039f"
            ],
            [
             0.2222222222222222,
             "#7201a8"
            ],
            [
             0.3333333333333333,
             "#9c179e"
            ],
            [
             0.4444444444444444,
             "#bd3786"
            ],
            [
             0.5555555555555556,
             "#d8576b"
            ],
            [
             0.6666666666666666,
             "#ed7953"
            ],
            [
             0.7777777777777778,
             "#fb9f3a"
            ],
            [
             0.8888888888888888,
             "#fdca26"
            ],
            [
             1,
             "#f0f921"
            ]
           ],
           "sequentialminus": [
            [
             0,
             "#0d0887"
            ],
            [
             0.1111111111111111,
             "#46039f"
            ],
            [
             0.2222222222222222,
             "#7201a8"
            ],
            [
             0.3333333333333333,
             "#9c179e"
            ],
            [
             0.4444444444444444,
             "#bd3786"
            ],
            [
             0.5555555555555556,
             "#d8576b"
            ],
            [
             0.6666666666666666,
             "#ed7953"
            ],
            [
             0.7777777777777778,
             "#fb9f3a"
            ],
            [
             0.8888888888888888,
             "#fdca26"
            ],
            [
             1,
             "#f0f921"
            ]
           ]
          },
          "colorway": [
           "#636efa",
           "#EF553B",
           "#00cc96",
           "#ab63fa",
           "#FFA15A",
           "#19d3f3",
           "#FF6692",
           "#B6E880",
           "#FF97FF",
           "#FECB52"
          ],
          "font": {
           "color": "#2a3f5f"
          },
          "geo": {
           "bgcolor": "white",
           "lakecolor": "white",
           "landcolor": "#E5ECF6",
           "showlakes": true,
           "showland": true,
           "subunitcolor": "white"
          },
          "hoverlabel": {
           "align": "left"
          },
          "hovermode": "closest",
          "mapbox": {
           "style": "light"
          },
          "paper_bgcolor": "white",
          "plot_bgcolor": "#E5ECF6",
          "polar": {
           "angularaxis": {
            "gridcolor": "white",
            "linecolor": "white",
            "ticks": ""
           },
           "bgcolor": "#E5ECF6",
           "radialaxis": {
            "gridcolor": "white",
            "linecolor": "white",
            "ticks": ""
           }
          },
          "scene": {
           "xaxis": {
            "backgroundcolor": "#E5ECF6",
            "gridcolor": "white",
            "gridwidth": 2,
            "linecolor": "white",
            "showbackground": true,
            "ticks": "",
            "zerolinecolor": "white"
           },
           "yaxis": {
            "backgroundcolor": "#E5ECF6",
            "gridcolor": "white",
            "gridwidth": 2,
            "linecolor": "white",
            "showbackground": true,
            "ticks": "",
            "zerolinecolor": "white"
           },
           "zaxis": {
            "backgroundcolor": "#E5ECF6",
            "gridcolor": "white",
            "gridwidth": 2,
            "linecolor": "white",
            "showbackground": true,
            "ticks": "",
            "zerolinecolor": "white"
           }
          },
          "shapedefaults": {
           "line": {
            "color": "#2a3f5f"
           }
          },
          "ternary": {
           "aaxis": {
            "gridcolor": "white",
            "linecolor": "white",
            "ticks": ""
           },
           "baxis": {
            "gridcolor": "white",
            "linecolor": "white",
            "ticks": ""
           },
           "bgcolor": "#E5ECF6",
           "caxis": {
            "gridcolor": "white",
            "linecolor": "white",
            "ticks": ""
           }
          },
          "title": {
           "x": 0.05
          },
          "xaxis": {
           "automargin": true,
           "gridcolor": "white",
           "linecolor": "white",
           "ticks": "",
           "title": {
            "standoff": 15
           },
           "zerolinecolor": "white",
           "zerolinewidth": 2
          },
          "yaxis": {
           "automargin": true,
           "gridcolor": "white",
           "linecolor": "white",
           "ticks": "",
           "title": {
            "standoff": 15
           },
           "zerolinecolor": "white",
           "zerolinewidth": 2
          }
         }
        },
        "title": {
         "text": "Performance Metrics Comparison of all Presidio approaches"
        },
        "width": 1200,
        "xaxis": {
         "title": {
          "text": "Metrics"
         }
        },
        "yaxis": {
         "title": {
          "text": "Score"
         }
        }
       }
      }
     },
     "metadata": {},
     "output_type": "display_data"
    }
   ],
   "source": [
    "fig = go.Figure()\n",
    "colors = [\"#636EFA\", \"#EF553B\", \"#00CC96\", \"#AB63FA\", \"#FFA15A\", \"#19D3F3\"]\n",
    "for ee, (analyzer, analyzer_name) in enumerate(zip([df_rowwise1, df_rowwise2, df_columnwise], [\"rowwise1\", \"rowwise2\", \"columnwise\"])):\n",
    "    df_presidio = analyzer.loc[(analyzer[\"threshold_score\"] == \"0.1\") & (analyzer[\"threshold_count\"] == \"20\")]\n",
    "    df_presidio = df_presidio.iloc[:,[4,5,3,6,7]]\n",
    "    fig.add_trace(go.Bar(x=df_presidio.columns, y=df_presidio.values[0], name=f\"Presidio {analyzer_name}<br> thresholds 0.1/20\", legendgroup=analyzer_name, \n",
    "                            showlegend=True, marker=dict(color=colors[ee+1])))\n",
    "\n",
    "for eee, strategy in enumerate([\"most_common\", \"highest_confidence\"]):\n",
    "    with open(f\"../predictions/binary_results/dessi-mf/{strategy}.json\", \"rb\") as file:\n",
    "        tabular_analysis = json.load(file)\n",
    "    performance = compute_performance_structured(own_data, own_data_labels, tabular_analysis)\n",
    "    fig.add_trace(go.Bar(x=df_presidio.columns, y=performance, name=f\"structured Presidio<br> {strategy}\", legendgroup=strategy, showlegend=True, \n",
    "                    marker=dict(color=colors[4+eee])))\n",
    "fig.update_layout(title=\"Performance Metrics Comparison of all Presidio approaches\", barmode='group', width=1200)\n",
    "fig.update_xaxes(title_text=\"Metrics\")\n",
    "fig.update_yaxes(title_text=\"Score\")\n",
    "fig.show()"
   ]
  },
  {
   "cell_type": "code",
   "execution_count": null,
   "metadata": {},
   "outputs": [
    {
     "name": "stdout",
     "output_type": "stream",
     "text": [
      "Threshold score: 0.1\n",
      "Threshold count: 20\n"
     ]
    },
    {
     "data": {
      "application/vnd.plotly.v1+json": {
       "config": {
        "plotlyServerURL": "https://plot.ly"
       },
       "data": [
        {
         "showlegend": false,
         "type": "bar",
         "x": [
          "weighted Precision",
          "weighted Recall",
          "weighted F1 Score",
          "Accuracy",
          "AUC-ROC"
         ],
         "xaxis": "x",
         "y": [
          0.7450270043087059,
          0.7400597095942462,
          0.7406018206467986,
          0.7400597095942462,
          0.7425935063462794
         ],
         "yaxis": "y"
        },
        {
         "colorscale": [
          [
           0,
           "rgb(247,251,255)"
          ],
          [
           0.125,
           "rgb(222,235,247)"
          ],
          [
           0.25,
           "rgb(198,219,239)"
          ],
          [
           0.375,
           "rgb(158,202,225)"
          ],
          [
           0.5,
           "rgb(107,174,214)"
          ],
          [
           0.625,
           "rgb(66,146,198)"
          ],
          [
           0.75,
           "rgb(33,113,181)"
          ],
          [
           0.875,
           "rgb(8,81,156)"
          ],
          [
           1,
           "rgb(8,48,107)"
          ]
         ],
         "showscale": false,
         "text": [
          [
           "5753<br>0.72",
           "2293<br>0.28"
          ],
          [
           "1538<br>0.23",
           "5154<br>0.77"
          ]
         ],
         "textfont": {
          "size": 20
         },
         "texttemplate": "%{text}",
         "type": "heatmap",
         "x": [
          "Pred: personal",
          "Pred: non-personal"
         ],
         "xaxis": "x2",
         "y": [
          "True: personal",
          "True: non-personal"
         ],
         "yaxis": "y2",
         "z": [
          [
           5753,
           2293
          ],
          [
           1538,
           5154
          ]
         ]
        }
       ],
       "layout": {
        "annotations": [
         {
          "font": {
           "size": 16
          },
          "showarrow": false,
          "text": "Evaluation Metrics",
          "x": 0.225,
          "xanchor": "center",
          "xref": "paper",
          "y": 1,
          "yanchor": "bottom",
          "yref": "paper"
         },
         {
          "font": {
           "size": 16
          },
          "showarrow": false,
          "text": "Confusion Matrix",
          "x": 0.775,
          "xanchor": "center",
          "xref": "paper",
          "y": 1,
          "yanchor": "bottom",
          "yref": "paper"
         }
        ],
        "height": 500,
        "showlegend": false,
        "template": {
         "data": {
          "bar": [
           {
            "error_x": {
             "color": "#2a3f5f"
            },
            "error_y": {
             "color": "#2a3f5f"
            },
            "marker": {
             "line": {
              "color": "#E5ECF6",
              "width": 0.5
             },
             "pattern": {
              "fillmode": "overlay",
              "size": 10,
              "solidity": 0.2
             }
            },
            "type": "bar"
           }
          ],
          "barpolar": [
           {
            "marker": {
             "line": {
              "color": "#E5ECF6",
              "width": 0.5
             },
             "pattern": {
              "fillmode": "overlay",
              "size": 10,
              "solidity": 0.2
             }
            },
            "type": "barpolar"
           }
          ],
          "carpet": [
           {
            "aaxis": {
             "endlinecolor": "#2a3f5f",
             "gridcolor": "white",
             "linecolor": "white",
             "minorgridcolor": "white",
             "startlinecolor": "#2a3f5f"
            },
            "baxis": {
             "endlinecolor": "#2a3f5f",
             "gridcolor": "white",
             "linecolor": "white",
             "minorgridcolor": "white",
             "startlinecolor": "#2a3f5f"
            },
            "type": "carpet"
           }
          ],
          "choropleth": [
           {
            "colorbar": {
             "outlinewidth": 0,
             "ticks": ""
            },
            "type": "choropleth"
           }
          ],
          "contour": [
           {
            "colorbar": {
             "outlinewidth": 0,
             "ticks": ""
            },
            "colorscale": [
             [
              0,
              "#0d0887"
             ],
             [
              0.1111111111111111,
              "#46039f"
             ],
             [
              0.2222222222222222,
              "#7201a8"
             ],
             [
              0.3333333333333333,
              "#9c179e"
             ],
             [
              0.4444444444444444,
              "#bd3786"
             ],
             [
              0.5555555555555556,
              "#d8576b"
             ],
             [
              0.6666666666666666,
              "#ed7953"
             ],
             [
              0.7777777777777778,
              "#fb9f3a"
             ],
             [
              0.8888888888888888,
              "#fdca26"
             ],
             [
              1,
              "#f0f921"
             ]
            ],
            "type": "contour"
           }
          ],
          "contourcarpet": [
           {
            "colorbar": {
             "outlinewidth": 0,
             "ticks": ""
            },
            "type": "contourcarpet"
           }
          ],
          "heatmap": [
           {
            "colorbar": {
             "outlinewidth": 0,
             "ticks": ""
            },
            "colorscale": [
             [
              0,
              "#0d0887"
             ],
             [
              0.1111111111111111,
              "#46039f"
             ],
             [
              0.2222222222222222,
              "#7201a8"
             ],
             [
              0.3333333333333333,
              "#9c179e"
             ],
             [
              0.4444444444444444,
              "#bd3786"
             ],
             [
              0.5555555555555556,
              "#d8576b"
             ],
             [
              0.6666666666666666,
              "#ed7953"
             ],
             [
              0.7777777777777778,
              "#fb9f3a"
             ],
             [
              0.8888888888888888,
              "#fdca26"
             ],
             [
              1,
              "#f0f921"
             ]
            ],
            "type": "heatmap"
           }
          ],
          "heatmapgl": [
           {
            "colorbar": {
             "outlinewidth": 0,
             "ticks": ""
            },
            "colorscale": [
             [
              0,
              "#0d0887"
             ],
             [
              0.1111111111111111,
              "#46039f"
             ],
             [
              0.2222222222222222,
              "#7201a8"
             ],
             [
              0.3333333333333333,
              "#9c179e"
             ],
             [
              0.4444444444444444,
              "#bd3786"
             ],
             [
              0.5555555555555556,
              "#d8576b"
             ],
             [
              0.6666666666666666,
              "#ed7953"
             ],
             [
              0.7777777777777778,
              "#fb9f3a"
             ],
             [
              0.8888888888888888,
              "#fdca26"
             ],
             [
              1,
              "#f0f921"
             ]
            ],
            "type": "heatmapgl"
           }
          ],
          "histogram": [
           {
            "marker": {
             "pattern": {
              "fillmode": "overlay",
              "size": 10,
              "solidity": 0.2
             }
            },
            "type": "histogram"
           }
          ],
          "histogram2d": [
           {
            "colorbar": {
             "outlinewidth": 0,
             "ticks": ""
            },
            "colorscale": [
             [
              0,
              "#0d0887"
             ],
             [
              0.1111111111111111,
              "#46039f"
             ],
             [
              0.2222222222222222,
              "#7201a8"
             ],
             [
              0.3333333333333333,
              "#9c179e"
             ],
             [
              0.4444444444444444,
              "#bd3786"
             ],
             [
              0.5555555555555556,
              "#d8576b"
             ],
             [
              0.6666666666666666,
              "#ed7953"
             ],
             [
              0.7777777777777778,
              "#fb9f3a"
             ],
             [
              0.8888888888888888,
              "#fdca26"
             ],
             [
              1,
              "#f0f921"
             ]
            ],
            "type": "histogram2d"
           }
          ],
          "histogram2dcontour": [
           {
            "colorbar": {
             "outlinewidth": 0,
             "ticks": ""
            },
            "colorscale": [
             [
              0,
              "#0d0887"
             ],
             [
              0.1111111111111111,
              "#46039f"
             ],
             [
              0.2222222222222222,
              "#7201a8"
             ],
             [
              0.3333333333333333,
              "#9c179e"
             ],
             [
              0.4444444444444444,
              "#bd3786"
             ],
             [
              0.5555555555555556,
              "#d8576b"
             ],
             [
              0.6666666666666666,
              "#ed7953"
             ],
             [
              0.7777777777777778,
              "#fb9f3a"
             ],
             [
              0.8888888888888888,
              "#fdca26"
             ],
             [
              1,
              "#f0f921"
             ]
            ],
            "type": "histogram2dcontour"
           }
          ],
          "mesh3d": [
           {
            "colorbar": {
             "outlinewidth": 0,
             "ticks": ""
            },
            "type": "mesh3d"
           }
          ],
          "parcoords": [
           {
            "line": {
             "colorbar": {
              "outlinewidth": 0,
              "ticks": ""
             }
            },
            "type": "parcoords"
           }
          ],
          "pie": [
           {
            "automargin": true,
            "type": "pie"
           }
          ],
          "scatter": [
           {
            "fillpattern": {
             "fillmode": "overlay",
             "size": 10,
             "solidity": 0.2
            },
            "type": "scatter"
           }
          ],
          "scatter3d": [
           {
            "line": {
             "colorbar": {
              "outlinewidth": 0,
              "ticks": ""
             }
            },
            "marker": {
             "colorbar": {
              "outlinewidth": 0,
              "ticks": ""
             }
            },
            "type": "scatter3d"
           }
          ],
          "scattercarpet": [
           {
            "marker": {
             "colorbar": {
              "outlinewidth": 0,
              "ticks": ""
             }
            },
            "type": "scattercarpet"
           }
          ],
          "scattergeo": [
           {
            "marker": {
             "colorbar": {
              "outlinewidth": 0,
              "ticks": ""
             }
            },
            "type": "scattergeo"
           }
          ],
          "scattergl": [
           {
            "marker": {
             "colorbar": {
              "outlinewidth": 0,
              "ticks": ""
             }
            },
            "type": "scattergl"
           }
          ],
          "scattermapbox": [
           {
            "marker": {
             "colorbar": {
              "outlinewidth": 0,
              "ticks": ""
             }
            },
            "type": "scattermapbox"
           }
          ],
          "scatterpolar": [
           {
            "marker": {
             "colorbar": {
              "outlinewidth": 0,
              "ticks": ""
             }
            },
            "type": "scatterpolar"
           }
          ],
          "scatterpolargl": [
           {
            "marker": {
             "colorbar": {
              "outlinewidth": 0,
              "ticks": ""
             }
            },
            "type": "scatterpolargl"
           }
          ],
          "scatterternary": [
           {
            "marker": {
             "colorbar": {
              "outlinewidth": 0,
              "ticks": ""
             }
            },
            "type": "scatterternary"
           }
          ],
          "surface": [
           {
            "colorbar": {
             "outlinewidth": 0,
             "ticks": ""
            },
            "colorscale": [
             [
              0,
              "#0d0887"
             ],
             [
              0.1111111111111111,
              "#46039f"
             ],
             [
              0.2222222222222222,
              "#7201a8"
             ],
             [
              0.3333333333333333,
              "#9c179e"
             ],
             [
              0.4444444444444444,
              "#bd3786"
             ],
             [
              0.5555555555555556,
              "#d8576b"
             ],
             [
              0.6666666666666666,
              "#ed7953"
             ],
             [
              0.7777777777777778,
              "#fb9f3a"
             ],
             [
              0.8888888888888888,
              "#fdca26"
             ],
             [
              1,
              "#f0f921"
             ]
            ],
            "type": "surface"
           }
          ],
          "table": [
           {
            "cells": {
             "fill": {
              "color": "#EBF0F8"
             },
             "line": {
              "color": "white"
             }
            },
            "header": {
             "fill": {
              "color": "#C8D4E3"
             },
             "line": {
              "color": "white"
             }
            },
            "type": "table"
           }
          ]
         },
         "layout": {
          "annotationdefaults": {
           "arrowcolor": "#2a3f5f",
           "arrowhead": 0,
           "arrowwidth": 1
          },
          "autotypenumbers": "strict",
          "coloraxis": {
           "colorbar": {
            "outlinewidth": 0,
            "ticks": ""
           }
          },
          "colorscale": {
           "diverging": [
            [
             0,
             "#8e0152"
            ],
            [
             0.1,
             "#c51b7d"
            ],
            [
             0.2,
             "#de77ae"
            ],
            [
             0.3,
             "#f1b6da"
            ],
            [
             0.4,
             "#fde0ef"
            ],
            [
             0.5,
             "#f7f7f7"
            ],
            [
             0.6,
             "#e6f5d0"
            ],
            [
             0.7,
             "#b8e186"
            ],
            [
             0.8,
             "#7fbc41"
            ],
            [
             0.9,
             "#4d9221"
            ],
            [
             1,
             "#276419"
            ]
           ],
           "sequential": [
            [
             0,
             "#0d0887"
            ],
            [
             0.1111111111111111,
             "#46039f"
            ],
            [
             0.2222222222222222,
             "#7201a8"
            ],
            [
             0.3333333333333333,
             "#9c179e"
            ],
            [
             0.4444444444444444,
             "#bd3786"
            ],
            [
             0.5555555555555556,
             "#d8576b"
            ],
            [
             0.6666666666666666,
             "#ed7953"
            ],
            [
             0.7777777777777778,
             "#fb9f3a"
            ],
            [
             0.8888888888888888,
             "#fdca26"
            ],
            [
             1,
             "#f0f921"
            ]
           ],
           "sequentialminus": [
            [
             0,
             "#0d0887"
            ],
            [
             0.1111111111111111,
             "#46039f"
            ],
            [
             0.2222222222222222,
             "#7201a8"
            ],
            [
             0.3333333333333333,
             "#9c179e"
            ],
            [
             0.4444444444444444,
             "#bd3786"
            ],
            [
             0.5555555555555556,
             "#d8576b"
            ],
            [
             0.6666666666666666,
             "#ed7953"
            ],
            [
             0.7777777777777778,
             "#fb9f3a"
            ],
            [
             0.8888888888888888,
             "#fdca26"
            ],
            [
             1,
             "#f0f921"
            ]
           ]
          },
          "colorway": [
           "#636efa",
           "#EF553B",
           "#00cc96",
           "#ab63fa",
           "#FFA15A",
           "#19d3f3",
           "#FF6692",
           "#B6E880",
           "#FF97FF",
           "#FECB52"
          ],
          "font": {
           "color": "#2a3f5f"
          },
          "geo": {
           "bgcolor": "white",
           "lakecolor": "white",
           "landcolor": "#E5ECF6",
           "showlakes": true,
           "showland": true,
           "subunitcolor": "white"
          },
          "hoverlabel": {
           "align": "left"
          },
          "hovermode": "closest",
          "mapbox": {
           "style": "light"
          },
          "paper_bgcolor": "white",
          "plot_bgcolor": "#E5ECF6",
          "polar": {
           "angularaxis": {
            "gridcolor": "white",
            "linecolor": "white",
            "ticks": ""
           },
           "bgcolor": "#E5ECF6",
           "radialaxis": {
            "gridcolor": "white",
            "linecolor": "white",
            "ticks": ""
           }
          },
          "scene": {
           "xaxis": {
            "backgroundcolor": "#E5ECF6",
            "gridcolor": "white",
            "gridwidth": 2,
            "linecolor": "white",
            "showbackground": true,
            "ticks": "",
            "zerolinecolor": "white"
           },
           "yaxis": {
            "backgroundcolor": "#E5ECF6",
            "gridcolor": "white",
            "gridwidth": 2,
            "linecolor": "white",
            "showbackground": true,
            "ticks": "",
            "zerolinecolor": "white"
           },
           "zaxis": {
            "backgroundcolor": "#E5ECF6",
            "gridcolor": "white",
            "gridwidth": 2,
            "linecolor": "white",
            "showbackground": true,
            "ticks": "",
            "zerolinecolor": "white"
           }
          },
          "shapedefaults": {
           "line": {
            "color": "#2a3f5f"
           }
          },
          "ternary": {
           "aaxis": {
            "gridcolor": "white",
            "linecolor": "white",
            "ticks": ""
           },
           "baxis": {
            "gridcolor": "white",
            "linecolor": "white",
            "ticks": ""
           },
           "bgcolor": "#E5ECF6",
           "caxis": {
            "gridcolor": "white",
            "linecolor": "white",
            "ticks": ""
           }
          },
          "title": {
           "x": 0.05
          },
          "xaxis": {
           "automargin": true,
           "gridcolor": "white",
           "linecolor": "white",
           "ticks": "",
           "title": {
            "standoff": 15
           },
           "zerolinecolor": "white",
           "zerolinewidth": 2
          },
          "yaxis": {
           "automargin": true,
           "gridcolor": "white",
           "linecolor": "white",
           "ticks": "",
           "title": {
            "standoff": 15
           },
           "zerolinecolor": "white",
           "zerolinewidth": 2
          }
         }
        },
        "title": {
         "text": "Confusion Matrix and Evaluation Metrics"
        },
        "width": 1000,
        "xaxis": {
         "anchor": "y",
         "domain": [
          0,
          0.45
         ]
        },
        "xaxis2": {
         "anchor": "y2",
         "domain": [
          0.55,
          1
         ]
        },
        "yaxis": {
         "anchor": "x",
         "domain": [
          0,
          1
         ]
        },
        "yaxis2": {
         "anchor": "x2",
         "domain": [
          0,
          1
         ]
        }
       }
      }
     },
     "metadata": {},
     "output_type": "display_data"
    }
   ],
   "source": [
    "def plot_presidio_results(data_personal, results_personal):\n",
    "    y_true = data_personal[\"label\"].values\n",
    "    y_pred = results_personal.loc[results_personal.shape[0]-1].values\n",
    "    y_true_bin = [1 if label == \"personal\" else 0 for label in y_true]\n",
    "    y_pred_bin = [1 if label == \"personal\" else 0 for label in y_pred]\n",
    "\n",
    "    cm = confusion_matrix(y_true, y_pred, labels=[\"personal\", \"non-personal\"])\n",
    "    cm_norm = confusion_matrix(y_true, y_pred, labels=[\"personal\", \"non-personal\"], normalize=\"true\")\n",
    "\n",
    "    accuracy = accuracy_score(y_true, y_pred)\n",
    "    f1 = f1_score(y_true, y_pred, average=\"weighted\")\n",
    "    precision = precision_score(y_true, y_pred, average=\"weighted\")\n",
    "    recall = recall_score(y_true, y_pred, average=\"weighted\")\n",
    "    auc_roc = roc_auc_score(y_true_bin, y_pred_bin)\n",
    "\n",
    "    fig = make_subplots(\n",
    "        rows=1, cols=2, \n",
    "        subplot_titles=[\"Evaluation Metrics\", \"Confusion Matrix\"]\n",
    "    )\n",
    "\n",
    "    metrics = {\n",
    "        \"weighted Precision\": precision,\n",
    "        \"weighted Recall\": recall,\n",
    "        \"weighted F1 Score\": f1,\n",
    "        \"Accuracy\": accuracy,\n",
    "        \"AUC-ROC\": auc_roc\n",
    "    }\n",
    "\n",
    "    fig.add_trace(go.Bar(\n",
    "        x=list(metrics.keys()),\n",
    "        y=list(metrics.values()), \n",
    "        showlegend=False\n",
    "    ), row=1, col=1)\n",
    "\n",
    "    text_values = [\n",
    "        [f\"{cm[0,0]}<br>{cm_norm[0,0]:.2f}\", f\"{cm[0,1]}<br>{cm_norm[0,1]:.2f}\"],\n",
    "        [f\"{cm[1,0]}<br>{cm_norm[1,0]:.2f}\", f\"{cm[1,1]}<br>{cm_norm[1,1]:.2f}\"]\n",
    "    ]\n",
    "    cm_heatmap = go.Heatmap(\n",
    "        z=cm, \n",
    "        x=[\"Pred: personal\", \"Pred: non-personal\"], \n",
    "        y=[\"True: personal\", \"True: non-personal\"], \n",
    "        colorscale=\"Blues\", \n",
    "        showscale=False,\n",
    "        text=text_values, \n",
    "        texttemplate=\"%{text}\",\n",
    "        textfont={\"size\":20},\n",
    "    )\n",
    "\n",
    "\n",
    "    fig.add_trace(cm_heatmap, row=1, col=2)\n",
    "\n",
    "    # Layout-Einstellungen\n",
    "    fig.update_layout(\n",
    "        title=\"Confusion Matrix and Evaluation Metrics\",\n",
    "        height=500, \n",
    "        width=1000,\n",
    "        showlegend=False\n",
    "    )\n",
    "\n",
    "    # Anzeigen des Plots\n",
    "    fig.show()\n",
    "results_columnwise = build_dataframe_binary(results_columnwise_all_binary, 0.1, 20)\n",
    "plot_presidio_results(own_data_labels, results_columnwise)"
   ]
  },
  {
   "cell_type": "code",
   "execution_count": null,
   "metadata": {},
   "outputs": [
    {
     "ename": "NameError",
     "evalue": "name 'pd' is not defined",
     "output_type": "error",
     "traceback": [
      "\u001b[0;31m---------------------------------------------------------------------------\u001b[0m",
      "\u001b[0;31mNameError\u001b[0m                                 Traceback (most recent call last)",
      "Cell \u001b[0;32mIn[1], line 1\u001b[0m\n\u001b[0;32m----> 1\u001b[0m results_df_own_data \u001b[38;5;241m=\u001b[39m pd\u001b[38;5;241m.\u001b[39mDataFrame({\n\u001b[1;32m      2\u001b[0m     \u001b[38;5;124m\"\u001b[39m\u001b[38;5;124mColumn\u001b[39m\u001b[38;5;124m\"\u001b[39m: own_data\u001b[38;5;241m.\u001b[39mcolumns,\n\u001b[1;32m      3\u001b[0m     \u001b[38;5;124m\"\u001b[39m\u001b[38;5;124mPrediction\u001b[39m\u001b[38;5;124m\"\u001b[39m: results_columnwise\u001b[38;5;241m.\u001b[39mloc[results_columnwise\u001b[38;5;241m.\u001b[39mshape[\u001b[38;5;241m0\u001b[39m]\u001b[38;5;241m-\u001b[39m\u001b[38;5;241m1\u001b[39m]\u001b[38;5;241m.\u001b[39mvalues,\n\u001b[1;32m      4\u001b[0m     \u001b[38;5;124m\"\u001b[39m\u001b[38;5;124mTrue Label\u001b[39m\u001b[38;5;124m\"\u001b[39m: own_data_labels[\u001b[38;5;124m\"\u001b[39m\u001b[38;5;124mlabel\u001b[39m\u001b[38;5;124m\"\u001b[39m]\u001b[38;5;241m.\u001b[39mvalues,\n\u001b[1;32m      5\u001b[0m     \u001b[38;5;124m\"\u001b[39m\u001b[38;5;124mClasses\u001b[39m\u001b[38;5;124m\"\u001b[39m: own_data_classes[\u001b[38;5;124m\"\u001b[39m\u001b[38;5;124mclass\u001b[39m\u001b[38;5;124m\"\u001b[39m],\n\u001b[1;32m      6\u001b[0m     \u001b[38;5;124m\"\u001b[39m\u001b[38;5;124mDataset\u001b[39m\u001b[38;5;124m\"\u001b[39m: own_data_datasets[\u001b[38;5;124m\"\u001b[39m\u001b[38;5;124mdataset\u001b[39m\u001b[38;5;124m\"\u001b[39m]\n\u001b[1;32m      7\u001b[0m })\n",
      "\u001b[0;31mNameError\u001b[0m: name 'pd' is not defined"
     ]
    }
   ],
   "source": [
    "results_df_own_data = pd.DataFrame({\n",
    "    \"Column\": own_data.columns,\n",
    "    \"Prediction\": results_columnwise.loc[results_columnwise.shape[0]-1].values,\n",
    "    \"True Label\": own_data_labels[\"label\"].values,\n",
    "    \"Classes\": own_data_classes[\"class\"],\n",
    "    \"Dataset\": own_data_datasets[\"dataset\"]\n",
    "})"
   ]
  },
  {
   "cell_type": "markdown",
   "metadata": {},
   "source": [
    "## Evaluation presidio report"
   ]
  },
  {
   "cell_type": "code",
   "execution_count": null,
   "metadata": {},
   "outputs": [],
   "source": [
    "y_true_dessi1 = results_df_own_data[\"True Label\"].values\n",
    "y_pred_dessi1 = results_df_own_data[\"Prediction\"].values\n",
    "target_names = ['non-personal', 'personal']\n",
    "print(classification_report(y_true_dessi1, y_pred_dessi1, target_names=target_names))\n",
    "f1_dessi1_micro = f1_score(y_true_dessi1, y_pred_dessi1, average=\"micro\")\n",
    "print(f'micro f1:{f1_dessi1_micro}')\n",
    "f1_dessi1_macro = f1_score(y_true_dessi1, y_pred_dessi1, average=\"macro\")\n",
    "print(f'macro f1:{f1_dessi1_macro}')\n",
    "f1_dessi1_weighted = f1_score(y_true_dessi1, y_pred_dessi1, average=\"weighted\")\n",
    "print(f'weighted f1:{f1_dessi1_weighted}')"
   ]
  },
  {
   "cell_type": "code",
   "execution_count": 14,
   "metadata": {},
   "outputs": [],
   "source": [
    "CLASS_NAMES = results_df_own_data[\"Classes\"].unique()\n",
    "CLASS_NAMES = [a.lower().split(\"_\")[0] for a in CLASS_NAMES]\n",
    "\n",
    "def is_valid_word(word):\n",
    "    return word.lower().split(\"_\")[0] in CLASS_NAMES\n",
    "\n",
    "def create_analysis_plot(results_df, dataset=\"own_data\"):\n",
    "    cla_new, lan = [], []\n",
    "    for i in range(len(results_df[\"Classes\"])):\n",
    "        if \"mixed\" in results_df.iloc[i, 3] or \"de_DE\" in results_df.iloc[i, 3] or \"fr_FR\" in results_df.iloc[i, 3]:\n",
    "            cla_new.append(results_df.iloc[i, 3][:-6])\n",
    "        elif \"_en\" in results_df.iloc[i, 3] or \"_de\" in results_df.iloc[i, 3] or \"_fr\" in results_df.iloc[i, 3] or \"_it\" in results_df.iloc[i,3\n",
    "                                                                        ] or \"_zh\" in results_df.iloc[i,3]:\n",
    "            cla_new.append(results_df.iloc[i, 3][:-3])\n",
    "        else:\n",
    "            cla_new.append(results_df.iloc[i, 3])\n",
    "            \n",
    "        if \"mixed\" in results_df.iloc[i, 3]:\n",
    "            lan.append(\"mixed language\")\n",
    "        elif \"_fr\" == results_df.iloc[i,3][-3:].lower():\n",
    "            lan.append(\"french\")\n",
    "        elif \"_it\" == results_df.iloc[i,3][-3:].lower():\n",
    "            lan.append(\"italian\")\n",
    "        elif \"_zh\" == results_df.iloc[i,3][-3:].lower():\n",
    "            lan.append(\"chinese\")\n",
    "        elif \"_de\" == results_df.iloc[i,3][-3:].lower():\n",
    "            lan.append(\"german\")\n",
    "        elif \"_en\" == results_df.iloc[i,3][-3:].lower():\n",
    "            lan.append(\"english\")\n",
    "        else:\n",
    "            lan.append(\"dessi data\")\n",
    "    results_df[\"Classes_new\"] = cla_new\n",
    "    results_df[\"Language\"] = lan\n",
    "    \n",
    "\n",
    "    accuracies_lan = {}\n",
    "    for i in results_df[\"Language\"].unique():\n",
    "        lan_df = results_df.loc[results_df[\"Language\"] == i]\n",
    "        accuracies_lan[i] = accuracy_score(lan_df[\"True Label\"], lan_df[\"Prediction\"])\n",
    "    accuracies_cla = {}\n",
    "    for i in results_df[\"Classes_new\"].unique():\n",
    "        cla_df = results_df.loc[results_df[\"Classes_new\"] == i]\n",
    "        accuracies_cla[i] = accuracy_score(cla_df[\"True Label\"], cla_df[\"Prediction\"])\n",
    "    accuracies_dat = {}\n",
    "    for i in results_df[\"Dataset\"].unique():\n",
    "        dat_df = results_df.loc[results_df[\"Dataset\"] == i]\n",
    "        accuracies_dat[i] = accuracy_score(dat_df[\"True Label\"], dat_df[\"Prediction\"])\n",
    "    accuracies_col = {}\n",
    "    ind = []\n",
    "    for i in range(results_df.shape[0]):\n",
    "        if is_valid_word(results_df.iloc[i, 0]):\n",
    "            ind.append(i)\n",
    "    accuracies_col[\"valid_col_names\"] = accuracy_score(results_df.iloc[ind, 2], results_df.iloc[ind, 1])\n",
    "    accuracies_col[\"invalid_col_names\"] = accuracy_score(results_df.iloc[[a for a in range(results_df.shape[0]) if a not in ind], 2], \n",
    "                                                        results_df.iloc[[a for a in range(results_df.shape[0]) if a not in ind], 1])\n",
    "\n",
    "    accuracies_cla = dict(sorted(accuracies_cla.items(), key=lambda item: item[1], reverse=True))\n",
    "    accuracies_lan = dict(sorted(accuracies_lan.items(), key=lambda item: item[1], reverse=True))\n",
    "    accuracies_col = dict(sorted(accuracies_col.items(), key=lambda item: item[1], reverse=True))\n",
    "    accuracies_dat = dict(sorted(accuracies_dat.items(), key=lambda item: item[1], reverse=True))\n",
    "\n",
    "\n",
    "    fig = make_subplots(rows=3, cols=1, subplot_titles=[\"Accuracy per Class\", \"Number of correct predictions per Class\", \"Number of false predictions per Class\"],\n",
    "                        shared_xaxes=True)\n",
    "    fig.add_trace(go.Bar(\n",
    "        x=list(accuracies_cla.keys()),\n",
    "        y=list(accuracies_cla.values()),\n",
    "        marker=dict(color=\"black\"),\n",
    "        showlegend=False\n",
    "    ))\n",
    "    \n",
    "    colors = [\n",
    "    \"#d62728\",  # Red (High Saturation)\n",
    "    \"#ff9896\",  # Red (Low Saturation)\n",
    "    \"#1f77b4\",  # Blue (High Saturation)\n",
    "    \"#aec7e8\",  # Blue (Low Saturation)\n",
    "    \"#ff7f0e\",  # Orange (High Saturation)\n",
    "    \"#ffbb78\",  # Orange (Low Saturation)\n",
    "    \"#2ca02c\",  # Green (High Saturation)\n",
    "    \"#98df8a\",  # Green (Low Saturation)\n",
    "    \"#9467bd\",  # Purple (High Saturation)\n",
    "    \"#c5b0d5\",  # Purple (Low Saturation)\n",
    "    ]\n",
    "\n",
    "    languages = ['english', 'french', 'german', 'mixed language', 'dessi data'] if dataset != \"two_languages\" else [\"italian\", \"chinese\"]\n",
    "    for bool_val in [True, False]:\n",
    "        for e, language in enumerate(languages):\n",
    "            lan_df = results_df.loc[results_df[\"Language\"] == language]\n",
    "            accuracies_cla = {}\n",
    "            for ee, col_valid in enumerate([True, False]):\n",
    "                percentage_of_this_language = []\n",
    "                for i in lan_df[\"Classes_new\"].unique():\n",
    "                    cla_df = lan_df.loc[lan_df[\"Classes_new\"] == i]\n",
    "                    ind = []\n",
    "                    for j in range(cla_df.shape[0]):\n",
    "                        if is_valid_word(cla_df.iloc[j, 0]) == col_valid:\n",
    "                            ind.append(j)\n",
    "                    cla_df = cla_df.iloc[ind,:]\n",
    "                    percentage_of_this_language.append(cla_df.shape[0] / results_df.loc[results_df[\"Classes_new\"] == i].shape[0])\n",
    "                    accuracies_cla[i] = (cla_df[\"True Label\"] == cla_df[\"Prediction\"]).value_counts(normalize=True).get(bool_val, 0)\n",
    "                fig.add_trace(go.Bar(\n",
    "                    x=list(accuracies_cla.keys()),\n",
    "                    y=[a * b for a, b in zip(list(accuracies_cla.values()), percentage_of_this_language)],\n",
    "                    marker=dict(color=colors[2*e+ee]),\n",
    "                    name=f\"{language}_\" + (\"valid\" if col_valid == True else \"invalid\") + \"<br>column name\",\n",
    "                    showlegend=True if bool_val == True else False,\n",
    "                    legendgroup=2*e+ee\n",
    "                ), row=2 if bool_val == True else 3, col=1)\n",
    "    fig.update_layout(title=\"Accuracy per Class for GPT's personal Predictions on dessi-mf\", width=1500, height=700, barmode=\"stack\")\n",
    "    fig.update_yaxes(title_text=\"Accuracy\", row=1, col=1)\n",
    "    fig.update_yaxes(title_text=\"Amount of<br>correct predictions\", row=2, col=1)\n",
    "    fig.update_yaxes(title_text=\"Amount of<br>false predictions\", row=3, col=1)\n",
    "    fig.show()\n",
    "\n",
    "    fig = make_subplots(\n",
    "        rows=1, cols=3, shared_yaxes=True,\n",
    "        subplot_titles=[\"Accuracy per Language\", \"Accuracy per Dataset\", \"Accuracy per Column Name\"]\n",
    "    )\n",
    "    fig.add_trace(go.Bar(\n",
    "        x=list(accuracies_lan.keys()),\n",
    "        y=list(accuracies_lan.values()),\n",
    "        showlegend=False\n",
    "    ), row=1, col=1)\n",
    "    fig.add_trace(go.Bar(\n",
    "        x=list(accuracies_dat.keys()),\n",
    "        y=list(accuracies_dat.values()),\n",
    "        showlegend=False\n",
    "    ), row=1, col=2)\n",
    "    fig.add_trace(go.Bar(\n",
    "        x=list(accuracies_col.keys()),\n",
    "        y=list(accuracies_col.values()),\n",
    "        showlegend=False\n",
    "    ), row=1, col=3)\n",
    "    fig.update_layout(width=900, height=500, title=\"Accuracy of GPT's personal Predictions on dessi-mf with respect to different categories\")\n",
    "    fig.show()"
   ]
  },
  {
   "cell_type": "code",
   "execution_count": 15,
   "metadata": {},
   "outputs": [
    {
     "data": {
      "application/vnd.plotly.v1+json": {
       "config": {
        "plotlyServerURL": "https://plot.ly"
       },
       "data": [
        {
         "marker": {
          "color": "black"
         },
         "showlegend": false,
         "type": "bar",
         "x": [
          "pyint",
          "credit_card_number",
          "credit_card_provider",
          "swift",
          "email",
          "ean",
          "Date",
          "Email,Phone_number",
          "last_name",
          "first_name",
          "CCN",
          "float_number",
          "graphics",
          "date",
          "Phone_number",
          "phone_number",
          "word",
          "isbn13",
          "manufacturer",
          "url",
          "programming_language",
          "integer_number",
          "passport_number",
          "full_name",
          "resolution",
          "system_quality_attribute",
          "iban",
          "Email,NIN",
          "Phone_number,NIN",
          "version",
          "duration",
          "Race",
          "Phone_number,Email",
          "name",
          "Nationality",
          "NIN,Phone_number",
          "Passport",
          "IBAN",
          "SWIFT/BIC",
          "Religion",
          "GPE",
          "ID_Card",
          "Email",
          "address",
          "NIN,Email",
          "measure_unit",
          "color",
          "language",
          "political_views",
          "phone_model",
          "pyfloat",
          "ssn",
          "title",
          "answer",
          "nationality",
          "city",
          "occupation",
          "NIN",
          "job",
          "academic_degree",
          "company",
          "gender",
          "dish",
          "Gender",
          "Geolocation",
          "drink",
          "Sexuality",
          "user_agent",
          "Date,NIN",
          "current_location",
          "worldview",
          "currency",
          "isbn",
          "blood_type",
          "cpu",
          "sex",
          "blood_group",
          "NIN,Date",
          "Organization"
         ],
         "y": [
          1,
          1,
          1,
          1,
          1,
          1,
          1,
          1,
          1,
          1,
          1,
          1,
          1,
          1,
          1,
          1,
          1,
          1,
          1,
          1,
          1,
          1,
          1,
          1,
          1,
          1,
          1,
          1,
          1,
          1,
          1,
          1,
          1,
          1,
          1,
          1,
          1,
          1,
          1,
          1,
          1,
          1,
          1,
          0.9719626168224299,
          0.967741935483871,
          0.9473684210526315,
          0.9300225733634312,
          0.91,
          0.885,
          0.8157894736842105,
          0.7958477508650519,
          0.7477876106194691,
          0.745,
          0.743421052631579,
          0.715,
          0.5789473684210527,
          0.4898989898989899,
          0.45671641791044776,
          0.30701754385964913,
          0.3065326633165829,
          0.28442437923250563,
          0.23,
          0.2236842105263158,
          0.21568627450980393,
          0.2129032258064516,
          0.20394736842105263,
          0.05263157894736842,
          0.02631578947368421,
          0.02564102564102564,
          0.017543859649122806,
          0.005,
          0,
          0,
          0,
          0,
          0,
          0,
          0,
          0
         ]
        },
        {
         "legendgroup": "0",
         "marker": {
          "color": "#d62728"
         },
         "name": "english_valid<br>column name",
         "showlegend": true,
         "type": "bar",
         "x": [
          "company",
          "academic_degree",
          "political_views",
          "color",
          "currency",
          "credit_card_provider",
          "language",
          "ean",
          "cpu",
          "graphics",
          "float_number",
          "word",
          "isbn13",
          "job",
          "phone_number",
          "email",
          "programming_language",
          "blood_type",
          "worldview",
          "title",
          "credit_card_number",
          "pyint",
          "current_location",
          "pyfloat",
          "first_name",
          "resolution",
          "last_name",
          "url",
          "ssn",
          "manufacturer",
          "nationality",
          "sex",
          "occupation",
          "blood_group",
          "integer_number",
          "dish",
          "system_quality_attribute",
          "version",
          "passport_number",
          "date",
          "swift",
          "answer",
          "city",
          "duration",
          "address",
          "name",
          "full_name",
          "drink",
          "user_agent",
          "isbn",
          "iban",
          "measure_unit",
          "phone_model",
          "gender"
         ],
         "xaxis": "x2",
         "y": [
          0.04288939051918735,
          0,
          0.125,
          0.1309255079006772,
          0,
          0.12758620689655173,
          0.115,
          0.12027491408934708,
          0,
          0.13157894736842105,
          0.125,
          0.13157894736842105,
          0.13494809688581316,
          0,
          0.12412177985948478,
          0.11214953271028037,
          0.09868421052631579,
          0,
          0,
          0,
          0.13317757009345793,
          0.13402061855670103,
          0,
          0.0934256055363322,
          0.13348946135831383,
          0.11842105263157894,
          0.12910798122065728,
          0.13058419243986255,
          0.12831858407079647,
          0.1118421052631579,
          0.125,
          0,
          0,
          0,
          0.13815789473684212,
          0.10526315789473684,
          0.14473684210526316,
          0.11842105263157894,
          0.09649122807017543,
          0.1310344827586207,
          0.11971830985915492,
          0.1118421052631579,
          0.11842105263157894,
          0.14473684210526316,
          0.11214953271028036,
          0.14222222222222222,
          0.13131313131313133,
          0.019736842105263157,
          0,
          0,
          0.10964912280701754,
          0.13157894736842105,
          0.15789473684210528,
          0
         ],
         "yaxis": "y2"
        },
        {
         "legendgroup": "1",
         "marker": {
          "color": "#ff9896"
         },
         "name": "english_invalid<br>column name",
         "showlegend": true,
         "type": "bar",
         "x": [
          "company",
          "academic_degree",
          "political_views",
          "color",
          "currency",
          "credit_card_provider",
          "language",
          "ean",
          "cpu",
          "graphics",
          "float_number",
          "word",
          "isbn13",
          "job",
          "phone_number",
          "email",
          "programming_language",
          "blood_type",
          "worldview",
          "title",
          "credit_card_number",
          "pyint",
          "current_location",
          "pyfloat",
          "first_name",
          "resolution",
          "last_name",
          "url",
          "ssn",
          "manufacturer",
          "nationality",
          "sex",
          "occupation",
          "blood_group",
          "integer_number",
          "dish",
          "system_quality_attribute",
          "version",
          "passport_number",
          "date",
          "swift",
          "answer",
          "city",
          "duration",
          "address",
          "name",
          "full_name",
          "drink",
          "user_agent",
          "isbn",
          "iban",
          "measure_unit",
          "phone_model",
          "gender"
         ],
         "xaxis": "x2",
         "y": [
          0.04288939051918736,
          0,
          0.10999999999999999,
          0.11963882618510158,
          0,
          0.1206896551724138,
          0.135,
          0.13058419243986255,
          0,
          0.11842105263157894,
          0.125,
          0.11842105263157894,
          0.11418685121107267,
          0,
          0.12646370023419204,
          0.1378504672897196,
          0.1513157894736842,
          0,
          0,
          0.004999999999999999,
          0.11682242990654206,
          0.1134020618556701,
          0,
          0.07612456747404846,
          0.11475409836065574,
          0.13157894736842105,
          0.11971830985915492,
          0.11683848797250859,
          0.11946902654867257,
          0.13815789473684212,
          0.125,
          0,
          0,
          0,
          0.1118421052631579,
          0.11842105263157895,
          0.10526315789473684,
          0.13157894736842105,
          0.15350877192982457,
          0.11724137931034483,
          0.12323943661971831,
          0.13815789473684212,
          0.13157894736842105,
          0.10526315789473684,
          0.11448598130841121,
          0.10666666666666667,
          0.11616161616161616,
          0.02631578947368421,
          0,
          0,
          0.14035087719298245,
          0.09210526315789473,
          0.05921052631578947,
          0
         ],
         "yaxis": "y2"
        },
        {
         "legendgroup": "2",
         "marker": {
          "color": "#1f77b4"
         },
         "name": "french_valid<br>column name",
         "showlegend": true,
         "type": "bar",
         "x": [
          "credit_card_number",
          "credit_card_provider",
          "email",
          "ean",
          "measure_unit",
          "ssn",
          "first_name",
          "swift",
          "currency",
          "isbn",
          "date",
          "phone_model",
          "company",
          "language",
          "pyfloat",
          "pyint",
          "last_name",
          "integer_number",
          "blood_group",
          "word",
          "passport_number",
          "political_views",
          "color",
          "url",
          "float_number",
          "blood_type",
          "academic_degree",
          "full_name",
          "gender",
          "dish",
          "current_location",
          "address",
          "drink",
          "phone_number",
          "occupation",
          "title",
          "cpu",
          "duration",
          "isbn13",
          "user_agent",
          "graphics",
          "city",
          "name",
          "answer",
          "nationality",
          "sex",
          "worldview",
          "job",
          "manufacturer",
          "iban",
          "programming_language",
          "version",
          "system_quality_attribute",
          "resolution"
         ],
         "xaxis": "x2",
         "y": [
          0.13317757009345793,
          0.1310344827586207,
          0.1261682242990654,
          0.12714776632302405,
          0.11842105263157894,
          0,
          0.1358313817330211,
          0.1267605633802817,
          0,
          0,
          0.11379310344827587,
          0.06578947368421052,
          0.018058690744920995,
          0.11,
          0.10034602076124569,
          0.12714776632302405,
          0.1056338028169014,
          0.06578947368421052,
          0,
          0.10526315789473684,
          0.12719298245614036,
          0.115,
          0.11060948081264108,
          0.13745704467353953,
          0.13157894736842105,
          0,
          0.03015075376884422,
          0.12121212121212122,
          0,
          0,
          0,
          0.11682242990654206,
          0.07236842105263158,
          0.13817330210772832,
          0.06565656565656565,
          0.145,
          0,
          0.13157894736842105,
          0.11764705882352941,
          0,
          0.14473684210526316,
          0.046052631578947366,
          0.11555555555555555,
          0.13157894736842105,
          0,
          0,
          0.005,
          0,
          0.13815789473684212,
          0.12719298245614036,
          0.10526315789473684,
          0.15789473684210525,
          0.11842105263157894,
          0.125
         ],
         "yaxis": "y2"
        },
        {
         "legendgroup": "3",
         "marker": {
          "color": "#aec7e8"
         },
         "name": "french_invalid<br>column name",
         "showlegend": true,
         "type": "bar",
         "x": [
          "credit_card_number",
          "credit_card_provider",
          "email",
          "ean",
          "measure_unit",
          "ssn",
          "first_name",
          "swift",
          "currency",
          "isbn",
          "date",
          "phone_model",
          "company",
          "language",
          "pyfloat",
          "pyint",
          "last_name",
          "integer_number",
          "blood_group",
          "word",
          "passport_number",
          "political_views",
          "color",
          "url",
          "float_number",
          "blood_type",
          "academic_degree",
          "full_name",
          "gender",
          "dish",
          "current_location",
          "address",
          "drink",
          "phone_number",
          "occupation",
          "title",
          "cpu",
          "duration",
          "isbn13",
          "user_agent",
          "graphics",
          "city",
          "name",
          "answer",
          "nationality",
          "sex",
          "worldview",
          "job",
          "manufacturer",
          "iban",
          "programming_language",
          "version",
          "system_quality_attribute",
          "resolution"
         ],
         "xaxis": "x2",
         "y": [
          0.11682242990654206,
          0.1206896551724138,
          0.12383177570093458,
          0.12371134020618557,
          0.12499999999999999,
          0,
          0.11475409836065574,
          0.1267605633802817,
          0,
          0,
          0.13793103448275862,
          0.10526315789473685,
          0.045146726862302484,
          0.09,
          0.09688581314878893,
          0.12371134020618557,
          0.14553990610328638,
          0.18421052631578946,
          0,
          0.14473684210526316,
          0.12280701754385964,
          0.135,
          0.11963882618510158,
          0.1134020618556701,
          0.11842105263157894,
          0,
          0.020100502512562814,
          0.12626262626262627,
          0,
          0,
          0,
          0.13317757009345793,
          0.046052631578947366,
          0.11007025761124122,
          0.12121212121212122,
          0.095,
          0,
          0.11842105263157894,
          0.1314878892733564,
          0.006578947368421052,
          0.10526315789473684,
          0.03289473684210526,
          0.13333333333333333,
          0.11842105263157894,
          0,
          0,
          0,
          0,
          0.1118421052631579,
          0.12280701754385964,
          0.14473684210526316,
          0.09210526315789473,
          0.13157894736842105,
          0.125
         ],
         "yaxis": "y2"
        },
        {
         "legendgroup": "4",
         "marker": {
          "color": "#ff7f0e"
         },
         "name": "german_valid<br>column name",
         "showlegend": true,
         "type": "bar",
         "x": [
          "pyint",
          "pyfloat",
          "academic_degree",
          "gender",
          "last_name",
          "address",
          "blood_type",
          "sex",
          "credit_card_provider",
          "swift",
          "company",
          "url",
          "color",
          "integer_number",
          "title",
          "currency",
          "full_name",
          "graphics",
          "isbn",
          "blood_group",
          "ssn",
          "measure_unit",
          "ean",
          "first_name",
          "system_quality_attribute",
          "email",
          "phone_number",
          "job",
          "occupation",
          "drink",
          "isbn13",
          "word",
          "date",
          "programming_language",
          "iban",
          "manufacturer",
          "phone_model",
          "language",
          "float_number",
          "nationality",
          "name",
          "passport_number",
          "city",
          "current_location",
          "credit_card_number",
          "political_views",
          "duration",
          "worldview",
          "cpu",
          "resolution",
          "user_agent",
          "dish",
          "version",
          "answer"
         ],
         "xaxis": "x2",
         "y": [
          0.13745704467353953,
          0.12456747404844293,
          0.135678391959799,
          0.115,
          0.12441314553990611,
          0.1191588785046729,
          0,
          0,
          0.1310344827586207,
          0.12323943661971831,
          0.024830699774266368,
          0.11683848797250859,
          0.11512415349887134,
          0.13157894736842105,
          0.11,
          0,
          0.12626262626262627,
          0.09210526315789473,
          0,
          0,
          0.12831858407079647,
          0.1118421052631579,
          0.12714776632302405,
          0.12412177985948478,
          0.10526315789473684,
          0.11682242990654206,
          0.1358313817330211,
          0.11403508771929824,
          0.10101010101010102,
          0.013157894736842106,
          0.1522491349480969,
          0.13157894736842105,
          0.1103448275862069,
          0.14473684210526316,
          0.14035087719298245,
          0.13815789473684212,
          0.11184210526315788,
          0.1,
          0.14473684210526316,
          0.12,
          0.1288888888888889,
          0.14912280701754385,
          0.013157894736842105,
          0.0043859649122807015,
          0.11448598130841121,
          0.065,
          0.125,
          0,
          0,
          0.125,
          0,
          0,
          0.11842105263157894,
          0.006578947368421052
         ],
         "yaxis": "y2"
        },
        {
         "legendgroup": "5",
         "marker": {
          "color": "#ffbb78"
         },
         "name": "german_invalid<br>column name",
         "showlegend": true,
         "type": "bar",
         "x": [
          "pyint",
          "pyfloat",
          "academic_degree",
          "gender",
          "last_name",
          "address",
          "blood_type",
          "sex",
          "credit_card_provider",
          "swift",
          "company",
          "url",
          "color",
          "integer_number",
          "title",
          "currency",
          "full_name",
          "graphics",
          "isbn",
          "blood_group",
          "ssn",
          "measure_unit",
          "ean",
          "first_name",
          "system_quality_attribute",
          "email",
          "phone_number",
          "job",
          "occupation",
          "drink",
          "isbn13",
          "word",
          "date",
          "programming_language",
          "iban",
          "manufacturer",
          "phone_model",
          "language",
          "float_number",
          "nationality",
          "name",
          "passport_number",
          "city",
          "current_location",
          "credit_card_number",
          "political_views",
          "duration",
          "worldview",
          "cpu",
          "resolution",
          "user_agent",
          "dish",
          "version",
          "answer"
         ],
         "xaxis": "x2",
         "y": [
          0.1134020618556701,
          0.08996539792387542,
          0.11557788944723618,
          0.115,
          0.12441314553990611,
          0.1308411214953271,
          0,
          0,
          0.1206896551724138,
          0.13028169014084506,
          0.03160270880361173,
          0.13402061855670103,
          0.08803611738148984,
          0.11842105263157894,
          0.14,
          0,
          0.12626262626262627,
          0.15789473684210525,
          0,
          0,
          0.12389380530973451,
          0.11842105263157895,
          0.12371134020618557,
          0.12646370023419204,
          0.14473684210526316,
          0.13317757009345793,
          0.11475409836065574,
          0.13596491228070176,
          0.10606060606060606,
          0,
          0.10034602076124567,
          0.11842105263157894,
          0.1413793103448276,
          0.10526315789473684,
          0.10964912280701754,
          0.1118421052631579,
          0.09210526315789473,
          0.11,
          0.10526315789473684,
          0.095,
          0.12444444444444444,
          0.10087719298245613,
          0.02631578947368421,
          0.008771929824561405,
          0.13551401869158877,
          0.12,
          0.125,
          0,
          0,
          0.125,
          0,
          0,
          0.13157894736842105,
          0.006578947368421053
         ],
         "yaxis": "y2"
        },
        {
         "legendgroup": "6",
         "marker": {
          "color": "#2ca02c"
         },
         "name": "mixed language_valid<br>column name",
         "showlegend": true,
         "type": "bar",
         "x": [
          "swift",
          "credit_card_number",
          "political_views",
          "pyint",
          "float_number",
          "last_name",
          "address",
          "current_location",
          "phone_number",
          "isbn13",
          "manufacturer",
          "company",
          "title",
          "color",
          "job",
          "occupation",
          "word",
          "date",
          "cpu",
          "integer_number",
          "passport_number",
          "phone_model",
          "city",
          "academic_degree",
          "url",
          "ssn",
          "system_quality_attribute",
          "gender",
          "ean",
          "first_name",
          "iban",
          "sex",
          "drink",
          "email",
          "pyfloat",
          "currency",
          "answer",
          "measure_unit",
          "blood_group",
          "user_agent",
          "credit_card_provider",
          "name",
          "programming_language",
          "dish",
          "full_name",
          "language",
          "worldview",
          "duration",
          "resolution",
          "version",
          "graphics",
          "isbn",
          "blood_type",
          "nationality"
         ],
         "xaxis": "x2",
         "y": [
          0.11619718309859155,
          0.1261682242990654,
          0.10500000000000001,
          0.11683848797250859,
          0.13157894736842105,
          0.12441314553990611,
          0.11448598130841121,
          0.0043859649122807015,
          0.1451990632318501,
          0.14878892733564014,
          0.125,
          0.029345372460496615,
          0.135,
          0.12189616252821671,
          0.03508771929824561,
          0.03535353535353535,
          0.13157894736842105,
          0.10344827586206896,
          0,
          0.125,
          0.13157894736842105,
          0.13157894736842105,
          0.08552631578947367,
          0.005025125628140704,
          0.13402061855670103,
          0.12389380530973451,
          0.125,
          0,
          0.13058419243986255,
          0.11241217798594848,
          0.14035087719298245,
          0,
          0.013157894736842105,
          0.12149532710280374,
          0.10380622837370242,
          0,
          0.15789473684210528,
          0.125,
          0,
          0.013157894736842106,
          0.1103448275862069,
          0.10666666666666667,
          0.1513157894736842,
          0,
          0.11616161616161616,
          0.13,
          0,
          0.10526315789473684,
          0.1118421052631579,
          0.125,
          0.1118421052631579,
          0,
          0,
          0.1
         ],
         "yaxis": "y2"
        },
        {
         "legendgroup": "7",
         "marker": {
          "color": "#98df8a"
         },
         "name": "mixed language_invalid<br>column name",
         "showlegend": true,
         "type": "bar",
         "x": [
          "swift",
          "credit_card_number",
          "political_views",
          "pyint",
          "float_number",
          "last_name",
          "address",
          "current_location",
          "phone_number",
          "isbn13",
          "manufacturer",
          "company",
          "title",
          "color",
          "job",
          "occupation",
          "word",
          "date",
          "cpu",
          "integer_number",
          "passport_number",
          "phone_model",
          "city",
          "academic_degree",
          "url",
          "ssn",
          "system_quality_attribute",
          "gender",
          "ean",
          "first_name",
          "iban",
          "sex",
          "drink",
          "email",
          "pyfloat",
          "currency",
          "answer",
          "measure_unit",
          "blood_group",
          "user_agent",
          "credit_card_provider",
          "name",
          "programming_language",
          "dish",
          "full_name",
          "language",
          "worldview",
          "duration",
          "resolution",
          "version",
          "graphics",
          "isbn",
          "blood_type",
          "nationality"
         ],
         "xaxis": "x2",
         "y": [
          0.13380281690140844,
          0.12383177570093458,
          0.11000000000000001,
          0.13402061855670103,
          0.11842105263157894,
          0.1267605633802817,
          0.1308411214953271,
          0,
          0.1053864168618267,
          0.10034602076124567,
          0.125,
          0.04966139954853273,
          0.115,
          0.12415349887133183,
          0.021929824561403508,
          0.06060606060606061,
          0.11842105263157894,
          0.14482758620689656,
          0,
          0.125,
          0.11842105263157894,
          0.09210526315789473,
          0.125,
          0,
          0.11683848797250859,
          0.12389380530973451,
          0.125,
          0,
          0.11683848797250859,
          0.13817330210772832,
          0.10964912280701754,
          0,
          0.013157894736842106,
          0.12850467289719625,
          0.11072664359861592,
          0,
          0.07236842105263157,
          0.125,
          0,
          0.006578947368421052,
          0.13793103448275862,
          0.14222222222222222,
          0.09868421052631579,
          0,
          0.13636363636363635,
          0.12,
          0,
          0.14473684210526316,
          0.13815789473684212,
          0.125,
          0.13815789473684212,
          0,
          0,
          0.15
         ],
         "yaxis": "y2"
        },
        {
         "legendgroup": "8",
         "marker": {
          "color": "#9467bd"
         },
         "name": "dessi data_valid<br>column name",
         "showlegend": true,
         "type": "bar",
         "x": [
          "Date",
          "Geolocation",
          "Email,Phone_number",
          "CCN",
          "NIN",
          "Phone_number",
          "Gender",
          "NIN,Date",
          "Email,NIN",
          "Phone_number,NIN",
          "Race",
          "NIN,Email",
          "Sexuality",
          "Phone_number,Email",
          "Nationality",
          "NIN,Phone_number",
          "Passport",
          "IBAN",
          "SWIFT/BIC",
          "Religion",
          "Organization",
          "Date,NIN",
          "GPE",
          "ID_Card",
          "Email"
         ],
         "xaxis": "x2",
         "y": [
          0.10714285714285714,
          0,
          0.21428571428571427,
          0,
          0.014925373134328358,
          0.0594059405940594,
          0,
          0,
          0.07692307692307693,
          0.08888888888888889,
          0,
          0.06451612903225806,
          0,
          0.03333333333333333,
          0,
          0.09302325581395349,
          0.09523809523809523,
          0,
          0.046511627906976744,
          0.05555555555555555,
          0,
          0,
          0,
          0,
          0.25
         ],
         "yaxis": "y2"
        },
        {
         "legendgroup": "9",
         "marker": {
          "color": "#c5b0d5"
         },
         "name": "dessi data_invalid<br>column name",
         "showlegend": true,
         "type": "bar",
         "x": [
          "Date",
          "Geolocation",
          "Email,Phone_number",
          "CCN",
          "NIN",
          "Phone_number",
          "Gender",
          "NIN,Date",
          "Email,NIN",
          "Phone_number,NIN",
          "Race",
          "NIN,Email",
          "Sexuality",
          "Phone_number,Email",
          "Nationality",
          "NIN,Phone_number",
          "Passport",
          "IBAN",
          "SWIFT/BIC",
          "Religion",
          "Organization",
          "Date,NIN",
          "GPE",
          "ID_Card",
          "Email"
         ],
         "xaxis": "x2",
         "y": [
          0.8928571428571429,
          0.2129032258064516,
          0.7857142857142857,
          1,
          0.4417910447761194,
          0.9405940594059405,
          0.21568627450980393,
          0,
          0.9230769230769231,
          0.9111111111111111,
          1,
          0.9032258064516129,
          0.05263157894736842,
          0.9666666666666667,
          1,
          0.9069767441860465,
          0.9047619047619048,
          1,
          0.9534883720930233,
          0.9444444444444444,
          0,
          0.02564102564102564,
          1,
          1,
          0.75
         ],
         "yaxis": "y2"
        },
        {
         "legendgroup": "0",
         "marker": {
          "color": "#d62728"
         },
         "name": "english_valid<br>column name",
         "showlegend": false,
         "type": "bar",
         "x": [
          "company",
          "academic_degree",
          "political_views",
          "color",
          "currency",
          "credit_card_provider",
          "language",
          "ean",
          "cpu",
          "graphics",
          "float_number",
          "word",
          "isbn13",
          "job",
          "phone_number",
          "email",
          "programming_language",
          "blood_type",
          "worldview",
          "title",
          "credit_card_number",
          "pyint",
          "current_location",
          "pyfloat",
          "first_name",
          "resolution",
          "last_name",
          "url",
          "ssn",
          "manufacturer",
          "nationality",
          "sex",
          "occupation",
          "blood_group",
          "integer_number",
          "dish",
          "system_quality_attribute",
          "version",
          "passport_number",
          "date",
          "swift",
          "answer",
          "city",
          "duration",
          "address",
          "name",
          "full_name",
          "drink",
          "user_agent",
          "isbn",
          "iban",
          "measure_unit",
          "phone_model",
          "gender"
         ],
         "xaxis": "x3",
         "y": [
          0.07674943566591422,
          0.10552763819095477,
          0.005,
          0,
          0.12027491408934708,
          0,
          0,
          0,
          0.125,
          0,
          0,
          0,
          0,
          0.11842105263157894,
          0,
          0,
          0,
          0.12060301507537688,
          0.095,
          0.13,
          0,
          0,
          0.13596491228070176,
          0.04844290657439447,
          0,
          0,
          0,
          0,
          0,
          0,
          0,
          0.12280701754385964,
          0.1111111111111111,
          0.13596491228070176,
          0,
          0.006578947368421052,
          0,
          0,
          0,
          0,
          0,
          0,
          0,
          0,
          0.014018691588785045,
          0,
          0,
          0.11184210526315788,
          0.10526315789473684,
          0.09868421052631579,
          0,
          0.006578947368421053,
          0.013157894736842106,
          0.125
         ],
         "yaxis": "y3"
        },
        {
         "legendgroup": "1",
         "marker": {
          "color": "#ff9896"
         },
         "name": "english_invalid<br>column name",
         "showlegend": false,
         "type": "bar",
         "x": [
          "company",
          "academic_degree",
          "political_views",
          "color",
          "currency",
          "credit_card_provider",
          "language",
          "ean",
          "cpu",
          "graphics",
          "float_number",
          "word",
          "isbn13",
          "job",
          "phone_number",
          "email",
          "programming_language",
          "blood_type",
          "worldview",
          "title",
          "credit_card_number",
          "pyint",
          "current_location",
          "pyfloat",
          "first_name",
          "resolution",
          "last_name",
          "url",
          "ssn",
          "manufacturer",
          "nationality",
          "sex",
          "occupation",
          "blood_group",
          "integer_number",
          "dish",
          "system_quality_attribute",
          "version",
          "passport_number",
          "date",
          "swift",
          "answer",
          "city",
          "duration",
          "address",
          "name",
          "full_name",
          "drink",
          "user_agent",
          "isbn",
          "iban",
          "measure_unit",
          "phone_model",
          "gender"
         ],
         "xaxis": "x3",
         "y": [
          0.08803611738148984,
          0.1457286432160804,
          0.009999999999999998,
          0,
          0.13058419243986255,
          0,
          0,
          0,
          0.125,
          0,
          0,
          0,
          0,
          0.13157894736842105,
          0,
          0,
          0,
          0.12562814070351758,
          0.155,
          0.115,
          0,
          0,
          0.11403508771929824,
          0.031141868512110732,
          0,
          0,
          0,
          0,
          0,
          0,
          0,
          0.12719298245614036,
          0.13636363636363635,
          0.11403508771929824,
          0,
          0.01973684210526316,
          0,
          0,
          0,
          0,
          0,
          0,
          0,
          0,
          0.009345794392523364,
          0,
          0,
          0.09210526315789473,
          0.14473684210526316,
          0.1513157894736842,
          0,
          0.01973684210526316,
          0.019736842105263157,
          0.125
         ],
         "yaxis": "y3"
        },
        {
         "legendgroup": "2",
         "marker": {
          "color": "#1f77b4"
         },
         "name": "french_valid<br>column name",
         "showlegend": false,
         "type": "bar",
         "x": [
          "credit_card_number",
          "credit_card_provider",
          "email",
          "ean",
          "measure_unit",
          "ssn",
          "first_name",
          "swift",
          "currency",
          "isbn",
          "date",
          "phone_model",
          "company",
          "language",
          "pyfloat",
          "pyint",
          "last_name",
          "integer_number",
          "blood_group",
          "word",
          "passport_number",
          "political_views",
          "color",
          "url",
          "float_number",
          "blood_type",
          "academic_degree",
          "full_name",
          "gender",
          "dish",
          "current_location",
          "address",
          "drink",
          "phone_number",
          "occupation",
          "title",
          "cpu",
          "duration",
          "isbn13",
          "user_agent",
          "graphics",
          "city",
          "name",
          "answer",
          "nationality",
          "sex",
          "worldview",
          "job",
          "manufacturer",
          "iban",
          "programming_language",
          "version",
          "system_quality_attribute",
          "resolution"
         ],
         "xaxis": "x3",
         "y": [
          0,
          0,
          0,
          0,
          0,
          0.11946902654867257,
          0,
          0,
          0.14776632302405499,
          0.1118421052631579,
          0,
          0.039473684210526314,
          0.07223476297968398,
          0.015,
          0.03460207612456748,
          0,
          0,
          0,
          0.13596491228070176,
          0,
          0,
          0,
          0.009029345372460496,
          0,
          0,
          0.1407035175879397,
          0.08542713567839195,
          0,
          0.11,
          0.125,
          0.11842105263157894,
          0,
          0.046052631578947366,
          0,
          0.0303030303030303,
          0.01,
          0.13157894736842105,
          0,
          0,
          0.125,
          0,
          0.07894736842105263,
          0,
          0,
          0.14,
          0.12280701754385964,
          0.13,
          0.11403508771929824,
          0,
          0,
          0,
          0,
          0,
          0
         ],
         "yaxis": "y3"
        },
        {
         "legendgroup": "3",
         "marker": {
          "color": "#aec7e8"
         },
         "name": "french_invalid<br>column name",
         "showlegend": false,
         "type": "bar",
         "x": [
          "credit_card_number",
          "credit_card_provider",
          "email",
          "ean",
          "measure_unit",
          "ssn",
          "first_name",
          "swift",
          "currency",
          "isbn",
          "date",
          "phone_model",
          "company",
          "language",
          "pyfloat",
          "pyint",
          "last_name",
          "integer_number",
          "blood_group",
          "word",
          "passport_number",
          "political_views",
          "color",
          "url",
          "float_number",
          "blood_type",
          "academic_degree",
          "full_name",
          "gender",
          "dish",
          "current_location",
          "address",
          "drink",
          "phone_number",
          "occupation",
          "title",
          "cpu",
          "duration",
          "isbn13",
          "user_agent",
          "graphics",
          "city",
          "name",
          "answer",
          "nationality",
          "sex",
          "worldview",
          "job",
          "manufacturer",
          "iban",
          "programming_language",
          "version",
          "system_quality_attribute",
          "resolution"
         ],
         "xaxis": "x3",
         "y": [
          0,
          0,
          0,
          0,
          0.006578947368421052,
          0.13274336283185842,
          0,
          0,
          0.09965635738831616,
          0.13815789473684212,
          0,
          0.039473684210526314,
          0.11512415349887134,
          0.035,
          0.01730103806228374,
          0,
          0,
          0,
          0.11403508771929824,
          0,
          0,
          0,
          0.011286681715575621,
          0,
          0,
          0.11055276381909548,
          0.11557788944723618,
          0,
          0.14,
          0.125,
          0.13157894736842105,
          0,
          0.08552631578947369,
          0,
          0.030303030303030304,
          0,
          0.11842105263157894,
          0,
          0,
          0.11842105263157894,
          0,
          0.09210526315789473,
          0,
          0,
          0.11,
          0.12719298245614036,
          0.115,
          0.13596491228070176,
          0,
          0,
          0,
          0,
          0,
          0
         ],
         "yaxis": "y3"
        },
        {
         "legendgroup": "4",
         "marker": {
          "color": "#ff7f0e"
         },
         "name": "german_valid<br>column name",
         "showlegend": false,
         "type": "bar",
         "x": [
          "pyint",
          "pyfloat",
          "academic_degree",
          "gender",
          "last_name",
          "address",
          "blood_type",
          "sex",
          "credit_card_provider",
          "swift",
          "company",
          "url",
          "color",
          "integer_number",
          "title",
          "currency",
          "full_name",
          "graphics",
          "isbn",
          "blood_group",
          "ssn",
          "measure_unit",
          "ean",
          "first_name",
          "system_quality_attribute",
          "email",
          "phone_number",
          "job",
          "occupation",
          "drink",
          "isbn13",
          "word",
          "date",
          "programming_language",
          "iban",
          "manufacturer",
          "phone_model",
          "language",
          "float_number",
          "nationality",
          "name",
          "passport_number",
          "city",
          "current_location",
          "credit_card_number",
          "political_views",
          "duration",
          "worldview",
          "cpu",
          "resolution",
          "user_agent",
          "dish",
          "version",
          "answer"
         ],
         "xaxis": "x3",
         "y": [
          0,
          0.010380622837370243,
          0,
          0.004999999999999999,
          0,
          0,
          0.10050251256281408,
          0.10964912280701754,
          0,
          0,
          0.08126410835214447,
          0,
          0.024830699774266368,
          0,
          0,
          0.12371134020618557,
          0,
          0,
          0.125,
          0.11403508771929824,
          0,
          0,
          0,
          0,
          0,
          0,
          0,
          0,
          0.030303030303030307,
          0.125,
          0,
          0,
          0,
          0,
          0,
          0,
          0.019736842105263157,
          0.015,
          0,
          0.015,
          0,
          0,
          0.1118421052631579,
          0.10087719298245613,
          0,
          0.03,
          0,
          0.125,
          0.11842105263157894,
          0,
          0.14473684210526316,
          0.1118421052631579,
          0,
          0.09868421052631579
         ],
         "yaxis": "y3"
        },
        {
         "legendgroup": "5",
         "marker": {
          "color": "#ffbb78"
         },
         "name": "german_invalid<br>column name",
         "showlegend": false,
         "type": "bar",
         "x": [
          "pyint",
          "pyfloat",
          "academic_degree",
          "gender",
          "last_name",
          "address",
          "blood_type",
          "sex",
          "credit_card_provider",
          "swift",
          "company",
          "url",
          "color",
          "integer_number",
          "title",
          "currency",
          "full_name",
          "graphics",
          "isbn",
          "blood_group",
          "ssn",
          "measure_unit",
          "ean",
          "first_name",
          "system_quality_attribute",
          "email",
          "phone_number",
          "job",
          "occupation",
          "drink",
          "isbn13",
          "word",
          "date",
          "programming_language",
          "iban",
          "manufacturer",
          "phone_model",
          "language",
          "float_number",
          "nationality",
          "name",
          "passport_number",
          "city",
          "current_location",
          "credit_card_number",
          "political_views",
          "duration",
          "worldview",
          "cpu",
          "resolution",
          "user_agent",
          "dish",
          "version",
          "answer"
         ],
         "xaxis": "x3",
         "y": [
          0,
          0.02768166089965398,
          0,
          0.015000000000000001,
          0,
          0,
          0.1507537688442211,
          0.14035087719298245,
          0,
          0,
          0.11060948081264108,
          0,
          0.020316027088036117,
          0,
          0,
          0.12714776632302405,
          0,
          0,
          0.125,
          0.13596491228070176,
          0,
          0.01973684210526316,
          0,
          0,
          0,
          0,
          0,
          0,
          0.015151515151515152,
          0.1118421052631579,
          0,
          0,
          0,
          0,
          0,
          0,
          0.02631578947368421,
          0.025,
          0,
          0.02,
          0,
          0,
          0.09868421052631579,
          0.13596491228070176,
          0,
          0.034999999999999996,
          0,
          0.125,
          0.13157894736842105,
          0,
          0.10526315789473684,
          0.13815789473684212,
          0,
          0.13815789473684212
         ],
         "yaxis": "y3"
        },
        {
         "legendgroup": "6",
         "marker": {
          "color": "#2ca02c"
         },
         "name": "mixed language_valid<br>column name",
         "showlegend": false,
         "type": "bar",
         "x": [
          "swift",
          "credit_card_number",
          "political_views",
          "pyint",
          "float_number",
          "last_name",
          "address",
          "current_location",
          "phone_number",
          "isbn13",
          "manufacturer",
          "company",
          "title",
          "color",
          "job",
          "occupation",
          "word",
          "date",
          "cpu",
          "integer_number",
          "passport_number",
          "phone_model",
          "city",
          "academic_degree",
          "url",
          "ssn",
          "system_quality_attribute",
          "gender",
          "ean",
          "first_name",
          "iban",
          "sex",
          "drink",
          "email",
          "pyfloat",
          "currency",
          "answer",
          "measure_unit",
          "blood_group",
          "user_agent",
          "credit_card_provider",
          "name",
          "programming_language",
          "dish",
          "full_name",
          "language",
          "worldview",
          "duration",
          "resolution",
          "version",
          "graphics",
          "isbn",
          "blood_type",
          "nationality"
         ],
         "xaxis": "x3",
         "y": [
          0,
          0,
          0.03,
          0,
          0,
          0,
          0,
          0.13157894736842107,
          0,
          0,
          0,
          0.09029345372460497,
          0,
          0.004514672686230248,
          0.10087719298245615,
          0.06565656565656566,
          0,
          0,
          0.13815789473684212,
          0,
          0,
          0,
          0.02631578947368421,
          0.135678391959799,
          0,
          0,
          0,
          0.135,
          0,
          0,
          0,
          0.11842105263157894,
          0.09868421052631579,
          0,
          0.017301038062283735,
          0.13058419243986255,
          0.013157894736842106,
          0,
          0.12719298245614036,
          0.125,
          0,
          0,
          0,
          0.125,
          0,
          0,
          0.115,
          0,
          0,
          0,
          0,
          0.09868421052631579,
          0.11557788944723618,
          0
         ],
         "yaxis": "y3"
        },
        {
         "legendgroup": "7",
         "marker": {
          "color": "#98df8a"
         },
         "name": "mixed language_invalid<br>column name",
         "showlegend": false,
         "type": "bar",
         "x": [
          "swift",
          "credit_card_number",
          "political_views",
          "pyint",
          "float_number",
          "last_name",
          "address",
          "current_location",
          "phone_number",
          "isbn13",
          "manufacturer",
          "company",
          "title",
          "color",
          "job",
          "occupation",
          "word",
          "date",
          "cpu",
          "integer_number",
          "passport_number",
          "phone_model",
          "city",
          "academic_degree",
          "url",
          "ssn",
          "system_quality_attribute",
          "gender",
          "ean",
          "first_name",
          "iban",
          "sex",
          "drink",
          "email",
          "pyfloat",
          "currency",
          "answer",
          "measure_unit",
          "blood_group",
          "user_agent",
          "credit_card_provider",
          "name",
          "programming_language",
          "dish",
          "full_name",
          "language",
          "worldview",
          "duration",
          "resolution",
          "version",
          "graphics",
          "isbn",
          "blood_type",
          "nationality"
         ],
         "xaxis": "x3",
         "y": [
          0,
          0,
          0.005,
          0,
          0,
          0,
          0.004672897196261682,
          0.11403508771929824,
          0,
          0,
          0,
          0.08126410835214447,
          0,
          0,
          0.09210526315789473,
          0.09090909090909091,
          0,
          0,
          0.1118421052631579,
          0,
          0,
          0.02631578947368421,
          0.013157894736842106,
          0.10552763819095477,
          0,
          0,
          0,
          0.115,
          0,
          0,
          0,
          0.13157894736842105,
          0.125,
          0,
          0.01730103806228374,
          0.12027491408934708,
          0.006578947368421052,
          0,
          0.12280701754385964,
          0.10526315789473684,
          0,
          0,
          0,
          0.125,
          0,
          0,
          0.135,
          0,
          0,
          0,
          0,
          0.1513157894736842,
          0.135678391959799,
          0
         ],
         "yaxis": "y3"
        },
        {
         "legendgroup": "8",
         "marker": {
          "color": "#9467bd"
         },
         "name": "dessi data_valid<br>column name",
         "showlegend": false,
         "type": "bar",
         "x": [
          "Date",
          "Geolocation",
          "Email,Phone_number",
          "CCN",
          "NIN",
          "Phone_number",
          "Gender",
          "NIN,Date",
          "Email,NIN",
          "Phone_number,NIN",
          "Race",
          "NIN,Email",
          "Sexuality",
          "Phone_number,Email",
          "Nationality",
          "NIN,Phone_number",
          "Passport",
          "IBAN",
          "SWIFT/BIC",
          "Religion",
          "Organization",
          "Date,NIN",
          "GPE",
          "ID_Card",
          "Email"
         ],
         "xaxis": "x3",
         "y": [
          0,
          0,
          0,
          0,
          0.014925373134328358,
          0,
          0,
          0.06666666666666667,
          0,
          0,
          0,
          0,
          0.05263157894736842,
          0,
          0,
          0,
          0,
          0,
          0,
          0,
          0,
          0.10256410256410256,
          0,
          0,
          0
         ],
         "yaxis": "y3"
        },
        {
         "legendgroup": "9",
         "marker": {
          "color": "#c5b0d5"
         },
         "name": "dessi data_invalid<br>column name",
         "showlegend": false,
         "type": "bar",
         "x": [
          "Date",
          "Geolocation",
          "Email,Phone_number",
          "CCN",
          "NIN",
          "Phone_number",
          "Gender",
          "NIN,Date",
          "Email,NIN",
          "Phone_number,NIN",
          "Race",
          "NIN,Email",
          "Sexuality",
          "Phone_number,Email",
          "Nationality",
          "NIN,Phone_number",
          "Passport",
          "IBAN",
          "SWIFT/BIC",
          "Religion",
          "Organization",
          "Date,NIN",
          "GPE",
          "ID_Card",
          "Email"
         ],
         "xaxis": "x3",
         "y": [
          0,
          0.7870967741935484,
          0,
          0,
          0.5283582089552239,
          0,
          0.7843137254901961,
          0.9333333333333333,
          0,
          0,
          0,
          0.03225806451612903,
          0.894736842105263,
          0,
          0,
          0,
          0,
          0,
          0,
          0,
          1,
          0.8717948717948718,
          0,
          0,
          0
         ],
         "yaxis": "y3"
        }
       ],
       "layout": {
        "annotations": [
         {
          "font": {
           "size": 16
          },
          "showarrow": false,
          "text": "Accuracy per Class",
          "x": 0.5,
          "xanchor": "center",
          "xref": "paper",
          "y": 1,
          "yanchor": "bottom",
          "yref": "paper"
         },
         {
          "font": {
           "size": 16
          },
          "showarrow": false,
          "text": "Number of correct predictions per Class",
          "x": 0.5,
          "xanchor": "center",
          "xref": "paper",
          "y": 0.6111111111111112,
          "yanchor": "bottom",
          "yref": "paper"
         },
         {
          "font": {
           "size": 16
          },
          "showarrow": false,
          "text": "Number of false predictions per Class",
          "x": 0.5,
          "xanchor": "center",
          "xref": "paper",
          "y": 0.22222222222222224,
          "yanchor": "bottom",
          "yref": "paper"
         }
        ],
        "barmode": "stack",
        "height": 700,
        "template": {
         "data": {
          "bar": [
           {
            "error_x": {
             "color": "#2a3f5f"
            },
            "error_y": {
             "color": "#2a3f5f"
            },
            "marker": {
             "line": {
              "color": "#E5ECF6",
              "width": 0.5
             },
             "pattern": {
              "fillmode": "overlay",
              "size": 10,
              "solidity": 0.2
             }
            },
            "type": "bar"
           }
          ],
          "barpolar": [
           {
            "marker": {
             "line": {
              "color": "#E5ECF6",
              "width": 0.5
             },
             "pattern": {
              "fillmode": "overlay",
              "size": 10,
              "solidity": 0.2
             }
            },
            "type": "barpolar"
           }
          ],
          "carpet": [
           {
            "aaxis": {
             "endlinecolor": "#2a3f5f",
             "gridcolor": "white",
             "linecolor": "white",
             "minorgridcolor": "white",
             "startlinecolor": "#2a3f5f"
            },
            "baxis": {
             "endlinecolor": "#2a3f5f",
             "gridcolor": "white",
             "linecolor": "white",
             "minorgridcolor": "white",
             "startlinecolor": "#2a3f5f"
            },
            "type": "carpet"
           }
          ],
          "choropleth": [
           {
            "colorbar": {
             "outlinewidth": 0,
             "ticks": ""
            },
            "type": "choropleth"
           }
          ],
          "contour": [
           {
            "colorbar": {
             "outlinewidth": 0,
             "ticks": ""
            },
            "colorscale": [
             [
              0,
              "#0d0887"
             ],
             [
              0.1111111111111111,
              "#46039f"
             ],
             [
              0.2222222222222222,
              "#7201a8"
             ],
             [
              0.3333333333333333,
              "#9c179e"
             ],
             [
              0.4444444444444444,
              "#bd3786"
             ],
             [
              0.5555555555555556,
              "#d8576b"
             ],
             [
              0.6666666666666666,
              "#ed7953"
             ],
             [
              0.7777777777777778,
              "#fb9f3a"
             ],
             [
              0.8888888888888888,
              "#fdca26"
             ],
             [
              1,
              "#f0f921"
             ]
            ],
            "type": "contour"
           }
          ],
          "contourcarpet": [
           {
            "colorbar": {
             "outlinewidth": 0,
             "ticks": ""
            },
            "type": "contourcarpet"
           }
          ],
          "heatmap": [
           {
            "colorbar": {
             "outlinewidth": 0,
             "ticks": ""
            },
            "colorscale": [
             [
              0,
              "#0d0887"
             ],
             [
              0.1111111111111111,
              "#46039f"
             ],
             [
              0.2222222222222222,
              "#7201a8"
             ],
             [
              0.3333333333333333,
              "#9c179e"
             ],
             [
              0.4444444444444444,
              "#bd3786"
             ],
             [
              0.5555555555555556,
              "#d8576b"
             ],
             [
              0.6666666666666666,
              "#ed7953"
             ],
             [
              0.7777777777777778,
              "#fb9f3a"
             ],
             [
              0.8888888888888888,
              "#fdca26"
             ],
             [
              1,
              "#f0f921"
             ]
            ],
            "type": "heatmap"
           }
          ],
          "heatmapgl": [
           {
            "colorbar": {
             "outlinewidth": 0,
             "ticks": ""
            },
            "colorscale": [
             [
              0,
              "#0d0887"
             ],
             [
              0.1111111111111111,
              "#46039f"
             ],
             [
              0.2222222222222222,
              "#7201a8"
             ],
             [
              0.3333333333333333,
              "#9c179e"
             ],
             [
              0.4444444444444444,
              "#bd3786"
             ],
             [
              0.5555555555555556,
              "#d8576b"
             ],
             [
              0.6666666666666666,
              "#ed7953"
             ],
             [
              0.7777777777777778,
              "#fb9f3a"
             ],
             [
              0.8888888888888888,
              "#fdca26"
             ],
             [
              1,
              "#f0f921"
             ]
            ],
            "type": "heatmapgl"
           }
          ],
          "histogram": [
           {
            "marker": {
             "pattern": {
              "fillmode": "overlay",
              "size": 10,
              "solidity": 0.2
             }
            },
            "type": "histogram"
           }
          ],
          "histogram2d": [
           {
            "colorbar": {
             "outlinewidth": 0,
             "ticks": ""
            },
            "colorscale": [
             [
              0,
              "#0d0887"
             ],
             [
              0.1111111111111111,
              "#46039f"
             ],
             [
              0.2222222222222222,
              "#7201a8"
             ],
             [
              0.3333333333333333,
              "#9c179e"
             ],
             [
              0.4444444444444444,
              "#bd3786"
             ],
             [
              0.5555555555555556,
              "#d8576b"
             ],
             [
              0.6666666666666666,
              "#ed7953"
             ],
             [
              0.7777777777777778,
              "#fb9f3a"
             ],
             [
              0.8888888888888888,
              "#fdca26"
             ],
             [
              1,
              "#f0f921"
             ]
            ],
            "type": "histogram2d"
           }
          ],
          "histogram2dcontour": [
           {
            "colorbar": {
             "outlinewidth": 0,
             "ticks": ""
            },
            "colorscale": [
             [
              0,
              "#0d0887"
             ],
             [
              0.1111111111111111,
              "#46039f"
             ],
             [
              0.2222222222222222,
              "#7201a8"
             ],
             [
              0.3333333333333333,
              "#9c179e"
             ],
             [
              0.4444444444444444,
              "#bd3786"
             ],
             [
              0.5555555555555556,
              "#d8576b"
             ],
             [
              0.6666666666666666,
              "#ed7953"
             ],
             [
              0.7777777777777778,
              "#fb9f3a"
             ],
             [
              0.8888888888888888,
              "#fdca26"
             ],
             [
              1,
              "#f0f921"
             ]
            ],
            "type": "histogram2dcontour"
           }
          ],
          "mesh3d": [
           {
            "colorbar": {
             "outlinewidth": 0,
             "ticks": ""
            },
            "type": "mesh3d"
           }
          ],
          "parcoords": [
           {
            "line": {
             "colorbar": {
              "outlinewidth": 0,
              "ticks": ""
             }
            },
            "type": "parcoords"
           }
          ],
          "pie": [
           {
            "automargin": true,
            "type": "pie"
           }
          ],
          "scatter": [
           {
            "fillpattern": {
             "fillmode": "overlay",
             "size": 10,
             "solidity": 0.2
            },
            "type": "scatter"
           }
          ],
          "scatter3d": [
           {
            "line": {
             "colorbar": {
              "outlinewidth": 0,
              "ticks": ""
             }
            },
            "marker": {
             "colorbar": {
              "outlinewidth": 0,
              "ticks": ""
             }
            },
            "type": "scatter3d"
           }
          ],
          "scattercarpet": [
           {
            "marker": {
             "colorbar": {
              "outlinewidth": 0,
              "ticks": ""
             }
            },
            "type": "scattercarpet"
           }
          ],
          "scattergeo": [
           {
            "marker": {
             "colorbar": {
              "outlinewidth": 0,
              "ticks": ""
             }
            },
            "type": "scattergeo"
           }
          ],
          "scattergl": [
           {
            "marker": {
             "colorbar": {
              "outlinewidth": 0,
              "ticks": ""
             }
            },
            "type": "scattergl"
           }
          ],
          "scattermapbox": [
           {
            "marker": {
             "colorbar": {
              "outlinewidth": 0,
              "ticks": ""
             }
            },
            "type": "scattermapbox"
           }
          ],
          "scatterpolar": [
           {
            "marker": {
             "colorbar": {
              "outlinewidth": 0,
              "ticks": ""
             }
            },
            "type": "scatterpolar"
           }
          ],
          "scatterpolargl": [
           {
            "marker": {
             "colorbar": {
              "outlinewidth": 0,
              "ticks": ""
             }
            },
            "type": "scatterpolargl"
           }
          ],
          "scatterternary": [
           {
            "marker": {
             "colorbar": {
              "outlinewidth": 0,
              "ticks": ""
             }
            },
            "type": "scatterternary"
           }
          ],
          "surface": [
           {
            "colorbar": {
             "outlinewidth": 0,
             "ticks": ""
            },
            "colorscale": [
             [
              0,
              "#0d0887"
             ],
             [
              0.1111111111111111,
              "#46039f"
             ],
             [
              0.2222222222222222,
              "#7201a8"
             ],
             [
              0.3333333333333333,
              "#9c179e"
             ],
             [
              0.4444444444444444,
              "#bd3786"
             ],
             [
              0.5555555555555556,
              "#d8576b"
             ],
             [
              0.6666666666666666,
              "#ed7953"
             ],
             [
              0.7777777777777778,
              "#fb9f3a"
             ],
             [
              0.8888888888888888,
              "#fdca26"
             ],
             [
              1,
              "#f0f921"
             ]
            ],
            "type": "surface"
           }
          ],
          "table": [
           {
            "cells": {
             "fill": {
              "color": "#EBF0F8"
             },
             "line": {
              "color": "white"
             }
            },
            "header": {
             "fill": {
              "color": "#C8D4E3"
             },
             "line": {
              "color": "white"
             }
            },
            "type": "table"
           }
          ]
         },
         "layout": {
          "annotationdefaults": {
           "arrowcolor": "#2a3f5f",
           "arrowhead": 0,
           "arrowwidth": 1
          },
          "autotypenumbers": "strict",
          "coloraxis": {
           "colorbar": {
            "outlinewidth": 0,
            "ticks": ""
           }
          },
          "colorscale": {
           "diverging": [
            [
             0,
             "#8e0152"
            ],
            [
             0.1,
             "#c51b7d"
            ],
            [
             0.2,
             "#de77ae"
            ],
            [
             0.3,
             "#f1b6da"
            ],
            [
             0.4,
             "#fde0ef"
            ],
            [
             0.5,
             "#f7f7f7"
            ],
            [
             0.6,
             "#e6f5d0"
            ],
            [
             0.7,
             "#b8e186"
            ],
            [
             0.8,
             "#7fbc41"
            ],
            [
             0.9,
             "#4d9221"
            ],
            [
             1,
             "#276419"
            ]
           ],
           "sequential": [
            [
             0,
             "#0d0887"
            ],
            [
             0.1111111111111111,
             "#46039f"
            ],
            [
             0.2222222222222222,
             "#7201a8"
            ],
            [
             0.3333333333333333,
             "#9c179e"
            ],
            [
             0.4444444444444444,
             "#bd3786"
            ],
            [
             0.5555555555555556,
             "#d8576b"
            ],
            [
             0.6666666666666666,
             "#ed7953"
            ],
            [
             0.7777777777777778,
             "#fb9f3a"
            ],
            [
             0.8888888888888888,
             "#fdca26"
            ],
            [
             1,
             "#f0f921"
            ]
           ],
           "sequentialminus": [
            [
             0,
             "#0d0887"
            ],
            [
             0.1111111111111111,
             "#46039f"
            ],
            [
             0.2222222222222222,
             "#7201a8"
            ],
            [
             0.3333333333333333,
             "#9c179e"
            ],
            [
             0.4444444444444444,
             "#bd3786"
            ],
            [
             0.5555555555555556,
             "#d8576b"
            ],
            [
             0.6666666666666666,
             "#ed7953"
            ],
            [
             0.7777777777777778,
             "#fb9f3a"
            ],
            [
             0.8888888888888888,
             "#fdca26"
            ],
            [
             1,
             "#f0f921"
            ]
           ]
          },
          "colorway": [
           "#636efa",
           "#EF553B",
           "#00cc96",
           "#ab63fa",
           "#FFA15A",
           "#19d3f3",
           "#FF6692",
           "#B6E880",
           "#FF97FF",
           "#FECB52"
          ],
          "font": {
           "color": "#2a3f5f"
          },
          "geo": {
           "bgcolor": "white",
           "lakecolor": "white",
           "landcolor": "#E5ECF6",
           "showlakes": true,
           "showland": true,
           "subunitcolor": "white"
          },
          "hoverlabel": {
           "align": "left"
          },
          "hovermode": "closest",
          "mapbox": {
           "style": "light"
          },
          "paper_bgcolor": "white",
          "plot_bgcolor": "#E5ECF6",
          "polar": {
           "angularaxis": {
            "gridcolor": "white",
            "linecolor": "white",
            "ticks": ""
           },
           "bgcolor": "#E5ECF6",
           "radialaxis": {
            "gridcolor": "white",
            "linecolor": "white",
            "ticks": ""
           }
          },
          "scene": {
           "xaxis": {
            "backgroundcolor": "#E5ECF6",
            "gridcolor": "white",
            "gridwidth": 2,
            "linecolor": "white",
            "showbackground": true,
            "ticks": "",
            "zerolinecolor": "white"
           },
           "yaxis": {
            "backgroundcolor": "#E5ECF6",
            "gridcolor": "white",
            "gridwidth": 2,
            "linecolor": "white",
            "showbackground": true,
            "ticks": "",
            "zerolinecolor": "white"
           },
           "zaxis": {
            "backgroundcolor": "#E5ECF6",
            "gridcolor": "white",
            "gridwidth": 2,
            "linecolor": "white",
            "showbackground": true,
            "ticks": "",
            "zerolinecolor": "white"
           }
          },
          "shapedefaults": {
           "line": {
            "color": "#2a3f5f"
           }
          },
          "ternary": {
           "aaxis": {
            "gridcolor": "white",
            "linecolor": "white",
            "ticks": ""
           },
           "baxis": {
            "gridcolor": "white",
            "linecolor": "white",
            "ticks": ""
           },
           "bgcolor": "#E5ECF6",
           "caxis": {
            "gridcolor": "white",
            "linecolor": "white",
            "ticks": ""
           }
          },
          "title": {
           "x": 0.05
          },
          "xaxis": {
           "automargin": true,
           "gridcolor": "white",
           "linecolor": "white",
           "ticks": "",
           "title": {
            "standoff": 15
           },
           "zerolinecolor": "white",
           "zerolinewidth": 2
          },
          "yaxis": {
           "automargin": true,
           "gridcolor": "white",
           "linecolor": "white",
           "ticks": "",
           "title": {
            "standoff": 15
           },
           "zerolinecolor": "white",
           "zerolinewidth": 2
          }
         }
        },
        "title": {
         "text": "Accuracy per Class for GPT's personal Predictions on dessi-mf"
        },
        "width": 1500,
        "xaxis": {
         "anchor": "y",
         "domain": [
          0,
          1
         ],
         "matches": "x3",
         "showticklabels": false
        },
        "xaxis2": {
         "anchor": "y2",
         "domain": [
          0,
          1
         ],
         "matches": "x3",
         "showticklabels": false
        },
        "xaxis3": {
         "anchor": "y3",
         "domain": [
          0,
          1
         ]
        },
        "yaxis": {
         "anchor": "x",
         "domain": [
          0.7777777777777778,
          1
         ],
         "title": {
          "text": "Accuracy"
         }
        },
        "yaxis2": {
         "anchor": "x2",
         "domain": [
          0.3888888888888889,
          0.6111111111111112
         ],
         "title": {
          "text": "Amount of<br>correct predictions"
         }
        },
        "yaxis3": {
         "anchor": "x3",
         "domain": [
          0,
          0.22222222222222224
         ],
         "title": {
          "text": "Amount of<br>false predictions"
         }
        }
       }
      }
     },
     "metadata": {},
     "output_type": "display_data"
    },
    {
     "data": {
      "application/vnd.plotly.v1+json": {
       "config": {
        "plotlyServerURL": "https://plot.ly"
       },
       "data": [
        {
         "showlegend": false,
         "type": "bar",
         "x": [
          "dessi data",
          "german",
          "mixed language",
          "english",
          "french"
         ],
         "xaxis": "x",
         "y": [
          0.7698132256436143,
          0.7608763693270736,
          0.7463154593916588,
          0.7281583909490886,
          0.7063616421184582
         ],
         "yaxis": "y"
        },
        {
         "showlegend": false,
         "type": "bar",
         "x": [
          "dessi",
          "faker",
          "mimesis"
         ],
         "xaxis": "x2",
         "y": [
          0.7698132256436143,
          0.7590588235294118,
          0.7118458163585083
         ],
         "yaxis": "y2"
        },
        {
         "showlegend": false,
         "type": "bar",
         "x": [
          "valid_col_names",
          "invalid_col_names"
         ],
         "xaxis": "x3",
         "y": [
          0.7443445925007747,
          0.7367213906325447
         ],
         "yaxis": "y3"
        }
       ],
       "layout": {
        "annotations": [
         {
          "font": {
           "size": 16
          },
          "showarrow": false,
          "text": "Accuracy per Language",
          "x": 0.14444444444444446,
          "xanchor": "center",
          "xref": "paper",
          "y": 1,
          "yanchor": "bottom",
          "yref": "paper"
         },
         {
          "font": {
           "size": 16
          },
          "showarrow": false,
          "text": "Accuracy per Dataset",
          "x": 0.5,
          "xanchor": "center",
          "xref": "paper",
          "y": 1,
          "yanchor": "bottom",
          "yref": "paper"
         },
         {
          "font": {
           "size": 16
          },
          "showarrow": false,
          "text": "Accuracy per Column Name",
          "x": 0.8555555555555556,
          "xanchor": "center",
          "xref": "paper",
          "y": 1,
          "yanchor": "bottom",
          "yref": "paper"
         }
        ],
        "height": 500,
        "template": {
         "data": {
          "bar": [
           {
            "error_x": {
             "color": "#2a3f5f"
            },
            "error_y": {
             "color": "#2a3f5f"
            },
            "marker": {
             "line": {
              "color": "#E5ECF6",
              "width": 0.5
             },
             "pattern": {
              "fillmode": "overlay",
              "size": 10,
              "solidity": 0.2
             }
            },
            "type": "bar"
           }
          ],
          "barpolar": [
           {
            "marker": {
             "line": {
              "color": "#E5ECF6",
              "width": 0.5
             },
             "pattern": {
              "fillmode": "overlay",
              "size": 10,
              "solidity": 0.2
             }
            },
            "type": "barpolar"
           }
          ],
          "carpet": [
           {
            "aaxis": {
             "endlinecolor": "#2a3f5f",
             "gridcolor": "white",
             "linecolor": "white",
             "minorgridcolor": "white",
             "startlinecolor": "#2a3f5f"
            },
            "baxis": {
             "endlinecolor": "#2a3f5f",
             "gridcolor": "white",
             "linecolor": "white",
             "minorgridcolor": "white",
             "startlinecolor": "#2a3f5f"
            },
            "type": "carpet"
           }
          ],
          "choropleth": [
           {
            "colorbar": {
             "outlinewidth": 0,
             "ticks": ""
            },
            "type": "choropleth"
           }
          ],
          "contour": [
           {
            "colorbar": {
             "outlinewidth": 0,
             "ticks": ""
            },
            "colorscale": [
             [
              0,
              "#0d0887"
             ],
             [
              0.1111111111111111,
              "#46039f"
             ],
             [
              0.2222222222222222,
              "#7201a8"
             ],
             [
              0.3333333333333333,
              "#9c179e"
             ],
             [
              0.4444444444444444,
              "#bd3786"
             ],
             [
              0.5555555555555556,
              "#d8576b"
             ],
             [
              0.6666666666666666,
              "#ed7953"
             ],
             [
              0.7777777777777778,
              "#fb9f3a"
             ],
             [
              0.8888888888888888,
              "#fdca26"
             ],
             [
              1,
              "#f0f921"
             ]
            ],
            "type": "contour"
           }
          ],
          "contourcarpet": [
           {
            "colorbar": {
             "outlinewidth": 0,
             "ticks": ""
            },
            "type": "contourcarpet"
           }
          ],
          "heatmap": [
           {
            "colorbar": {
             "outlinewidth": 0,
             "ticks": ""
            },
            "colorscale": [
             [
              0,
              "#0d0887"
             ],
             [
              0.1111111111111111,
              "#46039f"
             ],
             [
              0.2222222222222222,
              "#7201a8"
             ],
             [
              0.3333333333333333,
              "#9c179e"
             ],
             [
              0.4444444444444444,
              "#bd3786"
             ],
             [
              0.5555555555555556,
              "#d8576b"
             ],
             [
              0.6666666666666666,
              "#ed7953"
             ],
             [
              0.7777777777777778,
              "#fb9f3a"
             ],
             [
              0.8888888888888888,
              "#fdca26"
             ],
             [
              1,
              "#f0f921"
             ]
            ],
            "type": "heatmap"
           }
          ],
          "heatmapgl": [
           {
            "colorbar": {
             "outlinewidth": 0,
             "ticks": ""
            },
            "colorscale": [
             [
              0,
              "#0d0887"
             ],
             [
              0.1111111111111111,
              "#46039f"
             ],
             [
              0.2222222222222222,
              "#7201a8"
             ],
             [
              0.3333333333333333,
              "#9c179e"
             ],
             [
              0.4444444444444444,
              "#bd3786"
             ],
             [
              0.5555555555555556,
              "#d8576b"
             ],
             [
              0.6666666666666666,
              "#ed7953"
             ],
             [
              0.7777777777777778,
              "#fb9f3a"
             ],
             [
              0.8888888888888888,
              "#fdca26"
             ],
             [
              1,
              "#f0f921"
             ]
            ],
            "type": "heatmapgl"
           }
          ],
          "histogram": [
           {
            "marker": {
             "pattern": {
              "fillmode": "overlay",
              "size": 10,
              "solidity": 0.2
             }
            },
            "type": "histogram"
           }
          ],
          "histogram2d": [
           {
            "colorbar": {
             "outlinewidth": 0,
             "ticks": ""
            },
            "colorscale": [
             [
              0,
              "#0d0887"
             ],
             [
              0.1111111111111111,
              "#46039f"
             ],
             [
              0.2222222222222222,
              "#7201a8"
             ],
             [
              0.3333333333333333,
              "#9c179e"
             ],
             [
              0.4444444444444444,
              "#bd3786"
             ],
             [
              0.5555555555555556,
              "#d8576b"
             ],
             [
              0.6666666666666666,
              "#ed7953"
             ],
             [
              0.7777777777777778,
              "#fb9f3a"
             ],
             [
              0.8888888888888888,
              "#fdca26"
             ],
             [
              1,
              "#f0f921"
             ]
            ],
            "type": "histogram2d"
           }
          ],
          "histogram2dcontour": [
           {
            "colorbar": {
             "outlinewidth": 0,
             "ticks": ""
            },
            "colorscale": [
             [
              0,
              "#0d0887"
             ],
             [
              0.1111111111111111,
              "#46039f"
             ],
             [
              0.2222222222222222,
              "#7201a8"
             ],
             [
              0.3333333333333333,
              "#9c179e"
             ],
             [
              0.4444444444444444,
              "#bd3786"
             ],
             [
              0.5555555555555556,
              "#d8576b"
             ],
             [
              0.6666666666666666,
              "#ed7953"
             ],
             [
              0.7777777777777778,
              "#fb9f3a"
             ],
             [
              0.8888888888888888,
              "#fdca26"
             ],
             [
              1,
              "#f0f921"
             ]
            ],
            "type": "histogram2dcontour"
           }
          ],
          "mesh3d": [
           {
            "colorbar": {
             "outlinewidth": 0,
             "ticks": ""
            },
            "type": "mesh3d"
           }
          ],
          "parcoords": [
           {
            "line": {
             "colorbar": {
              "outlinewidth": 0,
              "ticks": ""
             }
            },
            "type": "parcoords"
           }
          ],
          "pie": [
           {
            "automargin": true,
            "type": "pie"
           }
          ],
          "scatter": [
           {
            "fillpattern": {
             "fillmode": "overlay",
             "size": 10,
             "solidity": 0.2
            },
            "type": "scatter"
           }
          ],
          "scatter3d": [
           {
            "line": {
             "colorbar": {
              "outlinewidth": 0,
              "ticks": ""
             }
            },
            "marker": {
             "colorbar": {
              "outlinewidth": 0,
              "ticks": ""
             }
            },
            "type": "scatter3d"
           }
          ],
          "scattercarpet": [
           {
            "marker": {
             "colorbar": {
              "outlinewidth": 0,
              "ticks": ""
             }
            },
            "type": "scattercarpet"
           }
          ],
          "scattergeo": [
           {
            "marker": {
             "colorbar": {
              "outlinewidth": 0,
              "ticks": ""
             }
            },
            "type": "scattergeo"
           }
          ],
          "scattergl": [
           {
            "marker": {
             "colorbar": {
              "outlinewidth": 0,
              "ticks": ""
             }
            },
            "type": "scattergl"
           }
          ],
          "scattermapbox": [
           {
            "marker": {
             "colorbar": {
              "outlinewidth": 0,
              "ticks": ""
             }
            },
            "type": "scattermapbox"
           }
          ],
          "scatterpolar": [
           {
            "marker": {
             "colorbar": {
              "outlinewidth": 0,
              "ticks": ""
             }
            },
            "type": "scatterpolar"
           }
          ],
          "scatterpolargl": [
           {
            "marker": {
             "colorbar": {
              "outlinewidth": 0,
              "ticks": ""
             }
            },
            "type": "scatterpolargl"
           }
          ],
          "scatterternary": [
           {
            "marker": {
             "colorbar": {
              "outlinewidth": 0,
              "ticks": ""
             }
            },
            "type": "scatterternary"
           }
          ],
          "surface": [
           {
            "colorbar": {
             "outlinewidth": 0,
             "ticks": ""
            },
            "colorscale": [
             [
              0,
              "#0d0887"
             ],
             [
              0.1111111111111111,
              "#46039f"
             ],
             [
              0.2222222222222222,
              "#7201a8"
             ],
             [
              0.3333333333333333,
              "#9c179e"
             ],
             [
              0.4444444444444444,
              "#bd3786"
             ],
             [
              0.5555555555555556,
              "#d8576b"
             ],
             [
              0.6666666666666666,
              "#ed7953"
             ],
             [
              0.7777777777777778,
              "#fb9f3a"
             ],
             [
              0.8888888888888888,
              "#fdca26"
             ],
             [
              1,
              "#f0f921"
             ]
            ],
            "type": "surface"
           }
          ],
          "table": [
           {
            "cells": {
             "fill": {
              "color": "#EBF0F8"
             },
             "line": {
              "color": "white"
             }
            },
            "header": {
             "fill": {
              "color": "#C8D4E3"
             },
             "line": {
              "color": "white"
             }
            },
            "type": "table"
           }
          ]
         },
         "layout": {
          "annotationdefaults": {
           "arrowcolor": "#2a3f5f",
           "arrowhead": 0,
           "arrowwidth": 1
          },
          "autotypenumbers": "strict",
          "coloraxis": {
           "colorbar": {
            "outlinewidth": 0,
            "ticks": ""
           }
          },
          "colorscale": {
           "diverging": [
            [
             0,
             "#8e0152"
            ],
            [
             0.1,
             "#c51b7d"
            ],
            [
             0.2,
             "#de77ae"
            ],
            [
             0.3,
             "#f1b6da"
            ],
            [
             0.4,
             "#fde0ef"
            ],
            [
             0.5,
             "#f7f7f7"
            ],
            [
             0.6,
             "#e6f5d0"
            ],
            [
             0.7,
             "#b8e186"
            ],
            [
             0.8,
             "#7fbc41"
            ],
            [
             0.9,
             "#4d9221"
            ],
            [
             1,
             "#276419"
            ]
           ],
           "sequential": [
            [
             0,
             "#0d0887"
            ],
            [
             0.1111111111111111,
             "#46039f"
            ],
            [
             0.2222222222222222,
             "#7201a8"
            ],
            [
             0.3333333333333333,
             "#9c179e"
            ],
            [
             0.4444444444444444,
             "#bd3786"
            ],
            [
             0.5555555555555556,
             "#d8576b"
            ],
            [
             0.6666666666666666,
             "#ed7953"
            ],
            [
             0.7777777777777778,
             "#fb9f3a"
            ],
            [
             0.8888888888888888,
             "#fdca26"
            ],
            [
             1,
             "#f0f921"
            ]
           ],
           "sequentialminus": [
            [
             0,
             "#0d0887"
            ],
            [
             0.1111111111111111,
             "#46039f"
            ],
            [
             0.2222222222222222,
             "#7201a8"
            ],
            [
             0.3333333333333333,
             "#9c179e"
            ],
            [
             0.4444444444444444,
             "#bd3786"
            ],
            [
             0.5555555555555556,
             "#d8576b"
            ],
            [
             0.6666666666666666,
             "#ed7953"
            ],
            [
             0.7777777777777778,
             "#fb9f3a"
            ],
            [
             0.8888888888888888,
             "#fdca26"
            ],
            [
             1,
             "#f0f921"
            ]
           ]
          },
          "colorway": [
           "#636efa",
           "#EF553B",
           "#00cc96",
           "#ab63fa",
           "#FFA15A",
           "#19d3f3",
           "#FF6692",
           "#B6E880",
           "#FF97FF",
           "#FECB52"
          ],
          "font": {
           "color": "#2a3f5f"
          },
          "geo": {
           "bgcolor": "white",
           "lakecolor": "white",
           "landcolor": "#E5ECF6",
           "showlakes": true,
           "showland": true,
           "subunitcolor": "white"
          },
          "hoverlabel": {
           "align": "left"
          },
          "hovermode": "closest",
          "mapbox": {
           "style": "light"
          },
          "paper_bgcolor": "white",
          "plot_bgcolor": "#E5ECF6",
          "polar": {
           "angularaxis": {
            "gridcolor": "white",
            "linecolor": "white",
            "ticks": ""
           },
           "bgcolor": "#E5ECF6",
           "radialaxis": {
            "gridcolor": "white",
            "linecolor": "white",
            "ticks": ""
           }
          },
          "scene": {
           "xaxis": {
            "backgroundcolor": "#E5ECF6",
            "gridcolor": "white",
            "gridwidth": 2,
            "linecolor": "white",
            "showbackground": true,
            "ticks": "",
            "zerolinecolor": "white"
           },
           "yaxis": {
            "backgroundcolor": "#E5ECF6",
            "gridcolor": "white",
            "gridwidth": 2,
            "linecolor": "white",
            "showbackground": true,
            "ticks": "",
            "zerolinecolor": "white"
           },
           "zaxis": {
            "backgroundcolor": "#E5ECF6",
            "gridcolor": "white",
            "gridwidth": 2,
            "linecolor": "white",
            "showbackground": true,
            "ticks": "",
            "zerolinecolor": "white"
           }
          },
          "shapedefaults": {
           "line": {
            "color": "#2a3f5f"
           }
          },
          "ternary": {
           "aaxis": {
            "gridcolor": "white",
            "linecolor": "white",
            "ticks": ""
           },
           "baxis": {
            "gridcolor": "white",
            "linecolor": "white",
            "ticks": ""
           },
           "bgcolor": "#E5ECF6",
           "caxis": {
            "gridcolor": "white",
            "linecolor": "white",
            "ticks": ""
           }
          },
          "title": {
           "x": 0.05
          },
          "xaxis": {
           "automargin": true,
           "gridcolor": "white",
           "linecolor": "white",
           "ticks": "",
           "title": {
            "standoff": 15
           },
           "zerolinecolor": "white",
           "zerolinewidth": 2
          },
          "yaxis": {
           "automargin": true,
           "gridcolor": "white",
           "linecolor": "white",
           "ticks": "",
           "title": {
            "standoff": 15
           },
           "zerolinecolor": "white",
           "zerolinewidth": 2
          }
         }
        },
        "title": {
         "text": "Accuracy of GPT's personal Predictions on dessi-mf with respect to different categories"
        },
        "width": 900,
        "xaxis": {
         "anchor": "y",
         "domain": [
          0,
          0.2888888888888889
         ]
        },
        "xaxis2": {
         "anchor": "y2",
         "domain": [
          0.35555555555555557,
          0.6444444444444445
         ]
        },
        "xaxis3": {
         "anchor": "y3",
         "domain": [
          0.7111111111111111,
          1
         ]
        },
        "yaxis": {
         "anchor": "x",
         "domain": [
          0,
          1
         ]
        },
        "yaxis2": {
         "anchor": "x2",
         "domain": [
          0,
          1
         ],
         "matches": "y",
         "showticklabels": false
        },
        "yaxis3": {
         "anchor": "x3",
         "domain": [
          0,
          1
         ],
         "matches": "y",
         "showticklabels": false
        }
       }
      }
     },
     "metadata": {},
     "output_type": "display_data"
    }
   ],
   "source": [
    "create_analysis_plot(results_df_own_data)"
   ]
  },
  {
   "cell_type": "code",
   "execution_count": null,
   "metadata": {},
   "outputs": [],
   "source": []
  }
 ],
 "metadata": {
  "kernelspec": {
   "display_name": "base",
   "language": "python",
   "name": "python3"
  },
  "language_info": {
   "codemirror_mode": {
    "name": "ipython",
    "version": 3
   },
   "file_extension": ".py",
   "mimetype": "text/x-python",
   "name": "python",
   "nbconvert_exporter": "python",
   "pygments_lexer": "ipython3",
   "version": "3.11.7"
  }
 },
 "nbformat": 4,
 "nbformat_minor": 2
}
