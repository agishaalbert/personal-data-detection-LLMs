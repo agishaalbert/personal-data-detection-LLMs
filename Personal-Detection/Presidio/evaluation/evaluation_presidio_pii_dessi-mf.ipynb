{
 "cells": [
  {
   "cell_type": "code",
   "execution_count": 1,
   "metadata": {},
   "outputs": [],
   "source": [
    "import pandas as pd\n",
    "import re\n",
    "import numpy as np\n",
    "import ast\n",
    "import json\n",
    "\n",
    "from sklearn.metrics import f1_score, precision_score, recall_score, accuracy_score, roc_auc_score, confusion_matrix\n",
    "import plotly.graph_objects as go\n",
    "from plotly.subplots import make_subplots"
   ]
  },
  {
   "cell_type": "markdown",
   "metadata": {},
   "source": [
    "# Evaluation of Presidio results on dessi-mf"
   ]
  },
  {
   "cell_type": "code",
   "execution_count": 2,
   "metadata": {},
   "outputs": [],
   "source": [
    "own_data_labels = pd.read_csv(\"../../datasets/dessi-mf/dessi-mf/test_labels_pii.csv\")\n",
    "own_data = pd.read_csv(\"../../datasets/dessi-mf/dessi-mf/test.csv\")\n",
    "own_data_classes = pd.read_csv(\"../../datasets/dessi-mf/dessi-mf/test_classes.csv\")\n",
    "own_data_datasets = pd.read_csv(\"../../datasets/dessi-mf/dessi-mf/test_dataset.csv\")"
   ]
  },
  {
   "cell_type": "code",
   "execution_count": 3,
   "metadata": {},
   "outputs": [],
   "source": [
    "def read_files_binary(method):\n",
    "    results = pd.read_csv(f\"../predictions/binary_results/dessi-mf/results_{method}.csv\")\n",
    "    return results\n",
    "\n",
    "results_rowwise1_all_binary = read_files_binary(\"rowwise1\")\n",
    "results_rowwise2_all_binary = read_files_binary(\"rowwise2\")\n",
    "results_columnwise_all_binary = read_files_binary(\"columnwise\")\n",
    "with open(\"../predictions/binary_results/dessi-mf/most_common.json\", \"rb\") as file:\n",
    "    results_presidio_structured_mc = json.load(file)\n",
    "with open(\"../predictions/binary_results/dessi-mf/highest_confidence.json\", \"rb\") as file:\n",
    "    results_presidio_structured_hc = json.load(file)\n",
    "\n",
    "results_rowwise1_all_binary.iloc[0,:] = own_data_labels[\"label\"].values\n",
    "results_rowwise2_all_binary.iloc[0,:] = own_data_labels[\"label\"].values\n",
    "results_columnwise_all_binary.iloc[0,:] = own_data_labels[\"label\"].values"
   ]
  },
  {
   "cell_type": "markdown",
   "metadata": {},
   "source": [
    "The Classes of Presidio must be mapped to pii or non-pii data"
   ]
  },
  {
   "cell_type": "code",
   "execution_count": 4,
   "metadata": {},
   "outputs": [
    {
     "data": {
      "text/plain": [
       "{'AU_ABN_1',\n",
       " 'AU_ACN_1',\n",
       " 'AU_MEDICARE_1',\n",
       " 'AU_TFN_1',\n",
       " 'CREDIT_CARD_1',\n",
       " 'DATE_TIME_0',\n",
       " 'EMAIL_ADDRESS_1',\n",
       " 'IBAN_CODE_1',\n",
       " 'IN_AADHAAR_1',\n",
       " 'IN_PAN_0',\n",
       " 'IN_PASSPORT_0',\n",
       " 'IN_VEHICLE_REGISTRATION_0',\n",
       " 'IP_ADDRESS_0',\n",
       " 'LOCATION_0',\n",
       " 'MEDICAL_LICENSE_1',\n",
       " 'NRP_0',\n",
       " 'PERSON_0',\n",
       " 'PHONE_NUMBER_0',\n",
       " 'UK_NHS_1',\n",
       " 'URL_0',\n",
       " 'US_BANK_NUMBER_0',\n",
       " 'US_DRIVER_LICENSE_0',\n",
       " 'US_ITIN_0',\n",
       " 'US_PASSPORT_0',\n",
       " 'US_SSN_0',\n",
       " 'shared DATE_TIME_0',\n",
       " 'shared IN_PAN_0',\n",
       " 'shared LOCATION_0',\n",
       " 'shared NRP_0',\n",
       " 'shared PERSON_0',\n",
       " 'shared PHONE_NUMBER_0',\n",
       " 'shared US_BANK_NUMBER_0',\n",
       " 'shared US_DRIVER_LICENSE_0'}"
      ]
     },
     "execution_count": 4,
     "metadata": {},
     "output_type": "execute_result"
    }
   ],
   "source": [
    "s = set()\n",
    "for df in [results_rowwise1_all_binary, results_rowwise2_all_binary, results_columnwise_all_binary]:\n",
    "     for i in range(df.shape[1]):\n",
    "          for j in range(2,201,2):\n",
    "               for v in ast.literal_eval(df.iloc[j,i]):\n",
    "                    v_splitted = v.split(\".\")[0]\n",
    "                    s.add(v_splitted)\n",
    "s.union(set(results_presidio_structured_mc.values()).union(set(results_presidio_structured_hc.values())))\n",
    "s"
   ]
  },
  {
   "cell_type": "code",
   "execution_count": 4,
   "metadata": {},
   "outputs": [],
   "source": [
    "# classes that contain pii infor, all other classes not contain pii data\n",
    "# non personal [\"AU_ABN\", \"AU_ACN\", \"IP_ADDRESS\", \"LOCATION\", \"shared LOCATION\", \"URL\"]\n",
    "PII_CLASSES = [\"AU_MEDICARE\", \"AU_TFN\", \"CREDIT_CARD\", \"EMAIL_ADDRESS\", \"IBAN_CODE\", \"IN_AADHAAR\", \"IN_PAN\", \"IN_PASSPORT\", \"IP_ADDRESS\", \"IN_VEHICLE_REGISTRATION\", \"MEDICAL_LICENSE\",\n",
    "               \"PERSON\", \"PHONE_NUMBER\", \"UK_NHS\", \"US_BANK_NUMBER\", \"US_DRIVER_LICENSE\", \"US_ITIN\", \"US_PASSPORT\", \"US_SSN\", \n",
    "               \"shared IN_PAN\", \"shared IN_VEHICLE_REGISTRATION\", \"shared PERSON\", \"shared PHONE_NUMBER\", \"shared US_BANK_NUMBER\", \"shared US_DRIVER_LICENSE\"]"
   ]
  },
  {
   "cell_type": "markdown",
   "metadata": {},
   "source": [
    "It is very unlikely that the recognized Australian and Indian IDS are correct, Presidio might perform worse"
   ]
  },
  {
   "cell_type": "code",
   "execution_count": 12,
   "metadata": {},
   "outputs": [],
   "source": [
    "def get_categories_binary(strings):\n",
    "    if strings == []:\n",
    "        return \"non-pii\"\n",
    "    for s in strings:\n",
    "        if s in PII_CLASSES:\n",
    "            return \"pii\"  \n",
    "    return \"non-pii\"\n",
    "\n",
    "def build_dataframe_binary(results_df, threshold_score, threshold_count):\n",
    "    height, width = results_df.shape\n",
    "    results_copy = results_df.copy()\n",
    "    print(f\"Threshold score: {threshold_score}\\nThreshold count: {threshold_count}\")\n",
    "    empty_row1 = [[] for _ in range(width)]\n",
    "    empty_row2 = [[] for _ in range(width)]\n",
    "    empty_row3 = [\"\" for _ in range(width)]\n",
    "    results_copy.loc[height] = empty_row1.copy()\n",
    "    results_copy.loc[height+1] = empty_row2.copy()\n",
    "    results_copy.loc[height+2] = empty_row3.copy()\n",
    "    for i in range(width):\n",
    "        series = pd.Series([item for sublist in results_copy.iloc[2:height:2, i]\n",
    "                        for item in ast.literal_eval(sublist)], dtype=\"object\").value_counts()\n",
    "        for a, b in series.items():\n",
    "            if b > threshold_count:\n",
    "                results_copy.iloc[height, i].append(a)\n",
    "                results_copy.iloc[height+1, i].append(b)\n",
    "    for i in range(width):\n",
    "        entities = [re.sub(r'_\\d+(\\.\\d+)?$', '', item)\n",
    "                    for item in results_copy.iloc[height, i] if float(re.search(r'(\\d+\\.\\d+)', item).group(1)) >= threshold_score]\n",
    "        mapped_entities = get_categories_binary(entities)\n",
    "        results_copy.iloc[height+2, i] = mapped_entities\n",
    "    return results_copy\n",
    "\n",
    "def compute_performance_binary(results):\n",
    "    results_copy = results.copy()\n",
    "    #map pii/non-pii to 1/0 so that the metrices are meaningful\n",
    "    y_true = results_copy.loc[0].map(lambda x: 1 if x == \"pii\" else 0)\n",
    "    y_pred = results_copy.loc[results_copy.shape[0]-1].map(lambda x: 1 if x == \"pii\" else 0)\n",
    "    precision = precision_score(y_true, y_pred, zero_division=0.0)\n",
    "    recall = recall_score(y_true, y_pred, zero_division=0.0)\n",
    "    f1 = f1_score(y_true, y_pred, zero_division=0.0)\n",
    "    accuracy = accuracy_score(y_true, y_pred)\n",
    "    roc_auc = roc_auc_score(y_true, y_pred)\n",
    "    evaluation = {\n",
    "        'f1': f1,\n",
    "        'precision': precision,\n",
    "        'recall': recall,\n",
    "        'accuracy': accuracy,\n",
    "        'roc_auc': roc_auc\n",
    "    }\n",
    "    \n",
    "    return evaluation"
   ]
  },
  {
   "cell_type": "markdown",
   "metadata": {},
   "source": [
    "Apply threshold on the Presidio score and the amount of detection   \n",
    "Find out which thresholds and which method yields the best results"
   ]
  },
  {
   "cell_type": "code",
   "execution_count": 7,
   "metadata": {},
   "outputs": [
    {
     "name": "stdout",
     "output_type": "stream",
     "text": [
      "Method 1 Rowwise\n",
      "Threshold score: 0\n",
      "Threshold count: 0\n",
      "Threshold score: 0\n",
      "Threshold count: 10\n",
      "Threshold score: 0\n",
      "Threshold count: 20\n",
      "Threshold score: 0\n",
      "Threshold count: 30\n",
      "Threshold score: 0\n",
      "Threshold count: 40\n",
      "Threshold score: 0\n",
      "Threshold count: 50\n",
      "Threshold score: 0\n",
      "Threshold count: 60\n",
      "Threshold score: 0\n",
      "Threshold count: 70\n",
      "Threshold score: 0\n",
      "Threshold count: 80\n",
      "Threshold score: 0\n",
      "Threshold count: 90\n",
      "Threshold score: 0.1\n",
      "Threshold count: 0\n",
      "Threshold score: 0.1\n",
      "Threshold count: 10\n",
      "Threshold score: 0.1\n",
      "Threshold count: 20\n",
      "Threshold score: 0.1\n",
      "Threshold count: 30\n",
      "Threshold score: 0.1\n",
      "Threshold count: 40\n",
      "Threshold score: 0.1\n",
      "Threshold count: 50\n",
      "Threshold score: 0.1\n",
      "Threshold count: 60\n",
      "Threshold score: 0.1\n",
      "Threshold count: 70\n",
      "Threshold score: 0.1\n",
      "Threshold count: 80\n",
      "Threshold score: 0.1\n",
      "Threshold count: 90\n",
      "Threshold score: 0.2\n",
      "Threshold count: 0\n",
      "Threshold score: 0.2\n",
      "Threshold count: 10\n",
      "Threshold score: 0.2\n",
      "Threshold count: 20\n",
      "Threshold score: 0.2\n",
      "Threshold count: 30\n",
      "Threshold score: 0.2\n",
      "Threshold count: 40\n",
      "Threshold score: 0.2\n",
      "Threshold count: 50\n",
      "Threshold score: 0.2\n",
      "Threshold count: 60\n",
      "Threshold score: 0.2\n",
      "Threshold count: 70\n",
      "Threshold score: 0.2\n",
      "Threshold count: 80\n",
      "Threshold score: 0.2\n",
      "Threshold count: 90\n",
      "Threshold score: 0.3\n",
      "Threshold count: 0\n",
      "Threshold score: 0.3\n",
      "Threshold count: 10\n",
      "Threshold score: 0.3\n",
      "Threshold count: 20\n",
      "Threshold score: 0.3\n",
      "Threshold count: 30\n",
      "Threshold score: 0.3\n",
      "Threshold count: 40\n",
      "Threshold score: 0.3\n",
      "Threshold count: 50\n",
      "Threshold score: 0.3\n",
      "Threshold count: 60\n",
      "Threshold score: 0.3\n",
      "Threshold count: 70\n",
      "Threshold score: 0.3\n",
      "Threshold count: 80\n",
      "Threshold score: 0.3\n",
      "Threshold count: 90\n",
      "Threshold score: 0.4\n",
      "Threshold count: 0\n",
      "Threshold score: 0.4\n",
      "Threshold count: 10\n",
      "Threshold score: 0.4\n",
      "Threshold count: 20\n",
      "Threshold score: 0.4\n",
      "Threshold count: 30\n",
      "Threshold score: 0.4\n",
      "Threshold count: 40\n",
      "Threshold score: 0.4\n",
      "Threshold count: 50\n",
      "Threshold score: 0.4\n",
      "Threshold count: 60\n",
      "Threshold score: 0.4\n",
      "Threshold count: 70\n",
      "Threshold score: 0.4\n",
      "Threshold count: 80\n",
      "Threshold score: 0.4\n",
      "Threshold count: 90\n",
      "Threshold score: 0.5\n",
      "Threshold count: 0\n",
      "Threshold score: 0.5\n",
      "Threshold count: 10\n",
      "Threshold score: 0.5\n",
      "Threshold count: 20\n",
      "Threshold score: 0.5\n",
      "Threshold count: 30\n",
      "Threshold score: 0.5\n",
      "Threshold count: 40\n",
      "Threshold score: 0.5\n",
      "Threshold count: 50\n",
      "Threshold score: 0.5\n",
      "Threshold count: 60\n",
      "Threshold score: 0.5\n",
      "Threshold count: 70\n",
      "Threshold score: 0.5\n",
      "Threshold count: 80\n",
      "Threshold score: 0.5\n",
      "Threshold count: 90\n",
      "Threshold score: 0.6\n",
      "Threshold count: 0\n",
      "Threshold score: 0.6\n",
      "Threshold count: 10\n",
      "Threshold score: 0.6\n",
      "Threshold count: 20\n",
      "Threshold score: 0.6\n",
      "Threshold count: 30\n",
      "Threshold score: 0.6\n",
      "Threshold count: 40\n",
      "Threshold score: 0.6\n",
      "Threshold count: 50\n",
      "Threshold score: 0.6\n",
      "Threshold count: 60\n",
      "Threshold score: 0.6\n",
      "Threshold count: 70\n",
      "Threshold score: 0.6\n",
      "Threshold count: 80\n",
      "Threshold score: 0.6\n",
      "Threshold count: 90\n",
      "Threshold score: 0.7\n",
      "Threshold count: 0\n",
      "Threshold score: 0.7\n",
      "Threshold count: 10\n",
      "Threshold score: 0.7\n",
      "Threshold count: 20\n",
      "Threshold score: 0.7\n",
      "Threshold count: 30\n",
      "Threshold score: 0.7\n",
      "Threshold count: 40\n",
      "Threshold score: 0.7\n",
      "Threshold count: 50\n",
      "Threshold score: 0.7\n",
      "Threshold count: 60\n",
      "Threshold score: 0.7\n",
      "Threshold count: 70\n",
      "Threshold score: 0.7\n",
      "Threshold count: 80\n",
      "Threshold score: 0.7\n",
      "Threshold count: 90\n",
      "Threshold score: 0.8\n",
      "Threshold count: 0\n",
      "Threshold score: 0.8\n",
      "Threshold count: 10\n",
      "Threshold score: 0.8\n",
      "Threshold count: 20\n",
      "Threshold score: 0.8\n",
      "Threshold count: 30\n",
      "Threshold score: 0.8\n",
      "Threshold count: 40\n",
      "Threshold score: 0.8\n",
      "Threshold count: 50\n",
      "Threshold score: 0.8\n",
      "Threshold count: 60\n",
      "Threshold score: 0.8\n",
      "Threshold count: 70\n",
      "Threshold score: 0.8\n",
      "Threshold count: 80\n",
      "Threshold score: 0.8\n",
      "Threshold count: 90\n",
      "Threshold score: 0.9\n",
      "Threshold count: 0\n",
      "Threshold score: 0.9\n",
      "Threshold count: 10\n",
      "Threshold score: 0.9\n",
      "Threshold count: 20\n",
      "Threshold score: 0.9\n",
      "Threshold count: 30\n",
      "Threshold score: 0.9\n",
      "Threshold count: 40\n",
      "Threshold score: 0.9\n",
      "Threshold count: 50\n",
      "Threshold score: 0.9\n",
      "Threshold count: 60\n",
      "Threshold score: 0.9\n",
      "Threshold count: 70\n",
      "Threshold score: 0.9\n",
      "Threshold count: 80\n",
      "Threshold score: 0.9\n",
      "Threshold count: 90\n",
      "Threshold score: 1.0\n",
      "Threshold count: 0\n",
      "Threshold score: 1.0\n",
      "Threshold count: 10\n",
      "Threshold score: 1.0\n",
      "Threshold count: 20\n",
      "Threshold score: 1.0\n",
      "Threshold count: 30\n",
      "Threshold score: 1.0\n",
      "Threshold count: 40\n",
      "Threshold score: 1.0\n",
      "Threshold count: 50\n",
      "Threshold score: 1.0\n",
      "Threshold count: 60\n",
      "Threshold score: 1.0\n",
      "Threshold count: 70\n",
      "Threshold score: 1.0\n",
      "Threshold count: 80\n",
      "Threshold score: 1.0\n",
      "Threshold count: 90\n",
      "Method 2 Rowwise\n",
      "Threshold score: 0\n",
      "Threshold count: 0\n",
      "Threshold score: 0\n",
      "Threshold count: 10\n",
      "Threshold score: 0\n",
      "Threshold count: 20\n",
      "Threshold score: 0\n",
      "Threshold count: 30\n",
      "Threshold score: 0\n",
      "Threshold count: 40\n",
      "Threshold score: 0\n",
      "Threshold count: 50\n",
      "Threshold score: 0\n",
      "Threshold count: 60\n",
      "Threshold score: 0\n",
      "Threshold count: 70\n",
      "Threshold score: 0\n",
      "Threshold count: 80\n",
      "Threshold score: 0\n",
      "Threshold count: 90\n",
      "Threshold score: 0.1\n",
      "Threshold count: 0\n",
      "Threshold score: 0.1\n",
      "Threshold count: 10\n",
      "Threshold score: 0.1\n",
      "Threshold count: 20\n",
      "Threshold score: 0.1\n",
      "Threshold count: 30\n",
      "Threshold score: 0.1\n",
      "Threshold count: 40\n",
      "Threshold score: 0.1\n",
      "Threshold count: 50\n",
      "Threshold score: 0.1\n",
      "Threshold count: 60\n",
      "Threshold score: 0.1\n",
      "Threshold count: 70\n",
      "Threshold score: 0.1\n",
      "Threshold count: 80\n",
      "Threshold score: 0.1\n",
      "Threshold count: 90\n",
      "Threshold score: 0.2\n",
      "Threshold count: 0\n",
      "Threshold score: 0.2\n",
      "Threshold count: 10\n",
      "Threshold score: 0.2\n",
      "Threshold count: 20\n",
      "Threshold score: 0.2\n",
      "Threshold count: 30\n",
      "Threshold score: 0.2\n",
      "Threshold count: 40\n",
      "Threshold score: 0.2\n",
      "Threshold count: 50\n",
      "Threshold score: 0.2\n",
      "Threshold count: 60\n",
      "Threshold score: 0.2\n",
      "Threshold count: 70\n",
      "Threshold score: 0.2\n",
      "Threshold count: 80\n",
      "Threshold score: 0.2\n",
      "Threshold count: 90\n",
      "Threshold score: 0.3\n",
      "Threshold count: 0\n",
      "Threshold score: 0.3\n",
      "Threshold count: 10\n",
      "Threshold score: 0.3\n",
      "Threshold count: 20\n",
      "Threshold score: 0.3\n",
      "Threshold count: 30\n",
      "Threshold score: 0.3\n",
      "Threshold count: 40\n",
      "Threshold score: 0.3\n",
      "Threshold count: 50\n",
      "Threshold score: 0.3\n",
      "Threshold count: 60\n",
      "Threshold score: 0.3\n",
      "Threshold count: 70\n",
      "Threshold score: 0.3\n",
      "Threshold count: 80\n",
      "Threshold score: 0.3\n",
      "Threshold count: 90\n",
      "Threshold score: 0.4\n",
      "Threshold count: 0\n",
      "Threshold score: 0.4\n",
      "Threshold count: 10\n",
      "Threshold score: 0.4\n",
      "Threshold count: 20\n",
      "Threshold score: 0.4\n",
      "Threshold count: 30\n",
      "Threshold score: 0.4\n",
      "Threshold count: 40\n",
      "Threshold score: 0.4\n",
      "Threshold count: 50\n",
      "Threshold score: 0.4\n",
      "Threshold count: 60\n",
      "Threshold score: 0.4\n",
      "Threshold count: 70\n",
      "Threshold score: 0.4\n",
      "Threshold count: 80\n",
      "Threshold score: 0.4\n",
      "Threshold count: 90\n",
      "Threshold score: 0.5\n",
      "Threshold count: 0\n",
      "Threshold score: 0.5\n",
      "Threshold count: 10\n",
      "Threshold score: 0.5\n",
      "Threshold count: 20\n",
      "Threshold score: 0.5\n",
      "Threshold count: 30\n",
      "Threshold score: 0.5\n",
      "Threshold count: 40\n",
      "Threshold score: 0.5\n",
      "Threshold count: 50\n",
      "Threshold score: 0.5\n",
      "Threshold count: 60\n",
      "Threshold score: 0.5\n",
      "Threshold count: 70\n",
      "Threshold score: 0.5\n",
      "Threshold count: 80\n",
      "Threshold score: 0.5\n",
      "Threshold count: 90\n",
      "Threshold score: 0.6\n",
      "Threshold count: 0\n",
      "Threshold score: 0.6\n",
      "Threshold count: 10\n",
      "Threshold score: 0.6\n",
      "Threshold count: 20\n",
      "Threshold score: 0.6\n",
      "Threshold count: 30\n",
      "Threshold score: 0.6\n",
      "Threshold count: 40\n",
      "Threshold score: 0.6\n",
      "Threshold count: 50\n",
      "Threshold score: 0.6\n",
      "Threshold count: 60\n",
      "Threshold score: 0.6\n",
      "Threshold count: 70\n",
      "Threshold score: 0.6\n",
      "Threshold count: 80\n",
      "Threshold score: 0.6\n",
      "Threshold count: 90\n",
      "Threshold score: 0.7\n",
      "Threshold count: 0\n",
      "Threshold score: 0.7\n",
      "Threshold count: 10\n",
      "Threshold score: 0.7\n",
      "Threshold count: 20\n",
      "Threshold score: 0.7\n",
      "Threshold count: 30\n",
      "Threshold score: 0.7\n",
      "Threshold count: 40\n",
      "Threshold score: 0.7\n",
      "Threshold count: 50\n",
      "Threshold score: 0.7\n",
      "Threshold count: 60\n",
      "Threshold score: 0.7\n",
      "Threshold count: 70\n",
      "Threshold score: 0.7\n",
      "Threshold count: 80\n",
      "Threshold score: 0.7\n",
      "Threshold count: 90\n",
      "Threshold score: 0.8\n",
      "Threshold count: 0\n",
      "Threshold score: 0.8\n",
      "Threshold count: 10\n",
      "Threshold score: 0.8\n",
      "Threshold count: 20\n",
      "Threshold score: 0.8\n",
      "Threshold count: 30\n",
      "Threshold score: 0.8\n",
      "Threshold count: 40\n",
      "Threshold score: 0.8\n",
      "Threshold count: 50\n",
      "Threshold score: 0.8\n",
      "Threshold count: 60\n",
      "Threshold score: 0.8\n",
      "Threshold count: 70\n",
      "Threshold score: 0.8\n",
      "Threshold count: 80\n",
      "Threshold score: 0.8\n",
      "Threshold count: 90\n",
      "Threshold score: 0.9\n",
      "Threshold count: 0\n",
      "Threshold score: 0.9\n",
      "Threshold count: 10\n",
      "Threshold score: 0.9\n",
      "Threshold count: 20\n",
      "Threshold score: 0.9\n",
      "Threshold count: 30\n",
      "Threshold score: 0.9\n",
      "Threshold count: 40\n",
      "Threshold score: 0.9\n",
      "Threshold count: 50\n",
      "Threshold score: 0.9\n",
      "Threshold count: 60\n",
      "Threshold score: 0.9\n",
      "Threshold count: 70\n",
      "Threshold score: 0.9\n",
      "Threshold count: 80\n",
      "Threshold score: 0.9\n",
      "Threshold count: 90\n",
      "Threshold score: 1.0\n",
      "Threshold count: 0\n",
      "Threshold score: 1.0\n",
      "Threshold count: 10\n",
      "Threshold score: 1.0\n",
      "Threshold count: 20\n",
      "Threshold score: 1.0\n",
      "Threshold count: 30\n",
      "Threshold score: 1.0\n",
      "Threshold count: 40\n",
      "Threshold score: 1.0\n",
      "Threshold count: 50\n",
      "Threshold score: 1.0\n",
      "Threshold count: 60\n",
      "Threshold score: 1.0\n",
      "Threshold count: 70\n",
      "Threshold score: 1.0\n",
      "Threshold count: 80\n",
      "Threshold score: 1.0\n",
      "Threshold count: 90\n",
      "Method Columnwise\n",
      "Threshold score: 0\n",
      "Threshold count: 0\n",
      "Threshold score: 0\n",
      "Threshold count: 10\n",
      "Threshold score: 0\n",
      "Threshold count: 20\n",
      "Threshold score: 0\n",
      "Threshold count: 30\n",
      "Threshold score: 0\n",
      "Threshold count: 40\n",
      "Threshold score: 0\n",
      "Threshold count: 50\n",
      "Threshold score: 0\n",
      "Threshold count: 60\n",
      "Threshold score: 0\n",
      "Threshold count: 70\n",
      "Threshold score: 0\n",
      "Threshold count: 80\n",
      "Threshold score: 0\n",
      "Threshold count: 90\n",
      "Threshold score: 0.1\n",
      "Threshold count: 0\n",
      "Threshold score: 0.1\n",
      "Threshold count: 10\n",
      "Threshold score: 0.1\n",
      "Threshold count: 20\n",
      "Threshold score: 0.1\n",
      "Threshold count: 30\n",
      "Threshold score: 0.1\n",
      "Threshold count: 40\n",
      "Threshold score: 0.1\n",
      "Threshold count: 50\n",
      "Threshold score: 0.1\n",
      "Threshold count: 60\n",
      "Threshold score: 0.1\n",
      "Threshold count: 70\n",
      "Threshold score: 0.1\n",
      "Threshold count: 80\n",
      "Threshold score: 0.1\n",
      "Threshold count: 90\n",
      "Threshold score: 0.2\n",
      "Threshold count: 0\n",
      "Threshold score: 0.2\n",
      "Threshold count: 10\n",
      "Threshold score: 0.2\n",
      "Threshold count: 20\n",
      "Threshold score: 0.2\n",
      "Threshold count: 30\n",
      "Threshold score: 0.2\n",
      "Threshold count: 40\n",
      "Threshold score: 0.2\n",
      "Threshold count: 50\n",
      "Threshold score: 0.2\n",
      "Threshold count: 60\n",
      "Threshold score: 0.2\n",
      "Threshold count: 70\n",
      "Threshold score: 0.2\n",
      "Threshold count: 80\n",
      "Threshold score: 0.2\n",
      "Threshold count: 90\n",
      "Threshold score: 0.3\n",
      "Threshold count: 0\n",
      "Threshold score: 0.3\n",
      "Threshold count: 10\n",
      "Threshold score: 0.3\n",
      "Threshold count: 20\n",
      "Threshold score: 0.3\n",
      "Threshold count: 30\n",
      "Threshold score: 0.3\n",
      "Threshold count: 40\n",
      "Threshold score: 0.3\n",
      "Threshold count: 50\n",
      "Threshold score: 0.3\n",
      "Threshold count: 60\n",
      "Threshold score: 0.3\n",
      "Threshold count: 70\n",
      "Threshold score: 0.3\n",
      "Threshold count: 80\n",
      "Threshold score: 0.3\n",
      "Threshold count: 90\n",
      "Threshold score: 0.4\n",
      "Threshold count: 0\n",
      "Threshold score: 0.4\n",
      "Threshold count: 10\n",
      "Threshold score: 0.4\n",
      "Threshold count: 20\n",
      "Threshold score: 0.4\n",
      "Threshold count: 30\n",
      "Threshold score: 0.4\n",
      "Threshold count: 40\n",
      "Threshold score: 0.4\n",
      "Threshold count: 50\n",
      "Threshold score: 0.4\n",
      "Threshold count: 60\n",
      "Threshold score: 0.4\n",
      "Threshold count: 70\n",
      "Threshold score: 0.4\n",
      "Threshold count: 80\n",
      "Threshold score: 0.4\n",
      "Threshold count: 90\n",
      "Threshold score: 0.5\n",
      "Threshold count: 0\n",
      "Threshold score: 0.5\n",
      "Threshold count: 10\n",
      "Threshold score: 0.5\n",
      "Threshold count: 20\n",
      "Threshold score: 0.5\n",
      "Threshold count: 30\n",
      "Threshold score: 0.5\n",
      "Threshold count: 40\n",
      "Threshold score: 0.5\n",
      "Threshold count: 50\n",
      "Threshold score: 0.5\n",
      "Threshold count: 60\n",
      "Threshold score: 0.5\n",
      "Threshold count: 70\n",
      "Threshold score: 0.5\n",
      "Threshold count: 80\n",
      "Threshold score: 0.5\n",
      "Threshold count: 90\n",
      "Threshold score: 0.6\n",
      "Threshold count: 0\n",
      "Threshold score: 0.6\n",
      "Threshold count: 10\n",
      "Threshold score: 0.6\n",
      "Threshold count: 20\n",
      "Threshold score: 0.6\n",
      "Threshold count: 30\n",
      "Threshold score: 0.6\n",
      "Threshold count: 40\n",
      "Threshold score: 0.6\n",
      "Threshold count: 50\n",
      "Threshold score: 0.6\n",
      "Threshold count: 60\n",
      "Threshold score: 0.6\n",
      "Threshold count: 70\n",
      "Threshold score: 0.6\n",
      "Threshold count: 80\n",
      "Threshold score: 0.6\n",
      "Threshold count: 90\n",
      "Threshold score: 0.7\n",
      "Threshold count: 0\n",
      "Threshold score: 0.7\n",
      "Threshold count: 10\n",
      "Threshold score: 0.7\n",
      "Threshold count: 20\n",
      "Threshold score: 0.7\n",
      "Threshold count: 30\n",
      "Threshold score: 0.7\n",
      "Threshold count: 40\n",
      "Threshold score: 0.7\n",
      "Threshold count: 50\n",
      "Threshold score: 0.7\n",
      "Threshold count: 60\n",
      "Threshold score: 0.7\n",
      "Threshold count: 70\n",
      "Threshold score: 0.7\n",
      "Threshold count: 80\n",
      "Threshold score: 0.7\n",
      "Threshold count: 90\n",
      "Threshold score: 0.8\n",
      "Threshold count: 0\n",
      "Threshold score: 0.8\n",
      "Threshold count: 10\n",
      "Threshold score: 0.8\n",
      "Threshold count: 20\n",
      "Threshold score: 0.8\n",
      "Threshold count: 30\n",
      "Threshold score: 0.8\n",
      "Threshold count: 40\n",
      "Threshold score: 0.8\n",
      "Threshold count: 50\n",
      "Threshold score: 0.8\n",
      "Threshold count: 60\n",
      "Threshold score: 0.8\n",
      "Threshold count: 70\n",
      "Threshold score: 0.8\n",
      "Threshold count: 80\n",
      "Threshold score: 0.8\n",
      "Threshold count: 90\n",
      "Threshold score: 0.9\n",
      "Threshold count: 0\n",
      "Threshold score: 0.9\n",
      "Threshold count: 10\n",
      "Threshold score: 0.9\n",
      "Threshold count: 20\n",
      "Threshold score: 0.9\n",
      "Threshold count: 30\n",
      "Threshold score: 0.9\n",
      "Threshold count: 40\n",
      "Threshold score: 0.9\n",
      "Threshold count: 50\n",
      "Threshold score: 0.9\n",
      "Threshold count: 60\n",
      "Threshold score: 0.9\n",
      "Threshold count: 70\n",
      "Threshold score: 0.9\n",
      "Threshold count: 80\n",
      "Threshold score: 0.9\n",
      "Threshold count: 90\n",
      "Threshold score: 1.0\n",
      "Threshold count: 0\n",
      "Threshold score: 1.0\n",
      "Threshold count: 10\n",
      "Threshold score: 1.0\n",
      "Threshold count: 20\n",
      "Threshold score: 1.0\n",
      "Threshold count: 30\n",
      "Threshold score: 1.0\n",
      "Threshold count: 40\n",
      "Threshold score: 1.0\n",
      "Threshold count: 50\n",
      "Threshold score: 1.0\n",
      "Threshold count: 60\n",
      "Threshold score: 1.0\n",
      "Threshold count: 70\n",
      "Threshold score: 1.0\n",
      "Threshold count: 80\n",
      "Threshold score: 1.0\n",
      "Threshold count: 90\n"
     ]
    }
   ],
   "source": [
    "evals_1, evals_2, evals_3 = dict(), dict(), dict()\n",
    "order = [\"all\", \"mimesis\", \"faker\", \"dessi\"]\n",
    "for e, df in enumerate([results_rowwise1_all_binary]):\n",
    "    print(\"Method 1 Rowwise\")\n",
    "    for threshold_score in [0, 0.1, 0.2, 0.3, 0.4, 0.5, 0.6, 0.7, 0.8, 0.9, 1.0]:\n",
    "        for threshold_count in [0, 10, 20, 30, 40, 50, 60, 70, 80, 90]:\n",
    "            eval = compute_performance_binary(build_dataframe_binary(df, threshold_score, threshold_count))\n",
    "            evals_1[f\"{order[e]}_{threshold_score}_{threshold_count}\"] = eval\n",
    "with open(\"../predictions/binary_thresholds/pii/dessi-mf/rowwise1.json\", \"w\") as json_file:\n",
    "    json.dump(evals_1, json_file, indent=4)\n",
    "for e, df in enumerate([results_rowwise2_all_binary]):\n",
    "    print(\"Method 2 Rowwise\")\n",
    "    for threshold_score in [0, 0.1, 0.2, 0.3, 0.4, 0.5, 0.6, 0.7, 0.8, 0.9, 1.0]:\n",
    "        for threshold_count in [0, 10, 20, 30, 40, 50, 60, 70, 80, 90]:\n",
    "            eval = compute_performance_binary(build_dataframe_binary(df, threshold_score, threshold_count))\n",
    "            evals_2[f\"{order[e]}_{threshold_score}_{threshold_count}\"] = eval\n",
    "with open(\"../predictions/binary_thresholds/pii/dessi-mf/rowwise2.json\", \"w\") as json_file:\n",
    "    json.dump(evals_2, json_file, indent=4)\n",
    "for e, df in enumerate([results_columnwise_all_binary]):  \n",
    "    print(\"Method Columnwise\")\n",
    "    for threshold_score in [0, 0.1, 0.2, 0.3, 0.4, 0.5, 0.6, 0.7, 0.8, 0.9, 1.0]:\n",
    "        for threshold_count in [0, 10, 20, 30, 40, 50, 60, 70, 80, 90]:\n",
    "            eval = compute_performance_binary(build_dataframe_binary(df, threshold_score, threshold_count))\n",
    "            evals_3[f\"{order[e]}_{threshold_score}_{threshold_count}\"] = eval\n",
    "with open(\"../predictions/binary_thresholds/pii/dessi-mf/columnwise.json\", \"w\") as json_file:\n",
    "    json.dump(evals_3, json_file, indent=4)"
   ]
  },
  {
   "cell_type": "code",
   "execution_count": 13,
   "metadata": {},
   "outputs": [],
   "source": [
    "def create_df_from_json(i):\n",
    "    with open(f\"../predictions/binary_thresholds/pii/dessi-mf/{i}.json\", \"r\") as file:\n",
    "        data = json.load(file)\n",
    "    dataset, threshold_score, threshold_count, f1, precision, recall, accuracy, roc_auc = [], [], [], [], [], [], [], []\n",
    "    for (d,val) in zip(data, data.values()):\n",
    "        splitted = d.split(\"_\")\n",
    "        dataset.append(splitted[0])\n",
    "        threshold_score.append(splitted[1])\n",
    "        threshold_count.append(splitted[2])\n",
    "        f1.append(val[\"f1\"])\n",
    "        precision.append(val[\"precision\"])\n",
    "        recall.append(val[\"recall\"])\n",
    "        accuracy.append(val[\"accuracy\"])\n",
    "        roc_auc.append(val[\"roc_auc\"])\n",
    "    data = {\n",
    "        \"dataset\": dataset,\n",
    "        \"threshold_score\": threshold_score,\n",
    "        \"threshold_count\": threshold_count,\n",
    "        \"f1\": f1,\n",
    "        \"precision\": precision,\n",
    "        \"recall\": recall,\n",
    "        \"accuracy\": accuracy,\n",
    "        \"roc_auc\": roc_auc\n",
    "    }\n",
    "    return pd.DataFrame(data)"
   ]
  },
  {
   "cell_type": "code",
   "execution_count": 14,
   "metadata": {},
   "outputs": [
    {
     "data": {
      "text/html": [
       "<div>\n",
       "<style scoped>\n",
       "    .dataframe tbody tr th:only-of-type {\n",
       "        vertical-align: middle;\n",
       "    }\n",
       "\n",
       "    .dataframe tbody tr th {\n",
       "        vertical-align: top;\n",
       "    }\n",
       "\n",
       "    .dataframe thead th {\n",
       "        text-align: right;\n",
       "    }\n",
       "</style>\n",
       "<table border=\"1\" class=\"dataframe\">\n",
       "  <thead>\n",
       "    <tr style=\"text-align: right;\">\n",
       "      <th></th>\n",
       "      <th>dataset</th>\n",
       "      <th>threshold_score</th>\n",
       "      <th>threshold_count</th>\n",
       "      <th>f1</th>\n",
       "      <th>precision</th>\n",
       "      <th>recall</th>\n",
       "      <th>accuracy</th>\n",
       "      <th>roc_auc</th>\n",
       "    </tr>\n",
       "  </thead>\n",
       "  <tbody>\n",
       "    <tr>\n",
       "      <th>0</th>\n",
       "      <td>all</td>\n",
       "      <td>0</td>\n",
       "      <td>0</td>\n",
       "      <td>0.529951</td>\n",
       "      <td>0.360499</td>\n",
       "      <td>1.000000</td>\n",
       "      <td>0.446804</td>\n",
       "      <td>0.598058</td>\n",
       "    </tr>\n",
       "    <tr>\n",
       "      <th>1</th>\n",
       "      <td>all</td>\n",
       "      <td>0</td>\n",
       "      <td>10</td>\n",
       "      <td>0.644962</td>\n",
       "      <td>0.475973</td>\n",
       "      <td>1.000000</td>\n",
       "      <td>0.656670</td>\n",
       "      <td>0.750542</td>\n",
       "    </tr>\n",
       "    <tr>\n",
       "      <th>2</th>\n",
       "      <td>all</td>\n",
       "      <td>0</td>\n",
       "      <td>20</td>\n",
       "      <td>0.702345</td>\n",
       "      <td>0.547021</td>\n",
       "      <td>0.980853</td>\n",
       "      <td>0.740738</td>\n",
       "      <td>0.806390</td>\n",
       "    </tr>\n",
       "    <tr>\n",
       "      <th>3</th>\n",
       "      <td>all</td>\n",
       "      <td>0</td>\n",
       "      <td>30</td>\n",
       "      <td>0.721472</td>\n",
       "      <td>0.604050</td>\n",
       "      <td>0.895561</td>\n",
       "      <td>0.784367</td>\n",
       "      <td>0.814769</td>\n",
       "    </tr>\n",
       "    <tr>\n",
       "      <th>4</th>\n",
       "      <td>all</td>\n",
       "      <td>0</td>\n",
       "      <td>40</td>\n",
       "      <td>0.725332</td>\n",
       "      <td>0.636543</td>\n",
       "      <td>0.842907</td>\n",
       "      <td>0.800923</td>\n",
       "      <td>0.812402</td>\n",
       "    </tr>\n",
       "    <tr>\n",
       "      <th>...</th>\n",
       "      <td>...</td>\n",
       "      <td>...</td>\n",
       "      <td>...</td>\n",
       "      <td>...</td>\n",
       "      <td>...</td>\n",
       "      <td>...</td>\n",
       "      <td>...</td>\n",
       "      <td>...</td>\n",
       "    </tr>\n",
       "    <tr>\n",
       "      <th>105</th>\n",
       "      <td>all</td>\n",
       "      <td>1.0</td>\n",
       "      <td>50</td>\n",
       "      <td>0.391601</td>\n",
       "      <td>1.000000</td>\n",
       "      <td>0.243473</td>\n",
       "      <td>0.764079</td>\n",
       "      <td>0.621736</td>\n",
       "    </tr>\n",
       "    <tr>\n",
       "      <th>106</th>\n",
       "      <td>all</td>\n",
       "      <td>1.0</td>\n",
       "      <td>60</td>\n",
       "      <td>0.390475</td>\n",
       "      <td>1.000000</td>\n",
       "      <td>0.242602</td>\n",
       "      <td>0.763808</td>\n",
       "      <td>0.621301</td>\n",
       "    </tr>\n",
       "    <tr>\n",
       "      <th>107</th>\n",
       "      <td>all</td>\n",
       "      <td>1.0</td>\n",
       "      <td>70</td>\n",
       "      <td>0.371079</td>\n",
       "      <td>1.000000</td>\n",
       "      <td>0.227807</td>\n",
       "      <td>0.759194</td>\n",
       "      <td>0.613903</td>\n",
       "    </tr>\n",
       "    <tr>\n",
       "      <th>108</th>\n",
       "      <td>all</td>\n",
       "      <td>1.0</td>\n",
       "      <td>80</td>\n",
       "      <td>0.308740</td>\n",
       "      <td>1.000000</td>\n",
       "      <td>0.182550</td>\n",
       "      <td>0.745081</td>\n",
       "      <td>0.591275</td>\n",
       "    </tr>\n",
       "    <tr>\n",
       "      <th>109</th>\n",
       "      <td>all</td>\n",
       "      <td>1.0</td>\n",
       "      <td>90</td>\n",
       "      <td>0.253468</td>\n",
       "      <td>1.000000</td>\n",
       "      <td>0.145126</td>\n",
       "      <td>0.733410</td>\n",
       "      <td>0.572563</td>\n",
       "    </tr>\n",
       "  </tbody>\n",
       "</table>\n",
       "<p>110 rows × 8 columns</p>\n",
       "</div>"
      ],
      "text/plain": [
       "    dataset threshold_score threshold_count        f1  precision    recall  \\\n",
       "0       all               0               0  0.529951   0.360499  1.000000   \n",
       "1       all               0              10  0.644962   0.475973  1.000000   \n",
       "2       all               0              20  0.702345   0.547021  0.980853   \n",
       "3       all               0              30  0.721472   0.604050  0.895561   \n",
       "4       all               0              40  0.725332   0.636543  0.842907   \n",
       "..      ...             ...             ...       ...        ...       ...   \n",
       "105     all             1.0              50  0.391601   1.000000  0.243473   \n",
       "106     all             1.0              60  0.390475   1.000000  0.242602   \n",
       "107     all             1.0              70  0.371079   1.000000  0.227807   \n",
       "108     all             1.0              80  0.308740   1.000000  0.182550   \n",
       "109     all             1.0              90  0.253468   1.000000  0.145126   \n",
       "\n",
       "     accuracy   roc_auc  \n",
       "0    0.446804  0.598058  \n",
       "1    0.656670  0.750542  \n",
       "2    0.740738  0.806390  \n",
       "3    0.784367  0.814769  \n",
       "4    0.800923  0.812402  \n",
       "..        ...       ...  \n",
       "105  0.764079  0.621736  \n",
       "106  0.763808  0.621301  \n",
       "107  0.759194  0.613903  \n",
       "108  0.745081  0.591275  \n",
       "109  0.733410  0.572563  \n",
       "\n",
       "[110 rows x 8 columns]"
      ]
     },
     "execution_count": 14,
     "metadata": {},
     "output_type": "execute_result"
    }
   ],
   "source": [
    "df_rowwise1 = create_df_from_json(\"rowwise1\")\n",
    "df_rowwise2 = create_df_from_json(\"rowwise2\")\n",
    "df_columnwise = create_df_from_json(\"columnwise\")\n",
    "df_columnwise"
   ]
  },
  {
   "cell_type": "code",
   "execution_count": 15,
   "metadata": {},
   "outputs": [
    {
     "data": {
      "application/vnd.plotly.v1+json": {
       "config": {
        "plotlyServerURL": "https://plot.ly"
       },
       "data": [
        {
         "colorbar": {
          "title": {
           "text": "F1 score"
          }
         },
         "colorscale": [
          [
           0,
           "#440154"
          ],
          [
           0.1111111111111111,
           "#482878"
          ],
          [
           0.2222222222222222,
           "#3e4989"
          ],
          [
           0.3333333333333333,
           "#31688e"
          ],
          [
           0.4444444444444444,
           "#26828e"
          ],
          [
           0.5555555555555556,
           "#1f9e89"
          ],
          [
           0.6666666666666666,
           "#35b779"
          ],
          [
           0.7777777777777778,
           "#6ece58"
          ],
          [
           0.8888888888888888,
           "#b5de2b"
          ],
          [
           1,
           "#fde725"
          ]
         ],
         "contours": {
          "showlabels": true
         },
         "type": "contour",
         "x": [
          "0",
          "0.1",
          "0.2",
          "0.3",
          "0.4",
          "0.5",
          "0.6",
          "0.7",
          "0.8",
          "0.9",
          "1.0"
         ],
         "xaxis": "x",
         "y": [
          "0",
          "10",
          "20",
          "30",
          "40",
          "50",
          "60",
          "70",
          "80",
          "90"
         ],
         "yaxis": "y",
         "z": [
          [
           0.5118895138386145,
           0.540833137208755,
           0.540833137208755,
           0.540833137208755,
           0.5540744315097412,
           0.5727145936350957,
           0.5675383342877139,
           0.5684586442191186,
           0.5673959068454482,
           0.7286420334196282,
           0.7286420334196282
          ],
          [
           0.5842710916142158,
           0.6378627493339094,
           0.6378627493339094,
           0.6378627493339094,
           0.6321822189566495,
           0.5434621405619181,
           0.49202422588074723,
           0.4911621552386645,
           0.42143113987774183,
           0.4241905088230255,
           0.4241905088230255
          ],
          [
           0.6332724462554448,
           0.6554065242589833,
           0.6554065242589833,
           0.6554065242589833,
           0.6489740546040359,
           0.5530203852627642,
           0.5233323790438019,
           0.5227272727272727,
           0.45190380761523047,
           0.422515874377896,
           0.422515874377896
          ],
          [
           0.6283414337788579,
           0.662913185615692,
           0.6627917537008446,
           0.6627917537008446,
           0.6555420900531369,
           0.5488419969119918,
           0.5366410629022212,
           0.5359925210345902,
           0.45901280507825326,
           0.40527411519777934,
           0.40527411519777934
          ],
          [
           0.6324372325825462,
           0.6777070063694267,
           0.6777070063694267,
           0.6777070063694267,
           0.6706309211852449,
           0.5566529796914882,
           0.5438871473354232,
           0.5433564866681604,
           0.46546227417640806,
           0.39244491080797483,
           0.39244491080797483
          ],
          [
           0.6283312316099201,
           0.671858774662513,
           0.671858774662513,
           0.671858774662513,
           0.6721974048074878,
           0.557350377687391,
           0.5436414828718912,
           0.5429577464788733,
           0.4668395702111893,
           0.3916010498687664,
           0.3916010498687664
          ],
          [
           0.5931781844022028,
           0.6364343670112259,
           0.6364343670112259,
           0.6364343670112259,
           0.6429948950652298,
           0.5494210847044485,
           0.5358592692828146,
           0.5351384615384616,
           0.46167765283701695,
           0.3904745228506391,
           0.3904745228506391
          ],
          [
           0.5329190134006603,
           0.5512643099760977,
           0.5512643099760977,
           0.5512643099760977,
           0.5557684936757379,
           0.5120402222810267,
           0.5005333333333334,
           0.4999333066559957,
           0.4466850828729282,
           0.37107921318447634,
           0.37107921318447634
          ],
          [
           0.5087959549141473,
           0.4814921920185078,
           0.4814921920185078,
           0.4814921920185078,
           0.4793268533294647,
           0.45869661593024974,
           0.44652963955913016,
           0.44583519594695276,
           0.41537526587663326,
           0.30873965041398344,
           0.30873965041398344
          ],
          [
           0.4407826982492276,
           0.3927823425165136,
           0.3927823425165136,
           0.3927823425165136,
           0.3892660847074038,
           0.38686605981794536,
           0.37311475409836065,
           0.37231425291126785,
           0.3682999013482407,
           0.25346760402812085,
           0.25346760402812085
          ]
         ],
         "zmax": 1,
         "zmin": 0.14512619669277632
        },
        {
         "hoverinfo": "text",
         "marker": {
          "color": "black",
          "symbol": "x"
         },
         "mode": "markers",
         "showlegend": false,
         "text": [
          "x: 0, y: 0, z: 0.5118895138386145",
          "x: 0, y: 10, z: 0.5842710916142158",
          "x: 0, y: 20, z: 0.6332724462554448",
          "x: 0, y: 30, z: 0.6283414337788579",
          "x: 0, y: 40, z: 0.6324372325825462",
          "x: 0, y: 50, z: 0.6283312316099201",
          "x: 0, y: 60, z: 0.5931781844022028",
          "x: 0, y: 70, z: 0.5329190134006603",
          "x: 0, y: 80, z: 0.5087959549141473",
          "x: 0, y: 90, z: 0.4407826982492276",
          "x: 0.1, y: 0, z: 0.540833137208755",
          "x: 0.1, y: 10, z: 0.6378627493339094",
          "x: 0.1, y: 20, z: 0.6554065242589833",
          "x: 0.1, y: 30, z: 0.662913185615692",
          "x: 0.1, y: 40, z: 0.6777070063694267",
          "x: 0.1, y: 50, z: 0.671858774662513",
          "x: 0.1, y: 60, z: 0.6364343670112259",
          "x: 0.1, y: 70, z: 0.5512643099760977",
          "x: 0.1, y: 80, z: 0.4814921920185078",
          "x: 0.1, y: 90, z: 0.3927823425165136",
          "x: 0.2, y: 0, z: 0.540833137208755",
          "x: 0.2, y: 10, z: 0.6378627493339094",
          "x: 0.2, y: 20, z: 0.6554065242589833",
          "x: 0.2, y: 30, z: 0.6627917537008446",
          "x: 0.2, y: 40, z: 0.6777070063694267",
          "x: 0.2, y: 50, z: 0.671858774662513",
          "x: 0.2, y: 60, z: 0.6364343670112259",
          "x: 0.2, y: 70, z: 0.5512643099760977",
          "x: 0.2, y: 80, z: 0.4814921920185078",
          "x: 0.2, y: 90, z: 0.3927823425165136",
          "x: 0.3, y: 0, z: 0.540833137208755",
          "x: 0.3, y: 10, z: 0.6378627493339094",
          "x: 0.3, y: 20, z: 0.6554065242589833",
          "x: 0.3, y: 30, z: 0.6627917537008446",
          "x: 0.3, y: 40, z: 0.6777070063694267",
          "x: 0.3, y: 50, z: 0.671858774662513",
          "x: 0.3, y: 60, z: 0.6364343670112259",
          "x: 0.3, y: 70, z: 0.5512643099760977",
          "x: 0.3, y: 80, z: 0.4814921920185078",
          "x: 0.3, y: 90, z: 0.3927823425165136",
          "x: 0.4, y: 0, z: 0.5540744315097412",
          "x: 0.4, y: 10, z: 0.6321822189566495",
          "x: 0.4, y: 20, z: 0.6489740546040359",
          "x: 0.4, y: 30, z: 0.6555420900531369",
          "x: 0.4, y: 40, z: 0.6706309211852449",
          "x: 0.4, y: 50, z: 0.6721974048074878",
          "x: 0.4, y: 60, z: 0.6429948950652298",
          "x: 0.4, y: 70, z: 0.5557684936757379",
          "x: 0.4, y: 80, z: 0.4793268533294647",
          "x: 0.4, y: 90, z: 0.3892660847074038",
          "x: 0.5, y: 0, z: 0.5727145936350957",
          "x: 0.5, y: 10, z: 0.5434621405619181",
          "x: 0.5, y: 20, z: 0.5530203852627642",
          "x: 0.5, y: 30, z: 0.5488419969119918",
          "x: 0.5, y: 40, z: 0.5566529796914882",
          "x: 0.5, y: 50, z: 0.557350377687391",
          "x: 0.5, y: 60, z: 0.5494210847044485",
          "x: 0.5, y: 70, z: 0.5120402222810267",
          "x: 0.5, y: 80, z: 0.45869661593024974",
          "x: 0.5, y: 90, z: 0.38686605981794536",
          "x: 0.6, y: 0, z: 0.5675383342877139",
          "x: 0.6, y: 10, z: 0.49202422588074723",
          "x: 0.6, y: 20, z: 0.5233323790438019",
          "x: 0.6, y: 30, z: 0.5366410629022212",
          "x: 0.6, y: 40, z: 0.5438871473354232",
          "x: 0.6, y: 50, z: 0.5436414828718912",
          "x: 0.6, y: 60, z: 0.5358592692828146",
          "x: 0.6, y: 70, z: 0.5005333333333334",
          "x: 0.6, y: 80, z: 0.44652963955913016",
          "x: 0.6, y: 90, z: 0.37311475409836065",
          "x: 0.7, y: 0, z: 0.5684586442191186",
          "x: 0.7, y: 10, z: 0.4911621552386645",
          "x: 0.7, y: 20, z: 0.5227272727272727",
          "x: 0.7, y: 30, z: 0.5359925210345902",
          "x: 0.7, y: 40, z: 0.5433564866681604",
          "x: 0.7, y: 50, z: 0.5429577464788733",
          "x: 0.7, y: 60, z: 0.5351384615384616",
          "x: 0.7, y: 70, z: 0.4999333066559957",
          "x: 0.7, y: 80, z: 0.44583519594695276",
          "x: 0.7, y: 90, z: 0.37231425291126785",
          "x: 0.8, y: 0, z: 0.5673959068454482",
          "x: 0.8, y: 10, z: 0.42143113987774183",
          "x: 0.8, y: 20, z: 0.45190380761523047",
          "x: 0.8, y: 30, z: 0.45901280507825326",
          "x: 0.8, y: 40, z: 0.46546227417640806",
          "x: 0.8, y: 50, z: 0.4668395702111893",
          "x: 0.8, y: 60, z: 0.46167765283701695",
          "x: 0.8, y: 70, z: 0.4466850828729282",
          "x: 0.8, y: 80, z: 0.41537526587663326",
          "x: 0.8, y: 90, z: 0.3682999013482407",
          "x: 0.9, y: 0, z: 0.7286420334196282",
          "x: 0.9, y: 10, z: 0.4241905088230255",
          "x: 0.9, y: 20, z: 0.422515874377896",
          "x: 0.9, y: 30, z: 0.40527411519777934",
          "x: 0.9, y: 40, z: 0.39244491080797483",
          "x: 0.9, y: 50, z: 0.3916010498687664",
          "x: 0.9, y: 60, z: 0.3904745228506391",
          "x: 0.9, y: 70, z: 0.37107921318447634",
          "x: 0.9, y: 80, z: 0.30873965041398344",
          "x: 0.9, y: 90, z: 0.25346760402812085",
          "x: 1.0, y: 0, z: 0.7286420334196282",
          "x: 1.0, y: 10, z: 0.4241905088230255",
          "x: 1.0, y: 20, z: 0.422515874377896",
          "x: 1.0, y: 30, z: 0.40527411519777934",
          "x: 1.0, y: 40, z: 0.39244491080797483",
          "x: 1.0, y: 50, z: 0.3916010498687664",
          "x: 1.0, y: 60, z: 0.3904745228506391",
          "x: 1.0, y: 70, z: 0.37107921318447634",
          "x: 1.0, y: 80, z: 0.30873965041398344",
          "x: 1.0, y: 90, z: 0.25346760402812085"
         ],
         "type": "scatter",
         "x": [
          "0",
          "0",
          "0",
          "0",
          "0",
          "0",
          "0",
          "0",
          "0",
          "0",
          "0.1",
          "0.1",
          "0.1",
          "0.1",
          "0.1",
          "0.1",
          "0.1",
          "0.1",
          "0.1",
          "0.1",
          "0.2",
          "0.2",
          "0.2",
          "0.2",
          "0.2",
          "0.2",
          "0.2",
          "0.2",
          "0.2",
          "0.2",
          "0.3",
          "0.3",
          "0.3",
          "0.3",
          "0.3",
          "0.3",
          "0.3",
          "0.3",
          "0.3",
          "0.3",
          "0.4",
          "0.4",
          "0.4",
          "0.4",
          "0.4",
          "0.4",
          "0.4",
          "0.4",
          "0.4",
          "0.4",
          "0.5",
          "0.5",
          "0.5",
          "0.5",
          "0.5",
          "0.5",
          "0.5",
          "0.5",
          "0.5",
          "0.5",
          "0.6",
          "0.6",
          "0.6",
          "0.6",
          "0.6",
          "0.6",
          "0.6",
          "0.6",
          "0.6",
          "0.6",
          "0.7",
          "0.7",
          "0.7",
          "0.7",
          "0.7",
          "0.7",
          "0.7",
          "0.7",
          "0.7",
          "0.7",
          "0.8",
          "0.8",
          "0.8",
          "0.8",
          "0.8",
          "0.8",
          "0.8",
          "0.8",
          "0.8",
          "0.8",
          "0.9",
          "0.9",
          "0.9",
          "0.9",
          "0.9",
          "0.9",
          "0.9",
          "0.9",
          "0.9",
          "0.9",
          "1.0",
          "1.0",
          "1.0",
          "1.0",
          "1.0",
          "1.0",
          "1.0",
          "1.0",
          "1.0",
          "1.0"
         ],
         "xaxis": "x",
         "y": [
          "0",
          "10",
          "20",
          "30",
          "40",
          "50",
          "60",
          "70",
          "80",
          "90",
          "0",
          "10",
          "20",
          "30",
          "40",
          "50",
          "60",
          "70",
          "80",
          "90",
          "0",
          "10",
          "20",
          "30",
          "40",
          "50",
          "60",
          "70",
          "80",
          "90",
          "0",
          "10",
          "20",
          "30",
          "40",
          "50",
          "60",
          "70",
          "80",
          "90",
          "0",
          "10",
          "20",
          "30",
          "40",
          "50",
          "60",
          "70",
          "80",
          "90",
          "0",
          "10",
          "20",
          "30",
          "40",
          "50",
          "60",
          "70",
          "80",
          "90",
          "0",
          "10",
          "20",
          "30",
          "40",
          "50",
          "60",
          "70",
          "80",
          "90",
          "0",
          "10",
          "20",
          "30",
          "40",
          "50",
          "60",
          "70",
          "80",
          "90",
          "0",
          "10",
          "20",
          "30",
          "40",
          "50",
          "60",
          "70",
          "80",
          "90",
          "0",
          "10",
          "20",
          "30",
          "40",
          "50",
          "60",
          "70",
          "80",
          "90",
          "0",
          "10",
          "20",
          "30",
          "40",
          "50",
          "60",
          "70",
          "80",
          "90"
         ],
         "yaxis": "y"
        },
        {
         "hoverinfo": "text",
         "legendgroup": "best",
         "marker": {
          "color": "red",
          "symbol": "x"
         },
         "mode": "markers",
         "name": "best_score",
         "showlegend": true,
         "text": [
          "x: 0.9, y: 0, z: 0.7286420334196282"
         ],
         "type": "scatter",
         "x": [
          "0.9"
         ],
         "xaxis": "x",
         "y": [
          "0"
         ],
         "yaxis": "y"
        },
        {
         "colorbar": {
          "title": {
           "text": "F1 score"
          }
         },
         "colorscale": [
          [
           0,
           "#440154"
          ],
          [
           0.1111111111111111,
           "#482878"
          ],
          [
           0.2222222222222222,
           "#3e4989"
          ],
          [
           0.3333333333333333,
           "#31688e"
          ],
          [
           0.4444444444444444,
           "#26828e"
          ],
          [
           0.5555555555555556,
           "#1f9e89"
          ],
          [
           0.6666666666666666,
           "#35b779"
          ],
          [
           0.7777777777777778,
           "#6ece58"
          ],
          [
           0.8888888888888888,
           "#b5de2b"
          ],
          [
           1,
           "#fde725"
          ]
         ],
         "contours": {
          "showlabels": true
         },
         "type": "contour",
         "x": [
          "0",
          "0.1",
          "0.2",
          "0.3",
          "0.4",
          "0.5",
          "0.6",
          "0.7",
          "0.8",
          "0.9",
          "1.0"
         ],
         "xaxis": "x4",
         "y": [
          "0",
          "10",
          "20",
          "30",
          "40",
          "50",
          "60",
          "70",
          "80",
          "90"
         ],
         "yaxis": "y4",
         "z": [
          [
           0.34398622857570543,
           0.3706451612903226,
           0.3706451612903226,
           0.3706451612903226,
           0.38329299841442044,
           0.40409733404902487,
           0.40104307166621705,
           0.4020748759585025,
           0.4023291784187062,
           0.7934392619169657,
           0.7934392619169657
          ],
          [
           0.4127369082906674,
           0.4766978796684964,
           0.4766978796684964,
           0.4766978796684964,
           0.47725759928999334,
           0.43734252751624453,
           0.4046583415181703,
           0.40421644413211527,
           0.3590686274509804,
           0.9975825946817083,
           0.9975825946817083
          ],
          [
           0.46762813861797053,
           0.52900294039027,
           0.52900294039027,
           0.52900294039027,
           0.5316754654070576,
           0.48491308625778945,
           0.4660887302396736,
           0.4657930565010211,
           0.4188335809806835,
           1,
           1
          ],
          [
           0.48261782547830145,
           0.5688902743142145,
           0.5688230709275136,
           0.5688230709275136,
           0.5734790409394879,
           0.5208048446962298,
           0.5131004366812227,
           0.5128205128205128,
           0.46179255670557146,
           1,
           1
          ],
          [
           0.5027595944037992,
           0.6165091816723124,
           0.6165091816723124,
           0.6165091816723124,
           0.6246714232069095,
           0.5680634201585504,
           0.5601937269372693,
           0.5600461893764435,
           0.5089078233927188,
           1,
           1
          ],
          [
           0.5119879435539115,
           0.6426301152165276,
           0.6426301152165276,
           0.6426301152165276,
           0.657511444028298,
           0.5981541531554003,
           0.589867617107943,
           0.5894495412844036,
           0.5398457583547558,
           1,
           1
          ],
          [
           0.5012008405884119,
           0.6505339695523744,
           0.6505339695523744,
           0.6505339695523744,
           0.6717231571462432,
           0.6245497367691881,
           0.6164732521936032,
           0.6160385378294134,
           0.568608723336517,
           1,
           1
          ],
          [
           0.48123465450719044,
           0.6534446764091858,
           0.6534446764091858,
           0.6534446764091858,
           0.6731662024141133,
           0.6532748143146523,
           0.6463498622589532,
           0.645984143398828,
           0.6115733736762481,
           1,
           1
          ],
          [
           0.4931590769859097,
           0.7176724137931034,
           0.7176724137931034,
           0.7176724137931034,
           0.7191989551589029,
           0.7148779364348227,
           0.7077431539187913,
           0.7073286052009456,
           0.6883182275931521,
           1,
           1
          ],
          [
           0.46488052136133234,
           0.7566728739913098,
           0.7566728739913098,
           0.7566728739913098,
           0.7572327044025158,
           0.7647814910025706,
           0.7566489361702128,
           0.7561625582944703,
           0.7537012113055181,
           1,
           1
          ]
         ],
         "zmax": 1,
         "zmin": 0.14512619669277632
        },
        {
         "hoverinfo": "text",
         "marker": {
          "color": "black",
          "symbol": "x"
         },
         "mode": "markers",
         "showlegend": false,
         "text": [
          "x: 0, y: 0, z: 0.34398622857570543",
          "x: 0, y: 10, z: 0.4127369082906674",
          "x: 0, y: 20, z: 0.46762813861797053",
          "x: 0, y: 30, z: 0.48261782547830145",
          "x: 0, y: 40, z: 0.5027595944037992",
          "x: 0, y: 50, z: 0.5119879435539115",
          "x: 0, y: 60, z: 0.5012008405884119",
          "x: 0, y: 70, z: 0.48123465450719044",
          "x: 0, y: 80, z: 0.4931590769859097",
          "x: 0, y: 90, z: 0.46488052136133234",
          "x: 0.1, y: 0, z: 0.3706451612903226",
          "x: 0.1, y: 10, z: 0.4766978796684964",
          "x: 0.1, y: 20, z: 0.52900294039027",
          "x: 0.1, y: 30, z: 0.5688902743142145",
          "x: 0.1, y: 40, z: 0.6165091816723124",
          "x: 0.1, y: 50, z: 0.6426301152165276",
          "x: 0.1, y: 60, z: 0.6505339695523744",
          "x: 0.1, y: 70, z: 0.6534446764091858",
          "x: 0.1, y: 80, z: 0.7176724137931034",
          "x: 0.1, y: 90, z: 0.7566728739913098",
          "x: 0.2, y: 0, z: 0.3706451612903226",
          "x: 0.2, y: 10, z: 0.4766978796684964",
          "x: 0.2, y: 20, z: 0.52900294039027",
          "x: 0.2, y: 30, z: 0.5688230709275136",
          "x: 0.2, y: 40, z: 0.6165091816723124",
          "x: 0.2, y: 50, z: 0.6426301152165276",
          "x: 0.2, y: 60, z: 0.6505339695523744",
          "x: 0.2, y: 70, z: 0.6534446764091858",
          "x: 0.2, y: 80, z: 0.7176724137931034",
          "x: 0.2, y: 90, z: 0.7566728739913098",
          "x: 0.3, y: 0, z: 0.3706451612903226",
          "x: 0.3, y: 10, z: 0.4766978796684964",
          "x: 0.3, y: 20, z: 0.52900294039027",
          "x: 0.3, y: 30, z: 0.5688230709275136",
          "x: 0.3, y: 40, z: 0.6165091816723124",
          "x: 0.3, y: 50, z: 0.6426301152165276",
          "x: 0.3, y: 60, z: 0.6505339695523744",
          "x: 0.3, y: 70, z: 0.6534446764091858",
          "x: 0.3, y: 80, z: 0.7176724137931034",
          "x: 0.3, y: 90, z: 0.7566728739913098",
          "x: 0.4, y: 0, z: 0.38329299841442044",
          "x: 0.4, y: 10, z: 0.47725759928999334",
          "x: 0.4, y: 20, z: 0.5316754654070576",
          "x: 0.4, y: 30, z: 0.5734790409394879",
          "x: 0.4, y: 40, z: 0.6246714232069095",
          "x: 0.4, y: 50, z: 0.657511444028298",
          "x: 0.4, y: 60, z: 0.6717231571462432",
          "x: 0.4, y: 70, z: 0.6731662024141133",
          "x: 0.4, y: 80, z: 0.7191989551589029",
          "x: 0.4, y: 90, z: 0.7572327044025158",
          "x: 0.5, y: 0, z: 0.40409733404902487",
          "x: 0.5, y: 10, z: 0.43734252751624453",
          "x: 0.5, y: 20, z: 0.48491308625778945",
          "x: 0.5, y: 30, z: 0.5208048446962298",
          "x: 0.5, y: 40, z: 0.5680634201585504",
          "x: 0.5, y: 50, z: 0.5981541531554003",
          "x: 0.5, y: 60, z: 0.6245497367691881",
          "x: 0.5, y: 70, z: 0.6532748143146523",
          "x: 0.5, y: 80, z: 0.7148779364348227",
          "x: 0.5, y: 90, z: 0.7647814910025706",
          "x: 0.6, y: 0, z: 0.40104307166621705",
          "x: 0.6, y: 10, z: 0.4046583415181703",
          "x: 0.6, y: 20, z: 0.4660887302396736",
          "x: 0.6, y: 30, z: 0.5131004366812227",
          "x: 0.6, y: 40, z: 0.5601937269372693",
          "x: 0.6, y: 50, z: 0.589867617107943",
          "x: 0.6, y: 60, z: 0.6164732521936032",
          "x: 0.6, y: 70, z: 0.6463498622589532",
          "x: 0.6, y: 80, z: 0.7077431539187913",
          "x: 0.6, y: 90, z: 0.7566489361702128",
          "x: 0.7, y: 0, z: 0.4020748759585025",
          "x: 0.7, y: 10, z: 0.40421644413211527",
          "x: 0.7, y: 20, z: 0.4657930565010211",
          "x: 0.7, y: 30, z: 0.5128205128205128",
          "x: 0.7, y: 40, z: 0.5600461893764435",
          "x: 0.7, y: 50, z: 0.5894495412844036",
          "x: 0.7, y: 60, z: 0.6160385378294134",
          "x: 0.7, y: 70, z: 0.645984143398828",
          "x: 0.7, y: 80, z: 0.7073286052009456",
          "x: 0.7, y: 90, z: 0.7561625582944703",
          "x: 0.8, y: 0, z: 0.4023291784187062",
          "x: 0.8, y: 10, z: 0.3590686274509804",
          "x: 0.8, y: 20, z: 0.4188335809806835",
          "x: 0.8, y: 30, z: 0.46179255670557146",
          "x: 0.8, y: 40, z: 0.5089078233927188",
          "x: 0.8, y: 50, z: 0.5398457583547558",
          "x: 0.8, y: 60, z: 0.568608723336517",
          "x: 0.8, y: 70, z: 0.6115733736762481",
          "x: 0.8, y: 80, z: 0.6883182275931521",
          "x: 0.8, y: 90, z: 0.7537012113055181",
          "x: 0.9, y: 0, z: 0.7934392619169657",
          "x: 0.9, y: 10, z: 0.9975825946817083",
          "x: 0.9, y: 20, z: 1.0",
          "x: 0.9, y: 30, z: 1.0",
          "x: 0.9, y: 40, z: 1.0",
          "x: 0.9, y: 50, z: 1.0",
          "x: 0.9, y: 60, z: 1.0",
          "x: 0.9, y: 70, z: 1.0",
          "x: 0.9, y: 80, z: 1.0",
          "x: 0.9, y: 90, z: 1.0",
          "x: 1.0, y: 0, z: 0.7934392619169657",
          "x: 1.0, y: 10, z: 0.9975825946817083",
          "x: 1.0, y: 20, z: 1.0",
          "x: 1.0, y: 30, z: 1.0",
          "x: 1.0, y: 40, z: 1.0",
          "x: 1.0, y: 50, z: 1.0",
          "x: 1.0, y: 60, z: 1.0",
          "x: 1.0, y: 70, z: 1.0",
          "x: 1.0, y: 80, z: 1.0",
          "x: 1.0, y: 90, z: 1.0"
         ],
         "type": "scatter",
         "x": [
          "0",
          "0",
          "0",
          "0",
          "0",
          "0",
          "0",
          "0",
          "0",
          "0",
          "0.1",
          "0.1",
          "0.1",
          "0.1",
          "0.1",
          "0.1",
          "0.1",
          "0.1",
          "0.1",
          "0.1",
          "0.2",
          "0.2",
          "0.2",
          "0.2",
          "0.2",
          "0.2",
          "0.2",
          "0.2",
          "0.2",
          "0.2",
          "0.3",
          "0.3",
          "0.3",
          "0.3",
          "0.3",
          "0.3",
          "0.3",
          "0.3",
          "0.3",
          "0.3",
          "0.4",
          "0.4",
          "0.4",
          "0.4",
          "0.4",
          "0.4",
          "0.4",
          "0.4",
          "0.4",
          "0.4",
          "0.5",
          "0.5",
          "0.5",
          "0.5",
          "0.5",
          "0.5",
          "0.5",
          "0.5",
          "0.5",
          "0.5",
          "0.6",
          "0.6",
          "0.6",
          "0.6",
          "0.6",
          "0.6",
          "0.6",
          "0.6",
          "0.6",
          "0.6",
          "0.7",
          "0.7",
          "0.7",
          "0.7",
          "0.7",
          "0.7",
          "0.7",
          "0.7",
          "0.7",
          "0.7",
          "0.8",
          "0.8",
          "0.8",
          "0.8",
          "0.8",
          "0.8",
          "0.8",
          "0.8",
          "0.8",
          "0.8",
          "0.9",
          "0.9",
          "0.9",
          "0.9",
          "0.9",
          "0.9",
          "0.9",
          "0.9",
          "0.9",
          "0.9",
          "1.0",
          "1.0",
          "1.0",
          "1.0",
          "1.0",
          "1.0",
          "1.0",
          "1.0",
          "1.0",
          "1.0"
         ],
         "xaxis": "x4",
         "y": [
          "0",
          "10",
          "20",
          "30",
          "40",
          "50",
          "60",
          "70",
          "80",
          "90",
          "0",
          "10",
          "20",
          "30",
          "40",
          "50",
          "60",
          "70",
          "80",
          "90",
          "0",
          "10",
          "20",
          "30",
          "40",
          "50",
          "60",
          "70",
          "80",
          "90",
          "0",
          "10",
          "20",
          "30",
          "40",
          "50",
          "60",
          "70",
          "80",
          "90",
          "0",
          "10",
          "20",
          "30",
          "40",
          "50",
          "60",
          "70",
          "80",
          "90",
          "0",
          "10",
          "20",
          "30",
          "40",
          "50",
          "60",
          "70",
          "80",
          "90",
          "0",
          "10",
          "20",
          "30",
          "40",
          "50",
          "60",
          "70",
          "80",
          "90",
          "0",
          "10",
          "20",
          "30",
          "40",
          "50",
          "60",
          "70",
          "80",
          "90",
          "0",
          "10",
          "20",
          "30",
          "40",
          "50",
          "60",
          "70",
          "80",
          "90",
          "0",
          "10",
          "20",
          "30",
          "40",
          "50",
          "60",
          "70",
          "80",
          "90",
          "0",
          "10",
          "20",
          "30",
          "40",
          "50",
          "60",
          "70",
          "80",
          "90"
         ],
         "yaxis": "y4"
        },
        {
         "hoverinfo": "text",
         "legendgroup": "best",
         "marker": {
          "color": "red",
          "symbol": "x"
         },
         "mode": "markers",
         "name": "best_score",
         "showlegend": false,
         "text": [
          "x: 0.9, y: 20, z: 1.0"
         ],
         "type": "scatter",
         "x": [
          "0.9"
         ],
         "xaxis": "x4",
         "y": [
          "20"
         ],
         "yaxis": "y4"
        },
        {
         "colorbar": {
          "title": {
           "text": "F1 score"
          }
         },
         "colorscale": [
          [
           0,
           "#440154"
          ],
          [
           0.1111111111111111,
           "#482878"
          ],
          [
           0.2222222222222222,
           "#3e4989"
          ],
          [
           0.3333333333333333,
           "#31688e"
          ],
          [
           0.4444444444444444,
           "#26828e"
          ],
          [
           0.5555555555555556,
           "#1f9e89"
          ],
          [
           0.6666666666666666,
           "#35b779"
          ],
          [
           0.7777777777777778,
           "#6ece58"
          ],
          [
           0.8888888888888888,
           "#b5de2b"
          ],
          [
           1,
           "#fde725"
          ]
         ],
         "contours": {
          "showlabels": true
         },
         "type": "contour",
         "x": [
          "0",
          "0.1",
          "0.2",
          "0.3",
          "0.4",
          "0.5",
          "0.6",
          "0.7",
          "0.8",
          "0.9",
          "1.0"
         ],
         "xaxis": "x7",
         "y": [
          "0",
          "10",
          "20",
          "30",
          "40",
          "50",
          "60",
          "70",
          "80",
          "90"
         ],
         "yaxis": "y7",
         "z": [
          [
           1,
           1,
           1,
           1,
           0.9993472584856397,
           0.9828111401218451,
           0.9704090513489991,
           0.9697563098346388,
           0.9621409921671018,
           0.6736292428198434,
           0.6736292428198434
          ],
          [
           0.9997824194952132,
           0.9636640557006092,
           0.9636640557006092,
           0.9636640557006092,
           0.9360313315926893,
           0.7175805047867712,
           0.6275021758050479,
           0.6257615317667538,
           0.5100087032201914,
           0.2693646649260226,
           0.2693646649260226
          ],
          [
           0.9806353350739774,
           0.86118363794604,
           0.86118363794604,
           0.86118363794604,
           0.832680591818973,
           0.6433855526544822,
           0.5966057441253264,
           0.5955178416013925,
           0.49064403829416886,
           0.2678416013925152,
           0.2678416013925152
          ],
          [
           0.9001305483028721,
           0.7941688424717145,
           0.7939512619669278,
           0.7939512619669278,
           0.7650130548302873,
           0.5800696257615318,
           0.5624456048738034,
           0.5613577023498695,
           0.456266318537859,
           0.25413402959094866,
           0.25413402959094866
          ],
          [
           0.8522628372497825,
           0.7523933855526544,
           0.7523933855526544,
           0.7523933855526544,
           0.7238903394255874,
           0.5456919060052219,
           0.528503046127067,
           0.52763272410792,
           0.42885117493472585,
           0.24412532637075718,
           0.24412532637075718
          ],
          [
           0.8130983463881636,
           0.7038729329852045,
           0.7038729329852045,
           0.7038729329852045,
           0.6875543951261966,
           0.5217580504786771,
           0.5041340295909487,
           0.5032637075718016,
           0.4112271540469974,
           0.24347258485639686,
           0.24347258485639686
          ],
          [
           0.7265013054830287,
           0.6229329852045257,
           0.6229329852045257,
           0.6229329852045257,
           0.6166231505657093,
           0.4904264577893821,
           0.47389033942558745,
           0.4730200174064404,
           0.3885987815491732,
           0.24260226283724978,
           0.24260226283724978
          ],
          [
           0.5970409051348999,
           0.4767188859878155,
           0.4767188859878155,
           0.4767188859878155,
           0.47323759791122716,
           0.4210182767624021,
           0.40839860748476936,
           0.40774586597040907,
           0.3518276762402089,
           0.22780678851174935,
           0.22780678851174935
          ],
          [
           0.5254569190600522,
           0.3622715404699739,
           0.3622715404699739,
           0.3622715404699739,
           0.35944299390774587,
           0.33768494342906874,
           0.32615317667536986,
           0.32550043516100957,
           0.2974325500435161,
           0.18255004351610096,
           0.18255004351610096
          ],
          [
           0.41906005221932113,
           0.26523063533507396,
           0.26523063533507396,
           0.26523063533507396,
           0.2619669277632724,
           0.2589208006962576,
           0.24760661444734552,
           0.2469538729329852,
           0.24369016536118362,
           0.14512619669277632,
           0.14512619669277632
          ]
         ],
         "zmax": 1,
         "zmin": 0.14512619669277632
        },
        {
         "hoverinfo": "text",
         "marker": {
          "color": "black",
          "symbol": "x"
         },
         "mode": "markers",
         "showlegend": false,
         "text": [
          "x: 0, y: 0, z: 1.0",
          "x: 0, y: 10, z: 0.9997824194952132",
          "x: 0, y: 20, z: 0.9806353350739774",
          "x: 0, y: 30, z: 0.9001305483028721",
          "x: 0, y: 40, z: 0.8522628372497825",
          "x: 0, y: 50, z: 0.8130983463881636",
          "x: 0, y: 60, z: 0.7265013054830287",
          "x: 0, y: 70, z: 0.5970409051348999",
          "x: 0, y: 80, z: 0.5254569190600522",
          "x: 0, y: 90, z: 0.41906005221932113",
          "x: 0.1, y: 0, z: 1.0",
          "x: 0.1, y: 10, z: 0.9636640557006092",
          "x: 0.1, y: 20, z: 0.86118363794604",
          "x: 0.1, y: 30, z: 0.7941688424717145",
          "x: 0.1, y: 40, z: 0.7523933855526544",
          "x: 0.1, y: 50, z: 0.7038729329852045",
          "x: 0.1, y: 60, z: 0.6229329852045257",
          "x: 0.1, y: 70, z: 0.4767188859878155",
          "x: 0.1, y: 80, z: 0.3622715404699739",
          "x: 0.1, y: 90, z: 0.26523063533507396",
          "x: 0.2, y: 0, z: 1.0",
          "x: 0.2, y: 10, z: 0.9636640557006092",
          "x: 0.2, y: 20, z: 0.86118363794604",
          "x: 0.2, y: 30, z: 0.7939512619669278",
          "x: 0.2, y: 40, z: 0.7523933855526544",
          "x: 0.2, y: 50, z: 0.7038729329852045",
          "x: 0.2, y: 60, z: 0.6229329852045257",
          "x: 0.2, y: 70, z: 0.4767188859878155",
          "x: 0.2, y: 80, z: 0.3622715404699739",
          "x: 0.2, y: 90, z: 0.26523063533507396",
          "x: 0.3, y: 0, z: 1.0",
          "x: 0.3, y: 10, z: 0.9636640557006092",
          "x: 0.3, y: 20, z: 0.86118363794604",
          "x: 0.3, y: 30, z: 0.7939512619669278",
          "x: 0.3, y: 40, z: 0.7523933855526544",
          "x: 0.3, y: 50, z: 0.7038729329852045",
          "x: 0.3, y: 60, z: 0.6229329852045257",
          "x: 0.3, y: 70, z: 0.4767188859878155",
          "x: 0.3, y: 80, z: 0.3622715404699739",
          "x: 0.3, y: 90, z: 0.26523063533507396",
          "x: 0.4, y: 0, z: 0.9993472584856397",
          "x: 0.4, y: 10, z: 0.9360313315926893",
          "x: 0.4, y: 20, z: 0.832680591818973",
          "x: 0.4, y: 30, z: 0.7650130548302873",
          "x: 0.4, y: 40, z: 0.7238903394255874",
          "x: 0.4, y: 50, z: 0.6875543951261966",
          "x: 0.4, y: 60, z: 0.6166231505657093",
          "x: 0.4, y: 70, z: 0.47323759791122716",
          "x: 0.4, y: 80, z: 0.35944299390774587",
          "x: 0.4, y: 90, z: 0.2619669277632724",
          "x: 0.5, y: 0, z: 0.9828111401218451",
          "x: 0.5, y: 10, z: 0.7175805047867712",
          "x: 0.5, y: 20, z: 0.6433855526544822",
          "x: 0.5, y: 30, z: 0.5800696257615318",
          "x: 0.5, y: 40, z: 0.5456919060052219",
          "x: 0.5, y: 50, z: 0.5217580504786771",
          "x: 0.5, y: 60, z: 0.4904264577893821",
          "x: 0.5, y: 70, z: 0.4210182767624021",
          "x: 0.5, y: 80, z: 0.33768494342906874",
          "x: 0.5, y: 90, z: 0.2589208006962576",
          "x: 0.6, y: 0, z: 0.9704090513489991",
          "x: 0.6, y: 10, z: 0.6275021758050479",
          "x: 0.6, y: 20, z: 0.5966057441253264",
          "x: 0.6, y: 30, z: 0.5624456048738034",
          "x: 0.6, y: 40, z: 0.528503046127067",
          "x: 0.6, y: 50, z: 0.5041340295909487",
          "x: 0.6, y: 60, z: 0.47389033942558745",
          "x: 0.6, y: 70, z: 0.40839860748476936",
          "x: 0.6, y: 80, z: 0.32615317667536986",
          "x: 0.6, y: 90, z: 0.24760661444734552",
          "x: 0.7, y: 0, z: 0.9697563098346388",
          "x: 0.7, y: 10, z: 0.6257615317667538",
          "x: 0.7, y: 20, z: 0.5955178416013925",
          "x: 0.7, y: 30, z: 0.5613577023498695",
          "x: 0.7, y: 40, z: 0.52763272410792",
          "x: 0.7, y: 50, z: 0.5032637075718016",
          "x: 0.7, y: 60, z: 0.4730200174064404",
          "x: 0.7, y: 70, z: 0.40774586597040907",
          "x: 0.7, y: 80, z: 0.32550043516100957",
          "x: 0.7, y: 90, z: 0.2469538729329852",
          "x: 0.8, y: 0, z: 0.9621409921671018",
          "x: 0.8, y: 10, z: 0.5100087032201914",
          "x: 0.8, y: 20, z: 0.49064403829416886",
          "x: 0.8, y: 30, z: 0.456266318537859",
          "x: 0.8, y: 40, z: 0.42885117493472585",
          "x: 0.8, y: 50, z: 0.4112271540469974",
          "x: 0.8, y: 60, z: 0.3885987815491732",
          "x: 0.8, y: 70, z: 0.3518276762402089",
          "x: 0.8, y: 80, z: 0.2974325500435161",
          "x: 0.8, y: 90, z: 0.24369016536118362",
          "x: 0.9, y: 0, z: 0.6736292428198434",
          "x: 0.9, y: 10, z: 0.2693646649260226",
          "x: 0.9, y: 20, z: 0.2678416013925152",
          "x: 0.9, y: 30, z: 0.25413402959094866",
          "x: 0.9, y: 40, z: 0.24412532637075718",
          "x: 0.9, y: 50, z: 0.24347258485639686",
          "x: 0.9, y: 60, z: 0.24260226283724978",
          "x: 0.9, y: 70, z: 0.22780678851174935",
          "x: 0.9, y: 80, z: 0.18255004351610096",
          "x: 0.9, y: 90, z: 0.14512619669277632",
          "x: 1.0, y: 0, z: 0.6736292428198434",
          "x: 1.0, y: 10, z: 0.2693646649260226",
          "x: 1.0, y: 20, z: 0.2678416013925152",
          "x: 1.0, y: 30, z: 0.25413402959094866",
          "x: 1.0, y: 40, z: 0.24412532637075718",
          "x: 1.0, y: 50, z: 0.24347258485639686",
          "x: 1.0, y: 60, z: 0.24260226283724978",
          "x: 1.0, y: 70, z: 0.22780678851174935",
          "x: 1.0, y: 80, z: 0.18255004351610096",
          "x: 1.0, y: 90, z: 0.14512619669277632"
         ],
         "type": "scatter",
         "x": [
          "0",
          "0",
          "0",
          "0",
          "0",
          "0",
          "0",
          "0",
          "0",
          "0",
          "0.1",
          "0.1",
          "0.1",
          "0.1",
          "0.1",
          "0.1",
          "0.1",
          "0.1",
          "0.1",
          "0.1",
          "0.2",
          "0.2",
          "0.2",
          "0.2",
          "0.2",
          "0.2",
          "0.2",
          "0.2",
          "0.2",
          "0.2",
          "0.3",
          "0.3",
          "0.3",
          "0.3",
          "0.3",
          "0.3",
          "0.3",
          "0.3",
          "0.3",
          "0.3",
          "0.4",
          "0.4",
          "0.4",
          "0.4",
          "0.4",
          "0.4",
          "0.4",
          "0.4",
          "0.4",
          "0.4",
          "0.5",
          "0.5",
          "0.5",
          "0.5",
          "0.5",
          "0.5",
          "0.5",
          "0.5",
          "0.5",
          "0.5",
          "0.6",
          "0.6",
          "0.6",
          "0.6",
          "0.6",
          "0.6",
          "0.6",
          "0.6",
          "0.6",
          "0.6",
          "0.7",
          "0.7",
          "0.7",
          "0.7",
          "0.7",
          "0.7",
          "0.7",
          "0.7",
          "0.7",
          "0.7",
          "0.8",
          "0.8",
          "0.8",
          "0.8",
          "0.8",
          "0.8",
          "0.8",
          "0.8",
          "0.8",
          "0.8",
          "0.9",
          "0.9",
          "0.9",
          "0.9",
          "0.9",
          "0.9",
          "0.9",
          "0.9",
          "0.9",
          "0.9",
          "1.0",
          "1.0",
          "1.0",
          "1.0",
          "1.0",
          "1.0",
          "1.0",
          "1.0",
          "1.0",
          "1.0"
         ],
         "xaxis": "x7",
         "y": [
          "0",
          "10",
          "20",
          "30",
          "40",
          "50",
          "60",
          "70",
          "80",
          "90",
          "0",
          "10",
          "20",
          "30",
          "40",
          "50",
          "60",
          "70",
          "80",
          "90",
          "0",
          "10",
          "20",
          "30",
          "40",
          "50",
          "60",
          "70",
          "80",
          "90",
          "0",
          "10",
          "20",
          "30",
          "40",
          "50",
          "60",
          "70",
          "80",
          "90",
          "0",
          "10",
          "20",
          "30",
          "40",
          "50",
          "60",
          "70",
          "80",
          "90",
          "0",
          "10",
          "20",
          "30",
          "40",
          "50",
          "60",
          "70",
          "80",
          "90",
          "0",
          "10",
          "20",
          "30",
          "40",
          "50",
          "60",
          "70",
          "80",
          "90",
          "0",
          "10",
          "20",
          "30",
          "40",
          "50",
          "60",
          "70",
          "80",
          "90",
          "0",
          "10",
          "20",
          "30",
          "40",
          "50",
          "60",
          "70",
          "80",
          "90",
          "0",
          "10",
          "20",
          "30",
          "40",
          "50",
          "60",
          "70",
          "80",
          "90",
          "0",
          "10",
          "20",
          "30",
          "40",
          "50",
          "60",
          "70",
          "80",
          "90"
         ],
         "yaxis": "y7"
        },
        {
         "hoverinfo": "text",
         "legendgroup": "best",
         "marker": {
          "color": "red",
          "symbol": "x"
         },
         "mode": "markers",
         "name": "best_score",
         "showlegend": false,
         "text": [
          "x: 0, y: 0, z: 1.0"
         ],
         "type": "scatter",
         "x": [
          "0"
         ],
         "xaxis": "x7",
         "y": [
          "0"
         ],
         "yaxis": "y7"
        },
        {
         "colorbar": {
          "title": {
           "text": "F1 score"
          }
         },
         "colorscale": [
          [
           0,
           "#440154"
          ],
          [
           0.1111111111111111,
           "#482878"
          ],
          [
           0.2222222222222222,
           "#3e4989"
          ],
          [
           0.3333333333333333,
           "#31688e"
          ],
          [
           0.4444444444444444,
           "#26828e"
          ],
          [
           0.5555555555555556,
           "#1f9e89"
          ],
          [
           0.6666666666666666,
           "#35b779"
          ],
          [
           0.7777777777777778,
           "#6ece58"
          ],
          [
           0.8888888888888888,
           "#b5de2b"
          ],
          [
           1,
           "#fde725"
          ]
         ],
         "contours": {
          "showlabels": true
         },
         "type": "contour",
         "x": [
          "0",
          "0.1",
          "0.2",
          "0.3",
          "0.4",
          "0.5",
          "0.6",
          "0.7",
          "0.8",
          "0.9",
          "1.0"
         ],
         "xaxis": "x10",
         "y": [
          "0",
          "10",
          "20",
          "30",
          "40",
          "50",
          "60",
          "70",
          "80",
          "90"
         ],
         "yaxis": "y10",
         "z": [
          [
           0.40527887094585424,
           0.47048446193513366,
           0.47048446193513366,
           0.47048446193513366,
           0.4983715565205591,
           0.5426787895236803,
           0.5388112362600082,
           0.5408467906093093,
           0.5424752340887502,
           0.8435337223503867,
           0.8435337223503867
          ],
          [
           0.5563170036639978,
           0.6587732392454878,
           0.6587732392454878,
           0.6587732392454878,
           0.6603338309132853,
           0.6240331116840819,
           0.5959424616637264,
           0.595671054417153,
           0.5633057402632651,
           0.7719500610666304,
           0.7719500610666304
          ],
          [
           0.645813543221604,
           0.7176007599402904,
           0.7176007599402904,
           0.7176007599402904,
           0.7190934997964445,
           0.6756683403446873,
           0.6610802008413624,
           0.6608766454064323,
           0.6288505903107613,
           0.771678653820057,
           0.771678653820057
          ],
          [
           0.6679332338173429,
           0.7481340751798073,
           0.748066223368164,
           0.748066223368164,
           0.7492875559777447,
           0.7026055095671054,
           0.6971095128239924,
           0.6969059573890622,
           0.6646084950468177,
           0.7674039896865247,
           0.7674039896865247
          ],
          [
           0.6910707015877324,
           0.7768353915049532,
           0.7768353915049532,
           0.7768353915049532,
           0.778260279549464,
           0.7289320124847334,
           0.723571719364907,
           0.7234360157416203,
           0.6928348486904601,
           0.7642828063509296,
           0.7642828063509296
          ],
          [
           0.7000271407246573,
           0.7855882752069481,
           0.7855882752069481,
           0.7855882752069481,
           0.7908807165151309,
           0.7415524494504003,
           0.7360564527072873,
           0.7357850454607138,
           0.7070837291355679,
           0.7640792509159995,
           0.7640792509159995
          ],
          [
           0.6892387026733614,
           0.7780567241145339,
           0.7780567241145339,
           0.7780567241145339,
           0.7864703487583119,
           0.7491518523544579,
           0.7439951146695617,
           0.7437237074229882,
           0.7173972045053603,
           0.763807843669426,
           0.763807843669426
          ],
          [
           0.6736327859953861,
           0.7579725878680961,
           0.7579725878680961,
           0.7579725878680961,
           0.7640792509159995,
           0.7497625186592483,
           0.7458271135839327,
           0.7456235581490026,
           0.7281856425566563,
           0.7591939204776768,
           0.7591939204776768
          ],
          [
           0.6836070023069616,
           0.756683403446872,
           0.756683403446872,
           0.756683403446872,
           0.7564798480119419,
           0.7514588139503324,
           0.7478626679332339,
           0.7476591124983037,
           0.7389062287963089,
           0.7450807436558556,
           0.7450807436558556
          ],
          [
           0.6684081964988465,
           0.7442665219161352,
           0.7442665219161352,
           0.7442665219161352,
           0.7436558556113448,
           0.7440629664812051,
           0.7405346722757498,
           0.7403311168408196,
           0.7393133396661691,
           0.7334102320531958,
           0.7334102320531958
          ]
         ],
         "zmax": 1,
         "zmin": 0.14512619669277632
        },
        {
         "hoverinfo": "text",
         "marker": {
          "color": "black",
          "symbol": "x"
         },
         "mode": "markers",
         "showlegend": false,
         "text": [
          "x: 0, y: 0, z: 0.40527887094585424",
          "x: 0, y: 10, z: 0.5563170036639978",
          "x: 0, y: 20, z: 0.645813543221604",
          "x: 0, y: 30, z: 0.6679332338173429",
          "x: 0, y: 40, z: 0.6910707015877324",
          "x: 0, y: 50, z: 0.7000271407246573",
          "x: 0, y: 60, z: 0.6892387026733614",
          "x: 0, y: 70, z: 0.6736327859953861",
          "x: 0, y: 80, z: 0.6836070023069616",
          "x: 0, y: 90, z: 0.6684081964988465",
          "x: 0.1, y: 0, z: 0.47048446193513366",
          "x: 0.1, y: 10, z: 0.6587732392454878",
          "x: 0.1, y: 20, z: 0.7176007599402904",
          "x: 0.1, y: 30, z: 0.7481340751798073",
          "x: 0.1, y: 40, z: 0.7768353915049532",
          "x: 0.1, y: 50, z: 0.7855882752069481",
          "x: 0.1, y: 60, z: 0.7780567241145339",
          "x: 0.1, y: 70, z: 0.7579725878680961",
          "x: 0.1, y: 80, z: 0.756683403446872",
          "x: 0.1, y: 90, z: 0.7442665219161352",
          "x: 0.2, y: 0, z: 0.47048446193513366",
          "x: 0.2, y: 10, z: 0.6587732392454878",
          "x: 0.2, y: 20, z: 0.7176007599402904",
          "x: 0.2, y: 30, z: 0.748066223368164",
          "x: 0.2, y: 40, z: 0.7768353915049532",
          "x: 0.2, y: 50, z: 0.7855882752069481",
          "x: 0.2, y: 60, z: 0.7780567241145339",
          "x: 0.2, y: 70, z: 0.7579725878680961",
          "x: 0.2, y: 80, z: 0.756683403446872",
          "x: 0.2, y: 90, z: 0.7442665219161352",
          "x: 0.3, y: 0, z: 0.47048446193513366",
          "x: 0.3, y: 10, z: 0.6587732392454878",
          "x: 0.3, y: 20, z: 0.7176007599402904",
          "x: 0.3, y: 30, z: 0.748066223368164",
          "x: 0.3, y: 40, z: 0.7768353915049532",
          "x: 0.3, y: 50, z: 0.7855882752069481",
          "x: 0.3, y: 60, z: 0.7780567241145339",
          "x: 0.3, y: 70, z: 0.7579725878680961",
          "x: 0.3, y: 80, z: 0.756683403446872",
          "x: 0.3, y: 90, z: 0.7442665219161352",
          "x: 0.4, y: 0, z: 0.4983715565205591",
          "x: 0.4, y: 10, z: 0.6603338309132853",
          "x: 0.4, y: 20, z: 0.7190934997964445",
          "x: 0.4, y: 30, z: 0.7492875559777447",
          "x: 0.4, y: 40, z: 0.778260279549464",
          "x: 0.4, y: 50, z: 0.7908807165151309",
          "x: 0.4, y: 60, z: 0.7864703487583119",
          "x: 0.4, y: 70, z: 0.7640792509159995",
          "x: 0.4, y: 80, z: 0.7564798480119419",
          "x: 0.4, y: 90, z: 0.7436558556113448",
          "x: 0.5, y: 0, z: 0.5426787895236803",
          "x: 0.5, y: 10, z: 0.6240331116840819",
          "x: 0.5, y: 20, z: 0.6756683403446873",
          "x: 0.5, y: 30, z: 0.7026055095671054",
          "x: 0.5, y: 40, z: 0.7289320124847334",
          "x: 0.5, y: 50, z: 0.7415524494504003",
          "x: 0.5, y: 60, z: 0.7491518523544579",
          "x: 0.5, y: 70, z: 0.7497625186592483",
          "x: 0.5, y: 80, z: 0.7514588139503324",
          "x: 0.5, y: 90, z: 0.7440629664812051",
          "x: 0.6, y: 0, z: 0.5388112362600082",
          "x: 0.6, y: 10, z: 0.5959424616637264",
          "x: 0.6, y: 20, z: 0.6610802008413624",
          "x: 0.6, y: 30, z: 0.6971095128239924",
          "x: 0.6, y: 40, z: 0.723571719364907",
          "x: 0.6, y: 50, z: 0.7360564527072873",
          "x: 0.6, y: 60, z: 0.7439951146695617",
          "x: 0.6, y: 70, z: 0.7458271135839327",
          "x: 0.6, y: 80, z: 0.7478626679332339",
          "x: 0.6, y: 90, z: 0.7405346722757498",
          "x: 0.7, y: 0, z: 0.5408467906093093",
          "x: 0.7, y: 10, z: 0.595671054417153",
          "x: 0.7, y: 20, z: 0.6608766454064323",
          "x: 0.7, y: 30, z: 0.6969059573890622",
          "x: 0.7, y: 40, z: 0.7234360157416203",
          "x: 0.7, y: 50, z: 0.7357850454607138",
          "x: 0.7, y: 60, z: 0.7437237074229882",
          "x: 0.7, y: 70, z: 0.7456235581490026",
          "x: 0.7, y: 80, z: 0.7476591124983037",
          "x: 0.7, y: 90, z: 0.7403311168408196",
          "x: 0.8, y: 0, z: 0.5424752340887502",
          "x: 0.8, y: 10, z: 0.5633057402632651",
          "x: 0.8, y: 20, z: 0.6288505903107613",
          "x: 0.8, y: 30, z: 0.6646084950468177",
          "x: 0.8, y: 40, z: 0.6928348486904601",
          "x: 0.8, y: 50, z: 0.7070837291355679",
          "x: 0.8, y: 60, z: 0.7173972045053603",
          "x: 0.8, y: 70, z: 0.7281856425566563",
          "x: 0.8, y: 80, z: 0.7389062287963089",
          "x: 0.8, y: 90, z: 0.7393133396661691",
          "x: 0.9, y: 0, z: 0.8435337223503867",
          "x: 0.9, y: 10, z: 0.7719500610666304",
          "x: 0.9, y: 20, z: 0.771678653820057",
          "x: 0.9, y: 30, z: 0.7674039896865247",
          "x: 0.9, y: 40, z: 0.7642828063509296",
          "x: 0.9, y: 50, z: 0.7640792509159995",
          "x: 0.9, y: 60, z: 0.763807843669426",
          "x: 0.9, y: 70, z: 0.7591939204776768",
          "x: 0.9, y: 80, z: 0.7450807436558556",
          "x: 0.9, y: 90, z: 0.7334102320531958",
          "x: 1.0, y: 0, z: 0.8435337223503867",
          "x: 1.0, y: 10, z: 0.7719500610666304",
          "x: 1.0, y: 20, z: 0.771678653820057",
          "x: 1.0, y: 30, z: 0.7674039896865247",
          "x: 1.0, y: 40, z: 0.7642828063509296",
          "x: 1.0, y: 50, z: 0.7640792509159995",
          "x: 1.0, y: 60, z: 0.763807843669426",
          "x: 1.0, y: 70, z: 0.7591939204776768",
          "x: 1.0, y: 80, z: 0.7450807436558556",
          "x: 1.0, y: 90, z: 0.7334102320531958"
         ],
         "type": "scatter",
         "x": [
          "0",
          "0",
          "0",
          "0",
          "0",
          "0",
          "0",
          "0",
          "0",
          "0",
          "0.1",
          "0.1",
          "0.1",
          "0.1",
          "0.1",
          "0.1",
          "0.1",
          "0.1",
          "0.1",
          "0.1",
          "0.2",
          "0.2",
          "0.2",
          "0.2",
          "0.2",
          "0.2",
          "0.2",
          "0.2",
          "0.2",
          "0.2",
          "0.3",
          "0.3",
          "0.3",
          "0.3",
          "0.3",
          "0.3",
          "0.3",
          "0.3",
          "0.3",
          "0.3",
          "0.4",
          "0.4",
          "0.4",
          "0.4",
          "0.4",
          "0.4",
          "0.4",
          "0.4",
          "0.4",
          "0.4",
          "0.5",
          "0.5",
          "0.5",
          "0.5",
          "0.5",
          "0.5",
          "0.5",
          "0.5",
          "0.5",
          "0.5",
          "0.6",
          "0.6",
          "0.6",
          "0.6",
          "0.6",
          "0.6",
          "0.6",
          "0.6",
          "0.6",
          "0.6",
          "0.7",
          "0.7",
          "0.7",
          "0.7",
          "0.7",
          "0.7",
          "0.7",
          "0.7",
          "0.7",
          "0.7",
          "0.8",
          "0.8",
          "0.8",
          "0.8",
          "0.8",
          "0.8",
          "0.8",
          "0.8",
          "0.8",
          "0.8",
          "0.9",
          "0.9",
          "0.9",
          "0.9",
          "0.9",
          "0.9",
          "0.9",
          "0.9",
          "0.9",
          "0.9",
          "1.0",
          "1.0",
          "1.0",
          "1.0",
          "1.0",
          "1.0",
          "1.0",
          "1.0",
          "1.0",
          "1.0"
         ],
         "xaxis": "x10",
         "y": [
          "0",
          "10",
          "20",
          "30",
          "40",
          "50",
          "60",
          "70",
          "80",
          "90",
          "0",
          "10",
          "20",
          "30",
          "40",
          "50",
          "60",
          "70",
          "80",
          "90",
          "0",
          "10",
          "20",
          "30",
          "40",
          "50",
          "60",
          "70",
          "80",
          "90",
          "0",
          "10",
          "20",
          "30",
          "40",
          "50",
          "60",
          "70",
          "80",
          "90",
          "0",
          "10",
          "20",
          "30",
          "40",
          "50",
          "60",
          "70",
          "80",
          "90",
          "0",
          "10",
          "20",
          "30",
          "40",
          "50",
          "60",
          "70",
          "80",
          "90",
          "0",
          "10",
          "20",
          "30",
          "40",
          "50",
          "60",
          "70",
          "80",
          "90",
          "0",
          "10",
          "20",
          "30",
          "40",
          "50",
          "60",
          "70",
          "80",
          "90",
          "0",
          "10",
          "20",
          "30",
          "40",
          "50",
          "60",
          "70",
          "80",
          "90",
          "0",
          "10",
          "20",
          "30",
          "40",
          "50",
          "60",
          "70",
          "80",
          "90",
          "0",
          "10",
          "20",
          "30",
          "40",
          "50",
          "60",
          "70",
          "80",
          "90"
         ],
         "yaxis": "y10"
        },
        {
         "hoverinfo": "text",
         "legendgroup": "best",
         "marker": {
          "color": "red",
          "symbol": "x"
         },
         "mode": "markers",
         "name": "best_score",
         "showlegend": false,
         "text": [
          "x: 0.9, y: 0, z: 0.8435337223503867"
         ],
         "type": "scatter",
         "x": [
          "0.9"
         ],
         "xaxis": "x10",
         "y": [
          "0"
         ],
         "yaxis": "y10"
        },
        {
         "colorbar": {
          "title": {
           "text": "F1 score"
          }
         },
         "colorscale": [
          [
           0,
           "#440154"
          ],
          [
           0.1111111111111111,
           "#482878"
          ],
          [
           0.2222222222222222,
           "#3e4989"
          ],
          [
           0.3333333333333333,
           "#31688e"
          ],
          [
           0.4444444444444444,
           "#26828e"
          ],
          [
           0.5555555555555556,
           "#1f9e89"
          ],
          [
           0.6666666666666666,
           "#35b779"
          ],
          [
           0.7777777777777778,
           "#6ece58"
          ],
          [
           0.8888888888888888,
           "#b5de2b"
          ],
          [
           1,
           "#fde725"
          ]
         ],
         "contours": {
          "showlabels": true
         },
         "type": "contour",
         "x": [
          "0",
          "0.1",
          "0.2",
          "0.3",
          "0.4",
          "0.5",
          "0.6",
          "0.7",
          "0.8",
          "0.9",
          "1.0"
         ],
         "xaxis": "x13",
         "y": [
          "0",
          "10",
          "20",
          "30",
          "40",
          "50",
          "60",
          "70",
          "80",
          "90"
         ],
         "yaxis": "y13",
         "z": [
          [
           0.5678860185367778,
           0.615263261684086,
           0.615263261684086,
           0.615263261684086,
           0.6353470664346952,
           0.6630186641252096,
           0.6568176197387867,
           0.6581181470293288,
           0.6572191847051245,
           0.7970788690928244,
           0.7970788690928244
          ],
          [
           0.6775681965352225,
           0.7421357154858794,
           0.7421357154858794,
           0.7421357154858794,
           0.7357143445579302,
           0.6496106034089644,
           0.6045714389181027,
           0.603898316662316,
           0.5487333991352387,
           0.6345344326404911,
           0.6345344326404911
          ],
          [
           0.7373596710865844,
           0.7568588274526098,
           0.7568588274526098,
           0.7568588274526098,
           0.7501501953376072,
           0.666841662148578,
           0.6434517578840003,
           0.6430064065037134,
           0.5910625042585023,
           0.6339208006962576,
           0.6339208006962576
          ],
          [
           0.7314200365257212,
           0.760720784872221,
           0.7606119946198275,
           0.7606119946198275,
           0.753587182118358,
           0.6691020580000717,
           0.6602900475562076,
           0.6598446961759207,
           0.607644103855796,
           0.6270670147954743,
           0.6270670147954743
          ],
          [
           0.7351434478104562,
           0.7701525200293344,
           0.7701525200293344,
           0.7701525200293344,
           0.7633945879734918,
           0.6788309658205955,
           0.6702365358815181,
           0.6698999747536247,
           0.620657099989548,
           0.6220626631853786,
           0.6220626631853786
          ],
          [
           0.730942783921749,
           0.7632458729213145,
           0.7632458729213145,
           0.7632458729213145,
           0.7626294949403416,
           0.6814568205459841,
           0.67264481010212,
           0.6722096490925464,
           0.6261913723301443,
           0.6217362924281984,
           0.6217362924281984
          ],
          [
           0.6994269493299583,
           0.7356431835902336,
           0.7356431835902336,
           0.7356431835902336,
           0.7400311572193564,
           0.678411809056395,
           0.6701437498744975,
           0.6697085888649239,
           0.6274979709362905,
           0.6213011314186249,
           0.6213011314186249
          ],
          [
           0.65269122756252,
           0.6810729117377453,
           0.6810729117377453,
           0.6810729117377453,
           0.6845580614284986,
           0.6598780991384481,
           0.6535682644996318,
           0.6532418937424516,
           0.6252827988773515,
           0.6139033942558747,
           0.6139033942558747
          ],
          [
           0.6403660063649699,
           0.6488443089847404,
           0.6488443089847404,
           0.6488443089847404,
           0.6479230351120272,
           0.6383258083345305,
           0.6325599249576811,
           0.6322335542005009,
           0.6181996116417542,
           0.5912750217580505,
           0.5912750217580505
          ],
          [
           0.6002320572672233,
           0.6132897408582292,
           0.6132897408582292,
           0.6132897408582292,
           0.6119536867173688,
           0.6114166220006628,
           0.6057595288762068,
           0.6054331581190266,
           0.6038013043331258,
           0.5725630983463882,
           0.5725630983463882
          ]
         ],
         "zmax": 1,
         "zmin": 0.14512619669277632
        },
        {
         "hoverinfo": "text",
         "marker": {
          "color": "black",
          "symbol": "x"
         },
         "mode": "markers",
         "showlegend": false,
         "text": [
          "x: 0, y: 0, z: 0.5678860185367778",
          "x: 0, y: 10, z: 0.6775681965352225",
          "x: 0, y: 20, z: 0.7373596710865844",
          "x: 0, y: 30, z: 0.7314200365257212",
          "x: 0, y: 40, z: 0.7351434478104562",
          "x: 0, y: 50, z: 0.730942783921749",
          "x: 0, y: 60, z: 0.6994269493299583",
          "x: 0, y: 70, z: 0.65269122756252",
          "x: 0, y: 80, z: 0.6403660063649699",
          "x: 0, y: 90, z: 0.6002320572672233",
          "x: 0.1, y: 0, z: 0.615263261684086",
          "x: 0.1, y: 10, z: 0.7421357154858794",
          "x: 0.1, y: 20, z: 0.7568588274526098",
          "x: 0.1, y: 30, z: 0.760720784872221",
          "x: 0.1, y: 40, z: 0.7701525200293344",
          "x: 0.1, y: 50, z: 0.7632458729213145",
          "x: 0.1, y: 60, z: 0.7356431835902336",
          "x: 0.1, y: 70, z: 0.6810729117377453",
          "x: 0.1, y: 80, z: 0.6488443089847404",
          "x: 0.1, y: 90, z: 0.6132897408582292",
          "x: 0.2, y: 0, z: 0.615263261684086",
          "x: 0.2, y: 10, z: 0.7421357154858794",
          "x: 0.2, y: 20, z: 0.7568588274526098",
          "x: 0.2, y: 30, z: 0.7606119946198275",
          "x: 0.2, y: 40, z: 0.7701525200293344",
          "x: 0.2, y: 50, z: 0.7632458729213145",
          "x: 0.2, y: 60, z: 0.7356431835902336",
          "x: 0.2, y: 70, z: 0.6810729117377453",
          "x: 0.2, y: 80, z: 0.6488443089847404",
          "x: 0.2, y: 90, z: 0.6132897408582292",
          "x: 0.3, y: 0, z: 0.615263261684086",
          "x: 0.3, y: 10, z: 0.7421357154858794",
          "x: 0.3, y: 20, z: 0.7568588274526098",
          "x: 0.3, y: 30, z: 0.7606119946198275",
          "x: 0.3, y: 40, z: 0.7701525200293344",
          "x: 0.3, y: 50, z: 0.7632458729213145",
          "x: 0.3, y: 60, z: 0.7356431835902336",
          "x: 0.3, y: 70, z: 0.6810729117377453",
          "x: 0.3, y: 80, z: 0.6488443089847404",
          "x: 0.3, y: 90, z: 0.6132897408582292",
          "x: 0.4, y: 0, z: 0.6353470664346952",
          "x: 0.4, y: 10, z: 0.7357143445579302",
          "x: 0.4, y: 20, z: 0.7501501953376072",
          "x: 0.4, y: 30, z: 0.753587182118358",
          "x: 0.4, y: 40, z: 0.7633945879734918",
          "x: 0.4, y: 50, z: 0.7626294949403416",
          "x: 0.4, y: 60, z: 0.7400311572193564",
          "x: 0.4, y: 70, z: 0.6845580614284986",
          "x: 0.4, y: 80, z: 0.6479230351120272",
          "x: 0.4, y: 90, z: 0.6119536867173688",
          "x: 0.5, y: 0, z: 0.6630186641252096",
          "x: 0.5, y: 10, z: 0.6496106034089644",
          "x: 0.5, y: 20, z: 0.666841662148578",
          "x: 0.5, y: 30, z: 0.6691020580000717",
          "x: 0.5, y: 40, z: 0.6788309658205955",
          "x: 0.5, y: 50, z: 0.6814568205459841",
          "x: 0.5, y: 60, z: 0.678411809056395",
          "x: 0.5, y: 70, z: 0.6598780991384481",
          "x: 0.5, y: 80, z: 0.6383258083345305",
          "x: 0.5, y: 90, z: 0.6114166220006628",
          "x: 0.6, y: 0, z: 0.6568176197387867",
          "x: 0.6, y: 10, z: 0.6045714389181027",
          "x: 0.6, y: 20, z: 0.6434517578840003",
          "x: 0.6, y: 30, z: 0.6602900475562076",
          "x: 0.6, y: 40, z: 0.6702365358815181",
          "x: 0.6, y: 50, z: 0.67264481010212",
          "x: 0.6, y: 60, z: 0.6701437498744975",
          "x: 0.6, y: 70, z: 0.6535682644996318",
          "x: 0.6, y: 80, z: 0.6325599249576811",
          "x: 0.6, y: 90, z: 0.6057595288762068",
          "x: 0.7, y: 0, z: 0.6581181470293288",
          "x: 0.7, y: 10, z: 0.603898316662316",
          "x: 0.7, y: 20, z: 0.6430064065037134",
          "x: 0.7, y: 30, z: 0.6598446961759207",
          "x: 0.7, y: 40, z: 0.6698999747536247",
          "x: 0.7, y: 50, z: 0.6722096490925464",
          "x: 0.7, y: 60, z: 0.6697085888649239",
          "x: 0.7, y: 70, z: 0.6532418937424516",
          "x: 0.7, y: 80, z: 0.6322335542005009",
          "x: 0.7, y: 90, z: 0.6054331581190266",
          "x: 0.8, y: 0, z: 0.6572191847051245",
          "x: 0.8, y: 10, z: 0.5487333991352387",
          "x: 0.8, y: 20, z: 0.5910625042585023",
          "x: 0.8, y: 30, z: 0.607644103855796",
          "x: 0.8, y: 40, z: 0.620657099989548",
          "x: 0.8, y: 50, z: 0.6261913723301443",
          "x: 0.8, y: 60, z: 0.6274979709362905",
          "x: 0.8, y: 70, z: 0.6252827988773515",
          "x: 0.8, y: 80, z: 0.6181996116417542",
          "x: 0.8, y: 90, z: 0.6038013043331258",
          "x: 0.9, y: 0, z: 0.7970788690928244",
          "x: 0.9, y: 10, z: 0.6345344326404911",
          "x: 0.9, y: 20, z: 0.6339208006962576",
          "x: 0.9, y: 30, z: 0.6270670147954743",
          "x: 0.9, y: 40, z: 0.6220626631853786",
          "x: 0.9, y: 50, z: 0.6217362924281984",
          "x: 0.9, y: 60, z: 0.6213011314186249",
          "x: 0.9, y: 70, z: 0.6139033942558747",
          "x: 0.9, y: 80, z: 0.5912750217580505",
          "x: 0.9, y: 90, z: 0.5725630983463882",
          "x: 1.0, y: 0, z: 0.7970788690928244",
          "x: 1.0, y: 10, z: 0.6345344326404911",
          "x: 1.0, y: 20, z: 0.6339208006962576",
          "x: 1.0, y: 30, z: 0.6270670147954743",
          "x: 1.0, y: 40, z: 0.6220626631853786",
          "x: 1.0, y: 50, z: 0.6217362924281984",
          "x: 1.0, y: 60, z: 0.6213011314186249",
          "x: 1.0, y: 70, z: 0.6139033942558747",
          "x: 1.0, y: 80, z: 0.5912750217580505",
          "x: 1.0, y: 90, z: 0.5725630983463882"
         ],
         "type": "scatter",
         "x": [
          "0",
          "0",
          "0",
          "0",
          "0",
          "0",
          "0",
          "0",
          "0",
          "0",
          "0.1",
          "0.1",
          "0.1",
          "0.1",
          "0.1",
          "0.1",
          "0.1",
          "0.1",
          "0.1",
          "0.1",
          "0.2",
          "0.2",
          "0.2",
          "0.2",
          "0.2",
          "0.2",
          "0.2",
          "0.2",
          "0.2",
          "0.2",
          "0.3",
          "0.3",
          "0.3",
          "0.3",
          "0.3",
          "0.3",
          "0.3",
          "0.3",
          "0.3",
          "0.3",
          "0.4",
          "0.4",
          "0.4",
          "0.4",
          "0.4",
          "0.4",
          "0.4",
          "0.4",
          "0.4",
          "0.4",
          "0.5",
          "0.5",
          "0.5",
          "0.5",
          "0.5",
          "0.5",
          "0.5",
          "0.5",
          "0.5",
          "0.5",
          "0.6",
          "0.6",
          "0.6",
          "0.6",
          "0.6",
          "0.6",
          "0.6",
          "0.6",
          "0.6",
          "0.6",
          "0.7",
          "0.7",
          "0.7",
          "0.7",
          "0.7",
          "0.7",
          "0.7",
          "0.7",
          "0.7",
          "0.7",
          "0.8",
          "0.8",
          "0.8",
          "0.8",
          "0.8",
          "0.8",
          "0.8",
          "0.8",
          "0.8",
          "0.8",
          "0.9",
          "0.9",
          "0.9",
          "0.9",
          "0.9",
          "0.9",
          "0.9",
          "0.9",
          "0.9",
          "0.9",
          "1.0",
          "1.0",
          "1.0",
          "1.0",
          "1.0",
          "1.0",
          "1.0",
          "1.0",
          "1.0",
          "1.0"
         ],
         "xaxis": "x13",
         "y": [
          "0",
          "10",
          "20",
          "30",
          "40",
          "50",
          "60",
          "70",
          "80",
          "90",
          "0",
          "10",
          "20",
          "30",
          "40",
          "50",
          "60",
          "70",
          "80",
          "90",
          "0",
          "10",
          "20",
          "30",
          "40",
          "50",
          "60",
          "70",
          "80",
          "90",
          "0",
          "10",
          "20",
          "30",
          "40",
          "50",
          "60",
          "70",
          "80",
          "90",
          "0",
          "10",
          "20",
          "30",
          "40",
          "50",
          "60",
          "70",
          "80",
          "90",
          "0",
          "10",
          "20",
          "30",
          "40",
          "50",
          "60",
          "70",
          "80",
          "90",
          "0",
          "10",
          "20",
          "30",
          "40",
          "50",
          "60",
          "70",
          "80",
          "90",
          "0",
          "10",
          "20",
          "30",
          "40",
          "50",
          "60",
          "70",
          "80",
          "90",
          "0",
          "10",
          "20",
          "30",
          "40",
          "50",
          "60",
          "70",
          "80",
          "90",
          "0",
          "10",
          "20",
          "30",
          "40",
          "50",
          "60",
          "70",
          "80",
          "90",
          "0",
          "10",
          "20",
          "30",
          "40",
          "50",
          "60",
          "70",
          "80",
          "90"
         ],
         "yaxis": "y13"
        },
        {
         "hoverinfo": "text",
         "legendgroup": "best",
         "marker": {
          "color": "red",
          "symbol": "x"
         },
         "mode": "markers",
         "name": "best_score",
         "showlegend": false,
         "text": [
          "x: 0.9, y: 0, z: 0.7970788690928244"
         ],
         "type": "scatter",
         "x": [
          "0.9"
         ],
         "xaxis": "x13",
         "y": [
          "0"
         ],
         "yaxis": "y13"
        },
        {
         "colorbar": {
          "title": {
           "text": "F1 score"
          }
         },
         "colorscale": [
          [
           0,
           "#440154"
          ],
          [
           0.1111111111111111,
           "#482878"
          ],
          [
           0.2222222222222222,
           "#3e4989"
          ],
          [
           0.3333333333333333,
           "#31688e"
          ],
          [
           0.4444444444444444,
           "#26828e"
          ],
          [
           0.5555555555555556,
           "#1f9e89"
          ],
          [
           0.6666666666666666,
           "#35b779"
          ],
          [
           0.7777777777777778,
           "#6ece58"
          ],
          [
           0.8888888888888888,
           "#b5de2b"
          ],
          [
           1,
           "#fde725"
          ]
         ],
         "contours": {
          "showlabels": true
         },
         "type": "contour",
         "x": [
          "0",
          "0.1",
          "0.2",
          "0.3",
          "0.4",
          "0.5",
          "0.6",
          "0.7",
          "0.8",
          "0.9",
          "1.0"
         ],
         "xaxis": "x2",
         "y": [
          "0",
          "10",
          "20",
          "30",
          "40",
          "50",
          "60",
          "70",
          "80",
          "90"
         ],
         "yaxis": "y2",
         "z": [
          [
           0.5039749986293108,
           0.5282151476841742,
           0.5282151476841742,
           0.5282151476841742,
           0.5408205309317794,
           0.5575226697921165,
           0.5469458770894178,
           0.5481416812172611,
           0.5479777458273426,
           0.7286420334196282,
           0.7286420334196282
          ],
          [
           0.6023069864988858,
           0.658004158004158,
           0.658004158004158,
           0.658004158004158,
           0.6403918267391138,
           0.49499413727789304,
           0.4096454441479222,
           0.40934668574153554,
           0.4024530471444998,
           0.4241905088230255,
           0.4241905088230255
          ],
          [
           0.6611025697342412,
           0.6777997761900663,
           0.6777997761900663,
           0.6777997761900663,
           0.6568522483940042,
           0.5,
           0.4484629294755877,
           0.4483932751649287,
           0.4440175045362365,
           0.422515874377896,
           0.422515874377896
          ],
          [
           0.6677982541222115,
           0.6958437081018962,
           0.6957188008811417,
           0.6957188008811417,
           0.6729120988638628,
           0.49647521090951113,
           0.4661636406507899,
           0.4660926996108032,
           0.46192052980132453,
           0.40527411519777934,
           0.40527411519777934
          ],
          [
           0.6719046796753583,
           0.70821295914156,
           0.7078129837960574,
           0.7078129837960574,
           0.6848902281532501,
           0.4975111996017919,
           0.46523452396084913,
           0.4653528289891926,
           0.4626162272321997,
           0.39244491080797483,
           0.39244491080797483
          ],
          [
           0.6747533266950303,
           0.7036832208826457,
           0.7029659141212926,
           0.7029659141212926,
           0.6942602332494855,
           0.5041972717733473,
           0.4702883970489604,
           0.4702883970489604,
           0.4694671856126694,
           0.3916010498687664,
           0.3916010498687664
          ],
          [
           0.6391491022638564,
           0.678137408254121,
           0.6779783393501805,
           0.6779783393501805,
           0.684469603741078,
           0.504133389379291,
           0.46961009174311924,
           0.46961009174311924,
           0.46961009174311924,
           0.3904745228506391,
           0.3904745228506391
          ],
          [
           0.5741166174379171,
           0.5886128942227183,
           0.5886128942227183,
           0.5886128942227183,
           0.5931602100184475,
           0.4896341463414634,
           0.4605344934742076,
           0.4605344934742076,
           0.4605344934742076,
           0.37107921318447634,
           0.37107921318447634
          ],
          [
           0.5394922425952046,
           0.502280232740997,
           0.502280232740997,
           0.502280232740997,
           0.4997635188396658,
           0.44720091398726947,
           0.41802460924509477,
           0.41802460924509477,
           0.41802460924509477,
           0.30873965041398344,
           0.30873965041398344
          ],
          [
           0.448512585812357,
           0.3900672529746508,
           0.3900672529746508,
           0.3900672529746508,
           0.3867288750648004,
           0.3803574527155995,
           0.348549186128804,
           0.348549186128804,
           0.348549186128804,
           0.25346760402812085,
           0.25346760402812085
          ]
         ],
         "zmax": 1,
         "zmin": 0.14512619669277632
        },
        {
         "hoverinfo": "text",
         "marker": {
          "color": "black",
          "symbol": "x"
         },
         "mode": "markers",
         "showlegend": false,
         "text": [
          "x: 0, y: 0, z: 0.5039749986293108",
          "x: 0, y: 10, z: 0.6023069864988858",
          "x: 0, y: 20, z: 0.6611025697342412",
          "x: 0, y: 30, z: 0.6677982541222115",
          "x: 0, y: 40, z: 0.6719046796753583",
          "x: 0, y: 50, z: 0.6747533266950303",
          "x: 0, y: 60, z: 0.6391491022638564",
          "x: 0, y: 70, z: 0.5741166174379171",
          "x: 0, y: 80, z: 0.5394922425952046",
          "x: 0, y: 90, z: 0.448512585812357",
          "x: 0.1, y: 0, z: 0.5282151476841742",
          "x: 0.1, y: 10, z: 0.658004158004158",
          "x: 0.1, y: 20, z: 0.6777997761900663",
          "x: 0.1, y: 30, z: 0.6958437081018962",
          "x: 0.1, y: 40, z: 0.70821295914156",
          "x: 0.1, y: 50, z: 0.7036832208826457",
          "x: 0.1, y: 60, z: 0.678137408254121",
          "x: 0.1, y: 70, z: 0.5886128942227183",
          "x: 0.1, y: 80, z: 0.502280232740997",
          "x: 0.1, y: 90, z: 0.3900672529746508",
          "x: 0.2, y: 0, z: 0.5282151476841742",
          "x: 0.2, y: 10, z: 0.658004158004158",
          "x: 0.2, y: 20, z: 0.6777997761900663",
          "x: 0.2, y: 30, z: 0.6957188008811417",
          "x: 0.2, y: 40, z: 0.7078129837960574",
          "x: 0.2, y: 50, z: 0.7029659141212926",
          "x: 0.2, y: 60, z: 0.6779783393501805",
          "x: 0.2, y: 70, z: 0.5886128942227183",
          "x: 0.2, y: 80, z: 0.502280232740997",
          "x: 0.2, y: 90, z: 0.3900672529746508",
          "x: 0.3, y: 0, z: 0.5282151476841742",
          "x: 0.3, y: 10, z: 0.658004158004158",
          "x: 0.3, y: 20, z: 0.6777997761900663",
          "x: 0.3, y: 30, z: 0.6957188008811417",
          "x: 0.3, y: 40, z: 0.7078129837960574",
          "x: 0.3, y: 50, z: 0.7029659141212926",
          "x: 0.3, y: 60, z: 0.6779783393501805",
          "x: 0.3, y: 70, z: 0.5886128942227183",
          "x: 0.3, y: 80, z: 0.502280232740997",
          "x: 0.3, y: 90, z: 0.3900672529746508",
          "x: 0.4, y: 0, z: 0.5408205309317794",
          "x: 0.4, y: 10, z: 0.6403918267391138",
          "x: 0.4, y: 20, z: 0.6568522483940042",
          "x: 0.4, y: 30, z: 0.6729120988638628",
          "x: 0.4, y: 40, z: 0.6848902281532501",
          "x: 0.4, y: 50, z: 0.6942602332494855",
          "x: 0.4, y: 60, z: 0.684469603741078",
          "x: 0.4, y: 70, z: 0.5931602100184475",
          "x: 0.4, y: 80, z: 0.4997635188396658",
          "x: 0.4, y: 90, z: 0.3867288750648004",
          "x: 0.5, y: 0, z: 0.5575226697921165",
          "x: 0.5, y: 10, z: 0.49499413727789304",
          "x: 0.5, y: 20, z: 0.5",
          "x: 0.5, y: 30, z: 0.49647521090951113",
          "x: 0.5, y: 40, z: 0.4975111996017919",
          "x: 0.5, y: 50, z: 0.5041972717733473",
          "x: 0.5, y: 60, z: 0.504133389379291",
          "x: 0.5, y: 70, z: 0.4896341463414634",
          "x: 0.5, y: 80, z: 0.44720091398726947",
          "x: 0.5, y: 90, z: 0.3803574527155995",
          "x: 0.6, y: 0, z: 0.5469458770894178",
          "x: 0.6, y: 10, z: 0.4096454441479222",
          "x: 0.6, y: 20, z: 0.4484629294755877",
          "x: 0.6, y: 30, z: 0.4661636406507899",
          "x: 0.6, y: 40, z: 0.46523452396084913",
          "x: 0.6, y: 50, z: 0.4702883970489604",
          "x: 0.6, y: 60, z: 0.46961009174311924",
          "x: 0.6, y: 70, z: 0.4605344934742076",
          "x: 0.6, y: 80, z: 0.41802460924509477",
          "x: 0.6, y: 90, z: 0.348549186128804",
          "x: 0.7, y: 0, z: 0.5481416812172611",
          "x: 0.7, y: 10, z: 0.40934668574153554",
          "x: 0.7, y: 20, z: 0.4483932751649287",
          "x: 0.7, y: 30, z: 0.4660926996108032",
          "x: 0.7, y: 40, z: 0.4653528289891926",
          "x: 0.7, y: 50, z: 0.4702883970489604",
          "x: 0.7, y: 60, z: 0.46961009174311924",
          "x: 0.7, y: 70, z: 0.4605344934742076",
          "x: 0.7, y: 80, z: 0.41802460924509477",
          "x: 0.7, y: 90, z: 0.348549186128804",
          "x: 0.8, y: 0, z: 0.5479777458273426",
          "x: 0.8, y: 10, z: 0.4024530471444998",
          "x: 0.8, y: 20, z: 0.4440175045362365",
          "x: 0.8, y: 30, z: 0.46192052980132453",
          "x: 0.8, y: 40, z: 0.4626162272321997",
          "x: 0.8, y: 50, z: 0.4694671856126694",
          "x: 0.8, y: 60, z: 0.46961009174311924",
          "x: 0.8, y: 70, z: 0.4605344934742076",
          "x: 0.8, y: 80, z: 0.41802460924509477",
          "x: 0.8, y: 90, z: 0.348549186128804",
          "x: 0.9, y: 0, z: 0.7286420334196282",
          "x: 0.9, y: 10, z: 0.4241905088230255",
          "x: 0.9, y: 20, z: 0.422515874377896",
          "x: 0.9, y: 30, z: 0.40527411519777934",
          "x: 0.9, y: 40, z: 0.39244491080797483",
          "x: 0.9, y: 50, z: 0.3916010498687664",
          "x: 0.9, y: 60, z: 0.3904745228506391",
          "x: 0.9, y: 70, z: 0.37107921318447634",
          "x: 0.9, y: 80, z: 0.30873965041398344",
          "x: 0.9, y: 90, z: 0.25346760402812085",
          "x: 1.0, y: 0, z: 0.7286420334196282",
          "x: 1.0, y: 10, z: 0.4241905088230255",
          "x: 1.0, y: 20, z: 0.422515874377896",
          "x: 1.0, y: 30, z: 0.40527411519777934",
          "x: 1.0, y: 40, z: 0.39244491080797483",
          "x: 1.0, y: 50, z: 0.3916010498687664",
          "x: 1.0, y: 60, z: 0.3904745228506391",
          "x: 1.0, y: 70, z: 0.37107921318447634",
          "x: 1.0, y: 80, z: 0.30873965041398344",
          "x: 1.0, y: 90, z: 0.25346760402812085"
         ],
         "type": "scatter",
         "x": [
          "0",
          "0",
          "0",
          "0",
          "0",
          "0",
          "0",
          "0",
          "0",
          "0",
          "0.1",
          "0.1",
          "0.1",
          "0.1",
          "0.1",
          "0.1",
          "0.1",
          "0.1",
          "0.1",
          "0.1",
          "0.2",
          "0.2",
          "0.2",
          "0.2",
          "0.2",
          "0.2",
          "0.2",
          "0.2",
          "0.2",
          "0.2",
          "0.3",
          "0.3",
          "0.3",
          "0.3",
          "0.3",
          "0.3",
          "0.3",
          "0.3",
          "0.3",
          "0.3",
          "0.4",
          "0.4",
          "0.4",
          "0.4",
          "0.4",
          "0.4",
          "0.4",
          "0.4",
          "0.4",
          "0.4",
          "0.5",
          "0.5",
          "0.5",
          "0.5",
          "0.5",
          "0.5",
          "0.5",
          "0.5",
          "0.5",
          "0.5",
          "0.6",
          "0.6",
          "0.6",
          "0.6",
          "0.6",
          "0.6",
          "0.6",
          "0.6",
          "0.6",
          "0.6",
          "0.7",
          "0.7",
          "0.7",
          "0.7",
          "0.7",
          "0.7",
          "0.7",
          "0.7",
          "0.7",
          "0.7",
          "0.8",
          "0.8",
          "0.8",
          "0.8",
          "0.8",
          "0.8",
          "0.8",
          "0.8",
          "0.8",
          "0.8",
          "0.9",
          "0.9",
          "0.9",
          "0.9",
          "0.9",
          "0.9",
          "0.9",
          "0.9",
          "0.9",
          "0.9",
          "1.0",
          "1.0",
          "1.0",
          "1.0",
          "1.0",
          "1.0",
          "1.0",
          "1.0",
          "1.0",
          "1.0"
         ],
         "xaxis": "x2",
         "y": [
          "0",
          "10",
          "20",
          "30",
          "40",
          "50",
          "60",
          "70",
          "80",
          "90",
          "0",
          "10",
          "20",
          "30",
          "40",
          "50",
          "60",
          "70",
          "80",
          "90",
          "0",
          "10",
          "20",
          "30",
          "40",
          "50",
          "60",
          "70",
          "80",
          "90",
          "0",
          "10",
          "20",
          "30",
          "40",
          "50",
          "60",
          "70",
          "80",
          "90",
          "0",
          "10",
          "20",
          "30",
          "40",
          "50",
          "60",
          "70",
          "80",
          "90",
          "0",
          "10",
          "20",
          "30",
          "40",
          "50",
          "60",
          "70",
          "80",
          "90",
          "0",
          "10",
          "20",
          "30",
          "40",
          "50",
          "60",
          "70",
          "80",
          "90",
          "0",
          "10",
          "20",
          "30",
          "40",
          "50",
          "60",
          "70",
          "80",
          "90",
          "0",
          "10",
          "20",
          "30",
          "40",
          "50",
          "60",
          "70",
          "80",
          "90",
          "0",
          "10",
          "20",
          "30",
          "40",
          "50",
          "60",
          "70",
          "80",
          "90",
          "0",
          "10",
          "20",
          "30",
          "40",
          "50",
          "60",
          "70",
          "80",
          "90"
         ],
         "yaxis": "y2"
        },
        {
         "hoverinfo": "text",
         "legendgroup": "best",
         "marker": {
          "color": "red",
          "symbol": "x"
         },
         "mode": "markers",
         "name": "best_score",
         "showlegend": false,
         "text": [
          "x: 0.9, y: 0, z: 0.7286420334196282"
         ],
         "type": "scatter",
         "x": [
          "0.9"
         ],
         "xaxis": "x2",
         "y": [
          "0"
         ],
         "yaxis": "y2"
        },
        {
         "colorbar": {
          "title": {
           "text": "F1 score"
          }
         },
         "colorscale": [
          [
           0,
           "#440154"
          ],
          [
           0.1111111111111111,
           "#482878"
          ],
          [
           0.2222222222222222,
           "#3e4989"
          ],
          [
           0.3333333333333333,
           "#31688e"
          ],
          [
           0.4444444444444444,
           "#26828e"
          ],
          [
           0.5555555555555556,
           "#1f9e89"
          ],
          [
           0.6666666666666666,
           "#35b779"
          ],
          [
           0.7777777777777778,
           "#6ece58"
          ],
          [
           0.8888888888888888,
           "#b5de2b"
          ],
          [
           1,
           "#fde725"
          ]
         ],
         "contours": {
          "showlabels": true
         },
         "type": "contour",
         "x": [
          "0",
          "0.1",
          "0.2",
          "0.3",
          "0.4",
          "0.5",
          "0.6",
          "0.7",
          "0.8",
          "0.9",
          "1.0"
         ],
         "xaxis": "x5",
         "y": [
          "0",
          "10",
          "20",
          "30",
          "40",
          "50",
          "60",
          "70",
          "80",
          "90"
         ],
         "yaxis": "y5",
         "z": [
          [
           0.33687605365388845,
           0.3588942683117289,
           0.3588942683117289,
           0.3588942683117289,
           0.37069313322036634,
           0.3890658631080499,
           0.3827955118726624,
           0.38417832167832167,
           0.3844399614068941,
           0.7934392619169657,
           0.7934392619169657
          ],
          [
           0.43096979928718815,
           0.49943642921550946,
           0.49943642921550946,
           0.49943642921550946,
           0.49392043442332667,
           0.4227391773224465,
           0.36448439620081413,
           0.36440821871285445,
           0.3595890410958904,
           0.9975825946817083,
           0.9975825946817083
          ],
          [
           0.49817941079112876,
           0.5607463324312776,
           0.5607463324312776,
           0.5607463324312776,
           0.5567150635208712,
           0.47406396255850236,
           0.43870967741935485,
           0.4387755102040816,
           0.4357846218311335,
           1,
           1
          ],
          [
           0.53125,
           0.6214505644885392,
           0.6213857998289136,
           0.6213857998289136,
           0.6208164766458256,
           0.5294552625092432,
           0.5087493566649511,
           0.5088848828225598,
           0.5059585492227979,
           1,
           1
          ],
          [
           0.5569710850271973,
           0.673469387755102,
           0.673277046927155,
           0.673277046927155,
           0.6775979557069847,
           0.5811046511627908,
           0.559461938245185,
           0.5598042214744571,
           0.5579109062980031,
           1,
           1
          ],
          [
           0.5777398852891025,
           0.7156355455568054,
           0.7153153153153153,
           0.7153153153153153,
           0.7315662650602409,
           0.6347424042272127,
           0.6131514515564883,
           0.6131514515564883,
           0.6126094570928197,
           1,
           1
          ],
          [
           0.5794409058740269,
           0.7585464333781965,
           0.7584814216478191,
           0.7584814216478191,
           0.7878186968838526,
           0.7079889807162535,
           0.6882352941176471,
           0.6882352941176471,
           0.6882352941176471,
           1,
           1
          ],
          [
           0.5773377337733774,
           0.8206225680933852,
           0.8206225680933852,
           0.8206225680933852,
           0.8527131782945736,
           0.8177189409368636,
           0.8054347826086956,
           0.8054347826086956,
           0.8054347826086956,
           1,
           1
          ],
          [
           0.5866564417177914,
           0.9058423142370958,
           0.9058423142370958,
           0.9058423142370958,
           0.9072696050372067,
           0.8948399738732854,
           0.886459802538787,
           0.886459802538787,
           0.886459802538787,
           1,
           1
          ],
          [
           0.5394495412844037,
           0.940149625935162,
           0.940149625935162,
           0.940149625935162,
           0.9395465994962217,
           0.9391602399314481,
           0.9327651515151515,
           0.9327651515151515,
           0.9327651515151515,
           1,
           1
          ]
         ],
         "zmax": 1,
         "zmin": 0.14512619669277632
        },
        {
         "hoverinfo": "text",
         "marker": {
          "color": "black",
          "symbol": "x"
         },
         "mode": "markers",
         "showlegend": false,
         "text": [
          "x: 0, y: 0, z: 0.33687605365388845",
          "x: 0, y: 10, z: 0.43096979928718815",
          "x: 0, y: 20, z: 0.49817941079112876",
          "x: 0, y: 30, z: 0.53125",
          "x: 0, y: 40, z: 0.5569710850271973",
          "x: 0, y: 50, z: 0.5777398852891025",
          "x: 0, y: 60, z: 0.5794409058740269",
          "x: 0, y: 70, z: 0.5773377337733774",
          "x: 0, y: 80, z: 0.5866564417177914",
          "x: 0, y: 90, z: 0.5394495412844037",
          "x: 0.1, y: 0, z: 0.3588942683117289",
          "x: 0.1, y: 10, z: 0.49943642921550946",
          "x: 0.1, y: 20, z: 0.5607463324312776",
          "x: 0.1, y: 30, z: 0.6214505644885392",
          "x: 0.1, y: 40, z: 0.673469387755102",
          "x: 0.1, y: 50, z: 0.7156355455568054",
          "x: 0.1, y: 60, z: 0.7585464333781965",
          "x: 0.1, y: 70, z: 0.8206225680933852",
          "x: 0.1, y: 80, z: 0.9058423142370958",
          "x: 0.1, y: 90, z: 0.940149625935162",
          "x: 0.2, y: 0, z: 0.3588942683117289",
          "x: 0.2, y: 10, z: 0.49943642921550946",
          "x: 0.2, y: 20, z: 0.5607463324312776",
          "x: 0.2, y: 30, z: 0.6213857998289136",
          "x: 0.2, y: 40, z: 0.673277046927155",
          "x: 0.2, y: 50, z: 0.7153153153153153",
          "x: 0.2, y: 60, z: 0.7584814216478191",
          "x: 0.2, y: 70, z: 0.8206225680933852",
          "x: 0.2, y: 80, z: 0.9058423142370958",
          "x: 0.2, y: 90, z: 0.940149625935162",
          "x: 0.3, y: 0, z: 0.3588942683117289",
          "x: 0.3, y: 10, z: 0.49943642921550946",
          "x: 0.3, y: 20, z: 0.5607463324312776",
          "x: 0.3, y: 30, z: 0.6213857998289136",
          "x: 0.3, y: 40, z: 0.673277046927155",
          "x: 0.3, y: 50, z: 0.7153153153153153",
          "x: 0.3, y: 60, z: 0.7584814216478191",
          "x: 0.3, y: 70, z: 0.8206225680933852",
          "x: 0.3, y: 80, z: 0.9058423142370958",
          "x: 0.3, y: 90, z: 0.940149625935162",
          "x: 0.4, y: 0, z: 0.37069313322036634",
          "x: 0.4, y: 10, z: 0.49392043442332667",
          "x: 0.4, y: 20, z: 0.5567150635208712",
          "x: 0.4, y: 30, z: 0.6208164766458256",
          "x: 0.4, y: 40, z: 0.6775979557069847",
          "x: 0.4, y: 50, z: 0.7315662650602409",
          "x: 0.4, y: 60, z: 0.7878186968838526",
          "x: 0.4, y: 70, z: 0.8527131782945736",
          "x: 0.4, y: 80, z: 0.9072696050372067",
          "x: 0.4, y: 90, z: 0.9395465994962217",
          "x: 0.5, y: 0, z: 0.3890658631080499",
          "x: 0.5, y: 10, z: 0.4227391773224465",
          "x: 0.5, y: 20, z: 0.47406396255850236",
          "x: 0.5, y: 30, z: 0.5294552625092432",
          "x: 0.5, y: 40, z: 0.5811046511627908",
          "x: 0.5, y: 50, z: 0.6347424042272127",
          "x: 0.5, y: 60, z: 0.7079889807162535",
          "x: 0.5, y: 70, z: 0.8177189409368636",
          "x: 0.5, y: 80, z: 0.8948399738732854",
          "x: 0.5, y: 90, z: 0.9391602399314481",
          "x: 0.6, y: 0, z: 0.3827955118726624",
          "x: 0.6, y: 10, z: 0.36448439620081413",
          "x: 0.6, y: 20, z: 0.43870967741935485",
          "x: 0.6, y: 30, z: 0.5087493566649511",
          "x: 0.6, y: 40, z: 0.559461938245185",
          "x: 0.6, y: 50, z: 0.6131514515564883",
          "x: 0.6, y: 60, z: 0.6882352941176471",
          "x: 0.6, y: 70, z: 0.8054347826086956",
          "x: 0.6, y: 80, z: 0.886459802538787",
          "x: 0.6, y: 90, z: 0.9327651515151515",
          "x: 0.7, y: 0, z: 0.38417832167832167",
          "x: 0.7, y: 10, z: 0.36440821871285445",
          "x: 0.7, y: 20, z: 0.4387755102040816",
          "x: 0.7, y: 30, z: 0.5088848828225598",
          "x: 0.7, y: 40, z: 0.5598042214744571",
          "x: 0.7, y: 50, z: 0.6131514515564883",
          "x: 0.7, y: 60, z: 0.6882352941176471",
          "x: 0.7, y: 70, z: 0.8054347826086956",
          "x: 0.7, y: 80, z: 0.886459802538787",
          "x: 0.7, y: 90, z: 0.9327651515151515",
          "x: 0.8, y: 0, z: 0.3844399614068941",
          "x: 0.8, y: 10, z: 0.3595890410958904",
          "x: 0.8, y: 20, z: 0.4357846218311335",
          "x: 0.8, y: 30, z: 0.5059585492227979",
          "x: 0.8, y: 40, z: 0.5579109062980031",
          "x: 0.8, y: 50, z: 0.6126094570928197",
          "x: 0.8, y: 60, z: 0.6882352941176471",
          "x: 0.8, y: 70, z: 0.8054347826086956",
          "x: 0.8, y: 80, z: 0.886459802538787",
          "x: 0.8, y: 90, z: 0.9327651515151515",
          "x: 0.9, y: 0, z: 0.7934392619169657",
          "x: 0.9, y: 10, z: 0.9975825946817083",
          "x: 0.9, y: 20, z: 1.0",
          "x: 0.9, y: 30, z: 1.0",
          "x: 0.9, y: 40, z: 1.0",
          "x: 0.9, y: 50, z: 1.0",
          "x: 0.9, y: 60, z: 1.0",
          "x: 0.9, y: 70, z: 1.0",
          "x: 0.9, y: 80, z: 1.0",
          "x: 0.9, y: 90, z: 1.0",
          "x: 1.0, y: 0, z: 0.7934392619169657",
          "x: 1.0, y: 10, z: 0.9975825946817083",
          "x: 1.0, y: 20, z: 1.0",
          "x: 1.0, y: 30, z: 1.0",
          "x: 1.0, y: 40, z: 1.0",
          "x: 1.0, y: 50, z: 1.0",
          "x: 1.0, y: 60, z: 1.0",
          "x: 1.0, y: 70, z: 1.0",
          "x: 1.0, y: 80, z: 1.0",
          "x: 1.0, y: 90, z: 1.0"
         ],
         "type": "scatter",
         "x": [
          "0",
          "0",
          "0",
          "0",
          "0",
          "0",
          "0",
          "0",
          "0",
          "0",
          "0.1",
          "0.1",
          "0.1",
          "0.1",
          "0.1",
          "0.1",
          "0.1",
          "0.1",
          "0.1",
          "0.1",
          "0.2",
          "0.2",
          "0.2",
          "0.2",
          "0.2",
          "0.2",
          "0.2",
          "0.2",
          "0.2",
          "0.2",
          "0.3",
          "0.3",
          "0.3",
          "0.3",
          "0.3",
          "0.3",
          "0.3",
          "0.3",
          "0.3",
          "0.3",
          "0.4",
          "0.4",
          "0.4",
          "0.4",
          "0.4",
          "0.4",
          "0.4",
          "0.4",
          "0.4",
          "0.4",
          "0.5",
          "0.5",
          "0.5",
          "0.5",
          "0.5",
          "0.5",
          "0.5",
          "0.5",
          "0.5",
          "0.5",
          "0.6",
          "0.6",
          "0.6",
          "0.6",
          "0.6",
          "0.6",
          "0.6",
          "0.6",
          "0.6",
          "0.6",
          "0.7",
          "0.7",
          "0.7",
          "0.7",
          "0.7",
          "0.7",
          "0.7",
          "0.7",
          "0.7",
          "0.7",
          "0.8",
          "0.8",
          "0.8",
          "0.8",
          "0.8",
          "0.8",
          "0.8",
          "0.8",
          "0.8",
          "0.8",
          "0.9",
          "0.9",
          "0.9",
          "0.9",
          "0.9",
          "0.9",
          "0.9",
          "0.9",
          "0.9",
          "0.9",
          "1.0",
          "1.0",
          "1.0",
          "1.0",
          "1.0",
          "1.0",
          "1.0",
          "1.0",
          "1.0",
          "1.0"
         ],
         "xaxis": "x5",
         "y": [
          "0",
          "10",
          "20",
          "30",
          "40",
          "50",
          "60",
          "70",
          "80",
          "90",
          "0",
          "10",
          "20",
          "30",
          "40",
          "50",
          "60",
          "70",
          "80",
          "90",
          "0",
          "10",
          "20",
          "30",
          "40",
          "50",
          "60",
          "70",
          "80",
          "90",
          "0",
          "10",
          "20",
          "30",
          "40",
          "50",
          "60",
          "70",
          "80",
          "90",
          "0",
          "10",
          "20",
          "30",
          "40",
          "50",
          "60",
          "70",
          "80",
          "90",
          "0",
          "10",
          "20",
          "30",
          "40",
          "50",
          "60",
          "70",
          "80",
          "90",
          "0",
          "10",
          "20",
          "30",
          "40",
          "50",
          "60",
          "70",
          "80",
          "90",
          "0",
          "10",
          "20",
          "30",
          "40",
          "50",
          "60",
          "70",
          "80",
          "90",
          "0",
          "10",
          "20",
          "30",
          "40",
          "50",
          "60",
          "70",
          "80",
          "90",
          "0",
          "10",
          "20",
          "30",
          "40",
          "50",
          "60",
          "70",
          "80",
          "90",
          "0",
          "10",
          "20",
          "30",
          "40",
          "50",
          "60",
          "70",
          "80",
          "90"
         ],
         "yaxis": "y5"
        },
        {
         "hoverinfo": "text",
         "legendgroup": "best",
         "marker": {
          "color": "red",
          "symbol": "x"
         },
         "mode": "markers",
         "name": "best_score",
         "showlegend": false,
         "text": [
          "x: 0.9, y: 20, z: 1.0"
         ],
         "type": "scatter",
         "x": [
          "0.9"
         ],
         "xaxis": "x5",
         "y": [
          "20"
         ],
         "yaxis": "y5"
        },
        {
         "colorbar": {
          "title": {
           "text": "F1 score"
          }
         },
         "colorscale": [
          [
           0,
           "#440154"
          ],
          [
           0.1111111111111111,
           "#482878"
          ],
          [
           0.2222222222222222,
           "#3e4989"
          ],
          [
           0.3333333333333333,
           "#31688e"
          ],
          [
           0.4444444444444444,
           "#26828e"
          ],
          [
           0.5555555555555556,
           "#1f9e89"
          ],
          [
           0.6666666666666666,
           "#35b779"
          ],
          [
           0.7777777777777778,
           "#6ece58"
          ],
          [
           0.8888888888888888,
           "#b5de2b"
          ],
          [
           1,
           "#fde725"
          ]
         ],
         "contours": {
          "showlabels": true
         },
         "type": "contour",
         "x": [
          "0",
          "0.1",
          "0.2",
          "0.3",
          "0.4",
          "0.5",
          "0.6",
          "0.7",
          "0.8",
          "0.9",
          "1.0"
         ],
         "xaxis": "x8",
         "y": [
          "0",
          "10",
          "20",
          "30",
          "40",
          "50",
          "60",
          "70",
          "80",
          "90"
         ],
         "yaxis": "y8",
         "z": [
          [
           1,
           1,
           1,
           1,
           0.9995648389904265,
           0.9832463011314186,
           0.9575718015665796,
           0.956266318537859,
           0.9536553524804178,
           0.6736292428198434,
           0.6736292428198434
          ],
          [
           0.9997824194952132,
           0.9640992167101827,
           0.9640992167101827,
           0.9640992167101827,
           0.9103568320278503,
           0.5970409051348999,
           0.4675805047867711,
           0.4669277632724108,
           0.45691906005221933,
           0.2693646649260226,
           0.2693646649260226
          ],
          [
           0.9823759791122716,
           0.8566144473455178,
           0.8566144473455178,
           0.8566144473455178,
           0.8009138381201044,
           0.5289382071366405,
           0.4586597040905135,
           0.4584421235857267,
           0.4525674499564839,
           0.2678416013925152,
           0.2678416013925152
          ],
          [
           0.8988250652741514,
           0.7904699738903395,
           0.7902523933855526,
           0.7902523933855526,
           0.7345517841601392,
           0.46736292428198434,
           0.4301566579634465,
           0.4299390774586597,
           0.42493472584856395,
           0.25413402959094866,
           0.25413402959094866
          ],
          [
           0.8466057441253264,
           0.7467362924281984,
           0.7460835509138382,
           0.7460835509138382,
           0.6923411662315057,
           0.43494342906875544,
           0.3981723237597911,
           0.3981723237597911,
           0.3951261966927763,
           0.24412532637075718,
           0.24412532637075718
          ],
          [
           0.810922541340296,
           0.6921235857267188,
           0.6910356832027851,
           0.6910356832027851,
           0.660574412532637,
           0.4181897302001741,
           0.38141862489120976,
           0.38141862489120976,
           0.38054830287206265,
           0.24347258485639686,
           0.24347258485639686
          ],
          [
           0.7125761531766753,
           0.613141862489121,
           0.6129242819843342,
           0.6129242819843342,
           0.6050913838120104,
           0.39142732811140124,
           0.3563968668407311,
           0.3563968668407311,
           0.3563968668407311,
           0.24260226283724978,
           0.24260226283724978
          ],
          [
           0.5709312445604874,
           0.45887728459530025,
           0.45887728459530025,
           0.45887728459530025,
           0.4547432550043516,
           0.3494342906875544,
           0.3224543080939948,
           0.3224543080939948,
           0.3224543080939948,
           0.22780678851174935,
           0.22780678851174935
          ],
          [
           0.4993472584856397,
           0.34747606614447346,
           0.34747606614447346,
           0.34747606614447346,
           0.3448651000870322,
           0.29808529155787644,
           0.2734986945169713,
           0.2734986945169713,
           0.2734986945169713,
           0.18255004351610096,
           0.18255004351610096
          ],
          [
           0.3838120104438642,
           0.24608355091383813,
           0.24608355091383813,
           0.24608355091383813,
           0.24347258485639686,
           0.23846823324630112,
           0.21431679721496955,
           0.21431679721496955,
           0.21431679721496955,
           0.14512619669277632,
           0.14512619669277632
          ]
         ],
         "zmax": 1,
         "zmin": 0.14512619669277632
        },
        {
         "hoverinfo": "text",
         "marker": {
          "color": "black",
          "symbol": "x"
         },
         "mode": "markers",
         "showlegend": false,
         "text": [
          "x: 0, y: 0, z: 1.0",
          "x: 0, y: 10, z: 0.9997824194952132",
          "x: 0, y: 20, z: 0.9823759791122716",
          "x: 0, y: 30, z: 0.8988250652741514",
          "x: 0, y: 40, z: 0.8466057441253264",
          "x: 0, y: 50, z: 0.810922541340296",
          "x: 0, y: 60, z: 0.7125761531766753",
          "x: 0, y: 70, z: 0.5709312445604874",
          "x: 0, y: 80, z: 0.4993472584856397",
          "x: 0, y: 90, z: 0.3838120104438642",
          "x: 0.1, y: 0, z: 1.0",
          "x: 0.1, y: 10, z: 0.9640992167101827",
          "x: 0.1, y: 20, z: 0.8566144473455178",
          "x: 0.1, y: 30, z: 0.7904699738903395",
          "x: 0.1, y: 40, z: 0.7467362924281984",
          "x: 0.1, y: 50, z: 0.6921235857267188",
          "x: 0.1, y: 60, z: 0.613141862489121",
          "x: 0.1, y: 70, z: 0.45887728459530025",
          "x: 0.1, y: 80, z: 0.34747606614447346",
          "x: 0.1, y: 90, z: 0.24608355091383813",
          "x: 0.2, y: 0, z: 1.0",
          "x: 0.2, y: 10, z: 0.9640992167101827",
          "x: 0.2, y: 20, z: 0.8566144473455178",
          "x: 0.2, y: 30, z: 0.7902523933855526",
          "x: 0.2, y: 40, z: 0.7460835509138382",
          "x: 0.2, y: 50, z: 0.6910356832027851",
          "x: 0.2, y: 60, z: 0.6129242819843342",
          "x: 0.2, y: 70, z: 0.45887728459530025",
          "x: 0.2, y: 80, z: 0.34747606614447346",
          "x: 0.2, y: 90, z: 0.24608355091383813",
          "x: 0.3, y: 0, z: 1.0",
          "x: 0.3, y: 10, z: 0.9640992167101827",
          "x: 0.3, y: 20, z: 0.8566144473455178",
          "x: 0.3, y: 30, z: 0.7902523933855526",
          "x: 0.3, y: 40, z: 0.7460835509138382",
          "x: 0.3, y: 50, z: 0.6910356832027851",
          "x: 0.3, y: 60, z: 0.6129242819843342",
          "x: 0.3, y: 70, z: 0.45887728459530025",
          "x: 0.3, y: 80, z: 0.34747606614447346",
          "x: 0.3, y: 90, z: 0.24608355091383813",
          "x: 0.4, y: 0, z: 0.9995648389904265",
          "x: 0.4, y: 10, z: 0.9103568320278503",
          "x: 0.4, y: 20, z: 0.8009138381201044",
          "x: 0.4, y: 30, z: 0.7345517841601392",
          "x: 0.4, y: 40, z: 0.6923411662315057",
          "x: 0.4, y: 50, z: 0.660574412532637",
          "x: 0.4, y: 60, z: 0.6050913838120104",
          "x: 0.4, y: 70, z: 0.4547432550043516",
          "x: 0.4, y: 80, z: 0.3448651000870322",
          "x: 0.4, y: 90, z: 0.24347258485639686",
          "x: 0.5, y: 0, z: 0.9832463011314186",
          "x: 0.5, y: 10, z: 0.5970409051348999",
          "x: 0.5, y: 20, z: 0.5289382071366405",
          "x: 0.5, y: 30, z: 0.46736292428198434",
          "x: 0.5, y: 40, z: 0.43494342906875544",
          "x: 0.5, y: 50, z: 0.4181897302001741",
          "x: 0.5, y: 60, z: 0.39142732811140124",
          "x: 0.5, y: 70, z: 0.3494342906875544",
          "x: 0.5, y: 80, z: 0.29808529155787644",
          "x: 0.5, y: 90, z: 0.23846823324630112",
          "x: 0.6, y: 0, z: 0.9575718015665796",
          "x: 0.6, y: 10, z: 0.4675805047867711",
          "x: 0.6, y: 20, z: 0.4586597040905135",
          "x: 0.6, y: 30, z: 0.4301566579634465",
          "x: 0.6, y: 40, z: 0.3981723237597911",
          "x: 0.6, y: 50, z: 0.38141862489120976",
          "x: 0.6, y: 60, z: 0.3563968668407311",
          "x: 0.6, y: 70, z: 0.3224543080939948",
          "x: 0.6, y: 80, z: 0.2734986945169713",
          "x: 0.6, y: 90, z: 0.21431679721496955",
          "x: 0.7, y: 0, z: 0.956266318537859",
          "x: 0.7, y: 10, z: 0.4669277632724108",
          "x: 0.7, y: 20, z: 0.4584421235857267",
          "x: 0.7, y: 30, z: 0.4299390774586597",
          "x: 0.7, y: 40, z: 0.3981723237597911",
          "x: 0.7, y: 50, z: 0.38141862489120976",
          "x: 0.7, y: 60, z: 0.3563968668407311",
          "x: 0.7, y: 70, z: 0.3224543080939948",
          "x: 0.7, y: 80, z: 0.2734986945169713",
          "x: 0.7, y: 90, z: 0.21431679721496955",
          "x: 0.8, y: 0, z: 0.9536553524804178",
          "x: 0.8, y: 10, z: 0.45691906005221933",
          "x: 0.8, y: 20, z: 0.4525674499564839",
          "x: 0.8, y: 30, z: 0.42493472584856395",
          "x: 0.8, y: 40, z: 0.3951261966927763",
          "x: 0.8, y: 50, z: 0.38054830287206265",
          "x: 0.8, y: 60, z: 0.3563968668407311",
          "x: 0.8, y: 70, z: 0.3224543080939948",
          "x: 0.8, y: 80, z: 0.2734986945169713",
          "x: 0.8, y: 90, z: 0.21431679721496955",
          "x: 0.9, y: 0, z: 0.6736292428198434",
          "x: 0.9, y: 10, z: 0.2693646649260226",
          "x: 0.9, y: 20, z: 0.2678416013925152",
          "x: 0.9, y: 30, z: 0.25413402959094866",
          "x: 0.9, y: 40, z: 0.24412532637075718",
          "x: 0.9, y: 50, z: 0.24347258485639686",
          "x: 0.9, y: 60, z: 0.24260226283724978",
          "x: 0.9, y: 70, z: 0.22780678851174935",
          "x: 0.9, y: 80, z: 0.18255004351610096",
          "x: 0.9, y: 90, z: 0.14512619669277632",
          "x: 1.0, y: 0, z: 0.6736292428198434",
          "x: 1.0, y: 10, z: 0.2693646649260226",
          "x: 1.0, y: 20, z: 0.2678416013925152",
          "x: 1.0, y: 30, z: 0.25413402959094866",
          "x: 1.0, y: 40, z: 0.24412532637075718",
          "x: 1.0, y: 50, z: 0.24347258485639686",
          "x: 1.0, y: 60, z: 0.24260226283724978",
          "x: 1.0, y: 70, z: 0.22780678851174935",
          "x: 1.0, y: 80, z: 0.18255004351610096",
          "x: 1.0, y: 90, z: 0.14512619669277632"
         ],
         "type": "scatter",
         "x": [
          "0",
          "0",
          "0",
          "0",
          "0",
          "0",
          "0",
          "0",
          "0",
          "0",
          "0.1",
          "0.1",
          "0.1",
          "0.1",
          "0.1",
          "0.1",
          "0.1",
          "0.1",
          "0.1",
          "0.1",
          "0.2",
          "0.2",
          "0.2",
          "0.2",
          "0.2",
          "0.2",
          "0.2",
          "0.2",
          "0.2",
          "0.2",
          "0.3",
          "0.3",
          "0.3",
          "0.3",
          "0.3",
          "0.3",
          "0.3",
          "0.3",
          "0.3",
          "0.3",
          "0.4",
          "0.4",
          "0.4",
          "0.4",
          "0.4",
          "0.4",
          "0.4",
          "0.4",
          "0.4",
          "0.4",
          "0.5",
          "0.5",
          "0.5",
          "0.5",
          "0.5",
          "0.5",
          "0.5",
          "0.5",
          "0.5",
          "0.5",
          "0.6",
          "0.6",
          "0.6",
          "0.6",
          "0.6",
          "0.6",
          "0.6",
          "0.6",
          "0.6",
          "0.6",
          "0.7",
          "0.7",
          "0.7",
          "0.7",
          "0.7",
          "0.7",
          "0.7",
          "0.7",
          "0.7",
          "0.7",
          "0.8",
          "0.8",
          "0.8",
          "0.8",
          "0.8",
          "0.8",
          "0.8",
          "0.8",
          "0.8",
          "0.8",
          "0.9",
          "0.9",
          "0.9",
          "0.9",
          "0.9",
          "0.9",
          "0.9",
          "0.9",
          "0.9",
          "0.9",
          "1.0",
          "1.0",
          "1.0",
          "1.0",
          "1.0",
          "1.0",
          "1.0",
          "1.0",
          "1.0",
          "1.0"
         ],
         "xaxis": "x8",
         "y": [
          "0",
          "10",
          "20",
          "30",
          "40",
          "50",
          "60",
          "70",
          "80",
          "90",
          "0",
          "10",
          "20",
          "30",
          "40",
          "50",
          "60",
          "70",
          "80",
          "90",
          "0",
          "10",
          "20",
          "30",
          "40",
          "50",
          "60",
          "70",
          "80",
          "90",
          "0",
          "10",
          "20",
          "30",
          "40",
          "50",
          "60",
          "70",
          "80",
          "90",
          "0",
          "10",
          "20",
          "30",
          "40",
          "50",
          "60",
          "70",
          "80",
          "90",
          "0",
          "10",
          "20",
          "30",
          "40",
          "50",
          "60",
          "70",
          "80",
          "90",
          "0",
          "10",
          "20",
          "30",
          "40",
          "50",
          "60",
          "70",
          "80",
          "90",
          "0",
          "10",
          "20",
          "30",
          "40",
          "50",
          "60",
          "70",
          "80",
          "90",
          "0",
          "10",
          "20",
          "30",
          "40",
          "50",
          "60",
          "70",
          "80",
          "90",
          "0",
          "10",
          "20",
          "30",
          "40",
          "50",
          "60",
          "70",
          "80",
          "90",
          "0",
          "10",
          "20",
          "30",
          "40",
          "50",
          "60",
          "70",
          "80",
          "90"
         ],
         "yaxis": "y8"
        },
        {
         "hoverinfo": "text",
         "legendgroup": "best",
         "marker": {
          "color": "red",
          "symbol": "x"
         },
         "mode": "markers",
         "name": "best_score",
         "showlegend": false,
         "text": [
          "x: 0, y: 0, z: 1.0"
         ],
         "type": "scatter",
         "x": [
          "0"
         ],
         "xaxis": "x8",
         "y": [
          "0"
         ],
         "yaxis": "y8"
        },
        {
         "colorbar": {
          "title": {
           "text": "F1 score"
          }
         },
         "colorscale": [
          [
           0,
           "#440154"
          ],
          [
           0.1111111111111111,
           "#482878"
          ],
          [
           0.2222222222222222,
           "#3e4989"
          ],
          [
           0.3333333333333333,
           "#31688e"
          ],
          [
           0.4444444444444444,
           "#26828e"
          ],
          [
           0.5555555555555556,
           "#1f9e89"
          ],
          [
           0.6666666666666666,
           "#35b779"
          ],
          [
           0.7777777777777778,
           "#6ece58"
          ],
          [
           0.8888888888888888,
           "#b5de2b"
          ],
          [
           1,
           "#fde725"
          ]
         ],
         "contours": {
          "showlabels": true
         },
         "type": "contour",
         "x": [
          "0",
          "0.1",
          "0.2",
          "0.3",
          "0.4",
          "0.5",
          "0.6",
          "0.7",
          "0.8",
          "0.9",
          "1.0"
         ],
         "xaxis": "x11",
         "y": [
          "0",
          "10",
          "20",
          "30",
          "40",
          "50",
          "60",
          "70",
          "80",
          "90"
         ],
         "yaxis": "y11",
         "z": [
          [
           0.38614466006242365,
           0.4429366264079251,
           0.4429366264079251,
           0.4429366264079251,
           0.47068801737006377,
           0.5132989550821007,
           0.505292441308183,
           0.5083457728321347,
           0.5093635500067851,
           0.8435337223503867,
           0.8435337223503867
          ],
          [
           0.5882752069480255,
           0.6874745555706337,
           0.6874745555706337,
           0.6874745555706337,
           0.6811643370878002,
           0.6200977066087665,
           0.5797258786809608,
           0.5797937304926042,
           0.5768761025919392,
           0.7719500610666304,
           0.7719500610666304
          ],
          [
           0.6859139639028362,
           0.7460306690188628,
           0.7460306690188628,
           0.7460306690188628,
           0.7390419324195956,
           0.6701044917899308,
           0.648188356629122,
           0.6482562084407654,
           0.6465599131496811,
           0.771678653820057,
           0.771678653820057
          ],
          [
           0.7211290541457457,
           0.7845026462206541,
           0.7844347944090108,
           0.7844347944090108,
           0.7773103541864568,
           0.7043696566698331,
           0.6927669968788167,
           0.6928348486904601,
           0.6912742570226625,
           0.7674039896865247,
           0.7674039896865247
          ],
          [
           0.7421631157551907,
           0.8081150766725471,
           0.807911521237617,
           0.807911521237617,
           0.8013298955082101,
           0.7260143845840684,
           0.7145474284163387,
           0.7146831320396254,
           0.7137332066766182,
           0.7642828063509296,
           0.7642828063509296
          ],
          [
           0.7562084407653684,
           0.8182249966074094,
           0.8178857375491926,
           0.8178857375491926,
           0.8185642556656263,
           0.7435201519880581,
           0.7320531958203284,
           0.7320531958203284,
           0.7317817885737549,
           0.7640792509159995,
           0.7640792509159995
          ],
          [
           0.7490840005428145,
           0.8184964038539829,
           0.8184285520423396,
           0.8184285520423396,
           0.826027954946397,
           0.7598724385941105,
           0.7489482969195278,
           0.7489482969195278,
           0.7489482969195278,
           0.763807843669426,
           0.763807843669426
          ],
          [
           0.7358528972723571,
           0.7999728592753427,
           0.7999728592753427,
           0.7999728592753427,
           0.8054688560184557,
           0.7728321346179943,
           0.7644185099742163,
           0.7644185099742163,
           0.7644185099742163,
           0.7591939204776768,
           0.7591939204776768
          ],
          [
           0.7341566019812729,
           0.7852490161487312,
           0.7852490161487312,
           0.7852490161487312,
           0.7847062016555842,
           0.7701859139639028,
           0.762518659248202,
           0.762518659248202,
           0.762518659248202,
           0.7450807436558556,
           0.7450807436558556
          ],
          [
           0.7056588410910571,
           0.7600081422173972,
           0.7600081422173972,
           0.7600081422173972,
           0.7591939204776768,
           0.7577011806215226,
           0.7501696295291084,
           0.7501696295291084,
           0.7501696295291084,
           0.7334102320531958,
           0.7334102320531958
          ]
         ],
         "zmax": 1,
         "zmin": 0.14512619669277632
        },
        {
         "hoverinfo": "text",
         "marker": {
          "color": "black",
          "symbol": "x"
         },
         "mode": "markers",
         "showlegend": false,
         "text": [
          "x: 0, y: 0, z: 0.38614466006242365",
          "x: 0, y: 10, z: 0.5882752069480255",
          "x: 0, y: 20, z: 0.6859139639028362",
          "x: 0, y: 30, z: 0.7211290541457457",
          "x: 0, y: 40, z: 0.7421631157551907",
          "x: 0, y: 50, z: 0.7562084407653684",
          "x: 0, y: 60, z: 0.7490840005428145",
          "x: 0, y: 70, z: 0.7358528972723571",
          "x: 0, y: 80, z: 0.7341566019812729",
          "x: 0, y: 90, z: 0.7056588410910571",
          "x: 0.1, y: 0, z: 0.4429366264079251",
          "x: 0.1, y: 10, z: 0.6874745555706337",
          "x: 0.1, y: 20, z: 0.7460306690188628",
          "x: 0.1, y: 30, z: 0.7845026462206541",
          "x: 0.1, y: 40, z: 0.8081150766725471",
          "x: 0.1, y: 50, z: 0.8182249966074094",
          "x: 0.1, y: 60, z: 0.8184964038539829",
          "x: 0.1, y: 70, z: 0.7999728592753427",
          "x: 0.1, y: 80, z: 0.7852490161487312",
          "x: 0.1, y: 90, z: 0.7600081422173972",
          "x: 0.2, y: 0, z: 0.4429366264079251",
          "x: 0.2, y: 10, z: 0.6874745555706337",
          "x: 0.2, y: 20, z: 0.7460306690188628",
          "x: 0.2, y: 30, z: 0.7844347944090108",
          "x: 0.2, y: 40, z: 0.807911521237617",
          "x: 0.2, y: 50, z: 0.8178857375491926",
          "x: 0.2, y: 60, z: 0.8184285520423396",
          "x: 0.2, y: 70, z: 0.7999728592753427",
          "x: 0.2, y: 80, z: 0.7852490161487312",
          "x: 0.2, y: 90, z: 0.7600081422173972",
          "x: 0.3, y: 0, z: 0.4429366264079251",
          "x: 0.3, y: 10, z: 0.6874745555706337",
          "x: 0.3, y: 20, z: 0.7460306690188628",
          "x: 0.3, y: 30, z: 0.7844347944090108",
          "x: 0.3, y: 40, z: 0.807911521237617",
          "x: 0.3, y: 50, z: 0.8178857375491926",
          "x: 0.3, y: 60, z: 0.8184285520423396",
          "x: 0.3, y: 70, z: 0.7999728592753427",
          "x: 0.3, y: 80, z: 0.7852490161487312",
          "x: 0.3, y: 90, z: 0.7600081422173972",
          "x: 0.4, y: 0, z: 0.47068801737006377",
          "x: 0.4, y: 10, z: 0.6811643370878002",
          "x: 0.4, y: 20, z: 0.7390419324195956",
          "x: 0.4, y: 30, z: 0.7773103541864568",
          "x: 0.4, y: 40, z: 0.8013298955082101",
          "x: 0.4, y: 50, z: 0.8185642556656263",
          "x: 0.4, y: 60, z: 0.826027954946397",
          "x: 0.4, y: 70, z: 0.8054688560184557",
          "x: 0.4, y: 80, z: 0.7847062016555842",
          "x: 0.4, y: 90, z: 0.7591939204776768",
          "x: 0.5, y: 0, z: 0.5132989550821007",
          "x: 0.5, y: 10, z: 0.6200977066087665",
          "x: 0.5, y: 20, z: 0.6701044917899308",
          "x: 0.5, y: 30, z: 0.7043696566698331",
          "x: 0.5, y: 40, z: 0.7260143845840684",
          "x: 0.5, y: 50, z: 0.7435201519880581",
          "x: 0.5, y: 60, z: 0.7598724385941105",
          "x: 0.5, y: 70, z: 0.7728321346179943",
          "x: 0.5, y: 80, z: 0.7701859139639028",
          "x: 0.5, y: 90, z: 0.7577011806215226",
          "x: 0.6, y: 0, z: 0.505292441308183",
          "x: 0.6, y: 10, z: 0.5797258786809608",
          "x: 0.6, y: 20, z: 0.648188356629122",
          "x: 0.6, y: 30, z: 0.6927669968788167",
          "x: 0.6, y: 40, z: 0.7145474284163387",
          "x: 0.6, y: 50, z: 0.7320531958203284",
          "x: 0.6, y: 60, z: 0.7489482969195278",
          "x: 0.6, y: 70, z: 0.7644185099742163",
          "x: 0.6, y: 80, z: 0.762518659248202",
          "x: 0.6, y: 90, z: 0.7501696295291084",
          "x: 0.7, y: 0, z: 0.5083457728321347",
          "x: 0.7, y: 10, z: 0.5797937304926042",
          "x: 0.7, y: 20, z: 0.6482562084407654",
          "x: 0.7, y: 30, z: 0.6928348486904601",
          "x: 0.7, y: 40, z: 0.7146831320396254",
          "x: 0.7, y: 50, z: 0.7320531958203284",
          "x: 0.7, y: 60, z: 0.7489482969195278",
          "x: 0.7, y: 70, z: 0.7644185099742163",
          "x: 0.7, y: 80, z: 0.762518659248202",
          "x: 0.7, y: 90, z: 0.7501696295291084",
          "x: 0.8, y: 0, z: 0.5093635500067851",
          "x: 0.8, y: 10, z: 0.5768761025919392",
          "x: 0.8, y: 20, z: 0.6465599131496811",
          "x: 0.8, y: 30, z: 0.6912742570226625",
          "x: 0.8, y: 40, z: 0.7137332066766182",
          "x: 0.8, y: 50, z: 0.7317817885737549",
          "x: 0.8, y: 60, z: 0.7489482969195278",
          "x: 0.8, y: 70, z: 0.7644185099742163",
          "x: 0.8, y: 80, z: 0.762518659248202",
          "x: 0.8, y: 90, z: 0.7501696295291084",
          "x: 0.9, y: 0, z: 0.8435337223503867",
          "x: 0.9, y: 10, z: 0.7719500610666304",
          "x: 0.9, y: 20, z: 0.771678653820057",
          "x: 0.9, y: 30, z: 0.7674039896865247",
          "x: 0.9, y: 40, z: 0.7642828063509296",
          "x: 0.9, y: 50, z: 0.7640792509159995",
          "x: 0.9, y: 60, z: 0.763807843669426",
          "x: 0.9, y: 70, z: 0.7591939204776768",
          "x: 0.9, y: 80, z: 0.7450807436558556",
          "x: 0.9, y: 90, z: 0.7334102320531958",
          "x: 1.0, y: 0, z: 0.8435337223503867",
          "x: 1.0, y: 10, z: 0.7719500610666304",
          "x: 1.0, y: 20, z: 0.771678653820057",
          "x: 1.0, y: 30, z: 0.7674039896865247",
          "x: 1.0, y: 40, z: 0.7642828063509296",
          "x: 1.0, y: 50, z: 0.7640792509159995",
          "x: 1.0, y: 60, z: 0.763807843669426",
          "x: 1.0, y: 70, z: 0.7591939204776768",
          "x: 1.0, y: 80, z: 0.7450807436558556",
          "x: 1.0, y: 90, z: 0.7334102320531958"
         ],
         "type": "scatter",
         "x": [
          "0",
          "0",
          "0",
          "0",
          "0",
          "0",
          "0",
          "0",
          "0",
          "0",
          "0.1",
          "0.1",
          "0.1",
          "0.1",
          "0.1",
          "0.1",
          "0.1",
          "0.1",
          "0.1",
          "0.1",
          "0.2",
          "0.2",
          "0.2",
          "0.2",
          "0.2",
          "0.2",
          "0.2",
          "0.2",
          "0.2",
          "0.2",
          "0.3",
          "0.3",
          "0.3",
          "0.3",
          "0.3",
          "0.3",
          "0.3",
          "0.3",
          "0.3",
          "0.3",
          "0.4",
          "0.4",
          "0.4",
          "0.4",
          "0.4",
          "0.4",
          "0.4",
          "0.4",
          "0.4",
          "0.4",
          "0.5",
          "0.5",
          "0.5",
          "0.5",
          "0.5",
          "0.5",
          "0.5",
          "0.5",
          "0.5",
          "0.5",
          "0.6",
          "0.6",
          "0.6",
          "0.6",
          "0.6",
          "0.6",
          "0.6",
          "0.6",
          "0.6",
          "0.6",
          "0.7",
          "0.7",
          "0.7",
          "0.7",
          "0.7",
          "0.7",
          "0.7",
          "0.7",
          "0.7",
          "0.7",
          "0.8",
          "0.8",
          "0.8",
          "0.8",
          "0.8",
          "0.8",
          "0.8",
          "0.8",
          "0.8",
          "0.8",
          "0.9",
          "0.9",
          "0.9",
          "0.9",
          "0.9",
          "0.9",
          "0.9",
          "0.9",
          "0.9",
          "0.9",
          "1.0",
          "1.0",
          "1.0",
          "1.0",
          "1.0",
          "1.0",
          "1.0",
          "1.0",
          "1.0",
          "1.0"
         ],
         "xaxis": "x11",
         "y": [
          "0",
          "10",
          "20",
          "30",
          "40",
          "50",
          "60",
          "70",
          "80",
          "90",
          "0",
          "10",
          "20",
          "30",
          "40",
          "50",
          "60",
          "70",
          "80",
          "90",
          "0",
          "10",
          "20",
          "30",
          "40",
          "50",
          "60",
          "70",
          "80",
          "90",
          "0",
          "10",
          "20",
          "30",
          "40",
          "50",
          "60",
          "70",
          "80",
          "90",
          "0",
          "10",
          "20",
          "30",
          "40",
          "50",
          "60",
          "70",
          "80",
          "90",
          "0",
          "10",
          "20",
          "30",
          "40",
          "50",
          "60",
          "70",
          "80",
          "90",
          "0",
          "10",
          "20",
          "30",
          "40",
          "50",
          "60",
          "70",
          "80",
          "90",
          "0",
          "10",
          "20",
          "30",
          "40",
          "50",
          "60",
          "70",
          "80",
          "90",
          "0",
          "10",
          "20",
          "30",
          "40",
          "50",
          "60",
          "70",
          "80",
          "90",
          "0",
          "10",
          "20",
          "30",
          "40",
          "50",
          "60",
          "70",
          "80",
          "90",
          "0",
          "10",
          "20",
          "30",
          "40",
          "50",
          "60",
          "70",
          "80",
          "90"
         ],
         "yaxis": "y11"
        },
        {
         "hoverinfo": "text",
         "legendgroup": "best",
         "marker": {
          "color": "red",
          "symbol": "x"
         },
         "mode": "markers",
         "name": "best_score",
         "showlegend": false,
         "text": [
          "x: 0.9, y: 0, z: 0.8435337223503867"
         ],
         "type": "scatter",
         "x": [
          "0.9"
         ],
         "xaxis": "x11",
         "y": [
          "0"
         ],
         "yaxis": "y11"
        },
        {
         "colorbar": {
          "title": {
           "text": "F1 score"
          }
         },
         "colorscale": [
          [
           0,
           "#440154"
          ],
          [
           0.1111111111111111,
           "#482878"
          ],
          [
           0.2222222222222222,
           "#3e4989"
          ],
          [
           0.3333333333333333,
           "#31688e"
          ],
          [
           0.4444444444444444,
           "#26828e"
          ],
          [
           0.5555555555555556,
           "#1f9e89"
          ],
          [
           0.6666666666666666,
           "#35b779"
          ],
          [
           0.7777777777777778,
           "#6ece58"
          ],
          [
           0.8888888888888888,
           "#b5de2b"
          ],
          [
           1,
           "#fde725"
          ]
         ],
         "contours": {
          "showlabels": true
         },
         "type": "contour",
         "x": [
          "0",
          "0.1",
          "0.2",
          "0.3",
          "0.4",
          "0.5",
          "0.6",
          "0.7",
          "0.8",
          "0.9",
          "1.0"
         ],
         "xaxis": "x14",
         "y": [
          "0",
          "10",
          "20",
          "30",
          "40",
          "50",
          "60",
          "70",
          "80",
          "90"
         ],
         "yaxis": "y14",
         "z": [
          [
           0.5539834352198778,
           0.5952474857030172,
           0.5952474857030172,
           0.5952474857030172,
           0.6152921808834996,
           0.6417907703645656,
           0.628953520582146,
           0.6308150760506294,
           0.6308406914245905,
           0.7970788690928244,
           0.7970788690928244
          ],
          [
           0.7007884686708958,
           0.7631085710843359,
           0.7631085710843359,
           0.7631085710843359,
           0.7438295696325409,
           0.6137935742397038,
           0.5490633740656395,
           0.5489342030718196,
           0.5440777512842441,
           0.6345344326404911,
           0.6345344326404911
          ],
          [
           0.766971858615493,
           0.77626620612198,
           0.77626620612198,
           0.77626620612198,
           0.7559587924578041,
           0.6315071631226488,
           0.5963679115995852,
           0.5963577212288721,
           0.5935189842959308,
           0.6339208006962576,
           0.6339208006962576
          ],
          [
           0.769714248275017,
           0.7861342178660926,
           0.7860254276136992,
           0.7860254276136992,
           0.7656194140678433,
           0.6395678750772966,
           0.6209647419180278,
           0.6209545515473145,
           0.6184523757422666,
           0.6270670147954743,
           0.6270670147954743
          ],
          [
           0.7707195551626436,
           0.7913330446562211,
           0.7910066738990409,
           0.7910066738990409,
           0.7715304726838854,
           0.6464304997838354,
           0.6280449471293532,
           0.6281435470110335,
           0.626620483477526,
           0.6220626631853786,
           0.6220626631853786
          ],
          [
           0.7711682318217945,
           0.7837466676415097,
           0.7832027163795429,
           0.7832027163795429,
           0.7753670721704794,
           0.6545691305309684,
           0.6361835778764863,
           0.6361835778764863,
           0.6357484168669127,
           0.6217362924281984,
           0.6217362924281984
          ],
          [
           0.7391021172114889,
           0.7623488843110168,
           0.7622400940586234,
           0.7622400940586234,
           0.765620036216792,
           0.659133107952368,
           0.6416178773170329,
           0.6416178773170329,
           0.6416178773170329,
           0.6213011314186249,
           0.6213011314186249
          ],
          [
           0.6907604359264673,
           0.7067113695703774,
           0.7067113695703774,
           0.7067113695703774,
           0.7095743488589101,
           0.6570677665230319,
           0.643577775226252,
           0.643577775226252,
           0.643577775226252,
           0.6139033942558747,
           0.6139033942558747
          ],
          [
           0.6699556249044251,
           0.6655542428927849,
           0.6655542428927849,
           0.6655542428927849,
           0.6644459596274246,
           0.6411053553036867,
           0.6288120567832343,
           0.6288120567832343,
           0.6288120567832343,
           0.5912750217580505,
           0.5912750217580505
          ],
          [
           0.6176602943167852,
           0.6194921797164339,
           0.6194921797164339,
           0.6194921797164339,
           0.6181866966877133,
           0.6157338208235055,
           0.6036581028078397,
           0.6036581028078397,
           0.6036581028078397,
           0.5725630983463882,
           0.5725630983463882
          ]
         ],
         "zmax": 1,
         "zmin": 0.14512619669277632
        },
        {
         "hoverinfo": "text",
         "marker": {
          "color": "black",
          "symbol": "x"
         },
         "mode": "markers",
         "showlegend": false,
         "text": [
          "x: 0, y: 0, z: 0.5539834352198778",
          "x: 0, y: 10, z: 0.7007884686708958",
          "x: 0, y: 20, z: 0.766971858615493",
          "x: 0, y: 30, z: 0.769714248275017",
          "x: 0, y: 40, z: 0.7707195551626436",
          "x: 0, y: 50, z: 0.7711682318217945",
          "x: 0, y: 60, z: 0.7391021172114889",
          "x: 0, y: 70, z: 0.6907604359264673",
          "x: 0, y: 80, z: 0.6699556249044251",
          "x: 0, y: 90, z: 0.6176602943167852",
          "x: 0.1, y: 0, z: 0.5952474857030172",
          "x: 0.1, y: 10, z: 0.7631085710843359",
          "x: 0.1, y: 20, z: 0.77626620612198",
          "x: 0.1, y: 30, z: 0.7861342178660926",
          "x: 0.1, y: 40, z: 0.7913330446562211",
          "x: 0.1, y: 50, z: 0.7837466676415097",
          "x: 0.1, y: 60, z: 0.7623488843110168",
          "x: 0.1, y: 70, z: 0.7067113695703774",
          "x: 0.1, y: 80, z: 0.6655542428927849",
          "x: 0.1, y: 90, z: 0.6194921797164339",
          "x: 0.2, y: 0, z: 0.5952474857030172",
          "x: 0.2, y: 10, z: 0.7631085710843359",
          "x: 0.2, y: 20, z: 0.77626620612198",
          "x: 0.2, y: 30, z: 0.7860254276136992",
          "x: 0.2, y: 40, z: 0.7910066738990409",
          "x: 0.2, y: 50, z: 0.7832027163795429",
          "x: 0.2, y: 60, z: 0.7622400940586234",
          "x: 0.2, y: 70, z: 0.7067113695703774",
          "x: 0.2, y: 80, z: 0.6655542428927849",
          "x: 0.2, y: 90, z: 0.6194921797164339",
          "x: 0.3, y: 0, z: 0.5952474857030172",
          "x: 0.3, y: 10, z: 0.7631085710843359",
          "x: 0.3, y: 20, z: 0.77626620612198",
          "x: 0.3, y: 30, z: 0.7860254276136992",
          "x: 0.3, y: 40, z: 0.7910066738990409",
          "x: 0.3, y: 50, z: 0.7832027163795429",
          "x: 0.3, y: 60, z: 0.7622400940586234",
          "x: 0.3, y: 70, z: 0.7067113695703774",
          "x: 0.3, y: 80, z: 0.6655542428927849",
          "x: 0.3, y: 90, z: 0.6194921797164339",
          "x: 0.4, y: 0, z: 0.6152921808834996",
          "x: 0.4, y: 10, z: 0.7438295696325409",
          "x: 0.4, y: 20, z: 0.7559587924578041",
          "x: 0.4, y: 30, z: 0.7656194140678433",
          "x: 0.4, y: 40, z: 0.7715304726838854",
          "x: 0.4, y: 50, z: 0.7753670721704794",
          "x: 0.4, y: 60, z: 0.765620036216792",
          "x: 0.4, y: 70, z: 0.7095743488589101",
          "x: 0.4, y: 80, z: 0.6644459596274246",
          "x: 0.4, y: 90, z: 0.6181866966877133",
          "x: 0.5, y: 0, z: 0.6417907703645656",
          "x: 0.5, y: 10, z: 0.6137935742397038",
          "x: 0.5, y: 20, z: 0.6315071631226488",
          "x: 0.5, y: 30, z: 0.6395678750772966",
          "x: 0.5, y: 40, z: 0.6464304997838354",
          "x: 0.5, y: 50, z: 0.6545691305309684",
          "x: 0.5, y: 60, z: 0.659133107952368",
          "x: 0.5, y: 70, z: 0.6570677665230319",
          "x: 0.5, y: 80, z: 0.6411053553036867",
          "x: 0.5, y: 90, z: 0.6157338208235055",
          "x: 0.6, y: 0, z: 0.628953520582146",
          "x: 0.6, y: 10, z: 0.5490633740656395",
          "x: 0.6, y: 20, z: 0.5963679115995852",
          "x: 0.6, y: 30, z: 0.6209647419180278",
          "x: 0.6, y: 40, z: 0.6280449471293532",
          "x: 0.6, y: 50, z: 0.6361835778764863",
          "x: 0.6, y: 60, z: 0.6416178773170329",
          "x: 0.6, y: 70, z: 0.643577775226252",
          "x: 0.6, y: 80, z: 0.6288120567832343",
          "x: 0.6, y: 90, z: 0.6036581028078397",
          "x: 0.7, y: 0, z: 0.6308150760506294",
          "x: 0.7, y: 10, z: 0.5489342030718196",
          "x: 0.7, y: 20, z: 0.5963577212288721",
          "x: 0.7, y: 30, z: 0.6209545515473145",
          "x: 0.7, y: 40, z: 0.6281435470110335",
          "x: 0.7, y: 50, z: 0.6361835778764863",
          "x: 0.7, y: 60, z: 0.6416178773170329",
          "x: 0.7, y: 70, z: 0.643577775226252",
          "x: 0.7, y: 80, z: 0.6288120567832343",
          "x: 0.7, y: 90, z: 0.6036581028078397",
          "x: 0.8, y: 0, z: 0.6308406914245905",
          "x: 0.8, y: 10, z: 0.5440777512842441",
          "x: 0.8, y: 20, z: 0.5935189842959308",
          "x: 0.8, y: 30, z: 0.6184523757422666",
          "x: 0.8, y: 40, z: 0.626620483477526",
          "x: 0.8, y: 50, z: 0.6357484168669127",
          "x: 0.8, y: 60, z: 0.6416178773170329",
          "x: 0.8, y: 70, z: 0.643577775226252",
          "x: 0.8, y: 80, z: 0.6288120567832343",
          "x: 0.8, y: 90, z: 0.6036581028078397",
          "x: 0.9, y: 0, z: 0.7970788690928244",
          "x: 0.9, y: 10, z: 0.6345344326404911",
          "x: 0.9, y: 20, z: 0.6339208006962576",
          "x: 0.9, y: 30, z: 0.6270670147954743",
          "x: 0.9, y: 40, z: 0.6220626631853786",
          "x: 0.9, y: 50, z: 0.6217362924281984",
          "x: 0.9, y: 60, z: 0.6213011314186249",
          "x: 0.9, y: 70, z: 0.6139033942558747",
          "x: 0.9, y: 80, z: 0.5912750217580505",
          "x: 0.9, y: 90, z: 0.5725630983463882",
          "x: 1.0, y: 0, z: 0.7970788690928244",
          "x: 1.0, y: 10, z: 0.6345344326404911",
          "x: 1.0, y: 20, z: 0.6339208006962576",
          "x: 1.0, y: 30, z: 0.6270670147954743",
          "x: 1.0, y: 40, z: 0.6220626631853786",
          "x: 1.0, y: 50, z: 0.6217362924281984",
          "x: 1.0, y: 60, z: 0.6213011314186249",
          "x: 1.0, y: 70, z: 0.6139033942558747",
          "x: 1.0, y: 80, z: 0.5912750217580505",
          "x: 1.0, y: 90, z: 0.5725630983463882"
         ],
         "type": "scatter",
         "x": [
          "0",
          "0",
          "0",
          "0",
          "0",
          "0",
          "0",
          "0",
          "0",
          "0",
          "0.1",
          "0.1",
          "0.1",
          "0.1",
          "0.1",
          "0.1",
          "0.1",
          "0.1",
          "0.1",
          "0.1",
          "0.2",
          "0.2",
          "0.2",
          "0.2",
          "0.2",
          "0.2",
          "0.2",
          "0.2",
          "0.2",
          "0.2",
          "0.3",
          "0.3",
          "0.3",
          "0.3",
          "0.3",
          "0.3",
          "0.3",
          "0.3",
          "0.3",
          "0.3",
          "0.4",
          "0.4",
          "0.4",
          "0.4",
          "0.4",
          "0.4",
          "0.4",
          "0.4",
          "0.4",
          "0.4",
          "0.5",
          "0.5",
          "0.5",
          "0.5",
          "0.5",
          "0.5",
          "0.5",
          "0.5",
          "0.5",
          "0.5",
          "0.6",
          "0.6",
          "0.6",
          "0.6",
          "0.6",
          "0.6",
          "0.6",
          "0.6",
          "0.6",
          "0.6",
          "0.7",
          "0.7",
          "0.7",
          "0.7",
          "0.7",
          "0.7",
          "0.7",
          "0.7",
          "0.7",
          "0.7",
          "0.8",
          "0.8",
          "0.8",
          "0.8",
          "0.8",
          "0.8",
          "0.8",
          "0.8",
          "0.8",
          "0.8",
          "0.9",
          "0.9",
          "0.9",
          "0.9",
          "0.9",
          "0.9",
          "0.9",
          "0.9",
          "0.9",
          "0.9",
          "1.0",
          "1.0",
          "1.0",
          "1.0",
          "1.0",
          "1.0",
          "1.0",
          "1.0",
          "1.0",
          "1.0"
         ],
         "xaxis": "x14",
         "y": [
          "0",
          "10",
          "20",
          "30",
          "40",
          "50",
          "60",
          "70",
          "80",
          "90",
          "0",
          "10",
          "20",
          "30",
          "40",
          "50",
          "60",
          "70",
          "80",
          "90",
          "0",
          "10",
          "20",
          "30",
          "40",
          "50",
          "60",
          "70",
          "80",
          "90",
          "0",
          "10",
          "20",
          "30",
          "40",
          "50",
          "60",
          "70",
          "80",
          "90",
          "0",
          "10",
          "20",
          "30",
          "40",
          "50",
          "60",
          "70",
          "80",
          "90",
          "0",
          "10",
          "20",
          "30",
          "40",
          "50",
          "60",
          "70",
          "80",
          "90",
          "0",
          "10",
          "20",
          "30",
          "40",
          "50",
          "60",
          "70",
          "80",
          "90",
          "0",
          "10",
          "20",
          "30",
          "40",
          "50",
          "60",
          "70",
          "80",
          "90",
          "0",
          "10",
          "20",
          "30",
          "40",
          "50",
          "60",
          "70",
          "80",
          "90",
          "0",
          "10",
          "20",
          "30",
          "40",
          "50",
          "60",
          "70",
          "80",
          "90",
          "0",
          "10",
          "20",
          "30",
          "40",
          "50",
          "60",
          "70",
          "80",
          "90"
         ],
         "yaxis": "y14"
        },
        {
         "hoverinfo": "text",
         "legendgroup": "best",
         "marker": {
          "color": "red",
          "symbol": "x"
         },
         "mode": "markers",
         "name": "best_score",
         "showlegend": false,
         "text": [
          "x: 0.9, y: 0, z: 0.7970788690928244"
         ],
         "type": "scatter",
         "x": [
          "0.9"
         ],
         "xaxis": "x14",
         "y": [
          "0"
         ],
         "yaxis": "y14"
        },
        {
         "colorbar": {
          "title": {
           "text": "F1 score"
          }
         },
         "colorscale": [
          [
           0,
           "#440154"
          ],
          [
           0.1111111111111111,
           "#482878"
          ],
          [
           0.2222222222222222,
           "#3e4989"
          ],
          [
           0.3333333333333333,
           "#31688e"
          ],
          [
           0.4444444444444444,
           "#26828e"
          ],
          [
           0.5555555555555556,
           "#1f9e89"
          ],
          [
           0.6666666666666666,
           "#35b779"
          ],
          [
           0.7777777777777778,
           "#6ece58"
          ],
          [
           0.8888888888888888,
           "#b5de2b"
          ],
          [
           1,
           "#fde725"
          ]
         ],
         "contours": {
          "showlabels": true
         },
         "type": "contour",
         "x": [
          "0",
          "0.1",
          "0.2",
          "0.3",
          "0.4",
          "0.5",
          "0.6",
          "0.7",
          "0.8",
          "0.9",
          "1.0"
         ],
         "xaxis": "x3",
         "y": [
          "0",
          "10",
          "20",
          "30",
          "40",
          "50",
          "60",
          "70",
          "80",
          "90"
         ],
         "yaxis": "y3",
         "z": [
          [
           0.5299509945229173,
           0.5395632777647335,
           0.5395632777647335,
           0.5395632777647335,
           0.5551459479059648,
           0.5688626515103937,
           0.5609093779602147,
           0.5605457646389994,
           0.5596713021491783,
           0.7286420334196282,
           0.7286420334196282
          ],
          [
           0.6449621105809711,
           0.6722243273967412,
           0.6722243273967412,
           0.6722243273967412,
           0.6536715202755597,
           0.4993986492737534,
           0.4108944841775252,
           0.4108944841775252,
           0.4108944841775252,
           0.4241905088230255,
           0.4241905088230255
          ],
          [
           0.7023447846069955,
           0.692491377023083,
           0.692491377023083,
           0.692491377023083,
           0.6710127628316959,
           0.5084457664931478,
           0.45544554455445546,
           0.45544554455445546,
           0.45544554455445546,
           0.422515874377896,
           0.422515874377896
          ],
          [
           0.7214723926380369,
           0.7133959466139397,
           0.7133959466139397,
           0.7133959466139397,
           0.6900319554685084,
           0.5057775637939336,
           0.474376305763795,
           0.474376305763795,
           0.474376305763795,
           0.40527411519777934,
           0.40527411519777934
          ],
          [
           0.7253323347687699,
           0.7194942044257113,
           0.7194942044257113,
           0.7194942044257113,
           0.6958723170060539,
           0.5016628293681248,
           0.4685579814354818,
           0.4685579814354818,
           0.4685579814354818,
           0.39244491080797483,
           0.39244491080797483
          ],
          [
           0.7276616431696645,
           0.7100998890122087,
           0.7100998890122087,
           0.7100998890122087,
           0.7004248478585371,
           0.5045592705167173,
           0.47039740470397406,
           0.47039740470397406,
           0.47039740470397406,
           0.3916010498687664,
           0.3916010498687664
          ],
          [
           0.6946766853635306,
           0.684974594725381,
           0.684974594725381,
           0.684974594725381,
           0.6917553849962862,
           0.5018429259994329,
           0.4664054563923959,
           0.4664054563923959,
           0.4664054563923959,
           0.3904745228506391,
           0.3904745228506391
          ],
          [
           0.627132800381816,
           0.5943449048152296,
           0.5943449048152296,
           0.5943449048152296,
           0.599401453612655,
           0.49009064372407435,
           0.46149029430181593,
           0.46149029430181593,
           0.46149029430181593,
           0.37107921318447634,
           0.37107921318447634
          ],
          [
           0.5924684034046943,
           0.5037998733375554,
           0.5037998733375554,
           0.5037998733375554,
           0.5010319098269567,
           0.4511154855643045,
           0.4218619421694802,
           0.4218619421694802,
           0.4218619421694802,
           0.30873965041398344,
           0.30873965041398344
          ],
          [
           0.5074336529109351,
           0.4050197696407083,
           0.4050197696407083,
           0.4050197696407083,
           0.40172265288544357,
           0.3978587463305129,
           0.36597393448397325,
           0.36597393448397325,
           0.36597393448397325,
           0.25346760402812085,
           0.25346760402812085
          ]
         ],
         "zmax": 1,
         "zmin": 0.14512619669277632
        },
        {
         "hoverinfo": "text",
         "marker": {
          "color": "black",
          "symbol": "x"
         },
         "mode": "markers",
         "showlegend": false,
         "text": [
          "x: 0, y: 0, z: 0.5299509945229173",
          "x: 0, y: 10, z: 0.6449621105809711",
          "x: 0, y: 20, z: 0.7023447846069955",
          "x: 0, y: 30, z: 0.7214723926380369",
          "x: 0, y: 40, z: 0.7253323347687699",
          "x: 0, y: 50, z: 0.7276616431696645",
          "x: 0, y: 60, z: 0.6946766853635306",
          "x: 0, y: 70, z: 0.627132800381816",
          "x: 0, y: 80, z: 0.5924684034046943",
          "x: 0, y: 90, z: 0.5074336529109351",
          "x: 0.1, y: 0, z: 0.5395632777647335",
          "x: 0.1, y: 10, z: 0.6722243273967412",
          "x: 0.1, y: 20, z: 0.692491377023083",
          "x: 0.1, y: 30, z: 0.7133959466139397",
          "x: 0.1, y: 40, z: 0.7194942044257113",
          "x: 0.1, y: 50, z: 0.7100998890122087",
          "x: 0.1, y: 60, z: 0.684974594725381",
          "x: 0.1, y: 70, z: 0.5943449048152296",
          "x: 0.1, y: 80, z: 0.5037998733375554",
          "x: 0.1, y: 90, z: 0.4050197696407083",
          "x: 0.2, y: 0, z: 0.5395632777647335",
          "x: 0.2, y: 10, z: 0.6722243273967412",
          "x: 0.2, y: 20, z: 0.692491377023083",
          "x: 0.2, y: 30, z: 0.7133959466139397",
          "x: 0.2, y: 40, z: 0.7194942044257113",
          "x: 0.2, y: 50, z: 0.7100998890122087",
          "x: 0.2, y: 60, z: 0.684974594725381",
          "x: 0.2, y: 70, z: 0.5943449048152296",
          "x: 0.2, y: 80, z: 0.5037998733375554",
          "x: 0.2, y: 90, z: 0.4050197696407083",
          "x: 0.3, y: 0, z: 0.5395632777647335",
          "x: 0.3, y: 10, z: 0.6722243273967412",
          "x: 0.3, y: 20, z: 0.692491377023083",
          "x: 0.3, y: 30, z: 0.7133959466139397",
          "x: 0.3, y: 40, z: 0.7194942044257113",
          "x: 0.3, y: 50, z: 0.7100998890122087",
          "x: 0.3, y: 60, z: 0.684974594725381",
          "x: 0.3, y: 70, z: 0.5943449048152296",
          "x: 0.3, y: 80, z: 0.5037998733375554",
          "x: 0.3, y: 90, z: 0.4050197696407083",
          "x: 0.4, y: 0, z: 0.5551459479059648",
          "x: 0.4, y: 10, z: 0.6536715202755597",
          "x: 0.4, y: 20, z: 0.6710127628316959",
          "x: 0.4, y: 30, z: 0.6900319554685084",
          "x: 0.4, y: 40, z: 0.6958723170060539",
          "x: 0.4, y: 50, z: 0.7004248478585371",
          "x: 0.4, y: 60, z: 0.6917553849962862",
          "x: 0.4, y: 70, z: 0.599401453612655",
          "x: 0.4, y: 80, z: 0.5010319098269567",
          "x: 0.4, y: 90, z: 0.40172265288544357",
          "x: 0.5, y: 0, z: 0.5688626515103937",
          "x: 0.5, y: 10, z: 0.4993986492737534",
          "x: 0.5, y: 20, z: 0.5084457664931478",
          "x: 0.5, y: 30, z: 0.5057775637939336",
          "x: 0.5, y: 40, z: 0.5016628293681248",
          "x: 0.5, y: 50, z: 0.5045592705167173",
          "x: 0.5, y: 60, z: 0.5018429259994329",
          "x: 0.5, y: 70, z: 0.49009064372407435",
          "x: 0.5, y: 80, z: 0.4511154855643045",
          "x: 0.5, y: 90, z: 0.3978587463305129",
          "x: 0.6, y: 0, z: 0.5609093779602147",
          "x: 0.6, y: 10, z: 0.4108944841775252",
          "x: 0.6, y: 20, z: 0.45544554455445546",
          "x: 0.6, y: 30, z: 0.474376305763795",
          "x: 0.6, y: 40, z: 0.4685579814354818",
          "x: 0.6, y: 50, z: 0.47039740470397406",
          "x: 0.6, y: 60, z: 0.4664054563923959",
          "x: 0.6, y: 70, z: 0.46149029430181593",
          "x: 0.6, y: 80, z: 0.4218619421694802",
          "x: 0.6, y: 90, z: 0.36597393448397325",
          "x: 0.7, y: 0, z: 0.5605457646389994",
          "x: 0.7, y: 10, z: 0.4108944841775252",
          "x: 0.7, y: 20, z: 0.45544554455445546",
          "x: 0.7, y: 30, z: 0.474376305763795",
          "x: 0.7, y: 40, z: 0.4685579814354818",
          "x: 0.7, y: 50, z: 0.47039740470397406",
          "x: 0.7, y: 60, z: 0.4664054563923959",
          "x: 0.7, y: 70, z: 0.46149029430181593",
          "x: 0.7, y: 80, z: 0.4218619421694802",
          "x: 0.7, y: 90, z: 0.36597393448397325",
          "x: 0.8, y: 0, z: 0.5596713021491783",
          "x: 0.8, y: 10, z: 0.4108944841775252",
          "x: 0.8, y: 20, z: 0.45544554455445546",
          "x: 0.8, y: 30, z: 0.474376305763795",
          "x: 0.8, y: 40, z: 0.4685579814354818",
          "x: 0.8, y: 50, z: 0.47039740470397406",
          "x: 0.8, y: 60, z: 0.4664054563923959",
          "x: 0.8, y: 70, z: 0.46149029430181593",
          "x: 0.8, y: 80, z: 0.4218619421694802",
          "x: 0.8, y: 90, z: 0.36597393448397325",
          "x: 0.9, y: 0, z: 0.7286420334196282",
          "x: 0.9, y: 10, z: 0.4241905088230255",
          "x: 0.9, y: 20, z: 0.422515874377896",
          "x: 0.9, y: 30, z: 0.40527411519777934",
          "x: 0.9, y: 40, z: 0.39244491080797483",
          "x: 0.9, y: 50, z: 0.3916010498687664",
          "x: 0.9, y: 60, z: 0.3904745228506391",
          "x: 0.9, y: 70, z: 0.37107921318447634",
          "x: 0.9, y: 80, z: 0.30873965041398344",
          "x: 0.9, y: 90, z: 0.25346760402812085",
          "x: 1.0, y: 0, z: 0.7286420334196282",
          "x: 1.0, y: 10, z: 0.4241905088230255",
          "x: 1.0, y: 20, z: 0.422515874377896",
          "x: 1.0, y: 30, z: 0.40527411519777934",
          "x: 1.0, y: 40, z: 0.39244491080797483",
          "x: 1.0, y: 50, z: 0.3916010498687664",
          "x: 1.0, y: 60, z: 0.3904745228506391",
          "x: 1.0, y: 70, z: 0.37107921318447634",
          "x: 1.0, y: 80, z: 0.30873965041398344",
          "x: 1.0, y: 90, z: 0.25346760402812085"
         ],
         "type": "scatter",
         "x": [
          "0",
          "0",
          "0",
          "0",
          "0",
          "0",
          "0",
          "0",
          "0",
          "0",
          "0.1",
          "0.1",
          "0.1",
          "0.1",
          "0.1",
          "0.1",
          "0.1",
          "0.1",
          "0.1",
          "0.1",
          "0.2",
          "0.2",
          "0.2",
          "0.2",
          "0.2",
          "0.2",
          "0.2",
          "0.2",
          "0.2",
          "0.2",
          "0.3",
          "0.3",
          "0.3",
          "0.3",
          "0.3",
          "0.3",
          "0.3",
          "0.3",
          "0.3",
          "0.3",
          "0.4",
          "0.4",
          "0.4",
          "0.4",
          "0.4",
          "0.4",
          "0.4",
          "0.4",
          "0.4",
          "0.4",
          "0.5",
          "0.5",
          "0.5",
          "0.5",
          "0.5",
          "0.5",
          "0.5",
          "0.5",
          "0.5",
          "0.5",
          "0.6",
          "0.6",
          "0.6",
          "0.6",
          "0.6",
          "0.6",
          "0.6",
          "0.6",
          "0.6",
          "0.6",
          "0.7",
          "0.7",
          "0.7",
          "0.7",
          "0.7",
          "0.7",
          "0.7",
          "0.7",
          "0.7",
          "0.7",
          "0.8",
          "0.8",
          "0.8",
          "0.8",
          "0.8",
          "0.8",
          "0.8",
          "0.8",
          "0.8",
          "0.8",
          "0.9",
          "0.9",
          "0.9",
          "0.9",
          "0.9",
          "0.9",
          "0.9",
          "0.9",
          "0.9",
          "0.9",
          "1.0",
          "1.0",
          "1.0",
          "1.0",
          "1.0",
          "1.0",
          "1.0",
          "1.0",
          "1.0",
          "1.0"
         ],
         "xaxis": "x3",
         "y": [
          "0",
          "10",
          "20",
          "30",
          "40",
          "50",
          "60",
          "70",
          "80",
          "90",
          "0",
          "10",
          "20",
          "30",
          "40",
          "50",
          "60",
          "70",
          "80",
          "90",
          "0",
          "10",
          "20",
          "30",
          "40",
          "50",
          "60",
          "70",
          "80",
          "90",
          "0",
          "10",
          "20",
          "30",
          "40",
          "50",
          "60",
          "70",
          "80",
          "90",
          "0",
          "10",
          "20",
          "30",
          "40",
          "50",
          "60",
          "70",
          "80",
          "90",
          "0",
          "10",
          "20",
          "30",
          "40",
          "50",
          "60",
          "70",
          "80",
          "90",
          "0",
          "10",
          "20",
          "30",
          "40",
          "50",
          "60",
          "70",
          "80",
          "90",
          "0",
          "10",
          "20",
          "30",
          "40",
          "50",
          "60",
          "70",
          "80",
          "90",
          "0",
          "10",
          "20",
          "30",
          "40",
          "50",
          "60",
          "70",
          "80",
          "90",
          "0",
          "10",
          "20",
          "30",
          "40",
          "50",
          "60",
          "70",
          "80",
          "90",
          "0",
          "10",
          "20",
          "30",
          "40",
          "50",
          "60",
          "70",
          "80",
          "90"
         ],
         "yaxis": "y3"
        },
        {
         "hoverinfo": "text",
         "legendgroup": "best",
         "marker": {
          "color": "red",
          "symbol": "x"
         },
         "mode": "markers",
         "name": "best_score",
         "showlegend": false,
         "text": [
          "x: 0.9, y: 0, z: 0.7286420334196282"
         ],
         "type": "scatter",
         "x": [
          "0.9"
         ],
         "xaxis": "x3",
         "y": [
          "0"
         ],
         "yaxis": "y3"
        },
        {
         "colorbar": {
          "title": {
           "text": "F1 score"
          }
         },
         "colorscale": [
          [
           0,
           "#440154"
          ],
          [
           0.1111111111111111,
           "#482878"
          ],
          [
           0.2222222222222222,
           "#3e4989"
          ],
          [
           0.3333333333333333,
           "#31688e"
          ],
          [
           0.4444444444444444,
           "#26828e"
          ],
          [
           0.5555555555555556,
           "#1f9e89"
          ],
          [
           0.6666666666666666,
           "#35b779"
          ],
          [
           0.7777777777777778,
           "#6ece58"
          ],
          [
           0.8888888888888888,
           "#b5de2b"
          ],
          [
           1,
           "#fde725"
          ]
         ],
         "contours": {
          "showlabels": true
         },
         "type": "contour",
         "x": [
          "0",
          "0.1",
          "0.2",
          "0.3",
          "0.4",
          "0.5",
          "0.6",
          "0.7",
          "0.8",
          "0.9",
          "1.0"
         ],
         "xaxis": "x6",
         "y": [
          "0",
          "10",
          "20",
          "30",
          "40",
          "50",
          "60",
          "70",
          "80",
          "90"
         ],
         "yaxis": "y6",
         "z": [
          [
           0.3604988626558946,
           0.3694533762057878,
           0.3694533762057878,
           0.3694533762057878,
           0.3843193038239478,
           0.39984108766663723,
           0.3951419165406175,
           0.3949265687583445,
           0.3944226657163222,
           0.7934392619169657,
           0.7934392619169657
          ],
          [
           0.475973487986744,
           0.5157576462379346,
           0.5157576462379346,
           0.5157576462379346,
           0.5105160185864515,
           0.4344117173668115,
           0.3737301728747104,
           0.3737301728747104,
           0.3737301728747104,
           0.9975825946817083,
           0.9975825946817083
          ],
          [
           0.5470209925979856,
           0.583370585605722,
           0.583370585605722,
           0.583370585605722,
           0.580460683081811,
           0.49678222960348767,
           0.4606141522029373,
           0.4606141522029373,
           0.4606141522029373,
           1,
           1
          ],
          [
           0.6040504842970356,
           0.6537416198586701,
           0.6537416198586701,
           0.6537416198586701,
           0.6556317335945152,
           0.5660021551724138,
           0.5450437729454957,
           0.5450437729454957,
           0.5450437729454957,
           1,
           1
          ],
          [
           0.6365428853105488,
           0.6975888843481814,
           0.6975888843481814,
           0.6975888843481814,
           0.70416573847182,
           0.6086281812538796,
           0.5869636423190304,
           0.5869636423190304,
           0.5869636423190304,
           1,
           1
          ],
          [
           0.6577605906134646,
           0.7247394653375623,
           0.7247394653375623,
           0.7247394653375623,
           0.7415511791879407,
           0.6425445977785258,
           0.6209850107066381,
           0.6209850107066381,
           0.6209850107066381,
           1,
           1
          ],
          [
           0.6762827117247063,
           0.7713896457765668,
           0.7713896457765668,
           0.7713896457765668,
           0.8024124066628374,
           0.7200976403580146,
           0.7002178649237473,
           0.7002178649237473,
           0.7002178649237473,
           1,
           1
          ],
          [
           0.6943196829590489,
           0.8332025117739403,
           0.8332025117739403,
           0.8332025117739403,
           0.8686493184634448,
           0.8337689492943021,
           0.8225446428571429,
           0.8225446428571429,
           0.8225446428571429,
           1,
           1
          ],
          [
           0.727359088030399,
           0.925,
           0.925,
           0.925,
           0.9266001174398121,
           0.9166666666666666,
           0.9098774333093006,
           0.9098774333093006,
           0.9098774333093006,
           1,
           1
          ],
          [
           0.7020376778162245,
           0.9647829647829648,
           0.9647829647829648,
           0.9647829647829648,
           0.9644334160463193,
           0.9640167364016736,
           0.9602587800369686,
           0.9602587800369686,
           0.9602587800369686,
           1,
           1
          ]
         ],
         "zmax": 1,
         "zmin": 0.14512619669277632
        },
        {
         "hoverinfo": "text",
         "marker": {
          "color": "black",
          "symbol": "x"
         },
         "mode": "markers",
         "showlegend": false,
         "text": [
          "x: 0, y: 0, z: 0.3604988626558946",
          "x: 0, y: 10, z: 0.475973487986744",
          "x: 0, y: 20, z: 0.5470209925979856",
          "x: 0, y: 30, z: 0.6040504842970356",
          "x: 0, y: 40, z: 0.6365428853105488",
          "x: 0, y: 50, z: 0.6577605906134646",
          "x: 0, y: 60, z: 0.6762827117247063",
          "x: 0, y: 70, z: 0.6943196829590489",
          "x: 0, y: 80, z: 0.727359088030399",
          "x: 0, y: 90, z: 0.7020376778162245",
          "x: 0.1, y: 0, z: 0.3694533762057878",
          "x: 0.1, y: 10, z: 0.5157576462379346",
          "x: 0.1, y: 20, z: 0.583370585605722",
          "x: 0.1, y: 30, z: 0.6537416198586701",
          "x: 0.1, y: 40, z: 0.6975888843481814",
          "x: 0.1, y: 50, z: 0.7247394653375623",
          "x: 0.1, y: 60, z: 0.7713896457765668",
          "x: 0.1, y: 70, z: 0.8332025117739403",
          "x: 0.1, y: 80, z: 0.925",
          "x: 0.1, y: 90, z: 0.9647829647829648",
          "x: 0.2, y: 0, z: 0.3694533762057878",
          "x: 0.2, y: 10, z: 0.5157576462379346",
          "x: 0.2, y: 20, z: 0.583370585605722",
          "x: 0.2, y: 30, z: 0.6537416198586701",
          "x: 0.2, y: 40, z: 0.6975888843481814",
          "x: 0.2, y: 50, z: 0.7247394653375623",
          "x: 0.2, y: 60, z: 0.7713896457765668",
          "x: 0.2, y: 70, z: 0.8332025117739403",
          "x: 0.2, y: 80, z: 0.925",
          "x: 0.2, y: 90, z: 0.9647829647829648",
          "x: 0.3, y: 0, z: 0.3694533762057878",
          "x: 0.3, y: 10, z: 0.5157576462379346",
          "x: 0.3, y: 20, z: 0.583370585605722",
          "x: 0.3, y: 30, z: 0.6537416198586701",
          "x: 0.3, y: 40, z: 0.6975888843481814",
          "x: 0.3, y: 50, z: 0.7247394653375623",
          "x: 0.3, y: 60, z: 0.7713896457765668",
          "x: 0.3, y: 70, z: 0.8332025117739403",
          "x: 0.3, y: 80, z: 0.925",
          "x: 0.3, y: 90, z: 0.9647829647829648",
          "x: 0.4, y: 0, z: 0.3843193038239478",
          "x: 0.4, y: 10, z: 0.5105160185864515",
          "x: 0.4, y: 20, z: 0.580460683081811",
          "x: 0.4, y: 30, z: 0.6556317335945152",
          "x: 0.4, y: 40, z: 0.70416573847182",
          "x: 0.4, y: 50, z: 0.7415511791879407",
          "x: 0.4, y: 60, z: 0.8024124066628374",
          "x: 0.4, y: 70, z: 0.8686493184634448",
          "x: 0.4, y: 80, z: 0.9266001174398121",
          "x: 0.4, y: 90, z: 0.9644334160463193",
          "x: 0.5, y: 0, z: 0.39984108766663723",
          "x: 0.5, y: 10, z: 0.4344117173668115",
          "x: 0.5, y: 20, z: 0.49678222960348767",
          "x: 0.5, y: 30, z: 0.5660021551724138",
          "x: 0.5, y: 40, z: 0.6086281812538796",
          "x: 0.5, y: 50, z: 0.6425445977785258",
          "x: 0.5, y: 60, z: 0.7200976403580146",
          "x: 0.5, y: 70, z: 0.8337689492943021",
          "x: 0.5, y: 80, z: 0.9166666666666666",
          "x: 0.5, y: 90, z: 0.9640167364016736",
          "x: 0.6, y: 0, z: 0.3951419165406175",
          "x: 0.6, y: 10, z: 0.3737301728747104",
          "x: 0.6, y: 20, z: 0.4606141522029373",
          "x: 0.6, y: 30, z: 0.5450437729454957",
          "x: 0.6, y: 40, z: 0.5869636423190304",
          "x: 0.6, y: 50, z: 0.6209850107066381",
          "x: 0.6, y: 60, z: 0.7002178649237473",
          "x: 0.6, y: 70, z: 0.8225446428571429",
          "x: 0.6, y: 80, z: 0.9098774333093006",
          "x: 0.6, y: 90, z: 0.9602587800369686",
          "x: 0.7, y: 0, z: 0.3949265687583445",
          "x: 0.7, y: 10, z: 0.3737301728747104",
          "x: 0.7, y: 20, z: 0.4606141522029373",
          "x: 0.7, y: 30, z: 0.5450437729454957",
          "x: 0.7, y: 40, z: 0.5869636423190304",
          "x: 0.7, y: 50, z: 0.6209850107066381",
          "x: 0.7, y: 60, z: 0.7002178649237473",
          "x: 0.7, y: 70, z: 0.8225446428571429",
          "x: 0.7, y: 80, z: 0.9098774333093006",
          "x: 0.7, y: 90, z: 0.9602587800369686",
          "x: 0.8, y: 0, z: 0.3944226657163222",
          "x: 0.8, y: 10, z: 0.3737301728747104",
          "x: 0.8, y: 20, z: 0.4606141522029373",
          "x: 0.8, y: 30, z: 0.5450437729454957",
          "x: 0.8, y: 40, z: 0.5869636423190304",
          "x: 0.8, y: 50, z: 0.6209850107066381",
          "x: 0.8, y: 60, z: 0.7002178649237473",
          "x: 0.8, y: 70, z: 0.8225446428571429",
          "x: 0.8, y: 80, z: 0.9098774333093006",
          "x: 0.8, y: 90, z: 0.9602587800369686",
          "x: 0.9, y: 0, z: 0.7934392619169657",
          "x: 0.9, y: 10, z: 0.9975825946817083",
          "x: 0.9, y: 20, z: 1.0",
          "x: 0.9, y: 30, z: 1.0",
          "x: 0.9, y: 40, z: 1.0",
          "x: 0.9, y: 50, z: 1.0",
          "x: 0.9, y: 60, z: 1.0",
          "x: 0.9, y: 70, z: 1.0",
          "x: 0.9, y: 80, z: 1.0",
          "x: 0.9, y: 90, z: 1.0",
          "x: 1.0, y: 0, z: 0.7934392619169657",
          "x: 1.0, y: 10, z: 0.9975825946817083",
          "x: 1.0, y: 20, z: 1.0",
          "x: 1.0, y: 30, z: 1.0",
          "x: 1.0, y: 40, z: 1.0",
          "x: 1.0, y: 50, z: 1.0",
          "x: 1.0, y: 60, z: 1.0",
          "x: 1.0, y: 70, z: 1.0",
          "x: 1.0, y: 80, z: 1.0",
          "x: 1.0, y: 90, z: 1.0"
         ],
         "type": "scatter",
         "x": [
          "0",
          "0",
          "0",
          "0",
          "0",
          "0",
          "0",
          "0",
          "0",
          "0",
          "0.1",
          "0.1",
          "0.1",
          "0.1",
          "0.1",
          "0.1",
          "0.1",
          "0.1",
          "0.1",
          "0.1",
          "0.2",
          "0.2",
          "0.2",
          "0.2",
          "0.2",
          "0.2",
          "0.2",
          "0.2",
          "0.2",
          "0.2",
          "0.3",
          "0.3",
          "0.3",
          "0.3",
          "0.3",
          "0.3",
          "0.3",
          "0.3",
          "0.3",
          "0.3",
          "0.4",
          "0.4",
          "0.4",
          "0.4",
          "0.4",
          "0.4",
          "0.4",
          "0.4",
          "0.4",
          "0.4",
          "0.5",
          "0.5",
          "0.5",
          "0.5",
          "0.5",
          "0.5",
          "0.5",
          "0.5",
          "0.5",
          "0.5",
          "0.6",
          "0.6",
          "0.6",
          "0.6",
          "0.6",
          "0.6",
          "0.6",
          "0.6",
          "0.6",
          "0.6",
          "0.7",
          "0.7",
          "0.7",
          "0.7",
          "0.7",
          "0.7",
          "0.7",
          "0.7",
          "0.7",
          "0.7",
          "0.8",
          "0.8",
          "0.8",
          "0.8",
          "0.8",
          "0.8",
          "0.8",
          "0.8",
          "0.8",
          "0.8",
          "0.9",
          "0.9",
          "0.9",
          "0.9",
          "0.9",
          "0.9",
          "0.9",
          "0.9",
          "0.9",
          "0.9",
          "1.0",
          "1.0",
          "1.0",
          "1.0",
          "1.0",
          "1.0",
          "1.0",
          "1.0",
          "1.0",
          "1.0"
         ],
         "xaxis": "x6",
         "y": [
          "0",
          "10",
          "20",
          "30",
          "40",
          "50",
          "60",
          "70",
          "80",
          "90",
          "0",
          "10",
          "20",
          "30",
          "40",
          "50",
          "60",
          "70",
          "80",
          "90",
          "0",
          "10",
          "20",
          "30",
          "40",
          "50",
          "60",
          "70",
          "80",
          "90",
          "0",
          "10",
          "20",
          "30",
          "40",
          "50",
          "60",
          "70",
          "80",
          "90",
          "0",
          "10",
          "20",
          "30",
          "40",
          "50",
          "60",
          "70",
          "80",
          "90",
          "0",
          "10",
          "20",
          "30",
          "40",
          "50",
          "60",
          "70",
          "80",
          "90",
          "0",
          "10",
          "20",
          "30",
          "40",
          "50",
          "60",
          "70",
          "80",
          "90",
          "0",
          "10",
          "20",
          "30",
          "40",
          "50",
          "60",
          "70",
          "80",
          "90",
          "0",
          "10",
          "20",
          "30",
          "40",
          "50",
          "60",
          "70",
          "80",
          "90",
          "0",
          "10",
          "20",
          "30",
          "40",
          "50",
          "60",
          "70",
          "80",
          "90",
          "0",
          "10",
          "20",
          "30",
          "40",
          "50",
          "60",
          "70",
          "80",
          "90"
         ],
         "yaxis": "y6"
        },
        {
         "hoverinfo": "text",
         "legendgroup": "best",
         "marker": {
          "color": "red",
          "symbol": "x"
         },
         "mode": "markers",
         "name": "best_score",
         "showlegend": false,
         "text": [
          "x: 0.9, y: 20, z: 1.0"
         ],
         "type": "scatter",
         "x": [
          "0.9"
         ],
         "xaxis": "x6",
         "y": [
          "20"
         ],
         "yaxis": "y6"
        },
        {
         "colorbar": {
          "title": {
           "text": "F1 score"
          }
         },
         "colorscale": [
          [
           0,
           "#440154"
          ],
          [
           0.1111111111111111,
           "#482878"
          ],
          [
           0.2222222222222222,
           "#3e4989"
          ],
          [
           0.3333333333333333,
           "#31688e"
          ],
          [
           0.4444444444444444,
           "#26828e"
          ],
          [
           0.5555555555555556,
           "#1f9e89"
          ],
          [
           0.6666666666666666,
           "#35b779"
          ],
          [
           0.7777777777777778,
           "#6ece58"
          ],
          [
           0.8888888888888888,
           "#b5de2b"
          ],
          [
           1,
           "#fde725"
          ]
         ],
         "contours": {
          "showlabels": true
         },
         "type": "contour",
         "x": [
          "0",
          "0.1",
          "0.2",
          "0.3",
          "0.4",
          "0.5",
          "0.6",
          "0.7",
          "0.8",
          "0.9",
          "1.0"
         ],
         "xaxis": "x9",
         "y": [
          "0",
          "10",
          "20",
          "30",
          "40",
          "50",
          "60",
          "70",
          "80",
          "90"
         ],
         "yaxis": "y9",
         "z": [
          [
           1,
           1,
           1,
           1,
           0.9993472584856397,
           0.9854221061792864,
           0.9662750217580505,
           0.9654046997389034,
           0.9632288946910357,
           0.6736292428198434,
           0.6736292428198434
          ],
          [
           1,
           0.9649695387293299,
           0.9649695387293299,
           0.9649695387293299,
           0.9083986074847694,
           0.5872497824194952,
           0.456266318537859,
           0.456266318537859,
           0.456266318537859,
           0.2693646649260226,
           0.2693646649260226
          ],
          [
           0.9808529155787642,
           0.8518276762402088,
           0.8518276762402088,
           0.8518276762402088,
           0.7950391644908616,
           0.5206701479547432,
           0.45039164490861616,
           0.45039164490861616,
           0.45039164490861616,
           0.2678416013925152,
           0.2678416013925152
          ],
          [
           0.8955613577023499,
           0.7850304612706701,
           0.7850304612706701,
           0.7850304612706701,
           0.7282419495213229,
           0.4571366405570061,
           0.41993037423846824,
           0.41993037423846824,
           0.41993037423846824,
           0.25413402959094866,
           0.25413402959094866
          ],
          [
           0.8429068755439513,
           0.7428198433420365,
           0.7428198433420365,
           0.7428198433420365,
           0.6877719756309835,
           0.4266753698868581,
           0.38990426457789384,
           0.38990426457789384,
           0.38990426457789384,
           0.24412532637075718,
           0.24412532637075718
          ],
          [
           0.8141862489120975,
           0.6960400348128808,
           0.6960400348128808,
           0.6960400348128808,
           0.6636205395996518,
           0.41536118363794605,
           0.3785900783289817,
           0.3785900783289817,
           0.3785900783289817,
           0.24347258485639686,
           0.24347258485639686
          ],
          [
           0.7140992167101827,
           0.615970409051349,
           0.615970409051349,
           0.615970409051349,
           0.6079199303742384,
           0.38511749347258484,
           0.34965187119234115,
           0.34965187119234115,
           0.34965187119234115,
           0.24260226283724978,
           0.24260226283724978
          ],
          [
           0.5718015665796344,
           0.46192341166231504,
           0.46192341166231504,
           0.46192341166231504,
           0.4575718015665796,
           0.34704090513489994,
           0.3207136640557006,
           0.3207136640557006,
           0.3207136640557006,
           0.22780678851174935,
           0.22780678851174935
          ],
          [
           0.49978241949521324,
           0.34617058311575283,
           0.34617058311575283,
           0.34617058311575283,
           0.3433420365535248,
           0.29917319408181026,
           0.27458659704090516,
           0.27458659704090516,
           0.27458659704090516,
           0.18255004351610096,
           0.18255004351610096
          ],
          [
           0.39730200174064406,
           0.25630983463881635,
           0.25630983463881635,
           0.25630983463881635,
           0.25369886858137514,
           0.2506527415143603,
           0.2260661444734552,
           0.2260661444734552,
           0.2260661444734552,
           0.14512619669277632,
           0.14512619669277632
          ]
         ],
         "zmax": 1,
         "zmin": 0.14512619669277632
        },
        {
         "hoverinfo": "text",
         "marker": {
          "color": "black",
          "symbol": "x"
         },
         "mode": "markers",
         "showlegend": false,
         "text": [
          "x: 0, y: 0, z: 1.0",
          "x: 0, y: 10, z: 1.0",
          "x: 0, y: 20, z: 0.9808529155787642",
          "x: 0, y: 30, z: 0.8955613577023499",
          "x: 0, y: 40, z: 0.8429068755439513",
          "x: 0, y: 50, z: 0.8141862489120975",
          "x: 0, y: 60, z: 0.7140992167101827",
          "x: 0, y: 70, z: 0.5718015665796344",
          "x: 0, y: 80, z: 0.49978241949521324",
          "x: 0, y: 90, z: 0.39730200174064406",
          "x: 0.1, y: 0, z: 1.0",
          "x: 0.1, y: 10, z: 0.9649695387293299",
          "x: 0.1, y: 20, z: 0.8518276762402088",
          "x: 0.1, y: 30, z: 0.7850304612706701",
          "x: 0.1, y: 40, z: 0.7428198433420365",
          "x: 0.1, y: 50, z: 0.6960400348128808",
          "x: 0.1, y: 60, z: 0.615970409051349",
          "x: 0.1, y: 70, z: 0.46192341166231504",
          "x: 0.1, y: 80, z: 0.34617058311575283",
          "x: 0.1, y: 90, z: 0.25630983463881635",
          "x: 0.2, y: 0, z: 1.0",
          "x: 0.2, y: 10, z: 0.9649695387293299",
          "x: 0.2, y: 20, z: 0.8518276762402088",
          "x: 0.2, y: 30, z: 0.7850304612706701",
          "x: 0.2, y: 40, z: 0.7428198433420365",
          "x: 0.2, y: 50, z: 0.6960400348128808",
          "x: 0.2, y: 60, z: 0.615970409051349",
          "x: 0.2, y: 70, z: 0.46192341166231504",
          "x: 0.2, y: 80, z: 0.34617058311575283",
          "x: 0.2, y: 90, z: 0.25630983463881635",
          "x: 0.3, y: 0, z: 1.0",
          "x: 0.3, y: 10, z: 0.9649695387293299",
          "x: 0.3, y: 20, z: 0.8518276762402088",
          "x: 0.3, y: 30, z: 0.7850304612706701",
          "x: 0.3, y: 40, z: 0.7428198433420365",
          "x: 0.3, y: 50, z: 0.6960400348128808",
          "x: 0.3, y: 60, z: 0.615970409051349",
          "x: 0.3, y: 70, z: 0.46192341166231504",
          "x: 0.3, y: 80, z: 0.34617058311575283",
          "x: 0.3, y: 90, z: 0.25630983463881635",
          "x: 0.4, y: 0, z: 0.9993472584856397",
          "x: 0.4, y: 10, z: 0.9083986074847694",
          "x: 0.4, y: 20, z: 0.7950391644908616",
          "x: 0.4, y: 30, z: 0.7282419495213229",
          "x: 0.4, y: 40, z: 0.6877719756309835",
          "x: 0.4, y: 50, z: 0.6636205395996518",
          "x: 0.4, y: 60, z: 0.6079199303742384",
          "x: 0.4, y: 70, z: 0.4575718015665796",
          "x: 0.4, y: 80, z: 0.3433420365535248",
          "x: 0.4, y: 90, z: 0.25369886858137514",
          "x: 0.5, y: 0, z: 0.9854221061792864",
          "x: 0.5, y: 10, z: 0.5872497824194952",
          "x: 0.5, y: 20, z: 0.5206701479547432",
          "x: 0.5, y: 30, z: 0.4571366405570061",
          "x: 0.5, y: 40, z: 0.4266753698868581",
          "x: 0.5, y: 50, z: 0.41536118363794605",
          "x: 0.5, y: 60, z: 0.38511749347258484",
          "x: 0.5, y: 70, z: 0.34704090513489994",
          "x: 0.5, y: 80, z: 0.29917319408181026",
          "x: 0.5, y: 90, z: 0.2506527415143603",
          "x: 0.6, y: 0, z: 0.9662750217580505",
          "x: 0.6, y: 10, z: 0.456266318537859",
          "x: 0.6, y: 20, z: 0.45039164490861616",
          "x: 0.6, y: 30, z: 0.41993037423846824",
          "x: 0.6, y: 40, z: 0.38990426457789384",
          "x: 0.6, y: 50, z: 0.3785900783289817",
          "x: 0.6, y: 60, z: 0.34965187119234115",
          "x: 0.6, y: 70, z: 0.3207136640557006",
          "x: 0.6, y: 80, z: 0.27458659704090516",
          "x: 0.6, y: 90, z: 0.2260661444734552",
          "x: 0.7, y: 0, z: 0.9654046997389034",
          "x: 0.7, y: 10, z: 0.456266318537859",
          "x: 0.7, y: 20, z: 0.45039164490861616",
          "x: 0.7, y: 30, z: 0.41993037423846824",
          "x: 0.7, y: 40, z: 0.38990426457789384",
          "x: 0.7, y: 50, z: 0.3785900783289817",
          "x: 0.7, y: 60, z: 0.34965187119234115",
          "x: 0.7, y: 70, z: 0.3207136640557006",
          "x: 0.7, y: 80, z: 0.27458659704090516",
          "x: 0.7, y: 90, z: 0.2260661444734552",
          "x: 0.8, y: 0, z: 0.9632288946910357",
          "x: 0.8, y: 10, z: 0.456266318537859",
          "x: 0.8, y: 20, z: 0.45039164490861616",
          "x: 0.8, y: 30, z: 0.41993037423846824",
          "x: 0.8, y: 40, z: 0.38990426457789384",
          "x: 0.8, y: 50, z: 0.3785900783289817",
          "x: 0.8, y: 60, z: 0.34965187119234115",
          "x: 0.8, y: 70, z: 0.3207136640557006",
          "x: 0.8, y: 80, z: 0.27458659704090516",
          "x: 0.8, y: 90, z: 0.2260661444734552",
          "x: 0.9, y: 0, z: 0.6736292428198434",
          "x: 0.9, y: 10, z: 0.2693646649260226",
          "x: 0.9, y: 20, z: 0.2678416013925152",
          "x: 0.9, y: 30, z: 0.25413402959094866",
          "x: 0.9, y: 40, z: 0.24412532637075718",
          "x: 0.9, y: 50, z: 0.24347258485639686",
          "x: 0.9, y: 60, z: 0.24260226283724978",
          "x: 0.9, y: 70, z: 0.22780678851174935",
          "x: 0.9, y: 80, z: 0.18255004351610096",
          "x: 0.9, y: 90, z: 0.14512619669277632",
          "x: 1.0, y: 0, z: 0.6736292428198434",
          "x: 1.0, y: 10, z: 0.2693646649260226",
          "x: 1.0, y: 20, z: 0.2678416013925152",
          "x: 1.0, y: 30, z: 0.25413402959094866",
          "x: 1.0, y: 40, z: 0.24412532637075718",
          "x: 1.0, y: 50, z: 0.24347258485639686",
          "x: 1.0, y: 60, z: 0.24260226283724978",
          "x: 1.0, y: 70, z: 0.22780678851174935",
          "x: 1.0, y: 80, z: 0.18255004351610096",
          "x: 1.0, y: 90, z: 0.14512619669277632"
         ],
         "type": "scatter",
         "x": [
          "0",
          "0",
          "0",
          "0",
          "0",
          "0",
          "0",
          "0",
          "0",
          "0",
          "0.1",
          "0.1",
          "0.1",
          "0.1",
          "0.1",
          "0.1",
          "0.1",
          "0.1",
          "0.1",
          "0.1",
          "0.2",
          "0.2",
          "0.2",
          "0.2",
          "0.2",
          "0.2",
          "0.2",
          "0.2",
          "0.2",
          "0.2",
          "0.3",
          "0.3",
          "0.3",
          "0.3",
          "0.3",
          "0.3",
          "0.3",
          "0.3",
          "0.3",
          "0.3",
          "0.4",
          "0.4",
          "0.4",
          "0.4",
          "0.4",
          "0.4",
          "0.4",
          "0.4",
          "0.4",
          "0.4",
          "0.5",
          "0.5",
          "0.5",
          "0.5",
          "0.5",
          "0.5",
          "0.5",
          "0.5",
          "0.5",
          "0.5",
          "0.6",
          "0.6",
          "0.6",
          "0.6",
          "0.6",
          "0.6",
          "0.6",
          "0.6",
          "0.6",
          "0.6",
          "0.7",
          "0.7",
          "0.7",
          "0.7",
          "0.7",
          "0.7",
          "0.7",
          "0.7",
          "0.7",
          "0.7",
          "0.8",
          "0.8",
          "0.8",
          "0.8",
          "0.8",
          "0.8",
          "0.8",
          "0.8",
          "0.8",
          "0.8",
          "0.9",
          "0.9",
          "0.9",
          "0.9",
          "0.9",
          "0.9",
          "0.9",
          "0.9",
          "0.9",
          "0.9",
          "1.0",
          "1.0",
          "1.0",
          "1.0",
          "1.0",
          "1.0",
          "1.0",
          "1.0",
          "1.0",
          "1.0"
         ],
         "xaxis": "x9",
         "y": [
          "0",
          "10",
          "20",
          "30",
          "40",
          "50",
          "60",
          "70",
          "80",
          "90",
          "0",
          "10",
          "20",
          "30",
          "40",
          "50",
          "60",
          "70",
          "80",
          "90",
          "0",
          "10",
          "20",
          "30",
          "40",
          "50",
          "60",
          "70",
          "80",
          "90",
          "0",
          "10",
          "20",
          "30",
          "40",
          "50",
          "60",
          "70",
          "80",
          "90",
          "0",
          "10",
          "20",
          "30",
          "40",
          "50",
          "60",
          "70",
          "80",
          "90",
          "0",
          "10",
          "20",
          "30",
          "40",
          "50",
          "60",
          "70",
          "80",
          "90",
          "0",
          "10",
          "20",
          "30",
          "40",
          "50",
          "60",
          "70",
          "80",
          "90",
          "0",
          "10",
          "20",
          "30",
          "40",
          "50",
          "60",
          "70",
          "80",
          "90",
          "0",
          "10",
          "20",
          "30",
          "40",
          "50",
          "60",
          "70",
          "80",
          "90",
          "0",
          "10",
          "20",
          "30",
          "40",
          "50",
          "60",
          "70",
          "80",
          "90",
          "0",
          "10",
          "20",
          "30",
          "40",
          "50",
          "60",
          "70",
          "80",
          "90"
         ],
         "yaxis": "y9"
        },
        {
         "hoverinfo": "text",
         "legendgroup": "best",
         "marker": {
          "color": "red",
          "symbol": "x"
         },
         "mode": "markers",
         "name": "best_score",
         "showlegend": false,
         "text": [
          "x: 0, y: 0, z: 1.0"
         ],
         "type": "scatter",
         "x": [
          "0"
         ],
         "xaxis": "x9",
         "y": [
          "0"
         ],
         "yaxis": "y9"
        },
        {
         "colorbar": {
          "title": {
           "text": "F1 score"
          }
         },
         "colorscale": [
          [
           0,
           "#440154"
          ],
          [
           0.1111111111111111,
           "#482878"
          ],
          [
           0.2222222222222222,
           "#3e4989"
          ],
          [
           0.3333333333333333,
           "#31688e"
          ],
          [
           0.4444444444444444,
           "#26828e"
          ],
          [
           0.5555555555555556,
           "#1f9e89"
          ],
          [
           0.6666666666666666,
           "#35b779"
          ],
          [
           0.7777777777777778,
           "#6ece58"
          ],
          [
           0.8888888888888888,
           "#b5de2b"
          ],
          [
           1,
           "#fde725"
          ]
         ],
         "contours": {
          "showlabels": true
         },
         "type": "contour",
         "x": [
          "0",
          "0.1",
          "0.2",
          "0.3",
          "0.4",
          "0.5",
          "0.6",
          "0.7",
          "0.8",
          "0.9",
          "1.0"
         ],
         "xaxis": "x12",
         "y": [
          "0",
          "10",
          "20",
          "30",
          "40",
          "50",
          "60",
          "70",
          "80",
          "90"
         ],
         "yaxis": "y12",
         "z": [
          [
           0.44680417967159725,
           0.4677703894693988,
           0.4677703894693988,
           0.4677703894693988,
           0.500542814493147,
           0.5341973130682589,
           0.5282263536436422,
           0.5279549463970687,
           0.5273442800922785,
           0.8435337223503867,
           0.8435337223503867
          ],
          [
           0.6566698330845434,
           0.706540914642421,
           0.706540914642421,
           0.706540914642421,
           0.6998235852897272,
           0.6328538471977202,
           0.5920070565884109,
           0.5920070565884109,
           0.5920070565884109,
           0.7719500610666304,
           0.7719500610666304
          ],
          [
           0.7407382277106799,
           0.7640792509159995,
           0.7640792509159995,
           0.7640792509159995,
           0.7568869588818021,
           0.686049667526123,
           0.6641335323653141,
           0.6641335323653141,
           0.6641335323653141,
           0.771678653820057,
           0.771678653820057
          ],
          [
           0.7843669425973674,
           0.8032975980458679,
           0.8032975980458679,
           0.8032975980458679,
           0.7959696023883838,
           0.7214004613923192,
           0.7097978016013028,
           0.7097978016013028,
           0.7097978016013028,
           0.7674039896865247,
           0.7674039896865247
          ],
          [
           0.8009227846383499,
           0.8193784774053468,
           0.8193784774053468,
           0.8193784774053468,
           0.8125254444293663,
           0.735649341837427,
           0.7241823856696974,
           0.7241823856696974,
           0.7241823856696974,
           0.7642828063509296,
           0.7642828063509296
          ],
          [
           0.8099470755869181,
           0.8227710679875153,
           0.8227710679875153,
           0.8227710679875153,
           0.8229746234224454,
           0.7456235581490026,
           0.7341566019812729,
           0.7341566019812729,
           0.7341566019812729,
           0.7640792509159995,
           0.7640792509159995
          ],
          [
           0.8042475234088751,
           0.8233138824806623,
           0.8233138824806623,
           0.8233138824806623,
           0.8310489890080065,
           0.7615687338851947,
           0.7505088885873252,
           0.7505088885873252,
           0.7505088885873252,
           0.763807843669426,
           0.763807843669426
          ],
          [
           0.787963088614466,
           0.8033654498575112,
           0.8033654498575112,
           0.8033654498575112,
           0.8092685574704844,
           0.774799837155652,
           0.7665897679468042,
           0.7665897679468042,
           0.7665897679468042,
           0.7591939204776768,
           0.7591939204776768
          ],
          [
           0.7855882752069481,
           0.7873524223096756,
           0.7873524223096756,
           0.7873524223096756,
           0.7867417560048854,
           0.772967838241281,
           0.7653005835255802,
           0.7653005835255802,
           0.7653005835255802,
           0.7450807436558556,
           0.7450807436558556
          ],
          [
           0.7594653277242502,
           0.7651648799022934,
           0.7651648799022934,
           0.7651648799022934,
           0.764350658162573,
           0.7634007327995658,
           0.7557334780838648,
           0.7557334780838648,
           0.7557334780838648,
           0.7334102320531958,
           0.7334102320531958
          ]
         ],
         "zmax": 1,
         "zmin": 0.14512619669277632
        },
        {
         "hoverinfo": "text",
         "marker": {
          "color": "black",
          "symbol": "x"
         },
         "mode": "markers",
         "showlegend": false,
         "text": [
          "x: 0, y: 0, z: 0.44680417967159725",
          "x: 0, y: 10, z: 0.6566698330845434",
          "x: 0, y: 20, z: 0.7407382277106799",
          "x: 0, y: 30, z: 0.7843669425973674",
          "x: 0, y: 40, z: 0.8009227846383499",
          "x: 0, y: 50, z: 0.8099470755869181",
          "x: 0, y: 60, z: 0.8042475234088751",
          "x: 0, y: 70, z: 0.787963088614466",
          "x: 0, y: 80, z: 0.7855882752069481",
          "x: 0, y: 90, z: 0.7594653277242502",
          "x: 0.1, y: 0, z: 0.4677703894693988",
          "x: 0.1, y: 10, z: 0.706540914642421",
          "x: 0.1, y: 20, z: 0.7640792509159995",
          "x: 0.1, y: 30, z: 0.8032975980458679",
          "x: 0.1, y: 40, z: 0.8193784774053468",
          "x: 0.1, y: 50, z: 0.8227710679875153",
          "x: 0.1, y: 60, z: 0.8233138824806623",
          "x: 0.1, y: 70, z: 0.8033654498575112",
          "x: 0.1, y: 80, z: 0.7873524223096756",
          "x: 0.1, y: 90, z: 0.7651648799022934",
          "x: 0.2, y: 0, z: 0.4677703894693988",
          "x: 0.2, y: 10, z: 0.706540914642421",
          "x: 0.2, y: 20, z: 0.7640792509159995",
          "x: 0.2, y: 30, z: 0.8032975980458679",
          "x: 0.2, y: 40, z: 0.8193784774053468",
          "x: 0.2, y: 50, z: 0.8227710679875153",
          "x: 0.2, y: 60, z: 0.8233138824806623",
          "x: 0.2, y: 70, z: 0.8033654498575112",
          "x: 0.2, y: 80, z: 0.7873524223096756",
          "x: 0.2, y: 90, z: 0.7651648799022934",
          "x: 0.3, y: 0, z: 0.4677703894693988",
          "x: 0.3, y: 10, z: 0.706540914642421",
          "x: 0.3, y: 20, z: 0.7640792509159995",
          "x: 0.3, y: 30, z: 0.8032975980458679",
          "x: 0.3, y: 40, z: 0.8193784774053468",
          "x: 0.3, y: 50, z: 0.8227710679875153",
          "x: 0.3, y: 60, z: 0.8233138824806623",
          "x: 0.3, y: 70, z: 0.8033654498575112",
          "x: 0.3, y: 80, z: 0.7873524223096756",
          "x: 0.3, y: 90, z: 0.7651648799022934",
          "x: 0.4, y: 0, z: 0.500542814493147",
          "x: 0.4, y: 10, z: 0.6998235852897272",
          "x: 0.4, y: 20, z: 0.7568869588818021",
          "x: 0.4, y: 30, z: 0.7959696023883838",
          "x: 0.4, y: 40, z: 0.8125254444293663",
          "x: 0.4, y: 50, z: 0.8229746234224454",
          "x: 0.4, y: 60, z: 0.8310489890080065",
          "x: 0.4, y: 70, z: 0.8092685574704844",
          "x: 0.4, y: 80, z: 0.7867417560048854",
          "x: 0.4, y: 90, z: 0.764350658162573",
          "x: 0.5, y: 0, z: 0.5341973130682589",
          "x: 0.5, y: 10, z: 0.6328538471977202",
          "x: 0.5, y: 20, z: 0.686049667526123",
          "x: 0.5, y: 30, z: 0.7214004613923192",
          "x: 0.5, y: 40, z: 0.735649341837427",
          "x: 0.5, y: 50, z: 0.7456235581490026",
          "x: 0.5, y: 60, z: 0.7615687338851947",
          "x: 0.5, y: 70, z: 0.774799837155652",
          "x: 0.5, y: 80, z: 0.772967838241281",
          "x: 0.5, y: 90, z: 0.7634007327995658",
          "x: 0.6, y: 0, z: 0.5282263536436422",
          "x: 0.6, y: 10, z: 0.5920070565884109",
          "x: 0.6, y: 20, z: 0.6641335323653141",
          "x: 0.6, y: 30, z: 0.7097978016013028",
          "x: 0.6, y: 40, z: 0.7241823856696974",
          "x: 0.6, y: 50, z: 0.7341566019812729",
          "x: 0.6, y: 60, z: 0.7505088885873252",
          "x: 0.6, y: 70, z: 0.7665897679468042",
          "x: 0.6, y: 80, z: 0.7653005835255802",
          "x: 0.6, y: 90, z: 0.7557334780838648",
          "x: 0.7, y: 0, z: 0.5279549463970687",
          "x: 0.7, y: 10, z: 0.5920070565884109",
          "x: 0.7, y: 20, z: 0.6641335323653141",
          "x: 0.7, y: 30, z: 0.7097978016013028",
          "x: 0.7, y: 40, z: 0.7241823856696974",
          "x: 0.7, y: 50, z: 0.7341566019812729",
          "x: 0.7, y: 60, z: 0.7505088885873252",
          "x: 0.7, y: 70, z: 0.7665897679468042",
          "x: 0.7, y: 80, z: 0.7653005835255802",
          "x: 0.7, y: 90, z: 0.7557334780838648",
          "x: 0.8, y: 0, z: 0.5273442800922785",
          "x: 0.8, y: 10, z: 0.5920070565884109",
          "x: 0.8, y: 20, z: 0.6641335323653141",
          "x: 0.8, y: 30, z: 0.7097978016013028",
          "x: 0.8, y: 40, z: 0.7241823856696974",
          "x: 0.8, y: 50, z: 0.7341566019812729",
          "x: 0.8, y: 60, z: 0.7505088885873252",
          "x: 0.8, y: 70, z: 0.7665897679468042",
          "x: 0.8, y: 80, z: 0.7653005835255802",
          "x: 0.8, y: 90, z: 0.7557334780838648",
          "x: 0.9, y: 0, z: 0.8435337223503867",
          "x: 0.9, y: 10, z: 0.7719500610666304",
          "x: 0.9, y: 20, z: 0.771678653820057",
          "x: 0.9, y: 30, z: 0.7674039896865247",
          "x: 0.9, y: 40, z: 0.7642828063509296",
          "x: 0.9, y: 50, z: 0.7640792509159995",
          "x: 0.9, y: 60, z: 0.763807843669426",
          "x: 0.9, y: 70, z: 0.7591939204776768",
          "x: 0.9, y: 80, z: 0.7450807436558556",
          "x: 0.9, y: 90, z: 0.7334102320531958",
          "x: 1.0, y: 0, z: 0.8435337223503867",
          "x: 1.0, y: 10, z: 0.7719500610666304",
          "x: 1.0, y: 20, z: 0.771678653820057",
          "x: 1.0, y: 30, z: 0.7674039896865247",
          "x: 1.0, y: 40, z: 0.7642828063509296",
          "x: 1.0, y: 50, z: 0.7640792509159995",
          "x: 1.0, y: 60, z: 0.763807843669426",
          "x: 1.0, y: 70, z: 0.7591939204776768",
          "x: 1.0, y: 80, z: 0.7450807436558556",
          "x: 1.0, y: 90, z: 0.7334102320531958"
         ],
         "type": "scatter",
         "x": [
          "0",
          "0",
          "0",
          "0",
          "0",
          "0",
          "0",
          "0",
          "0",
          "0",
          "0.1",
          "0.1",
          "0.1",
          "0.1",
          "0.1",
          "0.1",
          "0.1",
          "0.1",
          "0.1",
          "0.1",
          "0.2",
          "0.2",
          "0.2",
          "0.2",
          "0.2",
          "0.2",
          "0.2",
          "0.2",
          "0.2",
          "0.2",
          "0.3",
          "0.3",
          "0.3",
          "0.3",
          "0.3",
          "0.3",
          "0.3",
          "0.3",
          "0.3",
          "0.3",
          "0.4",
          "0.4",
          "0.4",
          "0.4",
          "0.4",
          "0.4",
          "0.4",
          "0.4",
          "0.4",
          "0.4",
          "0.5",
          "0.5",
          "0.5",
          "0.5",
          "0.5",
          "0.5",
          "0.5",
          "0.5",
          "0.5",
          "0.5",
          "0.6",
          "0.6",
          "0.6",
          "0.6",
          "0.6",
          "0.6",
          "0.6",
          "0.6",
          "0.6",
          "0.6",
          "0.7",
          "0.7",
          "0.7",
          "0.7",
          "0.7",
          "0.7",
          "0.7",
          "0.7",
          "0.7",
          "0.7",
          "0.8",
          "0.8",
          "0.8",
          "0.8",
          "0.8",
          "0.8",
          "0.8",
          "0.8",
          "0.8",
          "0.8",
          "0.9",
          "0.9",
          "0.9",
          "0.9",
          "0.9",
          "0.9",
          "0.9",
          "0.9",
          "0.9",
          "0.9",
          "1.0",
          "1.0",
          "1.0",
          "1.0",
          "1.0",
          "1.0",
          "1.0",
          "1.0",
          "1.0",
          "1.0"
         ],
         "xaxis": "x12",
         "y": [
          "0",
          "10",
          "20",
          "30",
          "40",
          "50",
          "60",
          "70",
          "80",
          "90",
          "0",
          "10",
          "20",
          "30",
          "40",
          "50",
          "60",
          "70",
          "80",
          "90",
          "0",
          "10",
          "20",
          "30",
          "40",
          "50",
          "60",
          "70",
          "80",
          "90",
          "0",
          "10",
          "20",
          "30",
          "40",
          "50",
          "60",
          "70",
          "80",
          "90",
          "0",
          "10",
          "20",
          "30",
          "40",
          "50",
          "60",
          "70",
          "80",
          "90",
          "0",
          "10",
          "20",
          "30",
          "40",
          "50",
          "60",
          "70",
          "80",
          "90",
          "0",
          "10",
          "20",
          "30",
          "40",
          "50",
          "60",
          "70",
          "80",
          "90",
          "0",
          "10",
          "20",
          "30",
          "40",
          "50",
          "60",
          "70",
          "80",
          "90",
          "0",
          "10",
          "20",
          "30",
          "40",
          "50",
          "60",
          "70",
          "80",
          "90",
          "0",
          "10",
          "20",
          "30",
          "40",
          "50",
          "60",
          "70",
          "80",
          "90",
          "0",
          "10",
          "20",
          "30",
          "40",
          "50",
          "60",
          "70",
          "80",
          "90"
         ],
         "yaxis": "y12"
        },
        {
         "hoverinfo": "text",
         "legendgroup": "best",
         "marker": {
          "color": "red",
          "symbol": "x"
         },
         "mode": "markers",
         "name": "best_score",
         "showlegend": false,
         "text": [
          "x: 0.9, y: 0, z: 0.8435337223503867"
         ],
         "type": "scatter",
         "x": [
          "0.9"
         ],
         "xaxis": "x12",
         "y": [
          "0"
         ],
         "yaxis": "y12"
        },
        {
         "colorbar": {
          "title": {
           "text": "F1 score"
          }
         },
         "colorscale": [
          [
           0,
           "#440154"
          ],
          [
           0.1111111111111111,
           "#482878"
          ],
          [
           0.2222222222222222,
           "#3e4989"
          ],
          [
           0.3333333333333333,
           "#31688e"
          ],
          [
           0.4444444444444444,
           "#26828e"
          ],
          [
           0.5555555555555556,
           "#1f9e89"
          ],
          [
           0.6666666666666666,
           "#35b779"
          ],
          [
           0.7777777777777778,
           "#6ece58"
          ],
          [
           0.8888888888888888,
           "#b5de2b"
          ],
          [
           1,
           "#fde725"
          ]
         ],
         "contours": {
          "showlabels": true
         },
         "type": "contour",
         "x": [
          "0",
          "0.1",
          "0.2",
          "0.3",
          "0.4",
          "0.5",
          "0.6",
          "0.7",
          "0.8",
          "0.9",
          "1.0"
         ],
         "xaxis": "x15",
         "y": [
          "0",
          "10",
          "20",
          "30",
          "40",
          "50",
          "60",
          "70",
          "80",
          "90"
         ],
         "yaxis": "y15",
         "z": [
          [
           0.5980575823309012,
           0.6132912640504831,
           0.6132912640504831,
           0.6132912640504831,
           0.6369246645415775,
           0.6575700552588406,
           0.6479965130482226,
           0.6475613520386492,
           0.6465227494555553,
           0.7970788690928244,
           0.7970788690928244
          ],
          [
           0.7505422993492408,
           0.7771998157066095,
           0.7771998157066095,
           0.7771998157066095,
           0.7568516405595807,
           0.6203848990977382,
           0.55489316715692,
           0.55489316715692,
           0.55489316715692,
           0.6345344326404911,
           0.6345344326404911
          ],
          [
           0.8063897786333971,
           0.7880712035312659,
           0.7880712035312659,
           0.7880712035312659,
           0.7673184384868035,
           0.6408320173810396,
           0.6056927658579759,
           0.6056927658579759,
           0.6056927658579759,
           0.6339208006962576,
           0.6339208006962576
          ],
          [
           0.8147694384646633,
           0.7983030436899593,
           0.7983030436899593,
           0.7983030436899593,
           0.7774516787638167,
           0.6491461155851487,
           0.6305429824258797,
           0.6305429824258797,
           0.6305429824258797,
           0.6270670147954743,
           0.6270670147954743
          ],
          [
           0.8124019686337386,
           0.7984460092277132,
           0.7984460092277132,
           0.7984460092277132,
           0.7784156663798775,
           0.6511704595440997,
           0.6327849068896174,
           0.6327849068896174,
           0.6327849068896174,
           0.6220626631853786,
           0.6220626631853786
          ],
          [
           0.8111061396404304,
           0.7881205892857541,
           0.7881205892857541,
           0.7881205892857541,
           0.7794044326868306,
           0.6553240546468176,
           0.6369385019923355,
           0.6369385019923355,
           0.6369385019923355,
           0.6217362924281984,
           0.6217362924281984
          ],
          [
           0.7795994012953399,
           0.766622554160855,
           0.766622554160855,
           0.766622554160855,
           0.7700416058891505,
           0.6586403874383235,
           0.6409075762982017,
           0.6409075762982017,
           0.6409075762982017,
           0.6213011314186249,
           0.6213011314186249
          ],
          [
           0.7288607517378551,
           0.7100092309741274,
           0.7100092309741274,
           0.7100092309741274,
           0.7131085195961472,
           0.6578430713803074,
           0.6446794508407078,
           0.6446794508407078,
           0.6446794508407078,
           0.6139033942558747,
           0.6139033942558747
          ],
          [
           0.7074439606843055,
           0.6667255991895072,
           0.6667255991895072,
           0.6667255991895072,
           0.6655085256717536,
           0.6434241044358963,
           0.6311308059154437,
           0.6311308059154437,
           0.6311308059154437,
           0.5912750217580505,
           0.5912750217580505
          ],
          [
           0.660443546719267,
           0.6260350198632851,
           0.6260350198632851,
           0.6260350198632851,
           0.6247295368345646,
           0.623206473301057,
           0.6109131747806046,
           0.6109131747806046,
           0.6109131747806046,
           0.5725630983463882,
           0.5725630983463882
          ]
         ],
         "zmax": 1,
         "zmin": 0.14512619669277632
        },
        {
         "hoverinfo": "text",
         "marker": {
          "color": "black",
          "symbol": "x"
         },
         "mode": "markers",
         "showlegend": false,
         "text": [
          "x: 0, y: 0, z: 0.5980575823309012",
          "x: 0, y: 10, z: 0.7505422993492408",
          "x: 0, y: 20, z: 0.8063897786333971",
          "x: 0, y: 30, z: 0.8147694384646633",
          "x: 0, y: 40, z: 0.8124019686337386",
          "x: 0, y: 50, z: 0.8111061396404304",
          "x: 0, y: 60, z: 0.7795994012953399",
          "x: 0, y: 70, z: 0.7288607517378551",
          "x: 0, y: 80, z: 0.7074439606843055",
          "x: 0, y: 90, z: 0.660443546719267",
          "x: 0.1, y: 0, z: 0.6132912640504831",
          "x: 0.1, y: 10, z: 0.7771998157066095",
          "x: 0.1, y: 20, z: 0.7880712035312659",
          "x: 0.1, y: 30, z: 0.7983030436899593",
          "x: 0.1, y: 40, z: 0.7984460092277132",
          "x: 0.1, y: 50, z: 0.7881205892857541",
          "x: 0.1, y: 60, z: 0.766622554160855",
          "x: 0.1, y: 70, z: 0.7100092309741274",
          "x: 0.1, y: 80, z: 0.6667255991895072",
          "x: 0.1, y: 90, z: 0.6260350198632851",
          "x: 0.2, y: 0, z: 0.6132912640504831",
          "x: 0.2, y: 10, z: 0.7771998157066095",
          "x: 0.2, y: 20, z: 0.7880712035312659",
          "x: 0.2, y: 30, z: 0.7983030436899593",
          "x: 0.2, y: 40, z: 0.7984460092277132",
          "x: 0.2, y: 50, z: 0.7881205892857541",
          "x: 0.2, y: 60, z: 0.766622554160855",
          "x: 0.2, y: 70, z: 0.7100092309741274",
          "x: 0.2, y: 80, z: 0.6667255991895072",
          "x: 0.2, y: 90, z: 0.6260350198632851",
          "x: 0.3, y: 0, z: 0.6132912640504831",
          "x: 0.3, y: 10, z: 0.7771998157066095",
          "x: 0.3, y: 20, z: 0.7880712035312659",
          "x: 0.3, y: 30, z: 0.7983030436899593",
          "x: 0.3, y: 40, z: 0.7984460092277132",
          "x: 0.3, y: 50, z: 0.7881205892857541",
          "x: 0.3, y: 60, z: 0.766622554160855",
          "x: 0.3, y: 70, z: 0.7100092309741274",
          "x: 0.3, y: 80, z: 0.6667255991895072",
          "x: 0.3, y: 90, z: 0.6260350198632851",
          "x: 0.4, y: 0, z: 0.6369246645415775",
          "x: 0.4, y: 10, z: 0.7568516405595807",
          "x: 0.4, y: 20, z: 0.7673184384868035",
          "x: 0.4, y: 30, z: 0.7774516787638167",
          "x: 0.4, y: 40, z: 0.7784156663798775",
          "x: 0.4, y: 50, z: 0.7794044326868306",
          "x: 0.4, y: 60, z: 0.7700416058891505",
          "x: 0.4, y: 70, z: 0.7131085195961472",
          "x: 0.4, y: 80, z: 0.6655085256717536",
          "x: 0.4, y: 90, z: 0.6247295368345646",
          "x: 0.5, y: 0, z: 0.6575700552588406",
          "x: 0.5, y: 10, z: 0.6203848990977382",
          "x: 0.5, y: 20, z: 0.6408320173810396",
          "x: 0.5, y: 30, z: 0.6491461155851487",
          "x: 0.5, y: 40, z: 0.6511704595440997",
          "x: 0.5, y: 50, z: 0.6553240546468176",
          "x: 0.5, y: 60, z: 0.6586403874383235",
          "x: 0.5, y: 70, z: 0.6578430713803074",
          "x: 0.5, y: 80, z: 0.6434241044358963",
          "x: 0.5, y: 90, z: 0.623206473301057",
          "x: 0.6, y: 0, z: 0.6479965130482226",
          "x: 0.6, y: 10, z: 0.55489316715692",
          "x: 0.6, y: 20, z: 0.6056927658579759",
          "x: 0.6, y: 30, z: 0.6305429824258797",
          "x: 0.6, y: 40, z: 0.6327849068896174",
          "x: 0.6, y: 50, z: 0.6369385019923355",
          "x: 0.6, y: 60, z: 0.6409075762982017",
          "x: 0.6, y: 70, z: 0.6446794508407078",
          "x: 0.6, y: 80, z: 0.6311308059154437",
          "x: 0.6, y: 90, z: 0.6109131747806046",
          "x: 0.7, y: 0, z: 0.6475613520386492",
          "x: 0.7, y: 10, z: 0.55489316715692",
          "x: 0.7, y: 20, z: 0.6056927658579759",
          "x: 0.7, y: 30, z: 0.6305429824258797",
          "x: 0.7, y: 40, z: 0.6327849068896174",
          "x: 0.7, y: 50, z: 0.6369385019923355",
          "x: 0.7, y: 60, z: 0.6409075762982017",
          "x: 0.7, y: 70, z: 0.6446794508407078",
          "x: 0.7, y: 80, z: 0.6311308059154437",
          "x: 0.7, y: 90, z: 0.6109131747806046",
          "x: 0.8, y: 0, z: 0.6465227494555553",
          "x: 0.8, y: 10, z: 0.55489316715692",
          "x: 0.8, y: 20, z: 0.6056927658579759",
          "x: 0.8, y: 30, z: 0.6305429824258797",
          "x: 0.8, y: 40, z: 0.6327849068896174",
          "x: 0.8, y: 50, z: 0.6369385019923355",
          "x: 0.8, y: 60, z: 0.6409075762982017",
          "x: 0.8, y: 70, z: 0.6446794508407078",
          "x: 0.8, y: 80, z: 0.6311308059154437",
          "x: 0.8, y: 90, z: 0.6109131747806046",
          "x: 0.9, y: 0, z: 0.7970788690928244",
          "x: 0.9, y: 10, z: 0.6345344326404911",
          "x: 0.9, y: 20, z: 0.6339208006962576",
          "x: 0.9, y: 30, z: 0.6270670147954743",
          "x: 0.9, y: 40, z: 0.6220626631853786",
          "x: 0.9, y: 50, z: 0.6217362924281984",
          "x: 0.9, y: 60, z: 0.6213011314186249",
          "x: 0.9, y: 70, z: 0.6139033942558747",
          "x: 0.9, y: 80, z: 0.5912750217580505",
          "x: 0.9, y: 90, z: 0.5725630983463882",
          "x: 1.0, y: 0, z: 0.7970788690928244",
          "x: 1.0, y: 10, z: 0.6345344326404911",
          "x: 1.0, y: 20, z: 0.6339208006962576",
          "x: 1.0, y: 30, z: 0.6270670147954743",
          "x: 1.0, y: 40, z: 0.6220626631853786",
          "x: 1.0, y: 50, z: 0.6217362924281984",
          "x: 1.0, y: 60, z: 0.6213011314186249",
          "x: 1.0, y: 70, z: 0.6139033942558747",
          "x: 1.0, y: 80, z: 0.5912750217580505",
          "x: 1.0, y: 90, z: 0.5725630983463882"
         ],
         "type": "scatter",
         "x": [
          "0",
          "0",
          "0",
          "0",
          "0",
          "0",
          "0",
          "0",
          "0",
          "0",
          "0.1",
          "0.1",
          "0.1",
          "0.1",
          "0.1",
          "0.1",
          "0.1",
          "0.1",
          "0.1",
          "0.1",
          "0.2",
          "0.2",
          "0.2",
          "0.2",
          "0.2",
          "0.2",
          "0.2",
          "0.2",
          "0.2",
          "0.2",
          "0.3",
          "0.3",
          "0.3",
          "0.3",
          "0.3",
          "0.3",
          "0.3",
          "0.3",
          "0.3",
          "0.3",
          "0.4",
          "0.4",
          "0.4",
          "0.4",
          "0.4",
          "0.4",
          "0.4",
          "0.4",
          "0.4",
          "0.4",
          "0.5",
          "0.5",
          "0.5",
          "0.5",
          "0.5",
          "0.5",
          "0.5",
          "0.5",
          "0.5",
          "0.5",
          "0.6",
          "0.6",
          "0.6",
          "0.6",
          "0.6",
          "0.6",
          "0.6",
          "0.6",
          "0.6",
          "0.6",
          "0.7",
          "0.7",
          "0.7",
          "0.7",
          "0.7",
          "0.7",
          "0.7",
          "0.7",
          "0.7",
          "0.7",
          "0.8",
          "0.8",
          "0.8",
          "0.8",
          "0.8",
          "0.8",
          "0.8",
          "0.8",
          "0.8",
          "0.8",
          "0.9",
          "0.9",
          "0.9",
          "0.9",
          "0.9",
          "0.9",
          "0.9",
          "0.9",
          "0.9",
          "0.9",
          "1.0",
          "1.0",
          "1.0",
          "1.0",
          "1.0",
          "1.0",
          "1.0",
          "1.0",
          "1.0",
          "1.0"
         ],
         "xaxis": "x15",
         "y": [
          "0",
          "10",
          "20",
          "30",
          "40",
          "50",
          "60",
          "70",
          "80",
          "90",
          "0",
          "10",
          "20",
          "30",
          "40",
          "50",
          "60",
          "70",
          "80",
          "90",
          "0",
          "10",
          "20",
          "30",
          "40",
          "50",
          "60",
          "70",
          "80",
          "90",
          "0",
          "10",
          "20",
          "30",
          "40",
          "50",
          "60",
          "70",
          "80",
          "90",
          "0",
          "10",
          "20",
          "30",
          "40",
          "50",
          "60",
          "70",
          "80",
          "90",
          "0",
          "10",
          "20",
          "30",
          "40",
          "50",
          "60",
          "70",
          "80",
          "90",
          "0",
          "10",
          "20",
          "30",
          "40",
          "50",
          "60",
          "70",
          "80",
          "90",
          "0",
          "10",
          "20",
          "30",
          "40",
          "50",
          "60",
          "70",
          "80",
          "90",
          "0",
          "10",
          "20",
          "30",
          "40",
          "50",
          "60",
          "70",
          "80",
          "90",
          "0",
          "10",
          "20",
          "30",
          "40",
          "50",
          "60",
          "70",
          "80",
          "90",
          "0",
          "10",
          "20",
          "30",
          "40",
          "50",
          "60",
          "70",
          "80",
          "90"
         ],
         "yaxis": "y15"
        },
        {
         "hoverinfo": "text",
         "legendgroup": "best",
         "marker": {
          "color": "red",
          "symbol": "x"
         },
         "mode": "markers",
         "name": "best_score",
         "showlegend": false,
         "text": [
          "x: 0, y: 30, z: 0.8147694384646633"
         ],
         "type": "scatter",
         "x": [
          "0"
         ],
         "xaxis": "x15",
         "y": [
          "30"
         ],
         "yaxis": "y15"
        }
       ],
       "layout": {
        "annotations": [
         {
          "font": {
           "size": 16
          },
          "showarrow": false,
          "text": "Rowwise 1",
          "x": 0.155,
          "xanchor": "center",
          "xref": "paper",
          "y": 1,
          "yanchor": "bottom",
          "yref": "paper"
         },
         {
          "font": {
           "size": 16
          },
          "showarrow": false,
          "text": "Rowwise 2",
          "x": 0.49,
          "xanchor": "center",
          "xref": "paper",
          "y": 1,
          "yanchor": "bottom",
          "yref": "paper"
         },
         {
          "font": {
           "size": 16
          },
          "showarrow": false,
          "text": "Columnwise",
          "x": 0.825,
          "xanchor": "center",
          "xref": "paper",
          "y": 1,
          "yanchor": "bottom",
          "yref": "paper"
         },
         {
          "font": {
           "size": 16
          },
          "showarrow": false,
          "text": "F1-Score",
          "textangle": 90,
          "x": 0.98,
          "xanchor": "left",
          "xref": "paper",
          "y": 0.92,
          "yanchor": "middle",
          "yref": "paper"
         },
         {
          "font": {
           "size": 16
          },
          "showarrow": false,
          "text": "Precision",
          "textangle": 90,
          "x": 0.98,
          "xanchor": "left",
          "xref": "paper",
          "y": 0.71,
          "yanchor": "middle",
          "yref": "paper"
         },
         {
          "font": {
           "size": 16
          },
          "showarrow": false,
          "text": "Recall",
          "textangle": 90,
          "x": 0.98,
          "xanchor": "left",
          "xref": "paper",
          "y": 0.5,
          "yanchor": "middle",
          "yref": "paper"
         },
         {
          "font": {
           "size": 16
          },
          "showarrow": false,
          "text": "Accuracy",
          "textangle": 90,
          "x": 0.98,
          "xanchor": "left",
          "xref": "paper",
          "y": 0.29000000000000004,
          "yanchor": "middle",
          "yref": "paper"
         },
         {
          "font": {
           "size": 16
          },
          "showarrow": false,
          "text": "ROC_AUC",
          "textangle": 90,
          "x": 0.98,
          "xanchor": "left",
          "xref": "paper",
          "y": 0.08,
          "yanchor": "middle",
          "yref": "paper"
         },
         {
          "font": {
           "size": 16
          },
          "showarrow": false,
          "text": "Threshold score",
          "x": 0.49,
          "xanchor": "center",
          "xref": "paper",
          "y": 0,
          "yanchor": "top",
          "yref": "paper",
          "yshift": -30
         },
         {
          "font": {
           "size": 16
          },
          "showarrow": false,
          "text": "Threshold count",
          "textangle": -90,
          "x": 0,
          "xanchor": "right",
          "xref": "paper",
          "xshift": -40,
          "y": 0.5,
          "yanchor": "middle",
          "yref": "paper"
         }
        ],
        "height": 700,
        "legend": {
         "x": 1,
         "y": 1.1
        },
        "template": {
         "data": {
          "bar": [
           {
            "error_x": {
             "color": "#2a3f5f"
            },
            "error_y": {
             "color": "#2a3f5f"
            },
            "marker": {
             "line": {
              "color": "#E5ECF6",
              "width": 0.5
             },
             "pattern": {
              "fillmode": "overlay",
              "size": 10,
              "solidity": 0.2
             }
            },
            "type": "bar"
           }
          ],
          "barpolar": [
           {
            "marker": {
             "line": {
              "color": "#E5ECF6",
              "width": 0.5
             },
             "pattern": {
              "fillmode": "overlay",
              "size": 10,
              "solidity": 0.2
             }
            },
            "type": "barpolar"
           }
          ],
          "carpet": [
           {
            "aaxis": {
             "endlinecolor": "#2a3f5f",
             "gridcolor": "white",
             "linecolor": "white",
             "minorgridcolor": "white",
             "startlinecolor": "#2a3f5f"
            },
            "baxis": {
             "endlinecolor": "#2a3f5f",
             "gridcolor": "white",
             "linecolor": "white",
             "minorgridcolor": "white",
             "startlinecolor": "#2a3f5f"
            },
            "type": "carpet"
           }
          ],
          "choropleth": [
           {
            "colorbar": {
             "outlinewidth": 0,
             "ticks": ""
            },
            "type": "choropleth"
           }
          ],
          "contour": [
           {
            "colorbar": {
             "outlinewidth": 0,
             "ticks": ""
            },
            "colorscale": [
             [
              0,
              "#0d0887"
             ],
             [
              0.1111111111111111,
              "#46039f"
             ],
             [
              0.2222222222222222,
              "#7201a8"
             ],
             [
              0.3333333333333333,
              "#9c179e"
             ],
             [
              0.4444444444444444,
              "#bd3786"
             ],
             [
              0.5555555555555556,
              "#d8576b"
             ],
             [
              0.6666666666666666,
              "#ed7953"
             ],
             [
              0.7777777777777778,
              "#fb9f3a"
             ],
             [
              0.8888888888888888,
              "#fdca26"
             ],
             [
              1,
              "#f0f921"
             ]
            ],
            "type": "contour"
           }
          ],
          "contourcarpet": [
           {
            "colorbar": {
             "outlinewidth": 0,
             "ticks": ""
            },
            "type": "contourcarpet"
           }
          ],
          "heatmap": [
           {
            "colorbar": {
             "outlinewidth": 0,
             "ticks": ""
            },
            "colorscale": [
             [
              0,
              "#0d0887"
             ],
             [
              0.1111111111111111,
              "#46039f"
             ],
             [
              0.2222222222222222,
              "#7201a8"
             ],
             [
              0.3333333333333333,
              "#9c179e"
             ],
             [
              0.4444444444444444,
              "#bd3786"
             ],
             [
              0.5555555555555556,
              "#d8576b"
             ],
             [
              0.6666666666666666,
              "#ed7953"
             ],
             [
              0.7777777777777778,
              "#fb9f3a"
             ],
             [
              0.8888888888888888,
              "#fdca26"
             ],
             [
              1,
              "#f0f921"
             ]
            ],
            "type": "heatmap"
           }
          ],
          "heatmapgl": [
           {
            "colorbar": {
             "outlinewidth": 0,
             "ticks": ""
            },
            "colorscale": [
             [
              0,
              "#0d0887"
             ],
             [
              0.1111111111111111,
              "#46039f"
             ],
             [
              0.2222222222222222,
              "#7201a8"
             ],
             [
              0.3333333333333333,
              "#9c179e"
             ],
             [
              0.4444444444444444,
              "#bd3786"
             ],
             [
              0.5555555555555556,
              "#d8576b"
             ],
             [
              0.6666666666666666,
              "#ed7953"
             ],
             [
              0.7777777777777778,
              "#fb9f3a"
             ],
             [
              0.8888888888888888,
              "#fdca26"
             ],
             [
              1,
              "#f0f921"
             ]
            ],
            "type": "heatmapgl"
           }
          ],
          "histogram": [
           {
            "marker": {
             "pattern": {
              "fillmode": "overlay",
              "size": 10,
              "solidity": 0.2
             }
            },
            "type": "histogram"
           }
          ],
          "histogram2d": [
           {
            "colorbar": {
             "outlinewidth": 0,
             "ticks": ""
            },
            "colorscale": [
             [
              0,
              "#0d0887"
             ],
             [
              0.1111111111111111,
              "#46039f"
             ],
             [
              0.2222222222222222,
              "#7201a8"
             ],
             [
              0.3333333333333333,
              "#9c179e"
             ],
             [
              0.4444444444444444,
              "#bd3786"
             ],
             [
              0.5555555555555556,
              "#d8576b"
             ],
             [
              0.6666666666666666,
              "#ed7953"
             ],
             [
              0.7777777777777778,
              "#fb9f3a"
             ],
             [
              0.8888888888888888,
              "#fdca26"
             ],
             [
              1,
              "#f0f921"
             ]
            ],
            "type": "histogram2d"
           }
          ],
          "histogram2dcontour": [
           {
            "colorbar": {
             "outlinewidth": 0,
             "ticks": ""
            },
            "colorscale": [
             [
              0,
              "#0d0887"
             ],
             [
              0.1111111111111111,
              "#46039f"
             ],
             [
              0.2222222222222222,
              "#7201a8"
             ],
             [
              0.3333333333333333,
              "#9c179e"
             ],
             [
              0.4444444444444444,
              "#bd3786"
             ],
             [
              0.5555555555555556,
              "#d8576b"
             ],
             [
              0.6666666666666666,
              "#ed7953"
             ],
             [
              0.7777777777777778,
              "#fb9f3a"
             ],
             [
              0.8888888888888888,
              "#fdca26"
             ],
             [
              1,
              "#f0f921"
             ]
            ],
            "type": "histogram2dcontour"
           }
          ],
          "mesh3d": [
           {
            "colorbar": {
             "outlinewidth": 0,
             "ticks": ""
            },
            "type": "mesh3d"
           }
          ],
          "parcoords": [
           {
            "line": {
             "colorbar": {
              "outlinewidth": 0,
              "ticks": ""
             }
            },
            "type": "parcoords"
           }
          ],
          "pie": [
           {
            "automargin": true,
            "type": "pie"
           }
          ],
          "scatter": [
           {
            "fillpattern": {
             "fillmode": "overlay",
             "size": 10,
             "solidity": 0.2
            },
            "type": "scatter"
           }
          ],
          "scatter3d": [
           {
            "line": {
             "colorbar": {
              "outlinewidth": 0,
              "ticks": ""
             }
            },
            "marker": {
             "colorbar": {
              "outlinewidth": 0,
              "ticks": ""
             }
            },
            "type": "scatter3d"
           }
          ],
          "scattercarpet": [
           {
            "marker": {
             "colorbar": {
              "outlinewidth": 0,
              "ticks": ""
             }
            },
            "type": "scattercarpet"
           }
          ],
          "scattergeo": [
           {
            "marker": {
             "colorbar": {
              "outlinewidth": 0,
              "ticks": ""
             }
            },
            "type": "scattergeo"
           }
          ],
          "scattergl": [
           {
            "marker": {
             "colorbar": {
              "outlinewidth": 0,
              "ticks": ""
             }
            },
            "type": "scattergl"
           }
          ],
          "scattermapbox": [
           {
            "marker": {
             "colorbar": {
              "outlinewidth": 0,
              "ticks": ""
             }
            },
            "type": "scattermapbox"
           }
          ],
          "scatterpolar": [
           {
            "marker": {
             "colorbar": {
              "outlinewidth": 0,
              "ticks": ""
             }
            },
            "type": "scatterpolar"
           }
          ],
          "scatterpolargl": [
           {
            "marker": {
             "colorbar": {
              "outlinewidth": 0,
              "ticks": ""
             }
            },
            "type": "scatterpolargl"
           }
          ],
          "scatterternary": [
           {
            "marker": {
             "colorbar": {
              "outlinewidth": 0,
              "ticks": ""
             }
            },
            "type": "scatterternary"
           }
          ],
          "surface": [
           {
            "colorbar": {
             "outlinewidth": 0,
             "ticks": ""
            },
            "colorscale": [
             [
              0,
              "#0d0887"
             ],
             [
              0.1111111111111111,
              "#46039f"
             ],
             [
              0.2222222222222222,
              "#7201a8"
             ],
             [
              0.3333333333333333,
              "#9c179e"
             ],
             [
              0.4444444444444444,
              "#bd3786"
             ],
             [
              0.5555555555555556,
              "#d8576b"
             ],
             [
              0.6666666666666666,
              "#ed7953"
             ],
             [
              0.7777777777777778,
              "#fb9f3a"
             ],
             [
              0.8888888888888888,
              "#fdca26"
             ],
             [
              1,
              "#f0f921"
             ]
            ],
            "type": "surface"
           }
          ],
          "table": [
           {
            "cells": {
             "fill": {
              "color": "#EBF0F8"
             },
             "line": {
              "color": "white"
             }
            },
            "header": {
             "fill": {
              "color": "#C8D4E3"
             },
             "line": {
              "color": "white"
             }
            },
            "type": "table"
           }
          ]
         },
         "layout": {
          "annotationdefaults": {
           "arrowcolor": "#2a3f5f",
           "arrowhead": 0,
           "arrowwidth": 1
          },
          "autotypenumbers": "strict",
          "coloraxis": {
           "colorbar": {
            "outlinewidth": 0,
            "ticks": ""
           }
          },
          "colorscale": {
           "diverging": [
            [
             0,
             "#8e0152"
            ],
            [
             0.1,
             "#c51b7d"
            ],
            [
             0.2,
             "#de77ae"
            ],
            [
             0.3,
             "#f1b6da"
            ],
            [
             0.4,
             "#fde0ef"
            ],
            [
             0.5,
             "#f7f7f7"
            ],
            [
             0.6,
             "#e6f5d0"
            ],
            [
             0.7,
             "#b8e186"
            ],
            [
             0.8,
             "#7fbc41"
            ],
            [
             0.9,
             "#4d9221"
            ],
            [
             1,
             "#276419"
            ]
           ],
           "sequential": [
            [
             0,
             "#0d0887"
            ],
            [
             0.1111111111111111,
             "#46039f"
            ],
            [
             0.2222222222222222,
             "#7201a8"
            ],
            [
             0.3333333333333333,
             "#9c179e"
            ],
            [
             0.4444444444444444,
             "#bd3786"
            ],
            [
             0.5555555555555556,
             "#d8576b"
            ],
            [
             0.6666666666666666,
             "#ed7953"
            ],
            [
             0.7777777777777778,
             "#fb9f3a"
            ],
            [
             0.8888888888888888,
             "#fdca26"
            ],
            [
             1,
             "#f0f921"
            ]
           ],
           "sequentialminus": [
            [
             0,
             "#0d0887"
            ],
            [
             0.1111111111111111,
             "#46039f"
            ],
            [
             0.2222222222222222,
             "#7201a8"
            ],
            [
             0.3333333333333333,
             "#9c179e"
            ],
            [
             0.4444444444444444,
             "#bd3786"
            ],
            [
             0.5555555555555556,
             "#d8576b"
            ],
            [
             0.6666666666666666,
             "#ed7953"
            ],
            [
             0.7777777777777778,
             "#fb9f3a"
            ],
            [
             0.8888888888888888,
             "#fdca26"
            ],
            [
             1,
             "#f0f921"
            ]
           ]
          },
          "colorway": [
           "#636efa",
           "#EF553B",
           "#00cc96",
           "#ab63fa",
           "#FFA15A",
           "#19d3f3",
           "#FF6692",
           "#B6E880",
           "#FF97FF",
           "#FECB52"
          ],
          "font": {
           "color": "#2a3f5f"
          },
          "geo": {
           "bgcolor": "white",
           "lakecolor": "white",
           "landcolor": "#E5ECF6",
           "showlakes": true,
           "showland": true,
           "subunitcolor": "white"
          },
          "hoverlabel": {
           "align": "left"
          },
          "hovermode": "closest",
          "mapbox": {
           "style": "light"
          },
          "paper_bgcolor": "white",
          "plot_bgcolor": "#E5ECF6",
          "polar": {
           "angularaxis": {
            "gridcolor": "white",
            "linecolor": "white",
            "ticks": ""
           },
           "bgcolor": "#E5ECF6",
           "radialaxis": {
            "gridcolor": "white",
            "linecolor": "white",
            "ticks": ""
           }
          },
          "scene": {
           "xaxis": {
            "backgroundcolor": "#E5ECF6",
            "gridcolor": "white",
            "gridwidth": 2,
            "linecolor": "white",
            "showbackground": true,
            "ticks": "",
            "zerolinecolor": "white"
           },
           "yaxis": {
            "backgroundcolor": "#E5ECF6",
            "gridcolor": "white",
            "gridwidth": 2,
            "linecolor": "white",
            "showbackground": true,
            "ticks": "",
            "zerolinecolor": "white"
           },
           "zaxis": {
            "backgroundcolor": "#E5ECF6",
            "gridcolor": "white",
            "gridwidth": 2,
            "linecolor": "white",
            "showbackground": true,
            "ticks": "",
            "zerolinecolor": "white"
           }
          },
          "shapedefaults": {
           "line": {
            "color": "#2a3f5f"
           }
          },
          "ternary": {
           "aaxis": {
            "gridcolor": "white",
            "linecolor": "white",
            "ticks": ""
           },
           "baxis": {
            "gridcolor": "white",
            "linecolor": "white",
            "ticks": ""
           },
           "bgcolor": "#E5ECF6",
           "caxis": {
            "gridcolor": "white",
            "linecolor": "white",
            "ticks": ""
           }
          },
          "title": {
           "x": 0.05
          },
          "xaxis": {
           "automargin": true,
           "gridcolor": "white",
           "linecolor": "white",
           "ticks": "",
           "title": {
            "standoff": 15
           },
           "zerolinecolor": "white",
           "zerolinewidth": 2
          },
          "yaxis": {
           "automargin": true,
           "gridcolor": "white",
           "linecolor": "white",
           "ticks": "",
           "title": {
            "standoff": 15
           },
           "zerolinecolor": "white",
           "zerolinewidth": 2
          }
         }
        },
        "title": {
         "text": "Contour Plot of different performance metrics on dessi-mf separated by Presidio analyzer approach"
        },
        "width": 1200,
        "xaxis": {
         "anchor": "y",
         "domain": [
          0,
          0.31
         ],
         "matches": "x13",
         "showticklabels": false
        },
        "xaxis10": {
         "anchor": "y10",
         "domain": [
          0,
          0.31
         ],
         "matches": "x13",
         "showticklabels": false
        },
        "xaxis11": {
         "anchor": "y11",
         "domain": [
          0.335,
          0.645
         ],
         "matches": "x14",
         "showticklabels": false
        },
        "xaxis12": {
         "anchor": "y12",
         "domain": [
          0.67,
          0.98
         ],
         "matches": "x15",
         "showticklabels": false
        },
        "xaxis13": {
         "anchor": "y13",
         "domain": [
          0,
          0.31
         ]
        },
        "xaxis14": {
         "anchor": "y14",
         "domain": [
          0.335,
          0.645
         ]
        },
        "xaxis15": {
         "anchor": "y15",
         "domain": [
          0.67,
          0.98
         ]
        },
        "xaxis2": {
         "anchor": "y2",
         "domain": [
          0.335,
          0.645
         ],
         "matches": "x14",
         "showticklabels": false
        },
        "xaxis3": {
         "anchor": "y3",
         "domain": [
          0.67,
          0.98
         ],
         "matches": "x15",
         "showticklabels": false
        },
        "xaxis4": {
         "anchor": "y4",
         "domain": [
          0,
          0.31
         ],
         "matches": "x13",
         "showticklabels": false
        },
        "xaxis5": {
         "anchor": "y5",
         "domain": [
          0.335,
          0.645
         ],
         "matches": "x14",
         "showticklabels": false
        },
        "xaxis6": {
         "anchor": "y6",
         "domain": [
          0.67,
          0.98
         ],
         "matches": "x15",
         "showticklabels": false
        },
        "xaxis7": {
         "anchor": "y7",
         "domain": [
          0,
          0.31
         ],
         "matches": "x13",
         "showticklabels": false
        },
        "xaxis8": {
         "anchor": "y8",
         "domain": [
          0.335,
          0.645
         ],
         "matches": "x14",
         "showticklabels": false
        },
        "xaxis9": {
         "anchor": "y9",
         "domain": [
          0.67,
          0.98
         ],
         "matches": "x15",
         "showticklabels": false
        },
        "yaxis": {
         "anchor": "x",
         "domain": [
          0.8400000000000001,
          1
         ]
        },
        "yaxis10": {
         "anchor": "x10",
         "domain": [
          0.21000000000000002,
          0.37
         ]
        },
        "yaxis11": {
         "anchor": "x11",
         "domain": [
          0.21000000000000002,
          0.37
         ],
         "matches": "y10",
         "showticklabels": false
        },
        "yaxis12": {
         "anchor": "x12",
         "domain": [
          0.21000000000000002,
          0.37
         ],
         "matches": "y10",
         "showticklabels": false
        },
        "yaxis13": {
         "anchor": "x13",
         "domain": [
          0,
          0.16
         ]
        },
        "yaxis14": {
         "anchor": "x14",
         "domain": [
          0,
          0.16
         ],
         "matches": "y13",
         "showticklabels": false
        },
        "yaxis15": {
         "anchor": "x15",
         "domain": [
          0,
          0.16
         ],
         "matches": "y13",
         "showticklabels": false
        },
        "yaxis2": {
         "anchor": "x2",
         "domain": [
          0.8400000000000001,
          1
         ],
         "matches": "y",
         "showticklabels": false
        },
        "yaxis3": {
         "anchor": "x3",
         "domain": [
          0.8400000000000001,
          1
         ],
         "matches": "y",
         "showticklabels": false
        },
        "yaxis4": {
         "anchor": "x4",
         "domain": [
          0.63,
          0.79
         ]
        },
        "yaxis5": {
         "anchor": "x5",
         "domain": [
          0.63,
          0.79
         ],
         "matches": "y4",
         "showticklabels": false
        },
        "yaxis6": {
         "anchor": "x6",
         "domain": [
          0.63,
          0.79
         ],
         "matches": "y4",
         "showticklabels": false
        },
        "yaxis7": {
         "anchor": "x7",
         "domain": [
          0.42000000000000004,
          0.5800000000000001
         ]
        },
        "yaxis8": {
         "anchor": "x8",
         "domain": [
          0.42000000000000004,
          0.5800000000000001
         ],
         "matches": "y7",
         "showticklabels": false
        },
        "yaxis9": {
         "anchor": "x9",
         "domain": [
          0.42000000000000004,
          0.5800000000000001
         ],
         "matches": "y7",
         "showticklabels": false
        }
       }
      }
     },
     "metadata": {},
     "output_type": "display_data"
    }
   ],
   "source": [
    "df = pd.concat([df_rowwise1.loc[df_rowwise1[\"dataset\"] == \"all\"], df_rowwise2.loc[df_rowwise2[\"dataset\"] == \"all\"], \n",
    "                df_columnwise.loc[df_columnwise[\"dataset\"] == \"all\"]]).reset_index(drop=True)\n",
    "\n",
    "z_values = []\n",
    "for s in [\"f1\", \"precision\", \"recall\", \"accuracy\", \"roc_auc\"]:\n",
    "    z_values.append(max(df[f'{s}']))\n",
    "    z_values.append(min(df[f'{s}']))\n",
    "\n",
    "zmin = min(z_values)\n",
    "zmax = max(z_values)\n",
    "\n",
    "fig = make_subplots(\n",
    "    rows=5, cols=3, row_titles=(\"F1-Score\", \"Precision\", \"Recall\", \"Accuracy\", \"ROC_AUC\"), column_titles=(\"Rowwise 1\", \"Rowwise 2\", \"Columnwise\"),\n",
    "    shared_xaxes=True, shared_yaxes=True, vertical_spacing=0.05, horizontal_spacing=0.025, x_title=\"Threshold score\", y_title=\"Threshold count\",\n",
    "    specs=[[{\"type\": \"contour\"}, {\"type\": \"contour\"}, {\"type\": \"contour\"}],\n",
    "           [{\"type\": \"contour\"}, {\"type\": \"contour\"}, {\"type\": \"contour\"}],\n",
    "           [{\"type\": \"contour\"}, {\"type\": \"contour\"}, {\"type\": \"contour\"}],\n",
    "           [{\"type\": \"contour\"}, {\"type\": \"contour\"}, {\"type\": \"contour\"}],\n",
    "           [{\"type\": \"contour\"}, {\"type\": \"contour\"}, {\"type\": \"contour\"}]]\n",
    ")\n",
    "\n",
    "for e, i in enumerate([110, 220, 330]):\n",
    "    for ee, s in enumerate([\"f1\", \"precision\", \"recall\", \"accuracy\", \"roc_auc\"]):\n",
    "        start_idx = e * 110\n",
    "        end_idx = start_idx + 110\n",
    "        df_subset = df.iloc[start_idx:end_idx]\n",
    "        Z = np.array(df_subset.pivot(index='threshold_count', columns='threshold_score', values=f'{s}'))\n",
    "        threshold_scores = sorted(df_subset['threshold_score'].unique())\n",
    "        threshold_counts = sorted(df_subset['threshold_count'].unique())\n",
    "\n",
    "        fig.add_trace(go.Contour(z=Z, x=threshold_scores, y=threshold_counts, colorscale=\"Viridis\", zmin=zmin, zmax=zmax,\n",
    "             colorbar=dict(title=\"F1 score\"), contours=dict(showlabels=True)), row=ee+1, col=e+1)\n",
    "\n",
    "        hover_text = [f\"x: {x}, y: {y}, z: {z}\" for x, y, z in zip(df_subset['threshold_score'],df_subset['threshold_count'],df_subset[f'{s}'])]\n",
    "\n",
    "        fig.add_trace(go.Scatter(\n",
    "            x=df_subset['threshold_score'], y=df_subset['threshold_count'], mode='markers', marker=dict(color='black', symbol='x'),\n",
    "            text=hover_text, hoverinfo=\"text\", showlegend=False), row=ee+1, col=e+1)\n",
    "\n",
    "        df_subset[f'{s}']\n",
    "        max_micro_f1_index = df_subset[f'{s}'].idxmax()  \n",
    "        max_micro_f1_row = df.loc[max_micro_f1_index]\n",
    "        max_threshold_score = max_micro_f1_row['threshold_score']\n",
    "        max_threshold_count = max_micro_f1_row['threshold_count']\n",
    "        max_micro_f1_score = max_micro_f1_row[f'{s}']\n",
    "        \n",
    "        hover_text = [f\"x: {x}, y: {y}, z: {z}\" for x, y, z in zip([max_threshold_score],[max_threshold_count],[max_micro_f1_score])]\n",
    "        fig.add_trace(go.Scatter(x=[max_threshold_score], y=[max_threshold_count], marker=dict(color='red', symbol='x'), showlegend=True if e == 0 and ee == 0 else False,\n",
    "                        mode=\"markers\", text=hover_text, hoverinfo=\"text\", name=\"best_score\", legendgroup=\"best\"), row=ee+1, col=e+1)\n",
    "\n",
    "fig.update_layout(\n",
    "    title=\"Contour Plot of different performance metrics on dessi-mf separated by Presidio analyzer approach\",\n",
    "    legend=dict(x=1,y=1.1),\n",
    "    height=700,\n",
    "    width=1200\n",
    ")\n",
    "\n",
    "fig.show()\n"
   ]
  },
  {
   "cell_type": "markdown",
   "metadata": {},
   "source": [
    " --> Rowwise 1 is worse Rowwise 2 and columnwise which perform equal  \n",
    " --> Best threshold depends on which metric is most important  "
   ]
  },
  {
   "cell_type": "markdown",
   "metadata": {},
   "source": [
    "# Presidio Evaluation Performance on dessi-mf between analyzer and structured"
   ]
  },
  {
   "cell_type": "code",
   "execution_count": 16,
   "metadata": {},
   "outputs": [],
   "source": [
    "def predict_analysis_results(data_test, tabular_analysis):\n",
    "    predictions = []\n",
    "    for i in data_test.columns:\n",
    "        if i in tabular_analysis.keys():\n",
    "            if tabular_analysis[i] not in PII_CLASSES:\n",
    "                predictions.append(\"non-pii\")\n",
    "            else:\n",
    "                predictions.append(\"pii\")\n",
    "        else:\n",
    "            predictions.append(\"non-pii\")\n",
    "    return predictions\n",
    "\n",
    "def compute_performance_structured(data_test, data_test_labels, tabular_analysis):\n",
    "    y_pred = predict_analysis_results(data_test, tabular_analysis)\n",
    "    y_pred = [1 if x == \"pii\" else 0 for x in y_pred ]\n",
    "    y_true = data_test_labels[\"label\"].map(lambda x: 1 if x == \"pii\" else 0)\n",
    "    precision = precision_score(y_true, y_pred, zero_division=0.0)\n",
    "    recall = recall_score(y_true, y_pred, zero_division=0.0)\n",
    "    f1 = f1_score(y_true, y_pred, zero_division=0.0)\n",
    "    accuracy = accuracy_score(y_true, y_pred)\n",
    "    roc_auc = roc_auc_score(y_true, y_pred)\n",
    "    return [precision, recall, f1, accuracy, roc_auc]"
   ]
  },
  {
   "cell_type": "code",
   "execution_count": 17,
   "metadata": {},
   "outputs": [
    {
     "data": {
      "application/vnd.plotly.v1+json": {
       "config": {
        "plotlyServerURL": "https://plot.ly"
       },
       "data": [
        {
         "legendgroup": "rowwise1",
         "marker": {
          "color": "#EF553B"
         },
         "name": "Presidio rowwise1<br> thresholds 0.1/50",
         "showlegend": true,
         "type": "bar",
         "x": [
          "precision",
          "recall",
          "f1",
          "accuracy",
          "roc_auc"
         ],
         "y": [
          0.7934392619169657,
          0.6736292428198434,
          0.7286420334196282,
          0.8435337223503867,
          0.7970788690928244
         ]
        },
        {
         "legendgroup": "rowwise2",
         "marker": {
          "color": "#00CC96"
         },
         "name": "Presidio rowwise2<br> thresholds 0.1/50",
         "showlegend": true,
         "type": "bar",
         "x": [
          "precision",
          "recall",
          "f1",
          "accuracy",
          "roc_auc"
         ],
         "y": [
          0.7934392619169657,
          0.6736292428198434,
          0.7286420334196282,
          0.8435337223503867,
          0.7970788690928244
         ]
        },
        {
         "legendgroup": "columnwise",
         "marker": {
          "color": "#AB63FA"
         },
         "name": "Presidio columnwise<br> thresholds 0.1/50",
         "showlegend": true,
         "type": "bar",
         "x": [
          "precision",
          "recall",
          "f1",
          "accuracy",
          "roc_auc"
         ],
         "y": [
          0.7934392619169657,
          0.6736292428198434,
          0.7286420334196282,
          0.8435337223503867,
          0.7970788690928244
         ]
        },
        {
         "legendgroup": "most_common",
         "marker": {
          "color": "#FFA15A"
         },
         "name": "structured Presidio<br> most_common",
         "showlegend": true,
         "type": "bar",
         "x": [
          "precision",
          "recall",
          "f1",
          "accuracy",
          "roc_auc"
         ],
         "y": [
          0.42855743805699736,
          0.9521322889469104,
          0.5910717903694198,
          0.5891572804993893,
          0.688400989671641
         ]
        },
        {
         "legendgroup": "highest_confidence",
         "marker": {
          "color": "#19D3F3"
         },
         "name": "structured Presidio<br> highest_confidence",
         "showlegend": true,
         "type": "bar",
         "x": [
          "precision",
          "recall",
          "f1",
          "accuracy",
          "roc_auc"
         ],
         "y": [
          0.41235428695936377,
          0.8235422106179286,
          0.549546279491833,
          0.5789795087528837,
          0.6458472244176214
         ]
        }
       ],
       "layout": {
        "barmode": "group",
        "template": {
         "data": {
          "bar": [
           {
            "error_x": {
             "color": "#2a3f5f"
            },
            "error_y": {
             "color": "#2a3f5f"
            },
            "marker": {
             "line": {
              "color": "#E5ECF6",
              "width": 0.5
             },
             "pattern": {
              "fillmode": "overlay",
              "size": 10,
              "solidity": 0.2
             }
            },
            "type": "bar"
           }
          ],
          "barpolar": [
           {
            "marker": {
             "line": {
              "color": "#E5ECF6",
              "width": 0.5
             },
             "pattern": {
              "fillmode": "overlay",
              "size": 10,
              "solidity": 0.2
             }
            },
            "type": "barpolar"
           }
          ],
          "carpet": [
           {
            "aaxis": {
             "endlinecolor": "#2a3f5f",
             "gridcolor": "white",
             "linecolor": "white",
             "minorgridcolor": "white",
             "startlinecolor": "#2a3f5f"
            },
            "baxis": {
             "endlinecolor": "#2a3f5f",
             "gridcolor": "white",
             "linecolor": "white",
             "minorgridcolor": "white",
             "startlinecolor": "#2a3f5f"
            },
            "type": "carpet"
           }
          ],
          "choropleth": [
           {
            "colorbar": {
             "outlinewidth": 0,
             "ticks": ""
            },
            "type": "choropleth"
           }
          ],
          "contour": [
           {
            "colorbar": {
             "outlinewidth": 0,
             "ticks": ""
            },
            "colorscale": [
             [
              0,
              "#0d0887"
             ],
             [
              0.1111111111111111,
              "#46039f"
             ],
             [
              0.2222222222222222,
              "#7201a8"
             ],
             [
              0.3333333333333333,
              "#9c179e"
             ],
             [
              0.4444444444444444,
              "#bd3786"
             ],
             [
              0.5555555555555556,
              "#d8576b"
             ],
             [
              0.6666666666666666,
              "#ed7953"
             ],
             [
              0.7777777777777778,
              "#fb9f3a"
             ],
             [
              0.8888888888888888,
              "#fdca26"
             ],
             [
              1,
              "#f0f921"
             ]
            ],
            "type": "contour"
           }
          ],
          "contourcarpet": [
           {
            "colorbar": {
             "outlinewidth": 0,
             "ticks": ""
            },
            "type": "contourcarpet"
           }
          ],
          "heatmap": [
           {
            "colorbar": {
             "outlinewidth": 0,
             "ticks": ""
            },
            "colorscale": [
             [
              0,
              "#0d0887"
             ],
             [
              0.1111111111111111,
              "#46039f"
             ],
             [
              0.2222222222222222,
              "#7201a8"
             ],
             [
              0.3333333333333333,
              "#9c179e"
             ],
             [
              0.4444444444444444,
              "#bd3786"
             ],
             [
              0.5555555555555556,
              "#d8576b"
             ],
             [
              0.6666666666666666,
              "#ed7953"
             ],
             [
              0.7777777777777778,
              "#fb9f3a"
             ],
             [
              0.8888888888888888,
              "#fdca26"
             ],
             [
              1,
              "#f0f921"
             ]
            ],
            "type": "heatmap"
           }
          ],
          "heatmapgl": [
           {
            "colorbar": {
             "outlinewidth": 0,
             "ticks": ""
            },
            "colorscale": [
             [
              0,
              "#0d0887"
             ],
             [
              0.1111111111111111,
              "#46039f"
             ],
             [
              0.2222222222222222,
              "#7201a8"
             ],
             [
              0.3333333333333333,
              "#9c179e"
             ],
             [
              0.4444444444444444,
              "#bd3786"
             ],
             [
              0.5555555555555556,
              "#d8576b"
             ],
             [
              0.6666666666666666,
              "#ed7953"
             ],
             [
              0.7777777777777778,
              "#fb9f3a"
             ],
             [
              0.8888888888888888,
              "#fdca26"
             ],
             [
              1,
              "#f0f921"
             ]
            ],
            "type": "heatmapgl"
           }
          ],
          "histogram": [
           {
            "marker": {
             "pattern": {
              "fillmode": "overlay",
              "size": 10,
              "solidity": 0.2
             }
            },
            "type": "histogram"
           }
          ],
          "histogram2d": [
           {
            "colorbar": {
             "outlinewidth": 0,
             "ticks": ""
            },
            "colorscale": [
             [
              0,
              "#0d0887"
             ],
             [
              0.1111111111111111,
              "#46039f"
             ],
             [
              0.2222222222222222,
              "#7201a8"
             ],
             [
              0.3333333333333333,
              "#9c179e"
             ],
             [
              0.4444444444444444,
              "#bd3786"
             ],
             [
              0.5555555555555556,
              "#d8576b"
             ],
             [
              0.6666666666666666,
              "#ed7953"
             ],
             [
              0.7777777777777778,
              "#fb9f3a"
             ],
             [
              0.8888888888888888,
              "#fdca26"
             ],
             [
              1,
              "#f0f921"
             ]
            ],
            "type": "histogram2d"
           }
          ],
          "histogram2dcontour": [
           {
            "colorbar": {
             "outlinewidth": 0,
             "ticks": ""
            },
            "colorscale": [
             [
              0,
              "#0d0887"
             ],
             [
              0.1111111111111111,
              "#46039f"
             ],
             [
              0.2222222222222222,
              "#7201a8"
             ],
             [
              0.3333333333333333,
              "#9c179e"
             ],
             [
              0.4444444444444444,
              "#bd3786"
             ],
             [
              0.5555555555555556,
              "#d8576b"
             ],
             [
              0.6666666666666666,
              "#ed7953"
             ],
             [
              0.7777777777777778,
              "#fb9f3a"
             ],
             [
              0.8888888888888888,
              "#fdca26"
             ],
             [
              1,
              "#f0f921"
             ]
            ],
            "type": "histogram2dcontour"
           }
          ],
          "mesh3d": [
           {
            "colorbar": {
             "outlinewidth": 0,
             "ticks": ""
            },
            "type": "mesh3d"
           }
          ],
          "parcoords": [
           {
            "line": {
             "colorbar": {
              "outlinewidth": 0,
              "ticks": ""
             }
            },
            "type": "parcoords"
           }
          ],
          "pie": [
           {
            "automargin": true,
            "type": "pie"
           }
          ],
          "scatter": [
           {
            "fillpattern": {
             "fillmode": "overlay",
             "size": 10,
             "solidity": 0.2
            },
            "type": "scatter"
           }
          ],
          "scatter3d": [
           {
            "line": {
             "colorbar": {
              "outlinewidth": 0,
              "ticks": ""
             }
            },
            "marker": {
             "colorbar": {
              "outlinewidth": 0,
              "ticks": ""
             }
            },
            "type": "scatter3d"
           }
          ],
          "scattercarpet": [
           {
            "marker": {
             "colorbar": {
              "outlinewidth": 0,
              "ticks": ""
             }
            },
            "type": "scattercarpet"
           }
          ],
          "scattergeo": [
           {
            "marker": {
             "colorbar": {
              "outlinewidth": 0,
              "ticks": ""
             }
            },
            "type": "scattergeo"
           }
          ],
          "scattergl": [
           {
            "marker": {
             "colorbar": {
              "outlinewidth": 0,
              "ticks": ""
             }
            },
            "type": "scattergl"
           }
          ],
          "scattermapbox": [
           {
            "marker": {
             "colorbar": {
              "outlinewidth": 0,
              "ticks": ""
             }
            },
            "type": "scattermapbox"
           }
          ],
          "scatterpolar": [
           {
            "marker": {
             "colorbar": {
              "outlinewidth": 0,
              "ticks": ""
             }
            },
            "type": "scatterpolar"
           }
          ],
          "scatterpolargl": [
           {
            "marker": {
             "colorbar": {
              "outlinewidth": 0,
              "ticks": ""
             }
            },
            "type": "scatterpolargl"
           }
          ],
          "scatterternary": [
           {
            "marker": {
             "colorbar": {
              "outlinewidth": 0,
              "ticks": ""
             }
            },
            "type": "scatterternary"
           }
          ],
          "surface": [
           {
            "colorbar": {
             "outlinewidth": 0,
             "ticks": ""
            },
            "colorscale": [
             [
              0,
              "#0d0887"
             ],
             [
              0.1111111111111111,
              "#46039f"
             ],
             [
              0.2222222222222222,
              "#7201a8"
             ],
             [
              0.3333333333333333,
              "#9c179e"
             ],
             [
              0.4444444444444444,
              "#bd3786"
             ],
             [
              0.5555555555555556,
              "#d8576b"
             ],
             [
              0.6666666666666666,
              "#ed7953"
             ],
             [
              0.7777777777777778,
              "#fb9f3a"
             ],
             [
              0.8888888888888888,
              "#fdca26"
             ],
             [
              1,
              "#f0f921"
             ]
            ],
            "type": "surface"
           }
          ],
          "table": [
           {
            "cells": {
             "fill": {
              "color": "#EBF0F8"
             },
             "line": {
              "color": "white"
             }
            },
            "header": {
             "fill": {
              "color": "#C8D4E3"
             },
             "line": {
              "color": "white"
             }
            },
            "type": "table"
           }
          ]
         },
         "layout": {
          "annotationdefaults": {
           "arrowcolor": "#2a3f5f",
           "arrowhead": 0,
           "arrowwidth": 1
          },
          "autotypenumbers": "strict",
          "coloraxis": {
           "colorbar": {
            "outlinewidth": 0,
            "ticks": ""
           }
          },
          "colorscale": {
           "diverging": [
            [
             0,
             "#8e0152"
            ],
            [
             0.1,
             "#c51b7d"
            ],
            [
             0.2,
             "#de77ae"
            ],
            [
             0.3,
             "#f1b6da"
            ],
            [
             0.4,
             "#fde0ef"
            ],
            [
             0.5,
             "#f7f7f7"
            ],
            [
             0.6,
             "#e6f5d0"
            ],
            [
             0.7,
             "#b8e186"
            ],
            [
             0.8,
             "#7fbc41"
            ],
            [
             0.9,
             "#4d9221"
            ],
            [
             1,
             "#276419"
            ]
           ],
           "sequential": [
            [
             0,
             "#0d0887"
            ],
            [
             0.1111111111111111,
             "#46039f"
            ],
            [
             0.2222222222222222,
             "#7201a8"
            ],
            [
             0.3333333333333333,
             "#9c179e"
            ],
            [
             0.4444444444444444,
             "#bd3786"
            ],
            [
             0.5555555555555556,
             "#d8576b"
            ],
            [
             0.6666666666666666,
             "#ed7953"
            ],
            [
             0.7777777777777778,
             "#fb9f3a"
            ],
            [
             0.8888888888888888,
             "#fdca26"
            ],
            [
             1,
             "#f0f921"
            ]
           ],
           "sequentialminus": [
            [
             0,
             "#0d0887"
            ],
            [
             0.1111111111111111,
             "#46039f"
            ],
            [
             0.2222222222222222,
             "#7201a8"
            ],
            [
             0.3333333333333333,
             "#9c179e"
            ],
            [
             0.4444444444444444,
             "#bd3786"
            ],
            [
             0.5555555555555556,
             "#d8576b"
            ],
            [
             0.6666666666666666,
             "#ed7953"
            ],
            [
             0.7777777777777778,
             "#fb9f3a"
            ],
            [
             0.8888888888888888,
             "#fdca26"
            ],
            [
             1,
             "#f0f921"
            ]
           ]
          },
          "colorway": [
           "#636efa",
           "#EF553B",
           "#00cc96",
           "#ab63fa",
           "#FFA15A",
           "#19d3f3",
           "#FF6692",
           "#B6E880",
           "#FF97FF",
           "#FECB52"
          ],
          "font": {
           "color": "#2a3f5f"
          },
          "geo": {
           "bgcolor": "white",
           "lakecolor": "white",
           "landcolor": "#E5ECF6",
           "showlakes": true,
           "showland": true,
           "subunitcolor": "white"
          },
          "hoverlabel": {
           "align": "left"
          },
          "hovermode": "closest",
          "mapbox": {
           "style": "light"
          },
          "paper_bgcolor": "white",
          "plot_bgcolor": "#E5ECF6",
          "polar": {
           "angularaxis": {
            "gridcolor": "white",
            "linecolor": "white",
            "ticks": ""
           },
           "bgcolor": "#E5ECF6",
           "radialaxis": {
            "gridcolor": "white",
            "linecolor": "white",
            "ticks": ""
           }
          },
          "scene": {
           "xaxis": {
            "backgroundcolor": "#E5ECF6",
            "gridcolor": "white",
            "gridwidth": 2,
            "linecolor": "white",
            "showbackground": true,
            "ticks": "",
            "zerolinecolor": "white"
           },
           "yaxis": {
            "backgroundcolor": "#E5ECF6",
            "gridcolor": "white",
            "gridwidth": 2,
            "linecolor": "white",
            "showbackground": true,
            "ticks": "",
            "zerolinecolor": "white"
           },
           "zaxis": {
            "backgroundcolor": "#E5ECF6",
            "gridcolor": "white",
            "gridwidth": 2,
            "linecolor": "white",
            "showbackground": true,
            "ticks": "",
            "zerolinecolor": "white"
           }
          },
          "shapedefaults": {
           "line": {
            "color": "#2a3f5f"
           }
          },
          "ternary": {
           "aaxis": {
            "gridcolor": "white",
            "linecolor": "white",
            "ticks": ""
           },
           "baxis": {
            "gridcolor": "white",
            "linecolor": "white",
            "ticks": ""
           },
           "bgcolor": "#E5ECF6",
           "caxis": {
            "gridcolor": "white",
            "linecolor": "white",
            "ticks": ""
           }
          },
          "title": {
           "x": 0.05
          },
          "xaxis": {
           "automargin": true,
           "gridcolor": "white",
           "linecolor": "white",
           "ticks": "",
           "title": {
            "standoff": 15
           },
           "zerolinecolor": "white",
           "zerolinewidth": 2
          },
          "yaxis": {
           "automargin": true,
           "gridcolor": "white",
           "linecolor": "white",
           "ticks": "",
           "title": {
            "standoff": 15
           },
           "zerolinecolor": "white",
           "zerolinewidth": 2
          }
         }
        },
        "title": {
         "text": "Performance Metrics Comparison all Presidio approaches"
        },
        "width": 1200,
        "xaxis": {
         "title": {
          "text": "Metrics"
         }
        },
        "yaxis": {
         "title": {
          "text": "Score"
         }
        }
       }
      }
     },
     "metadata": {},
     "output_type": "display_data"
    }
   ],
   "source": [
    "fig = go.Figure()\n",
    "colors = [\"#636EFA\", \"#EF553B\", \"#00CC96\", \"#AB63FA\", \"#FFA15A\", \"#19D3F3\"]\n",
    "for ee, (analyzer, analyzer_name) in enumerate(zip([df_rowwise1, df_rowwise2, df_columnwise], [\"rowwise1\", \"rowwise2\", \"columnwise\"])):\n",
    "    df_presidio = analyzer.loc[(analyzer[\"threshold_score\"] == \"0.9\") & (analyzer[\"threshold_count\"] == \"0\")]\n",
    "    df_presidio = df_presidio.iloc[:,[4,5,3,6,7]]\n",
    "    fig.add_trace(go.Bar(x=df_presidio.columns, y=df_presidio.values[0], name=f\"Presidio {analyzer_name}<br> thresholds 0.1/50\", legendgroup=analyzer_name, \n",
    "                            showlegend=True, marker=dict(color=colors[ee+1])))\n",
    "\n",
    "for eee, strategy in enumerate([\"most_common\", \"highest_confidence\"]):\n",
    "    with open(f\"../predictions/binary_results/dessi-mf/{strategy}.json\", \"rb\") as file:\n",
    "        tabular_analysis = json.load(file)\n",
    "    performance = compute_performance_structured(own_data, own_data_labels, tabular_analysis)\n",
    "    fig.add_trace(go.Bar(x=df_presidio.columns, y=performance, name=f\"structured Presidio<br> {strategy}\", legendgroup=strategy, showlegend=True, \n",
    "                    marker=dict(color=colors[4+eee])))\n",
    "fig.update_layout(title=\"Performance Metrics Comparison all Presidio approaches\", barmode='group', width=1200)\n",
    "fig.update_xaxes(title_text=\"Metrics\")\n",
    "fig.update_yaxes(title_text=\"Score\")\n",
    "fig.show()"
   ]
  },
  {
   "cell_type": "code",
   "execution_count": 18,
   "metadata": {},
   "outputs": [
    {
     "name": "stdout",
     "output_type": "stream",
     "text": [
      "Threshold score: 0.9\n",
      "Threshold count: 0\n"
     ]
    },
    {
     "data": {
      "application/vnd.plotly.v1+json": {
       "config": {
        "plotlyServerURL": "https://plot.ly"
       },
       "data": [
        {
         "showlegend": false,
         "type": "bar",
         "x": [
          "weighted Precision",
          "weighted Recall",
          "weighted F1 Score",
          "Accuracy",
          "AUC-ROC"
         ],
         "xaxis": "x",
         "y": [
          0.8403253838914726,
          0.8435337223503867,
          0.8397328437100042,
          0.8435337223503867,
          0.7970788690928244
         ],
         "yaxis": "y"
        },
        {
         "colorscale": [
          [
           0,
           "rgb(247,251,255)"
          ],
          [
           0.125,
           "rgb(222,235,247)"
          ],
          [
           0.25,
           "rgb(198,219,239)"
          ],
          [
           0.375,
           "rgb(158,202,225)"
          ],
          [
           0.5,
           "rgb(107,174,214)"
          ],
          [
           0.625,
           "rgb(66,146,198)"
          ],
          [
           0.75,
           "rgb(33,113,181)"
          ],
          [
           0.875,
           "rgb(8,81,156)"
          ],
          [
           1,
           "rgb(8,48,107)"
          ]
         ],
         "showscale": false,
         "text": [
          [
           "3096<br>0.67",
           "1500<br>0.33"
          ],
          [
           "806<br>0.08",
           "9336<br>0.92"
          ]
         ],
         "textfont": {
          "size": 20
         },
         "texttemplate": "%{text}",
         "type": "heatmap",
         "x": [
          "Pred: pii",
          "Pred: non-pii"
         ],
         "xaxis": "x2",
         "y": [
          "True: pii",
          "True: non-pii"
         ],
         "yaxis": "y2",
         "z": [
          [
           3096,
           1500
          ],
          [
           806,
           9336
          ]
         ]
        }
       ],
       "layout": {
        "annotations": [
         {
          "font": {
           "size": 16
          },
          "showarrow": false,
          "text": "Evaluation Metrics",
          "x": 0.225,
          "xanchor": "center",
          "xref": "paper",
          "y": 1,
          "yanchor": "bottom",
          "yref": "paper"
         },
         {
          "font": {
           "size": 16
          },
          "showarrow": false,
          "text": "Confusion Matrix",
          "x": 0.775,
          "xanchor": "center",
          "xref": "paper",
          "y": 1,
          "yanchor": "bottom",
          "yref": "paper"
         }
        ],
        "height": 500,
        "showlegend": false,
        "template": {
         "data": {
          "bar": [
           {
            "error_x": {
             "color": "#2a3f5f"
            },
            "error_y": {
             "color": "#2a3f5f"
            },
            "marker": {
             "line": {
              "color": "#E5ECF6",
              "width": 0.5
             },
             "pattern": {
              "fillmode": "overlay",
              "size": 10,
              "solidity": 0.2
             }
            },
            "type": "bar"
           }
          ],
          "barpolar": [
           {
            "marker": {
             "line": {
              "color": "#E5ECF6",
              "width": 0.5
             },
             "pattern": {
              "fillmode": "overlay",
              "size": 10,
              "solidity": 0.2
             }
            },
            "type": "barpolar"
           }
          ],
          "carpet": [
           {
            "aaxis": {
             "endlinecolor": "#2a3f5f",
             "gridcolor": "white",
             "linecolor": "white",
             "minorgridcolor": "white",
             "startlinecolor": "#2a3f5f"
            },
            "baxis": {
             "endlinecolor": "#2a3f5f",
             "gridcolor": "white",
             "linecolor": "white",
             "minorgridcolor": "white",
             "startlinecolor": "#2a3f5f"
            },
            "type": "carpet"
           }
          ],
          "choropleth": [
           {
            "colorbar": {
             "outlinewidth": 0,
             "ticks": ""
            },
            "type": "choropleth"
           }
          ],
          "contour": [
           {
            "colorbar": {
             "outlinewidth": 0,
             "ticks": ""
            },
            "colorscale": [
             [
              0,
              "#0d0887"
             ],
             [
              0.1111111111111111,
              "#46039f"
             ],
             [
              0.2222222222222222,
              "#7201a8"
             ],
             [
              0.3333333333333333,
              "#9c179e"
             ],
             [
              0.4444444444444444,
              "#bd3786"
             ],
             [
              0.5555555555555556,
              "#d8576b"
             ],
             [
              0.6666666666666666,
              "#ed7953"
             ],
             [
              0.7777777777777778,
              "#fb9f3a"
             ],
             [
              0.8888888888888888,
              "#fdca26"
             ],
             [
              1,
              "#f0f921"
             ]
            ],
            "type": "contour"
           }
          ],
          "contourcarpet": [
           {
            "colorbar": {
             "outlinewidth": 0,
             "ticks": ""
            },
            "type": "contourcarpet"
           }
          ],
          "heatmap": [
           {
            "colorbar": {
             "outlinewidth": 0,
             "ticks": ""
            },
            "colorscale": [
             [
              0,
              "#0d0887"
             ],
             [
              0.1111111111111111,
              "#46039f"
             ],
             [
              0.2222222222222222,
              "#7201a8"
             ],
             [
              0.3333333333333333,
              "#9c179e"
             ],
             [
              0.4444444444444444,
              "#bd3786"
             ],
             [
              0.5555555555555556,
              "#d8576b"
             ],
             [
              0.6666666666666666,
              "#ed7953"
             ],
             [
              0.7777777777777778,
              "#fb9f3a"
             ],
             [
              0.8888888888888888,
              "#fdca26"
             ],
             [
              1,
              "#f0f921"
             ]
            ],
            "type": "heatmap"
           }
          ],
          "heatmapgl": [
           {
            "colorbar": {
             "outlinewidth": 0,
             "ticks": ""
            },
            "colorscale": [
             [
              0,
              "#0d0887"
             ],
             [
              0.1111111111111111,
              "#46039f"
             ],
             [
              0.2222222222222222,
              "#7201a8"
             ],
             [
              0.3333333333333333,
              "#9c179e"
             ],
             [
              0.4444444444444444,
              "#bd3786"
             ],
             [
              0.5555555555555556,
              "#d8576b"
             ],
             [
              0.6666666666666666,
              "#ed7953"
             ],
             [
              0.7777777777777778,
              "#fb9f3a"
             ],
             [
              0.8888888888888888,
              "#fdca26"
             ],
             [
              1,
              "#f0f921"
             ]
            ],
            "type": "heatmapgl"
           }
          ],
          "histogram": [
           {
            "marker": {
             "pattern": {
              "fillmode": "overlay",
              "size": 10,
              "solidity": 0.2
             }
            },
            "type": "histogram"
           }
          ],
          "histogram2d": [
           {
            "colorbar": {
             "outlinewidth": 0,
             "ticks": ""
            },
            "colorscale": [
             [
              0,
              "#0d0887"
             ],
             [
              0.1111111111111111,
              "#46039f"
             ],
             [
              0.2222222222222222,
              "#7201a8"
             ],
             [
              0.3333333333333333,
              "#9c179e"
             ],
             [
              0.4444444444444444,
              "#bd3786"
             ],
             [
              0.5555555555555556,
              "#d8576b"
             ],
             [
              0.6666666666666666,
              "#ed7953"
             ],
             [
              0.7777777777777778,
              "#fb9f3a"
             ],
             [
              0.8888888888888888,
              "#fdca26"
             ],
             [
              1,
              "#f0f921"
             ]
            ],
            "type": "histogram2d"
           }
          ],
          "histogram2dcontour": [
           {
            "colorbar": {
             "outlinewidth": 0,
             "ticks": ""
            },
            "colorscale": [
             [
              0,
              "#0d0887"
             ],
             [
              0.1111111111111111,
              "#46039f"
             ],
             [
              0.2222222222222222,
              "#7201a8"
             ],
             [
              0.3333333333333333,
              "#9c179e"
             ],
             [
              0.4444444444444444,
              "#bd3786"
             ],
             [
              0.5555555555555556,
              "#d8576b"
             ],
             [
              0.6666666666666666,
              "#ed7953"
             ],
             [
              0.7777777777777778,
              "#fb9f3a"
             ],
             [
              0.8888888888888888,
              "#fdca26"
             ],
             [
              1,
              "#f0f921"
             ]
            ],
            "type": "histogram2dcontour"
           }
          ],
          "mesh3d": [
           {
            "colorbar": {
             "outlinewidth": 0,
             "ticks": ""
            },
            "type": "mesh3d"
           }
          ],
          "parcoords": [
           {
            "line": {
             "colorbar": {
              "outlinewidth": 0,
              "ticks": ""
             }
            },
            "type": "parcoords"
           }
          ],
          "pie": [
           {
            "automargin": true,
            "type": "pie"
           }
          ],
          "scatter": [
           {
            "fillpattern": {
             "fillmode": "overlay",
             "size": 10,
             "solidity": 0.2
            },
            "type": "scatter"
           }
          ],
          "scatter3d": [
           {
            "line": {
             "colorbar": {
              "outlinewidth": 0,
              "ticks": ""
             }
            },
            "marker": {
             "colorbar": {
              "outlinewidth": 0,
              "ticks": ""
             }
            },
            "type": "scatter3d"
           }
          ],
          "scattercarpet": [
           {
            "marker": {
             "colorbar": {
              "outlinewidth": 0,
              "ticks": ""
             }
            },
            "type": "scattercarpet"
           }
          ],
          "scattergeo": [
           {
            "marker": {
             "colorbar": {
              "outlinewidth": 0,
              "ticks": ""
             }
            },
            "type": "scattergeo"
           }
          ],
          "scattergl": [
           {
            "marker": {
             "colorbar": {
              "outlinewidth": 0,
              "ticks": ""
             }
            },
            "type": "scattergl"
           }
          ],
          "scattermapbox": [
           {
            "marker": {
             "colorbar": {
              "outlinewidth": 0,
              "ticks": ""
             }
            },
            "type": "scattermapbox"
           }
          ],
          "scatterpolar": [
           {
            "marker": {
             "colorbar": {
              "outlinewidth": 0,
              "ticks": ""
             }
            },
            "type": "scatterpolar"
           }
          ],
          "scatterpolargl": [
           {
            "marker": {
             "colorbar": {
              "outlinewidth": 0,
              "ticks": ""
             }
            },
            "type": "scatterpolargl"
           }
          ],
          "scatterternary": [
           {
            "marker": {
             "colorbar": {
              "outlinewidth": 0,
              "ticks": ""
             }
            },
            "type": "scatterternary"
           }
          ],
          "surface": [
           {
            "colorbar": {
             "outlinewidth": 0,
             "ticks": ""
            },
            "colorscale": [
             [
              0,
              "#0d0887"
             ],
             [
              0.1111111111111111,
              "#46039f"
             ],
             [
              0.2222222222222222,
              "#7201a8"
             ],
             [
              0.3333333333333333,
              "#9c179e"
             ],
             [
              0.4444444444444444,
              "#bd3786"
             ],
             [
              0.5555555555555556,
              "#d8576b"
             ],
             [
              0.6666666666666666,
              "#ed7953"
             ],
             [
              0.7777777777777778,
              "#fb9f3a"
             ],
             [
              0.8888888888888888,
              "#fdca26"
             ],
             [
              1,
              "#f0f921"
             ]
            ],
            "type": "surface"
           }
          ],
          "table": [
           {
            "cells": {
             "fill": {
              "color": "#EBF0F8"
             },
             "line": {
              "color": "white"
             }
            },
            "header": {
             "fill": {
              "color": "#C8D4E3"
             },
             "line": {
              "color": "white"
             }
            },
            "type": "table"
           }
          ]
         },
         "layout": {
          "annotationdefaults": {
           "arrowcolor": "#2a3f5f",
           "arrowhead": 0,
           "arrowwidth": 1
          },
          "autotypenumbers": "strict",
          "coloraxis": {
           "colorbar": {
            "outlinewidth": 0,
            "ticks": ""
           }
          },
          "colorscale": {
           "diverging": [
            [
             0,
             "#8e0152"
            ],
            [
             0.1,
             "#c51b7d"
            ],
            [
             0.2,
             "#de77ae"
            ],
            [
             0.3,
             "#f1b6da"
            ],
            [
             0.4,
             "#fde0ef"
            ],
            [
             0.5,
             "#f7f7f7"
            ],
            [
             0.6,
             "#e6f5d0"
            ],
            [
             0.7,
             "#b8e186"
            ],
            [
             0.8,
             "#7fbc41"
            ],
            [
             0.9,
             "#4d9221"
            ],
            [
             1,
             "#276419"
            ]
           ],
           "sequential": [
            [
             0,
             "#0d0887"
            ],
            [
             0.1111111111111111,
             "#46039f"
            ],
            [
             0.2222222222222222,
             "#7201a8"
            ],
            [
             0.3333333333333333,
             "#9c179e"
            ],
            [
             0.4444444444444444,
             "#bd3786"
            ],
            [
             0.5555555555555556,
             "#d8576b"
            ],
            [
             0.6666666666666666,
             "#ed7953"
            ],
            [
             0.7777777777777778,
             "#fb9f3a"
            ],
            [
             0.8888888888888888,
             "#fdca26"
            ],
            [
             1,
             "#f0f921"
            ]
           ],
           "sequentialminus": [
            [
             0,
             "#0d0887"
            ],
            [
             0.1111111111111111,
             "#46039f"
            ],
            [
             0.2222222222222222,
             "#7201a8"
            ],
            [
             0.3333333333333333,
             "#9c179e"
            ],
            [
             0.4444444444444444,
             "#bd3786"
            ],
            [
             0.5555555555555556,
             "#d8576b"
            ],
            [
             0.6666666666666666,
             "#ed7953"
            ],
            [
             0.7777777777777778,
             "#fb9f3a"
            ],
            [
             0.8888888888888888,
             "#fdca26"
            ],
            [
             1,
             "#f0f921"
            ]
           ]
          },
          "colorway": [
           "#636efa",
           "#EF553B",
           "#00cc96",
           "#ab63fa",
           "#FFA15A",
           "#19d3f3",
           "#FF6692",
           "#B6E880",
           "#FF97FF",
           "#FECB52"
          ],
          "font": {
           "color": "#2a3f5f"
          },
          "geo": {
           "bgcolor": "white",
           "lakecolor": "white",
           "landcolor": "#E5ECF6",
           "showlakes": true,
           "showland": true,
           "subunitcolor": "white"
          },
          "hoverlabel": {
           "align": "left"
          },
          "hovermode": "closest",
          "mapbox": {
           "style": "light"
          },
          "paper_bgcolor": "white",
          "plot_bgcolor": "#E5ECF6",
          "polar": {
           "angularaxis": {
            "gridcolor": "white",
            "linecolor": "white",
            "ticks": ""
           },
           "bgcolor": "#E5ECF6",
           "radialaxis": {
            "gridcolor": "white",
            "linecolor": "white",
            "ticks": ""
           }
          },
          "scene": {
           "xaxis": {
            "backgroundcolor": "#E5ECF6",
            "gridcolor": "white",
            "gridwidth": 2,
            "linecolor": "white",
            "showbackground": true,
            "ticks": "",
            "zerolinecolor": "white"
           },
           "yaxis": {
            "backgroundcolor": "#E5ECF6",
            "gridcolor": "white",
            "gridwidth": 2,
            "linecolor": "white",
            "showbackground": true,
            "ticks": "",
            "zerolinecolor": "white"
           },
           "zaxis": {
            "backgroundcolor": "#E5ECF6",
            "gridcolor": "white",
            "gridwidth": 2,
            "linecolor": "white",
            "showbackground": true,
            "ticks": "",
            "zerolinecolor": "white"
           }
          },
          "shapedefaults": {
           "line": {
            "color": "#2a3f5f"
           }
          },
          "ternary": {
           "aaxis": {
            "gridcolor": "white",
            "linecolor": "white",
            "ticks": ""
           },
           "baxis": {
            "gridcolor": "white",
            "linecolor": "white",
            "ticks": ""
           },
           "bgcolor": "#E5ECF6",
           "caxis": {
            "gridcolor": "white",
            "linecolor": "white",
            "ticks": ""
           }
          },
          "title": {
           "x": 0.05
          },
          "xaxis": {
           "automargin": true,
           "gridcolor": "white",
           "linecolor": "white",
           "ticks": "",
           "title": {
            "standoff": 15
           },
           "zerolinecolor": "white",
           "zerolinewidth": 2
          },
          "yaxis": {
           "automargin": true,
           "gridcolor": "white",
           "linecolor": "white",
           "ticks": "",
           "title": {
            "standoff": 15
           },
           "zerolinecolor": "white",
           "zerolinewidth": 2
          }
         }
        },
        "title": {
         "text": "Confusion Matrix and Evaluation Metrics"
        },
        "width": 1000,
        "xaxis": {
         "anchor": "y",
         "domain": [
          0,
          0.45
         ]
        },
        "xaxis2": {
         "anchor": "y2",
         "domain": [
          0.55,
          1
         ]
        },
        "yaxis": {
         "anchor": "x",
         "domain": [
          0,
          1
         ]
        },
        "yaxis2": {
         "anchor": "x2",
         "domain": [
          0,
          1
         ]
        }
       }
      }
     },
     "metadata": {},
     "output_type": "display_data"
    }
   ],
   "source": [
    "def plot_presidio_results(data_pii, results_pii):\n",
    "    y_true = data_pii[\"label\"].values\n",
    "    y_pred = results_pii.loc[results_pii.shape[0]-1].values\n",
    "    y_true_bin = [1 if label == \"pii\" else 0 for label in y_true]\n",
    "    y_pred_bin = [1 if label == \"pii\" else 0 for label in y_pred]\n",
    "\n",
    "    cm = confusion_matrix(y_true, y_pred, labels=[\"pii\", \"non-pii\"])\n",
    "    cm_norm = confusion_matrix(y_true, y_pred, labels=[\"pii\", \"non-pii\"], normalize=\"true\")\n",
    "\n",
    "    accuracy = accuracy_score(y_true, y_pred)\n",
    "    f1 = f1_score(y_true, y_pred, average=\"weighted\")\n",
    "    precision = precision_score(y_true, y_pred, average=\"weighted\")\n",
    "    recall = recall_score(y_true, y_pred, average=\"weighted\")\n",
    "    auc_roc = roc_auc_score(y_true_bin, y_pred_bin)\n",
    "\n",
    "    fig = make_subplots(\n",
    "        rows=1, cols=2, \n",
    "        subplot_titles=[\"Evaluation Metrics\", \"Confusion Matrix\"]\n",
    "    )\n",
    "\n",
    "    metrics = {\n",
    "        \"weighted Precision\": precision,\n",
    "        \"weighted Recall\": recall,\n",
    "        \"weighted F1 Score\": f1,\n",
    "        \"Accuracy\": accuracy,\n",
    "        \"AUC-ROC\": auc_roc\n",
    "    }\n",
    "\n",
    "    fig.add_trace(go.Bar(\n",
    "        x=list(metrics.keys()),\n",
    "        y=list(metrics.values()), \n",
    "        showlegend=False\n",
    "    ), row=1, col=1)\n",
    "\n",
    "    text_values = [\n",
    "        [f\"{cm[0,0]}<br>{cm_norm[0,0]:.2f}\", f\"{cm[0,1]}<br>{cm_norm[0,1]:.2f}\"],\n",
    "        [f\"{cm[1,0]}<br>{cm_norm[1,0]:.2f}\", f\"{cm[1,1]}<br>{cm_norm[1,1]:.2f}\"]\n",
    "    ]\n",
    "    cm_heatmap = go.Heatmap(\n",
    "        z=cm, \n",
    "        x=[\"Pred: pii\", \"Pred: non-pii\"], \n",
    "        y=[\"True: pii\", \"True: non-pii\"], \n",
    "        colorscale=\"Blues\", \n",
    "        showscale=False,\n",
    "        text=text_values, \n",
    "        texttemplate=\"%{text}\",\n",
    "        textfont={\"size\":20},\n",
    "    )\n",
    "\n",
    "\n",
    "    fig.add_trace(cm_heatmap, row=1, col=2)\n",
    "\n",
    "    # Layout-Einstellungen\n",
    "    fig.update_layout(\n",
    "        title=\"Confusion Matrix and Evaluation Metrics\",\n",
    "        height=500, \n",
    "        width=1000,\n",
    "        showlegend=False\n",
    "    )\n",
    "\n",
    "    # Anzeigen des Plots\n",
    "    fig.show()\n",
    "results_columnwise = build_dataframe_binary(results_columnwise_all_binary, 0.9, 0)\n",
    "plot_presidio_results(own_data_labels, results_columnwise)"
   ]
  },
  {
   "cell_type": "code",
   "execution_count": 19,
   "metadata": {},
   "outputs": [],
   "source": [
    "results_df_own_data = pd.DataFrame({\n",
    "    \"Column\": own_data.columns,\n",
    "    \"Prediction\": results_columnwise.loc[results_columnwise.shape[0]-1].values,\n",
    "    \"True Label\": own_data_labels[\"label\"].values,\n",
    "    \"Classes\": own_data_classes[\"class\"],\n",
    "    \"Dataset\": own_data_datasets[\"dataset\"]\n",
    "})"
   ]
  },
  {
   "cell_type": "code",
   "execution_count": 20,
   "metadata": {},
   "outputs": [],
   "source": [
    "CLASS_NAMES = results_df_own_data[\"Classes\"].unique()\n",
    "CLASS_NAMES = [a.lower().split(\"_\")[0] for a in CLASS_NAMES]\n",
    "\n",
    "def is_valid_word(word):\n",
    "    return word.lower().split(\"_\")[0] in CLASS_NAMES\n",
    "\n",
    "def create_analysis_plot(results_df, dataset=\"own_data\"):\n",
    "    cla_new, lan = [], []\n",
    "    for i in range(len(results_df[\"Classes\"])):\n",
    "        if \"mixed\" in results_df.iloc[i, 3] or \"de_DE\" in results_df.iloc[i, 3] or \"fr_FR\" in results_df.iloc[i, 3]:\n",
    "            cla_new.append(results_df.iloc[i, 3][:-6])\n",
    "        elif \"_en\" in results_df.iloc[i, 3] or \"_de\" in results_df.iloc[i, 3] or \"_fr\" in results_df.iloc[i, 3] or \"_it\" in results_df.iloc[i,3\n",
    "                                                                        ] or \"_zh\" in results_df.iloc[i,3]:\n",
    "            cla_new.append(results_df.iloc[i, 3][:-3])\n",
    "        else:\n",
    "            cla_new.append(results_df.iloc[i, 3])\n",
    "            \n",
    "        if \"mixed\" in results_df.iloc[i, 3]:\n",
    "            lan.append(\"mixed language\")\n",
    "        elif \"_fr\" == results_df.iloc[i,3][-3:].lower():\n",
    "            lan.append(\"french\")\n",
    "        elif \"_it\" == results_df.iloc[i,3][-3:].lower():\n",
    "            lan.append(\"italian\")\n",
    "        elif \"_zh\" == results_df.iloc[i,3][-3:].lower():\n",
    "            lan.append(\"chinese\")\n",
    "        elif \"_de\" == results_df.iloc[i,3][-3:].lower():\n",
    "            lan.append(\"german\")\n",
    "        elif \"_en\" == results_df.iloc[i,3][-3:].lower():\n",
    "            lan.append(\"english\")\n",
    "        else:\n",
    "            lan.append(\"dessi data\")\n",
    "    results_df[\"Classes_new\"] = cla_new\n",
    "    results_df[\"Language\"] = lan\n",
    "    \n",
    "\n",
    "    accuracies_lan = {}\n",
    "    for i in results_df[\"Language\"].unique():\n",
    "        lan_df = results_df.loc[results_df[\"Language\"] == i]\n",
    "        accuracies_lan[i] = accuracy_score(lan_df[\"True Label\"], lan_df[\"Prediction\"])\n",
    "    accuracies_cla = {}\n",
    "    for i in results_df[\"Classes_new\"].unique():\n",
    "        cla_df = results_df.loc[results_df[\"Classes_new\"] == i]\n",
    "        accuracies_cla[i] = accuracy_score(cla_df[\"True Label\"], cla_df[\"Prediction\"])\n",
    "    accuracies_dat = {}\n",
    "    for i in results_df[\"Dataset\"].unique():\n",
    "        dat_df = results_df.loc[results_df[\"Dataset\"] == i]\n",
    "        accuracies_dat[i] = accuracy_score(dat_df[\"True Label\"], dat_df[\"Prediction\"])\n",
    "    accuracies_col = {}\n",
    "    ind = []\n",
    "    for i in range(results_df.shape[0]):\n",
    "        if is_valid_word(results_df.iloc[i, 0]):\n",
    "            ind.append(i)\n",
    "    accuracies_col[\"valid_col_names\"] = accuracy_score(results_df.iloc[ind, 2], results_df.iloc[ind, 1])\n",
    "    accuracies_col[\"invalid_col_names\"] = accuracy_score(results_df.iloc[[a for a in range(results_df.shape[0]) if a not in ind], 2], \n",
    "                                                        results_df.iloc[[a for a in range(results_df.shape[0]) if a not in ind], 1])\n",
    "\n",
    "    accuracies_cla = dict(sorted(accuracies_cla.items(), key=lambda item: item[1], reverse=True))\n",
    "    accuracies_lan = dict(sorted(accuracies_lan.items(), key=lambda item: item[1], reverse=True))\n",
    "    accuracies_col = dict(sorted(accuracies_col.items(), key=lambda item: item[1], reverse=True))\n",
    "    accuracies_dat = dict(sorted(accuracies_dat.items(), key=lambda item: item[1], reverse=True))\n",
    "\n",
    "\n",
    "    fig = make_subplots(rows=3, cols=1, subplot_titles=[\"Accuracy per Class\", \"Number of correct predictions per Class\", \"Number of false predictions per Class\"],\n",
    "                        shared_xaxes=True)\n",
    "    fig.add_trace(go.Bar(\n",
    "        x=list(accuracies_cla.keys()),\n",
    "        y=list(accuracies_cla.values()),\n",
    "        marker=dict(color=\"black\"),\n",
    "        showlegend=False\n",
    "    ))\n",
    "    \n",
    "    colors = [\n",
    "    \"#d62728\",  # Red (High Saturation)\n",
    "    \"#ff9896\",  # Red (Low Saturation)\n",
    "    \"#1f77b4\",  # Blue (High Saturation)\n",
    "    \"#aec7e8\",  # Blue (Low Saturation)\n",
    "    \"#ff7f0e\",  # Orange (High Saturation)\n",
    "    \"#ffbb78\",  # Orange (Low Saturation)\n",
    "    \"#2ca02c\",  # Green (High Saturation)\n",
    "    \"#98df8a\",  # Green (Low Saturation)\n",
    "    \"#9467bd\",  # Purple (High Saturation)\n",
    "    \"#c5b0d5\",  # Purple (Low Saturation)\n",
    "    ]\n",
    "\n",
    "    languages = ['english', 'french', 'german', 'mixed language', 'dessi data'] if dataset != \"two_languages\" else [\"italian\", \"chinese\"]\n",
    "    for bool_val in [True, False]:\n",
    "        for e, language in enumerate(languages):\n",
    "            lan_df = results_df.loc[results_df[\"Language\"] == language]\n",
    "            accuracies_cla = {}\n",
    "            for ee, col_valid in enumerate([True, False]):\n",
    "                percentage_of_this_language = []\n",
    "                for i in lan_df[\"Classes_new\"].unique():\n",
    "                    cla_df = lan_df.loc[lan_df[\"Classes_new\"] == i]\n",
    "                    ind = []\n",
    "                    for j in range(cla_df.shape[0]):\n",
    "                        if is_valid_word(cla_df.iloc[j, 0]) == col_valid:\n",
    "                            ind.append(j)\n",
    "                    cla_df = cla_df.iloc[ind,:]\n",
    "                    percentage_of_this_language.append(cla_df.shape[0] / results_df.loc[results_df[\"Classes_new\"] == i].shape[0])\n",
    "                    accuracies_cla[i] = (cla_df[\"True Label\"] == cla_df[\"Prediction\"]).value_counts(normalize=True).get(bool_val, 0)\n",
    "                fig.add_trace(go.Bar(\n",
    "                    x=list(accuracies_cla.keys()),\n",
    "                    y=[a * b for a, b in zip(list(accuracies_cla.values()), percentage_of_this_language)],\n",
    "                    marker=dict(color=colors[2*e+ee]),\n",
    "                    name=f\"{language}_\" + (\"valid\" if col_valid == True else \"invalid\") + \"<br>column name\",\n",
    "                    showlegend=True if bool_val == True else False,\n",
    "                    legendgroup=2*e+ee\n",
    "                ), row=2 if bool_val == True else 3, col=1)\n",
    "    fig.update_layout(title=\"Accuracy per Class for GPT's PII Predictions on dessi-mf\", width=1500, height=700, barmode=\"stack\")\n",
    "    fig.update_yaxes(title_text=\"Accuracy\", row=1, col=1)\n",
    "    fig.update_yaxes(title_text=\"Amount of<br>correct predictions\", row=2, col=1)\n",
    "    fig.update_yaxes(title_text=\"Amount of<br>false predictions\", row=3, col=1)\n",
    "    fig.show()\n",
    "\n",
    "    fig = make_subplots(\n",
    "        rows=1, cols=3, shared_yaxes=True,\n",
    "        subplot_titles=[\"Accuracy per Language\", \"Accuracy per Dataset\", \"Accuracy per Column Name\"]\n",
    "    )\n",
    "    fig.add_trace(go.Bar(\n",
    "        x=list(accuracies_lan.keys()),\n",
    "        y=list(accuracies_lan.values()),\n",
    "        showlegend=False\n",
    "    ), row=1, col=1)\n",
    "    fig.add_trace(go.Bar(\n",
    "        x=list(accuracies_dat.keys()),\n",
    "        y=list(accuracies_dat.values()),\n",
    "        showlegend=False\n",
    "    ), row=1, col=2)\n",
    "    fig.add_trace(go.Bar(\n",
    "        x=list(accuracies_col.keys()),\n",
    "        y=list(accuracies_col.values()),\n",
    "        showlegend=False\n",
    "    ), row=1, col=3)\n",
    "    fig.update_layout(width=900, height=500, title=\"Accuracy of GPT's PII Predictions on dessi-mf with respect to different categories\")\n",
    "    fig.show()"
   ]
  },
  {
   "cell_type": "code",
   "execution_count": 21,
   "metadata": {},
   "outputs": [
    {
     "data": {
      "application/vnd.plotly.v1+json": {
       "config": {
        "plotlyServerURL": "https://plot.ly"
       },
       "data": [
        {
         "marker": {
          "color": "black"
         },
         "showlegend": false,
         "type": "bar",
         "x": [
          "pyint",
          "credit_card_number",
          "company",
          "credit_card_provider",
          "academic_degree",
          "political_views",
          "swift",
          "email",
          "color",
          "measure_unit",
          "currency",
          "gender",
          "Email,Phone_number",
          "last_name",
          "first_name",
          "isbn",
          "language",
          "CCN",
          "blood_type",
          "cpu",
          "graphics",
          "date",
          "sex",
          "word",
          "isbn13",
          "manufacturer",
          "phone_model",
          "job",
          "url",
          "title",
          "programming_language",
          "occupation",
          "integer_number",
          "Gender",
          "worldview",
          "blood_group",
          "city",
          "resolution",
          "dish",
          "nationality",
          "system_quality_attribute",
          "drink",
          "iban",
          "Email,NIN",
          "version",
          "duration",
          "Race",
          "NIN,Email",
          "Sexuality",
          "Phone_number,Email",
          "answer",
          "Nationality",
          "IBAN",
          "SWIFT/BIC",
          "Religion",
          "Organization",
          "GPE",
          "Email",
          "passport_number",
          "Phone_number",
          "Phone_number,NIN",
          "NIN,Phone_number",
          "phone_number",
          "user_agent",
          "Passport",
          "NIN",
          "Date",
          "NIN,Date",
          "Date,NIN",
          "ssn",
          "float_number",
          "pyfloat",
          "ean",
          "Geolocation",
          "address",
          "current_location",
          "full_name",
          "name",
          "ID_Card"
         ],
         "y": [
          1,
          1,
          1,
          1,
          1,
          1,
          1,
          1,
          1,
          1,
          1,
          1,
          1,
          1,
          1,
          1,
          1,
          1,
          1,
          1,
          1,
          1,
          1,
          1,
          1,
          1,
          1,
          1,
          1,
          1,
          1,
          1,
          1,
          1,
          1,
          1,
          1,
          1,
          1,
          1,
          1,
          1,
          1,
          1,
          1,
          1,
          1,
          1,
          1,
          1,
          1,
          1,
          1,
          1,
          1,
          1,
          1,
          1,
          0.9912280701754386,
          0.9816124469589816,
          0.9555555555555556,
          0.9534883720930233,
          0.9484777517564403,
          0.9078947368421053,
          0.8571428571428571,
          0.8388059701492537,
          0.75,
          0.6666666666666666,
          0.5897435897435898,
          0.4469026548672566,
          0.006578947368421052,
          0.0034602076124567475,
          0.003436426116838488,
          0,
          0,
          0,
          0,
          0,
          0
         ]
        },
        {
         "legendgroup": "0",
         "marker": {
          "color": "#d62728"
         },
         "name": "english_valid<br>column name",
         "showlegend": true,
         "type": "bar",
         "x": [
          "company",
          "academic_degree",
          "political_views",
          "color",
          "currency",
          "credit_card_provider",
          "language",
          "ean",
          "cpu",
          "graphics",
          "float_number",
          "word",
          "isbn13",
          "job",
          "phone_number",
          "email",
          "programming_language",
          "blood_type",
          "worldview",
          "title",
          "credit_card_number",
          "pyint",
          "current_location",
          "pyfloat",
          "first_name",
          "resolution",
          "last_name",
          "url",
          "ssn",
          "manufacturer",
          "nationality",
          "sex",
          "occupation",
          "blood_group",
          "integer_number",
          "dish",
          "system_quality_attribute",
          "version",
          "passport_number",
          "date",
          "swift",
          "answer",
          "city",
          "duration",
          "address",
          "name",
          "full_name",
          "drink",
          "user_agent",
          "isbn",
          "iban",
          "measure_unit",
          "phone_model",
          "gender"
         ],
         "xaxis": "x2",
         "y": [
          0.11963882618510158,
          0.10552763819095477,
          0.13,
          0.1309255079006772,
          0.12027491408934708,
          0.12758620689655173,
          0.115,
          0,
          0.125,
          0.13157894736842105,
          0,
          0.13157894736842105,
          0.13494809688581316,
          0.11842105263157894,
          0.12177985948477751,
          0.11214953271028037,
          0.09868421052631579,
          0.12060301507537688,
          0.095,
          0.13,
          0.13317757009345793,
          0.13402061855670103,
          0,
          0,
          0.13348946135831383,
          0.11842105263157894,
          0.12910798122065728,
          0.13058419243986255,
          0,
          0.1118421052631579,
          0.125,
          0.12280701754385964,
          0.1111111111111111,
          0.13596491228070176,
          0.13815789473684212,
          0.1118421052631579,
          0.14473684210526316,
          0.11842105263157894,
          0.09210526315789473,
          0.1310344827586207,
          0.11971830985915492,
          0.1118421052631579,
          0.11842105263157894,
          0.14473684210526316,
          0,
          0,
          0,
          0.13157894736842105,
          0.09210526315789473,
          0.09868421052631579,
          0.10964912280701754,
          0.13815789473684212,
          0.17105263157894737,
          0.125
         ],
         "yaxis": "y2"
        },
        {
         "legendgroup": "1",
         "marker": {
          "color": "#ff9896"
         },
         "name": "english_invalid<br>column name",
         "showlegend": true,
         "type": "bar",
         "x": [
          "company",
          "academic_degree",
          "political_views",
          "color",
          "currency",
          "credit_card_provider",
          "language",
          "ean",
          "cpu",
          "graphics",
          "float_number",
          "word",
          "isbn13",
          "job",
          "phone_number",
          "email",
          "programming_language",
          "blood_type",
          "worldview",
          "title",
          "credit_card_number",
          "pyint",
          "current_location",
          "pyfloat",
          "first_name",
          "resolution",
          "last_name",
          "url",
          "ssn",
          "manufacturer",
          "nationality",
          "sex",
          "occupation",
          "blood_group",
          "integer_number",
          "dish",
          "system_quality_attribute",
          "version",
          "passport_number",
          "date",
          "swift",
          "answer",
          "city",
          "duration",
          "address",
          "name",
          "full_name",
          "drink",
          "user_agent",
          "isbn",
          "iban",
          "measure_unit",
          "phone_model",
          "gender"
         ],
         "xaxis": "x2",
         "y": [
          0.1309255079006772,
          0.1457286432160804,
          0.12,
          0.11963882618510158,
          0.13058419243986255,
          0.1206896551724138,
          0.135,
          0,
          0.125,
          0.11842105263157894,
          0,
          0.11842105263157894,
          0.11418685121107267,
          0.13157894736842105,
          0.12177985948477751,
          0.1378504672897196,
          0.1513157894736842,
          0.12562814070351758,
          0.155,
          0.12,
          0.11682242990654206,
          0.1134020618556701,
          0,
          0,
          0.11475409836065574,
          0.13157894736842105,
          0.11971830985915492,
          0.11683848797250859,
          0,
          0.13815789473684212,
          0.125,
          0.12719298245614036,
          0.13636363636363635,
          0.11403508771929824,
          0.1118421052631579,
          0.13815789473684212,
          0.10526315789473684,
          0.13157894736842105,
          0.15350877192982457,
          0.11724137931034483,
          0.12323943661971831,
          0.13815789473684212,
          0.13157894736842105,
          0.10526315789473684,
          0,
          0,
          0,
          0.11842105263157894,
          0.13815789473684212,
          0.1513157894736842,
          0.14035087719298245,
          0.1118421052631579,
          0.07894736842105263,
          0.125
         ],
         "yaxis": "y2"
        },
        {
         "legendgroup": "2",
         "marker": {
          "color": "#1f77b4"
         },
         "name": "french_valid<br>column name",
         "showlegend": true,
         "type": "bar",
         "x": [
          "credit_card_number",
          "credit_card_provider",
          "email",
          "ean",
          "measure_unit",
          "ssn",
          "first_name",
          "swift",
          "currency",
          "isbn",
          "date",
          "phone_model",
          "company",
          "language",
          "pyfloat",
          "pyint",
          "last_name",
          "integer_number",
          "blood_group",
          "word",
          "passport_number",
          "political_views",
          "color",
          "url",
          "float_number",
          "blood_type",
          "academic_degree",
          "full_name",
          "gender",
          "dish",
          "current_location",
          "address",
          "drink",
          "phone_number",
          "occupation",
          "title",
          "cpu",
          "duration",
          "isbn13",
          "user_agent",
          "graphics",
          "city",
          "name",
          "answer",
          "nationality",
          "sex",
          "worldview",
          "job",
          "manufacturer",
          "iban",
          "programming_language",
          "version",
          "system_quality_attribute",
          "resolution"
         ],
         "xaxis": "x2",
         "y": [
          0.13317757009345793,
          0.1310344827586207,
          0.1261682242990654,
          0,
          0.11842105263157894,
          0.11946902654867257,
          0.1358313817330211,
          0.1267605633802817,
          0.14776632302405499,
          0.1118421052631579,
          0.11379310344827587,
          0.10526315789473684,
          0.09029345372460497,
          0.125,
          0,
          0.12714776632302405,
          0.1056338028169014,
          0.06578947368421052,
          0.13596491228070176,
          0.10526315789473684,
          0.12719298245614036,
          0.115,
          0.11963882618510158,
          0.13745704467353953,
          0,
          0.1407035175879397,
          0.11557788944723618,
          0,
          0.11,
          0.125,
          0,
          0,
          0.11842105263157894,
          0.13114754098360654,
          0.09595959595959595,
          0.155,
          0.13157894736842105,
          0.13157894736842105,
          0.11764705882352941,
          0.10526315789473684,
          0.14473684210526316,
          0.125,
          0,
          0.13157894736842105,
          0.14,
          0.12280701754385964,
          0.135,
          0.11403508771929824,
          0.13815789473684212,
          0.12719298245614036,
          0.10526315789473684,
          0.15789473684210525,
          0.11842105263157894,
          0.125
         ],
         "yaxis": "y2"
        },
        {
         "legendgroup": "3",
         "marker": {
          "color": "#aec7e8"
         },
         "name": "french_invalid<br>column name",
         "showlegend": true,
         "type": "bar",
         "x": [
          "credit_card_number",
          "credit_card_provider",
          "email",
          "ean",
          "measure_unit",
          "ssn",
          "first_name",
          "swift",
          "currency",
          "isbn",
          "date",
          "phone_model",
          "company",
          "language",
          "pyfloat",
          "pyint",
          "last_name",
          "integer_number",
          "blood_group",
          "word",
          "passport_number",
          "political_views",
          "color",
          "url",
          "float_number",
          "blood_type",
          "academic_degree",
          "full_name",
          "gender",
          "dish",
          "current_location",
          "address",
          "drink",
          "phone_number",
          "occupation",
          "title",
          "cpu",
          "duration",
          "isbn13",
          "user_agent",
          "graphics",
          "city",
          "name",
          "answer",
          "nationality",
          "sex",
          "worldview",
          "job",
          "manufacturer",
          "iban",
          "programming_language",
          "version",
          "system_quality_attribute",
          "resolution"
         ],
         "xaxis": "x2",
         "y": [
          0.11682242990654206,
          0.1206896551724138,
          0.12383177570093458,
          0.003436426116838488,
          0.13157894736842105,
          0.13274336283185842,
          0.11475409836065574,
          0.1267605633802817,
          0.09965635738831616,
          0.13815789473684212,
          0.13793103448275862,
          0.14473684210526316,
          0.16027088036117382,
          0.125,
          0,
          0.12371134020618557,
          0.14553990610328638,
          0.18421052631578946,
          0.11403508771929824,
          0.14473684210526316,
          0.12280701754385964,
          0.135,
          0.1309255079006772,
          0.1134020618556701,
          0.006578947368421052,
          0.11055276381909548,
          0.135678391959799,
          0,
          0.14,
          0.125,
          0,
          0,
          0.13157894736842105,
          0.10304449648711944,
          0.15151515151515152,
          0.095,
          0.11842105263157894,
          0.11842105263157894,
          0.1314878892733564,
          0.125,
          0.10526315789473684,
          0.125,
          0,
          0.11842105263157894,
          0.11,
          0.12719298245614036,
          0.115,
          0.13596491228070176,
          0.1118421052631579,
          0.12280701754385964,
          0.14473684210526316,
          0.09210526315789473,
          0.13157894736842105,
          0.125
         ],
         "yaxis": "y2"
        },
        {
         "legendgroup": "4",
         "marker": {
          "color": "#ff7f0e"
         },
         "name": "german_valid<br>column name",
         "showlegend": true,
         "type": "bar",
         "x": [
          "pyint",
          "pyfloat",
          "academic_degree",
          "gender",
          "last_name",
          "address",
          "blood_type",
          "sex",
          "credit_card_provider",
          "swift",
          "company",
          "url",
          "color",
          "integer_number",
          "title",
          "currency",
          "full_name",
          "graphics",
          "isbn",
          "blood_group",
          "ssn",
          "measure_unit",
          "ean",
          "first_name",
          "system_quality_attribute",
          "email",
          "phone_number",
          "job",
          "occupation",
          "drink",
          "isbn13",
          "word",
          "date",
          "programming_language",
          "iban",
          "manufacturer",
          "phone_model",
          "language",
          "float_number",
          "nationality",
          "name",
          "passport_number",
          "city",
          "current_location",
          "credit_card_number",
          "political_views",
          "duration",
          "worldview",
          "cpu",
          "resolution",
          "user_agent",
          "dish",
          "version",
          "answer"
         ],
         "xaxis": "x2",
         "y": [
          0.13745704467353953,
          0.0034602076124567475,
          0.135678391959799,
          0.12,
          0.12441314553990611,
          0,
          0.10050251256281408,
          0.10964912280701754,
          0.1310344827586207,
          0.12323943661971831,
          0.10609480812641084,
          0.11683848797250859,
          0.1399548532731377,
          0.13157894736842105,
          0.11,
          0.12371134020618557,
          0,
          0.09210526315789473,
          0.125,
          0.11403508771929824,
          0,
          0.1118421052631579,
          0,
          0.12412177985948478,
          0.10526315789473684,
          0.11682242990654206,
          0.12177985948477753,
          0.11403508771929824,
          0.13131313131313133,
          0.13815789473684212,
          0.1522491349480969,
          0.13157894736842105,
          0.1103448275862069,
          0.14473684210526316,
          0.14035087719298245,
          0.13815789473684212,
          0.13157894736842105,
          0.115,
          0,
          0.135,
          0,
          0.14473684210526314,
          0.125,
          0,
          0.11448598130841121,
          0.095,
          0.125,
          0.125,
          0.11842105263157894,
          0.125,
          0.13157894736842105,
          0.1118421052631579,
          0.11842105263157894,
          0.10526315789473684
         ],
         "yaxis": "y2"
        },
        {
         "legendgroup": "5",
         "marker": {
          "color": "#ffbb78"
         },
         "name": "german_invalid<br>column name",
         "showlegend": true,
         "type": "bar",
         "x": [
          "pyint",
          "pyfloat",
          "academic_degree",
          "gender",
          "last_name",
          "address",
          "blood_type",
          "sex",
          "credit_card_provider",
          "swift",
          "company",
          "url",
          "color",
          "integer_number",
          "title",
          "currency",
          "full_name",
          "graphics",
          "isbn",
          "blood_group",
          "ssn",
          "measure_unit",
          "ean",
          "first_name",
          "system_quality_attribute",
          "email",
          "phone_number",
          "job",
          "occupation",
          "drink",
          "isbn13",
          "word",
          "date",
          "programming_language",
          "iban",
          "manufacturer",
          "phone_model",
          "language",
          "float_number",
          "nationality",
          "name",
          "passport_number",
          "city",
          "current_location",
          "credit_card_number",
          "political_views",
          "duration",
          "worldview",
          "cpu",
          "resolution",
          "user_agent",
          "dish",
          "version",
          "answer"
         ],
         "xaxis": "x2",
         "y": [
          0.1134020618556701,
          0,
          0.11557788944723618,
          0.13,
          0.12441314553990611,
          0,
          0.1507537688442211,
          0.14035087719298245,
          0.1206896551724138,
          0.13028169014084506,
          0.14221218961625282,
          0.13402061855670103,
          0.10835214446952596,
          0.11842105263157894,
          0.14,
          0.12714776632302405,
          0,
          0.15789473684210525,
          0.125,
          0.13596491228070176,
          0,
          0.13815789473684212,
          0,
          0.12646370023419204,
          0.14473684210526316,
          0.13317757009345793,
          0.1053864168618267,
          0.13596491228070176,
          0.12121212121212122,
          0.1118421052631579,
          0.10034602076124567,
          0.11842105263157894,
          0.1413793103448276,
          0.10526315789473684,
          0.10964912280701754,
          0.1118421052631579,
          0.11842105263157894,
          0.135,
          0,
          0.115,
          0,
          0.10087719298245613,
          0.125,
          0,
          0.13551401869158877,
          0.155,
          0.125,
          0.125,
          0.13157894736842105,
          0.125,
          0.09210526315789473,
          0.13815789473684212,
          0.13157894736842105,
          0.14473684210526316
         ],
         "yaxis": "y2"
        },
        {
         "legendgroup": "6",
         "marker": {
          "color": "#2ca02c"
         },
         "name": "mixed language_valid<br>column name",
         "showlegend": true,
         "type": "bar",
         "x": [
          "swift",
          "credit_card_number",
          "political_views",
          "pyint",
          "float_number",
          "last_name",
          "address",
          "current_location",
          "phone_number",
          "isbn13",
          "manufacturer",
          "company",
          "title",
          "color",
          "job",
          "occupation",
          "word",
          "date",
          "cpu",
          "integer_number",
          "passport_number",
          "phone_model",
          "city",
          "academic_degree",
          "url",
          "ssn",
          "system_quality_attribute",
          "gender",
          "ean",
          "first_name",
          "iban",
          "sex",
          "drink",
          "email",
          "pyfloat",
          "currency",
          "answer",
          "measure_unit",
          "blood_group",
          "user_agent",
          "credit_card_provider",
          "name",
          "programming_language",
          "dish",
          "full_name",
          "language",
          "worldview",
          "duration",
          "resolution",
          "version",
          "graphics",
          "isbn",
          "blood_type",
          "nationality"
         ],
         "xaxis": "x2",
         "y": [
          0.11619718309859155,
          0.1261682242990654,
          0.135,
          0.11683848797250859,
          0,
          0.12441314553990611,
          0,
          0,
          0.1405152224824356,
          0.14878892733564014,
          0.125,
          0.11963882618510158,
          0.135,
          0.12641083521444696,
          0.13596491228070176,
          0.10101010101010101,
          0.13157894736842105,
          0.10344827586206896,
          0.13815789473684212,
          0.125,
          0.13157894736842105,
          0.13157894736842105,
          0.1118421052631579,
          0.1407035175879397,
          0.13402061855670103,
          0.08849557522123894,
          0.125,
          0.135,
          0,
          0.11241217798594848,
          0.14035087719298245,
          0.11842105263157894,
          0.1118421052631579,
          0.12149532710280374,
          0,
          0.13058419243986255,
          0.17105263157894737,
          0.125,
          0.12719298245614036,
          0.125,
          0.1103448275862069,
          0,
          0.1513157894736842,
          0.125,
          0,
          0.13,
          0.115,
          0.10526315789473684,
          0.1118421052631579,
          0.125,
          0.1118421052631579,
          0.09868421052631579,
          0.11557788944723618,
          0.1
         ],
         "yaxis": "y2"
        },
        {
         "legendgroup": "7",
         "marker": {
          "color": "#98df8a"
         },
         "name": "mixed language_invalid<br>column name",
         "showlegend": true,
         "type": "bar",
         "x": [
          "swift",
          "credit_card_number",
          "political_views",
          "pyint",
          "float_number",
          "last_name",
          "address",
          "current_location",
          "phone_number",
          "isbn13",
          "manufacturer",
          "company",
          "title",
          "color",
          "job",
          "occupation",
          "word",
          "date",
          "cpu",
          "integer_number",
          "passport_number",
          "phone_model",
          "city",
          "academic_degree",
          "url",
          "ssn",
          "system_quality_attribute",
          "gender",
          "ean",
          "first_name",
          "iban",
          "sex",
          "drink",
          "email",
          "pyfloat",
          "currency",
          "answer",
          "measure_unit",
          "blood_group",
          "user_agent",
          "credit_card_provider",
          "name",
          "programming_language",
          "dish",
          "full_name",
          "language",
          "worldview",
          "duration",
          "resolution",
          "version",
          "graphics",
          "isbn",
          "blood_type",
          "nationality"
         ],
         "xaxis": "x2",
         "y": [
          0.13380281690140844,
          0.12383177570093458,
          0.115,
          0.13402061855670103,
          0,
          0.1267605633802817,
          0,
          0,
          0.10304449648711944,
          0.10034602076124567,
          0.125,
          0.1309255079006772,
          0.115,
          0.12415349887133183,
          0.11403508771929824,
          0.15151515151515152,
          0.11842105263157894,
          0.14482758620689656,
          0.1118421052631579,
          0.125,
          0.11842105263157894,
          0.11842105263157894,
          0.13815789473684212,
          0.10552763819095477,
          0.11683848797250859,
          0.10619469026548672,
          0.125,
          0.115,
          0,
          0.13817330210772832,
          0.10964912280701754,
          0.13157894736842105,
          0.13815789473684212,
          0.12850467289719625,
          0,
          0.12027491408934708,
          0.07894736842105263,
          0.125,
          0.12280701754385964,
          0.09868421052631579,
          0.13793103448275862,
          0,
          0.09868421052631579,
          0.125,
          0,
          0.12,
          0.135,
          0.14473684210526316,
          0.13815789473684212,
          0.125,
          0.13815789473684212,
          0.1513157894736842,
          0.135678391959799,
          0.15
         ],
         "yaxis": "y2"
        },
        {
         "legendgroup": "8",
         "marker": {
          "color": "#9467bd"
         },
         "name": "dessi data_valid<br>column name",
         "showlegend": true,
         "type": "bar",
         "x": [
          "Date",
          "Geolocation",
          "Email,Phone_number",
          "CCN",
          "NIN",
          "Phone_number",
          "Gender",
          "NIN,Date",
          "Email,NIN",
          "Phone_number,NIN",
          "Race",
          "NIN,Email",
          "Sexuality",
          "Phone_number,Email",
          "Nationality",
          "NIN,Phone_number",
          "Passport",
          "IBAN",
          "SWIFT/BIC",
          "Religion",
          "Organization",
          "Date,NIN",
          "GPE",
          "ID_Card",
          "Email"
         ],
         "xaxis": "x2",
         "y": [
          0.07539682539682539,
          0,
          0.21428571428571427,
          0,
          0.026865671641791045,
          0.05799151343705799,
          0,
          0.06666666666666667,
          0.07692307692307693,
          0.08888888888888889,
          0,
          0.06451612903225806,
          0.05263157894736842,
          0.03333333333333333,
          0,
          0.09302325581395349,
          0.09523809523809523,
          0,
          0.046511627906976744,
          0.05555555555555555,
          0,
          0.05128205128205128,
          0,
          0,
          0.25
         ],
         "yaxis": "y2"
        },
        {
         "legendgroup": "9",
         "marker": {
          "color": "#c5b0d5"
         },
         "name": "dessi data_invalid<br>column name",
         "showlegend": true,
         "type": "bar",
         "x": [
          "Date",
          "Geolocation",
          "Email,Phone_number",
          "CCN",
          "NIN",
          "Phone_number",
          "Gender",
          "NIN,Date",
          "Email,NIN",
          "Phone_number,NIN",
          "Race",
          "NIN,Email",
          "Sexuality",
          "Phone_number,Email",
          "Nationality",
          "NIN,Phone_number",
          "Passport",
          "IBAN",
          "SWIFT/BIC",
          "Religion",
          "Organization",
          "Date,NIN",
          "GPE",
          "ID_Card",
          "Email"
         ],
         "xaxis": "x2",
         "y": [
          0.6746031746031746,
          0,
          0.7857142857142857,
          1,
          0.8119402985074626,
          0.9236209335219235,
          1,
          0.6000000000000001,
          0.9230769230769231,
          0.8666666666666666,
          1,
          0.9354838709677419,
          0.9473684210526315,
          0.9666666666666667,
          1,
          0.8604651162790696,
          0.7619047619047619,
          1,
          0.9534883720930233,
          0.9444444444444444,
          1,
          0.5384615384615384,
          1,
          0,
          0.75
         ],
         "yaxis": "y2"
        },
        {
         "legendgroup": "0",
         "marker": {
          "color": "#d62728"
         },
         "name": "english_valid<br>column name",
         "showlegend": false,
         "type": "bar",
         "x": [
          "company",
          "academic_degree",
          "political_views",
          "color",
          "currency",
          "credit_card_provider",
          "language",
          "ean",
          "cpu",
          "graphics",
          "float_number",
          "word",
          "isbn13",
          "job",
          "phone_number",
          "email",
          "programming_language",
          "blood_type",
          "worldview",
          "title",
          "credit_card_number",
          "pyint",
          "current_location",
          "pyfloat",
          "first_name",
          "resolution",
          "last_name",
          "url",
          "ssn",
          "manufacturer",
          "nationality",
          "sex",
          "occupation",
          "blood_group",
          "integer_number",
          "dish",
          "system_quality_attribute",
          "version",
          "passport_number",
          "date",
          "swift",
          "answer",
          "city",
          "duration",
          "address",
          "name",
          "full_name",
          "drink",
          "user_agent",
          "isbn",
          "iban",
          "measure_unit",
          "phone_model",
          "gender"
         ],
         "xaxis": "x3",
         "y": [
          0,
          0,
          0,
          0,
          0,
          0,
          0,
          0.12027491408934708,
          0,
          0,
          0.125,
          0,
          0,
          0,
          0.00234192037470726,
          0,
          0,
          0,
          0,
          0,
          0,
          0,
          0.13596491228070176,
          0.14186851211072665,
          0,
          0,
          0,
          0,
          0.12831858407079647,
          0,
          0,
          0,
          0,
          0,
          0,
          0,
          0,
          0,
          0.0043859649122807015,
          0,
          0,
          0,
          0,
          0,
          0.1261682242990654,
          0.14222222222222222,
          0.13131313131313133,
          0,
          0.013157894736842105,
          0,
          0,
          0,
          0,
          0
         ],
         "yaxis": "y3"
        },
        {
         "legendgroup": "1",
         "marker": {
          "color": "#ff9896"
         },
         "name": "english_invalid<br>column name",
         "showlegend": false,
         "type": "bar",
         "x": [
          "company",
          "academic_degree",
          "political_views",
          "color",
          "currency",
          "credit_card_provider",
          "language",
          "ean",
          "cpu",
          "graphics",
          "float_number",
          "word",
          "isbn13",
          "job",
          "phone_number",
          "email",
          "programming_language",
          "blood_type",
          "worldview",
          "title",
          "credit_card_number",
          "pyint",
          "current_location",
          "pyfloat",
          "first_name",
          "resolution",
          "last_name",
          "url",
          "ssn",
          "manufacturer",
          "nationality",
          "sex",
          "occupation",
          "blood_group",
          "integer_number",
          "dish",
          "system_quality_attribute",
          "version",
          "passport_number",
          "date",
          "swift",
          "answer",
          "city",
          "duration",
          "address",
          "name",
          "full_name",
          "drink",
          "user_agent",
          "isbn",
          "iban",
          "measure_unit",
          "phone_model",
          "gender"
         ],
         "xaxis": "x3",
         "y": [
          0,
          0,
          0,
          0,
          0,
          0,
          0,
          0.13058419243986255,
          0,
          0,
          0.125,
          0,
          0,
          0,
          0.00468384074941452,
          0,
          0,
          0,
          0,
          0,
          0,
          0,
          0.11403508771929824,
          0.10726643598615918,
          0,
          0,
          0,
          0,
          0.11946902654867257,
          0,
          0,
          0,
          0,
          0,
          0,
          0,
          0,
          0,
          0,
          0,
          0,
          0,
          0,
          0,
          0.12383177570093458,
          0.10666666666666667,
          0.11616161616161616,
          0,
          0.006578947368421053,
          0,
          0,
          0,
          0,
          0
         ],
         "yaxis": "y3"
        },
        {
         "legendgroup": "2",
         "marker": {
          "color": "#1f77b4"
         },
         "name": "french_valid<br>column name",
         "showlegend": false,
         "type": "bar",
         "x": [
          "credit_card_number",
          "credit_card_provider",
          "email",
          "ean",
          "measure_unit",
          "ssn",
          "first_name",
          "swift",
          "currency",
          "isbn",
          "date",
          "phone_model",
          "company",
          "language",
          "pyfloat",
          "pyint",
          "last_name",
          "integer_number",
          "blood_group",
          "word",
          "passport_number",
          "political_views",
          "color",
          "url",
          "float_number",
          "blood_type",
          "academic_degree",
          "full_name",
          "gender",
          "dish",
          "current_location",
          "address",
          "drink",
          "phone_number",
          "occupation",
          "title",
          "cpu",
          "duration",
          "isbn13",
          "user_agent",
          "graphics",
          "city",
          "name",
          "answer",
          "nationality",
          "sex",
          "worldview",
          "job",
          "manufacturer",
          "iban",
          "programming_language",
          "version",
          "system_quality_attribute",
          "resolution"
         ],
         "xaxis": "x3",
         "y": [
          0,
          0,
          0,
          0.12714776632302405,
          0,
          0,
          0,
          0,
          0,
          0,
          0,
          0,
          0,
          0,
          0.13494809688581316,
          0,
          0,
          0,
          0,
          0,
          0,
          0,
          0,
          0,
          0.13157894736842105,
          0,
          0,
          0.12121212121212122,
          0,
          0,
          0.11842105263157894,
          0.11682242990654206,
          0,
          0.00702576112412178,
          0,
          0,
          0,
          0,
          0,
          0.019736842105263157,
          0,
          0,
          0.11555555555555555,
          0,
          0,
          0,
          0,
          0,
          0,
          0,
          0,
          0,
          0,
          0
         ],
         "yaxis": "y3"
        },
        {
         "legendgroup": "3",
         "marker": {
          "color": "#aec7e8"
         },
         "name": "french_invalid<br>column name",
         "showlegend": false,
         "type": "bar",
         "x": [
          "credit_card_number",
          "credit_card_provider",
          "email",
          "ean",
          "measure_unit",
          "ssn",
          "first_name",
          "swift",
          "currency",
          "isbn",
          "date",
          "phone_model",
          "company",
          "language",
          "pyfloat",
          "pyint",
          "last_name",
          "integer_number",
          "blood_group",
          "word",
          "passport_number",
          "political_views",
          "color",
          "url",
          "float_number",
          "blood_type",
          "academic_degree",
          "full_name",
          "gender",
          "dish",
          "current_location",
          "address",
          "drink",
          "phone_number",
          "occupation",
          "title",
          "cpu",
          "duration",
          "isbn13",
          "user_agent",
          "graphics",
          "city",
          "name",
          "answer",
          "nationality",
          "sex",
          "worldview",
          "job",
          "manufacturer",
          "iban",
          "programming_language",
          "version",
          "system_quality_attribute",
          "resolution"
         ],
         "xaxis": "x3",
         "y": [
          0,
          0,
          0,
          0.12027491408934708,
          0,
          0,
          0,
          0,
          0,
          0,
          0,
          0,
          0,
          0,
          0.11418685121107267,
          0,
          0,
          0,
          0,
          0,
          0,
          0,
          0,
          0,
          0.11184210526315788,
          0,
          0,
          0.12626262626262627,
          0,
          0,
          0.13157894736842105,
          0.13317757009345793,
          0,
          0.007025761124121779,
          0,
          0,
          0,
          0,
          0,
          0,
          0,
          0,
          0.13333333333333333,
          0,
          0,
          0,
          0,
          0,
          0,
          0,
          0,
          0,
          0,
          0
         ],
         "yaxis": "y3"
        },
        {
         "legendgroup": "4",
         "marker": {
          "color": "#ff7f0e"
         },
         "name": "german_valid<br>column name",
         "showlegend": false,
         "type": "bar",
         "x": [
          "pyint",
          "pyfloat",
          "academic_degree",
          "gender",
          "last_name",
          "address",
          "blood_type",
          "sex",
          "credit_card_provider",
          "swift",
          "company",
          "url",
          "color",
          "integer_number",
          "title",
          "currency",
          "full_name",
          "graphics",
          "isbn",
          "blood_group",
          "ssn",
          "measure_unit",
          "ean",
          "first_name",
          "system_quality_attribute",
          "email",
          "phone_number",
          "job",
          "occupation",
          "drink",
          "isbn13",
          "word",
          "date",
          "programming_language",
          "iban",
          "manufacturer",
          "phone_model",
          "language",
          "float_number",
          "nationality",
          "name",
          "passport_number",
          "city",
          "current_location",
          "credit_card_number",
          "political_views",
          "duration",
          "worldview",
          "cpu",
          "resolution",
          "user_agent",
          "dish",
          "version",
          "answer"
         ],
         "xaxis": "x3",
         "y": [
          0,
          0.13148788927335642,
          0,
          0,
          0,
          0.1191588785046729,
          0,
          0,
          0,
          0,
          0,
          0,
          0,
          0,
          0,
          0,
          0.12626262626262627,
          0,
          0,
          0,
          0.12831858407079647,
          0,
          0.12714776632302405,
          0,
          0,
          0,
          0.014051522248243561,
          0,
          0,
          0,
          0,
          0,
          0,
          0,
          0,
          0,
          0,
          0,
          0.14473684210526316,
          0,
          0.1288888888888889,
          0.0043859649122807015,
          0,
          0.10526315789473684,
          0,
          0,
          0,
          0,
          0,
          0,
          0.013157894736842106,
          0,
          0,
          0
         ],
         "yaxis": "y3"
        },
        {
         "legendgroup": "5",
         "marker": {
          "color": "#ffbb78"
         },
         "name": "german_invalid<br>column name",
         "showlegend": false,
         "type": "bar",
         "x": [
          "pyint",
          "pyfloat",
          "academic_degree",
          "gender",
          "last_name",
          "address",
          "blood_type",
          "sex",
          "credit_card_provider",
          "swift",
          "company",
          "url",
          "color",
          "integer_number",
          "title",
          "currency",
          "full_name",
          "graphics",
          "isbn",
          "blood_group",
          "ssn",
          "measure_unit",
          "ean",
          "first_name",
          "system_quality_attribute",
          "email",
          "phone_number",
          "job",
          "occupation",
          "drink",
          "isbn13",
          "word",
          "date",
          "programming_language",
          "iban",
          "manufacturer",
          "phone_model",
          "language",
          "float_number",
          "nationality",
          "name",
          "passport_number",
          "city",
          "current_location",
          "credit_card_number",
          "political_views",
          "duration",
          "worldview",
          "cpu",
          "resolution",
          "user_agent",
          "dish",
          "version",
          "answer"
         ],
         "xaxis": "x3",
         "y": [
          0,
          0.11764705882352941,
          0,
          0,
          0,
          0.1308411214953271,
          0,
          0,
          0,
          0,
          0,
          0,
          0,
          0,
          0,
          0,
          0.12626262626262627,
          0,
          0,
          0,
          0.12389380530973451,
          0,
          0.12371134020618557,
          0,
          0,
          0,
          0.00936768149882904,
          0,
          0,
          0,
          0,
          0,
          0,
          0,
          0,
          0,
          0,
          0,
          0.10526315789473684,
          0,
          0.12444444444444444,
          0,
          0,
          0.14473684210526316,
          0,
          0,
          0,
          0,
          0,
          0,
          0.013157894736842105,
          0,
          0,
          0
         ],
         "yaxis": "y3"
        },
        {
         "legendgroup": "6",
         "marker": {
          "color": "#2ca02c"
         },
         "name": "mixed language_valid<br>column name",
         "showlegend": false,
         "type": "bar",
         "x": [
          "swift",
          "credit_card_number",
          "political_views",
          "pyint",
          "float_number",
          "last_name",
          "address",
          "current_location",
          "phone_number",
          "isbn13",
          "manufacturer",
          "company",
          "title",
          "color",
          "job",
          "occupation",
          "word",
          "date",
          "cpu",
          "integer_number",
          "passport_number",
          "phone_model",
          "city",
          "academic_degree",
          "url",
          "ssn",
          "system_quality_attribute",
          "gender",
          "ean",
          "first_name",
          "iban",
          "sex",
          "drink",
          "email",
          "pyfloat",
          "currency",
          "answer",
          "measure_unit",
          "blood_group",
          "user_agent",
          "credit_card_provider",
          "name",
          "programming_language",
          "dish",
          "full_name",
          "language",
          "worldview",
          "duration",
          "resolution",
          "version",
          "graphics",
          "isbn",
          "blood_type",
          "nationality"
         ],
         "xaxis": "x3",
         "y": [
          0,
          0,
          0,
          0,
          0.13157894736842105,
          0,
          0.11448598130841121,
          0.13596491228070176,
          0.00468384074941452,
          0,
          0,
          0,
          0,
          0,
          0,
          0,
          0,
          0,
          0,
          0,
          0,
          0,
          0,
          0,
          0,
          0.035398230088495575,
          0,
          0,
          0.13058419243986255,
          0,
          0,
          0,
          0,
          0,
          0.12110726643598616,
          0,
          0,
          0,
          0,
          0.013157894736842106,
          0,
          0.10666666666666667,
          0,
          0,
          0.11616161616161616,
          0,
          0,
          0,
          0,
          0,
          0,
          0,
          0,
          0
         ],
         "yaxis": "y3"
        },
        {
         "legendgroup": "7",
         "marker": {
          "color": "#98df8a"
         },
         "name": "mixed language_invalid<br>column name",
         "showlegend": false,
         "type": "bar",
         "x": [
          "swift",
          "credit_card_number",
          "political_views",
          "pyint",
          "float_number",
          "last_name",
          "address",
          "current_location",
          "phone_number",
          "isbn13",
          "manufacturer",
          "company",
          "title",
          "color",
          "job",
          "occupation",
          "word",
          "date",
          "cpu",
          "integer_number",
          "passport_number",
          "phone_model",
          "city",
          "academic_degree",
          "url",
          "ssn",
          "system_quality_attribute",
          "gender",
          "ean",
          "first_name",
          "iban",
          "sex",
          "drink",
          "email",
          "pyfloat",
          "currency",
          "answer",
          "measure_unit",
          "blood_group",
          "user_agent",
          "credit_card_provider",
          "name",
          "programming_language",
          "dish",
          "full_name",
          "language",
          "worldview",
          "duration",
          "resolution",
          "version",
          "graphics",
          "isbn",
          "blood_type",
          "nationality"
         ],
         "xaxis": "x3",
         "y": [
          0,
          0,
          0,
          0,
          0.11842105263157894,
          0,
          0.13551401869158877,
          0.11403508771929824,
          0.0023419203747072604,
          0,
          0,
          0,
          0,
          0,
          0,
          0,
          0,
          0,
          0,
          0,
          0,
          0,
          0,
          0,
          0,
          0.017699115044247787,
          0,
          0,
          0.11683848797250859,
          0,
          0,
          0,
          0,
          0,
          0.12802768166089964,
          0,
          0,
          0,
          0,
          0.013157894736842105,
          0,
          0.14222222222222222,
          0,
          0,
          0.13636363636363635,
          0,
          0,
          0,
          0,
          0,
          0,
          0,
          0,
          0
         ],
         "yaxis": "y3"
        },
        {
         "legendgroup": "8",
         "marker": {
          "color": "#9467bd"
         },
         "name": "dessi data_valid<br>column name",
         "showlegend": false,
         "type": "bar",
         "x": [
          "Date",
          "Geolocation",
          "Email,Phone_number",
          "CCN",
          "NIN",
          "Phone_number",
          "Gender",
          "NIN,Date",
          "Email,NIN",
          "Phone_number,NIN",
          "Race",
          "NIN,Email",
          "Sexuality",
          "Phone_number,Email",
          "Nationality",
          "NIN,Phone_number",
          "Passport",
          "IBAN",
          "SWIFT/BIC",
          "Religion",
          "Organization",
          "Date,NIN",
          "GPE",
          "ID_Card",
          "Email"
         ],
         "xaxis": "x3",
         "y": [
          0.031746031746031744,
          0,
          0,
          0,
          0.0029850746268656717,
          0.0014144271570014143,
          0,
          0,
          0,
          0,
          0,
          0,
          0,
          0,
          0,
          0,
          0,
          0,
          0,
          0,
          0,
          0.05128205128205128,
          0,
          0,
          0
         ],
         "yaxis": "y3"
        },
        {
         "legendgroup": "9",
         "marker": {
          "color": "#c5b0d5"
         },
         "name": "dessi data_invalid<br>column name",
         "showlegend": false,
         "type": "bar",
         "x": [
          "Date",
          "Geolocation",
          "Email,Phone_number",
          "CCN",
          "NIN",
          "Phone_number",
          "Gender",
          "NIN,Date",
          "Email,NIN",
          "Phone_number,NIN",
          "Race",
          "NIN,Email",
          "Sexuality",
          "Phone_number,Email",
          "Nationality",
          "NIN,Phone_number",
          "Passport",
          "IBAN",
          "SWIFT/BIC",
          "Religion",
          "Organization",
          "Date,NIN",
          "GPE",
          "ID_Card",
          "Email"
         ],
         "xaxis": "x3",
         "y": [
          0.21825396825396826,
          1,
          0,
          0,
          0.1582089552238806,
          0.016973125884016973,
          0,
          0.33333333333333337,
          0,
          0.044444444444444446,
          0,
          0,
          0,
          0,
          0,
          0.04651162790697674,
          0.14285714285714285,
          0,
          0,
          0,
          0,
          0.35897435897435903,
          0,
          1,
          0
         ],
         "yaxis": "y3"
        }
       ],
       "layout": {
        "annotations": [
         {
          "font": {
           "size": 16
          },
          "showarrow": false,
          "text": "Accuracy per Class",
          "x": 0.5,
          "xanchor": "center",
          "xref": "paper",
          "y": 1,
          "yanchor": "bottom",
          "yref": "paper"
         },
         {
          "font": {
           "size": 16
          },
          "showarrow": false,
          "text": "Number of correct predictions per Class",
          "x": 0.5,
          "xanchor": "center",
          "xref": "paper",
          "y": 0.6111111111111112,
          "yanchor": "bottom",
          "yref": "paper"
         },
         {
          "font": {
           "size": 16
          },
          "showarrow": false,
          "text": "Number of false predictions per Class",
          "x": 0.5,
          "xanchor": "center",
          "xref": "paper",
          "y": 0.22222222222222224,
          "yanchor": "bottom",
          "yref": "paper"
         }
        ],
        "barmode": "stack",
        "height": 700,
        "template": {
         "data": {
          "bar": [
           {
            "error_x": {
             "color": "#2a3f5f"
            },
            "error_y": {
             "color": "#2a3f5f"
            },
            "marker": {
             "line": {
              "color": "#E5ECF6",
              "width": 0.5
             },
             "pattern": {
              "fillmode": "overlay",
              "size": 10,
              "solidity": 0.2
             }
            },
            "type": "bar"
           }
          ],
          "barpolar": [
           {
            "marker": {
             "line": {
              "color": "#E5ECF6",
              "width": 0.5
             },
             "pattern": {
              "fillmode": "overlay",
              "size": 10,
              "solidity": 0.2
             }
            },
            "type": "barpolar"
           }
          ],
          "carpet": [
           {
            "aaxis": {
             "endlinecolor": "#2a3f5f",
             "gridcolor": "white",
             "linecolor": "white",
             "minorgridcolor": "white",
             "startlinecolor": "#2a3f5f"
            },
            "baxis": {
             "endlinecolor": "#2a3f5f",
             "gridcolor": "white",
             "linecolor": "white",
             "minorgridcolor": "white",
             "startlinecolor": "#2a3f5f"
            },
            "type": "carpet"
           }
          ],
          "choropleth": [
           {
            "colorbar": {
             "outlinewidth": 0,
             "ticks": ""
            },
            "type": "choropleth"
           }
          ],
          "contour": [
           {
            "colorbar": {
             "outlinewidth": 0,
             "ticks": ""
            },
            "colorscale": [
             [
              0,
              "#0d0887"
             ],
             [
              0.1111111111111111,
              "#46039f"
             ],
             [
              0.2222222222222222,
              "#7201a8"
             ],
             [
              0.3333333333333333,
              "#9c179e"
             ],
             [
              0.4444444444444444,
              "#bd3786"
             ],
             [
              0.5555555555555556,
              "#d8576b"
             ],
             [
              0.6666666666666666,
              "#ed7953"
             ],
             [
              0.7777777777777778,
              "#fb9f3a"
             ],
             [
              0.8888888888888888,
              "#fdca26"
             ],
             [
              1,
              "#f0f921"
             ]
            ],
            "type": "contour"
           }
          ],
          "contourcarpet": [
           {
            "colorbar": {
             "outlinewidth": 0,
             "ticks": ""
            },
            "type": "contourcarpet"
           }
          ],
          "heatmap": [
           {
            "colorbar": {
             "outlinewidth": 0,
             "ticks": ""
            },
            "colorscale": [
             [
              0,
              "#0d0887"
             ],
             [
              0.1111111111111111,
              "#46039f"
             ],
             [
              0.2222222222222222,
              "#7201a8"
             ],
             [
              0.3333333333333333,
              "#9c179e"
             ],
             [
              0.4444444444444444,
              "#bd3786"
             ],
             [
              0.5555555555555556,
              "#d8576b"
             ],
             [
              0.6666666666666666,
              "#ed7953"
             ],
             [
              0.7777777777777778,
              "#fb9f3a"
             ],
             [
              0.8888888888888888,
              "#fdca26"
             ],
             [
              1,
              "#f0f921"
             ]
            ],
            "type": "heatmap"
           }
          ],
          "heatmapgl": [
           {
            "colorbar": {
             "outlinewidth": 0,
             "ticks": ""
            },
            "colorscale": [
             [
              0,
              "#0d0887"
             ],
             [
              0.1111111111111111,
              "#46039f"
             ],
             [
              0.2222222222222222,
              "#7201a8"
             ],
             [
              0.3333333333333333,
              "#9c179e"
             ],
             [
              0.4444444444444444,
              "#bd3786"
             ],
             [
              0.5555555555555556,
              "#d8576b"
             ],
             [
              0.6666666666666666,
              "#ed7953"
             ],
             [
              0.7777777777777778,
              "#fb9f3a"
             ],
             [
              0.8888888888888888,
              "#fdca26"
             ],
             [
              1,
              "#f0f921"
             ]
            ],
            "type": "heatmapgl"
           }
          ],
          "histogram": [
           {
            "marker": {
             "pattern": {
              "fillmode": "overlay",
              "size": 10,
              "solidity": 0.2
             }
            },
            "type": "histogram"
           }
          ],
          "histogram2d": [
           {
            "colorbar": {
             "outlinewidth": 0,
             "ticks": ""
            },
            "colorscale": [
             [
              0,
              "#0d0887"
             ],
             [
              0.1111111111111111,
              "#46039f"
             ],
             [
              0.2222222222222222,
              "#7201a8"
             ],
             [
              0.3333333333333333,
              "#9c179e"
             ],
             [
              0.4444444444444444,
              "#bd3786"
             ],
             [
              0.5555555555555556,
              "#d8576b"
             ],
             [
              0.6666666666666666,
              "#ed7953"
             ],
             [
              0.7777777777777778,
              "#fb9f3a"
             ],
             [
              0.8888888888888888,
              "#fdca26"
             ],
             [
              1,
              "#f0f921"
             ]
            ],
            "type": "histogram2d"
           }
          ],
          "histogram2dcontour": [
           {
            "colorbar": {
             "outlinewidth": 0,
             "ticks": ""
            },
            "colorscale": [
             [
              0,
              "#0d0887"
             ],
             [
              0.1111111111111111,
              "#46039f"
             ],
             [
              0.2222222222222222,
              "#7201a8"
             ],
             [
              0.3333333333333333,
              "#9c179e"
             ],
             [
              0.4444444444444444,
              "#bd3786"
             ],
             [
              0.5555555555555556,
              "#d8576b"
             ],
             [
              0.6666666666666666,
              "#ed7953"
             ],
             [
              0.7777777777777778,
              "#fb9f3a"
             ],
             [
              0.8888888888888888,
              "#fdca26"
             ],
             [
              1,
              "#f0f921"
             ]
            ],
            "type": "histogram2dcontour"
           }
          ],
          "mesh3d": [
           {
            "colorbar": {
             "outlinewidth": 0,
             "ticks": ""
            },
            "type": "mesh3d"
           }
          ],
          "parcoords": [
           {
            "line": {
             "colorbar": {
              "outlinewidth": 0,
              "ticks": ""
             }
            },
            "type": "parcoords"
           }
          ],
          "pie": [
           {
            "automargin": true,
            "type": "pie"
           }
          ],
          "scatter": [
           {
            "fillpattern": {
             "fillmode": "overlay",
             "size": 10,
             "solidity": 0.2
            },
            "type": "scatter"
           }
          ],
          "scatter3d": [
           {
            "line": {
             "colorbar": {
              "outlinewidth": 0,
              "ticks": ""
             }
            },
            "marker": {
             "colorbar": {
              "outlinewidth": 0,
              "ticks": ""
             }
            },
            "type": "scatter3d"
           }
          ],
          "scattercarpet": [
           {
            "marker": {
             "colorbar": {
              "outlinewidth": 0,
              "ticks": ""
             }
            },
            "type": "scattercarpet"
           }
          ],
          "scattergeo": [
           {
            "marker": {
             "colorbar": {
              "outlinewidth": 0,
              "ticks": ""
             }
            },
            "type": "scattergeo"
           }
          ],
          "scattergl": [
           {
            "marker": {
             "colorbar": {
              "outlinewidth": 0,
              "ticks": ""
             }
            },
            "type": "scattergl"
           }
          ],
          "scattermapbox": [
           {
            "marker": {
             "colorbar": {
              "outlinewidth": 0,
              "ticks": ""
             }
            },
            "type": "scattermapbox"
           }
          ],
          "scatterpolar": [
           {
            "marker": {
             "colorbar": {
              "outlinewidth": 0,
              "ticks": ""
             }
            },
            "type": "scatterpolar"
           }
          ],
          "scatterpolargl": [
           {
            "marker": {
             "colorbar": {
              "outlinewidth": 0,
              "ticks": ""
             }
            },
            "type": "scatterpolargl"
           }
          ],
          "scatterternary": [
           {
            "marker": {
             "colorbar": {
              "outlinewidth": 0,
              "ticks": ""
             }
            },
            "type": "scatterternary"
           }
          ],
          "surface": [
           {
            "colorbar": {
             "outlinewidth": 0,
             "ticks": ""
            },
            "colorscale": [
             [
              0,
              "#0d0887"
             ],
             [
              0.1111111111111111,
              "#46039f"
             ],
             [
              0.2222222222222222,
              "#7201a8"
             ],
             [
              0.3333333333333333,
              "#9c179e"
             ],
             [
              0.4444444444444444,
              "#bd3786"
             ],
             [
              0.5555555555555556,
              "#d8576b"
             ],
             [
              0.6666666666666666,
              "#ed7953"
             ],
             [
              0.7777777777777778,
              "#fb9f3a"
             ],
             [
              0.8888888888888888,
              "#fdca26"
             ],
             [
              1,
              "#f0f921"
             ]
            ],
            "type": "surface"
           }
          ],
          "table": [
           {
            "cells": {
             "fill": {
              "color": "#EBF0F8"
             },
             "line": {
              "color": "white"
             }
            },
            "header": {
             "fill": {
              "color": "#C8D4E3"
             },
             "line": {
              "color": "white"
             }
            },
            "type": "table"
           }
          ]
         },
         "layout": {
          "annotationdefaults": {
           "arrowcolor": "#2a3f5f",
           "arrowhead": 0,
           "arrowwidth": 1
          },
          "autotypenumbers": "strict",
          "coloraxis": {
           "colorbar": {
            "outlinewidth": 0,
            "ticks": ""
           }
          },
          "colorscale": {
           "diverging": [
            [
             0,
             "#8e0152"
            ],
            [
             0.1,
             "#c51b7d"
            ],
            [
             0.2,
             "#de77ae"
            ],
            [
             0.3,
             "#f1b6da"
            ],
            [
             0.4,
             "#fde0ef"
            ],
            [
             0.5,
             "#f7f7f7"
            ],
            [
             0.6,
             "#e6f5d0"
            ],
            [
             0.7,
             "#b8e186"
            ],
            [
             0.8,
             "#7fbc41"
            ],
            [
             0.9,
             "#4d9221"
            ],
            [
             1,
             "#276419"
            ]
           ],
           "sequential": [
            [
             0,
             "#0d0887"
            ],
            [
             0.1111111111111111,
             "#46039f"
            ],
            [
             0.2222222222222222,
             "#7201a8"
            ],
            [
             0.3333333333333333,
             "#9c179e"
            ],
            [
             0.4444444444444444,
             "#bd3786"
            ],
            [
             0.5555555555555556,
             "#d8576b"
            ],
            [
             0.6666666666666666,
             "#ed7953"
            ],
            [
             0.7777777777777778,
             "#fb9f3a"
            ],
            [
             0.8888888888888888,
             "#fdca26"
            ],
            [
             1,
             "#f0f921"
            ]
           ],
           "sequentialminus": [
            [
             0,
             "#0d0887"
            ],
            [
             0.1111111111111111,
             "#46039f"
            ],
            [
             0.2222222222222222,
             "#7201a8"
            ],
            [
             0.3333333333333333,
             "#9c179e"
            ],
            [
             0.4444444444444444,
             "#bd3786"
            ],
            [
             0.5555555555555556,
             "#d8576b"
            ],
            [
             0.6666666666666666,
             "#ed7953"
            ],
            [
             0.7777777777777778,
             "#fb9f3a"
            ],
            [
             0.8888888888888888,
             "#fdca26"
            ],
            [
             1,
             "#f0f921"
            ]
           ]
          },
          "colorway": [
           "#636efa",
           "#EF553B",
           "#00cc96",
           "#ab63fa",
           "#FFA15A",
           "#19d3f3",
           "#FF6692",
           "#B6E880",
           "#FF97FF",
           "#FECB52"
          ],
          "font": {
           "color": "#2a3f5f"
          },
          "geo": {
           "bgcolor": "white",
           "lakecolor": "white",
           "landcolor": "#E5ECF6",
           "showlakes": true,
           "showland": true,
           "subunitcolor": "white"
          },
          "hoverlabel": {
           "align": "left"
          },
          "hovermode": "closest",
          "mapbox": {
           "style": "light"
          },
          "paper_bgcolor": "white",
          "plot_bgcolor": "#E5ECF6",
          "polar": {
           "angularaxis": {
            "gridcolor": "white",
            "linecolor": "white",
            "ticks": ""
           },
           "bgcolor": "#E5ECF6",
           "radialaxis": {
            "gridcolor": "white",
            "linecolor": "white",
            "ticks": ""
           }
          },
          "scene": {
           "xaxis": {
            "backgroundcolor": "#E5ECF6",
            "gridcolor": "white",
            "gridwidth": 2,
            "linecolor": "white",
            "showbackground": true,
            "ticks": "",
            "zerolinecolor": "white"
           },
           "yaxis": {
            "backgroundcolor": "#E5ECF6",
            "gridcolor": "white",
            "gridwidth": 2,
            "linecolor": "white",
            "showbackground": true,
            "ticks": "",
            "zerolinecolor": "white"
           },
           "zaxis": {
            "backgroundcolor": "#E5ECF6",
            "gridcolor": "white",
            "gridwidth": 2,
            "linecolor": "white",
            "showbackground": true,
            "ticks": "",
            "zerolinecolor": "white"
           }
          },
          "shapedefaults": {
           "line": {
            "color": "#2a3f5f"
           }
          },
          "ternary": {
           "aaxis": {
            "gridcolor": "white",
            "linecolor": "white",
            "ticks": ""
           },
           "baxis": {
            "gridcolor": "white",
            "linecolor": "white",
            "ticks": ""
           },
           "bgcolor": "#E5ECF6",
           "caxis": {
            "gridcolor": "white",
            "linecolor": "white",
            "ticks": ""
           }
          },
          "title": {
           "x": 0.05
          },
          "xaxis": {
           "automargin": true,
           "gridcolor": "white",
           "linecolor": "white",
           "ticks": "",
           "title": {
            "standoff": 15
           },
           "zerolinecolor": "white",
           "zerolinewidth": 2
          },
          "yaxis": {
           "automargin": true,
           "gridcolor": "white",
           "linecolor": "white",
           "ticks": "",
           "title": {
            "standoff": 15
           },
           "zerolinecolor": "white",
           "zerolinewidth": 2
          }
         }
        },
        "title": {
         "text": "Accuracy per Class for GPT's PII Predictions on dessi-mf"
        },
        "width": 1500,
        "xaxis": {
         "anchor": "y",
         "domain": [
          0,
          1
         ],
         "matches": "x3",
         "showticklabels": false
        },
        "xaxis2": {
         "anchor": "y2",
         "domain": [
          0,
          1
         ],
         "matches": "x3",
         "showticklabels": false
        },
        "xaxis3": {
         "anchor": "y3",
         "domain": [
          0,
          1
         ]
        },
        "yaxis": {
         "anchor": "x",
         "domain": [
          0.7777777777777778,
          1
         ],
         "title": {
          "text": "Accuracy"
         }
        },
        "yaxis2": {
         "anchor": "x2",
         "domain": [
          0.3888888888888889,
          0.6111111111111112
         ],
         "title": {
          "text": "Amount of<br>correct predictions"
         }
        },
        "yaxis3": {
         "anchor": "x3",
         "domain": [
          0,
          0.22222222222222224
         ],
         "title": {
          "text": "Amount of<br>false predictions"
         }
        }
       }
      }
     },
     "metadata": {},
     "output_type": "display_data"
    },
    {
     "data": {
      "application/vnd.plotly.v1+json": {
       "config": {
        "plotlyServerURL": "https://plot.ly"
       },
       "data": [
        {
         "showlegend": false,
         "type": "bar",
         "x": [
          "french",
          "mixed language",
          "english",
          "german",
          "dessi data"
         ],
         "xaxis": "x",
         "y": [
          0.8561579442181134,
          0.852304797742239,
          0.838152105593966,
          0.8353677621283255,
          0.8308934881373043
         ],
         "yaxis": "y"
        },
        {
         "showlegend": false,
         "type": "bar",
         "x": [
          "mimesis",
          "dessi",
          "faker"
         ],
         "xaxis": "x2",
         "y": [
          0.9114697586963334,
          0.8308934881373043,
          0.7794509803921569
         ],
         "yaxis": "y2"
        },
        {
         "showlegend": false,
         "type": "bar",
         "x": [
          "valid_col_names",
          "invalid_col_names"
         ],
         "xaxis": "x3",
         "y": [
          0.8438177874186551,
          0.8433124094640271
         ],
         "yaxis": "y3"
        }
       ],
       "layout": {
        "annotations": [
         {
          "font": {
           "size": 16
          },
          "showarrow": false,
          "text": "Accuracy per Language",
          "x": 0.14444444444444446,
          "xanchor": "center",
          "xref": "paper",
          "y": 1,
          "yanchor": "bottom",
          "yref": "paper"
         },
         {
          "font": {
           "size": 16
          },
          "showarrow": false,
          "text": "Accuracy per Dataset",
          "x": 0.5,
          "xanchor": "center",
          "xref": "paper",
          "y": 1,
          "yanchor": "bottom",
          "yref": "paper"
         },
         {
          "font": {
           "size": 16
          },
          "showarrow": false,
          "text": "Accuracy per Column Name",
          "x": 0.8555555555555556,
          "xanchor": "center",
          "xref": "paper",
          "y": 1,
          "yanchor": "bottom",
          "yref": "paper"
         }
        ],
        "height": 500,
        "template": {
         "data": {
          "bar": [
           {
            "error_x": {
             "color": "#2a3f5f"
            },
            "error_y": {
             "color": "#2a3f5f"
            },
            "marker": {
             "line": {
              "color": "#E5ECF6",
              "width": 0.5
             },
             "pattern": {
              "fillmode": "overlay",
              "size": 10,
              "solidity": 0.2
             }
            },
            "type": "bar"
           }
          ],
          "barpolar": [
           {
            "marker": {
             "line": {
              "color": "#E5ECF6",
              "width": 0.5
             },
             "pattern": {
              "fillmode": "overlay",
              "size": 10,
              "solidity": 0.2
             }
            },
            "type": "barpolar"
           }
          ],
          "carpet": [
           {
            "aaxis": {
             "endlinecolor": "#2a3f5f",
             "gridcolor": "white",
             "linecolor": "white",
             "minorgridcolor": "white",
             "startlinecolor": "#2a3f5f"
            },
            "baxis": {
             "endlinecolor": "#2a3f5f",
             "gridcolor": "white",
             "linecolor": "white",
             "minorgridcolor": "white",
             "startlinecolor": "#2a3f5f"
            },
            "type": "carpet"
           }
          ],
          "choropleth": [
           {
            "colorbar": {
             "outlinewidth": 0,
             "ticks": ""
            },
            "type": "choropleth"
           }
          ],
          "contour": [
           {
            "colorbar": {
             "outlinewidth": 0,
             "ticks": ""
            },
            "colorscale": [
             [
              0,
              "#0d0887"
             ],
             [
              0.1111111111111111,
              "#46039f"
             ],
             [
              0.2222222222222222,
              "#7201a8"
             ],
             [
              0.3333333333333333,
              "#9c179e"
             ],
             [
              0.4444444444444444,
              "#bd3786"
             ],
             [
              0.5555555555555556,
              "#d8576b"
             ],
             [
              0.6666666666666666,
              "#ed7953"
             ],
             [
              0.7777777777777778,
              "#fb9f3a"
             ],
             [
              0.8888888888888888,
              "#fdca26"
             ],
             [
              1,
              "#f0f921"
             ]
            ],
            "type": "contour"
           }
          ],
          "contourcarpet": [
           {
            "colorbar": {
             "outlinewidth": 0,
             "ticks": ""
            },
            "type": "contourcarpet"
           }
          ],
          "heatmap": [
           {
            "colorbar": {
             "outlinewidth": 0,
             "ticks": ""
            },
            "colorscale": [
             [
              0,
              "#0d0887"
             ],
             [
              0.1111111111111111,
              "#46039f"
             ],
             [
              0.2222222222222222,
              "#7201a8"
             ],
             [
              0.3333333333333333,
              "#9c179e"
             ],
             [
              0.4444444444444444,
              "#bd3786"
             ],
             [
              0.5555555555555556,
              "#d8576b"
             ],
             [
              0.6666666666666666,
              "#ed7953"
             ],
             [
              0.7777777777777778,
              "#fb9f3a"
             ],
             [
              0.8888888888888888,
              "#fdca26"
             ],
             [
              1,
              "#f0f921"
             ]
            ],
            "type": "heatmap"
           }
          ],
          "heatmapgl": [
           {
            "colorbar": {
             "outlinewidth": 0,
             "ticks": ""
            },
            "colorscale": [
             [
              0,
              "#0d0887"
             ],
             [
              0.1111111111111111,
              "#46039f"
             ],
             [
              0.2222222222222222,
              "#7201a8"
             ],
             [
              0.3333333333333333,
              "#9c179e"
             ],
             [
              0.4444444444444444,
              "#bd3786"
             ],
             [
              0.5555555555555556,
              "#d8576b"
             ],
             [
              0.6666666666666666,
              "#ed7953"
             ],
             [
              0.7777777777777778,
              "#fb9f3a"
             ],
             [
              0.8888888888888888,
              "#fdca26"
             ],
             [
              1,
              "#f0f921"
             ]
            ],
            "type": "heatmapgl"
           }
          ],
          "histogram": [
           {
            "marker": {
             "pattern": {
              "fillmode": "overlay",
              "size": 10,
              "solidity": 0.2
             }
            },
            "type": "histogram"
           }
          ],
          "histogram2d": [
           {
            "colorbar": {
             "outlinewidth": 0,
             "ticks": ""
            },
            "colorscale": [
             [
              0,
              "#0d0887"
             ],
             [
              0.1111111111111111,
              "#46039f"
             ],
             [
              0.2222222222222222,
              "#7201a8"
             ],
             [
              0.3333333333333333,
              "#9c179e"
             ],
             [
              0.4444444444444444,
              "#bd3786"
             ],
             [
              0.5555555555555556,
              "#d8576b"
             ],
             [
              0.6666666666666666,
              "#ed7953"
             ],
             [
              0.7777777777777778,
              "#fb9f3a"
             ],
             [
              0.8888888888888888,
              "#fdca26"
             ],
             [
              1,
              "#f0f921"
             ]
            ],
            "type": "histogram2d"
           }
          ],
          "histogram2dcontour": [
           {
            "colorbar": {
             "outlinewidth": 0,
             "ticks": ""
            },
            "colorscale": [
             [
              0,
              "#0d0887"
             ],
             [
              0.1111111111111111,
              "#46039f"
             ],
             [
              0.2222222222222222,
              "#7201a8"
             ],
             [
              0.3333333333333333,
              "#9c179e"
             ],
             [
              0.4444444444444444,
              "#bd3786"
             ],
             [
              0.5555555555555556,
              "#d8576b"
             ],
             [
              0.6666666666666666,
              "#ed7953"
             ],
             [
              0.7777777777777778,
              "#fb9f3a"
             ],
             [
              0.8888888888888888,
              "#fdca26"
             ],
             [
              1,
              "#f0f921"
             ]
            ],
            "type": "histogram2dcontour"
           }
          ],
          "mesh3d": [
           {
            "colorbar": {
             "outlinewidth": 0,
             "ticks": ""
            },
            "type": "mesh3d"
           }
          ],
          "parcoords": [
           {
            "line": {
             "colorbar": {
              "outlinewidth": 0,
              "ticks": ""
             }
            },
            "type": "parcoords"
           }
          ],
          "pie": [
           {
            "automargin": true,
            "type": "pie"
           }
          ],
          "scatter": [
           {
            "fillpattern": {
             "fillmode": "overlay",
             "size": 10,
             "solidity": 0.2
            },
            "type": "scatter"
           }
          ],
          "scatter3d": [
           {
            "line": {
             "colorbar": {
              "outlinewidth": 0,
              "ticks": ""
             }
            },
            "marker": {
             "colorbar": {
              "outlinewidth": 0,
              "ticks": ""
             }
            },
            "type": "scatter3d"
           }
          ],
          "scattercarpet": [
           {
            "marker": {
             "colorbar": {
              "outlinewidth": 0,
              "ticks": ""
             }
            },
            "type": "scattercarpet"
           }
          ],
          "scattergeo": [
           {
            "marker": {
             "colorbar": {
              "outlinewidth": 0,
              "ticks": ""
             }
            },
            "type": "scattergeo"
           }
          ],
          "scattergl": [
           {
            "marker": {
             "colorbar": {
              "outlinewidth": 0,
              "ticks": ""
             }
            },
            "type": "scattergl"
           }
          ],
          "scattermapbox": [
           {
            "marker": {
             "colorbar": {
              "outlinewidth": 0,
              "ticks": ""
             }
            },
            "type": "scattermapbox"
           }
          ],
          "scatterpolar": [
           {
            "marker": {
             "colorbar": {
              "outlinewidth": 0,
              "ticks": ""
             }
            },
            "type": "scatterpolar"
           }
          ],
          "scatterpolargl": [
           {
            "marker": {
             "colorbar": {
              "outlinewidth": 0,
              "ticks": ""
             }
            },
            "type": "scatterpolargl"
           }
          ],
          "scatterternary": [
           {
            "marker": {
             "colorbar": {
              "outlinewidth": 0,
              "ticks": ""
             }
            },
            "type": "scatterternary"
           }
          ],
          "surface": [
           {
            "colorbar": {
             "outlinewidth": 0,
             "ticks": ""
            },
            "colorscale": [
             [
              0,
              "#0d0887"
             ],
             [
              0.1111111111111111,
              "#46039f"
             ],
             [
              0.2222222222222222,
              "#7201a8"
             ],
             [
              0.3333333333333333,
              "#9c179e"
             ],
             [
              0.4444444444444444,
              "#bd3786"
             ],
             [
              0.5555555555555556,
              "#d8576b"
             ],
             [
              0.6666666666666666,
              "#ed7953"
             ],
             [
              0.7777777777777778,
              "#fb9f3a"
             ],
             [
              0.8888888888888888,
              "#fdca26"
             ],
             [
              1,
              "#f0f921"
             ]
            ],
            "type": "surface"
           }
          ],
          "table": [
           {
            "cells": {
             "fill": {
              "color": "#EBF0F8"
             },
             "line": {
              "color": "white"
             }
            },
            "header": {
             "fill": {
              "color": "#C8D4E3"
             },
             "line": {
              "color": "white"
             }
            },
            "type": "table"
           }
          ]
         },
         "layout": {
          "annotationdefaults": {
           "arrowcolor": "#2a3f5f",
           "arrowhead": 0,
           "arrowwidth": 1
          },
          "autotypenumbers": "strict",
          "coloraxis": {
           "colorbar": {
            "outlinewidth": 0,
            "ticks": ""
           }
          },
          "colorscale": {
           "diverging": [
            [
             0,
             "#8e0152"
            ],
            [
             0.1,
             "#c51b7d"
            ],
            [
             0.2,
             "#de77ae"
            ],
            [
             0.3,
             "#f1b6da"
            ],
            [
             0.4,
             "#fde0ef"
            ],
            [
             0.5,
             "#f7f7f7"
            ],
            [
             0.6,
             "#e6f5d0"
            ],
            [
             0.7,
             "#b8e186"
            ],
            [
             0.8,
             "#7fbc41"
            ],
            [
             0.9,
             "#4d9221"
            ],
            [
             1,
             "#276419"
            ]
           ],
           "sequential": [
            [
             0,
             "#0d0887"
            ],
            [
             0.1111111111111111,
             "#46039f"
            ],
            [
             0.2222222222222222,
             "#7201a8"
            ],
            [
             0.3333333333333333,
             "#9c179e"
            ],
            [
             0.4444444444444444,
             "#bd3786"
            ],
            [
             0.5555555555555556,
             "#d8576b"
            ],
            [
             0.6666666666666666,
             "#ed7953"
            ],
            [
             0.7777777777777778,
             "#fb9f3a"
            ],
            [
             0.8888888888888888,
             "#fdca26"
            ],
            [
             1,
             "#f0f921"
            ]
           ],
           "sequentialminus": [
            [
             0,
             "#0d0887"
            ],
            [
             0.1111111111111111,
             "#46039f"
            ],
            [
             0.2222222222222222,
             "#7201a8"
            ],
            [
             0.3333333333333333,
             "#9c179e"
            ],
            [
             0.4444444444444444,
             "#bd3786"
            ],
            [
             0.5555555555555556,
             "#d8576b"
            ],
            [
             0.6666666666666666,
             "#ed7953"
            ],
            [
             0.7777777777777778,
             "#fb9f3a"
            ],
            [
             0.8888888888888888,
             "#fdca26"
            ],
            [
             1,
             "#f0f921"
            ]
           ]
          },
          "colorway": [
           "#636efa",
           "#EF553B",
           "#00cc96",
           "#ab63fa",
           "#FFA15A",
           "#19d3f3",
           "#FF6692",
           "#B6E880",
           "#FF97FF",
           "#FECB52"
          ],
          "font": {
           "color": "#2a3f5f"
          },
          "geo": {
           "bgcolor": "white",
           "lakecolor": "white",
           "landcolor": "#E5ECF6",
           "showlakes": true,
           "showland": true,
           "subunitcolor": "white"
          },
          "hoverlabel": {
           "align": "left"
          },
          "hovermode": "closest",
          "mapbox": {
           "style": "light"
          },
          "paper_bgcolor": "white",
          "plot_bgcolor": "#E5ECF6",
          "polar": {
           "angularaxis": {
            "gridcolor": "white",
            "linecolor": "white",
            "ticks": ""
           },
           "bgcolor": "#E5ECF6",
           "radialaxis": {
            "gridcolor": "white",
            "linecolor": "white",
            "ticks": ""
           }
          },
          "scene": {
           "xaxis": {
            "backgroundcolor": "#E5ECF6",
            "gridcolor": "white",
            "gridwidth": 2,
            "linecolor": "white",
            "showbackground": true,
            "ticks": "",
            "zerolinecolor": "white"
           },
           "yaxis": {
            "backgroundcolor": "#E5ECF6",
            "gridcolor": "white",
            "gridwidth": 2,
            "linecolor": "white",
            "showbackground": true,
            "ticks": "",
            "zerolinecolor": "white"
           },
           "zaxis": {
            "backgroundcolor": "#E5ECF6",
            "gridcolor": "white",
            "gridwidth": 2,
            "linecolor": "white",
            "showbackground": true,
            "ticks": "",
            "zerolinecolor": "white"
           }
          },
          "shapedefaults": {
           "line": {
            "color": "#2a3f5f"
           }
          },
          "ternary": {
           "aaxis": {
            "gridcolor": "white",
            "linecolor": "white",
            "ticks": ""
           },
           "baxis": {
            "gridcolor": "white",
            "linecolor": "white",
            "ticks": ""
           },
           "bgcolor": "#E5ECF6",
           "caxis": {
            "gridcolor": "white",
            "linecolor": "white",
            "ticks": ""
           }
          },
          "title": {
           "x": 0.05
          },
          "xaxis": {
           "automargin": true,
           "gridcolor": "white",
           "linecolor": "white",
           "ticks": "",
           "title": {
            "standoff": 15
           },
           "zerolinecolor": "white",
           "zerolinewidth": 2
          },
          "yaxis": {
           "automargin": true,
           "gridcolor": "white",
           "linecolor": "white",
           "ticks": "",
           "title": {
            "standoff": 15
           },
           "zerolinecolor": "white",
           "zerolinewidth": 2
          }
         }
        },
        "title": {
         "text": "Accuracy of GPT's PII Predictions on dessi-mf with respect to different categories"
        },
        "width": 900,
        "xaxis": {
         "anchor": "y",
         "domain": [
          0,
          0.2888888888888889
         ]
        },
        "xaxis2": {
         "anchor": "y2",
         "domain": [
          0.35555555555555557,
          0.6444444444444445
         ]
        },
        "xaxis3": {
         "anchor": "y3",
         "domain": [
          0.7111111111111111,
          1
         ]
        },
        "yaxis": {
         "anchor": "x",
         "domain": [
          0,
          1
         ]
        },
        "yaxis2": {
         "anchor": "x2",
         "domain": [
          0,
          1
         ],
         "matches": "y",
         "showticklabels": false
        },
        "yaxis3": {
         "anchor": "x3",
         "domain": [
          0,
          1
         ],
         "matches": "y",
         "showticklabels": false
        }
       }
      }
     },
     "metadata": {},
     "output_type": "display_data"
    }
   ],
   "source": [
    "create_analysis_plot(results_df_own_data)"
   ]
  },
  {
   "cell_type": "code",
   "execution_count": null,
   "metadata": {},
   "outputs": [],
   "source": []
  }
 ],
 "metadata": {
  "kernelspec": {
   "display_name": "data-analysis",
   "language": "python",
   "name": "python3"
  },
  "language_info": {
   "codemirror_mode": {
    "name": "ipython",
    "version": 3
   },
   "file_extension": ".py",
   "mimetype": "text/x-python",
   "name": "python",
   "nbconvert_exporter": "python",
   "pygments_lexer": "ipython3",
   "version": "3.9.20"
  }
 },
 "nbformat": 4,
 "nbformat_minor": 2
}
