{
 "cells": [
  {
   "cell_type": "code",
   "execution_count": 5,
   "metadata": {},
   "outputs": [],
   "source": [
    "import pandas as pd\n",
    "import plotly.graph_objects as go\n",
    "import re\n",
    "from sklearn.metrics import confusion_matrix, accuracy_score, f1_score, precision_score, roc_auc_score, recall_score\n",
    "from plotly.subplots import make_subplots\n",
    "import os"
   ]
  },
  {
   "cell_type": "code",
   "execution_count": 6,
   "metadata": {},
   "outputs": [],
   "source": [
    "own_data = pd.read_csv(\"../../datasets/dessi-mf/dessi-mf/test.csv\")\n",
    "own_data_personal = pd.read_csv(\"../../datasets/dessi-mf/dessi-mf/test_labels_personal.csv\")\n",
    "own_data_classes = pd.read_csv(\"../../datasets/dessi-mf/dessi-mf/test_classes.csv\")\n",
    "own_data_datasets = pd.read_csv(\"../../datasets/dessi-mf/dessi-mf/test_dataset.csv\")"
   ]
  },
  {
   "cell_type": "code",
   "execution_count": 7,
   "metadata": {},
   "outputs": [],
   "source": [
    "def extract_prediction(i, predictions):\n",
    "    list_extractor = re.compile(r\"([a-zA-Z0-9\\-]+)\\s*\\(\\d+(\\.\\d+)?\\)\")\n",
    "    matches = list_extractor.findall(predictions.iloc[i, :].values[0])\n",
    "    return [match[0] for match in matches]\n",
    "\n",
    "\n",
    "def convert_predictions(predictions):\n",
    "    column_names = []\n",
    "    gold_list = []\n",
    "    pred_list = []\n",
    "    mismatch = []\n",
    "    column_names.append(predictions.columns[0].split(\". \")[0].strip())\n",
    "\n",
    "    height = predictions.shape[0]\n",
    "\n",
    "    for i in range(height):\n",
    "        if 'Gold:' in predictions.iloc[i, :].values[0][:10]:\n",
    "            gold_list.append(str(extract_prediction(i, predictions))[2:-2])\n",
    "        elif 'Pred:' in predictions.iloc[i, :].values[0][:10]:\n",
    "            pred_list.append(str(extract_prediction(i, predictions))[2:-2])\n",
    "            if i == height-1:\n",
    "                mismatch.append(\"No Mismatch\")\n",
    "                break\n",
    "            if 'MISMATCH' in predictions.iloc[i+1, :].values[0][:20]:\n",
    "                mismatch.append(\"Mismatch\")\n",
    "            else:\n",
    "                mismatch.append(\"No Mismatch\")\n",
    "        elif 'MISMATCH' not in predictions.iloc[i, :].values[0][:20]:\n",
    "            column_names.append(predictions.iloc[i, :].values[0].split('. ')[0].strip())\n",
    "            \n",
    "    df = pd.DataFrame({\n",
    "        'Name': column_names,\n",
    "        'Gold': gold_list,\n",
    "        'Pred': pred_list,\n",
    "        'Mismatch': mismatch\n",
    "    })\n",
    "    return df"
   ]
  },
  {
   "cell_type": "code",
   "execution_count": 8,
   "metadata": {},
   "outputs": [],
   "source": [
    "results_own_data = pd.read_csv(\"../CASSED_model_results/cassed_personal/dessi-mf/test.tsv\", sep='\\t')\n",
    "results_own_data = convert_predictions(results_own_data)"
   ]
  },
  {
   "cell_type": "code",
   "execution_count": 9,
   "metadata": {},
   "outputs": [
    {
     "data": {
      "application/vnd.plotly.v1+json": {
       "config": {
        "plotlyServerURL": "https://plot.ly"
       },
       "data": [
        {
         "showlegend": false,
         "type": "bar",
         "x": [
          "weighted Precision",
          "weighted Recall",
          "weighted F1 Score",
          "Accuracy",
          "AUC-ROC"
         ],
         "xaxis": "x",
         "y": [
          1,
          1,
          1,
          1,
          1
         ],
         "yaxis": "y"
        },
        {
         "colorscale": [
          [
           0,
           "rgb(247,251,255)"
          ],
          [
           0.125,
           "rgb(222,235,247)"
          ],
          [
           0.25,
           "rgb(198,219,239)"
          ],
          [
           0.375,
           "rgb(158,202,225)"
          ],
          [
           0.5,
           "rgb(107,174,214)"
          ],
          [
           0.625,
           "rgb(66,146,198)"
          ],
          [
           0.75,
           "rgb(33,113,181)"
          ],
          [
           0.875,
           "rgb(8,81,156)"
          ],
          [
           1,
           "rgb(8,48,107)"
          ]
         ],
         "showscale": false,
         "text": [
          [
           "8046<br>1.00",
           "0<br>0.00"
          ],
          [
           "0<br>0.00",
           "6692<br>1.00"
          ]
         ],
         "textfont": {
          "size": 20
         },
         "texttemplate": "%{text}",
         "type": "heatmap",
         "x": [
          "Pred: personal",
          "Pred: non-personal"
         ],
         "xaxis": "x2",
         "y": [
          "True: personal",
          "True: non-personal"
         ],
         "yaxis": "y2",
         "z": [
          [
           8046,
           0
          ],
          [
           0,
           6692
          ]
         ]
        }
       ],
       "layout": {
        "annotations": [
         {
          "font": {
           "size": 16
          },
          "showarrow": false,
          "text": "Evaluation Metrics",
          "x": 0.225,
          "xanchor": "center",
          "xref": "paper",
          "y": 1,
          "yanchor": "bottom",
          "yref": "paper"
         },
         {
          "font": {
           "size": 16
          },
          "showarrow": false,
          "text": "Confusion Matrix",
          "x": 0.775,
          "xanchor": "center",
          "xref": "paper",
          "y": 1,
          "yanchor": "bottom",
          "yref": "paper"
         }
        ],
        "height": 500,
        "showlegend": false,
        "template": {
         "data": {
          "bar": [
           {
            "error_x": {
             "color": "#2a3f5f"
            },
            "error_y": {
             "color": "#2a3f5f"
            },
            "marker": {
             "line": {
              "color": "#E5ECF6",
              "width": 0.5
             },
             "pattern": {
              "fillmode": "overlay",
              "size": 10,
              "solidity": 0.2
             }
            },
            "type": "bar"
           }
          ],
          "barpolar": [
           {
            "marker": {
             "line": {
              "color": "#E5ECF6",
              "width": 0.5
             },
             "pattern": {
              "fillmode": "overlay",
              "size": 10,
              "solidity": 0.2
             }
            },
            "type": "barpolar"
           }
          ],
          "carpet": [
           {
            "aaxis": {
             "endlinecolor": "#2a3f5f",
             "gridcolor": "white",
             "linecolor": "white",
             "minorgridcolor": "white",
             "startlinecolor": "#2a3f5f"
            },
            "baxis": {
             "endlinecolor": "#2a3f5f",
             "gridcolor": "white",
             "linecolor": "white",
             "minorgridcolor": "white",
             "startlinecolor": "#2a3f5f"
            },
            "type": "carpet"
           }
          ],
          "choropleth": [
           {
            "colorbar": {
             "outlinewidth": 0,
             "ticks": ""
            },
            "type": "choropleth"
           }
          ],
          "contour": [
           {
            "colorbar": {
             "outlinewidth": 0,
             "ticks": ""
            },
            "colorscale": [
             [
              0,
              "#0d0887"
             ],
             [
              0.1111111111111111,
              "#46039f"
             ],
             [
              0.2222222222222222,
              "#7201a8"
             ],
             [
              0.3333333333333333,
              "#9c179e"
             ],
             [
              0.4444444444444444,
              "#bd3786"
             ],
             [
              0.5555555555555556,
              "#d8576b"
             ],
             [
              0.6666666666666666,
              "#ed7953"
             ],
             [
              0.7777777777777778,
              "#fb9f3a"
             ],
             [
              0.8888888888888888,
              "#fdca26"
             ],
             [
              1,
              "#f0f921"
             ]
            ],
            "type": "contour"
           }
          ],
          "contourcarpet": [
           {
            "colorbar": {
             "outlinewidth": 0,
             "ticks": ""
            },
            "type": "contourcarpet"
           }
          ],
          "heatmap": [
           {
            "colorbar": {
             "outlinewidth": 0,
             "ticks": ""
            },
            "colorscale": [
             [
              0,
              "#0d0887"
             ],
             [
              0.1111111111111111,
              "#46039f"
             ],
             [
              0.2222222222222222,
              "#7201a8"
             ],
             [
              0.3333333333333333,
              "#9c179e"
             ],
             [
              0.4444444444444444,
              "#bd3786"
             ],
             [
              0.5555555555555556,
              "#d8576b"
             ],
             [
              0.6666666666666666,
              "#ed7953"
             ],
             [
              0.7777777777777778,
              "#fb9f3a"
             ],
             [
              0.8888888888888888,
              "#fdca26"
             ],
             [
              1,
              "#f0f921"
             ]
            ],
            "type": "heatmap"
           }
          ],
          "heatmapgl": [
           {
            "colorbar": {
             "outlinewidth": 0,
             "ticks": ""
            },
            "colorscale": [
             [
              0,
              "#0d0887"
             ],
             [
              0.1111111111111111,
              "#46039f"
             ],
             [
              0.2222222222222222,
              "#7201a8"
             ],
             [
              0.3333333333333333,
              "#9c179e"
             ],
             [
              0.4444444444444444,
              "#bd3786"
             ],
             [
              0.5555555555555556,
              "#d8576b"
             ],
             [
              0.6666666666666666,
              "#ed7953"
             ],
             [
              0.7777777777777778,
              "#fb9f3a"
             ],
             [
              0.8888888888888888,
              "#fdca26"
             ],
             [
              1,
              "#f0f921"
             ]
            ],
            "type": "heatmapgl"
           }
          ],
          "histogram": [
           {
            "marker": {
             "pattern": {
              "fillmode": "overlay",
              "size": 10,
              "solidity": 0.2
             }
            },
            "type": "histogram"
           }
          ],
          "histogram2d": [
           {
            "colorbar": {
             "outlinewidth": 0,
             "ticks": ""
            },
            "colorscale": [
             [
              0,
              "#0d0887"
             ],
             [
              0.1111111111111111,
              "#46039f"
             ],
             [
              0.2222222222222222,
              "#7201a8"
             ],
             [
              0.3333333333333333,
              "#9c179e"
             ],
             [
              0.4444444444444444,
              "#bd3786"
             ],
             [
              0.5555555555555556,
              "#d8576b"
             ],
             [
              0.6666666666666666,
              "#ed7953"
             ],
             [
              0.7777777777777778,
              "#fb9f3a"
             ],
             [
              0.8888888888888888,
              "#fdca26"
             ],
             [
              1,
              "#f0f921"
             ]
            ],
            "type": "histogram2d"
           }
          ],
          "histogram2dcontour": [
           {
            "colorbar": {
             "outlinewidth": 0,
             "ticks": ""
            },
            "colorscale": [
             [
              0,
              "#0d0887"
             ],
             [
              0.1111111111111111,
              "#46039f"
             ],
             [
              0.2222222222222222,
              "#7201a8"
             ],
             [
              0.3333333333333333,
              "#9c179e"
             ],
             [
              0.4444444444444444,
              "#bd3786"
             ],
             [
              0.5555555555555556,
              "#d8576b"
             ],
             [
              0.6666666666666666,
              "#ed7953"
             ],
             [
              0.7777777777777778,
              "#fb9f3a"
             ],
             [
              0.8888888888888888,
              "#fdca26"
             ],
             [
              1,
              "#f0f921"
             ]
            ],
            "type": "histogram2dcontour"
           }
          ],
          "mesh3d": [
           {
            "colorbar": {
             "outlinewidth": 0,
             "ticks": ""
            },
            "type": "mesh3d"
           }
          ],
          "parcoords": [
           {
            "line": {
             "colorbar": {
              "outlinewidth": 0,
              "ticks": ""
             }
            },
            "type": "parcoords"
           }
          ],
          "pie": [
           {
            "automargin": true,
            "type": "pie"
           }
          ],
          "scatter": [
           {
            "fillpattern": {
             "fillmode": "overlay",
             "size": 10,
             "solidity": 0.2
            },
            "type": "scatter"
           }
          ],
          "scatter3d": [
           {
            "line": {
             "colorbar": {
              "outlinewidth": 0,
              "ticks": ""
             }
            },
            "marker": {
             "colorbar": {
              "outlinewidth": 0,
              "ticks": ""
             }
            },
            "type": "scatter3d"
           }
          ],
          "scattercarpet": [
           {
            "marker": {
             "colorbar": {
              "outlinewidth": 0,
              "ticks": ""
             }
            },
            "type": "scattercarpet"
           }
          ],
          "scattergeo": [
           {
            "marker": {
             "colorbar": {
              "outlinewidth": 0,
              "ticks": ""
             }
            },
            "type": "scattergeo"
           }
          ],
          "scattergl": [
           {
            "marker": {
             "colorbar": {
              "outlinewidth": 0,
              "ticks": ""
             }
            },
            "type": "scattergl"
           }
          ],
          "scattermapbox": [
           {
            "marker": {
             "colorbar": {
              "outlinewidth": 0,
              "ticks": ""
             }
            },
            "type": "scattermapbox"
           }
          ],
          "scatterpolar": [
           {
            "marker": {
             "colorbar": {
              "outlinewidth": 0,
              "ticks": ""
             }
            },
            "type": "scatterpolar"
           }
          ],
          "scatterpolargl": [
           {
            "marker": {
             "colorbar": {
              "outlinewidth": 0,
              "ticks": ""
             }
            },
            "type": "scatterpolargl"
           }
          ],
          "scatterternary": [
           {
            "marker": {
             "colorbar": {
              "outlinewidth": 0,
              "ticks": ""
             }
            },
            "type": "scatterternary"
           }
          ],
          "surface": [
           {
            "colorbar": {
             "outlinewidth": 0,
             "ticks": ""
            },
            "colorscale": [
             [
              0,
              "#0d0887"
             ],
             [
              0.1111111111111111,
              "#46039f"
             ],
             [
              0.2222222222222222,
              "#7201a8"
             ],
             [
              0.3333333333333333,
              "#9c179e"
             ],
             [
              0.4444444444444444,
              "#bd3786"
             ],
             [
              0.5555555555555556,
              "#d8576b"
             ],
             [
              0.6666666666666666,
              "#ed7953"
             ],
             [
              0.7777777777777778,
              "#fb9f3a"
             ],
             [
              0.8888888888888888,
              "#fdca26"
             ],
             [
              1,
              "#f0f921"
             ]
            ],
            "type": "surface"
           }
          ],
          "table": [
           {
            "cells": {
             "fill": {
              "color": "#EBF0F8"
             },
             "line": {
              "color": "white"
             }
            },
            "header": {
             "fill": {
              "color": "#C8D4E3"
             },
             "line": {
              "color": "white"
             }
            },
            "type": "table"
           }
          ]
         },
         "layout": {
          "annotationdefaults": {
           "arrowcolor": "#2a3f5f",
           "arrowhead": 0,
           "arrowwidth": 1
          },
          "autotypenumbers": "strict",
          "coloraxis": {
           "colorbar": {
            "outlinewidth": 0,
            "ticks": ""
           }
          },
          "colorscale": {
           "diverging": [
            [
             0,
             "#8e0152"
            ],
            [
             0.1,
             "#c51b7d"
            ],
            [
             0.2,
             "#de77ae"
            ],
            [
             0.3,
             "#f1b6da"
            ],
            [
             0.4,
             "#fde0ef"
            ],
            [
             0.5,
             "#f7f7f7"
            ],
            [
             0.6,
             "#e6f5d0"
            ],
            [
             0.7,
             "#b8e186"
            ],
            [
             0.8,
             "#7fbc41"
            ],
            [
             0.9,
             "#4d9221"
            ],
            [
             1,
             "#276419"
            ]
           ],
           "sequential": [
            [
             0,
             "#0d0887"
            ],
            [
             0.1111111111111111,
             "#46039f"
            ],
            [
             0.2222222222222222,
             "#7201a8"
            ],
            [
             0.3333333333333333,
             "#9c179e"
            ],
            [
             0.4444444444444444,
             "#bd3786"
            ],
            [
             0.5555555555555556,
             "#d8576b"
            ],
            [
             0.6666666666666666,
             "#ed7953"
            ],
            [
             0.7777777777777778,
             "#fb9f3a"
            ],
            [
             0.8888888888888888,
             "#fdca26"
            ],
            [
             1,
             "#f0f921"
            ]
           ],
           "sequentialminus": [
            [
             0,
             "#0d0887"
            ],
            [
             0.1111111111111111,
             "#46039f"
            ],
            [
             0.2222222222222222,
             "#7201a8"
            ],
            [
             0.3333333333333333,
             "#9c179e"
            ],
            [
             0.4444444444444444,
             "#bd3786"
            ],
            [
             0.5555555555555556,
             "#d8576b"
            ],
            [
             0.6666666666666666,
             "#ed7953"
            ],
            [
             0.7777777777777778,
             "#fb9f3a"
            ],
            [
             0.8888888888888888,
             "#fdca26"
            ],
            [
             1,
             "#f0f921"
            ]
           ]
          },
          "colorway": [
           "#636efa",
           "#EF553B",
           "#00cc96",
           "#ab63fa",
           "#FFA15A",
           "#19d3f3",
           "#FF6692",
           "#B6E880",
           "#FF97FF",
           "#FECB52"
          ],
          "font": {
           "color": "#2a3f5f"
          },
          "geo": {
           "bgcolor": "white",
           "lakecolor": "white",
           "landcolor": "#E5ECF6",
           "showlakes": true,
           "showland": true,
           "subunitcolor": "white"
          },
          "hoverlabel": {
           "align": "left"
          },
          "hovermode": "closest",
          "mapbox": {
           "style": "light"
          },
          "paper_bgcolor": "white",
          "plot_bgcolor": "#E5ECF6",
          "polar": {
           "angularaxis": {
            "gridcolor": "white",
            "linecolor": "white",
            "ticks": ""
           },
           "bgcolor": "#E5ECF6",
           "radialaxis": {
            "gridcolor": "white",
            "linecolor": "white",
            "ticks": ""
           }
          },
          "scene": {
           "xaxis": {
            "backgroundcolor": "#E5ECF6",
            "gridcolor": "white",
            "gridwidth": 2,
            "linecolor": "white",
            "showbackground": true,
            "ticks": "",
            "zerolinecolor": "white"
           },
           "yaxis": {
            "backgroundcolor": "#E5ECF6",
            "gridcolor": "white",
            "gridwidth": 2,
            "linecolor": "white",
            "showbackground": true,
            "ticks": "",
            "zerolinecolor": "white"
           },
           "zaxis": {
            "backgroundcolor": "#E5ECF6",
            "gridcolor": "white",
            "gridwidth": 2,
            "linecolor": "white",
            "showbackground": true,
            "ticks": "",
            "zerolinecolor": "white"
           }
          },
          "shapedefaults": {
           "line": {
            "color": "#2a3f5f"
           }
          },
          "ternary": {
           "aaxis": {
            "gridcolor": "white",
            "linecolor": "white",
            "ticks": ""
           },
           "baxis": {
            "gridcolor": "white",
            "linecolor": "white",
            "ticks": ""
           },
           "bgcolor": "#E5ECF6",
           "caxis": {
            "gridcolor": "white",
            "linecolor": "white",
            "ticks": ""
           }
          },
          "title": {
           "x": 0.05
          },
          "xaxis": {
           "automargin": true,
           "gridcolor": "white",
           "linecolor": "white",
           "ticks": "",
           "title": {
            "standoff": 15
           },
           "zerolinecolor": "white",
           "zerolinewidth": 2
          },
          "yaxis": {
           "automargin": true,
           "gridcolor": "white",
           "linecolor": "white",
           "ticks": "",
           "title": {
            "standoff": 15
           },
           "zerolinecolor": "white",
           "zerolinewidth": 2
          }
         }
        },
        "title": {
         "text": "Confusion Matrix and Evaluation Metrics"
        },
        "width": 1000,
        "xaxis": {
         "anchor": "y",
         "domain": [
          0,
          0.45
         ]
        },
        "xaxis2": {
         "anchor": "y2",
         "domain": [
          0.55,
          1
         ]
        },
        "yaxis": {
         "anchor": "x",
         "domain": [
          0,
          1
         ],
         "range": [
          0,
          1.1
         ]
        },
        "yaxis2": {
         "anchor": "x2",
         "domain": [
          0,
          1
         ]
        }
       }
      }
     },
     "metadata": {},
     "output_type": "display_data"
    }
   ],
   "source": [
    "def plot_cassed_results(y_true,y_pred):\n",
    "    y_true_bin = [1 if label == \"personal\" else 0 for label in y_true]\n",
    "    y_pred_bin = [1 if label == \"personal\" else 0 for label in y_pred]\n",
    "\n",
    "    cm = confusion_matrix(y_true, y_pred, labels=[\"personal\", \"non-personal\"])\n",
    "    cm_norm = confusion_matrix(y_true, y_pred, labels=[\"personal\", \"non-personal\"], normalize=\"true\")\n",
    "\n",
    "    accuracy = accuracy_score(y_true, y_pred)\n",
    "    f1 = f1_score(y_true, y_pred,average=\"weighted\")\n",
    "    precision = precision_score(y_true, y_pred, average=\"weighted\", zero_division=0)\n",
    "    recall = recall_score(y_true, y_pred, average=\"weighted\")\n",
    "    auc_roc = roc_auc_score(y_true_bin, y_pred_bin)\n",
    "\n",
    "    fig = make_subplots(\n",
    "        rows=1, cols=2, \n",
    "        subplot_titles=[\"Evaluation Metrics\", \"Confusion Matrix\"]\n",
    "    )\n",
    "\n",
    "    metrics = {\n",
    "        \"weighted Precision\": precision,\n",
    "        \"weighted Recall\": recall,\n",
    "        \"weighted F1 Score\": f1,\n",
    "        \"Accuracy\": accuracy,\n",
    "        \"AUC-ROC\": auc_roc\n",
    "    }\n",
    "\n",
    "    fig.add_trace(go.Bar(\n",
    "        x=list(metrics.keys()),\n",
    "        y=list(metrics.values()), \n",
    "        showlegend=False\n",
    "    ), row=1, col=1)\n",
    "\n",
    "    text_values = [\n",
    "        [f\"{cm[0,0]}<br>{cm_norm[0,0]:.2f}\", f\"{cm[0,1]}<br>{cm_norm[0,1]:.2f}\"],\n",
    "        [f\"{cm[1,0]}<br>{cm_norm[1,0]:.2f}\", f\"{cm[1,1]}<br>{cm_norm[1,1]:.2f}\"]\n",
    "    ]\n",
    "    cm_heatmap = go.Heatmap(\n",
    "        z=cm, \n",
    "        x=[\"Pred: personal\", \"Pred: non-personal\"], \n",
    "        y=[\"True: personal\", \"True: non-personal\"], \n",
    "        colorscale=\"Blues\", \n",
    "        showscale=False,\n",
    "        text=text_values, \n",
    "        texttemplate=\"%{text}\",\n",
    "        textfont={\"size\":20},\n",
    "    )\n",
    "\n",
    "\n",
    "    fig.add_trace(cm_heatmap, row=1, col=2)\n",
    "\n",
    "    fig.update_layout(\n",
    "        title=\"Confusion Matrix and Evaluation Metrics\",\n",
    "        height=500, \n",
    "        width=1000,\n",
    "        showlegend=False\n",
    "    )\n",
    "    fig.update_yaxes(range=[0, 1.1], row=1, col=1)\n",
    "\n",
    "    fig.show()\n",
    "plot_cassed_results(results_own_data[\"Gold\"], results_own_data[\"Pred\"])"
   ]
  },
  {
   "cell_type": "code",
   "execution_count": 10,
   "metadata": {},
   "outputs": [],
   "source": [
    "results_df_own_data = pd.DataFrame({\n",
    "    \"Column\": results_own_data[\"Name\"],\n",
    "    \"Prediction\": results_own_data[\"Pred\"],\n",
    "    \"True Label\": results_own_data[\"Gold\"],\n",
    "    \"Classes\": own_data_classes[\"class\"],\n",
    "    \"Dataset\": own_data_datasets[\"dataset\"]\n",
    "})"
   ]
  },
  {
   "cell_type": "code",
   "execution_count": 11,
   "metadata": {},
   "outputs": [
    {
     "data": {
      "text/html": [
       "<div>\n",
       "<style scoped>\n",
       "    .dataframe tbody tr th:only-of-type {\n",
       "        vertical-align: middle;\n",
       "    }\n",
       "\n",
       "    .dataframe tbody tr th {\n",
       "        vertical-align: top;\n",
       "    }\n",
       "\n",
       "    .dataframe thead th {\n",
       "        text-align: right;\n",
       "    }\n",
       "</style>\n",
       "<table border=\"1\" class=\"dataframe\">\n",
       "  <thead>\n",
       "    <tr style=\"text-align: right;\">\n",
       "      <th></th>\n",
       "      <th>Column</th>\n",
       "      <th>Prediction</th>\n",
       "      <th>True Label</th>\n",
       "      <th>Classes</th>\n",
       "      <th>Dataset</th>\n",
       "    </tr>\n",
       "  </thead>\n",
       "  <tbody>\n",
       "  </tbody>\n",
       "</table>\n",
       "</div>"
      ],
      "text/plain": [
       "Empty DataFrame\n",
       "Columns: [Column, Prediction, True Label, Classes, Dataset]\n",
       "Index: []"
      ]
     },
     "execution_count": 11,
     "metadata": {},
     "output_type": "execute_result"
    }
   ],
   "source": [
    "#False negatives\n",
    "results_df_own_data.loc[(results_df_own_data[\"True Label\"] == \"personal\") & (results_df_own_data[\"Prediction\"] == \"non-personal\")]"
   ]
  },
  {
   "cell_type": "code",
   "execution_count": 12,
   "metadata": {},
   "outputs": [
    {
     "data": {
      "text/html": [
       "<div>\n",
       "<style scoped>\n",
       "    .dataframe tbody tr th:only-of-type {\n",
       "        vertical-align: middle;\n",
       "    }\n",
       "\n",
       "    .dataframe tbody tr th {\n",
       "        vertical-align: top;\n",
       "    }\n",
       "\n",
       "    .dataframe thead th {\n",
       "        text-align: right;\n",
       "    }\n",
       "</style>\n",
       "<table border=\"1\" class=\"dataframe\">\n",
       "  <thead>\n",
       "    <tr style=\"text-align: right;\">\n",
       "      <th></th>\n",
       "      <th>Column</th>\n",
       "      <th>Prediction</th>\n",
       "      <th>True Label</th>\n",
       "      <th>Classes</th>\n",
       "      <th>Dataset</th>\n",
       "    </tr>\n",
       "  </thead>\n",
       "  <tbody>\n",
       "  </tbody>\n",
       "</table>\n",
       "</div>"
      ],
      "text/plain": [
       "Empty DataFrame\n",
       "Columns: [Column, Prediction, True Label, Classes, Dataset]\n",
       "Index: []"
      ]
     },
     "execution_count": 12,
     "metadata": {},
     "output_type": "execute_result"
    }
   ],
   "source": [
    "#False positives\n",
    "results_df_own_data.loc[(results_df_own_data[\"True Label\"] == \"non-personal\") & (results_df_own_data[\"Prediction\"] == \"personal\")]"
   ]
  },
  {
   "cell_type": "code",
   "execution_count": 13,
   "metadata": {},
   "outputs": [],
   "source": [
    "CLASS_NAMES = results_df_own_data[\"Classes\"].unique()\n",
    "CLASS_NAMES = [a.lower().split(\"_\")[0] for a in CLASS_NAMES]\n",
    "\n",
    "def is_valid_word(word):\n",
    "    return word.lower().split(\"_\")[0] in CLASS_NAMES\n",
    "\n",
    "def create_analysis_plot(results_df, dataset=\"dessi-mf\"):\n",
    "    cla_new, lan = [], []\n",
    "    for i in range(len(results_df[\"Classes\"])):\n",
    "        if \"mixed\" in results_df.iloc[i, 3] or \"de_DE\" in results_df.iloc[i, 3] or \"fr_FR\" in results_df.iloc[i, 3]:\n",
    "            cla_new.append(results_df.iloc[i, 3][:-6])\n",
    "        elif \"_en\" in results_df.iloc[i, 3] or \"_de\" in results_df.iloc[i, 3] or \"_fr\" in results_df.iloc[i, 3] or \"_it\" in results_df.iloc[i,3\n",
    "                                                                        ] or \"_zh\" in results_df.iloc[i,3]:\n",
    "            cla_new.append(results_df.iloc[i, 3][:-3])\n",
    "        else:\n",
    "            cla_new.append(results_df.iloc[i, 3])\n",
    "            \n",
    "        if \"mixed\" in results_df.iloc[i, 3]:\n",
    "            lan.append(\"mixed language\")\n",
    "        elif \"_fr\" == results_df.iloc[i,3][-3:].lower():\n",
    "            lan.append(\"french\")\n",
    "        elif \"_it\" == results_df.iloc[i,3][-3:].lower():\n",
    "            lan.append(\"italian\")\n",
    "        elif \"_zh\" == results_df.iloc[i,3][-3:].lower():\n",
    "            lan.append(\"chinese\")\n",
    "        elif \"_de\" == results_df.iloc[i,3][-3:].lower():\n",
    "            lan.append(\"german\")\n",
    "        elif \"_en\" == results_df.iloc[i,3][-3:].lower():\n",
    "            lan.append(\"english\")\n",
    "        else:\n",
    "            lan.append(\"dessi data\")\n",
    "    results_df[\"Classes_new\"] = cla_new\n",
    "    results_df[\"Language\"] = lan\n",
    "    \n",
    "\n",
    "    accuracies_lan = {}\n",
    "    for i in results_df[\"Language\"].unique():\n",
    "        lan_df = results_df.loc[results_df[\"Language\"] == i]\n",
    "        accuracies_lan[i] = accuracy_score(lan_df[\"True Label\"], lan_df[\"Prediction\"])\n",
    "    accuracies_cla = {}\n",
    "    for i in results_df[\"Classes_new\"].unique():\n",
    "        cla_df = results_df.loc[results_df[\"Classes_new\"] == i]\n",
    "        accuracies_cla[i] = accuracy_score(cla_df[\"True Label\"], cla_df[\"Prediction\"])\n",
    "    accuracies_dat = {}\n",
    "    for i in results_df[\"Dataset\"].unique():\n",
    "        dat_df = results_df.loc[results_df[\"Dataset\"] == i]\n",
    "        accuracies_dat[i] = accuracy_score(dat_df[\"True Label\"], dat_df[\"Prediction\"])\n",
    "    accuracies_col = {}\n",
    "    ind = []\n",
    "    for i in range(results_df.shape[0]):\n",
    "        if is_valid_word(results_df.iloc[i, 0]):\n",
    "            ind.append(i)\n",
    "    accuracies_col[\"valid_col_names\"] = accuracy_score(results_df.iloc[ind, 2], results_df.iloc[ind, 1])\n",
    "    accuracies_col[\"invalid_col_names\"] = accuracy_score(results_df.iloc[[a for a in range(results_df.shape[0]) if a not in ind], 2], \n",
    "                                                        results_df.iloc[[a for a in range(results_df.shape[0]) if a not in ind], 1])\n",
    "\n",
    "    accuracies_cla = dict(sorted(accuracies_cla.items(), key=lambda item: item[1], reverse=True))\n",
    "    accuracies_lan = dict(sorted(accuracies_lan.items(), key=lambda item: item[1], reverse=True))\n",
    "    accuracies_col = dict(sorted(accuracies_col.items(), key=lambda item: item[1], reverse=True))\n",
    "    accuracies_dat = dict(sorted(accuracies_dat.items(), key=lambda item: item[1], reverse=True))\n",
    "\n",
    "\n",
    "    fig = make_subplots(rows=3, cols=1, subplot_titles=[\"Accuracy per Class\", \"Number of correct predictions per Class\", \"Number of false predictions per Class\"],\n",
    "                        shared_xaxes=True)\n",
    "    fig.add_trace(go.Bar(\n",
    "        x=list(accuracies_cla.keys()),\n",
    "        y=list(accuracies_cla.values()),\n",
    "        marker=dict(color=\"black\"),\n",
    "        showlegend=False\n",
    "    ))\n",
    "    \n",
    "    colors = [\n",
    "    \"#d62728\",  # Red (High Saturation)\n",
    "    \"#ff9896\",  # Red (Low Saturation)\n",
    "    \"#1f77b4\",  # Blue (High Saturation)\n",
    "    \"#aec7e8\",  # Blue (Low Saturation)\n",
    "    \"#ff7f0e\",  # Orange (High Saturation)\n",
    "    \"#ffbb78\",  # Orange (Low Saturation)\n",
    "    \"#2ca02c\",  # Green (High Saturation)\n",
    "    \"#98df8a\",  # Green (Low Saturation)\n",
    "    \"#9467bd\",  # Purple (High Saturation)\n",
    "    \"#c5b0d5\",  # Purple (Low Saturation)\n",
    "    ]\n",
    "\n",
    "    languages = ['english', 'french', 'german', 'mixed language', 'dessi data'] if dataset != \"two languages\" else [\"italian\", \"chinese\"]\n",
    "    for bool_val in [True, False]:\n",
    "        for e, language in enumerate(languages):\n",
    "            lan_df = results_df.loc[results_df[\"Language\"] == language]\n",
    "            accuracies_cla = {}\n",
    "            for ee, col_valid in enumerate([True, False]):\n",
    "                percentage_of_this_language = []\n",
    "                for i in lan_df[\"Classes_new\"].unique():\n",
    "                    cla_df = lan_df.loc[lan_df[\"Classes_new\"] == i]\n",
    "                    ind = []\n",
    "                    for j in range(cla_df.shape[0]):\n",
    "                        if is_valid_word(cla_df.iloc[j, 0]) == col_valid:\n",
    "                            ind.append(j)\n",
    "                    cla_df = cla_df.iloc[ind,:]\n",
    "                    percentage_of_this_language.append(cla_df.shape[0] / results_df.loc[results_df[\"Classes_new\"] == i].shape[0])\n",
    "                    accuracies_cla[i] = (cla_df[\"True Label\"] == cla_df[\"Prediction\"]).value_counts(normalize=True).get(bool_val, 0)\n",
    "                fig.add_trace(go.Bar(\n",
    "                    x=list(accuracies_cla.keys()),\n",
    "                    y=[a * b for a, b in zip(list(accuracies_cla.values()), percentage_of_this_language)],\n",
    "                    marker=dict(color=colors[2*e+ee]),\n",
    "                    name=f\"{language}_\" + (\"valid\" if col_valid == True else \"invalid\") + \"<br>column name\",\n",
    "                    showlegend=True if bool_val == True else False,\n",
    "                    legendgroup=2*e+ee\n",
    "                ), row=2 if bool_val == True else 3, col=1)\n",
    "    fig.update_layout(title=f\"Accuracy per Class for CASSED's personal Predictions on {dataset}\", width=1500, height=700, barmode=\"stack\")\n",
    "    fig.update_yaxes(title_text=\"Accuracy\", row=1, col=1)\n",
    "    fig.update_yaxes(title_text=\"Amount of<br>correct predictions\", row=2, col=1)\n",
    "    fig.update_yaxes(title_text=\"Amount of<br>false predictions\", row=3, col=1)\n",
    "    fig.show()\n",
    "\n",
    "    fig = make_subplots(\n",
    "        rows=1, cols=3, shared_yaxes=True,\n",
    "        subplot_titles=[\"Accuracy per Language\", \"Accuracy per Dataset\", \"Accuracy per Column Name\"]\n",
    "    )\n",
    "    fig.add_trace(go.Bar(\n",
    "        x=list(accuracies_lan.keys()),\n",
    "        y=list(accuracies_lan.values()),\n",
    "        showlegend=False\n",
    "    ), row=1, col=1)\n",
    "    fig.add_trace(go.Bar(\n",
    "        x=list(accuracies_dat.keys()),\n",
    "        y=list(accuracies_dat.values()),\n",
    "        showlegend=False\n",
    "    ), row=1, col=2)\n",
    "    fig.add_trace(go.Bar(\n",
    "        x=list(accuracies_col.keys()),\n",
    "        y=list(accuracies_col.values()),\n",
    "        showlegend=False\n",
    "    ), row=1, col=3)\n",
    "    fig.update_layout(width=900, height=500, title=f\"Accuracy of CASSED's personal Predictions on {dataset} with respect to different categories\")\n",
    "    fig.show()"
   ]
  },
  {
   "cell_type": "code",
   "execution_count": 15,
   "metadata": {},
   "outputs": [
    {
     "data": {
      "application/vnd.plotly.v1+json": {
       "config": {
        "plotlyServerURL": "https://plot.ly"
       },
       "data": [
        {
         "marker": {
          "color": "black"
         },
         "showlegend": false,
         "type": "bar",
         "x": [
          "pyint",
          "credit_card_number",
          "company",
          "credit_card_provider",
          "academic_degree",
          "political_views",
          "swift",
          "pyfloat",
          "email",
          "color",
          "ean",
          "measure_unit",
          "Date",
          "currency",
          "ssn",
          "gender",
          "Geolocation",
          "Email,Phone_number",
          "last_name",
          "address",
          "first_name",
          "isbn",
          "language",
          "CCN",
          "float_number",
          "blood_type",
          "cpu",
          "graphics",
          "date",
          "NIN",
          "current_location",
          "sex",
          "Phone_number",
          "phone_number",
          "word",
          "isbn13",
          "manufacturer",
          "phone_model",
          "job",
          "url",
          "title",
          "programming_language",
          "occupation",
          "integer_number",
          "Gender",
          "worldview",
          "blood_group",
          "passport_number",
          "full_name",
          "city",
          "resolution",
          "NIN,Date",
          "dish",
          "nationality",
          "system_quality_attribute",
          "drink",
          "iban",
          "Email,NIN",
          "Phone_number,NIN",
          "version",
          "duration",
          "Race",
          "NIN,Email",
          "Sexuality",
          "Phone_number,Email",
          "answer",
          "user_agent",
          "name",
          "Nationality",
          "NIN,Phone_number",
          "Passport",
          "IBAN",
          "SWIFT/BIC",
          "Religion",
          "Organization",
          "Date,NIN",
          "GPE",
          "ID_Card",
          "Email"
         ],
         "y": [
          1,
          1,
          1,
          1,
          1,
          1,
          1,
          1,
          1,
          1,
          1,
          1,
          1,
          1,
          1,
          1,
          1,
          1,
          1,
          1,
          1,
          1,
          1,
          1,
          1,
          1,
          1,
          1,
          1,
          1,
          1,
          1,
          1,
          1,
          1,
          1,
          1,
          1,
          1,
          1,
          1,
          1,
          1,
          1,
          1,
          1,
          1,
          1,
          1,
          1,
          1,
          1,
          1,
          1,
          1,
          1,
          1,
          1,
          1,
          1,
          1,
          1,
          1,
          1,
          1,
          1,
          1,
          1,
          1,
          1,
          1,
          1,
          1,
          1,
          1,
          1,
          1,
          1,
          1
         ]
        },
        {
         "legendgroup": "0",
         "marker": {
          "color": "#d62728"
         },
         "name": "english_valid<br>column name",
         "showlegend": true,
         "type": "bar",
         "x": [
          "company",
          "academic_degree",
          "political_views",
          "color",
          "currency",
          "credit_card_provider",
          "language",
          "ean",
          "cpu",
          "graphics",
          "float_number",
          "word",
          "isbn13",
          "job",
          "phone_number",
          "email",
          "programming_language",
          "blood_type",
          "worldview",
          "title",
          "credit_card_number",
          "pyint",
          "current_location",
          "pyfloat",
          "first_name",
          "resolution",
          "last_name",
          "url",
          "ssn",
          "manufacturer",
          "nationality",
          "sex",
          "occupation",
          "blood_group",
          "integer_number",
          "dish",
          "system_quality_attribute",
          "version",
          "passport_number",
          "date",
          "swift",
          "answer",
          "city",
          "duration",
          "address",
          "name",
          "full_name",
          "drink",
          "user_agent",
          "isbn",
          "iban",
          "measure_unit",
          "phone_model",
          "gender"
         ],
         "xaxis": "x2",
         "y": [
          0.11963882618510158,
          0.10552763819095477,
          0.13,
          0.1309255079006772,
          0.12027491408934708,
          0.12758620689655173,
          0.115,
          0.12027491408934708,
          0.125,
          0.13157894736842105,
          0.125,
          0.13157894736842105,
          0.13494809688581316,
          0.11842105263157894,
          0.12412177985948478,
          0.11214953271028037,
          0.09868421052631579,
          0.12060301507537688,
          0.095,
          0.13,
          0.13317757009345793,
          0.13402061855670103,
          0.13596491228070176,
          0.14186851211072665,
          0.13348946135831383,
          0.11842105263157894,
          0.12910798122065728,
          0.13058419243986255,
          0.12831858407079647,
          0.1118421052631579,
          0.125,
          0.12280701754385964,
          0.1111111111111111,
          0.13596491228070176,
          0.13815789473684212,
          0.1118421052631579,
          0.14473684210526316,
          0.11842105263157894,
          0.09649122807017543,
          0.1310344827586207,
          0.11971830985915492,
          0.1118421052631579,
          0.11842105263157894,
          0.14473684210526316,
          0.1261682242990654,
          0.14222222222222222,
          0.13131313131313133,
          0.13157894736842105,
          0.10526315789473684,
          0.09868421052631579,
          0.10964912280701754,
          0.13815789473684212,
          0.17105263157894737,
          0.125
         ],
         "yaxis": "y2"
        },
        {
         "legendgroup": "1",
         "marker": {
          "color": "#ff9896"
         },
         "name": "english_invalid<br>column name",
         "showlegend": true,
         "type": "bar",
         "x": [
          "company",
          "academic_degree",
          "political_views",
          "color",
          "currency",
          "credit_card_provider",
          "language",
          "ean",
          "cpu",
          "graphics",
          "float_number",
          "word",
          "isbn13",
          "job",
          "phone_number",
          "email",
          "programming_language",
          "blood_type",
          "worldview",
          "title",
          "credit_card_number",
          "pyint",
          "current_location",
          "pyfloat",
          "first_name",
          "resolution",
          "last_name",
          "url",
          "ssn",
          "manufacturer",
          "nationality",
          "sex",
          "occupation",
          "blood_group",
          "integer_number",
          "dish",
          "system_quality_attribute",
          "version",
          "passport_number",
          "date",
          "swift",
          "answer",
          "city",
          "duration",
          "address",
          "name",
          "full_name",
          "drink",
          "user_agent",
          "isbn",
          "iban",
          "measure_unit",
          "phone_model",
          "gender"
         ],
         "xaxis": "x2",
         "y": [
          0.1309255079006772,
          0.1457286432160804,
          0.12,
          0.11963882618510158,
          0.13058419243986255,
          0.1206896551724138,
          0.135,
          0.13058419243986255,
          0.125,
          0.11842105263157894,
          0.125,
          0.11842105263157894,
          0.11418685121107267,
          0.13157894736842105,
          0.12646370023419204,
          0.1378504672897196,
          0.1513157894736842,
          0.12562814070351758,
          0.155,
          0.12,
          0.11682242990654206,
          0.1134020618556701,
          0.11403508771929824,
          0.10726643598615918,
          0.11475409836065574,
          0.13157894736842105,
          0.11971830985915492,
          0.11683848797250859,
          0.11946902654867257,
          0.13815789473684212,
          0.125,
          0.12719298245614036,
          0.13636363636363635,
          0.11403508771929824,
          0.1118421052631579,
          0.13815789473684212,
          0.10526315789473684,
          0.13157894736842105,
          0.15350877192982457,
          0.11724137931034483,
          0.12323943661971831,
          0.13815789473684212,
          0.13157894736842105,
          0.10526315789473684,
          0.12383177570093458,
          0.10666666666666667,
          0.11616161616161616,
          0.11842105263157894,
          0.14473684210526316,
          0.1513157894736842,
          0.14035087719298245,
          0.1118421052631579,
          0.07894736842105263,
          0.125
         ],
         "yaxis": "y2"
        },
        {
         "legendgroup": "2",
         "marker": {
          "color": "#1f77b4"
         },
         "name": "french_valid<br>column name",
         "showlegend": true,
         "type": "bar",
         "x": [
          "credit_card_number",
          "credit_card_provider",
          "email",
          "ean",
          "measure_unit",
          "ssn",
          "first_name",
          "swift",
          "currency",
          "isbn",
          "date",
          "phone_model",
          "company",
          "language",
          "pyfloat",
          "pyint",
          "last_name",
          "integer_number",
          "blood_group",
          "word",
          "passport_number",
          "political_views",
          "color",
          "url",
          "float_number",
          "blood_type",
          "academic_degree",
          "full_name",
          "gender",
          "dish",
          "current_location",
          "address",
          "drink",
          "phone_number",
          "occupation",
          "title",
          "cpu",
          "duration",
          "isbn13",
          "user_agent",
          "graphics",
          "city",
          "name",
          "answer",
          "nationality",
          "sex",
          "worldview",
          "job",
          "manufacturer",
          "iban",
          "programming_language",
          "version",
          "system_quality_attribute",
          "resolution"
         ],
         "xaxis": "x2",
         "y": [
          0.13317757009345793,
          0.1310344827586207,
          0.1261682242990654,
          0.12714776632302405,
          0.11842105263157894,
          0.11946902654867257,
          0.1358313817330211,
          0.1267605633802817,
          0.14776632302405499,
          0.1118421052631579,
          0.11379310344827587,
          0.10526315789473684,
          0.09029345372460497,
          0.125,
          0.13494809688581316,
          0.12714776632302405,
          0.1056338028169014,
          0.06578947368421052,
          0.13596491228070176,
          0.10526315789473684,
          0.12719298245614036,
          0.115,
          0.11963882618510158,
          0.13745704467353953,
          0.13157894736842105,
          0.1407035175879397,
          0.11557788944723618,
          0.12121212121212122,
          0.11,
          0.125,
          0.11842105263157894,
          0.11682242990654206,
          0.11842105263157894,
          0.13817330210772832,
          0.09595959595959595,
          0.155,
          0.13157894736842105,
          0.13157894736842105,
          0.11764705882352941,
          0.125,
          0.14473684210526316,
          0.125,
          0.11555555555555555,
          0.13157894736842105,
          0.14,
          0.12280701754385964,
          0.135,
          0.11403508771929824,
          0.13815789473684212,
          0.12719298245614036,
          0.10526315789473684,
          0.15789473684210525,
          0.11842105263157894,
          0.125
         ],
         "yaxis": "y2"
        },
        {
         "legendgroup": "3",
         "marker": {
          "color": "#aec7e8"
         },
         "name": "french_invalid<br>column name",
         "showlegend": true,
         "type": "bar",
         "x": [
          "credit_card_number",
          "credit_card_provider",
          "email",
          "ean",
          "measure_unit",
          "ssn",
          "first_name",
          "swift",
          "currency",
          "isbn",
          "date",
          "phone_model",
          "company",
          "language",
          "pyfloat",
          "pyint",
          "last_name",
          "integer_number",
          "blood_group",
          "word",
          "passport_number",
          "political_views",
          "color",
          "url",
          "float_number",
          "blood_type",
          "academic_degree",
          "full_name",
          "gender",
          "dish",
          "current_location",
          "address",
          "drink",
          "phone_number",
          "occupation",
          "title",
          "cpu",
          "duration",
          "isbn13",
          "user_agent",
          "graphics",
          "city",
          "name",
          "answer",
          "nationality",
          "sex",
          "worldview",
          "job",
          "manufacturer",
          "iban",
          "programming_language",
          "version",
          "system_quality_attribute",
          "resolution"
         ],
         "xaxis": "x2",
         "y": [
          0.11682242990654206,
          0.1206896551724138,
          0.12383177570093458,
          0.12371134020618557,
          0.13157894736842105,
          0.13274336283185842,
          0.11475409836065574,
          0.1267605633802817,
          0.09965635738831616,
          0.13815789473684212,
          0.13793103448275862,
          0.14473684210526316,
          0.16027088036117382,
          0.125,
          0.11418685121107267,
          0.12371134020618557,
          0.14553990610328638,
          0.18421052631578946,
          0.11403508771929824,
          0.14473684210526316,
          0.12280701754385964,
          0.135,
          0.1309255079006772,
          0.1134020618556701,
          0.11842105263157894,
          0.11055276381909548,
          0.135678391959799,
          0.12626262626262627,
          0.14,
          0.125,
          0.13157894736842105,
          0.13317757009345793,
          0.13157894736842105,
          0.11007025761124122,
          0.15151515151515152,
          0.095,
          0.11842105263157894,
          0.11842105263157894,
          0.1314878892733564,
          0.125,
          0.10526315789473684,
          0.125,
          0.13333333333333333,
          0.11842105263157894,
          0.11,
          0.12719298245614036,
          0.115,
          0.13596491228070176,
          0.1118421052631579,
          0.12280701754385964,
          0.14473684210526316,
          0.09210526315789473,
          0.13157894736842105,
          0.125
         ],
         "yaxis": "y2"
        },
        {
         "legendgroup": "4",
         "marker": {
          "color": "#ff7f0e"
         },
         "name": "german_valid<br>column name",
         "showlegend": true,
         "type": "bar",
         "x": [
          "pyint",
          "pyfloat",
          "academic_degree",
          "gender",
          "last_name",
          "address",
          "blood_type",
          "sex",
          "credit_card_provider",
          "swift",
          "company",
          "url",
          "color",
          "integer_number",
          "title",
          "currency",
          "full_name",
          "graphics",
          "isbn",
          "blood_group",
          "ssn",
          "measure_unit",
          "ean",
          "first_name",
          "system_quality_attribute",
          "email",
          "phone_number",
          "job",
          "occupation",
          "drink",
          "isbn13",
          "word",
          "date",
          "programming_language",
          "iban",
          "manufacturer",
          "phone_model",
          "language",
          "float_number",
          "nationality",
          "name",
          "passport_number",
          "city",
          "current_location",
          "credit_card_number",
          "political_views",
          "duration",
          "worldview",
          "cpu",
          "resolution",
          "user_agent",
          "dish",
          "version",
          "answer"
         ],
         "xaxis": "x2",
         "y": [
          0.13745704467353953,
          0.13494809688581316,
          0.135678391959799,
          0.12,
          0.12441314553990611,
          0.1191588785046729,
          0.10050251256281408,
          0.10964912280701754,
          0.1310344827586207,
          0.12323943661971831,
          0.10609480812641084,
          0.11683848797250859,
          0.1399548532731377,
          0.13157894736842105,
          0.11,
          0.12371134020618557,
          0.12626262626262627,
          0.09210526315789473,
          0.125,
          0.11403508771929824,
          0.12831858407079647,
          0.1118421052631579,
          0.12714776632302405,
          0.12412177985948478,
          0.10526315789473684,
          0.11682242990654206,
          0.1358313817330211,
          0.11403508771929824,
          0.13131313131313133,
          0.13815789473684212,
          0.1522491349480969,
          0.13157894736842105,
          0.1103448275862069,
          0.14473684210526316,
          0.14035087719298245,
          0.13815789473684212,
          0.13157894736842105,
          0.115,
          0.14473684210526316,
          0.135,
          0.1288888888888889,
          0.14912280701754385,
          0.125,
          0.10526315789473684,
          0.11448598130841121,
          0.095,
          0.125,
          0.125,
          0.11842105263157894,
          0.125,
          0.14473684210526316,
          0.1118421052631579,
          0.11842105263157894,
          0.10526315789473684
         ],
         "yaxis": "y2"
        },
        {
         "legendgroup": "5",
         "marker": {
          "color": "#ffbb78"
         },
         "name": "german_invalid<br>column name",
         "showlegend": true,
         "type": "bar",
         "x": [
          "pyint",
          "pyfloat",
          "academic_degree",
          "gender",
          "last_name",
          "address",
          "blood_type",
          "sex",
          "credit_card_provider",
          "swift",
          "company",
          "url",
          "color",
          "integer_number",
          "title",
          "currency",
          "full_name",
          "graphics",
          "isbn",
          "blood_group",
          "ssn",
          "measure_unit",
          "ean",
          "first_name",
          "system_quality_attribute",
          "email",
          "phone_number",
          "job",
          "occupation",
          "drink",
          "isbn13",
          "word",
          "date",
          "programming_language",
          "iban",
          "manufacturer",
          "phone_model",
          "language",
          "float_number",
          "nationality",
          "name",
          "passport_number",
          "city",
          "current_location",
          "credit_card_number",
          "political_views",
          "duration",
          "worldview",
          "cpu",
          "resolution",
          "user_agent",
          "dish",
          "version",
          "answer"
         ],
         "xaxis": "x2",
         "y": [
          0.1134020618556701,
          0.11764705882352941,
          0.11557788944723618,
          0.13,
          0.12441314553990611,
          0.1308411214953271,
          0.1507537688442211,
          0.14035087719298245,
          0.1206896551724138,
          0.13028169014084506,
          0.14221218961625282,
          0.13402061855670103,
          0.10835214446952596,
          0.11842105263157894,
          0.14,
          0.12714776632302405,
          0.12626262626262627,
          0.15789473684210525,
          0.125,
          0.13596491228070176,
          0.12389380530973451,
          0.13815789473684212,
          0.12371134020618557,
          0.12646370023419204,
          0.14473684210526316,
          0.13317757009345793,
          0.11475409836065574,
          0.13596491228070176,
          0.12121212121212122,
          0.1118421052631579,
          0.10034602076124567,
          0.11842105263157894,
          0.1413793103448276,
          0.10526315789473684,
          0.10964912280701754,
          0.1118421052631579,
          0.11842105263157894,
          0.135,
          0.10526315789473684,
          0.115,
          0.12444444444444444,
          0.10087719298245613,
          0.125,
          0.14473684210526316,
          0.13551401869158877,
          0.155,
          0.125,
          0.125,
          0.13157894736842105,
          0.125,
          0.10526315789473684,
          0.13815789473684212,
          0.13157894736842105,
          0.14473684210526316
         ],
         "yaxis": "y2"
        },
        {
         "legendgroup": "6",
         "marker": {
          "color": "#2ca02c"
         },
         "name": "mixed language_valid<br>column name",
         "showlegend": true,
         "type": "bar",
         "x": [
          "swift",
          "credit_card_number",
          "political_views",
          "pyint",
          "float_number",
          "last_name",
          "address",
          "current_location",
          "phone_number",
          "isbn13",
          "manufacturer",
          "company",
          "title",
          "color",
          "job",
          "occupation",
          "word",
          "date",
          "cpu",
          "integer_number",
          "passport_number",
          "phone_model",
          "city",
          "academic_degree",
          "url",
          "ssn",
          "system_quality_attribute",
          "gender",
          "ean",
          "first_name",
          "iban",
          "sex",
          "drink",
          "email",
          "pyfloat",
          "currency",
          "answer",
          "measure_unit",
          "blood_group",
          "user_agent",
          "credit_card_provider",
          "name",
          "programming_language",
          "dish",
          "full_name",
          "language",
          "worldview",
          "duration",
          "resolution",
          "version",
          "graphics",
          "isbn",
          "blood_type",
          "nationality"
         ],
         "xaxis": "x2",
         "y": [
          0.11619718309859155,
          0.1261682242990654,
          0.135,
          0.11683848797250859,
          0.13157894736842105,
          0.12441314553990611,
          0.11448598130841121,
          0.13596491228070176,
          0.1451990632318501,
          0.14878892733564014,
          0.125,
          0.11963882618510158,
          0.135,
          0.12641083521444696,
          0.13596491228070176,
          0.10101010101010101,
          0.13157894736842105,
          0.10344827586206896,
          0.13815789473684212,
          0.125,
          0.13157894736842105,
          0.13157894736842105,
          0.1118421052631579,
          0.1407035175879397,
          0.13402061855670103,
          0.12389380530973451,
          0.125,
          0.135,
          0.13058419243986255,
          0.11241217798594848,
          0.14035087719298245,
          0.11842105263157894,
          0.1118421052631579,
          0.12149532710280374,
          0.12110726643598616,
          0.13058419243986255,
          0.17105263157894737,
          0.125,
          0.12719298245614036,
          0.13815789473684212,
          0.1103448275862069,
          0.10666666666666667,
          0.1513157894736842,
          0.125,
          0.11616161616161616,
          0.13,
          0.115,
          0.10526315789473684,
          0.1118421052631579,
          0.125,
          0.1118421052631579,
          0.09868421052631579,
          0.11557788944723618,
          0.1
         ],
         "yaxis": "y2"
        },
        {
         "legendgroup": "7",
         "marker": {
          "color": "#98df8a"
         },
         "name": "mixed language_invalid<br>column name",
         "showlegend": true,
         "type": "bar",
         "x": [
          "swift",
          "credit_card_number",
          "political_views",
          "pyint",
          "float_number",
          "last_name",
          "address",
          "current_location",
          "phone_number",
          "isbn13",
          "manufacturer",
          "company",
          "title",
          "color",
          "job",
          "occupation",
          "word",
          "date",
          "cpu",
          "integer_number",
          "passport_number",
          "phone_model",
          "city",
          "academic_degree",
          "url",
          "ssn",
          "system_quality_attribute",
          "gender",
          "ean",
          "first_name",
          "iban",
          "sex",
          "drink",
          "email",
          "pyfloat",
          "currency",
          "answer",
          "measure_unit",
          "blood_group",
          "user_agent",
          "credit_card_provider",
          "name",
          "programming_language",
          "dish",
          "full_name",
          "language",
          "worldview",
          "duration",
          "resolution",
          "version",
          "graphics",
          "isbn",
          "blood_type",
          "nationality"
         ],
         "xaxis": "x2",
         "y": [
          0.13380281690140844,
          0.12383177570093458,
          0.115,
          0.13402061855670103,
          0.11842105263157894,
          0.1267605633802817,
          0.13551401869158877,
          0.11403508771929824,
          0.1053864168618267,
          0.10034602076124567,
          0.125,
          0.1309255079006772,
          0.115,
          0.12415349887133183,
          0.11403508771929824,
          0.15151515151515152,
          0.11842105263157894,
          0.14482758620689656,
          0.1118421052631579,
          0.125,
          0.11842105263157894,
          0.11842105263157894,
          0.13815789473684212,
          0.10552763819095477,
          0.11683848797250859,
          0.12389380530973451,
          0.125,
          0.115,
          0.11683848797250859,
          0.13817330210772832,
          0.10964912280701754,
          0.13157894736842105,
          0.13815789473684212,
          0.12850467289719625,
          0.12802768166089964,
          0.12027491408934708,
          0.07894736842105263,
          0.125,
          0.12280701754385964,
          0.1118421052631579,
          0.13793103448275862,
          0.14222222222222222,
          0.09868421052631579,
          0.125,
          0.13636363636363635,
          0.12,
          0.135,
          0.14473684210526316,
          0.13815789473684212,
          0.125,
          0.13815789473684212,
          0.1513157894736842,
          0.135678391959799,
          0.15
         ],
         "yaxis": "y2"
        },
        {
         "legendgroup": "8",
         "marker": {
          "color": "#9467bd"
         },
         "name": "dessi data_valid<br>column name",
         "showlegend": true,
         "type": "bar",
         "x": [
          "Date",
          "Geolocation",
          "Email,Phone_number",
          "CCN",
          "NIN",
          "Phone_number",
          "Gender",
          "NIN,Date",
          "Email,NIN",
          "Phone_number,NIN",
          "Race",
          "NIN,Email",
          "Sexuality",
          "Phone_number,Email",
          "Nationality",
          "NIN,Phone_number",
          "Passport",
          "IBAN",
          "SWIFT/BIC",
          "Religion",
          "Organization",
          "Date,NIN",
          "GPE",
          "ID_Card",
          "Email"
         ],
         "xaxis": "x2",
         "y": [
          0.10714285714285714,
          0,
          0.21428571428571427,
          0,
          0.029850746268656716,
          0.0594059405940594,
          0,
          0.06666666666666667,
          0.07692307692307693,
          0.08888888888888889,
          0,
          0.06451612903225806,
          0.05263157894736842,
          0.03333333333333333,
          0,
          0.09302325581395349,
          0.09523809523809523,
          0,
          0.046511627906976744,
          0.05555555555555555,
          0,
          0.10256410256410256,
          0,
          0,
          0.25
         ],
         "yaxis": "y2"
        },
        {
         "legendgroup": "9",
         "marker": {
          "color": "#c5b0d5"
         },
         "name": "dessi data_invalid<br>column name",
         "showlegend": true,
         "type": "bar",
         "x": [
          "Date",
          "Geolocation",
          "Email,Phone_number",
          "CCN",
          "NIN",
          "Phone_number",
          "Gender",
          "NIN,Date",
          "Email,NIN",
          "Phone_number,NIN",
          "Race",
          "NIN,Email",
          "Sexuality",
          "Phone_number,Email",
          "Nationality",
          "NIN,Phone_number",
          "Passport",
          "IBAN",
          "SWIFT/BIC",
          "Religion",
          "Organization",
          "Date,NIN",
          "GPE",
          "ID_Card",
          "Email"
         ],
         "xaxis": "x2",
         "y": [
          0.8928571428571429,
          1,
          0.7857142857142857,
          1,
          0.9701492537313433,
          0.9405940594059405,
          1,
          0.9333333333333333,
          0.9230769230769231,
          0.9111111111111111,
          1,
          0.9354838709677419,
          0.9473684210526315,
          0.9666666666666667,
          1,
          0.9069767441860465,
          0.9047619047619048,
          1,
          0.9534883720930233,
          0.9444444444444444,
          1,
          0.8974358974358975,
          1,
          1,
          0.75
         ],
         "yaxis": "y2"
        },
        {
         "legendgroup": "0",
         "marker": {
          "color": "#d62728"
         },
         "name": "english_valid<br>column name",
         "showlegend": false,
         "type": "bar",
         "x": [
          "company",
          "academic_degree",
          "political_views",
          "color",
          "currency",
          "credit_card_provider",
          "language",
          "ean",
          "cpu",
          "graphics",
          "float_number",
          "word",
          "isbn13",
          "job",
          "phone_number",
          "email",
          "programming_language",
          "blood_type",
          "worldview",
          "title",
          "credit_card_number",
          "pyint",
          "current_location",
          "pyfloat",
          "first_name",
          "resolution",
          "last_name",
          "url",
          "ssn",
          "manufacturer",
          "nationality",
          "sex",
          "occupation",
          "blood_group",
          "integer_number",
          "dish",
          "system_quality_attribute",
          "version",
          "passport_number",
          "date",
          "swift",
          "answer",
          "city",
          "duration",
          "address",
          "name",
          "full_name",
          "drink",
          "user_agent",
          "isbn",
          "iban",
          "measure_unit",
          "phone_model",
          "gender"
         ],
         "xaxis": "x3",
         "y": [
          0,
          0,
          0,
          0,
          0,
          0,
          0,
          0,
          0,
          0,
          0,
          0,
          0,
          0,
          0,
          0,
          0,
          0,
          0,
          0,
          0,
          0,
          0,
          0,
          0,
          0,
          0,
          0,
          0,
          0,
          0,
          0,
          0,
          0,
          0,
          0,
          0,
          0,
          0,
          0,
          0,
          0,
          0,
          0,
          0,
          0,
          0,
          0,
          0,
          0,
          0,
          0,
          0,
          0
         ],
         "yaxis": "y3"
        },
        {
         "legendgroup": "1",
         "marker": {
          "color": "#ff9896"
         },
         "name": "english_invalid<br>column name",
         "showlegend": false,
         "type": "bar",
         "x": [
          "company",
          "academic_degree",
          "political_views",
          "color",
          "currency",
          "credit_card_provider",
          "language",
          "ean",
          "cpu",
          "graphics",
          "float_number",
          "word",
          "isbn13",
          "job",
          "phone_number",
          "email",
          "programming_language",
          "blood_type",
          "worldview",
          "title",
          "credit_card_number",
          "pyint",
          "current_location",
          "pyfloat",
          "first_name",
          "resolution",
          "last_name",
          "url",
          "ssn",
          "manufacturer",
          "nationality",
          "sex",
          "occupation",
          "blood_group",
          "integer_number",
          "dish",
          "system_quality_attribute",
          "version",
          "passport_number",
          "date",
          "swift",
          "answer",
          "city",
          "duration",
          "address",
          "name",
          "full_name",
          "drink",
          "user_agent",
          "isbn",
          "iban",
          "measure_unit",
          "phone_model",
          "gender"
         ],
         "xaxis": "x3",
         "y": [
          0,
          0,
          0,
          0,
          0,
          0,
          0,
          0,
          0,
          0,
          0,
          0,
          0,
          0,
          0,
          0,
          0,
          0,
          0,
          0,
          0,
          0,
          0,
          0,
          0,
          0,
          0,
          0,
          0,
          0,
          0,
          0,
          0,
          0,
          0,
          0,
          0,
          0,
          0,
          0,
          0,
          0,
          0,
          0,
          0,
          0,
          0,
          0,
          0,
          0,
          0,
          0,
          0,
          0
         ],
         "yaxis": "y3"
        },
        {
         "legendgroup": "2",
         "marker": {
          "color": "#1f77b4"
         },
         "name": "french_valid<br>column name",
         "showlegend": false,
         "type": "bar",
         "x": [
          "credit_card_number",
          "credit_card_provider",
          "email",
          "ean",
          "measure_unit",
          "ssn",
          "first_name",
          "swift",
          "currency",
          "isbn",
          "date",
          "phone_model",
          "company",
          "language",
          "pyfloat",
          "pyint",
          "last_name",
          "integer_number",
          "blood_group",
          "word",
          "passport_number",
          "political_views",
          "color",
          "url",
          "float_number",
          "blood_type",
          "academic_degree",
          "full_name",
          "gender",
          "dish",
          "current_location",
          "address",
          "drink",
          "phone_number",
          "occupation",
          "title",
          "cpu",
          "duration",
          "isbn13",
          "user_agent",
          "graphics",
          "city",
          "name",
          "answer",
          "nationality",
          "sex",
          "worldview",
          "job",
          "manufacturer",
          "iban",
          "programming_language",
          "version",
          "system_quality_attribute",
          "resolution"
         ],
         "xaxis": "x3",
         "y": [
          0,
          0,
          0,
          0,
          0,
          0,
          0,
          0,
          0,
          0,
          0,
          0,
          0,
          0,
          0,
          0,
          0,
          0,
          0,
          0,
          0,
          0,
          0,
          0,
          0,
          0,
          0,
          0,
          0,
          0,
          0,
          0,
          0,
          0,
          0,
          0,
          0,
          0,
          0,
          0,
          0,
          0,
          0,
          0,
          0,
          0,
          0,
          0,
          0,
          0,
          0,
          0,
          0,
          0
         ],
         "yaxis": "y3"
        },
        {
         "legendgroup": "3",
         "marker": {
          "color": "#aec7e8"
         },
         "name": "french_invalid<br>column name",
         "showlegend": false,
         "type": "bar",
         "x": [
          "credit_card_number",
          "credit_card_provider",
          "email",
          "ean",
          "measure_unit",
          "ssn",
          "first_name",
          "swift",
          "currency",
          "isbn",
          "date",
          "phone_model",
          "company",
          "language",
          "pyfloat",
          "pyint",
          "last_name",
          "integer_number",
          "blood_group",
          "word",
          "passport_number",
          "political_views",
          "color",
          "url",
          "float_number",
          "blood_type",
          "academic_degree",
          "full_name",
          "gender",
          "dish",
          "current_location",
          "address",
          "drink",
          "phone_number",
          "occupation",
          "title",
          "cpu",
          "duration",
          "isbn13",
          "user_agent",
          "graphics",
          "city",
          "name",
          "answer",
          "nationality",
          "sex",
          "worldview",
          "job",
          "manufacturer",
          "iban",
          "programming_language",
          "version",
          "system_quality_attribute",
          "resolution"
         ],
         "xaxis": "x3",
         "y": [
          0,
          0,
          0,
          0,
          0,
          0,
          0,
          0,
          0,
          0,
          0,
          0,
          0,
          0,
          0,
          0,
          0,
          0,
          0,
          0,
          0,
          0,
          0,
          0,
          0,
          0,
          0,
          0,
          0,
          0,
          0,
          0,
          0,
          0,
          0,
          0,
          0,
          0,
          0,
          0,
          0,
          0,
          0,
          0,
          0,
          0,
          0,
          0,
          0,
          0,
          0,
          0,
          0,
          0
         ],
         "yaxis": "y3"
        },
        {
         "legendgroup": "4",
         "marker": {
          "color": "#ff7f0e"
         },
         "name": "german_valid<br>column name",
         "showlegend": false,
         "type": "bar",
         "x": [
          "pyint",
          "pyfloat",
          "academic_degree",
          "gender",
          "last_name",
          "address",
          "blood_type",
          "sex",
          "credit_card_provider",
          "swift",
          "company",
          "url",
          "color",
          "integer_number",
          "title",
          "currency",
          "full_name",
          "graphics",
          "isbn",
          "blood_group",
          "ssn",
          "measure_unit",
          "ean",
          "first_name",
          "system_quality_attribute",
          "email",
          "phone_number",
          "job",
          "occupation",
          "drink",
          "isbn13",
          "word",
          "date",
          "programming_language",
          "iban",
          "manufacturer",
          "phone_model",
          "language",
          "float_number",
          "nationality",
          "name",
          "passport_number",
          "city",
          "current_location",
          "credit_card_number",
          "political_views",
          "duration",
          "worldview",
          "cpu",
          "resolution",
          "user_agent",
          "dish",
          "version",
          "answer"
         ],
         "xaxis": "x3",
         "y": [
          0,
          0,
          0,
          0,
          0,
          0,
          0,
          0,
          0,
          0,
          0,
          0,
          0,
          0,
          0,
          0,
          0,
          0,
          0,
          0,
          0,
          0,
          0,
          0,
          0,
          0,
          0,
          0,
          0,
          0,
          0,
          0,
          0,
          0,
          0,
          0,
          0,
          0,
          0,
          0,
          0,
          0,
          0,
          0,
          0,
          0,
          0,
          0,
          0,
          0,
          0,
          0,
          0,
          0
         ],
         "yaxis": "y3"
        },
        {
         "legendgroup": "5",
         "marker": {
          "color": "#ffbb78"
         },
         "name": "german_invalid<br>column name",
         "showlegend": false,
         "type": "bar",
         "x": [
          "pyint",
          "pyfloat",
          "academic_degree",
          "gender",
          "last_name",
          "address",
          "blood_type",
          "sex",
          "credit_card_provider",
          "swift",
          "company",
          "url",
          "color",
          "integer_number",
          "title",
          "currency",
          "full_name",
          "graphics",
          "isbn",
          "blood_group",
          "ssn",
          "measure_unit",
          "ean",
          "first_name",
          "system_quality_attribute",
          "email",
          "phone_number",
          "job",
          "occupation",
          "drink",
          "isbn13",
          "word",
          "date",
          "programming_language",
          "iban",
          "manufacturer",
          "phone_model",
          "language",
          "float_number",
          "nationality",
          "name",
          "passport_number",
          "city",
          "current_location",
          "credit_card_number",
          "political_views",
          "duration",
          "worldview",
          "cpu",
          "resolution",
          "user_agent",
          "dish",
          "version",
          "answer"
         ],
         "xaxis": "x3",
         "y": [
          0,
          0,
          0,
          0,
          0,
          0,
          0,
          0,
          0,
          0,
          0,
          0,
          0,
          0,
          0,
          0,
          0,
          0,
          0,
          0,
          0,
          0,
          0,
          0,
          0,
          0,
          0,
          0,
          0,
          0,
          0,
          0,
          0,
          0,
          0,
          0,
          0,
          0,
          0,
          0,
          0,
          0,
          0,
          0,
          0,
          0,
          0,
          0,
          0,
          0,
          0,
          0,
          0,
          0
         ],
         "yaxis": "y3"
        },
        {
         "legendgroup": "6",
         "marker": {
          "color": "#2ca02c"
         },
         "name": "mixed language_valid<br>column name",
         "showlegend": false,
         "type": "bar",
         "x": [
          "swift",
          "credit_card_number",
          "political_views",
          "pyint",
          "float_number",
          "last_name",
          "address",
          "current_location",
          "phone_number",
          "isbn13",
          "manufacturer",
          "company",
          "title",
          "color",
          "job",
          "occupation",
          "word",
          "date",
          "cpu",
          "integer_number",
          "passport_number",
          "phone_model",
          "city",
          "academic_degree",
          "url",
          "ssn",
          "system_quality_attribute",
          "gender",
          "ean",
          "first_name",
          "iban",
          "sex",
          "drink",
          "email",
          "pyfloat",
          "currency",
          "answer",
          "measure_unit",
          "blood_group",
          "user_agent",
          "credit_card_provider",
          "name",
          "programming_language",
          "dish",
          "full_name",
          "language",
          "worldview",
          "duration",
          "resolution",
          "version",
          "graphics",
          "isbn",
          "blood_type",
          "nationality"
         ],
         "xaxis": "x3",
         "y": [
          0,
          0,
          0,
          0,
          0,
          0,
          0,
          0,
          0,
          0,
          0,
          0,
          0,
          0,
          0,
          0,
          0,
          0,
          0,
          0,
          0,
          0,
          0,
          0,
          0,
          0,
          0,
          0,
          0,
          0,
          0,
          0,
          0,
          0,
          0,
          0,
          0,
          0,
          0,
          0,
          0,
          0,
          0,
          0,
          0,
          0,
          0,
          0,
          0,
          0,
          0,
          0,
          0,
          0
         ],
         "yaxis": "y3"
        },
        {
         "legendgroup": "7",
         "marker": {
          "color": "#98df8a"
         },
         "name": "mixed language_invalid<br>column name",
         "showlegend": false,
         "type": "bar",
         "x": [
          "swift",
          "credit_card_number",
          "political_views",
          "pyint",
          "float_number",
          "last_name",
          "address",
          "current_location",
          "phone_number",
          "isbn13",
          "manufacturer",
          "company",
          "title",
          "color",
          "job",
          "occupation",
          "word",
          "date",
          "cpu",
          "integer_number",
          "passport_number",
          "phone_model",
          "city",
          "academic_degree",
          "url",
          "ssn",
          "system_quality_attribute",
          "gender",
          "ean",
          "first_name",
          "iban",
          "sex",
          "drink",
          "email",
          "pyfloat",
          "currency",
          "answer",
          "measure_unit",
          "blood_group",
          "user_agent",
          "credit_card_provider",
          "name",
          "programming_language",
          "dish",
          "full_name",
          "language",
          "worldview",
          "duration",
          "resolution",
          "version",
          "graphics",
          "isbn",
          "blood_type",
          "nationality"
         ],
         "xaxis": "x3",
         "y": [
          0,
          0,
          0,
          0,
          0,
          0,
          0,
          0,
          0,
          0,
          0,
          0,
          0,
          0,
          0,
          0,
          0,
          0,
          0,
          0,
          0,
          0,
          0,
          0,
          0,
          0,
          0,
          0,
          0,
          0,
          0,
          0,
          0,
          0,
          0,
          0,
          0,
          0,
          0,
          0,
          0,
          0,
          0,
          0,
          0,
          0,
          0,
          0,
          0,
          0,
          0,
          0,
          0,
          0
         ],
         "yaxis": "y3"
        },
        {
         "legendgroup": "8",
         "marker": {
          "color": "#9467bd"
         },
         "name": "dessi data_valid<br>column name",
         "showlegend": false,
         "type": "bar",
         "x": [
          "Date",
          "Geolocation",
          "Email,Phone_number",
          "CCN",
          "NIN",
          "Phone_number",
          "Gender",
          "NIN,Date",
          "Email,NIN",
          "Phone_number,NIN",
          "Race",
          "NIN,Email",
          "Sexuality",
          "Phone_number,Email",
          "Nationality",
          "NIN,Phone_number",
          "Passport",
          "IBAN",
          "SWIFT/BIC",
          "Religion",
          "Organization",
          "Date,NIN",
          "GPE",
          "ID_Card",
          "Email"
         ],
         "xaxis": "x3",
         "y": [
          0,
          0,
          0,
          0,
          0,
          0,
          0,
          0,
          0,
          0,
          0,
          0,
          0,
          0,
          0,
          0,
          0,
          0,
          0,
          0,
          0,
          0,
          0,
          0,
          0
         ],
         "yaxis": "y3"
        },
        {
         "legendgroup": "9",
         "marker": {
          "color": "#c5b0d5"
         },
         "name": "dessi data_invalid<br>column name",
         "showlegend": false,
         "type": "bar",
         "x": [
          "Date",
          "Geolocation",
          "Email,Phone_number",
          "CCN",
          "NIN",
          "Phone_number",
          "Gender",
          "NIN,Date",
          "Email,NIN",
          "Phone_number,NIN",
          "Race",
          "NIN,Email",
          "Sexuality",
          "Phone_number,Email",
          "Nationality",
          "NIN,Phone_number",
          "Passport",
          "IBAN",
          "SWIFT/BIC",
          "Religion",
          "Organization",
          "Date,NIN",
          "GPE",
          "ID_Card",
          "Email"
         ],
         "xaxis": "x3",
         "y": [
          0,
          0,
          0,
          0,
          0,
          0,
          0,
          0,
          0,
          0,
          0,
          0,
          0,
          0,
          0,
          0,
          0,
          0,
          0,
          0,
          0,
          0,
          0,
          0,
          0
         ],
         "yaxis": "y3"
        }
       ],
       "layout": {
        "annotations": [
         {
          "font": {
           "size": 16
          },
          "showarrow": false,
          "text": "Accuracy per Class",
          "x": 0.5,
          "xanchor": "center",
          "xref": "paper",
          "y": 1,
          "yanchor": "bottom",
          "yref": "paper"
         },
         {
          "font": {
           "size": 16
          },
          "showarrow": false,
          "text": "Number of correct predictions per Class",
          "x": 0.5,
          "xanchor": "center",
          "xref": "paper",
          "y": 0.6111111111111112,
          "yanchor": "bottom",
          "yref": "paper"
         },
         {
          "font": {
           "size": 16
          },
          "showarrow": false,
          "text": "Number of false predictions per Class",
          "x": 0.5,
          "xanchor": "center",
          "xref": "paper",
          "y": 0.22222222222222224,
          "yanchor": "bottom",
          "yref": "paper"
         }
        ],
        "barmode": "stack",
        "height": 700,
        "template": {
         "data": {
          "bar": [
           {
            "error_x": {
             "color": "#2a3f5f"
            },
            "error_y": {
             "color": "#2a3f5f"
            },
            "marker": {
             "line": {
              "color": "#E5ECF6",
              "width": 0.5
             },
             "pattern": {
              "fillmode": "overlay",
              "size": 10,
              "solidity": 0.2
             }
            },
            "type": "bar"
           }
          ],
          "barpolar": [
           {
            "marker": {
             "line": {
              "color": "#E5ECF6",
              "width": 0.5
             },
             "pattern": {
              "fillmode": "overlay",
              "size": 10,
              "solidity": 0.2
             }
            },
            "type": "barpolar"
           }
          ],
          "carpet": [
           {
            "aaxis": {
             "endlinecolor": "#2a3f5f",
             "gridcolor": "white",
             "linecolor": "white",
             "minorgridcolor": "white",
             "startlinecolor": "#2a3f5f"
            },
            "baxis": {
             "endlinecolor": "#2a3f5f",
             "gridcolor": "white",
             "linecolor": "white",
             "minorgridcolor": "white",
             "startlinecolor": "#2a3f5f"
            },
            "type": "carpet"
           }
          ],
          "choropleth": [
           {
            "colorbar": {
             "outlinewidth": 0,
             "ticks": ""
            },
            "type": "choropleth"
           }
          ],
          "contour": [
           {
            "colorbar": {
             "outlinewidth": 0,
             "ticks": ""
            },
            "colorscale": [
             [
              0,
              "#0d0887"
             ],
             [
              0.1111111111111111,
              "#46039f"
             ],
             [
              0.2222222222222222,
              "#7201a8"
             ],
             [
              0.3333333333333333,
              "#9c179e"
             ],
             [
              0.4444444444444444,
              "#bd3786"
             ],
             [
              0.5555555555555556,
              "#d8576b"
             ],
             [
              0.6666666666666666,
              "#ed7953"
             ],
             [
              0.7777777777777778,
              "#fb9f3a"
             ],
             [
              0.8888888888888888,
              "#fdca26"
             ],
             [
              1,
              "#f0f921"
             ]
            ],
            "type": "contour"
           }
          ],
          "contourcarpet": [
           {
            "colorbar": {
             "outlinewidth": 0,
             "ticks": ""
            },
            "type": "contourcarpet"
           }
          ],
          "heatmap": [
           {
            "colorbar": {
             "outlinewidth": 0,
             "ticks": ""
            },
            "colorscale": [
             [
              0,
              "#0d0887"
             ],
             [
              0.1111111111111111,
              "#46039f"
             ],
             [
              0.2222222222222222,
              "#7201a8"
             ],
             [
              0.3333333333333333,
              "#9c179e"
             ],
             [
              0.4444444444444444,
              "#bd3786"
             ],
             [
              0.5555555555555556,
              "#d8576b"
             ],
             [
              0.6666666666666666,
              "#ed7953"
             ],
             [
              0.7777777777777778,
              "#fb9f3a"
             ],
             [
              0.8888888888888888,
              "#fdca26"
             ],
             [
              1,
              "#f0f921"
             ]
            ],
            "type": "heatmap"
           }
          ],
          "heatmapgl": [
           {
            "colorbar": {
             "outlinewidth": 0,
             "ticks": ""
            },
            "colorscale": [
             [
              0,
              "#0d0887"
             ],
             [
              0.1111111111111111,
              "#46039f"
             ],
             [
              0.2222222222222222,
              "#7201a8"
             ],
             [
              0.3333333333333333,
              "#9c179e"
             ],
             [
              0.4444444444444444,
              "#bd3786"
             ],
             [
              0.5555555555555556,
              "#d8576b"
             ],
             [
              0.6666666666666666,
              "#ed7953"
             ],
             [
              0.7777777777777778,
              "#fb9f3a"
             ],
             [
              0.8888888888888888,
              "#fdca26"
             ],
             [
              1,
              "#f0f921"
             ]
            ],
            "type": "heatmapgl"
           }
          ],
          "histogram": [
           {
            "marker": {
             "pattern": {
              "fillmode": "overlay",
              "size": 10,
              "solidity": 0.2
             }
            },
            "type": "histogram"
           }
          ],
          "histogram2d": [
           {
            "colorbar": {
             "outlinewidth": 0,
             "ticks": ""
            },
            "colorscale": [
             [
              0,
              "#0d0887"
             ],
             [
              0.1111111111111111,
              "#46039f"
             ],
             [
              0.2222222222222222,
              "#7201a8"
             ],
             [
              0.3333333333333333,
              "#9c179e"
             ],
             [
              0.4444444444444444,
              "#bd3786"
             ],
             [
              0.5555555555555556,
              "#d8576b"
             ],
             [
              0.6666666666666666,
              "#ed7953"
             ],
             [
              0.7777777777777778,
              "#fb9f3a"
             ],
             [
              0.8888888888888888,
              "#fdca26"
             ],
             [
              1,
              "#f0f921"
             ]
            ],
            "type": "histogram2d"
           }
          ],
          "histogram2dcontour": [
           {
            "colorbar": {
             "outlinewidth": 0,
             "ticks": ""
            },
            "colorscale": [
             [
              0,
              "#0d0887"
             ],
             [
              0.1111111111111111,
              "#46039f"
             ],
             [
              0.2222222222222222,
              "#7201a8"
             ],
             [
              0.3333333333333333,
              "#9c179e"
             ],
             [
              0.4444444444444444,
              "#bd3786"
             ],
             [
              0.5555555555555556,
              "#d8576b"
             ],
             [
              0.6666666666666666,
              "#ed7953"
             ],
             [
              0.7777777777777778,
              "#fb9f3a"
             ],
             [
              0.8888888888888888,
              "#fdca26"
             ],
             [
              1,
              "#f0f921"
             ]
            ],
            "type": "histogram2dcontour"
           }
          ],
          "mesh3d": [
           {
            "colorbar": {
             "outlinewidth": 0,
             "ticks": ""
            },
            "type": "mesh3d"
           }
          ],
          "parcoords": [
           {
            "line": {
             "colorbar": {
              "outlinewidth": 0,
              "ticks": ""
             }
            },
            "type": "parcoords"
           }
          ],
          "pie": [
           {
            "automargin": true,
            "type": "pie"
           }
          ],
          "scatter": [
           {
            "fillpattern": {
             "fillmode": "overlay",
             "size": 10,
             "solidity": 0.2
            },
            "type": "scatter"
           }
          ],
          "scatter3d": [
           {
            "line": {
             "colorbar": {
              "outlinewidth": 0,
              "ticks": ""
             }
            },
            "marker": {
             "colorbar": {
              "outlinewidth": 0,
              "ticks": ""
             }
            },
            "type": "scatter3d"
           }
          ],
          "scattercarpet": [
           {
            "marker": {
             "colorbar": {
              "outlinewidth": 0,
              "ticks": ""
             }
            },
            "type": "scattercarpet"
           }
          ],
          "scattergeo": [
           {
            "marker": {
             "colorbar": {
              "outlinewidth": 0,
              "ticks": ""
             }
            },
            "type": "scattergeo"
           }
          ],
          "scattergl": [
           {
            "marker": {
             "colorbar": {
              "outlinewidth": 0,
              "ticks": ""
             }
            },
            "type": "scattergl"
           }
          ],
          "scattermapbox": [
           {
            "marker": {
             "colorbar": {
              "outlinewidth": 0,
              "ticks": ""
             }
            },
            "type": "scattermapbox"
           }
          ],
          "scatterpolar": [
           {
            "marker": {
             "colorbar": {
              "outlinewidth": 0,
              "ticks": ""
             }
            },
            "type": "scatterpolar"
           }
          ],
          "scatterpolargl": [
           {
            "marker": {
             "colorbar": {
              "outlinewidth": 0,
              "ticks": ""
             }
            },
            "type": "scatterpolargl"
           }
          ],
          "scatterternary": [
           {
            "marker": {
             "colorbar": {
              "outlinewidth": 0,
              "ticks": ""
             }
            },
            "type": "scatterternary"
           }
          ],
          "surface": [
           {
            "colorbar": {
             "outlinewidth": 0,
             "ticks": ""
            },
            "colorscale": [
             [
              0,
              "#0d0887"
             ],
             [
              0.1111111111111111,
              "#46039f"
             ],
             [
              0.2222222222222222,
              "#7201a8"
             ],
             [
              0.3333333333333333,
              "#9c179e"
             ],
             [
              0.4444444444444444,
              "#bd3786"
             ],
             [
              0.5555555555555556,
              "#d8576b"
             ],
             [
              0.6666666666666666,
              "#ed7953"
             ],
             [
              0.7777777777777778,
              "#fb9f3a"
             ],
             [
              0.8888888888888888,
              "#fdca26"
             ],
             [
              1,
              "#f0f921"
             ]
            ],
            "type": "surface"
           }
          ],
          "table": [
           {
            "cells": {
             "fill": {
              "color": "#EBF0F8"
             },
             "line": {
              "color": "white"
             }
            },
            "header": {
             "fill": {
              "color": "#C8D4E3"
             },
             "line": {
              "color": "white"
             }
            },
            "type": "table"
           }
          ]
         },
         "layout": {
          "annotationdefaults": {
           "arrowcolor": "#2a3f5f",
           "arrowhead": 0,
           "arrowwidth": 1
          },
          "autotypenumbers": "strict",
          "coloraxis": {
           "colorbar": {
            "outlinewidth": 0,
            "ticks": ""
           }
          },
          "colorscale": {
           "diverging": [
            [
             0,
             "#8e0152"
            ],
            [
             0.1,
             "#c51b7d"
            ],
            [
             0.2,
             "#de77ae"
            ],
            [
             0.3,
             "#f1b6da"
            ],
            [
             0.4,
             "#fde0ef"
            ],
            [
             0.5,
             "#f7f7f7"
            ],
            [
             0.6,
             "#e6f5d0"
            ],
            [
             0.7,
             "#b8e186"
            ],
            [
             0.8,
             "#7fbc41"
            ],
            [
             0.9,
             "#4d9221"
            ],
            [
             1,
             "#276419"
            ]
           ],
           "sequential": [
            [
             0,
             "#0d0887"
            ],
            [
             0.1111111111111111,
             "#46039f"
            ],
            [
             0.2222222222222222,
             "#7201a8"
            ],
            [
             0.3333333333333333,
             "#9c179e"
            ],
            [
             0.4444444444444444,
             "#bd3786"
            ],
            [
             0.5555555555555556,
             "#d8576b"
            ],
            [
             0.6666666666666666,
             "#ed7953"
            ],
            [
             0.7777777777777778,
             "#fb9f3a"
            ],
            [
             0.8888888888888888,
             "#fdca26"
            ],
            [
             1,
             "#f0f921"
            ]
           ],
           "sequentialminus": [
            [
             0,
             "#0d0887"
            ],
            [
             0.1111111111111111,
             "#46039f"
            ],
            [
             0.2222222222222222,
             "#7201a8"
            ],
            [
             0.3333333333333333,
             "#9c179e"
            ],
            [
             0.4444444444444444,
             "#bd3786"
            ],
            [
             0.5555555555555556,
             "#d8576b"
            ],
            [
             0.6666666666666666,
             "#ed7953"
            ],
            [
             0.7777777777777778,
             "#fb9f3a"
            ],
            [
             0.8888888888888888,
             "#fdca26"
            ],
            [
             1,
             "#f0f921"
            ]
           ]
          },
          "colorway": [
           "#636efa",
           "#EF553B",
           "#00cc96",
           "#ab63fa",
           "#FFA15A",
           "#19d3f3",
           "#FF6692",
           "#B6E880",
           "#FF97FF",
           "#FECB52"
          ],
          "font": {
           "color": "#2a3f5f"
          },
          "geo": {
           "bgcolor": "white",
           "lakecolor": "white",
           "landcolor": "#E5ECF6",
           "showlakes": true,
           "showland": true,
           "subunitcolor": "white"
          },
          "hoverlabel": {
           "align": "left"
          },
          "hovermode": "closest",
          "mapbox": {
           "style": "light"
          },
          "paper_bgcolor": "white",
          "plot_bgcolor": "#E5ECF6",
          "polar": {
           "angularaxis": {
            "gridcolor": "white",
            "linecolor": "white",
            "ticks": ""
           },
           "bgcolor": "#E5ECF6",
           "radialaxis": {
            "gridcolor": "white",
            "linecolor": "white",
            "ticks": ""
           }
          },
          "scene": {
           "xaxis": {
            "backgroundcolor": "#E5ECF6",
            "gridcolor": "white",
            "gridwidth": 2,
            "linecolor": "white",
            "showbackground": true,
            "ticks": "",
            "zerolinecolor": "white"
           },
           "yaxis": {
            "backgroundcolor": "#E5ECF6",
            "gridcolor": "white",
            "gridwidth": 2,
            "linecolor": "white",
            "showbackground": true,
            "ticks": "",
            "zerolinecolor": "white"
           },
           "zaxis": {
            "backgroundcolor": "#E5ECF6",
            "gridcolor": "white",
            "gridwidth": 2,
            "linecolor": "white",
            "showbackground": true,
            "ticks": "",
            "zerolinecolor": "white"
           }
          },
          "shapedefaults": {
           "line": {
            "color": "#2a3f5f"
           }
          },
          "ternary": {
           "aaxis": {
            "gridcolor": "white",
            "linecolor": "white",
            "ticks": ""
           },
           "baxis": {
            "gridcolor": "white",
            "linecolor": "white",
            "ticks": ""
           },
           "bgcolor": "#E5ECF6",
           "caxis": {
            "gridcolor": "white",
            "linecolor": "white",
            "ticks": ""
           }
          },
          "title": {
           "x": 0.05
          },
          "xaxis": {
           "automargin": true,
           "gridcolor": "white",
           "linecolor": "white",
           "ticks": "",
           "title": {
            "standoff": 15
           },
           "zerolinecolor": "white",
           "zerolinewidth": 2
          },
          "yaxis": {
           "automargin": true,
           "gridcolor": "white",
           "linecolor": "white",
           "ticks": "",
           "title": {
            "standoff": 15
           },
           "zerolinecolor": "white",
           "zerolinewidth": 2
          }
         }
        },
        "title": {
         "text": "Accuracy per Class for CASSED's personal Predictions on dessi-mf"
        },
        "width": 1500,
        "xaxis": {
         "anchor": "y",
         "domain": [
          0,
          1
         ],
         "matches": "x3",
         "showticklabels": false
        },
        "xaxis2": {
         "anchor": "y2",
         "domain": [
          0,
          1
         ],
         "matches": "x3",
         "showticklabels": false
        },
        "xaxis3": {
         "anchor": "y3",
         "domain": [
          0,
          1
         ]
        },
        "yaxis": {
         "anchor": "x",
         "domain": [
          0.7777777777777778,
          1
         ],
         "title": {
          "text": "Accuracy"
         }
        },
        "yaxis2": {
         "anchor": "x2",
         "domain": [
          0.3888888888888889,
          0.6111111111111112
         ],
         "title": {
          "text": "Amount of<br>correct predictions"
         }
        },
        "yaxis3": {
         "anchor": "x3",
         "domain": [
          0,
          0.22222222222222224
         ],
         "title": {
          "text": "Amount of<br>false predictions"
         }
        }
       }
      }
     },
     "metadata": {},
     "output_type": "display_data"
    },
    {
     "data": {
      "application/vnd.plotly.v1+json": {
       "config": {
        "plotlyServerURL": "https://plot.ly"
       },
       "data": [
        {
         "showlegend": false,
         "type": "bar",
         "x": [
          "german",
          "french",
          "english",
          "mixed language",
          "dessi data"
         ],
         "xaxis": "x",
         "y": [
          1,
          1,
          1,
          1,
          1
         ],
         "yaxis": "y"
        },
        {
         "showlegend": false,
         "type": "bar",
         "x": [
          "faker",
          "mimesis",
          "dessi"
         ],
         "xaxis": "x2",
         "y": [
          1,
          1,
          1
         ],
         "yaxis": "y2"
        },
        {
         "showlegend": false,
         "type": "bar",
         "x": [
          "valid_col_names",
          "invalid_col_names"
         ],
         "xaxis": "x3",
         "y": [
          1,
          1
         ],
         "yaxis": "y3"
        }
       ],
       "layout": {
        "annotations": [
         {
          "font": {
           "size": 16
          },
          "showarrow": false,
          "text": "Accuracy per Language",
          "x": 0.14444444444444446,
          "xanchor": "center",
          "xref": "paper",
          "y": 1,
          "yanchor": "bottom",
          "yref": "paper"
         },
         {
          "font": {
           "size": 16
          },
          "showarrow": false,
          "text": "Accuracy per Dataset",
          "x": 0.5,
          "xanchor": "center",
          "xref": "paper",
          "y": 1,
          "yanchor": "bottom",
          "yref": "paper"
         },
         {
          "font": {
           "size": 16
          },
          "showarrow": false,
          "text": "Accuracy per Column Name",
          "x": 0.8555555555555556,
          "xanchor": "center",
          "xref": "paper",
          "y": 1,
          "yanchor": "bottom",
          "yref": "paper"
         }
        ],
        "height": 500,
        "template": {
         "data": {
          "bar": [
           {
            "error_x": {
             "color": "#2a3f5f"
            },
            "error_y": {
             "color": "#2a3f5f"
            },
            "marker": {
             "line": {
              "color": "#E5ECF6",
              "width": 0.5
             },
             "pattern": {
              "fillmode": "overlay",
              "size": 10,
              "solidity": 0.2
             }
            },
            "type": "bar"
           }
          ],
          "barpolar": [
           {
            "marker": {
             "line": {
              "color": "#E5ECF6",
              "width": 0.5
             },
             "pattern": {
              "fillmode": "overlay",
              "size": 10,
              "solidity": 0.2
             }
            },
            "type": "barpolar"
           }
          ],
          "carpet": [
           {
            "aaxis": {
             "endlinecolor": "#2a3f5f",
             "gridcolor": "white",
             "linecolor": "white",
             "minorgridcolor": "white",
             "startlinecolor": "#2a3f5f"
            },
            "baxis": {
             "endlinecolor": "#2a3f5f",
             "gridcolor": "white",
             "linecolor": "white",
             "minorgridcolor": "white",
             "startlinecolor": "#2a3f5f"
            },
            "type": "carpet"
           }
          ],
          "choropleth": [
           {
            "colorbar": {
             "outlinewidth": 0,
             "ticks": ""
            },
            "type": "choropleth"
           }
          ],
          "contour": [
           {
            "colorbar": {
             "outlinewidth": 0,
             "ticks": ""
            },
            "colorscale": [
             [
              0,
              "#0d0887"
             ],
             [
              0.1111111111111111,
              "#46039f"
             ],
             [
              0.2222222222222222,
              "#7201a8"
             ],
             [
              0.3333333333333333,
              "#9c179e"
             ],
             [
              0.4444444444444444,
              "#bd3786"
             ],
             [
              0.5555555555555556,
              "#d8576b"
             ],
             [
              0.6666666666666666,
              "#ed7953"
             ],
             [
              0.7777777777777778,
              "#fb9f3a"
             ],
             [
              0.8888888888888888,
              "#fdca26"
             ],
             [
              1,
              "#f0f921"
             ]
            ],
            "type": "contour"
           }
          ],
          "contourcarpet": [
           {
            "colorbar": {
             "outlinewidth": 0,
             "ticks": ""
            },
            "type": "contourcarpet"
           }
          ],
          "heatmap": [
           {
            "colorbar": {
             "outlinewidth": 0,
             "ticks": ""
            },
            "colorscale": [
             [
              0,
              "#0d0887"
             ],
             [
              0.1111111111111111,
              "#46039f"
             ],
             [
              0.2222222222222222,
              "#7201a8"
             ],
             [
              0.3333333333333333,
              "#9c179e"
             ],
             [
              0.4444444444444444,
              "#bd3786"
             ],
             [
              0.5555555555555556,
              "#d8576b"
             ],
             [
              0.6666666666666666,
              "#ed7953"
             ],
             [
              0.7777777777777778,
              "#fb9f3a"
             ],
             [
              0.8888888888888888,
              "#fdca26"
             ],
             [
              1,
              "#f0f921"
             ]
            ],
            "type": "heatmap"
           }
          ],
          "heatmapgl": [
           {
            "colorbar": {
             "outlinewidth": 0,
             "ticks": ""
            },
            "colorscale": [
             [
              0,
              "#0d0887"
             ],
             [
              0.1111111111111111,
              "#46039f"
             ],
             [
              0.2222222222222222,
              "#7201a8"
             ],
             [
              0.3333333333333333,
              "#9c179e"
             ],
             [
              0.4444444444444444,
              "#bd3786"
             ],
             [
              0.5555555555555556,
              "#d8576b"
             ],
             [
              0.6666666666666666,
              "#ed7953"
             ],
             [
              0.7777777777777778,
              "#fb9f3a"
             ],
             [
              0.8888888888888888,
              "#fdca26"
             ],
             [
              1,
              "#f0f921"
             ]
            ],
            "type": "heatmapgl"
           }
          ],
          "histogram": [
           {
            "marker": {
             "pattern": {
              "fillmode": "overlay",
              "size": 10,
              "solidity": 0.2
             }
            },
            "type": "histogram"
           }
          ],
          "histogram2d": [
           {
            "colorbar": {
             "outlinewidth": 0,
             "ticks": ""
            },
            "colorscale": [
             [
              0,
              "#0d0887"
             ],
             [
              0.1111111111111111,
              "#46039f"
             ],
             [
              0.2222222222222222,
              "#7201a8"
             ],
             [
              0.3333333333333333,
              "#9c179e"
             ],
             [
              0.4444444444444444,
              "#bd3786"
             ],
             [
              0.5555555555555556,
              "#d8576b"
             ],
             [
              0.6666666666666666,
              "#ed7953"
             ],
             [
              0.7777777777777778,
              "#fb9f3a"
             ],
             [
              0.8888888888888888,
              "#fdca26"
             ],
             [
              1,
              "#f0f921"
             ]
            ],
            "type": "histogram2d"
           }
          ],
          "histogram2dcontour": [
           {
            "colorbar": {
             "outlinewidth": 0,
             "ticks": ""
            },
            "colorscale": [
             [
              0,
              "#0d0887"
             ],
             [
              0.1111111111111111,
              "#46039f"
             ],
             [
              0.2222222222222222,
              "#7201a8"
             ],
             [
              0.3333333333333333,
              "#9c179e"
             ],
             [
              0.4444444444444444,
              "#bd3786"
             ],
             [
              0.5555555555555556,
              "#d8576b"
             ],
             [
              0.6666666666666666,
              "#ed7953"
             ],
             [
              0.7777777777777778,
              "#fb9f3a"
             ],
             [
              0.8888888888888888,
              "#fdca26"
             ],
             [
              1,
              "#f0f921"
             ]
            ],
            "type": "histogram2dcontour"
           }
          ],
          "mesh3d": [
           {
            "colorbar": {
             "outlinewidth": 0,
             "ticks": ""
            },
            "type": "mesh3d"
           }
          ],
          "parcoords": [
           {
            "line": {
             "colorbar": {
              "outlinewidth": 0,
              "ticks": ""
             }
            },
            "type": "parcoords"
           }
          ],
          "pie": [
           {
            "automargin": true,
            "type": "pie"
           }
          ],
          "scatter": [
           {
            "fillpattern": {
             "fillmode": "overlay",
             "size": 10,
             "solidity": 0.2
            },
            "type": "scatter"
           }
          ],
          "scatter3d": [
           {
            "line": {
             "colorbar": {
              "outlinewidth": 0,
              "ticks": ""
             }
            },
            "marker": {
             "colorbar": {
              "outlinewidth": 0,
              "ticks": ""
             }
            },
            "type": "scatter3d"
           }
          ],
          "scattercarpet": [
           {
            "marker": {
             "colorbar": {
              "outlinewidth": 0,
              "ticks": ""
             }
            },
            "type": "scattercarpet"
           }
          ],
          "scattergeo": [
           {
            "marker": {
             "colorbar": {
              "outlinewidth": 0,
              "ticks": ""
             }
            },
            "type": "scattergeo"
           }
          ],
          "scattergl": [
           {
            "marker": {
             "colorbar": {
              "outlinewidth": 0,
              "ticks": ""
             }
            },
            "type": "scattergl"
           }
          ],
          "scattermapbox": [
           {
            "marker": {
             "colorbar": {
              "outlinewidth": 0,
              "ticks": ""
             }
            },
            "type": "scattermapbox"
           }
          ],
          "scatterpolar": [
           {
            "marker": {
             "colorbar": {
              "outlinewidth": 0,
              "ticks": ""
             }
            },
            "type": "scatterpolar"
           }
          ],
          "scatterpolargl": [
           {
            "marker": {
             "colorbar": {
              "outlinewidth": 0,
              "ticks": ""
             }
            },
            "type": "scatterpolargl"
           }
          ],
          "scatterternary": [
           {
            "marker": {
             "colorbar": {
              "outlinewidth": 0,
              "ticks": ""
             }
            },
            "type": "scatterternary"
           }
          ],
          "surface": [
           {
            "colorbar": {
             "outlinewidth": 0,
             "ticks": ""
            },
            "colorscale": [
             [
              0,
              "#0d0887"
             ],
             [
              0.1111111111111111,
              "#46039f"
             ],
             [
              0.2222222222222222,
              "#7201a8"
             ],
             [
              0.3333333333333333,
              "#9c179e"
             ],
             [
              0.4444444444444444,
              "#bd3786"
             ],
             [
              0.5555555555555556,
              "#d8576b"
             ],
             [
              0.6666666666666666,
              "#ed7953"
             ],
             [
              0.7777777777777778,
              "#fb9f3a"
             ],
             [
              0.8888888888888888,
              "#fdca26"
             ],
             [
              1,
              "#f0f921"
             ]
            ],
            "type": "surface"
           }
          ],
          "table": [
           {
            "cells": {
             "fill": {
              "color": "#EBF0F8"
             },
             "line": {
              "color": "white"
             }
            },
            "header": {
             "fill": {
              "color": "#C8D4E3"
             },
             "line": {
              "color": "white"
             }
            },
            "type": "table"
           }
          ]
         },
         "layout": {
          "annotationdefaults": {
           "arrowcolor": "#2a3f5f",
           "arrowhead": 0,
           "arrowwidth": 1
          },
          "autotypenumbers": "strict",
          "coloraxis": {
           "colorbar": {
            "outlinewidth": 0,
            "ticks": ""
           }
          },
          "colorscale": {
           "diverging": [
            [
             0,
             "#8e0152"
            ],
            [
             0.1,
             "#c51b7d"
            ],
            [
             0.2,
             "#de77ae"
            ],
            [
             0.3,
             "#f1b6da"
            ],
            [
             0.4,
             "#fde0ef"
            ],
            [
             0.5,
             "#f7f7f7"
            ],
            [
             0.6,
             "#e6f5d0"
            ],
            [
             0.7,
             "#b8e186"
            ],
            [
             0.8,
             "#7fbc41"
            ],
            [
             0.9,
             "#4d9221"
            ],
            [
             1,
             "#276419"
            ]
           ],
           "sequential": [
            [
             0,
             "#0d0887"
            ],
            [
             0.1111111111111111,
             "#46039f"
            ],
            [
             0.2222222222222222,
             "#7201a8"
            ],
            [
             0.3333333333333333,
             "#9c179e"
            ],
            [
             0.4444444444444444,
             "#bd3786"
            ],
            [
             0.5555555555555556,
             "#d8576b"
            ],
            [
             0.6666666666666666,
             "#ed7953"
            ],
            [
             0.7777777777777778,
             "#fb9f3a"
            ],
            [
             0.8888888888888888,
             "#fdca26"
            ],
            [
             1,
             "#f0f921"
            ]
           ],
           "sequentialminus": [
            [
             0,
             "#0d0887"
            ],
            [
             0.1111111111111111,
             "#46039f"
            ],
            [
             0.2222222222222222,
             "#7201a8"
            ],
            [
             0.3333333333333333,
             "#9c179e"
            ],
            [
             0.4444444444444444,
             "#bd3786"
            ],
            [
             0.5555555555555556,
             "#d8576b"
            ],
            [
             0.6666666666666666,
             "#ed7953"
            ],
            [
             0.7777777777777778,
             "#fb9f3a"
            ],
            [
             0.8888888888888888,
             "#fdca26"
            ],
            [
             1,
             "#f0f921"
            ]
           ]
          },
          "colorway": [
           "#636efa",
           "#EF553B",
           "#00cc96",
           "#ab63fa",
           "#FFA15A",
           "#19d3f3",
           "#FF6692",
           "#B6E880",
           "#FF97FF",
           "#FECB52"
          ],
          "font": {
           "color": "#2a3f5f"
          },
          "geo": {
           "bgcolor": "white",
           "lakecolor": "white",
           "landcolor": "#E5ECF6",
           "showlakes": true,
           "showland": true,
           "subunitcolor": "white"
          },
          "hoverlabel": {
           "align": "left"
          },
          "hovermode": "closest",
          "mapbox": {
           "style": "light"
          },
          "paper_bgcolor": "white",
          "plot_bgcolor": "#E5ECF6",
          "polar": {
           "angularaxis": {
            "gridcolor": "white",
            "linecolor": "white",
            "ticks": ""
           },
           "bgcolor": "#E5ECF6",
           "radialaxis": {
            "gridcolor": "white",
            "linecolor": "white",
            "ticks": ""
           }
          },
          "scene": {
           "xaxis": {
            "backgroundcolor": "#E5ECF6",
            "gridcolor": "white",
            "gridwidth": 2,
            "linecolor": "white",
            "showbackground": true,
            "ticks": "",
            "zerolinecolor": "white"
           },
           "yaxis": {
            "backgroundcolor": "#E5ECF6",
            "gridcolor": "white",
            "gridwidth": 2,
            "linecolor": "white",
            "showbackground": true,
            "ticks": "",
            "zerolinecolor": "white"
           },
           "zaxis": {
            "backgroundcolor": "#E5ECF6",
            "gridcolor": "white",
            "gridwidth": 2,
            "linecolor": "white",
            "showbackground": true,
            "ticks": "",
            "zerolinecolor": "white"
           }
          },
          "shapedefaults": {
           "line": {
            "color": "#2a3f5f"
           }
          },
          "ternary": {
           "aaxis": {
            "gridcolor": "white",
            "linecolor": "white",
            "ticks": ""
           },
           "baxis": {
            "gridcolor": "white",
            "linecolor": "white",
            "ticks": ""
           },
           "bgcolor": "#E5ECF6",
           "caxis": {
            "gridcolor": "white",
            "linecolor": "white",
            "ticks": ""
           }
          },
          "title": {
           "x": 0.05
          },
          "xaxis": {
           "automargin": true,
           "gridcolor": "white",
           "linecolor": "white",
           "ticks": "",
           "title": {
            "standoff": 15
           },
           "zerolinecolor": "white",
           "zerolinewidth": 2
          },
          "yaxis": {
           "automargin": true,
           "gridcolor": "white",
           "linecolor": "white",
           "ticks": "",
           "title": {
            "standoff": 15
           },
           "zerolinecolor": "white",
           "zerolinewidth": 2
          }
         }
        },
        "title": {
         "text": "Accuracy of CASSED's personal Predictions on dessi-mf with respect to different categories"
        },
        "width": 900,
        "xaxis": {
         "anchor": "y",
         "domain": [
          0,
          0.2888888888888889
         ]
        },
        "xaxis2": {
         "anchor": "y2",
         "domain": [
          0.35555555555555557,
          0.6444444444444445
         ]
        },
        "xaxis3": {
         "anchor": "y3",
         "domain": [
          0.7111111111111111,
          1
         ]
        },
        "yaxis": {
         "anchor": "x",
         "domain": [
          0,
          1
         ]
        },
        "yaxis2": {
         "anchor": "x2",
         "domain": [
          0,
          1
         ],
         "matches": "y",
         "showticklabels": false
        },
        "yaxis3": {
         "anchor": "x3",
         "domain": [
          0,
          1
         ],
         "matches": "y",
         "showticklabels": false
        }
       }
      }
     },
     "metadata": {},
     "output_type": "display_data"
    }
   ],
   "source": [
    "create_analysis_plot(results_df_own_data)"
   ]
  },
  {
   "cell_type": "markdown",
   "metadata": {},
   "source": [
    "# Test two languages"
   ]
  },
  {
   "cell_type": "code",
   "execution_count": 16,
   "metadata": {},
   "outputs": [],
   "source": [
    "test_lan = pd.read_csv(\"../../datasets/test_languages/test.csv\")\n",
    "test_lan_personal = pd.read_csv(\"../../datasets/test_languages/test_labels_personal.csv\")\n",
    "test_lan_classes = pd.read_csv(\"../../datasets/test_languages/test_classes.csv\")\n",
    "test_lan_datasets = pd.read_csv(\"../../datasets/test_languages/test_dataset.csv\")"
   ]
  },
  {
   "cell_type": "code",
   "execution_count": 17,
   "metadata": {},
   "outputs": [],
   "source": [
    "two_lan_true = pd.read_csv(\"../CASSED_model_results/cassed_personal/two_languages/true.csv\")\n",
    "two_lan_pred = pd.read_csv(\"../CASSED_model_results/cassed_personal/two_languages/predicted.csv\")\n",
    "two_lan_target_names = pd.read_csv(\"../CASSED_model_results/cassed_personal/two_languages/target_names.csv\")\n",
    "two_lan_target_names = {a[1]: a[0] for a in two_lan_target_names[[\"0\", \"0.1\"]].values}\n",
    "two_lan_target_names[0] = \"no prediction\""
   ]
  },
  {
   "cell_type": "code",
   "execution_count": 18,
   "metadata": {},
   "outputs": [],
   "source": [
    "predictions, true = [], []\n",
    "for i in range(two_lan_true.shape[0]):\n",
    "    predictions.append([two_lan_target_names[e] for e, b in enumerate(two_lan_pred.iloc[i,:]) if b == 1])\n",
    "    true.append([two_lan_target_names[e] for e, b in enumerate(two_lan_true.iloc[i,:]) if b == 1])\n",
    "true = [a[0] for a in true]\n",
    "predictions = [a[0] for a in predictions]"
   ]
  },
  {
   "cell_type": "code",
   "execution_count": 19,
   "metadata": {},
   "outputs": [
    {
     "data": {
      "application/vnd.plotly.v1+json": {
       "config": {
        "plotlyServerURL": "https://plot.ly"
       },
       "data": [
        {
         "showlegend": false,
         "type": "bar",
         "x": [
          "weighted Precision",
          "weighted Recall",
          "weighted F1 Score",
          "Accuracy",
          "AUC-ROC"
         ],
         "xaxis": "x",
         "y": [
          0.7868531468531469,
          0.78,
          0.7642933462846042,
          0.78,
          0.71875
         ],
         "yaxis": "y"
        },
        {
         "colorscale": [
          [
           0,
           "rgb(247,251,255)"
          ],
          [
           0.125,
           "rgb(222,235,247)"
          ],
          [
           0.25,
           "rgb(198,219,239)"
          ],
          [
           0.375,
           "rgb(158,202,225)"
          ],
          [
           0.5,
           "rgb(107,174,214)"
          ],
          [
           0.625,
           "rgb(66,146,198)"
          ],
          [
           0.75,
           "rgb(33,113,181)"
          ],
          [
           0.875,
           "rgb(8,81,156)"
          ],
          [
           1,
           "rgb(8,48,107)"
          ]
         ],
         "showscale": false,
         "text": [
          [
           "60<br>0.94",
           "4<br>0.06"
          ],
          [
           "18<br>0.50",
           "18<br>0.50"
          ]
         ],
         "textfont": {
          "size": 20
         },
         "texttemplate": "%{text}",
         "type": "heatmap",
         "x": [
          "Pred: personal",
          "Pred: non-personal"
         ],
         "xaxis": "x2",
         "y": [
          "True: personal",
          "True: non-personal"
         ],
         "yaxis": "y2",
         "z": [
          [
           60,
           4
          ],
          [
           18,
           18
          ]
         ]
        }
       ],
       "layout": {
        "annotations": [
         {
          "font": {
           "size": 16
          },
          "showarrow": false,
          "text": "Evaluation Metrics",
          "x": 0.225,
          "xanchor": "center",
          "xref": "paper",
          "y": 1,
          "yanchor": "bottom",
          "yref": "paper"
         },
         {
          "font": {
           "size": 16
          },
          "showarrow": false,
          "text": "Confusion Matrix",
          "x": 0.775,
          "xanchor": "center",
          "xref": "paper",
          "y": 1,
          "yanchor": "bottom",
          "yref": "paper"
         }
        ],
        "height": 500,
        "showlegend": false,
        "template": {
         "data": {
          "bar": [
           {
            "error_x": {
             "color": "#2a3f5f"
            },
            "error_y": {
             "color": "#2a3f5f"
            },
            "marker": {
             "line": {
              "color": "#E5ECF6",
              "width": 0.5
             },
             "pattern": {
              "fillmode": "overlay",
              "size": 10,
              "solidity": 0.2
             }
            },
            "type": "bar"
           }
          ],
          "barpolar": [
           {
            "marker": {
             "line": {
              "color": "#E5ECF6",
              "width": 0.5
             },
             "pattern": {
              "fillmode": "overlay",
              "size": 10,
              "solidity": 0.2
             }
            },
            "type": "barpolar"
           }
          ],
          "carpet": [
           {
            "aaxis": {
             "endlinecolor": "#2a3f5f",
             "gridcolor": "white",
             "linecolor": "white",
             "minorgridcolor": "white",
             "startlinecolor": "#2a3f5f"
            },
            "baxis": {
             "endlinecolor": "#2a3f5f",
             "gridcolor": "white",
             "linecolor": "white",
             "minorgridcolor": "white",
             "startlinecolor": "#2a3f5f"
            },
            "type": "carpet"
           }
          ],
          "choropleth": [
           {
            "colorbar": {
             "outlinewidth": 0,
             "ticks": ""
            },
            "type": "choropleth"
           }
          ],
          "contour": [
           {
            "colorbar": {
             "outlinewidth": 0,
             "ticks": ""
            },
            "colorscale": [
             [
              0,
              "#0d0887"
             ],
             [
              0.1111111111111111,
              "#46039f"
             ],
             [
              0.2222222222222222,
              "#7201a8"
             ],
             [
              0.3333333333333333,
              "#9c179e"
             ],
             [
              0.4444444444444444,
              "#bd3786"
             ],
             [
              0.5555555555555556,
              "#d8576b"
             ],
             [
              0.6666666666666666,
              "#ed7953"
             ],
             [
              0.7777777777777778,
              "#fb9f3a"
             ],
             [
              0.8888888888888888,
              "#fdca26"
             ],
             [
              1,
              "#f0f921"
             ]
            ],
            "type": "contour"
           }
          ],
          "contourcarpet": [
           {
            "colorbar": {
             "outlinewidth": 0,
             "ticks": ""
            },
            "type": "contourcarpet"
           }
          ],
          "heatmap": [
           {
            "colorbar": {
             "outlinewidth": 0,
             "ticks": ""
            },
            "colorscale": [
             [
              0,
              "#0d0887"
             ],
             [
              0.1111111111111111,
              "#46039f"
             ],
             [
              0.2222222222222222,
              "#7201a8"
             ],
             [
              0.3333333333333333,
              "#9c179e"
             ],
             [
              0.4444444444444444,
              "#bd3786"
             ],
             [
              0.5555555555555556,
              "#d8576b"
             ],
             [
              0.6666666666666666,
              "#ed7953"
             ],
             [
              0.7777777777777778,
              "#fb9f3a"
             ],
             [
              0.8888888888888888,
              "#fdca26"
             ],
             [
              1,
              "#f0f921"
             ]
            ],
            "type": "heatmap"
           }
          ],
          "heatmapgl": [
           {
            "colorbar": {
             "outlinewidth": 0,
             "ticks": ""
            },
            "colorscale": [
             [
              0,
              "#0d0887"
             ],
             [
              0.1111111111111111,
              "#46039f"
             ],
             [
              0.2222222222222222,
              "#7201a8"
             ],
             [
              0.3333333333333333,
              "#9c179e"
             ],
             [
              0.4444444444444444,
              "#bd3786"
             ],
             [
              0.5555555555555556,
              "#d8576b"
             ],
             [
              0.6666666666666666,
              "#ed7953"
             ],
             [
              0.7777777777777778,
              "#fb9f3a"
             ],
             [
              0.8888888888888888,
              "#fdca26"
             ],
             [
              1,
              "#f0f921"
             ]
            ],
            "type": "heatmapgl"
           }
          ],
          "histogram": [
           {
            "marker": {
             "pattern": {
              "fillmode": "overlay",
              "size": 10,
              "solidity": 0.2
             }
            },
            "type": "histogram"
           }
          ],
          "histogram2d": [
           {
            "colorbar": {
             "outlinewidth": 0,
             "ticks": ""
            },
            "colorscale": [
             [
              0,
              "#0d0887"
             ],
             [
              0.1111111111111111,
              "#46039f"
             ],
             [
              0.2222222222222222,
              "#7201a8"
             ],
             [
              0.3333333333333333,
              "#9c179e"
             ],
             [
              0.4444444444444444,
              "#bd3786"
             ],
             [
              0.5555555555555556,
              "#d8576b"
             ],
             [
              0.6666666666666666,
              "#ed7953"
             ],
             [
              0.7777777777777778,
              "#fb9f3a"
             ],
             [
              0.8888888888888888,
              "#fdca26"
             ],
             [
              1,
              "#f0f921"
             ]
            ],
            "type": "histogram2d"
           }
          ],
          "histogram2dcontour": [
           {
            "colorbar": {
             "outlinewidth": 0,
             "ticks": ""
            },
            "colorscale": [
             [
              0,
              "#0d0887"
             ],
             [
              0.1111111111111111,
              "#46039f"
             ],
             [
              0.2222222222222222,
              "#7201a8"
             ],
             [
              0.3333333333333333,
              "#9c179e"
             ],
             [
              0.4444444444444444,
              "#bd3786"
             ],
             [
              0.5555555555555556,
              "#d8576b"
             ],
             [
              0.6666666666666666,
              "#ed7953"
             ],
             [
              0.7777777777777778,
              "#fb9f3a"
             ],
             [
              0.8888888888888888,
              "#fdca26"
             ],
             [
              1,
              "#f0f921"
             ]
            ],
            "type": "histogram2dcontour"
           }
          ],
          "mesh3d": [
           {
            "colorbar": {
             "outlinewidth": 0,
             "ticks": ""
            },
            "type": "mesh3d"
           }
          ],
          "parcoords": [
           {
            "line": {
             "colorbar": {
              "outlinewidth": 0,
              "ticks": ""
             }
            },
            "type": "parcoords"
           }
          ],
          "pie": [
           {
            "automargin": true,
            "type": "pie"
           }
          ],
          "scatter": [
           {
            "fillpattern": {
             "fillmode": "overlay",
             "size": 10,
             "solidity": 0.2
            },
            "type": "scatter"
           }
          ],
          "scatter3d": [
           {
            "line": {
             "colorbar": {
              "outlinewidth": 0,
              "ticks": ""
             }
            },
            "marker": {
             "colorbar": {
              "outlinewidth": 0,
              "ticks": ""
             }
            },
            "type": "scatter3d"
           }
          ],
          "scattercarpet": [
           {
            "marker": {
             "colorbar": {
              "outlinewidth": 0,
              "ticks": ""
             }
            },
            "type": "scattercarpet"
           }
          ],
          "scattergeo": [
           {
            "marker": {
             "colorbar": {
              "outlinewidth": 0,
              "ticks": ""
             }
            },
            "type": "scattergeo"
           }
          ],
          "scattergl": [
           {
            "marker": {
             "colorbar": {
              "outlinewidth": 0,
              "ticks": ""
             }
            },
            "type": "scattergl"
           }
          ],
          "scattermapbox": [
           {
            "marker": {
             "colorbar": {
              "outlinewidth": 0,
              "ticks": ""
             }
            },
            "type": "scattermapbox"
           }
          ],
          "scatterpolar": [
           {
            "marker": {
             "colorbar": {
              "outlinewidth": 0,
              "ticks": ""
             }
            },
            "type": "scatterpolar"
           }
          ],
          "scatterpolargl": [
           {
            "marker": {
             "colorbar": {
              "outlinewidth": 0,
              "ticks": ""
             }
            },
            "type": "scatterpolargl"
           }
          ],
          "scatterternary": [
           {
            "marker": {
             "colorbar": {
              "outlinewidth": 0,
              "ticks": ""
             }
            },
            "type": "scatterternary"
           }
          ],
          "surface": [
           {
            "colorbar": {
             "outlinewidth": 0,
             "ticks": ""
            },
            "colorscale": [
             [
              0,
              "#0d0887"
             ],
             [
              0.1111111111111111,
              "#46039f"
             ],
             [
              0.2222222222222222,
              "#7201a8"
             ],
             [
              0.3333333333333333,
              "#9c179e"
             ],
             [
              0.4444444444444444,
              "#bd3786"
             ],
             [
              0.5555555555555556,
              "#d8576b"
             ],
             [
              0.6666666666666666,
              "#ed7953"
             ],
             [
              0.7777777777777778,
              "#fb9f3a"
             ],
             [
              0.8888888888888888,
              "#fdca26"
             ],
             [
              1,
              "#f0f921"
             ]
            ],
            "type": "surface"
           }
          ],
          "table": [
           {
            "cells": {
             "fill": {
              "color": "#EBF0F8"
             },
             "line": {
              "color": "white"
             }
            },
            "header": {
             "fill": {
              "color": "#C8D4E3"
             },
             "line": {
              "color": "white"
             }
            },
            "type": "table"
           }
          ]
         },
         "layout": {
          "annotationdefaults": {
           "arrowcolor": "#2a3f5f",
           "arrowhead": 0,
           "arrowwidth": 1
          },
          "autotypenumbers": "strict",
          "coloraxis": {
           "colorbar": {
            "outlinewidth": 0,
            "ticks": ""
           }
          },
          "colorscale": {
           "diverging": [
            [
             0,
             "#8e0152"
            ],
            [
             0.1,
             "#c51b7d"
            ],
            [
             0.2,
             "#de77ae"
            ],
            [
             0.3,
             "#f1b6da"
            ],
            [
             0.4,
             "#fde0ef"
            ],
            [
             0.5,
             "#f7f7f7"
            ],
            [
             0.6,
             "#e6f5d0"
            ],
            [
             0.7,
             "#b8e186"
            ],
            [
             0.8,
             "#7fbc41"
            ],
            [
             0.9,
             "#4d9221"
            ],
            [
             1,
             "#276419"
            ]
           ],
           "sequential": [
            [
             0,
             "#0d0887"
            ],
            [
             0.1111111111111111,
             "#46039f"
            ],
            [
             0.2222222222222222,
             "#7201a8"
            ],
            [
             0.3333333333333333,
             "#9c179e"
            ],
            [
             0.4444444444444444,
             "#bd3786"
            ],
            [
             0.5555555555555556,
             "#d8576b"
            ],
            [
             0.6666666666666666,
             "#ed7953"
            ],
            [
             0.7777777777777778,
             "#fb9f3a"
            ],
            [
             0.8888888888888888,
             "#fdca26"
            ],
            [
             1,
             "#f0f921"
            ]
           ],
           "sequentialminus": [
            [
             0,
             "#0d0887"
            ],
            [
             0.1111111111111111,
             "#46039f"
            ],
            [
             0.2222222222222222,
             "#7201a8"
            ],
            [
             0.3333333333333333,
             "#9c179e"
            ],
            [
             0.4444444444444444,
             "#bd3786"
            ],
            [
             0.5555555555555556,
             "#d8576b"
            ],
            [
             0.6666666666666666,
             "#ed7953"
            ],
            [
             0.7777777777777778,
             "#fb9f3a"
            ],
            [
             0.8888888888888888,
             "#fdca26"
            ],
            [
             1,
             "#f0f921"
            ]
           ]
          },
          "colorway": [
           "#636efa",
           "#EF553B",
           "#00cc96",
           "#ab63fa",
           "#FFA15A",
           "#19d3f3",
           "#FF6692",
           "#B6E880",
           "#FF97FF",
           "#FECB52"
          ],
          "font": {
           "color": "#2a3f5f"
          },
          "geo": {
           "bgcolor": "white",
           "lakecolor": "white",
           "landcolor": "#E5ECF6",
           "showlakes": true,
           "showland": true,
           "subunitcolor": "white"
          },
          "hoverlabel": {
           "align": "left"
          },
          "hovermode": "closest",
          "mapbox": {
           "style": "light"
          },
          "paper_bgcolor": "white",
          "plot_bgcolor": "#E5ECF6",
          "polar": {
           "angularaxis": {
            "gridcolor": "white",
            "linecolor": "white",
            "ticks": ""
           },
           "bgcolor": "#E5ECF6",
           "radialaxis": {
            "gridcolor": "white",
            "linecolor": "white",
            "ticks": ""
           }
          },
          "scene": {
           "xaxis": {
            "backgroundcolor": "#E5ECF6",
            "gridcolor": "white",
            "gridwidth": 2,
            "linecolor": "white",
            "showbackground": true,
            "ticks": "",
            "zerolinecolor": "white"
           },
           "yaxis": {
            "backgroundcolor": "#E5ECF6",
            "gridcolor": "white",
            "gridwidth": 2,
            "linecolor": "white",
            "showbackground": true,
            "ticks": "",
            "zerolinecolor": "white"
           },
           "zaxis": {
            "backgroundcolor": "#E5ECF6",
            "gridcolor": "white",
            "gridwidth": 2,
            "linecolor": "white",
            "showbackground": true,
            "ticks": "",
            "zerolinecolor": "white"
           }
          },
          "shapedefaults": {
           "line": {
            "color": "#2a3f5f"
           }
          },
          "ternary": {
           "aaxis": {
            "gridcolor": "white",
            "linecolor": "white",
            "ticks": ""
           },
           "baxis": {
            "gridcolor": "white",
            "linecolor": "white",
            "ticks": ""
           },
           "bgcolor": "#E5ECF6",
           "caxis": {
            "gridcolor": "white",
            "linecolor": "white",
            "ticks": ""
           }
          },
          "title": {
           "x": 0.05
          },
          "xaxis": {
           "automargin": true,
           "gridcolor": "white",
           "linecolor": "white",
           "ticks": "",
           "title": {
            "standoff": 15
           },
           "zerolinecolor": "white",
           "zerolinewidth": 2
          },
          "yaxis": {
           "automargin": true,
           "gridcolor": "white",
           "linecolor": "white",
           "ticks": "",
           "title": {
            "standoff": 15
           },
           "zerolinecolor": "white",
           "zerolinewidth": 2
          }
         }
        },
        "title": {
         "text": "Confusion Matrix and Evaluation Metrics"
        },
        "width": 1000,
        "xaxis": {
         "anchor": "y",
         "domain": [
          0,
          0.45
         ]
        },
        "xaxis2": {
         "anchor": "y2",
         "domain": [
          0.55,
          1
         ]
        },
        "yaxis": {
         "anchor": "x",
         "domain": [
          0,
          1
         ],
         "range": [
          0,
          1.1
         ]
        },
        "yaxis2": {
         "anchor": "x2",
         "domain": [
          0,
          1
         ]
        }
       }
      }
     },
     "metadata": {},
     "output_type": "display_data"
    }
   ],
   "source": [
    "plot_cassed_results(true, predictions)"
   ]
  },
  {
   "cell_type": "code",
   "execution_count": 20,
   "metadata": {},
   "outputs": [],
   "source": [
    "results_df_test_lan = pd.DataFrame({\n",
    "    \"Column\": test_lan.columns,\n",
    "    \"Prediction\": predictions,\n",
    "    \"True Label\": test_lan_personal[\"label\"].values,\n",
    "    \"Classes\": test_lan_classes[\"class\"],\n",
    "    \"Dataset\": test_lan_datasets[\"dataset\"]\n",
    "})"
   ]
  },
  {
   "cell_type": "code",
   "execution_count": 21,
   "metadata": {},
   "outputs": [
    {
     "data": {
      "text/html": [
       "<div>\n",
       "<style scoped>\n",
       "    .dataframe tbody tr th:only-of-type {\n",
       "        vertical-align: middle;\n",
       "    }\n",
       "\n",
       "    .dataframe tbody tr th {\n",
       "        vertical-align: top;\n",
       "    }\n",
       "\n",
       "    .dataframe thead th {\n",
       "        text-align: right;\n",
       "    }\n",
       "</style>\n",
       "<table border=\"1\" class=\"dataframe\">\n",
       "  <thead>\n",
       "    <tr style=\"text-align: right;\">\n",
       "      <th></th>\n",
       "      <th>Column</th>\n",
       "      <th>Prediction</th>\n",
       "      <th>True Label</th>\n",
       "      <th>Classes</th>\n",
       "      <th>Dataset</th>\n",
       "    </tr>\n",
       "  </thead>\n",
       "  <tbody>\n",
       "    <tr>\n",
       "      <th>15</th>\n",
       "      <td>jxWkI9X7H6a</td>\n",
       "      <td>non-personal</td>\n",
       "      <td>personal</td>\n",
       "      <td>occupation_it</td>\n",
       "      <td>mimesis</td>\n",
       "    </tr>\n",
       "    <tr>\n",
       "      <th>21</th>\n",
       "      <td>title_it_1</td>\n",
       "      <td>non-personal</td>\n",
       "      <td>personal</td>\n",
       "      <td>title_it</td>\n",
       "      <td>mimesis</td>\n",
       "    </tr>\n",
       "    <tr>\n",
       "      <th>52</th>\n",
       "      <td>9n7IWUSmTtzQPxC5HC</td>\n",
       "      <td>non-personal</td>\n",
       "      <td>personal</td>\n",
       "      <td>title_it</td>\n",
       "      <td>mimesis</td>\n",
       "    </tr>\n",
       "    <tr>\n",
       "      <th>87</th>\n",
       "      <td>ssn_it_1</td>\n",
       "      <td>non-personal</td>\n",
       "      <td>personal</td>\n",
       "      <td>ssn_it</td>\n",
       "      <td>faker</td>\n",
       "    </tr>\n",
       "  </tbody>\n",
       "</table>\n",
       "</div>"
      ],
      "text/plain": [
       "                Column    Prediction True Label        Classes  Dataset\n",
       "15         jxWkI9X7H6a  non-personal   personal  occupation_it  mimesis\n",
       "21          title_it_1  non-personal   personal       title_it  mimesis\n",
       "52  9n7IWUSmTtzQPxC5HC  non-personal   personal       title_it  mimesis\n",
       "87            ssn_it_1  non-personal   personal         ssn_it    faker"
      ]
     },
     "execution_count": 21,
     "metadata": {},
     "output_type": "execute_result"
    }
   ],
   "source": [
    "#False negatives\n",
    "fn_df = results_df_test_lan.loc[(results_df_test_lan[\"True Label\"] == \"personal\") & (results_df_test_lan[\"Prediction\"] == \"non-personal\")]\n",
    "fn_df"
   ]
  },
  {
   "cell_type": "code",
   "execution_count": 22,
   "metadata": {},
   "outputs": [
    {
     "data": {
      "text/html": [
       "<div>\n",
       "<style scoped>\n",
       "    .dataframe tbody tr th:only-of-type {\n",
       "        vertical-align: middle;\n",
       "    }\n",
       "\n",
       "    .dataframe tbody tr th {\n",
       "        vertical-align: top;\n",
       "    }\n",
       "\n",
       "    .dataframe thead th {\n",
       "        text-align: right;\n",
       "    }\n",
       "</style>\n",
       "<table border=\"1\" class=\"dataframe\">\n",
       "  <thead>\n",
       "    <tr style=\"text-align: right;\">\n",
       "      <th></th>\n",
       "      <th>Column</th>\n",
       "      <th>Prediction</th>\n",
       "      <th>True Label</th>\n",
       "      <th>Classes</th>\n",
       "      <th>Dataset</th>\n",
       "    </tr>\n",
       "  </thead>\n",
       "  <tbody>\n",
       "    <tr>\n",
       "      <th>6</th>\n",
       "      <td>zh84KpLMcNfA</td>\n",
       "      <td>personal</td>\n",
       "      <td>non-personal</td>\n",
       "      <td>color_it</td>\n",
       "      <td>mimesis</td>\n",
       "    </tr>\n",
       "    <tr>\n",
       "      <th>10</th>\n",
       "      <td>7qnQTupqziQPtDu</td>\n",
       "      <td>personal</td>\n",
       "      <td>non-personal</td>\n",
       "      <td>color_zh</td>\n",
       "      <td>mimesis</td>\n",
       "    </tr>\n",
       "    <tr>\n",
       "      <th>11</th>\n",
       "      <td>word_zh_1</td>\n",
       "      <td>personal</td>\n",
       "      <td>non-personal</td>\n",
       "      <td>word_zh</td>\n",
       "      <td>mimesis</td>\n",
       "    </tr>\n",
       "    <tr>\n",
       "      <th>14</th>\n",
       "      <td>drink_zh_1</td>\n",
       "      <td>personal</td>\n",
       "      <td>non-personal</td>\n",
       "      <td>drink_zh</td>\n",
       "      <td>mimesis</td>\n",
       "    </tr>\n",
       "    <tr>\n",
       "      <th>24</th>\n",
       "      <td>color_it_1</td>\n",
       "      <td>personal</td>\n",
       "      <td>non-personal</td>\n",
       "      <td>color_it</td>\n",
       "      <td>mimesis</td>\n",
       "    </tr>\n",
       "    <tr>\n",
       "      <th>25</th>\n",
       "      <td>dish_zh_1</td>\n",
       "      <td>personal</td>\n",
       "      <td>non-personal</td>\n",
       "      <td>dish_zh</td>\n",
       "      <td>mimesis</td>\n",
       "    </tr>\n",
       "    <tr>\n",
       "      <th>28</th>\n",
       "      <td>answer_zh_1</td>\n",
       "      <td>personal</td>\n",
       "      <td>non-personal</td>\n",
       "      <td>answer_zh</td>\n",
       "      <td>mimesis</td>\n",
       "    </tr>\n",
       "    <tr>\n",
       "      <th>32</th>\n",
       "      <td>7Qg84iqh4gVJjr</td>\n",
       "      <td>personal</td>\n",
       "      <td>non-personal</td>\n",
       "      <td>city_zh</td>\n",
       "      <td>mimesis</td>\n",
       "    </tr>\n",
       "    <tr>\n",
       "      <th>34</th>\n",
       "      <td>d9Gf2leMeR</td>\n",
       "      <td>personal</td>\n",
       "      <td>non-personal</td>\n",
       "      <td>answer_zh</td>\n",
       "      <td>mimesis</td>\n",
       "    </tr>\n",
       "    <tr>\n",
       "      <th>38</th>\n",
       "      <td>dPI1af7W</td>\n",
       "      <td>personal</td>\n",
       "      <td>non-personal</td>\n",
       "      <td>dish_zh</td>\n",
       "      <td>mimesis</td>\n",
       "    </tr>\n",
       "    <tr>\n",
       "      <th>43</th>\n",
       "      <td>n9dLVIdVuddLEG</td>\n",
       "      <td>personal</td>\n",
       "      <td>non-personal</td>\n",
       "      <td>answer_it</td>\n",
       "      <td>mimesis</td>\n",
       "    </tr>\n",
       "    <tr>\n",
       "      <th>49</th>\n",
       "      <td>city_zh_1</td>\n",
       "      <td>personal</td>\n",
       "      <td>non-personal</td>\n",
       "      <td>city_zh</td>\n",
       "      <td>mimesis</td>\n",
       "    </tr>\n",
       "    <tr>\n",
       "      <th>58</th>\n",
       "      <td>kAFEn3z5dkya</td>\n",
       "      <td>personal</td>\n",
       "      <td>non-personal</td>\n",
       "      <td>drink_it</td>\n",
       "      <td>mimesis</td>\n",
       "    </tr>\n",
       "    <tr>\n",
       "      <th>62</th>\n",
       "      <td>q7YYDsBS9UYJQTFjm</td>\n",
       "      <td>personal</td>\n",
       "      <td>non-personal</td>\n",
       "      <td>drink_zh</td>\n",
       "      <td>mimesis</td>\n",
       "    </tr>\n",
       "    <tr>\n",
       "      <th>63</th>\n",
       "      <td>color_zh_1</td>\n",
       "      <td>personal</td>\n",
       "      <td>non-personal</td>\n",
       "      <td>color_zh</td>\n",
       "      <td>mimesis</td>\n",
       "    </tr>\n",
       "    <tr>\n",
       "      <th>72</th>\n",
       "      <td>answer_it_1</td>\n",
       "      <td>personal</td>\n",
       "      <td>non-personal</td>\n",
       "      <td>answer_it</td>\n",
       "      <td>mimesis</td>\n",
       "    </tr>\n",
       "    <tr>\n",
       "      <th>73</th>\n",
       "      <td>Gqi7w4e4pxs</td>\n",
       "      <td>personal</td>\n",
       "      <td>non-personal</td>\n",
       "      <td>word_zh</td>\n",
       "      <td>mimesis</td>\n",
       "    </tr>\n",
       "    <tr>\n",
       "      <th>75</th>\n",
       "      <td>3UdRPPgdzUvZ3gpmmIC</td>\n",
       "      <td>personal</td>\n",
       "      <td>non-personal</td>\n",
       "      <td>company_zh</td>\n",
       "      <td>mimesis</td>\n",
       "    </tr>\n",
       "  </tbody>\n",
       "</table>\n",
       "</div>"
      ],
      "text/plain": [
       "                 Column Prediction    True Label     Classes  Dataset\n",
       "6          zh84KpLMcNfA   personal  non-personal    color_it  mimesis\n",
       "10      7qnQTupqziQPtDu   personal  non-personal    color_zh  mimesis\n",
       "11            word_zh_1   personal  non-personal     word_zh  mimesis\n",
       "14           drink_zh_1   personal  non-personal    drink_zh  mimesis\n",
       "24           color_it_1   personal  non-personal    color_it  mimesis\n",
       "25            dish_zh_1   personal  non-personal     dish_zh  mimesis\n",
       "28          answer_zh_1   personal  non-personal   answer_zh  mimesis\n",
       "32       7Qg84iqh4gVJjr   personal  non-personal     city_zh  mimesis\n",
       "34           d9Gf2leMeR   personal  non-personal   answer_zh  mimesis\n",
       "38             dPI1af7W   personal  non-personal     dish_zh  mimesis\n",
       "43       n9dLVIdVuddLEG   personal  non-personal   answer_it  mimesis\n",
       "49            city_zh_1   personal  non-personal     city_zh  mimesis\n",
       "58         kAFEn3z5dkya   personal  non-personal    drink_it  mimesis\n",
       "62    q7YYDsBS9UYJQTFjm   personal  non-personal    drink_zh  mimesis\n",
       "63           color_zh_1   personal  non-personal    color_zh  mimesis\n",
       "72          answer_it_1   personal  non-personal   answer_it  mimesis\n",
       "73          Gqi7w4e4pxs   personal  non-personal     word_zh  mimesis\n",
       "75  3UdRPPgdzUvZ3gpmmIC   personal  non-personal  company_zh  mimesis"
      ]
     },
     "execution_count": 22,
     "metadata": {},
     "output_type": "execute_result"
    }
   ],
   "source": [
    "#False positives\n",
    "results_df_test_lan.loc[(results_df_test_lan[\"True Label\"] == \"non-personal\") & (results_df_test_lan[\"Prediction\"] == \"personal\")]"
   ]
  },
  {
   "cell_type": "code",
   "execution_count": 23,
   "metadata": {},
   "outputs": [
    {
     "data": {
      "application/vnd.plotly.v1+json": {
       "config": {
        "plotlyServerURL": "https://plot.ly"
       },
       "data": [
        {
         "marker": {
          "color": "black"
         },
         "showlegend": false,
         "type": "bar",
         "x": [
          "academic_degree",
          "first_name",
          "address",
          "worldview",
          "nationality",
          "last_name",
          "full_name",
          "gender",
          "political_views",
          "language",
          "phone_number",
          "url",
          "iban",
          "swift",
          "email",
          "occupation",
          "company",
          "ssn",
          "dish",
          "word",
          "title",
          "city",
          "drink",
          "color",
          "answer"
         ],
         "y": [
          1,
          1,
          1,
          1,
          1,
          1,
          1,
          1,
          1,
          1,
          1,
          1,
          1,
          1,
          1,
          0.75,
          0.75,
          0.75,
          0.5,
          0.5,
          0.5,
          0.5,
          0.25,
          0,
          0
         ]
        },
        {
         "legendgroup": "0",
         "marker": {
          "color": "#d62728"
         },
         "name": "italian_valid<br>column name",
         "showlegend": true,
         "type": "bar",
         "x": [
          "academic_degree",
          "address",
          "worldview",
          "color",
          "dish",
          "nationality",
          "full_name",
          "occupation",
          "first_name",
          "title",
          "last_name",
          "city",
          "company",
          "language",
          "answer",
          "political_views",
          "word",
          "drink",
          "gender",
          "phone_number",
          "url",
          "iban",
          "ssn",
          "swift",
          "email"
         ],
         "xaxis": "x2",
         "y": [
          0.25,
          0.25,
          0.25,
          0,
          0.25,
          0.25,
          0.25,
          0.25,
          0.25,
          0,
          0.25,
          0.25,
          0.25,
          0.25,
          0,
          0.25,
          0.25,
          0.25,
          0.25,
          0.25,
          0.25,
          0.25,
          0,
          0.25,
          0.25
         ],
         "yaxis": "y2"
        },
        {
         "legendgroup": "1",
         "marker": {
          "color": "#ff9896"
         },
         "name": "italian_invalid<br>column name",
         "showlegend": true,
         "type": "bar",
         "x": [
          "academic_degree",
          "address",
          "worldview",
          "color",
          "dish",
          "nationality",
          "full_name",
          "occupation",
          "first_name",
          "title",
          "last_name",
          "city",
          "company",
          "language",
          "answer",
          "political_views",
          "word",
          "drink",
          "gender",
          "phone_number",
          "url",
          "iban",
          "ssn",
          "swift",
          "email"
         ],
         "xaxis": "x2",
         "y": [
          0.25,
          0.25,
          0.25,
          0,
          0.25,
          0.25,
          0.25,
          0,
          0.25,
          0,
          0.25,
          0.25,
          0.25,
          0.25,
          0,
          0.25,
          0.25,
          0,
          0.25,
          0.25,
          0.25,
          0.25,
          0.25,
          0.25,
          0.25
         ],
         "yaxis": "y2"
        },
        {
         "legendgroup": "2",
         "marker": {
          "color": "#1f77b4"
         },
         "name": "chinese_valid<br>column name",
         "showlegend": true,
         "type": "bar",
         "x": [
          "occupation",
          "first_name",
          "worldview",
          "company",
          "color",
          "word",
          "last_name",
          "drink",
          "gender",
          "nationality",
          "political_views",
          "dish",
          "academic_degree",
          "answer",
          "city",
          "title",
          "address",
          "full_name",
          "language",
          "url",
          "phone_number",
          "iban",
          "ssn",
          "swift",
          "email"
         ],
         "xaxis": "x2",
         "y": [
          0.25,
          0.25,
          0.25,
          0.25,
          0,
          0,
          0.25,
          0,
          0.25,
          0.25,
          0.25,
          0,
          0.25,
          0,
          0,
          0.25,
          0.25,
          0.25,
          0.25,
          0.25,
          0.25,
          0.25,
          0.25,
          0.25,
          0.25
         ],
         "yaxis": "y2"
        },
        {
         "legendgroup": "3",
         "marker": {
          "color": "#aec7e8"
         },
         "name": "chinese_invalid<br>column name",
         "showlegend": true,
         "type": "bar",
         "x": [
          "occupation",
          "first_name",
          "worldview",
          "company",
          "color",
          "word",
          "last_name",
          "drink",
          "gender",
          "nationality",
          "political_views",
          "dish",
          "academic_degree",
          "answer",
          "city",
          "title",
          "address",
          "full_name",
          "language",
          "url",
          "phone_number",
          "iban",
          "ssn",
          "swift",
          "email"
         ],
         "xaxis": "x2",
         "y": [
          0.25,
          0.25,
          0.25,
          0,
          0,
          0,
          0.25,
          0,
          0.25,
          0.25,
          0.25,
          0,
          0.25,
          0,
          0,
          0.25,
          0.25,
          0.25,
          0.25,
          0.25,
          0.25,
          0.25,
          0.25,
          0.25,
          0.25
         ],
         "yaxis": "y2"
        },
        {
         "legendgroup": "0",
         "marker": {
          "color": "#d62728"
         },
         "name": "italian_valid<br>column name",
         "showlegend": false,
         "type": "bar",
         "x": [
          "academic_degree",
          "address",
          "worldview",
          "color",
          "dish",
          "nationality",
          "full_name",
          "occupation",
          "first_name",
          "title",
          "last_name",
          "city",
          "company",
          "language",
          "answer",
          "political_views",
          "word",
          "drink",
          "gender",
          "phone_number",
          "url",
          "iban",
          "ssn",
          "swift",
          "email"
         ],
         "xaxis": "x3",
         "y": [
          0,
          0,
          0,
          0.25,
          0,
          0,
          0,
          0,
          0,
          0.25,
          0,
          0,
          0,
          0,
          0.25,
          0,
          0,
          0,
          0,
          0,
          0,
          0,
          0.25,
          0,
          0
         ],
         "yaxis": "y3"
        },
        {
         "legendgroup": "1",
         "marker": {
          "color": "#ff9896"
         },
         "name": "italian_invalid<br>column name",
         "showlegend": false,
         "type": "bar",
         "x": [
          "academic_degree",
          "address",
          "worldview",
          "color",
          "dish",
          "nationality",
          "full_name",
          "occupation",
          "first_name",
          "title",
          "last_name",
          "city",
          "company",
          "language",
          "answer",
          "political_views",
          "word",
          "drink",
          "gender",
          "phone_number",
          "url",
          "iban",
          "ssn",
          "swift",
          "email"
         ],
         "xaxis": "x3",
         "y": [
          0,
          0,
          0,
          0.25,
          0,
          0,
          0,
          0.25,
          0,
          0.25,
          0,
          0,
          0,
          0,
          0.25,
          0,
          0,
          0.25,
          0,
          0,
          0,
          0,
          0,
          0,
          0
         ],
         "yaxis": "y3"
        },
        {
         "legendgroup": "2",
         "marker": {
          "color": "#1f77b4"
         },
         "name": "chinese_valid<br>column name",
         "showlegend": false,
         "type": "bar",
         "x": [
          "occupation",
          "first_name",
          "worldview",
          "company",
          "color",
          "word",
          "last_name",
          "drink",
          "gender",
          "nationality",
          "political_views",
          "dish",
          "academic_degree",
          "answer",
          "city",
          "title",
          "address",
          "full_name",
          "language",
          "url",
          "phone_number",
          "iban",
          "ssn",
          "swift",
          "email"
         ],
         "xaxis": "x3",
         "y": [
          0,
          0,
          0,
          0,
          0.25,
          0.25,
          0,
          0.25,
          0,
          0,
          0,
          0.25,
          0,
          0.25,
          0.25,
          0,
          0,
          0,
          0,
          0,
          0,
          0,
          0,
          0,
          0
         ],
         "yaxis": "y3"
        },
        {
         "legendgroup": "3",
         "marker": {
          "color": "#aec7e8"
         },
         "name": "chinese_invalid<br>column name",
         "showlegend": false,
         "type": "bar",
         "x": [
          "occupation",
          "first_name",
          "worldview",
          "company",
          "color",
          "word",
          "last_name",
          "drink",
          "gender",
          "nationality",
          "political_views",
          "dish",
          "academic_degree",
          "answer",
          "city",
          "title",
          "address",
          "full_name",
          "language",
          "url",
          "phone_number",
          "iban",
          "ssn",
          "swift",
          "email"
         ],
         "xaxis": "x3",
         "y": [
          0,
          0,
          0,
          0.25,
          0.25,
          0.25,
          0,
          0.25,
          0,
          0,
          0,
          0.25,
          0,
          0.25,
          0.25,
          0,
          0,
          0,
          0,
          0,
          0,
          0,
          0,
          0,
          0
         ],
         "yaxis": "y3"
        }
       ],
       "layout": {
        "annotations": [
         {
          "font": {
           "size": 16
          },
          "showarrow": false,
          "text": "Accuracy per Class",
          "x": 0.5,
          "xanchor": "center",
          "xref": "paper",
          "y": 1,
          "yanchor": "bottom",
          "yref": "paper"
         },
         {
          "font": {
           "size": 16
          },
          "showarrow": false,
          "text": "Number of correct predictions per Class",
          "x": 0.5,
          "xanchor": "center",
          "xref": "paper",
          "y": 0.6111111111111112,
          "yanchor": "bottom",
          "yref": "paper"
         },
         {
          "font": {
           "size": 16
          },
          "showarrow": false,
          "text": "Number of false predictions per Class",
          "x": 0.5,
          "xanchor": "center",
          "xref": "paper",
          "y": 0.22222222222222224,
          "yanchor": "bottom",
          "yref": "paper"
         }
        ],
        "barmode": "stack",
        "height": 700,
        "template": {
         "data": {
          "bar": [
           {
            "error_x": {
             "color": "#2a3f5f"
            },
            "error_y": {
             "color": "#2a3f5f"
            },
            "marker": {
             "line": {
              "color": "#E5ECF6",
              "width": 0.5
             },
             "pattern": {
              "fillmode": "overlay",
              "size": 10,
              "solidity": 0.2
             }
            },
            "type": "bar"
           }
          ],
          "barpolar": [
           {
            "marker": {
             "line": {
              "color": "#E5ECF6",
              "width": 0.5
             },
             "pattern": {
              "fillmode": "overlay",
              "size": 10,
              "solidity": 0.2
             }
            },
            "type": "barpolar"
           }
          ],
          "carpet": [
           {
            "aaxis": {
             "endlinecolor": "#2a3f5f",
             "gridcolor": "white",
             "linecolor": "white",
             "minorgridcolor": "white",
             "startlinecolor": "#2a3f5f"
            },
            "baxis": {
             "endlinecolor": "#2a3f5f",
             "gridcolor": "white",
             "linecolor": "white",
             "minorgridcolor": "white",
             "startlinecolor": "#2a3f5f"
            },
            "type": "carpet"
           }
          ],
          "choropleth": [
           {
            "colorbar": {
             "outlinewidth": 0,
             "ticks": ""
            },
            "type": "choropleth"
           }
          ],
          "contour": [
           {
            "colorbar": {
             "outlinewidth": 0,
             "ticks": ""
            },
            "colorscale": [
             [
              0,
              "#0d0887"
             ],
             [
              0.1111111111111111,
              "#46039f"
             ],
             [
              0.2222222222222222,
              "#7201a8"
             ],
             [
              0.3333333333333333,
              "#9c179e"
             ],
             [
              0.4444444444444444,
              "#bd3786"
             ],
             [
              0.5555555555555556,
              "#d8576b"
             ],
             [
              0.6666666666666666,
              "#ed7953"
             ],
             [
              0.7777777777777778,
              "#fb9f3a"
             ],
             [
              0.8888888888888888,
              "#fdca26"
             ],
             [
              1,
              "#f0f921"
             ]
            ],
            "type": "contour"
           }
          ],
          "contourcarpet": [
           {
            "colorbar": {
             "outlinewidth": 0,
             "ticks": ""
            },
            "type": "contourcarpet"
           }
          ],
          "heatmap": [
           {
            "colorbar": {
             "outlinewidth": 0,
             "ticks": ""
            },
            "colorscale": [
             [
              0,
              "#0d0887"
             ],
             [
              0.1111111111111111,
              "#46039f"
             ],
             [
              0.2222222222222222,
              "#7201a8"
             ],
             [
              0.3333333333333333,
              "#9c179e"
             ],
             [
              0.4444444444444444,
              "#bd3786"
             ],
             [
              0.5555555555555556,
              "#d8576b"
             ],
             [
              0.6666666666666666,
              "#ed7953"
             ],
             [
              0.7777777777777778,
              "#fb9f3a"
             ],
             [
              0.8888888888888888,
              "#fdca26"
             ],
             [
              1,
              "#f0f921"
             ]
            ],
            "type": "heatmap"
           }
          ],
          "heatmapgl": [
           {
            "colorbar": {
             "outlinewidth": 0,
             "ticks": ""
            },
            "colorscale": [
             [
              0,
              "#0d0887"
             ],
             [
              0.1111111111111111,
              "#46039f"
             ],
             [
              0.2222222222222222,
              "#7201a8"
             ],
             [
              0.3333333333333333,
              "#9c179e"
             ],
             [
              0.4444444444444444,
              "#bd3786"
             ],
             [
              0.5555555555555556,
              "#d8576b"
             ],
             [
              0.6666666666666666,
              "#ed7953"
             ],
             [
              0.7777777777777778,
              "#fb9f3a"
             ],
             [
              0.8888888888888888,
              "#fdca26"
             ],
             [
              1,
              "#f0f921"
             ]
            ],
            "type": "heatmapgl"
           }
          ],
          "histogram": [
           {
            "marker": {
             "pattern": {
              "fillmode": "overlay",
              "size": 10,
              "solidity": 0.2
             }
            },
            "type": "histogram"
           }
          ],
          "histogram2d": [
           {
            "colorbar": {
             "outlinewidth": 0,
             "ticks": ""
            },
            "colorscale": [
             [
              0,
              "#0d0887"
             ],
             [
              0.1111111111111111,
              "#46039f"
             ],
             [
              0.2222222222222222,
              "#7201a8"
             ],
             [
              0.3333333333333333,
              "#9c179e"
             ],
             [
              0.4444444444444444,
              "#bd3786"
             ],
             [
              0.5555555555555556,
              "#d8576b"
             ],
             [
              0.6666666666666666,
              "#ed7953"
             ],
             [
              0.7777777777777778,
              "#fb9f3a"
             ],
             [
              0.8888888888888888,
              "#fdca26"
             ],
             [
              1,
              "#f0f921"
             ]
            ],
            "type": "histogram2d"
           }
          ],
          "histogram2dcontour": [
           {
            "colorbar": {
             "outlinewidth": 0,
             "ticks": ""
            },
            "colorscale": [
             [
              0,
              "#0d0887"
             ],
             [
              0.1111111111111111,
              "#46039f"
             ],
             [
              0.2222222222222222,
              "#7201a8"
             ],
             [
              0.3333333333333333,
              "#9c179e"
             ],
             [
              0.4444444444444444,
              "#bd3786"
             ],
             [
              0.5555555555555556,
              "#d8576b"
             ],
             [
              0.6666666666666666,
              "#ed7953"
             ],
             [
              0.7777777777777778,
              "#fb9f3a"
             ],
             [
              0.8888888888888888,
              "#fdca26"
             ],
             [
              1,
              "#f0f921"
             ]
            ],
            "type": "histogram2dcontour"
           }
          ],
          "mesh3d": [
           {
            "colorbar": {
             "outlinewidth": 0,
             "ticks": ""
            },
            "type": "mesh3d"
           }
          ],
          "parcoords": [
           {
            "line": {
             "colorbar": {
              "outlinewidth": 0,
              "ticks": ""
             }
            },
            "type": "parcoords"
           }
          ],
          "pie": [
           {
            "automargin": true,
            "type": "pie"
           }
          ],
          "scatter": [
           {
            "fillpattern": {
             "fillmode": "overlay",
             "size": 10,
             "solidity": 0.2
            },
            "type": "scatter"
           }
          ],
          "scatter3d": [
           {
            "line": {
             "colorbar": {
              "outlinewidth": 0,
              "ticks": ""
             }
            },
            "marker": {
             "colorbar": {
              "outlinewidth": 0,
              "ticks": ""
             }
            },
            "type": "scatter3d"
           }
          ],
          "scattercarpet": [
           {
            "marker": {
             "colorbar": {
              "outlinewidth": 0,
              "ticks": ""
             }
            },
            "type": "scattercarpet"
           }
          ],
          "scattergeo": [
           {
            "marker": {
             "colorbar": {
              "outlinewidth": 0,
              "ticks": ""
             }
            },
            "type": "scattergeo"
           }
          ],
          "scattergl": [
           {
            "marker": {
             "colorbar": {
              "outlinewidth": 0,
              "ticks": ""
             }
            },
            "type": "scattergl"
           }
          ],
          "scattermapbox": [
           {
            "marker": {
             "colorbar": {
              "outlinewidth": 0,
              "ticks": ""
             }
            },
            "type": "scattermapbox"
           }
          ],
          "scatterpolar": [
           {
            "marker": {
             "colorbar": {
              "outlinewidth": 0,
              "ticks": ""
             }
            },
            "type": "scatterpolar"
           }
          ],
          "scatterpolargl": [
           {
            "marker": {
             "colorbar": {
              "outlinewidth": 0,
              "ticks": ""
             }
            },
            "type": "scatterpolargl"
           }
          ],
          "scatterternary": [
           {
            "marker": {
             "colorbar": {
              "outlinewidth": 0,
              "ticks": ""
             }
            },
            "type": "scatterternary"
           }
          ],
          "surface": [
           {
            "colorbar": {
             "outlinewidth": 0,
             "ticks": ""
            },
            "colorscale": [
             [
              0,
              "#0d0887"
             ],
             [
              0.1111111111111111,
              "#46039f"
             ],
             [
              0.2222222222222222,
              "#7201a8"
             ],
             [
              0.3333333333333333,
              "#9c179e"
             ],
             [
              0.4444444444444444,
              "#bd3786"
             ],
             [
              0.5555555555555556,
              "#d8576b"
             ],
             [
              0.6666666666666666,
              "#ed7953"
             ],
             [
              0.7777777777777778,
              "#fb9f3a"
             ],
             [
              0.8888888888888888,
              "#fdca26"
             ],
             [
              1,
              "#f0f921"
             ]
            ],
            "type": "surface"
           }
          ],
          "table": [
           {
            "cells": {
             "fill": {
              "color": "#EBF0F8"
             },
             "line": {
              "color": "white"
             }
            },
            "header": {
             "fill": {
              "color": "#C8D4E3"
             },
             "line": {
              "color": "white"
             }
            },
            "type": "table"
           }
          ]
         },
         "layout": {
          "annotationdefaults": {
           "arrowcolor": "#2a3f5f",
           "arrowhead": 0,
           "arrowwidth": 1
          },
          "autotypenumbers": "strict",
          "coloraxis": {
           "colorbar": {
            "outlinewidth": 0,
            "ticks": ""
           }
          },
          "colorscale": {
           "diverging": [
            [
             0,
             "#8e0152"
            ],
            [
             0.1,
             "#c51b7d"
            ],
            [
             0.2,
             "#de77ae"
            ],
            [
             0.3,
             "#f1b6da"
            ],
            [
             0.4,
             "#fde0ef"
            ],
            [
             0.5,
             "#f7f7f7"
            ],
            [
             0.6,
             "#e6f5d0"
            ],
            [
             0.7,
             "#b8e186"
            ],
            [
             0.8,
             "#7fbc41"
            ],
            [
             0.9,
             "#4d9221"
            ],
            [
             1,
             "#276419"
            ]
           ],
           "sequential": [
            [
             0,
             "#0d0887"
            ],
            [
             0.1111111111111111,
             "#46039f"
            ],
            [
             0.2222222222222222,
             "#7201a8"
            ],
            [
             0.3333333333333333,
             "#9c179e"
            ],
            [
             0.4444444444444444,
             "#bd3786"
            ],
            [
             0.5555555555555556,
             "#d8576b"
            ],
            [
             0.6666666666666666,
             "#ed7953"
            ],
            [
             0.7777777777777778,
             "#fb9f3a"
            ],
            [
             0.8888888888888888,
             "#fdca26"
            ],
            [
             1,
             "#f0f921"
            ]
           ],
           "sequentialminus": [
            [
             0,
             "#0d0887"
            ],
            [
             0.1111111111111111,
             "#46039f"
            ],
            [
             0.2222222222222222,
             "#7201a8"
            ],
            [
             0.3333333333333333,
             "#9c179e"
            ],
            [
             0.4444444444444444,
             "#bd3786"
            ],
            [
             0.5555555555555556,
             "#d8576b"
            ],
            [
             0.6666666666666666,
             "#ed7953"
            ],
            [
             0.7777777777777778,
             "#fb9f3a"
            ],
            [
             0.8888888888888888,
             "#fdca26"
            ],
            [
             1,
             "#f0f921"
            ]
           ]
          },
          "colorway": [
           "#636efa",
           "#EF553B",
           "#00cc96",
           "#ab63fa",
           "#FFA15A",
           "#19d3f3",
           "#FF6692",
           "#B6E880",
           "#FF97FF",
           "#FECB52"
          ],
          "font": {
           "color": "#2a3f5f"
          },
          "geo": {
           "bgcolor": "white",
           "lakecolor": "white",
           "landcolor": "#E5ECF6",
           "showlakes": true,
           "showland": true,
           "subunitcolor": "white"
          },
          "hoverlabel": {
           "align": "left"
          },
          "hovermode": "closest",
          "mapbox": {
           "style": "light"
          },
          "paper_bgcolor": "white",
          "plot_bgcolor": "#E5ECF6",
          "polar": {
           "angularaxis": {
            "gridcolor": "white",
            "linecolor": "white",
            "ticks": ""
           },
           "bgcolor": "#E5ECF6",
           "radialaxis": {
            "gridcolor": "white",
            "linecolor": "white",
            "ticks": ""
           }
          },
          "scene": {
           "xaxis": {
            "backgroundcolor": "#E5ECF6",
            "gridcolor": "white",
            "gridwidth": 2,
            "linecolor": "white",
            "showbackground": true,
            "ticks": "",
            "zerolinecolor": "white"
           },
           "yaxis": {
            "backgroundcolor": "#E5ECF6",
            "gridcolor": "white",
            "gridwidth": 2,
            "linecolor": "white",
            "showbackground": true,
            "ticks": "",
            "zerolinecolor": "white"
           },
           "zaxis": {
            "backgroundcolor": "#E5ECF6",
            "gridcolor": "white",
            "gridwidth": 2,
            "linecolor": "white",
            "showbackground": true,
            "ticks": "",
            "zerolinecolor": "white"
           }
          },
          "shapedefaults": {
           "line": {
            "color": "#2a3f5f"
           }
          },
          "ternary": {
           "aaxis": {
            "gridcolor": "white",
            "linecolor": "white",
            "ticks": ""
           },
           "baxis": {
            "gridcolor": "white",
            "linecolor": "white",
            "ticks": ""
           },
           "bgcolor": "#E5ECF6",
           "caxis": {
            "gridcolor": "white",
            "linecolor": "white",
            "ticks": ""
           }
          },
          "title": {
           "x": 0.05
          },
          "xaxis": {
           "automargin": true,
           "gridcolor": "white",
           "linecolor": "white",
           "ticks": "",
           "title": {
            "standoff": 15
           },
           "zerolinecolor": "white",
           "zerolinewidth": 2
          },
          "yaxis": {
           "automargin": true,
           "gridcolor": "white",
           "linecolor": "white",
           "ticks": "",
           "title": {
            "standoff": 15
           },
           "zerolinecolor": "white",
           "zerolinewidth": 2
          }
         }
        },
        "title": {
         "text": "Accuracy per Class for CASSED's personal Predictions on two languages"
        },
        "width": 1500,
        "xaxis": {
         "anchor": "y",
         "domain": [
          0,
          1
         ],
         "matches": "x3",
         "showticklabels": false
        },
        "xaxis2": {
         "anchor": "y2",
         "domain": [
          0,
          1
         ],
         "matches": "x3",
         "showticklabels": false
        },
        "xaxis3": {
         "anchor": "y3",
         "domain": [
          0,
          1
         ]
        },
        "yaxis": {
         "anchor": "x",
         "domain": [
          0.7777777777777778,
          1
         ],
         "title": {
          "text": "Accuracy"
         }
        },
        "yaxis2": {
         "anchor": "x2",
         "domain": [
          0.3888888888888889,
          0.6111111111111112
         ],
         "title": {
          "text": "Amount of<br>correct predictions"
         }
        },
        "yaxis3": {
         "anchor": "x3",
         "domain": [
          0,
          0.22222222222222224
         ],
         "title": {
          "text": "Amount of<br>false predictions"
         }
        }
       }
      }
     },
     "metadata": {},
     "output_type": "display_data"
    },
    {
     "data": {
      "application/vnd.plotly.v1+json": {
       "config": {
        "plotlyServerURL": "https://plot.ly"
       },
       "data": [
        {
         "showlegend": false,
         "type": "bar",
         "x": [
          "italian",
          "chinese"
         ],
         "xaxis": "x",
         "y": [
          0.82,
          0.74
         ],
         "yaxis": "y"
        },
        {
         "showlegend": false,
         "type": "bar",
         "x": [
          "faker",
          "mimesis"
         ],
         "xaxis": "x2",
         "y": [
          0.9583333333333334,
          0.7236842105263158
         ],
         "yaxis": "y2"
        },
        {
         "showlegend": false,
         "type": "bar",
         "x": [
          "valid_col_names",
          "invalid_col_names"
         ],
         "xaxis": "x3",
         "y": [
          0.8,
          0.76
         ],
         "yaxis": "y3"
        }
       ],
       "layout": {
        "annotations": [
         {
          "font": {
           "size": 16
          },
          "showarrow": false,
          "text": "Accuracy per Language",
          "x": 0.14444444444444446,
          "xanchor": "center",
          "xref": "paper",
          "y": 1,
          "yanchor": "bottom",
          "yref": "paper"
         },
         {
          "font": {
           "size": 16
          },
          "showarrow": false,
          "text": "Accuracy per Dataset",
          "x": 0.5,
          "xanchor": "center",
          "xref": "paper",
          "y": 1,
          "yanchor": "bottom",
          "yref": "paper"
         },
         {
          "font": {
           "size": 16
          },
          "showarrow": false,
          "text": "Accuracy per Column Name",
          "x": 0.8555555555555556,
          "xanchor": "center",
          "xref": "paper",
          "y": 1,
          "yanchor": "bottom",
          "yref": "paper"
         }
        ],
        "height": 500,
        "template": {
         "data": {
          "bar": [
           {
            "error_x": {
             "color": "#2a3f5f"
            },
            "error_y": {
             "color": "#2a3f5f"
            },
            "marker": {
             "line": {
              "color": "#E5ECF6",
              "width": 0.5
             },
             "pattern": {
              "fillmode": "overlay",
              "size": 10,
              "solidity": 0.2
             }
            },
            "type": "bar"
           }
          ],
          "barpolar": [
           {
            "marker": {
             "line": {
              "color": "#E5ECF6",
              "width": 0.5
             },
             "pattern": {
              "fillmode": "overlay",
              "size": 10,
              "solidity": 0.2
             }
            },
            "type": "barpolar"
           }
          ],
          "carpet": [
           {
            "aaxis": {
             "endlinecolor": "#2a3f5f",
             "gridcolor": "white",
             "linecolor": "white",
             "minorgridcolor": "white",
             "startlinecolor": "#2a3f5f"
            },
            "baxis": {
             "endlinecolor": "#2a3f5f",
             "gridcolor": "white",
             "linecolor": "white",
             "minorgridcolor": "white",
             "startlinecolor": "#2a3f5f"
            },
            "type": "carpet"
           }
          ],
          "choropleth": [
           {
            "colorbar": {
             "outlinewidth": 0,
             "ticks": ""
            },
            "type": "choropleth"
           }
          ],
          "contour": [
           {
            "colorbar": {
             "outlinewidth": 0,
             "ticks": ""
            },
            "colorscale": [
             [
              0,
              "#0d0887"
             ],
             [
              0.1111111111111111,
              "#46039f"
             ],
             [
              0.2222222222222222,
              "#7201a8"
             ],
             [
              0.3333333333333333,
              "#9c179e"
             ],
             [
              0.4444444444444444,
              "#bd3786"
             ],
             [
              0.5555555555555556,
              "#d8576b"
             ],
             [
              0.6666666666666666,
              "#ed7953"
             ],
             [
              0.7777777777777778,
              "#fb9f3a"
             ],
             [
              0.8888888888888888,
              "#fdca26"
             ],
             [
              1,
              "#f0f921"
             ]
            ],
            "type": "contour"
           }
          ],
          "contourcarpet": [
           {
            "colorbar": {
             "outlinewidth": 0,
             "ticks": ""
            },
            "type": "contourcarpet"
           }
          ],
          "heatmap": [
           {
            "colorbar": {
             "outlinewidth": 0,
             "ticks": ""
            },
            "colorscale": [
             [
              0,
              "#0d0887"
             ],
             [
              0.1111111111111111,
              "#46039f"
             ],
             [
              0.2222222222222222,
              "#7201a8"
             ],
             [
              0.3333333333333333,
              "#9c179e"
             ],
             [
              0.4444444444444444,
              "#bd3786"
             ],
             [
              0.5555555555555556,
              "#d8576b"
             ],
             [
              0.6666666666666666,
              "#ed7953"
             ],
             [
              0.7777777777777778,
              "#fb9f3a"
             ],
             [
              0.8888888888888888,
              "#fdca26"
             ],
             [
              1,
              "#f0f921"
             ]
            ],
            "type": "heatmap"
           }
          ],
          "heatmapgl": [
           {
            "colorbar": {
             "outlinewidth": 0,
             "ticks": ""
            },
            "colorscale": [
             [
              0,
              "#0d0887"
             ],
             [
              0.1111111111111111,
              "#46039f"
             ],
             [
              0.2222222222222222,
              "#7201a8"
             ],
             [
              0.3333333333333333,
              "#9c179e"
             ],
             [
              0.4444444444444444,
              "#bd3786"
             ],
             [
              0.5555555555555556,
              "#d8576b"
             ],
             [
              0.6666666666666666,
              "#ed7953"
             ],
             [
              0.7777777777777778,
              "#fb9f3a"
             ],
             [
              0.8888888888888888,
              "#fdca26"
             ],
             [
              1,
              "#f0f921"
             ]
            ],
            "type": "heatmapgl"
           }
          ],
          "histogram": [
           {
            "marker": {
             "pattern": {
              "fillmode": "overlay",
              "size": 10,
              "solidity": 0.2
             }
            },
            "type": "histogram"
           }
          ],
          "histogram2d": [
           {
            "colorbar": {
             "outlinewidth": 0,
             "ticks": ""
            },
            "colorscale": [
             [
              0,
              "#0d0887"
             ],
             [
              0.1111111111111111,
              "#46039f"
             ],
             [
              0.2222222222222222,
              "#7201a8"
             ],
             [
              0.3333333333333333,
              "#9c179e"
             ],
             [
              0.4444444444444444,
              "#bd3786"
             ],
             [
              0.5555555555555556,
              "#d8576b"
             ],
             [
              0.6666666666666666,
              "#ed7953"
             ],
             [
              0.7777777777777778,
              "#fb9f3a"
             ],
             [
              0.8888888888888888,
              "#fdca26"
             ],
             [
              1,
              "#f0f921"
             ]
            ],
            "type": "histogram2d"
           }
          ],
          "histogram2dcontour": [
           {
            "colorbar": {
             "outlinewidth": 0,
             "ticks": ""
            },
            "colorscale": [
             [
              0,
              "#0d0887"
             ],
             [
              0.1111111111111111,
              "#46039f"
             ],
             [
              0.2222222222222222,
              "#7201a8"
             ],
             [
              0.3333333333333333,
              "#9c179e"
             ],
             [
              0.4444444444444444,
              "#bd3786"
             ],
             [
              0.5555555555555556,
              "#d8576b"
             ],
             [
              0.6666666666666666,
              "#ed7953"
             ],
             [
              0.7777777777777778,
              "#fb9f3a"
             ],
             [
              0.8888888888888888,
              "#fdca26"
             ],
             [
              1,
              "#f0f921"
             ]
            ],
            "type": "histogram2dcontour"
           }
          ],
          "mesh3d": [
           {
            "colorbar": {
             "outlinewidth": 0,
             "ticks": ""
            },
            "type": "mesh3d"
           }
          ],
          "parcoords": [
           {
            "line": {
             "colorbar": {
              "outlinewidth": 0,
              "ticks": ""
             }
            },
            "type": "parcoords"
           }
          ],
          "pie": [
           {
            "automargin": true,
            "type": "pie"
           }
          ],
          "scatter": [
           {
            "fillpattern": {
             "fillmode": "overlay",
             "size": 10,
             "solidity": 0.2
            },
            "type": "scatter"
           }
          ],
          "scatter3d": [
           {
            "line": {
             "colorbar": {
              "outlinewidth": 0,
              "ticks": ""
             }
            },
            "marker": {
             "colorbar": {
              "outlinewidth": 0,
              "ticks": ""
             }
            },
            "type": "scatter3d"
           }
          ],
          "scattercarpet": [
           {
            "marker": {
             "colorbar": {
              "outlinewidth": 0,
              "ticks": ""
             }
            },
            "type": "scattercarpet"
           }
          ],
          "scattergeo": [
           {
            "marker": {
             "colorbar": {
              "outlinewidth": 0,
              "ticks": ""
             }
            },
            "type": "scattergeo"
           }
          ],
          "scattergl": [
           {
            "marker": {
             "colorbar": {
              "outlinewidth": 0,
              "ticks": ""
             }
            },
            "type": "scattergl"
           }
          ],
          "scattermapbox": [
           {
            "marker": {
             "colorbar": {
              "outlinewidth": 0,
              "ticks": ""
             }
            },
            "type": "scattermapbox"
           }
          ],
          "scatterpolar": [
           {
            "marker": {
             "colorbar": {
              "outlinewidth": 0,
              "ticks": ""
             }
            },
            "type": "scatterpolar"
           }
          ],
          "scatterpolargl": [
           {
            "marker": {
             "colorbar": {
              "outlinewidth": 0,
              "ticks": ""
             }
            },
            "type": "scatterpolargl"
           }
          ],
          "scatterternary": [
           {
            "marker": {
             "colorbar": {
              "outlinewidth": 0,
              "ticks": ""
             }
            },
            "type": "scatterternary"
           }
          ],
          "surface": [
           {
            "colorbar": {
             "outlinewidth": 0,
             "ticks": ""
            },
            "colorscale": [
             [
              0,
              "#0d0887"
             ],
             [
              0.1111111111111111,
              "#46039f"
             ],
             [
              0.2222222222222222,
              "#7201a8"
             ],
             [
              0.3333333333333333,
              "#9c179e"
             ],
             [
              0.4444444444444444,
              "#bd3786"
             ],
             [
              0.5555555555555556,
              "#d8576b"
             ],
             [
              0.6666666666666666,
              "#ed7953"
             ],
             [
              0.7777777777777778,
              "#fb9f3a"
             ],
             [
              0.8888888888888888,
              "#fdca26"
             ],
             [
              1,
              "#f0f921"
             ]
            ],
            "type": "surface"
           }
          ],
          "table": [
           {
            "cells": {
             "fill": {
              "color": "#EBF0F8"
             },
             "line": {
              "color": "white"
             }
            },
            "header": {
             "fill": {
              "color": "#C8D4E3"
             },
             "line": {
              "color": "white"
             }
            },
            "type": "table"
           }
          ]
         },
         "layout": {
          "annotationdefaults": {
           "arrowcolor": "#2a3f5f",
           "arrowhead": 0,
           "arrowwidth": 1
          },
          "autotypenumbers": "strict",
          "coloraxis": {
           "colorbar": {
            "outlinewidth": 0,
            "ticks": ""
           }
          },
          "colorscale": {
           "diverging": [
            [
             0,
             "#8e0152"
            ],
            [
             0.1,
             "#c51b7d"
            ],
            [
             0.2,
             "#de77ae"
            ],
            [
             0.3,
             "#f1b6da"
            ],
            [
             0.4,
             "#fde0ef"
            ],
            [
             0.5,
             "#f7f7f7"
            ],
            [
             0.6,
             "#e6f5d0"
            ],
            [
             0.7,
             "#b8e186"
            ],
            [
             0.8,
             "#7fbc41"
            ],
            [
             0.9,
             "#4d9221"
            ],
            [
             1,
             "#276419"
            ]
           ],
           "sequential": [
            [
             0,
             "#0d0887"
            ],
            [
             0.1111111111111111,
             "#46039f"
            ],
            [
             0.2222222222222222,
             "#7201a8"
            ],
            [
             0.3333333333333333,
             "#9c179e"
            ],
            [
             0.4444444444444444,
             "#bd3786"
            ],
            [
             0.5555555555555556,
             "#d8576b"
            ],
            [
             0.6666666666666666,
             "#ed7953"
            ],
            [
             0.7777777777777778,
             "#fb9f3a"
            ],
            [
             0.8888888888888888,
             "#fdca26"
            ],
            [
             1,
             "#f0f921"
            ]
           ],
           "sequentialminus": [
            [
             0,
             "#0d0887"
            ],
            [
             0.1111111111111111,
             "#46039f"
            ],
            [
             0.2222222222222222,
             "#7201a8"
            ],
            [
             0.3333333333333333,
             "#9c179e"
            ],
            [
             0.4444444444444444,
             "#bd3786"
            ],
            [
             0.5555555555555556,
             "#d8576b"
            ],
            [
             0.6666666666666666,
             "#ed7953"
            ],
            [
             0.7777777777777778,
             "#fb9f3a"
            ],
            [
             0.8888888888888888,
             "#fdca26"
            ],
            [
             1,
             "#f0f921"
            ]
           ]
          },
          "colorway": [
           "#636efa",
           "#EF553B",
           "#00cc96",
           "#ab63fa",
           "#FFA15A",
           "#19d3f3",
           "#FF6692",
           "#B6E880",
           "#FF97FF",
           "#FECB52"
          ],
          "font": {
           "color": "#2a3f5f"
          },
          "geo": {
           "bgcolor": "white",
           "lakecolor": "white",
           "landcolor": "#E5ECF6",
           "showlakes": true,
           "showland": true,
           "subunitcolor": "white"
          },
          "hoverlabel": {
           "align": "left"
          },
          "hovermode": "closest",
          "mapbox": {
           "style": "light"
          },
          "paper_bgcolor": "white",
          "plot_bgcolor": "#E5ECF6",
          "polar": {
           "angularaxis": {
            "gridcolor": "white",
            "linecolor": "white",
            "ticks": ""
           },
           "bgcolor": "#E5ECF6",
           "radialaxis": {
            "gridcolor": "white",
            "linecolor": "white",
            "ticks": ""
           }
          },
          "scene": {
           "xaxis": {
            "backgroundcolor": "#E5ECF6",
            "gridcolor": "white",
            "gridwidth": 2,
            "linecolor": "white",
            "showbackground": true,
            "ticks": "",
            "zerolinecolor": "white"
           },
           "yaxis": {
            "backgroundcolor": "#E5ECF6",
            "gridcolor": "white",
            "gridwidth": 2,
            "linecolor": "white",
            "showbackground": true,
            "ticks": "",
            "zerolinecolor": "white"
           },
           "zaxis": {
            "backgroundcolor": "#E5ECF6",
            "gridcolor": "white",
            "gridwidth": 2,
            "linecolor": "white",
            "showbackground": true,
            "ticks": "",
            "zerolinecolor": "white"
           }
          },
          "shapedefaults": {
           "line": {
            "color": "#2a3f5f"
           }
          },
          "ternary": {
           "aaxis": {
            "gridcolor": "white",
            "linecolor": "white",
            "ticks": ""
           },
           "baxis": {
            "gridcolor": "white",
            "linecolor": "white",
            "ticks": ""
           },
           "bgcolor": "#E5ECF6",
           "caxis": {
            "gridcolor": "white",
            "linecolor": "white",
            "ticks": ""
           }
          },
          "title": {
           "x": 0.05
          },
          "xaxis": {
           "automargin": true,
           "gridcolor": "white",
           "linecolor": "white",
           "ticks": "",
           "title": {
            "standoff": 15
           },
           "zerolinecolor": "white",
           "zerolinewidth": 2
          },
          "yaxis": {
           "automargin": true,
           "gridcolor": "white",
           "linecolor": "white",
           "ticks": "",
           "title": {
            "standoff": 15
           },
           "zerolinecolor": "white",
           "zerolinewidth": 2
          }
         }
        },
        "title": {
         "text": "Accuracy of CASSED's personal Predictions on two languages with respect to different categories"
        },
        "width": 900,
        "xaxis": {
         "anchor": "y",
         "domain": [
          0,
          0.2888888888888889
         ]
        },
        "xaxis2": {
         "anchor": "y2",
         "domain": [
          0.35555555555555557,
          0.6444444444444445
         ]
        },
        "xaxis3": {
         "anchor": "y3",
         "domain": [
          0.7111111111111111,
          1
         ]
        },
        "yaxis": {
         "anchor": "x",
         "domain": [
          0,
          1
         ]
        },
        "yaxis2": {
         "anchor": "x2",
         "domain": [
          0,
          1
         ],
         "matches": "y",
         "showticklabels": false
        },
        "yaxis3": {
         "anchor": "x3",
         "domain": [
          0,
          1
         ],
         "matches": "y",
         "showticklabels": false
        }
       }
      }
     },
     "metadata": {},
     "output_type": "display_data"
    }
   ],
   "source": [
    "create_analysis_plot(results_df_test_lan, dataset=\"two languages\")"
   ]
  },
  {
   "cell_type": "markdown",
   "metadata": {},
   "source": [
    "# Kaggle Datasets"
   ]
  },
  {
   "cell_type": "code",
   "execution_count": 24,
   "metadata": {},
   "outputs": [],
   "source": [
    "test_kaggle = pd.read_csv(\"../../datasets/kaggle_datasets/all_datasets.csv\")\n",
    "test_kaggle_personal = pd.read_csv(\"../../datasets/kaggle_datasets/all_datasets_labels_personal.csv\")"
   ]
  },
  {
   "cell_type": "code",
   "execution_count": 25,
   "metadata": {},
   "outputs": [],
   "source": [
    "kaggle_true = pd.read_csv(\"../CASSED_model_results/cassed_personal/kaggle/true.csv\")\n",
    "kaggle_pred = pd.read_csv(\"../CASSED_model_results/cassed_personal/kaggle/predicted.csv\")\n",
    "kaggle_target_names = pd.read_csv(\"../CASSED_model_results/cassed_personal/kaggle/target_names.csv\")\n",
    "kaggle_target_names = {a[1]: a[0] for a in kaggle_target_names[[\"0\", \"0.1\"]].values}\n",
    "kaggle_target_names[0] = \"no prediction\""
   ]
  },
  {
   "cell_type": "code",
   "execution_count": 26,
   "metadata": {},
   "outputs": [],
   "source": [
    "predictions, true = [], []\n",
    "for i in range(kaggle_true.shape[0]):\n",
    "    predictions.append([kaggle_target_names[e] for e, b in enumerate(kaggle_pred.iloc[i,:]) if b == 1])\n",
    "    true.append([kaggle_target_names[e] for e, b in enumerate(kaggle_true.iloc[i,:]) if b == 1])\n",
    "true = [a[0] for a in true]\n",
    "predictions = [a[0] for a in predictions]"
   ]
  },
  {
   "cell_type": "code",
   "execution_count": 27,
   "metadata": {},
   "outputs": [
    {
     "data": {
      "application/vnd.plotly.v1+json": {
       "config": {
        "plotlyServerURL": "https://plot.ly"
       },
       "data": [
        {
         "showlegend": false,
         "type": "bar",
         "x": [
          "weighted Precision",
          "weighted Recall",
          "weighted F1 Score",
          "Accuracy",
          "AUC-ROC"
         ],
         "xaxis": "x",
         "y": [
          0.7197161862527717,
          0.6829268292682927,
          0.6883517929382191,
          0.6829268292682927,
          0.6984757178305565
         ],
         "yaxis": "y"
        },
        {
         "colorscale": [
          [
           0,
           "rgb(247,251,255)"
          ],
          [
           0.125,
           "rgb(222,235,247)"
          ],
          [
           0.25,
           "rgb(198,219,239)"
          ],
          [
           0.375,
           "rgb(158,202,225)"
          ],
          [
           0.5,
           "rgb(107,174,214)"
          ],
          [
           0.625,
           "rgb(66,146,198)"
          ],
          [
           0.75,
           "rgb(33,113,181)"
          ],
          [
           0.875,
           "rgb(8,81,156)"
          ],
          [
           1,
           "rgb(8,48,107)"
          ]
         ],
         "showscale": false,
         "text": [
          [
           "99<br>0.64",
           "56<br>0.36"
          ],
          [
           "22<br>0.24",
           "69<br>0.76"
          ]
         ],
         "textfont": {
          "size": 20
         },
         "texttemplate": "%{text}",
         "type": "heatmap",
         "x": [
          "Pred: personal",
          "Pred: non-personal"
         ],
         "xaxis": "x2",
         "y": [
          "True: personal",
          "True: non-personal"
         ],
         "yaxis": "y2",
         "z": [
          [
           99,
           56
          ],
          [
           22,
           69
          ]
         ]
        }
       ],
       "layout": {
        "annotations": [
         {
          "font": {
           "size": 16
          },
          "showarrow": false,
          "text": "Evaluation Metrics",
          "x": 0.225,
          "xanchor": "center",
          "xref": "paper",
          "y": 1,
          "yanchor": "bottom",
          "yref": "paper"
         },
         {
          "font": {
           "size": 16
          },
          "showarrow": false,
          "text": "Confusion Matrix",
          "x": 0.775,
          "xanchor": "center",
          "xref": "paper",
          "y": 1,
          "yanchor": "bottom",
          "yref": "paper"
         }
        ],
        "height": 500,
        "showlegend": false,
        "template": {
         "data": {
          "bar": [
           {
            "error_x": {
             "color": "#2a3f5f"
            },
            "error_y": {
             "color": "#2a3f5f"
            },
            "marker": {
             "line": {
              "color": "#E5ECF6",
              "width": 0.5
             },
             "pattern": {
              "fillmode": "overlay",
              "size": 10,
              "solidity": 0.2
             }
            },
            "type": "bar"
           }
          ],
          "barpolar": [
           {
            "marker": {
             "line": {
              "color": "#E5ECF6",
              "width": 0.5
             },
             "pattern": {
              "fillmode": "overlay",
              "size": 10,
              "solidity": 0.2
             }
            },
            "type": "barpolar"
           }
          ],
          "carpet": [
           {
            "aaxis": {
             "endlinecolor": "#2a3f5f",
             "gridcolor": "white",
             "linecolor": "white",
             "minorgridcolor": "white",
             "startlinecolor": "#2a3f5f"
            },
            "baxis": {
             "endlinecolor": "#2a3f5f",
             "gridcolor": "white",
             "linecolor": "white",
             "minorgridcolor": "white",
             "startlinecolor": "#2a3f5f"
            },
            "type": "carpet"
           }
          ],
          "choropleth": [
           {
            "colorbar": {
             "outlinewidth": 0,
             "ticks": ""
            },
            "type": "choropleth"
           }
          ],
          "contour": [
           {
            "colorbar": {
             "outlinewidth": 0,
             "ticks": ""
            },
            "colorscale": [
             [
              0,
              "#0d0887"
             ],
             [
              0.1111111111111111,
              "#46039f"
             ],
             [
              0.2222222222222222,
              "#7201a8"
             ],
             [
              0.3333333333333333,
              "#9c179e"
             ],
             [
              0.4444444444444444,
              "#bd3786"
             ],
             [
              0.5555555555555556,
              "#d8576b"
             ],
             [
              0.6666666666666666,
              "#ed7953"
             ],
             [
              0.7777777777777778,
              "#fb9f3a"
             ],
             [
              0.8888888888888888,
              "#fdca26"
             ],
             [
              1,
              "#f0f921"
             ]
            ],
            "type": "contour"
           }
          ],
          "contourcarpet": [
           {
            "colorbar": {
             "outlinewidth": 0,
             "ticks": ""
            },
            "type": "contourcarpet"
           }
          ],
          "heatmap": [
           {
            "colorbar": {
             "outlinewidth": 0,
             "ticks": ""
            },
            "colorscale": [
             [
              0,
              "#0d0887"
             ],
             [
              0.1111111111111111,
              "#46039f"
             ],
             [
              0.2222222222222222,
              "#7201a8"
             ],
             [
              0.3333333333333333,
              "#9c179e"
             ],
             [
              0.4444444444444444,
              "#bd3786"
             ],
             [
              0.5555555555555556,
              "#d8576b"
             ],
             [
              0.6666666666666666,
              "#ed7953"
             ],
             [
              0.7777777777777778,
              "#fb9f3a"
             ],
             [
              0.8888888888888888,
              "#fdca26"
             ],
             [
              1,
              "#f0f921"
             ]
            ],
            "type": "heatmap"
           }
          ],
          "heatmapgl": [
           {
            "colorbar": {
             "outlinewidth": 0,
             "ticks": ""
            },
            "colorscale": [
             [
              0,
              "#0d0887"
             ],
             [
              0.1111111111111111,
              "#46039f"
             ],
             [
              0.2222222222222222,
              "#7201a8"
             ],
             [
              0.3333333333333333,
              "#9c179e"
             ],
             [
              0.4444444444444444,
              "#bd3786"
             ],
             [
              0.5555555555555556,
              "#d8576b"
             ],
             [
              0.6666666666666666,
              "#ed7953"
             ],
             [
              0.7777777777777778,
              "#fb9f3a"
             ],
             [
              0.8888888888888888,
              "#fdca26"
             ],
             [
              1,
              "#f0f921"
             ]
            ],
            "type": "heatmapgl"
           }
          ],
          "histogram": [
           {
            "marker": {
             "pattern": {
              "fillmode": "overlay",
              "size": 10,
              "solidity": 0.2
             }
            },
            "type": "histogram"
           }
          ],
          "histogram2d": [
           {
            "colorbar": {
             "outlinewidth": 0,
             "ticks": ""
            },
            "colorscale": [
             [
              0,
              "#0d0887"
             ],
             [
              0.1111111111111111,
              "#46039f"
             ],
             [
              0.2222222222222222,
              "#7201a8"
             ],
             [
              0.3333333333333333,
              "#9c179e"
             ],
             [
              0.4444444444444444,
              "#bd3786"
             ],
             [
              0.5555555555555556,
              "#d8576b"
             ],
             [
              0.6666666666666666,
              "#ed7953"
             ],
             [
              0.7777777777777778,
              "#fb9f3a"
             ],
             [
              0.8888888888888888,
              "#fdca26"
             ],
             [
              1,
              "#f0f921"
             ]
            ],
            "type": "histogram2d"
           }
          ],
          "histogram2dcontour": [
           {
            "colorbar": {
             "outlinewidth": 0,
             "ticks": ""
            },
            "colorscale": [
             [
              0,
              "#0d0887"
             ],
             [
              0.1111111111111111,
              "#46039f"
             ],
             [
              0.2222222222222222,
              "#7201a8"
             ],
             [
              0.3333333333333333,
              "#9c179e"
             ],
             [
              0.4444444444444444,
              "#bd3786"
             ],
             [
              0.5555555555555556,
              "#d8576b"
             ],
             [
              0.6666666666666666,
              "#ed7953"
             ],
             [
              0.7777777777777778,
              "#fb9f3a"
             ],
             [
              0.8888888888888888,
              "#fdca26"
             ],
             [
              1,
              "#f0f921"
             ]
            ],
            "type": "histogram2dcontour"
           }
          ],
          "mesh3d": [
           {
            "colorbar": {
             "outlinewidth": 0,
             "ticks": ""
            },
            "type": "mesh3d"
           }
          ],
          "parcoords": [
           {
            "line": {
             "colorbar": {
              "outlinewidth": 0,
              "ticks": ""
             }
            },
            "type": "parcoords"
           }
          ],
          "pie": [
           {
            "automargin": true,
            "type": "pie"
           }
          ],
          "scatter": [
           {
            "fillpattern": {
             "fillmode": "overlay",
             "size": 10,
             "solidity": 0.2
            },
            "type": "scatter"
           }
          ],
          "scatter3d": [
           {
            "line": {
             "colorbar": {
              "outlinewidth": 0,
              "ticks": ""
             }
            },
            "marker": {
             "colorbar": {
              "outlinewidth": 0,
              "ticks": ""
             }
            },
            "type": "scatter3d"
           }
          ],
          "scattercarpet": [
           {
            "marker": {
             "colorbar": {
              "outlinewidth": 0,
              "ticks": ""
             }
            },
            "type": "scattercarpet"
           }
          ],
          "scattergeo": [
           {
            "marker": {
             "colorbar": {
              "outlinewidth": 0,
              "ticks": ""
             }
            },
            "type": "scattergeo"
           }
          ],
          "scattergl": [
           {
            "marker": {
             "colorbar": {
              "outlinewidth": 0,
              "ticks": ""
             }
            },
            "type": "scattergl"
           }
          ],
          "scattermapbox": [
           {
            "marker": {
             "colorbar": {
              "outlinewidth": 0,
              "ticks": ""
             }
            },
            "type": "scattermapbox"
           }
          ],
          "scatterpolar": [
           {
            "marker": {
             "colorbar": {
              "outlinewidth": 0,
              "ticks": ""
             }
            },
            "type": "scatterpolar"
           }
          ],
          "scatterpolargl": [
           {
            "marker": {
             "colorbar": {
              "outlinewidth": 0,
              "ticks": ""
             }
            },
            "type": "scatterpolargl"
           }
          ],
          "scatterternary": [
           {
            "marker": {
             "colorbar": {
              "outlinewidth": 0,
              "ticks": ""
             }
            },
            "type": "scatterternary"
           }
          ],
          "surface": [
           {
            "colorbar": {
             "outlinewidth": 0,
             "ticks": ""
            },
            "colorscale": [
             [
              0,
              "#0d0887"
             ],
             [
              0.1111111111111111,
              "#46039f"
             ],
             [
              0.2222222222222222,
              "#7201a8"
             ],
             [
              0.3333333333333333,
              "#9c179e"
             ],
             [
              0.4444444444444444,
              "#bd3786"
             ],
             [
              0.5555555555555556,
              "#d8576b"
             ],
             [
              0.6666666666666666,
              "#ed7953"
             ],
             [
              0.7777777777777778,
              "#fb9f3a"
             ],
             [
              0.8888888888888888,
              "#fdca26"
             ],
             [
              1,
              "#f0f921"
             ]
            ],
            "type": "surface"
           }
          ],
          "table": [
           {
            "cells": {
             "fill": {
              "color": "#EBF0F8"
             },
             "line": {
              "color": "white"
             }
            },
            "header": {
             "fill": {
              "color": "#C8D4E3"
             },
             "line": {
              "color": "white"
             }
            },
            "type": "table"
           }
          ]
         },
         "layout": {
          "annotationdefaults": {
           "arrowcolor": "#2a3f5f",
           "arrowhead": 0,
           "arrowwidth": 1
          },
          "autotypenumbers": "strict",
          "coloraxis": {
           "colorbar": {
            "outlinewidth": 0,
            "ticks": ""
           }
          },
          "colorscale": {
           "diverging": [
            [
             0,
             "#8e0152"
            ],
            [
             0.1,
             "#c51b7d"
            ],
            [
             0.2,
             "#de77ae"
            ],
            [
             0.3,
             "#f1b6da"
            ],
            [
             0.4,
             "#fde0ef"
            ],
            [
             0.5,
             "#f7f7f7"
            ],
            [
             0.6,
             "#e6f5d0"
            ],
            [
             0.7,
             "#b8e186"
            ],
            [
             0.8,
             "#7fbc41"
            ],
            [
             0.9,
             "#4d9221"
            ],
            [
             1,
             "#276419"
            ]
           ],
           "sequential": [
            [
             0,
             "#0d0887"
            ],
            [
             0.1111111111111111,
             "#46039f"
            ],
            [
             0.2222222222222222,
             "#7201a8"
            ],
            [
             0.3333333333333333,
             "#9c179e"
            ],
            [
             0.4444444444444444,
             "#bd3786"
            ],
            [
             0.5555555555555556,
             "#d8576b"
            ],
            [
             0.6666666666666666,
             "#ed7953"
            ],
            [
             0.7777777777777778,
             "#fb9f3a"
            ],
            [
             0.8888888888888888,
             "#fdca26"
            ],
            [
             1,
             "#f0f921"
            ]
           ],
           "sequentialminus": [
            [
             0,
             "#0d0887"
            ],
            [
             0.1111111111111111,
             "#46039f"
            ],
            [
             0.2222222222222222,
             "#7201a8"
            ],
            [
             0.3333333333333333,
             "#9c179e"
            ],
            [
             0.4444444444444444,
             "#bd3786"
            ],
            [
             0.5555555555555556,
             "#d8576b"
            ],
            [
             0.6666666666666666,
             "#ed7953"
            ],
            [
             0.7777777777777778,
             "#fb9f3a"
            ],
            [
             0.8888888888888888,
             "#fdca26"
            ],
            [
             1,
             "#f0f921"
            ]
           ]
          },
          "colorway": [
           "#636efa",
           "#EF553B",
           "#00cc96",
           "#ab63fa",
           "#FFA15A",
           "#19d3f3",
           "#FF6692",
           "#B6E880",
           "#FF97FF",
           "#FECB52"
          ],
          "font": {
           "color": "#2a3f5f"
          },
          "geo": {
           "bgcolor": "white",
           "lakecolor": "white",
           "landcolor": "#E5ECF6",
           "showlakes": true,
           "showland": true,
           "subunitcolor": "white"
          },
          "hoverlabel": {
           "align": "left"
          },
          "hovermode": "closest",
          "mapbox": {
           "style": "light"
          },
          "paper_bgcolor": "white",
          "plot_bgcolor": "#E5ECF6",
          "polar": {
           "angularaxis": {
            "gridcolor": "white",
            "linecolor": "white",
            "ticks": ""
           },
           "bgcolor": "#E5ECF6",
           "radialaxis": {
            "gridcolor": "white",
            "linecolor": "white",
            "ticks": ""
           }
          },
          "scene": {
           "xaxis": {
            "backgroundcolor": "#E5ECF6",
            "gridcolor": "white",
            "gridwidth": 2,
            "linecolor": "white",
            "showbackground": true,
            "ticks": "",
            "zerolinecolor": "white"
           },
           "yaxis": {
            "backgroundcolor": "#E5ECF6",
            "gridcolor": "white",
            "gridwidth": 2,
            "linecolor": "white",
            "showbackground": true,
            "ticks": "",
            "zerolinecolor": "white"
           },
           "zaxis": {
            "backgroundcolor": "#E5ECF6",
            "gridcolor": "white",
            "gridwidth": 2,
            "linecolor": "white",
            "showbackground": true,
            "ticks": "",
            "zerolinecolor": "white"
           }
          },
          "shapedefaults": {
           "line": {
            "color": "#2a3f5f"
           }
          },
          "ternary": {
           "aaxis": {
            "gridcolor": "white",
            "linecolor": "white",
            "ticks": ""
           },
           "baxis": {
            "gridcolor": "white",
            "linecolor": "white",
            "ticks": ""
           },
           "bgcolor": "#E5ECF6",
           "caxis": {
            "gridcolor": "white",
            "linecolor": "white",
            "ticks": ""
           }
          },
          "title": {
           "x": 0.05
          },
          "xaxis": {
           "automargin": true,
           "gridcolor": "white",
           "linecolor": "white",
           "ticks": "",
           "title": {
            "standoff": 15
           },
           "zerolinecolor": "white",
           "zerolinewidth": 2
          },
          "yaxis": {
           "automargin": true,
           "gridcolor": "white",
           "linecolor": "white",
           "ticks": "",
           "title": {
            "standoff": 15
           },
           "zerolinecolor": "white",
           "zerolinewidth": 2
          }
         }
        },
        "title": {
         "text": "Confusion Matrix and Evaluation Metrics"
        },
        "width": 1000,
        "xaxis": {
         "anchor": "y",
         "domain": [
          0,
          0.45
         ]
        },
        "xaxis2": {
         "anchor": "y2",
         "domain": [
          0.55,
          1
         ]
        },
        "yaxis": {
         "anchor": "x",
         "domain": [
          0,
          1
         ],
         "range": [
          0,
          1.1
         ]
        },
        "yaxis2": {
         "anchor": "x2",
         "domain": [
          0,
          1
         ]
        }
       }
      }
     },
     "metadata": {},
     "output_type": "display_data"
    }
   ],
   "source": [
    "plot_cassed_results(true, predictions)"
   ]
  },
  {
   "cell_type": "code",
   "execution_count": 28,
   "metadata": {},
   "outputs": [
    {
     "name": "stderr",
     "output_type": "stream",
     "text": [
      "/tmp/ipykernel_45845/2000237462.py:16: DtypeWarning:\n",
      "\n",
      "Columns (10) have mixed types. Specify dtype option on import or set low_memory=False.\n",
      "\n"
     ]
    }
   ],
   "source": [
    "folders = [name for name in os.listdir(\"../../datasets/kaggle_datasets\") if os.path.isdir(os.path.join(\"../../datasets/kaggle_datasets\", name))]\n",
    "dataset_kaggle, dataset_kaggle_info = [], []\n",
    "dataset_type = [\"pii info\", \"personal info\", \"non-personal info\", \"personal info\", \"personal info\", \"pii info\", \"pii info\", \"non-personal info\",\n",
    "                \"non-personal info\", \"personal info\", \"pii info\", \"non-personal info\", \"personal info\", \"pii info\", \"non-personal info\"]\n",
    "for e, folder in enumerate(folders):\n",
    "    path = \"../../datasets/kaggle_datasets/\" + folder\n",
    "    csv_file = [f for f in os.listdir(path) if f.endswith('.csv') and 'labels' not in f][0]\n",
    "    with open(path + \"/\" + csv_file, 'r') as file:\n",
    "        first_line = file.readline()\n",
    "        comma_count = first_line.count(',')\n",
    "        semicolon_count = first_line.count(';')\n",
    "        if comma_count > semicolon_count:\n",
    "            sep = \",\"\n",
    "        else:\n",
    "            sep = \";\"\n",
    "    df = pd.read_csv(path + \"/\" + csv_file, sep=sep)\n",
    "    dataset_kaggle += [folder] * df.shape[1]\n",
    "    dataset_kaggle_info += [dataset_type[e]] * df.shape[1]"
   ]
  },
  {
   "cell_type": "code",
   "execution_count": 29,
   "metadata": {},
   "outputs": [],
   "source": [
    "results_df_test_kaggle = pd.DataFrame({\n",
    "    \"Column\": test_kaggle.columns,\n",
    "    \"Prediction\": predictions,\n",
    "    \"True Label\": test_kaggle_personal[\"label\"].values,\n",
    "    \"Dataset\": dataset_kaggle,\n",
    "    \"Dataset Type\": dataset_kaggle_info\n",
    "})"
   ]
  },
  {
   "cell_type": "code",
   "execution_count": 30,
   "metadata": {},
   "outputs": [
    {
     "data": {
      "text/html": [
       "<div>\n",
       "<style scoped>\n",
       "    .dataframe tbody tr th:only-of-type {\n",
       "        vertical-align: middle;\n",
       "    }\n",
       "\n",
       "    .dataframe tbody tr th {\n",
       "        vertical-align: top;\n",
       "    }\n",
       "\n",
       "    .dataframe thead th {\n",
       "        text-align: right;\n",
       "    }\n",
       "</style>\n",
       "<table border=\"1\" class=\"dataframe\">\n",
       "  <thead>\n",
       "    <tr style=\"text-align: right;\">\n",
       "      <th></th>\n",
       "      <th>Column</th>\n",
       "      <th>Prediction</th>\n",
       "      <th>True Label</th>\n",
       "      <th>Dataset</th>\n",
       "      <th>Dataset Type</th>\n",
       "    </tr>\n",
       "  </thead>\n",
       "  <tbody>\n",
       "    <tr>\n",
       "      <th>5</th>\n",
       "      <td>Transportation expense</td>\n",
       "      <td>non-personal</td>\n",
       "      <td>personal</td>\n",
       "      <td>bank_marketing</td>\n",
       "      <td>pii info</td>\n",
       "    </tr>\n",
       "    <tr>\n",
       "      <th>6</th>\n",
       "      <td>Distance from Residence to Work</td>\n",
       "      <td>non-personal</td>\n",
       "      <td>personal</td>\n",
       "      <td>bank_marketing</td>\n",
       "      <td>pii info</td>\n",
       "    </tr>\n",
       "    <tr>\n",
       "      <th>7</th>\n",
       "      <td>Service time</td>\n",
       "      <td>non-personal</td>\n",
       "      <td>personal</td>\n",
       "      <td>bank_marketing</td>\n",
       "      <td>pii info</td>\n",
       "    </tr>\n",
       "    <tr>\n",
       "      <th>8</th>\n",
       "      <td>Age</td>\n",
       "      <td>non-personal</td>\n",
       "      <td>personal</td>\n",
       "      <td>bank_marketing</td>\n",
       "      <td>pii info</td>\n",
       "    </tr>\n",
       "    <tr>\n",
       "      <th>9</th>\n",
       "      <td>Work load Average/day</td>\n",
       "      <td>non-personal</td>\n",
       "      <td>personal</td>\n",
       "      <td>bank_marketing</td>\n",
       "      <td>pii info</td>\n",
       "    </tr>\n",
       "    <tr>\n",
       "      <th>10</th>\n",
       "      <td>Hit target</td>\n",
       "      <td>non-personal</td>\n",
       "      <td>personal</td>\n",
       "      <td>bank_marketing</td>\n",
       "      <td>pii info</td>\n",
       "    </tr>\n",
       "    <tr>\n",
       "      <th>17</th>\n",
       "      <td>Weight</td>\n",
       "      <td>non-personal</td>\n",
       "      <td>personal</td>\n",
       "      <td>bank_marketing</td>\n",
       "      <td>pii info</td>\n",
       "    </tr>\n",
       "    <tr>\n",
       "      <th>18</th>\n",
       "      <td>Height</td>\n",
       "      <td>non-personal</td>\n",
       "      <td>personal</td>\n",
       "      <td>bank_marketing</td>\n",
       "      <td>pii info</td>\n",
       "    </tr>\n",
       "    <tr>\n",
       "      <th>19</th>\n",
       "      <td>Body mass index</td>\n",
       "      <td>non-personal</td>\n",
       "      <td>personal</td>\n",
       "      <td>bank_marketing</td>\n",
       "      <td>pii info</td>\n",
       "    </tr>\n",
       "    <tr>\n",
       "      <th>21</th>\n",
       "      <td>age</td>\n",
       "      <td>non-personal</td>\n",
       "      <td>personal</td>\n",
       "      <td>adult_census</td>\n",
       "      <td>personal info</td>\n",
       "    </tr>\n",
       "    <tr>\n",
       "      <th>22</th>\n",
       "      <td>workclass</td>\n",
       "      <td>non-personal</td>\n",
       "      <td>personal</td>\n",
       "      <td>adult_census</td>\n",
       "      <td>personal info</td>\n",
       "    </tr>\n",
       "    <tr>\n",
       "      <th>25</th>\n",
       "      <td>education.num</td>\n",
       "      <td>non-personal</td>\n",
       "      <td>personal</td>\n",
       "      <td>adult_census</td>\n",
       "      <td>personal info</td>\n",
       "    </tr>\n",
       "    <tr>\n",
       "      <th>27</th>\n",
       "      <td>occupation</td>\n",
       "      <td>non-personal</td>\n",
       "      <td>personal</td>\n",
       "      <td>adult_census</td>\n",
       "      <td>personal info</td>\n",
       "    </tr>\n",
       "    <tr>\n",
       "      <th>32</th>\n",
       "      <td>capital.loss</td>\n",
       "      <td>non-personal</td>\n",
       "      <td>personal</td>\n",
       "      <td>adult_census</td>\n",
       "      <td>personal info</td>\n",
       "    </tr>\n",
       "    <tr>\n",
       "      <th>33</th>\n",
       "      <td>hours.per.week</td>\n",
       "      <td>non-personal</td>\n",
       "      <td>personal</td>\n",
       "      <td>adult_census</td>\n",
       "      <td>personal info</td>\n",
       "    </tr>\n",
       "    <tr>\n",
       "      <th>34</th>\n",
       "      <td>native.country</td>\n",
       "      <td>non-personal</td>\n",
       "      <td>personal</td>\n",
       "      <td>adult_census</td>\n",
       "      <td>personal info</td>\n",
       "    </tr>\n",
       "    <tr>\n",
       "      <th>35</th>\n",
       "      <td>income</td>\n",
       "      <td>non-personal</td>\n",
       "      <td>personal</td>\n",
       "      <td>adult_census</td>\n",
       "      <td>personal info</td>\n",
       "    </tr>\n",
       "    <tr>\n",
       "      <th>48</th>\n",
       "      <td>age.1</td>\n",
       "      <td>non-personal</td>\n",
       "      <td>personal</td>\n",
       "      <td>diabetes</td>\n",
       "      <td>non-personal info</td>\n",
       "    </tr>\n",
       "    <tr>\n",
       "      <th>51</th>\n",
       "      <td>education.1</td>\n",
       "      <td>non-personal</td>\n",
       "      <td>personal</td>\n",
       "      <td>diabetes</td>\n",
       "      <td>non-personal info</td>\n",
       "    </tr>\n",
       "    <tr>\n",
       "      <th>55</th>\n",
       "      <td>contact</td>\n",
       "      <td>non-personal</td>\n",
       "      <td>personal</td>\n",
       "      <td>indian_companies</td>\n",
       "      <td>personal info</td>\n",
       "    </tr>\n",
       "    <tr>\n",
       "      <th>56</th>\n",
       "      <td>month</td>\n",
       "      <td>non-personal</td>\n",
       "      <td>personal</td>\n",
       "      <td>indian_companies</td>\n",
       "      <td>personal info</td>\n",
       "    </tr>\n",
       "    <tr>\n",
       "      <th>58</th>\n",
       "      <td>duration</td>\n",
       "      <td>non-personal</td>\n",
       "      <td>personal</td>\n",
       "      <td>indian_companies</td>\n",
       "      <td>personal info</td>\n",
       "    </tr>\n",
       "    <tr>\n",
       "      <th>60</th>\n",
       "      <td>pdays</td>\n",
       "      <td>non-personal</td>\n",
       "      <td>personal</td>\n",
       "      <td>indian_companies</td>\n",
       "      <td>personal info</td>\n",
       "    </tr>\n",
       "    <tr>\n",
       "      <th>62</th>\n",
       "      <td>poutcome</td>\n",
       "      <td>non-personal</td>\n",
       "      <td>personal</td>\n",
       "      <td>indian_companies</td>\n",
       "      <td>personal info</td>\n",
       "    </tr>\n",
       "    <tr>\n",
       "      <th>69</th>\n",
       "      <td>Age.1</td>\n",
       "      <td>non-personal</td>\n",
       "      <td>personal</td>\n",
       "      <td>indian_companies</td>\n",
       "      <td>personal info</td>\n",
       "    </tr>\n",
       "    <tr>\n",
       "      <th>86</th>\n",
       "      <td>Serial No.</td>\n",
       "      <td>non-personal</td>\n",
       "      <td>personal</td>\n",
       "      <td>used_car</td>\n",
       "      <td>pii info</td>\n",
       "    </tr>\n",
       "    <tr>\n",
       "      <th>87</th>\n",
       "      <td>GRE Score</td>\n",
       "      <td>non-personal</td>\n",
       "      <td>personal</td>\n",
       "      <td>used_car</td>\n",
       "      <td>pii info</td>\n",
       "    </tr>\n",
       "    <tr>\n",
       "      <th>88</th>\n",
       "      <td>TOEFL Score</td>\n",
       "      <td>non-personal</td>\n",
       "      <td>personal</td>\n",
       "      <td>used_car</td>\n",
       "      <td>pii info</td>\n",
       "    </tr>\n",
       "    <tr>\n",
       "      <th>92</th>\n",
       "      <td>CGPA</td>\n",
       "      <td>non-personal</td>\n",
       "      <td>personal</td>\n",
       "      <td>house_price</td>\n",
       "      <td>pii info</td>\n",
       "    </tr>\n",
       "    <tr>\n",
       "      <th>94</th>\n",
       "      <td>Chance of Admit</td>\n",
       "      <td>non-personal</td>\n",
       "      <td>personal</td>\n",
       "      <td>house_price</td>\n",
       "      <td>pii info</td>\n",
       "    </tr>\n",
       "    <tr>\n",
       "      <th>95</th>\n",
       "      <td>id</td>\n",
       "      <td>non-personal</td>\n",
       "      <td>personal</td>\n",
       "      <td>house_price</td>\n",
       "      <td>pii info</td>\n",
       "    </tr>\n",
       "    <tr>\n",
       "      <th>96</th>\n",
       "      <td>age.2</td>\n",
       "      <td>non-personal</td>\n",
       "      <td>personal</td>\n",
       "      <td>house_price</td>\n",
       "      <td>pii info</td>\n",
       "    </tr>\n",
       "    <tr>\n",
       "      <th>98</th>\n",
       "      <td>dataset</td>\n",
       "      <td>non-personal</td>\n",
       "      <td>personal</td>\n",
       "      <td>house_price</td>\n",
       "      <td>pii info</td>\n",
       "    </tr>\n",
       "    <tr>\n",
       "      <th>100</th>\n",
       "      <td>trestbps</td>\n",
       "      <td>non-personal</td>\n",
       "      <td>personal</td>\n",
       "      <td>house_price</td>\n",
       "      <td>pii info</td>\n",
       "    </tr>\n",
       "    <tr>\n",
       "      <th>101</th>\n",
       "      <td>chol</td>\n",
       "      <td>non-personal</td>\n",
       "      <td>personal</td>\n",
       "      <td>house_price</td>\n",
       "      <td>pii info</td>\n",
       "    </tr>\n",
       "    <tr>\n",
       "      <th>104</th>\n",
       "      <td>thalch</td>\n",
       "      <td>non-personal</td>\n",
       "      <td>personal</td>\n",
       "      <td>house_price</td>\n",
       "      <td>pii info</td>\n",
       "    </tr>\n",
       "    <tr>\n",
       "      <th>107</th>\n",
       "      <td>slope</td>\n",
       "      <td>non-personal</td>\n",
       "      <td>personal</td>\n",
       "      <td>house_price</td>\n",
       "      <td>pii info</td>\n",
       "    </tr>\n",
       "    <tr>\n",
       "      <th>109</th>\n",
       "      <td>thal</td>\n",
       "      <td>non-personal</td>\n",
       "      <td>personal</td>\n",
       "      <td>house_price</td>\n",
       "      <td>pii info</td>\n",
       "    </tr>\n",
       "    <tr>\n",
       "      <th>156</th>\n",
       "      <td>Age.2</td>\n",
       "      <td>non-personal</td>\n",
       "      <td>personal</td>\n",
       "      <td>titanic</td>\n",
       "      <td>personal info</td>\n",
       "    </tr>\n",
       "    <tr>\n",
       "      <th>160</th>\n",
       "      <td>Alkaline_Phosphotase</td>\n",
       "      <td>non-personal</td>\n",
       "      <td>personal</td>\n",
       "      <td>pixar</td>\n",
       "      <td>pii info</td>\n",
       "    </tr>\n",
       "    <tr>\n",
       "      <th>161</th>\n",
       "      <td>Alamine_Aminotransferase</td>\n",
       "      <td>non-personal</td>\n",
       "      <td>personal</td>\n",
       "      <td>pixar</td>\n",
       "      <td>pii info</td>\n",
       "    </tr>\n",
       "    <tr>\n",
       "      <th>162</th>\n",
       "      <td>Aspartate_Aminotransferase</td>\n",
       "      <td>non-personal</td>\n",
       "      <td>personal</td>\n",
       "      <td>pixar</td>\n",
       "      <td>pii info</td>\n",
       "    </tr>\n",
       "    <tr>\n",
       "      <th>163</th>\n",
       "      <td>Total_Protiens</td>\n",
       "      <td>non-personal</td>\n",
       "      <td>personal</td>\n",
       "      <td>pixar</td>\n",
       "      <td>pii info</td>\n",
       "    </tr>\n",
       "    <tr>\n",
       "      <th>169</th>\n",
       "      <td>date</td>\n",
       "      <td>non-personal</td>\n",
       "      <td>personal</td>\n",
       "      <td>pixar</td>\n",
       "      <td>pii info</td>\n",
       "    </tr>\n",
       "    <tr>\n",
       "      <th>170</th>\n",
       "      <td>subject</td>\n",
       "      <td>non-personal</td>\n",
       "      <td>personal</td>\n",
       "      <td>pixar</td>\n",
       "      <td>pii info</td>\n",
       "    </tr>\n",
       "    <tr>\n",
       "      <th>190</th>\n",
       "      <td>school</td>\n",
       "      <td>non-personal</td>\n",
       "      <td>personal</td>\n",
       "      <td>heart_disease</td>\n",
       "      <td>personal info</td>\n",
       "    </tr>\n",
       "    <tr>\n",
       "      <th>192</th>\n",
       "      <td>age.3</td>\n",
       "      <td>non-personal</td>\n",
       "      <td>personal</td>\n",
       "      <td>heart_disease</td>\n",
       "      <td>personal info</td>\n",
       "    </tr>\n",
       "    <tr>\n",
       "      <th>194</th>\n",
       "      <td>famsize</td>\n",
       "      <td>non-personal</td>\n",
       "      <td>personal</td>\n",
       "      <td>heart_disease</td>\n",
       "      <td>personal info</td>\n",
       "    </tr>\n",
       "    <tr>\n",
       "      <th>198</th>\n",
       "      <td>Mjob</td>\n",
       "      <td>non-personal</td>\n",
       "      <td>personal</td>\n",
       "      <td>heart_disease</td>\n",
       "      <td>personal info</td>\n",
       "    </tr>\n",
       "    <tr>\n",
       "      <th>199</th>\n",
       "      <td>Fjob</td>\n",
       "      <td>non-personal</td>\n",
       "      <td>personal</td>\n",
       "      <td>heart_disease</td>\n",
       "      <td>personal info</td>\n",
       "    </tr>\n",
       "    <tr>\n",
       "      <th>200</th>\n",
       "      <td>reason</td>\n",
       "      <td>non-personal</td>\n",
       "      <td>personal</td>\n",
       "      <td>heart_disease</td>\n",
       "      <td>personal info</td>\n",
       "    </tr>\n",
       "    <tr>\n",
       "      <th>223</th>\n",
       "      <td>PassengerId</td>\n",
       "      <td>non-personal</td>\n",
       "      <td>personal</td>\n",
       "      <td>student_performance</td>\n",
       "      <td>pii info</td>\n",
       "    </tr>\n",
       "    <tr>\n",
       "      <th>228</th>\n",
       "      <td>Age.3</td>\n",
       "      <td>non-personal</td>\n",
       "      <td>personal</td>\n",
       "      <td>student_performance</td>\n",
       "      <td>pii info</td>\n",
       "    </tr>\n",
       "    <tr>\n",
       "      <th>231</th>\n",
       "      <td>Ticket</td>\n",
       "      <td>non-personal</td>\n",
       "      <td>personal</td>\n",
       "      <td>student_performance</td>\n",
       "      <td>pii info</td>\n",
       "    </tr>\n",
       "    <tr>\n",
       "      <th>232</th>\n",
       "      <td>Fare</td>\n",
       "      <td>non-personal</td>\n",
       "      <td>personal</td>\n",
       "      <td>student_performance</td>\n",
       "      <td>pii info</td>\n",
       "    </tr>\n",
       "    <tr>\n",
       "      <th>234</th>\n",
       "      <td>Embarked</td>\n",
       "      <td>non-personal</td>\n",
       "      <td>personal</td>\n",
       "      <td>student_performance</td>\n",
       "      <td>pii info</td>\n",
       "    </tr>\n",
       "  </tbody>\n",
       "</table>\n",
       "</div>"
      ],
      "text/plain": [
       "                              Column    Prediction True Label  \\\n",
       "5             Transportation expense  non-personal   personal   \n",
       "6    Distance from Residence to Work  non-personal   personal   \n",
       "7                       Service time  non-personal   personal   \n",
       "8                                Age  non-personal   personal   \n",
       "9             Work load Average/day   non-personal   personal   \n",
       "10                        Hit target  non-personal   personal   \n",
       "17                            Weight  non-personal   personal   \n",
       "18                            Height  non-personal   personal   \n",
       "19                   Body mass index  non-personal   personal   \n",
       "21                               age  non-personal   personal   \n",
       "22                         workclass  non-personal   personal   \n",
       "25                     education.num  non-personal   personal   \n",
       "27                        occupation  non-personal   personal   \n",
       "32                      capital.loss  non-personal   personal   \n",
       "33                    hours.per.week  non-personal   personal   \n",
       "34                    native.country  non-personal   personal   \n",
       "35                            income  non-personal   personal   \n",
       "48                             age.1  non-personal   personal   \n",
       "51                       education.1  non-personal   personal   \n",
       "55                           contact  non-personal   personal   \n",
       "56                             month  non-personal   personal   \n",
       "58                          duration  non-personal   personal   \n",
       "60                             pdays  non-personal   personal   \n",
       "62                          poutcome  non-personal   personal   \n",
       "69                             Age.1  non-personal   personal   \n",
       "86                        Serial No.  non-personal   personal   \n",
       "87                         GRE Score  non-personal   personal   \n",
       "88                       TOEFL Score  non-personal   personal   \n",
       "92                              CGPA  non-personal   personal   \n",
       "94                  Chance of Admit   non-personal   personal   \n",
       "95                                id  non-personal   personal   \n",
       "96                             age.2  non-personal   personal   \n",
       "98                           dataset  non-personal   personal   \n",
       "100                         trestbps  non-personal   personal   \n",
       "101                             chol  non-personal   personal   \n",
       "104                           thalch  non-personal   personal   \n",
       "107                            slope  non-personal   personal   \n",
       "109                             thal  non-personal   personal   \n",
       "156                            Age.2  non-personal   personal   \n",
       "160             Alkaline_Phosphotase  non-personal   personal   \n",
       "161         Alamine_Aminotransferase  non-personal   personal   \n",
       "162       Aspartate_Aminotransferase  non-personal   personal   \n",
       "163                   Total_Protiens  non-personal   personal   \n",
       "169                             date  non-personal   personal   \n",
       "170                          subject  non-personal   personal   \n",
       "190                           school  non-personal   personal   \n",
       "192                            age.3  non-personal   personal   \n",
       "194                          famsize  non-personal   personal   \n",
       "198                             Mjob  non-personal   personal   \n",
       "199                             Fjob  non-personal   personal   \n",
       "200                           reason  non-personal   personal   \n",
       "223                      PassengerId  non-personal   personal   \n",
       "228                            Age.3  non-personal   personal   \n",
       "231                           Ticket  non-personal   personal   \n",
       "232                             Fare  non-personal   personal   \n",
       "234                         Embarked  non-personal   personal   \n",
       "\n",
       "                 Dataset       Dataset Type  \n",
       "5         bank_marketing           pii info  \n",
       "6         bank_marketing           pii info  \n",
       "7         bank_marketing           pii info  \n",
       "8         bank_marketing           pii info  \n",
       "9         bank_marketing           pii info  \n",
       "10        bank_marketing           pii info  \n",
       "17        bank_marketing           pii info  \n",
       "18        bank_marketing           pii info  \n",
       "19        bank_marketing           pii info  \n",
       "21          adult_census      personal info  \n",
       "22          adult_census      personal info  \n",
       "25          adult_census      personal info  \n",
       "27          adult_census      personal info  \n",
       "32          adult_census      personal info  \n",
       "33          adult_census      personal info  \n",
       "34          adult_census      personal info  \n",
       "35          adult_census      personal info  \n",
       "48              diabetes  non-personal info  \n",
       "51              diabetes  non-personal info  \n",
       "55      indian_companies      personal info  \n",
       "56      indian_companies      personal info  \n",
       "58      indian_companies      personal info  \n",
       "60      indian_companies      personal info  \n",
       "62      indian_companies      personal info  \n",
       "69      indian_companies      personal info  \n",
       "86              used_car           pii info  \n",
       "87              used_car           pii info  \n",
       "88              used_car           pii info  \n",
       "92           house_price           pii info  \n",
       "94           house_price           pii info  \n",
       "95           house_price           pii info  \n",
       "96           house_price           pii info  \n",
       "98           house_price           pii info  \n",
       "100          house_price           pii info  \n",
       "101          house_price           pii info  \n",
       "104          house_price           pii info  \n",
       "107          house_price           pii info  \n",
       "109          house_price           pii info  \n",
       "156              titanic      personal info  \n",
       "160                pixar           pii info  \n",
       "161                pixar           pii info  \n",
       "162                pixar           pii info  \n",
       "163                pixar           pii info  \n",
       "169                pixar           pii info  \n",
       "170                pixar           pii info  \n",
       "190        heart_disease      personal info  \n",
       "192        heart_disease      personal info  \n",
       "194        heart_disease      personal info  \n",
       "198        heart_disease      personal info  \n",
       "199        heart_disease      personal info  \n",
       "200        heart_disease      personal info  \n",
       "223  student_performance           pii info  \n",
       "228  student_performance           pii info  \n",
       "231  student_performance           pii info  \n",
       "232  student_performance           pii info  \n",
       "234  student_performance           pii info  "
      ]
     },
     "execution_count": 30,
     "metadata": {},
     "output_type": "execute_result"
    }
   ],
   "source": [
    "#False negatives\n",
    "fn_df = results_df_test_kaggle.loc[(results_df_test_kaggle[\"True Label\"] == \"personal\") & (results_df_test_kaggle[\"Prediction\"] == \"non-personal\")]\n",
    "fn_df"
   ]
  },
  {
   "cell_type": "code",
   "execution_count": 31,
   "metadata": {},
   "outputs": [
    {
     "data": {
      "text/plain": [
       "Dataset\n",
       "house_price            10\n",
       "bank_marketing          9\n",
       "adult_census            8\n",
       "indian_companies        6\n",
       "heart_disease           6\n",
       "pixar                   6\n",
       "student_performance     5\n",
       "used_car                3\n",
       "diabetes                2\n",
       "titanic                 1\n",
       "Name: count, dtype: int64"
      ]
     },
     "execution_count": 31,
     "metadata": {},
     "output_type": "execute_result"
    }
   ],
   "source": [
    "fn_df[\"Dataset\"].value_counts()"
   ]
  },
  {
   "cell_type": "code",
   "execution_count": 32,
   "metadata": {},
   "outputs": [
    {
     "data": {
      "text/html": [
       "<div>\n",
       "<style scoped>\n",
       "    .dataframe tbody tr th:only-of-type {\n",
       "        vertical-align: middle;\n",
       "    }\n",
       "\n",
       "    .dataframe tbody tr th {\n",
       "        vertical-align: top;\n",
       "    }\n",
       "\n",
       "    .dataframe thead th {\n",
       "        text-align: right;\n",
       "    }\n",
       "</style>\n",
       "<table border=\"1\" class=\"dataframe\">\n",
       "  <thead>\n",
       "    <tr style=\"text-align: right;\">\n",
       "      <th></th>\n",
       "      <th>Column</th>\n",
       "      <th>Prediction</th>\n",
       "      <th>True Label</th>\n",
       "      <th>Dataset</th>\n",
       "      <th>Dataset Type</th>\n",
       "    </tr>\n",
       "  </thead>\n",
       "  <tbody>\n",
       "    <tr>\n",
       "      <th>37</th>\n",
       "      <td>Location</td>\n",
       "      <td>personal</td>\n",
       "      <td>non-personal</td>\n",
       "      <td>diabetes</td>\n",
       "      <td>non-personal info</td>\n",
       "    </tr>\n",
       "    <tr>\n",
       "      <th>47</th>\n",
       "      <td>Season</td>\n",
       "      <td>personal</td>\n",
       "      <td>non-personal</td>\n",
       "      <td>diabetes</td>\n",
       "      <td>non-personal info</td>\n",
       "    </tr>\n",
       "    <tr>\n",
       "      <th>63</th>\n",
       "      <td>emp.var.rate</td>\n",
       "      <td>personal</td>\n",
       "      <td>non-personal</td>\n",
       "      <td>indian_companies</td>\n",
       "      <td>personal info</td>\n",
       "    </tr>\n",
       "    <tr>\n",
       "      <th>89</th>\n",
       "      <td>University Rating</td>\n",
       "      <td>personal</td>\n",
       "      <td>non-personal</td>\n",
       "      <td>used_car</td>\n",
       "      <td>pii info</td>\n",
       "    </tr>\n",
       "    <tr>\n",
       "      <th>113</th>\n",
       "      <td>country</td>\n",
       "      <td>personal</td>\n",
       "      <td>non-personal</td>\n",
       "      <td>house_price</td>\n",
       "      <td>pii info</td>\n",
       "    </tr>\n",
       "    <tr>\n",
       "      <th>114</th>\n",
       "      <td>outcode</td>\n",
       "      <td>personal</td>\n",
       "      <td>non-personal</td>\n",
       "      <td>house_price</td>\n",
       "      <td>pii info</td>\n",
       "    </tr>\n",
       "    <tr>\n",
       "      <th>117</th>\n",
       "      <td>bathrooms</td>\n",
       "      <td>personal</td>\n",
       "      <td>non-personal</td>\n",
       "      <td>house_price</td>\n",
       "      <td>pii info</td>\n",
       "    </tr>\n",
       "    <tr>\n",
       "      <th>118</th>\n",
       "      <td>bedrooms</td>\n",
       "      <td>personal</td>\n",
       "      <td>non-personal</td>\n",
       "      <td>house_price</td>\n",
       "      <td>pii info</td>\n",
       "    </tr>\n",
       "    <tr>\n",
       "      <th>120</th>\n",
       "      <td>livingRooms</td>\n",
       "      <td>personal</td>\n",
       "      <td>non-personal</td>\n",
       "      <td>absenteeism</td>\n",
       "      <td>non-personal info</td>\n",
       "    </tr>\n",
       "    <tr>\n",
       "      <th>121</th>\n",
       "      <td>tenure</td>\n",
       "      <td>personal</td>\n",
       "      <td>non-personal</td>\n",
       "      <td>absenteeism</td>\n",
       "      <td>non-personal info</td>\n",
       "    </tr>\n",
       "    <tr>\n",
       "      <th>122</th>\n",
       "      <td>propertyType</td>\n",
       "      <td>personal</td>\n",
       "      <td>non-personal</td>\n",
       "      <td>absenteeism</td>\n",
       "      <td>non-personal info</td>\n",
       "    </tr>\n",
       "    <tr>\n",
       "      <th>123</th>\n",
       "      <td>currentEnergyRating</td>\n",
       "      <td>personal</td>\n",
       "      <td>non-personal</td>\n",
       "      <td>absenteeism</td>\n",
       "      <td>non-personal info</td>\n",
       "    </tr>\n",
       "    <tr>\n",
       "      <th>139</th>\n",
       "      <td>CORPORATE_IDENTIFICATION_NUMBER</td>\n",
       "      <td>personal</td>\n",
       "      <td>non-personal</td>\n",
       "      <td>absenteeism</td>\n",
       "      <td>non-personal info</td>\n",
       "    </tr>\n",
       "    <tr>\n",
       "      <th>148</th>\n",
       "      <td>PAIDUP_CAPITAL</td>\n",
       "      <td>personal</td>\n",
       "      <td>non-personal</td>\n",
       "      <td>titanic</td>\n",
       "      <td>personal info</td>\n",
       "    </tr>\n",
       "    <tr>\n",
       "      <th>153</th>\n",
       "      <td>EMAIL_ADDR</td>\n",
       "      <td>personal</td>\n",
       "      <td>non-personal</td>\n",
       "      <td>titanic</td>\n",
       "      <td>personal info</td>\n",
       "    </tr>\n",
       "    <tr>\n",
       "      <th>179</th>\n",
       "      <td>director</td>\n",
       "      <td>personal</td>\n",
       "      <td>non-personal</td>\n",
       "      <td>agriculture</td>\n",
       "      <td>non-personal info</td>\n",
       "    </tr>\n",
       "    <tr>\n",
       "      <th>180</th>\n",
       "      <td>writer</td>\n",
       "      <td>personal</td>\n",
       "      <td>non-personal</td>\n",
       "      <td>agriculture</td>\n",
       "      <td>non-personal info</td>\n",
       "    </tr>\n",
       "    <tr>\n",
       "      <th>181</th>\n",
       "      <td>main_characters</td>\n",
       "      <td>personal</td>\n",
       "      <td>non-personal</td>\n",
       "      <td>agriculture</td>\n",
       "      <td>non-personal info</td>\n",
       "    </tr>\n",
       "    <tr>\n",
       "      <th>183</th>\n",
       "      <td>main_voice_actors</td>\n",
       "      <td>personal</td>\n",
       "      <td>non-personal</td>\n",
       "      <td>agriculture</td>\n",
       "      <td>non-personal info</td>\n",
       "    </tr>\n",
       "    <tr>\n",
       "      <th>189</th>\n",
       "      <td>movie_rating</td>\n",
       "      <td>personal</td>\n",
       "      <td>non-personal</td>\n",
       "      <td>heart_disease</td>\n",
       "      <td>personal info</td>\n",
       "    </tr>\n",
       "    <tr>\n",
       "      <th>238</th>\n",
       "      <td>Age.4</td>\n",
       "      <td>personal</td>\n",
       "      <td>non-personal</td>\n",
       "      <td>graduate_admissions</td>\n",
       "      <td>non-personal info</td>\n",
       "    </tr>\n",
       "    <tr>\n",
       "      <th>241</th>\n",
       "      <td>Owner</td>\n",
       "      <td>personal</td>\n",
       "      <td>non-personal</td>\n",
       "      <td>graduate_admissions</td>\n",
       "      <td>non-personal info</td>\n",
       "    </tr>\n",
       "  </tbody>\n",
       "</table>\n",
       "</div>"
      ],
      "text/plain": [
       "                              Column Prediction    True Label  \\\n",
       "37                          Location   personal  non-personal   \n",
       "47                            Season   personal  non-personal   \n",
       "63                      emp.var.rate   personal  non-personal   \n",
       "89                 University Rating   personal  non-personal   \n",
       "113                          country   personal  non-personal   \n",
       "114                          outcode   personal  non-personal   \n",
       "117                        bathrooms   personal  non-personal   \n",
       "118                         bedrooms   personal  non-personal   \n",
       "120                      livingRooms   personal  non-personal   \n",
       "121                           tenure   personal  non-personal   \n",
       "122                     propertyType   personal  non-personal   \n",
       "123              currentEnergyRating   personal  non-personal   \n",
       "139  CORPORATE_IDENTIFICATION_NUMBER   personal  non-personal   \n",
       "148                   PAIDUP_CAPITAL   personal  non-personal   \n",
       "153                       EMAIL_ADDR   personal  non-personal   \n",
       "179                         director   personal  non-personal   \n",
       "180                           writer   personal  non-personal   \n",
       "181                  main_characters   personal  non-personal   \n",
       "183                main_voice_actors   personal  non-personal   \n",
       "189                     movie_rating   personal  non-personal   \n",
       "238                            Age.4   personal  non-personal   \n",
       "241                            Owner   personal  non-personal   \n",
       "\n",
       "                 Dataset       Dataset Type  \n",
       "37              diabetes  non-personal info  \n",
       "47              diabetes  non-personal info  \n",
       "63      indian_companies      personal info  \n",
       "89              used_car           pii info  \n",
       "113          house_price           pii info  \n",
       "114          house_price           pii info  \n",
       "117          house_price           pii info  \n",
       "118          house_price           pii info  \n",
       "120          absenteeism  non-personal info  \n",
       "121          absenteeism  non-personal info  \n",
       "122          absenteeism  non-personal info  \n",
       "123          absenteeism  non-personal info  \n",
       "139          absenteeism  non-personal info  \n",
       "148              titanic      personal info  \n",
       "153              titanic      personal info  \n",
       "179          agriculture  non-personal info  \n",
       "180          agriculture  non-personal info  \n",
       "181          agriculture  non-personal info  \n",
       "183          agriculture  non-personal info  \n",
       "189        heart_disease      personal info  \n",
       "238  graduate_admissions  non-personal info  \n",
       "241  graduate_admissions  non-personal info  "
      ]
     },
     "execution_count": 32,
     "metadata": {},
     "output_type": "execute_result"
    }
   ],
   "source": [
    "#False positives\n",
    "results_df_test_kaggle.loc[(results_df_test_kaggle[\"True Label\"] == \"non-personal\") & (results_df_test_kaggle[\"Prediction\"] == \"personal\")]"
   ]
  },
  {
   "cell_type": "markdown",
   "metadata": {},
   "source": [
    "# OpenML"
   ]
  },
  {
   "cell_type": "code",
   "execution_count": 33,
   "metadata": {},
   "outputs": [],
   "source": [
    "test_openml = pd.read_csv(\"../../datasets/openml_datasets/all_datasets.csv\")\n",
    "test_openml_personal = pd.read_csv(\"../../datasets/openml_datasets/all_datasets_labels_personal.csv\")"
   ]
  },
  {
   "cell_type": "code",
   "execution_count": 34,
   "metadata": {},
   "outputs": [],
   "source": [
    "openml_true = pd.read_csv(\"../CASSED_model_results/cassed_personal/openml/true.csv\")\n",
    "openml_pred = pd.read_csv(\"../CASSED_model_results/cassed_personal/openml/predicted.csv\")\n",
    "openml_target_names = pd.read_csv(\"../CASSED_model_results/cassed_personal/openml/target_names.csv\")\n",
    "openml_target_names = {a[1]: a[0] for a in openml_target_names[[\"0\", \"0.1\"]].values}\n",
    "openml_target_names[0] = \"no prediction\""
   ]
  },
  {
   "cell_type": "code",
   "execution_count": 35,
   "metadata": {},
   "outputs": [],
   "source": [
    "predictions, true = [], []\n",
    "for i in range(openml_true.shape[0]):\n",
    "    predictions.append([openml_target_names[e] for e, b in enumerate(openml_pred.iloc[i,:]) if b == 1])\n",
    "    true.append([openml_target_names[e] for e, b in enumerate(openml_true.iloc[i,:]) if b == 1])\n",
    "true = [a[0] for a in true]\n",
    "predictions = [a[0] for a in predictions]"
   ]
  },
  {
   "cell_type": "code",
   "execution_count": 36,
   "metadata": {},
   "outputs": [
    {
     "data": {
      "application/vnd.plotly.v1+json": {
       "config": {
        "plotlyServerURL": "https://plot.ly"
       },
       "data": [
        {
         "showlegend": false,
         "type": "bar",
         "x": [
          "weighted Precision",
          "weighted Recall",
          "weighted F1 Score",
          "Accuracy",
          "AUC-ROC"
         ],
         "xaxis": "x",
         "y": [
          0.5422693399523134,
          0.5422535211267606,
          0.5389798153763794,
          0.5422535211267606,
          0.5410714285714285
         ],
         "yaxis": "y"
        },
        {
         "colorscale": [
          [
           0,
           "rgb(247,251,255)"
          ],
          [
           0.125,
           "rgb(222,235,247)"
          ],
          [
           0.25,
           "rgb(198,219,239)"
          ],
          [
           0.375,
           "rgb(158,202,225)"
          ],
          [
           0.5,
           "rgb(107,174,214)"
          ],
          [
           0.625,
           "rgb(66,146,198)"
          ],
          [
           0.75,
           "rgb(33,113,181)"
          ],
          [
           0.875,
           "rgb(8,81,156)"
          ],
          [
           1,
           "rgb(8,48,107)"
          ]
         ],
         "showscale": false,
         "text": [
          [
           "32<br>0.46",
           "38<br>0.54"
          ],
          [
           "27<br>0.38",
           "45<br>0.62"
          ]
         ],
         "textfont": {
          "size": 20
         },
         "texttemplate": "%{text}",
         "type": "heatmap",
         "x": [
          "Pred: personal",
          "Pred: non-personal"
         ],
         "xaxis": "x2",
         "y": [
          "True: personal",
          "True: non-personal"
         ],
         "yaxis": "y2",
         "z": [
          [
           32,
           38
          ],
          [
           27,
           45
          ]
         ]
        }
       ],
       "layout": {
        "annotations": [
         {
          "font": {
           "size": 16
          },
          "showarrow": false,
          "text": "Evaluation Metrics",
          "x": 0.225,
          "xanchor": "center",
          "xref": "paper",
          "y": 1,
          "yanchor": "bottom",
          "yref": "paper"
         },
         {
          "font": {
           "size": 16
          },
          "showarrow": false,
          "text": "Confusion Matrix",
          "x": 0.775,
          "xanchor": "center",
          "xref": "paper",
          "y": 1,
          "yanchor": "bottom",
          "yref": "paper"
         }
        ],
        "height": 500,
        "showlegend": false,
        "template": {
         "data": {
          "bar": [
           {
            "error_x": {
             "color": "#2a3f5f"
            },
            "error_y": {
             "color": "#2a3f5f"
            },
            "marker": {
             "line": {
              "color": "#E5ECF6",
              "width": 0.5
             },
             "pattern": {
              "fillmode": "overlay",
              "size": 10,
              "solidity": 0.2
             }
            },
            "type": "bar"
           }
          ],
          "barpolar": [
           {
            "marker": {
             "line": {
              "color": "#E5ECF6",
              "width": 0.5
             },
             "pattern": {
              "fillmode": "overlay",
              "size": 10,
              "solidity": 0.2
             }
            },
            "type": "barpolar"
           }
          ],
          "carpet": [
           {
            "aaxis": {
             "endlinecolor": "#2a3f5f",
             "gridcolor": "white",
             "linecolor": "white",
             "minorgridcolor": "white",
             "startlinecolor": "#2a3f5f"
            },
            "baxis": {
             "endlinecolor": "#2a3f5f",
             "gridcolor": "white",
             "linecolor": "white",
             "minorgridcolor": "white",
             "startlinecolor": "#2a3f5f"
            },
            "type": "carpet"
           }
          ],
          "choropleth": [
           {
            "colorbar": {
             "outlinewidth": 0,
             "ticks": ""
            },
            "type": "choropleth"
           }
          ],
          "contour": [
           {
            "colorbar": {
             "outlinewidth": 0,
             "ticks": ""
            },
            "colorscale": [
             [
              0,
              "#0d0887"
             ],
             [
              0.1111111111111111,
              "#46039f"
             ],
             [
              0.2222222222222222,
              "#7201a8"
             ],
             [
              0.3333333333333333,
              "#9c179e"
             ],
             [
              0.4444444444444444,
              "#bd3786"
             ],
             [
              0.5555555555555556,
              "#d8576b"
             ],
             [
              0.6666666666666666,
              "#ed7953"
             ],
             [
              0.7777777777777778,
              "#fb9f3a"
             ],
             [
              0.8888888888888888,
              "#fdca26"
             ],
             [
              1,
              "#f0f921"
             ]
            ],
            "type": "contour"
           }
          ],
          "contourcarpet": [
           {
            "colorbar": {
             "outlinewidth": 0,
             "ticks": ""
            },
            "type": "contourcarpet"
           }
          ],
          "heatmap": [
           {
            "colorbar": {
             "outlinewidth": 0,
             "ticks": ""
            },
            "colorscale": [
             [
              0,
              "#0d0887"
             ],
             [
              0.1111111111111111,
              "#46039f"
             ],
             [
              0.2222222222222222,
              "#7201a8"
             ],
             [
              0.3333333333333333,
              "#9c179e"
             ],
             [
              0.4444444444444444,
              "#bd3786"
             ],
             [
              0.5555555555555556,
              "#d8576b"
             ],
             [
              0.6666666666666666,
              "#ed7953"
             ],
             [
              0.7777777777777778,
              "#fb9f3a"
             ],
             [
              0.8888888888888888,
              "#fdca26"
             ],
             [
              1,
              "#f0f921"
             ]
            ],
            "type": "heatmap"
           }
          ],
          "heatmapgl": [
           {
            "colorbar": {
             "outlinewidth": 0,
             "ticks": ""
            },
            "colorscale": [
             [
              0,
              "#0d0887"
             ],
             [
              0.1111111111111111,
              "#46039f"
             ],
             [
              0.2222222222222222,
              "#7201a8"
             ],
             [
              0.3333333333333333,
              "#9c179e"
             ],
             [
              0.4444444444444444,
              "#bd3786"
             ],
             [
              0.5555555555555556,
              "#d8576b"
             ],
             [
              0.6666666666666666,
              "#ed7953"
             ],
             [
              0.7777777777777778,
              "#fb9f3a"
             ],
             [
              0.8888888888888888,
              "#fdca26"
             ],
             [
              1,
              "#f0f921"
             ]
            ],
            "type": "heatmapgl"
           }
          ],
          "histogram": [
           {
            "marker": {
             "pattern": {
              "fillmode": "overlay",
              "size": 10,
              "solidity": 0.2
             }
            },
            "type": "histogram"
           }
          ],
          "histogram2d": [
           {
            "colorbar": {
             "outlinewidth": 0,
             "ticks": ""
            },
            "colorscale": [
             [
              0,
              "#0d0887"
             ],
             [
              0.1111111111111111,
              "#46039f"
             ],
             [
              0.2222222222222222,
              "#7201a8"
             ],
             [
              0.3333333333333333,
              "#9c179e"
             ],
             [
              0.4444444444444444,
              "#bd3786"
             ],
             [
              0.5555555555555556,
              "#d8576b"
             ],
             [
              0.6666666666666666,
              "#ed7953"
             ],
             [
              0.7777777777777778,
              "#fb9f3a"
             ],
             [
              0.8888888888888888,
              "#fdca26"
             ],
             [
              1,
              "#f0f921"
             ]
            ],
            "type": "histogram2d"
           }
          ],
          "histogram2dcontour": [
           {
            "colorbar": {
             "outlinewidth": 0,
             "ticks": ""
            },
            "colorscale": [
             [
              0,
              "#0d0887"
             ],
             [
              0.1111111111111111,
              "#46039f"
             ],
             [
              0.2222222222222222,
              "#7201a8"
             ],
             [
              0.3333333333333333,
              "#9c179e"
             ],
             [
              0.4444444444444444,
              "#bd3786"
             ],
             [
              0.5555555555555556,
              "#d8576b"
             ],
             [
              0.6666666666666666,
              "#ed7953"
             ],
             [
              0.7777777777777778,
              "#fb9f3a"
             ],
             [
              0.8888888888888888,
              "#fdca26"
             ],
             [
              1,
              "#f0f921"
             ]
            ],
            "type": "histogram2dcontour"
           }
          ],
          "mesh3d": [
           {
            "colorbar": {
             "outlinewidth": 0,
             "ticks": ""
            },
            "type": "mesh3d"
           }
          ],
          "parcoords": [
           {
            "line": {
             "colorbar": {
              "outlinewidth": 0,
              "ticks": ""
             }
            },
            "type": "parcoords"
           }
          ],
          "pie": [
           {
            "automargin": true,
            "type": "pie"
           }
          ],
          "scatter": [
           {
            "fillpattern": {
             "fillmode": "overlay",
             "size": 10,
             "solidity": 0.2
            },
            "type": "scatter"
           }
          ],
          "scatter3d": [
           {
            "line": {
             "colorbar": {
              "outlinewidth": 0,
              "ticks": ""
             }
            },
            "marker": {
             "colorbar": {
              "outlinewidth": 0,
              "ticks": ""
             }
            },
            "type": "scatter3d"
           }
          ],
          "scattercarpet": [
           {
            "marker": {
             "colorbar": {
              "outlinewidth": 0,
              "ticks": ""
             }
            },
            "type": "scattercarpet"
           }
          ],
          "scattergeo": [
           {
            "marker": {
             "colorbar": {
              "outlinewidth": 0,
              "ticks": ""
             }
            },
            "type": "scattergeo"
           }
          ],
          "scattergl": [
           {
            "marker": {
             "colorbar": {
              "outlinewidth": 0,
              "ticks": ""
             }
            },
            "type": "scattergl"
           }
          ],
          "scattermapbox": [
           {
            "marker": {
             "colorbar": {
              "outlinewidth": 0,
              "ticks": ""
             }
            },
            "type": "scattermapbox"
           }
          ],
          "scatterpolar": [
           {
            "marker": {
             "colorbar": {
              "outlinewidth": 0,
              "ticks": ""
             }
            },
            "type": "scatterpolar"
           }
          ],
          "scatterpolargl": [
           {
            "marker": {
             "colorbar": {
              "outlinewidth": 0,
              "ticks": ""
             }
            },
            "type": "scatterpolargl"
           }
          ],
          "scatterternary": [
           {
            "marker": {
             "colorbar": {
              "outlinewidth": 0,
              "ticks": ""
             }
            },
            "type": "scatterternary"
           }
          ],
          "surface": [
           {
            "colorbar": {
             "outlinewidth": 0,
             "ticks": ""
            },
            "colorscale": [
             [
              0,
              "#0d0887"
             ],
             [
              0.1111111111111111,
              "#46039f"
             ],
             [
              0.2222222222222222,
              "#7201a8"
             ],
             [
              0.3333333333333333,
              "#9c179e"
             ],
             [
              0.4444444444444444,
              "#bd3786"
             ],
             [
              0.5555555555555556,
              "#d8576b"
             ],
             [
              0.6666666666666666,
              "#ed7953"
             ],
             [
              0.7777777777777778,
              "#fb9f3a"
             ],
             [
              0.8888888888888888,
              "#fdca26"
             ],
             [
              1,
              "#f0f921"
             ]
            ],
            "type": "surface"
           }
          ],
          "table": [
           {
            "cells": {
             "fill": {
              "color": "#EBF0F8"
             },
             "line": {
              "color": "white"
             }
            },
            "header": {
             "fill": {
              "color": "#C8D4E3"
             },
             "line": {
              "color": "white"
             }
            },
            "type": "table"
           }
          ]
         },
         "layout": {
          "annotationdefaults": {
           "arrowcolor": "#2a3f5f",
           "arrowhead": 0,
           "arrowwidth": 1
          },
          "autotypenumbers": "strict",
          "coloraxis": {
           "colorbar": {
            "outlinewidth": 0,
            "ticks": ""
           }
          },
          "colorscale": {
           "diverging": [
            [
             0,
             "#8e0152"
            ],
            [
             0.1,
             "#c51b7d"
            ],
            [
             0.2,
             "#de77ae"
            ],
            [
             0.3,
             "#f1b6da"
            ],
            [
             0.4,
             "#fde0ef"
            ],
            [
             0.5,
             "#f7f7f7"
            ],
            [
             0.6,
             "#e6f5d0"
            ],
            [
             0.7,
             "#b8e186"
            ],
            [
             0.8,
             "#7fbc41"
            ],
            [
             0.9,
             "#4d9221"
            ],
            [
             1,
             "#276419"
            ]
           ],
           "sequential": [
            [
             0,
             "#0d0887"
            ],
            [
             0.1111111111111111,
             "#46039f"
            ],
            [
             0.2222222222222222,
             "#7201a8"
            ],
            [
             0.3333333333333333,
             "#9c179e"
            ],
            [
             0.4444444444444444,
             "#bd3786"
            ],
            [
             0.5555555555555556,
             "#d8576b"
            ],
            [
             0.6666666666666666,
             "#ed7953"
            ],
            [
             0.7777777777777778,
             "#fb9f3a"
            ],
            [
             0.8888888888888888,
             "#fdca26"
            ],
            [
             1,
             "#f0f921"
            ]
           ],
           "sequentialminus": [
            [
             0,
             "#0d0887"
            ],
            [
             0.1111111111111111,
             "#46039f"
            ],
            [
             0.2222222222222222,
             "#7201a8"
            ],
            [
             0.3333333333333333,
             "#9c179e"
            ],
            [
             0.4444444444444444,
             "#bd3786"
            ],
            [
             0.5555555555555556,
             "#d8576b"
            ],
            [
             0.6666666666666666,
             "#ed7953"
            ],
            [
             0.7777777777777778,
             "#fb9f3a"
            ],
            [
             0.8888888888888888,
             "#fdca26"
            ],
            [
             1,
             "#f0f921"
            ]
           ]
          },
          "colorway": [
           "#636efa",
           "#EF553B",
           "#00cc96",
           "#ab63fa",
           "#FFA15A",
           "#19d3f3",
           "#FF6692",
           "#B6E880",
           "#FF97FF",
           "#FECB52"
          ],
          "font": {
           "color": "#2a3f5f"
          },
          "geo": {
           "bgcolor": "white",
           "lakecolor": "white",
           "landcolor": "#E5ECF6",
           "showlakes": true,
           "showland": true,
           "subunitcolor": "white"
          },
          "hoverlabel": {
           "align": "left"
          },
          "hovermode": "closest",
          "mapbox": {
           "style": "light"
          },
          "paper_bgcolor": "white",
          "plot_bgcolor": "#E5ECF6",
          "polar": {
           "angularaxis": {
            "gridcolor": "white",
            "linecolor": "white",
            "ticks": ""
           },
           "bgcolor": "#E5ECF6",
           "radialaxis": {
            "gridcolor": "white",
            "linecolor": "white",
            "ticks": ""
           }
          },
          "scene": {
           "xaxis": {
            "backgroundcolor": "#E5ECF6",
            "gridcolor": "white",
            "gridwidth": 2,
            "linecolor": "white",
            "showbackground": true,
            "ticks": "",
            "zerolinecolor": "white"
           },
           "yaxis": {
            "backgroundcolor": "#E5ECF6",
            "gridcolor": "white",
            "gridwidth": 2,
            "linecolor": "white",
            "showbackground": true,
            "ticks": "",
            "zerolinecolor": "white"
           },
           "zaxis": {
            "backgroundcolor": "#E5ECF6",
            "gridcolor": "white",
            "gridwidth": 2,
            "linecolor": "white",
            "showbackground": true,
            "ticks": "",
            "zerolinecolor": "white"
           }
          },
          "shapedefaults": {
           "line": {
            "color": "#2a3f5f"
           }
          },
          "ternary": {
           "aaxis": {
            "gridcolor": "white",
            "linecolor": "white",
            "ticks": ""
           },
           "baxis": {
            "gridcolor": "white",
            "linecolor": "white",
            "ticks": ""
           },
           "bgcolor": "#E5ECF6",
           "caxis": {
            "gridcolor": "white",
            "linecolor": "white",
            "ticks": ""
           }
          },
          "title": {
           "x": 0.05
          },
          "xaxis": {
           "automargin": true,
           "gridcolor": "white",
           "linecolor": "white",
           "ticks": "",
           "title": {
            "standoff": 15
           },
           "zerolinecolor": "white",
           "zerolinewidth": 2
          },
          "yaxis": {
           "automargin": true,
           "gridcolor": "white",
           "linecolor": "white",
           "ticks": "",
           "title": {
            "standoff": 15
           },
           "zerolinecolor": "white",
           "zerolinewidth": 2
          }
         }
        },
        "title": {
         "text": "Confusion Matrix and Evaluation Metrics"
        },
        "width": 1000,
        "xaxis": {
         "anchor": "y",
         "domain": [
          0,
          0.45
         ]
        },
        "xaxis2": {
         "anchor": "y2",
         "domain": [
          0.55,
          1
         ]
        },
        "yaxis": {
         "anchor": "x",
         "domain": [
          0,
          1
         ],
         "range": [
          0,
          1.1
         ]
        },
        "yaxis2": {
         "anchor": "x2",
         "domain": [
          0,
          1
         ]
        }
       }
      }
     },
     "metadata": {},
     "output_type": "display_data"
    }
   ],
   "source": [
    "plot_cassed_results(true, predictions)"
   ]
  },
  {
   "cell_type": "code",
   "execution_count": 37,
   "metadata": {},
   "outputs": [
    {
     "name": "stderr",
     "output_type": "stream",
     "text": [
      "/tmp/ipykernel_45845/1140036744.py:16: DtypeWarning:\n",
      "\n",
      "Columns (9,12,13,14,15) have mixed types. Specify dtype option on import or set low_memory=False.\n",
      "\n"
     ]
    }
   ],
   "source": [
    "folders = [name for name in os.listdir(\"../../datasets/openml_datasets\") if os.path.isdir(os.path.join(\"../../datasets/openml_datasets\", name))]\n",
    "dataset_openml, dataset_openml_info = [], []\n",
    "dataset_type = [\"pii info\", \"personal info\", \"non-personal info\", \"personal info\", \"personal info\", \"pii info\", \"pii info\", \"non-personal info\",\n",
    "                \"non-personal info\", \"personal info\", \"pii info\", \"non-personal info\", \"personal info\", \"pii info\", \"non-personal info\"]\n",
    "for e, folder in enumerate(folders):\n",
    "    path = \"../../datasets/openml_datasets/\" + folder\n",
    "    csv_file = [f for f in os.listdir(path) if f.endswith('.csv') and 'labels' not in f][0]\n",
    "    with open(path + \"/\" + csv_file, 'r') as file:\n",
    "        first_line = file.readline()\n",
    "        comma_count = first_line.count(',')\n",
    "        semicolon_count = first_line.count(';')\n",
    "        if comma_count > semicolon_count:\n",
    "            sep = \",\"\n",
    "        else:\n",
    "            sep = \";\"\n",
    "    df = pd.read_csv(path + \"/\" + csv_file, sep=sep)\n",
    "    dataset_openml += [folder] * df.shape[1]\n",
    "    dataset_openml_info += [dataset_type[e]] * df.shape[1]"
   ]
  },
  {
   "cell_type": "code",
   "execution_count": 38,
   "metadata": {},
   "outputs": [],
   "source": [
    "results_df_test_openml = pd.DataFrame({\n",
    "    \"Column\": test_openml.columns,\n",
    "    \"Prediction\": predictions,\n",
    "    \"True Label\": test_openml_personal[\"label\"].values,\n",
    "    \"Dataset\": dataset_openml,\n",
    "    \"Dataset Type\": dataset_openml_info\n",
    "})"
   ]
  },
  {
   "cell_type": "code",
   "execution_count": 39,
   "metadata": {},
   "outputs": [
    {
     "data": {
      "text/html": [
       "<div>\n",
       "<style scoped>\n",
       "    .dataframe tbody tr th:only-of-type {\n",
       "        vertical-align: middle;\n",
       "    }\n",
       "\n",
       "    .dataframe tbody tr th {\n",
       "        vertical-align: top;\n",
       "    }\n",
       "\n",
       "    .dataframe thead th {\n",
       "        text-align: right;\n",
       "    }\n",
       "</style>\n",
       "<table border=\"1\" class=\"dataframe\">\n",
       "  <thead>\n",
       "    <tr style=\"text-align: right;\">\n",
       "      <th></th>\n",
       "      <th>Column</th>\n",
       "      <th>Prediction</th>\n",
       "      <th>True Label</th>\n",
       "      <th>Dataset</th>\n",
       "      <th>Dataset Type</th>\n",
       "    </tr>\n",
       "  </thead>\n",
       "  <tbody>\n",
       "    <tr>\n",
       "      <th>0</th>\n",
       "      <td>User ID</td>\n",
       "      <td>non-personal</td>\n",
       "      <td>personal</td>\n",
       "      <td>FitBit_HeartRate</td>\n",
       "      <td>pii info</td>\n",
       "    </tr>\n",
       "    <tr>\n",
       "      <th>4</th>\n",
       "      <td>Date of Birth</td>\n",
       "      <td>non-personal</td>\n",
       "      <td>personal</td>\n",
       "      <td>CSM</td>\n",
       "      <td>personal info</td>\n",
       "    </tr>\n",
       "    <tr>\n",
       "      <th>9</th>\n",
       "      <td>Subscription Plan</td>\n",
       "      <td>non-personal</td>\n",
       "      <td>personal</td>\n",
       "      <td>CSM</td>\n",
       "      <td>personal info</td>\n",
       "    </tr>\n",
       "    <tr>\n",
       "      <th>10</th>\n",
       "      <td>Payment Information</td>\n",
       "      <td>non-personal</td>\n",
       "      <td>personal</td>\n",
       "      <td>CSM</td>\n",
       "      <td>personal info</td>\n",
       "    </tr>\n",
       "    <tr>\n",
       "      <th>11</th>\n",
       "      <td>Renewal Status</td>\n",
       "      <td>non-personal</td>\n",
       "      <td>personal</td>\n",
       "      <td>CSM</td>\n",
       "      <td>personal info</td>\n",
       "    </tr>\n",
       "    <tr>\n",
       "      <th>12</th>\n",
       "      <td>Usage Frequency</td>\n",
       "      <td>non-personal</td>\n",
       "      <td>personal</td>\n",
       "      <td>CSM</td>\n",
       "      <td>personal info</td>\n",
       "    </tr>\n",
       "    <tr>\n",
       "      <th>13</th>\n",
       "      <td>Purchase History</td>\n",
       "      <td>non-personal</td>\n",
       "      <td>personal</td>\n",
       "      <td>CSM</td>\n",
       "      <td>personal info</td>\n",
       "    </tr>\n",
       "    <tr>\n",
       "      <th>14</th>\n",
       "      <td>Favorite Genres</td>\n",
       "      <td>non-personal</td>\n",
       "      <td>personal</td>\n",
       "      <td>CSM</td>\n",
       "      <td>personal info</td>\n",
       "    </tr>\n",
       "    <tr>\n",
       "      <th>15</th>\n",
       "      <td>Devices Used</td>\n",
       "      <td>non-personal</td>\n",
       "      <td>personal</td>\n",
       "      <td>CSM</td>\n",
       "      <td>personal info</td>\n",
       "    </tr>\n",
       "    <tr>\n",
       "      <th>16</th>\n",
       "      <td>Engagement Metrics</td>\n",
       "      <td>non-personal</td>\n",
       "      <td>personal</td>\n",
       "      <td>HousingPrices</td>\n",
       "      <td>non-personal info</td>\n",
       "    </tr>\n",
       "    <tr>\n",
       "      <th>17</th>\n",
       "      <td>Feedback/Ratings</td>\n",
       "      <td>non-personal</td>\n",
       "      <td>personal</td>\n",
       "      <td>HousingPrices</td>\n",
       "      <td>non-personal info</td>\n",
       "    </tr>\n",
       "    <tr>\n",
       "      <th>70</th>\n",
       "      <td>CustomerID</td>\n",
       "      <td>non-personal</td>\n",
       "      <td>personal</td>\n",
       "      <td>mango_detection_australia</td>\n",
       "      <td>pii info</td>\n",
       "    </tr>\n",
       "    <tr>\n",
       "      <th>71</th>\n",
       "      <td>Age</td>\n",
       "      <td>non-personal</td>\n",
       "      <td>personal</td>\n",
       "      <td>mango_detection_australia</td>\n",
       "      <td>pii info</td>\n",
       "    </tr>\n",
       "    <tr>\n",
       "      <th>75</th>\n",
       "      <td>Personal Debt to Equity Ratio</td>\n",
       "      <td>non-personal</td>\n",
       "      <td>personal</td>\n",
       "      <td>TVS_Loan_Default</td>\n",
       "      <td>pii info</td>\n",
       "    </tr>\n",
       "    <tr>\n",
       "      <th>77</th>\n",
       "      <td>Marital Status</td>\n",
       "      <td>non-personal</td>\n",
       "      <td>personal</td>\n",
       "      <td>TVS_Loan_Default</td>\n",
       "      <td>pii info</td>\n",
       "    </tr>\n",
       "    <tr>\n",
       "      <th>80</th>\n",
       "      <td>Income</td>\n",
       "      <td>non-personal</td>\n",
       "      <td>personal</td>\n",
       "      <td>TVS_Loan_Default</td>\n",
       "      <td>pii info</td>\n",
       "    </tr>\n",
       "    <tr>\n",
       "      <th>84</th>\n",
       "      <td>Value</td>\n",
       "      <td>non-personal</td>\n",
       "      <td>personal</td>\n",
       "      <td>TVS_Loan_Default</td>\n",
       "      <td>pii info</td>\n",
       "    </tr>\n",
       "    <tr>\n",
       "      <th>107</th>\n",
       "      <td>customer_zip_code_prefix</td>\n",
       "      <td>non-personal</td>\n",
       "      <td>personal</td>\n",
       "      <td>DATASETBANK</td>\n",
       "      <td>non-personal info</td>\n",
       "    </tr>\n",
       "    <tr>\n",
       "      <th>108</th>\n",
       "      <td>customer_city</td>\n",
       "      <td>non-personal</td>\n",
       "      <td>personal</td>\n",
       "      <td>DATASETBANK</td>\n",
       "      <td>non-personal info</td>\n",
       "    </tr>\n",
       "    <tr>\n",
       "      <th>109</th>\n",
       "      <td>customer_state</td>\n",
       "      <td>non-personal</td>\n",
       "      <td>personal</td>\n",
       "      <td>DATASETBANK</td>\n",
       "      <td>non-personal info</td>\n",
       "    </tr>\n",
       "    <tr>\n",
       "      <th>110</th>\n",
       "      <td>V1</td>\n",
       "      <td>non-personal</td>\n",
       "      <td>personal</td>\n",
       "      <td>DATASETBANK</td>\n",
       "      <td>non-personal info</td>\n",
       "    </tr>\n",
       "    <tr>\n",
       "      <th>113</th>\n",
       "      <td>V4</td>\n",
       "      <td>non-personal</td>\n",
       "      <td>personal</td>\n",
       "      <td>DATASETBANK</td>\n",
       "      <td>non-personal info</td>\n",
       "    </tr>\n",
       "    <tr>\n",
       "      <th>115</th>\n",
       "      <td>V6</td>\n",
       "      <td>non-personal</td>\n",
       "      <td>personal</td>\n",
       "      <td>DATASETBANK</td>\n",
       "      <td>non-personal info</td>\n",
       "    </tr>\n",
       "    <tr>\n",
       "      <th>116</th>\n",
       "      <td>V7</td>\n",
       "      <td>non-personal</td>\n",
       "      <td>personal</td>\n",
       "      <td>DATASETBANK</td>\n",
       "      <td>non-personal info</td>\n",
       "    </tr>\n",
       "    <tr>\n",
       "      <th>117</th>\n",
       "      <td>V8</td>\n",
       "      <td>non-personal</td>\n",
       "      <td>personal</td>\n",
       "      <td>DATASETBANK</td>\n",
       "      <td>non-personal info</td>\n",
       "    </tr>\n",
       "    <tr>\n",
       "      <th>118</th>\n",
       "      <td>V9</td>\n",
       "      <td>non-personal</td>\n",
       "      <td>personal</td>\n",
       "      <td>Oilst_Customers_Dataset</td>\n",
       "      <td>non-personal info</td>\n",
       "    </tr>\n",
       "    <tr>\n",
       "      <th>121</th>\n",
       "      <td>V12</td>\n",
       "      <td>non-personal</td>\n",
       "      <td>personal</td>\n",
       "      <td>Oilst_Customers_Dataset</td>\n",
       "      <td>non-personal info</td>\n",
       "    </tr>\n",
       "    <tr>\n",
       "      <th>123</th>\n",
       "      <td>V14</td>\n",
       "      <td>non-personal</td>\n",
       "      <td>personal</td>\n",
       "      <td>Amazon_Prime_Fiction</td>\n",
       "      <td>personal info</td>\n",
       "    </tr>\n",
       "    <tr>\n",
       "      <th>124</th>\n",
       "      <td>V15</td>\n",
       "      <td>non-personal</td>\n",
       "      <td>personal</td>\n",
       "      <td>Amazon_Prime_Fiction</td>\n",
       "      <td>personal info</td>\n",
       "    </tr>\n",
       "    <tr>\n",
       "      <th>125</th>\n",
       "      <td>V16</td>\n",
       "      <td>non-personal</td>\n",
       "      <td>personal</td>\n",
       "      <td>Amazon_Prime_Fiction</td>\n",
       "      <td>personal info</td>\n",
       "    </tr>\n",
       "    <tr>\n",
       "      <th>126</th>\n",
       "      <td>V17</td>\n",
       "      <td>non-personal</td>\n",
       "      <td>personal</td>\n",
       "      <td>Amazon_Prime_Fiction</td>\n",
       "      <td>personal info</td>\n",
       "    </tr>\n",
       "    <tr>\n",
       "      <th>130</th>\n",
       "      <td>V21</td>\n",
       "      <td>non-personal</td>\n",
       "      <td>personal</td>\n",
       "      <td>Amazon_Prime_Fiction</td>\n",
       "      <td>personal info</td>\n",
       "    </tr>\n",
       "    <tr>\n",
       "      <th>132</th>\n",
       "      <td>V23</td>\n",
       "      <td>non-personal</td>\n",
       "      <td>personal</td>\n",
       "      <td>Amazon_Prime_Fiction</td>\n",
       "      <td>personal info</td>\n",
       "    </tr>\n",
       "    <tr>\n",
       "      <th>133</th>\n",
       "      <td>V24</td>\n",
       "      <td>non-personal</td>\n",
       "      <td>personal</td>\n",
       "      <td>Amazon_Prime_Fiction</td>\n",
       "      <td>personal info</td>\n",
       "    </tr>\n",
       "    <tr>\n",
       "      <th>134</th>\n",
       "      <td>V25</td>\n",
       "      <td>non-personal</td>\n",
       "      <td>personal</td>\n",
       "      <td>Amazon_Prime_Fiction</td>\n",
       "      <td>personal info</td>\n",
       "    </tr>\n",
       "    <tr>\n",
       "      <th>135</th>\n",
       "      <td>V26</td>\n",
       "      <td>non-personal</td>\n",
       "      <td>personal</td>\n",
       "      <td>Amazon_Prime_Fiction</td>\n",
       "      <td>personal info</td>\n",
       "    </tr>\n",
       "    <tr>\n",
       "      <th>136</th>\n",
       "      <td>V27</td>\n",
       "      <td>non-personal</td>\n",
       "      <td>personal</td>\n",
       "      <td>Amazon_Prime_Fiction</td>\n",
       "      <td>personal info</td>\n",
       "    </tr>\n",
       "    <tr>\n",
       "      <th>140</th>\n",
       "      <td>V31</td>\n",
       "      <td>non-personal</td>\n",
       "      <td>personal</td>\n",
       "      <td>Amazon_Prime_Fiction</td>\n",
       "      <td>personal info</td>\n",
       "    </tr>\n",
       "  </tbody>\n",
       "</table>\n",
       "</div>"
      ],
      "text/plain": [
       "                            Column    Prediction True Label  \\\n",
       "0                          User ID  non-personal   personal   \n",
       "4                    Date of Birth  non-personal   personal   \n",
       "9                Subscription Plan  non-personal   personal   \n",
       "10             Payment Information  non-personal   personal   \n",
       "11                  Renewal Status  non-personal   personal   \n",
       "12                 Usage Frequency  non-personal   personal   \n",
       "13                Purchase History  non-personal   personal   \n",
       "14                 Favorite Genres  non-personal   personal   \n",
       "15                    Devices Used  non-personal   personal   \n",
       "16              Engagement Metrics  non-personal   personal   \n",
       "17                Feedback/Ratings  non-personal   personal   \n",
       "70                      CustomerID  non-personal   personal   \n",
       "71                             Age  non-personal   personal   \n",
       "75   Personal Debt to Equity Ratio  non-personal   personal   \n",
       "77                  Marital Status  non-personal   personal   \n",
       "80                          Income  non-personal   personal   \n",
       "84                           Value  non-personal   personal   \n",
       "107       customer_zip_code_prefix  non-personal   personal   \n",
       "108                  customer_city  non-personal   personal   \n",
       "109                 customer_state  non-personal   personal   \n",
       "110                             V1  non-personal   personal   \n",
       "113                             V4  non-personal   personal   \n",
       "115                             V6  non-personal   personal   \n",
       "116                             V7  non-personal   personal   \n",
       "117                             V8  non-personal   personal   \n",
       "118                             V9  non-personal   personal   \n",
       "121                            V12  non-personal   personal   \n",
       "123                            V14  non-personal   personal   \n",
       "124                            V15  non-personal   personal   \n",
       "125                            V16  non-personal   personal   \n",
       "126                            V17  non-personal   personal   \n",
       "130                            V21  non-personal   personal   \n",
       "132                            V23  non-personal   personal   \n",
       "133                            V24  non-personal   personal   \n",
       "134                            V25  non-personal   personal   \n",
       "135                            V26  non-personal   personal   \n",
       "136                            V27  non-personal   personal   \n",
       "140                            V31  non-personal   personal   \n",
       "\n",
       "                       Dataset       Dataset Type  \n",
       "0             FitBit_HeartRate           pii info  \n",
       "4                          CSM      personal info  \n",
       "9                          CSM      personal info  \n",
       "10                         CSM      personal info  \n",
       "11                         CSM      personal info  \n",
       "12                         CSM      personal info  \n",
       "13                         CSM      personal info  \n",
       "14                         CSM      personal info  \n",
       "15                         CSM      personal info  \n",
       "16               HousingPrices  non-personal info  \n",
       "17               HousingPrices  non-personal info  \n",
       "70   mango_detection_australia           pii info  \n",
       "71   mango_detection_australia           pii info  \n",
       "75            TVS_Loan_Default           pii info  \n",
       "77            TVS_Loan_Default           pii info  \n",
       "80            TVS_Loan_Default           pii info  \n",
       "84            TVS_Loan_Default           pii info  \n",
       "107                DATASETBANK  non-personal info  \n",
       "108                DATASETBANK  non-personal info  \n",
       "109                DATASETBANK  non-personal info  \n",
       "110                DATASETBANK  non-personal info  \n",
       "113                DATASETBANK  non-personal info  \n",
       "115                DATASETBANK  non-personal info  \n",
       "116                DATASETBANK  non-personal info  \n",
       "117                DATASETBANK  non-personal info  \n",
       "118    Oilst_Customers_Dataset  non-personal info  \n",
       "121    Oilst_Customers_Dataset  non-personal info  \n",
       "123       Amazon_Prime_Fiction      personal info  \n",
       "124       Amazon_Prime_Fiction      personal info  \n",
       "125       Amazon_Prime_Fiction      personal info  \n",
       "126       Amazon_Prime_Fiction      personal info  \n",
       "130       Amazon_Prime_Fiction      personal info  \n",
       "132       Amazon_Prime_Fiction      personal info  \n",
       "133       Amazon_Prime_Fiction      personal info  \n",
       "134       Amazon_Prime_Fiction      personal info  \n",
       "135       Amazon_Prime_Fiction      personal info  \n",
       "136       Amazon_Prime_Fiction      personal info  \n",
       "140       Amazon_Prime_Fiction      personal info  "
      ]
     },
     "execution_count": 39,
     "metadata": {},
     "output_type": "execute_result"
    }
   ],
   "source": [
    "#False negatives\n",
    "results_df_test_openml.loc[(results_df_test_openml[\"True Label\"] == \"personal\") & (results_df_test_openml[\"Prediction\"] == \"non-personal\")]"
   ]
  },
  {
   "cell_type": "code",
   "execution_count": 40,
   "metadata": {},
   "outputs": [
    {
     "data": {
      "text/html": [
       "<div>\n",
       "<style scoped>\n",
       "    .dataframe tbody tr th:only-of-type {\n",
       "        vertical-align: middle;\n",
       "    }\n",
       "\n",
       "    .dataframe tbody tr th {\n",
       "        vertical-align: top;\n",
       "    }\n",
       "\n",
       "    .dataframe thead th {\n",
       "        text-align: right;\n",
       "    }\n",
       "</style>\n",
       "<table border=\"1\" class=\"dataframe\">\n",
       "  <thead>\n",
       "    <tr style=\"text-align: right;\">\n",
       "      <th></th>\n",
       "      <th>Column</th>\n",
       "      <th>Prediction</th>\n",
       "      <th>True Label</th>\n",
       "      <th>Dataset</th>\n",
       "      <th>Dataset Type</th>\n",
       "    </tr>\n",
       "  </thead>\n",
       "  <tbody>\n",
       "    <tr>\n",
       "      <th>21</th>\n",
       "      <td>is_home</td>\n",
       "      <td>personal</td>\n",
       "      <td>non-personal</td>\n",
       "      <td>HousingPrices</td>\n",
       "      <td>non-personal info</td>\n",
       "    </tr>\n",
       "    <tr>\n",
       "      <th>22</th>\n",
       "      <td>target</td>\n",
       "      <td>personal</td>\n",
       "      <td>non-personal</td>\n",
       "      <td>HousingPrices</td>\n",
       "      <td>non-personal info</td>\n",
       "    </tr>\n",
       "    <tr>\n",
       "      <th>24</th>\n",
       "      <td>Month</td>\n",
       "      <td>personal</td>\n",
       "      <td>non-personal</td>\n",
       "      <td>APL_20_24</td>\n",
       "      <td>personal info</td>\n",
       "    </tr>\n",
       "    <tr>\n",
       "      <th>25</th>\n",
       "      <td>Day</td>\n",
       "      <td>personal</td>\n",
       "      <td>non-personal</td>\n",
       "      <td>APL_20_24</td>\n",
       "      <td>personal info</td>\n",
       "    </tr>\n",
       "    <tr>\n",
       "      <th>27</th>\n",
       "      <td>Referee</td>\n",
       "      <td>personal</td>\n",
       "      <td>non-personal</td>\n",
       "      <td>APL_20_24</td>\n",
       "      <td>personal info</td>\n",
       "    </tr>\n",
       "    <tr>\n",
       "      <th>28</th>\n",
       "      <td>team_playing_ft_goals_rolling_mean</td>\n",
       "      <td>personal</td>\n",
       "      <td>non-personal</td>\n",
       "      <td>APL_20_24</td>\n",
       "      <td>personal info</td>\n",
       "    </tr>\n",
       "    <tr>\n",
       "      <th>29</th>\n",
       "      <td>team_playing_ht_goals_rolling_mean</td>\n",
       "      <td>personal</td>\n",
       "      <td>non-personal</td>\n",
       "      <td>APL_20_24</td>\n",
       "      <td>personal info</td>\n",
       "    </tr>\n",
       "    <tr>\n",
       "      <th>31</th>\n",
       "      <td>team_playing_shots_on_target_rolling_mean</td>\n",
       "      <td>personal</td>\n",
       "      <td>non-personal</td>\n",
       "      <td>APL_20_24</td>\n",
       "      <td>personal info</td>\n",
       "    </tr>\n",
       "    <tr>\n",
       "      <th>33</th>\n",
       "      <td>team_playing_corners_won_rolling_mean</td>\n",
       "      <td>personal</td>\n",
       "      <td>non-personal</td>\n",
       "      <td>APL_20_24</td>\n",
       "      <td>personal info</td>\n",
       "    </tr>\n",
       "    <tr>\n",
       "      <th>34</th>\n",
       "      <td>team_playing_yellow_cards_rolling_mean</td>\n",
       "      <td>personal</td>\n",
       "      <td>non-personal</td>\n",
       "      <td>APL_20_24</td>\n",
       "      <td>personal info</td>\n",
       "    </tr>\n",
       "    <tr>\n",
       "      <th>35</th>\n",
       "      <td>team_playing_red_cards_rolling_mean</td>\n",
       "      <td>personal</td>\n",
       "      <td>non-personal</td>\n",
       "      <td>APL_20_24</td>\n",
       "      <td>personal info</td>\n",
       "    </tr>\n",
       "    <tr>\n",
       "      <th>36</th>\n",
       "      <td>opponent_ft_goals_rolling_mean</td>\n",
       "      <td>personal</td>\n",
       "      <td>non-personal</td>\n",
       "      <td>APL_20_24</td>\n",
       "      <td>personal info</td>\n",
       "    </tr>\n",
       "    <tr>\n",
       "      <th>37</th>\n",
       "      <td>opponent_ht_goals_rolling_mean</td>\n",
       "      <td>personal</td>\n",
       "      <td>non-personal</td>\n",
       "      <td>APL_20_24</td>\n",
       "      <td>personal info</td>\n",
       "    </tr>\n",
       "    <tr>\n",
       "      <th>39</th>\n",
       "      <td>opponent_shots_on_target_rolling_mean</td>\n",
       "      <td>personal</td>\n",
       "      <td>non-personal</td>\n",
       "      <td>APL_20_24</td>\n",
       "      <td>personal info</td>\n",
       "    </tr>\n",
       "    <tr>\n",
       "      <th>41</th>\n",
       "      <td>opponent_corners_won_rolling_mean</td>\n",
       "      <td>personal</td>\n",
       "      <td>non-personal</td>\n",
       "      <td>APL_20_24</td>\n",
       "      <td>personal info</td>\n",
       "    </tr>\n",
       "    <tr>\n",
       "      <th>42</th>\n",
       "      <td>opponent_yellow_cards_rolling_mean</td>\n",
       "      <td>personal</td>\n",
       "      <td>non-personal</td>\n",
       "      <td>APL_20_24</td>\n",
       "      <td>personal info</td>\n",
       "    </tr>\n",
       "    <tr>\n",
       "      <th>43</th>\n",
       "      <td>opponent_red_cards_rolling_mean</td>\n",
       "      <td>personal</td>\n",
       "      <td>non-personal</td>\n",
       "      <td>APL_20_24</td>\n",
       "      <td>personal info</td>\n",
       "    </tr>\n",
       "    <tr>\n",
       "      <th>44</th>\n",
       "      <td>target_rolling_mean</td>\n",
       "      <td>personal</td>\n",
       "      <td>non-personal</td>\n",
       "      <td>APL_20_24</td>\n",
       "      <td>personal info</td>\n",
       "    </tr>\n",
       "    <tr>\n",
       "      <th>59</th>\n",
       "      <td>Genre</td>\n",
       "      <td>personal</td>\n",
       "      <td>non-personal</td>\n",
       "      <td>company_quality_and_valuation_finance</td>\n",
       "      <td>personal info</td>\n",
       "    </tr>\n",
       "    <tr>\n",
       "      <th>63</th>\n",
       "      <td>Sequel</td>\n",
       "      <td>personal</td>\n",
       "      <td>non-personal</td>\n",
       "      <td>mango_detection_australia</td>\n",
       "      <td>pii info</td>\n",
       "    </tr>\n",
       "    <tr>\n",
       "      <th>64</th>\n",
       "      <td>Sentiment</td>\n",
       "      <td>personal</td>\n",
       "      <td>non-personal</td>\n",
       "      <td>mango_detection_australia</td>\n",
       "      <td>pii info</td>\n",
       "    </tr>\n",
       "    <tr>\n",
       "      <th>87</th>\n",
       "      <td>Zip</td>\n",
       "      <td>personal</td>\n",
       "      <td>non-personal</td>\n",
       "      <td>TVS_Loan_Default</td>\n",
       "      <td>pii info</td>\n",
       "    </tr>\n",
       "    <tr>\n",
       "      <th>90</th>\n",
       "      <td>Room</td>\n",
       "      <td>personal</td>\n",
       "      <td>non-personal</td>\n",
       "      <td>TVS_Loan_Default</td>\n",
       "      <td>pii info</td>\n",
       "    </tr>\n",
       "    <tr>\n",
       "      <th>92</th>\n",
       "      <td>Lat</td>\n",
       "      <td>personal</td>\n",
       "      <td>non-personal</td>\n",
       "      <td>TVS_Loan_Default</td>\n",
       "      <td>pii info</td>\n",
       "    </tr>\n",
       "    <tr>\n",
       "      <th>99</th>\n",
       "      <td>iscrowd</td>\n",
       "      <td>personal</td>\n",
       "      <td>non-personal</td>\n",
       "      <td>TVS_Loan_Default</td>\n",
       "      <td>pii info</td>\n",
       "    </tr>\n",
       "    <tr>\n",
       "      <th>100</th>\n",
       "      <td>ignore</td>\n",
       "      <td>personal</td>\n",
       "      <td>non-personal</td>\n",
       "      <td>TVS_Loan_Default</td>\n",
       "      <td>pii info</td>\n",
       "    </tr>\n",
       "    <tr>\n",
       "      <th>102</th>\n",
       "      <td>category_id</td>\n",
       "      <td>personal</td>\n",
       "      <td>non-personal</td>\n",
       "      <td>TVS_Loan_Default</td>\n",
       "      <td>pii info</td>\n",
       "    </tr>\n",
       "  </tbody>\n",
       "</table>\n",
       "</div>"
      ],
      "text/plain": [
       "                                        Column Prediction    True Label  \\\n",
       "21                                     is_home   personal  non-personal   \n",
       "22                                      target   personal  non-personal   \n",
       "24                                       Month   personal  non-personal   \n",
       "25                                         Day   personal  non-personal   \n",
       "27                                     Referee   personal  non-personal   \n",
       "28          team_playing_ft_goals_rolling_mean   personal  non-personal   \n",
       "29          team_playing_ht_goals_rolling_mean   personal  non-personal   \n",
       "31   team_playing_shots_on_target_rolling_mean   personal  non-personal   \n",
       "33       team_playing_corners_won_rolling_mean   personal  non-personal   \n",
       "34      team_playing_yellow_cards_rolling_mean   personal  non-personal   \n",
       "35         team_playing_red_cards_rolling_mean   personal  non-personal   \n",
       "36              opponent_ft_goals_rolling_mean   personal  non-personal   \n",
       "37              opponent_ht_goals_rolling_mean   personal  non-personal   \n",
       "39       opponent_shots_on_target_rolling_mean   personal  non-personal   \n",
       "41           opponent_corners_won_rolling_mean   personal  non-personal   \n",
       "42          opponent_yellow_cards_rolling_mean   personal  non-personal   \n",
       "43             opponent_red_cards_rolling_mean   personal  non-personal   \n",
       "44                         target_rolling_mean   personal  non-personal   \n",
       "59                                       Genre   personal  non-personal   \n",
       "63                                      Sequel   personal  non-personal   \n",
       "64                                   Sentiment   personal  non-personal   \n",
       "87                                         Zip   personal  non-personal   \n",
       "90                                        Room   personal  non-personal   \n",
       "92                                         Lat   personal  non-personal   \n",
       "99                                     iscrowd   personal  non-personal   \n",
       "100                                     ignore   personal  non-personal   \n",
       "102                                category_id   personal  non-personal   \n",
       "\n",
       "                                   Dataset       Dataset Type  \n",
       "21                           HousingPrices  non-personal info  \n",
       "22                           HousingPrices  non-personal info  \n",
       "24                               APL_20_24      personal info  \n",
       "25                               APL_20_24      personal info  \n",
       "27                               APL_20_24      personal info  \n",
       "28                               APL_20_24      personal info  \n",
       "29                               APL_20_24      personal info  \n",
       "31                               APL_20_24      personal info  \n",
       "33                               APL_20_24      personal info  \n",
       "34                               APL_20_24      personal info  \n",
       "35                               APL_20_24      personal info  \n",
       "36                               APL_20_24      personal info  \n",
       "37                               APL_20_24      personal info  \n",
       "39                               APL_20_24      personal info  \n",
       "41                               APL_20_24      personal info  \n",
       "42                               APL_20_24      personal info  \n",
       "43                               APL_20_24      personal info  \n",
       "44                               APL_20_24      personal info  \n",
       "59   company_quality_and_valuation_finance      personal info  \n",
       "63               mango_detection_australia           pii info  \n",
       "64               mango_detection_australia           pii info  \n",
       "87                        TVS_Loan_Default           pii info  \n",
       "90                        TVS_Loan_Default           pii info  \n",
       "92                        TVS_Loan_Default           pii info  \n",
       "99                        TVS_Loan_Default           pii info  \n",
       "100                       TVS_Loan_Default           pii info  \n",
       "102                       TVS_Loan_Default           pii info  "
      ]
     },
     "execution_count": 40,
     "metadata": {},
     "output_type": "execute_result"
    }
   ],
   "source": [
    "#False positives\n",
    "results_df_test_openml.loc[(results_df_test_openml[\"True Label\"] == \"non-personal\") & (results_df_test_openml[\"Prediction\"] == \"personal\")]"
   ]
  },
  {
   "cell_type": "markdown",
   "metadata": {},
   "source": [
    "# OpenML 2"
   ]
  },
  {
   "cell_type": "code",
   "execution_count": 41,
   "metadata": {},
   "outputs": [],
   "source": [
    "test_openml_2 = pd.read_csv(\"../../datasets/openml_datasets_2/all_datasets.csv\")\n",
    "test_openml_2_personal = pd.read_csv(\"../../datasets/openml_datasets_2/all_datasets_labels_personal.csv\")"
   ]
  },
  {
   "cell_type": "code",
   "execution_count": 42,
   "metadata": {},
   "outputs": [],
   "source": [
    "openml_2_true = pd.read_csv(\"../CASSED_model_results/cassed_personal/openml_2/true.csv\")\n",
    "openml_2_pred = pd.read_csv(\"../CASSED_model_results/cassed_personal/openml_2/predicted.csv\")\n",
    "openml_2_target_names = pd.read_csv(\"../CASSED_model_results/cassed_personal/openml_2/target_names.csv\")\n",
    "openml_2_target_names = {a[1]: a[0] for a in openml_2_target_names[[\"0\", \"0.1\"]].values}\n",
    "openml_2_target_names[0] = \"no prediction\""
   ]
  },
  {
   "cell_type": "code",
   "execution_count": 43,
   "metadata": {},
   "outputs": [],
   "source": [
    "predictions, true = [], []\n",
    "for i in range(openml_2_true.shape[0]):\n",
    "    predictions.append([openml_2_target_names[e] for e, b in enumerate(openml_2_pred.iloc[i,:]) if b == 1])\n",
    "    true.append([openml_2_target_names[e] for e, b in enumerate(openml_2_true.iloc[i,:]) if b == 1])\n",
    "true = [a[0] for a in true]\n",
    "predictions = [a[0] for a in predictions]"
   ]
  },
  {
   "cell_type": "code",
   "execution_count": 44,
   "metadata": {},
   "outputs": [
    {
     "data": {
      "application/vnd.plotly.v1+json": {
       "config": {
        "plotlyServerURL": "https://plot.ly"
       },
       "data": [
        {
         "showlegend": false,
         "type": "bar",
         "x": [
          "weighted Precision",
          "weighted Recall",
          "weighted F1 Score",
          "Accuracy",
          "AUC-ROC"
         ],
         "xaxis": "x",
         "y": [
          0.8437080161218091,
          0.7413793103448276,
          0.7823275862068966,
          0.7413793103448276,
          0.5977564102564102
         ],
         "yaxis": "y"
        },
        {
         "colorscale": [
          [
           0,
           "rgb(247,251,255)"
          ],
          [
           0.125,
           "rgb(222,235,247)"
          ],
          [
           0.25,
           "rgb(198,219,239)"
          ],
          [
           0.375,
           "rgb(158,202,225)"
          ],
          [
           0.5,
           "rgb(107,174,214)"
          ],
          [
           0.625,
           "rgb(66,146,198)"
          ],
          [
           0.75,
           "rgb(33,113,181)"
          ],
          [
           0.875,
           "rgb(8,81,156)"
          ],
          [
           1,
           "rgb(8,48,107)"
          ]
         ],
         "showscale": false,
         "text": [
          [
           "5<br>0.42",
           "7<br>0.58"
          ],
          [
           "23<br>0.22",
           "81<br>0.78"
          ]
         ],
         "textfont": {
          "size": 20
         },
         "texttemplate": "%{text}",
         "type": "heatmap",
         "x": [
          "Pred: personal",
          "Pred: non-personal"
         ],
         "xaxis": "x2",
         "y": [
          "True: personal",
          "True: non-personal"
         ],
         "yaxis": "y2",
         "z": [
          [
           5,
           7
          ],
          [
           23,
           81
          ]
         ]
        }
       ],
       "layout": {
        "annotations": [
         {
          "font": {
           "size": 16
          },
          "showarrow": false,
          "text": "Evaluation Metrics",
          "x": 0.225,
          "xanchor": "center",
          "xref": "paper",
          "y": 1,
          "yanchor": "bottom",
          "yref": "paper"
         },
         {
          "font": {
           "size": 16
          },
          "showarrow": false,
          "text": "Confusion Matrix",
          "x": 0.775,
          "xanchor": "center",
          "xref": "paper",
          "y": 1,
          "yanchor": "bottom",
          "yref": "paper"
         }
        ],
        "height": 500,
        "showlegend": false,
        "template": {
         "data": {
          "bar": [
           {
            "error_x": {
             "color": "#2a3f5f"
            },
            "error_y": {
             "color": "#2a3f5f"
            },
            "marker": {
             "line": {
              "color": "#E5ECF6",
              "width": 0.5
             },
             "pattern": {
              "fillmode": "overlay",
              "size": 10,
              "solidity": 0.2
             }
            },
            "type": "bar"
           }
          ],
          "barpolar": [
           {
            "marker": {
             "line": {
              "color": "#E5ECF6",
              "width": 0.5
             },
             "pattern": {
              "fillmode": "overlay",
              "size": 10,
              "solidity": 0.2
             }
            },
            "type": "barpolar"
           }
          ],
          "carpet": [
           {
            "aaxis": {
             "endlinecolor": "#2a3f5f",
             "gridcolor": "white",
             "linecolor": "white",
             "minorgridcolor": "white",
             "startlinecolor": "#2a3f5f"
            },
            "baxis": {
             "endlinecolor": "#2a3f5f",
             "gridcolor": "white",
             "linecolor": "white",
             "minorgridcolor": "white",
             "startlinecolor": "#2a3f5f"
            },
            "type": "carpet"
           }
          ],
          "choropleth": [
           {
            "colorbar": {
             "outlinewidth": 0,
             "ticks": ""
            },
            "type": "choropleth"
           }
          ],
          "contour": [
           {
            "colorbar": {
             "outlinewidth": 0,
             "ticks": ""
            },
            "colorscale": [
             [
              0,
              "#0d0887"
             ],
             [
              0.1111111111111111,
              "#46039f"
             ],
             [
              0.2222222222222222,
              "#7201a8"
             ],
             [
              0.3333333333333333,
              "#9c179e"
             ],
             [
              0.4444444444444444,
              "#bd3786"
             ],
             [
              0.5555555555555556,
              "#d8576b"
             ],
             [
              0.6666666666666666,
              "#ed7953"
             ],
             [
              0.7777777777777778,
              "#fb9f3a"
             ],
             [
              0.8888888888888888,
              "#fdca26"
             ],
             [
              1,
              "#f0f921"
             ]
            ],
            "type": "contour"
           }
          ],
          "contourcarpet": [
           {
            "colorbar": {
             "outlinewidth": 0,
             "ticks": ""
            },
            "type": "contourcarpet"
           }
          ],
          "heatmap": [
           {
            "colorbar": {
             "outlinewidth": 0,
             "ticks": ""
            },
            "colorscale": [
             [
              0,
              "#0d0887"
             ],
             [
              0.1111111111111111,
              "#46039f"
             ],
             [
              0.2222222222222222,
              "#7201a8"
             ],
             [
              0.3333333333333333,
              "#9c179e"
             ],
             [
              0.4444444444444444,
              "#bd3786"
             ],
             [
              0.5555555555555556,
              "#d8576b"
             ],
             [
              0.6666666666666666,
              "#ed7953"
             ],
             [
              0.7777777777777778,
              "#fb9f3a"
             ],
             [
              0.8888888888888888,
              "#fdca26"
             ],
             [
              1,
              "#f0f921"
             ]
            ],
            "type": "heatmap"
           }
          ],
          "heatmapgl": [
           {
            "colorbar": {
             "outlinewidth": 0,
             "ticks": ""
            },
            "colorscale": [
             [
              0,
              "#0d0887"
             ],
             [
              0.1111111111111111,
              "#46039f"
             ],
             [
              0.2222222222222222,
              "#7201a8"
             ],
             [
              0.3333333333333333,
              "#9c179e"
             ],
             [
              0.4444444444444444,
              "#bd3786"
             ],
             [
              0.5555555555555556,
              "#d8576b"
             ],
             [
              0.6666666666666666,
              "#ed7953"
             ],
             [
              0.7777777777777778,
              "#fb9f3a"
             ],
             [
              0.8888888888888888,
              "#fdca26"
             ],
             [
              1,
              "#f0f921"
             ]
            ],
            "type": "heatmapgl"
           }
          ],
          "histogram": [
           {
            "marker": {
             "pattern": {
              "fillmode": "overlay",
              "size": 10,
              "solidity": 0.2
             }
            },
            "type": "histogram"
           }
          ],
          "histogram2d": [
           {
            "colorbar": {
             "outlinewidth": 0,
             "ticks": ""
            },
            "colorscale": [
             [
              0,
              "#0d0887"
             ],
             [
              0.1111111111111111,
              "#46039f"
             ],
             [
              0.2222222222222222,
              "#7201a8"
             ],
             [
              0.3333333333333333,
              "#9c179e"
             ],
             [
              0.4444444444444444,
              "#bd3786"
             ],
             [
              0.5555555555555556,
              "#d8576b"
             ],
             [
              0.6666666666666666,
              "#ed7953"
             ],
             [
              0.7777777777777778,
              "#fb9f3a"
             ],
             [
              0.8888888888888888,
              "#fdca26"
             ],
             [
              1,
              "#f0f921"
             ]
            ],
            "type": "histogram2d"
           }
          ],
          "histogram2dcontour": [
           {
            "colorbar": {
             "outlinewidth": 0,
             "ticks": ""
            },
            "colorscale": [
             [
              0,
              "#0d0887"
             ],
             [
              0.1111111111111111,
              "#46039f"
             ],
             [
              0.2222222222222222,
              "#7201a8"
             ],
             [
              0.3333333333333333,
              "#9c179e"
             ],
             [
              0.4444444444444444,
              "#bd3786"
             ],
             [
              0.5555555555555556,
              "#d8576b"
             ],
             [
              0.6666666666666666,
              "#ed7953"
             ],
             [
              0.7777777777777778,
              "#fb9f3a"
             ],
             [
              0.8888888888888888,
              "#fdca26"
             ],
             [
              1,
              "#f0f921"
             ]
            ],
            "type": "histogram2dcontour"
           }
          ],
          "mesh3d": [
           {
            "colorbar": {
             "outlinewidth": 0,
             "ticks": ""
            },
            "type": "mesh3d"
           }
          ],
          "parcoords": [
           {
            "line": {
             "colorbar": {
              "outlinewidth": 0,
              "ticks": ""
             }
            },
            "type": "parcoords"
           }
          ],
          "pie": [
           {
            "automargin": true,
            "type": "pie"
           }
          ],
          "scatter": [
           {
            "fillpattern": {
             "fillmode": "overlay",
             "size": 10,
             "solidity": 0.2
            },
            "type": "scatter"
           }
          ],
          "scatter3d": [
           {
            "line": {
             "colorbar": {
              "outlinewidth": 0,
              "ticks": ""
             }
            },
            "marker": {
             "colorbar": {
              "outlinewidth": 0,
              "ticks": ""
             }
            },
            "type": "scatter3d"
           }
          ],
          "scattercarpet": [
           {
            "marker": {
             "colorbar": {
              "outlinewidth": 0,
              "ticks": ""
             }
            },
            "type": "scattercarpet"
           }
          ],
          "scattergeo": [
           {
            "marker": {
             "colorbar": {
              "outlinewidth": 0,
              "ticks": ""
             }
            },
            "type": "scattergeo"
           }
          ],
          "scattergl": [
           {
            "marker": {
             "colorbar": {
              "outlinewidth": 0,
              "ticks": ""
             }
            },
            "type": "scattergl"
           }
          ],
          "scattermapbox": [
           {
            "marker": {
             "colorbar": {
              "outlinewidth": 0,
              "ticks": ""
             }
            },
            "type": "scattermapbox"
           }
          ],
          "scatterpolar": [
           {
            "marker": {
             "colorbar": {
              "outlinewidth": 0,
              "ticks": ""
             }
            },
            "type": "scatterpolar"
           }
          ],
          "scatterpolargl": [
           {
            "marker": {
             "colorbar": {
              "outlinewidth": 0,
              "ticks": ""
             }
            },
            "type": "scatterpolargl"
           }
          ],
          "scatterternary": [
           {
            "marker": {
             "colorbar": {
              "outlinewidth": 0,
              "ticks": ""
             }
            },
            "type": "scatterternary"
           }
          ],
          "surface": [
           {
            "colorbar": {
             "outlinewidth": 0,
             "ticks": ""
            },
            "colorscale": [
             [
              0,
              "#0d0887"
             ],
             [
              0.1111111111111111,
              "#46039f"
             ],
             [
              0.2222222222222222,
              "#7201a8"
             ],
             [
              0.3333333333333333,
              "#9c179e"
             ],
             [
              0.4444444444444444,
              "#bd3786"
             ],
             [
              0.5555555555555556,
              "#d8576b"
             ],
             [
              0.6666666666666666,
              "#ed7953"
             ],
             [
              0.7777777777777778,
              "#fb9f3a"
             ],
             [
              0.8888888888888888,
              "#fdca26"
             ],
             [
              1,
              "#f0f921"
             ]
            ],
            "type": "surface"
           }
          ],
          "table": [
           {
            "cells": {
             "fill": {
              "color": "#EBF0F8"
             },
             "line": {
              "color": "white"
             }
            },
            "header": {
             "fill": {
              "color": "#C8D4E3"
             },
             "line": {
              "color": "white"
             }
            },
            "type": "table"
           }
          ]
         },
         "layout": {
          "annotationdefaults": {
           "arrowcolor": "#2a3f5f",
           "arrowhead": 0,
           "arrowwidth": 1
          },
          "autotypenumbers": "strict",
          "coloraxis": {
           "colorbar": {
            "outlinewidth": 0,
            "ticks": ""
           }
          },
          "colorscale": {
           "diverging": [
            [
             0,
             "#8e0152"
            ],
            [
             0.1,
             "#c51b7d"
            ],
            [
             0.2,
             "#de77ae"
            ],
            [
             0.3,
             "#f1b6da"
            ],
            [
             0.4,
             "#fde0ef"
            ],
            [
             0.5,
             "#f7f7f7"
            ],
            [
             0.6,
             "#e6f5d0"
            ],
            [
             0.7,
             "#b8e186"
            ],
            [
             0.8,
             "#7fbc41"
            ],
            [
             0.9,
             "#4d9221"
            ],
            [
             1,
             "#276419"
            ]
           ],
           "sequential": [
            [
             0,
             "#0d0887"
            ],
            [
             0.1111111111111111,
             "#46039f"
            ],
            [
             0.2222222222222222,
             "#7201a8"
            ],
            [
             0.3333333333333333,
             "#9c179e"
            ],
            [
             0.4444444444444444,
             "#bd3786"
            ],
            [
             0.5555555555555556,
             "#d8576b"
            ],
            [
             0.6666666666666666,
             "#ed7953"
            ],
            [
             0.7777777777777778,
             "#fb9f3a"
            ],
            [
             0.8888888888888888,
             "#fdca26"
            ],
            [
             1,
             "#f0f921"
            ]
           ],
           "sequentialminus": [
            [
             0,
             "#0d0887"
            ],
            [
             0.1111111111111111,
             "#46039f"
            ],
            [
             0.2222222222222222,
             "#7201a8"
            ],
            [
             0.3333333333333333,
             "#9c179e"
            ],
            [
             0.4444444444444444,
             "#bd3786"
            ],
            [
             0.5555555555555556,
             "#d8576b"
            ],
            [
             0.6666666666666666,
             "#ed7953"
            ],
            [
             0.7777777777777778,
             "#fb9f3a"
            ],
            [
             0.8888888888888888,
             "#fdca26"
            ],
            [
             1,
             "#f0f921"
            ]
           ]
          },
          "colorway": [
           "#636efa",
           "#EF553B",
           "#00cc96",
           "#ab63fa",
           "#FFA15A",
           "#19d3f3",
           "#FF6692",
           "#B6E880",
           "#FF97FF",
           "#FECB52"
          ],
          "font": {
           "color": "#2a3f5f"
          },
          "geo": {
           "bgcolor": "white",
           "lakecolor": "white",
           "landcolor": "#E5ECF6",
           "showlakes": true,
           "showland": true,
           "subunitcolor": "white"
          },
          "hoverlabel": {
           "align": "left"
          },
          "hovermode": "closest",
          "mapbox": {
           "style": "light"
          },
          "paper_bgcolor": "white",
          "plot_bgcolor": "#E5ECF6",
          "polar": {
           "angularaxis": {
            "gridcolor": "white",
            "linecolor": "white",
            "ticks": ""
           },
           "bgcolor": "#E5ECF6",
           "radialaxis": {
            "gridcolor": "white",
            "linecolor": "white",
            "ticks": ""
           }
          },
          "scene": {
           "xaxis": {
            "backgroundcolor": "#E5ECF6",
            "gridcolor": "white",
            "gridwidth": 2,
            "linecolor": "white",
            "showbackground": true,
            "ticks": "",
            "zerolinecolor": "white"
           },
           "yaxis": {
            "backgroundcolor": "#E5ECF6",
            "gridcolor": "white",
            "gridwidth": 2,
            "linecolor": "white",
            "showbackground": true,
            "ticks": "",
            "zerolinecolor": "white"
           },
           "zaxis": {
            "backgroundcolor": "#E5ECF6",
            "gridcolor": "white",
            "gridwidth": 2,
            "linecolor": "white",
            "showbackground": true,
            "ticks": "",
            "zerolinecolor": "white"
           }
          },
          "shapedefaults": {
           "line": {
            "color": "#2a3f5f"
           }
          },
          "ternary": {
           "aaxis": {
            "gridcolor": "white",
            "linecolor": "white",
            "ticks": ""
           },
           "baxis": {
            "gridcolor": "white",
            "linecolor": "white",
            "ticks": ""
           },
           "bgcolor": "#E5ECF6",
           "caxis": {
            "gridcolor": "white",
            "linecolor": "white",
            "ticks": ""
           }
          },
          "title": {
           "x": 0.05
          },
          "xaxis": {
           "automargin": true,
           "gridcolor": "white",
           "linecolor": "white",
           "ticks": "",
           "title": {
            "standoff": 15
           },
           "zerolinecolor": "white",
           "zerolinewidth": 2
          },
          "yaxis": {
           "automargin": true,
           "gridcolor": "white",
           "linecolor": "white",
           "ticks": "",
           "title": {
            "standoff": 15
           },
           "zerolinecolor": "white",
           "zerolinewidth": 2
          }
         }
        },
        "title": {
         "text": "Confusion Matrix and Evaluation Metrics"
        },
        "width": 1000,
        "xaxis": {
         "anchor": "y",
         "domain": [
          0,
          0.45
         ]
        },
        "xaxis2": {
         "anchor": "y2",
         "domain": [
          0.55,
          1
         ]
        },
        "yaxis": {
         "anchor": "x",
         "domain": [
          0,
          1
         ],
         "range": [
          0,
          1.1
         ]
        },
        "yaxis2": {
         "anchor": "x2",
         "domain": [
          0,
          1
         ]
        }
       }
      }
     },
     "metadata": {},
     "output_type": "display_data"
    }
   ],
   "source": [
    "plot_cassed_results(true, predictions)"
   ]
  },
  {
   "cell_type": "code",
   "execution_count": 45,
   "metadata": {},
   "outputs": [],
   "source": [
    "folders = [name for name in os.listdir(\"../../datasets/openml_datasets_2\") if os.path.isdir(os.path.join(\"../../datasets/openml_datasets_2\", name))]\n",
    "dataset_openml_2, dataset_openml_2_info = [], []\n",
    "dataset_type = [\"pii info\", \"personal info\", \"non-personal info\", \"personal info\", \"personal info\", \"pii info\", \"pii info\", \"non-personal info\",\n",
    "                \"non-personal info\", \"personal info\", \"pii info\", \"non-personal info\", \"personal info\", \"pii info\", \"non-personal info\"]\n",
    "for e, folder in enumerate(folders):\n",
    "    path = \"../../datasets/openml_datasets_2/\" + folder\n",
    "    csv_file = [f for f in os.listdir(path) if f.endswith('.csv') and 'labels' not in f][0]\n",
    "    with open(path + \"/\" + csv_file, 'r') as file:\n",
    "        first_line = file.readline()\n",
    "        comma_count = first_line.count(',')\n",
    "        semicolon_count = first_line.count(';')\n",
    "        if comma_count > semicolon_count:\n",
    "            sep = \",\"\n",
    "        else:\n",
    "            sep = \";\"\n",
    "    df = pd.read_csv(path + \"/\" + csv_file, sep=sep)\n",
    "    dataset_openml_2 += [folder] * df.shape[1]\n",
    "    dataset_openml_2_info += [dataset_type[e]] * df.shape[1]"
   ]
  },
  {
   "cell_type": "code",
   "execution_count": 46,
   "metadata": {},
   "outputs": [],
   "source": [
    "results_df_test_openml_2 = pd.DataFrame({\n",
    "    \"Column\": test_openml_2.columns,\n",
    "    \"Prediction\": predictions,\n",
    "    \"True Label\": test_openml_2_personal[\"label\"].values,\n",
    "    \"Dataset\": dataset_openml_2,\n",
    "    \"Dataset Type\": dataset_openml_2_info\n",
    "})"
   ]
  },
  {
   "cell_type": "code",
   "execution_count": 47,
   "metadata": {},
   "outputs": [
    {
     "data": {
      "text/html": [
       "<div>\n",
       "<style scoped>\n",
       "    .dataframe tbody tr th:only-of-type {\n",
       "        vertical-align: middle;\n",
       "    }\n",
       "\n",
       "    .dataframe tbody tr th {\n",
       "        vertical-align: top;\n",
       "    }\n",
       "\n",
       "    .dataframe thead th {\n",
       "        text-align: right;\n",
       "    }\n",
       "</style>\n",
       "<table border=\"1\" class=\"dataframe\">\n",
       "  <thead>\n",
       "    <tr style=\"text-align: right;\">\n",
       "      <th></th>\n",
       "      <th>Column</th>\n",
       "      <th>Prediction</th>\n",
       "      <th>True Label</th>\n",
       "      <th>Dataset</th>\n",
       "      <th>Dataset Type</th>\n",
       "    </tr>\n",
       "  </thead>\n",
       "  <tbody>\n",
       "    <tr>\n",
       "      <th>15</th>\n",
       "      <td>age</td>\n",
       "      <td>non-personal</td>\n",
       "      <td>personal</td>\n",
       "      <td>Avocado-Prices-(Augmented)</td>\n",
       "      <td>non-personal info</td>\n",
       "    </tr>\n",
       "    <tr>\n",
       "      <th>17</th>\n",
       "      <td>fractional</td>\n",
       "      <td>non-personal</td>\n",
       "      <td>personal</td>\n",
       "      <td>Avocado-Prices-(Augmented)</td>\n",
       "      <td>non-personal info</td>\n",
       "    </tr>\n",
       "    <tr>\n",
       "      <th>18</th>\n",
       "      <td>epss</td>\n",
       "      <td>non-personal</td>\n",
       "      <td>personal</td>\n",
       "      <td>Avocado-Prices-(Augmented)</td>\n",
       "      <td>non-personal info</td>\n",
       "    </tr>\n",
       "    <tr>\n",
       "      <th>19</th>\n",
       "      <td>lvdd</td>\n",
       "      <td>non-personal</td>\n",
       "      <td>personal</td>\n",
       "      <td>Avocado-Prices-(Augmented)</td>\n",
       "      <td>non-personal info</td>\n",
       "    </tr>\n",
       "    <tr>\n",
       "      <th>20</th>\n",
       "      <td>wall_score</td>\n",
       "      <td>non-personal</td>\n",
       "      <td>personal</td>\n",
       "      <td>Avocado-Prices-(Augmented)</td>\n",
       "      <td>non-personal info</td>\n",
       "    </tr>\n",
       "    <tr>\n",
       "      <th>21</th>\n",
       "      <td>wall_index</td>\n",
       "      <td>non-personal</td>\n",
       "      <td>personal</td>\n",
       "      <td>Avocado-Prices-(Augmented)</td>\n",
       "      <td>non-personal info</td>\n",
       "    </tr>\n",
       "    <tr>\n",
       "      <th>23</th>\n",
       "      <td>class</td>\n",
       "      <td>non-personal</td>\n",
       "      <td>personal</td>\n",
       "      <td>Avocado-Prices-(Augmented)</td>\n",
       "      <td>non-personal info</td>\n",
       "    </tr>\n",
       "  </tbody>\n",
       "</table>\n",
       "</div>"
      ],
      "text/plain": [
       "        Column    Prediction True Label                     Dataset  \\\n",
       "15         age  non-personal   personal  Avocado-Prices-(Augmented)   \n",
       "17  fractional  non-personal   personal  Avocado-Prices-(Augmented)   \n",
       "18        epss  non-personal   personal  Avocado-Prices-(Augmented)   \n",
       "19        lvdd  non-personal   personal  Avocado-Prices-(Augmented)   \n",
       "20  wall_score  non-personal   personal  Avocado-Prices-(Augmented)   \n",
       "21  wall_index  non-personal   personal  Avocado-Prices-(Augmented)   \n",
       "23       class  non-personal   personal  Avocado-Prices-(Augmented)   \n",
       "\n",
       "         Dataset Type  \n",
       "15  non-personal info  \n",
       "17  non-personal info  \n",
       "18  non-personal info  \n",
       "19  non-personal info  \n",
       "20  non-personal info  \n",
       "21  non-personal info  \n",
       "23  non-personal info  "
      ]
     },
     "execution_count": 47,
     "metadata": {},
     "output_type": "execute_result"
    }
   ],
   "source": [
    "#False negatives\n",
    "results_df_test_openml_2.loc[(results_df_test_openml_2[\"True Label\"] == \"personal\") & (results_df_test_openml_2[\"Prediction\"] == \"non-personal\")]"
   ]
  },
  {
   "cell_type": "code",
   "execution_count": 48,
   "metadata": {},
   "outputs": [
    {
     "data": {
      "text/html": [
       "<div>\n",
       "<style scoped>\n",
       "    .dataframe tbody tr th:only-of-type {\n",
       "        vertical-align: middle;\n",
       "    }\n",
       "\n",
       "    .dataframe tbody tr th {\n",
       "        vertical-align: top;\n",
       "    }\n",
       "\n",
       "    .dataframe thead th {\n",
       "        text-align: right;\n",
       "    }\n",
       "</style>\n",
       "<table border=\"1\" class=\"dataframe\">\n",
       "  <thead>\n",
       "    <tr style=\"text-align: right;\">\n",
       "      <th></th>\n",
       "      <th>Column</th>\n",
       "      <th>Prediction</th>\n",
       "      <th>True Label</th>\n",
       "      <th>Dataset</th>\n",
       "      <th>Dataset Type</th>\n",
       "    </tr>\n",
       "  </thead>\n",
       "  <tbody>\n",
       "    <tr>\n",
       "      <th>24</th>\n",
       "      <td>Species</td>\n",
       "      <td>personal</td>\n",
       "      <td>non-personal</td>\n",
       "      <td>Avocado-Prices-(Augmented)</td>\n",
       "      <td>non-personal info</td>\n",
       "    </tr>\n",
       "    <tr>\n",
       "      <th>30</th>\n",
       "      <td>Sex</td>\n",
       "      <td>personal</td>\n",
       "      <td>non-personal</td>\n",
       "      <td>wine_quality</td>\n",
       "      <td>personal info</td>\n",
       "    </tr>\n",
       "    <tr>\n",
       "      <th>31</th>\n",
       "      <td>binaryClass</td>\n",
       "      <td>personal</td>\n",
       "      <td>non-personal</td>\n",
       "      <td>wine_quality</td>\n",
       "      <td>personal info</td>\n",
       "    </tr>\n",
       "    <tr>\n",
       "      <th>32</th>\n",
       "      <td>X</td>\n",
       "      <td>personal</td>\n",
       "      <td>non-personal</td>\n",
       "      <td>wine_quality</td>\n",
       "      <td>personal info</td>\n",
       "    </tr>\n",
       "    <tr>\n",
       "      <th>33</th>\n",
       "      <td>Y</td>\n",
       "      <td>personal</td>\n",
       "      <td>non-personal</td>\n",
       "      <td>wine_quality</td>\n",
       "      <td>personal info</td>\n",
       "    </tr>\n",
       "    <tr>\n",
       "      <th>43</th>\n",
       "      <td>rain</td>\n",
       "      <td>personal</td>\n",
       "      <td>non-personal</td>\n",
       "      <td>nyc-taxi-green-dec-2016</td>\n",
       "      <td>personal info</td>\n",
       "    </tr>\n",
       "    <tr>\n",
       "      <th>44</th>\n",
       "      <td>area</td>\n",
       "      <td>personal</td>\n",
       "      <td>non-personal</td>\n",
       "      <td>nyc-taxi-green-dec-2016</td>\n",
       "      <td>personal info</td>\n",
       "    </tr>\n",
       "    <tr>\n",
       "      <th>50</th>\n",
       "      <td>Bid_Volume</td>\n",
       "      <td>personal</td>\n",
       "      <td>non-personal</td>\n",
       "      <td>FOREX_chfjpy-minute-Close</td>\n",
       "      <td>pii info</td>\n",
       "    </tr>\n",
       "    <tr>\n",
       "      <th>55</th>\n",
       "      <td>Ask_Volume</td>\n",
       "      <td>personal</td>\n",
       "      <td>non-personal</td>\n",
       "      <td>FOREX_chfjpy-minute-Close</td>\n",
       "      <td>pii info</td>\n",
       "    </tr>\n",
       "    <tr>\n",
       "      <th>56</th>\n",
       "      <td>Class</td>\n",
       "      <td>personal</td>\n",
       "      <td>non-personal</td>\n",
       "      <td>FOREX_chfjpy-minute-Close</td>\n",
       "      <td>pii info</td>\n",
       "    </tr>\n",
       "    <tr>\n",
       "      <th>60</th>\n",
       "      <td>Petal.Width</td>\n",
       "      <td>personal</td>\n",
       "      <td>non-personal</td>\n",
       "      <td>FOREX_chfjpy-minute-Close</td>\n",
       "      <td>pii info</td>\n",
       "    </tr>\n",
       "    <tr>\n",
       "      <th>61</th>\n",
       "      <td>Species.1</td>\n",
       "      <td>personal</td>\n",
       "      <td>non-personal</td>\n",
       "      <td>FOREX_chfjpy-minute-Close</td>\n",
       "      <td>pii info</td>\n",
       "    </tr>\n",
       "    <tr>\n",
       "      <th>80</th>\n",
       "      <td>VendorID</td>\n",
       "      <td>personal</td>\n",
       "      <td>non-personal</td>\n",
       "      <td>vowel</td>\n",
       "      <td>non-personal info</td>\n",
       "    </tr>\n",
       "    <tr>\n",
       "      <th>81</th>\n",
       "      <td>store_and_fwd_flag</td>\n",
       "      <td>personal</td>\n",
       "      <td>non-personal</td>\n",
       "      <td>vowel</td>\n",
       "      <td>non-personal info</td>\n",
       "    </tr>\n",
       "    <tr>\n",
       "      <th>82</th>\n",
       "      <td>RatecodeID</td>\n",
       "      <td>personal</td>\n",
       "      <td>non-personal</td>\n",
       "      <td>vowel</td>\n",
       "      <td>non-personal info</td>\n",
       "    </tr>\n",
       "    <tr>\n",
       "      <th>83</th>\n",
       "      <td>passenger_count</td>\n",
       "      <td>personal</td>\n",
       "      <td>non-personal</td>\n",
       "      <td>vowel</td>\n",
       "      <td>non-personal info</td>\n",
       "    </tr>\n",
       "    <tr>\n",
       "      <th>84</th>\n",
       "      <td>extra</td>\n",
       "      <td>personal</td>\n",
       "      <td>non-personal</td>\n",
       "      <td>vowel</td>\n",
       "      <td>non-personal info</td>\n",
       "    </tr>\n",
       "    <tr>\n",
       "      <th>85</th>\n",
       "      <td>mta_tax</td>\n",
       "      <td>personal</td>\n",
       "      <td>non-personal</td>\n",
       "      <td>vowel</td>\n",
       "      <td>non-personal info</td>\n",
       "    </tr>\n",
       "    <tr>\n",
       "      <th>86</th>\n",
       "      <td>tolls_amount</td>\n",
       "      <td>personal</td>\n",
       "      <td>non-personal</td>\n",
       "      <td>vowel</td>\n",
       "      <td>non-personal info</td>\n",
       "    </tr>\n",
       "    <tr>\n",
       "      <th>87</th>\n",
       "      <td>improvement_surcharge</td>\n",
       "      <td>personal</td>\n",
       "      <td>non-personal</td>\n",
       "      <td>vowel</td>\n",
       "      <td>non-personal info</td>\n",
       "    </tr>\n",
       "    <tr>\n",
       "      <th>89</th>\n",
       "      <td>trip_type</td>\n",
       "      <td>personal</td>\n",
       "      <td>non-personal</td>\n",
       "      <td>echoMonths</td>\n",
       "      <td>non-personal info</td>\n",
       "    </tr>\n",
       "    <tr>\n",
       "      <th>103</th>\n",
       "      <td>binaryClass.1</td>\n",
       "      <td>personal</td>\n",
       "      <td>non-personal</td>\n",
       "      <td>Marvel_Movies_Dataset</td>\n",
       "      <td>personal info</td>\n",
       "    </tr>\n",
       "    <tr>\n",
       "      <th>115</th>\n",
       "      <td>quality</td>\n",
       "      <td>personal</td>\n",
       "      <td>non-personal</td>\n",
       "      <td>Marvel_Movies_Dataset</td>\n",
       "      <td>personal info</td>\n",
       "    </tr>\n",
       "  </tbody>\n",
       "</table>\n",
       "</div>"
      ],
      "text/plain": [
       "                    Column Prediction    True Label  \\\n",
       "24                 Species   personal  non-personal   \n",
       "30                     Sex   personal  non-personal   \n",
       "31             binaryClass   personal  non-personal   \n",
       "32                       X   personal  non-personal   \n",
       "33                       Y   personal  non-personal   \n",
       "43                    rain   personal  non-personal   \n",
       "44                    area   personal  non-personal   \n",
       "50              Bid_Volume   personal  non-personal   \n",
       "55              Ask_Volume   personal  non-personal   \n",
       "56                   Class   personal  non-personal   \n",
       "60             Petal.Width   personal  non-personal   \n",
       "61               Species.1   personal  non-personal   \n",
       "80                VendorID   personal  non-personal   \n",
       "81      store_and_fwd_flag   personal  non-personal   \n",
       "82              RatecodeID   personal  non-personal   \n",
       "83         passenger_count   personal  non-personal   \n",
       "84                   extra   personal  non-personal   \n",
       "85                 mta_tax   personal  non-personal   \n",
       "86            tolls_amount   personal  non-personal   \n",
       "87   improvement_surcharge   personal  non-personal   \n",
       "89               trip_type   personal  non-personal   \n",
       "103          binaryClass.1   personal  non-personal   \n",
       "115                quality   personal  non-personal   \n",
       "\n",
       "                        Dataset       Dataset Type  \n",
       "24   Avocado-Prices-(Augmented)  non-personal info  \n",
       "30                 wine_quality      personal info  \n",
       "31                 wine_quality      personal info  \n",
       "32                 wine_quality      personal info  \n",
       "33                 wine_quality      personal info  \n",
       "43      nyc-taxi-green-dec-2016      personal info  \n",
       "44      nyc-taxi-green-dec-2016      personal info  \n",
       "50    FOREX_chfjpy-minute-Close           pii info  \n",
       "55    FOREX_chfjpy-minute-Close           pii info  \n",
       "56    FOREX_chfjpy-minute-Close           pii info  \n",
       "60    FOREX_chfjpy-minute-Close           pii info  \n",
       "61    FOREX_chfjpy-minute-Close           pii info  \n",
       "80                        vowel  non-personal info  \n",
       "81                        vowel  non-personal info  \n",
       "82                        vowel  non-personal info  \n",
       "83                        vowel  non-personal info  \n",
       "84                        vowel  non-personal info  \n",
       "85                        vowel  non-personal info  \n",
       "86                        vowel  non-personal info  \n",
       "87                        vowel  non-personal info  \n",
       "89                   echoMonths  non-personal info  \n",
       "103       Marvel_Movies_Dataset      personal info  \n",
       "115       Marvel_Movies_Dataset      personal info  "
      ]
     },
     "execution_count": 48,
     "metadata": {},
     "output_type": "execute_result"
    }
   ],
   "source": [
    "#False positives\n",
    "results_df_test_openml_2.loc[(results_df_test_openml_2[\"True Label\"] == \"non-personal\") & (results_df_test_openml_2[\"Prediction\"] == \"personal\")]"
   ]
  },
  {
   "cell_type": "markdown",
   "metadata": {},
   "source": [
    "# Medical"
   ]
  },
  {
   "cell_type": "code",
   "execution_count": 49,
   "metadata": {},
   "outputs": [],
   "source": [
    "test_medical = pd.read_csv(\"../../datasets/freiburg-medical/test.csv\")\n",
    "test_medical_personal = pd.read_csv(\"../../datasets/freiburg-medical/test_labels_personal.csv\")"
   ]
  },
  {
   "cell_type": "code",
   "execution_count": 50,
   "metadata": {},
   "outputs": [],
   "source": [
    "medical_true = pd.read_csv(\"../CASSED_model_results/cassed_personal/medical/true.csv\")\n",
    "medical_pred = pd.read_csv(\"../CASSED_model_results/cassed_personal/medical/predicted.csv\")\n",
    "medical_target_names = pd.read_csv(\"../CASSED_model_results/cassed_personal/medical/target_names.csv\")\n",
    "medical_target_names = {a[1]: a[0] for a in medical_target_names[[\"0\", \"0.1\"]].values}\n",
    "medical_target_names[0] = \"no prediction\""
   ]
  },
  {
   "cell_type": "code",
   "execution_count": 51,
   "metadata": {},
   "outputs": [],
   "source": [
    "predictions, true = [], []\n",
    "for i in range(medical_true.shape[0]):\n",
    "    predictions.append([medical_target_names[e] for e, b in enumerate(medical_pred.iloc[i,:]) if b == 1])\n",
    "    true.append([medical_target_names[e] for e, b in enumerate(medical_true.iloc[i,:]) if b == 1])\n",
    "true = [a[0] for a in true]\n",
    "predictions = [a[0] for a in predictions]"
   ]
  },
  {
   "cell_type": "code",
   "execution_count": 52,
   "metadata": {},
   "outputs": [
    {
     "data": {
      "application/vnd.plotly.v1+json": {
       "config": {
        "plotlyServerURL": "https://plot.ly"
       },
       "data": [
        {
         "showlegend": false,
         "type": "bar",
         "x": [
          "weighted Precision",
          "weighted Recall",
          "weighted F1 Score",
          "Accuracy"
         ],
         "xaxis": "x",
         "y": [
          1,
          0.75,
          0.8571428571428571,
          0.75
         ],
         "yaxis": "y"
        },
        {
         "colorscale": [
          [
           0,
           "rgb(247,251,255)"
          ],
          [
           0.125,
           "rgb(222,235,247)"
          ],
          [
           0.25,
           "rgb(198,219,239)"
          ],
          [
           0.375,
           "rgb(158,202,225)"
          ],
          [
           0.5,
           "rgb(107,174,214)"
          ],
          [
           0.625,
           "rgb(66,146,198)"
          ],
          [
           0.75,
           "rgb(33,113,181)"
          ],
          [
           0.875,
           "rgb(8,81,156)"
          ],
          [
           1,
           "rgb(8,48,107)"
          ]
         ],
         "showscale": false,
         "text": [
          [
           "24<br>0.75",
           "8<br>0.25"
          ],
          [
           "0<br>0.00",
           "0<br>0.00"
          ]
         ],
         "textfont": {
          "size": 20
         },
         "texttemplate": "%{text}",
         "type": "heatmap",
         "x": [
          "Pred: personal",
          "Pred: non-personal"
         ],
         "xaxis": "x2",
         "y": [
          "True: personal",
          "True: non-personal"
         ],
         "yaxis": "y2",
         "z": [
          [
           24,
           8
          ],
          [
           0,
           0
          ]
         ]
        }
       ],
       "layout": {
        "annotations": [
         {
          "font": {
           "size": 16
          },
          "showarrow": false,
          "text": "Evaluation Metrics",
          "x": 0.225,
          "xanchor": "center",
          "xref": "paper",
          "y": 1,
          "yanchor": "bottom",
          "yref": "paper"
         },
         {
          "font": {
           "size": 16
          },
          "showarrow": false,
          "text": "Confusion Matrix",
          "x": 0.775,
          "xanchor": "center",
          "xref": "paper",
          "y": 1,
          "yanchor": "bottom",
          "yref": "paper"
         }
        ],
        "height": 500,
        "showlegend": false,
        "template": {
         "data": {
          "bar": [
           {
            "error_x": {
             "color": "#2a3f5f"
            },
            "error_y": {
             "color": "#2a3f5f"
            },
            "marker": {
             "line": {
              "color": "#E5ECF6",
              "width": 0.5
             },
             "pattern": {
              "fillmode": "overlay",
              "size": 10,
              "solidity": 0.2
             }
            },
            "type": "bar"
           }
          ],
          "barpolar": [
           {
            "marker": {
             "line": {
              "color": "#E5ECF6",
              "width": 0.5
             },
             "pattern": {
              "fillmode": "overlay",
              "size": 10,
              "solidity": 0.2
             }
            },
            "type": "barpolar"
           }
          ],
          "carpet": [
           {
            "aaxis": {
             "endlinecolor": "#2a3f5f",
             "gridcolor": "white",
             "linecolor": "white",
             "minorgridcolor": "white",
             "startlinecolor": "#2a3f5f"
            },
            "baxis": {
             "endlinecolor": "#2a3f5f",
             "gridcolor": "white",
             "linecolor": "white",
             "minorgridcolor": "white",
             "startlinecolor": "#2a3f5f"
            },
            "type": "carpet"
           }
          ],
          "choropleth": [
           {
            "colorbar": {
             "outlinewidth": 0,
             "ticks": ""
            },
            "type": "choropleth"
           }
          ],
          "contour": [
           {
            "colorbar": {
             "outlinewidth": 0,
             "ticks": ""
            },
            "colorscale": [
             [
              0,
              "#0d0887"
             ],
             [
              0.1111111111111111,
              "#46039f"
             ],
             [
              0.2222222222222222,
              "#7201a8"
             ],
             [
              0.3333333333333333,
              "#9c179e"
             ],
             [
              0.4444444444444444,
              "#bd3786"
             ],
             [
              0.5555555555555556,
              "#d8576b"
             ],
             [
              0.6666666666666666,
              "#ed7953"
             ],
             [
              0.7777777777777778,
              "#fb9f3a"
             ],
             [
              0.8888888888888888,
              "#fdca26"
             ],
             [
              1,
              "#f0f921"
             ]
            ],
            "type": "contour"
           }
          ],
          "contourcarpet": [
           {
            "colorbar": {
             "outlinewidth": 0,
             "ticks": ""
            },
            "type": "contourcarpet"
           }
          ],
          "heatmap": [
           {
            "colorbar": {
             "outlinewidth": 0,
             "ticks": ""
            },
            "colorscale": [
             [
              0,
              "#0d0887"
             ],
             [
              0.1111111111111111,
              "#46039f"
             ],
             [
              0.2222222222222222,
              "#7201a8"
             ],
             [
              0.3333333333333333,
              "#9c179e"
             ],
             [
              0.4444444444444444,
              "#bd3786"
             ],
             [
              0.5555555555555556,
              "#d8576b"
             ],
             [
              0.6666666666666666,
              "#ed7953"
             ],
             [
              0.7777777777777778,
              "#fb9f3a"
             ],
             [
              0.8888888888888888,
              "#fdca26"
             ],
             [
              1,
              "#f0f921"
             ]
            ],
            "type": "heatmap"
           }
          ],
          "heatmapgl": [
           {
            "colorbar": {
             "outlinewidth": 0,
             "ticks": ""
            },
            "colorscale": [
             [
              0,
              "#0d0887"
             ],
             [
              0.1111111111111111,
              "#46039f"
             ],
             [
              0.2222222222222222,
              "#7201a8"
             ],
             [
              0.3333333333333333,
              "#9c179e"
             ],
             [
              0.4444444444444444,
              "#bd3786"
             ],
             [
              0.5555555555555556,
              "#d8576b"
             ],
             [
              0.6666666666666666,
              "#ed7953"
             ],
             [
              0.7777777777777778,
              "#fb9f3a"
             ],
             [
              0.8888888888888888,
              "#fdca26"
             ],
             [
              1,
              "#f0f921"
             ]
            ],
            "type": "heatmapgl"
           }
          ],
          "histogram": [
           {
            "marker": {
             "pattern": {
              "fillmode": "overlay",
              "size": 10,
              "solidity": 0.2
             }
            },
            "type": "histogram"
           }
          ],
          "histogram2d": [
           {
            "colorbar": {
             "outlinewidth": 0,
             "ticks": ""
            },
            "colorscale": [
             [
              0,
              "#0d0887"
             ],
             [
              0.1111111111111111,
              "#46039f"
             ],
             [
              0.2222222222222222,
              "#7201a8"
             ],
             [
              0.3333333333333333,
              "#9c179e"
             ],
             [
              0.4444444444444444,
              "#bd3786"
             ],
             [
              0.5555555555555556,
              "#d8576b"
             ],
             [
              0.6666666666666666,
              "#ed7953"
             ],
             [
              0.7777777777777778,
              "#fb9f3a"
             ],
             [
              0.8888888888888888,
              "#fdca26"
             ],
             [
              1,
              "#f0f921"
             ]
            ],
            "type": "histogram2d"
           }
          ],
          "histogram2dcontour": [
           {
            "colorbar": {
             "outlinewidth": 0,
             "ticks": ""
            },
            "colorscale": [
             [
              0,
              "#0d0887"
             ],
             [
              0.1111111111111111,
              "#46039f"
             ],
             [
              0.2222222222222222,
              "#7201a8"
             ],
             [
              0.3333333333333333,
              "#9c179e"
             ],
             [
              0.4444444444444444,
              "#bd3786"
             ],
             [
              0.5555555555555556,
              "#d8576b"
             ],
             [
              0.6666666666666666,
              "#ed7953"
             ],
             [
              0.7777777777777778,
              "#fb9f3a"
             ],
             [
              0.8888888888888888,
              "#fdca26"
             ],
             [
              1,
              "#f0f921"
             ]
            ],
            "type": "histogram2dcontour"
           }
          ],
          "mesh3d": [
           {
            "colorbar": {
             "outlinewidth": 0,
             "ticks": ""
            },
            "type": "mesh3d"
           }
          ],
          "parcoords": [
           {
            "line": {
             "colorbar": {
              "outlinewidth": 0,
              "ticks": ""
             }
            },
            "type": "parcoords"
           }
          ],
          "pie": [
           {
            "automargin": true,
            "type": "pie"
           }
          ],
          "scatter": [
           {
            "fillpattern": {
             "fillmode": "overlay",
             "size": 10,
             "solidity": 0.2
            },
            "type": "scatter"
           }
          ],
          "scatter3d": [
           {
            "line": {
             "colorbar": {
              "outlinewidth": 0,
              "ticks": ""
             }
            },
            "marker": {
             "colorbar": {
              "outlinewidth": 0,
              "ticks": ""
             }
            },
            "type": "scatter3d"
           }
          ],
          "scattercarpet": [
           {
            "marker": {
             "colorbar": {
              "outlinewidth": 0,
              "ticks": ""
             }
            },
            "type": "scattercarpet"
           }
          ],
          "scattergeo": [
           {
            "marker": {
             "colorbar": {
              "outlinewidth": 0,
              "ticks": ""
             }
            },
            "type": "scattergeo"
           }
          ],
          "scattergl": [
           {
            "marker": {
             "colorbar": {
              "outlinewidth": 0,
              "ticks": ""
             }
            },
            "type": "scattergl"
           }
          ],
          "scattermapbox": [
           {
            "marker": {
             "colorbar": {
              "outlinewidth": 0,
              "ticks": ""
             }
            },
            "type": "scattermapbox"
           }
          ],
          "scatterpolar": [
           {
            "marker": {
             "colorbar": {
              "outlinewidth": 0,
              "ticks": ""
             }
            },
            "type": "scatterpolar"
           }
          ],
          "scatterpolargl": [
           {
            "marker": {
             "colorbar": {
              "outlinewidth": 0,
              "ticks": ""
             }
            },
            "type": "scatterpolargl"
           }
          ],
          "scatterternary": [
           {
            "marker": {
             "colorbar": {
              "outlinewidth": 0,
              "ticks": ""
             }
            },
            "type": "scatterternary"
           }
          ],
          "surface": [
           {
            "colorbar": {
             "outlinewidth": 0,
             "ticks": ""
            },
            "colorscale": [
             [
              0,
              "#0d0887"
             ],
             [
              0.1111111111111111,
              "#46039f"
             ],
             [
              0.2222222222222222,
              "#7201a8"
             ],
             [
              0.3333333333333333,
              "#9c179e"
             ],
             [
              0.4444444444444444,
              "#bd3786"
             ],
             [
              0.5555555555555556,
              "#d8576b"
             ],
             [
              0.6666666666666666,
              "#ed7953"
             ],
             [
              0.7777777777777778,
              "#fb9f3a"
             ],
             [
              0.8888888888888888,
              "#fdca26"
             ],
             [
              1,
              "#f0f921"
             ]
            ],
            "type": "surface"
           }
          ],
          "table": [
           {
            "cells": {
             "fill": {
              "color": "#EBF0F8"
             },
             "line": {
              "color": "white"
             }
            },
            "header": {
             "fill": {
              "color": "#C8D4E3"
             },
             "line": {
              "color": "white"
             }
            },
            "type": "table"
           }
          ]
         },
         "layout": {
          "annotationdefaults": {
           "arrowcolor": "#2a3f5f",
           "arrowhead": 0,
           "arrowwidth": 1
          },
          "autotypenumbers": "strict",
          "coloraxis": {
           "colorbar": {
            "outlinewidth": 0,
            "ticks": ""
           }
          },
          "colorscale": {
           "diverging": [
            [
             0,
             "#8e0152"
            ],
            [
             0.1,
             "#c51b7d"
            ],
            [
             0.2,
             "#de77ae"
            ],
            [
             0.3,
             "#f1b6da"
            ],
            [
             0.4,
             "#fde0ef"
            ],
            [
             0.5,
             "#f7f7f7"
            ],
            [
             0.6,
             "#e6f5d0"
            ],
            [
             0.7,
             "#b8e186"
            ],
            [
             0.8,
             "#7fbc41"
            ],
            [
             0.9,
             "#4d9221"
            ],
            [
             1,
             "#276419"
            ]
           ],
           "sequential": [
            [
             0,
             "#0d0887"
            ],
            [
             0.1111111111111111,
             "#46039f"
            ],
            [
             0.2222222222222222,
             "#7201a8"
            ],
            [
             0.3333333333333333,
             "#9c179e"
            ],
            [
             0.4444444444444444,
             "#bd3786"
            ],
            [
             0.5555555555555556,
             "#d8576b"
            ],
            [
             0.6666666666666666,
             "#ed7953"
            ],
            [
             0.7777777777777778,
             "#fb9f3a"
            ],
            [
             0.8888888888888888,
             "#fdca26"
            ],
            [
             1,
             "#f0f921"
            ]
           ],
           "sequentialminus": [
            [
             0,
             "#0d0887"
            ],
            [
             0.1111111111111111,
             "#46039f"
            ],
            [
             0.2222222222222222,
             "#7201a8"
            ],
            [
             0.3333333333333333,
             "#9c179e"
            ],
            [
             0.4444444444444444,
             "#bd3786"
            ],
            [
             0.5555555555555556,
             "#d8576b"
            ],
            [
             0.6666666666666666,
             "#ed7953"
            ],
            [
             0.7777777777777778,
             "#fb9f3a"
            ],
            [
             0.8888888888888888,
             "#fdca26"
            ],
            [
             1,
             "#f0f921"
            ]
           ]
          },
          "colorway": [
           "#636efa",
           "#EF553B",
           "#00cc96",
           "#ab63fa",
           "#FFA15A",
           "#19d3f3",
           "#FF6692",
           "#B6E880",
           "#FF97FF",
           "#FECB52"
          ],
          "font": {
           "color": "#2a3f5f"
          },
          "geo": {
           "bgcolor": "white",
           "lakecolor": "white",
           "landcolor": "#E5ECF6",
           "showlakes": true,
           "showland": true,
           "subunitcolor": "white"
          },
          "hoverlabel": {
           "align": "left"
          },
          "hovermode": "closest",
          "mapbox": {
           "style": "light"
          },
          "paper_bgcolor": "white",
          "plot_bgcolor": "#E5ECF6",
          "polar": {
           "angularaxis": {
            "gridcolor": "white",
            "linecolor": "white",
            "ticks": ""
           },
           "bgcolor": "#E5ECF6",
           "radialaxis": {
            "gridcolor": "white",
            "linecolor": "white",
            "ticks": ""
           }
          },
          "scene": {
           "xaxis": {
            "backgroundcolor": "#E5ECF6",
            "gridcolor": "white",
            "gridwidth": 2,
            "linecolor": "white",
            "showbackground": true,
            "ticks": "",
            "zerolinecolor": "white"
           },
           "yaxis": {
            "backgroundcolor": "#E5ECF6",
            "gridcolor": "white",
            "gridwidth": 2,
            "linecolor": "white",
            "showbackground": true,
            "ticks": "",
            "zerolinecolor": "white"
           },
           "zaxis": {
            "backgroundcolor": "#E5ECF6",
            "gridcolor": "white",
            "gridwidth": 2,
            "linecolor": "white",
            "showbackground": true,
            "ticks": "",
            "zerolinecolor": "white"
           }
          },
          "shapedefaults": {
           "line": {
            "color": "#2a3f5f"
           }
          },
          "ternary": {
           "aaxis": {
            "gridcolor": "white",
            "linecolor": "white",
            "ticks": ""
           },
           "baxis": {
            "gridcolor": "white",
            "linecolor": "white",
            "ticks": ""
           },
           "bgcolor": "#E5ECF6",
           "caxis": {
            "gridcolor": "white",
            "linecolor": "white",
            "ticks": ""
           }
          },
          "title": {
           "x": 0.05
          },
          "xaxis": {
           "automargin": true,
           "gridcolor": "white",
           "linecolor": "white",
           "ticks": "",
           "title": {
            "standoff": 15
           },
           "zerolinecolor": "white",
           "zerolinewidth": 2
          },
          "yaxis": {
           "automargin": true,
           "gridcolor": "white",
           "linecolor": "white",
           "ticks": "",
           "title": {
            "standoff": 15
           },
           "zerolinecolor": "white",
           "zerolinewidth": 2
          }
         }
        },
        "title": {
         "text": "Confusion Matrix and Evaluation Metrics"
        },
        "width": 1000,
        "xaxis": {
         "anchor": "y",
         "domain": [
          0,
          0.45
         ]
        },
        "xaxis2": {
         "anchor": "y2",
         "domain": [
          0.55,
          1
         ]
        },
        "yaxis": {
         "anchor": "x",
         "domain": [
          0,
          1
         ],
         "range": [
          0,
          1.1
         ]
        },
        "yaxis2": {
         "anchor": "x2",
         "domain": [
          0,
          1
         ]
        }
       }
      }
     },
     "metadata": {},
     "output_type": "display_data"
    }
   ],
   "source": [
    "y_true = true\n",
    "y_pred = predictions\n",
    "y_true_bin = [1 if label == \"personal\" else 0 for label in y_true]\n",
    "y_pred_bin = [1 if label == \"personal\" else 0 for label in y_pred]\n",
    "\n",
    "cm = confusion_matrix(y_true, y_pred, labels=[\"personal\", \"non-personal\"])\n",
    "cm_norm = confusion_matrix(y_true, y_pred, labels=[\"personal\", \"non-personal\"], normalize=\"true\")\n",
    "\n",
    "accuracy = accuracy_score(y_true, y_pred)\n",
    "f1 = f1_score(y_true, y_pred, average=\"weighted\")\n",
    "precision = precision_score(y_true, y_pred, average=\"weighted\", zero_division=0)\n",
    "recall = recall_score(y_true, y_pred, average=\"weighted\", zero_division=0)\n",
    "\n",
    "fig = make_subplots(\n",
    "    rows=1, cols=2, \n",
    "    subplot_titles=[\"Evaluation Metrics\", \"Confusion Matrix\"]\n",
    ")\n",
    "\n",
    "metrics = {\n",
    "    \"weighted Precision\": precision,\n",
    "    \"weighted Recall\": recall,\n",
    "    \"weighted F1 Score\": f1,\n",
    "    \"Accuracy\": accuracy\n",
    "}\n",
    "\n",
    "fig.add_trace(go.Bar(\n",
    "    x=list(metrics.keys()),\n",
    "    y=list(metrics.values()), \n",
    "    showlegend=False\n",
    "), row=1, col=1)\n",
    "\n",
    "text_values = [\n",
    "    [f\"{cm[0,0]}<br>{cm_norm[0,0]:.2f}\", f\"{cm[0,1]}<br>{cm_norm[0,1]:.2f}\"],\n",
    "    [f\"{cm[1,0]}<br>{cm_norm[1,0]:.2f}\", f\"{cm[1,1]}<br>{cm_norm[1,1]:.2f}\"]\n",
    "]\n",
    "cm_heatmap = go.Heatmap(\n",
    "    z=cm, \n",
    "    x=[\"Pred: personal\", \"Pred: non-personal\"], \n",
    "    y=[\"True: personal\", \"True: non-personal\"], \n",
    "    colorscale=\"Blues\", \n",
    "    showscale=False,\n",
    "    text=text_values, \n",
    "    texttemplate=\"%{text}\",\n",
    "    textfont={\"size\":20},\n",
    ")\n",
    "\n",
    "\n",
    "fig.add_trace(cm_heatmap, row=1, col=2)\n",
    "\n",
    "fig.update_layout(\n",
    "    title=\"Confusion Matrix and Evaluation Metrics\",\n",
    "    height=500, \n",
    "    width=1000,\n",
    "    showlegend=False\n",
    ")\n",
    "fig.update_yaxes(range=[0, 1.1], row=1, col=1)\n",
    "\n",
    "fig.show()"
   ]
  },
  {
   "cell_type": "code",
   "execution_count": 53,
   "metadata": {},
   "outputs": [],
   "source": [
    "results_df_test_medical = pd.DataFrame({\n",
    "    \"Column\": test_medical.columns,\n",
    "    \"Prediction\": predictions,\n",
    "    \"True Label\": test_medical_personal[\"label\"].values\n",
    "})"
   ]
  },
  {
   "cell_type": "code",
   "execution_count": 54,
   "metadata": {},
   "outputs": [
    {
     "data": {
      "text/html": [
       "<div>\n",
       "<style scoped>\n",
       "    .dataframe tbody tr th:only-of-type {\n",
       "        vertical-align: middle;\n",
       "    }\n",
       "\n",
       "    .dataframe tbody tr th {\n",
       "        vertical-align: top;\n",
       "    }\n",
       "\n",
       "    .dataframe thead th {\n",
       "        text-align: right;\n",
       "    }\n",
       "</style>\n",
       "<table border=\"1\" class=\"dataframe\">\n",
       "  <thead>\n",
       "    <tr style=\"text-align: right;\">\n",
       "      <th></th>\n",
       "      <th>Column</th>\n",
       "      <th>Prediction</th>\n",
       "      <th>True Label</th>\n",
       "    </tr>\n",
       "  </thead>\n",
       "  <tbody>\n",
       "    <tr>\n",
       "      <th>2</th>\n",
       "      <td>admission_type</td>\n",
       "      <td>non-personal</td>\n",
       "      <td>personal</td>\n",
       "    </tr>\n",
       "    <tr>\n",
       "      <th>5</th>\n",
       "      <td>birth_date</td>\n",
       "      <td>non-personal</td>\n",
       "      <td>personal</td>\n",
       "    </tr>\n",
       "    <tr>\n",
       "      <th>14</th>\n",
       "      <td>first_operation_code</td>\n",
       "      <td>non-personal</td>\n",
       "      <td>personal</td>\n",
       "    </tr>\n",
       "    <tr>\n",
       "      <th>20</th>\n",
       "      <td>any_grouped_medication</td>\n",
       "      <td>non-personal</td>\n",
       "      <td>personal</td>\n",
       "    </tr>\n",
       "    <tr>\n",
       "      <th>22</th>\n",
       "      <td>age_at_visit</td>\n",
       "      <td>non-personal</td>\n",
       "      <td>personal</td>\n",
       "    </tr>\n",
       "    <tr>\n",
       "      <th>23</th>\n",
       "      <td>total_number_operations</td>\n",
       "      <td>non-personal</td>\n",
       "      <td>personal</td>\n",
       "    </tr>\n",
       "    <tr>\n",
       "      <th>24</th>\n",
       "      <td>total_opeartion_duration</td>\n",
       "      <td>non-personal</td>\n",
       "      <td>personal</td>\n",
       "    </tr>\n",
       "    <tr>\n",
       "      <th>26</th>\n",
       "      <td>major_surgery_duration</td>\n",
       "      <td>non-personal</td>\n",
       "      <td>personal</td>\n",
       "    </tr>\n",
       "  </tbody>\n",
       "</table>\n",
       "</div>"
      ],
      "text/plain": [
       "                      Column    Prediction True Label\n",
       "2             admission_type  non-personal   personal\n",
       "5                 birth_date  non-personal   personal\n",
       "14      first_operation_code  non-personal   personal\n",
       "20    any_grouped_medication  non-personal   personal\n",
       "22              age_at_visit  non-personal   personal\n",
       "23   total_number_operations  non-personal   personal\n",
       "24  total_opeartion_duration  non-personal   personal\n",
       "26    major_surgery_duration  non-personal   personal"
      ]
     },
     "execution_count": 54,
     "metadata": {},
     "output_type": "execute_result"
    }
   ],
   "source": [
    "#False negatives\n",
    "results_df_test_medical.loc[(results_df_test_medical[\"True Label\"] == \"personal\") & (results_df_test_medical[\"Prediction\"] == \"non-personal\")]"
   ]
  },
  {
   "cell_type": "code",
   "execution_count": 55,
   "metadata": {},
   "outputs": [
    {
     "data": {
      "text/html": [
       "<div>\n",
       "<style scoped>\n",
       "    .dataframe tbody tr th:only-of-type {\n",
       "        vertical-align: middle;\n",
       "    }\n",
       "\n",
       "    .dataframe tbody tr th {\n",
       "        vertical-align: top;\n",
       "    }\n",
       "\n",
       "    .dataframe thead th {\n",
       "        text-align: right;\n",
       "    }\n",
       "</style>\n",
       "<table border=\"1\" class=\"dataframe\">\n",
       "  <thead>\n",
       "    <tr style=\"text-align: right;\">\n",
       "      <th></th>\n",
       "      <th>Column</th>\n",
       "      <th>Prediction</th>\n",
       "      <th>True Label</th>\n",
       "    </tr>\n",
       "  </thead>\n",
       "  <tbody>\n",
       "  </tbody>\n",
       "</table>\n",
       "</div>"
      ],
      "text/plain": [
       "Empty DataFrame\n",
       "Columns: [Column, Prediction, True Label]\n",
       "Index: []"
      ]
     },
     "execution_count": 55,
     "metadata": {},
     "output_type": "execute_result"
    }
   ],
   "source": [
    "#False positives\n",
    "results_df_test_medical.loc[(results_df_test_medical[\"True Label\"] == \"non-personal\") & (results_df_test_medical[\"Prediction\"] == \"personal\")]"
   ]
  },
  {
   "cell_type": "code",
   "execution_count": null,
   "metadata": {},
   "outputs": [],
   "source": []
  },
  {
   "cell_type": "code",
   "execution_count": null,
   "metadata": {},
   "outputs": [],
   "source": []
  },
  {
   "cell_type": "code",
   "execution_count": null,
   "metadata": {},
   "outputs": [],
   "source": []
  }
 ],
 "metadata": {
  "kernelspec": {
   "display_name": "base",
   "language": "python",
   "name": "python3"
  },
  "language_info": {
   "codemirror_mode": {
    "name": "ipython",
    "version": 3
   },
   "file_extension": ".py",
   "mimetype": "text/x-python",
   "name": "python",
   "nbconvert_exporter": "python",
   "pygments_lexer": "ipython3",
   "version": "3.11.7"
  }
 },
 "nbformat": 4,
 "nbformat_minor": 2
}
