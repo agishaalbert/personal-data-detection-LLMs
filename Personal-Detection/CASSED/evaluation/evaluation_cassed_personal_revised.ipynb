{
 "cells": [
  {
   "cell_type": "code",
   "execution_count": 147,
   "metadata": {},
   "outputs": [],
   "source": [
    "import pandas as pd\n",
    "import plotly.graph_objects as go\n",
    "import re\n",
    "import numpy as np\n",
    "from sklearn.metrics import confusion_matrix, accuracy_score, f1_score, precision_score, roc_auc_score, recall_score, ConfusionMatrixDisplay, classification_report,balanced_accuracy_score\n",
    "from plotly.subplots import make_subplots\n",
    "import os"
   ]
  },
  {
   "cell_type": "code",
   "execution_count": null,
   "metadata": {},
   "outputs": [],
   "source": []
  },
  {
   "cell_type": "code",
   "execution_count": 148,
   "metadata": {},
   "outputs": [],
   "source": [
    "# own_data = pd.read_csv(\"../../datasets/dessi-mf/dessi-mf/test.csv\")\n",
    "# own_data_personal = pd.read_csv(\"../../datasets/dessi-mf/dessi-mf/test_labels_personal.csv\")\n",
    "# own_data_classes = pd.read_csv(\"../../datasets/dessi-mf/dessi-mf/test_classes.csv\")\n",
    "# own_data_datasets = pd.read_csv(\"../../datasets/dessi-mf/dessi-mf/test_dataset.csv\")"
   ]
  },
  {
   "cell_type": "code",
   "execution_count": 149,
   "metadata": {},
   "outputs": [],
   "source": [
    "def extract_prediction(i, predictions):\n",
    "    list_extractor = re.compile(r\"([a-zA-Z0-9\\-]+)\\s*\\(\\d+(\\.\\d+)?\\)\")\n",
    "    matches = list_extractor.findall(predictions.iloc[i, :].values[0])\n",
    "    return [match[0] for match in matches]\n",
    "\n",
    "\n",
    "def convert_predictions(predictions):\n",
    "    column_names = []\n",
    "    gold_list = []\n",
    "    pred_list = []\n",
    "    mismatch = []\n",
    "    column_names.append(predictions.columns[0].split(\". \")[0].strip())\n",
    "\n",
    "    height = predictions.shape[0]\n",
    "\n",
    "    for i in range(height):\n",
    "        if 'Gold:' in predictions.iloc[i, :].values[0][:10]:\n",
    "            gold_list.append(str(extract_prediction(i, predictions))[2:-2])\n",
    "        elif 'Pred:' in predictions.iloc[i, :].values[0][:10]:\n",
    "            pred_list.append(str(extract_prediction(i, predictions))[2:-2])\n",
    "            if i == height-1:\n",
    "                mismatch.append(\"No Mismatch\")\n",
    "                break\n",
    "            if 'MISMATCH' in predictions.iloc[i+1, :].values[0][:20]:\n",
    "                mismatch.append(\"Mismatch\")\n",
    "            else:\n",
    "                mismatch.append(\"No Mismatch\")\n",
    "        elif 'MISMATCH' not in predictions.iloc[i, :].values[0][:20]:\n",
    "            column_names.append(predictions.iloc[i, :].values[0].split('. ')[0].strip())\n",
    "            \n",
    "    df = pd.DataFrame({\n",
    "        'Name': column_names,\n",
    "        'Gold': gold_list,\n",
    "        'Pred': pred_list,\n",
    "        'Mismatch': mismatch\n",
    "    })\n",
    "    return df"
   ]
  },
  {
   "cell_type": "code",
   "execution_count": 150,
   "metadata": {},
   "outputs": [],
   "source": [
    "# results_own_data = pd.read_csv(\"../CASSED_model_results/cassed_personal/dessi-mf/test.tsv\", sep='\\t')\n",
    "# results_own_data = convert_predictions(results_own_data)"
   ]
  },
  {
   "cell_type": "code",
   "execution_count": 151,
   "metadata": {},
   "outputs": [],
   "source": [
    "def plot_cassed_results(y_true,y_pred):\n",
    "    y_true_bin = [1 if label == \"personal\" else 0 for label in y_true]\n",
    "    y_pred_bin = [1 if label == \"personal\" else 0 for label in y_pred]\n",
    "\n",
    "    cm = confusion_matrix(y_true, y_pred, labels=[\"personal\", \"non-personal\"])\n",
    "    cm_norm = confusion_matrix(y_true, y_pred, labels=[\"personal\", \"non-personal\"], normalize=\"true\")\n",
    "\n",
    "    accuracy = accuracy_score(y_true, y_pred)\n",
    "    f1 = f1_score(y_true, y_pred,average=\"weighted\")\n",
    "    precision = precision_score(y_true, y_pred, average=\"weighted\", zero_division=0)\n",
    "    recall = recall_score(y_true, y_pred, average=\"weighted\")\n",
    "    auc_roc = roc_auc_score(y_true_bin, y_pred_bin)\n",
    "\n",
    "    fig = make_subplots(\n",
    "        rows=1, cols=2, \n",
    "        subplot_titles=[\"Evaluation Metrics\", \"Confusion Matrix\"]\n",
    "    )\n",
    "\n",
    "    metrics = {\n",
    "        \"weighted Precision\": precision,\n",
    "        \"weighted Recall\": recall,\n",
    "        \"weighted F1 Score\": f1,\n",
    "        \"Accuracy\": accuracy,\n",
    "        \"AUC-ROC\": auc_roc\n",
    "    }\n",
    "\n",
    "    fig.add_trace(go.Bar(\n",
    "        x=list(metrics.keys()),\n",
    "        y=list(metrics.values()), \n",
    "        showlegend=False\n",
    "    ), row=1, col=1)\n",
    "\n",
    "    text_values = [\n",
    "        [f\"{cm[0,0]}<br>{cm_norm[0,0]:.2f}\", f\"{cm[0,1]}<br>{cm_norm[0,1]:.2f}\"],\n",
    "        [f\"{cm[1,0]}<br>{cm_norm[1,0]:.2f}\", f\"{cm[1,1]}<br>{cm_norm[1,1]:.2f}\"]\n",
    "    ]\n",
    "    cm_heatmap = go.Heatmap(\n",
    "        z=cm, \n",
    "        x=[\"Pred: personal\", \"Pred: non-personal\"], \n",
    "        y=[\"True: personal\", \"True: non-personal\"], \n",
    "        colorscale=\"Blues\", \n",
    "        showscale=False,\n",
    "        text=text_values, \n",
    "        texttemplate=\"%{text}\",\n",
    "        textfont={\"size\":20},\n",
    "    )\n",
    "\n",
    "\n",
    "    fig.add_trace(cm_heatmap, row=1, col=2)\n",
    "\n",
    "    fig.update_layout(\n",
    "        title=\"Confusion Matrix and Evaluation Metrics\",\n",
    "        height=500, \n",
    "        width=1000,\n",
    "        showlegend=False\n",
    "    )\n",
    "    fig.update_yaxes(range=[0, 1.1], row=1, col=1)\n",
    "\n",
    "    fig.show()\n"
   ]
  },
  {
   "cell_type": "code",
   "execution_count": 152,
   "metadata": {},
   "outputs": [],
   "source": [
    "# results_df_own_data = pd.DataFrame({\n",
    "#     \"Column\": results_own_data[\"Name\"],\n",
    "#     \"Prediction\": results_own_data[\"Pred\"],\n",
    "#     \"True Label\": results_own_data[\"Gold\"],\n",
    "#     \"Classes\": own_data_classes[\"class\"],\n",
    "#     \"Dataset\": own_data_datasets[\"dataset\"]\n",
    "# })"
   ]
  },
  {
   "cell_type": "code",
   "execution_count": 153,
   "metadata": {},
   "outputs": [],
   "source": [
    "# plot_cassed_results(results_own_data[\"Gold\"], results_own_data[\"Pred\"])"
   ]
  },
  {
   "cell_type": "code",
   "execution_count": 154,
   "metadata": {},
   "outputs": [],
   "source": [
    "# #False negatives\n",
    "# results_df_own_data.loc[(results_df_own_data[\"True Label\"] == \"personal\") & (results_df_own_data[\"Prediction\"] == \"non-personal\")]"
   ]
  },
  {
   "cell_type": "code",
   "execution_count": 155,
   "metadata": {},
   "outputs": [],
   "source": [
    "# #False positives\n",
    "# results_df_own_data.loc[(results_df_own_data[\"True Label\"] == \"non-personal\") & (results_df_own_data[\"Prediction\"] == \"personal\")]"
   ]
  },
  {
   "cell_type": "code",
   "execution_count": 156,
   "metadata": {},
   "outputs": [],
   "source": [
    "# CLASS_NAMES = results_df_own_data[\"Classes\"].unique()\n",
    "# CLASS_NAMES = [a.lower().split(\"_\")[0] for a in CLASS_NAMES]\n",
    "\n",
    "# def is_valid_word(word):\n",
    "#     return word.lower().split(\"_\")[0] in CLASS_NAMES\n",
    "\n",
    "def create_analysis_plot(results_df, dataset=\"dessi-mf\"):\n",
    "    cla_new, lan = [], []\n",
    "    for i in range(len(results_df[\"Classes\"])):\n",
    "        if \"mixed\" in results_df.iloc[i, 3] or \"de_DE\" in results_df.iloc[i, 3] or \"fr_FR\" in results_df.iloc[i, 3]:\n",
    "            cla_new.append(results_df.iloc[i, 3][:-6])\n",
    "        elif \"_en\" in results_df.iloc[i, 3] or \"_de\" in results_df.iloc[i, 3] or \"_fr\" in results_df.iloc[i, 3] or \"_it\" in results_df.iloc[i,3\n",
    "                                                                        ] or \"_zh\" in results_df.iloc[i,3]:\n",
    "            cla_new.append(results_df.iloc[i, 3][:-3])\n",
    "        else:\n",
    "            cla_new.append(results_df.iloc[i, 3])\n",
    "            \n",
    "        if \"mixed\" in results_df.iloc[i, 3]:\n",
    "            lan.append(\"mixed language\")\n",
    "        elif \"_fr\" == results_df.iloc[i,3][-3:].lower():\n",
    "            lan.append(\"french\")\n",
    "        elif \"_it\" == results_df.iloc[i,3][-3:].lower():\n",
    "            lan.append(\"italian\")\n",
    "        elif \"_zh\" == results_df.iloc[i,3][-3:].lower():\n",
    "            lan.append(\"chinese\")\n",
    "        elif \"_de\" == results_df.iloc[i,3][-3:].lower():\n",
    "            lan.append(\"german\")\n",
    "        elif \"_en\" == results_df.iloc[i,3][-3:].lower():\n",
    "            lan.append(\"english\")\n",
    "        else:\n",
    "            lan.append(\"dessi data\")\n",
    "    results_df[\"Classes_new\"] = cla_new\n",
    "    results_df[\"Language\"] = lan\n",
    "    \n",
    "\n",
    "    accuracies_lan = {}\n",
    "    for i in results_df[\"Language\"].unique():\n",
    "        lan_df = results_df.loc[results_df[\"Language\"] == i]\n",
    "        accuracies_lan[i] = accuracy_score(lan_df[\"True Label\"], lan_df[\"Prediction\"])\n",
    "    accuracies_cla = {}\n",
    "    for i in results_df[\"Classes_new\"].unique():\n",
    "        cla_df = results_df.loc[results_df[\"Classes_new\"] == i]\n",
    "        accuracies_cla[i] = accuracy_score(cla_df[\"True Label\"], cla_df[\"Prediction\"])\n",
    "    accuracies_dat = {}\n",
    "    for i in results_df[\"Dataset\"].unique():\n",
    "        dat_df = results_df.loc[results_df[\"Dataset\"] == i]\n",
    "        accuracies_dat[i] = accuracy_score(dat_df[\"True Label\"], dat_df[\"Prediction\"])\n",
    "    accuracies_col = {}\n",
    "    ind = []\n",
    "    for i in range(results_df.shape[0]):\n",
    "        if is_valid_word(results_df.iloc[i, 0]):\n",
    "            ind.append(i)\n",
    "    accuracies_col[\"valid_col_names\"] = accuracy_score(results_df.iloc[ind, 2], results_df.iloc[ind, 1])\n",
    "    accuracies_col[\"invalid_col_names\"] = accuracy_score(results_df.iloc[[a for a in range(results_df.shape[0]) if a not in ind], 2], \n",
    "                                                        results_df.iloc[[a for a in range(results_df.shape[0]) if a not in ind], 1])\n",
    "\n",
    "    accuracies_cla = dict(sorted(accuracies_cla.items(), key=lambda item: item[1], reverse=True))\n",
    "    accuracies_lan = dict(sorted(accuracies_lan.items(), key=lambda item: item[1], reverse=True))\n",
    "    accuracies_col = dict(sorted(accuracies_col.items(), key=lambda item: item[1], reverse=True))\n",
    "    accuracies_dat = dict(sorted(accuracies_dat.items(), key=lambda item: item[1], reverse=True))\n",
    "\n",
    "\n",
    "    fig = make_subplots(rows=3, cols=1, subplot_titles=[\"Accuracy per Class\", \"Number of correct predictions per Class\", \"Number of false predictions per Class\"],\n",
    "                        shared_xaxes=True)\n",
    "    fig.add_trace(go.Bar(\n",
    "        x=list(accuracies_cla.keys()),\n",
    "        y=list(accuracies_cla.values()),\n",
    "        marker=dict(color=\"black\"),\n",
    "        showlegend=False\n",
    "    ))\n",
    "    \n",
    "    colors = [\n",
    "    \"#d62728\",  # Red (High Saturation)\n",
    "    \"#ff9896\",  # Red (Low Saturation)\n",
    "    \"#1f77b4\",  # Blue (High Saturation)\n",
    "    \"#aec7e8\",  # Blue (Low Saturation)\n",
    "    \"#ff7f0e\",  # Orange (High Saturation)\n",
    "    \"#ffbb78\",  # Orange (Low Saturation)\n",
    "    \"#2ca02c\",  # Green (High Saturation)\n",
    "    \"#98df8a\",  # Green (Low Saturation)\n",
    "    \"#9467bd\",  # Purple (High Saturation)\n",
    "    \"#c5b0d5\",  # Purple (Low Saturation)\n",
    "    ]\n",
    "\n",
    "    languages = ['english', 'french', 'german', 'mixed language', 'dessi data'] if dataset != \"two languages\" else [\"italian\", \"chinese\"]\n",
    "    for bool_val in [True, False]:\n",
    "        for e, language in enumerate(languages):\n",
    "            lan_df = results_df.loc[results_df[\"Language\"] == language]\n",
    "            accuracies_cla = {}\n",
    "            for ee, col_valid in enumerate([True, False]):\n",
    "                percentage_of_this_language = []\n",
    "                for i in lan_df[\"Classes_new\"].unique():\n",
    "                    cla_df = lan_df.loc[lan_df[\"Classes_new\"] == i]\n",
    "                    ind = []\n",
    "                    for j in range(cla_df.shape[0]):\n",
    "                        if is_valid_word(cla_df.iloc[j, 0]) == col_valid:\n",
    "                            ind.append(j)\n",
    "                    cla_df = cla_df.iloc[ind,:]\n",
    "                    percentage_of_this_language.append(cla_df.shape[0] / results_df.loc[results_df[\"Classes_new\"] == i].shape[0])\n",
    "                    accuracies_cla[i] = (cla_df[\"True Label\"] == cla_df[\"Prediction\"]).value_counts(normalize=True).get(bool_val, 0)\n",
    "                fig.add_trace(go.Bar(\n",
    "                    x=list(accuracies_cla.keys()),\n",
    "                    y=[a * b for a, b in zip(list(accuracies_cla.values()), percentage_of_this_language)],\n",
    "                    marker=dict(color=colors[2*e+ee]),\n",
    "                    name=f\"{language}_\" + (\"valid\" if col_valid == True else \"invalid\") + \"<br>column name\",\n",
    "                    showlegend=True if bool_val == True else False,\n",
    "                    legendgroup=2*e+ee\n",
    "                ), row=2 if bool_val == True else 3, col=1)\n",
    "    fig.update_layout(title=f\"Accuracy per Class for CASSED's personal Predictions on {dataset}\", width=1500, height=700, barmode=\"stack\")\n",
    "    fig.update_yaxes(title_text=\"Accuracy\", row=1, col=1)\n",
    "    fig.update_yaxes(title_text=\"Amount of<br>correct predictions\", row=2, col=1)\n",
    "    fig.update_yaxes(title_text=\"Amount of<br>false predictions\", row=3, col=1)\n",
    "    fig.show()\n",
    "\n",
    "    fig = make_subplots(\n",
    "        rows=1, cols=3, shared_yaxes=True,\n",
    "        subplot_titles=[\"Accuracy per Language\", \"Accuracy per Dataset\", \"Accuracy per Column Name\"]\n",
    "    )\n",
    "    fig.add_trace(go.Bar(\n",
    "        x=list(accuracies_lan.keys()),\n",
    "        y=list(accuracies_lan.values()),\n",
    "        showlegend=False\n",
    "    ), row=1, col=1)\n",
    "    fig.add_trace(go.Bar(\n",
    "        x=list(accuracies_dat.keys()),\n",
    "        y=list(accuracies_dat.values()),\n",
    "        showlegend=False\n",
    "    ), row=1, col=2)\n",
    "    fig.add_trace(go.Bar(\n",
    "        x=list(accuracies_col.keys()),\n",
    "        y=list(accuracies_col.values()),\n",
    "        showlegend=False\n",
    "    ), row=1, col=3)\n",
    "    fig.update_layout(width=900, height=500, title=f\"Accuracy of CASSED's personal Predictions on {dataset} with respect to different categories\")\n",
    "    fig.show()"
   ]
  },
  {
   "cell_type": "code",
   "execution_count": 157,
   "metadata": {},
   "outputs": [],
   "source": [
    "# create_analysis_plot(results_df_own_data)"
   ]
  },
  {
   "cell_type": "markdown",
   "metadata": {},
   "source": [
    "# Test two languages"
   ]
  },
  {
   "cell_type": "code",
   "execution_count": 158,
   "metadata": {},
   "outputs": [],
   "source": [
    "# test_lan = pd.read_csv(\"../../datasets/test_languages/test.csv\")\n",
    "# test_lan_personal = pd.read_csv(\"../../datasets/test_languages/test_labels_personal.csv\")\n",
    "# test_lan_classes = pd.read_csv(\"../../datasets/test_languages/test_classes.csv\")\n",
    "# test_lan_datasets = pd.read_csv(\"../../datasets/test_languages/test_dataset.csv\")"
   ]
  },
  {
   "cell_type": "code",
   "execution_count": 159,
   "metadata": {},
   "outputs": [],
   "source": [
    "# two_lan_true = pd.read_csv(\"../CASSED_model_results/cassed_personal/two_languages/true.csv\")\n",
    "# two_lan_pred = pd.read_csv(\"../CASSED_model_results/cassed_personal/two_languages/predicted.csv\")\n",
    "# two_lan_target_names = pd.read_csv(\"../CASSED_model_results/cassed_personal/two_languages/target_names.csv\")\n",
    "# two_lan_target_names = {a[1]: a[0] for a in two_lan_target_names[[\"0\", \"0.1\"]].values}\n",
    "# two_lan_target_names[0] = \"no prediction\""
   ]
  },
  {
   "cell_type": "code",
   "execution_count": 160,
   "metadata": {},
   "outputs": [],
   "source": [
    "# predictions, true = [], []\n",
    "# for i in range(two_lan_true.shape[0]):\n",
    "#     predictions.append([two_lan_target_names[e] for e, b in enumerate(two_lan_pred.iloc[i,:]) if b == 1])\n",
    "#     true.append([two_lan_target_names[e] for e, b in enumerate(two_lan_true.iloc[i,:]) if b == 1])\n",
    "# true = [a[0] for a in true]\n",
    "# predictions = [a[0] for a in predictions]"
   ]
  },
  {
   "cell_type": "code",
   "execution_count": 161,
   "metadata": {},
   "outputs": [],
   "source": [
    "# plot_cassed_results(true, predictions)"
   ]
  },
  {
   "cell_type": "code",
   "execution_count": 162,
   "metadata": {},
   "outputs": [],
   "source": [
    "# results_df_test_lan = pd.DataFrame({\n",
    "#     \"Column\": test_lan.columns,\n",
    "#     \"Prediction\": predictions,\n",
    "#     \"True Label\": test_lan_personal[\"label\"].values,\n",
    "#     \"Classes\": test_lan_classes[\"class\"],\n",
    "#     \"Dataset\": test_lan_datasets[\"dataset\"]\n",
    "# })"
   ]
  },
  {
   "cell_type": "code",
   "execution_count": 163,
   "metadata": {},
   "outputs": [],
   "source": [
    "# #False negatives\n",
    "# fn_df = results_df_test_lan.loc[(results_df_test_lan[\"True Label\"] == \"personal\") & (results_df_test_lan[\"Prediction\"] == \"non-personal\")]\n",
    "# fn_df"
   ]
  },
  {
   "cell_type": "code",
   "execution_count": 164,
   "metadata": {},
   "outputs": [],
   "source": [
    "# #False positives\n",
    "# results_df_test_lan.loc[(results_df_test_lan[\"True Label\"] == \"non-personal\") & (results_df_test_lan[\"Prediction\"] == \"personal\")]"
   ]
  },
  {
   "cell_type": "code",
   "execution_count": 165,
   "metadata": {},
   "outputs": [],
   "source": [
    "# create_analysis_plot(results_df_test_lan, dataset=\"two languages\")"
   ]
  },
  {
   "cell_type": "markdown",
   "metadata": {},
   "source": [
    "# DESSI ORIGINAL "
   ]
  },
  {
   "cell_type": "markdown",
   "metadata": {},
   "source": [
    "## DESSI TEST CLEANED"
   ]
  },
  {
   "cell_type": "code",
   "execution_count": 166,
   "metadata": {},
   "outputs": [
    {
     "name": "stdout",
     "output_type": "stream",
     "text": [
      "../CASSED_model_results/cassed_personal/dessi_cleaned/target_names.csv\n"
     ]
    }
   ],
   "source": [
    "import os\n",
    "\n",
    "absolute_path = \"/home/aagisha/Documents/PhD Albert/CodingPhDStart1/WorkshopSIGMOD/Personal-Detection/CASSED/CASSED_model_results/cassed_personal/dessi_cleaned/target_names.csv\"\n",
    "\n",
    "# Get relative path from the current working directory\n",
    "relative_path = os.path.relpath(absolute_path, os.getcwd())\n",
    "\n",
    "print(relative_path)"
   ]
  },
  {
   "cell_type": "code",
   "execution_count": 167,
   "metadata": {},
   "outputs": [],
   "source": [
    "test_dessi1 = pd.read_csv(\"../../../CASSED-main/datasets/dessi_cleaned_standard/test.csv\")\n",
    "test_dessi_personal1 = pd.read_csv(\"../../../CASSED-main/datasets/dessi_cleaned_standard/test_labels.csv\")\n",
    "true_dessi1 = pd.read_csv(\"../CASSED_model_results/cassed_personal/dessi_cleaned/true.csv\")\n",
    "pred_dessi1 = pd.read_csv(\"../CASSED_model_results/cassed_personal/dessi_cleaned/predicted.csv\")\n",
    "dessi_target_names = pd.read_csv(\"../CASSED_model_results/cassed_personal/dessi_cleaned/target_names.csv\")\n",
    "dessi_target_names = {a[1]: a[0] for a in dessi_target_names[[\"0\", \"0.1\"]].values}\n",
    "dessi_target_names[0] = \"no prediction\""
   ]
  },
  {
   "cell_type": "code",
   "execution_count": 168,
   "metadata": {},
   "outputs": [
    {
     "name": "stdout",
     "output_type": "stream",
     "text": [
      "Index(['gender_id', 'genderid', 'genderid.1', 'genderid.2', 'gender',\n",
      "       'gen type', 'gender.1', 'genderid.3', 'genderid.4',\n",
      "       'generated passport nbr', 'gender identity', 'sort_of_gender',\n",
      "       'gender.2', 'genderid.5', 'gender_id.1', 'gender_id.2', 'genderid.6',\n",
      "       'gender.3', 'gpoczjgenjff', 'gender identity.1', 'genderid.7'],\n",
      "      dtype='object')\n"
     ]
    }
   ],
   "source": [
    "# Select columns that contain a specific substring,\n",
    "columns_with_char = test_dessi1.filter(regex='gen').columns\n",
    "print(columns_with_char)\n"
   ]
  },
  {
   "cell_type": "code",
   "execution_count": 169,
   "metadata": {},
   "outputs": [
    {
     "data": {
      "text/html": [
       "<div>\n",
       "<style scoped>\n",
       "    .dataframe tbody tr th:only-of-type {\n",
       "        vertical-align: middle;\n",
       "    }\n",
       "\n",
       "    .dataframe tbody tr th {\n",
       "        vertical-align: top;\n",
       "    }\n",
       "\n",
       "    .dataframe thead th {\n",
       "        text-align: right;\n",
       "    }\n",
       "</style>\n",
       "<table border=\"1\" class=\"dataframe\">\n",
       "  <thead>\n",
       "    <tr style=\"text-align: right;\">\n",
       "      <th></th>\n",
       "      <th>gender_id</th>\n",
       "      <th>genderid</th>\n",
       "      <th>genderid.1</th>\n",
       "      <th>genderid.2</th>\n",
       "      <th>gender</th>\n",
       "      <th>gen type</th>\n",
       "      <th>gender.1</th>\n",
       "      <th>genderid.3</th>\n",
       "      <th>genderid.4</th>\n",
       "      <th>generated passport nbr</th>\n",
       "      <th>...</th>\n",
       "      <th>sort_of_gender</th>\n",
       "      <th>gender.2</th>\n",
       "      <th>genderid.5</th>\n",
       "      <th>gender_id.1</th>\n",
       "      <th>gender_id.2</th>\n",
       "      <th>genderid.6</th>\n",
       "      <th>gender.3</th>\n",
       "      <th>gpoczjgenjff</th>\n",
       "      <th>gender identity.1</th>\n",
       "      <th>genderid.7</th>\n",
       "    </tr>\n",
       "  </thead>\n",
       "  <tbody>\n",
       "    <tr>\n",
       "      <th>0</th>\n",
       "      <td>Female</td>\n",
       "      <td>F</td>\n",
       "      <td>yes</td>\n",
       "      <td>1</td>\n",
       "      <td>boy</td>\n",
       "      <td>Žensko</td>\n",
       "      <td>-1</td>\n",
       "      <td>0</td>\n",
       "      <td>girl</td>\n",
       "      <td>346418197</td>\n",
       "      <td>...</td>\n",
       "      <td>Butch</td>\n",
       "      <td>NB</td>\n",
       "      <td>0</td>\n",
       "      <td>-1</td>\n",
       "      <td>F</td>\n",
       "      <td>M</td>\n",
       "      <td>F</td>\n",
       "      <td>v.hathaway@roach-hall.store</td>\n",
       "      <td>Ž</td>\n",
       "      <td>1</td>\n",
       "    </tr>\n",
       "    <tr>\n",
       "      <th>1</th>\n",
       "      <td>Female</td>\n",
       "      <td>F</td>\n",
       "      <td>yes</td>\n",
       "      <td>0</td>\n",
       "      <td>boy</td>\n",
       "      <td>Žensko</td>\n",
       "      <td>1</td>\n",
       "      <td>0</td>\n",
       "      <td>boy</td>\n",
       "      <td>636574395</td>\n",
       "      <td>...</td>\n",
       "      <td>Male Assigned At Birth</td>\n",
       "      <td>F</td>\n",
       "      <td>0</td>\n",
       "      <td>1</td>\n",
       "      <td>M</td>\n",
       "      <td>F</td>\n",
       "      <td>M</td>\n",
       "      <td>charlescrandall387@gmail.com</td>\n",
       "      <td>M</td>\n",
       "      <td>-1</td>\n",
       "    </tr>\n",
       "    <tr>\n",
       "      <th>2</th>\n",
       "      <td>Female</td>\n",
       "      <td>M</td>\n",
       "      <td>no</td>\n",
       "      <td>1</td>\n",
       "      <td>boy</td>\n",
       "      <td>Muško</td>\n",
       "      <td>-1</td>\n",
       "      <td>0</td>\n",
       "      <td>boy</td>\n",
       "      <td>95609095</td>\n",
       "      <td>...</td>\n",
       "      <td>Male</td>\n",
       "      <td>NB</td>\n",
       "      <td>0</td>\n",
       "      <td>-1</td>\n",
       "      <td>F</td>\n",
       "      <td>NB</td>\n",
       "      <td>M</td>\n",
       "      <td>franka-sepic6451@hotmail.com</td>\n",
       "      <td>Ž</td>\n",
       "      <td>-1</td>\n",
       "    </tr>\n",
       "    <tr>\n",
       "      <th>3</th>\n",
       "      <td>Female</td>\n",
       "      <td>M</td>\n",
       "      <td>yes</td>\n",
       "      <td>1</td>\n",
       "      <td>boy</td>\n",
       "      <td>Žensko</td>\n",
       "      <td>1</td>\n",
       "      <td>0</td>\n",
       "      <td>boy</td>\n",
       "      <td>672821391</td>\n",
       "      <td>...</td>\n",
       "      <td>Femme</td>\n",
       "      <td>NB</td>\n",
       "      <td>0</td>\n",
       "      <td>1</td>\n",
       "      <td>F</td>\n",
       "      <td>NB</td>\n",
       "      <td>M</td>\n",
       "      <td>p-morgan7@mckinney-lewis.xyz</td>\n",
       "      <td>Ž</td>\n",
       "      <td>-1</td>\n",
       "    </tr>\n",
       "    <tr>\n",
       "      <th>4</th>\n",
       "      <td>Male</td>\n",
       "      <td>F</td>\n",
       "      <td>yes</td>\n",
       "      <td>0</td>\n",
       "      <td>girl</td>\n",
       "      <td>Muško</td>\n",
       "      <td>-1</td>\n",
       "      <td>0</td>\n",
       "      <td>girl</td>\n",
       "      <td>DN475005</td>\n",
       "      <td>...</td>\n",
       "      <td>Intersex</td>\n",
       "      <td>F</td>\n",
       "      <td>0</td>\n",
       "      <td>-1</td>\n",
       "      <td>F</td>\n",
       "      <td>NB</td>\n",
       "      <td>M</td>\n",
       "      <td>sarahouse@hotmail.com</td>\n",
       "      <td>M</td>\n",
       "      <td>1</td>\n",
       "    </tr>\n",
       "    <tr>\n",
       "      <th>...</th>\n",
       "      <td>...</td>\n",
       "      <td>...</td>\n",
       "      <td>...</td>\n",
       "      <td>...</td>\n",
       "      <td>...</td>\n",
       "      <td>...</td>\n",
       "      <td>...</td>\n",
       "      <td>...</td>\n",
       "      <td>...</td>\n",
       "      <td>...</td>\n",
       "      <td>...</td>\n",
       "      <td>...</td>\n",
       "      <td>...</td>\n",
       "      <td>...</td>\n",
       "      <td>...</td>\n",
       "      <td>...</td>\n",
       "      <td>...</td>\n",
       "      <td>...</td>\n",
       "      <td>...</td>\n",
       "      <td>...</td>\n",
       "      <td>...</td>\n",
       "    </tr>\n",
       "    <tr>\n",
       "      <th>95</th>\n",
       "      <td>Male</td>\n",
       "      <td>M</td>\n",
       "      <td>yes</td>\n",
       "      <td>1</td>\n",
       "      <td>boy</td>\n",
       "      <td>Žensko</td>\n",
       "      <td>1</td>\n",
       "      <td>1</td>\n",
       "      <td>girl</td>\n",
       "      <td>29858923</td>\n",
       "      <td>...</td>\n",
       "      <td>Non-cisgender</td>\n",
       "      <td>M</td>\n",
       "      <td>1</td>\n",
       "      <td>1</td>\n",
       "      <td>F</td>\n",
       "      <td>F</td>\n",
       "      <td>M</td>\n",
       "      <td>j.shaffer4691@brooks.ly</td>\n",
       "      <td>Ž</td>\n",
       "      <td>-1</td>\n",
       "    </tr>\n",
       "    <tr>\n",
       "      <th>96</th>\n",
       "      <td>Female</td>\n",
       "      <td>M</td>\n",
       "      <td>yes</td>\n",
       "      <td>1</td>\n",
       "      <td>boy</td>\n",
       "      <td>Muško</td>\n",
       "      <td>1</td>\n",
       "      <td>0</td>\n",
       "      <td>girl</td>\n",
       "      <td>215949804</td>\n",
       "      <td>...</td>\n",
       "      <td>Novigender</td>\n",
       "      <td>M</td>\n",
       "      <td>1</td>\n",
       "      <td>-1</td>\n",
       "      <td>F</td>\n",
       "      <td>NB</td>\n",
       "      <td>M</td>\n",
       "      <td>rileylacy71@hudson-sandoval.org</td>\n",
       "      <td>M</td>\n",
       "      <td>1</td>\n",
       "    </tr>\n",
       "    <tr>\n",
       "      <th>97</th>\n",
       "      <td>Male</td>\n",
       "      <td>F</td>\n",
       "      <td>yes</td>\n",
       "      <td>0</td>\n",
       "      <td>boy</td>\n",
       "      <td>Žensko</td>\n",
       "      <td>1</td>\n",
       "      <td>1</td>\n",
       "      <td>girl</td>\n",
       "      <td>09483565</td>\n",
       "      <td>...</td>\n",
       "      <td>Aporagender</td>\n",
       "      <td>M</td>\n",
       "      <td>1</td>\n",
       "      <td>1</td>\n",
       "      <td>F</td>\n",
       "      <td>NB</td>\n",
       "      <td>F</td>\n",
       "      <td>ss52@frost.biz</td>\n",
       "      <td>Ž</td>\n",
       "      <td>1</td>\n",
       "    </tr>\n",
       "    <tr>\n",
       "      <th>98</th>\n",
       "      <td>Male</td>\n",
       "      <td>M</td>\n",
       "      <td>yes</td>\n",
       "      <td>0</td>\n",
       "      <td>boy</td>\n",
       "      <td>Žensko</td>\n",
       "      <td>-1</td>\n",
       "      <td>1</td>\n",
       "      <td>girl</td>\n",
       "      <td>98800533</td>\n",
       "      <td>...</td>\n",
       "      <td>Male-to-female</td>\n",
       "      <td>M</td>\n",
       "      <td>0</td>\n",
       "      <td>-1</td>\n",
       "      <td>F</td>\n",
       "      <td>M</td>\n",
       "      <td>F</td>\n",
       "      <td>grace-garcia@alexander.website</td>\n",
       "      <td>Ž</td>\n",
       "      <td>-1</td>\n",
       "    </tr>\n",
       "    <tr>\n",
       "      <th>99</th>\n",
       "      <td>Female</td>\n",
       "      <td>F</td>\n",
       "      <td>no</td>\n",
       "      <td>1</td>\n",
       "      <td>girl</td>\n",
       "      <td>Muško</td>\n",
       "      <td>1</td>\n",
       "      <td>0</td>\n",
       "      <td>boy</td>\n",
       "      <td>39995025</td>\n",
       "      <td>...</td>\n",
       "      <td>Non binary</td>\n",
       "      <td>NB</td>\n",
       "      <td>1</td>\n",
       "      <td>-1</td>\n",
       "      <td>F</td>\n",
       "      <td>F</td>\n",
       "      <td>F</td>\n",
       "      <td>l-villa@strickland-cardenas.us</td>\n",
       "      <td>M</td>\n",
       "      <td>1</td>\n",
       "    </tr>\n",
       "  </tbody>\n",
       "</table>\n",
       "<p>100 rows × 21 columns</p>\n",
       "</div>"
      ],
      "text/plain": [
       "   gender_id genderid genderid.1  genderid.2 gender gen type  gender.1  \\\n",
       "0     Female        F        yes           1    boy   Žensko        -1   \n",
       "1     Female        F        yes           0    boy   Žensko         1   \n",
       "2     Female        M         no           1    boy    Muško        -1   \n",
       "3     Female        M        yes           1    boy   Žensko         1   \n",
       "4       Male        F        yes           0   girl    Muško        -1   \n",
       "..       ...      ...        ...         ...    ...      ...       ...   \n",
       "95      Male        M        yes           1    boy   Žensko         1   \n",
       "96    Female        M        yes           1    boy    Muško         1   \n",
       "97      Male        F        yes           0    boy   Žensko         1   \n",
       "98      Male        M        yes           0    boy   Žensko        -1   \n",
       "99    Female        F         no           1   girl    Muško         1   \n",
       "\n",
       "    genderid.3 genderid.4 generated passport nbr  ...          sort_of_gender  \\\n",
       "0            0       girl              346418197  ...                   Butch   \n",
       "1            0        boy              636574395  ...  Male Assigned At Birth   \n",
       "2            0        boy               95609095  ...                    Male   \n",
       "3            0        boy              672821391  ...                   Femme   \n",
       "4            0       girl               DN475005  ...                Intersex   \n",
       "..         ...        ...                    ...  ...                     ...   \n",
       "95           1       girl               29858923  ...           Non-cisgender   \n",
       "96           0       girl              215949804  ...              Novigender   \n",
       "97           1       girl               09483565  ...             Aporagender   \n",
       "98           1       girl               98800533  ...          Male-to-female   \n",
       "99           0        boy               39995025  ...              Non binary   \n",
       "\n",
       "   gender.2 genderid.5  gender_id.1  gender_id.2 genderid.6 gender.3  \\\n",
       "0        NB          0           -1            F          M        F   \n",
       "1         F          0            1            M          F        M   \n",
       "2        NB          0           -1            F         NB        M   \n",
       "3        NB          0            1            F         NB        M   \n",
       "4         F          0           -1            F         NB        M   \n",
       "..      ...        ...          ...          ...        ...      ...   \n",
       "95        M          1            1            F          F        M   \n",
       "96        M          1           -1            F         NB        M   \n",
       "97        M          1            1            F         NB        F   \n",
       "98        M          0           -1            F          M        F   \n",
       "99       NB          1           -1            F          F        F   \n",
       "\n",
       "                       gpoczjgenjff gender identity.1 genderid.7  \n",
       "0       v.hathaway@roach-hall.store                 Ž          1  \n",
       "1      charlescrandall387@gmail.com                 M         -1  \n",
       "2      franka-sepic6451@hotmail.com                 Ž         -1  \n",
       "3      p-morgan7@mckinney-lewis.xyz                 Ž         -1  \n",
       "4             sarahouse@hotmail.com                 M          1  \n",
       "..                              ...               ...        ...  \n",
       "95          j.shaffer4691@brooks.ly                 Ž         -1  \n",
       "96  rileylacy71@hudson-sandoval.org                 M          1  \n",
       "97                   ss52@frost.biz                 Ž          1  \n",
       "98   grace-garcia@alexander.website                 Ž         -1  \n",
       "99   l-villa@strickland-cardenas.us                 M          1  \n",
       "\n",
       "[100 rows x 21 columns]"
      ]
     },
     "execution_count": 169,
     "metadata": {},
     "output_type": "execute_result"
    }
   ],
   "source": [
    "test_dessi1[columns_with_char]"
   ]
  },
  {
   "cell_type": "code",
   "execution_count": 170,
   "metadata": {},
   "outputs": [
    {
     "data": {
      "text/plain": [
       "21"
      ]
     },
     "execution_count": 170,
     "metadata": {},
     "output_type": "execute_result"
    }
   ],
   "source": [
    "column_positions = []\n",
    "for i in columns_with_char:\n",
    "        column_position = test_dessi1.columns.get_loc(i)\n",
    "        column_positions.append(column_position)\n",
    "\n",
    "len(column_positions)"
   ]
  },
  {
   "cell_type": "code",
   "execution_count": 171,
   "metadata": {},
   "outputs": [],
   "source": [
    "selected_rows = test_dessi_personal1.iloc[column_positions]"
   ]
  },
  {
   "cell_type": "code",
   "execution_count": 172,
   "metadata": {},
   "outputs": [
    {
     "data": {
      "text/html": [
       "<div>\n",
       "<style scoped>\n",
       "    .dataframe tbody tr th:only-of-type {\n",
       "        vertical-align: middle;\n",
       "    }\n",
       "\n",
       "    .dataframe tbody tr th {\n",
       "        vertical-align: top;\n",
       "    }\n",
       "\n",
       "    .dataframe thead th {\n",
       "        text-align: right;\n",
       "    }\n",
       "</style>\n",
       "<table border=\"1\" class=\"dataframe\">\n",
       "  <thead>\n",
       "    <tr style=\"text-align: right;\">\n",
       "      <th></th>\n",
       "      <th>label</th>\n",
       "    </tr>\n",
       "  </thead>\n",
       "  <tbody>\n",
       "    <tr>\n",
       "      <th>76</th>\n",
       "      <td>personal</td>\n",
       "    </tr>\n",
       "    <tr>\n",
       "      <th>335</th>\n",
       "      <td>personal</td>\n",
       "    </tr>\n",
       "    <tr>\n",
       "      <th>506</th>\n",
       "      <td>personal</td>\n",
       "    </tr>\n",
       "    <tr>\n",
       "      <th>702</th>\n",
       "      <td>personal</td>\n",
       "    </tr>\n",
       "    <tr>\n",
       "      <th>916</th>\n",
       "      <td>personal</td>\n",
       "    </tr>\n",
       "    <tr>\n",
       "      <th>1416</th>\n",
       "      <td>personal</td>\n",
       "    </tr>\n",
       "    <tr>\n",
       "      <th>1652</th>\n",
       "      <td>personal</td>\n",
       "    </tr>\n",
       "    <tr>\n",
       "      <th>2367</th>\n",
       "      <td>personal</td>\n",
       "    </tr>\n",
       "    <tr>\n",
       "      <th>2552</th>\n",
       "      <td>personal</td>\n",
       "    </tr>\n",
       "    <tr>\n",
       "      <th>3152</th>\n",
       "      <td>personal</td>\n",
       "    </tr>\n",
       "    <tr>\n",
       "      <th>3157</th>\n",
       "      <td>personal</td>\n",
       "    </tr>\n",
       "    <tr>\n",
       "      <th>3789</th>\n",
       "      <td>personal</td>\n",
       "    </tr>\n",
       "    <tr>\n",
       "      <th>4122</th>\n",
       "      <td>personal</td>\n",
       "    </tr>\n",
       "    <tr>\n",
       "      <th>4204</th>\n",
       "      <td>personal</td>\n",
       "    </tr>\n",
       "    <tr>\n",
       "      <th>4473</th>\n",
       "      <td>personal</td>\n",
       "    </tr>\n",
       "    <tr>\n",
       "      <th>5162</th>\n",
       "      <td>personal</td>\n",
       "    </tr>\n",
       "    <tr>\n",
       "      <th>5199</th>\n",
       "      <td>personal</td>\n",
       "    </tr>\n",
       "    <tr>\n",
       "      <th>5376</th>\n",
       "      <td>personal</td>\n",
       "    </tr>\n",
       "    <tr>\n",
       "      <th>5816</th>\n",
       "      <td>personal</td>\n",
       "    </tr>\n",
       "    <tr>\n",
       "      <th>5878</th>\n",
       "      <td>personal</td>\n",
       "    </tr>\n",
       "    <tr>\n",
       "      <th>6268</th>\n",
       "      <td>personal</td>\n",
       "    </tr>\n",
       "  </tbody>\n",
       "</table>\n",
       "</div>"
      ],
      "text/plain": [
       "         label\n",
       "76    personal\n",
       "335   personal\n",
       "506   personal\n",
       "702   personal\n",
       "916   personal\n",
       "1416  personal\n",
       "1652  personal\n",
       "2367  personal\n",
       "2552  personal\n",
       "3152  personal\n",
       "3157  personal\n",
       "3789  personal\n",
       "4122  personal\n",
       "4204  personal\n",
       "4473  personal\n",
       "5162  personal\n",
       "5199  personal\n",
       "5376  personal\n",
       "5816  personal\n",
       "5878  personal\n",
       "6268  personal"
      ]
     },
     "execution_count": 172,
     "metadata": {},
     "output_type": "execute_result"
    }
   ],
   "source": [
    "selected_rows"
   ]
  },
  {
   "cell_type": "code",
   "execution_count": 173,
   "metadata": {},
   "outputs": [
    {
     "data": {
      "text/plain": [
       "0     Female\n",
       "1     Female\n",
       "2     Female\n",
       "3     Female\n",
       "4       Male\n",
       "       ...  \n",
       "95      Male\n",
       "96    Female\n",
       "97      Male\n",
       "98      Male\n",
       "99    Female\n",
       "Name: gender_id, Length: 100, dtype: object"
      ]
     },
     "execution_count": 173,
     "metadata": {},
     "output_type": "execute_result"
    }
   ],
   "source": [
    "test_dessi1.iloc[:,76]"
   ]
  },
  {
   "cell_type": "code",
   "execution_count": 174,
   "metadata": {},
   "outputs": [
    {
     "data": {
      "text/plain": [
       "{1: 'personal', 2: 'non-personal', 0: 'no prediction'}"
      ]
     },
     "execution_count": 174,
     "metadata": {},
     "output_type": "execute_result"
    }
   ],
   "source": [
    "dessi_target_names"
   ]
  },
  {
   "cell_type": "code",
   "execution_count": 175,
   "metadata": {},
   "outputs": [],
   "source": [
    "predictions1, true1 = [], []\n",
    "for i in range(true_dessi1.shape[0]):\n",
    "    predictions1.append([dessi_target_names[e] for e, b in enumerate(pred_dessi1.iloc[i,:]) if b == 1])\n",
    "    true1.append([dessi_target_names[e] for e, b in enumerate(true_dessi1.iloc[i,:]) if b == 1])\n",
    "true1 = [a[0] for a in true1]\n",
    "predictions1 = [a[0] for a in predictions1]"
   ]
  },
  {
   "cell_type": "code",
   "execution_count": 176,
   "metadata": {},
   "outputs": [
    {
     "data": {
      "application/vnd.plotly.v1+json": {
       "config": {
        "plotlyServerURL": "https://plot.ly"
       },
       "data": [
        {
         "showlegend": false,
         "type": "bar",
         "x": [
          "weighted Precision",
          "weighted Recall",
          "weighted F1 Score",
          "Accuracy",
          "AUC-ROC"
         ],
         "xaxis": "x",
         "y": [
          0.9955445420239624,
          0.9955357142857143,
          0.9955364579480103,
          0.9955357142857143,
          0.995670935778647
         ],
         "yaxis": "y"
        },
        {
         "colorscale": [
          [
           0,
           "rgb(247,251,255)"
          ],
          [
           0.125,
           "rgb(222,235,247)"
          ],
          [
           0.25,
           "rgb(198,219,239)"
          ],
          [
           0.375,
           "rgb(158,202,225)"
          ],
          [
           0.5,
           "rgb(107,174,214)"
          ],
          [
           0.625,
           "rgb(66,146,198)"
          ],
          [
           0.75,
           "rgb(33,113,181)"
          ],
          [
           0.875,
           "rgb(8,81,156)"
          ],
          [
           1,
           "rgb(8,48,107)"
          ]
         ],
         "showscale": false,
         "text": [
          [
           "3393<br>0.99",
           "20<br>0.01"
          ],
          [
           "8<br>0.00",
           "2851<br>1.00"
          ]
         ],
         "textfont": {
          "size": 20
         },
         "texttemplate": "%{text}",
         "type": "heatmap",
         "x": [
          "Pred: personal",
          "Pred: non-personal"
         ],
         "xaxis": "x2",
         "y": [
          "True: personal",
          "True: non-personal"
         ],
         "yaxis": "y2",
         "z": [
          [
           3393,
           20
          ],
          [
           8,
           2851
          ]
         ]
        }
       ],
       "layout": {
        "annotations": [
         {
          "font": {
           "size": 16
          },
          "showarrow": false,
          "text": "Evaluation Metrics",
          "x": 0.225,
          "xanchor": "center",
          "xref": "paper",
          "y": 1,
          "yanchor": "bottom",
          "yref": "paper"
         },
         {
          "font": {
           "size": 16
          },
          "showarrow": false,
          "text": "Confusion Matrix",
          "x": 0.775,
          "xanchor": "center",
          "xref": "paper",
          "y": 1,
          "yanchor": "bottom",
          "yref": "paper"
         }
        ],
        "height": 500,
        "showlegend": false,
        "template": {
         "data": {
          "bar": [
           {
            "error_x": {
             "color": "#2a3f5f"
            },
            "error_y": {
             "color": "#2a3f5f"
            },
            "marker": {
             "line": {
              "color": "#E5ECF6",
              "width": 0.5
             },
             "pattern": {
              "fillmode": "overlay",
              "size": 10,
              "solidity": 0.2
             }
            },
            "type": "bar"
           }
          ],
          "barpolar": [
           {
            "marker": {
             "line": {
              "color": "#E5ECF6",
              "width": 0.5
             },
             "pattern": {
              "fillmode": "overlay",
              "size": 10,
              "solidity": 0.2
             }
            },
            "type": "barpolar"
           }
          ],
          "carpet": [
           {
            "aaxis": {
             "endlinecolor": "#2a3f5f",
             "gridcolor": "white",
             "linecolor": "white",
             "minorgridcolor": "white",
             "startlinecolor": "#2a3f5f"
            },
            "baxis": {
             "endlinecolor": "#2a3f5f",
             "gridcolor": "white",
             "linecolor": "white",
             "minorgridcolor": "white",
             "startlinecolor": "#2a3f5f"
            },
            "type": "carpet"
           }
          ],
          "choropleth": [
           {
            "colorbar": {
             "outlinewidth": 0,
             "ticks": ""
            },
            "type": "choropleth"
           }
          ],
          "contour": [
           {
            "colorbar": {
             "outlinewidth": 0,
             "ticks": ""
            },
            "colorscale": [
             [
              0,
              "#0d0887"
             ],
             [
              0.1111111111111111,
              "#46039f"
             ],
             [
              0.2222222222222222,
              "#7201a8"
             ],
             [
              0.3333333333333333,
              "#9c179e"
             ],
             [
              0.4444444444444444,
              "#bd3786"
             ],
             [
              0.5555555555555556,
              "#d8576b"
             ],
             [
              0.6666666666666666,
              "#ed7953"
             ],
             [
              0.7777777777777778,
              "#fb9f3a"
             ],
             [
              0.8888888888888888,
              "#fdca26"
             ],
             [
              1,
              "#f0f921"
             ]
            ],
            "type": "contour"
           }
          ],
          "contourcarpet": [
           {
            "colorbar": {
             "outlinewidth": 0,
             "ticks": ""
            },
            "type": "contourcarpet"
           }
          ],
          "heatmap": [
           {
            "colorbar": {
             "outlinewidth": 0,
             "ticks": ""
            },
            "colorscale": [
             [
              0,
              "#0d0887"
             ],
             [
              0.1111111111111111,
              "#46039f"
             ],
             [
              0.2222222222222222,
              "#7201a8"
             ],
             [
              0.3333333333333333,
              "#9c179e"
             ],
             [
              0.4444444444444444,
              "#bd3786"
             ],
             [
              0.5555555555555556,
              "#d8576b"
             ],
             [
              0.6666666666666666,
              "#ed7953"
             ],
             [
              0.7777777777777778,
              "#fb9f3a"
             ],
             [
              0.8888888888888888,
              "#fdca26"
             ],
             [
              1,
              "#f0f921"
             ]
            ],
            "type": "heatmap"
           }
          ],
          "heatmapgl": [
           {
            "colorbar": {
             "outlinewidth": 0,
             "ticks": ""
            },
            "colorscale": [
             [
              0,
              "#0d0887"
             ],
             [
              0.1111111111111111,
              "#46039f"
             ],
             [
              0.2222222222222222,
              "#7201a8"
             ],
             [
              0.3333333333333333,
              "#9c179e"
             ],
             [
              0.4444444444444444,
              "#bd3786"
             ],
             [
              0.5555555555555556,
              "#d8576b"
             ],
             [
              0.6666666666666666,
              "#ed7953"
             ],
             [
              0.7777777777777778,
              "#fb9f3a"
             ],
             [
              0.8888888888888888,
              "#fdca26"
             ],
             [
              1,
              "#f0f921"
             ]
            ],
            "type": "heatmapgl"
           }
          ],
          "histogram": [
           {
            "marker": {
             "pattern": {
              "fillmode": "overlay",
              "size": 10,
              "solidity": 0.2
             }
            },
            "type": "histogram"
           }
          ],
          "histogram2d": [
           {
            "colorbar": {
             "outlinewidth": 0,
             "ticks": ""
            },
            "colorscale": [
             [
              0,
              "#0d0887"
             ],
             [
              0.1111111111111111,
              "#46039f"
             ],
             [
              0.2222222222222222,
              "#7201a8"
             ],
             [
              0.3333333333333333,
              "#9c179e"
             ],
             [
              0.4444444444444444,
              "#bd3786"
             ],
             [
              0.5555555555555556,
              "#d8576b"
             ],
             [
              0.6666666666666666,
              "#ed7953"
             ],
             [
              0.7777777777777778,
              "#fb9f3a"
             ],
             [
              0.8888888888888888,
              "#fdca26"
             ],
             [
              1,
              "#f0f921"
             ]
            ],
            "type": "histogram2d"
           }
          ],
          "histogram2dcontour": [
           {
            "colorbar": {
             "outlinewidth": 0,
             "ticks": ""
            },
            "colorscale": [
             [
              0,
              "#0d0887"
             ],
             [
              0.1111111111111111,
              "#46039f"
             ],
             [
              0.2222222222222222,
              "#7201a8"
             ],
             [
              0.3333333333333333,
              "#9c179e"
             ],
             [
              0.4444444444444444,
              "#bd3786"
             ],
             [
              0.5555555555555556,
              "#d8576b"
             ],
             [
              0.6666666666666666,
              "#ed7953"
             ],
             [
              0.7777777777777778,
              "#fb9f3a"
             ],
             [
              0.8888888888888888,
              "#fdca26"
             ],
             [
              1,
              "#f0f921"
             ]
            ],
            "type": "histogram2dcontour"
           }
          ],
          "mesh3d": [
           {
            "colorbar": {
             "outlinewidth": 0,
             "ticks": ""
            },
            "type": "mesh3d"
           }
          ],
          "parcoords": [
           {
            "line": {
             "colorbar": {
              "outlinewidth": 0,
              "ticks": ""
             }
            },
            "type": "parcoords"
           }
          ],
          "pie": [
           {
            "automargin": true,
            "type": "pie"
           }
          ],
          "scatter": [
           {
            "fillpattern": {
             "fillmode": "overlay",
             "size": 10,
             "solidity": 0.2
            },
            "type": "scatter"
           }
          ],
          "scatter3d": [
           {
            "line": {
             "colorbar": {
              "outlinewidth": 0,
              "ticks": ""
             }
            },
            "marker": {
             "colorbar": {
              "outlinewidth": 0,
              "ticks": ""
             }
            },
            "type": "scatter3d"
           }
          ],
          "scattercarpet": [
           {
            "marker": {
             "colorbar": {
              "outlinewidth": 0,
              "ticks": ""
             }
            },
            "type": "scattercarpet"
           }
          ],
          "scattergeo": [
           {
            "marker": {
             "colorbar": {
              "outlinewidth": 0,
              "ticks": ""
             }
            },
            "type": "scattergeo"
           }
          ],
          "scattergl": [
           {
            "marker": {
             "colorbar": {
              "outlinewidth": 0,
              "ticks": ""
             }
            },
            "type": "scattergl"
           }
          ],
          "scattermapbox": [
           {
            "marker": {
             "colorbar": {
              "outlinewidth": 0,
              "ticks": ""
             }
            },
            "type": "scattermapbox"
           }
          ],
          "scatterpolar": [
           {
            "marker": {
             "colorbar": {
              "outlinewidth": 0,
              "ticks": ""
             }
            },
            "type": "scatterpolar"
           }
          ],
          "scatterpolargl": [
           {
            "marker": {
             "colorbar": {
              "outlinewidth": 0,
              "ticks": ""
             }
            },
            "type": "scatterpolargl"
           }
          ],
          "scatterternary": [
           {
            "marker": {
             "colorbar": {
              "outlinewidth": 0,
              "ticks": ""
             }
            },
            "type": "scatterternary"
           }
          ],
          "surface": [
           {
            "colorbar": {
             "outlinewidth": 0,
             "ticks": ""
            },
            "colorscale": [
             [
              0,
              "#0d0887"
             ],
             [
              0.1111111111111111,
              "#46039f"
             ],
             [
              0.2222222222222222,
              "#7201a8"
             ],
             [
              0.3333333333333333,
              "#9c179e"
             ],
             [
              0.4444444444444444,
              "#bd3786"
             ],
             [
              0.5555555555555556,
              "#d8576b"
             ],
             [
              0.6666666666666666,
              "#ed7953"
             ],
             [
              0.7777777777777778,
              "#fb9f3a"
             ],
             [
              0.8888888888888888,
              "#fdca26"
             ],
             [
              1,
              "#f0f921"
             ]
            ],
            "type": "surface"
           }
          ],
          "table": [
           {
            "cells": {
             "fill": {
              "color": "#EBF0F8"
             },
             "line": {
              "color": "white"
             }
            },
            "header": {
             "fill": {
              "color": "#C8D4E3"
             },
             "line": {
              "color": "white"
             }
            },
            "type": "table"
           }
          ]
         },
         "layout": {
          "annotationdefaults": {
           "arrowcolor": "#2a3f5f",
           "arrowhead": 0,
           "arrowwidth": 1
          },
          "autotypenumbers": "strict",
          "coloraxis": {
           "colorbar": {
            "outlinewidth": 0,
            "ticks": ""
           }
          },
          "colorscale": {
           "diverging": [
            [
             0,
             "#8e0152"
            ],
            [
             0.1,
             "#c51b7d"
            ],
            [
             0.2,
             "#de77ae"
            ],
            [
             0.3,
             "#f1b6da"
            ],
            [
             0.4,
             "#fde0ef"
            ],
            [
             0.5,
             "#f7f7f7"
            ],
            [
             0.6,
             "#e6f5d0"
            ],
            [
             0.7,
             "#b8e186"
            ],
            [
             0.8,
             "#7fbc41"
            ],
            [
             0.9,
             "#4d9221"
            ],
            [
             1,
             "#276419"
            ]
           ],
           "sequential": [
            [
             0,
             "#0d0887"
            ],
            [
             0.1111111111111111,
             "#46039f"
            ],
            [
             0.2222222222222222,
             "#7201a8"
            ],
            [
             0.3333333333333333,
             "#9c179e"
            ],
            [
             0.4444444444444444,
             "#bd3786"
            ],
            [
             0.5555555555555556,
             "#d8576b"
            ],
            [
             0.6666666666666666,
             "#ed7953"
            ],
            [
             0.7777777777777778,
             "#fb9f3a"
            ],
            [
             0.8888888888888888,
             "#fdca26"
            ],
            [
             1,
             "#f0f921"
            ]
           ],
           "sequentialminus": [
            [
             0,
             "#0d0887"
            ],
            [
             0.1111111111111111,
             "#46039f"
            ],
            [
             0.2222222222222222,
             "#7201a8"
            ],
            [
             0.3333333333333333,
             "#9c179e"
            ],
            [
             0.4444444444444444,
             "#bd3786"
            ],
            [
             0.5555555555555556,
             "#d8576b"
            ],
            [
             0.6666666666666666,
             "#ed7953"
            ],
            [
             0.7777777777777778,
             "#fb9f3a"
            ],
            [
             0.8888888888888888,
             "#fdca26"
            ],
            [
             1,
             "#f0f921"
            ]
           ]
          },
          "colorway": [
           "#636efa",
           "#EF553B",
           "#00cc96",
           "#ab63fa",
           "#FFA15A",
           "#19d3f3",
           "#FF6692",
           "#B6E880",
           "#FF97FF",
           "#FECB52"
          ],
          "font": {
           "color": "#2a3f5f"
          },
          "geo": {
           "bgcolor": "white",
           "lakecolor": "white",
           "landcolor": "#E5ECF6",
           "showlakes": true,
           "showland": true,
           "subunitcolor": "white"
          },
          "hoverlabel": {
           "align": "left"
          },
          "hovermode": "closest",
          "mapbox": {
           "style": "light"
          },
          "paper_bgcolor": "white",
          "plot_bgcolor": "#E5ECF6",
          "polar": {
           "angularaxis": {
            "gridcolor": "white",
            "linecolor": "white",
            "ticks": ""
           },
           "bgcolor": "#E5ECF6",
           "radialaxis": {
            "gridcolor": "white",
            "linecolor": "white",
            "ticks": ""
           }
          },
          "scene": {
           "xaxis": {
            "backgroundcolor": "#E5ECF6",
            "gridcolor": "white",
            "gridwidth": 2,
            "linecolor": "white",
            "showbackground": true,
            "ticks": "",
            "zerolinecolor": "white"
           },
           "yaxis": {
            "backgroundcolor": "#E5ECF6",
            "gridcolor": "white",
            "gridwidth": 2,
            "linecolor": "white",
            "showbackground": true,
            "ticks": "",
            "zerolinecolor": "white"
           },
           "zaxis": {
            "backgroundcolor": "#E5ECF6",
            "gridcolor": "white",
            "gridwidth": 2,
            "linecolor": "white",
            "showbackground": true,
            "ticks": "",
            "zerolinecolor": "white"
           }
          },
          "shapedefaults": {
           "line": {
            "color": "#2a3f5f"
           }
          },
          "ternary": {
           "aaxis": {
            "gridcolor": "white",
            "linecolor": "white",
            "ticks": ""
           },
           "baxis": {
            "gridcolor": "white",
            "linecolor": "white",
            "ticks": ""
           },
           "bgcolor": "#E5ECF6",
           "caxis": {
            "gridcolor": "white",
            "linecolor": "white",
            "ticks": ""
           }
          },
          "title": {
           "x": 0.05
          },
          "xaxis": {
           "automargin": true,
           "gridcolor": "white",
           "linecolor": "white",
           "ticks": "",
           "title": {
            "standoff": 15
           },
           "zerolinecolor": "white",
           "zerolinewidth": 2
          },
          "yaxis": {
           "automargin": true,
           "gridcolor": "white",
           "linecolor": "white",
           "ticks": "",
           "title": {
            "standoff": 15
           },
           "zerolinecolor": "white",
           "zerolinewidth": 2
          }
         }
        },
        "title": {
         "text": "Confusion Matrix and Evaluation Metrics"
        },
        "width": 1000,
        "xaxis": {
         "anchor": "y",
         "domain": [
          0,
          0.45
         ]
        },
        "xaxis2": {
         "anchor": "y2",
         "domain": [
          0.55,
          1
         ]
        },
        "yaxis": {
         "anchor": "x",
         "domain": [
          0,
          1
         ],
         "range": [
          0,
          1.1
         ]
        },
        "yaxis2": {
         "anchor": "x2",
         "domain": [
          0,
          1
         ]
        }
       }
      }
     },
     "metadata": {},
     "output_type": "display_data"
    }
   ],
   "source": [
    "plot_cassed_results(true1, predictions1)"
   ]
  },
  {
   "cell_type": "code",
   "execution_count": null,
   "metadata": {},
   "outputs": [],
   "source": []
  },
  {
   "cell_type": "code",
   "execution_count": 177,
   "metadata": {},
   "outputs": [],
   "source": [
    "results_df_test_dess1 = pd.DataFrame({\n",
    "    \"Column\": test_dessi1.columns,\n",
    "    \"Prediction\": predictions1,\n",
    "    \"True Label\": test_dessi_personal1[\"label\"].values\n",
    "    })"
   ]
  },
  {
   "cell_type": "code",
   "execution_count": 178,
   "metadata": {},
   "outputs": [
    {
     "name": "stdout",
     "output_type": "stream",
     "text": [
      "f1_score micro:0.996\n",
      "f1_score micro:0.996\n",
      "Balanced Acc.: 0.996\n",
      "              precision    recall  f1-score   support\n",
      "\n",
      "non-personal       0.99      1.00      1.00      2859\n",
      "    personal       1.00      0.99      1.00      3413\n",
      "\n",
      "    accuracy                           1.00      6272\n",
      "   macro avg       1.00      1.00      1.00      6272\n",
      "weighted avg       1.00      1.00      1.00      6272\n",
      "\n"
     ]
    }
   ],
   "source": [
    "f1_micro_dessi = f1_score(results_df_test_dess1[\"True Label\"],results_df_test_dess1[\"Prediction\"], average='micro')\n",
    "print(f'f1_score micro:{np.round(f1_micro_dessi,3)}')\n",
    "f1_macro_dessi = f1_score(results_df_test_dess1[\"True Label\"],results_df_test_dess1[\"Prediction\"], average='macro')\n",
    "print(f'f1_score micro:{np.round(f1_macro_dessi,3)}')\n",
    "bal_dessi = balanced_accuracy_score(results_df_test_dess1[\"True Label\"],results_df_test_dess1[\"Prediction\"])\n",
    "print(f'Balanced Acc.: {np.round(bal_dessi,3)}')\n",
    "print(classification_report(results_df_test_dess1[\"True Label\"],results_df_test_dess1[\"Prediction\"]))"
   ]
  },
  {
   "cell_type": "code",
   "execution_count": 179,
   "metadata": {},
   "outputs": [],
   "source": [
    "check_labels_desssi = pd.read_csv('/home/aagisha/Documents/PhD Albert/CodingPhDStart1/WorkshopArticle_1/Experiments/Personal-Detection/datasets/dessi/DeSSI_v2/test_labels.csv')"
   ]
  },
  {
   "cell_type": "code",
   "execution_count": null,
   "metadata": {},
   "outputs": [],
   "source": []
  },
  {
   "cell_type": "code",
   "execution_count": 180,
   "metadata": {},
   "outputs": [],
   "source": [
    "compdessi = results_df_test_dess1.copy()\n",
    "compdessi['original labels'] = check_labels_desssi['label'].values"
   ]
  },
  {
   "cell_type": "code",
   "execution_count": 181,
   "metadata": {},
   "outputs": [
    {
     "data": {
      "text/plain": [
       "0                                Spratley conseil\n",
       "1     Hanson'S Certified Termite Inspections, Inc\n",
       "2                       edmonton catholic schools\n",
       "3                                wuttke group llc\n",
       "4                   Claims 411 Inc./Aan Adjusters\n",
       "                         ...                     \n",
       "95                                      i3 weblab\n",
       "96                                     vailog srl\n",
       "97                                    Arizona rbi\n",
       "98                  head first motion productions\n",
       "99              Intelli corporate finance limited\n",
       "Name: person_last_name.5, Length: 100, dtype: object"
      ]
     },
     "execution_count": 181,
     "metadata": {},
     "output_type": "execute_result"
    }
   ],
   "source": [
    "test_dessi1['person_last_name.5']"
   ]
  },
  {
   "cell_type": "code",
   "execution_count": 182,
   "metadata": {},
   "outputs": [
    {
     "data": {
      "text/plain": [
       "0     CCZAGBBC448\n",
       "1     DVNFGBPKONM\n",
       "2     RAFBGBE1IIG\n",
       "3     SFTJGBT3CJV\n",
       "4     QFRGGBFOC80\n",
       "         ...     \n",
       "95    NIIAGB5D90T\n",
       "96    AWAGGB2ZVNJ\n",
       "97    UTUPGBHFMPX\n",
       "98    JYXZGBVCM5X\n",
       "99    WMFWGBWXGBC\n",
       "Name: ceodwfalfcih, Length: 100, dtype: object"
      ]
     },
     "execution_count": 182,
     "metadata": {},
     "output_type": "execute_result"
    }
   ],
   "source": [
    "test_dessi1['ceodwfalfcih']"
   ]
  },
  {
   "cell_type": "code",
   "execution_count": 183,
   "metadata": {},
   "outputs": [
    {
     "data": {
      "text/html": [
       "<div>\n",
       "<style scoped>\n",
       "    .dataframe tbody tr th:only-of-type {\n",
       "        vertical-align: middle;\n",
       "    }\n",
       "\n",
       "    .dataframe tbody tr th {\n",
       "        vertical-align: top;\n",
       "    }\n",
       "\n",
       "    .dataframe thead th {\n",
       "        text-align: right;\n",
       "    }\n",
       "</style>\n",
       "<table border=\"1\" class=\"dataframe\">\n",
       "  <thead>\n",
       "    <tr style=\"text-align: right;\">\n",
       "      <th></th>\n",
       "      <th>Column</th>\n",
       "      <th>Prediction</th>\n",
       "      <th>True Label</th>\n",
       "      <th>original labels</th>\n",
       "    </tr>\n",
       "  </thead>\n",
       "  <tbody>\n",
       "    <tr>\n",
       "      <th>156</th>\n",
       "      <td>bmruvtgciveg</td>\n",
       "      <td>non-personal</td>\n",
       "      <td>personal</td>\n",
       "      <td>SWIFT/BIC</td>\n",
       "    </tr>\n",
       "    <tr>\n",
       "      <th>256</th>\n",
       "      <td>zbpozurvpbcj</td>\n",
       "      <td>non-personal</td>\n",
       "      <td>personal</td>\n",
       "      <td>Other_data</td>\n",
       "    </tr>\n",
       "    <tr>\n",
       "      <th>487</th>\n",
       "      <td>dtyzjfihtxvj</td>\n",
       "      <td>non-personal</td>\n",
       "      <td>personal</td>\n",
       "      <td>SWIFT/BIC</td>\n",
       "    </tr>\n",
       "    <tr>\n",
       "      <th>885</th>\n",
       "      <td>zdittbhttzwu</td>\n",
       "      <td>non-personal</td>\n",
       "      <td>personal</td>\n",
       "      <td>SWIFT/BIC</td>\n",
       "    </tr>\n",
       "    <tr>\n",
       "      <th>1514</th>\n",
       "      <td>gfgxyrajzwtb</td>\n",
       "      <td>non-personal</td>\n",
       "      <td>personal</td>\n",
       "      <td>Passport</td>\n",
       "    </tr>\n",
       "    <tr>\n",
       "      <th>2852</th>\n",
       "      <td>ceodwfalfcih</td>\n",
       "      <td>non-personal</td>\n",
       "      <td>personal</td>\n",
       "      <td>SWIFT/BIC</td>\n",
       "    </tr>\n",
       "    <tr>\n",
       "      <th>3595</th>\n",
       "      <td>nsmetka3</td>\n",
       "      <td>non-personal</td>\n",
       "      <td>personal</td>\n",
       "      <td>SWIFT/BIC</td>\n",
       "    </tr>\n",
       "    <tr>\n",
       "      <th>3653</th>\n",
       "      <td>fqhezsttzrgd</td>\n",
       "      <td>non-personal</td>\n",
       "      <td>personal</td>\n",
       "      <td>Other_data</td>\n",
       "    </tr>\n",
       "    <tr>\n",
       "      <th>3811</th>\n",
       "      <td>qsoobhzufpbr</td>\n",
       "      <td>non-personal</td>\n",
       "      <td>personal</td>\n",
       "      <td>SWIFT/BIC</td>\n",
       "    </tr>\n",
       "    <tr>\n",
       "      <th>4102</th>\n",
       "      <td>organization_code.4</td>\n",
       "      <td>non-personal</td>\n",
       "      <td>personal</td>\n",
       "      <td>Organization,Person</td>\n",
       "    </tr>\n",
       "    <tr>\n",
       "      <th>4283</th>\n",
       "      <td>mk pspt num</td>\n",
       "      <td>non-personal</td>\n",
       "      <td>personal</td>\n",
       "      <td>Passport</td>\n",
       "    </tr>\n",
       "    <tr>\n",
       "      <th>4418</th>\n",
       "      <td>cgjmrgblsrbp</td>\n",
       "      <td>non-personal</td>\n",
       "      <td>personal</td>\n",
       "      <td>Phone_number</td>\n",
       "    </tr>\n",
       "    <tr>\n",
       "      <th>4706</th>\n",
       "      <td>sender.1</td>\n",
       "      <td>non-personal</td>\n",
       "      <td>personal</td>\n",
       "      <td>SWIFT/BIC</td>\n",
       "    </tr>\n",
       "    <tr>\n",
       "      <th>4776</th>\n",
       "      <td>baranjesifra</td>\n",
       "      <td>non-personal</td>\n",
       "      <td>personal</td>\n",
       "      <td>SWIFT/BIC</td>\n",
       "    </tr>\n",
       "    <tr>\n",
       "      <th>4779</th>\n",
       "      <td>opis14 1</td>\n",
       "      <td>non-personal</td>\n",
       "      <td>personal</td>\n",
       "      <td>SWIFT/BIC</td>\n",
       "    </tr>\n",
       "    <tr>\n",
       "      <th>5155</th>\n",
       "      <td>province.4</td>\n",
       "      <td>non-personal</td>\n",
       "      <td>personal</td>\n",
       "      <td>Address</td>\n",
       "    </tr>\n",
       "    <tr>\n",
       "      <th>5284</th>\n",
       "      <td>person_last_name.5</td>\n",
       "      <td>non-personal</td>\n",
       "      <td>personal</td>\n",
       "      <td>Organization,Person</td>\n",
       "    </tr>\n",
       "    <tr>\n",
       "      <th>6051</th>\n",
       "      <td>address_line1</td>\n",
       "      <td>non-personal</td>\n",
       "      <td>personal</td>\n",
       "      <td>Address</td>\n",
       "    </tr>\n",
       "    <tr>\n",
       "      <th>6101</th>\n",
       "      <td>jawrmqglcfic</td>\n",
       "      <td>non-personal</td>\n",
       "      <td>personal</td>\n",
       "      <td>SWIFT/BIC</td>\n",
       "    </tr>\n",
       "    <tr>\n",
       "      <th>6203</th>\n",
       "      <td>city.23</td>\n",
       "      <td>non-personal</td>\n",
       "      <td>personal</td>\n",
       "      <td>Address</td>\n",
       "    </tr>\n",
       "  </tbody>\n",
       "</table>\n",
       "</div>"
      ],
      "text/plain": [
       "                   Column    Prediction True Label      original labels\n",
       "156          bmruvtgciveg  non-personal   personal            SWIFT/BIC\n",
       "256          zbpozurvpbcj  non-personal   personal           Other_data\n",
       "487          dtyzjfihtxvj  non-personal   personal            SWIFT/BIC\n",
       "885          zdittbhttzwu  non-personal   personal            SWIFT/BIC\n",
       "1514         gfgxyrajzwtb  non-personal   personal             Passport\n",
       "2852         ceodwfalfcih  non-personal   personal            SWIFT/BIC\n",
       "3595             nsmetka3  non-personal   personal            SWIFT/BIC\n",
       "3653         fqhezsttzrgd  non-personal   personal           Other_data\n",
       "3811         qsoobhzufpbr  non-personal   personal            SWIFT/BIC\n",
       "4102  organization_code.4  non-personal   personal  Organization,Person\n",
       "4283          mk pspt num  non-personal   personal             Passport\n",
       "4418         cgjmrgblsrbp  non-personal   personal         Phone_number\n",
       "4706             sender.1  non-personal   personal            SWIFT/BIC\n",
       "4776         baranjesifra  non-personal   personal            SWIFT/BIC\n",
       "4779             opis14 1  non-personal   personal            SWIFT/BIC\n",
       "5155           province.4  non-personal   personal              Address\n",
       "5284   person_last_name.5  non-personal   personal  Organization,Person\n",
       "6051        address_line1  non-personal   personal              Address\n",
       "6101         jawrmqglcfic  non-personal   personal            SWIFT/BIC\n",
       "6203              city.23  non-personal   personal              Address"
      ]
     },
     "execution_count": 183,
     "metadata": {},
     "output_type": "execute_result"
    }
   ],
   "source": [
    "#False negatives -- personal --> non-personal\n",
    "fnneg_dessi1 = compdessi.loc[(compdessi[\"True Label\"] == \"personal\") & (compdessi[\"Prediction\"] == \"non-personal\")]\n",
    "fnneg_dessi1"
   ]
  },
  {
   "cell_type": "code",
   "execution_count": 184,
   "metadata": {},
   "outputs": [
    {
     "data": {
      "text/plain": [
       "0      20\n",
       "1      64\n",
       "2     167\n",
       "3     206\n",
       "4     243\n",
       "     ... \n",
       "95     89\n",
       "96     40\n",
       "97     61\n",
       "98    149\n",
       "99     31\n",
       "Name: address_line1, Length: 100, dtype: int64"
      ]
     },
     "execution_count": 184,
     "metadata": {},
     "output_type": "execute_result"
    }
   ],
   "source": [
    "test_dessi1['address_line1']"
   ]
  },
  {
   "cell_type": "code",
   "execution_count": 185,
   "metadata": {},
   "outputs": [
    {
     "data": {
      "text/plain": [
       "0     PQXOGBX4\n",
       "1     QKNYGBEI\n",
       "2     WYJHGBB5\n",
       "3     KAXOGBZB\n",
       "4     JBMKGBTJ\n",
       "        ...   \n",
       "95    ECXZGBZ6\n",
       "96    JYXKGB2V\n",
       "97    UWZHGBM4\n",
       "98    GNWQGBPG\n",
       "99    OMITGBI1\n",
       "Name: hhovmccsniuw, Length: 100, dtype: object"
      ]
     },
     "execution_count": 185,
     "metadata": {},
     "output_type": "execute_result"
    }
   ],
   "source": [
    "test_dessi1['hhovmccsniuw']"
   ]
  },
  {
   "cell_type": "code",
   "execution_count": 186,
   "metadata": {},
   "outputs": [
    {
     "data": {
      "text/html": [
       "<div>\n",
       "<style scoped>\n",
       "    .dataframe tbody tr th:only-of-type {\n",
       "        vertical-align: middle;\n",
       "    }\n",
       "\n",
       "    .dataframe tbody tr th {\n",
       "        vertical-align: top;\n",
       "    }\n",
       "\n",
       "    .dataframe thead th {\n",
       "        text-align: right;\n",
       "    }\n",
       "</style>\n",
       "<table border=\"1\" class=\"dataframe\">\n",
       "  <thead>\n",
       "    <tr style=\"text-align: right;\">\n",
       "      <th></th>\n",
       "      <th>Column</th>\n",
       "      <th>Prediction</th>\n",
       "      <th>True Label</th>\n",
       "      <th>original labels</th>\n",
       "    </tr>\n",
       "  </thead>\n",
       "  <tbody>\n",
       "    <tr>\n",
       "      <th>252</th>\n",
       "      <td>country code</td>\n",
       "      <td>personal</td>\n",
       "      <td>non-personal</td>\n",
       "      <td>IBAN</td>\n",
       "    </tr>\n",
       "    <tr>\n",
       "      <th>1332</th>\n",
       "      <td>zyvgmmultuuz</td>\n",
       "      <td>personal</td>\n",
       "      <td>non-personal</td>\n",
       "      <td>Other_data</td>\n",
       "    </tr>\n",
       "    <tr>\n",
       "      <th>1681</th>\n",
       "      <td>rsjvkpzxfilg</td>\n",
       "      <td>personal</td>\n",
       "      <td>non-personal</td>\n",
       "      <td>Other_data</td>\n",
       "    </tr>\n",
       "    <tr>\n",
       "      <th>1875</th>\n",
       "      <td>staff_id.4</td>\n",
       "      <td>personal</td>\n",
       "      <td>non-personal</td>\n",
       "      <td>Other_data</td>\n",
       "    </tr>\n",
       "    <tr>\n",
       "      <th>1956</th>\n",
       "      <td>keuecyurpatn</td>\n",
       "      <td>personal</td>\n",
       "      <td>non-personal</td>\n",
       "      <td>Other_data</td>\n",
       "    </tr>\n",
       "    <tr>\n",
       "      <th>3532</th>\n",
       "      <td>lfjbqqpqzewq</td>\n",
       "      <td>personal</td>\n",
       "      <td>non-personal</td>\n",
       "      <td>Other_data</td>\n",
       "    </tr>\n",
       "    <tr>\n",
       "      <th>4266</th>\n",
       "      <td>adquntsycyxf</td>\n",
       "      <td>personal</td>\n",
       "      <td>non-personal</td>\n",
       "      <td>Other_data</td>\n",
       "    </tr>\n",
       "    <tr>\n",
       "      <th>5626</th>\n",
       "      <td>hhovmccsniuw</td>\n",
       "      <td>personal</td>\n",
       "      <td>non-personal</td>\n",
       "      <td>Other_data</td>\n",
       "    </tr>\n",
       "  </tbody>\n",
       "</table>\n",
       "</div>"
      ],
      "text/plain": [
       "            Column Prediction    True Label original labels\n",
       "252   country code   personal  non-personal            IBAN\n",
       "1332  zyvgmmultuuz   personal  non-personal      Other_data\n",
       "1681  rsjvkpzxfilg   personal  non-personal      Other_data\n",
       "1875    staff_id.4   personal  non-personal      Other_data\n",
       "1956  keuecyurpatn   personal  non-personal      Other_data\n",
       "3532  lfjbqqpqzewq   personal  non-personal      Other_data\n",
       "4266  adquntsycyxf   personal  non-personal      Other_data\n",
       "5626  hhovmccsniuw   personal  non-personal      Other_data"
      ]
     },
     "execution_count": 186,
     "metadata": {},
     "output_type": "execute_result"
    }
   ],
   "source": [
    "#False negatives -- personal --> non-personal\n",
    "fnpos_dessi1 = compdessi.loc[(results_df_test_dess1[\"True Label\"] == \"non-personal\") & (compdessi[\"Prediction\"] == \"personal\")]\n",
    "fnpos_dessi1"
   ]
  },
  {
   "cell_type": "code",
   "execution_count": 187,
   "metadata": {},
   "outputs": [
    {
     "data": {
      "image/png": "[encoded data removed]",
      "text/plain": [
       "<Figure size 640x480 with 2 Axes>"
      ]
     },
     "metadata": {},
     "output_type": "display_data"
    }
   ],
   "source": [
    "from sklearn.metrics import confusion_matrix, ConfusionMatrixDisplay\n",
    "import matplotlib.pyplot as plt\n",
    "cmdessi = confusion_matrix(results_df_test_dess1[\"True Label\"],results_df_test_dess1[\"Prediction\"])\n",
    "disp1 = ConfusionMatrixDisplay(confusion_matrix=cmdessi, display_labels=['non-personal', 'personal'])\n",
    "disp1.plot()\n",
    "plt.show()"
   ]
  },
  {
   "cell_type": "markdown",
   "metadata": {},
   "source": [
    "# Kaggle Datasets"
   ]
  },
  {
   "cell_type": "code",
   "execution_count": 188,
   "metadata": {},
   "outputs": [],
   "source": [
    "test_kaggle = pd.read_csv(\"../../datasets/kaggle_datasets/all_datasets.csv\")\n",
    "test_kaggle_personal = pd.read_csv(\"../../datasets/kaggle_datasets/all_datasets_labels_personal.csv\")"
   ]
  },
  {
   "cell_type": "code",
   "execution_count": 189,
   "metadata": {},
   "outputs": [],
   "source": [
    "kaggle_true = pd.read_csv(\"../CASSED_model_results/cassed_personal/kaggle/true.csv\")\n",
    "kaggle_pred = pd.read_csv(\"../CASSED_model_results/cassed_personal/kaggle/predicted.csv\")\n",
    "kaggle_target_names = pd.read_csv(\"../CASSED_model_results/cassed_personal/kaggle/target_names.csv\")\n",
    "kaggle_target_names = {a[1]: a[0] for a in kaggle_target_names[[\"0\", \"0.1\"]].values}\n",
    "kaggle_target_names[0] = \"no prediction\""
   ]
  },
  {
   "cell_type": "code",
   "execution_count": 190,
   "metadata": {},
   "outputs": [
    {
     "data": {
      "text/plain": [
       "{2: 'non-personal', 1: 'personal', 0: 'no prediction'}"
      ]
     },
     "execution_count": 190,
     "metadata": {},
     "output_type": "execute_result"
    }
   ],
   "source": [
    "kaggle_target_names"
   ]
  },
  {
   "cell_type": "code",
   "execution_count": 191,
   "metadata": {},
   "outputs": [],
   "source": [
    "predictions, true = [], []\n",
    "for i in range(kaggle_true.shape[0]):\n",
    "    predictions.append([kaggle_target_names[e] for e, b in enumerate(kaggle_pred.iloc[i,:]) if b == 1])\n",
    "    true.append([kaggle_target_names[e] for e, b in enumerate(kaggle_true.iloc[i,:]) if b == 1])\n",
    "true = [a[0] for a in true]\n",
    "predictions = [a[0] for a in predictions]"
   ]
  },
  {
   "cell_type": "code",
   "execution_count": 192,
   "metadata": {},
   "outputs": [
    {
     "data": {
      "text/plain": [
       "['non-personal',\n",
       " 'non-personal',\n",
       " 'non-personal',\n",
       " 'non-personal',\n",
       " 'non-personal',\n",
       " 'non-personal',\n",
       " 'non-personal',\n",
       " 'non-personal',\n",
       " 'non-personal',\n",
       " 'non-personal',\n",
       " 'non-personal',\n",
       " 'non-personal',\n",
       " 'non-personal',\n",
       " 'non-personal',\n",
       " 'personal',\n",
       " 'personal',\n",
       " 'non-personal',\n",
       " 'non-personal',\n",
       " 'non-personal',\n",
       " 'personal',\n",
       " 'non-personal',\n",
       " 'non-personal',\n",
       " 'non-personal',\n",
       " 'non-personal',\n",
       " 'non-personal',\n",
       " 'non-personal',\n",
       " 'non-personal',\n",
       " 'non-personal',\n",
       " 'non-personal',\n",
       " 'personal',\n",
       " 'personal',\n",
       " 'non-personal',\n",
       " 'non-personal',\n",
       " 'non-personal',\n",
       " 'non-personal',\n",
       " 'non-personal',\n",
       " 'non-personal',\n",
       " 'non-personal',\n",
       " 'non-personal',\n",
       " 'non-personal',\n",
       " 'non-personal',\n",
       " 'personal',\n",
       " 'non-personal',\n",
       " 'non-personal',\n",
       " 'non-personal',\n",
       " 'non-personal',\n",
       " 'non-personal',\n",
       " 'non-personal',\n",
       " 'non-personal',\n",
       " 'non-personal',\n",
       " 'non-personal',\n",
       " 'non-personal',\n",
       " 'non-personal',\n",
       " 'non-personal',\n",
       " 'non-personal',\n",
       " 'personal',\n",
       " 'non-personal',\n",
       " 'non-personal',\n",
       " 'non-personal',\n",
       " 'non-personal',\n",
       " 'non-personal',\n",
       " 'non-personal',\n",
       " 'non-personal',\n",
       " 'non-personal',\n",
       " 'non-personal',\n",
       " 'non-personal',\n",
       " 'non-personal',\n",
       " 'non-personal',\n",
       " 'non-personal',\n",
       " 'non-personal',\n",
       " 'personal',\n",
       " 'non-personal',\n",
       " 'non-personal',\n",
       " 'non-personal',\n",
       " 'non-personal',\n",
       " 'non-personal',\n",
       " 'non-personal',\n",
       " 'non-personal',\n",
       " 'non-personal',\n",
       " 'non-personal',\n",
       " 'non-personal',\n",
       " 'non-personal',\n",
       " 'non-personal',\n",
       " 'non-personal',\n",
       " 'non-personal',\n",
       " 'non-personal',\n",
       " 'non-personal',\n",
       " 'non-personal',\n",
       " 'non-personal',\n",
       " 'non-personal',\n",
       " 'non-personal',\n",
       " 'non-personal',\n",
       " 'non-personal',\n",
       " 'non-personal',\n",
       " 'non-personal',\n",
       " 'non-personal',\n",
       " 'non-personal',\n",
       " 'personal',\n",
       " 'non-personal',\n",
       " 'non-personal',\n",
       " 'non-personal',\n",
       " 'non-personal',\n",
       " 'non-personal',\n",
       " 'non-personal',\n",
       " 'non-personal',\n",
       " 'non-personal',\n",
       " 'non-personal',\n",
       " 'non-personal',\n",
       " 'non-personal',\n",
       " 'non-personal',\n",
       " 'non-personal',\n",
       " 'personal',\n",
       " 'personal',\n",
       " 'non-personal',\n",
       " 'personal',\n",
       " 'non-personal',\n",
       " 'non-personal',\n",
       " 'non-personal',\n",
       " 'non-personal',\n",
       " 'non-personal',\n",
       " 'non-personal',\n",
       " 'non-personal',\n",
       " 'non-personal',\n",
       " 'non-personal',\n",
       " 'non-personal',\n",
       " 'non-personal',\n",
       " 'non-personal',\n",
       " 'non-personal',\n",
       " 'non-personal',\n",
       " 'non-personal',\n",
       " 'non-personal',\n",
       " 'non-personal',\n",
       " 'non-personal',\n",
       " 'non-personal',\n",
       " 'non-personal',\n",
       " 'non-personal',\n",
       " 'non-personal',\n",
       " 'non-personal',\n",
       " 'non-personal',\n",
       " 'non-personal',\n",
       " 'non-personal',\n",
       " 'non-personal',\n",
       " 'non-personal',\n",
       " 'non-personal',\n",
       " 'non-personal',\n",
       " 'non-personal',\n",
       " 'non-personal',\n",
       " 'non-personal',\n",
       " 'non-personal',\n",
       " 'non-personal',\n",
       " 'non-personal',\n",
       " 'personal',\n",
       " 'non-personal',\n",
       " 'personal',\n",
       " 'non-personal',\n",
       " 'non-personal',\n",
       " 'non-personal',\n",
       " 'personal',\n",
       " 'non-personal',\n",
       " 'non-personal',\n",
       " 'non-personal',\n",
       " 'personal',\n",
       " 'personal',\n",
       " 'non-personal',\n",
       " 'non-personal',\n",
       " 'non-personal',\n",
       " 'non-personal',\n",
       " 'personal',\n",
       " 'non-personal',\n",
       " 'personal',\n",
       " 'non-personal',\n",
       " 'non-personal',\n",
       " 'non-personal',\n",
       " 'non-personal',\n",
       " 'personal',\n",
       " 'non-personal',\n",
       " 'non-personal',\n",
       " 'non-personal',\n",
       " 'personal',\n",
       " 'personal',\n",
       " 'personal',\n",
       " 'personal',\n",
       " 'non-personal',\n",
       " 'personal',\n",
       " 'non-personal',\n",
       " 'non-personal',\n",
       " 'non-personal',\n",
       " 'non-personal',\n",
       " 'non-personal',\n",
       " 'non-personal',\n",
       " 'non-personal',\n",
       " 'personal',\n",
       " 'non-personal',\n",
       " 'personal',\n",
       " 'non-personal',\n",
       " 'non-personal',\n",
       " 'non-personal',\n",
       " 'non-personal',\n",
       " 'non-personal',\n",
       " 'non-personal',\n",
       " 'non-personal',\n",
       " 'non-personal',\n",
       " 'non-personal',\n",
       " 'non-personal',\n",
       " 'non-personal',\n",
       " 'non-personal',\n",
       " 'non-personal',\n",
       " 'non-personal',\n",
       " 'non-personal',\n",
       " 'non-personal',\n",
       " 'non-personal',\n",
       " 'non-personal',\n",
       " 'non-personal',\n",
       " 'non-personal',\n",
       " 'non-personal',\n",
       " 'non-personal',\n",
       " 'non-personal',\n",
       " 'non-personal',\n",
       " 'personal',\n",
       " 'non-personal',\n",
       " 'non-personal',\n",
       " 'non-personal',\n",
       " 'non-personal',\n",
       " 'non-personal',\n",
       " 'non-personal',\n",
       " 'non-personal',\n",
       " 'personal',\n",
       " 'personal',\n",
       " 'non-personal',\n",
       " 'non-personal',\n",
       " 'non-personal',\n",
       " 'non-personal',\n",
       " 'non-personal',\n",
       " 'non-personal',\n",
       " 'non-personal',\n",
       " 'non-personal',\n",
       " 'personal',\n",
       " 'non-personal',\n",
       " 'non-personal',\n",
       " 'personal',\n",
       " 'non-personal',\n",
       " 'non-personal',\n",
       " 'non-personal',\n",
       " 'non-personal',\n",
       " 'non-personal',\n",
       " 'non-personal']"
      ]
     },
     "execution_count": 192,
     "metadata": {},
     "output_type": "execute_result"
    }
   ],
   "source": [
    "predictions"
   ]
  },
  {
   "cell_type": "code",
   "execution_count": 193,
   "metadata": {},
   "outputs": [
    {
     "data": {
      "application/vnd.plotly.v1+json": {
       "config": {
        "plotlyServerURL": "https://plot.ly"
       },
       "data": [
        {
         "showlegend": false,
         "type": "bar",
         "x": [
          "weighted Precision",
          "weighted Recall",
          "weighted F1 Score",
          "Accuracy",
          "AUC-ROC"
         ],
         "xaxis": "x",
         "y": [
          0.4875223197325431,
          0.3861788617886179,
          0.3080776958378859,
          0.3861788617886179,
          0.48114143920595537
         ],
         "yaxis": "y"
        },
        {
         "colorscale": [
          [
           0,
           "rgb(247,251,255)"
          ],
          [
           0.125,
           "rgb(222,235,247)"
          ],
          [
           0.25,
           "rgb(198,219,239)"
          ],
          [
           0.375,
           "rgb(158,202,225)"
          ],
          [
           0.5,
           "rgb(107,174,214)"
          ],
          [
           0.625,
           "rgb(66,146,198)"
          ],
          [
           0.75,
           "rgb(33,113,181)"
          ],
          [
           0.875,
           "rgb(8,81,156)"
          ],
          [
           1,
           "rgb(8,48,107)"
          ]
         ],
         "showscale": false,
         "text": [
          [
           "18<br>0.12",
           "137<br>0.88"
          ],
          [
           "14<br>0.15",
           "77<br>0.85"
          ]
         ],
         "textfont": {
          "size": 20
         },
         "texttemplate": "%{text}",
         "type": "heatmap",
         "x": [
          "Pred: personal",
          "Pred: non-personal"
         ],
         "xaxis": "x2",
         "y": [
          "True: personal",
          "True: non-personal"
         ],
         "yaxis": "y2",
         "z": [
          [
           18,
           137
          ],
          [
           14,
           77
          ]
         ]
        }
       ],
       "layout": {
        "annotations": [
         {
          "font": {
           "size": 16
          },
          "showarrow": false,
          "text": "Evaluation Metrics",
          "x": 0.225,
          "xanchor": "center",
          "xref": "paper",
          "y": 1,
          "yanchor": "bottom",
          "yref": "paper"
         },
         {
          "font": {
           "size": 16
          },
          "showarrow": false,
          "text": "Confusion Matrix",
          "x": 0.775,
          "xanchor": "center",
          "xref": "paper",
          "y": 1,
          "yanchor": "bottom",
          "yref": "paper"
         }
        ],
        "height": 500,
        "showlegend": false,
        "template": {
         "data": {
          "bar": [
           {
            "error_x": {
             "color": "#2a3f5f"
            },
            "error_y": {
             "color": "#2a3f5f"
            },
            "marker": {
             "line": {
              "color": "#E5ECF6",
              "width": 0.5
             },
             "pattern": {
              "fillmode": "overlay",
              "size": 10,
              "solidity": 0.2
             }
            },
            "type": "bar"
           }
          ],
          "barpolar": [
           {
            "marker": {
             "line": {
              "color": "#E5ECF6",
              "width": 0.5
             },
             "pattern": {
              "fillmode": "overlay",
              "size": 10,
              "solidity": 0.2
             }
            },
            "type": "barpolar"
           }
          ],
          "carpet": [
           {
            "aaxis": {
             "endlinecolor": "#2a3f5f",
             "gridcolor": "white",
             "linecolor": "white",
             "minorgridcolor": "white",
             "startlinecolor": "#2a3f5f"
            },
            "baxis": {
             "endlinecolor": "#2a3f5f",
             "gridcolor": "white",
             "linecolor": "white",
             "minorgridcolor": "white",
             "startlinecolor": "#2a3f5f"
            },
            "type": "carpet"
           }
          ],
          "choropleth": [
           {
            "colorbar": {
             "outlinewidth": 0,
             "ticks": ""
            },
            "type": "choropleth"
           }
          ],
          "contour": [
           {
            "colorbar": {
             "outlinewidth": 0,
             "ticks": ""
            },
            "colorscale": [
             [
              0,
              "#0d0887"
             ],
             [
              0.1111111111111111,
              "#46039f"
             ],
             [
              0.2222222222222222,
              "#7201a8"
             ],
             [
              0.3333333333333333,
              "#9c179e"
             ],
             [
              0.4444444444444444,
              "#bd3786"
             ],
             [
              0.5555555555555556,
              "#d8576b"
             ],
             [
              0.6666666666666666,
              "#ed7953"
             ],
             [
              0.7777777777777778,
              "#fb9f3a"
             ],
             [
              0.8888888888888888,
              "#fdca26"
             ],
             [
              1,
              "#f0f921"
             ]
            ],
            "type": "contour"
           }
          ],
          "contourcarpet": [
           {
            "colorbar": {
             "outlinewidth": 0,
             "ticks": ""
            },
            "type": "contourcarpet"
           }
          ],
          "heatmap": [
           {
            "colorbar": {
             "outlinewidth": 0,
             "ticks": ""
            },
            "colorscale": [
             [
              0,
              "#0d0887"
             ],
             [
              0.1111111111111111,
              "#46039f"
             ],
             [
              0.2222222222222222,
              "#7201a8"
             ],
             [
              0.3333333333333333,
              "#9c179e"
             ],
             [
              0.4444444444444444,
              "#bd3786"
             ],
             [
              0.5555555555555556,
              "#d8576b"
             ],
             [
              0.6666666666666666,
              "#ed7953"
             ],
             [
              0.7777777777777778,
              "#fb9f3a"
             ],
             [
              0.8888888888888888,
              "#fdca26"
             ],
             [
              1,
              "#f0f921"
             ]
            ],
            "type": "heatmap"
           }
          ],
          "heatmapgl": [
           {
            "colorbar": {
             "outlinewidth": 0,
             "ticks": ""
            },
            "colorscale": [
             [
              0,
              "#0d0887"
             ],
             [
              0.1111111111111111,
              "#46039f"
             ],
             [
              0.2222222222222222,
              "#7201a8"
             ],
             [
              0.3333333333333333,
              "#9c179e"
             ],
             [
              0.4444444444444444,
              "#bd3786"
             ],
             [
              0.5555555555555556,
              "#d8576b"
             ],
             [
              0.6666666666666666,
              "#ed7953"
             ],
             [
              0.7777777777777778,
              "#fb9f3a"
             ],
             [
              0.8888888888888888,
              "#fdca26"
             ],
             [
              1,
              "#f0f921"
             ]
            ],
            "type": "heatmapgl"
           }
          ],
          "histogram": [
           {
            "marker": {
             "pattern": {
              "fillmode": "overlay",
              "size": 10,
              "solidity": 0.2
             }
            },
            "type": "histogram"
           }
          ],
          "histogram2d": [
           {
            "colorbar": {
             "outlinewidth": 0,
             "ticks": ""
            },
            "colorscale": [
             [
              0,
              "#0d0887"
             ],
             [
              0.1111111111111111,
              "#46039f"
             ],
             [
              0.2222222222222222,
              "#7201a8"
             ],
             [
              0.3333333333333333,
              "#9c179e"
             ],
             [
              0.4444444444444444,
              "#bd3786"
             ],
             [
              0.5555555555555556,
              "#d8576b"
             ],
             [
              0.6666666666666666,
              "#ed7953"
             ],
             [
              0.7777777777777778,
              "#fb9f3a"
             ],
             [
              0.8888888888888888,
              "#fdca26"
             ],
             [
              1,
              "#f0f921"
             ]
            ],
            "type": "histogram2d"
           }
          ],
          "histogram2dcontour": [
           {
            "colorbar": {
             "outlinewidth": 0,
             "ticks": ""
            },
            "colorscale": [
             [
              0,
              "#0d0887"
             ],
             [
              0.1111111111111111,
              "#46039f"
             ],
             [
              0.2222222222222222,
              "#7201a8"
             ],
             [
              0.3333333333333333,
              "#9c179e"
             ],
             [
              0.4444444444444444,
              "#bd3786"
             ],
             [
              0.5555555555555556,
              "#d8576b"
             ],
             [
              0.6666666666666666,
              "#ed7953"
             ],
             [
              0.7777777777777778,
              "#fb9f3a"
             ],
             [
              0.8888888888888888,
              "#fdca26"
             ],
             [
              1,
              "#f0f921"
             ]
            ],
            "type": "histogram2dcontour"
           }
          ],
          "mesh3d": [
           {
            "colorbar": {
             "outlinewidth": 0,
             "ticks": ""
            },
            "type": "mesh3d"
           }
          ],
          "parcoords": [
           {
            "line": {
             "colorbar": {
              "outlinewidth": 0,
              "ticks": ""
             }
            },
            "type": "parcoords"
           }
          ],
          "pie": [
           {
            "automargin": true,
            "type": "pie"
           }
          ],
          "scatter": [
           {
            "fillpattern": {
             "fillmode": "overlay",
             "size": 10,
             "solidity": 0.2
            },
            "type": "scatter"
           }
          ],
          "scatter3d": [
           {
            "line": {
             "colorbar": {
              "outlinewidth": 0,
              "ticks": ""
             }
            },
            "marker": {
             "colorbar": {
              "outlinewidth": 0,
              "ticks": ""
             }
            },
            "type": "scatter3d"
           }
          ],
          "scattercarpet": [
           {
            "marker": {
             "colorbar": {
              "outlinewidth": 0,
              "ticks": ""
             }
            },
            "type": "scattercarpet"
           }
          ],
          "scattergeo": [
           {
            "marker": {
             "colorbar": {
              "outlinewidth": 0,
              "ticks": ""
             }
            },
            "type": "scattergeo"
           }
          ],
          "scattergl": [
           {
            "marker": {
             "colorbar": {
              "outlinewidth": 0,
              "ticks": ""
             }
            },
            "type": "scattergl"
           }
          ],
          "scattermapbox": [
           {
            "marker": {
             "colorbar": {
              "outlinewidth": 0,
              "ticks": ""
             }
            },
            "type": "scattermapbox"
           }
          ],
          "scatterpolar": [
           {
            "marker": {
             "colorbar": {
              "outlinewidth": 0,
              "ticks": ""
             }
            },
            "type": "scatterpolar"
           }
          ],
          "scatterpolargl": [
           {
            "marker": {
             "colorbar": {
              "outlinewidth": 0,
              "ticks": ""
             }
            },
            "type": "scatterpolargl"
           }
          ],
          "scatterternary": [
           {
            "marker": {
             "colorbar": {
              "outlinewidth": 0,
              "ticks": ""
             }
            },
            "type": "scatterternary"
           }
          ],
          "surface": [
           {
            "colorbar": {
             "outlinewidth": 0,
             "ticks": ""
            },
            "colorscale": [
             [
              0,
              "#0d0887"
             ],
             [
              0.1111111111111111,
              "#46039f"
             ],
             [
              0.2222222222222222,
              "#7201a8"
             ],
             [
              0.3333333333333333,
              "#9c179e"
             ],
             [
              0.4444444444444444,
              "#bd3786"
             ],
             [
              0.5555555555555556,
              "#d8576b"
             ],
             [
              0.6666666666666666,
              "#ed7953"
             ],
             [
              0.7777777777777778,
              "#fb9f3a"
             ],
             [
              0.8888888888888888,
              "#fdca26"
             ],
             [
              1,
              "#f0f921"
             ]
            ],
            "type": "surface"
           }
          ],
          "table": [
           {
            "cells": {
             "fill": {
              "color": "#EBF0F8"
             },
             "line": {
              "color": "white"
             }
            },
            "header": {
             "fill": {
              "color": "#C8D4E3"
             },
             "line": {
              "color": "white"
             }
            },
            "type": "table"
           }
          ]
         },
         "layout": {
          "annotationdefaults": {
           "arrowcolor": "#2a3f5f",
           "arrowhead": 0,
           "arrowwidth": 1
          },
          "autotypenumbers": "strict",
          "coloraxis": {
           "colorbar": {
            "outlinewidth": 0,
            "ticks": ""
           }
          },
          "colorscale": {
           "diverging": [
            [
             0,
             "#8e0152"
            ],
            [
             0.1,
             "#c51b7d"
            ],
            [
             0.2,
             "#de77ae"
            ],
            [
             0.3,
             "#f1b6da"
            ],
            [
             0.4,
             "#fde0ef"
            ],
            [
             0.5,
             "#f7f7f7"
            ],
            [
             0.6,
             "#e6f5d0"
            ],
            [
             0.7,
             "#b8e186"
            ],
            [
             0.8,
             "#7fbc41"
            ],
            [
             0.9,
             "#4d9221"
            ],
            [
             1,
             "#276419"
            ]
           ],
           "sequential": [
            [
             0,
             "#0d0887"
            ],
            [
             0.1111111111111111,
             "#46039f"
            ],
            [
             0.2222222222222222,
             "#7201a8"
            ],
            [
             0.3333333333333333,
             "#9c179e"
            ],
            [
             0.4444444444444444,
             "#bd3786"
            ],
            [
             0.5555555555555556,
             "#d8576b"
            ],
            [
             0.6666666666666666,
             "#ed7953"
            ],
            [
             0.7777777777777778,
             "#fb9f3a"
            ],
            [
             0.8888888888888888,
             "#fdca26"
            ],
            [
             1,
             "#f0f921"
            ]
           ],
           "sequentialminus": [
            [
             0,
             "#0d0887"
            ],
            [
             0.1111111111111111,
             "#46039f"
            ],
            [
             0.2222222222222222,
             "#7201a8"
            ],
            [
             0.3333333333333333,
             "#9c179e"
            ],
            [
             0.4444444444444444,
             "#bd3786"
            ],
            [
             0.5555555555555556,
             "#d8576b"
            ],
            [
             0.6666666666666666,
             "#ed7953"
            ],
            [
             0.7777777777777778,
             "#fb9f3a"
            ],
            [
             0.8888888888888888,
             "#fdca26"
            ],
            [
             1,
             "#f0f921"
            ]
           ]
          },
          "colorway": [
           "#636efa",
           "#EF553B",
           "#00cc96",
           "#ab63fa",
           "#FFA15A",
           "#19d3f3",
           "#FF6692",
           "#B6E880",
           "#FF97FF",
           "#FECB52"
          ],
          "font": {
           "color": "#2a3f5f"
          },
          "geo": {
           "bgcolor": "white",
           "lakecolor": "white",
           "landcolor": "#E5ECF6",
           "showlakes": true,
           "showland": true,
           "subunitcolor": "white"
          },
          "hoverlabel": {
           "align": "left"
          },
          "hovermode": "closest",
          "mapbox": {
           "style": "light"
          },
          "paper_bgcolor": "white",
          "plot_bgcolor": "#E5ECF6",
          "polar": {
           "angularaxis": {
            "gridcolor": "white",
            "linecolor": "white",
            "ticks": ""
           },
           "bgcolor": "#E5ECF6",
           "radialaxis": {
            "gridcolor": "white",
            "linecolor": "white",
            "ticks": ""
           }
          },
          "scene": {
           "xaxis": {
            "backgroundcolor": "#E5ECF6",
            "gridcolor": "white",
            "gridwidth": 2,
            "linecolor": "white",
            "showbackground": true,
            "ticks": "",
            "zerolinecolor": "white"
           },
           "yaxis": {
            "backgroundcolor": "#E5ECF6",
            "gridcolor": "white",
            "gridwidth": 2,
            "linecolor": "white",
            "showbackground": true,
            "ticks": "",
            "zerolinecolor": "white"
           },
           "zaxis": {
            "backgroundcolor": "#E5ECF6",
            "gridcolor": "white",
            "gridwidth": 2,
            "linecolor": "white",
            "showbackground": true,
            "ticks": "",
            "zerolinecolor": "white"
           }
          },
          "shapedefaults": {
           "line": {
            "color": "#2a3f5f"
           }
          },
          "ternary": {
           "aaxis": {
            "gridcolor": "white",
            "linecolor": "white",
            "ticks": ""
           },
           "baxis": {
            "gridcolor": "white",
            "linecolor": "white",
            "ticks": ""
           },
           "bgcolor": "#E5ECF6",
           "caxis": {
            "gridcolor": "white",
            "linecolor": "white",
            "ticks": ""
           }
          },
          "title": {
           "x": 0.05
          },
          "xaxis": {
           "automargin": true,
           "gridcolor": "white",
           "linecolor": "white",
           "ticks": "",
           "title": {
            "standoff": 15
           },
           "zerolinecolor": "white",
           "zerolinewidth": 2
          },
          "yaxis": {
           "automargin": true,
           "gridcolor": "white",
           "linecolor": "white",
           "ticks": "",
           "title": {
            "standoff": 15
           },
           "zerolinecolor": "white",
           "zerolinewidth": 2
          }
         }
        },
        "title": {
         "text": "Confusion Matrix and Evaluation Metrics"
        },
        "width": 1000,
        "xaxis": {
         "anchor": "y",
         "domain": [
          0,
          0.45
         ]
        },
        "xaxis2": {
         "anchor": "y2",
         "domain": [
          0.55,
          1
         ]
        },
        "yaxis": {
         "anchor": "x",
         "domain": [
          0,
          1
         ],
         "range": [
          0,
          1.1
         ]
        },
        "yaxis2": {
         "anchor": "x2",
         "domain": [
          0,
          1
         ]
        }
       }
      }
     },
     "metadata": {},
     "output_type": "display_data"
    }
   ],
   "source": [
    "plot_cassed_results(true, predictions)"
   ]
  },
  {
   "cell_type": "code",
   "execution_count": 194,
   "metadata": {},
   "outputs": [],
   "source": [
    "results_df_test_kaggle1 = pd.DataFrame({\n",
    "    \"Column\": test_kaggle.columns,\n",
    "    \"Prediction\": predictions,\n",
    "    \"True Label\": test_kaggle_personal[\"label\"].values\n",
    "    })"
   ]
  },
  {
   "cell_type": "code",
   "execution_count": 195,
   "metadata": {},
   "outputs": [
    {
     "data": {
      "text/html": [
       "<div>\n",
       "<style scoped>\n",
       "    .dataframe tbody tr th:only-of-type {\n",
       "        vertical-align: middle;\n",
       "    }\n",
       "\n",
       "    .dataframe tbody tr th {\n",
       "        vertical-align: top;\n",
       "    }\n",
       "\n",
       "    .dataframe thead th {\n",
       "        text-align: right;\n",
       "    }\n",
       "</style>\n",
       "<table border=\"1\" class=\"dataframe\">\n",
       "  <thead>\n",
       "    <tr style=\"text-align: right;\">\n",
       "      <th></th>\n",
       "      <th>Column</th>\n",
       "      <th>Prediction</th>\n",
       "      <th>True Label</th>\n",
       "    </tr>\n",
       "  </thead>\n",
       "  <tbody>\n",
       "    <tr>\n",
       "      <th>0</th>\n",
       "      <td>ID</td>\n",
       "      <td>non-personal</td>\n",
       "      <td>personal</td>\n",
       "    </tr>\n",
       "    <tr>\n",
       "      <th>1</th>\n",
       "      <td>Reason for absence</td>\n",
       "      <td>non-personal</td>\n",
       "      <td>personal</td>\n",
       "    </tr>\n",
       "    <tr>\n",
       "      <th>2</th>\n",
       "      <td>Month of absence</td>\n",
       "      <td>non-personal</td>\n",
       "      <td>personal</td>\n",
       "    </tr>\n",
       "    <tr>\n",
       "      <th>3</th>\n",
       "      <td>Day of the week</td>\n",
       "      <td>non-personal</td>\n",
       "      <td>personal</td>\n",
       "    </tr>\n",
       "    <tr>\n",
       "      <th>4</th>\n",
       "      <td>Seasons</td>\n",
       "      <td>non-personal</td>\n",
       "      <td>personal</td>\n",
       "    </tr>\n",
       "    <tr>\n",
       "      <th>...</th>\n",
       "      <td>...</td>\n",
       "      <td>...</td>\n",
       "      <td>...</td>\n",
       "    </tr>\n",
       "    <tr>\n",
       "      <th>230</th>\n",
       "      <td>Parch</td>\n",
       "      <td>non-personal</td>\n",
       "      <td>personal</td>\n",
       "    </tr>\n",
       "    <tr>\n",
       "      <th>231</th>\n",
       "      <td>Ticket</td>\n",
       "      <td>non-personal</td>\n",
       "      <td>personal</td>\n",
       "    </tr>\n",
       "    <tr>\n",
       "      <th>232</th>\n",
       "      <td>Fare</td>\n",
       "      <td>non-personal</td>\n",
       "      <td>personal</td>\n",
       "    </tr>\n",
       "    <tr>\n",
       "      <th>233</th>\n",
       "      <td>Cabin</td>\n",
       "      <td>non-personal</td>\n",
       "      <td>personal</td>\n",
       "    </tr>\n",
       "    <tr>\n",
       "      <th>234</th>\n",
       "      <td>Embarked</td>\n",
       "      <td>non-personal</td>\n",
       "      <td>personal</td>\n",
       "    </tr>\n",
       "  </tbody>\n",
       "</table>\n",
       "<p>137 rows × 3 columns</p>\n",
       "</div>"
      ],
      "text/plain": [
       "                 Column    Prediction True Label\n",
       "0                    ID  non-personal   personal\n",
       "1    Reason for absence  non-personal   personal\n",
       "2      Month of absence  non-personal   personal\n",
       "3       Day of the week  non-personal   personal\n",
       "4               Seasons  non-personal   personal\n",
       "..                  ...           ...        ...\n",
       "230               Parch  non-personal   personal\n",
       "231              Ticket  non-personal   personal\n",
       "232                Fare  non-personal   personal\n",
       "233               Cabin  non-personal   personal\n",
       "234            Embarked  non-personal   personal\n",
       "\n",
       "[137 rows x 3 columns]"
      ]
     },
     "execution_count": 195,
     "metadata": {},
     "output_type": "execute_result"
    }
   ],
   "source": [
    "#False negatives -- personal --> personal\n",
    "fnneg_kag = results_df_test_kaggle1.loc[(results_df_test_kaggle1[\"True Label\"] == \"personal\") & (results_df_test_kaggle1[\"Prediction\"] == \"non-personal\")]\n",
    "fnneg_kag"
   ]
  },
  {
   "cell_type": "code",
   "execution_count": null,
   "metadata": {},
   "outputs": [],
   "source": [
    "test_kaggle[fnneg_kag]"
   ]
  },
  {
   "cell_type": "code",
   "execution_count": null,
   "metadata": {},
   "outputs": [],
   "source": []
  },
  {
   "cell_type": "code",
   "execution_count": 196,
   "metadata": {},
   "outputs": [
    {
     "data": {
      "text/html": [
       "<div>\n",
       "<style scoped>\n",
       "    .dataframe tbody tr th:only-of-type {\n",
       "        vertical-align: middle;\n",
       "    }\n",
       "\n",
       "    .dataframe tbody tr th {\n",
       "        vertical-align: top;\n",
       "    }\n",
       "\n",
       "    .dataframe thead th {\n",
       "        text-align: right;\n",
       "    }\n",
       "</style>\n",
       "<table border=\"1\" class=\"dataframe\">\n",
       "  <thead>\n",
       "    <tr style=\"text-align: right;\">\n",
       "      <th></th>\n",
       "      <th>Column</th>\n",
       "      <th>Prediction</th>\n",
       "      <th>True Label</th>\n",
       "    </tr>\n",
       "  </thead>\n",
       "  <tbody>\n",
       "    <tr>\n",
       "      <th>41</th>\n",
       "      <td>Soil type</td>\n",
       "      <td>personal</td>\n",
       "      <td>non-personal</td>\n",
       "    </tr>\n",
       "    <tr>\n",
       "      <th>111</th>\n",
       "      <td>fullAddress</td>\n",
       "      <td>personal</td>\n",
       "      <td>non-personal</td>\n",
       "    </tr>\n",
       "    <tr>\n",
       "      <th>112</th>\n",
       "      <td>postcode</td>\n",
       "      <td>personal</td>\n",
       "      <td>non-personal</td>\n",
       "    </tr>\n",
       "    <tr>\n",
       "      <th>114</th>\n",
       "      <td>outcode</td>\n",
       "      <td>personal</td>\n",
       "      <td>non-personal</td>\n",
       "    </tr>\n",
       "    <tr>\n",
       "      <th>151</th>\n",
       "      <td>REGISTERED_OFFICE_ADDRESS</td>\n",
       "      <td>personal</td>\n",
       "      <td>non-personal</td>\n",
       "    </tr>\n",
       "    <tr>\n",
       "      <th>153</th>\n",
       "      <td>EMAIL_ADDR</td>\n",
       "      <td>personal</td>\n",
       "      <td>non-personal</td>\n",
       "    </tr>\n",
       "    <tr>\n",
       "      <th>174</th>\n",
       "      <td>movie</td>\n",
       "      <td>personal</td>\n",
       "      <td>non-personal</td>\n",
       "    </tr>\n",
       "    <tr>\n",
       "      <th>178</th>\n",
       "      <td>plot_summary</td>\n",
       "      <td>personal</td>\n",
       "      <td>non-personal</td>\n",
       "    </tr>\n",
       "    <tr>\n",
       "      <th>179</th>\n",
       "      <td>director</td>\n",
       "      <td>personal</td>\n",
       "      <td>non-personal</td>\n",
       "    </tr>\n",
       "    <tr>\n",
       "      <th>180</th>\n",
       "      <td>writer</td>\n",
       "      <td>personal</td>\n",
       "      <td>non-personal</td>\n",
       "    </tr>\n",
       "    <tr>\n",
       "      <th>181</th>\n",
       "      <td>main_characters</td>\n",
       "      <td>personal</td>\n",
       "      <td>non-personal</td>\n",
       "    </tr>\n",
       "    <tr>\n",
       "      <th>183</th>\n",
       "      <td>main_voice_actors</td>\n",
       "      <td>personal</td>\n",
       "      <td>non-personal</td>\n",
       "    </tr>\n",
       "    <tr>\n",
       "      <th>236</th>\n",
       "      <td>model</td>\n",
       "      <td>personal</td>\n",
       "      <td>non-personal</td>\n",
       "    </tr>\n",
       "    <tr>\n",
       "      <th>239</th>\n",
       "      <td>kmDriven</td>\n",
       "      <td>personal</td>\n",
       "      <td>non-personal</td>\n",
       "    </tr>\n",
       "  </tbody>\n",
       "</table>\n",
       "</div>"
      ],
      "text/plain": [
       "                        Column Prediction    True Label\n",
       "41                   Soil type   personal  non-personal\n",
       "111                fullAddress   personal  non-personal\n",
       "112                   postcode   personal  non-personal\n",
       "114                    outcode   personal  non-personal\n",
       "151  REGISTERED_OFFICE_ADDRESS   personal  non-personal\n",
       "153                 EMAIL_ADDR   personal  non-personal\n",
       "174                      movie   personal  non-personal\n",
       "178               plot_summary   personal  non-personal\n",
       "179                   director   personal  non-personal\n",
       "180                     writer   personal  non-personal\n",
       "181            main_characters   personal  non-personal\n",
       "183          main_voice_actors   personal  non-personal\n",
       "236                      model   personal  non-personal\n",
       "239                   kmDriven   personal  non-personal"
      ]
     },
     "execution_count": 196,
     "metadata": {},
     "output_type": "execute_result"
    }
   ],
   "source": [
    "# false positive -- non personal --> personal\n",
    "falsep_kag = results_df_test_kaggle1.loc[(results_df_test_kaggle1[\"True Label\"] == \"non-personal\") & (results_df_test_kaggle1[\"Prediction\"] == \"personal\")]\n",
    "falsep_kag"
   ]
  },
  {
   "cell_type": "code",
   "execution_count": 197,
   "metadata": {},
   "outputs": [
    {
     "data": {
      "image/png": "[encoded data removed]",
      "text/plain": [
       "<Figure size 640x480 with 2 Axes>"
      ]
     },
     "metadata": {},
     "output_type": "display_data"
    }
   ],
   "source": [
    "from sklearn.metrics import confusion_matrix, ConfusionMatrixDisplay\n",
    "import matplotlib.pyplot as plt\n",
    "cmkag = confusion_matrix(results_df_test_kaggle1[\"True Label\"],results_df_test_kaggle1[\"Prediction\"])\n",
    "disp = ConfusionMatrixDisplay(confusion_matrix=cmkag, display_labels=['non-personal', 'personal'])\n",
    "disp.plot()\n",
    "plt.show()"
   ]
  },
  {
   "cell_type": "code",
   "execution_count": 198,
   "metadata": {},
   "outputs": [
    {
     "name": "stdout",
     "output_type": "stream",
     "text": [
      "f1_score micro:0.386\n",
      "f1_score micro:0.349\n",
      "Balanced Acc.: 0.481\n",
      "              precision    recall  f1-score   support\n",
      "\n",
      "non-personal       0.36      0.85      0.50        91\n",
      "    personal       0.56      0.12      0.19       155\n",
      "\n",
      "    accuracy                           0.39       246\n",
      "   macro avg       0.46      0.48      0.35       246\n",
      "weighted avg       0.49      0.39      0.31       246\n",
      "\n"
     ]
    }
   ],
   "source": [
    "f1_micro_kag = f1_score(results_df_test_kaggle1[\"True Label\"],results_df_test_kaggle1[\"Prediction\"], average='micro')\n",
    "print(f'f1_score micro:{np.round(f1_micro_kag,3)}')\n",
    "f1_macro_kag = f1_score(results_df_test_kaggle1[\"True Label\"],results_df_test_kaggle1[\"Prediction\"], average='macro')\n",
    "print(f'f1_score micro:{np.round(f1_macro_kag,3)}')\n",
    "bal_kag = balanced_accuracy_score(results_df_test_kaggle1[\"True Label\"],results_df_test_kaggle1[\"Prediction\"])\n",
    "print(f'Balanced Acc.: {np.round(bal_kag,3)}')\n",
    "print(classification_report(results_df_test_kaggle1[\"True Label\"],results_df_test_kaggle1[\"Prediction\"]))"
   ]
  },
  {
   "cell_type": "code",
   "execution_count": 199,
   "metadata": {},
   "outputs": [
    {
     "name": "stdout",
     "output_type": "stream",
     "text": [
      "              precision    recall  f1-score   support\n",
      "\n",
      "non-personal       0.36      0.85      0.50        91\n",
      "    personal       0.56      0.12      0.19       155\n",
      "\n",
      "    accuracy                           0.39       246\n",
      "   macro avg       0.46      0.48      0.35       246\n",
      "weighted avg       0.49      0.39      0.31       246\n",
      "\n"
     ]
    }
   ],
   "source": [
    "print(classification_report(test_kaggle_personal,results_df_test_kaggle1[\"Prediction\"]))\n"
   ]
  },
  {
   "cell_type": "code",
   "execution_count": 272,
   "metadata": {},
   "outputs": [],
   "source": [
    "FNcaskag = results_df_test_kaggle1.loc[(results_df_test_kaggle1[\"True Label\"]=='personal')&(results_df_test_kaggle1[\"Prediction\"]=='non-personal')]"
   ]
  },
  {
   "cell_type": "code",
   "execution_count": 274,
   "metadata": {},
   "outputs": [
    {
     "data": {
      "text/html": [
       "<div>\n",
       "<style scoped>\n",
       "    .dataframe tbody tr th:only-of-type {\n",
       "        vertical-align: middle;\n",
       "    }\n",
       "\n",
       "    .dataframe tbody tr th {\n",
       "        vertical-align: top;\n",
       "    }\n",
       "\n",
       "    .dataframe thead th {\n",
       "        text-align: right;\n",
       "    }\n",
       "</style>\n",
       "<table border=\"1\" class=\"dataframe\">\n",
       "  <thead>\n",
       "    <tr style=\"text-align: right;\">\n",
       "      <th></th>\n",
       "      <th>ID</th>\n",
       "      <th>Reason for absence</th>\n",
       "      <th>Month of absence</th>\n",
       "      <th>Day of the week</th>\n",
       "      <th>Seasons</th>\n",
       "      <th>Transportation expense</th>\n",
       "      <th>Distance from Residence to Work</th>\n",
       "      <th>Service time</th>\n",
       "      <th>Age</th>\n",
       "      <th>Work load Average/day</th>\n",
       "      <th>...</th>\n",
       "      <th>PassengerId</th>\n",
       "      <th>Survived</th>\n",
       "      <th>Pclass</th>\n",
       "      <th>Age.3</th>\n",
       "      <th>SibSp</th>\n",
       "      <th>Parch</th>\n",
       "      <th>Ticket</th>\n",
       "      <th>Fare</th>\n",
       "      <th>Cabin</th>\n",
       "      <th>Embarked</th>\n",
       "    </tr>\n",
       "  </thead>\n",
       "  <tbody>\n",
       "    <tr>\n",
       "      <th>0</th>\n",
       "      <td>11</td>\n",
       "      <td>26</td>\n",
       "      <td>7</td>\n",
       "      <td>3</td>\n",
       "      <td>1</td>\n",
       "      <td>289</td>\n",
       "      <td>36</td>\n",
       "      <td>13</td>\n",
       "      <td>33</td>\n",
       "      <td>239.554</td>\n",
       "      <td>...</td>\n",
       "      <td>1</td>\n",
       "      <td>0</td>\n",
       "      <td>3</td>\n",
       "      <td>22.0</td>\n",
       "      <td>1</td>\n",
       "      <td>0</td>\n",
       "      <td>A/5 21171</td>\n",
       "      <td>7.2500</td>\n",
       "      <td>NaN</td>\n",
       "      <td>S</td>\n",
       "    </tr>\n",
       "    <tr>\n",
       "      <th>1</th>\n",
       "      <td>36</td>\n",
       "      <td>0</td>\n",
       "      <td>7</td>\n",
       "      <td>3</td>\n",
       "      <td>1</td>\n",
       "      <td>118</td>\n",
       "      <td>13</td>\n",
       "      <td>18</td>\n",
       "      <td>50</td>\n",
       "      <td>239.554</td>\n",
       "      <td>...</td>\n",
       "      <td>2</td>\n",
       "      <td>1</td>\n",
       "      <td>1</td>\n",
       "      <td>38.0</td>\n",
       "      <td>1</td>\n",
       "      <td>0</td>\n",
       "      <td>PC 17599</td>\n",
       "      <td>71.2833</td>\n",
       "      <td>C85</td>\n",
       "      <td>C</td>\n",
       "    </tr>\n",
       "    <tr>\n",
       "      <th>2</th>\n",
       "      <td>3</td>\n",
       "      <td>23</td>\n",
       "      <td>7</td>\n",
       "      <td>4</td>\n",
       "      <td>1</td>\n",
       "      <td>179</td>\n",
       "      <td>51</td>\n",
       "      <td>18</td>\n",
       "      <td>38</td>\n",
       "      <td>239.554</td>\n",
       "      <td>...</td>\n",
       "      <td>3</td>\n",
       "      <td>1</td>\n",
       "      <td>3</td>\n",
       "      <td>26.0</td>\n",
       "      <td>0</td>\n",
       "      <td>0</td>\n",
       "      <td>STON/O2. 3101282</td>\n",
       "      <td>7.9250</td>\n",
       "      <td>NaN</td>\n",
       "      <td>S</td>\n",
       "    </tr>\n",
       "    <tr>\n",
       "      <th>3</th>\n",
       "      <td>7</td>\n",
       "      <td>7</td>\n",
       "      <td>7</td>\n",
       "      <td>5</td>\n",
       "      <td>1</td>\n",
       "      <td>279</td>\n",
       "      <td>5</td>\n",
       "      <td>14</td>\n",
       "      <td>39</td>\n",
       "      <td>239.554</td>\n",
       "      <td>...</td>\n",
       "      <td>4</td>\n",
       "      <td>1</td>\n",
       "      <td>1</td>\n",
       "      <td>35.0</td>\n",
       "      <td>1</td>\n",
       "      <td>0</td>\n",
       "      <td>113803</td>\n",
       "      <td>53.1000</td>\n",
       "      <td>C123</td>\n",
       "      <td>S</td>\n",
       "    </tr>\n",
       "    <tr>\n",
       "      <th>4</th>\n",
       "      <td>11</td>\n",
       "      <td>23</td>\n",
       "      <td>7</td>\n",
       "      <td>5</td>\n",
       "      <td>1</td>\n",
       "      <td>289</td>\n",
       "      <td>36</td>\n",
       "      <td>13</td>\n",
       "      <td>33</td>\n",
       "      <td>239.554</td>\n",
       "      <td>...</td>\n",
       "      <td>5</td>\n",
       "      <td>0</td>\n",
       "      <td>3</td>\n",
       "      <td>35.0</td>\n",
       "      <td>0</td>\n",
       "      <td>0</td>\n",
       "      <td>373450</td>\n",
       "      <td>8.0500</td>\n",
       "      <td>NaN</td>\n",
       "      <td>S</td>\n",
       "    </tr>\n",
       "    <tr>\n",
       "      <th>...</th>\n",
       "      <td>...</td>\n",
       "      <td>...</td>\n",
       "      <td>...</td>\n",
       "      <td>...</td>\n",
       "      <td>...</td>\n",
       "      <td>...</td>\n",
       "      <td>...</td>\n",
       "      <td>...</td>\n",
       "      <td>...</td>\n",
       "      <td>...</td>\n",
       "      <td>...</td>\n",
       "      <td>...</td>\n",
       "      <td>...</td>\n",
       "      <td>...</td>\n",
       "      <td>...</td>\n",
       "      <td>...</td>\n",
       "      <td>...</td>\n",
       "      <td>...</td>\n",
       "      <td>...</td>\n",
       "      <td>...</td>\n",
       "      <td>...</td>\n",
       "    </tr>\n",
       "    <tr>\n",
       "      <th>95</th>\n",
       "      <td>28</td>\n",
       "      <td>28</td>\n",
       "      <td>11</td>\n",
       "      <td>3</td>\n",
       "      <td>4</td>\n",
       "      <td>225</td>\n",
       "      <td>26</td>\n",
       "      <td>9</td>\n",
       "      <td>28</td>\n",
       "      <td>306.345</td>\n",
       "      <td>...</td>\n",
       "      <td>96</td>\n",
       "      <td>0</td>\n",
       "      <td>3</td>\n",
       "      <td>NaN</td>\n",
       "      <td>0</td>\n",
       "      <td>0</td>\n",
       "      <td>374910</td>\n",
       "      <td>8.0500</td>\n",
       "      <td>NaN</td>\n",
       "      <td>S</td>\n",
       "    </tr>\n",
       "    <tr>\n",
       "      <th>96</th>\n",
       "      <td>11</td>\n",
       "      <td>7</td>\n",
       "      <td>11</td>\n",
       "      <td>4</td>\n",
       "      <td>4</td>\n",
       "      <td>289</td>\n",
       "      <td>36</td>\n",
       "      <td>13</td>\n",
       "      <td>33</td>\n",
       "      <td>306.345</td>\n",
       "      <td>...</td>\n",
       "      <td>97</td>\n",
       "      <td>0</td>\n",
       "      <td>1</td>\n",
       "      <td>71.0</td>\n",
       "      <td>0</td>\n",
       "      <td>0</td>\n",
       "      <td>PC 17754</td>\n",
       "      <td>34.6542</td>\n",
       "      <td>A5</td>\n",
       "      <td>C</td>\n",
       "    </tr>\n",
       "    <tr>\n",
       "      <th>97</th>\n",
       "      <td>15</td>\n",
       "      <td>23</td>\n",
       "      <td>11</td>\n",
       "      <td>5</td>\n",
       "      <td>4</td>\n",
       "      <td>291</td>\n",
       "      <td>31</td>\n",
       "      <td>12</td>\n",
       "      <td>40</td>\n",
       "      <td>306.345</td>\n",
       "      <td>...</td>\n",
       "      <td>98</td>\n",
       "      <td>1</td>\n",
       "      <td>1</td>\n",
       "      <td>23.0</td>\n",
       "      <td>0</td>\n",
       "      <td>1</td>\n",
       "      <td>PC 17759</td>\n",
       "      <td>63.3583</td>\n",
       "      <td>D10 D12</td>\n",
       "      <td>C</td>\n",
       "    </tr>\n",
       "    <tr>\n",
       "      <th>98</th>\n",
       "      <td>33</td>\n",
       "      <td>23</td>\n",
       "      <td>12</td>\n",
       "      <td>3</td>\n",
       "      <td>4</td>\n",
       "      <td>248</td>\n",
       "      <td>25</td>\n",
       "      <td>14</td>\n",
       "      <td>47</td>\n",
       "      <td>261.306</td>\n",
       "      <td>...</td>\n",
       "      <td>99</td>\n",
       "      <td>1</td>\n",
       "      <td>2</td>\n",
       "      <td>34.0</td>\n",
       "      <td>0</td>\n",
       "      <td>1</td>\n",
       "      <td>231919</td>\n",
       "      <td>23.0000</td>\n",
       "      <td>NaN</td>\n",
       "      <td>S</td>\n",
       "    </tr>\n",
       "    <tr>\n",
       "      <th>99</th>\n",
       "      <td>34</td>\n",
       "      <td>19</td>\n",
       "      <td>12</td>\n",
       "      <td>3</td>\n",
       "      <td>4</td>\n",
       "      <td>118</td>\n",
       "      <td>10</td>\n",
       "      <td>10</td>\n",
       "      <td>37</td>\n",
       "      <td>261.306</td>\n",
       "      <td>...</td>\n",
       "      <td>100</td>\n",
       "      <td>0</td>\n",
       "      <td>2</td>\n",
       "      <td>34.0</td>\n",
       "      <td>1</td>\n",
       "      <td>0</td>\n",
       "      <td>244367</td>\n",
       "      <td>26.0000</td>\n",
       "      <td>NaN</td>\n",
       "      <td>S</td>\n",
       "    </tr>\n",
       "  </tbody>\n",
       "</table>\n",
       "<p>100 rows × 137 columns</p>\n",
       "</div>"
      ],
      "text/plain": [
       "    ID  Reason for absence  Month of absence  Day of the week  Seasons  \\\n",
       "0   11                  26                 7                3        1   \n",
       "1   36                   0                 7                3        1   \n",
       "2    3                  23                 7                4        1   \n",
       "3    7                   7                 7                5        1   \n",
       "4   11                  23                 7                5        1   \n",
       "..  ..                 ...               ...              ...      ...   \n",
       "95  28                  28                11                3        4   \n",
       "96  11                   7                11                4        4   \n",
       "97  15                  23                11                5        4   \n",
       "98  33                  23                12                3        4   \n",
       "99  34                  19                12                3        4   \n",
       "\n",
       "    Transportation expense  Distance from Residence to Work  Service time  \\\n",
       "0                      289                               36            13   \n",
       "1                      118                               13            18   \n",
       "2                      179                               51            18   \n",
       "3                      279                                5            14   \n",
       "4                      289                               36            13   \n",
       "..                     ...                              ...           ...   \n",
       "95                     225                               26             9   \n",
       "96                     289                               36            13   \n",
       "97                     291                               31            12   \n",
       "98                     248                               25            14   \n",
       "99                     118                               10            10   \n",
       "\n",
       "    Age  Work load Average/day   ...  PassengerId  Survived  Pclass  Age.3  \\\n",
       "0    33                 239.554  ...            1         0       3   22.0   \n",
       "1    50                 239.554  ...            2         1       1   38.0   \n",
       "2    38                 239.554  ...            3         1       3   26.0   \n",
       "3    39                 239.554  ...            4         1       1   35.0   \n",
       "4    33                 239.554  ...            5         0       3   35.0   \n",
       "..  ...                     ...  ...          ...       ...     ...    ...   \n",
       "95   28                 306.345  ...           96         0       3    NaN   \n",
       "96   33                 306.345  ...           97         0       1   71.0   \n",
       "97   40                 306.345  ...           98         1       1   23.0   \n",
       "98   47                 261.306  ...           99         1       2   34.0   \n",
       "99   37                 261.306  ...          100         0       2   34.0   \n",
       "\n",
       "    SibSp  Parch            Ticket     Fare    Cabin Embarked  \n",
       "0       1      0         A/5 21171   7.2500      NaN        S  \n",
       "1       1      0          PC 17599  71.2833      C85        C  \n",
       "2       0      0  STON/O2. 3101282   7.9250      NaN        S  \n",
       "3       1      0            113803  53.1000     C123        S  \n",
       "4       0      0            373450   8.0500      NaN        S  \n",
       "..    ...    ...               ...      ...      ...      ...  \n",
       "95      0      0            374910   8.0500      NaN        S  \n",
       "96      0      0          PC 17754  34.6542       A5        C  \n",
       "97      0      1          PC 17759  63.3583  D10 D12        C  \n",
       "98      0      1            231919  23.0000      NaN        S  \n",
       "99      1      0            244367  26.0000      NaN        S  \n",
       "\n",
       "[100 rows x 137 columns]"
      ]
     },
     "execution_count": 274,
     "metadata": {},
     "output_type": "execute_result"
    }
   ],
   "source": [
    "test_kaggle[FNcaskag.Column]"
   ]
  },
  {
   "cell_type": "code",
   "execution_count": 276,
   "metadata": {},
   "outputs": [],
   "source": [
    "FPcaskag = results_df_test_kaggle1.loc[(results_df_test_kaggle1[\"True Label\"]=='non-personal')&(results_df_test_kaggle1[\"Prediction\"]=='personal')]"
   ]
  },
  {
   "cell_type": "code",
   "execution_count": 277,
   "metadata": {},
   "outputs": [
    {
     "data": {
      "text/html": [
       "<div>\n",
       "<style scoped>\n",
       "    .dataframe tbody tr th:only-of-type {\n",
       "        vertical-align: middle;\n",
       "    }\n",
       "\n",
       "    .dataframe tbody tr th {\n",
       "        vertical-align: top;\n",
       "    }\n",
       "\n",
       "    .dataframe thead th {\n",
       "        text-align: right;\n",
       "    }\n",
       "</style>\n",
       "<table border=\"1\" class=\"dataframe\">\n",
       "  <thead>\n",
       "    <tr style=\"text-align: right;\">\n",
       "      <th></th>\n",
       "      <th>Soil type</th>\n",
       "      <th>fullAddress</th>\n",
       "      <th>postcode</th>\n",
       "      <th>outcode</th>\n",
       "      <th>REGISTERED_OFFICE_ADDRESS</th>\n",
       "      <th>EMAIL_ADDR</th>\n",
       "      <th>movie</th>\n",
       "      <th>plot_summary</th>\n",
       "      <th>director</th>\n",
       "      <th>writer</th>\n",
       "      <th>main_characters</th>\n",
       "      <th>main_voice_actors</th>\n",
       "      <th>model</th>\n",
       "      <th>kmDriven</th>\n",
       "    </tr>\n",
       "  </thead>\n",
       "  <tbody>\n",
       "    <tr>\n",
       "      <th>0</th>\n",
       "      <td>Alluvial</td>\n",
       "      <td>1 Guinness Court, Mansell Street, London, E1 8AB</td>\n",
       "      <td>E1 8AB</td>\n",
       "      <td>E1</td>\n",
       "      <td>4TH FLOOR,LANDMARKRACE COURSE</td>\n",
       "      <td>SANJAY@NIKOINDIA.COM</td>\n",
       "      <td>Toy Story</td>\n",
       "      <td>A group of toys, headed by Woody, a pull-strin...</td>\n",
       "      <td>John Lasseter</td>\n",
       "      <td>John Lasseter, Pete Docter, Andrew Stanton, Jo...</td>\n",
       "      <td>Woody, Buzz Lightyear, Andy, Mr. Potato Head, ...</td>\n",
       "      <td>Tom Hanks, Tim Allen, Don Rickles, Jim Varney</td>\n",
       "      <td>City</td>\n",
       "      <td>98,000 km</td>\n",
       "    </tr>\n",
       "    <tr>\n",
       "      <th>1</th>\n",
       "      <td>Alluvial</td>\n",
       "      <td>306 Marlyn Lodge, 2 Portsoken Street, London, ...</td>\n",
       "      <td>E1 8RB</td>\n",
       "      <td>E1</td>\n",
       "      <td>403 3 6 322 MAHAVIR HOUSEBUSHEER BAGH HYDERGUD...</td>\n",
       "      <td>NaN</td>\n",
       "      <td>A Bug's Life</td>\n",
       "      <td>A misfit ant named Flik teams up with a group ...</td>\n",
       "      <td>John Lasseter, co-directed by Andrew Stanton</td>\n",
       "      <td>Andrew Stanton, Joe Ranft</td>\n",
       "      <td>Flik, Princess Atta, Hopper, Dot, Manny, Gypsy</td>\n",
       "      <td>Dave Foley, Julia Louis-Dreyfus, Kevin Spacey,...</td>\n",
       "      <td>Innova</td>\n",
       "      <td>190000.0 km</td>\n",
       "    </tr>\n",
       "    <tr>\n",
       "      <th>2</th>\n",
       "      <td>Alluvial</td>\n",
       "      <td>Flat 1, White Rose Court, Widegate Street, Lon...</td>\n",
       "      <td>E1 7ES</td>\n",
       "      <td>E1</td>\n",
       "      <td>Quadrant 1, Plot Number 18, 2nd FloorSuman Tow...</td>\n",
       "      <td>info@nangia.com</td>\n",
       "      <td>Toy Story 2</td>\n",
       "      <td>When Woody is stolen by a toy collector, Buzz ...</td>\n",
       "      <td>John Lasseter, Ash Brannon, Lee Unkrich</td>\n",
       "      <td>John Lasseter, Andrew Stanton, Pete Docter, As...</td>\n",
       "      <td>Woody, Buzz Lightyear, Jessie, Bullseye, Stink...</td>\n",
       "      <td>Tom Hanks, Tim Allen, Joan Cusack, Kelsey Grammer</td>\n",
       "      <td>VentoTest</td>\n",
       "      <td>77,246 km</td>\n",
       "    </tr>\n",
       "    <tr>\n",
       "      <th>3</th>\n",
       "      <td>Alluvial</td>\n",
       "      <td>Flat 1, White Rose Court, Widegate Street, Lon...</td>\n",
       "      <td>E1 7ES</td>\n",
       "      <td>E1</td>\n",
       "      <td>Plot No. 3526 &amp; 3527,GIDC Industrial Estate,</td>\n",
       "      <td>amit.kumashi@solvay.com</td>\n",
       "      <td>Monsters, Inc.</td>\n",
       "      <td>In a world where monsters generate energy by s...</td>\n",
       "      <td>Pete Docter, David Silverman, Lee Unkrich</td>\n",
       "      <td>Pete Docter, Jill Culton, Jeff Pidgeon, Ralph ...</td>\n",
       "      <td>James P. Sullivan (Sulley), Mike Wazowski, Boo...</td>\n",
       "      <td>John Goodman, Billy Crystal, Mary Gibbs, Steve...</td>\n",
       "      <td>Swift</td>\n",
       "      <td>83,500 km</td>\n",
       "    </tr>\n",
       "    <tr>\n",
       "      <th>4</th>\n",
       "      <td>Alluvial</td>\n",
       "      <td>Flat 1, White Rose Court, Widegate Street, Lon...</td>\n",
       "      <td>E1 7ES</td>\n",
       "      <td>E1</td>\n",
       "      <td>24 ATMAJYOTI NAGARELLORA PARK</td>\n",
       "      <td>NaN</td>\n",
       "      <td>Finding Nemo</td>\n",
       "      <td>A clownfish named Marlin embarks on a journey ...</td>\n",
       "      <td>Andrew Stanton, Lee Unkrich</td>\n",
       "      <td>Andrew Stanton, Bob Peterson, David Reynolds</td>\n",
       "      <td>Marlin, Nemo, Dory, Gill, Crush</td>\n",
       "      <td>Albert Brooks, Ellen DeGeneres, Alexander Goul...</td>\n",
       "      <td>Baleno</td>\n",
       "      <td>45,000 km</td>\n",
       "    </tr>\n",
       "    <tr>\n",
       "      <th>...</th>\n",
       "      <td>...</td>\n",
       "      <td>...</td>\n",
       "      <td>...</td>\n",
       "      <td>...</td>\n",
       "      <td>...</td>\n",
       "      <td>...</td>\n",
       "      <td>...</td>\n",
       "      <td>...</td>\n",
       "      <td>...</td>\n",
       "      <td>...</td>\n",
       "      <td>...</td>\n",
       "      <td>...</td>\n",
       "      <td>...</td>\n",
       "      <td>...</td>\n",
       "    </tr>\n",
       "    <tr>\n",
       "      <th>95</th>\n",
       "      <td>Black</td>\n",
       "      <td>Flat 2, 4 Gunthorpe Street, London, E1 7RQ</td>\n",
       "      <td>E1 7RQ</td>\n",
       "      <td>E1</td>\n",
       "      <td>401, \"Akshay\", 53, Shrimali Society,Navrangpura</td>\n",
       "      <td>info@amoldicalite.com</td>\n",
       "      <td>NaN</td>\n",
       "      <td>NaN</td>\n",
       "      <td>NaN</td>\n",
       "      <td>NaN</td>\n",
       "      <td>NaN</td>\n",
       "      <td>NaN</td>\n",
       "      <td>Alto-K10</td>\n",
       "      <td>82,000 km</td>\n",
       "    </tr>\n",
       "    <tr>\n",
       "      <th>96</th>\n",
       "      <td>Black</td>\n",
       "      <td>Flat 10, 4 Gunthorpe Street, London, E1 7RQ</td>\n",
       "      <td>E1 7RQ</td>\n",
       "      <td>E1</td>\n",
       "      <td>SHOP NO. 4, AL-MANSOOR COMPLEX, NEAR AL-SAFIQM...</td>\n",
       "      <td>INVESTOR.RELATIONS@BLAZONMARBLESLTD.COM</td>\n",
       "      <td>NaN</td>\n",
       "      <td>NaN</td>\n",
       "      <td>NaN</td>\n",
       "      <td>NaN</td>\n",
       "      <td>NaN</td>\n",
       "      <td>NaN</td>\n",
       "      <td>Celerio</td>\n",
       "      <td>35,000 km</td>\n",
       "    </tr>\n",
       "    <tr>\n",
       "      <th>97</th>\n",
       "      <td>Black</td>\n",
       "      <td>Flat 10, 4 Gunthorpe Street, London, E1 7RQ</td>\n",
       "      <td>E1 7RQ</td>\n",
       "      <td>E1</td>\n",
       "      <td>996 KHADIA CHAR RASTA</td>\n",
       "      <td>mohlimited@hotmail.com</td>\n",
       "      <td>NaN</td>\n",
       "      <td>NaN</td>\n",
       "      <td>NaN</td>\n",
       "      <td>NaN</td>\n",
       "      <td>NaN</td>\n",
       "      <td>NaN</td>\n",
       "      <td>Duster</td>\n",
       "      <td>150,000 km</td>\n",
       "    </tr>\n",
       "    <tr>\n",
       "      <th>98</th>\n",
       "      <td>Black</td>\n",
       "      <td>Flat 24, Wentworth Dwellings, 3 New Goulston S...</td>\n",
       "      <td>E1 7PN</td>\n",
       "      <td>E1</td>\n",
       "      <td>SHREE CHAMBERS, 3rd FLOOR, OPP KAMALA NEHRU PA...</td>\n",
       "      <td>scabalshare@scabalindia.com</td>\n",
       "      <td>NaN</td>\n",
       "      <td>NaN</td>\n",
       "      <td>NaN</td>\n",
       "      <td>NaN</td>\n",
       "      <td>NaN</td>\n",
       "      <td>NaN</td>\n",
       "      <td>Fortuner</td>\n",
       "      <td>132,000 km</td>\n",
       "    </tr>\n",
       "    <tr>\n",
       "      <th>99</th>\n",
       "      <td>Black</td>\n",
       "      <td>Flat 24, Wentworth Dwellings, 3 New Goulston S...</td>\n",
       "      <td>E1 7PN</td>\n",
       "      <td>E1</td>\n",
       "      <td>Survey No. 777, Umarsadi Desaiwad Road,at Vill...</td>\n",
       "      <td>grievances@nhcgroup.com</td>\n",
       "      <td>NaN</td>\n",
       "      <td>NaN</td>\n",
       "      <td>NaN</td>\n",
       "      <td>NaN</td>\n",
       "      <td>NaN</td>\n",
       "      <td>NaN</td>\n",
       "      <td>Range Rover Evoque</td>\n",
       "      <td>130,000 km</td>\n",
       "    </tr>\n",
       "  </tbody>\n",
       "</table>\n",
       "<p>100 rows × 14 columns</p>\n",
       "</div>"
      ],
      "text/plain": [
       "   Soil type                                        fullAddress postcode  \\\n",
       "0   Alluvial   1 Guinness Court, Mansell Street, London, E1 8AB   E1 8AB   \n",
       "1   Alluvial  306 Marlyn Lodge, 2 Portsoken Street, London, ...   E1 8RB   \n",
       "2   Alluvial  Flat 1, White Rose Court, Widegate Street, Lon...   E1 7ES   \n",
       "3   Alluvial  Flat 1, White Rose Court, Widegate Street, Lon...   E1 7ES   \n",
       "4   Alluvial  Flat 1, White Rose Court, Widegate Street, Lon...   E1 7ES   \n",
       "..       ...                                                ...      ...   \n",
       "95     Black         Flat 2, 4 Gunthorpe Street, London, E1 7RQ   E1 7RQ   \n",
       "96     Black        Flat 10, 4 Gunthorpe Street, London, E1 7RQ   E1 7RQ   \n",
       "97     Black        Flat 10, 4 Gunthorpe Street, London, E1 7RQ   E1 7RQ   \n",
       "98     Black  Flat 24, Wentworth Dwellings, 3 New Goulston S...   E1 7PN   \n",
       "99     Black  Flat 24, Wentworth Dwellings, 3 New Goulston S...   E1 7PN   \n",
       "\n",
       "   outcode                          REGISTERED_OFFICE_ADDRESS  \\\n",
       "0       E1                    4TH FLOOR,LANDMARKRACE COURSE     \n",
       "1       E1  403 3 6 322 MAHAVIR HOUSEBUSHEER BAGH HYDERGUD...   \n",
       "2       E1  Quadrant 1, Plot Number 18, 2nd FloorSuman Tow...   \n",
       "3       E1     Plot No. 3526 & 3527,GIDC Industrial Estate,     \n",
       "4       E1                    24 ATMAJYOTI NAGARELLORA PARK     \n",
       "..     ...                                                ...   \n",
       "95      E1  401, \"Akshay\", 53, Shrimali Society,Navrangpura     \n",
       "96      E1  SHOP NO. 4, AL-MANSOOR COMPLEX, NEAR AL-SAFIQM...   \n",
       "97      E1                           996 KHADIA CHAR RASTA      \n",
       "98      E1  SHREE CHAMBERS, 3rd FLOOR, OPP KAMALA NEHRU PA...   \n",
       "99      E1  Survey No. 777, Umarsadi Desaiwad Road,at Vill...   \n",
       "\n",
       "                                 EMAIL_ADDR           movie  \\\n",
       "0                      SANJAY@NIKOINDIA.COM       Toy Story   \n",
       "1                                       NaN    A Bug's Life   \n",
       "2                           info@nangia.com     Toy Story 2   \n",
       "3                   amit.kumashi@solvay.com  Monsters, Inc.   \n",
       "4                                       NaN    Finding Nemo   \n",
       "..                                      ...             ...   \n",
       "95                    info@amoldicalite.com             NaN   \n",
       "96  INVESTOR.RELATIONS@BLAZONMARBLESLTD.COM             NaN   \n",
       "97                   mohlimited@hotmail.com             NaN   \n",
       "98              scabalshare@scabalindia.com             NaN   \n",
       "99                  grievances@nhcgroup.com             NaN   \n",
       "\n",
       "                                         plot_summary  \\\n",
       "0   A group of toys, headed by Woody, a pull-strin...   \n",
       "1   A misfit ant named Flik teams up with a group ...   \n",
       "2   When Woody is stolen by a toy collector, Buzz ...   \n",
       "3   In a world where monsters generate energy by s...   \n",
       "4   A clownfish named Marlin embarks on a journey ...   \n",
       "..                                                ...   \n",
       "95                                                NaN   \n",
       "96                                                NaN   \n",
       "97                                                NaN   \n",
       "98                                                NaN   \n",
       "99                                                NaN   \n",
       "\n",
       "                                        director  \\\n",
       "0                                  John Lasseter   \n",
       "1   John Lasseter, co-directed by Andrew Stanton   \n",
       "2        John Lasseter, Ash Brannon, Lee Unkrich   \n",
       "3      Pete Docter, David Silverman, Lee Unkrich   \n",
       "4                    Andrew Stanton, Lee Unkrich   \n",
       "..                                           ...   \n",
       "95                                           NaN   \n",
       "96                                           NaN   \n",
       "97                                           NaN   \n",
       "98                                           NaN   \n",
       "99                                           NaN   \n",
       "\n",
       "                                               writer  \\\n",
       "0   John Lasseter, Pete Docter, Andrew Stanton, Jo...   \n",
       "1                           Andrew Stanton, Joe Ranft   \n",
       "2   John Lasseter, Andrew Stanton, Pete Docter, As...   \n",
       "3   Pete Docter, Jill Culton, Jeff Pidgeon, Ralph ...   \n",
       "4        Andrew Stanton, Bob Peterson, David Reynolds   \n",
       "..                                                ...   \n",
       "95                                                NaN   \n",
       "96                                                NaN   \n",
       "97                                                NaN   \n",
       "98                                                NaN   \n",
       "99                                                NaN   \n",
       "\n",
       "                                      main_characters  \\\n",
       "0   Woody, Buzz Lightyear, Andy, Mr. Potato Head, ...   \n",
       "1      Flik, Princess Atta, Hopper, Dot, Manny, Gypsy   \n",
       "2   Woody, Buzz Lightyear, Jessie, Bullseye, Stink...   \n",
       "3   James P. Sullivan (Sulley), Mike Wazowski, Boo...   \n",
       "4                     Marlin, Nemo, Dory, Gill, Crush   \n",
       "..                                                ...   \n",
       "95                                                NaN   \n",
       "96                                                NaN   \n",
       "97                                                NaN   \n",
       "98                                                NaN   \n",
       "99                                                NaN   \n",
       "\n",
       "                                    main_voice_actors               model  \\\n",
       "0       Tom Hanks, Tim Allen, Don Rickles, Jim Varney                City   \n",
       "1   Dave Foley, Julia Louis-Dreyfus, Kevin Spacey,...              Innova   \n",
       "2   Tom Hanks, Tim Allen, Joan Cusack, Kelsey Grammer           VentoTest   \n",
       "3   John Goodman, Billy Crystal, Mary Gibbs, Steve...               Swift   \n",
       "4   Albert Brooks, Ellen DeGeneres, Alexander Goul...              Baleno   \n",
       "..                                                ...                 ...   \n",
       "95                                                NaN            Alto-K10   \n",
       "96                                                NaN             Celerio   \n",
       "97                                                NaN              Duster   \n",
       "98                                                NaN            Fortuner   \n",
       "99                                                NaN  Range Rover Evoque   \n",
       "\n",
       "       kmDriven  \n",
       "0     98,000 km  \n",
       "1   190000.0 km  \n",
       "2     77,246 km  \n",
       "3     83,500 km  \n",
       "4     45,000 km  \n",
       "..          ...  \n",
       "95    82,000 km  \n",
       "96    35,000 km  \n",
       "97   150,000 km  \n",
       "98   132,000 km  \n",
       "99   130,000 km  \n",
       "\n",
       "[100 rows x 14 columns]"
      ]
     },
     "execution_count": 277,
     "metadata": {},
     "output_type": "execute_result"
    }
   ],
   "source": [
    "test_kaggle[FPcaskag.Column]"
   ]
  },
  {
   "cell_type": "code",
   "execution_count": 275,
   "metadata": {},
   "outputs": [
    {
     "data": {
      "text/plain": [
       "['ID',\n",
       " 'Reason for absence',\n",
       " 'Month of absence',\n",
       " 'Day of the week',\n",
       " 'Seasons',\n",
       " 'Transportation expense',\n",
       " 'Distance from Residence to Work',\n",
       " 'Service time',\n",
       " 'Age',\n",
       " 'Work load Average/day ',\n",
       " 'Hit target',\n",
       " 'Disciplinary failure',\n",
       " 'Education',\n",
       " 'Son',\n",
       " 'Pet',\n",
       " 'Weight',\n",
       " 'Height',\n",
       " 'Absenteeism time in hours',\n",
       " 'age',\n",
       " 'workclass',\n",
       " 'education',\n",
       " 'education.num',\n",
       " 'marital.status',\n",
       " 'occupation',\n",
       " 'relationship',\n",
       " 'capital.gain',\n",
       " 'capital.loss',\n",
       " 'hours.per.week',\n",
       " 'native.country',\n",
       " 'income',\n",
       " 'age.1',\n",
       " 'job',\n",
       " 'marital',\n",
       " 'education.1',\n",
       " 'default',\n",
       " 'housing',\n",
       " 'loan',\n",
       " 'month',\n",
       " 'day_of_week',\n",
       " 'duration',\n",
       " 'campaign',\n",
       " 'pdays',\n",
       " 'previous',\n",
       " 'poutcome',\n",
       " 'y',\n",
       " 'Age.1',\n",
       " 'Polyuria',\n",
       " 'Polydipsia',\n",
       " 'sudden weight loss',\n",
       " 'weakness',\n",
       " 'Polyphagia',\n",
       " 'Genital thrush',\n",
       " 'visual blurring',\n",
       " 'Itching',\n",
       " 'Irritability',\n",
       " 'delayed healing',\n",
       " 'partial paresis',\n",
       " 'muscle stiffness',\n",
       " 'Alopecia',\n",
       " 'Obesity',\n",
       " 'class',\n",
       " 'Serial No.',\n",
       " 'GRE Score',\n",
       " 'TOEFL Score',\n",
       " 'SOP',\n",
       " 'LOR ',\n",
       " 'CGPA',\n",
       " 'Research',\n",
       " 'Chance of Admit ',\n",
       " 'id',\n",
       " 'age.2',\n",
       " 'dataset',\n",
       " 'cp',\n",
       " 'trestbps',\n",
       " 'chol',\n",
       " 'fbs',\n",
       " 'restecg',\n",
       " 'thalch',\n",
       " 'exang',\n",
       " 'oldpeak',\n",
       " 'slope',\n",
       " 'ca',\n",
       " 'thal',\n",
       " 'num',\n",
       " 'Age.2',\n",
       " 'Total_Bilirubin',\n",
       " 'Direct_Bilirubin',\n",
       " 'Alkaline_Phosphotase',\n",
       " 'Total_Protiens',\n",
       " 'Albumin',\n",
       " 'Albumin_and_Globulin_Ratio',\n",
       " 'Dataset',\n",
       " 'receiver',\n",
       " 'subject',\n",
       " 'body',\n",
       " 'label',\n",
       " 'urls',\n",
       " 'school',\n",
       " 'age.3',\n",
       " 'famsize',\n",
       " 'Pstatus',\n",
       " 'Medu',\n",
       " 'Fedu',\n",
       " 'Mjob',\n",
       " 'Fjob',\n",
       " 'reason',\n",
       " 'guardian',\n",
       " 'traveltime',\n",
       " 'studytime',\n",
       " 'failures',\n",
       " 'schoolsup',\n",
       " 'famsup',\n",
       " 'paid',\n",
       " 'activities',\n",
       " 'nursery',\n",
       " 'higher',\n",
       " 'internet',\n",
       " 'romantic',\n",
       " 'famrel',\n",
       " 'freetime',\n",
       " 'goout',\n",
       " 'Dalc',\n",
       " 'Walc',\n",
       " 'absences',\n",
       " 'G1',\n",
       " 'G2',\n",
       " 'G3',\n",
       " 'PassengerId',\n",
       " 'Survived',\n",
       " 'Pclass',\n",
       " 'Age.3',\n",
       " 'SibSp',\n",
       " 'Parch',\n",
       " 'Ticket',\n",
       " 'Fare',\n",
       " 'Cabin',\n",
       " 'Embarked']"
      ]
     },
     "execution_count": 275,
     "metadata": {},
     "output_type": "execute_result"
    }
   ],
   "source": [
    "list(FNcaskag.Column)"
   ]
  },
  {
   "cell_type": "markdown",
   "metadata": {},
   "source": [
    "        Label revision, for kaggle"
   ]
  },
  {
   "cell_type": "code",
   "execution_count": 200,
   "metadata": {},
   "outputs": [],
   "source": [
    "rev_resultkag= results_df_test_kaggle1.copy()"
   ]
  },
  {
   "cell_type": "code",
   "execution_count": 201,
   "metadata": {},
   "outputs": [
    {
     "data": {
      "text/plain": [
       "Index(['Column', 'Prediction', 'True Label'], dtype='object')"
      ]
     },
     "execution_count": 201,
     "metadata": {},
     "output_type": "execute_result"
    }
   ],
   "source": [
    "rev_resultkag.columns"
   ]
  },
  {
   "cell_type": "code",
   "execution_count": 202,
   "metadata": {},
   "outputs": [],
   "source": [
    "\n",
    "rev_resultkag['True Label Fixed'] = rev_resultkag['True Label']\n",
    "\n",
    "# List of elements to be replaced with 'non-personal'\n",
    "non_personal_elements1 = non_personal_columns = [\n",
    "    'Month of absence', 'Day of the week', 'Seasons', 'Work load Average/day', \n",
    "    'Hit target', 'Disciplinary failure', 'Education', 'Social drinker', \n",
    "    'Social smoker', 'Pet', 'Absenteeism time in hours', 'Workclass', \n",
    "    'Education.num', 'Occupation', 'Capital.gain', 'Capital.loss', \n",
    "    'Hours.per.week', 'Income', 'Job', 'Housing', 'Loan', 'Contact', 'Month', \n",
    "    'Day_of_week', 'Duration', 'Campaign', 'Pdays', 'Previous', 'Poutcome', \n",
    "    'Y', 'Research', 'Dataset', 'CP', 'Trestbps', 'Chol', 'Fbs', 'Restecg', \n",
    "    'Thalch', 'Exang', 'Oldpeak', 'Slope', 'Ca', 'Thal', 'Num', 'Label', \n",
    "    'School', 'G1', 'G2', 'G3', 'Pclass', 'Device IDs', 'Masked IP addresses', \n",
    "    'Aggregated statistics', 'Age range', 'Census data', 'Tax receipts', \n",
    "    'Weather conditions', 'Product information', 'Service information'\n",
    "]\n",
    "\n",
    "# Replace the specified elements with 'non-personal' in the new column\n",
    "rev_resultkag.loc[rev_resultkag['Column'].isin(non_personal_elements1), 'True Label Fixed'] = 'non-personal'\n"
   ]
  },
  {
   "cell_type": "code",
   "execution_count": 203,
   "metadata": {},
   "outputs": [
    {
     "data": {
      "text/html": [
       "<div>\n",
       "<style scoped>\n",
       "    .dataframe tbody tr th:only-of-type {\n",
       "        vertical-align: middle;\n",
       "    }\n",
       "\n",
       "    .dataframe tbody tr th {\n",
       "        vertical-align: top;\n",
       "    }\n",
       "\n",
       "    .dataframe thead th {\n",
       "        text-align: right;\n",
       "    }\n",
       "</style>\n",
       "<table border=\"1\" class=\"dataframe\">\n",
       "  <thead>\n",
       "    <tr style=\"text-align: right;\">\n",
       "      <th></th>\n",
       "      <th>Column</th>\n",
       "      <th>Prediction</th>\n",
       "      <th>True Label</th>\n",
       "      <th>True Label Fixed</th>\n",
       "    </tr>\n",
       "  </thead>\n",
       "  <tbody>\n",
       "    <tr>\n",
       "      <th>0</th>\n",
       "      <td>ID</td>\n",
       "      <td>non-personal</td>\n",
       "      <td>personal</td>\n",
       "      <td>personal</td>\n",
       "    </tr>\n",
       "    <tr>\n",
       "      <th>1</th>\n",
       "      <td>Reason for absence</td>\n",
       "      <td>non-personal</td>\n",
       "      <td>personal</td>\n",
       "      <td>personal</td>\n",
       "    </tr>\n",
       "    <tr>\n",
       "      <th>2</th>\n",
       "      <td>Month of absence</td>\n",
       "      <td>non-personal</td>\n",
       "      <td>personal</td>\n",
       "      <td>non-personal</td>\n",
       "    </tr>\n",
       "    <tr>\n",
       "      <th>3</th>\n",
       "      <td>Day of the week</td>\n",
       "      <td>non-personal</td>\n",
       "      <td>personal</td>\n",
       "      <td>non-personal</td>\n",
       "    </tr>\n",
       "    <tr>\n",
       "      <th>4</th>\n",
       "      <td>Seasons</td>\n",
       "      <td>non-personal</td>\n",
       "      <td>personal</td>\n",
       "      <td>non-personal</td>\n",
       "    </tr>\n",
       "    <tr>\n",
       "      <th>...</th>\n",
       "      <td>...</td>\n",
       "      <td>...</td>\n",
       "      <td>...</td>\n",
       "      <td>...</td>\n",
       "    </tr>\n",
       "    <tr>\n",
       "      <th>241</th>\n",
       "      <td>Owner</td>\n",
       "      <td>non-personal</td>\n",
       "      <td>non-personal</td>\n",
       "      <td>non-personal</td>\n",
       "    </tr>\n",
       "    <tr>\n",
       "      <th>242</th>\n",
       "      <td>FuelType</td>\n",
       "      <td>non-personal</td>\n",
       "      <td>non-personal</td>\n",
       "      <td>non-personal</td>\n",
       "    </tr>\n",
       "    <tr>\n",
       "      <th>243</th>\n",
       "      <td>PostedDate</td>\n",
       "      <td>non-personal</td>\n",
       "      <td>non-personal</td>\n",
       "      <td>non-personal</td>\n",
       "    </tr>\n",
       "    <tr>\n",
       "      <th>244</th>\n",
       "      <td>AdditionInfo</td>\n",
       "      <td>non-personal</td>\n",
       "      <td>non-personal</td>\n",
       "      <td>non-personal</td>\n",
       "    </tr>\n",
       "    <tr>\n",
       "      <th>245</th>\n",
       "      <td>AskPrice</td>\n",
       "      <td>non-personal</td>\n",
       "      <td>non-personal</td>\n",
       "      <td>non-personal</td>\n",
       "    </tr>\n",
       "  </tbody>\n",
       "</table>\n",
       "<p>246 rows × 4 columns</p>\n",
       "</div>"
      ],
      "text/plain": [
       "                 Column    Prediction    True Label True Label Fixed\n",
       "0                    ID  non-personal      personal         personal\n",
       "1    Reason for absence  non-personal      personal         personal\n",
       "2      Month of absence  non-personal      personal     non-personal\n",
       "3       Day of the week  non-personal      personal     non-personal\n",
       "4               Seasons  non-personal      personal     non-personal\n",
       "..                  ...           ...           ...              ...\n",
       "241               Owner  non-personal  non-personal     non-personal\n",
       "242            FuelType  non-personal  non-personal     non-personal\n",
       "243          PostedDate  non-personal  non-personal     non-personal\n",
       "244        AdditionInfo  non-personal  non-personal     non-personal\n",
       "245            AskPrice  non-personal  non-personal     non-personal\n",
       "\n",
       "[246 rows x 4 columns]"
      ]
     },
     "execution_count": 203,
     "metadata": {},
     "output_type": "execute_result"
    }
   ],
   "source": [
    "rev_resultkag"
   ]
  },
  {
   "cell_type": "code",
   "execution_count": 204,
   "metadata": {},
   "outputs": [
    {
     "data": {
      "text/plain": [
       "True Label Fixed\n",
       "personal        139\n",
       "non-personal    107\n",
       "Name: count, dtype: int64"
      ]
     },
     "execution_count": 204,
     "metadata": {},
     "output_type": "execute_result"
    }
   ],
   "source": [
    "rev_resultkag['True Label Fixed'].value_counts()"
   ]
  },
  {
   "cell_type": "code",
   "execution_count": 205,
   "metadata": {},
   "outputs": [],
   "source": [
    "from sklearn.metrics import f1_score\n",
    "\n",
    "f1 = f1_score(rev_resultkag['True Label Fixed'].values, rev_resultkag['Prediction'].values, average= 'micro')\n"
   ]
  },
  {
   "cell_type": "code",
   "execution_count": 206,
   "metadata": {},
   "outputs": [
    {
     "data": {
      "text/plain": [
       "0.4349593495934959"
      ]
     },
     "execution_count": 206,
     "metadata": {},
     "output_type": "execute_result"
    }
   ],
   "source": [
    "f1"
   ]
  },
  {
   "cell_type": "code",
   "execution_count": 207,
   "metadata": {},
   "outputs": [
    {
     "data": {
      "text/plain": [
       "0.377056348035197"
      ]
     },
     "execution_count": 207,
     "metadata": {},
     "output_type": "execute_result"
    }
   ],
   "source": [
    "f1_score(rev_resultkag['True Label Fixed'].values,rev_resultkag['Prediction'].values, average='macro')"
   ]
  },
  {
   "cell_type": "code",
   "execution_count": 208,
   "metadata": {},
   "outputs": [
    {
     "data": {
      "text/plain": [
       "0.4827876016943454"
      ]
     },
     "execution_count": 208,
     "metadata": {},
     "output_type": "execute_result"
    }
   ],
   "source": [
    "balanced_accuracy_score(rev_resultkag['True Label Fixed'].values,rev_resultkag['Prediction'].values)"
   ]
  },
  {
   "cell_type": "code",
   "execution_count": 209,
   "metadata": {},
   "outputs": [
    {
     "data": {
      "text/html": [
       "<div>\n",
       "<style scoped>\n",
       "    .dataframe tbody tr th:only-of-type {\n",
       "        vertical-align: middle;\n",
       "    }\n",
       "\n",
       "    .dataframe tbody tr th {\n",
       "        vertical-align: top;\n",
       "    }\n",
       "\n",
       "    .dataframe thead th {\n",
       "        text-align: right;\n",
       "    }\n",
       "</style>\n",
       "<table border=\"1\" class=\"dataframe\">\n",
       "  <thead>\n",
       "    <tr style=\"text-align: right;\">\n",
       "      <th></th>\n",
       "      <th>Column</th>\n",
       "      <th>Prediction</th>\n",
       "      <th>True Label</th>\n",
       "    </tr>\n",
       "  </thead>\n",
       "  <tbody>\n",
       "    <tr>\n",
       "      <th>0</th>\n",
       "      <td>ID</td>\n",
       "      <td>non-personal</td>\n",
       "      <td>personal</td>\n",
       "    </tr>\n",
       "    <tr>\n",
       "      <th>1</th>\n",
       "      <td>Reason for absence</td>\n",
       "      <td>non-personal</td>\n",
       "      <td>personal</td>\n",
       "    </tr>\n",
       "    <tr>\n",
       "      <th>2</th>\n",
       "      <td>Month of absence</td>\n",
       "      <td>non-personal</td>\n",
       "      <td>personal</td>\n",
       "    </tr>\n",
       "    <tr>\n",
       "      <th>3</th>\n",
       "      <td>Day of the week</td>\n",
       "      <td>non-personal</td>\n",
       "      <td>personal</td>\n",
       "    </tr>\n",
       "    <tr>\n",
       "      <th>4</th>\n",
       "      <td>Seasons</td>\n",
       "      <td>non-personal</td>\n",
       "      <td>personal</td>\n",
       "    </tr>\n",
       "    <tr>\n",
       "      <th>...</th>\n",
       "      <td>...</td>\n",
       "      <td>...</td>\n",
       "      <td>...</td>\n",
       "    </tr>\n",
       "    <tr>\n",
       "      <th>230</th>\n",
       "      <td>Parch</td>\n",
       "      <td>non-personal</td>\n",
       "      <td>personal</td>\n",
       "    </tr>\n",
       "    <tr>\n",
       "      <th>231</th>\n",
       "      <td>Ticket</td>\n",
       "      <td>non-personal</td>\n",
       "      <td>personal</td>\n",
       "    </tr>\n",
       "    <tr>\n",
       "      <th>232</th>\n",
       "      <td>Fare</td>\n",
       "      <td>non-personal</td>\n",
       "      <td>personal</td>\n",
       "    </tr>\n",
       "    <tr>\n",
       "      <th>233</th>\n",
       "      <td>Cabin</td>\n",
       "      <td>non-personal</td>\n",
       "      <td>personal</td>\n",
       "    </tr>\n",
       "    <tr>\n",
       "      <th>234</th>\n",
       "      <td>Embarked</td>\n",
       "      <td>non-personal</td>\n",
       "      <td>personal</td>\n",
       "    </tr>\n",
       "  </tbody>\n",
       "</table>\n",
       "<p>137 rows × 3 columns</p>\n",
       "</div>"
      ],
      "text/plain": [
       "                 Column    Prediction True Label\n",
       "0                    ID  non-personal   personal\n",
       "1    Reason for absence  non-personal   personal\n",
       "2      Month of absence  non-personal   personal\n",
       "3       Day of the week  non-personal   personal\n",
       "4               Seasons  non-personal   personal\n",
       "..                  ...           ...        ...\n",
       "230               Parch  non-personal   personal\n",
       "231              Ticket  non-personal   personal\n",
       "232                Fare  non-personal   personal\n",
       "233               Cabin  non-personal   personal\n",
       "234            Embarked  non-personal   personal\n",
       "\n",
       "[137 rows x 3 columns]"
      ]
     },
     "execution_count": 209,
     "metadata": {},
     "output_type": "execute_result"
    }
   ],
   "source": [
    "fnneg_kag"
   ]
  },
  {
   "cell_type": "code",
   "execution_count": null,
   "metadata": {},
   "outputs": [],
   "source": []
  },
  {
   "cell_type": "code",
   "execution_count": 210,
   "metadata": {},
   "outputs": [
    {
     "data": {
      "text/html": [
       "<div>\n",
       "<style scoped>\n",
       "    .dataframe tbody tr th:only-of-type {\n",
       "        vertical-align: middle;\n",
       "    }\n",
       "\n",
       "    .dataframe tbody tr th {\n",
       "        vertical-align: top;\n",
       "    }\n",
       "\n",
       "    .dataframe thead th {\n",
       "        text-align: right;\n",
       "    }\n",
       "</style>\n",
       "<table border=\"1\" class=\"dataframe\">\n",
       "  <thead>\n",
       "    <tr style=\"text-align: right;\">\n",
       "      <th></th>\n",
       "      <th>Column</th>\n",
       "      <th>Prediction</th>\n",
       "      <th>True Label</th>\n",
       "      <th>True Label Fixed</th>\n",
       "    </tr>\n",
       "  </thead>\n",
       "  <tbody>\n",
       "    <tr>\n",
       "      <th>0</th>\n",
       "      <td>ID</td>\n",
       "      <td>non-personal</td>\n",
       "      <td>personal</td>\n",
       "      <td>personal</td>\n",
       "    </tr>\n",
       "    <tr>\n",
       "      <th>1</th>\n",
       "      <td>Reason for absence</td>\n",
       "      <td>non-personal</td>\n",
       "      <td>personal</td>\n",
       "      <td>personal</td>\n",
       "    </tr>\n",
       "    <tr>\n",
       "      <th>5</th>\n",
       "      <td>Transportation expense</td>\n",
       "      <td>non-personal</td>\n",
       "      <td>personal</td>\n",
       "      <td>personal</td>\n",
       "    </tr>\n",
       "    <tr>\n",
       "      <th>6</th>\n",
       "      <td>Distance from Residence to Work</td>\n",
       "      <td>non-personal</td>\n",
       "      <td>personal</td>\n",
       "      <td>personal</td>\n",
       "    </tr>\n",
       "    <tr>\n",
       "      <th>7</th>\n",
       "      <td>Service time</td>\n",
       "      <td>non-personal</td>\n",
       "      <td>personal</td>\n",
       "      <td>personal</td>\n",
       "    </tr>\n",
       "    <tr>\n",
       "      <th>...</th>\n",
       "      <td>...</td>\n",
       "      <td>...</td>\n",
       "      <td>...</td>\n",
       "      <td>...</td>\n",
       "    </tr>\n",
       "    <tr>\n",
       "      <th>230</th>\n",
       "      <td>Parch</td>\n",
       "      <td>non-personal</td>\n",
       "      <td>personal</td>\n",
       "      <td>personal</td>\n",
       "    </tr>\n",
       "    <tr>\n",
       "      <th>231</th>\n",
       "      <td>Ticket</td>\n",
       "      <td>non-personal</td>\n",
       "      <td>personal</td>\n",
       "      <td>personal</td>\n",
       "    </tr>\n",
       "    <tr>\n",
       "      <th>232</th>\n",
       "      <td>Fare</td>\n",
       "      <td>non-personal</td>\n",
       "      <td>personal</td>\n",
       "      <td>personal</td>\n",
       "    </tr>\n",
       "    <tr>\n",
       "      <th>233</th>\n",
       "      <td>Cabin</td>\n",
       "      <td>non-personal</td>\n",
       "      <td>personal</td>\n",
       "      <td>personal</td>\n",
       "    </tr>\n",
       "    <tr>\n",
       "      <th>234</th>\n",
       "      <td>Embarked</td>\n",
       "      <td>non-personal</td>\n",
       "      <td>personal</td>\n",
       "      <td>personal</td>\n",
       "    </tr>\n",
       "  </tbody>\n",
       "</table>\n",
       "<p>123 rows × 4 columns</p>\n",
       "</div>"
      ],
      "text/plain": [
       "                              Column    Prediction True Label True Label Fixed\n",
       "0                                 ID  non-personal   personal         personal\n",
       "1                 Reason for absence  non-personal   personal         personal\n",
       "5             Transportation expense  non-personal   personal         personal\n",
       "6    Distance from Residence to Work  non-personal   personal         personal\n",
       "7                       Service time  non-personal   personal         personal\n",
       "..                               ...           ...        ...              ...\n",
       "230                            Parch  non-personal   personal         personal\n",
       "231                           Ticket  non-personal   personal         personal\n",
       "232                             Fare  non-personal   personal         personal\n",
       "233                            Cabin  non-personal   personal         personal\n",
       "234                         Embarked  non-personal   personal         personal\n",
       "\n",
       "[123 rows x 4 columns]"
      ]
     },
     "execution_count": 210,
     "metadata": {},
     "output_type": "execute_result"
    }
   ],
   "source": [
    "#False negatives -- non- personal --> personal\n",
    "fnneg_kag1 = rev_resultkag.loc[(rev_resultkag[\"True Label Fixed\"] == \"personal\") & (rev_resultkag[\"Prediction\"] == \"non-personal\")]\n",
    "fnneg_kag1"
   ]
  },
  {
   "cell_type": "code",
   "execution_count": 211,
   "metadata": {},
   "outputs": [
    {
     "data": {
      "text/plain": [
       "0     1\n",
       "1     1\n",
       "2     1\n",
       "3     1\n",
       "4     1\n",
       "     ..\n",
       "95    1\n",
       "96    1\n",
       "97    1\n",
       "98    1\n",
       "99    1\n",
       "Name: Education, Length: 100, dtype: int64"
      ]
     },
     "execution_count": 211,
     "metadata": {},
     "output_type": "execute_result"
    }
   ],
   "source": [
    "test_kaggle['Education']"
   ]
  },
  {
   "cell_type": "markdown",
   "metadata": {},
   "source": [
    "## OPEN ML "
   ]
  },
  {
   "cell_type": "code",
   "execution_count": null,
   "metadata": {},
   "outputs": [],
   "source": []
  },
  {
   "cell_type": "code",
   "execution_count": null,
   "metadata": {},
   "outputs": [],
   "source": []
  },
  {
   "cell_type": "code",
   "execution_count": 212,
   "metadata": {},
   "outputs": [],
   "source": [
    "# test_openml = pd.read_csv(\"../../datasets/openml_datasets/all_datasets.csv\")\n",
    "# test_openml_personal = pd.read_csv(\"../../datasets/openml_datasets/all_datasets_labels_personal.csv\")"
   ]
  },
  {
   "cell_type": "code",
   "execution_count": 213,
   "metadata": {},
   "outputs": [],
   "source": [
    "# openml_true = pd.read_csv(\"../CASSED_model_results/cassed_personal/openml/true.csv\")\n",
    "# openml_pred = pd.read_csv(\"../CASSED_model_results/cassed_personal/openml/predicted.csv\")\n",
    "# openml_target_names = pd.read_csv(\"../CASSED_model_results/cassed_personal/openml/target_names.csv\")\n",
    "# openml_target_names = {a[1]: a[0] for a in openml_target_names[[\"0\", \"0.1\"]].values}\n",
    "# openml_target_names[0] = \"no prediction\""
   ]
  },
  {
   "cell_type": "code",
   "execution_count": 214,
   "metadata": {},
   "outputs": [],
   "source": [
    "# predictions, true = [], []\n",
    "# for i in range(openml_true.shape[0]):\n",
    "#     predictions.append([openml_target_names[e] for e, b in enumerate(openml_pred.iloc[i,:]) if b == 1])\n",
    "#     true.append([openml_target_names[e] for e, b in enumerate(openml_true.iloc[i,:]) if b == 1])\n",
    "# true = [a[0] for a in true]\n",
    "# predictions = [a[0] for a in predictions]"
   ]
  },
  {
   "cell_type": "code",
   "execution_count": 215,
   "metadata": {},
   "outputs": [],
   "source": [
    "# plot_cassed_results(true, predictions)"
   ]
  },
  {
   "cell_type": "code",
   "execution_count": 216,
   "metadata": {},
   "outputs": [],
   "source": [
    "# folders = [name for name in os.listdir(\"../../datasets/openml_datasets\") if os.path.isdir(os.path.join(\"../../datasets/openml_datasets\", name))]\n",
    "# dataset_openml, dataset_openml_info = [], []\n",
    "# dataset_type = [\"pii info\", \"personal info\", \"non-personal info\", \"personal info\", \"personal info\", \"pii info\", \"pii info\", \"non-personal info\",\n",
    "#                 \"non-personal info\", \"personal info\", \"pii info\", \"non-personal info\", \"personal info\", \"pii info\", \"non-personal info\"]\n",
    "# for e, folder in enumerate(folders):\n",
    "#     path = \"../../datasets/openml_datasets/\" + folder\n",
    "#     csv_file = [f for f in os.listdir(path) if f.endswith('.csv') and 'labels' not in f][0]\n",
    "#     with open(path + \"/\" + csv_file, 'r') as file:\n",
    "#         first_line = file.readline()\n",
    "#         comma_count = first_line.count(',')\n",
    "#         semicolon_count = first_line.count(';')\n",
    "#         if comma_count > semicolon_count:\n",
    "#             sep = \",\"\n",
    "#         else:\n",
    "#             sep = \";\"\n",
    "#     df = pd.read_csv(path + \"/\" + csv_file, sep=sep,low_memory=False)\n",
    "#     dataset_openml += [folder] * df.shape[1]\n",
    "#     dataset_openml_info += [dataset_type[e]] * df.shape[1]"
   ]
  },
  {
   "cell_type": "code",
   "execution_count": 217,
   "metadata": {},
   "outputs": [],
   "source": [
    "# results_df_test_openml = pd.DataFrame({\n",
    "#     \"Column\": test_openml.columns,\n",
    "#     \"Prediction\": predictions,\n",
    "#     \"True Label\": test_openml_personal[\"label\"].values,\n",
    "#     \"Dataset\": dataset_openml,\n",
    "#     \"Dataset Type\": dataset_openml_info\n",
    "# })"
   ]
  },
  {
   "cell_type": "code",
   "execution_count": 218,
   "metadata": {},
   "outputs": [],
   "source": [
    "#False negatives\n",
    "# results_df_test_openml.loc[(results_df_test_openml[\"True Label\"] == \"personal\") & (results_df_test_openml[\"Prediction\"] == \"non-personal\")]"
   ]
  },
  {
   "cell_type": "code",
   "execution_count": 219,
   "metadata": {},
   "outputs": [],
   "source": [
    "#False positives\n",
    "# results_df_test_openml.loc[(results_df_test_openml[\"True Label\"] == \"non-personal\") & (results_df_test_openml[\"Prediction\"] == \"personal\")]"
   ]
  },
  {
   "cell_type": "markdown",
   "metadata": {},
   "source": [
    "# OpenML 2"
   ]
  },
  {
   "cell_type": "code",
   "execution_count": 220,
   "metadata": {},
   "outputs": [],
   "source": [
    "# test_openml_2 = pd.read_csv(\"../../datasets/openml_datasets_2/all_datasets.csv\")\n",
    "# test_openml_2_personal = pd.read_csv(\"../../datasets/openml_datasets_2/all_datasets_labels_personal.csv\")"
   ]
  },
  {
   "cell_type": "code",
   "execution_count": 221,
   "metadata": {},
   "outputs": [],
   "source": [
    "# openml_2_true = pd.read_csv(\"../CASSED_model_results/cassed_personal/openml_2/true.csv\")\n",
    "# openml_2_pred = pd.read_csv(\"../CASSED_model_results/cassed_personal/openml_2/predicted.csv\")\n",
    "# openml_2_target_names = pd.read_csv(\"../CASSED_model_results/cassed_personal/openml_2/target_names.csv\")\n",
    "# openml_2_target_names = {a[1]: a[0] for a in openml_2_target_names[[\"0\", \"0.1\"]].values}\n",
    "# openml_2_target_names[0] = \"no prediction\""
   ]
  },
  {
   "cell_type": "code",
   "execution_count": 222,
   "metadata": {},
   "outputs": [],
   "source": [
    "# predictions, true = [], []\n",
    "# for i in range(openml_2_true.shape[0]):\n",
    "#     predictions.append([openml_2_target_names[e] for e, b in enumerate(openml_2_pred.iloc[i,:]) if b == 1])\n",
    "#     true.append([openml_2_target_names[e] for e, b in enumerate(openml_2_true.iloc[i,:]) if b == 1])\n",
    "# true = [a[0] for a in true]\n",
    "# predictions = [a[0] for a in predictions]"
   ]
  },
  {
   "cell_type": "code",
   "execution_count": 223,
   "metadata": {},
   "outputs": [],
   "source": [
    "# plot_cassed_results(true, predictions)"
   ]
  },
  {
   "cell_type": "code",
   "execution_count": 224,
   "metadata": {},
   "outputs": [],
   "source": [
    "# folders = [name for name in os.listdir(\"../../datasets/openml_datasets_2\") if os.path.isdir(os.path.join(\"../../datasets/openml_datasets_2\", name))]\n",
    "# dataset_openml_2, dataset_openml_2_info = [], []\n",
    "# dataset_type = [\"pii info\", \"personal info\", \"non-personal info\", \"personal info\", \"personal info\", \"pii info\", \"pii info\", \"non-personal info\",\n",
    "#                 \"non-personal info\", \"personal info\", \"pii info\", \"non-personal info\", \"personal info\", \"pii info\", \"non-personal info\"]\n",
    "# for e, folder in enumerate(folders):\n",
    "#     path = \"../../datasets/openml_datasets_2/\" + folder\n",
    "#     csv_file = [f for f in os.listdir(path) if f.endswith('.csv') and 'labels' not in f][0]\n",
    "#     with open(path + \"/\" + csv_file, 'r') as file:\n",
    "#         first_line = file.readline()\n",
    "#         comma_count = first_line.count(',')\n",
    "#         semicolon_count = first_line.count(';')\n",
    "#         if comma_count > semicolon_count:\n",
    "#             sep = \",\"\n",
    "#         else:\n",
    "#             sep = \";\"\n",
    "#     df = pd.read_csv(path + \"/\" + csv_file, sep=sep)\n",
    "#     dataset_openml_2 += [folder] * df.shape[1]\n",
    "#     dataset_openml_2_info += [dataset_type[e]] * df.shape[1]"
   ]
  },
  {
   "cell_type": "code",
   "execution_count": 225,
   "metadata": {},
   "outputs": [],
   "source": [
    "# results_df_test_openml_2 = pd.DataFrame({\n",
    "#     \"Column\": test_openml_2.columns,\n",
    "#     \"Prediction\": predictions,\n",
    "#     \"True Label\": test_openml_2_personal[\"label\"].values,\n",
    "#     \"Dataset\": dataset_openml_2,\n",
    "#     \"Dataset Type\": dataset_openml_2_info\n",
    "# })"
   ]
  },
  {
   "cell_type": "code",
   "execution_count": 226,
   "metadata": {},
   "outputs": [],
   "source": [
    "# #False negatives\n",
    "# results_df_test_openml_2.loc[(results_df_test_openml_2[\"True Label\"] == \"personal\") & (results_df_test_openml_2[\"Prediction\"] == \"non-personal\")]"
   ]
  },
  {
   "cell_type": "code",
   "execution_count": 227,
   "metadata": {},
   "outputs": [],
   "source": [
    "# #False positives\n",
    "# results_df_test_openml_2.loc[(results_df_test_openml_2[\"True Label\"] == \"non-personal\") & (results_df_test_openml_2[\"Prediction\"] == \"personal\")]"
   ]
  },
  {
   "cell_type": "markdown",
   "metadata": {},
   "source": [
    "# Medical"
   ]
  },
  {
   "cell_type": "code",
   "execution_count": 228,
   "metadata": {},
   "outputs": [],
   "source": [
    "# test_medical = pd.read_csv(\"../../datasets/freiburg-medical/test.csv\")\n",
    "# test_medical_personal = pd.read_csv(\"../../datasets/freiburg-medical/test_labels_personal.csv\")"
   ]
  },
  {
   "cell_type": "code",
   "execution_count": 229,
   "metadata": {},
   "outputs": [],
   "source": [
    "# medical_true = pd.read_csv(\"../CASSED_model_results/cassed_personal/medical/true.csv\")\n",
    "# medical_pred = pd.read_csv(\"../CASSED_model_results/cassed_personal/medical/predicted.csv\")\n",
    "# medical_target_names = pd.read_csv(\"../CASSED_model_results/cassed_personal/medical/target_names.csv\")\n",
    "# medical_target_names = {a[1]: a[0] for a in medical_target_names[[\"0\", \"0.1\"]].values}\n",
    "# medical_target_names[0] = \"no prediction\""
   ]
  },
  {
   "cell_type": "code",
   "execution_count": 230,
   "metadata": {},
   "outputs": [],
   "source": [
    "# predictions, true = [], []\n",
    "# for i in range(medical_true.shape[0]):\n",
    "#     predictions.append([medical_target_names[e] for e, b in enumerate(medical_pred.iloc[i,:]) if b == 1])\n",
    "#     true.append([medical_target_names[e] for e, b in enumerate(medical_true.iloc[i,:]) if b == 1])\n",
    "# true = [a[0] for a in true]\n",
    "# predictions = [a[0] for a in predictions]"
   ]
  },
  {
   "cell_type": "code",
   "execution_count": 231,
   "metadata": {},
   "outputs": [],
   "source": [
    "# y_true = true\n",
    "# y_pred = predictions\n",
    "# y_true_bin = [1 if label == \"personal\" else 0 for label in y_true]\n",
    "# y_pred_bin = [1 if label == \"personal\" else 0 for label in y_pred]\n",
    "\n",
    "# cm = confusion_matrix(y_true, y_pred, labels=[\"personal\", \"non-personal\"])\n",
    "# cm_norm = confusion_matrix(y_true, y_pred, labels=[\"personal\", \"non-personal\"], normalize=\"true\")\n",
    "\n",
    "# accuracy = accuracy_score(y_true, y_pred)\n",
    "# f1 = f1_score(y_true, y_pred, average=\"weighted\")\n",
    "# precision = precision_score(y_true, y_pred, average=\"weighted\", zero_division=0)\n",
    "# recall = recall_score(y_true, y_pred, average=\"weighted\", zero_division=0)\n",
    "\n",
    "# fig = make_subplots(\n",
    "#     rows=1, cols=2, \n",
    "#     subplot_titles=[\"Evaluation Metrics\", \"Confusion Matrix\"]\n",
    "# )\n",
    "\n",
    "# metrics = {\n",
    "#     \"weighted Precision\": precision,\n",
    "#     \"weighted Recall\": recall,\n",
    "#     \"weighted F1 Score\": f1,\n",
    "#     \"Accuracy\": accuracy\n",
    "# }\n",
    "\n",
    "# fig.add_trace(go.Bar(\n",
    "#     x=list(metrics.keys()),\n",
    "#     y=list(metrics.values()), \n",
    "#     showlegend=False\n",
    "# ), row=1, col=1)\n",
    "\n",
    "# text_values = [\n",
    "#     [f\"{cm[0,0]}<br>{cm_norm[0,0]:.2f}\", f\"{cm[0,1]}<br>{cm_norm[0,1]:.2f}\"],\n",
    "#     [f\"{cm[1,0]}<br>{cm_norm[1,0]:.2f}\", f\"{cm[1,1]}<br>{cm_norm[1,1]:.2f}\"]\n",
    "# ]\n",
    "# cm_heatmap = go.Heatmap(\n",
    "#     z=cm, \n",
    "#     x=[\"Pred: personal\", \"Pred: non-personal\"], \n",
    "#     y=[\"True: personal\", \"True: non-personal\"], \n",
    "#     colorscale=\"Blues\", \n",
    "#     showscale=False,\n",
    "#     text=text_values, \n",
    "#     texttemplate=\"%{text}\",\n",
    "#     textfont={\"size\":20},\n",
    "# )\n",
    "\n",
    "\n",
    "# fig.add_trace(cm_heatmap, row=1, col=2)\n",
    "\n",
    "# fig.update_layout(\n",
    "#     title=\"Confusion Matrix and Evaluation Metrics\",\n",
    "#     height=500, \n",
    "#     width=1000,\n",
    "#     showlegend=False\n",
    "# )\n",
    "# fig.update_yaxes(range=[0, 1.1], row=1, col=1)\n",
    "\n",
    "# fig.show()"
   ]
  },
  {
   "cell_type": "code",
   "execution_count": 232,
   "metadata": {},
   "outputs": [],
   "source": [
    "# y_true"
   ]
  },
  {
   "cell_type": "code",
   "execution_count": 233,
   "metadata": {},
   "outputs": [],
   "source": [
    "# results_df_test_medical = pd.DataFrame({\n",
    "#     \"Column\": test_medical.columns,\n",
    "#     \"Prediction\": predictions,\n",
    "#     \"True Label\": test_medical_personal[\"label\"].values\n",
    "# })"
   ]
  },
  {
   "cell_type": "code",
   "execution_count": 234,
   "metadata": {},
   "outputs": [],
   "source": [
    "# #False negatives\n",
    "# results_df_test_medical.loc[(results_df_test_medical[\"True Label\"] == \"personal\") & (results_df_test_medical[\"Prediction\"] == \"non-personal\")]"
   ]
  },
  {
   "cell_type": "code",
   "execution_count": 235,
   "metadata": {},
   "outputs": [],
   "source": [
    "# #False positives\n",
    "# results_df_test_medical.loc[(results_df_test_medical[\"True Label\"] == \"non-personal\") & (results_df_test_medical[\"Prediction\"] == \"personal\")]"
   ]
  },
  {
   "cell_type": "code",
   "execution_count": null,
   "metadata": {},
   "outputs": [],
   "source": []
  },
  {
   "cell_type": "markdown",
   "metadata": {},
   "source": [
    "# OpenML"
   ]
  },
  {
   "cell_type": "markdown",
   "metadata": {},
   "source": [
    " # OPENML ALL"
   ]
  },
  {
   "cell_type": "code",
   "execution_count": 236,
   "metadata": {},
   "outputs": [
    {
     "name": "stdout",
     "output_type": "stream",
     "text": [
      "../CASSED_model_results/cassed_personal/openmlall/predicted.csv\n"
     ]
    }
   ],
   "source": [
    "import os\n",
    "\n",
    "absolute_path = \"/home/aagisha/Documents/PhD Albert/CodingPhDStart1/WorkshopSIGMOD/Personal-Detection/CASSED/CASSED_model_results/cassed_personal/openmlall/predicted.csv\"\n",
    "\n",
    "# Get relative path from the current working directory\n",
    "relative_path = os.path.relpath(absolute_path, os.getcwd())\n",
    "\n",
    "print(relative_path)"
   ]
  },
  {
   "cell_type": "code",
   "execution_count": 237,
   "metadata": {},
   "outputs": [],
   "source": [
    "test_openmlall = pd.read_csv(\"../../datasets/OpenMLall_data/OpenMLAll_data.csv\")\n",
    "test_openmlall_personal = pd.read_csv(\"../../datasets/OpenMLall_data/OpenMLAll_data_labels.csv\")"
   ]
  },
  {
   "cell_type": "code",
   "execution_count": 238,
   "metadata": {},
   "outputs": [],
   "source": [
    "openmlall_true = pd.read_csv(\"../CASSED_model_results/cassed_personal/openmlall/true.csv\")\n",
    "openmlall_pred = pd.read_csv(\"../CASSED_model_results/cassed_personal/openmlall/predicted.csv\")\n",
    "openmlall_target_names = pd.read_csv(\"../CASSED_model_results/cassed_personal/openmlall/target_names.csv\")\n",
    "openmlall_target_names = {a[1]: a[0] for a in openmlall_target_names[[\"0\", \"0.1\"]].values}\n",
    "openmlall_target_names[0] = \"no prediction\""
   ]
  },
  {
   "cell_type": "code",
   "execution_count": 239,
   "metadata": {},
   "outputs": [
    {
     "data": {
      "text/plain": [
       "{2: 'non-personal', 1: 'personal', 0: 'no prediction'}"
      ]
     },
     "execution_count": 239,
     "metadata": {},
     "output_type": "execute_result"
    }
   ],
   "source": [
    "openmlall_target_names"
   ]
  },
  {
   "cell_type": "code",
   "execution_count": 240,
   "metadata": {},
   "outputs": [],
   "source": [
    "predictionsopenml, trueopenml = [], []\n",
    "for i in range(openmlall_true.shape[0]):\n",
    "    predictionsopenml.append([openmlall_target_names[e] for e, b in enumerate(openmlall_pred.iloc[i,:]) if b == 1])\n",
    "    trueopenml.append([openmlall_target_names[e] for e, b in enumerate(openmlall_true.iloc[i,:]) if b == 1])\n",
    "trueopenml = [a[0] for a in trueopenml]\n",
    "predictionsopenml = [a[0] for a in predictionsopenml]"
   ]
  },
  {
   "cell_type": "code",
   "execution_count": 241,
   "metadata": {},
   "outputs": [
    {
     "data": {
      "application/vnd.plotly.v1+json": {
       "config": {
        "plotlyServerURL": "https://plot.ly"
       },
       "data": [
        {
         "showlegend": false,
         "type": "bar",
         "x": [
          "weighted Precision",
          "weighted Recall",
          "weighted F1 Score",
          "Accuracy",
          "AUC-ROC"
         ],
         "xaxis": "x",
         "y": [
          0.6439417605998065,
          0.686046511627907,
          0.6119605291994595,
          0.686046511627907,
          0.5354074279379158
         ],
         "yaxis": "y"
        },
        {
         "colorscale": [
          [
           0,
           "rgb(247,251,255)"
          ],
          [
           0.125,
           "rgb(222,235,247)"
          ],
          [
           0.25,
           "rgb(198,219,239)"
          ],
          [
           0.375,
           "rgb(158,202,225)"
          ],
          [
           0.5,
           "rgb(107,174,214)"
          ],
          [
           0.625,
           "rgb(66,146,198)"
          ],
          [
           0.75,
           "rgb(33,113,181)"
          ],
          [
           0.875,
           "rgb(8,81,156)"
          ],
          [
           1,
           "rgb(8,48,107)"
          ]
         ],
         "showscale": false,
         "text": [
          [
           "10<br>0.12",
           "72<br>0.88"
          ],
          [
           "9<br>0.05",
           "167<br>0.95"
          ]
         ],
         "textfont": {
          "size": 20
         },
         "texttemplate": "%{text}",
         "type": "heatmap",
         "x": [
          "Pred: personal",
          "Pred: non-personal"
         ],
         "xaxis": "x2",
         "y": [
          "True: personal",
          "True: non-personal"
         ],
         "yaxis": "y2",
         "z": [
          [
           10,
           72
          ],
          [
           9,
           167
          ]
         ]
        }
       ],
       "layout": {
        "annotations": [
         {
          "font": {
           "size": 16
          },
          "showarrow": false,
          "text": "Evaluation Metrics",
          "x": 0.225,
          "xanchor": "center",
          "xref": "paper",
          "y": 1,
          "yanchor": "bottom",
          "yref": "paper"
         },
         {
          "font": {
           "size": 16
          },
          "showarrow": false,
          "text": "Confusion Matrix",
          "x": 0.775,
          "xanchor": "center",
          "xref": "paper",
          "y": 1,
          "yanchor": "bottom",
          "yref": "paper"
         }
        ],
        "height": 500,
        "showlegend": false,
        "template": {
         "data": {
          "bar": [
           {
            "error_x": {
             "color": "#2a3f5f"
            },
            "error_y": {
             "color": "#2a3f5f"
            },
            "marker": {
             "line": {
              "color": "#E5ECF6",
              "width": 0.5
             },
             "pattern": {
              "fillmode": "overlay",
              "size": 10,
              "solidity": 0.2
             }
            },
            "type": "bar"
           }
          ],
          "barpolar": [
           {
            "marker": {
             "line": {
              "color": "#E5ECF6",
              "width": 0.5
             },
             "pattern": {
              "fillmode": "overlay",
              "size": 10,
              "solidity": 0.2
             }
            },
            "type": "barpolar"
           }
          ],
          "carpet": [
           {
            "aaxis": {
             "endlinecolor": "#2a3f5f",
             "gridcolor": "white",
             "linecolor": "white",
             "minorgridcolor": "white",
             "startlinecolor": "#2a3f5f"
            },
            "baxis": {
             "endlinecolor": "#2a3f5f",
             "gridcolor": "white",
             "linecolor": "white",
             "minorgridcolor": "white",
             "startlinecolor": "#2a3f5f"
            },
            "type": "carpet"
           }
          ],
          "choropleth": [
           {
            "colorbar": {
             "outlinewidth": 0,
             "ticks": ""
            },
            "type": "choropleth"
           }
          ],
          "contour": [
           {
            "colorbar": {
             "outlinewidth": 0,
             "ticks": ""
            },
            "colorscale": [
             [
              0,
              "#0d0887"
             ],
             [
              0.1111111111111111,
              "#46039f"
             ],
             [
              0.2222222222222222,
              "#7201a8"
             ],
             [
              0.3333333333333333,
              "#9c179e"
             ],
             [
              0.4444444444444444,
              "#bd3786"
             ],
             [
              0.5555555555555556,
              "#d8576b"
             ],
             [
              0.6666666666666666,
              "#ed7953"
             ],
             [
              0.7777777777777778,
              "#fb9f3a"
             ],
             [
              0.8888888888888888,
              "#fdca26"
             ],
             [
              1,
              "#f0f921"
             ]
            ],
            "type": "contour"
           }
          ],
          "contourcarpet": [
           {
            "colorbar": {
             "outlinewidth": 0,
             "ticks": ""
            },
            "type": "contourcarpet"
           }
          ],
          "heatmap": [
           {
            "colorbar": {
             "outlinewidth": 0,
             "ticks": ""
            },
            "colorscale": [
             [
              0,
              "#0d0887"
             ],
             [
              0.1111111111111111,
              "#46039f"
             ],
             [
              0.2222222222222222,
              "#7201a8"
             ],
             [
              0.3333333333333333,
              "#9c179e"
             ],
             [
              0.4444444444444444,
              "#bd3786"
             ],
             [
              0.5555555555555556,
              "#d8576b"
             ],
             [
              0.6666666666666666,
              "#ed7953"
             ],
             [
              0.7777777777777778,
              "#fb9f3a"
             ],
             [
              0.8888888888888888,
              "#fdca26"
             ],
             [
              1,
              "#f0f921"
             ]
            ],
            "type": "heatmap"
           }
          ],
          "heatmapgl": [
           {
            "colorbar": {
             "outlinewidth": 0,
             "ticks": ""
            },
            "colorscale": [
             [
              0,
              "#0d0887"
             ],
             [
              0.1111111111111111,
              "#46039f"
             ],
             [
              0.2222222222222222,
              "#7201a8"
             ],
             [
              0.3333333333333333,
              "#9c179e"
             ],
             [
              0.4444444444444444,
              "#bd3786"
             ],
             [
              0.5555555555555556,
              "#d8576b"
             ],
             [
              0.6666666666666666,
              "#ed7953"
             ],
             [
              0.7777777777777778,
              "#fb9f3a"
             ],
             [
              0.8888888888888888,
              "#fdca26"
             ],
             [
              1,
              "#f0f921"
             ]
            ],
            "type": "heatmapgl"
           }
          ],
          "histogram": [
           {
            "marker": {
             "pattern": {
              "fillmode": "overlay",
              "size": 10,
              "solidity": 0.2
             }
            },
            "type": "histogram"
           }
          ],
          "histogram2d": [
           {
            "colorbar": {
             "outlinewidth": 0,
             "ticks": ""
            },
            "colorscale": [
             [
              0,
              "#0d0887"
             ],
             [
              0.1111111111111111,
              "#46039f"
             ],
             [
              0.2222222222222222,
              "#7201a8"
             ],
             [
              0.3333333333333333,
              "#9c179e"
             ],
             [
              0.4444444444444444,
              "#bd3786"
             ],
             [
              0.5555555555555556,
              "#d8576b"
             ],
             [
              0.6666666666666666,
              "#ed7953"
             ],
             [
              0.7777777777777778,
              "#fb9f3a"
             ],
             [
              0.8888888888888888,
              "#fdca26"
             ],
             [
              1,
              "#f0f921"
             ]
            ],
            "type": "histogram2d"
           }
          ],
          "histogram2dcontour": [
           {
            "colorbar": {
             "outlinewidth": 0,
             "ticks": ""
            },
            "colorscale": [
             [
              0,
              "#0d0887"
             ],
             [
              0.1111111111111111,
              "#46039f"
             ],
             [
              0.2222222222222222,
              "#7201a8"
             ],
             [
              0.3333333333333333,
              "#9c179e"
             ],
             [
              0.4444444444444444,
              "#bd3786"
             ],
             [
              0.5555555555555556,
              "#d8576b"
             ],
             [
              0.6666666666666666,
              "#ed7953"
             ],
             [
              0.7777777777777778,
              "#fb9f3a"
             ],
             [
              0.8888888888888888,
              "#fdca26"
             ],
             [
              1,
              "#f0f921"
             ]
            ],
            "type": "histogram2dcontour"
           }
          ],
          "mesh3d": [
           {
            "colorbar": {
             "outlinewidth": 0,
             "ticks": ""
            },
            "type": "mesh3d"
           }
          ],
          "parcoords": [
           {
            "line": {
             "colorbar": {
              "outlinewidth": 0,
              "ticks": ""
             }
            },
            "type": "parcoords"
           }
          ],
          "pie": [
           {
            "automargin": true,
            "type": "pie"
           }
          ],
          "scatter": [
           {
            "fillpattern": {
             "fillmode": "overlay",
             "size": 10,
             "solidity": 0.2
            },
            "type": "scatter"
           }
          ],
          "scatter3d": [
           {
            "line": {
             "colorbar": {
              "outlinewidth": 0,
              "ticks": ""
             }
            },
            "marker": {
             "colorbar": {
              "outlinewidth": 0,
              "ticks": ""
             }
            },
            "type": "scatter3d"
           }
          ],
          "scattercarpet": [
           {
            "marker": {
             "colorbar": {
              "outlinewidth": 0,
              "ticks": ""
             }
            },
            "type": "scattercarpet"
           }
          ],
          "scattergeo": [
           {
            "marker": {
             "colorbar": {
              "outlinewidth": 0,
              "ticks": ""
             }
            },
            "type": "scattergeo"
           }
          ],
          "scattergl": [
           {
            "marker": {
             "colorbar": {
              "outlinewidth": 0,
              "ticks": ""
             }
            },
            "type": "scattergl"
           }
          ],
          "scattermapbox": [
           {
            "marker": {
             "colorbar": {
              "outlinewidth": 0,
              "ticks": ""
             }
            },
            "type": "scattermapbox"
           }
          ],
          "scatterpolar": [
           {
            "marker": {
             "colorbar": {
              "outlinewidth": 0,
              "ticks": ""
             }
            },
            "type": "scatterpolar"
           }
          ],
          "scatterpolargl": [
           {
            "marker": {
             "colorbar": {
              "outlinewidth": 0,
              "ticks": ""
             }
            },
            "type": "scatterpolargl"
           }
          ],
          "scatterternary": [
           {
            "marker": {
             "colorbar": {
              "outlinewidth": 0,
              "ticks": ""
             }
            },
            "type": "scatterternary"
           }
          ],
          "surface": [
           {
            "colorbar": {
             "outlinewidth": 0,
             "ticks": ""
            },
            "colorscale": [
             [
              0,
              "#0d0887"
             ],
             [
              0.1111111111111111,
              "#46039f"
             ],
             [
              0.2222222222222222,
              "#7201a8"
             ],
             [
              0.3333333333333333,
              "#9c179e"
             ],
             [
              0.4444444444444444,
              "#bd3786"
             ],
             [
              0.5555555555555556,
              "#d8576b"
             ],
             [
              0.6666666666666666,
              "#ed7953"
             ],
             [
              0.7777777777777778,
              "#fb9f3a"
             ],
             [
              0.8888888888888888,
              "#fdca26"
             ],
             [
              1,
              "#f0f921"
             ]
            ],
            "type": "surface"
           }
          ],
          "table": [
           {
            "cells": {
             "fill": {
              "color": "#EBF0F8"
             },
             "line": {
              "color": "white"
             }
            },
            "header": {
             "fill": {
              "color": "#C8D4E3"
             },
             "line": {
              "color": "white"
             }
            },
            "type": "table"
           }
          ]
         },
         "layout": {
          "annotationdefaults": {
           "arrowcolor": "#2a3f5f",
           "arrowhead": 0,
           "arrowwidth": 1
          },
          "autotypenumbers": "strict",
          "coloraxis": {
           "colorbar": {
            "outlinewidth": 0,
            "ticks": ""
           }
          },
          "colorscale": {
           "diverging": [
            [
             0,
             "#8e0152"
            ],
            [
             0.1,
             "#c51b7d"
            ],
            [
             0.2,
             "#de77ae"
            ],
            [
             0.3,
             "#f1b6da"
            ],
            [
             0.4,
             "#fde0ef"
            ],
            [
             0.5,
             "#f7f7f7"
            ],
            [
             0.6,
             "#e6f5d0"
            ],
            [
             0.7,
             "#b8e186"
            ],
            [
             0.8,
             "#7fbc41"
            ],
            [
             0.9,
             "#4d9221"
            ],
            [
             1,
             "#276419"
            ]
           ],
           "sequential": [
            [
             0,
             "#0d0887"
            ],
            [
             0.1111111111111111,
             "#46039f"
            ],
            [
             0.2222222222222222,
             "#7201a8"
            ],
            [
             0.3333333333333333,
             "#9c179e"
            ],
            [
             0.4444444444444444,
             "#bd3786"
            ],
            [
             0.5555555555555556,
             "#d8576b"
            ],
            [
             0.6666666666666666,
             "#ed7953"
            ],
            [
             0.7777777777777778,
             "#fb9f3a"
            ],
            [
             0.8888888888888888,
             "#fdca26"
            ],
            [
             1,
             "#f0f921"
            ]
           ],
           "sequentialminus": [
            [
             0,
             "#0d0887"
            ],
            [
             0.1111111111111111,
             "#46039f"
            ],
            [
             0.2222222222222222,
             "#7201a8"
            ],
            [
             0.3333333333333333,
             "#9c179e"
            ],
            [
             0.4444444444444444,
             "#bd3786"
            ],
            [
             0.5555555555555556,
             "#d8576b"
            ],
            [
             0.6666666666666666,
             "#ed7953"
            ],
            [
             0.7777777777777778,
             "#fb9f3a"
            ],
            [
             0.8888888888888888,
             "#fdca26"
            ],
            [
             1,
             "#f0f921"
            ]
           ]
          },
          "colorway": [
           "#636efa",
           "#EF553B",
           "#00cc96",
           "#ab63fa",
           "#FFA15A",
           "#19d3f3",
           "#FF6692",
           "#B6E880",
           "#FF97FF",
           "#FECB52"
          ],
          "font": {
           "color": "#2a3f5f"
          },
          "geo": {
           "bgcolor": "white",
           "lakecolor": "white",
           "landcolor": "#E5ECF6",
           "showlakes": true,
           "showland": true,
           "subunitcolor": "white"
          },
          "hoverlabel": {
           "align": "left"
          },
          "hovermode": "closest",
          "mapbox": {
           "style": "light"
          },
          "paper_bgcolor": "white",
          "plot_bgcolor": "#E5ECF6",
          "polar": {
           "angularaxis": {
            "gridcolor": "white",
            "linecolor": "white",
            "ticks": ""
           },
           "bgcolor": "#E5ECF6",
           "radialaxis": {
            "gridcolor": "white",
            "linecolor": "white",
            "ticks": ""
           }
          },
          "scene": {
           "xaxis": {
            "backgroundcolor": "#E5ECF6",
            "gridcolor": "white",
            "gridwidth": 2,
            "linecolor": "white",
            "showbackground": true,
            "ticks": "",
            "zerolinecolor": "white"
           },
           "yaxis": {
            "backgroundcolor": "#E5ECF6",
            "gridcolor": "white",
            "gridwidth": 2,
            "linecolor": "white",
            "showbackground": true,
            "ticks": "",
            "zerolinecolor": "white"
           },
           "zaxis": {
            "backgroundcolor": "#E5ECF6",
            "gridcolor": "white",
            "gridwidth": 2,
            "linecolor": "white",
            "showbackground": true,
            "ticks": "",
            "zerolinecolor": "white"
           }
          },
          "shapedefaults": {
           "line": {
            "color": "#2a3f5f"
           }
          },
          "ternary": {
           "aaxis": {
            "gridcolor": "white",
            "linecolor": "white",
            "ticks": ""
           },
           "baxis": {
            "gridcolor": "white",
            "linecolor": "white",
            "ticks": ""
           },
           "bgcolor": "#E5ECF6",
           "caxis": {
            "gridcolor": "white",
            "linecolor": "white",
            "ticks": ""
           }
          },
          "title": {
           "x": 0.05
          },
          "xaxis": {
           "automargin": true,
           "gridcolor": "white",
           "linecolor": "white",
           "ticks": "",
           "title": {
            "standoff": 15
           },
           "zerolinecolor": "white",
           "zerolinewidth": 2
          },
          "yaxis": {
           "automargin": true,
           "gridcolor": "white",
           "linecolor": "white",
           "ticks": "",
           "title": {
            "standoff": 15
           },
           "zerolinecolor": "white",
           "zerolinewidth": 2
          }
         }
        },
        "title": {
         "text": "Confusion Matrix and Evaluation Metrics"
        },
        "width": 1000,
        "xaxis": {
         "anchor": "y",
         "domain": [
          0,
          0.45
         ]
        },
        "xaxis2": {
         "anchor": "y2",
         "domain": [
          0.55,
          1
         ]
        },
        "yaxis": {
         "anchor": "x",
         "domain": [
          0,
          1
         ],
         "range": [
          0,
          1.1
         ]
        },
        "yaxis2": {
         "anchor": "x2",
         "domain": [
          0,
          1
         ]
        }
       }
      }
     },
     "metadata": {},
     "output_type": "display_data"
    }
   ],
   "source": [
    "plot_cassed_results(trueopenml, predictionsopenml)"
   ]
  },
  {
   "cell_type": "code",
   "execution_count": 242,
   "metadata": {},
   "outputs": [],
   "source": [
    "\n",
    "results_df_test_openmlall = pd.DataFrame({\n",
    "    \"Column\": test_openmlall.columns,\n",
    "    \"Prediction\": predictionsopenml,\n",
    "    \"True Label\": trueopenml#test_openmlall_personal[\"label\"].values\n",
    "    })"
   ]
  },
  {
   "cell_type": "code",
   "execution_count": null,
   "metadata": {},
   "outputs": [],
   "source": []
  },
  {
   "cell_type": "code",
   "execution_count": 243,
   "metadata": {},
   "outputs": [
    {
     "data": {
      "text/html": [
       "<div>\n",
       "<style scoped>\n",
       "    .dataframe tbody tr th:only-of-type {\n",
       "        vertical-align: middle;\n",
       "    }\n",
       "\n",
       "    .dataframe tbody tr th {\n",
       "        vertical-align: top;\n",
       "    }\n",
       "\n",
       "    .dataframe thead th {\n",
       "        text-align: right;\n",
       "    }\n",
       "</style>\n",
       "<table border=\"1\" class=\"dataframe\">\n",
       "  <thead>\n",
       "    <tr style=\"text-align: right;\">\n",
       "      <th></th>\n",
       "      <th>Column</th>\n",
       "      <th>Prediction</th>\n",
       "      <th>True Label</th>\n",
       "    </tr>\n",
       "  </thead>\n",
       "  <tbody>\n",
       "    <tr>\n",
       "      <th>0</th>\n",
       "      <td>User ID</td>\n",
       "      <td>non-personal</td>\n",
       "      <td>personal</td>\n",
       "    </tr>\n",
       "    <tr>\n",
       "      <th>1</th>\n",
       "      <td>Name</td>\n",
       "      <td>non-personal</td>\n",
       "      <td>personal</td>\n",
       "    </tr>\n",
       "    <tr>\n",
       "      <th>2</th>\n",
       "      <td>Email Address</td>\n",
       "      <td>non-personal</td>\n",
       "      <td>personal</td>\n",
       "    </tr>\n",
       "    <tr>\n",
       "      <th>3</th>\n",
       "      <td>Username</td>\n",
       "      <td>non-personal</td>\n",
       "      <td>personal</td>\n",
       "    </tr>\n",
       "    <tr>\n",
       "      <th>4</th>\n",
       "      <td>Date of Birth</td>\n",
       "      <td>non-personal</td>\n",
       "      <td>personal</td>\n",
       "    </tr>\n",
       "    <tr>\n",
       "      <th>...</th>\n",
       "      <td>...</td>\n",
       "      <td>...</td>\n",
       "      <td>...</td>\n",
       "    </tr>\n",
       "    <tr>\n",
       "      <th>253</th>\n",
       "      <td>density</td>\n",
       "      <td>non-personal</td>\n",
       "      <td>non-personal</td>\n",
       "    </tr>\n",
       "    <tr>\n",
       "      <th>254</th>\n",
       "      <td>pH</td>\n",
       "      <td>non-personal</td>\n",
       "      <td>non-personal</td>\n",
       "    </tr>\n",
       "    <tr>\n",
       "      <th>255</th>\n",
       "      <td>sulphates</td>\n",
       "      <td>non-personal</td>\n",
       "      <td>non-personal</td>\n",
       "    </tr>\n",
       "    <tr>\n",
       "      <th>256</th>\n",
       "      <td>alcohol</td>\n",
       "      <td>non-personal</td>\n",
       "      <td>non-personal</td>\n",
       "    </tr>\n",
       "    <tr>\n",
       "      <th>257</th>\n",
       "      <td>quality</td>\n",
       "      <td>non-personal</td>\n",
       "      <td>non-personal</td>\n",
       "    </tr>\n",
       "  </tbody>\n",
       "</table>\n",
       "<p>258 rows × 3 columns</p>\n",
       "</div>"
      ],
      "text/plain": [
       "            Column    Prediction    True Label\n",
       "0          User ID  non-personal      personal\n",
       "1             Name  non-personal      personal\n",
       "2    Email Address  non-personal      personal\n",
       "3         Username  non-personal      personal\n",
       "4    Date of Birth  non-personal      personal\n",
       "..             ...           ...           ...\n",
       "253        density  non-personal  non-personal\n",
       "254             pH  non-personal  non-personal\n",
       "255      sulphates  non-personal  non-personal\n",
       "256        alcohol  non-personal  non-personal\n",
       "257        quality  non-personal  non-personal\n",
       "\n",
       "[258 rows x 3 columns]"
      ]
     },
     "execution_count": 243,
     "metadata": {},
     "output_type": "execute_result"
    }
   ],
   "source": [
    "results_df_test_openmlall"
   ]
  },
  {
   "cell_type": "code",
   "execution_count": 278,
   "metadata": {},
   "outputs": [
    {
     "data": {
      "text/html": [
       "<div>\n",
       "<style scoped>\n",
       "    .dataframe tbody tr th:only-of-type {\n",
       "        vertical-align: middle;\n",
       "    }\n",
       "\n",
       "    .dataframe tbody tr th {\n",
       "        vertical-align: top;\n",
       "    }\n",
       "\n",
       "    .dataframe thead th {\n",
       "        text-align: right;\n",
       "    }\n",
       "</style>\n",
       "<table border=\"1\" class=\"dataframe\">\n",
       "  <thead>\n",
       "    <tr style=\"text-align: right;\">\n",
       "      <th></th>\n",
       "      <th>Column</th>\n",
       "      <th>Prediction</th>\n",
       "      <th>True Label</th>\n",
       "    </tr>\n",
       "  </thead>\n",
       "  <tbody>\n",
       "    <tr>\n",
       "      <th>0</th>\n",
       "      <td>User ID</td>\n",
       "      <td>non-personal</td>\n",
       "      <td>personal</td>\n",
       "    </tr>\n",
       "    <tr>\n",
       "      <th>1</th>\n",
       "      <td>Name</td>\n",
       "      <td>non-personal</td>\n",
       "      <td>personal</td>\n",
       "    </tr>\n",
       "    <tr>\n",
       "      <th>2</th>\n",
       "      <td>Email Address</td>\n",
       "      <td>non-personal</td>\n",
       "      <td>personal</td>\n",
       "    </tr>\n",
       "    <tr>\n",
       "      <th>3</th>\n",
       "      <td>Username</td>\n",
       "      <td>non-personal</td>\n",
       "      <td>personal</td>\n",
       "    </tr>\n",
       "    <tr>\n",
       "      <th>4</th>\n",
       "      <td>Date of Birth</td>\n",
       "      <td>non-personal</td>\n",
       "      <td>personal</td>\n",
       "    </tr>\n",
       "    <tr>\n",
       "      <th>...</th>\n",
       "      <td>...</td>\n",
       "      <td>...</td>\n",
       "      <td>...</td>\n",
       "    </tr>\n",
       "    <tr>\n",
       "      <th>162</th>\n",
       "      <td>wall_score</td>\n",
       "      <td>non-personal</td>\n",
       "      <td>personal</td>\n",
       "    </tr>\n",
       "    <tr>\n",
       "      <th>163</th>\n",
       "      <td>wall_index</td>\n",
       "      <td>non-personal</td>\n",
       "      <td>personal</td>\n",
       "    </tr>\n",
       "    <tr>\n",
       "      <th>164</th>\n",
       "      <td>alive_at_1</td>\n",
       "      <td>non-personal</td>\n",
       "      <td>personal</td>\n",
       "    </tr>\n",
       "    <tr>\n",
       "      <th>165</th>\n",
       "      <td>class</td>\n",
       "      <td>non-personal</td>\n",
       "      <td>personal</td>\n",
       "    </tr>\n",
       "    <tr>\n",
       "      <th>233</th>\n",
       "      <td>Speaker Number</td>\n",
       "      <td>non-personal</td>\n",
       "      <td>personal</td>\n",
       "    </tr>\n",
       "  </tbody>\n",
       "</table>\n",
       "<p>72 rows × 3 columns</p>\n",
       "</div>"
      ],
      "text/plain": [
       "             Column    Prediction True Label\n",
       "0           User ID  non-personal   personal\n",
       "1              Name  non-personal   personal\n",
       "2     Email Address  non-personal   personal\n",
       "3          Username  non-personal   personal\n",
       "4     Date of Birth  non-personal   personal\n",
       "..              ...           ...        ...\n",
       "162      wall_score  non-personal   personal\n",
       "163      wall_index  non-personal   personal\n",
       "164      alive_at_1  non-personal   personal\n",
       "165           class  non-personal   personal\n",
       "233  Speaker Number  non-personal   personal\n",
       "\n",
       "[72 rows x 3 columns]"
      ]
     },
     "execution_count": 278,
     "metadata": {},
     "output_type": "execute_result"
    }
   ],
   "source": [
    "fnneg_openmlall"
   ]
  },
  {
   "cell_type": "code",
   "execution_count": 279,
   "metadata": {},
   "outputs": [
    {
     "data": {
      "text/html": [
       "<div>\n",
       "<style scoped>\n",
       "    .dataframe tbody tr th:only-of-type {\n",
       "        vertical-align: middle;\n",
       "    }\n",
       "\n",
       "    .dataframe tbody tr th {\n",
       "        vertical-align: top;\n",
       "    }\n",
       "\n",
       "    .dataframe thead th {\n",
       "        text-align: right;\n",
       "    }\n",
       "</style>\n",
       "<table border=\"1\" class=\"dataframe\">\n",
       "  <thead>\n",
       "    <tr style=\"text-align: right;\">\n",
       "      <th></th>\n",
       "      <th>User ID</th>\n",
       "      <th>Name</th>\n",
       "      <th>Email Address</th>\n",
       "      <th>Username</th>\n",
       "      <th>Date of Birth</th>\n",
       "      <th>Location</th>\n",
       "      <th>Membership Start Date</th>\n",
       "      <th>Membership End Date</th>\n",
       "      <th>Subscription Plan</th>\n",
       "      <th>Payment Information</th>\n",
       "      <th>...</th>\n",
       "      <th>age</th>\n",
       "      <th>pericardial</th>\n",
       "      <th>fractional</th>\n",
       "      <th>epss</th>\n",
       "      <th>lvdd</th>\n",
       "      <th>wall_score</th>\n",
       "      <th>wall_index</th>\n",
       "      <th>alive_at_1</th>\n",
       "      <th>class</th>\n",
       "      <th>Speaker Number</th>\n",
       "    </tr>\n",
       "  </thead>\n",
       "  <tbody>\n",
       "    <tr>\n",
       "      <th>0</th>\n",
       "      <td>1</td>\n",
       "      <td>Ronald Murphy</td>\n",
       "      <td>williamholland@example.com</td>\n",
       "      <td>williamholland</td>\n",
       "      <td>1953-06-03</td>\n",
       "      <td>Rebeccachester</td>\n",
       "      <td>2024-01-15</td>\n",
       "      <td>2025-01-14</td>\n",
       "      <td>Annual</td>\n",
       "      <td>Mastercard</td>\n",
       "      <td>...</td>\n",
       "      <td>71.0</td>\n",
       "      <td>0</td>\n",
       "      <td>0.260</td>\n",
       "      <td>9.000</td>\n",
       "      <td>4.600</td>\n",
       "      <td>14.00</td>\n",
       "      <td>1.00</td>\n",
       "      <td>0.0</td>\n",
       "      <td>11.0</td>\n",
       "      <td>Andrew</td>\n",
       "    </tr>\n",
       "    <tr>\n",
       "      <th>1</th>\n",
       "      <td>2</td>\n",
       "      <td>Scott Allen</td>\n",
       "      <td>scott22@example.org</td>\n",
       "      <td>scott22</td>\n",
       "      <td>1978-07-08</td>\n",
       "      <td>Mcphersonview</td>\n",
       "      <td>2024-01-07</td>\n",
       "      <td>2025-01-06</td>\n",
       "      <td>Monthly</td>\n",
       "      <td>Visa</td>\n",
       "      <td>...</td>\n",
       "      <td>72.0</td>\n",
       "      <td>0</td>\n",
       "      <td>0.380</td>\n",
       "      <td>6.000</td>\n",
       "      <td>4.100</td>\n",
       "      <td>14.00</td>\n",
       "      <td>1.70</td>\n",
       "      <td>0.0</td>\n",
       "      <td>19.0</td>\n",
       "      <td>Andrew</td>\n",
       "    </tr>\n",
       "    <tr>\n",
       "      <th>2</th>\n",
       "      <td>3</td>\n",
       "      <td>Jonathan Parrish</td>\n",
       "      <td>brooke16@example.org</td>\n",
       "      <td>brooke16</td>\n",
       "      <td>1994-12-06</td>\n",
       "      <td>Youngfort</td>\n",
       "      <td>2024-04-13</td>\n",
       "      <td>2025-04-13</td>\n",
       "      <td>Monthly</td>\n",
       "      <td>Mastercard</td>\n",
       "      <td>...</td>\n",
       "      <td>55.0</td>\n",
       "      <td>0</td>\n",
       "      <td>0.260</td>\n",
       "      <td>4.000</td>\n",
       "      <td>3.420</td>\n",
       "      <td>14.00</td>\n",
       "      <td>1.00</td>\n",
       "      <td>0.0</td>\n",
       "      <td>16.0</td>\n",
       "      <td>Andrew</td>\n",
       "    </tr>\n",
       "    <tr>\n",
       "      <th>3</th>\n",
       "      <td>4</td>\n",
       "      <td>Megan Williams</td>\n",
       "      <td>elizabeth31@example.net</td>\n",
       "      <td>elizabeth31</td>\n",
       "      <td>1964-12-22</td>\n",
       "      <td>Feliciashire</td>\n",
       "      <td>2024-01-24</td>\n",
       "      <td>2025-01-23</td>\n",
       "      <td>Monthly</td>\n",
       "      <td>Amex</td>\n",
       "      <td>...</td>\n",
       "      <td>60.0</td>\n",
       "      <td>0</td>\n",
       "      <td>0.253</td>\n",
       "      <td>12.062</td>\n",
       "      <td>4.603</td>\n",
       "      <td>16.00</td>\n",
       "      <td>1.45</td>\n",
       "      <td>0.0</td>\n",
       "      <td>57.0</td>\n",
       "      <td>Andrew</td>\n",
       "    </tr>\n",
       "    <tr>\n",
       "      <th>4</th>\n",
       "      <td>5</td>\n",
       "      <td>Kathryn Brown</td>\n",
       "      <td>pattersonalexandra@example.org</td>\n",
       "      <td>pattersonalexandra</td>\n",
       "      <td>1961-06-04</td>\n",
       "      <td>Port Deborah</td>\n",
       "      <td>2024-02-14</td>\n",
       "      <td>2025-02-13</td>\n",
       "      <td>Annual</td>\n",
       "      <td>Visa</td>\n",
       "      <td>...</td>\n",
       "      <td>57.0</td>\n",
       "      <td>0</td>\n",
       "      <td>0.160</td>\n",
       "      <td>22.000</td>\n",
       "      <td>5.750</td>\n",
       "      <td>18.00</td>\n",
       "      <td>2.25</td>\n",
       "      <td>0.0</td>\n",
       "      <td>19.0</td>\n",
       "      <td>Andrew</td>\n",
       "    </tr>\n",
       "    <tr>\n",
       "      <th>...</th>\n",
       "      <td>...</td>\n",
       "      <td>...</td>\n",
       "      <td>...</td>\n",
       "      <td>...</td>\n",
       "      <td>...</td>\n",
       "      <td>...</td>\n",
       "      <td>...</td>\n",
       "      <td>...</td>\n",
       "      <td>...</td>\n",
       "      <td>...</td>\n",
       "      <td>...</td>\n",
       "      <td>...</td>\n",
       "      <td>...</td>\n",
       "      <td>...</td>\n",
       "      <td>...</td>\n",
       "      <td>...</td>\n",
       "      <td>...</td>\n",
       "      <td>...</td>\n",
       "      <td>...</td>\n",
       "      <td>...</td>\n",
       "      <td>...</td>\n",
       "    </tr>\n",
       "    <tr>\n",
       "      <th>95</th>\n",
       "      <td>96</td>\n",
       "      <td>Mackenzie Harris</td>\n",
       "      <td>andersonemily@example.net</td>\n",
       "      <td>andersonemily</td>\n",
       "      <td>1963-11-06</td>\n",
       "      <td>Lake Barryland</td>\n",
       "      <td>2024-03-01</td>\n",
       "      <td>2025-03-01</td>\n",
       "      <td>Annual</td>\n",
       "      <td>Mastercard</td>\n",
       "      <td>...</td>\n",
       "      <td>59.0</td>\n",
       "      <td>0</td>\n",
       "      <td>0.500</td>\n",
       "      <td>9.100</td>\n",
       "      <td>3.420</td>\n",
       "      <td>18.00</td>\n",
       "      <td>1.50</td>\n",
       "      <td>NaN</td>\n",
       "      <td>33.0</td>\n",
       "      <td>Bill</td>\n",
       "    </tr>\n",
       "    <tr>\n",
       "      <th>96</th>\n",
       "      <td>97</td>\n",
       "      <td>Stephanie Potter</td>\n",
       "      <td>heather10@example.org</td>\n",
       "      <td>heather10</td>\n",
       "      <td>1958-05-05</td>\n",
       "      <td>New Teresaburgh</td>\n",
       "      <td>2024-03-25</td>\n",
       "      <td>2025-03-25</td>\n",
       "      <td>Monthly</td>\n",
       "      <td>Amex</td>\n",
       "      <td>...</td>\n",
       "      <td>65.0</td>\n",
       "      <td>1</td>\n",
       "      <td>0.160</td>\n",
       "      <td>8.500</td>\n",
       "      <td>5.470</td>\n",
       "      <td>16.00</td>\n",
       "      <td>1.45</td>\n",
       "      <td>1.0</td>\n",
       "      <td>5.0</td>\n",
       "      <td>Bill</td>\n",
       "    </tr>\n",
       "    <tr>\n",
       "      <th>97</th>\n",
       "      <td>98</td>\n",
       "      <td>Mitchell Potter</td>\n",
       "      <td>fsanchez@example.net</td>\n",
       "      <td>fsanchez</td>\n",
       "      <td>1979-08-27</td>\n",
       "      <td>South Katieburgh</td>\n",
       "      <td>2024-01-27</td>\n",
       "      <td>2025-01-26</td>\n",
       "      <td>Annual</td>\n",
       "      <td>Visa</td>\n",
       "      <td>...</td>\n",
       "      <td>58.0</td>\n",
       "      <td>0</td>\n",
       "      <td>0.170</td>\n",
       "      <td>28.900</td>\n",
       "      <td>6.730</td>\n",
       "      <td>26.08</td>\n",
       "      <td>2.01</td>\n",
       "      <td>1.0</td>\n",
       "      <td>4.0</td>\n",
       "      <td>Bill</td>\n",
       "    </tr>\n",
       "    <tr>\n",
       "      <th>98</th>\n",
       "      <td>99</td>\n",
       "      <td>Jonathan Rodriguez</td>\n",
       "      <td>nichole85@example.net</td>\n",
       "      <td>nichole85</td>\n",
       "      <td>1967-12-20</td>\n",
       "      <td>East Shannonhaven</td>\n",
       "      <td>2024-02-29</td>\n",
       "      <td>2025-02-28</td>\n",
       "      <td>Monthly</td>\n",
       "      <td>Visa</td>\n",
       "      <td>...</td>\n",
       "      <td>53.0</td>\n",
       "      <td>0</td>\n",
       "      <td>0.170</td>\n",
       "      <td>NaN</td>\n",
       "      <td>4.690</td>\n",
       "      <td>10.00</td>\n",
       "      <td>1.00</td>\n",
       "      <td>NaN</td>\n",
       "      <td>31.0</td>\n",
       "      <td>Bill</td>\n",
       "    </tr>\n",
       "    <tr>\n",
       "      <th>99</th>\n",
       "      <td>100</td>\n",
       "      <td>Jennifer Davis</td>\n",
       "      <td>zunigashelly@example.org</td>\n",
       "      <td>zunigashelly</td>\n",
       "      <td>1950-01-15</td>\n",
       "      <td>West Nathanielton</td>\n",
       "      <td>2024-02-14</td>\n",
       "      <td>2025-02-13</td>\n",
       "      <td>Annual</td>\n",
       "      <td>Mastercard</td>\n",
       "      <td>...</td>\n",
       "      <td>66.0</td>\n",
       "      <td>0</td>\n",
       "      <td>0.200</td>\n",
       "      <td>NaN</td>\n",
       "      <td>4.230</td>\n",
       "      <td>12.00</td>\n",
       "      <td>1.00</td>\n",
       "      <td>0.0</td>\n",
       "      <td>33.0</td>\n",
       "      <td>Bill</td>\n",
       "    </tr>\n",
       "  </tbody>\n",
       "</table>\n",
       "<p>100 rows × 72 columns</p>\n",
       "</div>"
      ],
      "text/plain": [
       "    User ID                Name                   Email Address  \\\n",
       "0         1       Ronald Murphy      williamholland@example.com   \n",
       "1         2         Scott Allen             scott22@example.org   \n",
       "2         3    Jonathan Parrish            brooke16@example.org   \n",
       "3         4      Megan Williams         elizabeth31@example.net   \n",
       "4         5       Kathryn Brown  pattersonalexandra@example.org   \n",
       "..      ...                 ...                             ...   \n",
       "95       96    Mackenzie Harris       andersonemily@example.net   \n",
       "96       97    Stephanie Potter           heather10@example.org   \n",
       "97       98     Mitchell Potter            fsanchez@example.net   \n",
       "98       99  Jonathan Rodriguez           nichole85@example.net   \n",
       "99      100      Jennifer Davis        zunigashelly@example.org   \n",
       "\n",
       "              Username Date of Birth           Location Membership Start Date  \\\n",
       "0       williamholland    1953-06-03     Rebeccachester            2024-01-15   \n",
       "1              scott22    1978-07-08      Mcphersonview            2024-01-07   \n",
       "2             brooke16    1994-12-06          Youngfort            2024-04-13   \n",
       "3          elizabeth31    1964-12-22       Feliciashire            2024-01-24   \n",
       "4   pattersonalexandra    1961-06-04       Port Deborah            2024-02-14   \n",
       "..                 ...           ...                ...                   ...   \n",
       "95       andersonemily    1963-11-06     Lake Barryland            2024-03-01   \n",
       "96           heather10    1958-05-05    New Teresaburgh            2024-03-25   \n",
       "97            fsanchez    1979-08-27   South Katieburgh            2024-01-27   \n",
       "98           nichole85    1967-12-20  East Shannonhaven            2024-02-29   \n",
       "99        zunigashelly    1950-01-15  West Nathanielton            2024-02-14   \n",
       "\n",
       "   Membership End Date Subscription Plan Payment Information  ...   age  \\\n",
       "0           2025-01-14            Annual          Mastercard  ...  71.0   \n",
       "1           2025-01-06           Monthly                Visa  ...  72.0   \n",
       "2           2025-04-13           Monthly          Mastercard  ...  55.0   \n",
       "3           2025-01-23           Monthly                Amex  ...  60.0   \n",
       "4           2025-02-13            Annual                Visa  ...  57.0   \n",
       "..                 ...               ...                 ...  ...   ...   \n",
       "95          2025-03-01            Annual          Mastercard  ...  59.0   \n",
       "96          2025-03-25           Monthly                Amex  ...  65.0   \n",
       "97          2025-01-26            Annual                Visa  ...  58.0   \n",
       "98          2025-02-28           Monthly                Visa  ...  53.0   \n",
       "99          2025-02-13            Annual          Mastercard  ...  66.0   \n",
       "\n",
       "   pericardial fractional    epss   lvdd wall_score  wall_index  alive_at_1  \\\n",
       "0            0      0.260   9.000  4.600      14.00        1.00         0.0   \n",
       "1            0      0.380   6.000  4.100      14.00        1.70         0.0   \n",
       "2            0      0.260   4.000  3.420      14.00        1.00         0.0   \n",
       "3            0      0.253  12.062  4.603      16.00        1.45         0.0   \n",
       "4            0      0.160  22.000  5.750      18.00        2.25         0.0   \n",
       "..         ...        ...     ...    ...        ...         ...         ...   \n",
       "95           0      0.500   9.100  3.420      18.00        1.50         NaN   \n",
       "96           1      0.160   8.500  5.470      16.00        1.45         1.0   \n",
       "97           0      0.170  28.900  6.730      26.08        2.01         1.0   \n",
       "98           0      0.170     NaN  4.690      10.00        1.00         NaN   \n",
       "99           0      0.200     NaN  4.230      12.00        1.00         0.0   \n",
       "\n",
       "    class  Speaker Number  \n",
       "0    11.0          Andrew  \n",
       "1    19.0          Andrew  \n",
       "2    16.0          Andrew  \n",
       "3    57.0          Andrew  \n",
       "4    19.0          Andrew  \n",
       "..    ...             ...  \n",
       "95   33.0            Bill  \n",
       "96    5.0            Bill  \n",
       "97    4.0            Bill  \n",
       "98   31.0            Bill  \n",
       "99   33.0            Bill  \n",
       "\n",
       "[100 rows x 72 columns]"
      ]
     },
     "execution_count": 279,
     "metadata": {},
     "output_type": "execute_result"
    }
   ],
   "source": [
    "test_openmlall[fnneg_openmlall.Column]"
   ]
  },
  {
   "cell_type": "code",
   "execution_count": 280,
   "metadata": {},
   "outputs": [
    {
     "data": {
      "text/html": [
       "<div>\n",
       "<style scoped>\n",
       "    .dataframe tbody tr th:only-of-type {\n",
       "        vertical-align: middle;\n",
       "    }\n",
       "\n",
       "    .dataframe tbody tr th {\n",
       "        vertical-align: top;\n",
       "    }\n",
       "\n",
       "    .dataframe thead th {\n",
       "        text-align: right;\n",
       "    }\n",
       "</style>\n",
       "<table border=\"1\" class=\"dataframe\">\n",
       "  <thead>\n",
       "    <tr style=\"text-align: right;\">\n",
       "      <th></th>\n",
       "      <th>opponent</th>\n",
       "      <th>Referee</th>\n",
       "      <th>mcap</th>\n",
       "      <th>Address</th>\n",
       "      <th>Zip</th>\n",
       "      <th>Room</th>\n",
       "      <th>Species</th>\n",
       "      <th>Sex</th>\n",
       "      <th>day</th>\n",
       "    </tr>\n",
       "  </thead>\n",
       "  <tbody>\n",
       "    <tr>\n",
       "      <th>0</th>\n",
       "      <td>Arsenal</td>\n",
       "      <td>C Kavanagh</td>\n",
       "      <td>80237921664</td>\n",
       "      <td>Blasiusstraat 8 2, Amsterdam</td>\n",
       "      <td>1091 CR</td>\n",
       "      <td>3</td>\n",
       "      <td>1</td>\n",
       "      <td>NaN</td>\n",
       "      <td>fri</td>\n",
       "    </tr>\n",
       "    <tr>\n",
       "      <th>1</th>\n",
       "      <td>Fulham</td>\n",
       "      <td>C Kavanagh</td>\n",
       "      <td>1210301944</td>\n",
       "      <td>Kromme Leimuidenstraat 13 H, Amsterdam</td>\n",
       "      <td>1059 EL</td>\n",
       "      <td>3</td>\n",
       "      <td>1</td>\n",
       "      <td>NaN</td>\n",
       "      <td>tue</td>\n",
       "    </tr>\n",
       "    <tr>\n",
       "      <th>2</th>\n",
       "      <td>Southampton</td>\n",
       "      <td>J Moss</td>\n",
       "      <td>203156739099</td>\n",
       "      <td>Zaaiersweg 11 A, Amsterdam</td>\n",
       "      <td>1097 SM</td>\n",
       "      <td>4</td>\n",
       "      <td>1</td>\n",
       "      <td>NaN</td>\n",
       "      <td>sat</td>\n",
       "    </tr>\n",
       "    <tr>\n",
       "      <th>3</th>\n",
       "      <td>Crystal Palace</td>\n",
       "      <td>J Moss</td>\n",
       "      <td>294352563602</td>\n",
       "      <td>Tenerifestraat 40, Amsterdam</td>\n",
       "      <td>1060 TH</td>\n",
       "      <td>6</td>\n",
       "      <td>1</td>\n",
       "      <td>NaN</td>\n",
       "      <td>fri</td>\n",
       "    </tr>\n",
       "    <tr>\n",
       "      <th>4</th>\n",
       "      <td>Leeds</td>\n",
       "      <td>M Oliver</td>\n",
       "      <td>7282794772</td>\n",
       "      <td>Winterjanpad 21, Amsterdam</td>\n",
       "      <td>1036 KN</td>\n",
       "      <td>5</td>\n",
       "      <td>1</td>\n",
       "      <td>NaN</td>\n",
       "      <td>sun</td>\n",
       "    </tr>\n",
       "    <tr>\n",
       "      <th>...</th>\n",
       "      <td>...</td>\n",
       "      <td>...</td>\n",
       "      <td>...</td>\n",
       "      <td>...</td>\n",
       "      <td>...</td>\n",
       "      <td>...</td>\n",
       "      <td>...</td>\n",
       "      <td>...</td>\n",
       "      <td>...</td>\n",
       "    </tr>\n",
       "    <tr>\n",
       "      <th>95</th>\n",
       "      <td>Leeds</td>\n",
       "      <td>D Coote</td>\n",
       "      <td>4004650849</td>\n",
       "      <td>Achillesstraat 113 2, Amsterdam</td>\n",
       "      <td>1076 RA</td>\n",
       "      <td>3</td>\n",
       "      <td>6</td>\n",
       "      <td>0.0</td>\n",
       "      <td>sun</td>\n",
       "    </tr>\n",
       "    <tr>\n",
       "      <th>96</th>\n",
       "      <td>Leeds</td>\n",
       "      <td>P Tierney</td>\n",
       "      <td>772279755324</td>\n",
       "      <td>Parnassusweg 151, Amsterdam</td>\n",
       "      <td>1077 DE</td>\n",
       "      <td>3</td>\n",
       "      <td>6</td>\n",
       "      <td>0.0</td>\n",
       "      <td>sat</td>\n",
       "    </tr>\n",
       "    <tr>\n",
       "      <th>97</th>\n",
       "      <td>Aston Villa</td>\n",
       "      <td>P Tierney</td>\n",
       "      <td>26281404602</td>\n",
       "      <td>Lamarckhof 11 I, Amsterdam</td>\n",
       "      <td>1098 TK</td>\n",
       "      <td>3</td>\n",
       "      <td>6</td>\n",
       "      <td>NaN</td>\n",
       "      <td>sat</td>\n",
       "    </tr>\n",
       "    <tr>\n",
       "      <th>98</th>\n",
       "      <td>Man City</td>\n",
       "      <td>A Taylor</td>\n",
       "      <td>31269549947</td>\n",
       "      <td>Cornelis van Vollenhovenstraat 4 B, Amsterdam</td>\n",
       "      <td>1063 KS</td>\n",
       "      <td>3</td>\n",
       "      <td>6</td>\n",
       "      <td>NaN</td>\n",
       "      <td>sun</td>\n",
       "    </tr>\n",
       "    <tr>\n",
       "      <th>99</th>\n",
       "      <td>West Ham</td>\n",
       "      <td>A Taylor</td>\n",
       "      <td>18613375255</td>\n",
       "      <td>Van Boetzelaerstraat 73 II, Amsterdam</td>\n",
       "      <td>1051 EA</td>\n",
       "      <td>2</td>\n",
       "      <td>6</td>\n",
       "      <td>NaN</td>\n",
       "      <td>sun</td>\n",
       "    </tr>\n",
       "  </tbody>\n",
       "</table>\n",
       "<p>100 rows × 9 columns</p>\n",
       "</div>"
      ],
      "text/plain": [
       "          opponent     Referee          mcap  \\\n",
       "0          Arsenal  C Kavanagh   80237921664   \n",
       "1           Fulham  C Kavanagh    1210301944   \n",
       "2      Southampton      J Moss  203156739099   \n",
       "3   Crystal Palace      J Moss  294352563602   \n",
       "4            Leeds    M Oliver    7282794772   \n",
       "..             ...         ...           ...   \n",
       "95           Leeds     D Coote    4004650849   \n",
       "96           Leeds   P Tierney  772279755324   \n",
       "97     Aston Villa   P Tierney   26281404602   \n",
       "98        Man City    A Taylor   31269549947   \n",
       "99        West Ham    A Taylor   18613375255   \n",
       "\n",
       "                                          Address      Zip  Room  Species  \\\n",
       "0                    Blasiusstraat 8 2, Amsterdam  1091 CR     3        1   \n",
       "1          Kromme Leimuidenstraat 13 H, Amsterdam  1059 EL     3        1   \n",
       "2                      Zaaiersweg 11 A, Amsterdam  1097 SM     4        1   \n",
       "3                    Tenerifestraat 40, Amsterdam  1060 TH     6        1   \n",
       "4                      Winterjanpad 21, Amsterdam  1036 KN     5        1   \n",
       "..                                            ...      ...   ...      ...   \n",
       "95                Achillesstraat 113 2, Amsterdam  1076 RA     3        6   \n",
       "96                    Parnassusweg 151, Amsterdam  1077 DE     3        6   \n",
       "97                     Lamarckhof 11 I, Amsterdam  1098 TK     3        6   \n",
       "98  Cornelis van Vollenhovenstraat 4 B, Amsterdam  1063 KS     3        6   \n",
       "99          Van Boetzelaerstraat 73 II, Amsterdam  1051 EA     2        6   \n",
       "\n",
       "    Sex  day  \n",
       "0   NaN  fri  \n",
       "1   NaN  tue  \n",
       "2   NaN  sat  \n",
       "3   NaN  fri  \n",
       "4   NaN  sun  \n",
       "..  ...  ...  \n",
       "95  0.0  sun  \n",
       "96  0.0  sat  \n",
       "97  NaN  sat  \n",
       "98  NaN  sun  \n",
       "99  NaN  sun  \n",
       "\n",
       "[100 rows x 9 columns]"
      ]
     },
     "execution_count": 280,
     "metadata": {},
     "output_type": "execute_result"
    }
   ],
   "source": [
    "test_openmlall[falsep_openmlall.Column]"
   ]
  },
  {
   "cell_type": "code",
   "execution_count": 244,
   "metadata": {},
   "outputs": [
    {
     "data": {
      "text/plain": [
       "0     Andrew\n",
       "1     Andrew\n",
       "2     Andrew\n",
       "3     Andrew\n",
       "4     Andrew\n",
       "       ...  \n",
       "95      Bill\n",
       "96      Bill\n",
       "97      Bill\n",
       "98      Bill\n",
       "99      Bill\n",
       "Name: Speaker Number, Length: 100, dtype: object"
      ]
     },
     "execution_count": 244,
     "metadata": {},
     "output_type": "execute_result"
    }
   ],
   "source": [
    "test_openmlall['Speaker Number']"
   ]
  },
  {
   "cell_type": "code",
   "execution_count": 245,
   "metadata": {},
   "outputs": [
    {
     "data": {
      "text/html": [
       "<div>\n",
       "<style scoped>\n",
       "    .dataframe tbody tr th:only-of-type {\n",
       "        vertical-align: middle;\n",
       "    }\n",
       "\n",
       "    .dataframe tbody tr th {\n",
       "        vertical-align: top;\n",
       "    }\n",
       "\n",
       "    .dataframe thead th {\n",
       "        text-align: right;\n",
       "    }\n",
       "</style>\n",
       "<table border=\"1\" class=\"dataframe\">\n",
       "  <thead>\n",
       "    <tr style=\"text-align: right;\">\n",
       "      <th></th>\n",
       "      <th>Column</th>\n",
       "      <th>Prediction</th>\n",
       "      <th>True Label</th>\n",
       "    </tr>\n",
       "  </thead>\n",
       "  <tbody>\n",
       "    <tr>\n",
       "      <th>0</th>\n",
       "      <td>User ID</td>\n",
       "      <td>non-personal</td>\n",
       "      <td>personal</td>\n",
       "    </tr>\n",
       "    <tr>\n",
       "      <th>1</th>\n",
       "      <td>Name</td>\n",
       "      <td>non-personal</td>\n",
       "      <td>personal</td>\n",
       "    </tr>\n",
       "    <tr>\n",
       "      <th>2</th>\n",
       "      <td>Email Address</td>\n",
       "      <td>non-personal</td>\n",
       "      <td>personal</td>\n",
       "    </tr>\n",
       "    <tr>\n",
       "      <th>3</th>\n",
       "      <td>Username</td>\n",
       "      <td>non-personal</td>\n",
       "      <td>personal</td>\n",
       "    </tr>\n",
       "    <tr>\n",
       "      <th>4</th>\n",
       "      <td>Date of Birth</td>\n",
       "      <td>non-personal</td>\n",
       "      <td>personal</td>\n",
       "    </tr>\n",
       "    <tr>\n",
       "      <th>...</th>\n",
       "      <td>...</td>\n",
       "      <td>...</td>\n",
       "      <td>...</td>\n",
       "    </tr>\n",
       "    <tr>\n",
       "      <th>162</th>\n",
       "      <td>wall_score</td>\n",
       "      <td>non-personal</td>\n",
       "      <td>personal</td>\n",
       "    </tr>\n",
       "    <tr>\n",
       "      <th>163</th>\n",
       "      <td>wall_index</td>\n",
       "      <td>non-personal</td>\n",
       "      <td>personal</td>\n",
       "    </tr>\n",
       "    <tr>\n",
       "      <th>164</th>\n",
       "      <td>alive_at_1</td>\n",
       "      <td>non-personal</td>\n",
       "      <td>personal</td>\n",
       "    </tr>\n",
       "    <tr>\n",
       "      <th>165</th>\n",
       "      <td>class</td>\n",
       "      <td>non-personal</td>\n",
       "      <td>personal</td>\n",
       "    </tr>\n",
       "    <tr>\n",
       "      <th>233</th>\n",
       "      <td>Speaker Number</td>\n",
       "      <td>non-personal</td>\n",
       "      <td>personal</td>\n",
       "    </tr>\n",
       "  </tbody>\n",
       "</table>\n",
       "<p>72 rows × 3 columns</p>\n",
       "</div>"
      ],
      "text/plain": [
       "             Column    Prediction True Label\n",
       "0           User ID  non-personal   personal\n",
       "1              Name  non-personal   personal\n",
       "2     Email Address  non-personal   personal\n",
       "3          Username  non-personal   personal\n",
       "4     Date of Birth  non-personal   personal\n",
       "..              ...           ...        ...\n",
       "162      wall_score  non-personal   personal\n",
       "163      wall_index  non-personal   personal\n",
       "164      alive_at_1  non-personal   personal\n",
       "165           class  non-personal   personal\n",
       "233  Speaker Number  non-personal   personal\n",
       "\n",
       "[72 rows x 3 columns]"
      ]
     },
     "execution_count": 245,
     "metadata": {},
     "output_type": "execute_result"
    }
   ],
   "source": [
    "#False negatives -- personal --> non personal\n",
    "fnneg_openmlall  = results_df_test_openmlall.loc[(results_df_test_openmlall[\"True Label\"] == \"personal\") & (results_df_test_openmlall[\"Prediction\"] == \"non-personal\")]\n",
    "fnneg_openmlall"
   ]
  },
  {
   "cell_type": "code",
   "execution_count": 246,
   "metadata": {},
   "outputs": [
    {
     "data": {
      "text/html": [
       "<div>\n",
       "<style scoped>\n",
       "    .dataframe tbody tr th:only-of-type {\n",
       "        vertical-align: middle;\n",
       "    }\n",
       "\n",
       "    .dataframe tbody tr th {\n",
       "        vertical-align: top;\n",
       "    }\n",
       "\n",
       "    .dataframe thead th {\n",
       "        text-align: right;\n",
       "    }\n",
       "</style>\n",
       "<table border=\"1\" class=\"dataframe\">\n",
       "  <thead>\n",
       "    <tr style=\"text-align: right;\">\n",
       "      <th></th>\n",
       "      <th>Column</th>\n",
       "      <th>Prediction</th>\n",
       "      <th>True Label</th>\n",
       "    </tr>\n",
       "  </thead>\n",
       "  <tbody>\n",
       "    <tr>\n",
       "      <th>20</th>\n",
       "      <td>opponent</td>\n",
       "      <td>personal</td>\n",
       "      <td>non-personal</td>\n",
       "    </tr>\n",
       "    <tr>\n",
       "      <th>27</th>\n",
       "      <td>Referee</td>\n",
       "      <td>personal</td>\n",
       "      <td>non-personal</td>\n",
       "    </tr>\n",
       "    <tr>\n",
       "      <th>47</th>\n",
       "      <td>mcap</td>\n",
       "      <td>personal</td>\n",
       "      <td>non-personal</td>\n",
       "    </tr>\n",
       "    <tr>\n",
       "      <th>86</th>\n",
       "      <td>Address</td>\n",
       "      <td>personal</td>\n",
       "      <td>non-personal</td>\n",
       "    </tr>\n",
       "    <tr>\n",
       "      <th>87</th>\n",
       "      <td>Zip</td>\n",
       "      <td>personal</td>\n",
       "      <td>non-personal</td>\n",
       "    </tr>\n",
       "    <tr>\n",
       "      <th>90</th>\n",
       "      <td>Room</td>\n",
       "      <td>personal</td>\n",
       "      <td>non-personal</td>\n",
       "    </tr>\n",
       "    <tr>\n",
       "      <th>166</th>\n",
       "      <td>Species</td>\n",
       "      <td>personal</td>\n",
       "      <td>non-personal</td>\n",
       "    </tr>\n",
       "    <tr>\n",
       "      <th>172</th>\n",
       "      <td>Sex</td>\n",
       "      <td>personal</td>\n",
       "      <td>non-personal</td>\n",
       "    </tr>\n",
       "    <tr>\n",
       "      <th>177</th>\n",
       "      <td>day</td>\n",
       "      <td>personal</td>\n",
       "      <td>non-personal</td>\n",
       "    </tr>\n",
       "  </tbody>\n",
       "</table>\n",
       "</div>"
      ],
      "text/plain": [
       "       Column Prediction    True Label\n",
       "20   opponent   personal  non-personal\n",
       "27    Referee   personal  non-personal\n",
       "47       mcap   personal  non-personal\n",
       "86    Address   personal  non-personal\n",
       "87        Zip   personal  non-personal\n",
       "90       Room   personal  non-personal\n",
       "166   Species   personal  non-personal\n",
       "172       Sex   personal  non-personal\n",
       "177       day   personal  non-personal"
      ]
     },
     "execution_count": 246,
     "metadata": {},
     "output_type": "execute_result"
    }
   ],
   "source": [
    "# false positive -- non personal --> personal\n",
    "falsep_openmlall = results_df_test_openmlall.loc[(results_df_test_openmlall[\"True Label\"] == \"non-personal\") & (results_df_test_openmlall[\"Prediction\"] == \"personal\")]\n",
    "falsep_openmlall"
   ]
  },
  {
   "cell_type": "code",
   "execution_count": 247,
   "metadata": {},
   "outputs": [
    {
     "data": {
      "text/plain": [
       "0       1\n",
       "1       2\n",
       "2       3\n",
       "3       4\n",
       "4       5\n",
       "     ... \n",
       "95     96\n",
       "96     97\n",
       "97     98\n",
       "98     99\n",
       "99    100\n",
       "Name: User ID, Length: 100, dtype: int64"
      ]
     },
     "execution_count": 247,
     "metadata": {},
     "output_type": "execute_result"
    }
   ],
   "source": [
    "# check details \n",
    "test_openmlall['User ID']"
   ]
  },
  {
   "cell_type": "code",
   "execution_count": 248,
   "metadata": {},
   "outputs": [
    {
     "data": {
      "text/plain": [
       "0     NaN\n",
       "1     NaN\n",
       "2     NaN\n",
       "3     NaN\n",
       "4     NaN\n",
       "     ... \n",
       "95    0.0\n",
       "96    0.0\n",
       "97    NaN\n",
       "98    NaN\n",
       "99    NaN\n",
       "Name: Sex, Length: 100, dtype: float64"
      ]
     },
     "execution_count": 248,
     "metadata": {},
     "output_type": "execute_result"
    }
   ],
   "source": [
    "test_openmlall['Sex']"
   ]
  },
  {
   "cell_type": "code",
   "execution_count": 249,
   "metadata": {},
   "outputs": [
    {
     "data": {
      "image/png": "[encoded data removed]",
      "text/plain": [
       "<Figure size 640x480 with 2 Axes>"
      ]
     },
     "metadata": {},
     "output_type": "display_data"
    }
   ],
   "source": [
    "cmopenall = confusion_matrix(results_df_test_openmlall[\"True Label\"],results_df_test_openmlall[\"Prediction\"])\n",
    "dispopenall = ConfusionMatrixDisplay(confusion_matrix=cmopenall, display_labels=['non-personal', 'personal'])\n",
    "dispopenall.plot()\n",
    "plt.show()"
   ]
  },
  {
   "cell_type": "code",
   "execution_count": 250,
   "metadata": {},
   "outputs": [
    {
     "name": "stdout",
     "output_type": "stream",
     "text": [
      "f1_score micro:0.686\n",
      "f1_score macro:0.501\n",
      "Balanced Acc.: 0.535\n",
      "              precision    recall  f1-score   support\n",
      "\n",
      "non-personal       0.70      0.95      0.80       176\n",
      "    personal       0.53      0.12      0.20        82\n",
      "\n",
      "    accuracy                           0.69       258\n",
      "   macro avg       0.61      0.54      0.50       258\n",
      "weighted avg       0.64      0.69      0.61       258\n",
      "\n"
     ]
    }
   ],
   "source": [
    "f1_micro_open = f1_score(results_df_test_openmlall[\"True Label\"],results_df_test_openmlall[\"Prediction\"], average='micro')\n",
    "print(f'f1_score micro:{np.round(f1_micro_open,3)}')\n",
    "f1_macro_open = f1_score(results_df_test_openmlall[\"True Label\"],results_df_test_openmlall[\"Prediction\"], average='macro')\n",
    "print(f'f1_score macro:{np.round(f1_macro_open,3)}')\n",
    "bal_open = balanced_accuracy_score(results_df_test_openmlall[\"True Label\"],results_df_test_openmlall[\"Prediction\"])\n",
    "print(f'Balanced Acc.: {np.round(bal_open,3)}')\n",
    "print(classification_report(results_df_test_openmlall[\"True Label\"],results_df_test_openmlall[\"Prediction\"]))"
   ]
  },
  {
   "cell_type": "code",
   "execution_count": null,
   "metadata": {},
   "outputs": [],
   "source": []
  },
  {
   "cell_type": "markdown",
   "metadata": {},
   "source": [
    "### MIMIC Ext"
   ]
  },
  {
   "cell_type": "code",
   "execution_count": 251,
   "metadata": {},
   "outputs": [
    {
     "name": "stdout",
     "output_type": "stream",
     "text": [
      "../CASSED_model_results/cassed_personal/mimic/predicted.csv\n"
     ]
    }
   ],
   "source": [
    "import os\n",
    "\n",
    "absolute_path = \"/home/aagisha/Documents/PhD Albert/CodingPhDStart1/WorkshopSIGMOD/Personal-Detection/CASSED/CASSED_model_results/cassed_personal/mimic/predicted.csv\"\n",
    "\n",
    "# Get relative path from the current working directory\n",
    "relative_path = os.path.relpath(absolute_path, os.getcwd())\n",
    "\n",
    "print(relative_path)"
   ]
  },
  {
   "cell_type": "code",
   "execution_count": 252,
   "metadata": {},
   "outputs": [],
   "source": [
    "test_mimic1 = pd.read_csv(\"../../datasets/mimic/test.csv\")\n",
    "test_mimic_personal1 = pd.read_csv(\"../../datasets/mimic/test_labels.csv\")\n",
    "true_mimic1 = pd.read_csv(\"../CASSED_model_results/cassed_personal/mimic/true.csv\")\n",
    "pred_mimic1 = pd.read_csv(\"../CASSED_model_results/cassed_personal/mimic/predicted.csv\")"
   ]
  },
  {
   "cell_type": "code",
   "execution_count": 253,
   "metadata": {},
   "outputs": [],
   "source": [
    "mimic_target_names = pd.read_csv(\"../CASSED_model_results/cassed_personal/mimic/target_names.csv\")\n",
    "mimic_target_names = {a[1]: a[0] for a in mimic_target_names[[\"0\", \"0.1\"]].values}\n",
    "mimic_target_names[0] = \"no prediction\""
   ]
  },
  {
   "cell_type": "code",
   "execution_count": 254,
   "metadata": {},
   "outputs": [],
   "source": [
    "predictionsmimic, truemimic = [], []\n",
    "for i in range(true_mimic1.shape[0]):\n",
    "    predictionsmimic.append([mimic_target_names[e] for e, b in enumerate(pred_mimic1.iloc[i,:]) if b == 1])\n",
    "    truemimic.append([mimic_target_names[e] for e, b in enumerate(true_mimic1.iloc[i,:]) if b == 1])\n",
    "truemimic = [a[0] for a in truemimic]\n",
    "predictionsmimic = [a[0] for a in predictionsmimic]"
   ]
  },
  {
   "cell_type": "code",
   "execution_count": 255,
   "metadata": {},
   "outputs": [
    {
     "data": {
      "application/vnd.plotly.v1+json": {
       "config": {
        "plotlyServerURL": "https://plot.ly"
       },
       "data": [
        {
         "showlegend": false,
         "type": "bar",
         "x": [
          "weighted Precision",
          "weighted Recall",
          "weighted F1 Score",
          "Accuracy",
          "AUC-ROC"
         ],
         "xaxis": "x",
         "y": [
          0.7888011314536603,
          0.7975460122699386,
          0.7914453130035378,
          0.7975460122699386,
          0.7132751937984496
         ],
         "yaxis": "y"
        },
        {
         "colorscale": [
          [
           0,
           "rgb(247,251,255)"
          ],
          [
           0.125,
           "rgb(222,235,247)"
          ],
          [
           0.25,
           "rgb(198,219,239)"
          ],
          [
           0.375,
           "rgb(158,202,225)"
          ],
          [
           0.5,
           "rgb(107,174,214)"
          ],
          [
           0.625,
           "rgb(66,146,198)"
          ],
          [
           0.75,
           "rgb(33,113,181)"
          ],
          [
           0.875,
           "rgb(8,81,156)"
          ],
          [
           1,
           "rgb(8,48,107)"
          ]
         ],
         "showscale": false,
         "text": [
          [
           "23<br>0.53",
           "20<br>0.47"
          ],
          [
           "13<br>0.11",
           "107<br>0.89"
          ]
         ],
         "textfont": {
          "size": 20
         },
         "texttemplate": "%{text}",
         "type": "heatmap",
         "x": [
          "Pred: personal",
          "Pred: non-personal"
         ],
         "xaxis": "x2",
         "y": [
          "True: personal",
          "True: non-personal"
         ],
         "yaxis": "y2",
         "z": [
          [
           23,
           20
          ],
          [
           13,
           107
          ]
         ]
        }
       ],
       "layout": {
        "annotations": [
         {
          "font": {
           "size": 16
          },
          "showarrow": false,
          "text": "Evaluation Metrics",
          "x": 0.225,
          "xanchor": "center",
          "xref": "paper",
          "y": 1,
          "yanchor": "bottom",
          "yref": "paper"
         },
         {
          "font": {
           "size": 16
          },
          "showarrow": false,
          "text": "Confusion Matrix",
          "x": 0.775,
          "xanchor": "center",
          "xref": "paper",
          "y": 1,
          "yanchor": "bottom",
          "yref": "paper"
         }
        ],
        "height": 500,
        "showlegend": false,
        "template": {
         "data": {
          "bar": [
           {
            "error_x": {
             "color": "#2a3f5f"
            },
            "error_y": {
             "color": "#2a3f5f"
            },
            "marker": {
             "line": {
              "color": "#E5ECF6",
              "width": 0.5
             },
             "pattern": {
              "fillmode": "overlay",
              "size": 10,
              "solidity": 0.2
             }
            },
            "type": "bar"
           }
          ],
          "barpolar": [
           {
            "marker": {
             "line": {
              "color": "#E5ECF6",
              "width": 0.5
             },
             "pattern": {
              "fillmode": "overlay",
              "size": 10,
              "solidity": 0.2
             }
            },
            "type": "barpolar"
           }
          ],
          "carpet": [
           {
            "aaxis": {
             "endlinecolor": "#2a3f5f",
             "gridcolor": "white",
             "linecolor": "white",
             "minorgridcolor": "white",
             "startlinecolor": "#2a3f5f"
            },
            "baxis": {
             "endlinecolor": "#2a3f5f",
             "gridcolor": "white",
             "linecolor": "white",
             "minorgridcolor": "white",
             "startlinecolor": "#2a3f5f"
            },
            "type": "carpet"
           }
          ],
          "choropleth": [
           {
            "colorbar": {
             "outlinewidth": 0,
             "ticks": ""
            },
            "type": "choropleth"
           }
          ],
          "contour": [
           {
            "colorbar": {
             "outlinewidth": 0,
             "ticks": ""
            },
            "colorscale": [
             [
              0,
              "#0d0887"
             ],
             [
              0.1111111111111111,
              "#46039f"
             ],
             [
              0.2222222222222222,
              "#7201a8"
             ],
             [
              0.3333333333333333,
              "#9c179e"
             ],
             [
              0.4444444444444444,
              "#bd3786"
             ],
             [
              0.5555555555555556,
              "#d8576b"
             ],
             [
              0.6666666666666666,
              "#ed7953"
             ],
             [
              0.7777777777777778,
              "#fb9f3a"
             ],
             [
              0.8888888888888888,
              "#fdca26"
             ],
             [
              1,
              "#f0f921"
             ]
            ],
            "type": "contour"
           }
          ],
          "contourcarpet": [
           {
            "colorbar": {
             "outlinewidth": 0,
             "ticks": ""
            },
            "type": "contourcarpet"
           }
          ],
          "heatmap": [
           {
            "colorbar": {
             "outlinewidth": 0,
             "ticks": ""
            },
            "colorscale": [
             [
              0,
              "#0d0887"
             ],
             [
              0.1111111111111111,
              "#46039f"
             ],
             [
              0.2222222222222222,
              "#7201a8"
             ],
             [
              0.3333333333333333,
              "#9c179e"
             ],
             [
              0.4444444444444444,
              "#bd3786"
             ],
             [
              0.5555555555555556,
              "#d8576b"
             ],
             [
              0.6666666666666666,
              "#ed7953"
             ],
             [
              0.7777777777777778,
              "#fb9f3a"
             ],
             [
              0.8888888888888888,
              "#fdca26"
             ],
             [
              1,
              "#f0f921"
             ]
            ],
            "type": "heatmap"
           }
          ],
          "heatmapgl": [
           {
            "colorbar": {
             "outlinewidth": 0,
             "ticks": ""
            },
            "colorscale": [
             [
              0,
              "#0d0887"
             ],
             [
              0.1111111111111111,
              "#46039f"
             ],
             [
              0.2222222222222222,
              "#7201a8"
             ],
             [
              0.3333333333333333,
              "#9c179e"
             ],
             [
              0.4444444444444444,
              "#bd3786"
             ],
             [
              0.5555555555555556,
              "#d8576b"
             ],
             [
              0.6666666666666666,
              "#ed7953"
             ],
             [
              0.7777777777777778,
              "#fb9f3a"
             ],
             [
              0.8888888888888888,
              "#fdca26"
             ],
             [
              1,
              "#f0f921"
             ]
            ],
            "type": "heatmapgl"
           }
          ],
          "histogram": [
           {
            "marker": {
             "pattern": {
              "fillmode": "overlay",
              "size": 10,
              "solidity": 0.2
             }
            },
            "type": "histogram"
           }
          ],
          "histogram2d": [
           {
            "colorbar": {
             "outlinewidth": 0,
             "ticks": ""
            },
            "colorscale": [
             [
              0,
              "#0d0887"
             ],
             [
              0.1111111111111111,
              "#46039f"
             ],
             [
              0.2222222222222222,
              "#7201a8"
             ],
             [
              0.3333333333333333,
              "#9c179e"
             ],
             [
              0.4444444444444444,
              "#bd3786"
             ],
             [
              0.5555555555555556,
              "#d8576b"
             ],
             [
              0.6666666666666666,
              "#ed7953"
             ],
             [
              0.7777777777777778,
              "#fb9f3a"
             ],
             [
              0.8888888888888888,
              "#fdca26"
             ],
             [
              1,
              "#f0f921"
             ]
            ],
            "type": "histogram2d"
           }
          ],
          "histogram2dcontour": [
           {
            "colorbar": {
             "outlinewidth": 0,
             "ticks": ""
            },
            "colorscale": [
             [
              0,
              "#0d0887"
             ],
             [
              0.1111111111111111,
              "#46039f"
             ],
             [
              0.2222222222222222,
              "#7201a8"
             ],
             [
              0.3333333333333333,
              "#9c179e"
             ],
             [
              0.4444444444444444,
              "#bd3786"
             ],
             [
              0.5555555555555556,
              "#d8576b"
             ],
             [
              0.6666666666666666,
              "#ed7953"
             ],
             [
              0.7777777777777778,
              "#fb9f3a"
             ],
             [
              0.8888888888888888,
              "#fdca26"
             ],
             [
              1,
              "#f0f921"
             ]
            ],
            "type": "histogram2dcontour"
           }
          ],
          "mesh3d": [
           {
            "colorbar": {
             "outlinewidth": 0,
             "ticks": ""
            },
            "type": "mesh3d"
           }
          ],
          "parcoords": [
           {
            "line": {
             "colorbar": {
              "outlinewidth": 0,
              "ticks": ""
             }
            },
            "type": "parcoords"
           }
          ],
          "pie": [
           {
            "automargin": true,
            "type": "pie"
           }
          ],
          "scatter": [
           {
            "fillpattern": {
             "fillmode": "overlay",
             "size": 10,
             "solidity": 0.2
            },
            "type": "scatter"
           }
          ],
          "scatter3d": [
           {
            "line": {
             "colorbar": {
              "outlinewidth": 0,
              "ticks": ""
             }
            },
            "marker": {
             "colorbar": {
              "outlinewidth": 0,
              "ticks": ""
             }
            },
            "type": "scatter3d"
           }
          ],
          "scattercarpet": [
           {
            "marker": {
             "colorbar": {
              "outlinewidth": 0,
              "ticks": ""
             }
            },
            "type": "scattercarpet"
           }
          ],
          "scattergeo": [
           {
            "marker": {
             "colorbar": {
              "outlinewidth": 0,
              "ticks": ""
             }
            },
            "type": "scattergeo"
           }
          ],
          "scattergl": [
           {
            "marker": {
             "colorbar": {
              "outlinewidth": 0,
              "ticks": ""
             }
            },
            "type": "scattergl"
           }
          ],
          "scattermapbox": [
           {
            "marker": {
             "colorbar": {
              "outlinewidth": 0,
              "ticks": ""
             }
            },
            "type": "scattermapbox"
           }
          ],
          "scatterpolar": [
           {
            "marker": {
             "colorbar": {
              "outlinewidth": 0,
              "ticks": ""
             }
            },
            "type": "scatterpolar"
           }
          ],
          "scatterpolargl": [
           {
            "marker": {
             "colorbar": {
              "outlinewidth": 0,
              "ticks": ""
             }
            },
            "type": "scatterpolargl"
           }
          ],
          "scatterternary": [
           {
            "marker": {
             "colorbar": {
              "outlinewidth": 0,
              "ticks": ""
             }
            },
            "type": "scatterternary"
           }
          ],
          "surface": [
           {
            "colorbar": {
             "outlinewidth": 0,
             "ticks": ""
            },
            "colorscale": [
             [
              0,
              "#0d0887"
             ],
             [
              0.1111111111111111,
              "#46039f"
             ],
             [
              0.2222222222222222,
              "#7201a8"
             ],
             [
              0.3333333333333333,
              "#9c179e"
             ],
             [
              0.4444444444444444,
              "#bd3786"
             ],
             [
              0.5555555555555556,
              "#d8576b"
             ],
             [
              0.6666666666666666,
              "#ed7953"
             ],
             [
              0.7777777777777778,
              "#fb9f3a"
             ],
             [
              0.8888888888888888,
              "#fdca26"
             ],
             [
              1,
              "#f0f921"
             ]
            ],
            "type": "surface"
           }
          ],
          "table": [
           {
            "cells": {
             "fill": {
              "color": "#EBF0F8"
             },
             "line": {
              "color": "white"
             }
            },
            "header": {
             "fill": {
              "color": "#C8D4E3"
             },
             "line": {
              "color": "white"
             }
            },
            "type": "table"
           }
          ]
         },
         "layout": {
          "annotationdefaults": {
           "arrowcolor": "#2a3f5f",
           "arrowhead": 0,
           "arrowwidth": 1
          },
          "autotypenumbers": "strict",
          "coloraxis": {
           "colorbar": {
            "outlinewidth": 0,
            "ticks": ""
           }
          },
          "colorscale": {
           "diverging": [
            [
             0,
             "#8e0152"
            ],
            [
             0.1,
             "#c51b7d"
            ],
            [
             0.2,
             "#de77ae"
            ],
            [
             0.3,
             "#f1b6da"
            ],
            [
             0.4,
             "#fde0ef"
            ],
            [
             0.5,
             "#f7f7f7"
            ],
            [
             0.6,
             "#e6f5d0"
            ],
            [
             0.7,
             "#b8e186"
            ],
            [
             0.8,
             "#7fbc41"
            ],
            [
             0.9,
             "#4d9221"
            ],
            [
             1,
             "#276419"
            ]
           ],
           "sequential": [
            [
             0,
             "#0d0887"
            ],
            [
             0.1111111111111111,
             "#46039f"
            ],
            [
             0.2222222222222222,
             "#7201a8"
            ],
            [
             0.3333333333333333,
             "#9c179e"
            ],
            [
             0.4444444444444444,
             "#bd3786"
            ],
            [
             0.5555555555555556,
             "#d8576b"
            ],
            [
             0.6666666666666666,
             "#ed7953"
            ],
            [
             0.7777777777777778,
             "#fb9f3a"
            ],
            [
             0.8888888888888888,
             "#fdca26"
            ],
            [
             1,
             "#f0f921"
            ]
           ],
           "sequentialminus": [
            [
             0,
             "#0d0887"
            ],
            [
             0.1111111111111111,
             "#46039f"
            ],
            [
             0.2222222222222222,
             "#7201a8"
            ],
            [
             0.3333333333333333,
             "#9c179e"
            ],
            [
             0.4444444444444444,
             "#bd3786"
            ],
            [
             0.5555555555555556,
             "#d8576b"
            ],
            [
             0.6666666666666666,
             "#ed7953"
            ],
            [
             0.7777777777777778,
             "#fb9f3a"
            ],
            [
             0.8888888888888888,
             "#fdca26"
            ],
            [
             1,
             "#f0f921"
            ]
           ]
          },
          "colorway": [
           "#636efa",
           "#EF553B",
           "#00cc96",
           "#ab63fa",
           "#FFA15A",
           "#19d3f3",
           "#FF6692",
           "#B6E880",
           "#FF97FF",
           "#FECB52"
          ],
          "font": {
           "color": "#2a3f5f"
          },
          "geo": {
           "bgcolor": "white",
           "lakecolor": "white",
           "landcolor": "#E5ECF6",
           "showlakes": true,
           "showland": true,
           "subunitcolor": "white"
          },
          "hoverlabel": {
           "align": "left"
          },
          "hovermode": "closest",
          "mapbox": {
           "style": "light"
          },
          "paper_bgcolor": "white",
          "plot_bgcolor": "#E5ECF6",
          "polar": {
           "angularaxis": {
            "gridcolor": "white",
            "linecolor": "white",
            "ticks": ""
           },
           "bgcolor": "#E5ECF6",
           "radialaxis": {
            "gridcolor": "white",
            "linecolor": "white",
            "ticks": ""
           }
          },
          "scene": {
           "xaxis": {
            "backgroundcolor": "#E5ECF6",
            "gridcolor": "white",
            "gridwidth": 2,
            "linecolor": "white",
            "showbackground": true,
            "ticks": "",
            "zerolinecolor": "white"
           },
           "yaxis": {
            "backgroundcolor": "#E5ECF6",
            "gridcolor": "white",
            "gridwidth": 2,
            "linecolor": "white",
            "showbackground": true,
            "ticks": "",
            "zerolinecolor": "white"
           },
           "zaxis": {
            "backgroundcolor": "#E5ECF6",
            "gridcolor": "white",
            "gridwidth": 2,
            "linecolor": "white",
            "showbackground": true,
            "ticks": "",
            "zerolinecolor": "white"
           }
          },
          "shapedefaults": {
           "line": {
            "color": "#2a3f5f"
           }
          },
          "ternary": {
           "aaxis": {
            "gridcolor": "white",
            "linecolor": "white",
            "ticks": ""
           },
           "baxis": {
            "gridcolor": "white",
            "linecolor": "white",
            "ticks": ""
           },
           "bgcolor": "#E5ECF6",
           "caxis": {
            "gridcolor": "white",
            "linecolor": "white",
            "ticks": ""
           }
          },
          "title": {
           "x": 0.05
          },
          "xaxis": {
           "automargin": true,
           "gridcolor": "white",
           "linecolor": "white",
           "ticks": "",
           "title": {
            "standoff": 15
           },
           "zerolinecolor": "white",
           "zerolinewidth": 2
          },
          "yaxis": {
           "automargin": true,
           "gridcolor": "white",
           "linecolor": "white",
           "ticks": "",
           "title": {
            "standoff": 15
           },
           "zerolinecolor": "white",
           "zerolinewidth": 2
          }
         }
        },
        "title": {
         "text": "Confusion Matrix and Evaluation Metrics"
        },
        "width": 1000,
        "xaxis": {
         "anchor": "y",
         "domain": [
          0,
          0.45
         ]
        },
        "xaxis2": {
         "anchor": "y2",
         "domain": [
          0.55,
          1
         ]
        },
        "yaxis": {
         "anchor": "x",
         "domain": [
          0,
          1
         ],
         "range": [
          0,
          1.1
         ]
        },
        "yaxis2": {
         "anchor": "x2",
         "domain": [
          0,
          1
         ]
        }
       }
      }
     },
     "metadata": {},
     "output_type": "display_data"
    }
   ],
   "source": [
    "plot_cassed_results(truemimic, predictionsmimic)"
   ]
  },
  {
   "cell_type": "code",
   "execution_count": 256,
   "metadata": {},
   "outputs": [],
   "source": [
    "results_df_test_mimic = pd.DataFrame({\n",
    "    \"Column\": test_mimic1.columns,\n",
    "    \"Prediction\": predictionsmimic,\n",
    "    \"True Label\": test_mimic_personal1[\"label\"].values\n",
    "    })"
   ]
  },
  {
   "cell_type": "code",
   "execution_count": 257,
   "metadata": {},
   "outputs": [
    {
     "data": {
      "text/html": [
       "<div>\n",
       "<style scoped>\n",
       "    .dataframe tbody tr th:only-of-type {\n",
       "        vertical-align: middle;\n",
       "    }\n",
       "\n",
       "    .dataframe tbody tr th {\n",
       "        vertical-align: top;\n",
       "    }\n",
       "\n",
       "    .dataframe thead th {\n",
       "        text-align: right;\n",
       "    }\n",
       "</style>\n",
       "<table border=\"1\" class=\"dataframe\">\n",
       "  <thead>\n",
       "    <tr style=\"text-align: right;\">\n",
       "      <th></th>\n",
       "      <th>Column</th>\n",
       "      <th>Prediction</th>\n",
       "      <th>True Label</th>\n",
       "    </tr>\n",
       "  </thead>\n",
       "  <tbody>\n",
       "    <tr>\n",
       "      <th>1</th>\n",
       "      <td>subject_id</td>\n",
       "      <td>non-personal</td>\n",
       "      <td>personal</td>\n",
       "    </tr>\n",
       "    <tr>\n",
       "      <th>2</th>\n",
       "      <td>hadm_id</td>\n",
       "      <td>non-personal</td>\n",
       "      <td>personal</td>\n",
       "    </tr>\n",
       "    <tr>\n",
       "      <th>3</th>\n",
       "      <td>icustay_id</td>\n",
       "      <td>non-personal</td>\n",
       "      <td>personal</td>\n",
       "    </tr>\n",
       "    <tr>\n",
       "      <th>5</th>\n",
       "      <td>eventtype</td>\n",
       "      <td>non-personal</td>\n",
       "      <td>personal</td>\n",
       "    </tr>\n",
       "    <tr>\n",
       "      <th>18</th>\n",
       "      <td>expire_flag</td>\n",
       "      <td>non-personal</td>\n",
       "      <td>personal</td>\n",
       "    </tr>\n",
       "    <tr>\n",
       "      <th>41</th>\n",
       "      <td>cgid</td>\n",
       "      <td>non-personal</td>\n",
       "      <td>personal</td>\n",
       "    </tr>\n",
       "    <tr>\n",
       "      <th>48</th>\n",
       "      <td>icd9_code</td>\n",
       "      <td>non-personal</td>\n",
       "      <td>personal</td>\n",
       "    </tr>\n",
       "    <tr>\n",
       "      <th>71</th>\n",
       "      <td>patientweight</td>\n",
       "      <td>non-personal</td>\n",
       "      <td>personal</td>\n",
       "    </tr>\n",
       "    <tr>\n",
       "      <th>86</th>\n",
       "      <td>cpt_number</td>\n",
       "      <td>non-personal</td>\n",
       "      <td>personal</td>\n",
       "    </tr>\n",
       "    <tr>\n",
       "      <th>88</th>\n",
       "      <td>ticket_id_seq</td>\n",
       "      <td>non-personal</td>\n",
       "      <td>personal</td>\n",
       "    </tr>\n",
       "    <tr>\n",
       "      <th>107</th>\n",
       "      <td>admission_location</td>\n",
       "      <td>non-personal</td>\n",
       "      <td>personal</td>\n",
       "    </tr>\n",
       "    <tr>\n",
       "      <th>108</th>\n",
       "      <td>discharge_location</td>\n",
       "      <td>non-personal</td>\n",
       "      <td>personal</td>\n",
       "    </tr>\n",
       "    <tr>\n",
       "      <th>109</th>\n",
       "      <td>insurance</td>\n",
       "      <td>non-personal</td>\n",
       "      <td>personal</td>\n",
       "    </tr>\n",
       "    <tr>\n",
       "      <th>112</th>\n",
       "      <td>marital_status</td>\n",
       "      <td>non-personal</td>\n",
       "      <td>personal</td>\n",
       "    </tr>\n",
       "    <tr>\n",
       "      <th>116</th>\n",
       "      <td>diagnosis</td>\n",
       "      <td>non-personal</td>\n",
       "      <td>personal</td>\n",
       "    </tr>\n",
       "    <tr>\n",
       "      <th>117</th>\n",
       "      <td>hospital_expire_flag</td>\n",
       "      <td>non-personal</td>\n",
       "      <td>personal</td>\n",
       "    </tr>\n",
       "    <tr>\n",
       "      <th>122</th>\n",
       "      <td>drug</td>\n",
       "      <td>non-personal</td>\n",
       "      <td>personal</td>\n",
       "    </tr>\n",
       "    <tr>\n",
       "      <th>153</th>\n",
       "      <td>location</td>\n",
       "      <td>non-personal</td>\n",
       "      <td>personal</td>\n",
       "    </tr>\n",
       "    <tr>\n",
       "      <th>154</th>\n",
       "      <td>locationcategory</td>\n",
       "      <td>non-personal</td>\n",
       "      <td>personal</td>\n",
       "    </tr>\n",
       "    <tr>\n",
       "      <th>156</th>\n",
       "      <td>last_careunit</td>\n",
       "      <td>non-personal</td>\n",
       "      <td>personal</td>\n",
       "    </tr>\n",
       "  </tbody>\n",
       "</table>\n",
       "</div>"
      ],
      "text/plain": [
       "                   Column    Prediction True Label\n",
       "1              subject_id  non-personal   personal\n",
       "2                 hadm_id  non-personal   personal\n",
       "3              icustay_id  non-personal   personal\n",
       "5               eventtype  non-personal   personal\n",
       "18            expire_flag  non-personal   personal\n",
       "41                   cgid  non-personal   personal\n",
       "48              icd9_code  non-personal   personal\n",
       "71          patientweight  non-personal   personal\n",
       "86             cpt_number  non-personal   personal\n",
       "88          ticket_id_seq  non-personal   personal\n",
       "107    admission_location  non-personal   personal\n",
       "108    discharge_location  non-personal   personal\n",
       "109             insurance  non-personal   personal\n",
       "112        marital_status  non-personal   personal\n",
       "116             diagnosis  non-personal   personal\n",
       "117  hospital_expire_flag  non-personal   personal\n",
       "122                  drug  non-personal   personal\n",
       "153              location  non-personal   personal\n",
       "154      locationcategory  non-personal   personal\n",
       "156         last_careunit  non-personal   personal"
      ]
     },
     "execution_count": 257,
     "metadata": {},
     "output_type": "execute_result"
    }
   ],
   "source": [
    "#False negatives -- personal --> non personal\n",
    "fnneg_mimic  = results_df_test_mimic.loc[(results_df_test_mimic[\"True Label\"] == \"personal\") & (results_df_test_mimic[\"Prediction\"] == \"non-personal\")]\n",
    "fnneg_mimic"
   ]
  },
  {
   "cell_type": "code",
   "execution_count": 258,
   "metadata": {},
   "outputs": [
    {
     "data": {
      "text/html": [
       "<div>\n",
       "<style scoped>\n",
       "    .dataframe tbody tr th:only-of-type {\n",
       "        vertical-align: middle;\n",
       "    }\n",
       "\n",
       "    .dataframe tbody tr th {\n",
       "        vertical-align: top;\n",
       "    }\n",
       "\n",
       "    .dataframe thead th {\n",
       "        text-align: right;\n",
       "    }\n",
       "</style>\n",
       "<table border=\"1\" class=\"dataframe\">\n",
       "  <thead>\n",
       "    <tr style=\"text-align: right;\">\n",
       "      <th></th>\n",
       "      <th>Column</th>\n",
       "      <th>Prediction</th>\n",
       "      <th>True Label</th>\n",
       "    </tr>\n",
       "  </thead>\n",
       "  <tbody>\n",
       "    <tr>\n",
       "      <th>33</th>\n",
       "      <td>value</td>\n",
       "      <td>personal</td>\n",
       "      <td>non-personal</td>\n",
       "    </tr>\n",
       "    <tr>\n",
       "      <th>40</th>\n",
       "      <td>storetime</td>\n",
       "      <td>personal</td>\n",
       "      <td>non-personal</td>\n",
       "    </tr>\n",
       "    <tr>\n",
       "      <th>80</th>\n",
       "      <td>comments_date</td>\n",
       "      <td>personal</td>\n",
       "      <td>non-personal</td>\n",
       "    </tr>\n",
       "    <tr>\n",
       "      <th>83</th>\n",
       "      <td>loinc_code</td>\n",
       "      <td>personal</td>\n",
       "      <td>non-personal</td>\n",
       "    </tr>\n",
       "    <tr>\n",
       "      <th>99</th>\n",
       "      <td>subsectionrange</td>\n",
       "      <td>personal</td>\n",
       "      <td>non-personal</td>\n",
       "    </tr>\n",
       "    <tr>\n",
       "      <th>101</th>\n",
       "      <td>mincodeinsubsection</td>\n",
       "      <td>personal</td>\n",
       "      <td>non-personal</td>\n",
       "    </tr>\n",
       "    <tr>\n",
       "      <th>110</th>\n",
       "      <td>language</td>\n",
       "      <td>personal</td>\n",
       "      <td>non-personal</td>\n",
       "    </tr>\n",
       "    <tr>\n",
       "      <th>119</th>\n",
       "      <td>startdate</td>\n",
       "      <td>personal</td>\n",
       "      <td>non-personal</td>\n",
       "    </tr>\n",
       "    <tr>\n",
       "      <th>120</th>\n",
       "      <td>enddate</td>\n",
       "      <td>personal</td>\n",
       "      <td>non-personal</td>\n",
       "    </tr>\n",
       "    <tr>\n",
       "      <th>149</th>\n",
       "      <td>acknowledgetime</td>\n",
       "      <td>personal</td>\n",
       "      <td>non-personal</td>\n",
       "    </tr>\n",
       "    <tr>\n",
       "      <th>150</th>\n",
       "      <td>outcometime</td>\n",
       "      <td>personal</td>\n",
       "      <td>non-personal</td>\n",
       "    </tr>\n",
       "    <tr>\n",
       "      <th>152</th>\n",
       "      <td>currentreservationtime</td>\n",
       "      <td>personal</td>\n",
       "      <td>non-personal</td>\n",
       "    </tr>\n",
       "    <tr>\n",
       "      <th>160</th>\n",
       "      <td>drg_code</td>\n",
       "      <td>personal</td>\n",
       "      <td>non-personal</td>\n",
       "    </tr>\n",
       "  </tbody>\n",
       "</table>\n",
       "</div>"
      ],
      "text/plain": [
       "                     Column Prediction    True Label\n",
       "33                    value   personal  non-personal\n",
       "40                storetime   personal  non-personal\n",
       "80            comments_date   personal  non-personal\n",
       "83               loinc_code   personal  non-personal\n",
       "99          subsectionrange   personal  non-personal\n",
       "101     mincodeinsubsection   personal  non-personal\n",
       "110                language   personal  non-personal\n",
       "119               startdate   personal  non-personal\n",
       "120                 enddate   personal  non-personal\n",
       "149         acknowledgetime   personal  non-personal\n",
       "150             outcometime   personal  non-personal\n",
       "152  currentreservationtime   personal  non-personal\n",
       "160                drg_code   personal  non-personal"
      ]
     },
     "execution_count": 258,
     "metadata": {},
     "output_type": "execute_result"
    }
   ],
   "source": [
    "# false positive -- non personal --> personal\n",
    "falsep_mimic= results_df_test_mimic.loc[(results_df_test_mimic[\"True Label\"] == \"non-personal\") & (results_df_test_mimic[\"Prediction\"] == \"personal\")]\n",
    "falsep_mimic"
   ]
  },
  {
   "cell_type": "code",
   "execution_count": 259,
   "metadata": {},
   "outputs": [
    {
     "data": {
      "image/png": "[encoded data removed]",
      "text/plain": [
       "<Figure size 640x480 with 2 Axes>"
      ]
     },
     "metadata": {},
     "output_type": "display_data"
    }
   ],
   "source": [
    "cmmimic = confusion_matrix(results_df_test_mimic[\"True Label\"],results_df_test_mimic[\"Prediction\"])\n",
    "dispmimic = ConfusionMatrixDisplay(confusion_matrix=cmmimic, display_labels=['non-personal', 'personal'])\n",
    "dispmimic.plot()\n",
    "plt.show()\n"
   ]
  },
  {
   "cell_type": "code",
   "execution_count": 260,
   "metadata": {},
   "outputs": [
    {
     "name": "stdout",
     "output_type": "stream",
     "text": [
      "f1_score micro:0.798\n",
      "f1_score macro:0.724\n",
      "Balanced Acc.: 0.713\n",
      "              precision    recall  f1-score   support\n",
      "\n",
      "non-personal       0.84      0.89      0.87       120\n",
      "    personal       0.64      0.53      0.58        43\n",
      "\n",
      "    accuracy                           0.80       163\n",
      "   macro avg       0.74      0.71      0.72       163\n",
      "weighted avg       0.79      0.80      0.79       163\n",
      "\n"
     ]
    }
   ],
   "source": [
    "f1_micro_mimic = f1_score(results_df_test_mimic[\"True Label\"],results_df_test_mimic[\"Prediction\"], average='micro')\n",
    "print(f'f1_score micro:{np.round(f1_micro_mimic,3)}')\n",
    "f1_macro_mimic = f1_score(results_df_test_mimic[\"True Label\"],results_df_test_mimic[\"Prediction\"], average='macro')\n",
    "print(f'f1_score macro:{np.round(f1_macro_mimic,3)}')\n",
    "bal_mimic = balanced_accuracy_score(results_df_test_mimic[\"True Label\"],results_df_test_mimic[\"Prediction\"])\n",
    "print(f'Balanced Acc.: {np.round(bal_mimic,3)}')\n",
    "print(classification_report(results_df_test_mimic[\"True Label\"],results_df_test_mimic[\"Prediction\"]))"
   ]
  },
  {
   "cell_type": "code",
   "execution_count": null,
   "metadata": {},
   "outputs": [],
   "source": []
  },
  {
   "cell_type": "code",
   "execution_count": 261,
   "metadata": {},
   "outputs": [
    {
     "data": {
      "image/png": "[encoded data removed]",
      "text/plain": [
       "<Figure size 1600x1600 with 4 Axes>"
      ]
     },
     "metadata": {},
     "output_type": "display_data"
    }
   ],
   "source": [
    "import seaborn as sns\n",
    "import matplotlib.pyplot as plt\n",
    "from sklearn.metrics import confusion_matrix\n",
    "import numpy as np\n",
    "\n",
    "def plot_confusion_matrix(ax, y_true, y_pred, title):\n",
    "    cm = confusion_matrix(y_true, y_pred)\n",
    "    sns.heatmap(cm, annot=True, fmt='d', cmap='Blues', ax=ax, cbar=False,\n",
    "                annot_kws={\"size\": 16, \"weight\": \"bold\"},\n",
    "                square=True, linewidths=0.5)\n",
    "    \n",
    "    # Manually add text for each cell\n",
    "    for i in range(cm.shape[0]):\n",
    "        for j in range(cm.shape[1]):\n",
    "            ax.text(j+0.5, i+0.5, str(cm[i, j]),\n",
    "                    ha=\"center\", va=\"center\",\n",
    "                    color=\"white\" if cm[i, j] > cm.max()/2 else \"black\",\n",
    "                    fontsize=16, fontweight='bold')\n",
    "    \n",
    "    ax.set_xlabel('Predicted Label', fontsize=14)\n",
    "    ax.set_ylabel('True Label', fontsize=14)\n",
    "    ax.set_title(title, fontsize=16, fontweight='bold')\n",
    "    ax.set_xticklabels(['N-Pers', 'Pers'], rotation=45, ha='right', fontsize=20)\n",
    "    ax.set_yticklabels(['N-Pers', 'Pers'], rotation=0, fontsize=20)\n",
    "\n",
    "# Create a 2x2 subplot\n",
    "fig, axes = plt.subplots(2, 2, figsize=(16, 16))\n",
    "axes = axes.flatten()\n",
    "\n",
    "# Plot each confusion matrix\n",
    "plot_confusion_matrix(axes[0], results_df_test_dess1[\"True Label\"],results_df_test_dess1[\"Prediction\"], \"CASSED DESSI\")\n",
    "plot_confusion_matrix(axes[1], results_df_test_kaggle1[\"True Label\"],results_df_test_kaggle1[\"Prediction\"], \"CASSED Kaggle\")\n",
    "plot_confusion_matrix(axes[2], results_df_test_openmlall[\"True Label\"],results_df_test_openmlall[\"Prediction\"], \"CASSED OpenML\")\n",
    "plot_confusion_matrix(axes[3], results_df_test_mimic[\"True Label\"],results_df_test_mimic[\"Prediction\"], \"CASSED MIMIC-ext\")\n",
    "\n",
    "# Adjust the layout\n",
    "plt.tight_layout()\n",
    "\n",
    "# Save the figure as a high-resolution image\n",
    "plt.savefig(\"confusion_matrices_cassed1.png\", dpi=300, bbox_inches='tight')\n",
    "\n",
    "# Display the plot\n",
    "plt.show()"
   ]
  },
  {
   "cell_type": "code",
   "execution_count": null,
   "metadata": {},
   "outputs": [],
   "source": []
  },
  {
   "cell_type": "code",
   "execution_count": 262,
   "metadata": {},
   "outputs": [],
   "source": [
    "# import os\n",
    "\n",
    "# absolute_path = \"/home/aagisha/Documents/PhD Albert/CodingPhDStart1/WorkshopArticle_1/Experiments/Personal-Detection/datasets/OpenMLall_data/OpenMLAll_data_labels.csv\"\n",
    "\n",
    "# # Get relative path from the current working directory\n",
    "# relative_path = os.path.relpath(absolute_path, os.getcwd())\n",
    "\n",
    "# print(relative_path)\n"
   ]
  },
  {
   "cell_type": "code",
   "execution_count": null,
   "metadata": {},
   "outputs": [],
   "source": []
  },
  {
   "cell_type": "code",
   "execution_count": null,
   "metadata": {},
   "outputs": [],
   "source": []
  },
  {
   "cell_type": "code",
   "execution_count": null,
   "metadata": {},
   "outputs": [],
   "source": []
  },
  {
   "cell_type": "code",
   "execution_count": 263,
   "metadata": {},
   "outputs": [],
   "source": [
    "# y_trueopenmlall = trueopenml\n",
    "# y_predopenmlall = predictionsopenml\n",
    "# y_true_binopenmlall = [1 if label == \"personal\" else 0 for label in y_trueopenmlall]\n",
    "# y_pred_binopenmlall = [1 if label == \"personal\" else 0 for label in y_predopenmlall]\n",
    "\n",
    "# cmopen = confusion_matrix(y_trueopenmlall, y_predopenmlall, labels=[\"personal\", \"non-personal\"])\n",
    "# cm_normopen = confusion_matrix(y_trueopenmlall, y_predopenmlall, labels=[\"personal\", \"non-personal\"], normalize=\"true\")\n",
    "\n",
    "# accuracy1 = accuracy_score(y_trueopenmlall, y_predopenmlall)\n",
    "# f11 = f1_score(y_trueopenmlall, y_predopenmlall, average=\"weighted\")\n",
    "# precision1 = precision_score(y_trueopenmlall, y_predopenmlall, average=\"weighted\", zero_division=0)\n",
    "# recall1 = recall_score(y_trueopenmlall, y_predopenmlall, average=\"weighted\", zero_division=0)\n",
    "\n",
    "# fig1 = make_subplots(\n",
    "#     rows=1, cols=2, \n",
    "#     subplot_titles=[\"Evaluation Metrics\", \"Confusion Matrix\"]\n",
    "# )\n",
    "\n",
    "# metrics1 = {\n",
    "#     \"weighted Precision\": precision1,\n",
    "#     \"weighted Recall\": recall1,\n",
    "#     \"weighted F1 Score\": f11,\n",
    "#     \"Accuracy\": accuracy1\n",
    "# }\n",
    "\n",
    "# fig1.add_trace(go.Bar(\n",
    "#     x=list(metrics1.keys()),\n",
    "#     y=list(metrics1.values()), \n",
    "#     showlegend=False\n",
    "# ), row=1, col=1)\n",
    "\n",
    "# text_values1 = [\n",
    "#     [f\"{cmopen[0,0]}<br>{cm_normopen[0,0]:.2f}\", f\"{cmopen[0,1]}<br>{cm_normopen[0,1]:.2f}\"],\n",
    "#     [f\"{cmopen[1,0]}<br>{cm_normopen[1,0]:.2f}\", f\"{cmopen[1,1]}<br>{cm_normopen[1,1]:.2f}\"]\n",
    "# ]\n",
    "# cm_heatmapopen = go.Heatmap(\n",
    "#     z=cmopen, \n",
    "#     x=[\"Pred: personal\", \"Pred: non-personal\"], \n",
    "#     y=[\"True: personal\", \"True: non-personal\"], \n",
    "#     colorscale=\"Blues\", \n",
    "#     showscale=False,\n",
    "#     text=text_values, \n",
    "#     texttemplate=\"%{text}\",\n",
    "#     textfont={\"size\":20},\n",
    "# )\n",
    "\n",
    "\n",
    "# fig1.add_trace(cm_heatmapopen, row=1, col=2)\n",
    "\n",
    "# fig1.update_layout(\n",
    "#     title=\"Confusion Matrix and Evaluation Metrics\",\n",
    "#     height=500, \n",
    "#     width=1000,\n",
    "#     showlegend=False\n",
    "# )\n",
    "# fig1.update_yaxes(range=[0, 1.1], row=1, col=1)\n",
    "\n",
    "# fig1.show()"
   ]
  },
  {
   "cell_type": "code",
   "execution_count": 264,
   "metadata": {},
   "outputs": [],
   "source": [
    "# y_trueopenmlall"
   ]
  },
  {
   "cell_type": "code",
   "execution_count": 265,
   "metadata": {},
   "outputs": [],
   "source": [
    "# predictionsopenml"
   ]
  },
  {
   "cell_type": "code",
   "execution_count": 267,
   "metadata": {},
   "outputs": [],
   "source": [
    "# import pandas as pd\n",
    "# import numpy as np\n",
    "\n",
    "# # Load data\n",
    "# true_labelsopenML = pd.read_csv(\"../CASSED_model_results/openmlall/true.csv\").values\n",
    "# predicted_labelsopenML = pd.read_csv(\"../CASSED_model_results/openmlall/predicted.csv\").values\n",
    "# target_mappingopenML = pd.read_csv(\"../CASSED_model_results/openmlall/target_names.csv\", header=None)\n",
    "\n",
    "# # Extract class names\n",
    "# target_classesopenML = target_mappingopenML.iloc[:, 0].values  # [\"non-personal\", \"personal\"]\n",
    "\n",
    "# # Convert one-hot encoding to class labels\n",
    "# y_true_labelsopenML = np.argmax(true_labelsopenML, axis=1)  # Get the index of 1 in each row\n",
    "# y_pred_labelsopenML = np.argmax(predicted_labelsopenML, axis=1)\n",
    "\n",
    "# # Map indices to class names\n",
    "# y_true_mappedopenML = [target_classesopenML[i] for i in y_true_labelsopenML]\n",
    "# y_pred_mappedopenML = [target_classesopenML[i] for i in y_pred_labelsopenML]\n",
    "\n",
    "# # Create DataFrame with mapped labels\n",
    "# df_resultsopenML = pd.DataFrame({\"True_Label\": y_true_mappedopenML, \"Predicted_Label\": y_pred_mappedopenML})\n",
    "\n",
    "# # Save results\n",
    "# # df_resultsopenML.to_csv(\"../CASSED_model_results/openmlall/personal_non_personal_results.csv\", index=False)\n",
    "\n",
    "# print(df_resultsopenML.head())\n"
   ]
  },
  {
   "cell_type": "code",
   "execution_count": null,
   "metadata": {},
   "outputs": [],
   "source": [
    "target_classesopenML"
   ]
  },
  {
   "cell_type": "code",
   "execution_count": null,
   "metadata": {},
   "outputs": [],
   "source": [
    "f1openallmi = f1_score(y_true_mappedopenML,y_pred_mappedopenML, average= 'micro')\n",
    "print(f\"f1_micro: {np.round(f1openallmi,3)}\")\n",
    "f1openallma = f1_score(y_true_mappedopenML,y_pred_mappedopenML, average= 'macro')\n",
    "print(f\"f1_macro: {np.round(f1openallma,3)}\")\n",
    "f1openallbal = balanced_accuracy_score(y_true_mappedopenML,y_pred_mappedopenML)\n",
    "print(f\"Bal. Acc.: {np.round(f1openallbal,3)}\")\n",
    "print(classification_report(y_true_mappedopenML,y_pred_mappedopenML))"
   ]
  },
  {
   "cell_type": "code",
   "execution_count": null,
   "metadata": {},
   "outputs": [],
   "source": [
    "true_labelsopenML[:120]"
   ]
  },
  {
   "cell_type": "code",
   "execution_count": null,
   "metadata": {},
   "outputs": [],
   "source": [
    "Check_openML = pd.DataFrame({'Features':test_openmlall.columns, 'True_Labels':y_true_mappedopenML, 'Predictions':y_pred_mappedopenML})"
   ]
  },
  {
   "cell_type": "markdown",
   "metadata": {},
   "source": [
    "## OPEN_ML ANALYSIS"
   ]
  },
  {
   "cell_type": "code",
   "execution_count": null,
   "metadata": {},
   "outputs": [],
   "source": [
    "Check_openML"
   ]
  },
  {
   "cell_type": "code",
   "execution_count": null,
   "metadata": {},
   "outputs": [],
   "source": [
    "test_openmlall_personal"
   ]
  },
  {
   "cell_type": "markdown",
   "metadata": {},
   "source": [
    "        False Negative"
   ]
  },
  {
   "cell_type": "code",
   "execution_count": null,
   "metadata": {},
   "outputs": [],
   "source": [
    "Check_openML.loc[(Check_openML[\"True_Labels\"]=='personal')]"
   ]
  },
  {
   "cell_type": "code",
   "execution_count": null,
   "metadata": {},
   "outputs": [],
   "source": [
    "check_true = pd.read_csv(\"/home/aagisha/Documents/PhD Albert/CodingPhDStart1/WorkshopArticle_1/Experiments/CASSED-main/test_results/true.csv\")\n",
    "check_pred = pd.read_csv(\"/home/aagisha/Documents/PhD Albert/CodingPhDStart1/WorkshopArticle_1/Experiments/CASSED-main/test_results/predicted.csv\")"
   ]
  },
  {
   "cell_type": "code",
   "execution_count": null,
   "metadata": {},
   "outputs": [],
   "source": [
    "confusion_matrix(check_true,test_openmlall_personal)"
   ]
  },
  {
   "cell_type": "code",
   "execution_count": null,
   "metadata": {},
   "outputs": [],
   "source": [
    "cmcheck = confusion_matrix(check_true,check_pred)"
   ]
  },
  {
   "cell_type": "code",
   "execution_count": null,
   "metadata": {},
   "outputs": [],
   "source": [
    "from sklearn.metrics import confusion_matrix, ConfusionMatrixDisplay\n",
    "import matplotlib.pyplot as plt\n",
    "\n",
    "disp = ConfusionMatrixDisplay(confusion_matrix=cmcheck, display_labels=['non-personal', 'personal'])\n",
    "disp.plot()\n",
    "plt.show()"
   ]
  },
  {
   "cell_type": "code",
   "execution_count": null,
   "metadata": {},
   "outputs": [],
   "source": []
  },
  {
   "cell_type": "markdown",
   "metadata": {},
   "source": [
    "# LAST ANALYSIS FOR THE PAPER"
   ]
  },
  {
   "cell_type": "markdown",
   "metadata": {},
   "source": [
    "## ORIGINAL DATA"
   ]
  },
  {
   "cell_type": "code",
   "execution_count": null,
   "metadata": {},
   "outputs": [],
   "source": [
    "import pandas as pd\n",
    "import plotly.graph_objects as go\n",
    "import re\n",
    "from sklearn.metrics import confusion_matrix, accuracy_score, f1_score, precision_score, roc_auc_score, recall_score, ConfusionMatrixDisplay, classification_report,balanced_accuracy_score\n",
    "from plotly.subplots import make_subplots\n",
    "import os"
   ]
  },
  {
   "cell_type": "code",
   "execution_count": null,
   "metadata": {},
   "outputs": [],
   "source": [
    "import os\n",
    "\n",
    "absolute_path = \"/home/aagisha/Documents/PhD Albert/CodingPhDStart1/WorkshopArticle_1/Experiments/Personal-Detection/CASSED/CASSED_model_results/cassed_personal/Openmlall/predicted.csv\"\n",
    "\n",
    "# Get relative path from the current working directory\n",
    "relative_path = os.path.relpath(absolute_path, os.getcwd())\n",
    "\n",
    "print(relative_path)\n"
   ]
  },
  {
   "cell_type": "code",
   "execution_count": null,
   "metadata": {},
   "outputs": [],
   "source": [
    "test_dessi1 = pd.read_csv(\"../../datasets/dessi_orig/test.csv\")\n",
    "test_dessi_personal1 = pd.read_csv(\"../../datasets/dessi_orig/test_labels.csv\")\n",
    "\n",
    "test_kaggle1 =pd.read_csv(\"../../datasets/kaggle_datasets/all_datasets.csv\")\n",
    "test_kaggle1_personal1 = pd.read_csv(\"../../datasets/kaggle_datasets/all_datasets_labels_personal.csv\")\n",
    "\n",
    "test_openmlall1 = pd.read_csv(\"../../datasets/OpenMLall_data/OpenMLAll_data.csv\")\n",
    "test_openmlall_personal1 = pd.read_csv(\"../../datasets/OpenMLall_data/OpenMLAll_data_labels.csv\")\n",
    "\n",
    "test_mimic1 = pd.read_csv(\"../../datasets/mimic/test.csv\")\n",
    "test_mimic_personal1 = pd.read_csv(\"../../datasets/mimic/test_labels.csv\")"
   ]
  },
  {
   "cell_type": "code",
   "execution_count": null,
   "metadata": {},
   "outputs": [],
   "source": [
    "\n",
    "\n",
    "true_kaggle1 =pd.read_csv(\"../CASSED_model_results/cassed_personal/kaggle/true.csv\")\n",
    "pred_kaggle1 = pd.read_csv(\"../CASSED_model_results/cassed_personal/kaggle/predicted.csv\")\n",
    "\n",
    "# test_openmlall1 = pd.read_csv(\"../../datasets/OpenMLall_data/OpenMLAll_data.csv\")\n",
    "# test_openmlall_personal1 = pd.read_csv(\"../../datasets/OpenMLall_data/OpenMLAll_data_labels.csv\")\n",
    "# true_openmlall1 = pd.read_csv(\"../../datasets/OpenMLall_data/OpenMLAll_data.csv\")\n",
    "# pred_openmlall1 = pd.read_csv(\"../../datasets/OpenMLall_data/OpenMLAll_data_labels.csv\")\n",
    "\n",
    "test_mimic1 = pd.read_csv(\"../../datasets/mimic/test.csv\")\n",
    "test_mimic_personal1 = pd.read_csv(\"../../datasets/mimic/test_labels.csv\")\n",
    "true_mimic1 = pd.read_csv(\"../CASSED_model_results/cassed_personal/Openmlall/predicted.csv\")\n",
    "pred_mimic1 = pd.read_csv(\"../CASSED_model_results/cassed_personal/Openmlall/predicted.csv\")"
   ]
  },
  {
   "cell_type": "markdown",
   "metadata": {},
   "source": [
    "### DESSI "
   ]
  },
  {
   "cell_type": "code",
   "execution_count": null,
   "metadata": {},
   "outputs": [],
   "source": [
    "confusion_matrix(true_dessi1,pred_dessi1, labels=['non-personal','personal'])"
   ]
  },
  {
   "cell_type": "code",
   "execution_count": null,
   "metadata": {},
   "outputs": [],
   "source": [
    "are_equal1 = test_dessi_personal1.iloc[:, 0].equals(true_dessi1.iloc[:, 0])\n",
    "print(are_equal1)  # This will print True\n"
   ]
  },
  {
   "cell_type": "code",
   "execution_count": null,
   "metadata": {},
   "outputs": [],
   "source": []
  },
  {
   "cell_type": "code",
   "execution_count": null,
   "metadata": {},
   "outputs": [],
   "source": []
  },
  {
   "cell_type": "code",
   "execution_count": null,
   "metadata": {},
   "outputs": [],
   "source": []
  },
  {
   "cell_type": "code",
   "execution_count": null,
   "metadata": {},
   "outputs": [],
   "source": []
  },
  {
   "cell_type": "code",
   "execution_count": null,
   "metadata": {},
   "outputs": [],
   "source": []
  },
  {
   "cell_type": "code",
   "execution_count": null,
   "metadata": {},
   "outputs": [],
   "source": []
  },
  {
   "cell_type": "code",
   "execution_count": null,
   "metadata": {},
   "outputs": [],
   "source": [
    "import pandas as pd\n",
    "import numpy as np\n",
    "import matplotlib.pyplot as plt\n",
    "import seaborn as sns\n",
    "from sklearn.metrics import confusion_matrix\n",
    "\n",
    "# Load datasets\n",
    "datasets = {\n",
    "    \"DESSI\": {\n",
    "        \"features\": pd.read_csv(\"../../datasets/dessi_orig/test.csv\"),\n",
    "        \"true\": pd.read_csv(\"../CASSED_model_results/cassed_personal/dessi_orig/true.csv\"),\n",
    "        \"pred\": pd.read_csv(\"../CASSED_model_results/cassed_personal/dessi_orig/predicted.csv\")\n",
    "    },\n",
    "    \"KAGGLE\": {\n",
    "        \"features\": pd.read_csv(\"../../datasets/kaggle_datasets/all_datasets.csv\"),\n",
    "        \"true\": pd.read_csv(\"../CASSED_model_results/cassed_personal/kaggle/true.csv\"),\n",
    "        \"pred\": pd.read_csv(\"../CASSED_model_results/cassed_personal/kaggle/predicted.csv\")\n",
    "    },\n",
    "    \"OPENML\": {\n",
    "        \"features\": pd.read_csv(\"../../datasets/OpenMLall_data/OpenMLAll_data.csv\"),\n",
    "        \"true\": pd.read_csv(\"../CASSED_model_results/cassed_personal/Openmlall/true.csv\"),\n",
    "        \"pred\": pd.read_csv(\"../CASSED_model_results/cassed_personal/Openmlall/predicted.csv\")\n",
    "    },\n",
    "    \"MIMIC-ext\": {\n",
    "        \"features\": pd.read_csv(\"../../datasets/mimic/test.csv\"),\n",
    "        \"true\": pd.read_csv(\"../CASSED_model_results/cassed_personal/mimic/true.csv\"),\n",
    "        \"pred\": pd.read_csv(\"../CASSED_model_results/cassed_personal/mimic/predicted.csv\")\n",
    "    }\n",
    "}\n",
    "\n",
    "# Store results\n",
    "results = {}\n",
    "\n",
    "for name, data in datasets.items():\n",
    "    df_results = pd.DataFrame({\n",
    "        \"Feature_Name\": data[\"features\"].columns,\n",
    "        \"True_Label\": data[\"true\"].values.flatten(),  # Already in 'personal' or 'non-personal' format\n",
    "        \"Predicted_Label\": data[\"pred\"].values.flatten()\n",
    "    })\n",
    "    \n",
    "    # Identify False Negatives (FN) and False Positives (FP)\n",
    "    false_negatives = df_results[(df_results[\"True_Label\"] == \"personal\") & (df_results[\"Predicted_Label\"] == \"non-personal\")]\n",
    "    false_positives = df_results[(df_results[\"True_Label\"] == \"non-personal\") & (df_results[\"Predicted_Label\"] == \"personal\")]\n",
    "    \n",
    "    results[name] = {\n",
    "        \"df\": df_results,\n",
    "        \"FN\": false_negatives,\n",
    "        \"FP\": false_positives\n",
    "    }\n",
    "\n",
    "    # Print FN & FP counts\n",
    "    print(f\"\\nDataset: {name}\")\n",
    "    print(f\"False Negatives (Personal → Non-Personal): {len(false_negatives)}\")\n",
    "    print(false_negatives.head())  # Show FN examples\n",
    "    print(f\"False Positives (Non-Personal → Personal): {len(false_positives)}\")\n",
    "    print(false_positives.head())  # Show FP examples\n",
    "\n",
    "# Plot confusion matrices\n",
    "fig, axes = plt.subplots(2, 2, figsize=(12, 10))\n",
    "axes = axes.ravel()\n",
    "\n",
    "for i, (name, result) in enumerate(results.items()):\n",
    "    cm = confusion_matrix(result[\"df\"][\"True_Label\"], result[\"df\"][\"Predicted_Label\"], labels=[\"non-personal\", \"personal\"])\n",
    "    sns.heatmap(cm, annot=True, fmt=\"d\", cmap=\"Blues\", xticklabels=[\"Non-Personal\", \"Personal\"], \n",
    "                yticklabels=[\"Non-Personal\", \"Personal\"], ax=axes[i])\n",
    "    axes[i].set_title(f\"{name} Confusion Matrix\")\n",
    "    axes[i].set_xlabel(\"Predicted Label\")\n",
    "    axes[i].set_ylabel(\"True Label\")\n",
    "\n",
    "plt.tight_layout()\n",
    "plt.show()\n"
   ]
  },
  {
   "cell_type": "code",
   "execution_count": null,
   "metadata": {},
   "outputs": [],
   "source": []
  },
  {
   "cell_type": "code",
   "execution_count": null,
   "metadata": {},
   "outputs": [],
   "source": []
  },
  {
   "cell_type": "code",
   "execution_count": null,
   "metadata": {},
   "outputs": [],
   "source": []
  },
  {
   "cell_type": "code",
   "execution_count": null,
   "metadata": {},
   "outputs": [],
   "source": []
  },
  {
   "cell_type": "code",
   "execution_count": null,
   "metadata": {},
   "outputs": [],
   "source": []
  },
  {
   "cell_type": "code",
   "execution_count": null,
   "metadata": {},
   "outputs": [],
   "source": []
  },
  {
   "cell_type": "code",
   "execution_count": null,
   "metadata": {},
   "outputs": [],
   "source": [
    "import pandas as pd\n",
    "import matplotlib.pyplot as plt\n",
    "import seaborn as sns\n",
    "from sklearn.metrics import confusion_matrix\n",
    "\n",
    "# Configure paths and datasets\n",
    "datasets = {\n",
    "    \"DESSI\": {\n",
    "        \"test\": \"../../datasets/dessi_orig/test.csv\",\n",
    "        \"true\": \"../CASSED_model_results/cassed_personal/dessi_orig/true.csv\",\n",
    "        \"pred\": \"../CASSED_model_results/cassed_personal/dessi_orig/predicted.csv\"\n",
    "    },\n",
    "    \"KAGGLE\": {\n",
    "        \"test\": \"../../datasets/kaggle_datasets/all_datasets.csv\", \n",
    "        \"true\": \"../CASSED_model_results/cassed_personal/kaggle/true.csv\",\n",
    "        \"pred\": \"../CASSED_model_results/cassed_personal/kaggle/predicted.csv\"\n",
    "    },\n",
    "    \"OPENML\": {\n",
    "        \"test\": \"../../datasets/OpenMLall_data/OpenMLAll_data.csv\",\n",
    "        \"true\": \"../CASSED_model_results/cassed_personal/Openmlall/true.csv\",\n",
    "        \"pred\": \"../CASSED_model_results/cassed_personal/Openmlall/predicted.csv\"\n",
    "    },\n",
    "    \"MIMIC-ext\": {\n",
    "        \"test\": \"../../datasets/mimic/test.csv\",\n",
    "        \"true\": \"../CASSED_model_results/cassed_personal/mimic/true.csv\",\n",
    "        \"pred\": \"../CASSED_model_results/cassed_personal/mimic/predicted.csv\"\n",
    "    }\n",
    "}\n",
    "\n",
    "# Initialize results storage\n",
    "results = {}\n",
    "\n",
    "for name, paths in datasets.items():\n",
    "    try:\n",
    "        # Load data\n",
    "        test_df = pd.read_csv(paths[\"test\"])\n",
    "        true_labels = pd.read_csv(paths[\"true\"]).values.flatten()\n",
    "        pred_labels = pd.read_csv(paths[\"pred\"]).values.flatten()\n",
    "        \n",
    "        # Create analysis dataframe\n",
    "        analysis_df = pd.DataFrame({\n",
    "            \"Feature\": test_df.columns,\n",
    "            \"True_Label\": true_labels,\n",
    "            \"Predicted_Label\": pred_labels\n",
    "        })\n",
    "        \n",
    "        # Calculate errors\n",
    "        false_negatives = analysis_df[\n",
    "            (analysis_df[\"True_Label\"] == \"personal\") & \n",
    "            (analysis_df[\"Predicted_Label\"] == \"non-personal\")\n",
    "        ]\n",
    "        \n",
    "        false_positives = analysis_df[\n",
    "            (analysis_df[\"True_Label\"] == \"non-personal\") & \n",
    "            (analysis_df[\"Predicted_Label\"] == \"personal\")\n",
    "        ]\n",
    "        \n",
    "        # Store results\n",
    "        results[name] = {\n",
    "            \"df\": analysis_df,\n",
    "            \"confusion_matrix\": confusion_matrix(true_labels, pred_labels, \n",
    "                                                labels=[\"non-personal\", \"personal\"]),\n",
    "            \"false_negatives\": false_negatives,\n",
    "            \"false_positives\": false_positives\n",
    "        }\n",
    "        \n",
    "        # Print report\n",
    "        print(f\"\\n{name} Dataset Analysis:\")\n",
    "        print(f\"Total Features: {len(analysis_df)}\")\n",
    "        print(f\"False Negatives: {len(false_negatives)}\")\n",
    "        print(false_negatives)\n",
    "        print(f\"False Positives: {len(false_positives)}\")\n",
    "        print(false_positives if not false_positives.empty else \"No false negatives\")\n",
    "        print(false_negatives.head(3) if not false_negatives.empty else \"No false negatives\")\n",
    "        print(false_positives.head(3) if not false_positives.empty else \"No false positives\")\n",
    "        \n",
    "    except FileNotFoundError as e:\n",
    "        print(f\"\\nError processing {name}: {str(e)}\")\n",
    "        continue\n",
    "\n",
    "# Plot confusion matrices\n",
    "fig, axes = plt.subplots(2, 2, figsize=(16, 12))\n",
    "axes = axes.ravel()\n",
    "\n",
    "for idx, (dataset_name, data) in enumerate(results.items()):\n",
    "    sns.heatmap(data[\"confusion_matrix\"], \n",
    "                annot=True, fmt=\"d\", \n",
    "                cmap=\"Blues\",\n",
    "                ax=axes[idx],\n",
    "                xticklabels=[\"Non-Personal\", \"Personal\"],\n",
    "                yticklabels=[\"Non-Personal\", \"Personal\"])\n",
    "    \n",
    "    axes[idx].set_title(f\"{dataset_name} Confusion Matrix\\n\", fontsize=14)\n",
    "    axes[idx].set_xlabel(\"Predicted Labels\", fontsize=12)\n",
    "    axes[idx].set_ylabel(\"True Labels\", fontsize=12)\n",
    "\n",
    "plt.tight_layout()\n",
    "plt.show()\n"
   ]
  },
  {
   "cell_type": "code",
   "execution_count": null,
   "metadata": {},
   "outputs": [],
   "source": []
  }
 ],
 "metadata": {
  "kernelspec": {
   "display_name": "base",
   "language": "python",
   "name": "python3"
  },
  "language_info": {
   "codemirror_mode": {
    "name": "ipython",
    "version": 3
   },
   "file_extension": ".py",
   "mimetype": "text/x-python",
   "name": "python",
   "nbconvert_exporter": "python",
   "pygments_lexer": "ipython3",
   "version": "3.11.7"
  }
 },
 "nbformat": 4,
 "nbformat_minor": 2
}
